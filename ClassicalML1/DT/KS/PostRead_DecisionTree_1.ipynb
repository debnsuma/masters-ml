{
  "cells": [
    {
      "cell_type": "markdown",
      "metadata": {
        "id": "M1Ik0cdLB2mp"
      },
      "source": [
        "## Content\n",
        "- Entropy for Continuous Random Variable\n",
        "\n",
        "- Comparing Entropy for Continuous R.V\n",
        "\n",
        "- Code walkthrough of splitting numerical features"
      ]
    },
    {
      "cell_type": "markdown",
      "metadata": {
        "id": "smJdKVjf0xOt"
      },
      "source": [
        "#### Formulation - Continuous R.V\n"
      ]
    },
    {
      "cell_type": "markdown",
      "metadata": {
        "id": "arR-KtLTiArS"
      },
      "source": [
        "In discrete random variable, we use summation over all values.\n",
        "\n",
        "When we have continous RV, this summation turns into integration.\n",
        "\n",
        "The forumlation becomes\n",
        "\n",
        "$H(Y) = -∫_∞^∞P(y)log(P(y))dy$\n",
        "\n",
        "where p(y) is probability density function\n",
        "\n"
      ]
    },
    {
      "cell_type": "markdown",
      "metadata": {
        "id": "r8JoxJ61hOFW"
      },
      "source": [
        "\n",
        "<img src='https://drive.google.com/uc?id=1L6Fn7ToAiY55yMPOjBU1FSuhD4HrEBEc'>\n",
        "\n"
      ]
    },
    {
      "cell_type": "markdown",
      "metadata": {
        "id": "oaU7fXFKFE34"
      },
      "source": [
        "### Comparing entropy for continuous R.V"
      ]
    },
    {
      "cell_type": "markdown",
      "metadata": {
        "id": "zBRJgRtD-1lU"
      },
      "source": [
        "\n",
        "```\n",
        "Say we have 3 continous random variables X, Y, Z\n",
        "and their distribution (PFF) is as follows:\n",
        "\n",
        "```\n",
        "\n",
        "\n",
        "<img src='https://drive.google.com/uc?id=1dh0CWPv6eAzELWlFHRIY6iODOAdGQdSz' width = 800>\n",
        "\n",
        "What will be the order of random variable in increasing order of entropy ?\n",
        "\n",
        " **Z < Y < X**\n",
        "\n",
        "Remember that entropy is the measure of randomness.\n",
        "\n",
        "- Here, Z has a peaked curve\n",
        "    - We are more likely to observe values in very small range (low variance)\n",
        "    - Means there is more certainity and less randomness\n",
        "    - Hence, Z will have lowest entropy\n",
        "\n",
        "- Random Variable Y has a large spread compared to Z\n",
        "    - we are more likely to observe value from a wider range\n",
        "    - meaning, there is more randomness in values\n",
        "    - Hence, it'll have high entropy compared to Z\n",
        "\n",
        "In similar fashion, X having the largest spread will have maximum entropy\n",
        "\n",
        "**More the variance, more the entropy**\n",
        "\n",
        "So, the order becomes Z < Y < X"
      ]
    },
    {
      "cell_type": "markdown",
      "metadata": {
        "id": "TiQYH9ONpvP3"
      },
      "source": [
        "### Code walkthrough of Splitting numerical features\n",
        "\n"
      ]
    },
    {
      "cell_type": "markdown",
      "metadata": {
        "id": "iZzBPOxju7G3"
      },
      "source": [
        "Importing libraries"
      ]
    },
    {
      "cell_type": "code",
      "execution_count": null,
      "metadata": {
        "id": "WLEr_32hutd0"
      },
      "outputs": [],
      "source": [
        "import numpy as np\n",
        "import pandas as pd\n",
        "import matplotlib.pyplot as plt\n",
        "import io"
      ]
    },
    {
      "cell_type": "markdown",
      "metadata": {
        "id": "Gy621ZV-lYPX"
      },
      "source": [
        "Preprocessed Data"
      ]
    },
    {
      "cell_type": "code",
      "execution_count": null,
      "metadata": {
        "colab": {
          "base_uri": "https://localhost:8080/"
        },
        "id": "LquFHX1klR2g",
        "outputId": "3e8c05fb-f2b8-4ae4-ba34-b99c2dc6bcd9"
      },
      "outputs": [
        {
          "output_type": "stream",
          "name": "stdout",
          "text": [
            "Downloading...\n",
            "From: https://drive.google.com/uc?id=12G_J8gBel8MpspdXJruZuuMvyrm9upNb\n",
            "To: /content/X_test.csv\n",
            "100% 51.7k/51.7k [00:00<00:00, 88.5MB/s]\n",
            "Downloading...\n",
            "From: https://drive.google.com/uc?id=1-zjfYbZm8JC4wog9tG4zltMPuZM6p9_A\n",
            "To: /content/X_train.csv\n",
            "100% 154k/154k [00:00<00:00, 115MB/s]\n",
            "Downloading...\n",
            "From: https://drive.google.com/uc?id=1p03Ltdto8XoOdu14YlcQjzE-360SyI89\n",
            "To: /content/y_test.csv\n",
            "100% 743/743 [00:00<00:00, 1.99MB/s]\n",
            "Downloading...\n",
            "From: https://drive.google.com/uc?id=1mNcWfaEW19ql8WCih6HiqRryCcjFUUqx\n",
            "To: /content/y_train.csv\n",
            "100% 2.21k/2.21k [00:00<00:00, 4.85MB/s]\n",
            "Downloading...\n",
            "From: https://drive.google.com/uc?id=1ZoA7Vu1V48nPafCNJ5qhG8yVvyFfC6OA\n",
            "To: /content/target.csv\n",
            "100% 2.95k/2.95k [00:00<00:00, 8.18MB/s]\n"
          ]
        }
      ],
      "source": [
        "!gdown 12G_J8gBel8MpspdXJruZuuMvyrm9upNb\n",
        "!gdown 1-zjfYbZm8JC4wog9tG4zltMPuZM6p9_A\n",
        "\n",
        "\n",
        "!gdown 1p03Ltdto8XoOdu14YlcQjzE-360SyI89\n",
        "!gdown 1mNcWfaEW19ql8WCih6HiqRryCcjFUUqx\n",
        "\n",
        "!gdown 1ZoA7Vu1V48nPafCNJ5qhG8yVvyFfC6OA\n"
      ]
    },
    {
      "cell_type": "code",
      "execution_count": null,
      "metadata": {
        "id": "GzL8l4XgnHFb"
      },
      "outputs": [],
      "source": [
        "X_train = pd.read_csv('X_train.csv')\n",
        "X_test = pd.read_csv('X_test.csv')\n",
        "y_train = pd.read_csv('y_train.csv')\n",
        "y_test = pd.read_csv('y_test.csv')\n",
        "\n",
        "target  = pd.read_csv('target.csv')\n",
        "target = target.iloc[:,0]"
      ]
    },
    {
      "cell_type": "code",
      "execution_count": null,
      "metadata": {
        "colab": {
          "base_uri": "https://localhost:8080/"
        },
        "id": "ofi_wcARy5qy",
        "outputId": "559a3e95-a62f-4b50-8edc-03fafc324a43"
      },
      "outputs": [
        {
          "output_type": "stream",
          "name": "stdout",
          "text": [
            "Resampled dataset shape Counter({'Target': 1})\n"
          ]
        }
      ],
      "source": [
        "from imblearn.over_sampling import SMOTE\n",
        "from collections import Counter\n",
        "\n",
        "smt = SMOTE()\n",
        "X_sm, y_sm = smt.fit_resample(X_train, y_train)\n",
        "\n",
        "print('Resampled dataset shape {}'.format(Counter(y_sm)))"
      ]
    },
    {
      "cell_type": "markdown",
      "metadata": {
        "id": "npawhnfiTJ76"
      },
      "source": [
        "Let's split the Age feature and find which threshold is best to split age along with its information gain"
      ]
    },
    {
      "cell_type": "code",
      "execution_count": null,
      "metadata": {
        "id": "Yxtg2C6_Labn"
      },
      "outputs": [],
      "source": [
        "age = X_sm.Age"
      ]
    },
    {
      "cell_type": "markdown",
      "metadata": {
        "id": "rg0rCxzoTUcx"
      },
      "source": [
        "#### Sorting the age"
      ]
    },
    {
      "cell_type": "code",
      "execution_count": null,
      "metadata": {
        "colab": {
          "base_uri": "https://localhost:8080/"
        },
        "id": "moMdEdA2TXZa",
        "outputId": "d7d81f1d-5563-428b-ab13-0bf55c59279e"
      },
      "outputs": [
        {
          "output_type": "execute_result",
          "data": {
            "text/plain": [
              "array([18, 19, 20, 21, 22, 23, 24, 25, 26, 27, 28, 29, 30, 31, 32, 33, 34,\n",
              "       35, 36, 37, 38, 39, 40, 41, 42, 43, 44, 45, 46, 47, 48, 49, 50, 51,\n",
              "       52, 53, 54, 55, 56, 57, 58, 59, 60])"
            ]
          },
          "metadata": {},
          "execution_count": 34
        }
      ],
      "source": [
        "thresholds = age.sort_values().unique()\n",
        "thresholds"
      ]
    },
    {
      "cell_type": "code",
      "execution_count": null,
      "metadata": {
        "colab": {
          "base_uri": "https://localhost:8080/"
        },
        "id": "M4G892znTpAL",
        "outputId": "6ca448f8-d28e-4439-c26b-2b177e4ccfd2"
      },
      "outputs": [
        {
          "output_type": "execute_result",
          "data": {
            "text/plain": [
              "(43,)"
            ]
          },
          "metadata": {},
          "execution_count": 35
        }
      ],
      "source": [
        "thresholds.shape"
      ]
    },
    {
      "cell_type": "markdown",
      "metadata": {
        "id": "W3M8i23WTcgF"
      },
      "source": [
        "#### Calculating information gain for each threshold"
      ]
    },
    {
      "cell_type": "code",
      "execution_count": null,
      "metadata": {
        "id": "2bY7FKhJqhoY"
      },
      "outputs": [],
      "source": [
        "def gini_impurity(y):\n",
        "\n",
        "  if isinstance(y, pd.Series):\n",
        "    p = y.value_counts()/y.shape[0]\n",
        "    gini = 1-np.sum(p**2)\n",
        "    return gini\n",
        "\n",
        "  else:\n",
        "    raise('Object must be a Pandas Series.')"
      ]
    },
    {
      "cell_type": "code",
      "execution_count": null,
      "metadata": {
        "id": "5NHzdHVHTawZ"
      },
      "outputs": [],
      "source": [
        "def information_gain(y, mask):\n",
        "    left_node_count = sum(mask)\n",
        "    total = mask.shape[0]\n",
        "    right_node_count = total - left_node_count\n",
        "\n",
        "\n",
        "    parent_gini = gini_impurity(y)\n",
        "\n",
        "    child_gini = left_node_count/total*gini_impurity(y[mask]) + right_node_count/total*gini_impurity(y[~mask])\n",
        "\n",
        "    ig = parent_gini - child_gini\n",
        "    return ig"
      ]
    },
    {
      "cell_type": "code",
      "execution_count": null,
      "metadata": {
        "id": "AZJp_Og0TcH0"
      },
      "outputs": [],
      "source": [
        "ig_list = []\n",
        "\n",
        "for thr in thresholds:\n",
        "    mask =   age <= thr\n",
        "    ig = information_gain(target, mask)\n",
        "    ig_list.append(ig)\n"
      ]
    },
    {
      "cell_type": "code",
      "execution_count": null,
      "metadata": {
        "id": "fdFECiGGTmxP",
        "colab": {
          "base_uri": "https://localhost:8080/"
        },
        "outputId": "b53e42ca-31ee-4b97-caf1-56a00bec9550"
      },
      "outputs": [
        {
          "output_type": "execute_result",
          "data": {
            "text/plain": [
              "(43,)"
            ]
          },
          "metadata": {},
          "execution_count": 40
        }
      ],
      "source": [
        "ig_list = np.array(ig_list)\n",
        "\n",
        "ig_list.shape"
      ]
    },
    {
      "cell_type": "markdown",
      "metadata": {
        "id": "rgeuGHIoT1Rh"
      },
      "source": [
        "#### Finding threshold with maximum IG"
      ]
    },
    {
      "cell_type": "code",
      "execution_count": null,
      "metadata": {
        "id": "qho46R_WTxeo",
        "colab": {
          "base_uri": "https://localhost:8080/"
        },
        "outputId": "5dbb2cf7-c1d8-437b-86cb-cd3b39b6988c"
      },
      "outputs": [
        {
          "output_type": "stream",
          "name": "stdout",
          "text": [
            "Best threshold for Age with maximum IG is 46 with IG: 0.0029346385275854647\n"
          ]
        }
      ],
      "source": [
        "print(f'Best threshold for Age with maximum IG is {thresholds[ig_list.argmax()]} with IG: {ig_list.max()}')"
      ]
    }
  ],
  "metadata": {
    "colab": {
      "provenance": [],
      "toc_visible": true
    },
    "kernelspec": {
      "display_name": "Python 3",
      "name": "python3"
    },
    "language_info": {
      "name": "python"
    }
  },
  "nbformat": 4,
  "nbformat_minor": 0
}