{
 "cells": [
  {
   "cell_type": "code",
   "execution_count": 1,
   "id": "66e01fb5",
   "metadata": {},
   "outputs": [],
   "source": [
    "import pandas as pd\n",
    "import numpy as np\n",
    "from scipy import stats\n",
    "\n"
   ]
  },
  {
   "cell_type": "code",
   "execution_count": 3,
   "id": "ad918512",
   "metadata": {},
   "outputs": [],
   "source": [
    "str1 = \" hellp\"\n",
    "str2 = \"world\"\n",
    "\n",
    "output = str1 + '$' + str2"
   ]
  },
  {
   "cell_type": "code",
   "execution_count": 4,
   "id": "addf99dd",
   "metadata": {},
   "outputs": [
    {
     "data": {
      "text/plain": [
       "'hellp$world'"
      ]
     },
     "execution_count": 4,
     "metadata": {},
     "output_type": "execute_result"
    }
   ],
   "source": [
    "output"
   ]
  },
  {
   "cell_type": "code",
   "execution_count": 6,
   "id": "72361d37",
   "metadata": {},
   "outputs": [
    {
     "data": {
      "text/plain": [
       "'hellp'"
      ]
     },
     "execution_count": 6,
     "metadata": {},
     "output_type": "execute_result"
    }
   ],
   "source": [
    "str1.strip()"
   ]
  },
  {
   "cell_type": "code",
   "execution_count": 7,
   "id": "be4eb4d2",
   "metadata": {},
   "outputs": [
    {
     "data": {
      "text/plain": [
       "81.0"
      ]
     },
     "execution_count": 7,
     "metadata": {},
     "output_type": "execute_result"
    }
   ],
   "source": [
    "3 **2 ** 0.25 ** -0.5"
   ]
  },
  {
   "cell_type": "code",
   "execution_count": 8,
   "id": "ec688fa9",
   "metadata": {},
   "outputs": [],
   "source": [
    "def friend(age):\n",
    "    if ((age ** 2) + (age+10)) >  200:\n",
    "        return True\n",
    "    else:\n",
    "        return False"
   ]
  },
  {
   "cell_type": "code",
   "execution_count": 9,
   "id": "ec6e4c69",
   "metadata": {},
   "outputs": [
    {
     "data": {
      "text/plain": [
       "False"
      ]
     },
     "execution_count": 9,
     "metadata": {},
     "output_type": "execute_result"
    }
   ],
   "source": [
    "friend(10)"
   ]
  },
  {
   "cell_type": "code",
   "execution_count": 26,
   "id": "4f6dc8cc",
   "metadata": {},
   "outputs": [
    {
     "name": "stdout",
     "output_type": "stream",
     "text": [
      "10\n",
      "False\n"
     ]
    }
   ],
   "source": [
    "age = input()\n",
    "def friend(age):\n",
    "    age = int(age)\n",
    "    if ((age ** 2) + (age*10)) > 200:\n",
    "        return True\n",
    "    else:\n",
    "        return False\n",
    "        \n",
    "print(friend(age))\n",
    "        \n"
   ]
  },
  {
   "cell_type": "code",
   "execution_count": 23,
   "id": "dea5e490",
   "metadata": {},
   "outputs": [
    {
     "data": {
      "text/plain": [
       "9"
      ]
     },
     "execution_count": 23,
     "metadata": {},
     "output_type": "execute_result"
    }
   ],
   "source": [
    "3 ** 2 "
   ]
  },
  {
   "cell_type": "code",
   "execution_count": 24,
   "id": "1e6da391",
   "metadata": {},
   "outputs": [
    {
     "data": {
      "text/plain": [
       "59049"
      ]
     },
     "execution_count": 24,
     "metadata": {},
     "output_type": "execute_result"
    }
   ],
   "source": [
    "3 ** 10"
   ]
  },
  {
   "cell_type": "code",
   "execution_count": null,
   "id": "ff5314ba",
   "metadata": {},
   "outputs": [],
   "source": [
    "10 * 10 * 10 "
   ]
  }
 ],
 "metadata": {
  "kernelspec": {
   "display_name": "Python 3 (ipykernel)",
   "language": "python",
   "name": "python3"
  },
  "language_info": {
   "codemirror_mode": {
    "name": "ipython",
    "version": 3
   },
   "file_extension": ".py",
   "mimetype": "text/x-python",
   "name": "python",
   "nbconvert_exporter": "python",
   "pygments_lexer": "ipython3",
   "version": "3.10.9"
  }
 },
 "nbformat": 4,
 "nbformat_minor": 5
}
