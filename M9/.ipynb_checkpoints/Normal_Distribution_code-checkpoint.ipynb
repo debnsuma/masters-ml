{
 "cells": [
  {
   "cell_type": "code",
   "execution_count": 1,
   "id": "3d0a5fc2",
   "metadata": {},
   "outputs": [],
   "source": [
    "# !pip install scipy\n",
    "from scipy.stats import norm\n",
    "import numpy as np\n",
    "import math"
   ]
  },
  {
   "cell_type": "markdown",
   "id": "98497bcb",
   "metadata": {},
   "source": [
    "# Height example"
   ]
  },
  {
   "cell_type": "markdown",
   "id": "98129a49",
   "metadata": {},
   "source": [
    "The height of people is Gaussian with mean 65 inches and standard deviation 2.5 inches"
   ]
  },
  {
   "cell_type": "code",
   "execution_count": 2,
   "id": "d13b7924",
   "metadata": {},
   "outputs": [
    {
     "data": {
      "text/plain": [
       "1.6399999999999977"
      ]
     },
     "execution_count": 2,
     "metadata": {},
     "output_type": "execute_result"
    }
   ],
   "source": [
    "# Fraction of people shorter than 69.1\n",
    "z = (69.1 - 65)/2.5\n",
    "z"
   ]
  },
  {
   "cell_type": "code",
   "execution_count": 3,
   "id": "e0ac2935",
   "metadata": {},
   "outputs": [
    {
     "data": {
      "text/plain": [
       "0.949497416525896"
      ]
     },
     "execution_count": 3,
     "metadata": {},
     "output_type": "execute_result"
    }
   ],
   "source": [
    "norm.cdf(z)"
   ]
  },
  {
   "cell_type": "markdown",
   "id": "9e8c9206",
   "metadata": {},
   "source": [
    "# Empirical Rule (68/95/99)"
   ]
  },
  {
   "cell_type": "code",
   "execution_count": 4,
   "id": "94a67a5c",
   "metadata": {},
   "outputs": [
    {
     "data": {
      "text/plain": [
       "0.6826894921370859"
      ]
     },
     "execution_count": 4,
     "metadata": {},
     "output_type": "execute_result"
    }
   ],
   "source": [
    "norm.cdf(1) - norm.cdf(-1)"
   ]
  },
  {
   "cell_type": "code",
   "execution_count": 5,
   "id": "27d366a1",
   "metadata": {},
   "outputs": [
    {
     "data": {
      "text/plain": [
       "0.9544997361036416"
      ]
     },
     "execution_count": 5,
     "metadata": {},
     "output_type": "execute_result"
    }
   ],
   "source": [
    "norm.cdf(2) - norm.cdf(-2)"
   ]
  },
  {
   "cell_type": "code",
   "execution_count": 6,
   "id": "3ca2088d",
   "metadata": {},
   "outputs": [
    {
     "data": {
      "text/plain": [
       "0.9973002039367398"
      ]
     },
     "execution_count": 6,
     "metadata": {},
     "output_type": "execute_result"
    }
   ],
   "source": [
    "norm.cdf(3) - norm.cdf(-3)"
   ]
  },
  {
   "cell_type": "markdown",
   "id": "0ce68b55",
   "metadata": {},
   "source": [
    "# Percentile"
   ]
  },
  {
   "cell_type": "markdown",
   "id": "615c71da",
   "metadata": {},
   "source": [
    "What is the height such that 96% people are shorter?"
   ]
  },
  {
   "cell_type": "code",
   "execution_count": 7,
   "id": "7d96b39e",
   "metadata": {},
   "outputs": [
    {
     "data": {
      "text/plain": [
       "1.7506860712521692"
      ]
     },
     "execution_count": 7,
     "metadata": {},
     "output_type": "execute_result"
    }
   ],
   "source": [
    "z = norm.ppf(0.96) # Computes percent point function\n",
    "z"
   ]
  },
  {
   "cell_type": "code",
   "execution_count": 32,
   "id": "1bd058a9",
   "metadata": {},
   "outputs": [
    {
     "data": {
      "text/plain": [
       "69.37671517813042"
      ]
     },
     "execution_count": 32,
     "metadata": {},
     "output_type": "execute_result"
    }
   ],
   "source": [
    "65 + z * 2.5"
   ]
  },
  {
   "cell_type": "code",
   "execution_count": 33,
   "id": "554e941b",
   "metadata": {},
   "outputs": [
    {
     "data": {
      "text/plain": [
       "0.96"
      ]
     },
     "execution_count": 33,
     "metadata": {},
     "output_type": "execute_result"
    }
   ],
   "source": [
    "norm.cdf(z)"
   ]
  },
  {
   "cell_type": "markdown",
   "id": "a5d9a428",
   "metadata": {},
   "source": [
    "# Skater"
   ]
  },
  {
   "cell_type": "markdown",
   "id": "8deb54eb",
   "metadata": {},
   "source": [
    "Skaters take a mean of 7.42 seconds and std dev of 0.34 seconds for 500 meters.\n",
    "What should his speed be such that he is faster than 95% of his competitors?"
   ]
  },
  {
   "cell_type": "code",
   "execution_count": 35,
   "id": "fe28cb91",
   "metadata": {},
   "outputs": [
    {
     "data": {
      "text/plain": [
       "-1.6448536269514729"
      ]
     },
     "execution_count": 35,
     "metadata": {},
     "output_type": "execute_result"
    }
   ],
   "source": [
    "z = norm.ppf(0.05)\n",
    "z"
   ]
  },
  {
   "cell_type": "code",
   "execution_count": 36,
   "id": "e1f878c8",
   "metadata": {},
   "outputs": [
    {
     "data": {
      "text/plain": [
       "6.860749766836499"
      ]
     },
     "execution_count": 36,
     "metadata": {},
     "output_type": "execute_result"
    }
   ],
   "source": [
    "# Time taken in seconds\n",
    "x = 7.42 + z * 0.34\n",
    "x"
   ]
  },
  {
   "cell_type": "code",
   "execution_count": 37,
   "id": "2f0183f0",
   "metadata": {},
   "outputs": [
    {
     "data": {
      "text/plain": [
       "72.87833210546471"
      ]
     },
     "execution_count": 37,
     "metadata": {},
     "output_type": "execute_result"
    }
   ],
   "source": [
    "speed = 500/x\n",
    "speed"
   ]
  },
  {
   "cell_type": "code",
   "execution_count": 10,
   "id": "ee7ee499",
   "metadata": {},
   "outputs": [
    {
     "data": {
      "text/plain": [
       "2.0000000000000004"
      ]
     },
     "execution_count": 10,
     "metadata": {},
     "output_type": "execute_result"
    }
   ],
   "source": [
    "norm.ppf(0.9772498680518208\n",
    ")"
   ]
  },
  {
   "cell_type": "code",
   "execution_count": 21,
   "id": "4f0dc853",
   "metadata": {},
   "outputs": [],
   "source": [
    "import math"
   ]
  },
  {
   "cell_type": "code",
   "execution_count": 23,
   "id": "39ab3fb2",
   "metadata": {},
   "outputs": [
    {
     "data": {
      "text/plain": [
       "0.00026600275256960515"
      ]
     },
     "execution_count": 23,
     "metadata": {},
     "output_type": "execute_result"
    }
   ],
   "source": [
    "1-norm.cdf((60-50)/(5/math.sqrt(3)))"
   ]
  },
  {
   "cell_type": "code",
   "execution_count": 20,
   "id": "a95923cc",
   "metadata": {},
   "outputs": [
    {
     "data": {
      "text/plain": [
       "0.0"
      ]
     },
     "execution_count": 20,
     "metadata": {},
     "output_type": "execute_result"
    }
   ],
   "source": [
    "1-round(norm.cdf((60-50)/2.23606797749979), 4)"
   ]
  },
  {
   "cell_type": "code",
   "execution_count": 28,
   "id": "7d3cd5e1",
   "metadata": {},
   "outputs": [],
   "source": [
    "sample_mean = 10.5\n",
    "n = 100\n",
    "s = 2\n",
    "sigma = s"
   ]
  },
  {
   "cell_type": "code",
   "execution_count": 41,
   "id": "ada5a62e",
   "metadata": {},
   "outputs": [
    {
     "data": {
      "text/plain": [
       "0.2"
      ]
     },
     "execution_count": 41,
     "metadata": {},
     "output_type": "execute_result"
    }
   ],
   "source": [
    "error = 2/math.sqrt(100)\n",
    "error"
   ]
  },
  {
   "cell_type": "code",
   "execution_count": 42,
   "id": "7509b81b",
   "metadata": {},
   "outputs": [
    {
     "data": {
      "text/plain": [
       "-1.9599639845400545"
      ]
     },
     "execution_count": 42,
     "metadata": {},
     "output_type": "execute_result"
    }
   ],
   "source": [
    "z1 = norm.ppf(0.025)\n",
    "z1"
   ]
  },
  {
   "cell_type": "code",
   "execution_count": 43,
   "id": "f35f6b35",
   "metadata": {},
   "outputs": [
    {
     "data": {
      "text/plain": [
       "10.108007203091988"
      ]
     },
     "execution_count": 43,
     "metadata": {},
     "output_type": "execute_result"
    }
   ],
   "source": [
    "x1 = (z1 * error) + 10.5\n",
    "x1"
   ]
  },
  {
   "cell_type": "code",
   "execution_count": 47,
   "id": "e77ef2d7",
   "metadata": {},
   "outputs": [
    {
     "data": {
      "text/plain": [
       "10.89199279690801"
      ]
     },
     "execution_count": 47,
     "metadata": {},
     "output_type": "execute_result"
    }
   ],
   "source": [
    "z2 = norm.ppf(1-.025)\n",
    "x2 = (z2 * error) + sample_mean\n",
    "x2"
   ]
  },
  {
   "cell_type": "markdown",
   "id": "647f814f",
   "metadata": {},
   "source": [
    "The life of LED light bulbs manufactured in a factory is normally distributed with a mean equal to 900 hours and a standard deviation of 50 hours.\n",
    "\n",
    "Find the probability that a random sample of 20 bulbs will have an average life of less than 875 hours."
   ]
  },
  {
   "cell_type": "code",
   "execution_count": 53,
   "id": "ddac329f",
   "metadata": {},
   "outputs": [],
   "source": [
    "mu = 900\n",
    "sigma = 50\n",
    "n = 20 \n",
    "\n",
    "s = sigma / np.sqrt(n)"
   ]
  },
  {
   "cell_type": "code",
   "execution_count": 54,
   "id": "6e26c0c7",
   "metadata": {},
   "outputs": [
    {
     "data": {
      "text/plain": [
       "11.180339887498947"
      ]
     },
     "execution_count": 54,
     "metadata": {},
     "output_type": "execute_result"
    }
   ],
   "source": [
    "s"
   ]
  },
  {
   "cell_type": "code",
   "execution_count": 55,
   "id": "a655580c",
   "metadata": {},
   "outputs": [
    {
     "data": {
      "text/plain": [
       "-2.23606797749979"
      ]
     },
     "execution_count": 55,
     "metadata": {},
     "output_type": "execute_result"
    }
   ],
   "source": [
    "z_score = (875-900)/s\n",
    "z_score"
   ]
  },
  {
   "cell_type": "code",
   "execution_count": 56,
   "id": "f55e9066",
   "metadata": {},
   "outputs": [
    {
     "data": {
      "text/plain": [
       "0.012673659338734126"
      ]
     },
     "execution_count": 56,
     "metadata": {},
     "output_type": "execute_result"
    }
   ],
   "source": [
    "norm.cdf(z_score)"
   ]
  },
  {
   "cell_type": "code",
   "execution_count": 57,
   "id": "0846ed3b",
   "metadata": {},
   "outputs": [
    {
     "data": {
      "text/plain": [
       "0.012673659338734126"
      ]
     },
     "execution_count": 57,
     "metadata": {},
     "output_type": "execute_result"
    }
   ],
   "source": [
    "z = (875-900)/(50/math.sqrt(20))\n",
    "norm.cdf(z)"
   ]
  },
  {
   "cell_type": "markdown",
   "id": "0c200ba8",
   "metadata": {},
   "source": [
    "The tip percentage for a delivery person has a mean value of 28% and a standard deviation of 7%.\n",
    "\n",
    "What is the probability that the sample mean tip percentage for a random sample of 50 bills is between 26% and 31%?"
   ]
  },
  {
   "cell_type": "code",
   "execution_count": 59,
   "id": "c3a46ace",
   "metadata": {},
   "outputs": [],
   "source": [
    "mean = 28 \n",
    "sd = 7\n",
    "n = 50"
   ]
  },
  {
   "cell_type": "code",
   "execution_count": 61,
   "id": "c38f05d4",
   "metadata": {},
   "outputs": [],
   "source": [
    "z1 = norm.ppf(.31)\n",
    "z2 = norm.ppf(.28)"
   ]
  },
  {
   "cell_type": "code",
   "execution_count": 62,
   "id": "0fa6e9cb",
   "metadata": {},
   "outputs": [
    {
     "data": {
      "text/plain": [
       "(-0.4958503473474533, -0.5828415072712162)"
      ]
     },
     "execution_count": 62,
     "metadata": {},
     "output_type": "execute_result"
    }
   ],
   "source": [
    "z1, z2"
   ]
  },
  {
   "cell_type": "code",
   "execution_count": 66,
   "id": "5a2124c0",
   "metadata": {},
   "outputs": [
    {
     "data": {
      "text/plain": [
       "(27.509133199711677, 27.42301634499215)"
      ]
     },
     "execution_count": 66,
     "metadata": {},
     "output_type": "execute_result"
    }
   ],
   "source": [
    "x1 = (z1 * (sd/np.sqrt(n))) + mean\n",
    "x2 = (z2 * (sd/np.sqrt(n))) + mean\n",
    "x1, x2"
   ]
  },
  {
   "cell_type": "code",
   "execution_count": 72,
   "id": "394feafc",
   "metadata": {},
   "outputs": [],
   "source": [
    "z1 = (31 - 28)/(7 / np.sqrt(50))\n",
    "z2 = (26 - 28)/(7 / np.sqrt(50))"
   ]
  },
  {
   "cell_type": "code",
   "execution_count": 73,
   "id": "a7ab6829",
   "metadata": {},
   "outputs": [
    {
     "data": {
      "text/plain": [
       "(3.0304576336566322, -2.0203050891044216)"
      ]
     },
     "execution_count": 73,
     "metadata": {},
     "output_type": "execute_result"
    }
   ],
   "source": [
    "z1, z2"
   ]
  },
  {
   "cell_type": "code",
   "execution_count": 74,
   "id": "d7cb85d8",
   "metadata": {},
   "outputs": [
    {
     "data": {
      "text/plain": [
       "0.9987790827898616"
      ]
     },
     "execution_count": 74,
     "metadata": {},
     "output_type": "execute_result"
    }
   ],
   "source": [
    "norm.cdf(z1)"
   ]
  },
  {
   "cell_type": "code",
   "execution_count": 75,
   "id": "2b4a60b4",
   "metadata": {},
   "outputs": [
    {
     "data": {
      "text/plain": [
       "0.021675875630431305"
      ]
     },
     "execution_count": 75,
     "metadata": {},
     "output_type": "execute_result"
    }
   ],
   "source": [
    "norm.cdf(z2)"
   ]
  },
  {
   "cell_type": "code",
   "execution_count": 76,
   "id": "22340fbd",
   "metadata": {},
   "outputs": [
    {
     "data": {
      "text/plain": [
       "0.9771032071594303"
      ]
     },
     "execution_count": 76,
     "metadata": {},
     "output_type": "execute_result"
    }
   ],
   "source": [
    "norm.cdf(z1) - norm.cdf(z2)"
   ]
  },
  {
   "cell_type": "code",
   "execution_count": 77,
   "id": "2afecc52",
   "metadata": {},
   "outputs": [
    {
     "data": {
      "text/plain": [
       "0.9771032071554062"
      ]
     },
     "execution_count": 77,
     "metadata": {},
     "output_type": "execute_result"
    }
   ],
   "source": [
    "norm.cdf(3.030457634) - norm.cdf(-2.020305089)"
   ]
  },
  {
   "cell_type": "markdown",
   "id": "148f1789",
   "metadata": {},
   "source": [
    "You are working for the Department of Endangered Species. Along with your team, you have bred a certain species of endangered fish.\n",
    "\n",
    "On taking a sample of 100 fishes, the calculated average length of this species came out to be 24 and the standard deviation came out to be 8.\n",
    "Your task is to estimate, with 95 percent confidence, the mean length confidence interval of the fishes in the pond.\n",
    "\n",
    "Note: z-multiplier for 95% is 1.96."
   ]
  },
  {
   "cell_type": "code",
   "execution_count": 83,
   "id": "112eb86d",
   "metadata": {},
   "outputs": [],
   "source": [
    "z1 = norm.ppf(2.5/100)"
   ]
  },
  {
   "cell_type": "code",
   "execution_count": 87,
   "id": "b8e941a0",
   "metadata": {},
   "outputs": [],
   "source": [
    "z2 = norm.ppf((95+2.5)/100)"
   ]
  },
  {
   "cell_type": "code",
   "execution_count": 89,
   "id": "433e0277",
   "metadata": {},
   "outputs": [
    {
     "data": {
      "text/plain": [
       "(-1.9599639845400545, 1.959963984540054)"
      ]
     },
     "execution_count": 89,
     "metadata": {},
     "output_type": "execute_result"
    }
   ],
   "source": [
    "z1, z2"
   ]
  },
  {
   "cell_type": "code",
   "execution_count": 90,
   "id": "3ac4f134",
   "metadata": {},
   "outputs": [],
   "source": [
    "n = 100\n",
    "mu = 24\n",
    "s = 8\n",
    "sigma = s/(np.sqrt(100))"
   ]
  },
  {
   "cell_type": "code",
   "execution_count": 91,
   "id": "7ae9b032",
   "metadata": {},
   "outputs": [
    {
     "data": {
      "text/plain": [
       "0.8"
      ]
     },
     "execution_count": 91,
     "metadata": {},
     "output_type": "execute_result"
    }
   ],
   "source": [
    "sigma"
   ]
  },
  {
   "cell_type": "code",
   "execution_count": 93,
   "id": "43c11103",
   "metadata": {},
   "outputs": [
    {
     "data": {
      "text/plain": [
       "[22.432028812367957, 25.567971187632043]"
      ]
     },
     "execution_count": 93,
     "metadata": {},
     "output_type": "execute_result"
    }
   ],
   "source": [
    "x1 = (z1 * sigma) + mu\n",
    "x2 = (z2 * sigma) + mu\n",
    "\n",
    "[x1, x2]\n"
   ]
  },
  {
   "cell_type": "code",
   "execution_count": 94,
   "id": "863908f6",
   "metadata": {},
   "outputs": [
    {
     "name": "stdout",
     "output_type": "stream",
     "text": [
      "22.432 25.568\n"
     ]
    }
   ],
   "source": [
    "n = 100\n",
    "mu = 24\n",
    "sigma = 8\n",
    "z = 1.96\n",
    "se = sigma / math.sqrt(n)\n",
    "\n",
    "c1 = mu - z*se\n",
    "c2 = mu + z*se\n",
    "print(c1, c2)"
   ]
  },
  {
   "cell_type": "markdown",
   "id": "4e5a98b1",
   "metadata": {},
   "source": [
    "Samples of size 100 are selected from a population with a mean of 37 and a standard deviation of 12.\n",
    "\n",
    "The standard error of the sampling distribution of sample means is :"
   ]
  },
  {
   "cell_type": "code",
   "execution_count": 100,
   "id": "f8e6c5a0",
   "metadata": {},
   "outputs": [],
   "source": [
    "n = 100\n",
    "mu = 37\n",
    "s = 12 \n",
    "\n",
    "se = s / np.sqrt(n)"
   ]
  },
  {
   "cell_type": "code",
   "execution_count": 101,
   "id": "379a8d99",
   "metadata": {},
   "outputs": [
    {
     "data": {
      "text/plain": [
       "1.2"
      ]
     },
     "execution_count": 101,
     "metadata": {},
     "output_type": "execute_result"
    }
   ],
   "source": [
    "se"
   ]
  },
  {
   "cell_type": "markdown",
   "id": "25e595ff",
   "metadata": {},
   "source": [
    "A company wants to estimate the average purchase amount made by customers on their e-commerce platform. They collect a random sample of 100 transactions and find that the average purchase amount is \\75withastandarddeviationof10. Construct a 95% confidence interval for the true average purchase amount. Since the number of samples is large, use the sample standard deviation as an approximation of population standard deviation."
   ]
  },
  {
   "cell_type": "code",
   "execution_count": 102,
   "id": "e97f9421",
   "metadata": {},
   "outputs": [],
   "source": [
    "n = 100\n",
    "mu = 75 \n",
    "s = 10 \n",
    "sigma = s / np.sqrt(n)"
   ]
  },
  {
   "cell_type": "code",
   "execution_count": 103,
   "id": "6991c46c",
   "metadata": {},
   "outputs": [
    {
     "data": {
      "text/plain": [
       "1.0"
      ]
     },
     "execution_count": 103,
     "metadata": {},
     "output_type": "execute_result"
    }
   ],
   "source": [
    "sigma"
   ]
  },
  {
   "cell_type": "code",
   "execution_count": 104,
   "id": "5137b57e",
   "metadata": {},
   "outputs": [],
   "source": [
    "z1 = norm.ppf(.025)\n",
    "z2 = norm.ppf(.975)"
   ]
  },
  {
   "cell_type": "code",
   "execution_count": 105,
   "id": "c0ebbf28",
   "metadata": {},
   "outputs": [
    {
     "data": {
      "text/plain": [
       "(-1.9599639845400545, 1.959963984540054)"
      ]
     },
     "execution_count": 105,
     "metadata": {},
     "output_type": "execute_result"
    }
   ],
   "source": [
    "z1, z2"
   ]
  },
  {
   "cell_type": "code",
   "execution_count": 106,
   "id": "f6e03649",
   "metadata": {},
   "outputs": [
    {
     "data": {
      "text/plain": [
       "[73.04003601545995, 76.95996398454005]"
      ]
     },
     "execution_count": 106,
     "metadata": {},
     "output_type": "execute_result"
    }
   ],
   "source": [
    "x1 = (z1 * sigma) + mu \n",
    "x2 = (z2 * sigma) + mu \n",
    "\n",
    "[x1, x2]\n"
   ]
  },
  {
   "cell_type": "markdown",
   "id": "69261f6a",
   "metadata": {},
   "source": [
    "The mean height of a sample of 100 adults was found to be 165 cm, with a standard deviation of 8 cm. Construct a 90% confidence interval for the true mean height of the adult population."
   ]
  },
  {
   "cell_type": "code",
   "execution_count": 111,
   "id": "d1b636f9",
   "metadata": {},
   "outputs": [],
   "source": [
    "n = 100 \n",
    "mu = 165\n",
    "s = 8\n",
    "sigma = s / np.sqrt(n)"
   ]
  },
  {
   "cell_type": "code",
   "execution_count": 112,
   "id": "5b199806",
   "metadata": {},
   "outputs": [],
   "source": [
    "z1 = norm.ppf(5/100)"
   ]
  },
  {
   "cell_type": "code",
   "execution_count": 113,
   "id": "2f48c55a",
   "metadata": {},
   "outputs": [
    {
     "data": {
      "text/plain": [
       "(-1.6448536269514729, 1.6448536269514722)"
      ]
     },
     "execution_count": 113,
     "metadata": {},
     "output_type": "execute_result"
    }
   ],
   "source": [
    "z2 = norm.ppf(95/100)\n",
    "z1, z2"
   ]
  },
  {
   "cell_type": "code",
   "execution_count": 114,
   "id": "6d4c13c0",
   "metadata": {},
   "outputs": [
    {
     "data": {
      "text/plain": [
       "[163.68411709843883, 166.31588290156117]"
      ]
     },
     "execution_count": 114,
     "metadata": {},
     "output_type": "execute_result"
    }
   ],
   "source": [
    "x1 = (z1 * sigma) + mu \n",
    "x2 = (z2 * sigma) + mu \n",
    "\n",
    "[x1, x2]"
   ]
  },
  {
   "cell_type": "markdown",
   "id": "2c172f35",
   "metadata": {},
   "source": [
    "An unknown distribution has a mean of 90 and a standard deviation of 15.\n",
    "\n",
    "Samples of size n = 25 are drawn randomly from the population.\n",
    "\n",
    "Find the probability that the sample mean is between 85 and 92."
   ]
  },
  {
   "cell_type": "code",
   "execution_count": 115,
   "id": "1261a297",
   "metadata": {},
   "outputs": [],
   "source": [
    "mean = 90\n",
    "s = 15\n",
    "n = 25\n",
    "x1 = 85\n",
    "x2 = 92"
   ]
  },
  {
   "cell_type": "code",
   "execution_count": 120,
   "id": "bbef8f70",
   "metadata": {},
   "outputs": [],
   "source": [
    "z1 = (x1 - mean) / (s / np.sqrt(n))\n",
    "z2 = (x2 - mean) / (s / np.sqrt(n))"
   ]
  },
  {
   "cell_type": "code",
   "execution_count": 121,
   "id": "448962a4",
   "metadata": {},
   "outputs": [
    {
     "data": {
      "text/plain": [
       "(-1.6666666666666667, 0.6666666666666666)"
      ]
     },
     "execution_count": 121,
     "metadata": {},
     "output_type": "execute_result"
    }
   ],
   "source": [
    "z1, z2"
   ]
  },
  {
   "cell_type": "code",
   "execution_count": 123,
   "id": "afe23729",
   "metadata": {},
   "outputs": [
    {
     "data": {
      "text/plain": [
       "0.6997171101802624"
      ]
     },
     "execution_count": 123,
     "metadata": {},
     "output_type": "execute_result"
    }
   ],
   "source": [
    "norm.cdf(z2) - norm.cdf(z1)"
   ]
  },
  {
   "cell_type": "code",
   "execution_count": 8,
   "id": "91c999f8",
   "metadata": {},
   "outputs": [
    {
     "name": "stdout",
     "output_type": "stream",
     "text": [
      "0.14436434635625667\n"
     ]
    }
   ],
   "source": [
    "from scipy import stats\n",
    "\n",
    "print(stats.binom.pmf(n=40,p=0.25,k=10))"
   ]
  },
  {
   "cell_type": "markdown",
   "id": "5ad5824f",
   "metadata": {},
   "source": [
    "A fair coin is flipped 4 times. What is the probability of landing 3 or less than 3 heads?\n",
    "\n"
   ]
  },
  {
   "cell_type": "code",
   "execution_count": 3,
   "id": "cb9787f5",
   "metadata": {},
   "outputs": [
    {
     "data": {
      "text/plain": [
       "0.9375000000000001"
      ]
     },
     "execution_count": 3,
     "metadata": {},
     "output_type": "execute_result"
    }
   ],
   "source": [
    "stats.binom.pmf(n=4,p=0.5,k=1) + stats.binom.pmf(n=4,p=0.5,k=2) + stats.binom.pmf(n=4,p=0.5,k=3) + stats.binom.pmf(n=4,p=0.5,k=0)\n",
    "                                                                             "
   ]
  },
  {
   "cell_type": "code",
   "execution_count": 4,
   "id": "05d2c2c8",
   "metadata": {},
   "outputs": [
    {
     "data": {
      "text/plain": [
       "0.0625"
      ]
     },
     "execution_count": 4,
     "metadata": {},
     "output_type": "execute_result"
    }
   ],
   "source": [
    "stats.binom.pmf(n=4,p=0.5,k=4)"
   ]
  },
  {
   "cell_type": "code",
   "execution_count": 6,
   "id": "2c44c713",
   "metadata": {},
   "outputs": [
    {
     "data": {
      "text/plain": [
       "0.6889599999999998"
      ]
     },
     "execution_count": 6,
     "metadata": {},
     "output_type": "execute_result"
    }
   ],
   "source": [
    "1-stats.binom.pmf(n=6,p=0.6,k=4)"
   ]
  },
  {
   "cell_type": "code",
   "execution_count": 11,
   "id": "dd981d81",
   "metadata": {},
   "outputs": [
    {
     "data": {
      "text/plain": [
       "0.7667200000000001"
      ]
     },
     "execution_count": 11,
     "metadata": {},
     "output_type": "execute_result"
    }
   ],
   "source": [
    "stats.binom.cdf(k=4,n=6,p= .6)"
   ]
  },
  {
   "cell_type": "code",
   "execution_count": 12,
   "id": "28f3a4a3",
   "metadata": {},
   "outputs": [
    {
     "data": {
      "text/plain": [
       "0.049772132496363586"
      ]
     },
     "execution_count": 12,
     "metadata": {},
     "output_type": "execute_result"
    }
   ],
   "source": [
    "1-stats.geom.cdf(p=0.0002,k=15000)"
   ]
  },
  {
   "cell_type": "code",
   "execution_count": 14,
   "id": "12f112d6",
   "metadata": {},
   "outputs": [
    {
     "data": {
      "text/plain": [
       "0.9760611779412912"
      ]
     },
     "execution_count": 14,
     "metadata": {},
     "output_type": "execute_result"
    }
   ],
   "source": [
    "stats.binom.cdf(k=3,n=10,p= 12/100)"
   ]
  },
  {
   "cell_type": "code",
   "execution_count": null,
   "id": "5b2285d0",
   "metadata": {},
   "outputs": [],
   "source": [
    "binom.cdf(p=p,n=n,k=3)"
   ]
  },
  {
   "cell_type": "code",
   "execution_count": null,
   "id": "71967525",
   "metadata": {},
   "outputs": [],
   "source": [
    "p=0.12\n",
    "\n",
    "n=10\n",
    "Ask is find less than 4 cars have faulty brakes.\n",
    "so we find all the area under the curve for exactly/atmost 3 cars\n",
    "binom.cdf(p=p,n=n,k=3)"
   ]
  },
  {
   "cell_type": "code",
   "execution_count": 2,
   "id": "e99537f7",
   "metadata": {},
   "outputs": [],
   "source": [
    "import pandas as pd\n",
    "import numpy as np"
   ]
  },
  {
   "cell_type": "code",
   "execution_count": 3,
   "id": "2b2bb90b",
   "metadata": {},
   "outputs": [
    {
     "data": {
      "text/plain": [
       "0.35"
      ]
     },
     "execution_count": 3,
     "metadata": {},
     "output_type": "execute_result"
    }
   ],
   "source": [
    ".7*.5"
   ]
  },
  {
   "cell_type": "code",
   "execution_count": 4,
   "id": "1363e065",
   "metadata": {},
   "outputs": [
    {
     "data": {
      "text/plain": [
       "0.85"
      ]
     },
     "execution_count": 4,
     "metadata": {},
     "output_type": "execute_result"
    }
   ],
   "source": [
    ".7+.5-.35"
   ]
  },
  {
   "cell_type": "code",
   "execution_count": 5,
   "id": "00b3630b",
   "metadata": {},
   "outputs": [
    {
     "data": {
      "text/plain": [
       "0.6249999999999998"
      ]
     },
     "execution_count": 5,
     "metadata": {},
     "output_type": "execute_result"
    }
   ],
   "source": [
    "(.6+.8 - .9)/.8 "
   ]
  },
  {
   "cell_type": "code",
   "execution_count": 6,
   "id": "2d7fdb07",
   "metadata": {},
   "outputs": [
    {
     "data": {
      "text/plain": [
       "0.625"
      ]
     },
     "execution_count": 6,
     "metadata": {},
     "output_type": "execute_result"
    }
   ],
   "source": [
    "5/8"
   ]
  },
  {
   "cell_type": "code",
   "execution_count": 9,
   "id": "8b12e234",
   "metadata": {},
   "outputs": [
    {
     "data": {
      "text/plain": [
       "0.7667200000000001"
      ]
     },
     "execution_count": 9,
     "metadata": {},
     "output_type": "execute_result"
    }
   ],
   "source": [
    "stats.binom.cdf(p=.6,n=6,k=4)"
   ]
  },
  {
   "cell_type": "code",
   "execution_count": 11,
   "id": "7f9bb223",
   "metadata": {},
   "outputs": [
    {
     "data": {
      "text/plain": [
       "0.4166666666666667"
      ]
     },
     "execution_count": 11,
     "metadata": {},
     "output_type": "execute_result"
    }
   ],
   "source": [
    "25/60"
   ]
  },
  {
   "cell_type": "code",
   "execution_count": 14,
   "id": "fb7f348e",
   "metadata": {},
   "outputs": [
    {
     "data": {
      "text/plain": [
       "0.35000000000000003"
      ]
     },
     "execution_count": 14,
     "metadata": {},
     "output_type": "execute_result"
    }
   ],
   "source": [
    ".07/.2"
   ]
  },
  {
   "cell_type": "code",
   "execution_count": 16,
   "id": "58463808",
   "metadata": {},
   "outputs": [
    {
     "data": {
      "text/plain": [
       "0.10254155517538938"
      ]
     },
     "execution_count": 16,
     "metadata": {},
     "output_type": "execute_result"
    }
   ],
   "source": [
    "stats.binom.pmf(p=.45,n=40,k=20)"
   ]
  },
  {
   "cell_type": "code",
   "execution_count": 17,
   "id": "316cd5d4",
   "metadata": {},
   "outputs": [],
   "source": [
    "a = 137846528820"
   ]
  },
  {
   "cell_type": "code",
   "execution_count": 19,
   "id": "eb0ccda0",
   "metadata": {},
   "outputs": [
    {
     "data": {
      "text/plain": [
       "0.10254155517538936"
      ]
     },
     "execution_count": 19,
     "metadata": {},
     "output_type": "execute_result"
    }
   ],
   "source": [
    "pow(.45, 20) * pow(.55, 20) * a"
   ]
  },
  {
   "cell_type": "code",
   "execution_count": 20,
   "id": "297680d0",
   "metadata": {},
   "outputs": [
    {
     "data": {
      "text/plain": [
       "0.2"
      ]
     },
     "execution_count": 20,
     "metadata": {},
     "output_type": "execute_result"
    }
   ],
   "source": [
    "12/60"
   ]
  },
  {
   "cell_type": "code",
   "execution_count": 21,
   "id": "bf545da8",
   "metadata": {},
   "outputs": [
    {
     "ename": "SyntaxError",
     "evalue": "invalid syntax (934748429.py, line 1)",
     "output_type": "error",
     "traceback": [
      "\u001b[0;36m  Cell \u001b[0;32mIn[21], line 1\u001b[0;36m\u001b[0m\n\u001b[0;31m    In a survery for a new toothpaste product called 'A', dentists were asked to find the probability that a user of the toothpaste has a cavity given that he has a 1% chance of having cavity initially. After an X-ray test, the user tested positive for a cavity. The test has an 80% chance of detecting actual cavities and a 90% chance of detecting health teeth.\u001b[0m\n\u001b[0m       ^\u001b[0m\n\u001b[0;31mSyntaxError\u001b[0m\u001b[0;31m:\u001b[0m invalid syntax\n"
     ]
    }
   ],
   "source": [
    "In a survery for a new toothpaste product called 'A', dentists were asked to find the probability that a user of the toothpaste has a cavity given that he has a 1% chance of having cavity initially. After an X-ray test, the user tested positive for a cavity. The test has an 80% chance of detecting actual cavities and a 90% chance of detecting health teeth.\n",
    "With this new data, 9 out of 10 dentist recommended the toothpaste, and said that the chance of having a cavity was only 3.5% after using the toothpaste. Do you agree with the 9 dentists ? "
   ]
  },
  {
   "cell_type": "code",
   "execution_count": null,
   "id": "59853e74",
   "metadata": {},
   "outputs": [],
   "source": [
    "Select the right option \n",
    "\n",
    "a) No, they overestimated the probability of having a cavity, the real probability is 0.75% \n",
    "b) I do not have enough information to make an analysis of the probability \n",
    "c) No, they underestimated the probability of having a cavity, the real probability is 7.5% \n",
    "d) Yes, they applied Baye's theorem and got the correct answer"
   ]
  },
  {
   "cell_type": "code",
   "execution_count": 23,
   "id": "996286a5",
   "metadata": {},
   "outputs": [
    {
     "data": {
      "text/plain": [
       "8.0"
      ]
     },
     "execution_count": 23,
     "metadata": {},
     "output_type": "execute_result"
    }
   ],
   "source": [
    "Substituting in our known values gives us P(B) = 0.8 * 0.01 + 0.1 * 0.99 = 0.008 + 0.099 = 0.107."
   ]
  },
  {
   "cell_type": "code",
   "execution_count": null,
   "id": "87801ace",
   "metadata": {},
   "outputs": [],
   "source": [
    "P(A|B) = P(B|A) * P(A) / P(B) = 0.8 * 0.01 / 0.107 ≈ 0.075 or 7.5%.\n"
   ]
  },
  {
   "cell_type": "code",
   "execution_count": null,
   "id": "7eb3de15",
   "metadata": {},
   "outputs": [],
   "source": []
  },
  {
   "cell_type": "code",
   "execution_count": null,
   "id": "a370ad40",
   "metadata": {},
   "outputs": [],
   "source": []
  },
  {
   "cell_type": "code",
   "execution_count": null,
   "id": "20cef489",
   "metadata": {},
   "outputs": [],
   "source": []
  },
  {
   "cell_type": "code",
   "execution_count": null,
   "id": "38ed5aed",
   "metadata": {},
   "outputs": [],
   "source": []
  },
  {
   "cell_type": "code",
   "execution_count": null,
   "id": "e44e304c",
   "metadata": {},
   "outputs": [],
   "source": []
  },
  {
   "cell_type": "code",
   "execution_count": null,
   "id": "2550159e",
   "metadata": {},
   "outputs": [],
   "source": []
  },
  {
   "cell_type": "code",
   "execution_count": null,
   "id": "f4c82c13",
   "metadata": {},
   "outputs": [],
   "source": []
  },
  {
   "cell_type": "code",
   "execution_count": null,
   "id": "967b1b90",
   "metadata": {},
   "outputs": [],
   "source": []
  },
  {
   "cell_type": "code",
   "execution_count": null,
   "id": "638a7b41",
   "metadata": {},
   "outputs": [],
   "source": []
  },
  {
   "cell_type": "code",
   "execution_count": null,
   "id": "b672ccad",
   "metadata": {},
   "outputs": [],
   "source": []
  },
  {
   "cell_type": "code",
   "execution_count": null,
   "id": "afdd9dd6",
   "metadata": {},
   "outputs": [],
   "source": []
  },
  {
   "cell_type": "code",
   "execution_count": null,
   "id": "ddc00398",
   "metadata": {},
   "outputs": [],
   "source": []
  },
  {
   "cell_type": "code",
   "execution_count": null,
   "id": "f5659516",
   "metadata": {},
   "outputs": [],
   "source": []
  },
  {
   "cell_type": "code",
   "execution_count": null,
   "id": "2764b0d4",
   "metadata": {},
   "outputs": [],
   "source": []
  },
  {
   "cell_type": "code",
   "execution_count": null,
   "id": "459fe525",
   "metadata": {},
   "outputs": [],
   "source": []
  },
  {
   "cell_type": "code",
   "execution_count": null,
   "id": "9a13dcb5",
   "metadata": {},
   "outputs": [],
   "source": []
  },
  {
   "cell_type": "code",
   "execution_count": null,
   "id": "aabb8fa2",
   "metadata": {},
   "outputs": [],
   "source": []
  },
  {
   "cell_type": "code",
   "execution_count": null,
   "id": "6b7fe795",
   "metadata": {},
   "outputs": [],
   "source": []
  },
  {
   "cell_type": "code",
   "execution_count": null,
   "id": "67ca0906",
   "metadata": {},
   "outputs": [],
   "source": []
  },
  {
   "cell_type": "code",
   "execution_count": null,
   "id": "f7bba48e",
   "metadata": {},
   "outputs": [],
   "source": []
  },
  {
   "cell_type": "code",
   "execution_count": null,
   "id": "97321fcd",
   "metadata": {},
   "outputs": [],
   "source": []
  },
  {
   "cell_type": "code",
   "execution_count": null,
   "id": "4fae6a68",
   "metadata": {},
   "outputs": [],
   "source": []
  },
  {
   "cell_type": "code",
   "execution_count": null,
   "id": "cd487b9c",
   "metadata": {},
   "outputs": [],
   "source": []
  },
  {
   "cell_type": "code",
   "execution_count": null,
   "id": "b3cf7986",
   "metadata": {},
   "outputs": [],
   "source": []
  },
  {
   "cell_type": "code",
   "execution_count": null,
   "id": "bee6bf20",
   "metadata": {},
   "outputs": [],
   "source": []
  },
  {
   "cell_type": "code",
   "execution_count": null,
   "id": "49ae6f44",
   "metadata": {},
   "outputs": [],
   "source": []
  },
  {
   "cell_type": "code",
   "execution_count": null,
   "id": "e1c4e6dc",
   "metadata": {},
   "outputs": [],
   "source": []
  },
  {
   "cell_type": "code",
   "execution_count": null,
   "id": "37ac2c44",
   "metadata": {},
   "outputs": [],
   "source": []
  },
  {
   "cell_type": "code",
   "execution_count": null,
   "id": "0a13a149",
   "metadata": {},
   "outputs": [],
   "source": []
  },
  {
   "cell_type": "code",
   "execution_count": null,
   "id": "6cf4474b",
   "metadata": {},
   "outputs": [],
   "source": []
  },
  {
   "cell_type": "code",
   "execution_count": null,
   "id": "95fbe7a1",
   "metadata": {},
   "outputs": [],
   "source": []
  },
  {
   "cell_type": "code",
   "execution_count": null,
   "id": "82f02e96",
   "metadata": {},
   "outputs": [],
   "source": []
  },
  {
   "cell_type": "code",
   "execution_count": null,
   "id": "67eee056",
   "metadata": {},
   "outputs": [],
   "source": []
  },
  {
   "cell_type": "code",
   "execution_count": null,
   "id": "c04d0b2c",
   "metadata": {},
   "outputs": [],
   "source": []
  },
  {
   "cell_type": "code",
   "execution_count": null,
   "id": "cd0970d0",
   "metadata": {},
   "outputs": [],
   "source": []
  }
 ],
 "metadata": {
  "kernelspec": {
   "display_name": "Python 3 (ipykernel)",
   "language": "python",
   "name": "python3"
  },
  "language_info": {
   "codemirror_mode": {
    "name": "ipython",
    "version": 3
   },
   "file_extension": ".py",
   "mimetype": "text/x-python",
   "name": "python",
   "nbconvert_exporter": "python",
   "pygments_lexer": "ipython3",
   "version": "3.10.9"
  }
 },
 "nbformat": 4,
 "nbformat_minor": 5
}
