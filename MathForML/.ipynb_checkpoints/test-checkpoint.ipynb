{
 "cells": [
  {
   "cell_type": "markdown",
   "id": "f0bc892d-7a74-4cf0-b136-b174b609f274",
   "metadata": {},
   "source": [
    "# PCA"
   ]
  },
  {
   "cell_type": "code",
   "execution_count": 20,
   "id": "91625d17-1dc5-4271-a731-5dc2138d7e20",
   "metadata": {},
   "outputs": [
    {
     "name": "stdout",
     "output_type": "stream",
     "text": [
      "[[-9.26  0.  ]\n",
      " [ 9.26 -0.  ]]\n"
     ]
    }
   ],
   "source": [
    "import numpy as np\n",
    "\n",
    "def PCA(X , num_components):\n",
    "    \n",
    "    X_centered = X - np.mean(X, axis=0)\n",
    "    cov_matrix = np.cov(X_centered, rowvar=False)\n",
    "    \n",
    "    eig_val, eig_vec = np.linalg.eigh(cov_matrix)\n",
    "    \n",
    "    sorted_indices = np.argsort(eig_val)[::-1]\n",
    "    sorted_eigenvectors = eig_vec[:, sorted_indices]\n",
    "    \n",
    "    selected_eig_vectors = sorted_eigenvectors[:, :num_components]\n",
    "    \n",
    "    X_reduced = np.dot(X_centered, selected_eig_vectors)\n",
    "    \n",
    "    X_reduced = X_reduced.round(2)\n",
    "    # Commenting out the line below to keep -0.0 as is\n",
    "    # X_reduced = np.where(X_reduced == -0.0, 0.0, X_reduced)\n",
    "    \n",
    "    return (X_reduced.round(2))\n",
    "\n",
    "# Example Usage:\n",
    "X = np.array([range(1, 8), range(8, 15)], dtype=float)\n",
    "num_components = 2\n",
    "reduced_X = PCA(X, num_components)\n",
    "print(reduced_X)\n"
   ]
  },
  {
   "cell_type": "code",
   "execution_count": 21,
   "id": "4cbe8530-f5ee-4a3d-a09a-5f08061d3183",
   "metadata": {},
   "outputs": [
    {
     "name": "stdout",
     "output_type": "stream",
     "text": [
      "Do not believe the new direction.\n"
     ]
    }
   ],
   "source": [
    "import numpy as np\n",
    "\n",
    "def should_believe(vector_guess, vector_resident):\n",
    "    dot_product = np.dot(vector_guess, vector_resident)\n",
    "    if dot_product > 0:\n",
    "        return \"Believe the new direction.\"\n",
    "    else:\n",
    "        return \"Do not believe the new direction.\"\n",
    "\n",
    "# Example usage:\n",
    "vector_guess = np.array([1, 0, 0, 0])  # Example 4-dimensional vector\n",
    "vector_resident = np.array([0, 1, 0, 0])  # Another example 4-dimensional vector\n",
    "\n",
    "result = should_believe(vector_guess, vector_resident)\n",
    "print(result)\n"
   ]
  },
  {
   "cell_type": "code",
   "execution_count": 22,
   "id": "f957f120-c135-4ec0-9d0d-a94c0ae7dde4",
   "metadata": {},
   "outputs": [
    {
     "name": "stdout",
     "output_type": "stream",
     "text": [
      "Believe the new direction.\n"
     ]
    }
   ],
   "source": [
    "x= [1, -3, 7, 2.5, 8, 13]\n",
    "y = [9, 7, 18, 22, -12, 0.5]\n",
    "\n",
    "# Example usage:\n",
    "vector_guess = np.array(x)  # Example 4-dimensional vector\n",
    "vector_resident = np.array(y)  # Another example 4-dimensional vector\n",
    "\n",
    "result = should_believe(vector_guess, vector_resident)\n",
    "print(result)\n"
   ]
  },
  {
   "cell_type": "code",
   "execution_count": 23,
   "id": "16ec8545-10ef-4168-8147-ac7d6caaedd6",
   "metadata": {},
   "outputs": [
    {
     "name": "stdout",
     "output_type": "stream",
     "text": [
      "Believe the new direction.\n"
     ]
    }
   ],
   "source": [
    "result = should_believe(vector_guess, vector_resident)\n",
    "print(result)"
   ]
  },
  {
   "cell_type": "code",
   "execution_count": null,
   "id": "de80e930-30c2-4a48-9ae2-0491d4a9bbf9",
   "metadata": {},
   "outputs": [],
   "source": []
  }
 ],
 "metadata": {
  "kernelspec": {
   "display_name": "Python 3 (ipykernel)",
   "language": "python",
   "name": "python3"
  },
  "language_info": {
   "codemirror_mode": {
    "name": "ipython",
    "version": 3
   },
   "file_extension": ".py",
   "mimetype": "text/x-python",
   "name": "python",
   "nbconvert_exporter": "python",
   "pygments_lexer": "ipython3",
   "version": "3.10.9"
  }
 },
 "nbformat": 4,
 "nbformat_minor": 5
}
