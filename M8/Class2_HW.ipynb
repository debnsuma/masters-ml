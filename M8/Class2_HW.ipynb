{
 "cells": [
  {
   "cell_type": "code",
   "execution_count": 1,
   "id": "a53c8b29",
   "metadata": {},
   "outputs": [],
   "source": [
    "import numpy as np"
   ]
  },
  {
   "cell_type": "markdown",
   "id": "92a46e21",
   "metadata": {},
   "source": [
    "# Fitbit Use Case"
   ]
  },
  {
   "cell_type": "code",
   "execution_count": 9,
   "id": "d6362c0c",
   "metadata": {},
   "outputs": [],
   "source": [
    "arr = np.loadtxt('fit.txt', dtype='U50')"
   ]
  },
  {
   "cell_type": "code",
   "execution_count": 10,
   "id": "4bedf7e9",
   "metadata": {},
   "outputs": [
    {
     "data": {
      "text/plain": [
       "(96, 6)"
      ]
     },
     "execution_count": 10,
     "metadata": {},
     "output_type": "execute_result"
    }
   ],
   "source": [
    "arr.shape"
   ]
  },
  {
   "cell_type": "code",
   "execution_count": 11,
   "id": "d681b8b0",
   "metadata": {},
   "outputs": [
    {
     "data": {
      "text/plain": [
       "array([['06-10-2017', '5464', 'Neutral', '181', '5', 'Inactive'],\n",
       "       ['07-10-2017', '6041', 'Sad', '197', '8', 'Inactive'],\n",
       "       ['08-10-2017', '25', 'Sad', '0', '5', 'Inactive'],\n",
       "       ['09-10-2017', '5461', 'Sad', '174', '4', 'Inactive'],\n",
       "       ['10-10-2017', '6915', 'Neutral', '223', '5', 'Active'],\n",
       "       ['11-10-2017', '4545', 'Sad', '149', '6', 'Inactive'],\n",
       "       ['12-10-2017', '4340', 'Sad', '140', '6', 'Inactive'],\n",
       "       ['13-10-2017', '1230', 'Sad', '38', '7', 'Inactive'],\n",
       "       ['14-10-2017', '61', 'Sad', '1', '5', 'Inactive'],\n",
       "       ['15-10-2017', '1258', 'Sad', '40', '6', 'Inactive']], dtype='<U50')"
      ]
     },
     "execution_count": 11,
     "metadata": {},
     "output_type": "execute_result"
    }
   ],
   "source": [
    "arr[:10]"
   ]
  },
  {
   "cell_type": "code",
   "execution_count": 12,
   "id": "bf1ea574",
   "metadata": {},
   "outputs": [
    {
     "data": {
      "text/plain": [
       "(96, 6)"
      ]
     },
     "execution_count": 12,
     "metadata": {},
     "output_type": "execute_result"
    }
   ],
   "source": [
    "arr.shape"
   ]
  },
  {
   "cell_type": "code",
   "execution_count": 13,
   "id": "37809986",
   "metadata": {},
   "outputs": [
    {
     "data": {
      "text/plain": [
       "2"
      ]
     },
     "execution_count": 13,
     "metadata": {},
     "output_type": "execute_result"
    }
   ],
   "source": [
    "arr.ndim"
   ]
  },
  {
   "cell_type": "code",
   "execution_count": 14,
   "id": "eb71e858",
   "metadata": {},
   "outputs": [
    {
     "data": {
      "text/plain": [
       "array(['06-10-2017', '5464', 'Neutral', '181', '5', 'Inactive'],\n",
       "      dtype='<U50')"
      ]
     },
     "execution_count": 14,
     "metadata": {},
     "output_type": "execute_result"
    }
   ],
   "source": [
    "arr[[0][0]]"
   ]
  },
  {
   "cell_type": "code",
   "execution_count": 15,
   "id": "6e0e1b7c",
   "metadata": {},
   "outputs": [
    {
     "data": {
      "text/plain": [
       "array(['06-10-2017', '5464', 'Neutral', '181', '5', 'Inactive'],\n",
       "      dtype='<U50')"
      ]
     },
     "execution_count": 15,
     "metadata": {},
     "output_type": "execute_result"
    }
   ],
   "source": [
    "arr[0] # first row "
   ]
  },
  {
   "cell_type": "code",
   "execution_count": 16,
   "id": "088964e6",
   "metadata": {},
   "outputs": [
    {
     "data": {
      "text/plain": [
       "array([['06-10-2017', '5464', 'Neutral', '181', '5', 'Inactive'],\n",
       "       ['07-10-2017', '6041', 'Sad', '197', '8', 'Inactive'],\n",
       "       ['08-10-2017', '25', 'Sad', '0', '5', 'Inactive'],\n",
       "       ['09-10-2017', '5461', 'Sad', '174', '4', 'Inactive'],\n",
       "       ['10-10-2017', '6915', 'Neutral', '223', '5', 'Active']],\n",
       "      dtype='<U50')"
      ]
     },
     "execution_count": 16,
     "metadata": {},
     "output_type": "execute_result"
    }
   ],
   "source": [
    "arr[0:5] # first 5 rows "
   ]
  },
  {
   "cell_type": "code",
   "execution_count": 17,
   "id": "519d0bd2",
   "metadata": {},
   "outputs": [],
   "source": [
    "m1 = [list(range(1, 4)), list(range(5, 8)), list(range(9, 12))]"
   ]
  },
  {
   "cell_type": "code",
   "execution_count": 18,
   "id": "efa38b14",
   "metadata": {},
   "outputs": [
    {
     "data": {
      "text/plain": [
       "[[1, 2, 3], [5, 6, 7], [9, 10, 11]]"
      ]
     },
     "execution_count": 18,
     "metadata": {},
     "output_type": "execute_result"
    }
   ],
   "source": [
    "m1"
   ]
  },
  {
   "cell_type": "code",
   "execution_count": 19,
   "id": "61ca3f8f",
   "metadata": {},
   "outputs": [],
   "source": [
    "m1 = np.array(m1)"
   ]
  },
  {
   "cell_type": "code",
   "execution_count": 20,
   "id": "f82a65ac",
   "metadata": {},
   "outputs": [
    {
     "data": {
      "text/plain": [
       "2"
      ]
     },
     "execution_count": 20,
     "metadata": {},
     "output_type": "execute_result"
    }
   ],
   "source": [
    "m1.ndim"
   ]
  },
  {
   "cell_type": "code",
   "execution_count": 21,
   "id": "1a1977b4",
   "metadata": {},
   "outputs": [
    {
     "data": {
      "text/plain": [
       "(3, 3)"
      ]
     },
     "execution_count": 21,
     "metadata": {},
     "output_type": "execute_result"
    }
   ],
   "source": [
    "m1.shape"
   ]
  },
  {
   "cell_type": "code",
   "execution_count": 22,
   "id": "85a257cb",
   "metadata": {},
   "outputs": [
    {
     "data": {
      "text/plain": [
       "array([[ 1,  2,  3],\n",
       "       [ 5,  6,  7],\n",
       "       [ 9, 10, 11]])"
      ]
     },
     "execution_count": 22,
     "metadata": {},
     "output_type": "execute_result"
    }
   ],
   "source": [
    "m1"
   ]
  },
  {
   "cell_type": "code",
   "execution_count": 23,
   "id": "fbdb351f",
   "metadata": {},
   "outputs": [
    {
     "data": {
      "text/plain": [
       "3"
      ]
     },
     "execution_count": 23,
     "metadata": {},
     "output_type": "execute_result"
    }
   ],
   "source": [
    "len(m1)"
   ]
  },
  {
   "cell_type": "code",
   "execution_count": 24,
   "id": "b016bc34",
   "metadata": {},
   "outputs": [
    {
     "data": {
      "text/plain": [
       "(3, 3)"
      ]
     },
     "execution_count": 24,
     "metadata": {},
     "output_type": "execute_result"
    }
   ],
   "source": [
    "m1.shape"
   ]
  },
  {
   "cell_type": "code",
   "execution_count": 25,
   "id": "6faaaa73",
   "metadata": {},
   "outputs": [
    {
     "data": {
      "text/plain": [
       "(3, 3)"
      ]
     },
     "execution_count": 25,
     "metadata": {},
     "output_type": "execute_result"
    }
   ],
   "source": [
    "m1.shape"
   ]
  },
  {
   "cell_type": "code",
   "execution_count": 26,
   "id": "05286c4f",
   "metadata": {},
   "outputs": [],
   "source": [
    "m2 = np.arange(1, 13)"
   ]
  },
  {
   "cell_type": "code",
   "execution_count": 27,
   "id": "98e92d3a",
   "metadata": {},
   "outputs": [
    {
     "data": {
      "text/plain": [
       "array([[ 1,  2,  3],\n",
       "       [ 4,  5,  6],\n",
       "       [ 7,  8,  9],\n",
       "       [10, 11, 12]])"
      ]
     },
     "execution_count": 27,
     "metadata": {},
     "output_type": "execute_result"
    }
   ],
   "source": [
    "m2.reshape(4, 3)"
   ]
  },
  {
   "cell_type": "code",
   "execution_count": 28,
   "id": "c0182f28",
   "metadata": {},
   "outputs": [
    {
     "data": {
      "text/plain": [
       "array([[ 1,  2,  3,  4],\n",
       "       [ 5,  6,  7,  8],\n",
       "       [ 9, 10, 11, 12]])"
      ]
     },
     "execution_count": 28,
     "metadata": {},
     "output_type": "execute_result"
    }
   ],
   "source": [
    "m2.reshape(3, 4)"
   ]
  },
  {
   "cell_type": "code",
   "execution_count": 29,
   "id": "09a4b560",
   "metadata": {},
   "outputs": [
    {
     "data": {
      "text/plain": [
       "4"
      ]
     },
     "execution_count": 29,
     "metadata": {},
     "output_type": "execute_result"
    }
   ],
   "source": [
    "len(m2.reshape(4, 3))"
   ]
  },
  {
   "cell_type": "code",
   "execution_count": 30,
   "id": "cbe88223",
   "metadata": {},
   "outputs": [
    {
     "data": {
      "text/plain": [
       "12"
      ]
     },
     "execution_count": 30,
     "metadata": {},
     "output_type": "execute_result"
    }
   ],
   "source": [
    "len(m2.reshape(12, 1))"
   ]
  },
  {
   "cell_type": "code",
   "execution_count": 31,
   "id": "9da7101c",
   "metadata": {},
   "outputs": [
    {
     "data": {
      "text/plain": [
       "array([[ 1],\n",
       "       [ 2],\n",
       "       [ 3],\n",
       "       [ 4],\n",
       "       [ 5],\n",
       "       [ 6],\n",
       "       [ 7],\n",
       "       [ 8],\n",
       "       [ 9],\n",
       "       [10],\n",
       "       [11],\n",
       "       [12]])"
      ]
     },
     "execution_count": 31,
     "metadata": {},
     "output_type": "execute_result"
    }
   ],
   "source": [
    "m2.reshape(12, 1)"
   ]
  },
  {
   "cell_type": "code",
   "execution_count": 32,
   "id": "f0c77b26",
   "metadata": {},
   "outputs": [
    {
     "data": {
      "text/plain": [
       "array([[ 1,  2,  3,  4,  5,  6,  7,  8,  9, 10, 11, 12]])"
      ]
     },
     "execution_count": 32,
     "metadata": {},
     "output_type": "execute_result"
    }
   ],
   "source": [
    "m2.reshape(1, 12)"
   ]
  },
  {
   "cell_type": "code",
   "execution_count": 33,
   "id": "6fd948db",
   "metadata": {},
   "outputs": [
    {
     "data": {
      "text/plain": [
       "array([[ 1],\n",
       "       [ 2],\n",
       "       [ 3],\n",
       "       [ 4],\n",
       "       [ 5],\n",
       "       [ 6],\n",
       "       [ 7],\n",
       "       [ 8],\n",
       "       [ 9],\n",
       "       [10],\n",
       "       [11],\n",
       "       [12]])"
      ]
     },
     "execution_count": 33,
     "metadata": {},
     "output_type": "execute_result"
    }
   ],
   "source": [
    "m2.reshape(12, 1)"
   ]
  },
  {
   "cell_type": "code",
   "execution_count": 34,
   "id": "4b30d62f",
   "metadata": {},
   "outputs": [
    {
     "data": {
      "text/plain": [
       "array([[ 1,  2,  3],\n",
       "       [ 5,  6,  7],\n",
       "       [ 9, 10, 11]])"
      ]
     },
     "execution_count": 34,
     "metadata": {},
     "output_type": "execute_result"
    }
   ],
   "source": [
    "m1"
   ]
  },
  {
   "cell_type": "code",
   "execution_count": 35,
   "id": "b6fb4035",
   "metadata": {},
   "outputs": [
    {
     "data": {
      "text/plain": [
       "array([[ 1,  5,  9],\n",
       "       [ 2,  6, 10],\n",
       "       [ 3,  7, 11]])"
      ]
     },
     "execution_count": 35,
     "metadata": {},
     "output_type": "execute_result"
    }
   ],
   "source": [
    "m1.transpose()"
   ]
  },
  {
   "cell_type": "markdown",
   "id": "7443a084",
   "metadata": {},
   "source": [
    "<img src=\"numpy_shap.png\" />\n"
   ]
  },
  {
   "cell_type": "code",
   "execution_count": 36,
   "id": "82ae2669",
   "metadata": {},
   "outputs": [],
   "source": [
    "a = np.arange(3)"
   ]
  },
  {
   "cell_type": "code",
   "execution_count": 37,
   "id": "b345a0b0",
   "metadata": {},
   "outputs": [
    {
     "data": {
      "text/plain": [
       "(3,)"
      ]
     },
     "execution_count": 37,
     "metadata": {},
     "output_type": "execute_result"
    }
   ],
   "source": [
    "a.shape"
   ]
  },
  {
   "cell_type": "code",
   "execution_count": 38,
   "id": "3df3694d",
   "metadata": {},
   "outputs": [
    {
     "data": {
      "text/plain": [
       "array([0, 1, 2])"
      ]
     },
     "execution_count": 38,
     "metadata": {},
     "output_type": "execute_result"
    }
   ],
   "source": [
    "a.transpose()"
   ]
  },
  {
   "cell_type": "code",
   "execution_count": 39,
   "id": "106a7d55",
   "metadata": {},
   "outputs": [
    {
     "data": {
      "text/plain": [
       "(1, 2)"
      ]
     },
     "execution_count": 39,
     "metadata": {},
     "output_type": "execute_result"
    }
   ],
   "source": [
    "np.array([[1], [2]]).transpose().shape"
   ]
  },
  {
   "cell_type": "code",
   "execution_count": 40,
   "id": "27822d95",
   "metadata": {},
   "outputs": [
    {
     "data": {
      "text/plain": [
       "(2, 1)"
      ]
     },
     "execution_count": 40,
     "metadata": {},
     "output_type": "execute_result"
    }
   ],
   "source": [
    "np.array([[1], [2]]).shape"
   ]
  },
  {
   "cell_type": "code",
   "execution_count": 41,
   "id": "b5a30fea",
   "metadata": {},
   "outputs": [],
   "source": [
    "a = np.arange(12).reshape(3,4)"
   ]
  },
  {
   "cell_type": "code",
   "execution_count": 42,
   "id": "7c79fcba",
   "metadata": {},
   "outputs": [
    {
     "data": {
      "text/plain": [
       "array([[ 0,  1,  2,  3],\n",
       "       [ 4,  5,  6,  7],\n",
       "       [ 8,  9, 10, 11]])"
      ]
     },
     "execution_count": 42,
     "metadata": {},
     "output_type": "execute_result"
    }
   ],
   "source": [
    "a"
   ]
  },
  {
   "cell_type": "code",
   "execution_count": 43,
   "id": "0dbb7e4e",
   "metadata": {},
   "outputs": [
    {
     "data": {
      "text/plain": [
       "array([[ 5,  6,  7],\n",
       "       [ 9, 10, 11]])"
      ]
     },
     "execution_count": 43,
     "metadata": {},
     "output_type": "execute_result"
    }
   ],
   "source": [
    "a[1:,1:]"
   ]
  },
  {
   "cell_type": "code",
   "execution_count": 44,
   "id": "2dc0b1c1",
   "metadata": {},
   "outputs": [
    {
     "data": {
      "text/plain": [
       "array([ 0,  5, 10])"
      ]
     },
     "execution_count": 44,
     "metadata": {},
     "output_type": "execute_result"
    }
   ],
   "source": [
    "a[[0,1,2], [0,1,2]]"
   ]
  },
  {
   "cell_type": "code",
   "execution_count": 45,
   "id": "1d1fa3cb",
   "metadata": {},
   "outputs": [
    {
     "data": {
      "text/plain": [
       "5"
      ]
     },
     "execution_count": 45,
     "metadata": {},
     "output_type": "execute_result"
    }
   ],
   "source": [
    "a[1,1]"
   ]
  },
  {
   "cell_type": "code",
   "execution_count": 46,
   "id": "1da3c195",
   "metadata": {},
   "outputs": [],
   "source": [
    "a = np.arange(12).reshape(3,4)"
   ]
  },
  {
   "cell_type": "code",
   "execution_count": 47,
   "id": "69eeda2e",
   "metadata": {},
   "outputs": [
    {
     "data": {
      "text/plain": [
       "array([[ 0,  1,  2,  3],\n",
       "       [ 4,  5,  6,  7],\n",
       "       [ 8,  9, 10, 11]])"
      ]
     },
     "execution_count": 47,
     "metadata": {},
     "output_type": "execute_result"
    }
   ],
   "source": [
    "a"
   ]
  },
  {
   "cell_type": "code",
   "execution_count": 48,
   "id": "3b9d53a7",
   "metadata": {},
   "outputs": [
    {
     "data": {
      "text/plain": [
       "array([[0, 1, 2],\n",
       "       [4, 5, 6]])"
      ]
     },
     "execution_count": 48,
     "metadata": {},
     "output_type": "execute_result"
    }
   ],
   "source": [
    "a[:2, :3]"
   ]
  },
  {
   "cell_type": "code",
   "execution_count": 49,
   "id": "60583168",
   "metadata": {},
   "outputs": [
    {
     "data": {
      "text/plain": [
       "array([[0, 1],\n",
       "       [4, 5],\n",
       "       [8, 9]])"
      ]
     },
     "execution_count": 49,
     "metadata": {},
     "output_type": "execute_result"
    }
   ],
   "source": [
    "a[:, :2]"
   ]
  },
  {
   "cell_type": "code",
   "execution_count": 50,
   "id": "c246b1d1",
   "metadata": {},
   "outputs": [
    {
     "data": {
      "text/plain": [
       "array([3, 7])"
      ]
     },
     "execution_count": 50,
     "metadata": {},
     "output_type": "execute_result"
    }
   ],
   "source": [
    "a[[0, 1], [3, 3]]"
   ]
  },
  {
   "cell_type": "code",
   "execution_count": 51,
   "id": "6eb53fac",
   "metadata": {},
   "outputs": [],
   "source": [
    "a = np.arange(12).reshape(3,4)"
   ]
  },
  {
   "cell_type": "code",
   "execution_count": 52,
   "id": "03fa22d9",
   "metadata": {},
   "outputs": [
    {
     "data": {
      "text/plain": [
       "array([[ 0,  1,  2,  3],\n",
       "       [ 4,  5,  6,  7],\n",
       "       [ 8,  9, 10, 11]])"
      ]
     },
     "execution_count": 52,
     "metadata": {},
     "output_type": "execute_result"
    }
   ],
   "source": [
    "a"
   ]
  },
  {
   "cell_type": "code",
   "execution_count": 53,
   "id": "73fa821c",
   "metadata": {},
   "outputs": [
    {
     "data": {
      "text/plain": [
       "array([[ 5,  6],\n",
       "       [ 9, 10]])"
      ]
     },
     "execution_count": 53,
     "metadata": {},
     "output_type": "execute_result"
    }
   ],
   "source": [
    "a[1:, 1:3]"
   ]
  },
  {
   "cell_type": "code",
   "execution_count": 54,
   "id": "4aca495c",
   "metadata": {},
   "outputs": [
    {
     "data": {
      "text/plain": [
       "array([[ 5,  6],\n",
       "       [ 9, 10]])"
      ]
     },
     "execution_count": 54,
     "metadata": {},
     "output_type": "execute_result"
    }
   ],
   "source": [
    "a[1:3, 1:3]"
   ]
  },
  {
   "cell_type": "code",
   "execution_count": 55,
   "id": "3790d98f",
   "metadata": {},
   "outputs": [
    {
     "data": {
      "text/plain": [
       "array([[ 5,  6],\n",
       "       [ 9, 10]])"
      ]
     },
     "execution_count": 55,
     "metadata": {},
     "output_type": "execute_result"
    }
   ],
   "source": [
    "a[1:, 1:3]"
   ]
  },
  {
   "cell_type": "code",
   "execution_count": 56,
   "id": "82947907",
   "metadata": {},
   "outputs": [
    {
     "data": {
      "text/plain": [
       "array([[ 0,  1,  2,  3],\n",
       "       [ 4,  5,  6,  7],\n",
       "       [ 8,  9, 10, 11]])"
      ]
     },
     "execution_count": 56,
     "metadata": {},
     "output_type": "execute_result"
    }
   ],
   "source": [
    "a"
   ]
  },
  {
   "cell_type": "code",
   "execution_count": 57,
   "id": "d6616057",
   "metadata": {},
   "outputs": [
    {
     "data": {
      "text/plain": [
       "array([[ 1,  3],\n",
       "       [ 5,  7],\n",
       "       [ 9, 11]])"
      ]
     },
     "execution_count": 57,
     "metadata": {},
     "output_type": "execute_result"
    }
   ],
   "source": [
    "a[:, [1,3]]"
   ]
  },
  {
   "cell_type": "code",
   "execution_count": 58,
   "id": "906ba617",
   "metadata": {},
   "outputs": [
    {
     "data": {
      "text/plain": [
       "array([[ 1,  3],\n",
       "       [ 5,  7],\n",
       "       [ 9, 11]])"
      ]
     },
     "execution_count": 58,
     "metadata": {},
     "output_type": "execute_result"
    }
   ],
   "source": [
    "a[:, 1::2]"
   ]
  },
  {
   "cell_type": "code",
   "execution_count": 59,
   "id": "3b13ea37",
   "metadata": {},
   "outputs": [],
   "source": [
    "b = np.arange(10)"
   ]
  },
  {
   "cell_type": "code",
   "execution_count": 60,
   "id": "84c61e4f",
   "metadata": {},
   "outputs": [
    {
     "data": {
      "text/plain": [
       "array([0, 1, 2, 3, 4, 5, 6, 7, 8, 9])"
      ]
     },
     "execution_count": 60,
     "metadata": {},
     "output_type": "execute_result"
    }
   ],
   "source": [
    "b"
   ]
  },
  {
   "cell_type": "code",
   "execution_count": 61,
   "id": "6262b1e9",
   "metadata": {},
   "outputs": [
    {
     "data": {
      "text/plain": [
       "(10,)"
      ]
     },
     "execution_count": 61,
     "metadata": {},
     "output_type": "execute_result"
    }
   ],
   "source": [
    "b.shape"
   ]
  },
  {
   "cell_type": "code",
   "execution_count": 62,
   "id": "a391b727",
   "metadata": {},
   "outputs": [
    {
     "data": {
      "text/plain": [
       "1"
      ]
     },
     "execution_count": 62,
     "metadata": {},
     "output_type": "execute_result"
    }
   ],
   "source": [
    "b.ndim"
   ]
  },
  {
   "cell_type": "code",
   "execution_count": 63,
   "id": "64e3c764",
   "metadata": {},
   "outputs": [
    {
     "data": {
      "text/plain": [
       "array([1, 2, 3, 4])"
      ]
     },
     "execution_count": 63,
     "metadata": {},
     "output_type": "execute_result"
    }
   ],
   "source": [
    "b[[1, 2, 3, 4],]"
   ]
  },
  {
   "cell_type": "code",
   "execution_count": 64,
   "id": "8d3daefc",
   "metadata": {},
   "outputs": [
    {
     "data": {
      "text/plain": [
       "array([[ 0,  1,  2,  3],\n",
       "       [ 4,  5,  6,  7],\n",
       "       [ 8,  9, 10, 11]])"
      ]
     },
     "execution_count": 64,
     "metadata": {},
     "output_type": "execute_result"
    }
   ],
   "source": [
    "a"
   ]
  },
  {
   "cell_type": "code",
   "execution_count": 65,
   "id": "77ebdf0e",
   "metadata": {},
   "outputs": [
    {
     "data": {
      "text/plain": [
       "array([5, 6])"
      ]
     },
     "execution_count": 65,
     "metadata": {},
     "output_type": "execute_result"
    }
   ],
   "source": [
    "a[[1], [1,2]]"
   ]
  },
  {
   "cell_type": "code",
   "execution_count": 66,
   "id": "3ced5d90",
   "metadata": {},
   "outputs": [
    {
     "data": {
      "text/plain": [
       "array([[5, 6]])"
      ]
     },
     "execution_count": 66,
     "metadata": {},
     "output_type": "execute_result"
    }
   ],
   "source": [
    "a[[1], 1:3]"
   ]
  },
  {
   "cell_type": "code",
   "execution_count": 67,
   "id": "df5caa97",
   "metadata": {},
   "outputs": [
    {
     "data": {
      "text/plain": [
       "array([0, 1, 2, 3, 4, 5])"
      ]
     },
     "execution_count": 67,
     "metadata": {},
     "output_type": "execute_result"
    }
   ],
   "source": [
    "a[a < 6]"
   ]
  },
  {
   "cell_type": "code",
   "execution_count": 68,
   "id": "c03d9bc6",
   "metadata": {},
   "outputs": [
    {
     "data": {
      "text/plain": [
       "array([[ True,  True,  True,  True],\n",
       "       [ True,  True, False, False],\n",
       "       [False, False, False, False]])"
      ]
     },
     "execution_count": 68,
     "metadata": {},
     "output_type": "execute_result"
    }
   ],
   "source": [
    "a < 6"
   ]
  },
  {
   "cell_type": "code",
   "execution_count": 69,
   "id": "d2568f14",
   "metadata": {},
   "outputs": [
    {
     "data": {
      "text/plain": [
       "array([0, 1, 2, 3, 4, 5])"
      ]
     },
     "execution_count": 69,
     "metadata": {},
     "output_type": "execute_result"
    }
   ],
   "source": [
    "a[a < 6]"
   ]
  },
  {
   "cell_type": "code",
   "execution_count": 70,
   "id": "3f15aaa5",
   "metadata": {},
   "outputs": [
    {
     "data": {
      "text/plain": [
       "(6,)"
      ]
     },
     "execution_count": 70,
     "metadata": {},
     "output_type": "execute_result"
    }
   ],
   "source": [
    "a[a < 6].shape"
   ]
  },
  {
   "cell_type": "code",
   "execution_count": null,
   "id": "ca259e64",
   "metadata": {},
   "outputs": [],
   "source": []
  },
  {
   "cell_type": "code",
   "execution_count": 71,
   "id": "20b4b4f4",
   "metadata": {},
   "outputs": [
    {
     "data": {
      "text/plain": [
       "array([[ 0,  1,  2,  3],\n",
       "       [ 4,  5,  6,  7],\n",
       "       [ 8,  9, 10, 11]])"
      ]
     },
     "execution_count": 71,
     "metadata": {},
     "output_type": "execute_result"
    }
   ],
   "source": [
    "a"
   ]
  },
  {
   "cell_type": "code",
   "execution_count": 76,
   "id": "5bcfbfb5",
   "metadata": {},
   "outputs": [
    {
     "data": {
      "text/plain": [
       "array([[ 0,  1,  2,  3],\n",
       "       [ 4,  5,  6,  7],\n",
       "       [ 8,  9, 10, 11]])"
      ]
     },
     "execution_count": 76,
     "metadata": {},
     "output_type": "execute_result"
    }
   ],
   "source": [
    "a"
   ]
  },
  {
   "cell_type": "markdown",
   "id": "15b8255f",
   "metadata": {},
   "source": [
    "## Assignment "
   ]
  },
  {
   "cell_type": "markdown",
   "id": "7703c172",
   "metadata": {},
   "source": [
    "## Q1. Rotate the array "
   ]
  },
  {
   "cell_type": "code",
   "execution_count": 81,
   "id": "1bea2a29",
   "metadata": {},
   "outputs": [],
   "source": [
    "a = np.arange(1, 10).reshape(3,3)"
   ]
  },
  {
   "cell_type": "code",
   "execution_count": 82,
   "id": "676d110d",
   "metadata": {},
   "outputs": [
    {
     "data": {
      "text/plain": [
       "array([[1, 2, 3],\n",
       "       [4, 5, 6],\n",
       "       [7, 8, 9]])"
      ]
     },
     "execution_count": 82,
     "metadata": {},
     "output_type": "execute_result"
    }
   ],
   "source": [
    "a"
   ]
  },
  {
   "cell_type": "code",
   "execution_count": 86,
   "id": "436e4b88",
   "metadata": {},
   "outputs": [],
   "source": [
    "b = a.transpose()"
   ]
  },
  {
   "cell_type": "code",
   "execution_count": 87,
   "id": "2096e74c",
   "metadata": {},
   "outputs": [
    {
     "data": {
      "text/plain": [
       "array([[1, 4, 7],\n",
       "       [2, 5, 8],\n",
       "       [3, 6, 9]])"
      ]
     },
     "execution_count": 87,
     "metadata": {},
     "output_type": "execute_result"
    }
   ],
   "source": [
    "b"
   ]
  },
  {
   "cell_type": "code",
   "execution_count": 90,
   "id": "96fca0ed",
   "metadata": {},
   "outputs": [
    {
     "data": {
      "text/plain": [
       "2"
      ]
     },
     "execution_count": 90,
     "metadata": {},
     "output_type": "execute_result"
    }
   ],
   "source": [
    "b.ndim"
   ]
  },
  {
   "cell_type": "code",
   "execution_count": 93,
   "id": "7ad9a584",
   "metadata": {},
   "outputs": [
    {
     "data": {
      "text/plain": [
       "array([5, 9])"
      ]
     },
     "execution_count": 93,
     "metadata": {},
     "output_type": "execute_result"
    }
   ],
   "source": [
    "b[[1, 2], [1, 2]]"
   ]
  },
  {
   "cell_type": "code",
   "execution_count": 100,
   "id": "c529bfa1",
   "metadata": {},
   "outputs": [
    {
     "data": {
      "text/plain": [
       "array([[1, 4, 7],\n",
       "       [2, 5, 8],\n",
       "       [3, 6, 9]])"
      ]
     },
     "execution_count": 100,
     "metadata": {},
     "output_type": "execute_result"
    }
   ],
   "source": [
    "b"
   ]
  },
  {
   "cell_type": "code",
   "execution_count": 107,
   "id": "4a0fccf5",
   "metadata": {},
   "outputs": [
    {
     "ename": "SyntaxError",
     "evalue": "invalid syntax (1477648529.py, line 1)",
     "output_type": "error",
     "traceback": [
      "\u001b[0;36m  Cell \u001b[0;32mIn[107], line 1\u001b[0;36m\u001b[0m\n\u001b[0;31m    b[::, [::-1]]\u001b[0m\n\u001b[0m           ^\u001b[0m\n\u001b[0;31mSyntaxError\u001b[0m\u001b[0;31m:\u001b[0m invalid syntax\n"
     ]
    }
   ],
   "source": [
    "b[::, [::-1]]"
   ]
  },
  {
   "cell_type": "code",
   "execution_count": 104,
   "id": "ec697494",
   "metadata": {},
   "outputs": [],
   "source": [
    "a = [1, 2,3, 4]"
   ]
  },
  {
   "cell_type": "code",
   "execution_count": 105,
   "id": "4c8242f5",
   "metadata": {},
   "outputs": [
    {
     "data": {
      "text/plain": [
       "[4, 3, 2, 1]"
      ]
     },
     "execution_count": 105,
     "metadata": {},
     "output_type": "execute_result"
    }
   ],
   "source": [
    "a[::-1]"
   ]
  },
  {
   "cell_type": "code",
   "execution_count": 108,
   "id": "962d3e2e",
   "metadata": {},
   "outputs": [
    {
     "name": "stdout",
     "output_type": "stream",
     "text": [
      "[5 4 3 2 1]\n"
     ]
    }
   ],
   "source": [
    "# Create a 1D numpy array\n",
    "arr = np.array([1, 2, 3, 4, 5])\n",
    "\n",
    "# Reverse the array using slicing\n",
    "reversed_arr = arr[::-1]\n",
    "\n",
    "# Print the reversed array\n",
    "print(reversed_arr)"
   ]
  },
  {
   "cell_type": "code",
   "execution_count": 109,
   "id": "56dac441",
   "metadata": {},
   "outputs": [],
   "source": [
    "import numpy as np\n",
    "def rotate_img(mat):\n",
    "    \n",
    "    a = mat.transpose() \n",
    "    result = a[:, [2, 1, 0]]\n",
    "    \n",
    "    return result"
   ]
  },
  {
   "cell_type": "code",
   "execution_count": 113,
   "id": "efd33aa4",
   "metadata": {},
   "outputs": [
    {
     "data": {
      "text/plain": [
       "array([[1, 2, 3],\n",
       "       [4, 5, 6],\n",
       "       [7, 8, 9]])"
      ]
     },
     "execution_count": 113,
     "metadata": {},
     "output_type": "execute_result"
    }
   ],
   "source": [
    "a = np.arange(1, 10).reshape(3,3)\n",
    "a"
   ]
  },
  {
   "cell_type": "code",
   "execution_count": 114,
   "id": "abdf5378",
   "metadata": {},
   "outputs": [
    {
     "data": {
      "text/plain": [
       "array([[7, 4, 1],\n",
       "       [8, 5, 2],\n",
       "       [9, 6, 3]])"
      ]
     },
     "execution_count": 114,
     "metadata": {},
     "output_type": "execute_result"
    }
   ],
   "source": [
    "rotate_img(a)"
   ]
  },
  {
   "cell_type": "code",
   "execution_count": 118,
   "id": "839b31ca",
   "metadata": {},
   "outputs": [],
   "source": [
    "import numpy as np\n",
    "def rotate_img(mat):\n",
    "    \n",
    "    a = mat.transpose() \n",
    "    result = np.flip(a, axis=1)\n",
    "    \n",
    "    return result"
   ]
  },
  {
   "cell_type": "code",
   "execution_count": 119,
   "id": "09c6d6b5",
   "metadata": {},
   "outputs": [
    {
     "data": {
      "text/plain": [
       "array([[1, 2, 3],\n",
       "       [4, 5, 6],\n",
       "       [7, 8, 9]])"
      ]
     },
     "execution_count": 119,
     "metadata": {},
     "output_type": "execute_result"
    }
   ],
   "source": [
    "a = np.arange(1, 10).reshape(3,3)\n",
    "a"
   ]
  },
  {
   "cell_type": "code",
   "execution_count": 120,
   "id": "8727be87",
   "metadata": {},
   "outputs": [
    {
     "data": {
      "text/plain": [
       "array([[7, 4, 1],\n",
       "       [8, 5, 2],\n",
       "       [9, 6, 3]])"
      ]
     },
     "execution_count": 120,
     "metadata": {},
     "output_type": "execute_result"
    }
   ],
   "source": [
    "rotate_img(a)"
   ]
  },
  {
   "cell_type": "markdown",
   "id": "54a545e9",
   "metadata": {},
   "source": [
    "### Q2. Sort the birds"
   ]
  },
  {
   "cell_type": "code",
   "execution_count": 121,
   "id": "c1a2d59f",
   "metadata": {},
   "outputs": [],
   "source": [
    "birds = ['spoonbills',  'plovers',  'plovers',  'plovers',  'plovers',  'Cranes',  'plovers',  'plovers',  'Cranes',  'spoonbills']\n",
    "age = [5.5, 6.0, 3.5, 1.5, 3.0, 4.0, 3.5, 2.0, 5.5, 6.0]"
   ]
  },
  {
   "cell_type": "code",
   "execution_count": 122,
   "id": "1fe081a5",
   "metadata": {},
   "outputs": [
    {
     "data": {
      "text/plain": [
       "['spoonbills',\n",
       " 'plovers',\n",
       " 'plovers',\n",
       " 'plovers',\n",
       " 'plovers',\n",
       " 'Cranes',\n",
       " 'plovers',\n",
       " 'plovers',\n",
       " 'Cranes',\n",
       " 'spoonbills']"
      ]
     },
     "execution_count": 122,
     "metadata": {},
     "output_type": "execute_result"
    }
   ],
   "source": [
    "birds"
   ]
  },
  {
   "cell_type": "code",
   "execution_count": 123,
   "id": "ab7087de",
   "metadata": {},
   "outputs": [
    {
     "data": {
      "text/plain": [
       "[5.5, 6.0, 3.5, 1.5, 3.0, 4.0, 3.5, 2.0, 5.5, 6.0]"
      ]
     },
     "execution_count": 123,
     "metadata": {},
     "output_type": "execute_result"
    }
   ],
   "source": [
    "age"
   ]
  },
  {
   "cell_type": "code",
   "execution_count": null,
   "id": "71385d28",
   "metadata": {},
   "outputs": [],
   "source": [
    "sorted_age_index = np.sort"
   ]
  },
  {
   "cell_type": "code",
   "execution_count": 124,
   "id": "baa989ab",
   "metadata": {},
   "outputs": [
    {
     "data": {
      "text/plain": [
       "array([1.5, 2. , 3. , 3.5, 3.5, 4. , 5.5, 5.5, 6. , 6. ])"
      ]
     },
     "execution_count": 124,
     "metadata": {},
     "output_type": "execute_result"
    }
   ],
   "source": [
    "np.sort(age)"
   ]
  },
  {
   "cell_type": "code",
   "execution_count": 125,
   "id": "dd3838cb",
   "metadata": {},
   "outputs": [
    {
     "data": {
      "text/plain": [
       "array([3, 7, 4, 2, 6, 5, 0, 8, 1, 9])"
      ]
     },
     "execution_count": 125,
     "metadata": {},
     "output_type": "execute_result"
    }
   ],
   "source": [
    "np.argsort(age)"
   ]
  },
  {
   "cell_type": "code",
   "execution_count": 141,
   "id": "88560a53",
   "metadata": {},
   "outputs": [],
   "source": [
    "import numpy as np\n",
    "\n",
    "def sort_birds(birds, age):\n",
    "    '''\n",
    "    INPUT: birds, age -> 1D numpy array\n",
    "    \n",
    "    OUTPUT: result -> sorted bird 1D array\n",
    "    '''\n",
    "    \n",
    "    ## STEP 1 : Get the sorted index of age.\n",
    "    \n",
    "    sorted_age_index = np.argsort(age)\n",
    "    \n",
    "    ## STEP 2: Use the index from previous step to get sorted birds\n",
    "    birds = np.array(birds, dtype='U10')\n",
    "    result = birds[sorted_age_index]\n",
    "    \n",
    "    return result"
   ]
  },
  {
   "cell_type": "code",
   "execution_count": 142,
   "id": "23df4968",
   "metadata": {},
   "outputs": [
    {
     "data": {
      "text/plain": [
       "array(['plovers', 'plovers', 'plovers', 'plovers', 'plovers', 'Cranes',\n",
       "       'spoonbills', 'Cranes', 'plovers', 'spoonbills'], dtype='<U10')"
      ]
     },
     "execution_count": 142,
     "metadata": {},
     "output_type": "execute_result"
    }
   ],
   "source": [
    "birds = ['spoonbills',  'plovers',  'plovers',  'plovers',  'plovers',  'Cranes',  'plovers',  'plovers',  'Cranes',  'spoonbills']\n",
    "age = [5.5, 6.0, 3.5, 1.5, 3.0, 4.0, 3.5, 2.0, 5.5, 6.0]\n",
    "\n",
    "sort_birds(birds, age)"
   ]
  },
  {
   "cell_type": "code",
   "execution_count": 129,
   "id": "e4d61067",
   "metadata": {},
   "outputs": [],
   "source": [
    "sorted_age_index = np.argsort(age)"
   ]
  },
  {
   "cell_type": "code",
   "execution_count": 130,
   "id": "22cac70c",
   "metadata": {},
   "outputs": [
    {
     "data": {
      "text/plain": [
       "array([3, 7, 4, 2, 6, 5, 0, 8, 1, 9])"
      ]
     },
     "execution_count": 130,
     "metadata": {},
     "output_type": "execute_result"
    }
   ],
   "source": [
    "sorted_age_index"
   ]
  },
  {
   "cell_type": "code",
   "execution_count": 139,
   "id": "10f8ec46",
   "metadata": {},
   "outputs": [],
   "source": [
    "birds = np.array(birds, dtype='U10')"
   ]
  },
  {
   "cell_type": "code",
   "execution_count": 140,
   "id": "079a3dbb",
   "metadata": {},
   "outputs": [
    {
     "data": {
      "text/plain": [
       "dtype('<U10')"
      ]
     },
     "execution_count": 140,
     "metadata": {},
     "output_type": "execute_result"
    }
   ],
   "source": [
    "birds.dtype"
   ]
  },
  {
   "cell_type": "markdown",
   "id": "5009b5c1",
   "metadata": {},
   "source": [
    "### Q3. 2D indexing and slicing"
   ]
  },
  {
   "cell_type": "code",
   "execution_count": 181,
   "id": "051bc125",
   "metadata": {},
   "outputs": [],
   "source": [
    "import numpy as np\n",
    "def indexing(arr):\n",
    "    '''\n",
    "    INPUT: \n",
    "    arr -> 2D array of shape M x N\n",
    "    \n",
    "    OUTPUT: \n",
    "    result -> 1D array\n",
    "    '''\n",
    "    \n",
    "    result = None\n",
    "    \n",
    "    \n",
    "    ## Step 1: Get the odd rows from the array\n",
    "    \n",
    "    odd_row_array = arr[0::2]\n",
    "    \n",
    "    \n",
    "    ## Step 2: Convert it to 1D array\n",
    "    \n",
    "    result = odd_row_array.reshape(odd_row_array.size,)\n",
    "    \n",
    "    \n",
    "    ## YOUR CODE ENDS HERE. MAY THE FORCE BE WITH YOU.\n",
    "    \n",
    "    return result"
   ]
  },
  {
   "cell_type": "code",
   "execution_count": 182,
   "id": "34e0faf7",
   "metadata": {},
   "outputs": [],
   "source": [
    "a = np.arange(1, 10).reshape(3,3)"
   ]
  },
  {
   "cell_type": "code",
   "execution_count": 183,
   "id": "86f68f09",
   "metadata": {},
   "outputs": [
    {
     "data": {
      "text/plain": [
       "array([1, 2, 3, 7, 8, 9])"
      ]
     },
     "execution_count": 183,
     "metadata": {},
     "output_type": "execute_result"
    }
   ],
   "source": [
    "indexing(a)"
   ]
  },
  {
   "cell_type": "markdown",
   "id": "40d0f371",
   "metadata": {},
   "source": [
    "### Q4. Numpy on 2D"
   ]
  },
  {
   "cell_type": "code",
   "execution_count": 189,
   "id": "44552d48",
   "metadata": {},
   "outputs": [],
   "source": [
    "import numpy as np\n",
    "x = np.arange(12).reshape(3,4)"
   ]
  },
  {
   "cell_type": "code",
   "execution_count": 190,
   "id": "e27b6e0b",
   "metadata": {},
   "outputs": [
    {
     "data": {
      "text/plain": [
       "array([[ 0,  1,  2,  3],\n",
       "       [ 4,  5,  6,  7],\n",
       "       [ 8,  9, 10, 11]])"
      ]
     },
     "execution_count": 190,
     "metadata": {},
     "output_type": "execute_result"
    }
   ],
   "source": [
    "x"
   ]
  },
  {
   "cell_type": "code",
   "execution_count": 196,
   "id": "3da3b7f8",
   "metadata": {},
   "outputs": [
    {
     "data": {
      "text/plain": [
       "array([ 3,  7, 11])"
      ]
     },
     "execution_count": 196,
     "metadata": {},
     "output_type": "execute_result"
    }
   ],
   "source": [
    "x.max(axis=1)"
   ]
  },
  {
   "cell_type": "code",
   "execution_count": null,
   "id": "42cdd6ab",
   "metadata": {},
   "outputs": [],
   "source": []
  },
  {
   "cell_type": "code",
   "execution_count": null,
   "id": "6d4fe06f",
   "metadata": {},
   "outputs": [],
   "source": []
  },
  {
   "cell_type": "code",
   "execution_count": 197,
   "id": "0c1c868c",
   "metadata": {},
   "outputs": [
    {
     "data": {
      "text/plain": [
       "66"
      ]
     },
     "execution_count": 197,
     "metadata": {},
     "output_type": "execute_result"
    }
   ],
   "source": [
    "x.sum()"
   ]
  },
  {
   "cell_type": "code",
   "execution_count": 198,
   "id": "57e9910c",
   "metadata": {},
   "outputs": [
    {
     "data": {
      "text/plain": [
       "array([[ 0,  4,  8],\n",
       "       [ 1,  5,  9],\n",
       "       [ 2,  6, 10],\n",
       "       [ 3,  7, 11]])"
      ]
     },
     "execution_count": 198,
     "metadata": {},
     "output_type": "execute_result"
    }
   ],
   "source": [
    "x.T"
   ]
  },
  {
   "cell_type": "code",
   "execution_count": 193,
   "id": "2d88ef63",
   "metadata": {},
   "outputs": [
    {
     "data": {
      "text/plain": [
       "array([ 3,  7, 11])"
      ]
     },
     "execution_count": 193,
     "metadata": {},
     "output_type": "execute_result"
    }
   ],
   "source": [
    "x.T.max(axis=0)"
   ]
  },
  {
   "cell_type": "code",
   "execution_count": 194,
   "id": "364b9303",
   "metadata": {},
   "outputs": [
    {
     "data": {
      "text/plain": [
       "[0, 4, 8]"
      ]
     },
     "execution_count": 194,
     "metadata": {},
     "output_type": "execute_result"
    }
   ],
   "source": [
    "[i.min() for i in x] "
   ]
  },
  {
   "cell_type": "markdown",
   "id": "6e781e94",
   "metadata": {},
   "source": [
    "#### Q5. What about code?"
   ]
  },
  {
   "cell_type": "code",
   "execution_count": 199,
   "id": "05851aad",
   "metadata": {},
   "outputs": [
    {
     "ename": "ValueError",
     "evalue": "The truth value of an array with more than one element is ambiguous. Use a.any() or a.all()",
     "output_type": "error",
     "traceback": [
      "\u001b[0;31m---------------------------------------------------------------------------\u001b[0m",
      "\u001b[0;31mValueError\u001b[0m                                Traceback (most recent call last)",
      "Cell \u001b[0;32mIn[199], line 3\u001b[0m\n\u001b[1;32m      1\u001b[0m \u001b[38;5;28;01mimport\u001b[39;00m \u001b[38;5;21;01mnumpy\u001b[39;00m \u001b[38;5;28;01mas\u001b[39;00m \u001b[38;5;21;01mnp\u001b[39;00m\n\u001b[1;32m      2\u001b[0m arr \u001b[38;5;241m=\u001b[39m \u001b[38;5;241m2\u001b[39m\u001b[38;5;241m*\u001b[39mnp\u001b[38;5;241m.\u001b[39marange(\u001b[38;5;241m0\u001b[39m,\u001b[38;5;241m2\u001b[39m,\u001b[38;5;241m0.5\u001b[39m)\n\u001b[0;32m----> 3\u001b[0m \u001b[38;5;28;01mif\u001b[39;00m arr \u001b[38;5;241m<\u001b[39m\u001b[38;5;241m=\u001b[39m \u001b[38;5;241m0.6\u001b[39m:\n\u001b[1;32m      4\u001b[0m     \u001b[38;5;28mprint\u001b[39m (\u001b[38;5;124m\"\u001b[39m\u001b[38;5;124mcondition satisfies\u001b[39m\u001b[38;5;124m\"\u001b[39m)\n\u001b[1;32m      5\u001b[0m \u001b[38;5;28;01melse\u001b[39;00m:\n",
      "\u001b[0;31mValueError\u001b[0m: The truth value of an array with more than one element is ambiguous. Use a.any() or a.all()"
     ]
    }
   ],
   "source": [
    "import numpy as np\n",
    "arr = 2*np.arange(0,2,0.5)\n",
    "if arr <= 0.6:\n",
    "    print (\"condition satisfies\")\n",
    "else:\n",
    "    print (\"condition doesn't satisfy\") "
   ]
  },
  {
   "cell_type": "code",
   "execution_count": 200,
   "id": "d1e60349",
   "metadata": {},
   "outputs": [
    {
     "data": {
      "text/plain": [
       "array([0., 1., 2., 3.])"
      ]
     },
     "execution_count": 200,
     "metadata": {},
     "output_type": "execute_result"
    }
   ],
   "source": [
    "arr"
   ]
  },
  {
   "cell_type": "code",
   "execution_count": 225,
   "id": "9e3e3443",
   "metadata": {},
   "outputs": [
    {
     "name": "stdout",
     "output_type": "stream",
     "text": [
      "[0. 1. 2. 3.]\n",
      "condition doesn't satisfy\n"
     ]
    }
   ],
   "source": [
    "import numpy as np\n",
    "arr = 2*np.arange(0,2,0.5)\n",
    "print(arr)\n",
    "\n",
    "if arr.any() <= 0.6:\n",
    "    print (\"condition satisfies\")\n",
    "else:\n",
    "    print (\"condition doesn't satisfy\") "
   ]
  },
  {
   "cell_type": "code",
   "execution_count": 235,
   "id": "c77f69a4",
   "metadata": {},
   "outputs": [
    {
     "name": "stdout",
     "output_type": "stream",
     "text": [
      "[0. 1. 2. 3.]\n",
      "condition doesn't satisfy\n"
     ]
    }
   ],
   "source": [
    "import numpy as np\n",
    "arr = 2*np.arange(0,2,0.5)\n",
    "print(arr)\n",
    "\n",
    "if arr.all() <= -1:\n",
    "    print (\"condition satisfies\")\n",
    "else:\n",
    "    print (\"condition doesn't satisfy\") "
   ]
  },
  {
   "cell_type": "code",
   "execution_count": 209,
   "id": "20b36158",
   "metadata": {},
   "outputs": [
    {
     "data": {
      "text/plain": [
       "False"
      ]
     },
     "execution_count": 209,
     "metadata": {},
     "output_type": "execute_result"
    }
   ],
   "source": [
    "arr.all()"
   ]
  },
  {
   "cell_type": "code",
   "execution_count": 224,
   "id": "30c8c05c",
   "metadata": {},
   "outputs": [
    {
     "name": "stdout",
     "output_type": "stream",
     "text": [
      "[  0   2   4   6   8  10  12  14  16  18  20  22  24  26  28  30  32  34\n",
      "  36  38  40  42  44  46  48  50  52  54  56  58  60  62  64  66  68  70\n",
      "  72  74  76  78  80  82  84  86  88  90  92  94  96  98 100 102 104 106\n",
      " 108 110 112 114 116 118 120 122 124 126 128 130 132 134 136 138 140 142\n",
      " 144 146 148 150 152 154 156 158 160 162 164 166 168 170 172 174 176 178\n",
      " 180 182 184 186 188 190 192 194 196 198]\n",
      "condition satisfies\n"
     ]
    }
   ],
   "source": [
    "import numpy as np\n",
    "arr = 2*np.arange(0, 100)\n",
    "print(arr)\n",
    "\n",
    "if arr.all() <= 100:\n",
    "    print (\"condition satisfies\")\n",
    "else:\n",
    "    print (\"condition doesn't satisfy\")"
   ]
  },
  {
   "cell_type": "code",
   "execution_count": 229,
   "id": "5893a3ce",
   "metadata": {},
   "outputs": [
    {
     "data": {
      "text/plain": [
       "True"
      ]
     },
     "execution_count": 229,
     "metadata": {},
     "output_type": "execute_result"
    }
   ],
   "source": [
    "bool(-9)"
   ]
  },
  {
   "cell_type": "code",
   "execution_count": 238,
   "id": "c39a2d63",
   "metadata": {},
   "outputs": [
    {
     "name": "stdout",
     "output_type": "stream",
     "text": [
      "condition satisfies\n"
     ]
    }
   ],
   "source": [
    "import numpy as np\n",
    "\n",
    "arr = 2*np.arange(0,2,0.5)\n",
    "\n",
    "if np.any(arr <= 0.6):\n",
    "    print(\"condition satisfies\")\n",
    "else:\n",
    "    print(\"condition doesn't satisfy\")\n"
   ]
  },
  {
   "cell_type": "markdown",
   "id": "afabcec0",
   "metadata": {},
   "source": [
    "#### Q7. Oldest bird"
   ]
  },
  {
   "cell_type": "code",
   "execution_count": 242,
   "id": "1313b9a1",
   "metadata": {},
   "outputs": [],
   "source": [
    "import numpy as np\n",
    "def oldest_bird(birds, age):\n",
    "    ''' birds[i] consist of the names of the type of ith bird\n",
    "        age[i] consist of the age of ith bird'''\n",
    "        \n",
    "    ## STEP 1: Get the index of maximum age element\n",
    "    \n",
    "    max_age_index = np.argmax(age)\n",
    "    \n",
    "    \n",
    "    ## STEP 2: Get the bird with maxium age using the above index\n",
    "    \n",
    "    old_bird = birds[max_age_index]\n",
    "    \n",
    "    \n",
    "    return old_bird"
   ]
  },
  {
   "cell_type": "code",
   "execution_count": 243,
   "id": "8f50c2be",
   "metadata": {},
   "outputs": [],
   "source": [
    "birds = ['sparrow', 'peacock', 'parrot', 'owl', 'peacock', 'macaw', 'macaw', 'parrot', 'macaw', 'peacock']  \n",
    "age = [6, 1, 6, 5, 7, 6, 0, 9, 0, 7]"
   ]
  },
  {
   "cell_type": "code",
   "execution_count": 244,
   "id": "ca59aae1",
   "metadata": {},
   "outputs": [
    {
     "data": {
      "text/plain": [
       "'parrot'"
      ]
     },
     "execution_count": 244,
     "metadata": {},
     "output_type": "execute_result"
    }
   ],
   "source": [
    "oldest_bird(birds, age)"
   ]
  },
  {
   "cell_type": "code",
   "execution_count": 240,
   "id": "ef10af74",
   "metadata": {},
   "outputs": [
    {
     "data": {
      "text/plain": [
       "7"
      ]
     },
     "execution_count": 240,
     "metadata": {},
     "output_type": "execute_result"
    }
   ],
   "source": [
    "np.argmax(age)"
   ]
  },
  {
   "cell_type": "code",
   "execution_count": 241,
   "id": "b3357953",
   "metadata": {},
   "outputs": [
    {
     "data": {
      "text/plain": [
       "'parrot'"
      ]
     },
     "execution_count": 241,
     "metadata": {},
     "output_type": "execute_result"
    }
   ],
   "source": [
    "birds[np.argmax(age)]"
   ]
  },
  {
   "cell_type": "markdown",
   "id": "dd790a40",
   "metadata": {},
   "source": [
    "### Q8. Matrix elements"
   ]
  },
  {
   "cell_type": "code",
   "execution_count": 259,
   "id": "704ba562",
   "metadata": {},
   "outputs": [],
   "source": [
    "x = np.ones((5,5))\n"
   ]
  },
  {
   "cell_type": "code",
   "execution_count": 261,
   "id": "3cb2c252",
   "metadata": {},
   "outputs": [
    {
     "data": {
      "text/plain": [
       "array([[1., 1., 1., 1., 1.],\n",
       "       [1., 1., 1., 1., 1.],\n",
       "       [1., 1., 1., 1., 1.],\n",
       "       [1., 1., 1., 1., 1.],\n",
       "       [1., 1., 1., 1., 1.]])"
      ]
     },
     "execution_count": 261,
     "metadata": {},
     "output_type": "execute_result"
    }
   ],
   "source": [
    "x"
   ]
  },
  {
   "cell_type": "code",
   "execution_count": null,
   "id": "53785eb0",
   "metadata": {},
   "outputs": [],
   "source": []
  },
  {
   "cell_type": "code",
   "execution_count": 262,
   "id": "7986d61f",
   "metadata": {},
   "outputs": [],
   "source": [
    "x[1:-1,1:-1] = 0"
   ]
  },
  {
   "cell_type": "code",
   "execution_count": null,
   "id": "12b9bf80",
   "metadata": {},
   "outputs": [],
   "source": []
  },
  {
   "cell_type": "code",
   "execution_count": 263,
   "id": "c0669981",
   "metadata": {},
   "outputs": [
    {
     "data": {
      "text/plain": [
       "array([[1., 1., 1., 1., 1.],\n",
       "       [1., 0., 0., 0., 1.],\n",
       "       [1., 0., 0., 0., 1.],\n",
       "       [1., 0., 0., 0., 1.],\n",
       "       [1., 1., 1., 1., 1.]])"
      ]
     },
     "execution_count": 263,
     "metadata": {},
     "output_type": "execute_result"
    }
   ],
   "source": [
    "x"
   ]
  },
  {
   "cell_type": "code",
   "execution_count": null,
   "id": "2afcf09b",
   "metadata": {},
   "outputs": [],
   "source": []
  },
  {
   "cell_type": "code",
   "execution_count": 251,
   "id": "277c042a",
   "metadata": {},
   "outputs": [
    {
     "data": {
      "text/plain": [
       "array([[1., 1., 1.]])"
      ]
     },
     "execution_count": 251,
     "metadata": {},
     "output_type": "execute_result"
    }
   ],
   "source": [
    "x[0::-1, 1:-1]"
   ]
  },
  {
   "cell_type": "code",
   "execution_count": 255,
   "id": "e7098431",
   "metadata": {},
   "outputs": [],
   "source": [
    "a = np.arange(1, 17).reshape(4,4)"
   ]
  },
  {
   "cell_type": "code",
   "execution_count": null,
   "id": "2853fa7d",
   "metadata": {},
   "outputs": [],
   "source": []
  },
  {
   "cell_type": "code",
   "execution_count": 256,
   "id": "6c9d9148",
   "metadata": {},
   "outputs": [
    {
     "data": {
      "text/plain": [
       "array([[ 1,  2,  3,  4],\n",
       "       [ 5,  6,  7,  8],\n",
       "       [ 9, 10, 11, 12],\n",
       "       [13, 14, 15, 16]])"
      ]
     },
     "execution_count": 256,
     "metadata": {},
     "output_type": "execute_result"
    }
   ],
   "source": [
    "a"
   ]
  },
  {
   "cell_type": "code",
   "execution_count": 258,
   "id": "1b7a7aa1",
   "metadata": {},
   "outputs": [
    {
     "data": {
      "text/plain": [
       "array([[ 6,  7],\n",
       "       [14, 15]])"
      ]
     },
     "execution_count": 258,
     "metadata": {},
     "output_type": "execute_result"
    }
   ],
   "source": [
    "a[1::2, 1:3:]"
   ]
  },
  {
   "cell_type": "markdown",
   "id": "931f0c8f",
   "metadata": {},
   "source": [
    "### Q9. Extract sub array\n"
   ]
  },
  {
   "cell_type": "code",
   "execution_count": null,
   "id": "a7cbc2a5",
   "metadata": {},
   "outputs": [],
   "source": [
    "import numpy as np\n",
    "\n",
    "\n",
    "def extract_subarray(arr):\n",
    "    '''\n",
    "    INPUT: arr -> 2D array\n",
    "   \n",
    "    OUPUT: result -> 2D array\n",
    "    '''\n",
    "   \n",
    "    ### STEP1: Get the rows (2nd  to 4th row)\n",
    "   \n",
    "    row_array = arr[1:4]\n",
    "   \n",
    "   \n",
    "    #### STEP 2: Get the last 3 cols from the row array\n",
    "   \n",
    "    cols_array = row_array[:,-3::1]\n",
    "   \n",
    "   \n",
    "    #### STEP3: Reverse the rows in cols array\n",
    "     \n",
    "    return cols_array[-1::-1]"
   ]
  },
  {
   "cell_type": "code",
   "execution_count": 264,
   "id": "f2293a1f",
   "metadata": {},
   "outputs": [],
   "source": [
    "arr = np.arange(20).reshape(5, 4)"
   ]
  },
  {
   "cell_type": "code",
   "execution_count": 265,
   "id": "a65ed6e6",
   "metadata": {},
   "outputs": [
    {
     "data": {
      "text/plain": [
       "array([[ 0,  1,  2,  3],\n",
       "       [ 4,  5,  6,  7],\n",
       "       [ 8,  9, 10, 11],\n",
       "       [12, 13, 14, 15],\n",
       "       [16, 17, 18, 19]])"
      ]
     },
     "execution_count": 265,
     "metadata": {},
     "output_type": "execute_result"
    }
   ],
   "source": [
    "arr"
   ]
  },
  {
   "cell_type": "code",
   "execution_count": 301,
   "id": "76f28440",
   "metadata": {},
   "outputs": [],
   "source": [
    " row_array = arr[1:4]"
   ]
  },
  {
   "cell_type": "code",
   "execution_count": 302,
   "id": "7104ed53",
   "metadata": {},
   "outputs": [
    {
     "data": {
      "text/plain": [
       "array([[ 4,  5,  6,  7],\n",
       "       [ 8,  9, 10, 11],\n",
       "       [12, 13, 14, 15]])"
      ]
     },
     "execution_count": 302,
     "metadata": {},
     "output_type": "execute_result"
    }
   ],
   "source": [
    "arr[1:4]"
   ]
  },
  {
   "cell_type": "code",
   "execution_count": 303,
   "id": "08e096a1",
   "metadata": {},
   "outputs": [
    {
     "data": {
      "text/plain": [
       "array([[ 4,  5,  6,  7],\n",
       "       [ 8,  9, 10, 11],\n",
       "       [12, 13, 14, 15]])"
      ]
     },
     "execution_count": 303,
     "metadata": {},
     "output_type": "execute_result"
    }
   ],
   "source": [
    " row_array "
   ]
  },
  {
   "cell_type": "code",
   "execution_count": 305,
   "id": "e450c8a0",
   "metadata": {},
   "outputs": [],
   "source": [
    "cols_array = row_array[:,-3::1]"
   ]
  },
  {
   "cell_type": "code",
   "execution_count": 307,
   "id": "85ef37c1",
   "metadata": {},
   "outputs": [
    {
     "data": {
      "text/plain": [
       "array([[13, 14, 15],\n",
       "       [ 9, 10, 11],\n",
       "       [ 5,  6,  7]])"
      ]
     },
     "execution_count": 307,
     "metadata": {},
     "output_type": "execute_result"
    }
   ],
   "source": [
    "cols_array[-1::-1]"
   ]
  },
  {
   "cell_type": "code",
   "execution_count": 309,
   "id": "22b2eda8",
   "metadata": {},
   "outputs": [
    {
     "data": {
      "text/plain": [
       "array([[ 5,  6,  7],\n",
       "       [ 9, 10, 11],\n",
       "       [13, 14, 15]])"
      ]
     },
     "execution_count": 309,
     "metadata": {},
     "output_type": "execute_result"
    }
   ],
   "source": [
    "cols_array"
   ]
  },
  {
   "cell_type": "code",
   "execution_count": 308,
   "id": "9418c047",
   "metadata": {},
   "outputs": [
    {
     "data": {
      "text/plain": [
       "array([[13, 14, 15],\n",
       "       [ 9, 10, 11],\n",
       "       [ 5,  6,  7]])"
      ]
     },
     "execution_count": 308,
     "metadata": {},
     "output_type": "execute_result"
    }
   ],
   "source": [
    "cols_array[-1::-1]"
   ]
  },
  {
   "cell_type": "markdown",
   "id": "c669f49f",
   "metadata": {},
   "source": [
    "### Q10. k square"
   ]
  },
  {
   "cell_type": "code",
   "execution_count": 310,
   "id": "852ba41f",
   "metadata": {},
   "outputs": [],
   "source": [
    "import numpy as np\n",
    "\n",
    "def k_array(row_count, k):\n",
    "    '''\n",
    "    INPUT : row_count, k \n",
    "    \n",
    "    OUTPUT: result -> 2D array\n",
    "    '''\n",
    "    \n",
    "    result = np.eye(row_count, dtype=int) * k\n",
    "    \n",
    "    ## CODE STARTS HERE\n",
    "    \n",
    "    \n",
    "    ## CODE ENDS HERE\n",
    "    \n",
    "    return result"
   ]
  },
  {
   "cell_type": "code",
   "execution_count": 311,
   "id": "ad32c119",
   "metadata": {},
   "outputs": [],
   "source": [
    "row_count = 3\n",
    "k = 300"
   ]
  },
  {
   "cell_type": "code",
   "execution_count": 313,
   "id": "89eb4310",
   "metadata": {},
   "outputs": [
    {
     "data": {
      "text/plain": [
       "array([[300,   0,   0],\n",
       "       [  0, 300,   0],\n",
       "       [  0,   0, 300]])"
      ]
     },
     "execution_count": 313,
     "metadata": {},
     "output_type": "execute_result"
    }
   ],
   "source": [
    "np.eye(row_count, dtype=int) * k"
   ]
  },
  {
   "cell_type": "markdown",
   "id": "9853638b",
   "metadata": {},
   "source": [
    "### Q6. Sorting in matrix"
   ]
  },
  {
   "cell_type": "code",
   "execution_count": 338,
   "id": "c3ccf2ab",
   "metadata": {},
   "outputs": [],
   "source": [
    "a = [ [5, 3, 9], [2, 1, 4],[7, 6, 8]]"
   ]
  },
  {
   "cell_type": "code",
   "execution_count": 339,
   "id": "5feb117b",
   "metadata": {},
   "outputs": [],
   "source": [
    "list2d = np.array(a)"
   ]
  },
  {
   "cell_type": "code",
   "execution_count": 340,
   "id": "5797c61e",
   "metadata": {},
   "outputs": [
    {
     "data": {
      "text/plain": [
       "array([[5, 3, 9],\n",
       "       [2, 1, 4],\n",
       "       [7, 6, 8]])"
      ]
     },
     "execution_count": 340,
     "metadata": {},
     "output_type": "execute_result"
    }
   ],
   "source": [
    "list2d"
   ]
  },
  {
   "cell_type": "code",
   "execution_count": 332,
   "id": "83718ba5",
   "metadata": {},
   "outputs": [],
   "source": [
    "j = 1"
   ]
  },
  {
   "cell_type": "code",
   "execution_count": 341,
   "id": "37b0f9a7",
   "metadata": {},
   "outputs": [],
   "source": [
    "sort_index = np.argsort(list2d[::, j])"
   ]
  },
  {
   "cell_type": "code",
   "execution_count": 342,
   "id": "93e48b8e",
   "metadata": {},
   "outputs": [
    {
     "data": {
      "text/plain": [
       "array([1, 0, 2])"
      ]
     },
     "execution_count": 342,
     "metadata": {},
     "output_type": "execute_result"
    }
   ],
   "source": [
    "sort_index"
   ]
  },
  {
   "cell_type": "code",
   "execution_count": 343,
   "id": "45fd64d9",
   "metadata": {},
   "outputs": [
    {
     "data": {
      "text/plain": [
       "array([[2, 1, 4],\n",
       "       [5, 3, 9],\n",
       "       [7, 6, 8]])"
      ]
     },
     "execution_count": 343,
     "metadata": {},
     "output_type": "execute_result"
    }
   ],
   "source": [
    "list2d[sort_index]"
   ]
  },
  {
   "cell_type": "markdown",
   "id": "20e10134",
   "metadata": {},
   "source": [
    "#### Q11. ORDER ORDER ORDER\n"
   ]
  },
  {
   "cell_type": "code",
   "execution_count": 2,
   "id": "f9c50f82",
   "metadata": {},
   "outputs": [],
   "source": [
    "a = [[0, 1, 2], \n",
    " [3, 4, 5], \n",
    " [6, 7, 8]]\n",
    "\n",
    "a = np.array(a)"
   ]
  },
  {
   "cell_type": "code",
   "execution_count": 3,
   "id": "f530b4ff",
   "metadata": {},
   "outputs": [
    {
     "data": {
      "text/plain": [
       "array([[0, 1, 2],\n",
       "       [3, 4, 5],\n",
       "       [6, 7, 8]])"
      ]
     },
     "execution_count": 3,
     "metadata": {},
     "output_type": "execute_result"
    }
   ],
   "source": [
    "a"
   ]
  },
  {
   "cell_type": "code",
   "execution_count": 4,
   "id": "64043cc3",
   "metadata": {},
   "outputs": [
    {
     "data": {
      "text/plain": [
       "array([[2, 1, 0],\n",
       "       [5, 4, 3],\n",
       "       [8, 7, 6]])"
      ]
     },
     "execution_count": 4,
     "metadata": {},
     "output_type": "execute_result"
    }
   ],
   "source": [
    "a[::, ::-1]"
   ]
  },
  {
   "cell_type": "code",
   "execution_count": 5,
   "id": "37250312",
   "metadata": {},
   "outputs": [],
   "source": [
    "def reverse_column(arr):\n",
    "    '''\n",
    "    INPUT: arr -> 2D array \n",
    "    \n",
    "    OUTPUT rev_arr -> 2D array\n",
    "    '''\n",
    "    \n",
    "    rev_arr = arr[::, ::-1]\n",
    "    \n",
    "    return rev_arr"
   ]
  },
  {
   "cell_type": "code",
   "execution_count": 6,
   "id": "b099c5a9",
   "metadata": {},
   "outputs": [
    {
     "data": {
      "text/plain": [
       "array([[2, 1, 0],\n",
       "       [5, 4, 3],\n",
       "       [8, 7, 6]])"
      ]
     },
     "execution_count": 6,
     "metadata": {},
     "output_type": "execute_result"
    }
   ],
   "source": [
    "reverse_column(a)"
   ]
  },
  {
   "cell_type": "markdown",
   "id": "b740ddc7",
   "metadata": {},
   "source": [
    "#### Q12. Get the data"
   ]
  },
  {
   "cell_type": "code",
   "execution_count": 30,
   "id": "22e8614b",
   "metadata": {},
   "outputs": [],
   "source": [
    "def new_mat(mat):\n",
    "    '''mat -> A 2d numpy array\n",
    "       Output -> A 2d numpy array is expected to be returned'''\n",
    "    \n",
    "    ## STEP 1: Filter out even elements from array (Masking)\n",
    "    new_matrix = (mat%2 == 0)\n",
    "    \n",
    "    ## STEP 2: Get the length of new matrix (Recall that Masking will return 1D array)\n",
    "    new_len = mat[new_matrix].shape[0]\n",
    "    \n",
    "    ## STEP 3: Find the shape using new_len\n",
    "    \n",
    "    new_shape = int(np.sqrt(new_len))\n",
    "    \n",
    "    ## STEP 4: Reshape the new matrix\n",
    "    \n",
    "    new_matrix = mat[new_matrix].reshape(new_shape, new_shape)\n",
    "    \n",
    "    \n",
    "    return new_matrix"
   ]
  },
  {
   "cell_type": "code",
   "execution_count": 31,
   "id": "54b35887",
   "metadata": {},
   "outputs": [],
   "source": [
    "a = [[ 7, 4, 8, 5, 1],  \n",
    " [ 8, 0, 11, 3, 5],  \n",
    " [ 9, 6, 3, 5, 0],  \n",
    " [ 1, 5, 7, 3, 2],  \n",
    " [ 4, 7, 2, 9, 1]]\n",
    "\n",
    "a = np.array(a)"
   ]
  },
  {
   "cell_type": "code",
   "execution_count": 32,
   "id": "cfa7a283",
   "metadata": {},
   "outputs": [
    {
     "data": {
      "text/plain": [
       "array([[4, 8, 8],\n",
       "       [0, 6, 0],\n",
       "       [2, 4, 2]])"
      ]
     },
     "execution_count": 32,
     "metadata": {},
     "output_type": "execute_result"
    }
   ],
   "source": [
    "new_mat(a)"
   ]
  },
  {
   "cell_type": "code",
   "execution_count": 8,
   "id": "925ee801",
   "metadata": {},
   "outputs": [
    {
     "data": {
      "text/plain": [
       "array([[ 7,  4,  8,  5,  1],\n",
       "       [ 8,  0, 11,  3,  5],\n",
       "       [ 9,  6,  3,  5,  0],\n",
       "       [ 1,  5,  7,  3,  2],\n",
       "       [ 4,  7,  2,  9,  1]])"
      ]
     },
     "execution_count": 8,
     "metadata": {},
     "output_type": "execute_result"
    }
   ],
   "source": [
    "a"
   ]
  },
  {
   "cell_type": "code",
   "execution_count": 20,
   "id": "922fe9e1",
   "metadata": {},
   "outputs": [],
   "source": [
    "new_matrix = (a%2 == 0)"
   ]
  },
  {
   "cell_type": "code",
   "execution_count": 21,
   "id": "021beec0",
   "metadata": {},
   "outputs": [
    {
     "data": {
      "text/plain": [
       "array([[False,  True,  True, False, False],\n",
       "       [ True,  True, False, False, False],\n",
       "       [False,  True, False, False,  True],\n",
       "       [False, False, False, False,  True],\n",
       "       [ True, False,  True, False, False]])"
      ]
     },
     "execution_count": 21,
     "metadata": {},
     "output_type": "execute_result"
    }
   ],
   "source": [
    "new_matrix"
   ]
  },
  {
   "cell_type": "code",
   "execution_count": 19,
   "id": "56db266e",
   "metadata": {},
   "outputs": [
    {
     "data": {
      "text/plain": [
       "9"
      ]
     },
     "execution_count": 19,
     "metadata": {},
     "output_type": "execute_result"
    }
   ],
   "source": [
    "a[new_matrix].shape[0]"
   ]
  },
  {
   "cell_type": "code",
   "execution_count": 25,
   "id": "7b471167",
   "metadata": {},
   "outputs": [
    {
     "data": {
      "text/plain": [
       "3"
      ]
     },
     "execution_count": 25,
     "metadata": {},
     "output_type": "execute_result"
    }
   ],
   "source": [
    "int(np.sqrt(9))"
   ]
  },
  {
   "cell_type": "code",
   "execution_count": null,
   "id": "fbbc0c28",
   "metadata": {},
   "outputs": [],
   "source": [
    "new_matrix = "
   ]
  },
  {
   "cell_type": "code",
   "execution_count": 29,
   "id": "7edeb433",
   "metadata": {},
   "outputs": [
    {
     "data": {
      "text/plain": [
       "array([[4, 8, 8],\n",
       "       [0, 6, 0],\n",
       "       [2, 4, 2]])"
      ]
     },
     "execution_count": 29,
     "metadata": {},
     "output_type": "execute_result"
    }
   ],
   "source": [
    "a[new_matrix].reshape(3, 3)"
   ]
  },
  {
   "cell_type": "code",
   "execution_count": null,
   "id": "997d9940",
   "metadata": {},
   "outputs": [],
   "source": []
  },
  {
   "cell_type": "code",
   "execution_count": null,
   "id": "6f193a5e",
   "metadata": {},
   "outputs": [],
   "source": []
  },
  {
   "cell_type": "code",
   "execution_count": null,
   "id": "293a1034",
   "metadata": {},
   "outputs": [],
   "source": []
  },
  {
   "cell_type": "code",
   "execution_count": null,
   "id": "e75c1761",
   "metadata": {},
   "outputs": [],
   "source": []
  },
  {
   "cell_type": "code",
   "execution_count": null,
   "id": "7e380705",
   "metadata": {},
   "outputs": [],
   "source": []
  },
  {
   "cell_type": "code",
   "execution_count": null,
   "id": "8ad47d53",
   "metadata": {},
   "outputs": [],
   "source": []
  },
  {
   "cell_type": "code",
   "execution_count": null,
   "id": "383cf9de",
   "metadata": {},
   "outputs": [],
   "source": []
  },
  {
   "cell_type": "code",
   "execution_count": null,
   "id": "92b7dee1",
   "metadata": {},
   "outputs": [],
   "source": []
  },
  {
   "cell_type": "code",
   "execution_count": null,
   "id": "c4e1a603",
   "metadata": {},
   "outputs": [],
   "source": []
  },
  {
   "cell_type": "code",
   "execution_count": null,
   "id": "6917cec2",
   "metadata": {},
   "outputs": [],
   "source": []
  },
  {
   "cell_type": "code",
   "execution_count": null,
   "id": "b4d2d495",
   "metadata": {},
   "outputs": [],
   "source": []
  },
  {
   "cell_type": "code",
   "execution_count": null,
   "id": "7d5dae58",
   "metadata": {},
   "outputs": [],
   "source": []
  }
 ],
 "metadata": {
  "kernelspec": {
   "display_name": "Python 3 (ipykernel)",
   "language": "python",
   "name": "python3"
  },
  "language_info": {
   "codemirror_mode": {
    "name": "ipython",
    "version": 3
   },
   "file_extension": ".py",
   "mimetype": "text/x-python",
   "name": "python",
   "nbconvert_exporter": "python",
   "pygments_lexer": "ipython3",
   "version": "3.10.9"
  }
 },
 "nbformat": 4,
 "nbformat_minor": 5
}
