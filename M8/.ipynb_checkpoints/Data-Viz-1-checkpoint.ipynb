{
 "cells": [
  {
   "cell_type": "code",
   "execution_count": 1,
   "id": "fa2ba159",
   "metadata": {},
   "outputs": [
    {
     "name": "stdout",
     "output_type": "stream",
     "text": [
      "Welcome to Data_Visualisation_1\n"
     ]
    }
   ],
   "source": [
    "print(\"Welcome to Data_Visualisation_1\")"
   ]
  },
  {
   "cell_type": "code",
   "execution_count": 2,
   "id": "5639fd62",
   "metadata": {},
   "outputs": [],
   "source": [
    "import numpy as np, pandas as pd"
   ]
  },
  {
   "cell_type": "code",
   "execution_count": 3,
   "id": "f6fa0bd0",
   "metadata": {},
   "outputs": [
    {
     "data": {
      "text/html": [
       "<div>\n",
       "<style scoped>\n",
       "    .dataframe tbody tr th:only-of-type {\n",
       "        vertical-align: middle;\n",
       "    }\n",
       "\n",
       "    .dataframe tbody tr th {\n",
       "        vertical-align: top;\n",
       "    }\n",
       "\n",
       "    .dataframe thead th {\n",
       "        text-align: right;\n",
       "    }\n",
       "</style>\n",
       "<table border=\"1\" class=\"dataframe\">\n",
       "  <thead>\n",
       "    <tr style=\"text-align: right;\">\n",
       "      <th></th>\n",
       "      <th>Rank</th>\n",
       "      <th>Name</th>\n",
       "      <th>Platform</th>\n",
       "      <th>Year</th>\n",
       "      <th>Genre</th>\n",
       "      <th>Publisher</th>\n",
       "      <th>NA_Sales</th>\n",
       "      <th>EU_Sales</th>\n",
       "      <th>JP_Sales</th>\n",
       "      <th>Other_Sales</th>\n",
       "      <th>Global_Sales</th>\n",
       "    </tr>\n",
       "  </thead>\n",
       "  <tbody>\n",
       "    <tr>\n",
       "      <th>0</th>\n",
       "      <td>2061</td>\n",
       "      <td>1942</td>\n",
       "      <td>NES</td>\n",
       "      <td>1985.0</td>\n",
       "      <td>Shooter</td>\n",
       "      <td>Capcom</td>\n",
       "      <td>4.569217</td>\n",
       "      <td>3.033887</td>\n",
       "      <td>3.439352</td>\n",
       "      <td>1.991671</td>\n",
       "      <td>12.802935</td>\n",
       "    </tr>\n",
       "    <tr>\n",
       "      <th>1</th>\n",
       "      <td>9137</td>\n",
       "      <td>¡Shin Chan Flipa en colores!</td>\n",
       "      <td>DS</td>\n",
       "      <td>2007.0</td>\n",
       "      <td>Platform</td>\n",
       "      <td>505 Games</td>\n",
       "      <td>2.076955</td>\n",
       "      <td>1.493442</td>\n",
       "      <td>3.033887</td>\n",
       "      <td>0.394830</td>\n",
       "      <td>7.034163</td>\n",
       "    </tr>\n",
       "    <tr>\n",
       "      <th>2</th>\n",
       "      <td>14279</td>\n",
       "      <td>.hack: Sekai no Mukou ni + Versus</td>\n",
       "      <td>PS3</td>\n",
       "      <td>2012.0</td>\n",
       "      <td>Action</td>\n",
       "      <td>Namco Bandai Games</td>\n",
       "      <td>1.145709</td>\n",
       "      <td>1.762339</td>\n",
       "      <td>1.493442</td>\n",
       "      <td>0.408693</td>\n",
       "      <td>4.982552</td>\n",
       "    </tr>\n",
       "    <tr>\n",
       "      <th>3</th>\n",
       "      <td>8359</td>\n",
       "      <td>.hack//G.U. Vol.1//Rebirth</td>\n",
       "      <td>PS2</td>\n",
       "      <td>2006.0</td>\n",
       "      <td>Role-Playing</td>\n",
       "      <td>Namco Bandai Games</td>\n",
       "      <td>2.031986</td>\n",
       "      <td>1.389856</td>\n",
       "      <td>3.228043</td>\n",
       "      <td>0.394830</td>\n",
       "      <td>7.226880</td>\n",
       "    </tr>\n",
       "    <tr>\n",
       "      <th>4</th>\n",
       "      <td>7109</td>\n",
       "      <td>.hack//G.U. Vol.2//Reminisce</td>\n",
       "      <td>PS2</td>\n",
       "      <td>2006.0</td>\n",
       "      <td>Role-Playing</td>\n",
       "      <td>Namco Bandai Games</td>\n",
       "      <td>2.792725</td>\n",
       "      <td>2.592054</td>\n",
       "      <td>1.440483</td>\n",
       "      <td>1.493442</td>\n",
       "      <td>8.363113</td>\n",
       "    </tr>\n",
       "    <tr>\n",
       "      <th>...</th>\n",
       "      <td>...</td>\n",
       "      <td>...</td>\n",
       "      <td>...</td>\n",
       "      <td>...</td>\n",
       "      <td>...</td>\n",
       "      <td>...</td>\n",
       "      <td>...</td>\n",
       "      <td>...</td>\n",
       "      <td>...</td>\n",
       "      <td>...</td>\n",
       "      <td>...</td>\n",
       "    </tr>\n",
       "    <tr>\n",
       "      <th>16647</th>\n",
       "      <td>7925</td>\n",
       "      <td>Zumba Fitness Rush</td>\n",
       "      <td>X360</td>\n",
       "      <td>2012.0</td>\n",
       "      <td>Sports</td>\n",
       "      <td>505 Games</td>\n",
       "      <td>4.409308</td>\n",
       "      <td>3.167419</td>\n",
       "      <td>4.168474</td>\n",
       "      <td>1.087977</td>\n",
       "      <td>13.053204</td>\n",
       "    </tr>\n",
       "    <tr>\n",
       "      <th>16648</th>\n",
       "      <td>6279</td>\n",
       "      <td>Zumba Fitness: World Party</td>\n",
       "      <td>Wii</td>\n",
       "      <td>2013.0</td>\n",
       "      <td>Misc</td>\n",
       "      <td>Majesco Entertainment</td>\n",
       "      <td>3.033887</td>\n",
       "      <td>2.792725</td>\n",
       "      <td>1.596852</td>\n",
       "      <td>1.493442</td>\n",
       "      <td>8.878837</td>\n",
       "    </tr>\n",
       "    <tr>\n",
       "      <th>16649</th>\n",
       "      <td>6977</td>\n",
       "      <td>Zumba Fitness: World Party</td>\n",
       "      <td>XOne</td>\n",
       "      <td>2013.0</td>\n",
       "      <td>Misc</td>\n",
       "      <td>Majesco Entertainment</td>\n",
       "      <td>3.228043</td>\n",
       "      <td>2.004268</td>\n",
       "      <td>1.833151</td>\n",
       "      <td>1.087977</td>\n",
       "      <td>7.954274</td>\n",
       "    </tr>\n",
       "    <tr>\n",
       "      <th>16650</th>\n",
       "      <td>15422</td>\n",
       "      <td>Zwei!!</td>\n",
       "      <td>PSP</td>\n",
       "      <td>2008.0</td>\n",
       "      <td>Role-Playing</td>\n",
       "      <td>Falcom Corporation</td>\n",
       "      <td>1.087977</td>\n",
       "      <td>0.592445</td>\n",
       "      <td>1.087977</td>\n",
       "      <td>0.394830</td>\n",
       "      <td>3.509168</td>\n",
       "    </tr>\n",
       "    <tr>\n",
       "      <th>16651</th>\n",
       "      <td>12919</td>\n",
       "      <td>Zyuden Sentai Kyoryuger: Game de Gaburincho!!</td>\n",
       "      <td>3DS</td>\n",
       "      <td>2013.0</td>\n",
       "      <td>Action</td>\n",
       "      <td>Namco Bandai Games</td>\n",
       "      <td>1.081046</td>\n",
       "      <td>1.714664</td>\n",
       "      <td>2.004268</td>\n",
       "      <td>0.394830</td>\n",
       "      <td>5.132196</td>\n",
       "    </tr>\n",
       "  </tbody>\n",
       "</table>\n",
       "<p>16652 rows × 11 columns</p>\n",
       "</div>"
      ],
      "text/plain": [
       "        Rank                                           Name Platform    Year  \\\n",
       "0       2061                                           1942      NES  1985.0   \n",
       "1       9137                   ¡Shin Chan Flipa en colores!       DS  2007.0   \n",
       "2      14279              .hack: Sekai no Mukou ni + Versus      PS3  2012.0   \n",
       "3       8359                     .hack//G.U. Vol.1//Rebirth      PS2  2006.0   \n",
       "4       7109                   .hack//G.U. Vol.2//Reminisce      PS2  2006.0   \n",
       "...      ...                                            ...      ...     ...   \n",
       "16647   7925                             Zumba Fitness Rush     X360  2012.0   \n",
       "16648   6279                     Zumba Fitness: World Party      Wii  2013.0   \n",
       "16649   6977                     Zumba Fitness: World Party     XOne  2013.0   \n",
       "16650  15422                                         Zwei!!      PSP  2008.0   \n",
       "16651  12919  Zyuden Sentai Kyoryuger: Game de Gaburincho!!      3DS  2013.0   \n",
       "\n",
       "              Genre              Publisher  NA_Sales  EU_Sales  JP_Sales  \\\n",
       "0           Shooter                 Capcom  4.569217  3.033887  3.439352   \n",
       "1          Platform              505 Games  2.076955  1.493442  3.033887   \n",
       "2            Action     Namco Bandai Games  1.145709  1.762339  1.493442   \n",
       "3      Role-Playing     Namco Bandai Games  2.031986  1.389856  3.228043   \n",
       "4      Role-Playing     Namco Bandai Games  2.792725  2.592054  1.440483   \n",
       "...             ...                    ...       ...       ...       ...   \n",
       "16647        Sports              505 Games  4.409308  3.167419  4.168474   \n",
       "16648          Misc  Majesco Entertainment  3.033887  2.792725  1.596852   \n",
       "16649          Misc  Majesco Entertainment  3.228043  2.004268  1.833151   \n",
       "16650  Role-Playing     Falcom Corporation  1.087977  0.592445  1.087977   \n",
       "16651        Action     Namco Bandai Games  1.081046  1.714664  2.004268   \n",
       "\n",
       "       Other_Sales  Global_Sales  \n",
       "0         1.991671     12.802935  \n",
       "1         0.394830      7.034163  \n",
       "2         0.408693      4.982552  \n",
       "3         0.394830      7.226880  \n",
       "4         1.493442      8.363113  \n",
       "...            ...           ...  \n",
       "16647     1.087977     13.053204  \n",
       "16648     1.493442      8.878837  \n",
       "16649     1.087977      7.954274  \n",
       "16650     0.394830      3.509168  \n",
       "16651     0.394830      5.132196  \n",
       "\n",
       "[16652 rows x 11 columns]"
      ]
     },
     "execution_count": 3,
     "metadata": {},
     "output_type": "execute_result"
    }
   ],
   "source": [
    "df=pd.read_csv(\"final_vg.csv\")\n",
    "df"
   ]
  },
  {
   "cell_type": "code",
   "execution_count": 6,
   "id": "9365909a",
   "metadata": {},
   "outputs": [],
   "source": [
    "# !pip install seaborn / matplotlib"
   ]
  },
  {
   "cell_type": "code",
   "execution_count": 7,
   "id": "39222224",
   "metadata": {},
   "outputs": [],
   "source": [
    "import matplotlib.pyplot as plt\n",
    "import seaborn as sns"
   ]
  },
  {
   "cell_type": "code",
   "execution_count": 13,
   "id": "9e12a2bf",
   "metadata": {},
   "outputs": [
    {
     "data": {
      "text/plain": [
       "[<matplotlib.lines.Line2D at 0x7fde689bcbb0>]"
      ]
     },
     "execution_count": 13,
     "metadata": {},
     "output_type": "execute_result"
    },
    {
     "data": {
      "image/png": "[encoded data removed]",
      "text/plain": [
       "<Figure size 432x288 with 1 Axes>"
      ]
     },
     "metadata": {
      "needs_background": "light"
     },
     "output_type": "display_data"
    }
   ],
   "source": [
    "x_val = [0,1,2]\n",
    "y_val = [3,5,9]\n",
    "\n",
    "plt.plot(x_val, y_val)"
   ]
  },
  {
   "cell_type": "code",
   "execution_count": 9,
   "id": "01c7e4ee",
   "metadata": {},
   "outputs": [
    {
     "data": {
      "text/plain": [
       "array([1, 2, 3])"
      ]
     },
     "execution_count": 9,
     "metadata": {},
     "output_type": "execute_result"
    }
   ],
   "source": [
    "a = np.array([1,2,3])\n",
    "a"
   ]
  },
  {
   "cell_type": "code",
   "execution_count": 10,
   "id": "81ef775a",
   "metadata": {},
   "outputs": [
    {
     "name": "stdout",
     "output_type": "stream",
     "text": [
      "[1 2 3]\n"
     ]
    }
   ],
   "source": [
    "print(a)"
   ]
  },
  {
   "cell_type": "code",
   "execution_count": 14,
   "id": "09ff415c",
   "metadata": {},
   "outputs": [
    {
     "data": {
      "image/png": "[encoded data removed]",
      "text/plain": [
       "<Figure size 432x288 with 1 Axes>"
      ]
     },
     "metadata": {
      "needs_background": "light"
     },
     "output_type": "display_data"
    }
   ],
   "source": [
    "x_val = [0,1,2]\n",
    "y_val = [3,5,9]\n",
    "\n",
    "plt.plot(x_val, y_val)\n",
    "\n",
    "plt.show()"
   ]
  },
  {
   "cell_type": "code",
   "execution_count": 19,
   "id": "71badd1b",
   "metadata": {},
   "outputs": [
    {
     "data": {
      "text/plain": [
       "Action          3316\n",
       "Sports          2400\n",
       "Misc            1739\n",
       "Role-Playing    1488\n",
       "Shooter         1310\n",
       "Adventure       1286\n",
       "Racing          1249\n",
       "Platform         886\n",
       "Simulation       867\n",
       "Fighting         848\n",
       "Strategy         681\n",
       "Puzzle           582\n",
       "Name: Genre, dtype: int64"
      ]
     },
     "execution_count": 19,
     "metadata": {},
     "output_type": "execute_result"
    }
   ],
   "source": [
    "cat_counts = df[\"Genre\"].value_counts()\n",
    "cat_counts"
   ]
  },
  {
   "cell_type": "code",
   "execution_count": 21,
   "id": "2b3216a3",
   "metadata": {},
   "outputs": [
    {
     "data": {
      "text/plain": [
       "Index(['Action', 'Sports', 'Misc', 'Role-Playing', 'Shooter', 'Adventure',\n",
       "       'Racing', 'Platform', 'Simulation', 'Fighting', 'Strategy', 'Puzzle'],\n",
       "      dtype='object')"
      ]
     },
     "execution_count": 21,
     "metadata": {},
     "output_type": "execute_result"
    }
   ],
   "source": [
    "cat_counts.index"
   ]
  },
  {
   "cell_type": "code",
   "execution_count": 22,
   "id": "db490b23",
   "metadata": {},
   "outputs": [],
   "source": [
    "x = cat_counts.index\n",
    "y = cat_counts"
   ]
  },
  {
   "cell_type": "code",
   "execution_count": 23,
   "id": "a7ff0791",
   "metadata": {},
   "outputs": [
    {
     "data": {
      "text/plain": [
       "<BarContainer object of 12 artists>"
      ]
     },
     "execution_count": 23,
     "metadata": {},
     "output_type": "execute_result"
    },
    {
     "data": {
      "image/png": "[encoded data removed]",
      "text/plain": [
       "<Figure size 432x288 with 1 Axes>"
      ]
     },
     "metadata": {
      "needs_background": "light"
     },
     "output_type": "display_data"
    }
   ],
   "source": [
    "plt.bar(x, y)"
   ]
  },
  {
   "cell_type": "code",
   "execution_count": 26,
   "id": "188c608f",
   "metadata": {},
   "outputs": [
    {
     "data": {
      "image/png": "[encoded data removed]",
      "text/plain": [
       "<Figure size 1080x360 with 1 Axes>"
      ]
     },
     "metadata": {
      "needs_background": "light"
     },
     "output_type": "display_data"
    }
   ],
   "source": [
    "plt.figure(figsize=(15, 5))\n",
    "x=cat_counts.index\n",
    "y=cat_counts\n",
    "plt.bar(x,y)\n",
    "plt.show()\n"
   ]
  },
  {
   "cell_type": "code",
   "execution_count": 29,
   "id": "b04e37ca",
   "metadata": {},
   "outputs": [
    {
     "data": {
      "image/png": "[encoded data removed]",
      "text/plain": [
       "<Figure size 1080x360 with 1 Axes>"
      ]
     },
     "metadata": {
      "needs_background": "light"
     },
     "output_type": "display_data"
    }
   ],
   "source": [
    "plt.figure(figsize=(15, 5))\n",
    "x=cat_counts.index\n",
    "y=cat_counts\n",
    "plt.bar(x,y)\n",
    "plt.xticks(rotation = 90, fontsize = 12)\n",
    "plt.show()\n"
   ]
  },
  {
   "cell_type": "code",
   "execution_count": 30,
   "id": "38f69d95",
   "metadata": {},
   "outputs": [
    {
     "data": {
      "image/png": "[encoded data removed]",
      "text/plain": [
       "<Figure size 1080x360 with 1 Axes>"
      ]
     },
     "metadata": {
      "needs_background": "light"
     },
     "output_type": "display_data"
    }
   ],
   "source": [
    "plt.figure(figsize=(15, 5))\n",
    "x=cat_counts.index\n",
    "y=cat_counts\n",
    "plt.barh(x,y)\n",
    "plt.xticks(rotation = 90, fontsize = 12)\n",
    "plt.show()\n"
   ]
  },
  {
   "cell_type": "code",
   "execution_count": 31,
   "id": "d3817b5a",
   "metadata": {},
   "outputs": [
    {
     "data": {
      "image/png": "[encoded data removed]",
      "text/plain": [
       "<Figure size 1080x360 with 1 Axes>"
      ]
     },
     "metadata": {
      "needs_background": "light"
     },
     "output_type": "display_data"
    }
   ],
   "source": [
    "plt.figure(figsize=(15, 5))\n",
    "x=cat_counts.index\n",
    "y=cat_counts\n",
    "plt.bar(x,y)\n",
    "plt.xticks(rotation = 45, fontsize = 12)\n",
    "plt.show()\n"
   ]
  },
  {
   "cell_type": "code",
   "execution_count": 40,
   "id": "c238d402",
   "metadata": {},
   "outputs": [
    {
     "data": {
      "image/png": "[encoded data removed]",
      "text/plain": [
       "<Figure size 720x360 with 1 Axes>"
      ]
     },
     "metadata": {
      "needs_background": "light"
     },
     "output_type": "display_data"
    }
   ],
   "source": [
    "plt.figure(figsize=(10, 5))\n",
    "x=cat_counts.index\n",
    "y=cat_counts\n",
    "a = plt.bar(x,y)\n",
    "plt.xticks(rotation = 45, fontsize = 12)\n",
    "a = plt.show()\n"
   ]
  },
  {
   "cell_type": "code",
   "execution_count": 37,
   "id": "e1f7a7d3",
   "metadata": {},
   "outputs": [],
   "source": []
  },
  {
   "cell_type": "code",
   "execution_count": null,
   "id": "daa9f698",
   "metadata": {},
   "outputs": [],
   "source": []
  },
  {
   "cell_type": "code",
   "execution_count": null,
   "id": "290fb81d",
   "metadata": {},
   "outputs": [],
   "source": []
  },
  {
   "cell_type": "code",
   "execution_count": null,
   "id": "8e241292",
   "metadata": {},
   "outputs": [],
   "source": []
  },
  {
   "cell_type": "code",
   "execution_count": null,
   "id": "46b98f98",
   "metadata": {},
   "outputs": [],
   "source": []
  },
  {
   "cell_type": "code",
   "execution_count": null,
   "id": "c34b9513",
   "metadata": {},
   "outputs": [],
   "source": []
  },
  {
   "cell_type": "code",
   "execution_count": null,
   "id": "5df5ddb0",
   "metadata": {},
   "outputs": [],
   "source": []
  },
  {
   "cell_type": "code",
   "execution_count": null,
   "id": "39668c4a",
   "metadata": {},
   "outputs": [],
   "source": []
  },
  {
   "cell_type": "code",
   "execution_count": null,
   "id": "fba828f4",
   "metadata": {},
   "outputs": [],
   "source": []
  },
  {
   "cell_type": "code",
   "execution_count": null,
   "id": "d3e783ac",
   "metadata": {},
   "outputs": [],
   "source": []
  },
  {
   "cell_type": "code",
   "execution_count": null,
   "id": "2c2a32d9",
   "metadata": {},
   "outputs": [],
   "source": []
  },
  {
   "cell_type": "code",
   "execution_count": null,
   "id": "f2b14903",
   "metadata": {},
   "outputs": [],
   "source": []
  },
  {
   "cell_type": "code",
   "execution_count": null,
   "id": "39aca579",
   "metadata": {},
   "outputs": [],
   "source": []
  },
  {
   "cell_type": "code",
   "execution_count": null,
   "id": "db759cb2",
   "metadata": {},
   "outputs": [],
   "source": []
  },
  {
   "cell_type": "code",
   "execution_count": null,
   "id": "57f87c91",
   "metadata": {},
   "outputs": [],
   "source": []
  },
  {
   "cell_type": "code",
   "execution_count": null,
   "id": "6f268065",
   "metadata": {},
   "outputs": [],
   "source": []
  },
  {
   "cell_type": "code",
   "execution_count": null,
   "id": "b14d7d8e",
   "metadata": {},
   "outputs": [],
   "source": []
  },
  {
   "cell_type": "code",
   "execution_count": null,
   "id": "e9b0e6e6",
   "metadata": {},
   "outputs": [],
   "source": []
  },
  {
   "cell_type": "code",
   "execution_count": null,
   "id": "9857cb78",
   "metadata": {},
   "outputs": [],
   "source": []
  },
  {
   "cell_type": "code",
   "execution_count": null,
   "id": "9339ebd6",
   "metadata": {},
   "outputs": [],
   "source": []
  },
  {
   "cell_type": "code",
   "execution_count": null,
   "id": "367772b8",
   "metadata": {},
   "outputs": [],
   "source": []
  },
  {
   "cell_type": "code",
   "execution_count": null,
   "id": "6a6739fb",
   "metadata": {},
   "outputs": [],
   "source": []
  },
  {
   "cell_type": "code",
   "execution_count": null,
   "id": "bead8e5a",
   "metadata": {},
   "outputs": [],
   "source": []
  },
  {
   "cell_type": "code",
   "execution_count": null,
   "id": "c8d04cfc",
   "metadata": {},
   "outputs": [],
   "source": []
  },
  {
   "cell_type": "code",
   "execution_count": null,
   "id": "11af0039",
   "metadata": {},
   "outputs": [],
   "source": []
  },
  {
   "cell_type": "code",
   "execution_count": null,
   "id": "de6825c3",
   "metadata": {},
   "outputs": [],
   "source": []
  },
  {
   "cell_type": "code",
   "execution_count": null,
   "id": "daa08a1d",
   "metadata": {},
   "outputs": [],
   "source": []
  },
  {
   "cell_type": "code",
   "execution_count": null,
   "id": "e314dd50",
   "metadata": {},
   "outputs": [],
   "source": []
  },
  {
   "cell_type": "code",
   "execution_count": null,
   "id": "daa2d0fe",
   "metadata": {},
   "outputs": [],
   "source": []
  },
  {
   "cell_type": "code",
   "execution_count": null,
   "id": "92bdad8a",
   "metadata": {},
   "outputs": [],
   "source": []
  },
  {
   "cell_type": "code",
   "execution_count": null,
   "id": "6bf82cc7",
   "metadata": {},
   "outputs": [],
   "source": []
  },
  {
   "cell_type": "code",
   "execution_count": null,
   "id": "a0a33c7e",
   "metadata": {},
   "outputs": [],
   "source": []
  },
  {
   "cell_type": "code",
   "execution_count": null,
   "id": "76522e7f",
   "metadata": {},
   "outputs": [],
   "source": []
  },
  {
   "cell_type": "code",
   "execution_count": null,
   "id": "85b8e641",
   "metadata": {},
   "outputs": [],
   "source": []
  }
 ],
 "metadata": {
  "kernelspec": {
   "display_name": "Python 3 (ipykernel)",
   "language": "python",
   "name": "python3"
  },
  "language_info": {
   "codemirror_mode": {
    "name": "ipython",
    "version": 3
   },
   "file_extension": ".py",
   "mimetype": "text/x-python",
   "name": "python",
   "nbconvert_exporter": "python",
   "pygments_lexer": "ipython3",
   "version": "3.9.12"
  }
 },
 "nbformat": 4,
 "nbformat_minor": 5
}
