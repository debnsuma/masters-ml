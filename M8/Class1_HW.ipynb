{
 "cells": [
  {
   "cell_type": "markdown",
   "id": "a8ad8703",
   "metadata": {},
   "source": [
    "# Introduction to `NUMPY`"
   ]
  },
  {
   "cell_type": "code",
   "execution_count": 1,
   "id": "16ac704f",
   "metadata": {},
   "outputs": [],
   "source": [
    "import numpy as np"
   ]
  },
  {
   "cell_type": "code",
   "execution_count": 2,
   "id": "371b4977",
   "metadata": {},
   "outputs": [],
   "source": [
    "a = [1, 2,3, 4, 5]"
   ]
  },
  {
   "cell_type": "code",
   "execution_count": 3,
   "id": "6e235461",
   "metadata": {},
   "outputs": [],
   "source": [
    "np_a = np.array(a)"
   ]
  },
  {
   "cell_type": "code",
   "execution_count": 4,
   "id": "3f4cc82d",
   "metadata": {},
   "outputs": [
    {
     "data": {
      "text/plain": [
       "array([1, 2, 3, 4, 5])"
      ]
     },
     "execution_count": 4,
     "metadata": {},
     "output_type": "execute_result"
    }
   ],
   "source": [
    "np_a"
   ]
  },
  {
   "cell_type": "code",
   "execution_count": 5,
   "id": "fc5032bc",
   "metadata": {},
   "outputs": [
    {
     "data": {
      "text/plain": [
       "array([ 1,  4,  9, 16, 25])"
      ]
     },
     "execution_count": 5,
     "metadata": {},
     "output_type": "execute_result"
    }
   ],
   "source": [
    "np_a ** 2"
   ]
  },
  {
   "cell_type": "code",
   "execution_count": 6,
   "id": "0055e5be",
   "metadata": {},
   "outputs": [],
   "source": [
    "a = range(10000000)"
   ]
  },
  {
   "cell_type": "code",
   "execution_count": 8,
   "id": "c78d6667",
   "metadata": {},
   "outputs": [
    {
     "name": "stdout",
     "output_type": "stream",
     "text": [
      "1.99 s ± 6.56 ms per loop (mean ± std. dev. of 7 runs, 1 loop each)\n"
     ]
    }
   ],
   "source": [
    "%timeit [ i**2 for i in a]"
   ]
  },
  {
   "cell_type": "code",
   "execution_count": 9,
   "id": "3eab38e8",
   "metadata": {},
   "outputs": [
    {
     "name": "stdout",
     "output_type": "stream",
     "text": [
      "3.2 ms ± 48.1 µs per loop (mean ± std. dev. of 7 runs, 100 loops each)\n"
     ]
    }
   ],
   "source": [
    "np_a = np.array(a)\n",
    "%timeit np_a ** 2"
   ]
  },
  {
   "cell_type": "code",
   "execution_count": 10,
   "id": "87f21fe4",
   "metadata": {},
   "outputs": [],
   "source": [
    "arr1 = np.array(\n",
    "    [\n",
    "        [1, 2, 3],\n",
    "        [4, 5, 6],\n",
    "        [7, 8, 9]\n",
    "    ]\n",
    "    )"
   ]
  },
  {
   "cell_type": "code",
   "execution_count": 11,
   "id": "15363358",
   "metadata": {},
   "outputs": [
    {
     "data": {
      "text/plain": [
       "2"
      ]
     },
     "execution_count": 11,
     "metadata": {},
     "output_type": "execute_result"
    }
   ],
   "source": [
    "arr1.ndim"
   ]
  },
  {
   "cell_type": "code",
   "execution_count": 12,
   "id": "fc1b12de",
   "metadata": {},
   "outputs": [
    {
     "data": {
      "text/plain": [
       "array([[1, 2, 3],\n",
       "       [4, 5, 6],\n",
       "       [7, 8, 9]])"
      ]
     },
     "execution_count": 12,
     "metadata": {},
     "output_type": "execute_result"
    }
   ],
   "source": [
    "arr1"
   ]
  },
  {
   "cell_type": "code",
   "execution_count": 13,
   "id": "2e5d63ba",
   "metadata": {},
   "outputs": [
    {
     "data": {
      "text/plain": [
       "(3, 3)"
      ]
     },
     "execution_count": 13,
     "metadata": {},
     "output_type": "execute_result"
    }
   ],
   "source": [
    "arr1.shape"
   ]
  },
  {
   "cell_type": "code",
   "execution_count": 14,
   "id": "795fef03",
   "metadata": {},
   "outputs": [
    {
     "data": {
      "text/plain": [
       "1"
      ]
     },
     "execution_count": 14,
     "metadata": {},
     "output_type": "execute_result"
    }
   ],
   "source": [
    "arr2 = np.array([1, 2, 3])\n",
    "arr2.ndim"
   ]
  },
  {
   "cell_type": "code",
   "execution_count": 15,
   "id": "0c8f29e0",
   "metadata": {},
   "outputs": [
    {
     "data": {
      "text/plain": [
       "(3,)"
      ]
     },
     "execution_count": 15,
     "metadata": {},
     "output_type": "execute_result"
    }
   ],
   "source": [
    "arr2.shape"
   ]
  },
  {
   "cell_type": "code",
   "execution_count": 16,
   "id": "d67fcbeb",
   "metadata": {},
   "outputs": [],
   "source": [
    "# dim   -> number of directions along which numpy is growing \n",
    "# shape -> no of elements along every direction "
   ]
  },
  {
   "cell_type": "code",
   "execution_count": 17,
   "id": "9df31738",
   "metadata": {},
   "outputs": [
    {
     "data": {
      "text/plain": [
       "(3, 3)"
      ]
     },
     "execution_count": 17,
     "metadata": {},
     "output_type": "execute_result"
    }
   ],
   "source": [
    "arr1.shape"
   ]
  },
  {
   "cell_type": "code",
   "execution_count": 18,
   "id": "f1aa0e69",
   "metadata": {},
   "outputs": [],
   "source": [
    "arr3 = np.array(\n",
    "    [\n",
    "        [1, 2],\n",
    "        [4, 5],\n",
    "        [7, 8]\n",
    "    ]\n",
    "    )"
   ]
  },
  {
   "cell_type": "code",
   "execution_count": 19,
   "id": "2971cde7",
   "metadata": {},
   "outputs": [
    {
     "data": {
      "text/plain": [
       "(3, 2)"
      ]
     },
     "execution_count": 19,
     "metadata": {},
     "output_type": "execute_result"
    }
   ],
   "source": [
    "arr3.shape"
   ]
  },
  {
   "cell_type": "code",
   "execution_count": 20,
   "id": "07ffbca7",
   "metadata": {},
   "outputs": [
    {
     "ename": "TypeError",
     "evalue": "'float' object cannot be interpreted as an integer",
     "output_type": "error",
     "traceback": [
      "\u001b[0;31m---------------------------------------------------------------------------\u001b[0m",
      "\u001b[0;31mTypeError\u001b[0m                                 Traceback (most recent call last)",
      "Cell \u001b[0;32mIn[20], line 1\u001b[0m\n\u001b[0;32m----> 1\u001b[0m \u001b[38;5;28mlist\u001b[39m(\u001b[38;5;28;43mrange\u001b[39;49m\u001b[43m(\u001b[49m\u001b[38;5;241;43m1\u001b[39;49m\u001b[43m,\u001b[49m\u001b[43m \u001b[49m\u001b[38;5;241;43m5\u001b[39;49m\u001b[43m,\u001b[49m\u001b[43m \u001b[49m\u001b[38;5;241;43m.5\u001b[39;49m\u001b[43m)\u001b[49m)\n",
      "\u001b[0;31mTypeError\u001b[0m: 'float' object cannot be interpreted as an integer"
     ]
    }
   ],
   "source": [
    "list(range(1, 5, .5))"
   ]
  },
  {
   "cell_type": "code",
   "execution_count": 23,
   "id": "edbbb936",
   "metadata": {},
   "outputs": [
    {
     "data": {
      "text/plain": [
       "array([1. , 1.5, 2. , 2.5, 3. , 3.5, 4. , 4.5])"
      ]
     },
     "execution_count": 23,
     "metadata": {},
     "output_type": "execute_result"
    }
   ],
   "source": [
    "np.arange(1, 5, .5)"
   ]
  },
  {
   "cell_type": "code",
   "execution_count": 26,
   "id": "257b3a11",
   "metadata": {},
   "outputs": [
    {
     "data": {
      "text/plain": [
       "array([1, 2, 3, 4])"
      ]
     },
     "execution_count": 26,
     "metadata": {},
     "output_type": "execute_result"
    }
   ],
   "source": [
    "np.arange(1, 5, 1)"
   ]
  },
  {
   "cell_type": "code",
   "execution_count": 27,
   "id": "56aad8d3",
   "metadata": {},
   "outputs": [
    {
     "data": {
      "text/plain": [
       "numpy.ndarray"
      ]
     },
     "execution_count": 27,
     "metadata": {},
     "output_type": "execute_result"
    }
   ],
   "source": [
    "type(arr1)"
   ]
  },
  {
   "cell_type": "code",
   "execution_count": 28,
   "id": "b5fb0814",
   "metadata": {},
   "outputs": [
    {
     "data": {
      "text/plain": [
       "array(['1', '2.3', 'suman'], dtype='<U32')"
      ]
     },
     "execution_count": 28,
     "metadata": {},
     "output_type": "execute_result"
    }
   ],
   "source": [
    "np.array([1, 2.3, 'suman'])"
   ]
  },
  {
   "cell_type": "code",
   "execution_count": 29,
   "id": "1de7a8e6",
   "metadata": {},
   "outputs": [
    {
     "data": {
      "text/plain": [
       "array([[1, 2, 3],\n",
       "       [4, 5, 6],\n",
       "       [7, 8, 9]])"
      ]
     },
     "execution_count": 29,
     "metadata": {},
     "output_type": "execute_result"
    }
   ],
   "source": [
    "arr1"
   ]
  },
  {
   "cell_type": "code",
   "execution_count": 32,
   "id": "566bf6b5",
   "metadata": {},
   "outputs": [
    {
     "data": {
      "text/plain": [
       "1"
      ]
     },
     "execution_count": 32,
     "metadata": {},
     "output_type": "execute_result"
    }
   ],
   "source": [
    "arr2[0]"
   ]
  },
  {
   "cell_type": "code",
   "execution_count": 33,
   "id": "1a99a54f",
   "metadata": {},
   "outputs": [
    {
     "data": {
      "text/plain": [
       "array([1, 2, 3])"
      ]
     },
     "execution_count": 33,
     "metadata": {},
     "output_type": "execute_result"
    }
   ],
   "source": [
    "arr2"
   ]
  },
  {
   "cell_type": "code",
   "execution_count": 34,
   "id": "d2ae2798",
   "metadata": {},
   "outputs": [
    {
     "data": {
      "text/plain": [
       "array([1, 2])"
      ]
     },
     "execution_count": 34,
     "metadata": {},
     "output_type": "execute_result"
    }
   ],
   "source": [
    "arr2[[0,1]]"
   ]
  },
  {
   "cell_type": "code",
   "execution_count": 35,
   "id": "c10ba63d",
   "metadata": {},
   "outputs": [],
   "source": [
    "a = [1,2,3,4]"
   ]
  },
  {
   "cell_type": "code",
   "execution_count": 37,
   "id": "8c9a2462",
   "metadata": {},
   "outputs": [],
   "source": [
    "arr2 = np.array([1,2,3,4,5,6,7,8,9,10])"
   ]
  },
  {
   "cell_type": "code",
   "execution_count": 40,
   "id": "b51f98ac",
   "metadata": {},
   "outputs": [
    {
     "data": {
      "text/plain": [
       "array([2, 3, 4])"
      ]
     },
     "execution_count": 40,
     "metadata": {},
     "output_type": "execute_result"
    }
   ],
   "source": [
    "arr2[[1, 2, 3]]"
   ]
  },
  {
   "cell_type": "code",
   "execution_count": 41,
   "id": "f384e8ad",
   "metadata": {},
   "outputs": [
    {
     "data": {
      "text/plain": [
       "array([ 5,  6,  7,  8,  9, 10])"
      ]
     },
     "execution_count": 41,
     "metadata": {},
     "output_type": "execute_result"
    }
   ],
   "source": [
    "arr2[4:100]"
   ]
  },
  {
   "cell_type": "markdown",
   "id": "faac7854",
   "metadata": {},
   "source": [
    "## Fancy Indexing "
   ]
  },
  {
   "cell_type": "code",
   "execution_count": 42,
   "id": "b5da9b20",
   "metadata": {},
   "outputs": [],
   "source": [
    "m1 = np.arange(1, 11)"
   ]
  },
  {
   "cell_type": "code",
   "execution_count": 43,
   "id": "60e258b6",
   "metadata": {},
   "outputs": [
    {
     "data": {
      "text/plain": [
       "array([ 1,  2,  3,  4,  5,  6,  7,  8,  9, 10])"
      ]
     },
     "execution_count": 43,
     "metadata": {},
     "output_type": "execute_result"
    }
   ],
   "source": [
    "m1"
   ]
  },
  {
   "cell_type": "code",
   "execution_count": 44,
   "id": "9019d3be",
   "metadata": {},
   "outputs": [
    {
     "data": {
      "text/plain": [
       "array([ True,  True,  True,  True,  True, False, False, False, False,\n",
       "       False])"
      ]
     },
     "execution_count": 44,
     "metadata": {},
     "output_type": "execute_result"
    }
   ],
   "source": [
    "m1 < 6"
   ]
  },
  {
   "cell_type": "code",
   "execution_count": 46,
   "id": "8af01a1b",
   "metadata": {},
   "outputs": [
    {
     "data": {
      "text/plain": [
       "array([1, 2, 3, 4, 5])"
      ]
     },
     "execution_count": 46,
     "metadata": {},
     "output_type": "execute_result"
    }
   ],
   "source": [
    "m1[m1 < 6] # using as a mask "
   ]
  },
  {
   "cell_type": "code",
   "execution_count": 47,
   "id": "f9ba7a74",
   "metadata": {},
   "outputs": [
    {
     "data": {
      "text/plain": [
       "array([ 2,  4,  6,  8, 10])"
      ]
     },
     "execution_count": 47,
     "metadata": {},
     "output_type": "execute_result"
    }
   ],
   "source": [
    "m1[m1 % 2 == 0]"
   ]
  },
  {
   "cell_type": "code",
   "execution_count": 48,
   "id": "0c7f0dda",
   "metadata": {},
   "outputs": [
    {
     "data": {
      "text/plain": [
       "array([ 1,  2,  3,  4,  5,  6,  7,  8,  9, 10])"
      ]
     },
     "execution_count": 48,
     "metadata": {},
     "output_type": "execute_result"
    }
   ],
   "source": [
    "m1"
   ]
  },
  {
   "cell_type": "code",
   "execution_count": 55,
   "id": "46fd266d",
   "metadata": {},
   "outputs": [
    {
     "data": {
      "text/plain": [
       "array([ 2,  4,  5,  6,  8, 10])"
      ]
     },
     "execution_count": 55,
     "metadata": {},
     "output_type": "execute_result"
    }
   ],
   "source": [
    "mask = (m1 % 2 == 0) | (m1 % 5 == 0) \n",
    "m1[mask]"
   ]
  },
  {
   "cell_type": "code",
   "execution_count": 58,
   "id": "f835d8b2",
   "metadata": {},
   "outputs": [
    {
     "data": {
      "text/plain": [
       "array([3, 4, 5, 6])"
      ]
     },
     "execution_count": 58,
     "metadata": {},
     "output_type": "execute_result"
    }
   ],
   "source": [
    "np.arange(4) + 3"
   ]
  },
  {
   "cell_type": "code",
   "execution_count": 59,
   "id": "90c8d03c",
   "metadata": {},
   "outputs": [
    {
     "data": {
      "text/plain": [
       "numpy.ndarray"
      ]
     },
     "execution_count": 59,
     "metadata": {},
     "output_type": "execute_result"
    }
   ],
   "source": [
    "type(mask)"
   ]
  },
  {
   "cell_type": "code",
   "execution_count": 60,
   "id": "3cb85d8a",
   "metadata": {},
   "outputs": [
    {
     "data": {
      "text/plain": [
       "array([[1, 2, 3],\n",
       "       [4, 5, 6],\n",
       "       [7, 8, 9]])"
      ]
     },
     "execution_count": 60,
     "metadata": {},
     "output_type": "execute_result"
    }
   ],
   "source": [
    "arr1"
   ]
  },
  {
   "cell_type": "code",
   "execution_count": 61,
   "id": "195473fc",
   "metadata": {},
   "outputs": [
    {
     "ename": "ValueError",
     "evalue": "operands could not be broadcast together with shapes (3,3) (2,) ",
     "output_type": "error",
     "traceback": [
      "\u001b[0;31m---------------------------------------------------------------------------\u001b[0m",
      "\u001b[0;31mValueError\u001b[0m                                Traceback (most recent call last)",
      "Cell \u001b[0;32mIn[61], line 1\u001b[0m\n\u001b[0;32m----> 1\u001b[0m \u001b[43marr1\u001b[49m\u001b[43m \u001b[49m\u001b[38;5;241;43m*\u001b[39;49m\u001b[43m \u001b[49m\u001b[43mnp\u001b[49m\u001b[38;5;241;43m.\u001b[39;49m\u001b[43marray\u001b[49m\u001b[43m(\u001b[49m\u001b[43m[\u001b[49m\u001b[38;5;241;43m1\u001b[39;49m\u001b[43m,\u001b[49m\u001b[38;5;241;43m2\u001b[39;49m\u001b[43m]\u001b[49m\u001b[43m)\u001b[49m\n",
      "\u001b[0;31mValueError\u001b[0m: operands could not be broadcast together with shapes (3,3) (2,) "
     ]
    }
   ],
   "source": [
    "arr1 * np.array([1,2])"
   ]
  },
  {
   "cell_type": "code",
   "execution_count": 64,
   "id": "10dd39de",
   "metadata": {},
   "outputs": [
    {
     "data": {
      "text/plain": [
       "array([  10,   40,   90,  160,  250,  360,  490,  640,  810, 1000])"
      ]
     },
     "execution_count": 64,
     "metadata": {},
     "output_type": "execute_result"
    }
   ],
   "source": [
    "arr2 * (arr2*10)"
   ]
  },
  {
   "cell_type": "code",
   "execution_count": 65,
   "id": "83c96053",
   "metadata": {},
   "outputs": [
    {
     "data": {
      "text/plain": [
       "array([ 1,  2,  3,  4,  5,  6,  7,  8,  9, 10])"
      ]
     },
     "execution_count": 65,
     "metadata": {},
     "output_type": "execute_result"
    }
   ],
   "source": [
    "arr2"
   ]
  },
  {
   "cell_type": "code",
   "execution_count": 66,
   "id": "799bfa40",
   "metadata": {},
   "outputs": [
    {
     "data": {
      "text/plain": [
       "array([ 10,  20,  30,  40,  50,  60,  70,  80,  90, 100])"
      ]
     },
     "execution_count": 66,
     "metadata": {},
     "output_type": "execute_result"
    }
   ],
   "source": [
    "arr2*10"
   ]
  },
  {
   "cell_type": "code",
   "execution_count": 67,
   "id": "5d97a9d3",
   "metadata": {},
   "outputs": [],
   "source": [
    "a = np.arange(1, 11)"
   ]
  },
  {
   "cell_type": "code",
   "execution_count": 68,
   "id": "c94fb51f",
   "metadata": {},
   "outputs": [
    {
     "data": {
      "text/plain": [
       "array([ 1,  2,  3,  4,  5,  6,  7,  8,  9, 10])"
      ]
     },
     "execution_count": 68,
     "metadata": {},
     "output_type": "execute_result"
    }
   ],
   "source": [
    "a"
   ]
  },
  {
   "cell_type": "code",
   "execution_count": 69,
   "id": "c791752f",
   "metadata": {},
   "outputs": [
    {
     "data": {
      "text/plain": [
       "55"
      ]
     },
     "execution_count": 69,
     "metadata": {},
     "output_type": "execute_result"
    }
   ],
   "source": [
    "a.sum()"
   ]
  },
  {
   "cell_type": "code",
   "execution_count": 70,
   "id": "7d8aae58",
   "metadata": {},
   "outputs": [
    {
     "data": {
      "text/plain": [
       "10"
      ]
     },
     "execution_count": 70,
     "metadata": {},
     "output_type": "execute_result"
    }
   ],
   "source": [
    "a.max()"
   ]
  },
  {
   "cell_type": "code",
   "execution_count": 71,
   "id": "e7208f8a",
   "metadata": {},
   "outputs": [
    {
     "data": {
      "text/plain": [
       "array([False,  True, False,  True,  True,  True, False,  True, False,\n",
       "        True])"
      ]
     },
     "execution_count": 71,
     "metadata": {},
     "output_type": "execute_result"
    }
   ],
   "source": [
    "mask"
   ]
  },
  {
   "cell_type": "code",
   "execution_count": 72,
   "id": "22e1b1e8",
   "metadata": {},
   "outputs": [],
   "source": [
    "mask = (m1 % 2 == 0) | (m1 % 5 == 0) \n"
   ]
  },
  {
   "cell_type": "code",
   "execution_count": 73,
   "id": "8f549731",
   "metadata": {},
   "outputs": [
    {
     "data": {
      "text/plain": [
       "array([False,  True, False,  True,  True,  True, False,  True, False,\n",
       "        True])"
      ]
     },
     "execution_count": 73,
     "metadata": {},
     "output_type": "execute_result"
    }
   ],
   "source": [
    "mask"
   ]
  },
  {
   "cell_type": "markdown",
   "id": "0216caa9",
   "metadata": {},
   "source": [
    "# Assignment"
   ]
  },
  {
   "cell_type": "markdown",
   "id": "d3fc64a8",
   "metadata": {},
   "source": [
    "#### Question 1"
   ]
  },
  {
   "cell_type": "code",
   "execution_count": 76,
   "id": "95fe5457",
   "metadata": {},
   "outputs": [],
   "source": [
    "a = np.array([2, 0, 1, 9, 1, 1, 1, 0, 3, 5])"
   ]
  },
  {
   "cell_type": "code",
   "execution_count": 77,
   "id": "489642b1",
   "metadata": {},
   "outputs": [
    {
     "data": {
      "text/plain": [
       "array([ 3,  1,  2, 10,  2,  2,  2,  1,  4,  6])"
      ]
     },
     "execution_count": 77,
     "metadata": {},
     "output_type": "execute_result"
    }
   ],
   "source": [
    "a+1"
   ]
  },
  {
   "cell_type": "code",
   "execution_count": 80,
   "id": "3ddc2ec7",
   "metadata": {},
   "outputs": [
    {
     "data": {
      "text/plain": [
       "array([ 3,  1,  2, 10,  2,  2,  2,  1,  4,  6])"
      ]
     },
     "execution_count": 80,
     "metadata": {},
     "output_type": "execute_result"
    }
   ],
   "source": [
    "np.array(list(map(lambda x: x+1, A)))"
   ]
  },
  {
   "cell_type": "code",
   "execution_count": 82,
   "id": "6b579067",
   "metadata": {},
   "outputs": [
    {
     "data": {
      "text/plain": [
       "array([ 3,  1,  2, 10,  2,  2,  2,  1,  4,  6])"
      ]
     },
     "execution_count": 82,
     "metadata": {},
     "output_type": "execute_result"
    }
   ],
   "source": [
    "np.array([x+1 for x in a])"
   ]
  },
  {
   "cell_type": "code",
   "execution_count": 85,
   "id": "9a8bf003",
   "metadata": {},
   "outputs": [
    {
     "data": {
      "text/plain": [
       "(10,)"
      ]
     },
     "execution_count": 85,
     "metadata": {},
     "output_type": "execute_result"
    }
   ],
   "source": [
    "a.shape"
   ]
  },
  {
   "cell_type": "code",
   "execution_count": 86,
   "id": "352b3ece",
   "metadata": {},
   "outputs": [
    {
     "data": {
      "text/plain": [
       "1"
      ]
     },
     "execution_count": 86,
     "metadata": {},
     "output_type": "execute_result"
    }
   ],
   "source": [
    "a.ndim"
   ]
  },
  {
   "cell_type": "markdown",
   "id": "555ebc79",
   "metadata": {},
   "source": [
    "#### Question 2"
   ]
  },
  {
   "cell_type": "code",
   "execution_count": 89,
   "id": "25632459",
   "metadata": {},
   "outputs": [],
   "source": [
    "def get_array_properties(arr):\n",
    "    '''\n",
    "    INPUT: arr -> A nD array\n",
    "    \n",
    "    OUTPUT: result -> tuple consisting of shape and dimension\n",
    "    '''\n",
    "    \n",
    "    ## STEP 1. Get the shape of array\n",
    "    \n",
    "    shape = arr.shape\n",
    "    ## STEP 2. Get the dimension of array\n",
    "    \n",
    "    dim = arr.ndim\n",
    "    \n",
    "    \n",
    "    return shape,dim"
   ]
  },
  {
   "cell_type": "code",
   "execution_count": 90,
   "id": "c5173435",
   "metadata": {},
   "outputs": [
    {
     "data": {
      "text/plain": [
       "((10,), 1)"
      ]
     },
     "execution_count": 90,
     "metadata": {},
     "output_type": "execute_result"
    }
   ],
   "source": [
    "get_array_properties(a)"
   ]
  },
  {
   "cell_type": "markdown",
   "id": "67ba6f0d",
   "metadata": {},
   "source": [
    "#### Question 3"
   ]
  },
  {
   "cell_type": "code",
   "execution_count": 99,
   "id": "cd342d97",
   "metadata": {},
   "outputs": [],
   "source": [
    "# Write the code using np.arange() to get all even numbers between 21 and 70, (70 inclusive)\n",
    "\n",
    "a = np.arange(22, 71, 2)"
   ]
  },
  {
   "cell_type": "code",
   "execution_count": 100,
   "id": "9cbd3173",
   "metadata": {},
   "outputs": [
    {
     "data": {
      "text/plain": [
       "array([22, 24, 26, 28, 30, 32, 34, 36, 38, 40, 42, 44, 46, 48, 50, 52, 54,\n",
       "       56, 58, 60, 62, 64, 66, 68, 70])"
      ]
     },
     "execution_count": 100,
     "metadata": {},
     "output_type": "execute_result"
    }
   ],
   "source": [
    "a"
   ]
  },
  {
   "cell_type": "code",
   "execution_count": 102,
   "id": "8fd3a1c9",
   "metadata": {},
   "outputs": [
    {
     "data": {
      "text/plain": [
       "array([21, 23, 25, 27, 29, 31, 33, 35, 37, 39, 41, 43, 45, 47, 49, 51, 53,\n",
       "       55, 57, 59, 61, 63, 65, 67, 69, 71])"
      ]
     },
     "execution_count": 102,
     "metadata": {},
     "output_type": "execute_result"
    }
   ],
   "source": [
    "# Write the code using np.arange() to get all odd numbers between 20 and 71. (71 inclusive)\n",
    "\n",
    "np.arange(21, 72, 2)"
   ]
  },
  {
   "cell_type": "markdown",
   "id": "4c5db735",
   "metadata": {},
   "source": [
    "#### Question 4"
   ]
  },
  {
   "cell_type": "code",
   "execution_count": 109,
   "id": "15863f6b",
   "metadata": {},
   "outputs": [],
   "source": [
    "def create_seq(start, end, step):\n",
    "    '''\n",
    "    INPUT: start, end, step \n",
    "    \n",
    "    OUTPUT: arr -> 1D numpy array\n",
    "    \n",
    "    '''\n",
    "    \n",
    "    arr = np.round(np.arange(start, end, step), 2)\n",
    "    \n",
    "    return arr"
   ]
  },
  {
   "cell_type": "code",
   "execution_count": 110,
   "id": "a59b6955",
   "metadata": {},
   "outputs": [
    {
     "data": {
      "text/plain": [
       "array([5. , 5.5, 6. , 6.5])"
      ]
     },
     "execution_count": 110,
     "metadata": {},
     "output_type": "execute_result"
    }
   ],
   "source": [
    "create_seq(5, 7, .5)"
   ]
  },
  {
   "cell_type": "markdown",
   "id": "e174975f",
   "metadata": {},
   "source": [
    "#### Question 5"
   ]
  },
  {
   "cell_type": "code",
   "execution_count": 120,
   "id": "3825747b",
   "metadata": {},
   "outputs": [],
   "source": [
    "def seq(start, length, step):\n",
    "    ''' start, length and step are in form of integers all representing the attributes as their names suggest\n",
    "        output -> A numpy array is expected to be returned'''\n",
    "\n",
    "    # YOUR CODE GOES HERE\n",
    "    end = length*step + start\n",
    "    sequence = np.arange(start, end, step)\n",
    "    \n",
    "    return sequence"
   ]
  },
  {
   "cell_type": "code",
   "execution_count": 121,
   "id": "23be6746",
   "metadata": {},
   "outputs": [
    {
     "data": {
      "text/plain": [
       "array([ 5,  8, 11, 14, 17, 20, 23, 26, 29, 32])"
      ]
     },
     "execution_count": 121,
     "metadata": {},
     "output_type": "execute_result"
    }
   ],
   "source": [
    "seq(5, 10, 3)"
   ]
  },
  {
   "cell_type": "code",
   "execution_count": 122,
   "id": "1029b54b",
   "metadata": {},
   "outputs": [
    {
     "data": {
      "text/plain": [
       "array([10, 11, 12, 13, 14, 15, 16, 17, 18, 19])"
      ]
     },
     "execution_count": 122,
     "metadata": {},
     "output_type": "execute_result"
    }
   ],
   "source": [
    "seq(10, 10, 1)"
   ]
  },
  {
   "cell_type": "markdown",
   "id": "2a64ac70",
   "metadata": {},
   "source": [
    "#### Question 6"
   ]
  },
  {
   "cell_type": "code",
   "execution_count": 157,
   "id": "4c4726aa",
   "metadata": {},
   "outputs": [],
   "source": [
    "x = np.array([-5, 9 , 20 , 25, -3, 5, 16, 10,-8])"
   ]
  },
  {
   "cell_type": "code",
   "execution_count": 154,
   "id": "d6b0bcf8",
   "metadata": {},
   "outputs": [
    {
     "data": {
      "text/plain": [
       "array([-5,  9, 20, 25, -3,  5, 16, 10, -8])"
      ]
     },
     "execution_count": 154,
     "metadata": {},
     "output_type": "execute_result"
    }
   ],
   "source": [
    "x"
   ]
  },
  {
   "cell_type": "code",
   "execution_count": 158,
   "id": "1aea3840",
   "metadata": {},
   "outputs": [],
   "source": [
    "mask = (x >= -5) & (x <= 15)"
   ]
  },
  {
   "cell_type": "code",
   "execution_count": 160,
   "id": "ff59ebb6",
   "metadata": {},
   "outputs": [
    {
     "data": {
      "text/plain": [
       "array([-5,  9, -3,  5, 10])"
      ]
     },
     "execution_count": 160,
     "metadata": {},
     "output_type": "execute_result"
    }
   ],
   "source": [
    "x[mask]"
   ]
  },
  {
   "cell_type": "code",
   "execution_count": 161,
   "id": "2b711324",
   "metadata": {},
   "outputs": [],
   "source": [
    "x = np.array([-5, 9 , 20 , 25, -3, 5, 16, 10,-8])\n",
    "x[(x >= -5) & (x <= 15)] *= -1 "
   ]
  },
  {
   "cell_type": "code",
   "execution_count": 162,
   "id": "2f19cd39",
   "metadata": {},
   "outputs": [
    {
     "data": {
      "text/plain": [
       "array([  5,  -9,  20,  25,   3,  -5,  16, -10,  -8])"
      ]
     },
     "execution_count": 162,
     "metadata": {},
     "output_type": "execute_result"
    }
   ],
   "source": [
    "x"
   ]
  },
  {
   "cell_type": "code",
   "execution_count": 138,
   "id": "c3e1cf8d",
   "metadata": {},
   "outputs": [
    {
     "data": {
      "text/plain": [
       "array([-5, -3,  5])"
      ]
     },
     "execution_count": 138,
     "metadata": {},
     "output_type": "execute_result"
    }
   ],
   "source": [
    "a"
   ]
  },
  {
   "cell_type": "code",
   "execution_count": 144,
   "id": "b0796b02",
   "metadata": {},
   "outputs": [
    {
     "data": {
      "text/plain": [
       "array([-8, -5, -3,  5,  9, 10, 16, 20, 25])"
      ]
     },
     "execution_count": 144,
     "metadata": {},
     "output_type": "execute_result"
    }
   ],
   "source": [
    "x = np.array([-5, 9 , 20 , 25, -3, 5, 16, 10,-8])\n",
    "np.sort(x)"
   ]
  },
  {
   "cell_type": "markdown",
   "id": "a44d5073",
   "metadata": {},
   "source": [
    "#### Question 7"
   ]
  },
  {
   "cell_type": "code",
   "execution_count": 163,
   "id": "cb566950",
   "metadata": {},
   "outputs": [],
   "source": [
    "def update_height(height,delta):\n",
    "\n",
    "    height = np.array(height)\n",
    "\n",
    "    delta = np.array(delta)\n",
    "\n",
    "    new_height = height+delta \n",
    "\n",
    "    return new_height"
   ]
  },
  {
   "cell_type": "code",
   "execution_count": 164,
   "id": "43d0326c",
   "metadata": {},
   "outputs": [],
   "source": [
    "def update_height2(height, delta):\n",
    "\n",
    "    new_height=[]\n",
    "\n",
    "    for i in range(len(height)):\n",
    "\n",
    "        new_height.append(height[i]+delta[i])\n",
    "\n",
    "    return new_height"
   ]
  },
  {
   "cell_type": "code",
   "execution_count": 165,
   "id": "b781aadd",
   "metadata": {},
   "outputs": [],
   "source": [
    "height = np.arange(100000)\n",
    "delta = height * .02"
   ]
  },
  {
   "cell_type": "code",
   "execution_count": 166,
   "id": "2d2bf58e",
   "metadata": {},
   "outputs": [
    {
     "name": "stdout",
     "output_type": "stream",
     "text": [
      "121 µs ± 306 ns per loop (mean ± std. dev. of 7 runs, 10,000 loops each)\n"
     ]
    }
   ],
   "source": [
    "%timeit update_height(height,delta)"
   ]
  },
  {
   "cell_type": "code",
   "execution_count": 167,
   "id": "c127bf94",
   "metadata": {},
   "outputs": [],
   "source": [
    "height = range(100000)\n",
    "delta = [.1] * 100000"
   ]
  },
  {
   "cell_type": "code",
   "execution_count": 168,
   "id": "72c3dc08",
   "metadata": {},
   "outputs": [
    {
     "name": "stdout",
     "output_type": "stream",
     "text": [
      "13.3 ms ± 30.5 µs per loop (mean ± std. dev. of 7 runs, 100 loops each)\n"
     ]
    }
   ],
   "source": [
    "%timeit update_height2(height,delta)"
   ]
  },
  {
   "cell_type": "markdown",
   "id": "e5be943c",
   "metadata": {},
   "source": [
    "#### Question 9"
   ]
  },
  {
   "cell_type": "code",
   "execution_count": 169,
   "id": "66c9c979",
   "metadata": {},
   "outputs": [
    {
     "name": "stdout",
     "output_type": "stream",
     "text": [
      "['Astha' 'Raghavendra' 'Ram']\n"
     ]
    }
   ],
   "source": [
    "print(np.sort(np.array(['Ram','Astha','Raghavendra'])))\n"
   ]
  },
  {
   "cell_type": "code",
   "execution_count": 170,
   "id": "9b72c07b",
   "metadata": {},
   "outputs": [
    {
     "data": {
      "text/plain": [
       "array([False, False, False])"
      ]
     },
     "execution_count": 170,
     "metadata": {},
     "output_type": "execute_result"
    }
   ],
   "source": [
    "arr1 = np.array(['Ram','Astha','Brahat'])\n",
    "arr2 = np.array(['Shyam','Kalyan','Naveen'])\n",
    "arr1 > arr2"
   ]
  },
  {
   "cell_type": "code",
   "execution_count": 180,
   "id": "9b61c6fe",
   "metadata": {},
   "outputs": [],
   "source": [
    "import numpy as np\n",
    "def mse(A,B):\n",
    "    '''A,B -> Numpy arrays\n",
    "       output -> A float rounded up to 2 decimal points should be returned'''\n",
    "    \n",
    "    ### STEP 1. Calculate difference between elements of A and B\n",
    "    \n",
    "    diff = A - B\n",
    "    \n",
    "    ## STEP 2: Take square of difference\n",
    "    \n",
    "    sq_diff = diff ** 2\n",
    "    \n",
    "    ## STEP3 : Take mean of squared difference\n",
    "    \n",
    "    mean_sq_diff = sq_diff.sum() / len(diff)\n",
    "    \n",
    "    ## STEP 4 : Round off values to 2 decimal places.\n",
    "    \n",
    "    mean_sq_diff = np.round(mean_sq_diff, 2)\n",
    "    \n",
    "    return mean_sq_diff"
   ]
  },
  {
   "cell_type": "code",
   "execution_count": 181,
   "id": "cc300dd6",
   "metadata": {},
   "outputs": [
    {
     "data": {
      "text/plain": [
       "0.22"
      ]
     },
     "execution_count": 181,
     "metadata": {},
     "output_type": "execute_result"
    }
   ],
   "source": [
    "a = np.array([1,1,2,2,4])\n",
    "b = np.array([0.6,1.29,1.99,2.69,3.4])\n",
    "mse(a, b)"
   ]
  },
  {
   "cell_type": "code",
   "execution_count": 174,
   "id": "a050c8b2",
   "metadata": {},
   "outputs": [],
   "source": [
    "diff = a - b"
   ]
  },
  {
   "cell_type": "code",
   "execution_count": 175,
   "id": "661abc0b",
   "metadata": {},
   "outputs": [
    {
     "data": {
      "text/plain": [
       "array([ 0.4 , -0.29,  0.01, -0.69,  0.6 ])"
      ]
     },
     "execution_count": 175,
     "metadata": {},
     "output_type": "execute_result"
    }
   ],
   "source": [
    "diff"
   ]
  },
  {
   "cell_type": "code",
   "execution_count": 176,
   "id": "dc994dcf",
   "metadata": {},
   "outputs": [
    {
     "data": {
      "text/plain": [
       "array([1.600e-01, 8.410e-02, 1.000e-04, 4.761e-01, 3.600e-01])"
      ]
     },
     "execution_count": 176,
     "metadata": {},
     "output_type": "execute_result"
    }
   ],
   "source": [
    "diff ** 2"
   ]
  },
  {
   "cell_type": "code",
   "execution_count": 178,
   "id": "75433f42",
   "metadata": {},
   "outputs": [
    {
     "data": {
      "text/plain": [
       "0.21606"
      ]
     },
     "execution_count": 178,
     "metadata": {},
     "output_type": "execute_result"
    }
   ],
   "source": [
    "sum(diff ** 2) / len(a)"
   ]
  },
  {
   "cell_type": "code",
   "execution_count": 179,
   "id": "300c9f67",
   "metadata": {},
   "outputs": [
    {
     "data": {
      "text/plain": [
       "5"
      ]
     },
     "execution_count": 179,
     "metadata": {},
     "output_type": "execute_result"
    }
   ],
   "source": [
    "len(a)"
   ]
  },
  {
   "cell_type": "markdown",
   "id": "d31a8012",
   "metadata": {},
   "source": [
    "#### Question 10"
   ]
  },
  {
   "cell_type": "code",
   "execution_count": 202,
   "id": "49007afa",
   "metadata": {},
   "outputs": [],
   "source": [
    "import numpy as np\n",
    "\n",
    "def calculate_mean_age(birds, age):\n",
    "    '''\n",
    "    INPUT: birds, age -> 1D array\n",
    "    \n",
    "    OUPUT: mean_age -> float variable\n",
    "    '''\n",
    "    np_birds = np.array(birds)\n",
    "    np_age = np.array(age)\n",
    "    \n",
    "    mean_age = None\n",
    "    \n",
    "    ## STEP1. Create mask to get Crane birds from birds array\n",
    "    mask = np.where(np_birds == 'Cranes')[0]\n",
    "    \n",
    "    ## STEP2. Get the age of crane birds\n",
    "    \n",
    "    crane_ages = np_age[mask]\n",
    "    \n",
    "    ## STEP 3. Calculate mean age of crane birds\n",
    "    \n",
    "    mean_age = crane_ages.mean()\n",
    "    \n",
    "    ## STEP 4. Round off the mean age to 2 decimal points\n",
    "    \n",
    "    mean_age = np.round(mean_age, 2)\n",
    "    \n",
    "    \n",
    "    return mean_age"
   ]
  },
  {
   "cell_type": "code",
   "execution_count": 220,
   "id": "d684d0c0",
   "metadata": {},
   "outputs": [],
   "source": [
    "import numpy as np\n",
    "\n",
    "def calculate_mean_age2(birds, age):\n",
    "    '''\n",
    "    INPUT: birds, age -> 1D array\n",
    "    \n",
    "    OUPUT: mean_age -> float variable\n",
    "    '''\n",
    "    np_birds = np.array(birds)\n",
    "    np_age = np.array(age)\n",
    "    \n",
    "    mean_age = None\n",
    "    \n",
    "    ## STEP1. Create mask to get Crane birds from birds array\n",
    "    mask = (np_birds == 'Cranes')\n",
    "    \n",
    "    ## STEP2. Get the age of crane birds\n",
    "    \n",
    "    crane_ages = np_age[mask]\n",
    "    \n",
    "    ## STEP 3. Calculate mean age of crane birds\n",
    "    \n",
    "    mean_age = crane_ages.mean()\n",
    "    \n",
    "    ## STEP 4. Round off the mean age to 2 decimal points\n",
    "    \n",
    "    mean_age = np.round(mean_age, 2)\n",
    "    \n",
    "    \n",
    "    return mean_age"
   ]
  },
  {
   "cell_type": "code",
   "execution_count": 219,
   "id": "79d4ed24",
   "metadata": {},
   "outputs": [],
   "source": [
    "birds = ['spoonbills',  'plovers',  'plovers',  'plovers',  'plovers',  'Cranes',  'plovers',  'plovers',  'Cranes',  'spoonbills']\n",
    "age = [5.5, 6.0, 3.5, 1.5, 3.0, 4.0, 3.5, 2.0, 5.5, 6.0]"
   ]
  },
  {
   "cell_type": "code",
   "execution_count": 221,
   "id": "ea2acce8",
   "metadata": {},
   "outputs": [
    {
     "data": {
      "text/plain": [
       "4.75"
      ]
     },
     "execution_count": 221,
     "metadata": {},
     "output_type": "execute_result"
    }
   ],
   "source": [
    "calculate_mean_age2(birds, age)"
   ]
  },
  {
   "cell_type": "code",
   "execution_count": 222,
   "id": "5d3f37f1",
   "metadata": {},
   "outputs": [
    {
     "data": {
      "text/plain": [
       "4.75"
      ]
     },
     "execution_count": 222,
     "metadata": {},
     "output_type": "execute_result"
    }
   ],
   "source": [
    "calculate_mean_age(birds, age)"
   ]
  },
  {
   "cell_type": "code",
   "execution_count": null,
   "id": "5f5424a4",
   "metadata": {},
   "outputs": [],
   "source": []
  }
 ],
 "metadata": {
  "kernelspec": {
   "display_name": "Python 3 (ipykernel)",
   "language": "python",
   "name": "python3"
  },
  "language_info": {
   "codemirror_mode": {
    "name": "ipython",
    "version": 3
   },
   "file_extension": ".py",
   "mimetype": "text/x-python",
   "name": "python",
   "nbconvert_exporter": "python",
   "pygments_lexer": "ipython3",
   "version": "3.10.9"
  }
 },
 "nbformat": 4,
 "nbformat_minor": 5
}
