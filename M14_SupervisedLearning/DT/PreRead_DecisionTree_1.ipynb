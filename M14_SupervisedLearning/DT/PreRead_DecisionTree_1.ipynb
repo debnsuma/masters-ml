{
 "cells": [
  {
   "cell_type": "markdown",
   "metadata": {
    "id": "MVGRgX3_XFsu"
   },
   "source": [
    "## UseCase Intro: Employee Attrition"
   ]
  },
  {
   "cell_type": "markdown",
   "metadata": {
    "id": "Kx6jPgUwVQg3"
   },
   "source": [
    "\n",
    "Employee Attriton has always been a major problem for companies.\n",
    "- The cost of replacing an employee has always been significant due to the fact that most times:\n",
    "- The company will have to pay the new employee more than the employee they are replacing\n",
    "- Lots of time and resources invested in interviewing multiple candidates\n"
   ]
  },
  {
   "cell_type": "markdown",
   "metadata": {
    "id": "j2sE7MLquuQI"
   },
   "source": [
    "### EDA\n",
    "\n",
    "Let's perform some basic EDA on the data to gain some insights"
   ]
  },
  {
   "cell_type": "markdown",
   "metadata": {
    "id": "iZzBPOxju7G3"
   },
   "source": [
    "#### Importing libraries"
   ]
  },
  {
   "cell_type": "code",
   "execution_count": 4,
   "metadata": {
    "id": "WLEr_32hutd0",
    "tags": []
   },
   "outputs": [],
   "source": [
    "import numpy as np\n",
    "import pandas as pd\n",
    "import matplotlib.pyplot as plt\n",
    "import io\n"
   ]
  },
  {
   "cell_type": "markdown",
   "metadata": {
    "id": "1LKXg_w3vigG"
   },
   "source": [
    "#### Loading data"
   ]
  },
  {
   "cell_type": "code",
   "execution_count": 5,
   "metadata": {
    "tags": []
   },
   "outputs": [],
   "source": [
    "# Download from here https://drive.google.com/uc?id=16KtxSt_QEGQvfluEaMls5cCHPwhRXgCk"
   ]
  },
  {
   "cell_type": "code",
   "execution_count": 2,
   "metadata": {
    "colab": {
     "base_uri": "https://localhost:8080/"
    },
    "id": "tC34Fdu3vlNr",
    "outputId": "f556f8f1-11d4-47c2-b0e2-3f9e2e45a6db",
    "tags": []
   },
   "outputs": [],
   "source": [
    "# !gdown 16KtxSt_QEGQvfluEaMls5cCHPwhRXgCk"
   ]
  },
  {
   "cell_type": "markdown",
   "metadata": {
    "id": "yal0wqhkIWGV"
   },
   "source": [
    "#### Reading data"
   ]
  },
  {
   "cell_type": "code",
   "execution_count": 5,
   "metadata": {
    "colab": {
     "base_uri": "https://localhost:8080/"
    },
    "id": "mvn-Bc7ywh6z",
    "outputId": "3c1ef594-a635-4dab-f83a-fe81f708a93a",
    "tags": []
   },
   "outputs": [
    {
     "name": "stdout",
     "output_type": "stream",
     "text": [
      "<class 'pandas.core.frame.DataFrame'>\n",
      "RangeIndex: 1470 entries, 0 to 1469\n",
      "Data columns (total 35 columns):\n",
      " #   Column                    Non-Null Count  Dtype \n",
      "---  ------                    --------------  ----- \n",
      " 0   Age                       1470 non-null   int64 \n",
      " 1   Attrition                 1470 non-null   object\n",
      " 2   BusinessTravel            1470 non-null   object\n",
      " 3   DailyRate                 1470 non-null   int64 \n",
      " 4   Department                1470 non-null   object\n",
      " 5   DistanceFromHome          1470 non-null   int64 \n",
      " 6   Education                 1470 non-null   int64 \n",
      " 7   EducationField            1470 non-null   object\n",
      " 8   EmployeeCount             1470 non-null   int64 \n",
      " 9   EmployeeNumber            1470 non-null   int64 \n",
      " 10  EnvironmentSatisfaction   1470 non-null   int64 \n",
      " 11  Gender                    1470 non-null   object\n",
      " 12  HourlyRate                1470 non-null   int64 \n",
      " 13  JobInvolvement            1470 non-null   int64 \n",
      " 14  JobLevel                  1470 non-null   int64 \n",
      " 15  JobRole                   1470 non-null   object\n",
      " 16  JobSatisfaction           1470 non-null   int64 \n",
      " 17  MaritalStatus             1470 non-null   object\n",
      " 18  MonthlyIncome             1470 non-null   int64 \n",
      " 19  MonthlyRate               1470 non-null   int64 \n",
      " 20  NumCompaniesWorked        1470 non-null   int64 \n",
      " 21  Over18                    1470 non-null   object\n",
      " 22  OverTime                  1470 non-null   object\n",
      " 23  PercentSalaryHike         1470 non-null   int64 \n",
      " 24  PerformanceRating         1470 non-null   int64 \n",
      " 25  RelationshipSatisfaction  1470 non-null   int64 \n",
      " 26  StandardHours             1470 non-null   int64 \n",
      " 27  StockOptionLevel          1470 non-null   int64 \n",
      " 28  TotalWorkingYears         1470 non-null   int64 \n",
      " 29  TrainingTimesLastYear     1470 non-null   int64 \n",
      " 30  WorkLifeBalance           1470 non-null   int64 \n",
      " 31  YearsAtCompany            1470 non-null   int64 \n",
      " 32  YearsInCurrentRole        1470 non-null   int64 \n",
      " 33  YearsSinceLastPromotion   1470 non-null   int64 \n",
      " 34  YearsWithCurrManager      1470 non-null   int64 \n",
      "dtypes: int64(26), object(9)\n",
      "memory usage: 402.1+ KB\n"
     ]
    }
   ],
   "source": [
    "df = pd.read_csv(\"HR-Employee-Attrition.csv\")\n",
    "df.info()"
   ]
  },
  {
   "cell_type": "code",
   "execution_count": 6,
   "metadata": {
    "colab": {
     "base_uri": "https://localhost:8080/",
     "height": 369
    },
    "id": "7aoTdNEKwj0c",
    "outputId": "0d41b9a0-40b6-4af8-b732-d7066a927b30",
    "tags": []
   },
   "outputs": [
    {
     "data": {
      "text/html": [
       "<div>\n",
       "<style scoped>\n",
       "    .dataframe tbody tr th:only-of-type {\n",
       "        vertical-align: middle;\n",
       "    }\n",
       "\n",
       "    .dataframe tbody tr th {\n",
       "        vertical-align: top;\n",
       "    }\n",
       "\n",
       "    .dataframe thead th {\n",
       "        text-align: right;\n",
       "    }\n",
       "</style>\n",
       "<table border=\"1\" class=\"dataframe\">\n",
       "  <thead>\n",
       "    <tr style=\"text-align: right;\">\n",
       "      <th></th>\n",
       "      <th>Age</th>\n",
       "      <th>Attrition</th>\n",
       "      <th>BusinessTravel</th>\n",
       "      <th>DailyRate</th>\n",
       "      <th>Department</th>\n",
       "      <th>DistanceFromHome</th>\n",
       "      <th>Education</th>\n",
       "      <th>EducationField</th>\n",
       "      <th>EmployeeCount</th>\n",
       "      <th>EmployeeNumber</th>\n",
       "      <th>...</th>\n",
       "      <th>RelationshipSatisfaction</th>\n",
       "      <th>StandardHours</th>\n",
       "      <th>StockOptionLevel</th>\n",
       "      <th>TotalWorkingYears</th>\n",
       "      <th>TrainingTimesLastYear</th>\n",
       "      <th>WorkLifeBalance</th>\n",
       "      <th>YearsAtCompany</th>\n",
       "      <th>YearsInCurrentRole</th>\n",
       "      <th>YearsSinceLastPromotion</th>\n",
       "      <th>YearsWithCurrManager</th>\n",
       "    </tr>\n",
       "  </thead>\n",
       "  <tbody>\n",
       "    <tr>\n",
       "      <th>0</th>\n",
       "      <td>41</td>\n",
       "      <td>Yes</td>\n",
       "      <td>Travel_Rarely</td>\n",
       "      <td>1102</td>\n",
       "      <td>Sales</td>\n",
       "      <td>1</td>\n",
       "      <td>2</td>\n",
       "      <td>Life Sciences</td>\n",
       "      <td>1</td>\n",
       "      <td>1</td>\n",
       "      <td>...</td>\n",
       "      <td>1</td>\n",
       "      <td>80</td>\n",
       "      <td>0</td>\n",
       "      <td>8</td>\n",
       "      <td>0</td>\n",
       "      <td>1</td>\n",
       "      <td>6</td>\n",
       "      <td>4</td>\n",
       "      <td>0</td>\n",
       "      <td>5</td>\n",
       "    </tr>\n",
       "    <tr>\n",
       "      <th>1</th>\n",
       "      <td>49</td>\n",
       "      <td>No</td>\n",
       "      <td>Travel_Frequently</td>\n",
       "      <td>279</td>\n",
       "      <td>Research &amp; Development</td>\n",
       "      <td>8</td>\n",
       "      <td>1</td>\n",
       "      <td>Life Sciences</td>\n",
       "      <td>1</td>\n",
       "      <td>2</td>\n",
       "      <td>...</td>\n",
       "      <td>4</td>\n",
       "      <td>80</td>\n",
       "      <td>1</td>\n",
       "      <td>10</td>\n",
       "      <td>3</td>\n",
       "      <td>3</td>\n",
       "      <td>10</td>\n",
       "      <td>7</td>\n",
       "      <td>1</td>\n",
       "      <td>7</td>\n",
       "    </tr>\n",
       "    <tr>\n",
       "      <th>2</th>\n",
       "      <td>37</td>\n",
       "      <td>Yes</td>\n",
       "      <td>Travel_Rarely</td>\n",
       "      <td>1373</td>\n",
       "      <td>Research &amp; Development</td>\n",
       "      <td>2</td>\n",
       "      <td>2</td>\n",
       "      <td>Other</td>\n",
       "      <td>1</td>\n",
       "      <td>4</td>\n",
       "      <td>...</td>\n",
       "      <td>2</td>\n",
       "      <td>80</td>\n",
       "      <td>0</td>\n",
       "      <td>7</td>\n",
       "      <td>3</td>\n",
       "      <td>3</td>\n",
       "      <td>0</td>\n",
       "      <td>0</td>\n",
       "      <td>0</td>\n",
       "      <td>0</td>\n",
       "    </tr>\n",
       "    <tr>\n",
       "      <th>3</th>\n",
       "      <td>33</td>\n",
       "      <td>No</td>\n",
       "      <td>Travel_Frequently</td>\n",
       "      <td>1392</td>\n",
       "      <td>Research &amp; Development</td>\n",
       "      <td>3</td>\n",
       "      <td>4</td>\n",
       "      <td>Life Sciences</td>\n",
       "      <td>1</td>\n",
       "      <td>5</td>\n",
       "      <td>...</td>\n",
       "      <td>3</td>\n",
       "      <td>80</td>\n",
       "      <td>0</td>\n",
       "      <td>8</td>\n",
       "      <td>3</td>\n",
       "      <td>3</td>\n",
       "      <td>8</td>\n",
       "      <td>7</td>\n",
       "      <td>3</td>\n",
       "      <td>0</td>\n",
       "    </tr>\n",
       "    <tr>\n",
       "      <th>4</th>\n",
       "      <td>27</td>\n",
       "      <td>No</td>\n",
       "      <td>Travel_Rarely</td>\n",
       "      <td>591</td>\n",
       "      <td>Research &amp; Development</td>\n",
       "      <td>2</td>\n",
       "      <td>1</td>\n",
       "      <td>Medical</td>\n",
       "      <td>1</td>\n",
       "      <td>7</td>\n",
       "      <td>...</td>\n",
       "      <td>4</td>\n",
       "      <td>80</td>\n",
       "      <td>1</td>\n",
       "      <td>6</td>\n",
       "      <td>3</td>\n",
       "      <td>3</td>\n",
       "      <td>2</td>\n",
       "      <td>2</td>\n",
       "      <td>2</td>\n",
       "      <td>2</td>\n",
       "    </tr>\n",
       "  </tbody>\n",
       "</table>\n",
       "<p>5 rows × 35 columns</p>\n",
       "</div>"
      ],
      "text/plain": [
       "   Age Attrition     BusinessTravel  DailyRate              Department  \\\n",
       "0   41       Yes      Travel_Rarely       1102                   Sales   \n",
       "1   49        No  Travel_Frequently        279  Research & Development   \n",
       "2   37       Yes      Travel_Rarely       1373  Research & Development   \n",
       "3   33        No  Travel_Frequently       1392  Research & Development   \n",
       "4   27        No      Travel_Rarely        591  Research & Development   \n",
       "\n",
       "   DistanceFromHome  Education EducationField  EmployeeCount  EmployeeNumber  \\\n",
       "0                 1          2  Life Sciences              1               1   \n",
       "1                 8          1  Life Sciences              1               2   \n",
       "2                 2          2          Other              1               4   \n",
       "3                 3          4  Life Sciences              1               5   \n",
       "4                 2          1        Medical              1               7   \n",
       "\n",
       "   ...  RelationshipSatisfaction StandardHours  StockOptionLevel  \\\n",
       "0  ...                         1            80                 0   \n",
       "1  ...                         4            80                 1   \n",
       "2  ...                         2            80                 0   \n",
       "3  ...                         3            80                 0   \n",
       "4  ...                         4            80                 1   \n",
       "\n",
       "   TotalWorkingYears  TrainingTimesLastYear WorkLifeBalance  YearsAtCompany  \\\n",
       "0                  8                      0               1               6   \n",
       "1                 10                      3               3              10   \n",
       "2                  7                      3               3               0   \n",
       "3                  8                      3               3               8   \n",
       "4                  6                      3               3               2   \n",
       "\n",
       "  YearsInCurrentRole  YearsSinceLastPromotion  YearsWithCurrManager  \n",
       "0                  4                        0                     5  \n",
       "1                  7                        1                     7  \n",
       "2                  0                        0                     0  \n",
       "3                  7                        3                     0  \n",
       "4                  2                        2                     2  \n",
       "\n",
       "[5 rows x 35 columns]"
      ]
     },
     "execution_count": 6,
     "metadata": {},
     "output_type": "execute_result"
    }
   ],
   "source": [
    "df.head()\n"
   ]
  },
  {
   "cell_type": "markdown",
   "metadata": {
    "id": "yfdL1YGbwn6V"
   },
   "source": [
    "#### What can we see from this info ?\n",
    "- The dataset has around 1500 samples\n",
    "- It contains information about :\n",
    "\n",
    "    1. Employee profile\\ Eg: Age, Gender, Marital Status\n",
    "\n",
    "    2. Employee work-life\\ Eg: Working hours, job satisfaction etc\n",
    "\n",
    "#### How can we use this information for our problem ?\n",
    "- To understand lets analyze the features\n",
    "\n",
    "\n",
    "\n",
    "#### How can we do that ?\n",
    "Plotting their histograms"
   ]
  },
  {
   "cell_type": "code",
   "execution_count": 7,
   "metadata": {
    "colab": {
     "base_uri": "https://localhost:8080/",
     "height": 631
    },
    "id": "I2m9P4KJw-uM",
    "outputId": "8cc9935b-0b1f-431d-ab45-656f66b6f4b7",
    "tags": []
   },
   "outputs": [
    {
     "data": {
      "image/png": "[encoded data removed]",
      "text/plain": [
       "<Figure size 2000x2000 with 30 Axes>"
      ]
     },
     "metadata": {},
     "output_type": "display_data"
    }
   ],
   "source": [
    "df.hist(figsize = (20,20))\n",
    "plt.show()"
   ]
  },
  {
   "cell_type": "markdown",
   "metadata": {
    "id": "ssHZOtT0xDwZ"
   },
   "source": [
    "#### What can we observe from these plots ?\n",
    "\n",
    "1. Many histograms are tail-heavy;\n",
    "\n",
    "  - Lot of attributes are right-skewed\\\n",
    " (e.g. MonthlyIncome DistanceFromHome, YearsAtCompany)\n",
    "\n",
    "  - Data transformation methods may be required to approach a normal distribution prior to fitting the model based on which model we choose\n",
    "\n",
    "2. Some features seem to have normal distributions\n",
    "  \n",
    "  - Eg: Age: Slightly right-skewed normal distribution with the bulk of the staff between 25 and 45 years old\n",
    "\n",
    "3. Some features are constant\n",
    "\n",
    "  - Eg: EmployeeCount and StandardHours are constant values for all employees.\n",
    "  \n",
    "  - They're likely to be redundant features.\n",
    "\n",
    "4. Some features seem to be uniformly distributed.\n",
    "\n",
    "  - Eg: EmployeeNumber\n",
    "\n",
    "5. **Uniformly distributed and constant features won't contribute** to our analysis\n",
    "\n",
    "6. Some features are categorical i.e **binomially/multinomially distributed**\n",
    "\n",
    "  - Eg: WorkLifeBalance, StockOptionLevel etc\n",
    "\n",
    "7. We can also see from these features that their ranges vary a lot\n",
    "\n",
    "  - Recall why different feature scales can be a problem\n",
    "\n",
    "  - We will deal with this problem later\n",
    "\n",
    "First, lets remove the features that won't contribute to our analysis\n"
   ]
  },
  {
   "cell_type": "code",
   "execution_count": 8,
   "metadata": {
    "id": "axsGv90oyA5-",
    "tags": []
   },
   "outputs": [],
   "source": [
    "# let's remove the redundant features from the dataset\n",
    "df.drop(['EmployeeCount', 'EmployeeNumber', 'StandardHours', 'Over18'], \n",
    "        axis=1, \n",
    "        inplace=True)"
   ]
  },
  {
   "cell_type": "markdown",
   "metadata": {
    "id": "sVHv_JnyyeBN"
   },
   "source": [
    "#### Lets analyse the target feature now"
   ]
  },
  {
   "cell_type": "code",
   "execution_count": 9,
   "metadata": {
    "colab": {
     "base_uri": "https://localhost:8080/"
    },
    "id": "UZ6whOWEyfSq",
    "outputId": "7046e978-4761-4178-e241-70358311ce10",
    "tags": []
   },
   "outputs": [
    {
     "data": {
      "text/plain": [
       "pandas.core.series.Series"
      ]
     },
     "execution_count": 9,
     "metadata": {},
     "output_type": "execute_result"
    }
   ],
   "source": [
    "target = df['Attrition'].copy()\n",
    "df = df.drop([\"Attrition\"], axis = 1)\n",
    "type(target)"
   ]
  },
  {
   "cell_type": "code",
   "execution_count": 10,
   "metadata": {
    "colab": {
     "base_uri": "https://localhost:8080/"
    },
    "id": "pNUTftF9xrby",
    "outputId": "57a2b8ed-fdd9-41dc-9da3-6b07854a4a4b",
    "tags": []
   },
   "outputs": [
    {
     "data": {
      "text/plain": [
       "0       Yes\n",
       "1        No\n",
       "2       Yes\n",
       "3        No\n",
       "4        No\n",
       "       ... \n",
       "1465     No\n",
       "1466     No\n",
       "1467     No\n",
       "1468     No\n",
       "1469     No\n",
       "Name: Attrition, Length: 1470, dtype: object"
      ]
     },
     "execution_count": 10,
     "metadata": {},
     "output_type": "execute_result"
    }
   ],
   "source": [
    "target"
   ]
  },
  {
   "cell_type": "code",
   "execution_count": 11,
   "metadata": {
    "id": "2ymhniH6xgwF",
    "tags": []
   },
   "outputs": [],
   "source": [
    "target = target.apply(lambda x: 1 if x=='Yes' else 0)"
   ]
  },
  {
   "cell_type": "code",
   "execution_count": 12,
   "metadata": {
    "colab": {
     "base_uri": "https://localhost:8080/"
    },
    "id": "2KLcyputxtEC",
    "outputId": "582df970-b8c3-4093-d817-f560bc32e74b",
    "tags": []
   },
   "outputs": [
    {
     "data": {
      "text/plain": [
       "0       1\n",
       "1       0\n",
       "2       1\n",
       "3       0\n",
       "4       0\n",
       "       ..\n",
       "1465    0\n",
       "1466    0\n",
       "1467    0\n",
       "1468    0\n",
       "1469    0\n",
       "Name: Attrition, Length: 1470, dtype: int64"
      ]
     },
     "execution_count": 12,
     "metadata": {},
     "output_type": "execute_result"
    }
   ],
   "source": [
    "target"
   ]
  },
  {
   "cell_type": "code",
   "execution_count": 13,
   "metadata": {
    "colab": {
     "base_uri": "https://localhost:8080/"
    },
    "id": "oTBKG1DLygtB",
    "outputId": "2a92c976-b359-4fb1-b35e-64a87527064d",
    "tags": []
   },
   "outputs": [
    {
     "data": {
      "text/plain": [
       "Attrition\n",
       "0    1233\n",
       "1     237\n",
       "Name: count, dtype: int64"
      ]
     },
     "execution_count": 13,
     "metadata": {},
     "output_type": "execute_result"
    }
   ],
   "source": [
    "target.value_counts()"
   ]
  },
  {
   "cell_type": "code",
   "execution_count": 14,
   "metadata": {
    "id": "SMcoIeRB1A36",
    "tags": []
   },
   "outputs": [],
   "source": [
    "demo = {'target':target.values}\n",
    "demo = pd.DataFrame(demo)\n",
    "demo.to_csv('target.csv',index=False)"
   ]
  },
  {
   "cell_type": "code",
   "execution_count": 15,
   "metadata": {
    "id": "GwZobIDN1WuW",
    "tags": []
   },
   "outputs": [
    {
     "data": {
      "text/plain": [
       "array([1, 0, 1, ..., 0, 0, 0])"
      ]
     },
     "execution_count": 15,
     "metadata": {},
     "output_type": "execute_result"
    }
   ],
   "source": [
    "target.values"
   ]
  },
  {
   "cell_type": "markdown",
   "metadata": {
    "id": "tpXqzm9ndM_y"
   },
   "source": [
    "#### What can we infer from this info ?\n",
    "  - The dataset is extremely imbalanced\n",
    "  - Recall how we deal with imbalanced data\n",
    "\n",
    "For this dataset we will use SMOTE oversampling technique to balance the data\n",
    "\n",
    "But SMOTE is applied only to encoded training set\n",
    "\n",
    "So we need to split the data first"
   ]
  },
  {
   "cell_type": "markdown",
   "metadata": {
    "id": "jQNr_j5icpLt"
   },
   "source": [
    "## Splitting the data"
   ]
  },
  {
   "cell_type": "markdown",
   "metadata": {
    "id": "5lOELDk7ykdP"
   },
   "source": [
    "#### In what sets should we split it ?\n",
    "  \n",
    "  - Train/test set\n",
    "  \n",
    "  - #### Why not create a validation set ?\n",
    "    - We already have less amount of data\n",
    "    - And we want to train the model with max possible data\n",
    "    - So we will use K-Fold cross validation instead\n",
    "  \n",
    "#### What ratios should we use for splitting ?\n",
    "  - 80%/20% for train/test looks enough\n",
    "\n",
    "So lets split the dataset now"
   ]
  },
  {
   "cell_type": "code",
   "execution_count": 16,
   "metadata": {
    "tags": []
   },
   "outputs": [],
   "source": [
    "from sklearn.model_selection import train_test_split"
   ]
  },
  {
   "cell_type": "code",
   "execution_count": 27,
   "metadata": {
    "colab": {
     "base_uri": "https://localhost:8080/"
    },
    "id": "0N_VoTs2ynD5",
    "outputId": "44d09c44-8bc3-40be-a29d-5a7dea8ae764",
    "tags": []
   },
   "outputs": [
    {
     "name": "stdout",
     "output_type": "stream",
     "text": [
      "Number transactions X_train dataset:  (1102, 30)\n",
      "Number transactions y_train dataset:  (1102,)\n",
      "Number transactions X_test dataset:  (368, 30)\n",
      "Number transactions y_test dataset:  (368,)\n"
     ]
    }
   ],
   "source": [
    "# Since we have class imbalance (i.e. more employees with turnover=0 than turnover=1)\n",
    "# let's use stratify=y to maintain the same ratio as in the training dataset when splitting the dataset\n",
    "from sklearn.model_selection import train_test_split\n",
    "\n",
    "X_train, X_test, y_train, y_test = train_test_split(df,\n",
    "                                                    target,\n",
    "                                                    test_size=0.25,\n",
    "                                                    random_state=7,\n",
    "                                                stratify=target)\n",
    "\n",
    "print(\"Number transactions X_train dataset: \", X_train.shape)\n",
    "print(\"Number transactions y_train dataset: \", y_train.shape)\n",
    "print(\"Number transactions X_test dataset: \", X_test.shape)\n",
    "print(\"Number transactions y_test dataset: \", y_test.shape)"
   ]
  },
  {
   "cell_type": "markdown",
   "metadata": {
    "id": "Rpuq8gvbJ2aa"
   },
   "source": [
    "### Encoding features"
   ]
  },
  {
   "cell_type": "markdown",
   "metadata": {
    "id": "8zypY752yDFi"
   },
   "source": [
    "\n",
    "  - #### What is encoding ?\n",
    "   \n",
    "    - Changing features with text values to number form\n",
    "   \n",
    "    - Its required because ML algos can take features only in number form\n"
   ]
  },
  {
   "cell_type": "markdown",
   "metadata": {
    "id": "C_membxXyFSB"
   },
   "source": [
    "#### What are the encoding techniques we can use ?\n",
    "\n",
    "  - Binary Encoding (0/1) :\n",
    "    - Used for features having only 2 unique values\n",
    "  \n",
    "  - Label Encoding (0, 1, 2, 3 ....) :  \n",
    "    - Features with more than 2 unique values having a particular order\n",
    "    - For 2 features binary = label encoding\n",
    "\n",
    "  - OneHot Encoding ([0 0 0 1], ...) :\n",
    "    - Features with more than 2 unique values having no order\n",
    "    - Used when number of unique vals is less since it requires more space\n",
    "\n",
    "  - Target encoding ([0.1, 0.33, .....)] :\n",
    "    - Features with a lot of unique vals having no order\n",
    "    - Assigns mean of the target value to the feature val\n",
    "    - Always done after train-test split\n",
    "\n",
    "\n"
   ]
  },
  {
   "cell_type": "markdown",
   "metadata": {
    "id": "RzKoDCL5yH4i"
   },
   "source": [
    "\n",
    "#### Which encoding technique should we use ?\n",
    "  \n",
    "  - It depends upon:\n",
    "    - Number of unique values a feature has\n",
    "    - If there is a sequence between the feature vals\n",
    "\n",
    "Lets first check how many unique values each feature has\n"
   ]
  },
  {
   "cell_type": "code",
   "execution_count": 28,
   "metadata": {
    "colab": {
     "base_uri": "https://localhost:8080/"
    },
    "id": "1WFrLLGsyOMP",
    "outputId": "784a53a5-230a-4972-9a59-4040a6a750c5",
    "tags": []
   },
   "outputs": [
    {
     "name": "stdout",
     "output_type": "stream",
     "text": [
      "BusinessTravel: 3\n",
      "Department: 3\n",
      "EducationField: 6\n",
      "Gender: 2\n",
      "JobRole: 9\n",
      "MaritalStatus: 3\n",
      "OverTime: 2\n"
     ]
    }
   ],
   "source": [
    "for col in df.columns[1: ]:\n",
    "\n",
    "    if X_train[col].dtype == \"object\":\n",
    "        print(f\"{col}: {df[col].nunique()}\")"
   ]
  },
  {
   "cell_type": "markdown",
   "metadata": {
    "id": "pMlvVUhEyP_X"
   },
   "source": [
    "\n",
    "We will use binary encoding for features with 2 or less unique vals\n",
    "\n",
    "For features < 6 unique vals we will use OneHot encoding\n",
    "\n",
    "Rest of the categorical features will be Target encoded\n",
    "\n",
    "\n"
   ]
  },
  {
   "cell_type": "markdown",
   "metadata": {
    "id": "-ZTxXnurcHFQ"
   },
   "source": [
    "## Encoding\n",
    "\n",
    "Lets encode these features now"
   ]
  },
  {
   "cell_type": "code",
   "execution_count": 29,
   "metadata": {
    "colab": {
     "base_uri": "https://localhost:8080/"
    },
    "id": "ciOy5RLpyX1j",
    "outputId": "74f72abe-d14f-44ca-b636-115c7a447777",
    "tags": []
   },
   "outputs": [
    {
     "name": "stdout",
     "output_type": "stream",
     "text": [
      "2 columns were label encoded.\n"
     ]
    }
   ],
   "source": [
    "from sklearn.preprocessing import LabelEncoder\n",
    "\n",
    "# Create a label encoder object\n",
    "le = LabelEncoder()\n",
    "\n",
    "# Label Encoding will be used for columns with 2 or less unique values\n",
    "le_count = 0\n",
    "cols = []\n",
    "\n",
    "for col in X_train.columns[1:]:\n",
    "\n",
    "    if X_train[col].dtype == 'object':\n",
    "\n",
    "        if len(list(X_train[col].unique())) <= 2:\n",
    "\n",
    "            X_train[col] = le.fit_transform(X_train[col])\n",
    "            X_test[col] = le.transform(X_test[col])\n",
    "            le_count += 1\n",
    "            cols.append(col)\n",
    "\n",
    "print('{} columns were label encoded.'.format(le_count))"
   ]
  },
  {
   "cell_type": "code",
   "execution_count": 30,
   "metadata": {
    "id": "t44sytDpeWPZ",
    "tags": []
   },
   "outputs": [],
   "source": [
    "from sklearn.preprocessing import OneHotEncoder\n",
    "\n",
    "ohe = OneHotEncoder(sparse_output = False, handle_unknown = 'ignore')\n",
    "\n",
    "for col in ['BusinessTravel', 'Department','MaritalStatus']:\n",
    "    if(col in X_train.columns):\n",
    "        train_encoded_vals = ohe.fit_transform(X_train[col].values.reshape(-1,1))\n",
    "        categories = col+'_'+ohe.categories_[0]\n",
    "\n",
    "        X_train[categories] = train_encoded_vals\n",
    "\n",
    "        test_encoded_vals = ohe.transform(X_test[col].values.reshape(-1,1))\n",
    "        X_test[categories] = test_encoded_vals\n",
    "        "
   ]
  },
  {
   "cell_type": "code",
   "execution_count": 33,
   "metadata": {
    "id": "vUZmFdE9qsLU",
    "tags": []
   },
   "outputs": [],
   "source": [
    "X_train.drop(['BusinessTravel', 'Department','MaritalStatus'], axis = 1, inplace = True )\n",
    "X_test.drop(['BusinessTravel', 'Department','MaritalStatus'], axis = 1, inplace = True )"
   ]
  },
  {
   "cell_type": "code",
   "execution_count": 34,
   "metadata": {
    "colab": {
     "base_uri": "https://localhost:8080/",
     "height": 317
    },
    "id": "DAn4kyOFyZtk",
    "outputId": "a1513e0d-e758-402d-847f-ec353f44b685",
    "tags": []
   },
   "outputs": [
    {
     "data": {
      "text/html": [
       "<div>\n",
       "<style scoped>\n",
       "    .dataframe tbody tr th:only-of-type {\n",
       "        vertical-align: middle;\n",
       "    }\n",
       "\n",
       "    .dataframe tbody tr th {\n",
       "        vertical-align: top;\n",
       "    }\n",
       "\n",
       "    .dataframe thead th {\n",
       "        text-align: right;\n",
       "    }\n",
       "</style>\n",
       "<table border=\"1\" class=\"dataframe\">\n",
       "  <thead>\n",
       "    <tr style=\"text-align: right;\">\n",
       "      <th></th>\n",
       "      <th>Age</th>\n",
       "      <th>DailyRate</th>\n",
       "      <th>DistanceFromHome</th>\n",
       "      <th>Education</th>\n",
       "      <th>EducationField</th>\n",
       "      <th>EnvironmentSatisfaction</th>\n",
       "      <th>Gender</th>\n",
       "      <th>HourlyRate</th>\n",
       "      <th>JobInvolvement</th>\n",
       "      <th>JobLevel</th>\n",
       "      <th>...</th>\n",
       "      <th>YearsWithCurrManager</th>\n",
       "      <th>BusinessTravel_Non-Travel</th>\n",
       "      <th>BusinessTravel_Travel_Frequently</th>\n",
       "      <th>BusinessTravel_Travel_Rarely</th>\n",
       "      <th>Department_Human Resources</th>\n",
       "      <th>Department_Research &amp; Development</th>\n",
       "      <th>Department_Sales</th>\n",
       "      <th>MaritalStatus_Divorced</th>\n",
       "      <th>MaritalStatus_Married</th>\n",
       "      <th>MaritalStatus_Single</th>\n",
       "    </tr>\n",
       "  </thead>\n",
       "  <tbody>\n",
       "    <tr>\n",
       "      <th>1011</th>\n",
       "      <td>36</td>\n",
       "      <td>1174</td>\n",
       "      <td>3</td>\n",
       "      <td>4</td>\n",
       "      <td>Marketing</td>\n",
       "      <td>1</td>\n",
       "      <td>0</td>\n",
       "      <td>99</td>\n",
       "      <td>3</td>\n",
       "      <td>2</td>\n",
       "      <td>...</td>\n",
       "      <td>1</td>\n",
       "      <td>0.0</td>\n",
       "      <td>0.0</td>\n",
       "      <td>1.0</td>\n",
       "      <td>0.0</td>\n",
       "      <td>0.0</td>\n",
       "      <td>1.0</td>\n",
       "      <td>0.0</td>\n",
       "      <td>0.0</td>\n",
       "      <td>1.0</td>\n",
       "    </tr>\n",
       "    <tr>\n",
       "      <th>1152</th>\n",
       "      <td>21</td>\n",
       "      <td>546</td>\n",
       "      <td>5</td>\n",
       "      <td>1</td>\n",
       "      <td>Medical</td>\n",
       "      <td>3</td>\n",
       "      <td>1</td>\n",
       "      <td>97</td>\n",
       "      <td>3</td>\n",
       "      <td>1</td>\n",
       "      <td>...</td>\n",
       "      <td>2</td>\n",
       "      <td>0.0</td>\n",
       "      <td>0.0</td>\n",
       "      <td>1.0</td>\n",
       "      <td>0.0</td>\n",
       "      <td>1.0</td>\n",
       "      <td>0.0</td>\n",
       "      <td>0.0</td>\n",
       "      <td>0.0</td>\n",
       "      <td>1.0</td>\n",
       "    </tr>\n",
       "    <tr>\n",
       "      <th>650</th>\n",
       "      <td>43</td>\n",
       "      <td>422</td>\n",
       "      <td>1</td>\n",
       "      <td>3</td>\n",
       "      <td>Life Sciences</td>\n",
       "      <td>4</td>\n",
       "      <td>0</td>\n",
       "      <td>33</td>\n",
       "      <td>3</td>\n",
       "      <td>2</td>\n",
       "      <td>...</td>\n",
       "      <td>2</td>\n",
       "      <td>0.0</td>\n",
       "      <td>1.0</td>\n",
       "      <td>0.0</td>\n",
       "      <td>0.0</td>\n",
       "      <td>1.0</td>\n",
       "      <td>0.0</td>\n",
       "      <td>0.0</td>\n",
       "      <td>1.0</td>\n",
       "      <td>0.0</td>\n",
       "    </tr>\n",
       "    <tr>\n",
       "      <th>824</th>\n",
       "      <td>42</td>\n",
       "      <td>188</td>\n",
       "      <td>29</td>\n",
       "      <td>3</td>\n",
       "      <td>Medical</td>\n",
       "      <td>2</td>\n",
       "      <td>1</td>\n",
       "      <td>56</td>\n",
       "      <td>1</td>\n",
       "      <td>2</td>\n",
       "      <td>...</td>\n",
       "      <td>0</td>\n",
       "      <td>0.0</td>\n",
       "      <td>0.0</td>\n",
       "      <td>1.0</td>\n",
       "      <td>0.0</td>\n",
       "      <td>1.0</td>\n",
       "      <td>0.0</td>\n",
       "      <td>0.0</td>\n",
       "      <td>0.0</td>\n",
       "      <td>1.0</td>\n",
       "    </tr>\n",
       "    <tr>\n",
       "      <th>1108</th>\n",
       "      <td>35</td>\n",
       "      <td>992</td>\n",
       "      <td>1</td>\n",
       "      <td>3</td>\n",
       "      <td>Medical</td>\n",
       "      <td>4</td>\n",
       "      <td>1</td>\n",
       "      <td>68</td>\n",
       "      <td>2</td>\n",
       "      <td>1</td>\n",
       "      <td>...</td>\n",
       "      <td>2</td>\n",
       "      <td>0.0</td>\n",
       "      <td>0.0</td>\n",
       "      <td>1.0</td>\n",
       "      <td>0.0</td>\n",
       "      <td>1.0</td>\n",
       "      <td>0.0</td>\n",
       "      <td>0.0</td>\n",
       "      <td>0.0</td>\n",
       "      <td>1.0</td>\n",
       "    </tr>\n",
       "  </tbody>\n",
       "</table>\n",
       "<p>5 rows × 36 columns</p>\n",
       "</div>"
      ],
      "text/plain": [
       "      Age  DailyRate  DistanceFromHome  Education EducationField  \\\n",
       "1011   36       1174                 3          4      Marketing   \n",
       "1152   21        546                 5          1        Medical   \n",
       "650    43        422                 1          3  Life Sciences   \n",
       "824    42        188                29          3        Medical   \n",
       "1108   35        992                 1          3        Medical   \n",
       "\n",
       "      EnvironmentSatisfaction  Gender  HourlyRate  JobInvolvement  JobLevel  \\\n",
       "1011                        1       0          99               3         2   \n",
       "1152                        3       1          97               3         1   \n",
       "650                         4       0          33               3         2   \n",
       "824                         2       1          56               1         2   \n",
       "1108                        4       1          68               2         1   \n",
       "\n",
       "      ... YearsWithCurrManager  BusinessTravel_Non-Travel  \\\n",
       "1011  ...                    1                        0.0   \n",
       "1152  ...                    2                        0.0   \n",
       "650   ...                    2                        0.0   \n",
       "824   ...                    0                        0.0   \n",
       "1108  ...                    2                        0.0   \n",
       "\n",
       "      BusinessTravel_Travel_Frequently  BusinessTravel_Travel_Rarely  \\\n",
       "1011                               0.0                           1.0   \n",
       "1152                               0.0                           1.0   \n",
       "650                                1.0                           0.0   \n",
       "824                                0.0                           1.0   \n",
       "1108                               0.0                           1.0   \n",
       "\n",
       "      Department_Human Resources  Department_Research & Development  \\\n",
       "1011                         0.0                                0.0   \n",
       "1152                         0.0                                1.0   \n",
       "650                          0.0                                1.0   \n",
       "824                          0.0                                1.0   \n",
       "1108                         0.0                                1.0   \n",
       "\n",
       "      Department_Sales  MaritalStatus_Divorced  MaritalStatus_Married  \\\n",
       "1011               1.0                     0.0                    0.0   \n",
       "1152               0.0                     0.0                    0.0   \n",
       "650                0.0                     0.0                    1.0   \n",
       "824                0.0                     0.0                    0.0   \n",
       "1108               0.0                     0.0                    0.0   \n",
       "\n",
       "      MaritalStatus_Single  \n",
       "1011                   1.0  \n",
       "1152                   1.0  \n",
       "650                    0.0  \n",
       "824                    1.0  \n",
       "1108                   1.0  \n",
       "\n",
       "[5 rows x 36 columns]"
      ]
     },
     "execution_count": 34,
     "metadata": {},
     "output_type": "execute_result"
    }
   ],
   "source": [
    "X_train.head()"
   ]
  },
  {
   "cell_type": "code",
   "execution_count": 41,
   "metadata": {
    "colab": {
     "base_uri": "https://localhost:8080/",
     "height": 317
    },
    "id": "-QHz3-YFq-rT",
    "outputId": "f0ead9f2-2845-4178-b854-4338b6a76e80",
    "tags": []
   },
   "outputs": [
    {
     "data": {
      "text/html": [
       "<div>\n",
       "<style scoped>\n",
       "    .dataframe tbody tr th:only-of-type {\n",
       "        vertical-align: middle;\n",
       "    }\n",
       "\n",
       "    .dataframe tbody tr th {\n",
       "        vertical-align: top;\n",
       "    }\n",
       "\n",
       "    .dataframe thead th {\n",
       "        text-align: right;\n",
       "    }\n",
       "</style>\n",
       "<table border=\"1\" class=\"dataframe\">\n",
       "  <thead>\n",
       "    <tr style=\"text-align: right;\">\n",
       "      <th></th>\n",
       "      <th>Age</th>\n",
       "      <th>DailyRate</th>\n",
       "      <th>DistanceFromHome</th>\n",
       "      <th>Education</th>\n",
       "      <th>EducationField</th>\n",
       "      <th>EnvironmentSatisfaction</th>\n",
       "      <th>Gender</th>\n",
       "      <th>HourlyRate</th>\n",
       "      <th>JobInvolvement</th>\n",
       "      <th>JobLevel</th>\n",
       "      <th>...</th>\n",
       "      <th>YearsWithCurrManager</th>\n",
       "      <th>BusinessTravel_Non-Travel</th>\n",
       "      <th>BusinessTravel_Travel_Frequently</th>\n",
       "      <th>BusinessTravel_Travel_Rarely</th>\n",
       "      <th>Department_Human Resources</th>\n",
       "      <th>Department_Research &amp; Development</th>\n",
       "      <th>Department_Sales</th>\n",
       "      <th>MaritalStatus_Divorced</th>\n",
       "      <th>MaritalStatus_Married</th>\n",
       "      <th>MaritalStatus_Single</th>\n",
       "    </tr>\n",
       "  </thead>\n",
       "  <tbody>\n",
       "    <tr>\n",
       "      <th>681</th>\n",
       "      <td>38</td>\n",
       "      <td>1333</td>\n",
       "      <td>1</td>\n",
       "      <td>3</td>\n",
       "      <td>Technical Degree</td>\n",
       "      <td>4</td>\n",
       "      <td>0</td>\n",
       "      <td>80</td>\n",
       "      <td>3</td>\n",
       "      <td>3</td>\n",
       "      <td>...</td>\n",
       "      <td>11</td>\n",
       "      <td>0.0</td>\n",
       "      <td>0.0</td>\n",
       "      <td>1.0</td>\n",
       "      <td>0.0</td>\n",
       "      <td>1.0</td>\n",
       "      <td>0.0</td>\n",
       "      <td>0.0</td>\n",
       "      <td>1.0</td>\n",
       "      <td>0.0</td>\n",
       "    </tr>\n",
       "    <tr>\n",
       "      <th>946</th>\n",
       "      <td>40</td>\n",
       "      <td>299</td>\n",
       "      <td>25</td>\n",
       "      <td>4</td>\n",
       "      <td>Marketing</td>\n",
       "      <td>4</td>\n",
       "      <td>1</td>\n",
       "      <td>57</td>\n",
       "      <td>2</td>\n",
       "      <td>3</td>\n",
       "      <td>...</td>\n",
       "      <td>0</td>\n",
       "      <td>0.0</td>\n",
       "      <td>0.0</td>\n",
       "      <td>1.0</td>\n",
       "      <td>0.0</td>\n",
       "      <td>0.0</td>\n",
       "      <td>1.0</td>\n",
       "      <td>0.0</td>\n",
       "      <td>0.0</td>\n",
       "      <td>1.0</td>\n",
       "    </tr>\n",
       "    <tr>\n",
       "      <th>626</th>\n",
       "      <td>32</td>\n",
       "      <td>638</td>\n",
       "      <td>8</td>\n",
       "      <td>2</td>\n",
       "      <td>Medical</td>\n",
       "      <td>3</td>\n",
       "      <td>0</td>\n",
       "      <td>91</td>\n",
       "      <td>4</td>\n",
       "      <td>2</td>\n",
       "      <td>...</td>\n",
       "      <td>3</td>\n",
       "      <td>0.0</td>\n",
       "      <td>0.0</td>\n",
       "      <td>1.0</td>\n",
       "      <td>0.0</td>\n",
       "      <td>1.0</td>\n",
       "      <td>0.0</td>\n",
       "      <td>0.0</td>\n",
       "      <td>1.0</td>\n",
       "      <td>0.0</td>\n",
       "    </tr>\n",
       "    <tr>\n",
       "      <th>1154</th>\n",
       "      <td>47</td>\n",
       "      <td>1176</td>\n",
       "      <td>26</td>\n",
       "      <td>4</td>\n",
       "      <td>Life Sciences</td>\n",
       "      <td>4</td>\n",
       "      <td>0</td>\n",
       "      <td>98</td>\n",
       "      <td>3</td>\n",
       "      <td>5</td>\n",
       "      <td>...</td>\n",
       "      <td>0</td>\n",
       "      <td>0.0</td>\n",
       "      <td>0.0</td>\n",
       "      <td>1.0</td>\n",
       "      <td>1.0</td>\n",
       "      <td>0.0</td>\n",
       "      <td>0.0</td>\n",
       "      <td>0.0</td>\n",
       "      <td>1.0</td>\n",
       "      <td>0.0</td>\n",
       "    </tr>\n",
       "    <tr>\n",
       "      <th>669</th>\n",
       "      <td>39</td>\n",
       "      <td>1122</td>\n",
       "      <td>6</td>\n",
       "      <td>3</td>\n",
       "      <td>Medical</td>\n",
       "      <td>4</td>\n",
       "      <td>1</td>\n",
       "      <td>70</td>\n",
       "      <td>3</td>\n",
       "      <td>1</td>\n",
       "      <td>...</td>\n",
       "      <td>2</td>\n",
       "      <td>0.0</td>\n",
       "      <td>0.0</td>\n",
       "      <td>1.0</td>\n",
       "      <td>0.0</td>\n",
       "      <td>1.0</td>\n",
       "      <td>0.0</td>\n",
       "      <td>0.0</td>\n",
       "      <td>1.0</td>\n",
       "      <td>0.0</td>\n",
       "    </tr>\n",
       "  </tbody>\n",
       "</table>\n",
       "<p>5 rows × 36 columns</p>\n",
       "</div>"
      ],
      "text/plain": [
       "      Age  DailyRate  DistanceFromHome  Education    EducationField  \\\n",
       "681    38       1333                 1          3  Technical Degree   \n",
       "946    40        299                25          4         Marketing   \n",
       "626    32        638                 8          2           Medical   \n",
       "1154   47       1176                26          4     Life Sciences   \n",
       "669    39       1122                 6          3           Medical   \n",
       "\n",
       "      EnvironmentSatisfaction  Gender  HourlyRate  JobInvolvement  JobLevel  \\\n",
       "681                         4       0          80               3         3   \n",
       "946                         4       1          57               2         3   \n",
       "626                         3       0          91               4         2   \n",
       "1154                        4       0          98               3         5   \n",
       "669                         4       1          70               3         1   \n",
       "\n",
       "      ... YearsWithCurrManager  BusinessTravel_Non-Travel  \\\n",
       "681   ...                   11                        0.0   \n",
       "946   ...                    0                        0.0   \n",
       "626   ...                    3                        0.0   \n",
       "1154  ...                    0                        0.0   \n",
       "669   ...                    2                        0.0   \n",
       "\n",
       "      BusinessTravel_Travel_Frequently  BusinessTravel_Travel_Rarely  \\\n",
       "681                                0.0                           1.0   \n",
       "946                                0.0                           1.0   \n",
       "626                                0.0                           1.0   \n",
       "1154                               0.0                           1.0   \n",
       "669                                0.0                           1.0   \n",
       "\n",
       "      Department_Human Resources  Department_Research & Development  \\\n",
       "681                          0.0                                1.0   \n",
       "946                          0.0                                0.0   \n",
       "626                          0.0                                1.0   \n",
       "1154                         1.0                                0.0   \n",
       "669                          0.0                                1.0   \n",
       "\n",
       "      Department_Sales  MaritalStatus_Divorced  MaritalStatus_Married  \\\n",
       "681                0.0                     0.0                    1.0   \n",
       "946                1.0                     0.0                    0.0   \n",
       "626                0.0                     0.0                    1.0   \n",
       "1154               0.0                     0.0                    1.0   \n",
       "669                0.0                     0.0                    1.0   \n",
       "\n",
       "      MaritalStatus_Single  \n",
       "681                    0.0  \n",
       "946                    1.0  \n",
       "626                    0.0  \n",
       "1154                   0.0  \n",
       "669                    0.0  \n",
       "\n",
       "[5 rows x 36 columns]"
      ]
     },
     "execution_count": 41,
     "metadata": {},
     "output_type": "execute_result"
    }
   ],
   "source": [
    "X_test.head()"
   ]
  },
  {
   "cell_type": "markdown",
   "metadata": {
    "id": "MbjW1vAMy0s0"
   },
   "source": [
    "Now we will first perform target encoding"
   ]
  },
  {
   "cell_type": "code",
   "execution_count": 42,
   "metadata": {
    "colab": {
     "base_uri": "https://localhost:8080/"
    },
    "id": "IvJg5_AGy1mz",
    "outputId": "bfe9bffd-d738-4253-d828-927e623eda4c",
    "tags": []
   },
   "outputs": [
    {
     "name": "stdout",
     "output_type": "stream",
     "text": [
      "Requirement already satisfied: category_encoders in /Users/debnsuma/anaconda3/lib/python3.11/site-packages (2.6.3)\n",
      "Requirement already satisfied: numpy>=1.14.0 in /Users/debnsuma/anaconda3/lib/python3.11/site-packages (from category_encoders) (1.24.3)\n",
      "Requirement already satisfied: scikit-learn>=0.20.0 in /Users/debnsuma/anaconda3/lib/python3.11/site-packages (from category_encoders) (1.3.2)\n",
      "Requirement already satisfied: scipy>=1.0.0 in /Users/debnsuma/anaconda3/lib/python3.11/site-packages (from category_encoders) (1.11.1)\n",
      "Requirement already satisfied: statsmodels>=0.9.0 in /Users/debnsuma/anaconda3/lib/python3.11/site-packages (from category_encoders) (0.14.0)\n",
      "Requirement already satisfied: pandas>=1.0.5 in /Users/debnsuma/anaconda3/lib/python3.11/site-packages (from category_encoders) (2.0.3)\n",
      "Requirement already satisfied: patsy>=0.5.1 in /Users/debnsuma/anaconda3/lib/python3.11/site-packages (from category_encoders) (0.5.3)\n",
      "Requirement already satisfied: python-dateutil>=2.8.2 in /Users/debnsuma/anaconda3/lib/python3.11/site-packages (from pandas>=1.0.5->category_encoders) (2.8.2)\n",
      "Requirement already satisfied: pytz>=2020.1 in /Users/debnsuma/anaconda3/lib/python3.11/site-packages (from pandas>=1.0.5->category_encoders) (2023.3.post1)\n",
      "Requirement already satisfied: tzdata>=2022.1 in /Users/debnsuma/anaconda3/lib/python3.11/site-packages (from pandas>=1.0.5->category_encoders) (2023.3)\n",
      "Requirement already satisfied: six in /Users/debnsuma/anaconda3/lib/python3.11/site-packages (from patsy>=0.5.1->category_encoders) (1.16.0)\n",
      "Requirement already satisfied: joblib>=1.1.1 in /Users/debnsuma/anaconda3/lib/python3.11/site-packages (from scikit-learn>=0.20.0->category_encoders) (1.2.0)\n",
      "Requirement already satisfied: threadpoolctl>=2.0.0 in /Users/debnsuma/anaconda3/lib/python3.11/site-packages (from scikit-learn>=0.20.0->category_encoders) (2.2.0)\n",
      "Requirement already satisfied: packaging>=21.3 in /Users/debnsuma/anaconda3/lib/python3.11/site-packages (from statsmodels>=0.9.0->category_encoders) (23.1)\n"
     ]
    }
   ],
   "source": [
    "!pip install category_encoders"
   ]
  },
  {
   "cell_type": "code",
   "execution_count": 43,
   "metadata": {
    "colab": {
     "base_uri": "https://localhost:8080/"
    },
    "id": "fnLfYTBwy4IV",
    "outputId": "8ee8fd89-29ee-4d17-fcf1-5dc92d1be7e5",
    "tags": []
   },
   "outputs": [],
   "source": [
    "import category_encoders as ce\n",
    "\n",
    "ce_target = ce.TargetEncoder(cols = ['EducationField', 'JobRole'])\n",
    "X_train = ce_target.fit_transform(X_train, y_train)\n",
    "X_test = ce_target.transform(X_test)"
   ]
  },
  {
   "cell_type": "code",
   "execution_count": 44,
   "metadata": {
    "id": "DC0N6_ZuiJ4v",
    "tags": []
   },
   "outputs": [],
   "source": [
    "X_train.to_csv('X_train.csv',index=False)"
   ]
  },
  {
   "cell_type": "code",
   "execution_count": 45,
   "metadata": {
    "id": "sRFeepnjjVQe",
    "tags": []
   },
   "outputs": [],
   "source": [
    "X_test.to_csv('X_test.csv',index=False)"
   ]
  },
  {
   "cell_type": "code",
   "execution_count": 46,
   "metadata": {
    "id": "drdwPwmejbe1",
    "tags": []
   },
   "outputs": [],
   "source": [
    "df = {'Target': y_test.values}\n",
    "\n",
    "pd.DataFrame(df).to_csv('y_test.csv',index=False)\n",
    "\n",
    "\n",
    "df = {'Target': y_train.values}\n",
    "\n",
    "pd.DataFrame(df).to_csv('y_train.csv',index=False)"
   ]
  },
  {
   "cell_type": "code",
   "execution_count": 49,
   "metadata": {
    "tags": []
   },
   "outputs": [
    {
     "data": {
      "text/html": [
       "<div>\n",
       "<style scoped>\n",
       "    .dataframe tbody tr th:only-of-type {\n",
       "        vertical-align: middle;\n",
       "    }\n",
       "\n",
       "    .dataframe tbody tr th {\n",
       "        vertical-align: top;\n",
       "    }\n",
       "\n",
       "    .dataframe thead th {\n",
       "        text-align: right;\n",
       "    }\n",
       "</style>\n",
       "<table border=\"1\" class=\"dataframe\">\n",
       "  <thead>\n",
       "    <tr style=\"text-align: right;\">\n",
       "      <th></th>\n",
       "      <th>Age</th>\n",
       "      <th>DailyRate</th>\n",
       "      <th>DistanceFromHome</th>\n",
       "      <th>Education</th>\n",
       "      <th>EducationField</th>\n",
       "      <th>EnvironmentSatisfaction</th>\n",
       "      <th>Gender</th>\n",
       "      <th>HourlyRate</th>\n",
       "      <th>JobInvolvement</th>\n",
       "      <th>JobLevel</th>\n",
       "      <th>...</th>\n",
       "      <th>YearsWithCurrManager</th>\n",
       "      <th>BusinessTravel_Non-Travel</th>\n",
       "      <th>BusinessTravel_Travel_Frequently</th>\n",
       "      <th>BusinessTravel_Travel_Rarely</th>\n",
       "      <th>Department_Human Resources</th>\n",
       "      <th>Department_Research &amp; Development</th>\n",
       "      <th>Department_Sales</th>\n",
       "      <th>MaritalStatus_Divorced</th>\n",
       "      <th>MaritalStatus_Married</th>\n",
       "      <th>MaritalStatus_Single</th>\n",
       "    </tr>\n",
       "  </thead>\n",
       "  <tbody>\n",
       "    <tr>\n",
       "      <th>1011</th>\n",
       "      <td>36</td>\n",
       "      <td>1174</td>\n",
       "      <td>3</td>\n",
       "      <td>4</td>\n",
       "      <td>0.233869</td>\n",
       "      <td>1</td>\n",
       "      <td>0</td>\n",
       "      <td>99</td>\n",
       "      <td>3</td>\n",
       "      <td>2</td>\n",
       "      <td>...</td>\n",
       "      <td>1</td>\n",
       "      <td>0.0</td>\n",
       "      <td>0.0</td>\n",
       "      <td>1.0</td>\n",
       "      <td>0.0</td>\n",
       "      <td>0.0</td>\n",
       "      <td>1.0</td>\n",
       "      <td>0.0</td>\n",
       "      <td>0.0</td>\n",
       "      <td>1.0</td>\n",
       "    </tr>\n",
       "    <tr>\n",
       "      <th>1152</th>\n",
       "      <td>21</td>\n",
       "      <td>546</td>\n",
       "      <td>5</td>\n",
       "      <td>1</td>\n",
       "      <td>0.127479</td>\n",
       "      <td>3</td>\n",
       "      <td>1</td>\n",
       "      <td>97</td>\n",
       "      <td>3</td>\n",
       "      <td>1</td>\n",
       "      <td>...</td>\n",
       "      <td>2</td>\n",
       "      <td>0.0</td>\n",
       "      <td>0.0</td>\n",
       "      <td>1.0</td>\n",
       "      <td>0.0</td>\n",
       "      <td>1.0</td>\n",
       "      <td>0.0</td>\n",
       "      <td>0.0</td>\n",
       "      <td>0.0</td>\n",
       "      <td>1.0</td>\n",
       "    </tr>\n",
       "    <tr>\n",
       "      <th>650</th>\n",
       "      <td>43</td>\n",
       "      <td>422</td>\n",
       "      <td>1</td>\n",
       "      <td>3</td>\n",
       "      <td>0.151584</td>\n",
       "      <td>4</td>\n",
       "      <td>0</td>\n",
       "      <td>33</td>\n",
       "      <td>3</td>\n",
       "      <td>2</td>\n",
       "      <td>...</td>\n",
       "      <td>2</td>\n",
       "      <td>0.0</td>\n",
       "      <td>1.0</td>\n",
       "      <td>0.0</td>\n",
       "      <td>0.0</td>\n",
       "      <td>1.0</td>\n",
       "      <td>0.0</td>\n",
       "      <td>0.0</td>\n",
       "      <td>1.0</td>\n",
       "      <td>0.0</td>\n",
       "    </tr>\n",
       "    <tr>\n",
       "      <th>824</th>\n",
       "      <td>42</td>\n",
       "      <td>188</td>\n",
       "      <td>29</td>\n",
       "      <td>3</td>\n",
       "      <td>0.127479</td>\n",
       "      <td>2</td>\n",
       "      <td>1</td>\n",
       "      <td>56</td>\n",
       "      <td>1</td>\n",
       "      <td>2</td>\n",
       "      <td>...</td>\n",
       "      <td>0</td>\n",
       "      <td>0.0</td>\n",
       "      <td>0.0</td>\n",
       "      <td>1.0</td>\n",
       "      <td>0.0</td>\n",
       "      <td>1.0</td>\n",
       "      <td>0.0</td>\n",
       "      <td>0.0</td>\n",
       "      <td>0.0</td>\n",
       "      <td>1.0</td>\n",
       "    </tr>\n",
       "    <tr>\n",
       "      <th>1108</th>\n",
       "      <td>35</td>\n",
       "      <td>992</td>\n",
       "      <td>1</td>\n",
       "      <td>3</td>\n",
       "      <td>0.127479</td>\n",
       "      <td>4</td>\n",
       "      <td>1</td>\n",
       "      <td>68</td>\n",
       "      <td>2</td>\n",
       "      <td>1</td>\n",
       "      <td>...</td>\n",
       "      <td>2</td>\n",
       "      <td>0.0</td>\n",
       "      <td>0.0</td>\n",
       "      <td>1.0</td>\n",
       "      <td>0.0</td>\n",
       "      <td>1.0</td>\n",
       "      <td>0.0</td>\n",
       "      <td>0.0</td>\n",
       "      <td>0.0</td>\n",
       "      <td>1.0</td>\n",
       "    </tr>\n",
       "  </tbody>\n",
       "</table>\n",
       "<p>5 rows × 36 columns</p>\n",
       "</div>"
      ],
      "text/plain": [
       "      Age  DailyRate  DistanceFromHome  Education  EducationField  \\\n",
       "1011   36       1174                 3          4        0.233869   \n",
       "1152   21        546                 5          1        0.127479   \n",
       "650    43        422                 1          3        0.151584   \n",
       "824    42        188                29          3        0.127479   \n",
       "1108   35        992                 1          3        0.127479   \n",
       "\n",
       "      EnvironmentSatisfaction  Gender  HourlyRate  JobInvolvement  JobLevel  \\\n",
       "1011                        1       0          99               3         2   \n",
       "1152                        3       1          97               3         1   \n",
       "650                         4       0          33               3         2   \n",
       "824                         2       1          56               1         2   \n",
       "1108                        4       1          68               2         1   \n",
       "\n",
       "      ...  YearsWithCurrManager  BusinessTravel_Non-Travel  \\\n",
       "1011  ...                     1                        0.0   \n",
       "1152  ...                     2                        0.0   \n",
       "650   ...                     2                        0.0   \n",
       "824   ...                     0                        0.0   \n",
       "1108  ...                     2                        0.0   \n",
       "\n",
       "      BusinessTravel_Travel_Frequently  BusinessTravel_Travel_Rarely  \\\n",
       "1011                               0.0                           1.0   \n",
       "1152                               0.0                           1.0   \n",
       "650                                1.0                           0.0   \n",
       "824                                0.0                           1.0   \n",
       "1108                               0.0                           1.0   \n",
       "\n",
       "      Department_Human Resources  Department_Research & Development  \\\n",
       "1011                         0.0                                0.0   \n",
       "1152                         0.0                                1.0   \n",
       "650                          0.0                                1.0   \n",
       "824                          0.0                                1.0   \n",
       "1108                         0.0                                1.0   \n",
       "\n",
       "      Department_Sales  MaritalStatus_Divorced  MaritalStatus_Married  \\\n",
       "1011               1.0                     0.0                    0.0   \n",
       "1152               0.0                     0.0                    0.0   \n",
       "650                0.0                     0.0                    1.0   \n",
       "824                0.0                     0.0                    0.0   \n",
       "1108               0.0                     0.0                    0.0   \n",
       "\n",
       "      MaritalStatus_Single  \n",
       "1011                   1.0  \n",
       "1152                   1.0  \n",
       "650                    0.0  \n",
       "824                    1.0  \n",
       "1108                   1.0  \n",
       "\n",
       "[5 rows x 36 columns]"
      ]
     },
     "execution_count": 49,
     "metadata": {},
     "output_type": "execute_result"
    }
   ],
   "source": [
    "X_train.head()"
   ]
  },
  {
   "cell_type": "code",
   "execution_count": null,
   "metadata": {},
   "outputs": [],
   "source": []
  }
 ],
 "metadata": {
  "colab": {
   "provenance": []
  },
  "kernelspec": {
   "display_name": "Python 3 (ipykernel)",
   "language": "python",
   "name": "python3"
  },
  "language_info": {
   "codemirror_mode": {
    "name": "ipython",
    "version": 3
   },
   "file_extension": ".py",
   "mimetype": "text/x-python",
   "name": "python",
   "nbconvert_exporter": "python",
   "pygments_lexer": "ipython3",
   "version": "3.11.5"
  }
 },
 "nbformat": 4,
 "nbformat_minor": 4
}
