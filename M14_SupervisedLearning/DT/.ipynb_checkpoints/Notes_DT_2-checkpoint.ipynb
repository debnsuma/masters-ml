{
  "nbformat": 4,
  "nbformat_minor": 0,
  "metadata": {
    "colab": {
      "provenance": []
    },
    "kernelspec": {
      "name": "python3",
      "display_name": "Python 3"
    },
    "language_info": {
      "name": "python"
    }
  },
  "cells": [
    {
      "cell_type": "markdown",
      "source": [
        "## Content\n",
        "- Hyperparameter tuning\n",
        "\n",
        "- Impact of Outliers\n",
        "\n",
        "- Standardization\n",
        "\n",
        "- Encoding of categorical features for DT (with large categories)\n",
        "\n",
        "- DT for High demensionality data\n",
        "\n",
        "- Imbalance in DT\n",
        "\n",
        "- Runtime complexity\n",
        "\n",
        "- Multiclass classification\n",
        "\n",
        "- Using feature twice for split\n",
        "\n",
        "- Feature importance\n",
        "\n",
        "- Regression using Decision Tree\n",
        "\n",
        "- Greedy Approximation of DT\n",
        "\n",
        "- Summary"
      ],
      "metadata": {
        "id": "_twJBxieqfqc"
      }
    },
    {
      "cell_type": "markdown",
      "metadata": {
        "id": "kYs_JTaRDsE-"
      },
      "source": [
        "# **Hyperparameters**"
      ]
    },
    {
      "cell_type": "markdown",
      "metadata": {
        "id": "WDwMOSDwFeA4"
      },
      "source": [
        "Let's look at various hyperparmeter that we can use from sklearn library"
      ]
    },
    {
      "cell_type": "markdown",
      "metadata": {
        "id": "rvSk_QmnGJiz"
      },
      "source": [
        "\n",
        "\n",
        "<img src='https://drive.google.com/uc?id=1z8KTHw3qq0wonrM-zxnSD_Tunh477zLv'>\n",
        "\n"
      ]
    },
    {
      "cell_type": "markdown",
      "metadata": {
        "id": "HXEbToB4eUYR"
      },
      "source": [
        "* **Criterion = gini**, states that make splits basing on gini impurity\n",
        "* **Splitter = best**, states that\n",
        "    - make the split basing on the best computed value insteaD of random values\n",
        "    - these random values are used in Extremely Randomised Trees (will learn later).\n",
        "\n",
        "\n",
        "* **max_depth** used set maximium depth upto which a tree will grow\n",
        "    - By default, it is **None** meaning it'll grow until all leaves are pure.\n",
        "\n",
        "* **min_samples_split** is used to set the minimum number of data points required to split further.\n",
        "    - helps us to control depth which therefore prevents **overfit**.\n",
        "    - By default, it is 2\n",
        "\n",
        "* **min_samples_leaf** helps us to set the minimum number of samples which a leaf node can have\n",
        "\n",
        "\n",
        "\n",
        "\n",
        "\n"
      ]
    },
    {
      "cell_type": "markdown",
      "metadata": {
        "id": "aScvhgoLjAhl"
      },
      "source": [
        "* **max_leaf_nodes** helps us to set the maximum number of leaf nodes that a tree can have.\n",
        "    - If we keep a limit on number of leaf nodes\n",
        "        - means we are indirectly controlling the depth"
      ]
    },
    {
      "cell_type": "markdown",
      "metadata": {
        "id": "epKABjgTjHtN"
      },
      "source": [
        "\n",
        "* **max_features** is used to set the features to be considered while deciding the best split.\n",
        "    - By default, it considers all the features for split\n",
        "    - In case we have too many features\n",
        "        - and we want to make it computationally efficient,\n",
        "        - we can try **max_features =sqrt/log2**\n",
        "        - it'll try out random subset of features\n",
        "\n",
        "<img src='https://drive.google.com/uc?id=1mddwaljVp4_V7fKzYDCpPEo7IRaL3Ju8'>\n"
      ]
    },
    {
      "cell_type": "markdown",
      "metadata": {
        "id": "4KmIjHLJTRsD"
      },
      "source": [
        "### Code for DT - Hyperparameter tuning"
      ]
    },
    {
      "cell_type": "code",
      "execution_count": null,
      "metadata": {
        "colab": {
          "base_uri": "https://localhost:8080/"
        },
        "id": "u64_GrZjTWgK",
        "outputId": "f2090104-c9d5-49fb-e554-2aced00892da"
      },
      "outputs": [
        {
          "output_type": "stream",
          "name": "stdout",
          "text": [
            "K-Fold for depth:3 Accuracy Mean: Train: 78.07846974883203 Validation: 71.38249118683902\n",
            "K-Fold for depth: 3 Accuracy Std: Train: 0.4642241748449559 Validation: 7.256654003605825\n",
            "***************\n",
            "K-Fold for depth:4 Accuracy Mean: Train: 81.92646297816736 Validation: 76.79318448883666\n",
            "K-Fold for depth: 4 Accuracy Std: Train: 1.0045119361734336 Validation: 6.00125792126415\n",
            "***************\n",
            "K-Fold for depth:5 Accuracy Mean: Train: 85.52800777094221 Validation: 78.6301410105758\n",
            "K-Fold for depth: 5 Accuracy Std: Train: 1.036654883302406 Validation: 4.553803112914131\n",
            "***************\n",
            "K-Fold for depth:67 Accuracy Mean: Train: 100.0 Validation: 82.8586956521739\n",
            "K-Fold for depth: 67 Accuracy Std: Train: 0.0 Validation: 9.466893026447542\n",
            "***************\n",
            "K-Fold for depth:9 Accuracy Mean: Train: 97.48074248924556 Validation: 84.42538190364279\n",
            "K-Fold for depth: 9 Accuracy Std: Train: 0.6194207855061746 Validation: 7.902336655110872\n",
            "***************\n",
            "K-Fold for depth:11 Accuracy Mean: Train: 99.26040534367915 Validation: 83.77732079905994\n",
            "K-Fold for depth: 11 Accuracy Std: Train: 0.5692542633650874 Validation: 8.705318431667438\n",
            "***************\n",
            "K-Fold for depth:13 Accuracy Mean: Train: 99.7895405950784 Validation: 83.61545240893066\n",
            "K-Fold for depth: 13 Accuracy Std: Train: 0.25829111846679725 Validation: 8.910945971225587\n",
            "***************\n",
            "K-Fold for depth:15 Accuracy Mean: Train: 99.96993385447986 Validation: 83.4532902467685\n",
            "K-Fold for depth: 15 Accuracy Std: Train: 0.05543923305648306 Validation: 9.01887674270088\n",
            "***************\n"
          ]
        }
      ],
      "source": [
        "depths = [3,4,5,67,9,11,13,15]\n",
        "\n",
        "for depth in depths:\n",
        "    tree_clf = DecisionTreeClassifier(random_state=7, max_depth = depth)\n",
        "\n",
        "    cv_acc_results = cross_validate(tree_clf, X_sm, y_sm, cv = kfold, scoring = 'accuracy', return_train_score = True)\n",
        "\n",
        "    print(f\"K-Fold for depth:{depth} Accuracy Mean: Train: {cv_acc_results['train_score'].mean()*100} Validation: {cv_acc_results['test_score'].mean()*100}\")\n",
        "    print(f\"K-Fold for depth: {depth} Accuracy Std: Train: {cv_acc_results['train_score'].std()*100} Validation: {cv_acc_results['test_score'].std()*100}\")\n",
        "    print('***************')"
      ]
    },
    {
      "cell_type": "markdown",
      "metadata": {
        "id": "LxNHmee7WmbM"
      },
      "source": [
        "#### Training with best params"
      ]
    },
    {
      "cell_type": "code",
      "execution_count": null,
      "metadata": {
        "id": "cxhFzQOVWks_"
      },
      "outputs": [],
      "source": [
        "tree_clf = DecisionTreeClassifier(random_state=7, max_depth = 4)\n",
        "tree_clf=tree_clf.fit(X_sm, y_sm)\n",
        "pred = tree_clf.predict(X_test)"
      ]
    },
    {
      "cell_type": "markdown",
      "metadata": {
        "id": "LXU_utleWvMU"
      },
      "source": [
        "#### Visualizing DT"
      ]
    },
    {
      "cell_type": "code",
      "source": [
        "plt.figure(figsize=(12,12))\n",
        "plot_tree(tree_clf, filled=True);"
      ],
      "metadata": {
        "colab": {
          "base_uri": "https://localhost:8080/",
          "height": 683
        },
        "id": "rl2gJFRHmNiO",
        "outputId": "bd8c0609-34d9-4cb4-ab3b-8529a826a47a"
      },
      "execution_count": null,
      "outputs": [
        {
          "output_type": "display_data",
          "data": {
            "text/plain": [
              "<Figure size 864x864 with 1 Axes>"
            ],
            "image/png": "[encoded data removed]"
          },
          "metadata": {
            "needs_background": "light"
          }
        }
      ]
    },
    {
      "cell_type": "markdown",
      "metadata": {
        "id": "dIvqS39cWyUN"
      },
      "source": [
        "Notice how the tree is pruned now i.e. depth has reduced"
      ]
    },
    {
      "cell_type": "markdown",
      "metadata": {
        "id": "4SKgMF5hW3-_"
      },
      "source": [
        "What can we infer from this visualisation ?\n",
        "- The tree is now much shorter in depth\n",
        "- The leaf nodes are more generalised as well\n",
        "- This is what the hyperparameter tuning helped achieve"
      ]
    },
    {
      "cell_type": "markdown",
      "metadata": {
        "id": "Y2IZNzbUYFvd"
      },
      "source": [
        "#### **Confusion Matrix**"
      ]
    },
    {
      "cell_type": "markdown",
      "metadata": {
        "id": "dgzlNggGXA6q"
      },
      "source": [
        "Let's also plot the confusion matrix for test data\n",
        "\n",
        "Recall the TP,TN,FN,FP we discussed in performance metric lecture\n",
        "\n"
      ]
    },
    {
      "cell_type": "code",
      "execution_count": null,
      "metadata": {
        "colab": {
          "base_uri": "https://localhost:8080/",
          "height": 345
        },
        "id": "N-yz6bWXXKjv",
        "outputId": "57bd1da8-a244-400d-8acd-95add9dbad86"
      },
      "outputs": [
        {
          "output_type": "execute_result",
          "data": {
            "text/plain": [
              "Text(0.5, 15.0, 'Predicted label')"
            ]
          },
          "metadata": {},
          "execution_count": 35
        },
        {
          "output_type": "display_data",
          "data": {
            "text/plain": [
              "<Figure size 432x288 with 2 Axes>"
            ],
            "image/png": "[encoded data removed]"
          },
          "metadata": {
            "needs_background": "light"
          }
        }
      ],
      "source": [
        "## Confusion Matrix\n",
        "\n",
        "from sklearn.metrics import confusion_matrix\n",
        "import seaborn as sns\n",
        "\n",
        "cnf_matrix = confusion_matrix(y_test, tree_clf.predict(X_test))\n",
        "# class_names=[0,1] # name  of classes\n",
        "fig, ax = plt.subplots()\n",
        "# tick_marks = np.arange(len(class_names))\n",
        "# plt.xticks(tick_marks, class_names)\n",
        "# plt.yticks(tick_marks, class_names)\n",
        "# create heatmap\n",
        "sns.heatmap(pd.DataFrame(cnf_matrix), annot=True, cmap=\"YlGnBu\" ,fmt='g')\n",
        "# ax.xaxis.set_label_position(\"top\")\n",
        "plt.tight_layout()\n",
        "plt.title('Confusion matrix')\n",
        "plt.ylabel('Actual label')\n",
        "plt.xlabel('Predicted label')"
      ]
    },
    {
      "cell_type": "markdown",
      "metadata": {
        "id": "6hfFzNK7YRpD"
      },
      "source": [
        "Notice that\n",
        "- model is classifying class 0 quite well\n",
        "- However, the number of FN is large."
      ]
    },
    {
      "cell_type": "markdown",
      "metadata": {
        "id": "G67KwdaQacX-"
      },
      "source": [
        "# **Impact of outliers**\n"
      ]
    },
    {
      "cell_type": "markdown",
      "metadata": {
        "id": "J8S9i1XKaU_I"
      },
      "source": [
        "#### Question: Will outliers impact the DT ?\n",
        "\n",
        "Outliers impact a decision tree when the depth is high i.e. overfitted model\n",
        "\n",
        "Imagine a scenario where\n",
        "- we have 1000 datapoints at root node\n",
        "- we built a tree\n",
        "- After splitting agressively i.e. depth is high we got\n",
        "    - 5 +ve point in one leaf nodes\n",
        "\n",
        "There may be chance these 5 points are noise / outliers.\n",
        "\n",
        "Hence, outliers will only impact tree with large depth"
      ]
    },
    {
      "cell_type": "markdown",
      "metadata": {
        "id": "ODFrBFgGwLKn"
      },
      "source": [
        "<img src='https://drive.google.com/uc?id=1nlGGvUplV-nqDCnB13U2GVx3FN9fSTZ4'>\n"
      ]
    },
    {
      "cell_type": "markdown",
      "metadata": {
        "id": "0HiwzqbvvfRc"
      },
      "source": [
        "## **Standardization**"
      ]
    },
    {
      "cell_type": "markdown",
      "metadata": {
        "id": "q9P2RQjdwORP"
      },
      "source": [
        "#### (Revision question) Did we standardize data for Linear Regression & PCA?\n",
        "\n",
        "Yes."
      ]
    },
    {
      "cell_type": "markdown",
      "metadata": {
        "id": "KcyPVYbaWMNj"
      },
      "source": [
        "#### Question: Is Standardisation  required for Decision tree?\n",
        "\n",
        "Imagine we have a numerical feature $f_i$\n",
        "- values are say, 2.1, 2.6, 2.8 and so on ..\n",
        "\n",
        "Let's say we standardized it\n",
        "- values we go -1.2, -1, 0 , .. and so on\n",
        "\n",
        "For calculating entropy, we are using the values as threshold only as splitting criteria.\n",
        "\n",
        "Entropy isn't dependent on value\n",
        "- it depends on number of +ve/ -ve datapoints\n",
        "- and in turn dependend on thresold\n",
        "\n",
        "Threshold order won't change with standardization.\n",
        "\n",
        "Standardization does not impact entropy and Information gain\n",
        "\n",
        "<br>\n",
        "\n",
        "**Key lesson**:\n",
        "\n",
        "Though standardisation is required in optimisation based problems like Linear Regression, Logistic Regression, PCA,\n",
        "- as standardisation **doesn't effect the entropy or the Information Gain** of the data it doesn't add any value in Decision tree.\n",
        "\n"
      ]
    },
    {
      "cell_type": "markdown",
      "metadata": {
        "id": "3aqO0LIAXPdJ"
      },
      "source": [
        "\n",
        "<img src='https://drive.google.com/uc?id=1TKSiPMLUt14FHs1AjAqySZQycgyhwWs0'>"
      ]
    },
    {
      "cell_type": "markdown",
      "metadata": {
        "id": "csgXgiT-yq_q"
      },
      "source": [
        "# **Encoding of categorial features for DT**"
      ]
    },
    {
      "cell_type": "markdown",
      "metadata": {
        "id": "qbVwTXbJXZBp"
      },
      "source": [
        "Imagine we have a categorical feature with many categories  (for example: zipcode with 10,000 values)\n",
        "\n",
        "\n",
        "#### Question: How can we encode  a categorical feature with many categories ?  \n",
        "\n",
        "* We can do **\"no encoding\"**\n",
        " * if we did not do encoding\n",
        "    - we'll get 10,000 child nodes\n",
        "    - data set becomes too small in some nodes\n",
        "    - prediction may suffer as we don't have enough datapoints (can be outliers or noise) in node to affirmly back our prediction\n",
        "    - not a wise choice\n",
        "\n",
        "* We can do **target encoding**\n",
        " * covert to numerical and then give it to decision tree\n",
        "\n",
        "* We **should not do one hot encoding**\n",
        "  * Because that increases the dimensionality of the data\n",
        "\n",
        "**Key lesson:**\n",
        "* Appropriate feature encoding depends on the model that you are using like if you are using logistic regression you can use one hat encoding but not in decision tree.\n"
      ]
    },
    {
      "cell_type": "markdown",
      "metadata": {
        "id": "tAQzP0YoDDAK"
      },
      "source": [
        "\n",
        "\n",
        "<img src='https://drive.google.com/uc?id=1gtSEg36jCNkhdaAYOPuctlWEqJEH7l2j'>"
      ]
    },
    {
      "cell_type": "markdown",
      "metadata": {
        "id": "JFFx6XiB2PHi"
      },
      "source": [
        "# **DT for high dimension data**"
      ]
    },
    {
      "cell_type": "markdown",
      "metadata": {
        "id": "0sWPccRGwv73"
      },
      "source": [
        "### Question: Why should we avoid DT for high dimensional data?"
      ]
    },
    {
      "cell_type": "markdown",
      "metadata": {
        "id": "AHPhbIMs2dQc"
      },
      "source": [
        "\n",
        "If there are lots of features it takes a lot of time to check every possible split and compute entropy\n",
        "\n",
        "Hence, time to build DT shoots up\n",
        "\n",
        "**So, what can be done about that.?**\n",
        "* We can use distributed computing or multi-processing\n",
        " * **Distributed Computing** is a process in which the data is split and worked on different cores.\n",
        "* We avoid using Decision trees as when the dimensionality is high a simple linear seperator can be used, by using logistic regression\n",
        "* Either use Random forest or GBDT\n"
      ]
    },
    {
      "cell_type": "markdown",
      "metadata": {
        "id": "TB9UDani2euw"
      },
      "source": [
        "\n",
        "\n",
        "<img src='https://drive.google.com/uc?id=1UcqJB8hfzbXaxnU4zwIygyshwoY1T46R'>\n"
      ]
    },
    {
      "cell_type": "markdown",
      "metadata": {
        "id": "lXvhuF3Z2u4M"
      },
      "source": [
        "# **Imbalance data in DT**"
      ]
    },
    {
      "cell_type": "markdown",
      "metadata": {
        "id": "nMny_aMv7AkT"
      },
      "source": [
        "#### Question: Will imbalance data impact DT?\n",
        "\n"
      ]
    },
    {
      "cell_type": "markdown",
      "metadata": {
        "id": "ODkNXTitN74U"
      },
      "source": [
        "Recall that Entropy and Gini Impurity are fucntions of probability\n",
        "\n",
        "* Assume  a condition where there is an imbalance in the root node\n",
        "  * **having 99% positive data**\n",
        "  * **This skews the entropy or Gini Impurity**\n",
        "\n",
        "So, we have to rebalance the data. (which is what we did in the beginning)\n",
        "\n",
        "* We can rebalance in many ways like\n",
        " * using class weights\n",
        " * up - samplinig\n",
        " * SMOTE can be used.  "
      ]
    },
    {
      "cell_type": "markdown",
      "metadata": {
        "id": "Zp0Z2b7BbGzO"
      },
      "source": [
        "\n",
        "\n",
        "<img src='https://drive.google.com/uc?id=1HKUqza2v3zHmYP3-zYRKWD_Mi5MUs8PX'>"
      ]
    },
    {
      "cell_type": "markdown",
      "metadata": {
        "id": "sdCwgPjQ4ur3"
      },
      "source": [
        "# **Train/Run time complexity**"
      ]
    },
    {
      "cell_type": "markdown",
      "metadata": {
        "id": "pOeWK7zb8JK3"
      },
      "source": [
        "#### Question: What do you think will be run time and space complexity will be ?"
      ]
    },
    {
      "cell_type": "markdown",
      "metadata": {
        "id": "R4uADt855zMo"
      },
      "source": [
        "Let\n",
        "- n be the number of data points\n",
        "- m be the number of nodes and\n",
        "- d be the depth of the tree\n",
        "\n",
        "Then,\n",
        "* **Train time complexity** is **$O(nlog(n)*d)$**\n",
        "    - where nlog(n) is the time taken to sort numerical features\n",
        "    - multiplied by d, as you have to calculate split for d features\n",
        "\n",
        "* The **Run Time complexity** of the tree of depth d is O(depth)\n",
        "    - as we only have to evaluate at max d condtions\n",
        "\n",
        "* The **Space complexity** of the tree is O(m)\n",
        "    - we only have to store **m if else condtions**\n",
        "\n",
        "Here,  depth is the function of number of nodes i.e log(m)   \n",
        "\n",
        "If $d_{best}$ is computated using cross validation the decision tree will be very efficient at runtime.\n",
        "\n"
      ]
    },
    {
      "cell_type": "markdown",
      "metadata": {
        "id": "MEd1KnQfB0CM"
      },
      "source": [
        "\n",
        "<img src='https://drive.google.com/uc?id=1lgpPR9T2IxGxWsmUH9D8hO-5NTQtJFqE'>"
      ]
    },
    {
      "cell_type": "markdown",
      "metadata": {
        "id": "Hel_aeClPzzf"
      },
      "source": [
        "## Multi class classification"
      ]
    },
    {
      "cell_type": "markdown",
      "metadata": {
        "id": "VFh6NmauF8_a"
      },
      "source": [
        "#### How will DT work for multi class classification?"
      ]
    },
    {
      "cell_type": "markdown",
      "metadata": {
        "id": "H1s9aViHQFlp"
      },
      "source": [
        "Whether it is binary or multiclass, DT works the same.\n",
        "\n",
        "We just need to calculate the Entropy or Gini Impurity.\n",
        "\n",
        "However, there is a catch\n",
        "* at the leaf node if we have more classes we take the majority class.\n"
      ]
    },
    {
      "cell_type": "markdown",
      "metadata": {
        "id": "Wot1LN-RWnrs"
      },
      "source": [
        "\n",
        "<img src='https://drive.google.com/uc?id=1dDWifTRTzncApzTa-M6ExppyCJj5m6-Q'>\n"
      ]
    },
    {
      "cell_type": "markdown",
      "metadata": {
        "id": "TtLFTvjaHcn3"
      },
      "source": [
        "# **Interpretibility**"
      ]
    },
    {
      "cell_type": "markdown",
      "metadata": {
        "id": "UwpyJWzwIKxT"
      },
      "source": [
        "Decision Trees are hyper interpretable\n",
        "- as we can read them as if else condition\n",
        "- can be understood by non expert"
      ]
    },
    {
      "cell_type": "markdown",
      "metadata": {
        "id": "_crMG3fRIFdV"
      },
      "source": [
        "\n",
        "<img src='https://drive.google.com/uc?id=1S8XxE09aiBO_RK_Bte8jKIGjr81An7Ef'>\n",
        "\n"
      ]
    },
    {
      "cell_type": "markdown",
      "metadata": {
        "id": "jZdovsTcIYMZ"
      },
      "source": [
        "## Using feature twice for split"
      ]
    },
    {
      "cell_type": "markdown",
      "metadata": {
        "id": "5yYH04q9Ii3Q"
      },
      "source": [
        "#### Question: Can we use a feature twice for splitting?"
      ]
    },
    {
      "cell_type": "markdown",
      "metadata": {
        "id": "afSNZG1YIWPM"
      },
      "source": [
        "\n",
        "\n",
        "Imagine we split the root node using feature $f_1$\n",
        "\n",
        "**Can we use this feature again to split the child node ?**"
      ]
    },
    {
      "cell_type": "markdown",
      "metadata": {
        "id": "t1AWD3QLIh6r"
      },
      "source": [
        "\n",
        "<img src='https://drive.google.com/uc?id=1Ve7CZ5Pb8Tufhb98AhmEg5L9rVHgm1-z'>\n",
        "\n"
      ]
    },
    {
      "cell_type": "markdown",
      "metadata": {
        "id": "iBRg2JbUJj-N"
      },
      "source": [
        "Let's see for both categorical as well as numerical features\n",
        "\n",
        "Let's say we have\n",
        "- 100 +ve points\n",
        "- 100 -ve points at root node.\n",
        "\n",
        "### Categorical feature\n",
        "\n",
        "We used Gender (categorical) to split the data\n",
        "\n",
        "We got two child nodes\n",
        "- Male node:\n",
        "    - 70 +ve\n",
        "    - 30 -ve\n",
        "\n",
        "- Female node:\n",
        "    - 30 +ve\n",
        "    - 70 -ve\n",
        "\n",
        "**Can we again use Gender to split Male node?**\n",
        "\n",
        "No.\n",
        "Even if we use, we only have Male category data in current node.\n",
        "- there will be no information gain i.e. info gain = 0\n",
        "\n",
        "\n",
        "\n",
        "\n"
      ]
    },
    {
      "cell_type": "markdown",
      "metadata": {
        "id": "I6dIIMNZKC96"
      },
      "source": [
        "\n",
        "<img src='https://drive.google.com/uc?id=1g_zrbs47bI4XqaQ4lJulVnal-B2mzfhn'>\n",
        "\n"
      ]
    },
    {
      "cell_type": "markdown",
      "metadata": {
        "id": "IH_Bng1AVB7s"
      },
      "source": [
        "But, there's an exception\n",
        "- A single categorical feature can be used more than once in different branches of tree"
      ]
    },
    {
      "cell_type": "markdown",
      "metadata": {
        "id": "IaKPSvDnVz9W"
      },
      "source": [
        "\n",
        "<img src='https://drive.google.com/uc?id=16L9ZMNk4hz9eMrafNrPxcL4w-zLfNGrt'>\n",
        "\n"
      ]
    },
    {
      "cell_type": "markdown",
      "metadata": {
        "id": "FRa04OCyMCE0"
      },
      "source": [
        "### Numerical feature\n",
        "\n",
        "Now, let's say we are splitting the root node numerical feature i.e. Years of Experience.\n",
        "\n",
        "First, we found out IG for each threshold and YOE of 12 yrs was giving the best IG.\n",
        "- We split the node with $YOE ≤ 12$\n",
        "\n",
        "#### Question: Can we again use numerical feature for split?\n",
        "\n",
        "Yes. It is possible that same feature for different threshold may give best IG among all features at child node.\n",
        "\n"
      ]
    },
    {
      "cell_type": "markdown",
      "metadata": {
        "id": "ddj37Pj8Nrx1"
      },
      "source": [
        "\n",
        "<img src='https://drive.google.com/uc?id=10CQM-YGajNRnSIMlPTvUvosTnCoXFEcb'>\n",
        "\n"
      ]
    },
    {
      "cell_type": "markdown",
      "metadata": {
        "id": "fMT9P1XgNo7W"
      },
      "source": [
        "# **Feature Importance**"
      ]
    },
    {
      "cell_type": "markdown",
      "metadata": {
        "id": "xsFTHs9oNgLT"
      },
      "source": [
        "Recall,\n",
        "* In case of logistic and linear regression after standardisation we can just consider absolute value of weights which give us feature importance\n",
        "\n",
        "But we don't have any weights in DT.\n",
        "\n",
        "#### Question: How can we get Feature importance for DT ? Any ideas?\n",
        "\n",
        "Suppose we have 10,000 datapoints @ root node.\n",
        "\n",
        "Let us consider a feature $f_i$ which is used twice in splitting a decision tree\n",
        "\n",
        "* At first split let the number of data points be 5000($n_1$) and Infromation Gain is IG$_1$\n",
        "* Let number of data points at second split be 500($n_2$) and Infromation Gain is IG$_2$\n",
        "\n",
        "* We calculate feature importaance of $f_i$ by\n",
        " - $f_i$ = IG$_1$ * $\\frac{n_1}{n}$ + IG$_2$ * $\\frac{n_2}{n}$\n",
        " * i.e $f_i$ = IG$_1$ * $\\frac{5000}{10,000}$ + IG$_2$ * $\\frac{500}{10,000}$\n",
        "\n",
        "This is called **normalized information gain.**\n",
        "\n",
        "* Closer to the root node, more the weightage\n",
        "    - it gives more weightage based on number of datapoints it is impacting.\n"
      ]
    },
    {
      "cell_type": "markdown",
      "metadata": {
        "id": "RTSKeOpqbaE1"
      },
      "source": [
        "\n",
        "\n",
        "<img src='https://drive.google.com/uc?id=12gJv36lGDumsuJ0bdafTB1Iq8bPpbs68'>\n"
      ]
    },
    {
      "cell_type": "markdown",
      "metadata": {
        "id": "hQOYWdHTcSWq"
      },
      "source": [
        "We calculate normalized information gain for all features and\n",
        "- this Normalized IG is used as feature importances.\n",
        "\n",
        "\n",
        "Do note that this is one of the popular way of calulating Feature importance.\n",
        "\n",
        "Different libraries may use different way of calculating Feature importance i.e. implementation specific.\n",
        "\n"
      ]
    },
    {
      "cell_type": "markdown",
      "metadata": {
        "id": "OH3nHrc9NonL"
      },
      "source": [
        "\n",
        "\n",
        "<img src='https://drive.google.com/uc?id=1_89mxH7bzeSeuR90uQjSwU-jPlSGkeqV'>\n"
      ]
    },
    {
      "cell_type": "markdown",
      "metadata": {
        "id": "s64u0nqV8u_W"
      },
      "source": [
        "### Code walkthrough"
      ]
    },
    {
      "cell_type": "code",
      "execution_count": null,
      "metadata": {
        "colab": {
          "base_uri": "https://localhost:8080/",
          "height": 627
        },
        "id": "cY19KT0a7wum",
        "outputId": "f45f0023-c3cc-4883-bb02-feabae061f4e"
      },
      "outputs": [
        {
          "output_type": "display_data",
          "data": {
            "text/plain": [
              "<Figure size 1080x504 with 1 Axes>"
            ],
            "image/png": "[encoded data removed]"
          },
          "metadata": {
            "needs_background": "light"
          }
        }
      ],
      "source": [
        "importances = tree_clf.feature_importances_\n",
        "indices = np.argsort(importances)[::-1] # Sort feature importances in descending order\n",
        "names = [X_sm.columns[i] for i in indices] # Rearrange feature names so they match the sorted feature importances\n",
        "\n",
        "plt.figure(figsize=(15, 7)) # Create plot\n",
        "plt.title(\"Feature Importance\") # Create plot title\n",
        "plt.bar(range(X_sm.shape[1]), importances[indices]) # Add bars\n",
        "plt.xticks(range(X_sm.shape[1]), names, rotation=90) # Add feature names as x-axis labels\n",
        "plt.show() # Show plot"
      ]
    },
    {
      "cell_type": "code",
      "execution_count": null,
      "metadata": {
        "id": "_nIJC5_Z8l7L",
        "colab": {
          "base_uri": "https://localhost:8080/",
          "height": 363
        },
        "outputId": "39761621-3dc9-4a6f-c846-ea4883621f4b"
      },
      "outputs": [
        {
          "output_type": "execute_result",
          "data": {
            "text/plain": [
              "                             Feature  Coefficient\n",
              "0               MaritalStatus_Single     0.551861\n",
              "1  Department_Research & Development     0.116828\n",
              "2                     JobInvolvement     0.086921\n",
              "3                            JobRole     0.082005\n",
              "4                    JobSatisfaction     0.068126\n",
              "5                   StockOptionLevel     0.030027\n",
              "6              TrainingTimesLastYear     0.027184\n",
              "7                      MonthlyIncome     0.025852\n",
              "8   BusinessTravel_Travel_Frequently     0.005684\n",
              "9                                Age     0.005513"
            ],
            "text/html": [
              "\n",
              "  <div id=\"df-5b5ce898-761d-4607-85a1-8e7c195c3bdc\">\n",
              "    <div class=\"colab-df-container\">\n",
              "      <div>\n",
              "<style scoped>\n",
              "    .dataframe tbody tr th:only-of-type {\n",
              "        vertical-align: middle;\n",
              "    }\n",
              "\n",
              "    .dataframe tbody tr th {\n",
              "        vertical-align: top;\n",
              "    }\n",
              "\n",
              "    .dataframe thead th {\n",
              "        text-align: right;\n",
              "    }\n",
              "</style>\n",
              "<table border=\"1\" class=\"dataframe\">\n",
              "  <thead>\n",
              "    <tr style=\"text-align: right;\">\n",
              "      <th></th>\n",
              "      <th>Feature</th>\n",
              "      <th>Coefficient</th>\n",
              "    </tr>\n",
              "  </thead>\n",
              "  <tbody>\n",
              "    <tr>\n",
              "      <th>0</th>\n",
              "      <td>MaritalStatus_Single</td>\n",
              "      <td>0.551861</td>\n",
              "    </tr>\n",
              "    <tr>\n",
              "      <th>1</th>\n",
              "      <td>Department_Research &amp; Development</td>\n",
              "      <td>0.116828</td>\n",
              "    </tr>\n",
              "    <tr>\n",
              "      <th>2</th>\n",
              "      <td>JobInvolvement</td>\n",
              "      <td>0.086921</td>\n",
              "    </tr>\n",
              "    <tr>\n",
              "      <th>3</th>\n",
              "      <td>JobRole</td>\n",
              "      <td>0.082005</td>\n",
              "    </tr>\n",
              "    <tr>\n",
              "      <th>4</th>\n",
              "      <td>JobSatisfaction</td>\n",
              "      <td>0.068126</td>\n",
              "    </tr>\n",
              "    <tr>\n",
              "      <th>5</th>\n",
              "      <td>StockOptionLevel</td>\n",
              "      <td>0.030027</td>\n",
              "    </tr>\n",
              "    <tr>\n",
              "      <th>6</th>\n",
              "      <td>TrainingTimesLastYear</td>\n",
              "      <td>0.027184</td>\n",
              "    </tr>\n",
              "    <tr>\n",
              "      <th>7</th>\n",
              "      <td>MonthlyIncome</td>\n",
              "      <td>0.025852</td>\n",
              "    </tr>\n",
              "    <tr>\n",
              "      <th>8</th>\n",
              "      <td>BusinessTravel_Travel_Frequently</td>\n",
              "      <td>0.005684</td>\n",
              "    </tr>\n",
              "    <tr>\n",
              "      <th>9</th>\n",
              "      <td>Age</td>\n",
              "      <td>0.005513</td>\n",
              "    </tr>\n",
              "  </tbody>\n",
              "</table>\n",
              "</div>\n",
              "      <button class=\"colab-df-convert\" onclick=\"convertToInteractive('df-5b5ce898-761d-4607-85a1-8e7c195c3bdc')\"\n",
              "              title=\"Convert this dataframe to an interactive table.\"\n",
              "              style=\"display:none;\">\n",
              "        \n",
              "  <svg xmlns=\"http://www.w3.org/2000/svg\" height=\"24px\"viewBox=\"0 0 24 24\"\n",
              "       width=\"24px\">\n",
              "    <path d=\"M0 0h24v24H0V0z\" fill=\"none\"/>\n",
              "    <path d=\"M18.56 5.44l.94 2.06.94-2.06 2.06-.94-2.06-.94-.94-2.06-.94 2.06-2.06.94zm-11 1L8.5 8.5l.94-2.06 2.06-.94-2.06-.94L8.5 2.5l-.94 2.06-2.06.94zm10 10l.94 2.06.94-2.06 2.06-.94-2.06-.94-.94-2.06-.94 2.06-2.06.94z\"/><path d=\"M17.41 7.96l-1.37-1.37c-.4-.4-.92-.59-1.43-.59-.52 0-1.04.2-1.43.59L10.3 9.45l-7.72 7.72c-.78.78-.78 2.05 0 2.83L4 21.41c.39.39.9.59 1.41.59.51 0 1.02-.2 1.41-.59l7.78-7.78 2.81-2.81c.8-.78.8-2.07 0-2.86zM5.41 20L4 18.59l7.72-7.72 1.47 1.35L5.41 20z\"/>\n",
              "  </svg>\n",
              "      </button>\n",
              "      \n",
              "  <style>\n",
              "    .colab-df-container {\n",
              "      display:flex;\n",
              "      flex-wrap:wrap;\n",
              "      gap: 12px;\n",
              "    }\n",
              "\n",
              "    .colab-df-convert {\n",
              "      background-color: #E8F0FE;\n",
              "      border: none;\n",
              "      border-radius: 50%;\n",
              "      cursor: pointer;\n",
              "      display: none;\n",
              "      fill: #1967D2;\n",
              "      height: 32px;\n",
              "      padding: 0 0 0 0;\n",
              "      width: 32px;\n",
              "    }\n",
              "\n",
              "    .colab-df-convert:hover {\n",
              "      background-color: #E2EBFA;\n",
              "      box-shadow: 0px 1px 2px rgba(60, 64, 67, 0.3), 0px 1px 3px 1px rgba(60, 64, 67, 0.15);\n",
              "      fill: #174EA6;\n",
              "    }\n",
              "\n",
              "    [theme=dark] .colab-df-convert {\n",
              "      background-color: #3B4455;\n",
              "      fill: #D2E3FC;\n",
              "    }\n",
              "\n",
              "    [theme=dark] .colab-df-convert:hover {\n",
              "      background-color: #434B5C;\n",
              "      box-shadow: 0px 1px 3px 1px rgba(0, 0, 0, 0.15);\n",
              "      filter: drop-shadow(0px 1px 2px rgba(0, 0, 0, 0.3));\n",
              "      fill: #FFFFFF;\n",
              "    }\n",
              "  </style>\n",
              "\n",
              "      <script>\n",
              "        const buttonEl =\n",
              "          document.querySelector('#df-5b5ce898-761d-4607-85a1-8e7c195c3bdc button.colab-df-convert');\n",
              "        buttonEl.style.display =\n",
              "          google.colab.kernel.accessAllowed ? 'block' : 'none';\n",
              "\n",
              "        async function convertToInteractive(key) {\n",
              "          const element = document.querySelector('#df-5b5ce898-761d-4607-85a1-8e7c195c3bdc');\n",
              "          const dataTable =\n",
              "            await google.colab.kernel.invokeFunction('convertToInteractive',\n",
              "                                                     [key], {});\n",
              "          if (!dataTable) return;\n",
              "\n",
              "          const docLinkHtml = 'Like what you see? Visit the ' +\n",
              "            '<a target=\"_blank\" href=https://colab.research.google.com/notebooks/data_table.ipynb>data table notebook</a>'\n",
              "            + ' to learn more about interactive tables.';\n",
              "          element.innerHTML = '';\n",
              "          dataTable['output_type'] = 'display_data';\n",
              "          await google.colab.output.renderOutput(dataTable, element);\n",
              "          const docLink = document.createElement('div');\n",
              "          docLink.innerHTML = docLinkHtml;\n",
              "          element.appendChild(docLink);\n",
              "        }\n",
              "      </script>\n",
              "    </div>\n",
              "  </div>\n",
              "  "
            ]
          },
          "metadata": {},
          "execution_count": 64
        }
      ],
      "source": [
        "df_param_coeff = pd.DataFrame(columns=['Feature', 'Coefficient'])\n",
        "for i in range(len(list(X_sm.columns))):\n",
        "    feat = X_sm.columns[i]\n",
        "    coeff = importances[i]\n",
        "    df_param_coeff.loc[i] = (feat, coeff)\n",
        "df_param_coeff.sort_values(by='Coefficient', ascending=False, inplace=True)\n",
        "df_param_coeff = df_param_coeff.reset_index(drop=True)\n",
        "df_param_coeff.head(10)"
      ]
    },
    {
      "cell_type": "markdown",
      "metadata": {
        "id": "U_xv-Cv78qJ9"
      },
      "source": [
        "#### What can we infer from this data ?\n",
        "- StockOptionLevel affects attrition the most\n",
        "- So the company can focus on providing more stocks to employees\n",
        "- Then comes factors such as Job_Satisfaction and JobRole."
      ]
    },
    {
      "cell_type": "markdown",
      "metadata": {
        "id": "qthT9V2UBVCb"
      },
      "source": [
        "# **Regression using decision tree**"
      ]
    },
    {
      "cell_type": "markdown",
      "metadata": {
        "id": "RlfrJMoiBg8b"
      },
      "source": [
        "For Classifiaction task,  \n",
        "* We had entropy and Gini Impurity to choose the feature for split.\n",
        "* At leaf node, we had datapoints with $y_i's$ and\n",
        "    - we used class label of **majority data points** to predict the class label for query data point.\n",
        "\n",
        "#### Question: Can we use Entropy or Gini Impurity for regression?\n",
        "NO! Since entropy and GI are functions of probability of class labels.\n",
        "- For regression, we don't have any class labels\n",
        "- We have continous values.\n",
        "\n",
        "\n",
        "Also, we have continous y label in leaf nodes as well. How do we calculate predicted label?\n",
        "\n",
        "**What do we do in the Regression?**\n",
        "*  We take the mean or median of all values in the leaf node and give that value as predicted value ($y_{pred}$).\n",
        "\n"
      ]
    },
    {
      "cell_type": "markdown",
      "metadata": {
        "id": "bXkBdbYpH_ae"
      },
      "source": [
        "\n",
        "<img src='https://drive.google.com/uc?id=18nvTgpEKS4Rhcn4em4hPNgyH1eRLF14Q'>"
      ]
    },
    {
      "cell_type": "markdown",
      "metadata": {
        "id": "njYXMnDqFtom"
      },
      "source": [
        "#### Question: What is the alternative for Entropy? (Hint: Recall Linear Regression)\n",
        "* here, as we saw in linear regression already,we can use **Mean Squared Error or Median Absolute error**\n",
        "\n",
        "Let us assume a data D at root node\n",
        "- along with $y_i$ (continuous)\n",
        "- It is split into D1 and D2\n",
        "\n",
        "Now we calculate\n",
        "- the MSE of these points in parent node and\n",
        "- the weighted MSE for the child nodes\n",
        "\n",
        "\n",
        "Now, the difference between the MSE of parent node and weighted MSE of child nodes can be used as the criteria.\n",
        " * ΔMSE = (MSE of parent node) $-$ (weighted MSE of child nodes)\n",
        "\n",
        "* MSE is lowest when all $y_i$'s are same and high when they are diverse"
      ]
    },
    {
      "cell_type": "markdown",
      "metadata": {
        "id": "fdr81NSnIKiT"
      },
      "source": [
        "\n",
        "<img src='https://drive.google.com/uc?id=11QnvrLTzCUN0pDEXHb5zXSOTIL_UHV-X'>\n",
        "\n"
      ]
    },
    {
      "cell_type": "markdown",
      "metadata": {
        "id": "VoV9LoyJnPyx"
      },
      "source": [
        "\n",
        "<img src='https://drive.google.com/uc?id=1jGzM-H3p-wgW3_bVga-WMNb_QsF0x5mj'>"
      ]
    },
    {
      "cell_type": "markdown",
      "metadata": {
        "id": "-4QxqIriIiYe"
      },
      "source": [
        "#### How is MSE calculated?\n",
        "\n",
        "Let us assume we have a datapoints with target value $y$\n",
        "* We consider the mean or medain of these points as predicted value i.e $ŷ_i$\n",
        "* Now we calculate the MSE or MAE for these points, this will be the MSE of parent node.\n",
        "* After the data is split\n",
        " * We now consider the mean of all values ($y_i'$) in child node as predicted value $ŷ_i'$\n",
        " * we now calculate the MSE or MAE for these in each child node and then calculate the weighted  MSE of the child nodes.\n",
        "* Then we find the difference and use this as the critearia to be compared among the features to decide the split."
      ]
    },
    {
      "cell_type": "markdown",
      "metadata": {
        "id": "cPDDoE7IL4fA"
      },
      "source": [
        "\n",
        "<img src='https://drive.google.com/uc?id=1J8ifUk-ir3xCSsTRkr855bU0RB_ea-gF'>"
      ]
    },
    {
      "cell_type": "markdown",
      "metadata": {
        "id": "Nlk6WXkCjmIU"
      },
      "source": [
        "### Example\n",
        "\n"
      ]
    },
    {
      "cell_type": "markdown",
      "metadata": {
        "id": "lWBjurg7lb9p"
      },
      "source": [
        "Suppose we have 6 datapoints with two features ($f_1, f_2$)\n",
        "- $f_1$ has categories $C_1, C_2, C_3, C_4$\n",
        "- $f_2$ has categories $D_1, D_2, D_3$\n",
        "- $y_i$'s are 1,2,3,4,5,6 resp.\n",
        "\n",
        "#### Question: What will be the $ŷ$?\n",
        "It'll be mean on the $y_i$'s i.e. 3.5\n",
        "\n",
        "Suppose we are splitting by $f_1$\n",
        "- There will be 4 child nodes as there are 4 categories\n",
        "\n",
        "For category $C_1$\n",
        "- We get 3 datapoints in child node\n",
        "- $ŷ$ will be mean of 1,2,3 i.e. 2\n",
        "\n",
        "For $C_2$\n",
        "- We only got 1 datapoints\n",
        "- MSE for this node will be zero as actual y and predicted y will be same\n",
        "\n",
        "Similarly, we get datapoints in $C_3$ and $C_4$\n",
        "\n",
        "- We calculate MSE for child nodes and then calculate weighted MSE for child nodes\n",
        "- Then, we calculate ΔMSE i.e. MSE parent - weighted MSE of child.\n",
        "\n",
        "\n",
        "#### What does ΔMSE signify?\n",
        "It signifies the reduction in MSE from parent to child.\n",
        "\n",
        "#### What is objective of regression?\n",
        "We want to reduce the MSE as much as possible\n",
        "\n",
        "So, We will pick the feature with highest ΔMSE  for split\n",
        "\n"
      ]
    },
    {
      "cell_type": "markdown",
      "metadata": {
        "id": "2DQHcjpylGih"
      },
      "source": [
        "\n",
        "<img src='https://drive.google.com/uc?id=1TTqz-kAYonTuDkR81BbBW_s4ZT8JxPwF'>"
      ]
    },
    {
      "cell_type": "markdown",
      "source": [
        "### Code walkthrough -sklearn DT regressor"
      ],
      "metadata": {
        "id": "vgsiOBjTAH4F"
      }
    },
    {
      "cell_type": "code",
      "execution_count": null,
      "metadata": {
        "id": "KhnfHislSHhm"
      },
      "outputs": [],
      "source": [
        "from sklearn.tree import DecisionTreeRegressor\n",
        "from sklearn.metrics import mean_squared_error\n",
        "from sklearn.model_selection import KFold, cross_validate"
      ]
    },
    {
      "cell_type": "code",
      "execution_count": null,
      "metadata": {
        "id": "2pGzjOW9Riuk"
      },
      "outputs": [],
      "source": [
        "X_train = X_train.values.reshape(-1,1)"
      ]
    },
    {
      "cell_type": "code",
      "execution_count": null,
      "metadata": {
        "id": "-CWE2y1wR0qm"
      },
      "outputs": [],
      "source": [
        "y_train = y_train.values"
      ]
    },
    {
      "cell_type": "code",
      "execution_count": null,
      "metadata": {
        "id": "EEym_a0AQ_SJ",
        "colab": {
          "base_uri": "https://localhost:8080/"
        },
        "outputId": "e6df43a8-be5b-4846-ee63-395566e1cac8"
      },
      "outputs": [
        {
          "output_type": "stream",
          "name": "stdout",
          "text": [
            "K-Fold for depth:1 -ve MSE Mean: Train: -157.26203654446752 Validation: -162.90925592378582\n",
            "***************\n",
            "K-Fold for depth:2 -ve MSE Mean: Train: -4.048119079766786 Validation: -13.39989251528687\n",
            "***************\n",
            "K-Fold for depth:3 -ve MSE Mean: Train: -3.9038139450277405 Validation: -13.834955053322545\n",
            "***************\n",
            "K-Fold for depth:5 -ve MSE Mean: Train: -3.7902751186766683 Validation: -13.84652404788459\n",
            "***************\n",
            "K-Fold for depth:6 -ve MSE Mean: Train: -3.783735335389713 Validation: -13.891536196689499\n",
            "***************\n",
            "K-Fold for depth:7 -ve MSE Mean: Train: -3.781426977910967 Validation: -13.896999974822002\n",
            "***************\n",
            "K-Fold for depth:9 -ve MSE Mean: Train: -3.781426977910967 Validation: -13.896999974822002\n",
            "***************\n",
            "K-Fold for depth:11 -ve MSE Mean: Train: -3.781426977910967 Validation: -13.896999974822002\n",
            "***************\n"
          ]
        }
      ],
      "source": [
        "depths = [1,2,3,5,6,7,9,11]\n",
        "\n",
        "for depth in depths:\n",
        "    tree_reg = DecisionTreeRegressor(random_state=7, max_depth = depth, min_samples_split = 10, min_samples_leaf = 20)\n",
        "\n",
        "    cv_acc_results = cross_validate(tree_reg, X_train, y_train, cv = kfold, scoring = 'neg_mean_squared_error', return_train_score = True)\n",
        "\n",
        "    print(f\"K-Fold for depth:{depth} -ve MSE Mean: Train: {cv_acc_results['train_score'].mean()*100} Validation: {cv_acc_results['test_score'].mean()*100}\")\n",
        "    print('***************')"
      ]
    },
    {
      "cell_type": "markdown",
      "metadata": {
        "id": "tpe1tq4MULO-"
      },
      "source": [
        "Notice, The regressor is overfitting\n",
        "- This may be due to the fact that we have low number of datapoints for training.\n",
        "- we can also try playing with hyperparam tuning\n",
        "\n"
      ]
    },
    {
      "cell_type": "markdown",
      "metadata": {
        "id": "Wv7a4Gh2V5lp"
      },
      "source": [
        "#### Visualizing Decision Tree"
      ]
    },
    {
      "cell_type": "code",
      "execution_count": null,
      "metadata": {
        "id": "VadWyMMxTZjq"
      },
      "outputs": [],
      "source": [
        "features = list(regression_data.columns[0])"
      ]
    },
    {
      "cell_type": "code",
      "execution_count": null,
      "metadata": {
        "id": "eifwk-npTkzb",
        "colab": {
          "base_uri": "https://localhost:8080/"
        },
        "outputId": "4ff2226f-42e5-4eba-8cb4-3f76c60a1214"
      },
      "outputs": [
        {
          "output_type": "execute_result",
          "data": {
            "text/plain": [
              "DecisionTreeRegressor(max_depth=2, min_samples_split=20, random_state=7)"
            ]
          },
          "metadata": {},
          "execution_count": 83
        }
      ],
      "source": [
        "tree_reg = DecisionTreeRegressor(random_state=7, max_depth = 2, min_samples_split = 20 )\n",
        "tree_reg.fit(X_train, y_train)"
      ]
    },
    {
      "cell_type": "code",
      "execution_count": null,
      "metadata": {
        "id": "Y0hISD9NTOtL",
        "colab": {
          "base_uri": "https://localhost:8080/",
          "height": 376
        },
        "outputId": "25cbfd4f-ec88-440a-e995-6a6f9889d725"
      },
      "outputs": [
        {
          "output_type": "execute_result",
          "data": {
            "image/png": "[encoded data removed]",
            "text/plain": [
              "<IPython.core.display.Image object>"
            ]
          },
          "metadata": {},
          "execution_count": 84
        }
      ],
      "source": [
        "dot_data = StringIO()\n",
        "export_graphviz(tree_reg, out_file=dot_data, feature_names=features, filled=True)\n",
        "graph = pydot.graph_from_dot_data(dot_data.getvalue())\n",
        "Image(graph[0].create_png())\n"
      ]
    },
    {
      "cell_type": "markdown",
      "metadata": {
        "id": "DJ8vc5_HV8QO"
      },
      "source": [
        "#### Visualizing Regression Line"
      ]
    },
    {
      "cell_type": "code",
      "execution_count": null,
      "metadata": {
        "id": "nUWUw1VkVHQf",
        "colab": {
          "base_uri": "https://localhost:8080/",
          "height": 622
        },
        "outputId": "8000231b-7b93-4b4c-be59-5c8e01c377e0"
      },
      "outputs": [
        {
          "output_type": "display_data",
          "data": {
            "text/plain": [
              "<Figure size 1080x720 with 1 Axes>"
            ],
            "image/png": "[encoded data removed]"
          },
          "metadata": {
            "needs_background": "light"
          }
        }
      ],
      "source": [
        "X_grid = np.arange(min(X_train), max(X_train), 0.01)\n",
        "X_grid = X_grid.reshape((len(X_grid), 1))\n",
        "plt.figure(figsize = (15,10))\n",
        "plt.scatter(X_train, y_train, color = 'red', label = 'Training data')\n",
        "plt.scatter (X_test, y_test, color = 'green', label = 'Test data')\n",
        "plt.plot(X_grid, tree_reg.predict(X_grid), color = 'blue')\n",
        "plt.title('Decision Tree Regression')\n",
        "plt.xlabel('X_train')\n",
        "plt.ylabel('Y')\n",
        "plt.legend()\n",
        "plt.show()"
      ]
    },
    {
      "cell_type": "markdown",
      "metadata": {
        "id": "bja_aP2sc-bH"
      },
      "source": [
        "# Good to know: Greedy Approximation of DT"
      ]
    },
    {
      "cell_type": "markdown",
      "metadata": {
        "id": "OuEnRiCDcRgl"
      },
      "source": [
        "There is no guarantee that DT being created is going to be the most opitmal one\n",
        "\n",
        "* **Building an optimal Decision Tree is a NP-Complete problem**\n",
        "    - This means it can't be done in polynomial time\n",
        "   \n",
        "\n",
        "* So, we do **Greedy approximation**, which picks the feature which gives the best Information Gain\n",
        "    - The decision taken is the one that is best at that time\n",
        "    - It might not be the best for entire decision tree"
      ]
    },
    {
      "cell_type": "markdown",
      "metadata": {
        "id": "sLmD7qDydDHa"
      },
      "source": [
        "\n",
        "\n",
        "<img src='https://drive.google.com/uc?id=1RPdMDPcY6yPSngdtIYo9fMA9aFmadjg6'>\n"
      ]
    },
    {
      "cell_type": "markdown",
      "metadata": {
        "id": "xWMzXsKF7Y21"
      },
      "source": [
        "## Summary of Decision Tree"
      ]
    },
    {
      "cell_type": "markdown",
      "metadata": {
        "id": "uTxatbr07ecp"
      },
      "source": [
        "To summarise everything what we have learnt about decision tree:\n",
        "\n",
        "1.   Decision Trees work well **when the d (depth) is not too large**\n",
        "2. They have a very low **Run-time complexity**\n",
        "3. **No standardisation** is needed.\n",
        "4. Depth is the key **hyper-parameter**\n",
        "\n",
        "\n"
      ]
    },
    {
      "cell_type": "markdown",
      "metadata": {
        "id": "gPaE3__iBpWP"
      },
      "source": [
        "\n",
        "<img src='https://drive.google.com/uc?id=1qAHiBvWa19rqX-lI49DmmdZ4ATwoW9AB'>"
      ]
    },
    {
      "cell_type": "markdown",
      "source": [],
      "metadata": {
        "id": "TH-e4UG1qyM5"
      }
    }
  ]
}