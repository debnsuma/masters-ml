{
 "cells": [
  {
   "cell_type": "markdown",
   "metadata": {
    "id": "86wb3IxKNuTv"
   },
   "source": [
    "## Content\n",
    "- Code Walkthrough\n",
    "    - Gini Impurity\n",
    "    - Splitting Numerical Feature\n"
   ]
  },
  {
   "cell_type": "markdown",
   "metadata": {
    "id": "igGrSdjOE9bd"
   },
   "source": [
    "## Gini Impurity"
   ]
  },
  {
   "cell_type": "markdown",
   "metadata": {
    "id": "2gykuYtyKNpb"
   },
   "source": [
    "### Code Walkthrough"
   ]
  },
  {
   "cell_type": "code",
   "execution_count": 1,
   "metadata": {
    "id": "Mh7XPFCTL1s_",
    "tags": []
   },
   "outputs": [],
   "source": [
    "import pandas as pd\n",
    "import numpy as np\n"
   ]
  },
  {
   "cell_type": "code",
   "execution_count": null,
   "metadata": {
    "colab": {
     "base_uri": "https://localhost:8080/"
    },
    "id": "uirV4ot4Lwf4",
    "outputId": "ed8ab15d-75b4-4ef3-bd0e-0153aa367e1e"
   },
   "outputs": [
    {
     "name": "stdout",
     "output_type": "stream",
     "text": [
      "Downloading...\n",
      "From: https://drive.google.com/uc?id=1l53Fgkg1G1ekCxxgaDQ00EXrnSMTeJj-\n",
      "To: /content/sample_data.csv\n",
      "100% 32.5k/32.5k [00:00<00:00, 24.8MB/s]\n"
     ]
    }
   ],
   "source": [
    "!gdown  1l53Fgkg1G1ekCxxgaDQ00EXrnSMTeJj-"
   ]
  },
  {
   "cell_type": "code",
   "execution_count": 3,
   "metadata": {
    "id": "fIa-41qlLyuh",
    "tags": []
   },
   "outputs": [],
   "source": [
    "sample_data = pd.read_csv('sample_data.csv')"
   ]
  },
  {
   "cell_type": "code",
   "execution_count": 4,
   "metadata": {
    "colab": {
     "base_uri": "https://localhost:8080/",
     "height": 424
    },
    "id": "CfPhBr4UL1Fq",
    "outputId": "fa65491b-8ce2-430f-ed4a-202b01038743",
    "tags": []
   },
   "outputs": [
    {
     "data": {
      "text/html": [
       "<div>\n",
       "<style scoped>\n",
       "    .dataframe tbody tr th:only-of-type {\n",
       "        vertical-align: middle;\n",
       "    }\n",
       "\n",
       "    .dataframe tbody tr th {\n",
       "        vertical-align: top;\n",
       "    }\n",
       "\n",
       "    .dataframe thead th {\n",
       "        text-align: right;\n",
       "    }\n",
       "</style>\n",
       "<table border=\"1\" class=\"dataframe\">\n",
       "  <thead>\n",
       "    <tr style=\"text-align: right;\">\n",
       "      <th></th>\n",
       "      <th>Gender</th>\n",
       "      <th>Age_less_35</th>\n",
       "      <th>JobRole</th>\n",
       "      <th>Attrition</th>\n",
       "    </tr>\n",
       "  </thead>\n",
       "  <tbody>\n",
       "    <tr>\n",
       "      <th>0</th>\n",
       "      <td>Male</td>\n",
       "      <td>True</td>\n",
       "      <td>Laboratory Technician</td>\n",
       "      <td>0</td>\n",
       "    </tr>\n",
       "    <tr>\n",
       "      <th>1</th>\n",
       "      <td>Male</td>\n",
       "      <td>False</td>\n",
       "      <td>Sales Executive</td>\n",
       "      <td>1</td>\n",
       "    </tr>\n",
       "    <tr>\n",
       "      <th>2</th>\n",
       "      <td>Male</td>\n",
       "      <td>True</td>\n",
       "      <td>Sales Representative</td>\n",
       "      <td>1</td>\n",
       "    </tr>\n",
       "    <tr>\n",
       "      <th>3</th>\n",
       "      <td>Female</td>\n",
       "      <td>False</td>\n",
       "      <td>Healthcare Representative</td>\n",
       "      <td>0</td>\n",
       "    </tr>\n",
       "    <tr>\n",
       "      <th>4</th>\n",
       "      <td>Male</td>\n",
       "      <td>True</td>\n",
       "      <td>Sales Executive</td>\n",
       "      <td>0</td>\n",
       "    </tr>\n",
       "    <tr>\n",
       "      <th>...</th>\n",
       "      <td>...</td>\n",
       "      <td>...</td>\n",
       "      <td>...</td>\n",
       "      <td>...</td>\n",
       "    </tr>\n",
       "    <tr>\n",
       "      <th>995</th>\n",
       "      <td>Male</td>\n",
       "      <td>False</td>\n",
       "      <td>Laboratory Technician</td>\n",
       "      <td>1</td>\n",
       "    </tr>\n",
       "    <tr>\n",
       "      <th>996</th>\n",
       "      <td>Female</td>\n",
       "      <td>False</td>\n",
       "      <td>Manufacturing Director</td>\n",
       "      <td>0</td>\n",
       "    </tr>\n",
       "    <tr>\n",
       "      <th>997</th>\n",
       "      <td>Female</td>\n",
       "      <td>True</td>\n",
       "      <td>Sales Executive</td>\n",
       "      <td>0</td>\n",
       "    </tr>\n",
       "    <tr>\n",
       "      <th>998</th>\n",
       "      <td>Male</td>\n",
       "      <td>False</td>\n",
       "      <td>Manager</td>\n",
       "      <td>0</td>\n",
       "    </tr>\n",
       "    <tr>\n",
       "      <th>999</th>\n",
       "      <td>Female</td>\n",
       "      <td>True</td>\n",
       "      <td>Laboratory Technician</td>\n",
       "      <td>0</td>\n",
       "    </tr>\n",
       "  </tbody>\n",
       "</table>\n",
       "<p>1000 rows × 4 columns</p>\n",
       "</div>"
      ],
      "text/plain": [
       "     Gender  Age_less_35                    JobRole  Attrition\n",
       "0      Male         True      Laboratory Technician          0\n",
       "1      Male        False            Sales Executive          1\n",
       "2      Male         True       Sales Representative          1\n",
       "3    Female        False  Healthcare Representative          0\n",
       "4      Male         True            Sales Executive          0\n",
       "..      ...          ...                        ...        ...\n",
       "995    Male        False      Laboratory Technician          1\n",
       "996  Female        False     Manufacturing Director          0\n",
       "997  Female         True            Sales Executive          0\n",
       "998    Male        False                    Manager          0\n",
       "999  Female         True      Laboratory Technician          0\n",
       "\n",
       "[1000 rows x 4 columns]"
      ]
     },
     "execution_count": 4,
     "metadata": {},
     "output_type": "execute_result"
    }
   ],
   "source": [
    "sample_data"
   ]
  },
  {
   "cell_type": "code",
   "execution_count": 5,
   "metadata": {
    "colab": {
     "base_uri": "https://localhost:8080/"
    },
    "id": "nr20EM3-L7Sb",
    "outputId": "e673bad0-ca73-41ac-8dca-c13c8f310994",
    "tags": []
   },
   "outputs": [
    {
     "data": {
      "text/plain": [
       "Attrition\n",
       "0    831\n",
       "1    169\n",
       "Name: count, dtype: int64"
      ]
     },
     "execution_count": 5,
     "metadata": {},
     "output_type": "execute_result"
    }
   ],
   "source": [
    "sample_data.Attrition.value_counts()"
   ]
  },
  {
   "cell_type": "code",
   "execution_count": 7,
   "metadata": {
    "id": "ZnXguOWCD6yp",
    "tags": []
   },
   "outputs": [],
   "source": [
    "def gini_impurity(y):\n",
    "\n",
    "    if isinstance(y, pd.Series):\n",
    "        p = y.value_counts()/y.shape[0]\n",
    "        gini = 1-np.sum(p**2)\n",
    "        return gini\n",
    "\n",
    "    else:\n",
    "        raise('Object must be a Pandas Series.')"
   ]
  },
  {
   "cell_type": "code",
   "execution_count": 8,
   "metadata": {
    "colab": {
     "base_uri": "https://localhost:8080/"
    },
    "id": "je4xU5JZGth7",
    "outputId": "49d8cb33-6dcc-47ee-9ec8-3871931e452d",
    "tags": []
   },
   "outputs": [
    {
     "data": {
      "text/plain": [
       "0.28087799999999996"
      ]
     },
     "execution_count": 8,
     "metadata": {},
     "output_type": "execute_result"
    }
   ],
   "source": [
    "gini_impurity(sample_data.Attrition)"
   ]
  },
  {
   "cell_type": "markdown",
   "metadata": {
    "id": "lQmRJwaPHavh"
   },
   "source": [
    "#### Weighted Gini impurity for child node"
   ]
  },
  {
   "cell_type": "code",
   "execution_count": 9,
   "metadata": {
    "id": "yGSoX93wGLK9",
    "tags": []
   },
   "outputs": [],
   "source": [
    "def calculate_weighted_gini(feature, y):\n",
    "    categories = feature.unique()\n",
    "\n",
    "    weighted_gini_impurity = 0\n",
    "\n",
    "    for category in categories:\n",
    "        y_category = y[feature == category]\n",
    "        gini_impurity_category = gini_impurity(y_category)\n",
    "        # print(category)\n",
    "        # print(gini_impurity_category)\n",
    "        weighted_gini_impurity += y_category.shape[0]/y.shape[0]*gini_impurity_category\n",
    "\n",
    "\n",
    "    return weighted_gini_impurity"
   ]
  },
  {
   "cell_type": "code",
   "execution_count": 10,
   "metadata": {
    "colab": {
     "base_uri": "https://localhost:8080/"
    },
    "id": "ZOVzVT1eG3oM",
    "outputId": "eddd2c6d-3e07-4665-a45d-fcc785c3c6d5",
    "tags": []
   },
   "outputs": [
    {
     "data": {
      "text/plain": [
       "0.2724771918985819"
      ]
     },
     "execution_count": 10,
     "metadata": {},
     "output_type": "execute_result"
    }
   ],
   "source": [
    "calculate_weighted_gini(sample_data.Age_less_35, sample_data.Attrition)"
   ]
  },
  {
   "cell_type": "markdown",
   "metadata": {
    "id": "27k6uTUWHeA3"
   },
   "source": [
    "#### Information Gain"
   ]
  },
  {
   "cell_type": "code",
   "execution_count": 11,
   "metadata": {
    "id": "2ctCHgPXGl1z",
    "tags": []
   },
   "outputs": [],
   "source": [
    "def information_gain(feature,y):\n",
    "    parent_gini = gini_impurity(y)\n",
    "\n",
    "    child_gini = calculate_weighted_gini(feature,y)\n",
    "\n",
    "    ig = parent_gini - child_gini\n",
    "\n",
    "    return ig"
   ]
  },
  {
   "cell_type": "code",
   "execution_count": 12,
   "metadata": {
    "colab": {
     "base_uri": "https://localhost:8080/"
    },
    "id": "7OvjWrkiG_Ui",
    "outputId": "aaf16048-1a5f-44d0-ac51-db830e0e23a5",
    "tags": []
   },
   "outputs": [
    {
     "data": {
      "text/plain": [
       "0.008400808101418078"
      ]
     },
     "execution_count": 12,
     "metadata": {},
     "output_type": "execute_result"
    }
   ],
   "source": [
    "information_gain(sample_data.Age_less_35, sample_data.Attrition)"
   ]
  },
  {
   "cell_type": "code",
   "execution_count": 13,
   "metadata": {
    "colab": {
     "base_uri": "https://localhost:8080/"
    },
    "id": "gClu53cbGofZ",
    "outputId": "3e744a32-d87d-4fb1-ff53-41fd771e8adc",
    "tags": []
   },
   "outputs": [
    {
     "name": "stdout",
     "output_type": "stream",
     "text": [
      "Information Gain for feature Gender is 1.2832567979348397e-06\n",
      "Information Gain for feature Age_less_35 is 0.008400808101418078\n",
      "Information Gain for feature JobRole is 0.020654039636781696\n"
     ]
    }
   ],
   "source": [
    "for feature in sample_data.columns[:-1]:\n",
    "    print(f'Information Gain for feature {feature} is {information_gain(sample_data[feature],sample_data.Attrition)}')"
   ]
  },
  {
   "cell_type": "markdown",
   "metadata": {
    "id": "pLp9A3sBKINV"
   },
   "source": [
    "## Splitting Numerical Feature"
   ]
  },
  {
   "cell_type": "code",
   "execution_count": 14,
   "metadata": {
    "colab": {
     "base_uri": "https://localhost:8080/"
    },
    "id": "f_7AHDIPMGYb",
    "outputId": "de10b4ca-a22e-4d9b-f376-e9af967268d2",
    "tags": []
   },
   "outputs": [
    {
     "name": "stdout",
     "output_type": "stream",
     "text": [
      "zsh:1: command not found: gdown\n",
      "zsh:1: command not found: gdown\n"
     ]
    }
   ],
   "source": [
    "!gdown 19L3rYatfhbBL1r5MHrv-p_oM2wlvrhqk\n",
    "!gdown 1N7O_fWCTJLu8SIa_paKcDEzllgpMk8sK\n"
   ]
  },
  {
   "cell_type": "code",
   "execution_count": null,
   "metadata": {
    "id": "XDZUF1wxMKni"
   },
   "outputs": [],
   "source": [
    "import pickle\n",
    "# Load data (deserialize)\n",
    "with open('preprocessed_X_sm.pickle', 'rb') as handle:\n",
    "    X_sm = pickle.load(handle)\n",
    "\n",
    "with open('y_sm.pickle', 'rb') as handle:\n",
    "    target = pickle.load(handle)"
   ]
  },
  {
   "cell_type": "markdown",
   "metadata": {
    "id": "6Qe8h5oPLX6j"
   },
   "source": [
    "### Code walkthrough"
   ]
  },
  {
   "cell_type": "markdown",
   "metadata": {
    "id": "npawhnfiTJ76"
   },
   "source": [
    "Let's split the Age feature and find which threshold is best to split age along with its information gain"
   ]
  },
  {
   "cell_type": "code",
   "execution_count": null,
   "metadata": {
    "id": "Yxtg2C6_Labn"
   },
   "outputs": [],
   "source": [
    "age = X_sm.Age"
   ]
  },
  {
   "cell_type": "markdown",
   "metadata": {
    "id": "rg0rCxzoTUcx"
   },
   "source": [
    "#### Sorting the age"
   ]
  },
  {
   "cell_type": "code",
   "execution_count": null,
   "metadata": {
    "colab": {
     "base_uri": "https://localhost:8080/"
    },
    "id": "moMdEdA2TXZa",
    "outputId": "a6ef90e9-3db8-461d-ec06-38cdfc7ece5a"
   },
   "outputs": [
    {
     "data": {
      "text/plain": [
       "array([18, 19, 20, 21, 22, 23, 24, 25, 26, 27, 28, 29, 30, 31, 32, 33, 34,\n",
       "       35, 36, 37, 38, 39, 40, 41, 42, 43, 44, 45, 46, 47, 48, 49, 50, 51,\n",
       "       52, 53, 54, 55, 56, 57, 58, 59, 60])"
      ]
     },
     "execution_count": 24,
     "metadata": {},
     "output_type": "execute_result"
    }
   ],
   "source": [
    "thresholds = age.sort_values().unique()\n",
    "thresholds"
   ]
  },
  {
   "cell_type": "code",
   "execution_count": null,
   "metadata": {
    "colab": {
     "base_uri": "https://localhost:8080/"
    },
    "id": "M4G892znTpAL",
    "outputId": "7e3e5545-d674-4867-fd7c-41c9f9217934"
   },
   "outputs": [
    {
     "data": {
      "text/plain": [
       "(43,)"
      ]
     },
     "execution_count": 25,
     "metadata": {},
     "output_type": "execute_result"
    }
   ],
   "source": [
    "thresholds.shape"
   ]
  },
  {
   "cell_type": "markdown",
   "metadata": {
    "id": "W3M8i23WTcgF"
   },
   "source": [
    "#### Calculating information gain for each threshold"
   ]
  },
  {
   "cell_type": "code",
   "execution_count": null,
   "metadata": {
    "id": "5NHzdHVHTawZ"
   },
   "outputs": [],
   "source": [
    "def information_gain(y, mask):\n",
    "    left_node_count = sum(mask)\n",
    "    total = mask.shape[0]\n",
    "    right_node_count = total - left_node_count\n",
    "\n",
    "\n",
    "    parent_gini = gini_impurity(y)\n",
    "\n",
    "    child_gini = left_node_count/total*gini_impurity(y[mask]) + right_node_count/total*gini_impurity(y[~mask])\n",
    "\n",
    "    ig = parent_gini - child_gini\n",
    "    return ig"
   ]
  },
  {
   "cell_type": "code",
   "execution_count": null,
   "metadata": {
    "id": "AZJp_Og0TcH0"
   },
   "outputs": [],
   "source": [
    "ig_list = []\n",
    "\n",
    "for thr in thresholds:\n",
    "    mask =   age <= thr\n",
    "\n",
    "    ig = information_gain(target, mask)\n",
    "    ig_list.append(ig)\n"
   ]
  },
  {
   "cell_type": "code",
   "execution_count": null,
   "metadata": {
    "colab": {
     "base_uri": "https://localhost:8080/"
    },
    "id": "fdFECiGGTmxP",
    "outputId": "cae4c23b-fc4a-4237-a5a2-581021098019"
   },
   "outputs": [
    {
     "data": {
      "text/plain": [
       "(43,)"
      ]
     },
     "execution_count": 28,
     "metadata": {},
     "output_type": "execute_result"
    }
   ],
   "source": [
    "ig_list = np.array(ig_list)\n",
    "\n",
    "ig_list.shape"
   ]
  },
  {
   "cell_type": "markdown",
   "metadata": {
    "id": "rgeuGHIoT1Rh"
   },
   "source": [
    "#### Finding threshold with maximum IG"
   ]
  },
  {
   "cell_type": "code",
   "execution_count": null,
   "metadata": {
    "colab": {
     "base_uri": "https://localhost:8080/"
    },
    "id": "qho46R_WTxeo",
    "outputId": "82a92c0d-72ab-46c7-a735-4d4db3d8f2f8"
   },
   "outputs": [
    {
     "name": "stdout",
     "output_type": "stream",
     "text": [
      "Best threshold for Age with maximum IG is 33 with IG: 0.027621195039458812\n"
     ]
    }
   ],
   "source": [
    "print(f'Best threshold for Age with maximum IG is {thresholds[ig_list.argmax()]} with IG: {ig_list.max()}')"
   ]
  },
  {
   "cell_type": "code",
   "execution_count": null,
   "metadata": {
    "id": "eMq8xSCaMako"
   },
   "outputs": [],
   "source": []
  }
 ],
 "metadata": {
  "colab": {
   "provenance": []
  },
  "kernelspec": {
   "display_name": "Python 3 (ipykernel)",
   "language": "python",
   "name": "python3"
  },
  "language_info": {
   "codemirror_mode": {
    "name": "ipython",
    "version": 3
   },
   "file_extension": ".py",
   "mimetype": "text/x-python",
   "name": "python",
   "nbconvert_exporter": "python",
   "pygments_lexer": "ipython3",
   "version": "3.11.5"
  }
 },
 "nbformat": 4,
 "nbformat_minor": 4
}
