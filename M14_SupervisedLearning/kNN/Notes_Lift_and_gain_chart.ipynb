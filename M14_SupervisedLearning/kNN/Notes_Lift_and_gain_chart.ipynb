{
  "nbformat": 4,
  "nbformat_minor": 0,
  "metadata": {
    "colab": {
      "provenance": []
    },
    "kernelspec": {
      "name": "python3",
      "display_name": "Python 3"
    },
    "language_info": {
      "name": "python"
    }
  },
  "cells": [
    {
      "cell_type": "markdown",
      "source": [
        "## Lift and Gain Charts"
      ],
      "metadata": {
        "id": "Dl4l2WXSmn2_"
      }
    },
    {
      "cell_type": "markdown",
      "source": [
        "So far, we learnt about Precision, Recall, F1 score, ROC AUC and what not?\n",
        "\n",
        "These metrics are good to evaluate the model and check its performance\n",
        "- but they metric do not convey how a model would do business wise.\n",
        "\n",
        "**How will the model impact the business ?**\n",
        "\n",
        "These metrics are focusing on making sure making sure model are good at prediction\n",
        "- but they don't help in translate it to business perspective\n",
        "\n",
        "####What's the need ?\n",
        "\n",
        "Business people need to know how our model's differences would make in the business term compared to random targeting.\n",
        "\n",
        "For this purpose, **Lift and Gain chart** came into existence.\n",
        "\n",
        "To convey/To measure how much better our prediction model compared without the model to the stakeholders."
      ],
      "metadata": {
        "id": "1cr7bhkDmqg7"
      }
    },
    {
      "cell_type": "markdown",
      "source": [
        "#### Where are they used?\n",
        "\n",
        "It is often used in target marketing.\n",
        "\n",
        "Let's try understand the context\n",
        "\n",
        "Suppose zomato wants to run a marketing campaigns\n",
        "- But the customer response to these campaings are usually very low (1% in many cases)\n",
        "\n",
        "But it cost money to run the campaign, right ?\n",
        "- The company would like to save money\n",
        "- at the same time, it would like to achieve the desired response from the customers\n",
        "\n",
        "Taking an inspiration from this, in ML\n",
        "- Lift and Gain chart help us graphically understand the benefit of using that model (in layman terms)\n",
        "\n"
      ],
      "metadata": {
        "id": "KUzzEYKCtkNE"
      }
    },
    {
      "cell_type": "markdown",
      "source": [
        "### How to make Lift and Gain chart ?"
      ],
      "metadata": {
        "id": "7mojnNLDwrcN"
      }
    },
    {
      "cell_type": "markdown",
      "source": [
        "Suppose we built a classification model\n",
        "- we have $D_{cv}$ (cross validation data)\n",
        "- Ground truth $y_i$ (Assume 0 or 1)\n",
        "- Predicted probability $ŷ_i$ (between 0 to 1)\n",
        "\n",
        "**Step 1**: Obtain the $ŷ_i$ on $D_{cv}$\n",
        "\n",
        "**Step 2**: Sort the data predicted probability in desc order\n",
        "We will have highest probability at the top, lowest at the bottom.\n",
        "\n",
        "**Step 3**: Break the sorted cross valdiation data into 10 groups (or deciles).\n",
        "\n",
        "We get the data for each decile\n",
        "\n",
        "**Step 4**: Using these deciles, we built a table as follows"
      ],
      "metadata": {
        "id": "mKbLO3d2w02K"
      }
    },
    {
      "cell_type": "markdown",
      "source": [
        "<img src='https://drive.google.com/uc?id=13WglLrAbs8GWCghf80LQ2yxrTiGIkXBt'>\n"
      ],
      "metadata": {
        "id": "RWCtdkpx0_0N"
      }
    },
    {
      "cell_type": "markdown",
      "source": [
        "Let's assume the total data we have in validation set is 25,000\n",
        "\n",
        "$D_{cv} = 25,000$ points\n",
        "\n",
        "Now, after sorting these datapoints based on predicted probability, we split these into 10 deciles\n",
        "\n",
        "**How many points will each decile or group will have ?**\n",
        "=> 2500\n",
        "\n",
        "As we sorted the data in desc order of predicted probability,\n",
        "- 1st decile will have datapoints with highest pred. probability\n",
        "- 10th decile will have datapoints with lowest pred. probability\n",
        "\n",
        "\n",
        "\n",
        "\n"
      ],
      "metadata": {
        "id": "2mNaKBydy6o6"
      }
    },
    {
      "cell_type": "markdown",
      "source": [
        "#### Terminology\n",
        "\n",
        "\n",
        "#### Number of cases\n",
        "**Number of cases** means number of datapoints in each decile\n",
        "     - As we have 10 decile and 25,000 pts\n",
        "     - Each decile will have 2500 points\n",
        "\n",
        "<br>\n",
        "\n",
        "#### Number of Responses\n",
        "**Number of responses** means the total number of points with class label 1 or ground truth value of 1 (positive class)\n",
        "- In first decile, out of 2500, we have 2179 points with class label 1\n",
        "- As we go down to 10th , there are lesser number of datapoints belonging to class 1\n",
        "    - It makes sense as data is sorted based on predicted probability\n",
        "\n",
        "    - Notice few observations here\n",
        "        - We have total of 4874 points belonging to class 1\n",
        "        - Out of 4874, approx half of them (2179) belong to 1st Decile\n",
        "\n",
        "<br>\n",
        "\n",
        "#### Cummulative Responses\n",
        "Using the **Number of responses**, we make **Cummulative Responses**\n",
        "- **Cummulative Responses**, for a decile, is calcualted by summing up the number of positive (Responses) upto that decile\n",
        "    - For 1st decile, Cummulative Responses will be 2179\n",
        "    - For 2nd decile, it'll be sum of 2179 and 1753 i.e. 3932 (sum of responses for 1st and 2nd decile)\n",
        "    - Similarly, we calculate cummulative responses for rest of the decile\n",
        "    - The CR (Cummulative Responses) for last decile will be equal to total number of responses.\n",
        "\n",
        "- **% of events** of a decile tells us \"of all the points belonging to positive class, how many of them belong to that decile\"\n",
        "    - Total number of positive points are 4874\n",
        "    - Positive points in 1st decile is 2179\n",
        "    - % of events for 1st decile will be $(2179/4874)\\times 100 = 44.71$\n",
        "\n",
        "<br>\n",
        "\n",
        "#### Gain\n",
        "Now, we calculate **Gain**\n",
        "Gain for a decile is calculated by\n",
        "\n",
        "- dividing the cummulative responses by total number of responses\n",
        "\n",
        "- i.e. cummulative number of postives by total number of positives.\n",
        "\n",
        "For 1st decile, gain will be (2179/4874) × 100 = 44.71\n",
        "\n",
        "For 2nd decile, gain will be (3932/4874) × 100 = 80.67\n",
        "... and so on\n",
        "\n",
        "**What does gain mean (in maths term)?**\n",
        "Gain for ith decile tells us \"what percentage of positive points are in $i^{th}$ or smaller decile\"\n",
        "\n",
        "For example: For 8th decile, gain is 97.87 %. It means till 8th decile, we cover 97% of positive datapoints.\n",
        "\n",
        "<br>\n",
        "\n",
        "#### Cummulative Lift\n",
        "\n",
        "Imagine we have a random model\n",
        "\n",
        "**How many number of response will there be for random model in 1st decile?**\n",
        "\n",
        "Since it is random model, each decile will have 10% of total positive points or number of response\n",
        "\n",
        "number of response for 1st decile will be roughly 10% of 4874\n",
        "\n",
        "For a smart model, we have 44% of positive points (gain) in 1st decile\n",
        "\n",
        "Now, **Cummulative lift** for a decile is calculated by\n",
        "- dividing total % of positive point we have upto that decile (gain) for a smart model by total % of positive points if we had a random model\n",
        "- in other terms, it is ratio of gain of our model to a gain of random model\n",
        "\n",
        "For example:\n",
        "\n",
        "cummulative lift for 1st decile will be\n",
        "- 44.71/ 10 i.e. gain for model for 1st decile /gain for random model for 1st decile\n",
        "\n",
        "Cummulative lift for 2nd decile will be\n",
        "- 80.67/20 i.e. gain for model (2nd decile) / gain for random model in 2nd decile\n",
        "\n",
        "\n",
        "**What does lift mean (in maths terms)?**\n",
        "It means Cummulative percentage of positive points till ith decile divided by cummulative percentage of positive points by random model\n",
        "\n",
        "It is intuitively telling how much better is model compared to random model.\n",
        "\n"
      ],
      "metadata": {
        "id": "gr7b6m56Ki6c"
      }
    },
    {
      "cell_type": "markdown",
      "source": [
        "<img src='https://drive.google.com/uc?id=1Pg6kk_sQ5fnwrLww2isu3btzWMYsj9Yb'>\n"
      ],
      "metadata": {
        "id": "vn4jZOrp1QeA"
      }
    },
    {
      "cell_type": "markdown",
      "source": [
        "### Plotting Gain and Lift Charts"
      ],
      "metadata": {
        "id": "4J37Is2oPb0F"
      }
    },
    {
      "cell_type": "markdown",
      "source": [
        "After calculating the gain and lift values, we plot them for each decile.\n",
        "\n",
        "#### Gain Chart\n",
        "\n",
        "Let's look at Gain chart first:\n",
        "\n",
        "Notice there are two curve in it\n",
        "- Curve for our model (<font color = blue>blue</font>)\n",
        "- Curve for random model (<font color = 'red'>red</font>)\n",
        "\n",
        "As the gain for random model increases by 10 units for each decile, the curve we get for random model is a straight line @ 45 degrees.\n",
        "\n",
        "#### How do we interpret gain chart ?\n",
        "\n",
        "We have gain of approx 80 for second decible.\n",
        "\n",
        "It means that approx 80% of targets can be covered by top 20% of data.\n",
        "\n",
        "Suppose this was a churn prediction model. In that case, we could say, we can identify and target approx 80% of customer who are likely to churn just by targeting top 20% of customer.\n",
        "\n",
        "**What does it mean for business?**\n",
        "Using fewer resources, we can avoid 80% of churn event\n",
        "\n",
        "\n",
        "\n"
      ],
      "metadata": {
        "id": "LSFNEm5FY7v1"
      }
    },
    {
      "cell_type": "markdown",
      "source": [
        "#### Lift Chart\n",
        "\n",
        "For calculating lift of decile, we simply divide gain of model by gain of random model\n",
        "\n",
        "A random model will have a lift of 1 for each decile.\n",
        "But, a good model will have lift as high as possible.\n",
        "\n",
        "As you keep you keep coming to last decile, the lift will decrease\n",
        "- eventually both model and random model will have lift of 1 for 10th decile\n",
        "\n",
        "#### How do we interpret lift chart ?\n",
        "\n",
        "The lift for 2nd decile is 4.\n",
        "\n",
        "It means when selecting 20% of data based on model,\n",
        "- we could find target (actual positives) 4 times more than the randomly selected 20% of the data without a model.\n",
        "\n",
        "Note: The Greater the area between the Lift / Gain and Baseline, the Better the model."
      ],
      "metadata": {
        "id": "jT5HDXgHvg7e"
      }
    },
    {
      "cell_type": "markdown",
      "source": [
        "<img src='https://drive.google.com/uc?id=1dgcDokX-enBIQFG_31Z9RRd1E5aYGDSs'>\n"
      ],
      "metadata": {
        "id": "C6mDUp3z1tWO"
      }
    }
  ]
}