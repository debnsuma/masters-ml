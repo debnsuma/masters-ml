{
 "cells": [
  {
   "cell_type": "markdown",
   "metadata": {
    "id": "aQtcB6H61aIW"
   },
   "source": [
    "## Content\n",
    "- Continuiation: Solving the Attrition problem for Jio!\n",
    "- What Are Ensemble Models?\n",
    "  - Types of Ensembles\n",
    "  - Bagging\n",
    "\n",
    "- Can we make Emsemble from DTs? - Random Forest\n",
    "  - How to use multiple trees?\n",
    "  - How to introduce randomness? - Row and Column Sampling\n",
    "  - But how to validate RFs?.\n",
    "  - Measuring Performance\n",
    "  - Training RF\n",
    "  - OOB Score\n",
    "  - RF using SK-Learn\n",
    "  - Can we compute Feature Importances?\n",
    "\n",
    "- So what are the parameters of RF (Hyper-Parameters)\n",
    "  - Number of Trees\n",
    "  - Row Sample Size\n",
    "  - Number of Columns Sampled\n",
    "  - Depth of Base Learners\n",
    "\n",
    "- Sklearn Library\n",
    "- After Ensemble, can we make further improvements? - Hyper-Parameter tuning\n"
   ]
  },
  {
   "cell_type": "markdown",
   "metadata": {
    "id": "6Zcd8qWkyjFI"
   },
   "source": [
    "## Solving the Attrition problem for Jio!\n",
    "\n",
    "For today's lecture we will be using the same busniness use case as the previous class, and try to learn more advanced techniques to find an even better solution.\n",
    "\n",
    "\n",
    "**We are trying to predict wether an employee will stay or leave the company, to help the HR department of Jio to improve thier Attrition Rate.**\n",
    "\n",
    "\n",
    "Since we have already done EDA and preprocessing, let's just go over it again, quickly\n",
    "\n"
   ]
  },
  {
   "cell_type": "code",
   "execution_count": null,
   "metadata": {
    "colab": {
     "base_uri": "https://localhost:8080/"
    },
    "id": "tC34Fdu3vlNr",
    "outputId": "1e8fca75-2e49-40e8-f094-0c0c0b738345"
   },
   "outputs": [
    {
     "name": "stdout",
     "output_type": "stream",
     "text": [
      "Downloading...\n",
      "From: https://drive.google.com/uc?id=19L3rYatfhbBL1r5MHrv-p_oM2wlvrhqk\n",
      "To: /content/preprocessed_X_sm.pickle\n",
      "100% 534k/534k [00:00<00:00, 107MB/s]\n",
      "Downloading...\n",
      "From: https://drive.google.com/uc?id=1OHLKJwA3qZopKPvlKoRldM6BvA1A4dYF\n",
      "To: /content/X_test.pickle\n",
      "100% 111k/111k [00:00<00:00, 73.8MB/s]\n",
      "Downloading...\n",
      "From: https://drive.google.com/uc?id=1N7O_fWCTJLu8SIa_paKcDEzllgpMk8sK\n",
      "To: /content/y_sm.pickle\n",
      "100% 15.4k/15.4k [00:00<00:00, 13.1MB/s]\n",
      "Downloading...\n",
      "From: https://drive.google.com/uc?id=12Bh2AN8LcZAlg20ehpQrEWccUDaSdsOG\n",
      "To: /content/y_test.pickle\n",
      "100% 9.49k/9.49k [00:00<00:00, 8.32MB/s]\n"
     ]
    }
   ],
   "source": [
    "# !gdown 16KtxSt_QEGQvfluEaMls5cCHPwhRXgCk\n",
    "# !gdown 19L3rYatfhbBL1r5MHrv-p_oM2wlvrhqk\n",
    "# !gdown 1OHLKJwA3qZopKPvlKoRldM6BvA1A4dYF\n",
    "# !gdown 1N7O_fWCTJLu8SIa_paKcDEzllgpMk8sK\n",
    "# !gdown 12Bh2AN8LcZAlg20ehpQrEWccUDaSdsOG"
   ]
  },
  {
   "cell_type": "code",
   "execution_count": 1,
   "metadata": {
    "id": "Xug930LFQ31E",
    "tags": []
   },
   "outputs": [],
   "source": [
    "import pickle\n",
    "import pandas as pd\n",
    "# Load data (deserialize)\n",
    "df = pd.read_csv(\"HR-Employee-Attrition.csv\")\n",
    "\n",
    "with open('preprocessed_X_sm.pickle', 'rb') as handle:\n",
    "    X_sm = pickle.load(handle)\n",
    "\n",
    "with open('y_sm.pickle', 'rb') as handle:\n",
    "    y_sm = pickle.load(handle)"
   ]
  },
  {
   "cell_type": "code",
   "execution_count": 2,
   "metadata": {
    "tags": []
   },
   "outputs": [
    {
     "data": {
      "text/html": [
       "<div>\n",
       "<style scoped>\n",
       "    .dataframe tbody tr th:only-of-type {\n",
       "        vertical-align: middle;\n",
       "    }\n",
       "\n",
       "    .dataframe tbody tr th {\n",
       "        vertical-align: top;\n",
       "    }\n",
       "\n",
       "    .dataframe thead th {\n",
       "        text-align: right;\n",
       "    }\n",
       "</style>\n",
       "<table border=\"1\" class=\"dataframe\">\n",
       "  <thead>\n",
       "    <tr style=\"text-align: right;\">\n",
       "      <th></th>\n",
       "      <th>Age</th>\n",
       "      <th>DailyRate</th>\n",
       "      <th>DistanceFromHome</th>\n",
       "      <th>Education</th>\n",
       "      <th>EducationField</th>\n",
       "      <th>EnvironmentSatisfaction</th>\n",
       "      <th>Gender</th>\n",
       "      <th>HourlyRate</th>\n",
       "      <th>JobInvolvement</th>\n",
       "      <th>JobLevel</th>\n",
       "      <th>...</th>\n",
       "      <th>YearsWithCurrManager</th>\n",
       "      <th>BusinessTravel_Non-Travel</th>\n",
       "      <th>BusinessTravel_Travel_Frequently</th>\n",
       "      <th>BusinessTravel_Travel_Rarely</th>\n",
       "      <th>Department_Human Resources</th>\n",
       "      <th>Department_Research &amp; Development</th>\n",
       "      <th>Department_Sales</th>\n",
       "      <th>MaritalStatus_Divorced</th>\n",
       "      <th>MaritalStatus_Married</th>\n",
       "      <th>MaritalStatus_Single</th>\n",
       "    </tr>\n",
       "  </thead>\n",
       "  <tbody>\n",
       "    <tr>\n",
       "      <th>0</th>\n",
       "      <td>36</td>\n",
       "      <td>1174</td>\n",
       "      <td>3</td>\n",
       "      <td>4</td>\n",
       "      <td>0.233871</td>\n",
       "      <td>1</td>\n",
       "      <td>0</td>\n",
       "      <td>99</td>\n",
       "      <td>3</td>\n",
       "      <td>2</td>\n",
       "      <td>...</td>\n",
       "      <td>1</td>\n",
       "      <td>0.0</td>\n",
       "      <td>0.0</td>\n",
       "      <td>1.0</td>\n",
       "      <td>0.0</td>\n",
       "      <td>0.0</td>\n",
       "      <td>1.0</td>\n",
       "      <td>0.0</td>\n",
       "      <td>0.0</td>\n",
       "      <td>1.0</td>\n",
       "    </tr>\n",
       "    <tr>\n",
       "      <th>1</th>\n",
       "      <td>21</td>\n",
       "      <td>546</td>\n",
       "      <td>5</td>\n",
       "      <td>1</td>\n",
       "      <td>0.127479</td>\n",
       "      <td>3</td>\n",
       "      <td>1</td>\n",
       "      <td>97</td>\n",
       "      <td>3</td>\n",
       "      <td>1</td>\n",
       "      <td>...</td>\n",
       "      <td>2</td>\n",
       "      <td>0.0</td>\n",
       "      <td>0.0</td>\n",
       "      <td>1.0</td>\n",
       "      <td>0.0</td>\n",
       "      <td>1.0</td>\n",
       "      <td>0.0</td>\n",
       "      <td>0.0</td>\n",
       "      <td>0.0</td>\n",
       "      <td>1.0</td>\n",
       "    </tr>\n",
       "    <tr>\n",
       "      <th>2</th>\n",
       "      <td>43</td>\n",
       "      <td>422</td>\n",
       "      <td>1</td>\n",
       "      <td>3</td>\n",
       "      <td>0.151584</td>\n",
       "      <td>4</td>\n",
       "      <td>0</td>\n",
       "      <td>33</td>\n",
       "      <td>3</td>\n",
       "      <td>2</td>\n",
       "      <td>...</td>\n",
       "      <td>2</td>\n",
       "      <td>0.0</td>\n",
       "      <td>1.0</td>\n",
       "      <td>0.0</td>\n",
       "      <td>0.0</td>\n",
       "      <td>1.0</td>\n",
       "      <td>0.0</td>\n",
       "      <td>0.0</td>\n",
       "      <td>1.0</td>\n",
       "      <td>0.0</td>\n",
       "    </tr>\n",
       "    <tr>\n",
       "      <th>3</th>\n",
       "      <td>42</td>\n",
       "      <td>188</td>\n",
       "      <td>29</td>\n",
       "      <td>3</td>\n",
       "      <td>0.127479</td>\n",
       "      <td>2</td>\n",
       "      <td>1</td>\n",
       "      <td>56</td>\n",
       "      <td>1</td>\n",
       "      <td>2</td>\n",
       "      <td>...</td>\n",
       "      <td>0</td>\n",
       "      <td>0.0</td>\n",
       "      <td>0.0</td>\n",
       "      <td>1.0</td>\n",
       "      <td>0.0</td>\n",
       "      <td>1.0</td>\n",
       "      <td>0.0</td>\n",
       "      <td>0.0</td>\n",
       "      <td>0.0</td>\n",
       "      <td>1.0</td>\n",
       "    </tr>\n",
       "    <tr>\n",
       "      <th>4</th>\n",
       "      <td>35</td>\n",
       "      <td>992</td>\n",
       "      <td>1</td>\n",
       "      <td>3</td>\n",
       "      <td>0.127479</td>\n",
       "      <td>4</td>\n",
       "      <td>1</td>\n",
       "      <td>68</td>\n",
       "      <td>2</td>\n",
       "      <td>1</td>\n",
       "      <td>...</td>\n",
       "      <td>2</td>\n",
       "      <td>0.0</td>\n",
       "      <td>0.0</td>\n",
       "      <td>1.0</td>\n",
       "      <td>0.0</td>\n",
       "      <td>1.0</td>\n",
       "      <td>0.0</td>\n",
       "      <td>0.0</td>\n",
       "      <td>0.0</td>\n",
       "      <td>1.0</td>\n",
       "    </tr>\n",
       "  </tbody>\n",
       "</table>\n",
       "<p>5 rows × 36 columns</p>\n",
       "</div>"
      ],
      "text/plain": [
       "   Age  DailyRate  DistanceFromHome  Education  EducationField  \\\n",
       "0   36       1174                 3          4        0.233871   \n",
       "1   21        546                 5          1        0.127479   \n",
       "2   43        422                 1          3        0.151584   \n",
       "3   42        188                29          3        0.127479   \n",
       "4   35        992                 1          3        0.127479   \n",
       "\n",
       "   EnvironmentSatisfaction  Gender  HourlyRate  JobInvolvement  JobLevel  ...  \\\n",
       "0                        1       0          99               3         2  ...   \n",
       "1                        3       1          97               3         1  ...   \n",
       "2                        4       0          33               3         2  ...   \n",
       "3                        2       1          56               1         2  ...   \n",
       "4                        4       1          68               2         1  ...   \n",
       "\n",
       "   YearsWithCurrManager  BusinessTravel_Non-Travel  \\\n",
       "0                     1                        0.0   \n",
       "1                     2                        0.0   \n",
       "2                     2                        0.0   \n",
       "3                     0                        0.0   \n",
       "4                     2                        0.0   \n",
       "\n",
       "   BusinessTravel_Travel_Frequently  BusinessTravel_Travel_Rarely  \\\n",
       "0                               0.0                           1.0   \n",
       "1                               0.0                           1.0   \n",
       "2                               1.0                           0.0   \n",
       "3                               0.0                           1.0   \n",
       "4                               0.0                           1.0   \n",
       "\n",
       "   Department_Human Resources  Department_Research & Development  \\\n",
       "0                         0.0                                0.0   \n",
       "1                         0.0                                1.0   \n",
       "2                         0.0                                1.0   \n",
       "3                         0.0                                1.0   \n",
       "4                         0.0                                1.0   \n",
       "\n",
       "   Department_Sales  MaritalStatus_Divorced  MaritalStatus_Married  \\\n",
       "0               1.0                     0.0                    0.0   \n",
       "1               0.0                     0.0                    0.0   \n",
       "2               0.0                     0.0                    1.0   \n",
       "3               0.0                     0.0                    0.0   \n",
       "4               0.0                     0.0                    0.0   \n",
       "\n",
       "   MaritalStatus_Single  \n",
       "0                   1.0  \n",
       "1                   1.0  \n",
       "2                   0.0  \n",
       "3                   1.0  \n",
       "4                   1.0  \n",
       "\n",
       "[5 rows x 36 columns]"
      ]
     },
     "execution_count": 2,
     "metadata": {},
     "output_type": "execute_result"
    }
   ],
   "source": [
    "X_sm.head()"
   ]
  },
  {
   "cell_type": "code",
   "execution_count": 6,
   "metadata": {
    "tags": []
   },
   "outputs": [
    {
     "data": {
      "text/plain": [
       "Attrition\n",
       "0    924\n",
       "1    924\n",
       "Name: count, dtype: int64"
      ]
     },
     "execution_count": 6,
     "metadata": {},
     "output_type": "execute_result"
    }
   ],
   "source": [
    "y_sm.value_counts()"
   ]
  },
  {
   "cell_type": "code",
   "execution_count": 12,
   "metadata": {
    "colab": {
     "base_uri": "https://localhost:8080/"
    },
    "id": "U5ERRcVltco3",
    "outputId": "5784eb70-f16b-4489-a4fa-f299f9041444",
    "tags": []
   },
   "outputs": [
    {
     "name": "stdout",
     "output_type": "stream",
     "text": [
      "K-Fold Accuracy Mean: Train: 93.24203753064435 Validation: 84.20945945945945\n",
      "K-Fold Accuracy Std: Train: 0.8887486809601636 Validation: 8.453236055736403\n"
     ]
    }
   ],
   "source": [
    "# Using the best decision tree model as observed in the last lecture\n",
    "from sklearn.tree import DecisionTreeClassifier\n",
    "from sklearn.model_selection import KFold, cross_validate\n",
    "\n",
    "tree_clf = DecisionTreeClassifier(random_state=7, max_depth = 7)\n",
    "kfold = KFold(n_splits=10)\n",
    "cv_acc_results = cross_validate(tree_clf, \n",
    "                                X_sm, \n",
    "                                y_sm, \n",
    "                                cv = kfold, \n",
    "                                scoring = 'accuracy', \n",
    "                                return_train_score = True)\n",
    "\n",
    "print(f\"K-Fold Accuracy Mean: Train: {cv_acc_results['train_score'].mean()*100} Validation: {cv_acc_results['test_score'].mean()*100}\")\n",
    "print(f\"K-Fold Accuracy Std: Train: {cv_acc_results['train_score'].std()*100} Validation: {cv_acc_results['test_score'].std()*100}\")"
   ]
  },
  {
   "cell_type": "markdown",
   "metadata": {
    "id": "PLKMpnc_1HF_"
   },
   "source": [
    "As we can see, using a DecisionTreeClassifier, with max_depth=4 we are getting\n",
    "- Train Set: **83%**\n",
    "- Validation Set : **80%**\n",
    "\n",
    "**Lets try to learn some new ideas to improve this result**"
   ]
  },
  {
   "cell_type": "markdown",
   "metadata": {
    "id": "EochCj4CDcq6"
   },
   "source": [
    "## What Are Ensemble Models?"
   ]
  },
  {
   "cell_type": "markdown",
   "metadata": {
    "id": "PNdQD8nlCLy-"
   },
   "source": [
    "<img src='https://images.squarespace-cdn.com/content/v1/57dc396a03596e8da9fe6b73/1475277470988-9FJ47B36S61C5VXQ24HU/UBC_Bands.jpg' width = 600>"
   ]
  },
  {
   "cell_type": "markdown",
   "metadata": {
    "id": "yVdlz_jfDcrE"
   },
   "source": [
    "* Till now we have trained only one model for one task. But we have learnt many kinds of models. **Do you think we could somehow use multiple models for the same task?**\n",
    "\n",
    "* What if we can **train multiple base learners or models** which are as different as possible and **combine them smartly**?\n",
    "\n",
    "* Example: Instead of training one Decisioon tree we can train 100 decision trees and combine them\n",
    "* This is the key principle of ensembles\n",
    "\n",
    "\n",
    "* The word ensemble in english means multiple things, roughly it means **mixing** or **coming together**.\n",
    "\n",
    " * We can also train various machine learning models like Decision tree, logistic Regression, KNN and can combine them smartly.\n"
   ]
  },
  {
   "cell_type": "markdown",
   "metadata": {
    "id": "RBH7oU8aDcrE"
   },
   "source": [
    "\n",
    "<img src='https://drive.google.com/uc?id=1PvJuXnvX6OY1_uAq8eOXFDjYvuxWh3vc'>\n"
   ]
  },
  {
   "cell_type": "markdown",
   "metadata": {
    "id": "P_lFdExCDcrF"
   },
   "source": [
    "### Types of Ensembles\n",
    "\n",
    "There are four main types of ensemble\n",
    "1. Bagging\n",
    " * Example : Random Forest\n",
    "2. Boosting\n",
    " * Example : GBDT\n",
    "3. Stacking\n",
    "4. Cascading\n",
    "\n",
    "Also, a mix of each of these can be possible"
   ]
  },
  {
   "cell_type": "markdown",
   "metadata": {
    "id": "Bepq1upoDcrF"
   },
   "source": [
    "\n",
    "\n",
    "<img src='https://drive.google.com/uc?id=1njR8DUne8941A1S9jwxGcG8JkzWxlVGM'>"
   ]
  },
  {
   "cell_type": "markdown",
   "metadata": {
    "id": "3D93J6eW_-mv"
   },
   "source": [
    "# **Bagging**"
   ]
  },
  {
   "cell_type": "markdown",
   "metadata": {
    "id": "Jgq4u5EFABzh"
   },
   "source": [
    "* Bagging is simply the **Bootstrapped Aggregation**.\n",
    "\n",
    "> **INTERACTION**:\n",
    "> - Q1: Let's say we have 3 different models, *M1, M2, M3* and all are trained for the same regression task to predict house prices. Can you think of a simple way to use predictions from these 3 different models together ?\n",
    "> - Ans: We can take the average prediction. (There are more complex ways, but we will not discuss those right now)\n",
    "> - Q2: Can you think similarly for a classification model?\n",
    "> - Ans: Voting.\n",
    "\n",
    "\n",
    "**Bagging refers to training different models for the same task, independently of each other and then cleverly combining their predictions.**\n",
    "\n",
    "\n",
    "Let us learn a special bagging model first, later we will also learn more about the other kinds of ensembles"
   ]
  },
  {
   "cell_type": "markdown",
   "metadata": {
    "id": "RyXudRiEk1z6"
   },
   "source": [
    "# Can we make an Ensemble from DTs? - Random Forest"
   ]
  },
  {
   "cell_type": "markdown",
   "metadata": {
    "id": "CpgKZyAZlzhA"
   },
   "source": [
    "Although, bagging can be done using models from different ML algorithms, let's try to make a bagging model just using **Decision Trees**. This is a special case of Bagging, known as the **Random Forest (RF)** model.\n",
    "\n",
    "### How to use multiple trees?\n",
    "\n",
    "Let us assume a train data set $D$ with $n$ data points i.e $D_n$\n",
    "* Now, we **sample $m$ data points with replacement** to get $D'_m$\n",
    "* We do the sampling again for $m$ points to get $D'_2$, **Repeat the same for $k$ times** and we get $D'_k$\n",
    "* Now, we **train $k$ different models**($M_1,M_2,....M_k$) basing on the $k$ datasets obtained , there models are called **Base Learners**.\n",
    "* After training we **cross validate each model** **with remaining $n-m$ data points**\n",
    "* Now, we do **Aggregation**\n",
    " * We use majority vote for Classification\n",
    " * We use Mean/Median for Regression\n",
    "Hence we see that just like DT, RF also works for both classification and regression"
   ]
  },
  {
   "cell_type": "markdown",
   "metadata": {
    "id": "b4KxYF4Zo_Da"
   },
   "source": [
    "* **Working :**\n",
    "  * When a query point ($x_q$) is given, we pass that point through all the $k$ models and aggrigate the output of the models."
   ]
  },
  {
   "cell_type": "markdown",
   "metadata": {
    "id": "snKHF1SxpzKE"
   },
   "source": [
    "\n",
    "<img src='https://drive.google.com/uc?id=1G7iHV05GhViHb1t82gQJXze1NCfINMYh'>\n"
   ]
  },
  {
   "cell_type": "markdown",
   "metadata": {
    "id": "CpqBZrQqpz1c"
   },
   "source": [
    "\n",
    "<img src='https://drive.google.com/uc?id=1oP6x44zrH2NvJ19EmCcBPuMEQBk1I9io'>\n"
   ]
  },
  {
   "cell_type": "markdown",
   "metadata": {
    "id": "cZPIklyEqk7Y"
   },
   "source": [
    "# **How to introduce randomness? - Row and Column Sampling**\n",
    "\n",
    "**What is the challenge we are facing here?**\n",
    "\n",
    "* Here the major thing is the $k$ models should be different from one another as there is no use if all the models are same.\n",
    "\n",
    "**Is making the models \"different\" really important?**\n",
    "* To further understand this, assume that 3 experts are called to make a decision about someting.\n",
    "* If all of them have very similar opinions, the 2 extra experts dont add much value.\n",
    "* It is important that each expert has a different \"take\" on the issue and the combined decision can then be expected to be more reliable and robust.\n",
    "\n",
    "**But how to ensure that all the models are different?**\n",
    "* For each tree *M_i* we randomly select a subset of training data. This is known as **row sampling**.\n",
    "* For each tree we can select a subset of the columns, This is known as **column sampling**\n",
    "* We can **tune the depth** of the tree. Deeper trees have a higher chance of being different from each other.\n",
    "\n",
    "Hence, we have many different trees, trained on a different subset of points, and different combinations of features.\n",
    "\n",
    "\n"
   ]
  },
  {
   "cell_type": "markdown",
   "metadata": {
    "id": "Vww_YBw6DSnu"
   },
   "source": [
    "<img src='https://drive.google.com/uc?id=1M0jzMtHBUGU41ldGm95NbO6FdxCQ24Ds'>\n"
   ]
  },
  {
   "cell_type": "markdown",
   "metadata": {
    "id": "l8W3DOA2TLF_"
   },
   "source": [
    "> **INTERACTION**\n",
    "> - **Interview Question**: What is \"random\" in random forests?\n",
    "> - Ans: Each tree has been trained on a random subset of rows and columns against the target column."
   ]
  },
  {
   "cell_type": "markdown",
   "metadata": {
    "id": "AHHDSdFPPj8s"
   },
   "source": [
    "## **But how to Validate RFs?**\n",
    "\n",
    "**Do you see a problem here?**\n",
    "\n",
    "\n",
    "\n",
    "\n"
   ]
  },
  {
   "cell_type": "markdown",
   "metadata": {
    "id": "yHbCEoQdQYOt"
   },
   "source": [
    "* We have $k$ different train data sets ($D^1_m$,$D^2_m$....$D^k_m$) to train $k$ different models ( $M_1$,$M_2$,...$M_k$) respectively\n",
    "\n",
    "**We are already not-utilizing a chunk of data for every tree. Can we use this for validation??**"
   ]
  },
  {
   "cell_type": "markdown",
   "metadata": {
    "id": "PhT1mo-kQx2k"
   },
   "source": [
    "The remaining $n-m$ rows can be used as validation data\n",
    "* for $D^i_{n-m} = D_n - D^i_m$ ,is Set Difference\n",
    " * This is reffered to as Out Of Bag(OOB)\n",
    "\n",
    "* So, we train the models on ($D^1_m$,$D^2_m$....$D^k_m$)these data sets and validate them on ($D^1_{n-m}$,$D^2_{n-m}$,....$D^k_{n-m}$) this data which is OOB sample\n",
    "* If some data points are not present in any of the train data sets, they will be in every validation data chunk (low chance of this happening)"
   ]
  },
  {
   "cell_type": "markdown",
   "metadata": {
    "id": "PmEPDlOMD8Nj"
   },
   "source": [
    "<img src='https://drive.google.com/uc?id=1ctmM4gTDOOA-DvYz69TVPUWrk_8bGs73'>\n"
   ]
  },
  {
   "cell_type": "markdown",
   "metadata": {
    "id": "xfzQWZgRA0n7"
   },
   "source": [
    "**Note that it is still usefull to do an overall cross Validation just like we do for other models**. Just for random forests, we have OOB data as-well to get some insight on individual trees performance"
   ]
  },
  {
   "cell_type": "markdown",
   "metadata": {
    "id": "B5xzgjIiVBq7"
   },
   "source": [
    "# **Measuring Performance**\n",
    "\n",
    "**Will Random Forest always out perform Decision tree?**\n",
    "\n",
    "* Yes, in most cases of the cases they should out perform\n",
    "\n",
    "**When will the performance of both Random Forest and Decision Tree be similar?**\n",
    "\n",
    "* This may happen when the data is very simple, that a simple Decisison tree by using simple rules can get a very good performance.\n",
    "\n",
    "\n",
    "\n"
   ]
  },
  {
   "cell_type": "markdown",
   "metadata": {
    "id": "H1i7ODbJEsYF"
   },
   "source": [
    "<img src='https://drive.google.com/uc?id=18r8gsNEwlVWxe1LrcxsBmHdt1T_7aFHr'>\n"
   ]
  },
  {
   "cell_type": "markdown",
   "metadata": {
    "id": "u8n2ksucXUjn"
   },
   "source": [
    "* In random forest The Base learners don't need seperate cross validation data set because the remaining data after sampling(OOB) are used for cross validation\n",
    " * i.e from $D_n$, $D^i_m$ is sampled and $D^i_{m-n}$ is used for cross validation\n",
    "\n",
    "* But the random forest as a whole has the cross validation data and test data to tune the Hyper Parameters of random Forest\n",
    "\n"
   ]
  },
  {
   "cell_type": "markdown",
   "metadata": {
    "id": "9caPO-SNERyC"
   },
   "source": [
    "<img src='https://drive.google.com/uc?id=1TAWUGCqO3pHkMeAEihu8yrctu8mIl1Ld'>\n"
   ]
  },
  {
   "cell_type": "code",
   "execution_count": null,
   "metadata": {
    "id": "kZ2GI8VABe4I"
   },
   "outputs": [],
   "source": []
  },
  {
   "cell_type": "markdown",
   "metadata": {
    "id": "hCJnU_BZBfSf"
   },
   "source": [
    "# **Bias Variance Tradeoff**"
   ]
  },
  {
   "cell_type": "markdown",
   "metadata": {
    "id": "3RkPyNuQYUqy"
   },
   "source": [
    "\n",
    "\n",
    "# **What happens if $k$ increases?**\n",
    "\n",
    "* The Decision tree base learners in random forest are Deep Decision Trees (non-shallow).\n",
    "* As they are deep, the models overfit slightly on a sub sample of data, as the base learners are made of $m$ rows and $d'$ columns only.\n",
    "* Now, we perfrom aggregation\\averaging on these slightly overfit models, on a sub-sample of data, which have high variance adn low bias\n",
    "\n",
    "\n",
    "<img src='https://drive.google.com/uc?id=1TZFIobjeaDkNolHkyM4B7yPhuY1CJ2Je'>\n",
    "\n",
    "## **Why does bagging reduce Variance?**\n",
    "- intuitively, it can be thaught of as follows:\n",
    "  - We have many trees which have high variance (unstable) prediction.\n",
    "  - Lets say they vary +- 20% around the correct prediciton.\n",
    "  - When we average outputs from multiple trees, some positive errors will be cancelled by some negetive errors, and we can expect to be left with smaller residual errors. (Hence lower variance predictions).\n",
    "  - The above would hold true in most cases, if the models are significantly different from each other and there are enough models. In practice, we see this does hold true.\n",
    "  - There is also a statistical proof for this but it is out of scope for this lecture.\n",
    "\n",
    "<img src='https://drive.google.com/uc?id=1CIMCpuPjoGSzldpdgF1yqfqHNMcllotv'>\n",
    "\n",
    "\n",
    "* In statistical Machine learning the error of a model can be represented as\n",
    "\n",
    "<img src='https://drive.google.com/uc?id=1EepwXmzSOEOnwxQlYgUu1tW1ni399agY'>\n",
    "\n",
    "\n",
    " * **Error = Bias$^2$ + Varinace + Irreducable error.**\n",
    " * Here we saw due to aggregation, the variance decreases without trading-off to bias, due to which the overall error of the model decreases.\n",
    "* Therefore the error of the random forest reduces.\n",
    "\n",
    "\n",
    "<img src='https://drive.google.com/uc?id=1ZhxBCswDiPvPoOO8gX-F2PEuDczWjkqF'>\n",
    "\n",
    "\n"
   ]
  },
  {
   "cell_type": "markdown",
   "metadata": {
    "id": "uMdBhwwELEZw"
   },
   "source": [
    "Now, as we saw each step of random forest\n",
    "\n",
    "* Let's see the core working of a random forest\n",
    "  1. It uses Bagging,  which is row sampling, and column sampling\n",
    "  2. It takes Base learners  which are slightly overfit i.e having high variance and low bias\n",
    "  3. It reduces this variance by aggregation without much increase in its bias.  "
   ]
  },
  {
   "cell_type": "markdown",
   "metadata": {
    "id": "Yom_bcXNOELi"
   },
   "source": [
    "\n",
    "\n",
    "<img src='https://drive.google.com/uc?id=1HayWwymSPwsHn1MWBRYcvcJ37_tg8mYy'>\n",
    "\n"
   ]
  },
  {
   "cell_type": "markdown",
   "metadata": {
    "id": "SOy6CO7dOQ5V"
   },
   "source": [
    "**Can we use Non Decision Tree models in Random forest?**\n",
    "\n",
    "* Yes we can you use slightly overfit models i.e having high variance models.\n",
    " * For example: We can use KNN with small $k$\n",
    " * We can use Logistic Regression with higher order features + low value of λ"
   ]
  },
  {
   "cell_type": "markdown",
   "metadata": {
    "id": "OylVTQ9hDI9v"
   },
   "source": [
    "# **Training a random forest**"
   ]
  },
  {
   "cell_type": "markdown",
   "metadata": {
    "id": "jNnr5Y_2X9U0"
   },
   "source": [
    "* With present day improvements we can easily run a Random forest with a billion data with 10 million sample size and with thousand base learners\n",
    "* These base learners can be trivially parallelised.\n",
    "* As each models is **trained independently** we can even take these models to distributed computing\n",
    "* In a distributed computing system each processor is given with different model's data set , the system can work on multiple models parallely, if the processor is a 8 core processor the datasets of 8 different trees can be worked on a system.\n",
    "* So, we are parallelisig the Random forest on multiple cores\n",
    "due to which the process becomes fast.\n",
    "* The time complexity here is O($k$ * max_depth of tree)"
   ]
  },
  {
   "cell_type": "markdown",
   "metadata": {
    "id": "MBDvVIRns0FT"
   },
   "source": [
    "\n",
    "<img src='https://drive.google.com/uc?id=1fGTLvjgW-ynmIWXM9DdOc8lJMHF8w6nN'>"
   ]
  },
  {
   "cell_type": "markdown",
   "metadata": {
    "id": "fe3xbVUstNbz"
   },
   "source": [
    "\n",
    "<img src='https://drive.google.com/uc?id=1dWqfOVxoz_bGUUojZcmCfNjdX8ZXzQ7O'>\n",
    "\n"
   ]
  },
  {
   "cell_type": "markdown",
   "metadata": {
    "id": "Pzt4iB8xtWw3"
   },
   "source": [
    "\n",
    "<img src='https://drive.google.com/uc?id=1FWex1MrUl0QMt6ROJM9sKSvdnP3fPWfD'>\n",
    "\n"
   ]
  },
  {
   "cell_type": "markdown",
   "metadata": {
    "id": "-tdfnVgjtfkq"
   },
   "source": [
    "## **OOB Score**"
   ]
  },
  {
   "cell_type": "markdown",
   "metadata": {
    "id": "K0QdOIFsu4dX"
   },
   "source": [
    "As we already studied that after sampling the data for each model we have some data remaning which is the **Out Of  Bag** data\n",
    "* This OOB data ($D'_{n-m}$) is not used as cross validation data, it is used to find the performace of the model on data, this is called the **OOB score** of the data\n",
    "* When the trained data performance is  more than the OOB data perfromance, we can conclude that the model is over-fitting, which we want upto some extend\n",
    "* In the same way we can say that the model is overfitting if the trained data error is less than OOB data error"
   ]
  },
  {
   "cell_type": "markdown",
   "metadata": {
    "id": "AjhzsbzAxC0x"
   },
   "source": [
    "\n",
    "<img src='https://drive.google.com/uc?id=1AbtzsIlvUBalGafi5KT9QkuoKtg-75aI'>\n"
   ]
  },
  {
   "cell_type": "markdown",
   "metadata": {
    "id": "GPPeodWOu7ja"
   },
   "source": [
    "#### When to use OOB Score ?\n",
    "\n",
    "Cross validation score is more reliable. However, **occasionally the dataset is not big enough and hence set aside a part of it for validation is unaffordable**.\n",
    "\n",
    "So, if we have less data: Random Forests, inherently keep some data aside for each tree, so we can utilise this and try to get an estimate of performance by measuring individual tree performance on OOB data."
   ]
  },
  {
   "cell_type": "markdown",
   "metadata": {
    "id": "hdDs8d3f1uq2"
   },
   "source": [
    "# **RandomForest Using SK-Learn**\n",
    "\n",
    "Now that we have seen some theory, lets try to train a simple RF classifier for our given problem."
   ]
  },
  {
   "cell_type": "code",
   "execution_count": 13,
   "metadata": {
    "colab": {
     "base_uri": "https://localhost:8080/"
    },
    "id": "Cb0pgWOJt8Un",
    "outputId": "820ea258-3938-4205-b917-cb7e13bca920",
    "tags": []
   },
   "outputs": [
    {
     "name": "stdout",
     "output_type": "stream",
     "text": [
      "K-Fold Accuracy Mean: Train: 88.40789279684536 Validation: 84.25910693301996\n",
      "K-Fold Accuracy Std: Train: 0.4472850758471545 Validation: 5.962976850561776\n"
     ]
    }
   ],
   "source": [
    "from sklearn.ensemble import RandomForestClassifier\n",
    "from sklearn.model_selection import KFold, cross_validate\n",
    "\n",
    "tree_clf = RandomForestClassifier(random_state=7, max_depth=4, n_estimators=100)\n",
    "kfold = KFold(n_splits=10)\n",
    "cv_acc_results = cross_validate(tree_clf, X_sm, y_sm, cv = kfold, scoring = 'accuracy', return_train_score = True)\n",
    "\n",
    "print(f\"K-Fold Accuracy Mean: Train: {cv_acc_results['train_score'].mean()*100} Validation: {cv_acc_results['test_score'].mean()*100}\")\n",
    "print(f\"K-Fold Accuracy Std: Train: {cv_acc_results['train_score'].std()*100} Validation: {cv_acc_results['test_score'].std()*100}\")"
   ]
  },
  {
   "cell_type": "markdown",
   "metadata": {
    "id": "0xIc26ZWxwA8"
   },
   "source": [
    "**As we can see that this performance is significantly better than the single Decision Tree**\n",
    "\n",
    "- Train Set: **88%**\n",
    "- Test Set : **84%**\n",
    "\n",
    "We will learn more about turning the model and hyperparameters in a bit"
   ]
  },
  {
   "cell_type": "markdown",
   "metadata": {
    "id": "AT7Y8R9act-o"
   },
   "source": [
    "# **Can we compute Feature Importance ?**"
   ]
  },
  {
   "cell_type": "markdown",
   "metadata": {
    "id": "XTN20dxlhPXC"
   },
   "source": [
    "Now, let's compute the feature importances for the Random forest"
   ]
  },
  {
   "cell_type": "markdown",
   "metadata": {
    "id": "T5R4ZTExhgNC"
   },
   "source": [
    "* In this plot, we can see significant change when comapred to the Decision tree\n",
    "* This is because we made the model little complex due to which it is able to capture more information from the dataset."
   ]
  },
  {
   "cell_type": "markdown",
   "metadata": {
    "id": "zDaT9zRiidof"
   },
   "source": [
    "**How does Feature importance in a Random Forest work?**"
   ]
  },
  {
   "cell_type": "markdown",
   "metadata": {
    "id": "cZOZ8G2_in2h"
   },
   "source": [
    "* A simple way of finding the feature importance in Random Forest is by computing the feature importance of a feature in each Decision Tree and take the average of these values."
   ]
  },
  {
   "cell_type": "markdown",
   "metadata": {
    "id": "dTa1QcLDpAjl"
   },
   "source": [
    "**What if some base learners don't have the feature?**"
   ]
  },
  {
   "cell_type": "markdown",
   "metadata": {
    "id": "ETihVzkIpHkJ"
   },
   "source": [
    "* The importance of that feature will be considered 0, in that Base learner\n",
    "* Even if we take average of trees in which the feature is not present, it do not effect much because all the features have equal importance of being chosen.\n",
    "* Let's assume there are 100 tress and column sampling rate is 0.1 , so a feature $f_{10}$  will approximately be in 10 base learners same happens with all other features also.\n",
    "* So deviding by 10 or 100 doesn't matter  "
   ]
  },
  {
   "cell_type": "markdown",
   "metadata": {
    "id": "OOwO7bwmbVOG"
   },
   "source": [
    "\n",
    "<img src='https://drive.google.com/uc?id=1LVomOHNxqGG-_VUpvI7ApjaRW5ZEkWN_' >\n"
   ]
  },
  {
   "cell_type": "code",
   "execution_count": 15,
   "metadata": {
    "colab": {
     "base_uri": "https://localhost:8080/",
     "height": 627
    },
    "id": "0o-YU6-Chash",
    "outputId": "ff3ea3a8-de55-44b2-cabf-970abfdfc12e",
    "tags": []
   },
   "outputs": [
    {
     "data": {
      "image/png": "[encoded data removed]",
      "text/plain": [
       "<Figure size 1500x700 with 1 Axes>"
      ]
     },
     "metadata": {},
     "output_type": "display_data"
    }
   ],
   "source": [
    "# Feature importance\n",
    "import numpy as np\n",
    "import matplotlib.pyplot as plt\n",
    "\n",
    "clf = RandomForestClassifier(random_state=7, max_depth=4, n_estimators=100)\n",
    "clf.fit(X_sm, y_sm)\n",
    "\n",
    "importances = clf.feature_importances_\n",
    "\n",
    "indices = np.argsort(importances)[::-1] # Sort feature importances in descending order\n",
    "names = [X_sm.columns[i] for i in indices] # Rearrange feature names so they match the sorted feature importances\n",
    "\n",
    "plt.figure(figsize=(15, 7)) # Create plot\n",
    "plt.title(\"Feature Importance\") # Create plot title\n",
    "plt.bar(range(X_sm.shape[1]), importances[indices]) # Add bars\n",
    "plt.xticks(range(X_sm.shape[1]), names, rotation=90) # Add feature names as x-axis labels\n",
    "plt.show() # Show plot"
   ]
  },
  {
   "cell_type": "markdown",
   "metadata": {
    "id": "_PmfUSzfRnjh"
   },
   "source": [
    "# **What are the Hyper-parameters of RF?**"
   ]
  },
  {
   "cell_type": "markdown",
   "metadata": {
    "id": "lcLlC7TlR9rq"
   },
   "source": [
    "Now lets see  various hyper parameters of Random Forest\n",
    "* Note that we consider the whole dataset $D$ not only the $D_{train}$ which is split into train data set for base learners"
   ]
  },
  {
   "cell_type": "markdown",
   "metadata": {
    "id": "H3LQLxOVPRJR"
   },
   "source": [
    "**What are the hyper parameters for random forest?**\n"
   ]
  },
  {
   "cell_type": "markdown",
   "metadata": {
    "id": "3h5Ik9k7XvCf"
   },
   "source": [
    "### 1. Number of Trees($k$)"
   ]
  },
  {
   "cell_type": "markdown",
   "metadata": {
    "id": "N3tt1qwOSpnR"
   },
   "source": [
    "**What happens if number of base learners ($k$) increases?**"
   ]
  },
  {
   "cell_type": "markdown",
   "metadata": {
    "id": "KRkWAjf6S21z"
   },
   "source": [
    "* As $k$ increases, we Aggregate more number of base learners\n",
    "* We already saw that, Aggregation decreases the varaince without any significant increase in the bias.\n",
    "* Hence, we can say that we avoid overfitting."
   ]
  },
  {
   "cell_type": "markdown",
   "metadata": {
    "id": "_UqGnNpnUWXj"
   },
   "source": [
    "\n",
    "\n",
    "\n",
    "<img src='https://drive.google.com/uc?id=1ZJB00f8_E465mwVr6h_FEZ1KwDMTkM9d'>\n"
   ]
  },
  {
   "cell_type": "markdown",
   "metadata": {
    "id": "GuaeN8eYWjy-"
   },
   "source": [
    "**What if my base learners underfit instead being overfit?**\n",
    "\n",
    "* If the base learners underfit, the varaince is  already low\n",
    "* Hence the aggregation which should reduce the variance doesn't work as expected."
   ]
  },
  {
   "cell_type": "markdown",
   "metadata": {
    "id": "SepeRaGuX626"
   },
   "source": [
    "### 2. Row sample size ($m$)\n",
    "\n",
    "\n",
    "\n",
    "* In some libraries $\\frac{m}{n}$ is also considered where this value becomes maximum i.e 1 ,when $m=n$"
   ]
  },
  {
   "cell_type": "markdown",
   "metadata": {
    "id": "B-pxhXdzZR99"
   },
   "source": [
    "**What happens when $m=n$ ? ($d=d'$)**\n",
    "* All  Base learners overfit on the whole data and they be similar.\n",
    "* So, as the $\\frac{m}{n}$ increases the over-fitting of the model  increases"
   ]
  },
  {
   "cell_type": "markdown",
   "metadata": {
    "id": "NkTXdSTXaUT4"
   },
   "source": [
    "### 3. Number of columns Sampled ($d'$)\n",
    "* Consider $m=n$\n"
   ]
  },
  {
   "cell_type": "markdown",
   "metadata": {
    "id": "GM6JKchMbWIt"
   },
   "source": [
    "* As $\\frac{d'}{d}$ increases, then all the features are being  used by each of the tree.\n",
    "* This implies the overfitting increases i.e the variance increases  \n"
   ]
  },
  {
   "cell_type": "markdown",
   "metadata": {
    "id": "Cdq_NI3CcdgW"
   },
   "source": [
    "### 4. Depth of Base learners\n",
    "* This is optional, some libraries let us use this when we dont want to use the Out Of Bag (OOB) data  fro cross validation\n",
    "* As depth increases, the overfitting increases\n",
    " * When the ratios $\\frac{m}{n}$ and $\\frac{d'}{d}$ are very less, that is when the base leraners are seeing very few columns and rows , and when the number of trees increases ($k$) the overfitting chances are low.  "
   ]
  },
  {
   "cell_type": "markdown",
   "metadata": {
    "id": "PuQMNluDeYkc"
   },
   "source": [
    "\n",
    "\n",
    "\n",
    "<img src='https://drive.google.com/uc?id=1fxH8dxv8mvAJM8SucB54Q4kBpudeBnzS'>\n"
   ]
  },
  {
   "cell_type": "markdown",
   "metadata": {
    "id": "ekttkpwXeiJU"
   },
   "source": [
    "\n",
    "<img src='https://drive.google.com/uc?id=1kvcAmHsp6HMVhi3r0s_OqU-waLTKqwOk'>\n"
   ]
  },
  {
   "cell_type": "markdown",
   "metadata": {
    "id": "ORVjEX1wjiwR"
   },
   "source": [
    "There are also other hyper-parameters same as DTs"
   ]
  },
  {
   "cell_type": "markdown",
   "metadata": {
    "id": "NxrVw-TXxNY3"
   },
   "source": [
    "### Sklearn library (terms and usage):\n",
    "\n",
    "\n",
    "\n",
    "https://scikit-learn.org/stable/modules/generated/sklearn.ensemble.RandomForestClassifier.html\n",
    "\n",
    "\n",
    "<img src='https://drive.google.com/uc?id=1xX95OGPg52IwYlSfPKqQPZRFuvOl8wYQ'>"
   ]
  },
  {
   "cell_type": "markdown",
   "metadata": {
    "id": "A2hfjQz__RNX"
   },
   "source": [
    "### **ccp_alpha- cost complexity pruning**\n",
    "\n",
    "\n",
    "\n",
    "\n",
    "* **PRUNING: Sometimes after we make a tree using the greedy approach and maximising information gain at each step, we eventually end up with some redundant or very less usefull branches. Hence after the tree is completed, we can now go back and merge / remove some paths / subtress inside the tree making it simpler and effecient. This is called Pruning**\n",
    "* This is basicaly used for pruning the base learners\n",
    "* We can control the overfitting and undefitting of the base learners using the value $α$, this is almost similar tp $λ$ whixh we used in linear and logistic regression\n",
    "* so the idea here is to minimise the loss associated with the decision tree and $α$ times the number of terminal nodes (leaves) which controls overfitting\n",
    " * min(loss + $α$ * number of leaves in the tree)\n",
    "* As the depth of tree increases we know the loss decreases, where the number of leaf nodes in increases, this trade-off between the loss and number of leaves can be controlled using $α$ like regularisation."
   ]
  },
  {
   "cell_type": "markdown",
   "metadata": {
    "id": "h0Sub3dMFMWK"
   },
   "source": [
    "<img src='https://drive.google.com/uc?id=1OS3oMsWLqUUzuKEO--J_5dlyDNknjMRl'>\n"
   ]
  },
  {
   "cell_type": "markdown",
   "metadata": {
    "id": "WpG9Or-GFWQi"
   },
   "source": [
    "\n",
    "<img src='https://drive.google.com/uc?id=1jMy3PfJkOZWRDvLHd2D6fh8FQEcgSpjy'>\n"
   ]
  },
  {
   "cell_type": "markdown",
   "metadata": {
    "id": "DTdCbMutFl--"
   },
   "source": [
    "\n",
    "<img src='https://drive.google.com/uc?id=1JsoH0fNs82BYPKOStZDT4uN2bygFaQbE'>\n"
   ]
  },
  {
   "cell_type": "code",
   "execution_count": null,
   "metadata": {
    "id": "ieaT8nukY9GI"
   },
   "outputs": [],
   "source": []
  },
  {
   "cell_type": "code",
   "execution_count": null,
   "metadata": {
    "id": "45C6n5xeY9Dz"
   },
   "outputs": [],
   "source": []
  },
  {
   "cell_type": "markdown",
   "metadata": {
    "id": "kRiTtgRT42U6"
   },
   "source": [
    "# **Hyper Parameter Tuning**\n",
    "# **Can we make further improvements?**\n"
   ]
  },
  {
   "cell_type": "markdown",
   "metadata": {
    "id": "H9hxDB3HHZWR"
   },
   "source": [
    "### Grid Search\n",
    "\n",
    "**What is GridSearch**\n",
    "- \"In grid search the set of trials is formed by assembling every possible combination of values\"\n",
    "- Basically, trying out every possible combination of hyperparameters in the search space.\n",
    "\n",
    "So we define a parameter space, i.e the range of values for each parameter that we want to try, and then we write a computer program to try out each combination of hyperparamers and we pick the best one.\n",
    "\n",
    "Note that this is a great example where we utilise parallel and even distributed computing at scale"
   ]
  },
  {
   "cell_type": "markdown",
   "metadata": {
    "id": "n6hbJEvyU6Xh"
   },
   "source": [
    "<img src='https://drive.google.com/uc?id=1d_q60Sui-6Txb6LC-XQ2rzbIMpFzHJT8'>"
   ]
  },
  {
   "cell_type": "code",
   "execution_count": 16,
   "metadata": {
    "id": "b2cJiP7n5FJJ",
    "tags": []
   },
   "outputs": [],
   "source": [
    "# Defining Parametes\n",
    "params = {\n",
    "          'n_estimators' : [100,200,300,400],\n",
    "          'max_depth' : [3,5,10],\n",
    "          'criterion' : ['gini', 'entropy'],\n",
    "          'bootstrap' : [True, False],\n",
    "          'max_features' : [8,9,10]\n",
    "         }"
   ]
  },
  {
   "cell_type": "markdown",
   "metadata": {
    "id": "1ID7IsRe6Qnb"
   },
   "source": [
    "Note that although we are trying out just a few possibilities for each parameter, in total it becomes many combinations:\n",
    "\n",
    "> **4 * 3 * 2 * 2* 3 = 144**\n",
    "\n",
    "Now we can use SK-Learn to try all these combinations\n",
    "\n"
   ]
  },
  {
   "cell_type": "code",
   "execution_count": 17,
   "metadata": {
    "id": "foLLZtRy6lPG",
    "tags": []
   },
   "outputs": [],
   "source": [
    "from sklearn.model_selection import GridSearchCV\n",
    "\n",
    "tuning_function = GridSearchCV(estimator = RandomForestClassifier(),\n",
    "                               param_grid = params,\n",
    "                               scoring = 'accuracy',\n",
    "                               cv = 3,\n",
    "                               n_jobs=-1\n",
    "                               )"
   ]
  },
  {
   "cell_type": "code",
   "execution_count": 18,
   "metadata": {
    "colab": {
     "base_uri": "https://localhost:8080/"
    },
    "id": "_U60eg3h7Hel",
    "outputId": "542eb795-04a9-4384-a268-47c5aaf1353d",
    "tags": []
   },
   "outputs": [
    {
     "name": "stdout",
     "output_type": "stream",
     "text": [
      "{'bootstrap': False, 'criterion': 'entropy', 'max_depth': 10, 'max_features': 8, 'n_estimators': 200}\n",
      "0.9004329004329005\n"
     ]
    }
   ],
   "source": [
    "# Now we will fit all combinations, this will take some time to run. (5-6 mins)\n",
    "tuning_function.fit(X_sm, y_sm)\n",
    "\n",
    "parameters = tuning_function.best_params_\n",
    "score = tuning_function.best_score_\n",
    "print(parameters)\n",
    "print(score)"
   ]
  },
  {
   "cell_type": "markdown",
   "metadata": {
    "id": "rMBPoUjL73he"
   },
   "source": [
    "- Remeber that Grid Search is a **brute force search**\n",
    "\n",
    "\n",
    "**Why Grid Search?**\n",
    "- Grid Search performs really well for small dimensions of dataset\n",
    "- It's appropriate for small and quick searches of hyperparameter values that are known to perform well generally.\n",
    "- It’s exhaustive and leaves no stone unturned\n",
    "\n",
    "**Cons of Grid Search**\n",
    "- *Curse of Dimensionality*:\n",
    "  - Let's say there are 7 hyperparameters and each hyperparameter has 5 possible values.\n",
    "  - Using Grid Search, no. of combinations tried will be 5 raised to 7, which is 78125\n",
    "- This exhaustive approach of \"Just try everything\" becomes compute intesive very quickly.\n",
    "- It doesn't work well when the number of hyperparameters is relatively large."
   ]
  },
  {
   "cell_type": "code",
   "execution_count": 19,
   "metadata": {
    "colab": {
     "base_uri": "https://localhost:8080/"
    },
    "id": "9TkmckqN9FpC",
    "outputId": "ffc50552-bcce-40d1-aa9b-bcdf9dbd9fb4",
    "tags": []
   },
   "outputs": [
    {
     "name": "stdout",
     "output_type": "stream",
     "text": [
      "K-Fold Accuracy Mean: Train: 99.65729291942273 Validation: 91.99911868390129\n",
      "K-Fold Accuracy Std: Train: 0.08521430404985707 Validation: 6.801305809034602\n"
     ]
    }
   ],
   "source": [
    "from sklearn.model_selection import KFold, cross_validate\n",
    "\n",
    "tree_clf = RandomForestClassifier(random_state=7, bootstrap=False, criterion='gini', max_depth=10, max_features=8, n_estimators=200)\n",
    "kfold = KFold(n_splits=10)\n",
    "cv_acc_results = cross_validate(tree_clf, X_sm, y_sm, cv = kfold, scoring = 'accuracy', return_train_score = True)\n",
    "\n",
    "print(f\"K-Fold Accuracy Mean: Train: {cv_acc_results['train_score'].mean()*100} Validation: {cv_acc_results['test_score'].mean()*100}\")\n",
    "print(f\"K-Fold Accuracy Std: Train: {cv_acc_results['train_score'].std()*100} Validation: {cv_acc_results['test_score'].std()*100}\")"
   ]
  },
  {
   "cell_type": "markdown",
   "metadata": {
    "id": "obobwlsw9joq"
   },
   "source": [
    "**Great, wo do see a significant improvement in performance.**\n",
    "- Train Set: **99.9 %**\n",
    "- Test Set: **92 %**\n",
    "\n",
    "Further notes\n",
    "- Again, this does seem an overfit case, maybe we can reduce max depth a bit.\n",
    "- Grid search can be a great starting point since it eleminates many combinations, we can still do some manual hand-tuning based on domain knowledge of trade-offs, business priorities and required precission/recall levels."
   ]
  },
  {
   "cell_type": "markdown",
   "metadata": {
    "id": "mtw0IxHvDTQI"
   },
   "source": [
    "## **Randomized Search**\n",
    "\n",
    "Just like Grid Search which is an exhaustive brute for search, we can use a Random Search as well, which will try hyper-parameters randomly from a finite list of options, or from a distribution.\n",
    "\n",
    "It can be used when you want to try a hyper-parameter within a certain range with some asssociated probability"
   ]
  },
  {
   "cell_type": "markdown",
   "metadata": {
    "id": "yG1LRsdSVGgy"
   },
   "source": [
    "<img src='https://drive.google.com/uc?id=18ZDbe9f-6equ7aOdXSVB046Zcvj1UoUa'>\n",
    "\n",
    "\n",
    "<img src='https://drive.google.com/uc?id=1MFKfYuLLYD42_IHJd7AtSrKyrCle8Ouf'>"
   ]
  },
  {
   "cell_type": "code",
   "execution_count": 20,
   "metadata": {
    "colab": {
     "base_uri": "https://localhost:8080/"
    },
    "id": "4RrqCaBoEDLQ",
    "outputId": "bd2ffda9-8ce5-4362-af92-a265499fa135",
    "tags": []
   },
   "outputs": [
    {
     "name": "stdout",
     "output_type": "stream",
     "text": [
      "{'ccp_alpha': 0.04836293931484668}\n",
      "0.7462121212121212\n"
     ]
    }
   ],
   "source": [
    "from sklearn.model_selection import RandomizedSearchCV\n",
    "from scipy.stats import uniform\n",
    "\n",
    "\n",
    "params = {'ccp_alpha': uniform(loc=0, scale=0.4)}  # sample from uniform dist between 0 to (0+0.4)=0.4\n",
    "\n",
    "tuning_function = RandomizedSearchCV(estimator = RandomForestClassifier(random_state=7, bootstrap=False, criterion='gini',\n",
    "                                                                  max_depth=10, max_features=8, n_estimators=200),\n",
    "                               param_distributions = params,  # notice arg changeed from param_grid to param_distributions\n",
    "                               scoring = 'accuracy',\n",
    "                               cv = 3,\n",
    "                               n_iter=15,  # Number of times to run random combination\n",
    "                               n_jobs=-1\n",
    "                               )\n",
    "\n",
    "tuning_function.fit(X_sm, y_sm)\n",
    "\n",
    "parameters = tuning_function.best_params_\n",
    "score = tuning_function.best_score_\n",
    "print(parameters)\n",
    "print(score)"
   ]
  },
  {
   "cell_type": "markdown",
   "metadata": {
    "id": "7L4aOec1Isfv"
   },
   "source": [
    "Here as we can see, we ran a very small randomized seach for just one hyperparmeter, and the score is reduced. So we will move ahead with our original value for *ccp_alpha* which was defaulted to 0\n",
    "\n",
    "**Benifits of Randomized Search**\n",
    "- Hyperparameter space is explored more widely, especially for more important variables\n",
    "- No need to provide an explicit set of possible values for every hyperparameter\n",
    "  - If we provide a good prior (knowlegde of where there is higher chance of finding the best value)\n",
    "- Best configuration can be found in fewer iterations\n",
    "\n",
    "**Short Comings of Random Search**\n",
    "- It does NOT use information from previous experiments to select the next set.\n",
    "- Each next guess is independent of previous experiment"
   ]
  },
  {
   "cell_type": "code",
   "execution_count": null,
   "metadata": {
    "id": "PrulscRRokFd"
   },
   "outputs": [],
   "source": []
  },
  {
   "cell_type": "markdown",
   "metadata": {
    "id": "s50jgfBSInGs"
   },
   "source": [
    "# **Coarse to Fine Tuning**\n",
    "\n",
    "As we can see searching for the right hyperparameter is expensive, and it is not possible (or too expensive) in most cases to find the right parameter by using an optimisation framework.\n",
    "\n",
    "So here we can use clever systematic approaches to make our seach slighly more \"guided\".\n",
    "\n",
    "- In coarse to fine approach we first try a wider range (coarse) of a give hyperparameter.\n",
    "- Then, once we have the best one, we try values near to that best value in smaller intervals (Fine).\n",
    "- We can repeat this, until we keep getting reasonable improvements.\n",
    "\n",
    "\n",
    "For example, lets try to tune the n_estimators parameter again"
   ]
  },
  {
   "cell_type": "markdown",
   "metadata": {
    "id": "cVd7CXg0VZWR"
   },
   "source": [
    "<img src='https://drive.google.com/uc?id=1JvyopaI7uCCHegzdTd_ST3LvhKKm3AdU'>\n",
    "\n",
    "<img src='https://drive.google.com/uc?id=1i9P88jgM3ivBsG01nreWSxzRewMbx36T'>"
   ]
  },
  {
   "cell_type": "code",
   "execution_count": 21,
   "metadata": {
    "colab": {
     "base_uri": "https://localhost:8080/"
    },
    "id": "18NqOdWcOTcu",
    "outputId": "b1ef8d84-fb92-44e3-eb50-5553b044d9f7",
    "tags": []
   },
   "outputs": [
    {
     "name": "stdout",
     "output_type": "stream",
     "text": [
      "{'n_estimators': 400}\n",
      "0.899891774891775\n"
     ]
    }
   ],
   "source": [
    "from sklearn.model_selection import GridSearchCV\n",
    "\n",
    "params = {'n_estimators': [100,  200, 300, 400, 500]}  # sample from uniform dist between 0 to (0+0.4)=0.4\n",
    "\n",
    "tuning_function = GridSearchCV(estimator = RandomForestClassifier(random_state=7, bootstrap=False, criterion='gini',\n",
    "                                                                  max_depth=10, max_features=8, n_estimators=200),\n",
    "                               param_grid = params,  # notice arg changeed from param_grid to param_distributions\n",
    "                               scoring = 'accuracy',\n",
    "                               cv = 3,\n",
    "                               n_jobs=-1\n",
    "                               )\n",
    "\n",
    "tuning_function.fit(X_sm, y_sm)\n",
    "\n",
    "parameters = tuning_function.best_params_\n",
    "score = tuning_function.best_score_\n",
    "print(parameters)\n",
    "print(score)"
   ]
  },
  {
   "cell_type": "markdown",
   "metadata": {
    "id": "bJFOEfH0Owxd"
   },
   "source": [
    "We see 2 things:\n",
    "- Best value for n_estimators is 400\n",
    "- When we used a full grid seach it was 200. This means that hyperparamets cannot be (ideally) tuned independently\n",
    "\n",
    "\n",
    "Now we can look in the vicinity of \"400\" with finer pertebations."
   ]
  },
  {
   "cell_type": "code",
   "execution_count": 22,
   "metadata": {
    "colab": {
     "base_uri": "https://localhost:8080/"
    },
    "id": "oWBwZQoYO8hD",
    "outputId": "235050ee-ef04-4929-ab5d-a356f2c33d9c",
    "tags": []
   },
   "outputs": [
    {
     "name": "stdout",
     "output_type": "stream",
     "text": [
      "{'n_estimators': 420}\n",
      "0.9004329004329005\n"
     ]
    }
   ],
   "source": [
    "params = {'n_estimators': [350, 370, 400, 420, 450]}  # sample from uniform dist between 0 to (0+0.4)=0.4\n",
    "\n",
    "tuning_function = GridSearchCV(estimator = RandomForestClassifier(random_state=7, bootstrap=False, criterion='gini',\n",
    "                                                                  max_depth=10, max_features=8, n_estimators=200),\n",
    "                               param_grid = params,  # notice arg changeed from param_grid to param_distributions\n",
    "                               scoring = 'accuracy',\n",
    "                               cv = 3,\n",
    "                               n_jobs=-1\n",
    "                               )\n",
    "\n",
    "tuning_function.fit(X_sm, y_sm)\n",
    "\n",
    "parameters = tuning_function.best_params_\n",
    "score = tuning_function.best_score_\n",
    "print(parameters)\n",
    "print(score)"
   ]
  },
  {
   "cell_type": "markdown",
   "metadata": {
    "id": "r2bUZek2PSff"
   },
   "source": [
    "We can see that, 400 is the best.\n",
    "- We can try more from 370 to 420 with intervals of say 10.\n",
    "- We can stop here if we are satisfied. (For this lecture we will stop here)"
   ]
  },
  {
   "cell_type": "markdown",
   "metadata": {
    "id": "1ydV8CR3wM7N"
   },
   "source": [
    "<hr>\n",
    "<hr>\n",
    "<hr>\n",
    "<hr>\n",
    "<hr>\n",
    "<hr>"
   ]
  }
 ],
 "metadata": {
  "colab": {
   "provenance": [],
   "toc_visible": true
  },
  "kernelspec": {
   "display_name": "Python 3 (ipykernel)",
   "language": "python",
   "name": "python3"
  },
  "language_info": {
   "codemirror_mode": {
    "name": "ipython",
    "version": 3
   },
   "file_extension": ".py",
   "mimetype": "text/x-python",
   "name": "python",
   "nbconvert_exporter": "python",
   "pygments_lexer": "ipython3",
   "version": "3.11.5"
  }
 },
 "nbformat": 4,
 "nbformat_minor": 4
}
