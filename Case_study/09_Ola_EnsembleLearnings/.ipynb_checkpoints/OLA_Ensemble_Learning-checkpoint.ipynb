{
 "cells": [
  {
   "cell_type": "markdown",
   "id": "e990d857-0e18-49a0-8f01-42953dc92653",
   "metadata": {
    "tags": []
   },
   "source": [
    "<center><h1 style=\"color: orange;\">Business Case</h1></center>\n",
    "<center><h1 style=\"color: green;\"> OLA - Ensemble Learning </h1></center>\n",
    "<center><h2 style=\"color: black;\">Suman Debnath</h1></center>"
   ]
  },
  {
   "cell_type": "markdown",
   "id": "4e850ccb-91d9-4a62-b0ca-c7e56e814892",
   "metadata": {},
   "source": [
    "<div style=\"text-align:center;\">\n",
    "  <img src=\"ola.webp\" />\n",
    "</div>\n"
   ]
  },
  {
   "cell_type": "markdown",
   "id": "e3b5408b",
   "metadata": {},
   "source": [
    "<center><h1 style=\"color: blue;\">Introduction</h1></center>\n",
    "\n",
    "- Recruiting and retaining drivers is seen by industry watchers as a tough battle for Ola.\n",
    "- Churn among drivers is high and it’s very easy for drivers to stop working for the service on the fly or jump to Uber depending on the rates.\n",
    "\n",
    "\n",
    "- As the companies get bigger, the high churn could become a bigger problem. To find new drivers, Ola is casting a wide net, including people who don’t have cars for jobs. But this acquisition is really costly.\n",
    "- Losing drivers frequently impacts the morale of the organization and acquiring new drivers is more expensive than retaining existing ones.\n",
    "\n",
    "\n",
    "- You are working as a data scientist with the Analytics Department of Ola, focused on driver team attrition.\n",
    "- You are provided with the monthly information for a segment of drivers for 2019 and 2020 and tasked to predict whether a driver will be leaving the company or not based on their attributes like\n",
    "\n",
    "- Demographics (city, age, gender etc.)\n",
    "- Tenure information (joining date, Last Date)\n",
    "\n",
    "- Historical data regarding the performance of the driver (Quarterly rating, Monthly business acquired, grade, Income)\n",
    "\n",
    "\n",
    "\n",
    "### Column Profiling:\n",
    "\n",
    "\n",
    "- MMMM-YY : Reporting Date (Monthly)\n",
    "- Driver_ID : Unique id for drivers\n",
    "- Age : Age of the driver\n",
    "- Gender : Gender of the driver – Male : 0, Female: 1\n",
    "- City : City Code of the driver\n",
    "- Education_Level : Education level – 0 for 10+ ,1 for 12+ ,2 for graduate\n",
    "- Income : Monthly average Income of the driver\n",
    "- Date Of Joining : Joining date for the driver\n",
    "- LastWorkingDate : Last date of working for the driver\n",
    "- Joining Designation : Designation of the driver at the time of joining\n",
    "- Grade : Grade of the driver at the time of reporting\n",
    "- Total Business Value : The total business value acquired by the driver in a month (negative business indicates -cancellation/refund or car EMI adjustments)\n",
    "- Quarterly Rating : Quarterly rating of the driver: 1,2,3,4,5 (higher is better)"
   ]
  },
  {
   "cell_type": "markdown",
   "id": "b7b9f3ce-4ffa-44a2-8971-29b792862c1d",
   "metadata": {},
   "source": [
    "<center><h1 style=\"color: red;\">Summary</h1></center>\n",
    "\n",
    "### Data Distribution:\n",
    "- **Gender**: \n",
    "  - Male: 1380\n",
    "  - Female: 956\n",
    "\n",
    "- **Churn Distribution**:\n",
    "  - 1 (Churned): 1616 (67.87%)\n",
    "  - 0 (Not Churned): 765 (32.13%)\n",
    "\n",
    "### Random Forest:\n",
    "- Train and test score: (0.8697, 0.8679)\n",
    "- Highest feature importance: Joining year, followed by the number of records available in data, and total business value.\n",
    "- Recall: 0.866\n",
    "- Precision: 0.928\n",
    "- F1-Score: 0.89\n",
    "\n",
    "### Grid Search CV on Random Forest:\n",
    "- Best parameters: ccp_alpha=0.001, max_depth=10, max_features=7, n_estimators=300\n",
    "- Best score: 0.8881\n",
    "\n",
    "### Bagging Classifier with Decision Trees:\n",
    "- 50 Decision Trees, max_depth=7, class_weight=\"balanced\"\n",
    "- F1 Score: 0.9064\n",
    "- Precision: 0.9388\n",
    "- Recall Score: 0.8762\n",
    "- Accuracy: 0.880\n",
    "\n",
    "### XGBoost Classifier (Grid Search CV):\n",
    "- Parameters: 'max_depth': 2, 'n_estimators': 100\n",
    "- Test Scores:\n",
    "  - Accuracy: 0.87\n",
    "  - F1 Score: 0.90\n",
    "  - Recall: 0.923\n",
    "  - Precision: 0.884\n",
    "- Highest feature importance: Joining year, followed by the number of records available in data, and total business value.\n",
    "\n",
    "### Gradient Boosting Classifier (GBC):\n",
    "- Train Score: 0.9144\n",
    "- Test Score: 0.8910\n",
    "- Accuracy Score: 0.8910\n",
    "- ROC-AUC Score (test dataset): 0.9448\n",
    "- Precision Score (test dataset): 0.9288\n",
    "- Recall Score (test dataset): 0.9119\n",
    "- F1 Score (test dataset): 0.9202\n"
   ]
  },
  {
   "cell_type": "markdown",
   "id": "fc0bf135-f401-4368-8756-965a466ea944",
   "metadata": {},
   "source": [
    "<center><h1 style=\"color: red;\">Observations</h1></center>\n",
    "\n",
    "- The probability of churn is higher in cases where the education level is 0 and 1, compared to 2.\n",
    "- For drivers with a joining designation of 1, the probability of churn is higher.\n",
    "- When the quarterly rating is 1, the probability of churn is significantly higher.\n",
    "- A similar pattern is observed for drivers whose quarterly rating has increased throughout their tenure.\n",
    "- Drivers who joined in 2018 and 2019 have a very high probability of churn compared to those who joined in 2020 or before 2018.\n"
   ]
  },
  {
   "cell_type": "markdown",
   "id": "5a8360b5-024d-4861-b867-9e024cd596bd",
   "metadata": {},
   "source": [
    "<center><h1 style=\"color: green;\">Detailed Analysis</h1></center>\n"
   ]
  },
  {
   "cell_type": "markdown",
   "id": "a962fded-5f61-4604-afaf-a5d1293e9e77",
   "metadata": {},
   "source": [
    "## Importing all the `libs`"
   ]
  },
  {
   "cell_type": "code",
   "execution_count": 1,
   "id": "4c2820ca-0b47-4577-a020-aa6b4ad86c10",
   "metadata": {
    "tags": []
   },
   "outputs": [],
   "source": [
    "import pandas as pd\n",
    "import numpy as np\n",
    "import seaborn as sns\n",
    "import matplotlib.pyplot as plt\n",
    "from matplotlib import figure\n",
    "\n",
    "import statsmodels.api as sm\n",
    "from scipy.stats import norm\n",
    "from scipy.stats import t\n",
    "\n",
    "import warnings\n",
    "warnings.filterwarnings('ignore')\n",
    "\n",
    "%matplotlib inline"
   ]
  },
  {
   "cell_type": "code",
   "execution_count": 2,
   "id": "d3ba4908",
   "metadata": {
    "tags": []
   },
   "outputs": [],
   "source": [
    "ola = pd.read_csv(\"ola.csv\")"
   ]
  },
  {
   "cell_type": "code",
   "execution_count": 3,
   "id": "2cc93bcb",
   "metadata": {
    "tags": []
   },
   "outputs": [
    {
     "data": {
      "text/html": [
       "<div>\n",
       "<style scoped>\n",
       "    .dataframe tbody tr th:only-of-type {\n",
       "        vertical-align: middle;\n",
       "    }\n",
       "\n",
       "    .dataframe tbody tr th {\n",
       "        vertical-align: top;\n",
       "    }\n",
       "\n",
       "    .dataframe thead th {\n",
       "        text-align: right;\n",
       "    }\n",
       "</style>\n",
       "<table border=\"1\" class=\"dataframe\">\n",
       "  <thead>\n",
       "    <tr style=\"text-align: right;\">\n",
       "      <th></th>\n",
       "      <th>Unnamed: 0</th>\n",
       "      <th>MMM-YY</th>\n",
       "      <th>Driver_ID</th>\n",
       "      <th>Age</th>\n",
       "      <th>Gender</th>\n",
       "      <th>City</th>\n",
       "      <th>Education_Level</th>\n",
       "      <th>Income</th>\n",
       "      <th>Dateofjoining</th>\n",
       "      <th>LastWorkingDate</th>\n",
       "      <th>Joining Designation</th>\n",
       "      <th>Grade</th>\n",
       "      <th>Total Business Value</th>\n",
       "      <th>Quarterly Rating</th>\n",
       "    </tr>\n",
       "  </thead>\n",
       "  <tbody>\n",
       "    <tr>\n",
       "      <th>0</th>\n",
       "      <td>0</td>\n",
       "      <td>01/01/19</td>\n",
       "      <td>1</td>\n",
       "      <td>28.0</td>\n",
       "      <td>0.0</td>\n",
       "      <td>C23</td>\n",
       "      <td>2</td>\n",
       "      <td>57387</td>\n",
       "      <td>24/12/18</td>\n",
       "      <td>NaN</td>\n",
       "      <td>1</td>\n",
       "      <td>1</td>\n",
       "      <td>2381060</td>\n",
       "      <td>2</td>\n",
       "    </tr>\n",
       "    <tr>\n",
       "      <th>1</th>\n",
       "      <td>1</td>\n",
       "      <td>02/01/19</td>\n",
       "      <td>1</td>\n",
       "      <td>28.0</td>\n",
       "      <td>0.0</td>\n",
       "      <td>C23</td>\n",
       "      <td>2</td>\n",
       "      <td>57387</td>\n",
       "      <td>24/12/18</td>\n",
       "      <td>NaN</td>\n",
       "      <td>1</td>\n",
       "      <td>1</td>\n",
       "      <td>-665480</td>\n",
       "      <td>2</td>\n",
       "    </tr>\n",
       "    <tr>\n",
       "      <th>2</th>\n",
       "      <td>2</td>\n",
       "      <td>03/01/19</td>\n",
       "      <td>1</td>\n",
       "      <td>28.0</td>\n",
       "      <td>0.0</td>\n",
       "      <td>C23</td>\n",
       "      <td>2</td>\n",
       "      <td>57387</td>\n",
       "      <td>24/12/18</td>\n",
       "      <td>03/11/19</td>\n",
       "      <td>1</td>\n",
       "      <td>1</td>\n",
       "      <td>0</td>\n",
       "      <td>2</td>\n",
       "    </tr>\n",
       "    <tr>\n",
       "      <th>3</th>\n",
       "      <td>3</td>\n",
       "      <td>11/01/20</td>\n",
       "      <td>2</td>\n",
       "      <td>31.0</td>\n",
       "      <td>0.0</td>\n",
       "      <td>C7</td>\n",
       "      <td>2</td>\n",
       "      <td>67016</td>\n",
       "      <td>11/06/20</td>\n",
       "      <td>NaN</td>\n",
       "      <td>2</td>\n",
       "      <td>2</td>\n",
       "      <td>0</td>\n",
       "      <td>1</td>\n",
       "    </tr>\n",
       "    <tr>\n",
       "      <th>4</th>\n",
       "      <td>4</td>\n",
       "      <td>12/01/20</td>\n",
       "      <td>2</td>\n",
       "      <td>31.0</td>\n",
       "      <td>0.0</td>\n",
       "      <td>C7</td>\n",
       "      <td>2</td>\n",
       "      <td>67016</td>\n",
       "      <td>11/06/20</td>\n",
       "      <td>NaN</td>\n",
       "      <td>2</td>\n",
       "      <td>2</td>\n",
       "      <td>0</td>\n",
       "      <td>1</td>\n",
       "    </tr>\n",
       "  </tbody>\n",
       "</table>\n",
       "</div>"
      ],
      "text/plain": [
       "   Unnamed: 0    MMM-YY  Driver_ID   Age  Gender City  Education_Level  \\\n",
       "0           0  01/01/19          1  28.0     0.0  C23                2   \n",
       "1           1  02/01/19          1  28.0     0.0  C23                2   \n",
       "2           2  03/01/19          1  28.0     0.0  C23                2   \n",
       "3           3  11/01/20          2  31.0     0.0   C7                2   \n",
       "4           4  12/01/20          2  31.0     0.0   C7                2   \n",
       "\n",
       "   Income Dateofjoining LastWorkingDate  Joining Designation  Grade  \\\n",
       "0   57387      24/12/18             NaN                    1      1   \n",
       "1   57387      24/12/18             NaN                    1      1   \n",
       "2   57387      24/12/18        03/11/19                    1      1   \n",
       "3   67016      11/06/20             NaN                    2      2   \n",
       "4   67016      11/06/20             NaN                    2      2   \n",
       "\n",
       "   Total Business Value  Quarterly Rating  \n",
       "0               2381060                 2  \n",
       "1               -665480                 2  \n",
       "2                     0                 2  \n",
       "3                     0                 1  \n",
       "4                     0                 1  "
      ]
     },
     "execution_count": 3,
     "metadata": {},
     "output_type": "execute_result"
    }
   ],
   "source": [
    "ola.head(5)"
   ]
  },
  {
   "cell_type": "code",
   "execution_count": 4,
   "id": "04b47838",
   "metadata": {
    "tags": []
   },
   "outputs": [],
   "source": [
    "df = ola.copy()"
   ]
  },
  {
   "cell_type": "markdown",
   "id": "5af69d83-491a-4d23-b848-d5753922f370",
   "metadata": {},
   "source": [
    "## EDA"
   ]
  },
  {
   "cell_type": "code",
   "execution_count": 5,
   "id": "ab2ec94f",
   "metadata": {
    "tags": []
   },
   "outputs": [
    {
     "data": {
      "text/plain": [
       "Unnamed: 0               0.000000\n",
       "MMM-YY                   0.000000\n",
       "Driver_ID                0.000000\n",
       "Age                      0.319305\n",
       "Gender                   0.272194\n",
       "City                     0.000000\n",
       "Education_Level          0.000000\n",
       "Income                   0.000000\n",
       "Dateofjoining            0.000000\n",
       "LastWorkingDate         91.541039\n",
       "Joining Designation      0.000000\n",
       "Grade                    0.000000\n",
       "Total Business Value     0.000000\n",
       "Quarterly Rating         0.000000\n",
       "dtype: float64"
      ]
     },
     "execution_count": 5,
     "metadata": {},
     "output_type": "execute_result"
    }
   ],
   "source": [
    "(df.isna().sum()/len(df))*100"
   ]
  },
  {
   "cell_type": "code",
   "execution_count": 6,
   "id": "ddd9c267",
   "metadata": {
    "tags": []
   },
   "outputs": [
    {
     "data": {
      "text/html": [
       "<div>\n",
       "<style scoped>\n",
       "    .dataframe tbody tr th:only-of-type {\n",
       "        vertical-align: middle;\n",
       "    }\n",
       "\n",
       "    .dataframe tbody tr th {\n",
       "        vertical-align: top;\n",
       "    }\n",
       "\n",
       "    .dataframe thead th {\n",
       "        text-align: right;\n",
       "    }\n",
       "</style>\n",
       "<table border=\"1\" class=\"dataframe\">\n",
       "  <thead>\n",
       "    <tr style=\"text-align: right;\">\n",
       "      <th></th>\n",
       "      <th>Unnamed: 0</th>\n",
       "      <th>MMM-YY</th>\n",
       "      <th>Driver_ID</th>\n",
       "      <th>Age</th>\n",
       "      <th>Gender</th>\n",
       "      <th>City</th>\n",
       "      <th>Education_Level</th>\n",
       "      <th>Income</th>\n",
       "      <th>Dateofjoining</th>\n",
       "      <th>LastWorkingDate</th>\n",
       "      <th>Joining Designation</th>\n",
       "      <th>Grade</th>\n",
       "      <th>Total Business Value</th>\n",
       "      <th>Quarterly Rating</th>\n",
       "    </tr>\n",
       "  </thead>\n",
       "  <tbody>\n",
       "    <tr>\n",
       "      <th>0</th>\n",
       "      <td>0</td>\n",
       "      <td>01/01/19</td>\n",
       "      <td>1</td>\n",
       "      <td>28.0</td>\n",
       "      <td>0.0</td>\n",
       "      <td>C23</td>\n",
       "      <td>2</td>\n",
       "      <td>57387</td>\n",
       "      <td>24/12/18</td>\n",
       "      <td>NaN</td>\n",
       "      <td>1</td>\n",
       "      <td>1</td>\n",
       "      <td>2381060</td>\n",
       "      <td>2</td>\n",
       "    </tr>\n",
       "    <tr>\n",
       "      <th>1</th>\n",
       "      <td>1</td>\n",
       "      <td>02/01/19</td>\n",
       "      <td>1</td>\n",
       "      <td>28.0</td>\n",
       "      <td>0.0</td>\n",
       "      <td>C23</td>\n",
       "      <td>2</td>\n",
       "      <td>57387</td>\n",
       "      <td>24/12/18</td>\n",
       "      <td>NaN</td>\n",
       "      <td>1</td>\n",
       "      <td>1</td>\n",
       "      <td>-665480</td>\n",
       "      <td>2</td>\n",
       "    </tr>\n",
       "    <tr>\n",
       "      <th>2</th>\n",
       "      <td>2</td>\n",
       "      <td>03/01/19</td>\n",
       "      <td>1</td>\n",
       "      <td>28.0</td>\n",
       "      <td>0.0</td>\n",
       "      <td>C23</td>\n",
       "      <td>2</td>\n",
       "      <td>57387</td>\n",
       "      <td>24/12/18</td>\n",
       "      <td>03/11/19</td>\n",
       "      <td>1</td>\n",
       "      <td>1</td>\n",
       "      <td>0</td>\n",
       "      <td>2</td>\n",
       "    </tr>\n",
       "    <tr>\n",
       "      <th>3</th>\n",
       "      <td>3</td>\n",
       "      <td>11/01/20</td>\n",
       "      <td>2</td>\n",
       "      <td>31.0</td>\n",
       "      <td>0.0</td>\n",
       "      <td>C7</td>\n",
       "      <td>2</td>\n",
       "      <td>67016</td>\n",
       "      <td>11/06/20</td>\n",
       "      <td>NaN</td>\n",
       "      <td>2</td>\n",
       "      <td>2</td>\n",
       "      <td>0</td>\n",
       "      <td>1</td>\n",
       "    </tr>\n",
       "    <tr>\n",
       "      <th>4</th>\n",
       "      <td>4</td>\n",
       "      <td>12/01/20</td>\n",
       "      <td>2</td>\n",
       "      <td>31.0</td>\n",
       "      <td>0.0</td>\n",
       "      <td>C7</td>\n",
       "      <td>2</td>\n",
       "      <td>67016</td>\n",
       "      <td>11/06/20</td>\n",
       "      <td>NaN</td>\n",
       "      <td>2</td>\n",
       "      <td>2</td>\n",
       "      <td>0</td>\n",
       "      <td>1</td>\n",
       "    </tr>\n",
       "    <tr>\n",
       "      <th>5</th>\n",
       "      <td>5</td>\n",
       "      <td>12/01/19</td>\n",
       "      <td>4</td>\n",
       "      <td>43.0</td>\n",
       "      <td>0.0</td>\n",
       "      <td>C13</td>\n",
       "      <td>2</td>\n",
       "      <td>65603</td>\n",
       "      <td>12/07/19</td>\n",
       "      <td>NaN</td>\n",
       "      <td>2</td>\n",
       "      <td>2</td>\n",
       "      <td>0</td>\n",
       "      <td>1</td>\n",
       "    </tr>\n",
       "    <tr>\n",
       "      <th>6</th>\n",
       "      <td>6</td>\n",
       "      <td>01/01/20</td>\n",
       "      <td>4</td>\n",
       "      <td>43.0</td>\n",
       "      <td>0.0</td>\n",
       "      <td>C13</td>\n",
       "      <td>2</td>\n",
       "      <td>65603</td>\n",
       "      <td>12/07/19</td>\n",
       "      <td>NaN</td>\n",
       "      <td>2</td>\n",
       "      <td>2</td>\n",
       "      <td>0</td>\n",
       "      <td>1</td>\n",
       "    </tr>\n",
       "    <tr>\n",
       "      <th>7</th>\n",
       "      <td>7</td>\n",
       "      <td>02/01/20</td>\n",
       "      <td>4</td>\n",
       "      <td>43.0</td>\n",
       "      <td>0.0</td>\n",
       "      <td>C13</td>\n",
       "      <td>2</td>\n",
       "      <td>65603</td>\n",
       "      <td>12/07/19</td>\n",
       "      <td>NaN</td>\n",
       "      <td>2</td>\n",
       "      <td>2</td>\n",
       "      <td>0</td>\n",
       "      <td>1</td>\n",
       "    </tr>\n",
       "    <tr>\n",
       "      <th>8</th>\n",
       "      <td>8</td>\n",
       "      <td>03/01/20</td>\n",
       "      <td>4</td>\n",
       "      <td>43.0</td>\n",
       "      <td>0.0</td>\n",
       "      <td>C13</td>\n",
       "      <td>2</td>\n",
       "      <td>65603</td>\n",
       "      <td>12/07/19</td>\n",
       "      <td>NaN</td>\n",
       "      <td>2</td>\n",
       "      <td>2</td>\n",
       "      <td>350000</td>\n",
       "      <td>1</td>\n",
       "    </tr>\n",
       "    <tr>\n",
       "      <th>9</th>\n",
       "      <td>9</td>\n",
       "      <td>04/01/20</td>\n",
       "      <td>4</td>\n",
       "      <td>43.0</td>\n",
       "      <td>0.0</td>\n",
       "      <td>C13</td>\n",
       "      <td>2</td>\n",
       "      <td>65603</td>\n",
       "      <td>12/07/19</td>\n",
       "      <td>27/04/20</td>\n",
       "      <td>2</td>\n",
       "      <td>2</td>\n",
       "      <td>0</td>\n",
       "      <td>1</td>\n",
       "    </tr>\n",
       "  </tbody>\n",
       "</table>\n",
       "</div>"
      ],
      "text/plain": [
       "   Unnamed: 0    MMM-YY  Driver_ID   Age  Gender City  Education_Level  \\\n",
       "0           0  01/01/19          1  28.0     0.0  C23                2   \n",
       "1           1  02/01/19          1  28.0     0.0  C23                2   \n",
       "2           2  03/01/19          1  28.0     0.0  C23                2   \n",
       "3           3  11/01/20          2  31.0     0.0   C7                2   \n",
       "4           4  12/01/20          2  31.0     0.0   C7                2   \n",
       "5           5  12/01/19          4  43.0     0.0  C13                2   \n",
       "6           6  01/01/20          4  43.0     0.0  C13                2   \n",
       "7           7  02/01/20          4  43.0     0.0  C13                2   \n",
       "8           8  03/01/20          4  43.0     0.0  C13                2   \n",
       "9           9  04/01/20          4  43.0     0.0  C13                2   \n",
       "\n",
       "   Income Dateofjoining LastWorkingDate  Joining Designation  Grade  \\\n",
       "0   57387      24/12/18             NaN                    1      1   \n",
       "1   57387      24/12/18             NaN                    1      1   \n",
       "2   57387      24/12/18        03/11/19                    1      1   \n",
       "3   67016      11/06/20             NaN                    2      2   \n",
       "4   67016      11/06/20             NaN                    2      2   \n",
       "5   65603      12/07/19             NaN                    2      2   \n",
       "6   65603      12/07/19             NaN                    2      2   \n",
       "7   65603      12/07/19             NaN                    2      2   \n",
       "8   65603      12/07/19             NaN                    2      2   \n",
       "9   65603      12/07/19        27/04/20                    2      2   \n",
       "\n",
       "   Total Business Value  Quarterly Rating  \n",
       "0               2381060                 2  \n",
       "1               -665480                 2  \n",
       "2                     0                 2  \n",
       "3                     0                 1  \n",
       "4                     0                 1  \n",
       "5                     0                 1  \n",
       "6                     0                 1  \n",
       "7                     0                 1  \n",
       "8                350000                 1  \n",
       "9                     0                 1  "
      ]
     },
     "execution_count": 6,
     "metadata": {},
     "output_type": "execute_result"
    }
   ],
   "source": [
    "df.head(10)"
   ]
  },
  {
   "cell_type": "code",
   "execution_count": 7,
   "id": "b0944163",
   "metadata": {
    "tags": []
   },
   "outputs": [
    {
     "data": {
      "text/plain": [
       "(19104, 14)"
      ]
     },
     "execution_count": 7,
     "metadata": {},
     "output_type": "execute_result"
    }
   ],
   "source": [
    "df.shape"
   ]
  },
  {
   "cell_type": "code",
   "execution_count": 8,
   "id": "8f9082c2",
   "metadata": {
    "tags": []
   },
   "outputs": [
    {
     "data": {
      "text/plain": [
       "2381"
      ]
     },
     "execution_count": 8,
     "metadata": {},
     "output_type": "execute_result"
    }
   ],
   "source": [
    "# No. of unique drivers\n",
    "df[\"Driver_ID\"].nunique()  "
   ]
  },
  {
   "cell_type": "code",
   "execution_count": 9,
   "id": "4beea8c9",
   "metadata": {
    "tags": []
   },
   "outputs": [],
   "source": [
    "df.drop([\"Unnamed: 0\"],axis = 1 , inplace=True)"
   ]
  },
  {
   "cell_type": "code",
   "execution_count": 10,
   "id": "2b121dca",
   "metadata": {
    "tags": []
   },
   "outputs": [],
   "source": [
    "df[\"Gender\"].replace({0.0:\"Male\",1.0:\"Female\"},inplace=True)"
   ]
  },
  {
   "cell_type": "code",
   "execution_count": 11,
   "id": "8740a22f-4c31-4c7c-b4ad-40e815e95835",
   "metadata": {
    "tags": []
   },
   "outputs": [
    {
     "data": {
      "text/html": [
       "<div>\n",
       "<style scoped>\n",
       "    .dataframe tbody tr th:only-of-type {\n",
       "        vertical-align: middle;\n",
       "    }\n",
       "\n",
       "    .dataframe tbody tr th {\n",
       "        vertical-align: top;\n",
       "    }\n",
       "\n",
       "    .dataframe thead th {\n",
       "        text-align: right;\n",
       "    }\n",
       "</style>\n",
       "<table border=\"1\" class=\"dataframe\">\n",
       "  <thead>\n",
       "    <tr style=\"text-align: right;\">\n",
       "      <th></th>\n",
       "      <th>MMM-YY</th>\n",
       "      <th>Driver_ID</th>\n",
       "      <th>Age</th>\n",
       "      <th>Gender</th>\n",
       "      <th>City</th>\n",
       "      <th>Education_Level</th>\n",
       "      <th>Income</th>\n",
       "      <th>Dateofjoining</th>\n",
       "      <th>LastWorkingDate</th>\n",
       "      <th>Joining Designation</th>\n",
       "      <th>Grade</th>\n",
       "      <th>Total Business Value</th>\n",
       "      <th>Quarterly Rating</th>\n",
       "    </tr>\n",
       "  </thead>\n",
       "  <tbody>\n",
       "    <tr>\n",
       "      <th>8017</th>\n",
       "      <td>09/01/19</td>\n",
       "      <td>1191</td>\n",
       "      <td>36.0</td>\n",
       "      <td>Male</td>\n",
       "      <td>C7</td>\n",
       "      <td>2</td>\n",
       "      <td>118722</td>\n",
       "      <td>23/06/17</td>\n",
       "      <td>NaN</td>\n",
       "      <td>1</td>\n",
       "      <td>4</td>\n",
       "      <td>1182260</td>\n",
       "      <td>3</td>\n",
       "    </tr>\n",
       "    <tr>\n",
       "      <th>12407</th>\n",
       "      <td>09/01/20</td>\n",
       "      <td>1850</td>\n",
       "      <td>34.0</td>\n",
       "      <td>Female</td>\n",
       "      <td>C20</td>\n",
       "      <td>2</td>\n",
       "      <td>80779</td>\n",
       "      <td>05/05/20</td>\n",
       "      <td>NaN</td>\n",
       "      <td>2</td>\n",
       "      <td>2</td>\n",
       "      <td>-790</td>\n",
       "      <td>2</td>\n",
       "    </tr>\n",
       "    <tr>\n",
       "      <th>6018</th>\n",
       "      <td>01/01/19</td>\n",
       "      <td>896</td>\n",
       "      <td>32.0</td>\n",
       "      <td>Female</td>\n",
       "      <td>C18</td>\n",
       "      <td>2</td>\n",
       "      <td>22680</td>\n",
       "      <td>21/08/18</td>\n",
       "      <td>NaN</td>\n",
       "      <td>1</td>\n",
       "      <td>1</td>\n",
       "      <td>362330</td>\n",
       "      <td>1</td>\n",
       "    </tr>\n",
       "    <tr>\n",
       "      <th>17009</th>\n",
       "      <td>03/01/19</td>\n",
       "      <td>2508</td>\n",
       "      <td>37.0</td>\n",
       "      <td>Male</td>\n",
       "      <td>C11</td>\n",
       "      <td>2</td>\n",
       "      <td>64254</td>\n",
       "      <td>18/05/18</td>\n",
       "      <td>NaN</td>\n",
       "      <td>1</td>\n",
       "      <td>2</td>\n",
       "      <td>1574850</td>\n",
       "      <td>2</td>\n",
       "    </tr>\n",
       "    <tr>\n",
       "      <th>16659</th>\n",
       "      <td>11/01/19</td>\n",
       "      <td>2470</td>\n",
       "      <td>31.0</td>\n",
       "      <td>Male</td>\n",
       "      <td>C27</td>\n",
       "      <td>1</td>\n",
       "      <td>55723</td>\n",
       "      <td>27/02/18</td>\n",
       "      <td>NaN</td>\n",
       "      <td>1</td>\n",
       "      <td>1</td>\n",
       "      <td>780840</td>\n",
       "      <td>4</td>\n",
       "    </tr>\n",
       "  </tbody>\n",
       "</table>\n",
       "</div>"
      ],
      "text/plain": [
       "         MMM-YY  Driver_ID   Age  Gender City  Education_Level  Income  \\\n",
       "8017   09/01/19       1191  36.0    Male   C7                2  118722   \n",
       "12407  09/01/20       1850  34.0  Female  C20                2   80779   \n",
       "6018   01/01/19        896  32.0  Female  C18                2   22680   \n",
       "17009  03/01/19       2508  37.0    Male  C11                2   64254   \n",
       "16659  11/01/19       2470  31.0    Male  C27                1   55723   \n",
       "\n",
       "      Dateofjoining LastWorkingDate  Joining Designation  Grade  \\\n",
       "8017       23/06/17             NaN                    1      4   \n",
       "12407      05/05/20             NaN                    2      2   \n",
       "6018       21/08/18             NaN                    1      1   \n",
       "17009      18/05/18             NaN                    1      2   \n",
       "16659      27/02/18             NaN                    1      1   \n",
       "\n",
       "       Total Business Value  Quarterly Rating  \n",
       "8017                1182260                 3  \n",
       "12407                  -790                 2  \n",
       "6018                 362330                 1  \n",
       "17009               1574850                 2  \n",
       "16659                780840                 4  "
      ]
     },
     "execution_count": 11,
     "metadata": {},
     "output_type": "execute_result"
    }
   ],
   "source": [
    "df.sample(5)"
   ]
  },
  {
   "cell_type": "code",
   "execution_count": 12,
   "id": "48c856be-ec74-4af4-848a-a30245b1145a",
   "metadata": {
    "tags": []
   },
   "outputs": [
    {
     "data": {
      "text/html": [
       "<div>\n",
       "<style scoped>\n",
       "    .dataframe tbody tr th:only-of-type {\n",
       "        vertical-align: middle;\n",
       "    }\n",
       "\n",
       "    .dataframe tbody tr th {\n",
       "        vertical-align: top;\n",
       "    }\n",
       "\n",
       "    .dataframe thead th {\n",
       "        text-align: right;\n",
       "    }\n",
       "</style>\n",
       "<table border=\"1\" class=\"dataframe\">\n",
       "  <thead>\n",
       "    <tr style=\"text-align: right;\">\n",
       "      <th></th>\n",
       "      <th>MMM-YY</th>\n",
       "      <th>Age</th>\n",
       "      <th>Gender</th>\n",
       "      <th>City</th>\n",
       "      <th>Education_Level</th>\n",
       "      <th>Income</th>\n",
       "      <th>Dateofjoining</th>\n",
       "      <th>LastWorkingDate</th>\n",
       "      <th>Joining Designation</th>\n",
       "      <th>Grade</th>\n",
       "      <th>Total Business Value</th>\n",
       "      <th>Quarterly Rating</th>\n",
       "    </tr>\n",
       "    <tr>\n",
       "      <th>Driver_ID</th>\n",
       "      <th></th>\n",
       "      <th></th>\n",
       "      <th></th>\n",
       "      <th></th>\n",
       "      <th></th>\n",
       "      <th></th>\n",
       "      <th></th>\n",
       "      <th></th>\n",
       "      <th></th>\n",
       "      <th></th>\n",
       "      <th></th>\n",
       "      <th></th>\n",
       "    </tr>\n",
       "  </thead>\n",
       "  <tbody>\n",
       "    <tr>\n",
       "      <th>1</th>\n",
       "      <td>3</td>\n",
       "      <td>3</td>\n",
       "      <td>3</td>\n",
       "      <td>3</td>\n",
       "      <td>3</td>\n",
       "      <td>3</td>\n",
       "      <td>3</td>\n",
       "      <td>1</td>\n",
       "      <td>3</td>\n",
       "      <td>3</td>\n",
       "      <td>3</td>\n",
       "      <td>3</td>\n",
       "    </tr>\n",
       "    <tr>\n",
       "      <th>2</th>\n",
       "      <td>2</td>\n",
       "      <td>2</td>\n",
       "      <td>2</td>\n",
       "      <td>2</td>\n",
       "      <td>2</td>\n",
       "      <td>2</td>\n",
       "      <td>2</td>\n",
       "      <td>0</td>\n",
       "      <td>2</td>\n",
       "      <td>2</td>\n",
       "      <td>2</td>\n",
       "      <td>2</td>\n",
       "    </tr>\n",
       "    <tr>\n",
       "      <th>4</th>\n",
       "      <td>5</td>\n",
       "      <td>5</td>\n",
       "      <td>5</td>\n",
       "      <td>5</td>\n",
       "      <td>5</td>\n",
       "      <td>5</td>\n",
       "      <td>5</td>\n",
       "      <td>1</td>\n",
       "      <td>5</td>\n",
       "      <td>5</td>\n",
       "      <td>5</td>\n",
       "      <td>5</td>\n",
       "    </tr>\n",
       "    <tr>\n",
       "      <th>5</th>\n",
       "      <td>3</td>\n",
       "      <td>3</td>\n",
       "      <td>3</td>\n",
       "      <td>3</td>\n",
       "      <td>3</td>\n",
       "      <td>3</td>\n",
       "      <td>3</td>\n",
       "      <td>1</td>\n",
       "      <td>3</td>\n",
       "      <td>3</td>\n",
       "      <td>3</td>\n",
       "      <td>3</td>\n",
       "    </tr>\n",
       "    <tr>\n",
       "      <th>6</th>\n",
       "      <td>5</td>\n",
       "      <td>5</td>\n",
       "      <td>5</td>\n",
       "      <td>5</td>\n",
       "      <td>5</td>\n",
       "      <td>5</td>\n",
       "      <td>5</td>\n",
       "      <td>0</td>\n",
       "      <td>5</td>\n",
       "      <td>5</td>\n",
       "      <td>5</td>\n",
       "      <td>5</td>\n",
       "    </tr>\n",
       "    <tr>\n",
       "      <th>...</th>\n",
       "      <td>...</td>\n",
       "      <td>...</td>\n",
       "      <td>...</td>\n",
       "      <td>...</td>\n",
       "      <td>...</td>\n",
       "      <td>...</td>\n",
       "      <td>...</td>\n",
       "      <td>...</td>\n",
       "      <td>...</td>\n",
       "      <td>...</td>\n",
       "      <td>...</td>\n",
       "      <td>...</td>\n",
       "    </tr>\n",
       "    <tr>\n",
       "      <th>2784</th>\n",
       "      <td>24</td>\n",
       "      <td>24</td>\n",
       "      <td>24</td>\n",
       "      <td>24</td>\n",
       "      <td>24</td>\n",
       "      <td>24</td>\n",
       "      <td>24</td>\n",
       "      <td>0</td>\n",
       "      <td>24</td>\n",
       "      <td>24</td>\n",
       "      <td>24</td>\n",
       "      <td>24</td>\n",
       "    </tr>\n",
       "    <tr>\n",
       "      <th>2785</th>\n",
       "      <td>3</td>\n",
       "      <td>3</td>\n",
       "      <td>3</td>\n",
       "      <td>3</td>\n",
       "      <td>3</td>\n",
       "      <td>3</td>\n",
       "      <td>3</td>\n",
       "      <td>1</td>\n",
       "      <td>3</td>\n",
       "      <td>3</td>\n",
       "      <td>3</td>\n",
       "      <td>3</td>\n",
       "    </tr>\n",
       "    <tr>\n",
       "      <th>2786</th>\n",
       "      <td>9</td>\n",
       "      <td>9</td>\n",
       "      <td>9</td>\n",
       "      <td>9</td>\n",
       "      <td>9</td>\n",
       "      <td>9</td>\n",
       "      <td>9</td>\n",
       "      <td>1</td>\n",
       "      <td>9</td>\n",
       "      <td>9</td>\n",
       "      <td>9</td>\n",
       "      <td>9</td>\n",
       "    </tr>\n",
       "    <tr>\n",
       "      <th>2787</th>\n",
       "      <td>6</td>\n",
       "      <td>6</td>\n",
       "      <td>6</td>\n",
       "      <td>6</td>\n",
       "      <td>6</td>\n",
       "      <td>6</td>\n",
       "      <td>6</td>\n",
       "      <td>1</td>\n",
       "      <td>6</td>\n",
       "      <td>6</td>\n",
       "      <td>6</td>\n",
       "      <td>6</td>\n",
       "    </tr>\n",
       "    <tr>\n",
       "      <th>2788</th>\n",
       "      <td>7</td>\n",
       "      <td>7</td>\n",
       "      <td>7</td>\n",
       "      <td>7</td>\n",
       "      <td>7</td>\n",
       "      <td>7</td>\n",
       "      <td>7</td>\n",
       "      <td>0</td>\n",
       "      <td>7</td>\n",
       "      <td>7</td>\n",
       "      <td>7</td>\n",
       "      <td>7</td>\n",
       "    </tr>\n",
       "  </tbody>\n",
       "</table>\n",
       "<p>2381 rows × 12 columns</p>\n",
       "</div>"
      ],
      "text/plain": [
       "           MMM-YY  Age  Gender  City  Education_Level  Income  Dateofjoining  \\\n",
       "Driver_ID                                                                      \n",
       "1               3    3       3     3                3       3              3   \n",
       "2               2    2       2     2                2       2              2   \n",
       "4               5    5       5     5                5       5              5   \n",
       "5               3    3       3     3                3       3              3   \n",
       "6               5    5       5     5                5       5              5   \n",
       "...           ...  ...     ...   ...              ...     ...            ...   \n",
       "2784           24   24      24    24               24      24             24   \n",
       "2785            3    3       3     3                3       3              3   \n",
       "2786            9    9       9     9                9       9              9   \n",
       "2787            6    6       6     6                6       6              6   \n",
       "2788            7    7       7     7                7       7              7   \n",
       "\n",
       "           LastWorkingDate  Joining Designation  Grade  Total Business Value  \\\n",
       "Driver_ID                                                                      \n",
       "1                        1                    3      3                     3   \n",
       "2                        0                    2      2                     2   \n",
       "4                        1                    5      5                     5   \n",
       "5                        1                    3      3                     3   \n",
       "6                        0                    5      5                     5   \n",
       "...                    ...                  ...    ...                   ...   \n",
       "2784                     0                   24     24                    24   \n",
       "2785                     1                    3      3                     3   \n",
       "2786                     1                    9      9                     9   \n",
       "2787                     1                    6      6                     6   \n",
       "2788                     0                    7      7                     7   \n",
       "\n",
       "           Quarterly Rating  \n",
       "Driver_ID                    \n",
       "1                         3  \n",
       "2                         2  \n",
       "4                         5  \n",
       "5                         3  \n",
       "6                         5  \n",
       "...                     ...  \n",
       "2784                     24  \n",
       "2785                      3  \n",
       "2786                      9  \n",
       "2787                      6  \n",
       "2788                      7  \n",
       "\n",
       "[2381 rows x 12 columns]"
      ]
     },
     "execution_count": 12,
     "metadata": {},
     "output_type": "execute_result"
    }
   ],
   "source": [
    "df.groupby('Driver_ID').count()"
   ]
  },
  {
   "cell_type": "code",
   "execution_count": 13,
   "id": "eb8233e5",
   "metadata": {
    "tags": []
   },
   "outputs": [
    {
     "data": {
      "text/html": [
       "<div>\n",
       "<style scoped>\n",
       "    .dataframe tbody tr th:only-of-type {\n",
       "        vertical-align: middle;\n",
       "    }\n",
       "\n",
       "    .dataframe tbody tr th {\n",
       "        vertical-align: top;\n",
       "    }\n",
       "\n",
       "    .dataframe thead th {\n",
       "        text-align: right;\n",
       "    }\n",
       "</style>\n",
       "<table border=\"1\" class=\"dataframe\">\n",
       "  <thead>\n",
       "    <tr style=\"text-align: right;\">\n",
       "      <th></th>\n",
       "      <th>MMM-YY</th>\n",
       "      <th>Driver_ID</th>\n",
       "      <th>Age</th>\n",
       "      <th>Gender</th>\n",
       "      <th>City</th>\n",
       "      <th>Education_Level</th>\n",
       "      <th>Income</th>\n",
       "      <th>Dateofjoining</th>\n",
       "      <th>LastWorkingDate</th>\n",
       "      <th>Joining Designation</th>\n",
       "      <th>Grade</th>\n",
       "      <th>Total Business Value</th>\n",
       "      <th>Quarterly Rating</th>\n",
       "    </tr>\n",
       "  </thead>\n",
       "  <tbody>\n",
       "    <tr>\n",
       "      <th>19055</th>\n",
       "      <td>01/01/19</td>\n",
       "      <td>2784</td>\n",
       "      <td>33.0</td>\n",
       "      <td>Male</td>\n",
       "      <td>C24</td>\n",
       "      <td>0</td>\n",
       "      <td>82815</td>\n",
       "      <td>15/10/15</td>\n",
       "      <td>NaN</td>\n",
       "      <td>2</td>\n",
       "      <td>3</td>\n",
       "      <td>1226590</td>\n",
       "      <td>3</td>\n",
       "    </tr>\n",
       "    <tr>\n",
       "      <th>19056</th>\n",
       "      <td>02/01/19</td>\n",
       "      <td>2784</td>\n",
       "      <td>33.0</td>\n",
       "      <td>Male</td>\n",
       "      <td>C24</td>\n",
       "      <td>0</td>\n",
       "      <td>82815</td>\n",
       "      <td>15/10/15</td>\n",
       "      <td>NaN</td>\n",
       "      <td>2</td>\n",
       "      <td>3</td>\n",
       "      <td>203290</td>\n",
       "      <td>3</td>\n",
       "    </tr>\n",
       "    <tr>\n",
       "      <th>19057</th>\n",
       "      <td>03/01/19</td>\n",
       "      <td>2784</td>\n",
       "      <td>33.0</td>\n",
       "      <td>Male</td>\n",
       "      <td>C24</td>\n",
       "      <td>0</td>\n",
       "      <td>82815</td>\n",
       "      <td>15/10/15</td>\n",
       "      <td>NaN</td>\n",
       "      <td>2</td>\n",
       "      <td>3</td>\n",
       "      <td>4495040</td>\n",
       "      <td>3</td>\n",
       "    </tr>\n",
       "    <tr>\n",
       "      <th>19058</th>\n",
       "      <td>04/01/19</td>\n",
       "      <td>2784</td>\n",
       "      <td>33.0</td>\n",
       "      <td>Male</td>\n",
       "      <td>C24</td>\n",
       "      <td>0</td>\n",
       "      <td>82815</td>\n",
       "      <td>15/10/15</td>\n",
       "      <td>NaN</td>\n",
       "      <td>2</td>\n",
       "      <td>3</td>\n",
       "      <td>100450</td>\n",
       "      <td>1</td>\n",
       "    </tr>\n",
       "    <tr>\n",
       "      <th>19059</th>\n",
       "      <td>05/01/19</td>\n",
       "      <td>2784</td>\n",
       "      <td>33.0</td>\n",
       "      <td>Male</td>\n",
       "      <td>C24</td>\n",
       "      <td>0</td>\n",
       "      <td>82815</td>\n",
       "      <td>15/10/15</td>\n",
       "      <td>NaN</td>\n",
       "      <td>2</td>\n",
       "      <td>3</td>\n",
       "      <td>226010</td>\n",
       "      <td>1</td>\n",
       "    </tr>\n",
       "    <tr>\n",
       "      <th>19060</th>\n",
       "      <td>06/01/19</td>\n",
       "      <td>2784</td>\n",
       "      <td>33.0</td>\n",
       "      <td>Male</td>\n",
       "      <td>C24</td>\n",
       "      <td>0</td>\n",
       "      <td>82815</td>\n",
       "      <td>15/10/15</td>\n",
       "      <td>NaN</td>\n",
       "      <td>2</td>\n",
       "      <td>3</td>\n",
       "      <td>0</td>\n",
       "      <td>1</td>\n",
       "    </tr>\n",
       "    <tr>\n",
       "      <th>19061</th>\n",
       "      <td>07/01/19</td>\n",
       "      <td>2784</td>\n",
       "      <td>33.0</td>\n",
       "      <td>Male</td>\n",
       "      <td>C24</td>\n",
       "      <td>0</td>\n",
       "      <td>82815</td>\n",
       "      <td>15/10/15</td>\n",
       "      <td>NaN</td>\n",
       "      <td>2</td>\n",
       "      <td>3</td>\n",
       "      <td>102770</td>\n",
       "      <td>1</td>\n",
       "    </tr>\n",
       "    <tr>\n",
       "      <th>19062</th>\n",
       "      <td>08/01/19</td>\n",
       "      <td>2784</td>\n",
       "      <td>33.0</td>\n",
       "      <td>Male</td>\n",
       "      <td>C24</td>\n",
       "      <td>0</td>\n",
       "      <td>82815</td>\n",
       "      <td>15/10/15</td>\n",
       "      <td>NaN</td>\n",
       "      <td>2</td>\n",
       "      <td>3</td>\n",
       "      <td>270710</td>\n",
       "      <td>1</td>\n",
       "    </tr>\n",
       "    <tr>\n",
       "      <th>19063</th>\n",
       "      <td>09/01/19</td>\n",
       "      <td>2784</td>\n",
       "      <td>33.0</td>\n",
       "      <td>Male</td>\n",
       "      <td>C24</td>\n",
       "      <td>0</td>\n",
       "      <td>82815</td>\n",
       "      <td>15/10/15</td>\n",
       "      <td>NaN</td>\n",
       "      <td>2</td>\n",
       "      <td>3</td>\n",
       "      <td>271380</td>\n",
       "      <td>1</td>\n",
       "    </tr>\n",
       "    <tr>\n",
       "      <th>19064</th>\n",
       "      <td>10/01/19</td>\n",
       "      <td>2784</td>\n",
       "      <td>33.0</td>\n",
       "      <td>Male</td>\n",
       "      <td>C24</td>\n",
       "      <td>0</td>\n",
       "      <td>82815</td>\n",
       "      <td>15/10/15</td>\n",
       "      <td>NaN</td>\n",
       "      <td>2</td>\n",
       "      <td>3</td>\n",
       "      <td>990000</td>\n",
       "      <td>3</td>\n",
       "    </tr>\n",
       "    <tr>\n",
       "      <th>19065</th>\n",
       "      <td>11/01/19</td>\n",
       "      <td>2784</td>\n",
       "      <td>33.0</td>\n",
       "      <td>Male</td>\n",
       "      <td>C24</td>\n",
       "      <td>0</td>\n",
       "      <td>82815</td>\n",
       "      <td>15/10/15</td>\n",
       "      <td>NaN</td>\n",
       "      <td>2</td>\n",
       "      <td>3</td>\n",
       "      <td>591710</td>\n",
       "      <td>3</td>\n",
       "    </tr>\n",
       "    <tr>\n",
       "      <th>19066</th>\n",
       "      <td>12/01/19</td>\n",
       "      <td>2784</td>\n",
       "      <td>33.0</td>\n",
       "      <td>Male</td>\n",
       "      <td>C24</td>\n",
       "      <td>0</td>\n",
       "      <td>82815</td>\n",
       "      <td>15/10/15</td>\n",
       "      <td>NaN</td>\n",
       "      <td>2</td>\n",
       "      <td>3</td>\n",
       "      <td>194010</td>\n",
       "      <td>3</td>\n",
       "    </tr>\n",
       "    <tr>\n",
       "      <th>19067</th>\n",
       "      <td>01/01/20</td>\n",
       "      <td>2784</td>\n",
       "      <td>34.0</td>\n",
       "      <td>Male</td>\n",
       "      <td>C24</td>\n",
       "      <td>0</td>\n",
       "      <td>82815</td>\n",
       "      <td>15/10/15</td>\n",
       "      <td>NaN</td>\n",
       "      <td>2</td>\n",
       "      <td>3</td>\n",
       "      <td>1309620</td>\n",
       "      <td>3</td>\n",
       "    </tr>\n",
       "    <tr>\n",
       "      <th>19068</th>\n",
       "      <td>02/01/20</td>\n",
       "      <td>2784</td>\n",
       "      <td>34.0</td>\n",
       "      <td>Male</td>\n",
       "      <td>C24</td>\n",
       "      <td>0</td>\n",
       "      <td>82815</td>\n",
       "      <td>15/10/15</td>\n",
       "      <td>NaN</td>\n",
       "      <td>2</td>\n",
       "      <td>3</td>\n",
       "      <td>850050</td>\n",
       "      <td>3</td>\n",
       "    </tr>\n",
       "    <tr>\n",
       "      <th>19069</th>\n",
       "      <td>03/01/20</td>\n",
       "      <td>2784</td>\n",
       "      <td>34.0</td>\n",
       "      <td>Male</td>\n",
       "      <td>C24</td>\n",
       "      <td>0</td>\n",
       "      <td>82815</td>\n",
       "      <td>15/10/15</td>\n",
       "      <td>NaN</td>\n",
       "      <td>2</td>\n",
       "      <td>3</td>\n",
       "      <td>4128460</td>\n",
       "      <td>3</td>\n",
       "    </tr>\n",
       "    <tr>\n",
       "      <th>19070</th>\n",
       "      <td>04/01/20</td>\n",
       "      <td>2784</td>\n",
       "      <td>34.0</td>\n",
       "      <td>Male</td>\n",
       "      <td>C24</td>\n",
       "      <td>0</td>\n",
       "      <td>82815</td>\n",
       "      <td>15/10/15</td>\n",
       "      <td>NaN</td>\n",
       "      <td>2</td>\n",
       "      <td>3</td>\n",
       "      <td>150260</td>\n",
       "      <td>3</td>\n",
       "    </tr>\n",
       "    <tr>\n",
       "      <th>19071</th>\n",
       "      <td>05/01/20</td>\n",
       "      <td>2784</td>\n",
       "      <td>34.0</td>\n",
       "      <td>Male</td>\n",
       "      <td>C24</td>\n",
       "      <td>0</td>\n",
       "      <td>82815</td>\n",
       "      <td>15/10/15</td>\n",
       "      <td>NaN</td>\n",
       "      <td>2</td>\n",
       "      <td>3</td>\n",
       "      <td>153800</td>\n",
       "      <td>3</td>\n",
       "    </tr>\n",
       "    <tr>\n",
       "      <th>19072</th>\n",
       "      <td>06/01/20</td>\n",
       "      <td>2784</td>\n",
       "      <td>34.0</td>\n",
       "      <td>Male</td>\n",
       "      <td>C24</td>\n",
       "      <td>0</td>\n",
       "      <td>82815</td>\n",
       "      <td>15/10/15</td>\n",
       "      <td>NaN</td>\n",
       "      <td>2</td>\n",
       "      <td>3</td>\n",
       "      <td>979270</td>\n",
       "      <td>3</td>\n",
       "    </tr>\n",
       "    <tr>\n",
       "      <th>19073</th>\n",
       "      <td>07/01/20</td>\n",
       "      <td>2784</td>\n",
       "      <td>34.0</td>\n",
       "      <td>Male</td>\n",
       "      <td>C24</td>\n",
       "      <td>0</td>\n",
       "      <td>82815</td>\n",
       "      <td>15/10/15</td>\n",
       "      <td>NaN</td>\n",
       "      <td>2</td>\n",
       "      <td>3</td>\n",
       "      <td>252000</td>\n",
       "      <td>3</td>\n",
       "    </tr>\n",
       "    <tr>\n",
       "      <th>19074</th>\n",
       "      <td>08/01/20</td>\n",
       "      <td>2784</td>\n",
       "      <td>34.0</td>\n",
       "      <td>Male</td>\n",
       "      <td>C24</td>\n",
       "      <td>0</td>\n",
       "      <td>82815</td>\n",
       "      <td>15/10/15</td>\n",
       "      <td>NaN</td>\n",
       "      <td>2</td>\n",
       "      <td>3</td>\n",
       "      <td>1260090</td>\n",
       "      <td>3</td>\n",
       "    </tr>\n",
       "    <tr>\n",
       "      <th>19075</th>\n",
       "      <td>09/01/20</td>\n",
       "      <td>2784</td>\n",
       "      <td>34.0</td>\n",
       "      <td>Male</td>\n",
       "      <td>C24</td>\n",
       "      <td>0</td>\n",
       "      <td>82815</td>\n",
       "      <td>15/10/15</td>\n",
       "      <td>NaN</td>\n",
       "      <td>2</td>\n",
       "      <td>3</td>\n",
       "      <td>400000</td>\n",
       "      <td>3</td>\n",
       "    </tr>\n",
       "    <tr>\n",
       "      <th>19076</th>\n",
       "      <td>10/01/20</td>\n",
       "      <td>2784</td>\n",
       "      <td>34.0</td>\n",
       "      <td>Male</td>\n",
       "      <td>C24</td>\n",
       "      <td>0</td>\n",
       "      <td>82815</td>\n",
       "      <td>15/10/15</td>\n",
       "      <td>NaN</td>\n",
       "      <td>2</td>\n",
       "      <td>3</td>\n",
       "      <td>3087830</td>\n",
       "      <td>4</td>\n",
       "    </tr>\n",
       "    <tr>\n",
       "      <th>19077</th>\n",
       "      <td>11/01/20</td>\n",
       "      <td>2784</td>\n",
       "      <td>34.0</td>\n",
       "      <td>Male</td>\n",
       "      <td>C24</td>\n",
       "      <td>0</td>\n",
       "      <td>82815</td>\n",
       "      <td>15/10/15</td>\n",
       "      <td>NaN</td>\n",
       "      <td>2</td>\n",
       "      <td>3</td>\n",
       "      <td>0</td>\n",
       "      <td>4</td>\n",
       "    </tr>\n",
       "    <tr>\n",
       "      <th>19078</th>\n",
       "      <td>12/01/20</td>\n",
       "      <td>2784</td>\n",
       "      <td>34.0</td>\n",
       "      <td>Male</td>\n",
       "      <td>C24</td>\n",
       "      <td>0</td>\n",
       "      <td>82815</td>\n",
       "      <td>15/10/15</td>\n",
       "      <td>NaN</td>\n",
       "      <td>2</td>\n",
       "      <td>3</td>\n",
       "      <td>505480</td>\n",
       "      <td>4</td>\n",
       "    </tr>\n",
       "  </tbody>\n",
       "</table>\n",
       "</div>"
      ],
      "text/plain": [
       "         MMM-YY  Driver_ID   Age Gender City  Education_Level  Income  \\\n",
       "19055  01/01/19       2784  33.0   Male  C24                0   82815   \n",
       "19056  02/01/19       2784  33.0   Male  C24                0   82815   \n",
       "19057  03/01/19       2784  33.0   Male  C24                0   82815   \n",
       "19058  04/01/19       2784  33.0   Male  C24                0   82815   \n",
       "19059  05/01/19       2784  33.0   Male  C24                0   82815   \n",
       "19060  06/01/19       2784  33.0   Male  C24                0   82815   \n",
       "19061  07/01/19       2784  33.0   Male  C24                0   82815   \n",
       "19062  08/01/19       2784  33.0   Male  C24                0   82815   \n",
       "19063  09/01/19       2784  33.0   Male  C24                0   82815   \n",
       "19064  10/01/19       2784  33.0   Male  C24                0   82815   \n",
       "19065  11/01/19       2784  33.0   Male  C24                0   82815   \n",
       "19066  12/01/19       2784  33.0   Male  C24                0   82815   \n",
       "19067  01/01/20       2784  34.0   Male  C24                0   82815   \n",
       "19068  02/01/20       2784  34.0   Male  C24                0   82815   \n",
       "19069  03/01/20       2784  34.0   Male  C24                0   82815   \n",
       "19070  04/01/20       2784  34.0   Male  C24                0   82815   \n",
       "19071  05/01/20       2784  34.0   Male  C24                0   82815   \n",
       "19072  06/01/20       2784  34.0   Male  C24                0   82815   \n",
       "19073  07/01/20       2784  34.0   Male  C24                0   82815   \n",
       "19074  08/01/20       2784  34.0   Male  C24                0   82815   \n",
       "19075  09/01/20       2784  34.0   Male  C24                0   82815   \n",
       "19076  10/01/20       2784  34.0   Male  C24                0   82815   \n",
       "19077  11/01/20       2784  34.0   Male  C24                0   82815   \n",
       "19078  12/01/20       2784  34.0   Male  C24                0   82815   \n",
       "\n",
       "      Dateofjoining LastWorkingDate  Joining Designation  Grade  \\\n",
       "19055      15/10/15             NaN                    2      3   \n",
       "19056      15/10/15             NaN                    2      3   \n",
       "19057      15/10/15             NaN                    2      3   \n",
       "19058      15/10/15             NaN                    2      3   \n",
       "19059      15/10/15             NaN                    2      3   \n",
       "19060      15/10/15             NaN                    2      3   \n",
       "19061      15/10/15             NaN                    2      3   \n",
       "19062      15/10/15             NaN                    2      3   \n",
       "19063      15/10/15             NaN                    2      3   \n",
       "19064      15/10/15             NaN                    2      3   \n",
       "19065      15/10/15             NaN                    2      3   \n",
       "19066      15/10/15             NaN                    2      3   \n",
       "19067      15/10/15             NaN                    2      3   \n",
       "19068      15/10/15             NaN                    2      3   \n",
       "19069      15/10/15             NaN                    2      3   \n",
       "19070      15/10/15             NaN                    2      3   \n",
       "19071      15/10/15             NaN                    2      3   \n",
       "19072      15/10/15             NaN                    2      3   \n",
       "19073      15/10/15             NaN                    2      3   \n",
       "19074      15/10/15             NaN                    2      3   \n",
       "19075      15/10/15             NaN                    2      3   \n",
       "19076      15/10/15             NaN                    2      3   \n",
       "19077      15/10/15             NaN                    2      3   \n",
       "19078      15/10/15             NaN                    2      3   \n",
       "\n",
       "       Total Business Value  Quarterly Rating  \n",
       "19055               1226590                 3  \n",
       "19056                203290                 3  \n",
       "19057               4495040                 3  \n",
       "19058                100450                 1  \n",
       "19059                226010                 1  \n",
       "19060                     0                 1  \n",
       "19061                102770                 1  \n",
       "19062                270710                 1  \n",
       "19063                271380                 1  \n",
       "19064                990000                 3  \n",
       "19065                591710                 3  \n",
       "19066                194010                 3  \n",
       "19067               1309620                 3  \n",
       "19068                850050                 3  \n",
       "19069               4128460                 3  \n",
       "19070                150260                 3  \n",
       "19071                153800                 3  \n",
       "19072                979270                 3  \n",
       "19073                252000                 3  \n",
       "19074               1260090                 3  \n",
       "19075                400000                 3  \n",
       "19076               3087830                 4  \n",
       "19077                     0                 4  \n",
       "19078                505480                 4  "
      ]
     },
     "execution_count": 13,
     "metadata": {},
     "output_type": "execute_result"
    }
   ],
   "source": [
    "df[df[\"Driver_ID\"]==2784]"
   ]
  },
  {
   "cell_type": "markdown",
   "id": "34003e6a",
   "metadata": {},
   "source": [
    "## Restructuring the data by aggregation : "
   ]
  },
  {
   "cell_type": "code",
   "execution_count": 14,
   "id": "33e6cd4b-859c-44c4-8dbf-fb5ca4ba4751",
   "metadata": {
    "tags": []
   },
   "outputs": [],
   "source": [
    "agg_df = df.groupby(\"Driver_ID\").aggregate({\n",
    "                                                'MMM-YY': len,\n",
    "                                                \"Age\": max,\n",
    "                                                \"City\": 'first',\n",
    "                                                \"Education_Level\": max,\n",
    "                                                \"Income\": np.mean,\n",
    "                                                \"Dateofjoining\":'first', \n",
    "                                                \"Joining Designation\":np.mean,\n",
    "                                                \"Grade\": np.mean,\n",
    "                                                \"Total Business Value\":sum, \n",
    "                                                \"Quarterly Rating\":np.mean \n",
    "                                            })\n"
   ]
  },
  {
   "cell_type": "code",
   "execution_count": 15,
   "id": "229349b9",
   "metadata": {
    "tags": []
   },
   "outputs": [],
   "source": [
    "agg_df = agg_df.reset_index()\n"
   ]
  },
  {
   "cell_type": "code",
   "execution_count": 16,
   "id": "a3d821be",
   "metadata": {
    "scrolled": true,
    "tags": []
   },
   "outputs": [],
   "source": [
    "final_data = agg_df.rename(columns={  \n",
    "                                      \"MMM-YY\":\"No_of_Records\",\n",
    "                                      \"Dateofjoining\":\"Date_of_joining\",\n",
    "                                      \"Joining Designation\":\"Joining_Designation\",\n",
    "                                      \"Total Business Value\" : \"Total_Business_Value\",\n",
    "                                      \"Quarterly Rating\":\"Quarterly_Rating\"\n",
    "                                   }\n",
    "                          )"
   ]
  },
  {
   "cell_type": "code",
   "execution_count": 17,
   "id": "984b3c12-252b-4700-92a6-87438691d377",
   "metadata": {
    "tags": []
   },
   "outputs": [
    {
     "data": {
      "text/html": [
       "<div>\n",
       "<style scoped>\n",
       "    .dataframe tbody tr th:only-of-type {\n",
       "        vertical-align: middle;\n",
       "    }\n",
       "\n",
       "    .dataframe tbody tr th {\n",
       "        vertical-align: top;\n",
       "    }\n",
       "\n",
       "    .dataframe thead th {\n",
       "        text-align: right;\n",
       "    }\n",
       "</style>\n",
       "<table border=\"1\" class=\"dataframe\">\n",
       "  <thead>\n",
       "    <tr style=\"text-align: right;\">\n",
       "      <th></th>\n",
       "      <th>Driver_ID</th>\n",
       "      <th>No_of_Records</th>\n",
       "      <th>Age</th>\n",
       "      <th>City</th>\n",
       "      <th>Education_Level</th>\n",
       "      <th>Income</th>\n",
       "      <th>Date_of_joining</th>\n",
       "      <th>Joining_Designation</th>\n",
       "      <th>Grade</th>\n",
       "      <th>Total_Business_Value</th>\n",
       "      <th>Quarterly_Rating</th>\n",
       "    </tr>\n",
       "  </thead>\n",
       "  <tbody>\n",
       "    <tr>\n",
       "      <th>0</th>\n",
       "      <td>1</td>\n",
       "      <td>3</td>\n",
       "      <td>28.0</td>\n",
       "      <td>C23</td>\n",
       "      <td>2</td>\n",
       "      <td>57387.0</td>\n",
       "      <td>24/12/18</td>\n",
       "      <td>1.0</td>\n",
       "      <td>1.0</td>\n",
       "      <td>1715580</td>\n",
       "      <td>2.000000</td>\n",
       "    </tr>\n",
       "    <tr>\n",
       "      <th>1</th>\n",
       "      <td>2</td>\n",
       "      <td>2</td>\n",
       "      <td>31.0</td>\n",
       "      <td>C7</td>\n",
       "      <td>2</td>\n",
       "      <td>67016.0</td>\n",
       "      <td>11/06/20</td>\n",
       "      <td>2.0</td>\n",
       "      <td>2.0</td>\n",
       "      <td>0</td>\n",
       "      <td>1.000000</td>\n",
       "    </tr>\n",
       "    <tr>\n",
       "      <th>2</th>\n",
       "      <td>4</td>\n",
       "      <td>5</td>\n",
       "      <td>43.0</td>\n",
       "      <td>C13</td>\n",
       "      <td>2</td>\n",
       "      <td>65603.0</td>\n",
       "      <td>12/07/19</td>\n",
       "      <td>2.0</td>\n",
       "      <td>2.0</td>\n",
       "      <td>350000</td>\n",
       "      <td>1.000000</td>\n",
       "    </tr>\n",
       "    <tr>\n",
       "      <th>3</th>\n",
       "      <td>5</td>\n",
       "      <td>3</td>\n",
       "      <td>29.0</td>\n",
       "      <td>C9</td>\n",
       "      <td>0</td>\n",
       "      <td>46368.0</td>\n",
       "      <td>01/09/19</td>\n",
       "      <td>1.0</td>\n",
       "      <td>1.0</td>\n",
       "      <td>120360</td>\n",
       "      <td>1.000000</td>\n",
       "    </tr>\n",
       "    <tr>\n",
       "      <th>4</th>\n",
       "      <td>6</td>\n",
       "      <td>5</td>\n",
       "      <td>31.0</td>\n",
       "      <td>C11</td>\n",
       "      <td>1</td>\n",
       "      <td>78728.0</td>\n",
       "      <td>31/07/20</td>\n",
       "      <td>3.0</td>\n",
       "      <td>3.0</td>\n",
       "      <td>1265000</td>\n",
       "      <td>1.600000</td>\n",
       "    </tr>\n",
       "    <tr>\n",
       "      <th>...</th>\n",
       "      <td>...</td>\n",
       "      <td>...</td>\n",
       "      <td>...</td>\n",
       "      <td>...</td>\n",
       "      <td>...</td>\n",
       "      <td>...</td>\n",
       "      <td>...</td>\n",
       "      <td>...</td>\n",
       "      <td>...</td>\n",
       "      <td>...</td>\n",
       "      <td>...</td>\n",
       "    </tr>\n",
       "    <tr>\n",
       "      <th>2376</th>\n",
       "      <td>2784</td>\n",
       "      <td>24</td>\n",
       "      <td>34.0</td>\n",
       "      <td>C24</td>\n",
       "      <td>0</td>\n",
       "      <td>82815.0</td>\n",
       "      <td>15/10/15</td>\n",
       "      <td>2.0</td>\n",
       "      <td>3.0</td>\n",
       "      <td>21748820</td>\n",
       "      <td>2.625000</td>\n",
       "    </tr>\n",
       "    <tr>\n",
       "      <th>2377</th>\n",
       "      <td>2785</td>\n",
       "      <td>3</td>\n",
       "      <td>34.0</td>\n",
       "      <td>C9</td>\n",
       "      <td>0</td>\n",
       "      <td>12105.0</td>\n",
       "      <td>28/08/20</td>\n",
       "      <td>1.0</td>\n",
       "      <td>1.0</td>\n",
       "      <td>0</td>\n",
       "      <td>1.000000</td>\n",
       "    </tr>\n",
       "    <tr>\n",
       "      <th>2378</th>\n",
       "      <td>2786</td>\n",
       "      <td>9</td>\n",
       "      <td>45.0</td>\n",
       "      <td>C19</td>\n",
       "      <td>0</td>\n",
       "      <td>35370.0</td>\n",
       "      <td>31/07/18</td>\n",
       "      <td>2.0</td>\n",
       "      <td>2.0</td>\n",
       "      <td>2815090</td>\n",
       "      <td>1.666667</td>\n",
       "    </tr>\n",
       "    <tr>\n",
       "      <th>2379</th>\n",
       "      <td>2787</td>\n",
       "      <td>6</td>\n",
       "      <td>28.0</td>\n",
       "      <td>C20</td>\n",
       "      <td>2</td>\n",
       "      <td>69498.0</td>\n",
       "      <td>21/07/18</td>\n",
       "      <td>1.0</td>\n",
       "      <td>1.0</td>\n",
       "      <td>977830</td>\n",
       "      <td>1.500000</td>\n",
       "    </tr>\n",
       "    <tr>\n",
       "      <th>2380</th>\n",
       "      <td>2788</td>\n",
       "      <td>7</td>\n",
       "      <td>30.0</td>\n",
       "      <td>C27</td>\n",
       "      <td>2</td>\n",
       "      <td>70254.0</td>\n",
       "      <td>06/08/20</td>\n",
       "      <td>2.0</td>\n",
       "      <td>2.0</td>\n",
       "      <td>2298240</td>\n",
       "      <td>2.285714</td>\n",
       "    </tr>\n",
       "  </tbody>\n",
       "</table>\n",
       "<p>2381 rows × 11 columns</p>\n",
       "</div>"
      ],
      "text/plain": [
       "      Driver_ID  No_of_Records   Age City  Education_Level   Income  \\\n",
       "0             1              3  28.0  C23                2  57387.0   \n",
       "1             2              2  31.0   C7                2  67016.0   \n",
       "2             4              5  43.0  C13                2  65603.0   \n",
       "3             5              3  29.0   C9                0  46368.0   \n",
       "4             6              5  31.0  C11                1  78728.0   \n",
       "...         ...            ...   ...  ...              ...      ...   \n",
       "2376       2784             24  34.0  C24                0  82815.0   \n",
       "2377       2785              3  34.0   C9                0  12105.0   \n",
       "2378       2786              9  45.0  C19                0  35370.0   \n",
       "2379       2787              6  28.0  C20                2  69498.0   \n",
       "2380       2788              7  30.0  C27                2  70254.0   \n",
       "\n",
       "     Date_of_joining  Joining_Designation  Grade  Total_Business_Value  \\\n",
       "0           24/12/18                  1.0    1.0               1715580   \n",
       "1           11/06/20                  2.0    2.0                     0   \n",
       "2           12/07/19                  2.0    2.0                350000   \n",
       "3           01/09/19                  1.0    1.0                120360   \n",
       "4           31/07/20                  3.0    3.0               1265000   \n",
       "...              ...                  ...    ...                   ...   \n",
       "2376        15/10/15                  2.0    3.0              21748820   \n",
       "2377        28/08/20                  1.0    1.0                     0   \n",
       "2378        31/07/18                  2.0    2.0               2815090   \n",
       "2379        21/07/18                  1.0    1.0                977830   \n",
       "2380        06/08/20                  2.0    2.0               2298240   \n",
       "\n",
       "      Quarterly_Rating  \n",
       "0             2.000000  \n",
       "1             1.000000  \n",
       "2             1.000000  \n",
       "3             1.000000  \n",
       "4             1.600000  \n",
       "...                ...  \n",
       "2376          2.625000  \n",
       "2377          1.000000  \n",
       "2378          1.666667  \n",
       "2379          1.500000  \n",
       "2380          2.285714  \n",
       "\n",
       "[2381 rows x 11 columns]"
      ]
     },
     "execution_count": 17,
     "metadata": {},
     "output_type": "execute_result"
    }
   ],
   "source": [
    "final_data"
   ]
  },
  {
   "cell_type": "code",
   "execution_count": 18,
   "id": "89cb6ae1",
   "metadata": {
    "tags": []
   },
   "outputs": [],
   "source": [
    "final_data = pd.merge(left = df.groupby([\"Driver_ID\"])[\"LastWorkingDate\"].unique().apply(lambda x:x[-1]),\n",
    "                      right = final_data,\n",
    "                      on = \"Driver_ID\",\n",
    "                      how=\"outer\"\n",
    "                     )"
   ]
  },
  {
   "cell_type": "code",
   "execution_count": 19,
   "id": "b6b3a6f6",
   "metadata": {
    "tags": []
   },
   "outputs": [],
   "source": [
    "final_data = pd.merge(left = df.groupby([\"Driver_ID\"])[\"Gender\"].unique().apply(lambda x:x[-1]),\n",
    "                      right = final_data,\n",
    "                      on = \"Driver_ID\",\n",
    "                      how=\"outer\"\n",
    "                    )"
   ]
  },
  {
   "cell_type": "code",
   "execution_count": 20,
   "id": "81995306",
   "metadata": {
    "tags": []
   },
   "outputs": [],
   "source": [
    "data = final_data.copy()"
   ]
  },
  {
   "cell_type": "code",
   "execution_count": 21,
   "id": "c608f9fd",
   "metadata": {
    "tags": []
   },
   "outputs": [
    {
     "data": {
      "text/plain": [
       "Gender\n",
       "Male      1380\n",
       "Female     956\n",
       "Name: count, dtype: int64"
      ]
     },
     "execution_count": 21,
     "metadata": {},
     "output_type": "execute_result"
    }
   ],
   "source": [
    "data[\"Gender\"].value_counts()"
   ]
  },
  {
   "cell_type": "markdown",
   "id": "025b8b70",
   "metadata": {},
   "source": [
    "`Target variable creation` : target which tells whether the driver has left the company- driver whose last working day is present will have the value 1"
   ]
  },
  {
   "cell_type": "code",
   "execution_count": 22,
   "id": "284c3eb4",
   "metadata": {
    "tags": []
   },
   "outputs": [
    {
     "data": {
      "text/plain": [
       "1    1616\n",
       "0     765\n",
       "Name: count, dtype: int64"
      ]
     },
     "execution_count": 22,
     "metadata": {},
     "output_type": "execute_result"
    }
   ],
   "source": [
    "pd.Series(np.where(data[\"LastWorkingDate\"].isna(),0,1)).value_counts()"
   ]
  },
  {
   "cell_type": "code",
   "execution_count": 23,
   "id": "b8c97dca",
   "metadata": {
    "tags": []
   },
   "outputs": [],
   "source": [
    "data[\"Churn\"] = data[\"LastWorkingDate\"].fillna(0)"
   ]
  },
  {
   "cell_type": "code",
   "execution_count": 24,
   "id": "cfc20094",
   "metadata": {
    "tags": []
   },
   "outputs": [],
   "source": [
    "def apply_0_1(y):\n",
    "    if y == 0:\n",
    "        return 0\n",
    "    if y != 0:\n",
    "        return 1\n",
    "    "
   ]
  },
  {
   "cell_type": "code",
   "execution_count": 25,
   "id": "c9cf72e9",
   "metadata": {
    "tags": []
   },
   "outputs": [],
   "source": [
    "data[\"Churn\"] = data[\"Churn\"].apply(apply_0_1)"
   ]
  },
  {
   "cell_type": "code",
   "execution_count": 26,
   "id": "56884933",
   "metadata": {
    "tags": []
   },
   "outputs": [
    {
     "data": {
      "text/plain": [
       "Churn\n",
       "1    1616\n",
       "0     765\n",
       "Name: count, dtype: int64"
      ]
     },
     "execution_count": 26,
     "metadata": {},
     "output_type": "execute_result"
    }
   ],
   "source": [
    "data[\"Churn\"].value_counts()"
   ]
  },
  {
   "cell_type": "code",
   "execution_count": 27,
   "id": "539ba8e6",
   "metadata": {
    "tags": []
   },
   "outputs": [
    {
     "data": {
      "text/plain": [
       "Churn\n",
       "1    67.870643\n",
       "0    32.129357\n",
       "Name: proportion, dtype: float64"
      ]
     },
     "execution_count": 27,
     "metadata": {},
     "output_type": "execute_result"
    }
   ],
   "source": [
    "data[\"Churn\"].value_counts(normalize=True)*100"
   ]
  },
  {
   "cell_type": "markdown",
   "id": "78a40be7",
   "metadata": {},
   "source": [
    "- ###  class 1 is the driviers who churned . 68% \n",
    "- ###  class 0 is the driviers who have not churned . 32%\n",
    "\n",
    "- ### Data is imbalanced "
   ]
  },
  {
   "cell_type": "markdown",
   "id": "b7334158",
   "metadata": {},
   "source": [
    "#### Converting date columns into Datatime format : "
   ]
  },
  {
   "cell_type": "code",
   "execution_count": 28,
   "id": "0ba6422a-9ddc-464c-9dc1-19820d75d2d8",
   "metadata": {
    "tags": []
   },
   "outputs": [
    {
     "data": {
      "text/html": [
       "<div>\n",
       "<style scoped>\n",
       "    .dataframe tbody tr th:only-of-type {\n",
       "        vertical-align: middle;\n",
       "    }\n",
       "\n",
       "    .dataframe tbody tr th {\n",
       "        vertical-align: top;\n",
       "    }\n",
       "\n",
       "    .dataframe thead th {\n",
       "        text-align: right;\n",
       "    }\n",
       "</style>\n",
       "<table border=\"1\" class=\"dataframe\">\n",
       "  <thead>\n",
       "    <tr style=\"text-align: right;\">\n",
       "      <th></th>\n",
       "      <th>Driver_ID</th>\n",
       "      <th>Gender</th>\n",
       "      <th>LastWorkingDate</th>\n",
       "      <th>No_of_Records</th>\n",
       "      <th>Age</th>\n",
       "      <th>City</th>\n",
       "      <th>Education_Level</th>\n",
       "      <th>Income</th>\n",
       "      <th>Date_of_joining</th>\n",
       "      <th>Joining_Designation</th>\n",
       "      <th>Grade</th>\n",
       "      <th>Total_Business_Value</th>\n",
       "      <th>Quarterly_Rating</th>\n",
       "      <th>Churn</th>\n",
       "    </tr>\n",
       "  </thead>\n",
       "  <tbody>\n",
       "    <tr>\n",
       "      <th>0</th>\n",
       "      <td>1</td>\n",
       "      <td>Male</td>\n",
       "      <td>03/11/19</td>\n",
       "      <td>3</td>\n",
       "      <td>28.0</td>\n",
       "      <td>C23</td>\n",
       "      <td>2</td>\n",
       "      <td>57387.0</td>\n",
       "      <td>24/12/18</td>\n",
       "      <td>1.0</td>\n",
       "      <td>1.0</td>\n",
       "      <td>1715580</td>\n",
       "      <td>2.0</td>\n",
       "      <td>1</td>\n",
       "    </tr>\n",
       "    <tr>\n",
       "      <th>1</th>\n",
       "      <td>2</td>\n",
       "      <td>Male</td>\n",
       "      <td>NaN</td>\n",
       "      <td>2</td>\n",
       "      <td>31.0</td>\n",
       "      <td>C7</td>\n",
       "      <td>2</td>\n",
       "      <td>67016.0</td>\n",
       "      <td>11/06/20</td>\n",
       "      <td>2.0</td>\n",
       "      <td>2.0</td>\n",
       "      <td>0</td>\n",
       "      <td>1.0</td>\n",
       "      <td>0</td>\n",
       "    </tr>\n",
       "    <tr>\n",
       "      <th>2</th>\n",
       "      <td>4</td>\n",
       "      <td>Male</td>\n",
       "      <td>27/04/20</td>\n",
       "      <td>5</td>\n",
       "      <td>43.0</td>\n",
       "      <td>C13</td>\n",
       "      <td>2</td>\n",
       "      <td>65603.0</td>\n",
       "      <td>12/07/19</td>\n",
       "      <td>2.0</td>\n",
       "      <td>2.0</td>\n",
       "      <td>350000</td>\n",
       "      <td>1.0</td>\n",
       "      <td>1</td>\n",
       "    </tr>\n",
       "    <tr>\n",
       "      <th>3</th>\n",
       "      <td>5</td>\n",
       "      <td>Male</td>\n",
       "      <td>03/07/19</td>\n",
       "      <td>3</td>\n",
       "      <td>29.0</td>\n",
       "      <td>C9</td>\n",
       "      <td>0</td>\n",
       "      <td>46368.0</td>\n",
       "      <td>01/09/19</td>\n",
       "      <td>1.0</td>\n",
       "      <td>1.0</td>\n",
       "      <td>120360</td>\n",
       "      <td>1.0</td>\n",
       "      <td>1</td>\n",
       "    </tr>\n",
       "    <tr>\n",
       "      <th>4</th>\n",
       "      <td>6</td>\n",
       "      <td>Female</td>\n",
       "      <td>NaN</td>\n",
       "      <td>5</td>\n",
       "      <td>31.0</td>\n",
       "      <td>C11</td>\n",
       "      <td>1</td>\n",
       "      <td>78728.0</td>\n",
       "      <td>31/07/20</td>\n",
       "      <td>3.0</td>\n",
       "      <td>3.0</td>\n",
       "      <td>1265000</td>\n",
       "      <td>1.6</td>\n",
       "      <td>0</td>\n",
       "    </tr>\n",
       "  </tbody>\n",
       "</table>\n",
       "</div>"
      ],
      "text/plain": [
       "   Driver_ID  Gender LastWorkingDate  No_of_Records   Age City  \\\n",
       "0          1    Male        03/11/19              3  28.0  C23   \n",
       "1          2    Male             NaN              2  31.0   C7   \n",
       "2          4    Male        27/04/20              5  43.0  C13   \n",
       "3          5    Male        03/07/19              3  29.0   C9   \n",
       "4          6  Female             NaN              5  31.0  C11   \n",
       "\n",
       "   Education_Level   Income Date_of_joining  Joining_Designation  Grade  \\\n",
       "0                2  57387.0        24/12/18                  1.0    1.0   \n",
       "1                2  67016.0        11/06/20                  2.0    2.0   \n",
       "2                2  65603.0        12/07/19                  2.0    2.0   \n",
       "3                0  46368.0        01/09/19                  1.0    1.0   \n",
       "4                1  78728.0        31/07/20                  3.0    3.0   \n",
       "\n",
       "   Total_Business_Value  Quarterly_Rating  Churn  \n",
       "0               1715580               2.0      1  \n",
       "1                     0               1.0      0  \n",
       "2                350000               1.0      1  \n",
       "3                120360               1.0      1  \n",
       "4               1265000               1.6      0  "
      ]
     },
     "execution_count": 28,
     "metadata": {},
     "output_type": "execute_result"
    }
   ],
   "source": [
    "data.head()"
   ]
  },
  {
   "cell_type": "code",
   "execution_count": 29,
   "id": "8cf0e743",
   "metadata": {
    "tags": []
   },
   "outputs": [],
   "source": [
    "data[\"Date_of_joining\"] = pd.to_datetime(data[\"Date_of_joining\"])\n",
    "data[\"LastWorkingDate\"] = pd.to_datetime(data[\"LastWorkingDate\"])"
   ]
  },
  {
   "cell_type": "code",
   "execution_count": 30,
   "id": "0b3cbf37",
   "metadata": {
    "tags": []
   },
   "outputs": [],
   "source": [
    "data[\"joining_Year\"] = data[\"Date_of_joining\"].dt.year\n"
   ]
  },
  {
   "cell_type": "code",
   "execution_count": 31,
   "id": "071c6202",
   "metadata": {
    "tags": []
   },
   "outputs": [],
   "source": [
    "#  data[\"joining_month\"] = data[\"Date_of_joining\"].dt.month"
   ]
  },
  {
   "cell_type": "markdown",
   "id": "77d7250f",
   "metadata": {},
   "source": [
    "### checking for missing values after restructuring : "
   ]
  },
  {
   "cell_type": "code",
   "execution_count": 32,
   "id": "43959b4b",
   "metadata": {
    "tags": []
   },
   "outputs": [
    {
     "data": {
      "text/plain": [
       "Driver_ID                0.000000\n",
       "Gender                   1.889962\n",
       "LastWorkingDate         32.129357\n",
       "No_of_Records            0.000000\n",
       "Age                      0.000000\n",
       "City                     0.000000\n",
       "Education_Level          0.000000\n",
       "Income                   0.000000\n",
       "Date_of_joining          0.000000\n",
       "Joining_Designation      0.000000\n",
       "Grade                    0.000000\n",
       "Total_Business_Value     0.000000\n",
       "Quarterly_Rating         0.000000\n",
       "Churn                    0.000000\n",
       "joining_Year             0.000000\n",
       "dtype: float64"
      ]
     },
     "execution_count": 32,
     "metadata": {},
     "output_type": "execute_result"
    }
   ],
   "source": [
    "(data.isna().sum()/len(data))*100"
   ]
  },
  {
   "cell_type": "code",
   "execution_count": 33,
   "id": "c8d78954",
   "metadata": {
    "tags": []
   },
   "outputs": [
    {
     "data": {
      "text/plain": [
       "Churn\n",
       "1    67.870643\n",
       "0    32.129357\n",
       "Name: proportion, dtype: float64"
      ]
     },
     "execution_count": 33,
     "metadata": {},
     "output_type": "execute_result"
    }
   ],
   "source": [
    "data[\"Churn\"].value_counts(normalize=True)*100"
   ]
  },
  {
   "cell_type": "markdown",
   "id": "e2dc8d7e",
   "metadata": {},
   "source": [
    "# Feature Engineering : "
   ]
  },
  {
   "cell_type": "markdown",
   "id": "3942c69c",
   "metadata": {},
   "source": [
    "### whether the quarterly rating has increased for that driver \n",
    "- #### for those whose quarterly rating has increased we assign the value 1\n",
    "\n",
    "   \n",
    "\n",
    "  "
   ]
  },
  {
   "cell_type": "code",
   "execution_count": 34,
   "id": "7b5e67ea",
   "metadata": {
    "tags": []
   },
   "outputs": [],
   "source": [
    "def app_rating_inc(y):\n",
    "    \n",
    "    if len(y)>=2:\n",
    "        for i in range(len(y)):\n",
    "            if y[-1]>y[-2]:\n",
    "                return 1\n",
    "            else:\n",
    "                return 0\n",
    "    else:\n",
    "        return 0"
   ]
  },
  {
   "cell_type": "code",
   "execution_count": 35,
   "id": "23101f1c",
   "metadata": {
    "tags": []
   },
   "outputs": [],
   "source": [
    "Quarterly_Rating_increased = df.groupby(\"Driver_ID\")[\"Quarterly Rating\"].unique().apply(app_rating_inc)"
   ]
  },
  {
   "cell_type": "code",
   "execution_count": 36,
   "id": "8de5969c",
   "metadata": {
    "tags": []
   },
   "outputs": [],
   "source": [
    "data = pd.merge(left = Quarterly_Rating_increased,\n",
    "        right = data,\n",
    "         on = \"Driver_ID\",\n",
    "         how=\"outer\"\n",
    "    )"
   ]
  },
  {
   "cell_type": "code",
   "execution_count": 37,
   "id": "20a28372",
   "metadata": {
    "tags": []
   },
   "outputs": [],
   "source": [
    "# df.groupby(\"Driver_ID\")[\"Quarterly Rating\"].unique().apply(app_rating_inc)"
   ]
  },
  {
   "cell_type": "code",
   "execution_count": 38,
   "id": "18c612e0",
   "metadata": {
    "tags": []
   },
   "outputs": [],
   "source": [
    "data[\"Quarterly_Rating_increased\"] = data[\"Quarterly Rating\"]"
   ]
  },
  {
   "cell_type": "code",
   "execution_count": 39,
   "id": "92cf0534",
   "metadata": {
    "tags": []
   },
   "outputs": [],
   "source": [
    "data.drop([\"Quarterly Rating\"],axis=1,inplace=True)"
   ]
  },
  {
   "cell_type": "markdown",
   "id": "e34cbfbd",
   "metadata": {},
   "source": [
    "### whether the monthly income has increased for that driver - \n",
    "- #### for those whose monthly income has increased we assign the value 1"
   ]
  },
  {
   "cell_type": "code",
   "execution_count": 40,
   "id": "827e44a4",
   "metadata": {
    "tags": []
   },
   "outputs": [],
   "source": [
    "def app_income_inc(y):\n",
    "    \n",
    "    if len(y)>=2:\n",
    "        for i in range(len(y)):\n",
    "            if y[-1]>y[-2]:\n",
    "                return 1\n",
    "            else:\n",
    "                return 0\n",
    "    else:\n",
    "        return 0"
   ]
  },
  {
   "cell_type": "code",
   "execution_count": 41,
   "id": "0c3296ab",
   "metadata": {
    "tags": []
   },
   "outputs": [],
   "source": [
    "# df.groupby(\"Driver_ID\")[\"Income\"].unique().apply(app_income_inc).rename(\"Increased_Income\")"
   ]
  },
  {
   "cell_type": "code",
   "execution_count": 42,
   "id": "bc4ce3a9",
   "metadata": {
    "tags": []
   },
   "outputs": [],
   "source": [
    "data = pd.merge(left = df.groupby(\"Driver_ID\")[\"Income\"].unique().apply(app_income_inc).rename(\"Increased_Income\"),\n",
    "        right = data,\n",
    "         on = \"Driver_ID\",\n",
    "         how=\"outer\"\n",
    "    )"
   ]
  },
  {
   "cell_type": "code",
   "execution_count": 43,
   "id": "690f9ae1",
   "metadata": {
    "tags": []
   },
   "outputs": [
    {
     "data": {
      "text/html": [
       "<div>\n",
       "<style scoped>\n",
       "    .dataframe tbody tr th:only-of-type {\n",
       "        vertical-align: middle;\n",
       "    }\n",
       "\n",
       "    .dataframe tbody tr th {\n",
       "        vertical-align: top;\n",
       "    }\n",
       "\n",
       "    .dataframe thead th {\n",
       "        text-align: right;\n",
       "    }\n",
       "</style>\n",
       "<table border=\"1\" class=\"dataframe\">\n",
       "  <thead>\n",
       "    <tr style=\"text-align: right;\">\n",
       "      <th></th>\n",
       "      <th>Driver_ID</th>\n",
       "      <th>Increased_Income</th>\n",
       "      <th>Gender</th>\n",
       "      <th>LastWorkingDate</th>\n",
       "      <th>No_of_Records</th>\n",
       "      <th>Age</th>\n",
       "      <th>City</th>\n",
       "      <th>Education_Level</th>\n",
       "      <th>Income</th>\n",
       "      <th>Date_of_joining</th>\n",
       "      <th>Joining_Designation</th>\n",
       "      <th>Grade</th>\n",
       "      <th>Total_Business_Value</th>\n",
       "      <th>Quarterly_Rating</th>\n",
       "      <th>Churn</th>\n",
       "      <th>joining_Year</th>\n",
       "      <th>Quarterly_Rating_increased</th>\n",
       "    </tr>\n",
       "  </thead>\n",
       "  <tbody>\n",
       "    <tr>\n",
       "      <th>0</th>\n",
       "      <td>1</td>\n",
       "      <td>0</td>\n",
       "      <td>Male</td>\n",
       "      <td>2019-03-11</td>\n",
       "      <td>3</td>\n",
       "      <td>28.0</td>\n",
       "      <td>C23</td>\n",
       "      <td>2</td>\n",
       "      <td>57387.0</td>\n",
       "      <td>2018-12-24</td>\n",
       "      <td>1.0</td>\n",
       "      <td>1.0</td>\n",
       "      <td>1715580</td>\n",
       "      <td>2.000000</td>\n",
       "      <td>1</td>\n",
       "      <td>2018</td>\n",
       "      <td>0</td>\n",
       "    </tr>\n",
       "    <tr>\n",
       "      <th>1</th>\n",
       "      <td>2</td>\n",
       "      <td>0</td>\n",
       "      <td>Male</td>\n",
       "      <td>NaT</td>\n",
       "      <td>2</td>\n",
       "      <td>31.0</td>\n",
       "      <td>C7</td>\n",
       "      <td>2</td>\n",
       "      <td>67016.0</td>\n",
       "      <td>2020-11-06</td>\n",
       "      <td>2.0</td>\n",
       "      <td>2.0</td>\n",
       "      <td>0</td>\n",
       "      <td>1.000000</td>\n",
       "      <td>0</td>\n",
       "      <td>2020</td>\n",
       "      <td>0</td>\n",
       "    </tr>\n",
       "    <tr>\n",
       "      <th>2</th>\n",
       "      <td>4</td>\n",
       "      <td>0</td>\n",
       "      <td>Male</td>\n",
       "      <td>2020-04-27</td>\n",
       "      <td>5</td>\n",
       "      <td>43.0</td>\n",
       "      <td>C13</td>\n",
       "      <td>2</td>\n",
       "      <td>65603.0</td>\n",
       "      <td>2019-12-07</td>\n",
       "      <td>2.0</td>\n",
       "      <td>2.0</td>\n",
       "      <td>350000</td>\n",
       "      <td>1.000000</td>\n",
       "      <td>1</td>\n",
       "      <td>2019</td>\n",
       "      <td>0</td>\n",
       "    </tr>\n",
       "    <tr>\n",
       "      <th>3</th>\n",
       "      <td>5</td>\n",
       "      <td>0</td>\n",
       "      <td>Male</td>\n",
       "      <td>2019-03-07</td>\n",
       "      <td>3</td>\n",
       "      <td>29.0</td>\n",
       "      <td>C9</td>\n",
       "      <td>0</td>\n",
       "      <td>46368.0</td>\n",
       "      <td>2019-01-09</td>\n",
       "      <td>1.0</td>\n",
       "      <td>1.0</td>\n",
       "      <td>120360</td>\n",
       "      <td>1.000000</td>\n",
       "      <td>1</td>\n",
       "      <td>2019</td>\n",
       "      <td>0</td>\n",
       "    </tr>\n",
       "    <tr>\n",
       "      <th>4</th>\n",
       "      <td>6</td>\n",
       "      <td>0</td>\n",
       "      <td>Female</td>\n",
       "      <td>NaT</td>\n",
       "      <td>5</td>\n",
       "      <td>31.0</td>\n",
       "      <td>C11</td>\n",
       "      <td>1</td>\n",
       "      <td>78728.0</td>\n",
       "      <td>2020-07-31</td>\n",
       "      <td>3.0</td>\n",
       "      <td>3.0</td>\n",
       "      <td>1265000</td>\n",
       "      <td>1.600000</td>\n",
       "      <td>0</td>\n",
       "      <td>2020</td>\n",
       "      <td>1</td>\n",
       "    </tr>\n",
       "    <tr>\n",
       "      <th>...</th>\n",
       "      <td>...</td>\n",
       "      <td>...</td>\n",
       "      <td>...</td>\n",
       "      <td>...</td>\n",
       "      <td>...</td>\n",
       "      <td>...</td>\n",
       "      <td>...</td>\n",
       "      <td>...</td>\n",
       "      <td>...</td>\n",
       "      <td>...</td>\n",
       "      <td>...</td>\n",
       "      <td>...</td>\n",
       "      <td>...</td>\n",
       "      <td>...</td>\n",
       "      <td>...</td>\n",
       "      <td>...</td>\n",
       "      <td>...</td>\n",
       "    </tr>\n",
       "    <tr>\n",
       "      <th>2376</th>\n",
       "      <td>2784</td>\n",
       "      <td>0</td>\n",
       "      <td>Male</td>\n",
       "      <td>NaT</td>\n",
       "      <td>24</td>\n",
       "      <td>34.0</td>\n",
       "      <td>C24</td>\n",
       "      <td>0</td>\n",
       "      <td>82815.0</td>\n",
       "      <td>2015-10-15</td>\n",
       "      <td>2.0</td>\n",
       "      <td>3.0</td>\n",
       "      <td>21748820</td>\n",
       "      <td>2.625000</td>\n",
       "      <td>0</td>\n",
       "      <td>2015</td>\n",
       "      <td>1</td>\n",
       "    </tr>\n",
       "    <tr>\n",
       "      <th>2377</th>\n",
       "      <td>2785</td>\n",
       "      <td>0</td>\n",
       "      <td>Female</td>\n",
       "      <td>2020-10-28</td>\n",
       "      <td>3</td>\n",
       "      <td>34.0</td>\n",
       "      <td>C9</td>\n",
       "      <td>0</td>\n",
       "      <td>12105.0</td>\n",
       "      <td>2020-08-28</td>\n",
       "      <td>1.0</td>\n",
       "      <td>1.0</td>\n",
       "      <td>0</td>\n",
       "      <td>1.000000</td>\n",
       "      <td>1</td>\n",
       "      <td>2020</td>\n",
       "      <td>0</td>\n",
       "    </tr>\n",
       "    <tr>\n",
       "      <th>2378</th>\n",
       "      <td>2786</td>\n",
       "      <td>0</td>\n",
       "      <td>Male</td>\n",
       "      <td>2019-09-22</td>\n",
       "      <td>9</td>\n",
       "      <td>45.0</td>\n",
       "      <td>C19</td>\n",
       "      <td>0</td>\n",
       "      <td>35370.0</td>\n",
       "      <td>2018-07-31</td>\n",
       "      <td>2.0</td>\n",
       "      <td>2.0</td>\n",
       "      <td>2815090</td>\n",
       "      <td>1.666667</td>\n",
       "      <td>1</td>\n",
       "      <td>2018</td>\n",
       "      <td>0</td>\n",
       "    </tr>\n",
       "    <tr>\n",
       "      <th>2379</th>\n",
       "      <td>2787</td>\n",
       "      <td>0</td>\n",
       "      <td>Female</td>\n",
       "      <td>2019-06-20</td>\n",
       "      <td>6</td>\n",
       "      <td>28.0</td>\n",
       "      <td>C20</td>\n",
       "      <td>2</td>\n",
       "      <td>69498.0</td>\n",
       "      <td>2018-07-21</td>\n",
       "      <td>1.0</td>\n",
       "      <td>1.0</td>\n",
       "      <td>977830</td>\n",
       "      <td>1.500000</td>\n",
       "      <td>1</td>\n",
       "      <td>2018</td>\n",
       "      <td>0</td>\n",
       "    </tr>\n",
       "    <tr>\n",
       "      <th>2380</th>\n",
       "      <td>2788</td>\n",
       "      <td>0</td>\n",
       "      <td>Male</td>\n",
       "      <td>NaT</td>\n",
       "      <td>7</td>\n",
       "      <td>30.0</td>\n",
       "      <td>C27</td>\n",
       "      <td>2</td>\n",
       "      <td>70254.0</td>\n",
       "      <td>2020-06-08</td>\n",
       "      <td>2.0</td>\n",
       "      <td>2.0</td>\n",
       "      <td>2298240</td>\n",
       "      <td>2.285714</td>\n",
       "      <td>0</td>\n",
       "      <td>2020</td>\n",
       "      <td>0</td>\n",
       "    </tr>\n",
       "  </tbody>\n",
       "</table>\n",
       "<p>2381 rows × 17 columns</p>\n",
       "</div>"
      ],
      "text/plain": [
       "      Driver_ID  Increased_Income  Gender LastWorkingDate  No_of_Records  \\\n",
       "0             1                 0    Male      2019-03-11              3   \n",
       "1             2                 0    Male             NaT              2   \n",
       "2             4                 0    Male      2020-04-27              5   \n",
       "3             5                 0    Male      2019-03-07              3   \n",
       "4             6                 0  Female             NaT              5   \n",
       "...         ...               ...     ...             ...            ...   \n",
       "2376       2784                 0    Male             NaT             24   \n",
       "2377       2785                 0  Female      2020-10-28              3   \n",
       "2378       2786                 0    Male      2019-09-22              9   \n",
       "2379       2787                 0  Female      2019-06-20              6   \n",
       "2380       2788                 0    Male             NaT              7   \n",
       "\n",
       "       Age City  Education_Level   Income Date_of_joining  \\\n",
       "0     28.0  C23                2  57387.0      2018-12-24   \n",
       "1     31.0   C7                2  67016.0      2020-11-06   \n",
       "2     43.0  C13                2  65603.0      2019-12-07   \n",
       "3     29.0   C9                0  46368.0      2019-01-09   \n",
       "4     31.0  C11                1  78728.0      2020-07-31   \n",
       "...    ...  ...              ...      ...             ...   \n",
       "2376  34.0  C24                0  82815.0      2015-10-15   \n",
       "2377  34.0   C9                0  12105.0      2020-08-28   \n",
       "2378  45.0  C19                0  35370.0      2018-07-31   \n",
       "2379  28.0  C20                2  69498.0      2018-07-21   \n",
       "2380  30.0  C27                2  70254.0      2020-06-08   \n",
       "\n",
       "      Joining_Designation  Grade  Total_Business_Value  Quarterly_Rating  \\\n",
       "0                     1.0    1.0               1715580          2.000000   \n",
       "1                     2.0    2.0                     0          1.000000   \n",
       "2                     2.0    2.0                350000          1.000000   \n",
       "3                     1.0    1.0                120360          1.000000   \n",
       "4                     3.0    3.0               1265000          1.600000   \n",
       "...                   ...    ...                   ...               ...   \n",
       "2376                  2.0    3.0              21748820          2.625000   \n",
       "2377                  1.0    1.0                     0          1.000000   \n",
       "2378                  2.0    2.0               2815090          1.666667   \n",
       "2379                  1.0    1.0                977830          1.500000   \n",
       "2380                  2.0    2.0               2298240          2.285714   \n",
       "\n",
       "      Churn  joining_Year  Quarterly_Rating_increased  \n",
       "0         1          2018                           0  \n",
       "1         0          2020                           0  \n",
       "2         1          2019                           0  \n",
       "3         1          2019                           0  \n",
       "4         0          2020                           1  \n",
       "...     ...           ...                         ...  \n",
       "2376      0          2015                           1  \n",
       "2377      1          2020                           0  \n",
       "2378      1          2018                           0  \n",
       "2379      1          2018                           0  \n",
       "2380      0          2020                           0  \n",
       "\n",
       "[2381 rows x 17 columns]"
      ]
     },
     "execution_count": 43,
     "metadata": {},
     "output_type": "execute_result"
    }
   ],
   "source": [
    "data"
   ]
  },
  {
   "cell_type": "code",
   "execution_count": 44,
   "id": "70ec9526",
   "metadata": {
    "tags": []
   },
   "outputs": [],
   "source": [
    "Mdata = data.copy()"
   ]
  },
  {
   "cell_type": "code",
   "execution_count": 45,
   "id": "15e91699",
   "metadata": {
    "tags": []
   },
   "outputs": [],
   "source": [
    "Mdata[\"Gender\"].replace({\"Male\":0,\n",
    "                       \"Female\":1},inplace=True)"
   ]
  },
  {
   "cell_type": "code",
   "execution_count": 46,
   "id": "e8123064",
   "metadata": {
    "tags": []
   },
   "outputs": [],
   "source": [
    "Mdata.drop([\"Driver_ID\"],axis = 1, inplace=True)"
   ]
  },
  {
   "cell_type": "code",
   "execution_count": 47,
   "id": "e266a409",
   "metadata": {
    "tags": []
   },
   "outputs": [
    {
     "data": {
      "text/plain": [
       "Increased_Income                0\n",
       "Gender                         45\n",
       "LastWorkingDate               765\n",
       "No_of_Records                   0\n",
       "Age                             0\n",
       "City                            0\n",
       "Education_Level                 0\n",
       "Income                          0\n",
       "Date_of_joining                 0\n",
       "Joining_Designation             0\n",
       "Grade                           0\n",
       "Total_Business_Value            0\n",
       "Quarterly_Rating                0\n",
       "Churn                           0\n",
       "joining_Year                    0\n",
       "Quarterly_Rating_increased      0\n",
       "dtype: int64"
      ]
     },
     "execution_count": 47,
     "metadata": {},
     "output_type": "execute_result"
    }
   ],
   "source": [
    "Mdata.isna().sum()"
   ]
  },
  {
   "cell_type": "code",
   "execution_count": 48,
   "id": "101c3905",
   "metadata": {
    "tags": []
   },
   "outputs": [
    {
     "data": {
      "text/html": [
       "<div>\n",
       "<style scoped>\n",
       "    .dataframe tbody tr th:only-of-type {\n",
       "        vertical-align: middle;\n",
       "    }\n",
       "\n",
       "    .dataframe tbody tr th {\n",
       "        vertical-align: top;\n",
       "    }\n",
       "\n",
       "    .dataframe thead th {\n",
       "        text-align: right;\n",
       "    }\n",
       "</style>\n",
       "<table border=\"1\" class=\"dataframe\">\n",
       "  <thead>\n",
       "    <tr style=\"text-align: right;\">\n",
       "      <th></th>\n",
       "      <th>Increased_Income</th>\n",
       "      <th>Gender</th>\n",
       "      <th>LastWorkingDate</th>\n",
       "      <th>No_of_Records</th>\n",
       "      <th>Age</th>\n",
       "      <th>City</th>\n",
       "      <th>Education_Level</th>\n",
       "      <th>Income</th>\n",
       "      <th>Date_of_joining</th>\n",
       "      <th>Joining_Designation</th>\n",
       "      <th>Grade</th>\n",
       "      <th>Total_Business_Value</th>\n",
       "      <th>Quarterly_Rating</th>\n",
       "      <th>Churn</th>\n",
       "      <th>joining_Year</th>\n",
       "      <th>Quarterly_Rating_increased</th>\n",
       "    </tr>\n",
       "  </thead>\n",
       "  <tbody>\n",
       "    <tr>\n",
       "      <th>0</th>\n",
       "      <td>0</td>\n",
       "      <td>0.0</td>\n",
       "      <td>2019-03-11</td>\n",
       "      <td>3</td>\n",
       "      <td>28.0</td>\n",
       "      <td>C23</td>\n",
       "      <td>2</td>\n",
       "      <td>57387.0</td>\n",
       "      <td>2018-12-24</td>\n",
       "      <td>1.0</td>\n",
       "      <td>1.0</td>\n",
       "      <td>1715580</td>\n",
       "      <td>2.000000</td>\n",
       "      <td>1</td>\n",
       "      <td>2018</td>\n",
       "      <td>0</td>\n",
       "    </tr>\n",
       "    <tr>\n",
       "      <th>1</th>\n",
       "      <td>0</td>\n",
       "      <td>0.0</td>\n",
       "      <td>NaT</td>\n",
       "      <td>2</td>\n",
       "      <td>31.0</td>\n",
       "      <td>C7</td>\n",
       "      <td>2</td>\n",
       "      <td>67016.0</td>\n",
       "      <td>2020-11-06</td>\n",
       "      <td>2.0</td>\n",
       "      <td>2.0</td>\n",
       "      <td>0</td>\n",
       "      <td>1.000000</td>\n",
       "      <td>0</td>\n",
       "      <td>2020</td>\n",
       "      <td>0</td>\n",
       "    </tr>\n",
       "    <tr>\n",
       "      <th>2</th>\n",
       "      <td>0</td>\n",
       "      <td>0.0</td>\n",
       "      <td>2020-04-27</td>\n",
       "      <td>5</td>\n",
       "      <td>43.0</td>\n",
       "      <td>C13</td>\n",
       "      <td>2</td>\n",
       "      <td>65603.0</td>\n",
       "      <td>2019-12-07</td>\n",
       "      <td>2.0</td>\n",
       "      <td>2.0</td>\n",
       "      <td>350000</td>\n",
       "      <td>1.000000</td>\n",
       "      <td>1</td>\n",
       "      <td>2019</td>\n",
       "      <td>0</td>\n",
       "    </tr>\n",
       "    <tr>\n",
       "      <th>3</th>\n",
       "      <td>0</td>\n",
       "      <td>0.0</td>\n",
       "      <td>2019-03-07</td>\n",
       "      <td>3</td>\n",
       "      <td>29.0</td>\n",
       "      <td>C9</td>\n",
       "      <td>0</td>\n",
       "      <td>46368.0</td>\n",
       "      <td>2019-01-09</td>\n",
       "      <td>1.0</td>\n",
       "      <td>1.0</td>\n",
       "      <td>120360</td>\n",
       "      <td>1.000000</td>\n",
       "      <td>1</td>\n",
       "      <td>2019</td>\n",
       "      <td>0</td>\n",
       "    </tr>\n",
       "    <tr>\n",
       "      <th>4</th>\n",
       "      <td>0</td>\n",
       "      <td>1.0</td>\n",
       "      <td>NaT</td>\n",
       "      <td>5</td>\n",
       "      <td>31.0</td>\n",
       "      <td>C11</td>\n",
       "      <td>1</td>\n",
       "      <td>78728.0</td>\n",
       "      <td>2020-07-31</td>\n",
       "      <td>3.0</td>\n",
       "      <td>3.0</td>\n",
       "      <td>1265000</td>\n",
       "      <td>1.600000</td>\n",
       "      <td>0</td>\n",
       "      <td>2020</td>\n",
       "      <td>1</td>\n",
       "    </tr>\n",
       "    <tr>\n",
       "      <th>...</th>\n",
       "      <td>...</td>\n",
       "      <td>...</td>\n",
       "      <td>...</td>\n",
       "      <td>...</td>\n",
       "      <td>...</td>\n",
       "      <td>...</td>\n",
       "      <td>...</td>\n",
       "      <td>...</td>\n",
       "      <td>...</td>\n",
       "      <td>...</td>\n",
       "      <td>...</td>\n",
       "      <td>...</td>\n",
       "      <td>...</td>\n",
       "      <td>...</td>\n",
       "      <td>...</td>\n",
       "      <td>...</td>\n",
       "    </tr>\n",
       "    <tr>\n",
       "      <th>2376</th>\n",
       "      <td>0</td>\n",
       "      <td>0.0</td>\n",
       "      <td>NaT</td>\n",
       "      <td>24</td>\n",
       "      <td>34.0</td>\n",
       "      <td>C24</td>\n",
       "      <td>0</td>\n",
       "      <td>82815.0</td>\n",
       "      <td>2015-10-15</td>\n",
       "      <td>2.0</td>\n",
       "      <td>3.0</td>\n",
       "      <td>21748820</td>\n",
       "      <td>2.625000</td>\n",
       "      <td>0</td>\n",
       "      <td>2015</td>\n",
       "      <td>1</td>\n",
       "    </tr>\n",
       "    <tr>\n",
       "      <th>2377</th>\n",
       "      <td>0</td>\n",
       "      <td>1.0</td>\n",
       "      <td>2020-10-28</td>\n",
       "      <td>3</td>\n",
       "      <td>34.0</td>\n",
       "      <td>C9</td>\n",
       "      <td>0</td>\n",
       "      <td>12105.0</td>\n",
       "      <td>2020-08-28</td>\n",
       "      <td>1.0</td>\n",
       "      <td>1.0</td>\n",
       "      <td>0</td>\n",
       "      <td>1.000000</td>\n",
       "      <td>1</td>\n",
       "      <td>2020</td>\n",
       "      <td>0</td>\n",
       "    </tr>\n",
       "    <tr>\n",
       "      <th>2378</th>\n",
       "      <td>0</td>\n",
       "      <td>0.0</td>\n",
       "      <td>2019-09-22</td>\n",
       "      <td>9</td>\n",
       "      <td>45.0</td>\n",
       "      <td>C19</td>\n",
       "      <td>0</td>\n",
       "      <td>35370.0</td>\n",
       "      <td>2018-07-31</td>\n",
       "      <td>2.0</td>\n",
       "      <td>2.0</td>\n",
       "      <td>2815090</td>\n",
       "      <td>1.666667</td>\n",
       "      <td>1</td>\n",
       "      <td>2018</td>\n",
       "      <td>0</td>\n",
       "    </tr>\n",
       "    <tr>\n",
       "      <th>2379</th>\n",
       "      <td>0</td>\n",
       "      <td>1.0</td>\n",
       "      <td>2019-06-20</td>\n",
       "      <td>6</td>\n",
       "      <td>28.0</td>\n",
       "      <td>C20</td>\n",
       "      <td>2</td>\n",
       "      <td>69498.0</td>\n",
       "      <td>2018-07-21</td>\n",
       "      <td>1.0</td>\n",
       "      <td>1.0</td>\n",
       "      <td>977830</td>\n",
       "      <td>1.500000</td>\n",
       "      <td>1</td>\n",
       "      <td>2018</td>\n",
       "      <td>0</td>\n",
       "    </tr>\n",
       "    <tr>\n",
       "      <th>2380</th>\n",
       "      <td>0</td>\n",
       "      <td>0.0</td>\n",
       "      <td>NaT</td>\n",
       "      <td>7</td>\n",
       "      <td>30.0</td>\n",
       "      <td>C27</td>\n",
       "      <td>2</td>\n",
       "      <td>70254.0</td>\n",
       "      <td>2020-06-08</td>\n",
       "      <td>2.0</td>\n",
       "      <td>2.0</td>\n",
       "      <td>2298240</td>\n",
       "      <td>2.285714</td>\n",
       "      <td>0</td>\n",
       "      <td>2020</td>\n",
       "      <td>0</td>\n",
       "    </tr>\n",
       "  </tbody>\n",
       "</table>\n",
       "<p>2381 rows × 16 columns</p>\n",
       "</div>"
      ],
      "text/plain": [
       "      Increased_Income  Gender LastWorkingDate  No_of_Records   Age City  \\\n",
       "0                    0     0.0      2019-03-11              3  28.0  C23   \n",
       "1                    0     0.0             NaT              2  31.0   C7   \n",
       "2                    0     0.0      2020-04-27              5  43.0  C13   \n",
       "3                    0     0.0      2019-03-07              3  29.0   C9   \n",
       "4                    0     1.0             NaT              5  31.0  C11   \n",
       "...                ...     ...             ...            ...   ...  ...   \n",
       "2376                 0     0.0             NaT             24  34.0  C24   \n",
       "2377                 0     1.0      2020-10-28              3  34.0   C9   \n",
       "2378                 0     0.0      2019-09-22              9  45.0  C19   \n",
       "2379                 0     1.0      2019-06-20              6  28.0  C20   \n",
       "2380                 0     0.0             NaT              7  30.0  C27   \n",
       "\n",
       "      Education_Level   Income Date_of_joining  Joining_Designation  Grade  \\\n",
       "0                   2  57387.0      2018-12-24                  1.0    1.0   \n",
       "1                   2  67016.0      2020-11-06                  2.0    2.0   \n",
       "2                   2  65603.0      2019-12-07                  2.0    2.0   \n",
       "3                   0  46368.0      2019-01-09                  1.0    1.0   \n",
       "4                   1  78728.0      2020-07-31                  3.0    3.0   \n",
       "...               ...      ...             ...                  ...    ...   \n",
       "2376                0  82815.0      2015-10-15                  2.0    3.0   \n",
       "2377                0  12105.0      2020-08-28                  1.0    1.0   \n",
       "2378                0  35370.0      2018-07-31                  2.0    2.0   \n",
       "2379                2  69498.0      2018-07-21                  1.0    1.0   \n",
       "2380                2  70254.0      2020-06-08                  2.0    2.0   \n",
       "\n",
       "      Total_Business_Value  Quarterly_Rating  Churn  joining_Year  \\\n",
       "0                  1715580          2.000000      1          2018   \n",
       "1                        0          1.000000      0          2020   \n",
       "2                   350000          1.000000      1          2019   \n",
       "3                   120360          1.000000      1          2019   \n",
       "4                  1265000          1.600000      0          2020   \n",
       "...                    ...               ...    ...           ...   \n",
       "2376              21748820          2.625000      0          2015   \n",
       "2377                     0          1.000000      1          2020   \n",
       "2378               2815090          1.666667      1          2018   \n",
       "2379                977830          1.500000      1          2018   \n",
       "2380               2298240          2.285714      0          2020   \n",
       "\n",
       "      Quarterly_Rating_increased  \n",
       "0                              0  \n",
       "1                              0  \n",
       "2                              0  \n",
       "3                              0  \n",
       "4                              1  \n",
       "...                          ...  \n",
       "2376                           1  \n",
       "2377                           0  \n",
       "2378                           0  \n",
       "2379                           0  \n",
       "2380                           0  \n",
       "\n",
       "[2381 rows x 16 columns]"
      ]
     },
     "execution_count": 48,
     "metadata": {},
     "output_type": "execute_result"
    }
   ],
   "source": [
    "Mdata"
   ]
  },
  {
   "cell_type": "code",
   "execution_count": 49,
   "id": "76a02c09",
   "metadata": {
    "tags": []
   },
   "outputs": [
    {
     "data": {
      "text/plain": [
       "Timestamp('2021-06-01 00:00:00')"
      ]
     },
     "execution_count": 49,
     "metadata": {},
     "output_type": "execute_result"
    }
   ],
   "source": [
    "pd.to_datetime(\"2021-06-01\")"
   ]
  },
  {
   "cell_type": "code",
   "execution_count": 50,
   "id": "b9d33af2",
   "metadata": {
    "tags": []
   },
   "outputs": [],
   "source": [
    "Mdata[\"LastWorkingDate\"] = Mdata[\"LastWorkingDate\"].fillna(pd.to_datetime(\"2021-06-01\"))"
   ]
  },
  {
   "cell_type": "code",
   "execution_count": 51,
   "id": "72be6d57",
   "metadata": {
    "tags": []
   },
   "outputs": [
    {
     "data": {
      "text/plain": [
       "0        77 days\n",
       "1       207 days\n",
       "2       142 days\n",
       "3        57 days\n",
       "4       305 days\n",
       "          ...   \n",
       "2376   2056 days\n",
       "2377     61 days\n",
       "2378    418 days\n",
       "2379    334 days\n",
       "2380    358 days\n",
       "Length: 2381, dtype: timedelta64[ns]"
      ]
     },
     "execution_count": 51,
     "metadata": {},
     "output_type": "execute_result"
    }
   ],
   "source": [
    "(Mdata[\"LastWorkingDate\"] - Mdata[\"Date_of_joining\"])"
   ]
  },
  {
   "cell_type": "code",
   "execution_count": 52,
   "id": "de2a1f09",
   "metadata": {
    "tags": []
   },
   "outputs": [],
   "source": [
    "Mdata[\"Driver_tenure_days\"] = (Mdata[\"LastWorkingDate\"] - Mdata[\"Date_of_joining\"])"
   ]
  },
  {
   "cell_type": "code",
   "execution_count": 53,
   "id": "f783475e",
   "metadata": {
    "tags": []
   },
   "outputs": [],
   "source": [
    "Mdata[\"Driver_tenure_days\"] = Mdata[\"Driver_tenure_days\"].dt.days"
   ]
  },
  {
   "cell_type": "code",
   "execution_count": 54,
   "id": "bdc304c9",
   "metadata": {
    "tags": []
   },
   "outputs": [],
   "source": [
    "Mdata.drop([\"LastWorkingDate\",\"Date_of_joining\"],inplace=True,axis = 1)"
   ]
  },
  {
   "cell_type": "code",
   "execution_count": 55,
   "id": "2debbdf4",
   "metadata": {
    "tags": []
   },
   "outputs": [],
   "source": [
    "Mdata.drop([\"Driver_tenure_days\"],inplace=True,axis = 1)"
   ]
  },
  {
   "cell_type": "code",
   "execution_count": 56,
   "id": "0dfd5bfc",
   "metadata": {
    "tags": []
   },
   "outputs": [
    {
     "data": {
      "text/html": [
       "<div>\n",
       "<style scoped>\n",
       "    .dataframe tbody tr th:only-of-type {\n",
       "        vertical-align: middle;\n",
       "    }\n",
       "\n",
       "    .dataframe tbody tr th {\n",
       "        vertical-align: top;\n",
       "    }\n",
       "\n",
       "    .dataframe thead th {\n",
       "        text-align: right;\n",
       "    }\n",
       "</style>\n",
       "<table border=\"1\" class=\"dataframe\">\n",
       "  <thead>\n",
       "    <tr style=\"text-align: right;\">\n",
       "      <th></th>\n",
       "      <th>Increased_Income</th>\n",
       "      <th>Gender</th>\n",
       "      <th>No_of_Records</th>\n",
       "      <th>Age</th>\n",
       "      <th>City</th>\n",
       "      <th>Education_Level</th>\n",
       "      <th>Income</th>\n",
       "      <th>Joining_Designation</th>\n",
       "      <th>Grade</th>\n",
       "      <th>Total_Business_Value</th>\n",
       "      <th>Quarterly_Rating</th>\n",
       "      <th>Churn</th>\n",
       "      <th>joining_Year</th>\n",
       "      <th>Quarterly_Rating_increased</th>\n",
       "    </tr>\n",
       "  </thead>\n",
       "  <tbody>\n",
       "    <tr>\n",
       "      <th>0</th>\n",
       "      <td>0</td>\n",
       "      <td>0.0</td>\n",
       "      <td>3</td>\n",
       "      <td>28.0</td>\n",
       "      <td>C23</td>\n",
       "      <td>2</td>\n",
       "      <td>57387.0</td>\n",
       "      <td>1.0</td>\n",
       "      <td>1.0</td>\n",
       "      <td>1715580</td>\n",
       "      <td>2.000000</td>\n",
       "      <td>1</td>\n",
       "      <td>2018</td>\n",
       "      <td>0</td>\n",
       "    </tr>\n",
       "    <tr>\n",
       "      <th>1</th>\n",
       "      <td>0</td>\n",
       "      <td>0.0</td>\n",
       "      <td>2</td>\n",
       "      <td>31.0</td>\n",
       "      <td>C7</td>\n",
       "      <td>2</td>\n",
       "      <td>67016.0</td>\n",
       "      <td>2.0</td>\n",
       "      <td>2.0</td>\n",
       "      <td>0</td>\n",
       "      <td>1.000000</td>\n",
       "      <td>0</td>\n",
       "      <td>2020</td>\n",
       "      <td>0</td>\n",
       "    </tr>\n",
       "    <tr>\n",
       "      <th>2</th>\n",
       "      <td>0</td>\n",
       "      <td>0.0</td>\n",
       "      <td>5</td>\n",
       "      <td>43.0</td>\n",
       "      <td>C13</td>\n",
       "      <td>2</td>\n",
       "      <td>65603.0</td>\n",
       "      <td>2.0</td>\n",
       "      <td>2.0</td>\n",
       "      <td>350000</td>\n",
       "      <td>1.000000</td>\n",
       "      <td>1</td>\n",
       "      <td>2019</td>\n",
       "      <td>0</td>\n",
       "    </tr>\n",
       "    <tr>\n",
       "      <th>3</th>\n",
       "      <td>0</td>\n",
       "      <td>0.0</td>\n",
       "      <td>3</td>\n",
       "      <td>29.0</td>\n",
       "      <td>C9</td>\n",
       "      <td>0</td>\n",
       "      <td>46368.0</td>\n",
       "      <td>1.0</td>\n",
       "      <td>1.0</td>\n",
       "      <td>120360</td>\n",
       "      <td>1.000000</td>\n",
       "      <td>1</td>\n",
       "      <td>2019</td>\n",
       "      <td>0</td>\n",
       "    </tr>\n",
       "    <tr>\n",
       "      <th>4</th>\n",
       "      <td>0</td>\n",
       "      <td>1.0</td>\n",
       "      <td>5</td>\n",
       "      <td>31.0</td>\n",
       "      <td>C11</td>\n",
       "      <td>1</td>\n",
       "      <td>78728.0</td>\n",
       "      <td>3.0</td>\n",
       "      <td>3.0</td>\n",
       "      <td>1265000</td>\n",
       "      <td>1.600000</td>\n",
       "      <td>0</td>\n",
       "      <td>2020</td>\n",
       "      <td>1</td>\n",
       "    </tr>\n",
       "    <tr>\n",
       "      <th>...</th>\n",
       "      <td>...</td>\n",
       "      <td>...</td>\n",
       "      <td>...</td>\n",
       "      <td>...</td>\n",
       "      <td>...</td>\n",
       "      <td>...</td>\n",
       "      <td>...</td>\n",
       "      <td>...</td>\n",
       "      <td>...</td>\n",
       "      <td>...</td>\n",
       "      <td>...</td>\n",
       "      <td>...</td>\n",
       "      <td>...</td>\n",
       "      <td>...</td>\n",
       "    </tr>\n",
       "    <tr>\n",
       "      <th>2376</th>\n",
       "      <td>0</td>\n",
       "      <td>0.0</td>\n",
       "      <td>24</td>\n",
       "      <td>34.0</td>\n",
       "      <td>C24</td>\n",
       "      <td>0</td>\n",
       "      <td>82815.0</td>\n",
       "      <td>2.0</td>\n",
       "      <td>3.0</td>\n",
       "      <td>21748820</td>\n",
       "      <td>2.625000</td>\n",
       "      <td>0</td>\n",
       "      <td>2015</td>\n",
       "      <td>1</td>\n",
       "    </tr>\n",
       "    <tr>\n",
       "      <th>2377</th>\n",
       "      <td>0</td>\n",
       "      <td>1.0</td>\n",
       "      <td>3</td>\n",
       "      <td>34.0</td>\n",
       "      <td>C9</td>\n",
       "      <td>0</td>\n",
       "      <td>12105.0</td>\n",
       "      <td>1.0</td>\n",
       "      <td>1.0</td>\n",
       "      <td>0</td>\n",
       "      <td>1.000000</td>\n",
       "      <td>1</td>\n",
       "      <td>2020</td>\n",
       "      <td>0</td>\n",
       "    </tr>\n",
       "    <tr>\n",
       "      <th>2378</th>\n",
       "      <td>0</td>\n",
       "      <td>0.0</td>\n",
       "      <td>9</td>\n",
       "      <td>45.0</td>\n",
       "      <td>C19</td>\n",
       "      <td>0</td>\n",
       "      <td>35370.0</td>\n",
       "      <td>2.0</td>\n",
       "      <td>2.0</td>\n",
       "      <td>2815090</td>\n",
       "      <td>1.666667</td>\n",
       "      <td>1</td>\n",
       "      <td>2018</td>\n",
       "      <td>0</td>\n",
       "    </tr>\n",
       "    <tr>\n",
       "      <th>2379</th>\n",
       "      <td>0</td>\n",
       "      <td>1.0</td>\n",
       "      <td>6</td>\n",
       "      <td>28.0</td>\n",
       "      <td>C20</td>\n",
       "      <td>2</td>\n",
       "      <td>69498.0</td>\n",
       "      <td>1.0</td>\n",
       "      <td>1.0</td>\n",
       "      <td>977830</td>\n",
       "      <td>1.500000</td>\n",
       "      <td>1</td>\n",
       "      <td>2018</td>\n",
       "      <td>0</td>\n",
       "    </tr>\n",
       "    <tr>\n",
       "      <th>2380</th>\n",
       "      <td>0</td>\n",
       "      <td>0.0</td>\n",
       "      <td>7</td>\n",
       "      <td>30.0</td>\n",
       "      <td>C27</td>\n",
       "      <td>2</td>\n",
       "      <td>70254.0</td>\n",
       "      <td>2.0</td>\n",
       "      <td>2.0</td>\n",
       "      <td>2298240</td>\n",
       "      <td>2.285714</td>\n",
       "      <td>0</td>\n",
       "      <td>2020</td>\n",
       "      <td>0</td>\n",
       "    </tr>\n",
       "  </tbody>\n",
       "</table>\n",
       "<p>2381 rows × 14 columns</p>\n",
       "</div>"
      ],
      "text/plain": [
       "      Increased_Income  Gender  No_of_Records   Age City  Education_Level  \\\n",
       "0                    0     0.0              3  28.0  C23                2   \n",
       "1                    0     0.0              2  31.0   C7                2   \n",
       "2                    0     0.0              5  43.0  C13                2   \n",
       "3                    0     0.0              3  29.0   C9                0   \n",
       "4                    0     1.0              5  31.0  C11                1   \n",
       "...                ...     ...            ...   ...  ...              ...   \n",
       "2376                 0     0.0             24  34.0  C24                0   \n",
       "2377                 0     1.0              3  34.0   C9                0   \n",
       "2378                 0     0.0              9  45.0  C19                0   \n",
       "2379                 0     1.0              6  28.0  C20                2   \n",
       "2380                 0     0.0              7  30.0  C27                2   \n",
       "\n",
       "       Income  Joining_Designation  Grade  Total_Business_Value  \\\n",
       "0     57387.0                  1.0    1.0               1715580   \n",
       "1     67016.0                  2.0    2.0                     0   \n",
       "2     65603.0                  2.0    2.0                350000   \n",
       "3     46368.0                  1.0    1.0                120360   \n",
       "4     78728.0                  3.0    3.0               1265000   \n",
       "...       ...                  ...    ...                   ...   \n",
       "2376  82815.0                  2.0    3.0              21748820   \n",
       "2377  12105.0                  1.0    1.0                     0   \n",
       "2378  35370.0                  2.0    2.0               2815090   \n",
       "2379  69498.0                  1.0    1.0                977830   \n",
       "2380  70254.0                  2.0    2.0               2298240   \n",
       "\n",
       "      Quarterly_Rating  Churn  joining_Year  Quarterly_Rating_increased  \n",
       "0             2.000000      1          2018                           0  \n",
       "1             1.000000      0          2020                           0  \n",
       "2             1.000000      1          2019                           0  \n",
       "3             1.000000      1          2019                           0  \n",
       "4             1.600000      0          2020                           1  \n",
       "...                ...    ...           ...                         ...  \n",
       "2376          2.625000      0          2015                           1  \n",
       "2377          1.000000      1          2020                           0  \n",
       "2378          1.666667      1          2018                           0  \n",
       "2379          1.500000      1          2018                           0  \n",
       "2380          2.285714      0          2020                           0  \n",
       "\n",
       "[2381 rows x 14 columns]"
      ]
     },
     "execution_count": 56,
     "metadata": {},
     "output_type": "execute_result"
    }
   ],
   "source": [
    "Mdata"
   ]
  },
  {
   "cell_type": "code",
   "execution_count": 57,
   "id": "054aaa98",
   "metadata": {
    "tags": []
   },
   "outputs": [
    {
     "data": {
      "text/plain": [
       "Index(['Increased_Income', 'Gender', 'No_of_Records', 'Age', 'City',\n",
       "       'Education_Level', 'Income', 'Joining_Designation', 'Grade',\n",
       "       'Total_Business_Value', 'Quarterly_Rating', 'Churn', 'joining_Year',\n",
       "       'Quarterly_Rating_increased'],\n",
       "      dtype='object')"
      ]
     },
     "execution_count": 57,
     "metadata": {},
     "output_type": "execute_result"
    }
   ],
   "source": [
    "Mdata.columns"
   ]
  },
  {
   "cell_type": "code",
   "execution_count": 58,
   "id": "42d43671",
   "metadata": {
    "tags": []
   },
   "outputs": [],
   "source": [
    "Mdata[\"Grade\"] = np.round(Mdata[\"Grade\"])"
   ]
  },
  {
   "cell_type": "code",
   "execution_count": 59,
   "id": "506ba155",
   "metadata": {
    "tags": []
   },
   "outputs": [],
   "source": [
    "Mdata[\"Quarterly_Rating\"]= Mdata[\"Quarterly_Rating\"].round()"
   ]
  },
  {
   "cell_type": "code",
   "execution_count": 60,
   "id": "62e9ba8d",
   "metadata": {
    "tags": []
   },
   "outputs": [
    {
     "data": {
      "image/png": "[encoded data removed]",
      "text/plain": [
       "<Figure size 640x480 with 1 Axes>"
      ]
     },
     "metadata": {},
     "output_type": "display_data"
    },
    {
     "data": {
      "image/png": "[encoded data removed]",
      "text/plain": [
       "<Figure size 640x480 with 1 Axes>"
      ]
     },
     "metadata": {},
     "output_type": "display_data"
    },
    {
     "data": {
      "image/png": "[encoded data removed]",
      "text/plain": [
       "<Figure size 640x480 with 1 Axes>"
      ]
     },
     "metadata": {},
     "output_type": "display_data"
    },
    {
     "data": {
      "image/png": "[encoded data removed]",
      "text/plain": [
       "<Figure size 640x480 with 1 Axes>"
      ]
     },
     "metadata": {},
     "output_type": "display_data"
    },
    {
     "data": {
      "image/png": "[encoded data removed]",
      "text/plain": [
       "<Figure size 640x480 with 1 Axes>"
      ]
     },
     "metadata": {},
     "output_type": "display_data"
    },
    {
     "data": {
      "image/png": "[encoded data removed]",
      "text/plain": [
       "<Figure size 640x480 with 1 Axes>"
      ]
     },
     "metadata": {},
     "output_type": "display_data"
    },
    {
     "data": {
      "image/png": "[encoded data removed]",
      "text/plain": [
       "<Figure size 640x480 with 1 Axes>"
      ]
     },
     "metadata": {},
     "output_type": "display_data"
    },
    {
     "data": {
      "image/png": "[encoded data removed]",
      "text/plain": [
       "<Figure size 640x480 with 1 Axes>"
      ]
     },
     "metadata": {},
     "output_type": "display_data"
    },
    {
     "data": {
      "image/png": "[encoded data removed]",
      "text/plain": [
       "<Figure size 640x480 with 1 Axes>"
      ]
     },
     "metadata": {},
     "output_type": "display_data"
    }
   ],
   "source": [
    "categorical_features = ['Increased_Income', 'Gender','City','Education_Level',\n",
    "                   'Joining_Designation','Grade','Quarterly_Rating','Quarterly_Rating_increased',\"joining_Year\"]\n",
    "\n",
    "for col in categorical_features:\n",
    "    pd.crosstab(index = Mdata[col],\n",
    "               columns = Mdata[\"Churn\"],\n",
    "               normalize=\"columns\").plot(kind = \"bar\")\n",
    "    plt.show()"
   ]
  },
  {
   "cell_type": "code",
   "execution_count": 61,
   "id": "6f2b5b6a",
   "metadata": {
    "tags": []
   },
   "outputs": [
    {
     "data": {
      "text/plain": [
       "Increased_Income               0\n",
       "Gender                        45\n",
       "No_of_Records                  0\n",
       "Age                            0\n",
       "City                           0\n",
       "Education_Level                0\n",
       "Income                         0\n",
       "Joining_Designation            0\n",
       "Grade                          0\n",
       "Total_Business_Value           0\n",
       "Quarterly_Rating               0\n",
       "Churn                          0\n",
       "joining_Year                   0\n",
       "Quarterly_Rating_increased     0\n",
       "dtype: int64"
      ]
     },
     "execution_count": 61,
     "metadata": {},
     "output_type": "execute_result"
    }
   ],
   "source": [
    "Mdata.isna().sum()"
   ]
  },
  {
   "cell_type": "markdown",
   "id": "0ff7df63",
   "metadata": {},
   "source": [
    "## SimpleImputer"
   ]
  },
  {
   "cell_type": "code",
   "execution_count": 62,
   "id": "2a880c61",
   "metadata": {
    "tags": []
   },
   "outputs": [],
   "source": [
    "from sklearn.impute import SimpleImputer"
   ]
  },
  {
   "cell_type": "code",
   "execution_count": 63,
   "id": "77d468fd",
   "metadata": {
    "tags": []
   },
   "outputs": [],
   "source": [
    "imputer = SimpleImputer(strategy='most_frequent')"
   ]
  },
  {
   "cell_type": "code",
   "execution_count": 64,
   "id": "1efc2ddb",
   "metadata": {
    "tags": []
   },
   "outputs": [],
   "source": [
    "Mdata[\"Gender\"] = imputer.fit_transform(X=Mdata[\"Gender\"].values.reshape(-1,1),y=Mdata[\"Churn\"].values.reshape(-1,1))"
   ]
  },
  {
   "cell_type": "code",
   "execution_count": 65,
   "id": "020f425c",
   "metadata": {
    "tags": []
   },
   "outputs": [
    {
     "data": {
      "text/plain": [
       "Gender\n",
       "0.0    1425\n",
       "1.0     956\n",
       "Name: count, dtype: int64"
      ]
     },
     "execution_count": 65,
     "metadata": {},
     "output_type": "execute_result"
    }
   ],
   "source": [
    "Mdata[\"Gender\"].value_counts(dropna=False)"
   ]
  },
  {
   "cell_type": "code",
   "execution_count": 66,
   "id": "88d54c17",
   "metadata": {
    "tags": []
   },
   "outputs": [
    {
     "data": {
      "text/plain": [
       "Increased_Income              0\n",
       "Gender                        0\n",
       "No_of_Records                 0\n",
       "Age                           0\n",
       "City                          0\n",
       "Education_Level               0\n",
       "Income                        0\n",
       "Joining_Designation           0\n",
       "Grade                         0\n",
       "Total_Business_Value          0\n",
       "Quarterly_Rating              0\n",
       "Churn                         0\n",
       "joining_Year                  0\n",
       "Quarterly_Rating_increased    0\n",
       "dtype: int64"
      ]
     },
     "execution_count": 66,
     "metadata": {},
     "output_type": "execute_result"
    }
   ],
   "source": [
    "Mdata.isna().sum()"
   ]
  },
  {
   "cell_type": "markdown",
   "id": "ae5e8624",
   "metadata": {},
   "source": [
    "## TargetEncoder"
   ]
  },
  {
   "cell_type": "code",
   "execution_count": 67,
   "id": "98d0b995",
   "metadata": {
    "tags": []
   },
   "outputs": [],
   "source": [
    "from category_encoders import TargetEncoder\n",
    "TE = TargetEncoder()"
   ]
  },
  {
   "cell_type": "code",
   "execution_count": 68,
   "id": "0f7b858b",
   "metadata": {
    "tags": []
   },
   "outputs": [],
   "source": [
    "Mdata[\"City\"] = TE.fit_transform(X = Mdata[\"City\"],y = Mdata[\"Churn\"])\n",
    "\n"
   ]
  },
  {
   "cell_type": "code",
   "execution_count": 69,
   "id": "3956b827",
   "metadata": {
    "tags": []
   },
   "outputs": [
    {
     "name": "stdout",
     "output_type": "stream",
     "text": [
      "Warning: No categorical columns found. Calling 'transform' will only return input data.\n"
     ]
    }
   ],
   "source": [
    "Mdata[\"joining_Year\"] = TE.fit_transform(X = Mdata[\"joining_Year\"],y = Mdata[\"Churn\"])\n"
   ]
  },
  {
   "cell_type": "code",
   "execution_count": 70,
   "id": "b36919b1",
   "metadata": {
    "tags": []
   },
   "outputs": [
    {
     "data": {
      "text/html": [
       "<div>\n",
       "<style scoped>\n",
       "    .dataframe tbody tr th:only-of-type {\n",
       "        vertical-align: middle;\n",
       "    }\n",
       "\n",
       "    .dataframe tbody tr th {\n",
       "        vertical-align: top;\n",
       "    }\n",
       "\n",
       "    .dataframe thead th {\n",
       "        text-align: right;\n",
       "    }\n",
       "</style>\n",
       "<table border=\"1\" class=\"dataframe\">\n",
       "  <thead>\n",
       "    <tr style=\"text-align: right;\">\n",
       "      <th></th>\n",
       "      <th>Increased_Income</th>\n",
       "      <th>Gender</th>\n",
       "      <th>No_of_Records</th>\n",
       "      <th>Age</th>\n",
       "      <th>City</th>\n",
       "      <th>Education_Level</th>\n",
       "      <th>Income</th>\n",
       "      <th>Joining_Designation</th>\n",
       "      <th>Grade</th>\n",
       "      <th>Total_Business_Value</th>\n",
       "      <th>Quarterly_Rating</th>\n",
       "      <th>Churn</th>\n",
       "      <th>joining_Year</th>\n",
       "      <th>Quarterly_Rating_increased</th>\n",
       "    </tr>\n",
       "  </thead>\n",
       "  <tbody>\n",
       "    <tr>\n",
       "      <th>0</th>\n",
       "      <td>0</td>\n",
       "      <td>0.0</td>\n",
       "      <td>3</td>\n",
       "      <td>28.0</td>\n",
       "      <td>0.769859</td>\n",
       "      <td>2</td>\n",
       "      <td>57387.0</td>\n",
       "      <td>1.0</td>\n",
       "      <td>1.0</td>\n",
       "      <td>1715580</td>\n",
       "      <td>2.0</td>\n",
       "      <td>1</td>\n",
       "      <td>2018</td>\n",
       "      <td>0</td>\n",
       "    </tr>\n",
       "    <tr>\n",
       "      <th>1</th>\n",
       "      <td>0</td>\n",
       "      <td>0.0</td>\n",
       "      <td>2</td>\n",
       "      <td>31.0</td>\n",
       "      <td>0.684190</td>\n",
       "      <td>2</td>\n",
       "      <td>67016.0</td>\n",
       "      <td>2.0</td>\n",
       "      <td>2.0</td>\n",
       "      <td>0</td>\n",
       "      <td>1.0</td>\n",
       "      <td>0</td>\n",
       "      <td>2020</td>\n",
       "      <td>0</td>\n",
       "    </tr>\n",
       "    <tr>\n",
       "      <th>2</th>\n",
       "      <td>0</td>\n",
       "      <td>0.0</td>\n",
       "      <td>5</td>\n",
       "      <td>43.0</td>\n",
       "      <td>0.816064</td>\n",
       "      <td>2</td>\n",
       "      <td>65603.0</td>\n",
       "      <td>2.0</td>\n",
       "      <td>2.0</td>\n",
       "      <td>350000</td>\n",
       "      <td>1.0</td>\n",
       "      <td>1</td>\n",
       "      <td>2019</td>\n",
       "      <td>0</td>\n",
       "    </tr>\n",
       "    <tr>\n",
       "      <th>3</th>\n",
       "      <td>0</td>\n",
       "      <td>0.0</td>\n",
       "      <td>3</td>\n",
       "      <td>29.0</td>\n",
       "      <td>0.706553</td>\n",
       "      <td>0</td>\n",
       "      <td>46368.0</td>\n",
       "      <td>1.0</td>\n",
       "      <td>1.0</td>\n",
       "      <td>120360</td>\n",
       "      <td>1.0</td>\n",
       "      <td>1</td>\n",
       "      <td>2019</td>\n",
       "      <td>0</td>\n",
       "    </tr>\n",
       "    <tr>\n",
       "      <th>4</th>\n",
       "      <td>0</td>\n",
       "      <td>1.0</td>\n",
       "      <td>5</td>\n",
       "      <td>31.0</td>\n",
       "      <td>0.702829</td>\n",
       "      <td>1</td>\n",
       "      <td>78728.0</td>\n",
       "      <td>3.0</td>\n",
       "      <td>3.0</td>\n",
       "      <td>1265000</td>\n",
       "      <td>2.0</td>\n",
       "      <td>0</td>\n",
       "      <td>2020</td>\n",
       "      <td>1</td>\n",
       "    </tr>\n",
       "    <tr>\n",
       "      <th>...</th>\n",
       "      <td>...</td>\n",
       "      <td>...</td>\n",
       "      <td>...</td>\n",
       "      <td>...</td>\n",
       "      <td>...</td>\n",
       "      <td>...</td>\n",
       "      <td>...</td>\n",
       "      <td>...</td>\n",
       "      <td>...</td>\n",
       "      <td>...</td>\n",
       "      <td>...</td>\n",
       "      <td>...</td>\n",
       "      <td>...</td>\n",
       "      <td>...</td>\n",
       "    </tr>\n",
       "    <tr>\n",
       "      <th>2376</th>\n",
       "      <td>0</td>\n",
       "      <td>0.0</td>\n",
       "      <td>24</td>\n",
       "      <td>34.0</td>\n",
       "      <td>0.698531</td>\n",
       "      <td>0</td>\n",
       "      <td>82815.0</td>\n",
       "      <td>2.0</td>\n",
       "      <td>3.0</td>\n",
       "      <td>21748820</td>\n",
       "      <td>3.0</td>\n",
       "      <td>0</td>\n",
       "      <td>2015</td>\n",
       "      <td>1</td>\n",
       "    </tr>\n",
       "    <tr>\n",
       "      <th>2377</th>\n",
       "      <td>0</td>\n",
       "      <td>1.0</td>\n",
       "      <td>3</td>\n",
       "      <td>34.0</td>\n",
       "      <td>0.706553</td>\n",
       "      <td>0</td>\n",
       "      <td>12105.0</td>\n",
       "      <td>1.0</td>\n",
       "      <td>1.0</td>\n",
       "      <td>0</td>\n",
       "      <td>1.0</td>\n",
       "      <td>1</td>\n",
       "      <td>2020</td>\n",
       "      <td>0</td>\n",
       "    </tr>\n",
       "    <tr>\n",
       "      <th>2378</th>\n",
       "      <td>0</td>\n",
       "      <td>0.0</td>\n",
       "      <td>9</td>\n",
       "      <td>45.0</td>\n",
       "      <td>0.570044</td>\n",
       "      <td>0</td>\n",
       "      <td>35370.0</td>\n",
       "      <td>2.0</td>\n",
       "      <td>2.0</td>\n",
       "      <td>2815090</td>\n",
       "      <td>2.0</td>\n",
       "      <td>1</td>\n",
       "      <td>2018</td>\n",
       "      <td>0</td>\n",
       "    </tr>\n",
       "    <tr>\n",
       "      <th>2379</th>\n",
       "      <td>0</td>\n",
       "      <td>1.0</td>\n",
       "      <td>6</td>\n",
       "      <td>28.0</td>\n",
       "      <td>0.730263</td>\n",
       "      <td>2</td>\n",
       "      <td>69498.0</td>\n",
       "      <td>1.0</td>\n",
       "      <td>1.0</td>\n",
       "      <td>977830</td>\n",
       "      <td>2.0</td>\n",
       "      <td>1</td>\n",
       "      <td>2018</td>\n",
       "      <td>0</td>\n",
       "    </tr>\n",
       "    <tr>\n",
       "      <th>2380</th>\n",
       "      <td>0</td>\n",
       "      <td>0.0</td>\n",
       "      <td>7</td>\n",
       "      <td>30.0</td>\n",
       "      <td>0.674162</td>\n",
       "      <td>2</td>\n",
       "      <td>70254.0</td>\n",
       "      <td>2.0</td>\n",
       "      <td>2.0</td>\n",
       "      <td>2298240</td>\n",
       "      <td>2.0</td>\n",
       "      <td>0</td>\n",
       "      <td>2020</td>\n",
       "      <td>0</td>\n",
       "    </tr>\n",
       "  </tbody>\n",
       "</table>\n",
       "<p>2381 rows × 14 columns</p>\n",
       "</div>"
      ],
      "text/plain": [
       "      Increased_Income  Gender  No_of_Records   Age      City  \\\n",
       "0                    0     0.0              3  28.0  0.769859   \n",
       "1                    0     0.0              2  31.0  0.684190   \n",
       "2                    0     0.0              5  43.0  0.816064   \n",
       "3                    0     0.0              3  29.0  0.706553   \n",
       "4                    0     1.0              5  31.0  0.702829   \n",
       "...                ...     ...            ...   ...       ...   \n",
       "2376                 0     0.0             24  34.0  0.698531   \n",
       "2377                 0     1.0              3  34.0  0.706553   \n",
       "2378                 0     0.0              9  45.0  0.570044   \n",
       "2379                 0     1.0              6  28.0  0.730263   \n",
       "2380                 0     0.0              7  30.0  0.674162   \n",
       "\n",
       "      Education_Level   Income  Joining_Designation  Grade  \\\n",
       "0                   2  57387.0                  1.0    1.0   \n",
       "1                   2  67016.0                  2.0    2.0   \n",
       "2                   2  65603.0                  2.0    2.0   \n",
       "3                   0  46368.0                  1.0    1.0   \n",
       "4                   1  78728.0                  3.0    3.0   \n",
       "...               ...      ...                  ...    ...   \n",
       "2376                0  82815.0                  2.0    3.0   \n",
       "2377                0  12105.0                  1.0    1.0   \n",
       "2378                0  35370.0                  2.0    2.0   \n",
       "2379                2  69498.0                  1.0    1.0   \n",
       "2380                2  70254.0                  2.0    2.0   \n",
       "\n",
       "      Total_Business_Value  Quarterly_Rating  Churn  joining_Year  \\\n",
       "0                  1715580               2.0      1          2018   \n",
       "1                        0               1.0      0          2020   \n",
       "2                   350000               1.0      1          2019   \n",
       "3                   120360               1.0      1          2019   \n",
       "4                  1265000               2.0      0          2020   \n",
       "...                    ...               ...    ...           ...   \n",
       "2376              21748820               3.0      0          2015   \n",
       "2377                     0               1.0      1          2020   \n",
       "2378               2815090               2.0      1          2018   \n",
       "2379                977830               2.0      1          2018   \n",
       "2380               2298240               2.0      0          2020   \n",
       "\n",
       "      Quarterly_Rating_increased  \n",
       "0                              0  \n",
       "1                              0  \n",
       "2                              0  \n",
       "3                              0  \n",
       "4                              1  \n",
       "...                          ...  \n",
       "2376                           1  \n",
       "2377                           0  \n",
       "2378                           0  \n",
       "2379                           0  \n",
       "2380                           0  \n",
       "\n",
       "[2381 rows x 14 columns]"
      ]
     },
     "execution_count": 70,
     "metadata": {},
     "output_type": "execute_result"
    }
   ],
   "source": [
    "Mdata"
   ]
  },
  {
   "cell_type": "code",
   "execution_count": 71,
   "id": "95eb71a9",
   "metadata": {
    "tags": []
   },
   "outputs": [],
   "source": [
    "# Mdata.drop([\"No_of_Records\"], axis = 1 , inplace= True)"
   ]
  },
  {
   "cell_type": "code",
   "execution_count": 72,
   "id": "d318470c",
   "metadata": {
    "tags": []
   },
   "outputs": [
    {
     "data": {
      "text/plain": [
       "<Axes: >"
      ]
     },
     "execution_count": 72,
     "metadata": {},
     "output_type": "execute_result"
    },
    {
     "data": {
      "image/png": "[encoded data removed]",
      "text/plain": [
       "<Figure size 1500x1500 with 2 Axes>"
      ]
     },
     "metadata": {},
     "output_type": "display_data"
    }
   ],
   "source": [
    "plt.figure(figsize=(15, 15))\n",
    "sns.heatmap(Mdata.corr(),annot=True, cmap=\"RdYlGn\", annot_kws={\"size\":10})"
   ]
  },
  {
   "cell_type": "code",
   "execution_count": 73,
   "id": "eb3334da",
   "metadata": {
    "tags": []
   },
   "outputs": [],
   "source": [
    "X = Mdata.drop([\"Churn\"],axis = 1)\n",
    "y = Mdata[\"Churn\"]"
   ]
  },
  {
   "cell_type": "markdown",
   "id": "b4186771",
   "metadata": {},
   "source": [
    "## KNNImputer"
   ]
  },
  {
   "cell_type": "code",
   "execution_count": 74,
   "id": "58a213b9",
   "metadata": {
    "tags": []
   },
   "outputs": [],
   "source": [
    "import numpy as np\n",
    "from sklearn.impute import KNNImputer\n",
    "\n",
    "imputer = KNNImputer(n_neighbors=5)\n",
    "\n"
   ]
  },
  {
   "cell_type": "code",
   "execution_count": 75,
   "id": "92e9361c",
   "metadata": {
    "tags": []
   },
   "outputs": [],
   "source": [
    "X = pd.DataFrame(imputer.fit_transform(X),columns=X.columns)"
   ]
  },
  {
   "cell_type": "code",
   "execution_count": 76,
   "id": "ee1b7947",
   "metadata": {
    "tags": []
   },
   "outputs": [
    {
     "data": {
      "text/html": [
       "<div>\n",
       "<style scoped>\n",
       "    .dataframe tbody tr th:only-of-type {\n",
       "        vertical-align: middle;\n",
       "    }\n",
       "\n",
       "    .dataframe tbody tr th {\n",
       "        vertical-align: top;\n",
       "    }\n",
       "\n",
       "    .dataframe thead th {\n",
       "        text-align: right;\n",
       "    }\n",
       "</style>\n",
       "<table border=\"1\" class=\"dataframe\">\n",
       "  <thead>\n",
       "    <tr style=\"text-align: right;\">\n",
       "      <th></th>\n",
       "      <th>Increased_Income</th>\n",
       "      <th>Gender</th>\n",
       "      <th>No_of_Records</th>\n",
       "      <th>Age</th>\n",
       "      <th>City</th>\n",
       "      <th>Education_Level</th>\n",
       "      <th>Income</th>\n",
       "      <th>Joining_Designation</th>\n",
       "      <th>Grade</th>\n",
       "      <th>Total_Business_Value</th>\n",
       "      <th>Quarterly_Rating</th>\n",
       "      <th>joining_Year</th>\n",
       "      <th>Quarterly_Rating_increased</th>\n",
       "    </tr>\n",
       "  </thead>\n",
       "  <tbody>\n",
       "    <tr>\n",
       "      <th>0</th>\n",
       "      <td>0.0</td>\n",
       "      <td>0.0</td>\n",
       "      <td>3.0</td>\n",
       "      <td>28.0</td>\n",
       "      <td>0.769859</td>\n",
       "      <td>2.0</td>\n",
       "      <td>57387.0</td>\n",
       "      <td>1.0</td>\n",
       "      <td>1.0</td>\n",
       "      <td>1715580.0</td>\n",
       "      <td>2.0</td>\n",
       "      <td>2018.0</td>\n",
       "      <td>0.0</td>\n",
       "    </tr>\n",
       "    <tr>\n",
       "      <th>1</th>\n",
       "      <td>0.0</td>\n",
       "      <td>0.0</td>\n",
       "      <td>2.0</td>\n",
       "      <td>31.0</td>\n",
       "      <td>0.684190</td>\n",
       "      <td>2.0</td>\n",
       "      <td>67016.0</td>\n",
       "      <td>2.0</td>\n",
       "      <td>2.0</td>\n",
       "      <td>0.0</td>\n",
       "      <td>1.0</td>\n",
       "      <td>2020.0</td>\n",
       "      <td>0.0</td>\n",
       "    </tr>\n",
       "    <tr>\n",
       "      <th>2</th>\n",
       "      <td>0.0</td>\n",
       "      <td>0.0</td>\n",
       "      <td>5.0</td>\n",
       "      <td>43.0</td>\n",
       "      <td>0.816064</td>\n",
       "      <td>2.0</td>\n",
       "      <td>65603.0</td>\n",
       "      <td>2.0</td>\n",
       "      <td>2.0</td>\n",
       "      <td>350000.0</td>\n",
       "      <td>1.0</td>\n",
       "      <td>2019.0</td>\n",
       "      <td>0.0</td>\n",
       "    </tr>\n",
       "    <tr>\n",
       "      <th>3</th>\n",
       "      <td>0.0</td>\n",
       "      <td>0.0</td>\n",
       "      <td>3.0</td>\n",
       "      <td>29.0</td>\n",
       "      <td>0.706553</td>\n",
       "      <td>0.0</td>\n",
       "      <td>46368.0</td>\n",
       "      <td>1.0</td>\n",
       "      <td>1.0</td>\n",
       "      <td>120360.0</td>\n",
       "      <td>1.0</td>\n",
       "      <td>2019.0</td>\n",
       "      <td>0.0</td>\n",
       "    </tr>\n",
       "    <tr>\n",
       "      <th>4</th>\n",
       "      <td>0.0</td>\n",
       "      <td>1.0</td>\n",
       "      <td>5.0</td>\n",
       "      <td>31.0</td>\n",
       "      <td>0.702829</td>\n",
       "      <td>1.0</td>\n",
       "      <td>78728.0</td>\n",
       "      <td>3.0</td>\n",
       "      <td>3.0</td>\n",
       "      <td>1265000.0</td>\n",
       "      <td>2.0</td>\n",
       "      <td>2020.0</td>\n",
       "      <td>1.0</td>\n",
       "    </tr>\n",
       "    <tr>\n",
       "      <th>...</th>\n",
       "      <td>...</td>\n",
       "      <td>...</td>\n",
       "      <td>...</td>\n",
       "      <td>...</td>\n",
       "      <td>...</td>\n",
       "      <td>...</td>\n",
       "      <td>...</td>\n",
       "      <td>...</td>\n",
       "      <td>...</td>\n",
       "      <td>...</td>\n",
       "      <td>...</td>\n",
       "      <td>...</td>\n",
       "      <td>...</td>\n",
       "    </tr>\n",
       "    <tr>\n",
       "      <th>2376</th>\n",
       "      <td>0.0</td>\n",
       "      <td>0.0</td>\n",
       "      <td>24.0</td>\n",
       "      <td>34.0</td>\n",
       "      <td>0.698531</td>\n",
       "      <td>0.0</td>\n",
       "      <td>82815.0</td>\n",
       "      <td>2.0</td>\n",
       "      <td>3.0</td>\n",
       "      <td>21748820.0</td>\n",
       "      <td>3.0</td>\n",
       "      <td>2015.0</td>\n",
       "      <td>1.0</td>\n",
       "    </tr>\n",
       "    <tr>\n",
       "      <th>2377</th>\n",
       "      <td>0.0</td>\n",
       "      <td>1.0</td>\n",
       "      <td>3.0</td>\n",
       "      <td>34.0</td>\n",
       "      <td>0.706553</td>\n",
       "      <td>0.0</td>\n",
       "      <td>12105.0</td>\n",
       "      <td>1.0</td>\n",
       "      <td>1.0</td>\n",
       "      <td>0.0</td>\n",
       "      <td>1.0</td>\n",
       "      <td>2020.0</td>\n",
       "      <td>0.0</td>\n",
       "    </tr>\n",
       "    <tr>\n",
       "      <th>2378</th>\n",
       "      <td>0.0</td>\n",
       "      <td>0.0</td>\n",
       "      <td>9.0</td>\n",
       "      <td>45.0</td>\n",
       "      <td>0.570044</td>\n",
       "      <td>0.0</td>\n",
       "      <td>35370.0</td>\n",
       "      <td>2.0</td>\n",
       "      <td>2.0</td>\n",
       "      <td>2815090.0</td>\n",
       "      <td>2.0</td>\n",
       "      <td>2018.0</td>\n",
       "      <td>0.0</td>\n",
       "    </tr>\n",
       "    <tr>\n",
       "      <th>2379</th>\n",
       "      <td>0.0</td>\n",
       "      <td>1.0</td>\n",
       "      <td>6.0</td>\n",
       "      <td>28.0</td>\n",
       "      <td>0.730263</td>\n",
       "      <td>2.0</td>\n",
       "      <td>69498.0</td>\n",
       "      <td>1.0</td>\n",
       "      <td>1.0</td>\n",
       "      <td>977830.0</td>\n",
       "      <td>2.0</td>\n",
       "      <td>2018.0</td>\n",
       "      <td>0.0</td>\n",
       "    </tr>\n",
       "    <tr>\n",
       "      <th>2380</th>\n",
       "      <td>0.0</td>\n",
       "      <td>0.0</td>\n",
       "      <td>7.0</td>\n",
       "      <td>30.0</td>\n",
       "      <td>0.674162</td>\n",
       "      <td>2.0</td>\n",
       "      <td>70254.0</td>\n",
       "      <td>2.0</td>\n",
       "      <td>2.0</td>\n",
       "      <td>2298240.0</td>\n",
       "      <td>2.0</td>\n",
       "      <td>2020.0</td>\n",
       "      <td>0.0</td>\n",
       "    </tr>\n",
       "  </tbody>\n",
       "</table>\n",
       "<p>2381 rows × 13 columns</p>\n",
       "</div>"
      ],
      "text/plain": [
       "      Increased_Income  Gender  No_of_Records   Age      City  \\\n",
       "0                  0.0     0.0            3.0  28.0  0.769859   \n",
       "1                  0.0     0.0            2.0  31.0  0.684190   \n",
       "2                  0.0     0.0            5.0  43.0  0.816064   \n",
       "3                  0.0     0.0            3.0  29.0  0.706553   \n",
       "4                  0.0     1.0            5.0  31.0  0.702829   \n",
       "...                ...     ...            ...   ...       ...   \n",
       "2376               0.0     0.0           24.0  34.0  0.698531   \n",
       "2377               0.0     1.0            3.0  34.0  0.706553   \n",
       "2378               0.0     0.0            9.0  45.0  0.570044   \n",
       "2379               0.0     1.0            6.0  28.0  0.730263   \n",
       "2380               0.0     0.0            7.0  30.0  0.674162   \n",
       "\n",
       "      Education_Level   Income  Joining_Designation  Grade  \\\n",
       "0                 2.0  57387.0                  1.0    1.0   \n",
       "1                 2.0  67016.0                  2.0    2.0   \n",
       "2                 2.0  65603.0                  2.0    2.0   \n",
       "3                 0.0  46368.0                  1.0    1.0   \n",
       "4                 1.0  78728.0                  3.0    3.0   \n",
       "...               ...      ...                  ...    ...   \n",
       "2376              0.0  82815.0                  2.0    3.0   \n",
       "2377              0.0  12105.0                  1.0    1.0   \n",
       "2378              0.0  35370.0                  2.0    2.0   \n",
       "2379              2.0  69498.0                  1.0    1.0   \n",
       "2380              2.0  70254.0                  2.0    2.0   \n",
       "\n",
       "      Total_Business_Value  Quarterly_Rating  joining_Year  \\\n",
       "0                1715580.0               2.0        2018.0   \n",
       "1                      0.0               1.0        2020.0   \n",
       "2                 350000.0               1.0        2019.0   \n",
       "3                 120360.0               1.0        2019.0   \n",
       "4                1265000.0               2.0        2020.0   \n",
       "...                    ...               ...           ...   \n",
       "2376            21748820.0               3.0        2015.0   \n",
       "2377                   0.0               1.0        2020.0   \n",
       "2378             2815090.0               2.0        2018.0   \n",
       "2379              977830.0               2.0        2018.0   \n",
       "2380             2298240.0               2.0        2020.0   \n",
       "\n",
       "      Quarterly_Rating_increased  \n",
       "0                            0.0  \n",
       "1                            0.0  \n",
       "2                            0.0  \n",
       "3                            0.0  \n",
       "4                            1.0  \n",
       "...                          ...  \n",
       "2376                         1.0  \n",
       "2377                         0.0  \n",
       "2378                         0.0  \n",
       "2379                         0.0  \n",
       "2380                         0.0  \n",
       "\n",
       "[2381 rows x 13 columns]"
      ]
     },
     "execution_count": 76,
     "metadata": {},
     "output_type": "execute_result"
    }
   ],
   "source": [
    "X"
   ]
  },
  {
   "cell_type": "code",
   "execution_count": 77,
   "id": "880a8da2",
   "metadata": {
    "tags": []
   },
   "outputs": [
    {
     "data": {
      "text/html": [
       "<div>\n",
       "<style scoped>\n",
       "    .dataframe tbody tr th:only-of-type {\n",
       "        vertical-align: middle;\n",
       "    }\n",
       "\n",
       "    .dataframe tbody tr th {\n",
       "        vertical-align: top;\n",
       "    }\n",
       "\n",
       "    .dataframe thead th {\n",
       "        text-align: right;\n",
       "    }\n",
       "</style>\n",
       "<table border=\"1\" class=\"dataframe\">\n",
       "  <thead>\n",
       "    <tr style=\"text-align: right;\">\n",
       "      <th></th>\n",
       "      <th>Increased_Income</th>\n",
       "      <th>Gender</th>\n",
       "      <th>No_of_Records</th>\n",
       "      <th>Age</th>\n",
       "      <th>City</th>\n",
       "      <th>Education_Level</th>\n",
       "      <th>Income</th>\n",
       "      <th>Joining_Designation</th>\n",
       "      <th>Grade</th>\n",
       "      <th>Total_Business_Value</th>\n",
       "      <th>Quarterly_Rating</th>\n",
       "      <th>joining_Year</th>\n",
       "      <th>Quarterly_Rating_increased</th>\n",
       "    </tr>\n",
       "  </thead>\n",
       "  <tbody>\n",
       "    <tr>\n",
       "      <th>count</th>\n",
       "      <td>2381.000000</td>\n",
       "      <td>2381.000000</td>\n",
       "      <td>2381.00000</td>\n",
       "      <td>2381.000000</td>\n",
       "      <td>2381.000000</td>\n",
       "      <td>2381.00000</td>\n",
       "      <td>2381.000000</td>\n",
       "      <td>2381.000000</td>\n",
       "      <td>2381.000000</td>\n",
       "      <td>2.381000e+03</td>\n",
       "      <td>2381.000000</td>\n",
       "      <td>2381.000000</td>\n",
       "      <td>2381.000000</td>\n",
       "    </tr>\n",
       "    <tr>\n",
       "      <th>mean</th>\n",
       "      <td>0.018480</td>\n",
       "      <td>0.401512</td>\n",
       "      <td>8.02352</td>\n",
       "      <td>33.663167</td>\n",
       "      <td>0.678662</td>\n",
       "      <td>1.00756</td>\n",
       "      <td>59232.460484</td>\n",
       "      <td>1.820244</td>\n",
       "      <td>2.078538</td>\n",
       "      <td>4.586742e+06</td>\n",
       "      <td>1.573289</td>\n",
       "      <td>2018.536329</td>\n",
       "      <td>0.228895</td>\n",
       "    </tr>\n",
       "    <tr>\n",
       "      <th>std</th>\n",
       "      <td>0.134706</td>\n",
       "      <td>0.490307</td>\n",
       "      <td>6.78359</td>\n",
       "      <td>5.983375</td>\n",
       "      <td>0.065356</td>\n",
       "      <td>0.81629</td>\n",
       "      <td>28298.214012</td>\n",
       "      <td>0.841433</td>\n",
       "      <td>0.931321</td>\n",
       "      <td>9.127115e+06</td>\n",
       "      <td>0.745987</td>\n",
       "      <td>1.609597</td>\n",
       "      <td>0.420210</td>\n",
       "    </tr>\n",
       "    <tr>\n",
       "      <th>min</th>\n",
       "      <td>0.000000</td>\n",
       "      <td>0.000000</td>\n",
       "      <td>1.00000</td>\n",
       "      <td>21.000000</td>\n",
       "      <td>0.531324</td>\n",
       "      <td>0.00000</td>\n",
       "      <td>10747.000000</td>\n",
       "      <td>1.000000</td>\n",
       "      <td>1.000000</td>\n",
       "      <td>-1.385530e+06</td>\n",
       "      <td>1.000000</td>\n",
       "      <td>2013.000000</td>\n",
       "      <td>0.000000</td>\n",
       "    </tr>\n",
       "    <tr>\n",
       "      <th>25%</th>\n",
       "      <td>0.000000</td>\n",
       "      <td>0.000000</td>\n",
       "      <td>3.00000</td>\n",
       "      <td>29.000000</td>\n",
       "      <td>0.634237</td>\n",
       "      <td>0.00000</td>\n",
       "      <td>39104.000000</td>\n",
       "      <td>1.000000</td>\n",
       "      <td>1.000000</td>\n",
       "      <td>0.000000e+00</td>\n",
       "      <td>1.000000</td>\n",
       "      <td>2018.000000</td>\n",
       "      <td>0.000000</td>\n",
       "    </tr>\n",
       "    <tr>\n",
       "      <th>50%</th>\n",
       "      <td>0.000000</td>\n",
       "      <td>0.000000</td>\n",
       "      <td>5.00000</td>\n",
       "      <td>33.000000</td>\n",
       "      <td>0.698531</td>\n",
       "      <td>1.00000</td>\n",
       "      <td>55285.000000</td>\n",
       "      <td>2.000000</td>\n",
       "      <td>2.000000</td>\n",
       "      <td>8.176800e+05</td>\n",
       "      <td>1.000000</td>\n",
       "      <td>2019.000000</td>\n",
       "      <td>0.000000</td>\n",
       "    </tr>\n",
       "    <tr>\n",
       "      <th>75%</th>\n",
       "      <td>0.000000</td>\n",
       "      <td>1.000000</td>\n",
       "      <td>10.00000</td>\n",
       "      <td>37.000000</td>\n",
       "      <td>0.719430</td>\n",
       "      <td>2.00000</td>\n",
       "      <td>75835.000000</td>\n",
       "      <td>2.000000</td>\n",
       "      <td>3.000000</td>\n",
       "      <td>4.173650e+06</td>\n",
       "      <td>2.000000</td>\n",
       "      <td>2020.000000</td>\n",
       "      <td>0.000000</td>\n",
       "    </tr>\n",
       "    <tr>\n",
       "      <th>max</th>\n",
       "      <td>1.000000</td>\n",
       "      <td>1.000000</td>\n",
       "      <td>24.00000</td>\n",
       "      <td>58.000000</td>\n",
       "      <td>0.816064</td>\n",
       "      <td>2.00000</td>\n",
       "      <td>188418.000000</td>\n",
       "      <td>5.000000</td>\n",
       "      <td>5.000000</td>\n",
       "      <td>9.533106e+07</td>\n",
       "      <td>4.000000</td>\n",
       "      <td>2020.000000</td>\n",
       "      <td>1.000000</td>\n",
       "    </tr>\n",
       "  </tbody>\n",
       "</table>\n",
       "</div>"
      ],
      "text/plain": [
       "       Increased_Income       Gender  No_of_Records          Age         City  \\\n",
       "count       2381.000000  2381.000000     2381.00000  2381.000000  2381.000000   \n",
       "mean           0.018480     0.401512        8.02352    33.663167     0.678662   \n",
       "std            0.134706     0.490307        6.78359     5.983375     0.065356   \n",
       "min            0.000000     0.000000        1.00000    21.000000     0.531324   \n",
       "25%            0.000000     0.000000        3.00000    29.000000     0.634237   \n",
       "50%            0.000000     0.000000        5.00000    33.000000     0.698531   \n",
       "75%            0.000000     1.000000       10.00000    37.000000     0.719430   \n",
       "max            1.000000     1.000000       24.00000    58.000000     0.816064   \n",
       "\n",
       "       Education_Level         Income  Joining_Designation        Grade  \\\n",
       "count       2381.00000    2381.000000          2381.000000  2381.000000   \n",
       "mean           1.00756   59232.460484             1.820244     2.078538   \n",
       "std            0.81629   28298.214012             0.841433     0.931321   \n",
       "min            0.00000   10747.000000             1.000000     1.000000   \n",
       "25%            0.00000   39104.000000             1.000000     1.000000   \n",
       "50%            1.00000   55285.000000             2.000000     2.000000   \n",
       "75%            2.00000   75835.000000             2.000000     3.000000   \n",
       "max            2.00000  188418.000000             5.000000     5.000000   \n",
       "\n",
       "       Total_Business_Value  Quarterly_Rating  joining_Year  \\\n",
       "count          2.381000e+03       2381.000000   2381.000000   \n",
       "mean           4.586742e+06          1.573289   2018.536329   \n",
       "std            9.127115e+06          0.745987      1.609597   \n",
       "min           -1.385530e+06          1.000000   2013.000000   \n",
       "25%            0.000000e+00          1.000000   2018.000000   \n",
       "50%            8.176800e+05          1.000000   2019.000000   \n",
       "75%            4.173650e+06          2.000000   2020.000000   \n",
       "max            9.533106e+07          4.000000   2020.000000   \n",
       "\n",
       "       Quarterly_Rating_increased  \n",
       "count                 2381.000000  \n",
       "mean                     0.228895  \n",
       "std                      0.420210  \n",
       "min                      0.000000  \n",
       "25%                      0.000000  \n",
       "50%                      0.000000  \n",
       "75%                      0.000000  \n",
       "max                      1.000000  "
      ]
     },
     "execution_count": 77,
     "metadata": {},
     "output_type": "execute_result"
    }
   ],
   "source": [
    "X.describe()"
   ]
  },
  {
   "cell_type": "markdown",
   "id": "edd8b70b",
   "metadata": {},
   "source": [
    "## train_test_split"
   ]
  },
  {
   "cell_type": "code",
   "execution_count": 78,
   "id": "a389e651",
   "metadata": {
    "tags": []
   },
   "outputs": [],
   "source": [
    "from sklearn.model_selection import train_test_split\n",
    "\n",
    "X_train , X_test, y_train ,y_test = train_test_split(X,y,\n",
    "                                                    random_state=5,\n",
    "                                                    test_size=0.2)"
   ]
  },
  {
   "cell_type": "code",
   "execution_count": 79,
   "id": "12e2942d",
   "metadata": {
    "tags": []
   },
   "outputs": [
    {
     "data": {
      "text/plain": [
       "Churn\n",
       "1    1616\n",
       "0     765\n",
       "Name: count, dtype: int64"
      ]
     },
     "execution_count": 79,
     "metadata": {},
     "output_type": "execute_result"
    }
   ],
   "source": [
    "y.value_counts()"
   ]
  },
  {
   "cell_type": "code",
   "execution_count": 80,
   "id": "7fe3e183",
   "metadata": {
    "tags": []
   },
   "outputs": [
    {
     "data": {
      "text/plain": [
       "2381"
      ]
     },
     "execution_count": 80,
     "metadata": {},
     "output_type": "execute_result"
    }
   ],
   "source": [
    "765 + 1616"
   ]
  },
  {
   "cell_type": "markdown",
   "id": "2c7f7e8e",
   "metadata": {},
   "source": [
    "## StandardScaler"
   ]
  },
  {
   "cell_type": "code",
   "execution_count": 81,
   "id": "f4d8f0b5",
   "metadata": {
    "tags": []
   },
   "outputs": [],
   "source": [
    "from sklearn.preprocessing import StandardScaler"
   ]
  },
  {
   "cell_type": "code",
   "execution_count": 82,
   "id": "8c2eb41f",
   "metadata": {
    "tags": []
   },
   "outputs": [],
   "source": [
    "scaler = StandardScaler()"
   ]
  },
  {
   "cell_type": "code",
   "execution_count": 83,
   "id": "8d43e322",
   "metadata": {
    "tags": []
   },
   "outputs": [
    {
     "data": {
      "text/html": [
       "<style>#sk-container-id-1 {color: black;}#sk-container-id-1 pre{padding: 0;}#sk-container-id-1 div.sk-toggleable {background-color: white;}#sk-container-id-1 label.sk-toggleable__label {cursor: pointer;display: block;width: 100%;margin-bottom: 0;padding: 0.3em;box-sizing: border-box;text-align: center;}#sk-container-id-1 label.sk-toggleable__label-arrow:before {content: \"▸\";float: left;margin-right: 0.25em;color: #696969;}#sk-container-id-1 label.sk-toggleable__label-arrow:hover:before {color: black;}#sk-container-id-1 div.sk-estimator:hover label.sk-toggleable__label-arrow:before {color: black;}#sk-container-id-1 div.sk-toggleable__content {max-height: 0;max-width: 0;overflow: hidden;text-align: left;background-color: #f0f8ff;}#sk-container-id-1 div.sk-toggleable__content pre {margin: 0.2em;color: black;border-radius: 0.25em;background-color: #f0f8ff;}#sk-container-id-1 input.sk-toggleable__control:checked~div.sk-toggleable__content {max-height: 200px;max-width: 100%;overflow: auto;}#sk-container-id-1 input.sk-toggleable__control:checked~label.sk-toggleable__label-arrow:before {content: \"▾\";}#sk-container-id-1 div.sk-estimator input.sk-toggleable__control:checked~label.sk-toggleable__label {background-color: #d4ebff;}#sk-container-id-1 div.sk-label input.sk-toggleable__control:checked~label.sk-toggleable__label {background-color: #d4ebff;}#sk-container-id-1 input.sk-hidden--visually {border: 0;clip: rect(1px 1px 1px 1px);clip: rect(1px, 1px, 1px, 1px);height: 1px;margin: -1px;overflow: hidden;padding: 0;position: absolute;width: 1px;}#sk-container-id-1 div.sk-estimator {font-family: monospace;background-color: #f0f8ff;border: 1px dotted black;border-radius: 0.25em;box-sizing: border-box;margin-bottom: 0.5em;}#sk-container-id-1 div.sk-estimator:hover {background-color: #d4ebff;}#sk-container-id-1 div.sk-parallel-item::after {content: \"\";width: 100%;border-bottom: 1px solid gray;flex-grow: 1;}#sk-container-id-1 div.sk-label:hover label.sk-toggleable__label {background-color: #d4ebff;}#sk-container-id-1 div.sk-serial::before {content: \"\";position: absolute;border-left: 1px solid gray;box-sizing: border-box;top: 0;bottom: 0;left: 50%;z-index: 0;}#sk-container-id-1 div.sk-serial {display: flex;flex-direction: column;align-items: center;background-color: white;padding-right: 0.2em;padding-left: 0.2em;position: relative;}#sk-container-id-1 div.sk-item {position: relative;z-index: 1;}#sk-container-id-1 div.sk-parallel {display: flex;align-items: stretch;justify-content: center;background-color: white;position: relative;}#sk-container-id-1 div.sk-item::before, #sk-container-id-1 div.sk-parallel-item::before {content: \"\";position: absolute;border-left: 1px solid gray;box-sizing: border-box;top: 0;bottom: 0;left: 50%;z-index: -1;}#sk-container-id-1 div.sk-parallel-item {display: flex;flex-direction: column;z-index: 1;position: relative;background-color: white;}#sk-container-id-1 div.sk-parallel-item:first-child::after {align-self: flex-end;width: 50%;}#sk-container-id-1 div.sk-parallel-item:last-child::after {align-self: flex-start;width: 50%;}#sk-container-id-1 div.sk-parallel-item:only-child::after {width: 0;}#sk-container-id-1 div.sk-dashed-wrapped {border: 1px dashed gray;margin: 0 0.4em 0.5em 0.4em;box-sizing: border-box;padding-bottom: 0.4em;background-color: white;}#sk-container-id-1 div.sk-label label {font-family: monospace;font-weight: bold;display: inline-block;line-height: 1.2em;}#sk-container-id-1 div.sk-label-container {text-align: center;}#sk-container-id-1 div.sk-container {/* jupyter's `normalize.less` sets `[hidden] { display: none; }` but bootstrap.min.css set `[hidden] { display: none !important; }` so we also need the `!important` here to be able to override the default hidden behavior on the sphinx rendered scikit-learn.org. See: https://github.com/scikit-learn/scikit-learn/issues/21755 */display: inline-block !important;position: relative;}#sk-container-id-1 div.sk-text-repr-fallback {display: none;}</style><div id=\"sk-container-id-1\" class=\"sk-top-container\"><div class=\"sk-text-repr-fallback\"><pre>StandardScaler()</pre><b>In a Jupyter environment, please rerun this cell to show the HTML representation or trust the notebook. <br />On GitHub, the HTML representation is unable to render, please try loading this page with nbviewer.org.</b></div><div class=\"sk-container\" hidden><div class=\"sk-item\"><div class=\"sk-estimator sk-toggleable\"><input class=\"sk-toggleable__control sk-hidden--visually\" id=\"sk-estimator-id-1\" type=\"checkbox\" checked><label for=\"sk-estimator-id-1\" class=\"sk-toggleable__label sk-toggleable__label-arrow\">StandardScaler</label><div class=\"sk-toggleable__content\"><pre>StandardScaler()</pre></div></div></div></div></div>"
      ],
      "text/plain": [
       "StandardScaler()"
      ]
     },
     "execution_count": 83,
     "metadata": {},
     "output_type": "execute_result"
    }
   ],
   "source": [
    "scaler.fit(X_train)\n"
   ]
  },
  {
   "cell_type": "code",
   "execution_count": 84,
   "id": "ab8e68d0",
   "metadata": {
    "tags": []
   },
   "outputs": [],
   "source": [
    "X_train = scaler.transform(X_train) \n",
    "X_test =  scaler.transform(X_test)"
   ]
  },
  {
   "cell_type": "code",
   "execution_count": null,
   "id": "c3e279fa",
   "metadata": {},
   "outputs": [],
   "source": []
  },
  {
   "cell_type": "markdown",
   "id": "964fa057",
   "metadata": {},
   "source": [
    "## RandomForestClassifier"
   ]
  },
  {
   "cell_type": "code",
   "execution_count": 85,
   "id": "d90677d1",
   "metadata": {
    "tags": []
   },
   "outputs": [],
   "source": [
    "from sklearn.ensemble import RandomForestClassifier"
   ]
  },
  {
   "cell_type": "code",
   "execution_count": 86,
   "id": "c38080c2",
   "metadata": {
    "tags": []
   },
   "outputs": [],
   "source": [
    "RF = RandomForestClassifier(n_estimators=100,\n",
    "    criterion='entropy',\n",
    "    max_depth=10,\n",
    "    min_samples_split=2,\n",
    "    min_samples_leaf=1,\n",
    "    min_weight_fraction_leaf=0.0,\n",
    "    max_features='sqrt',\n",
    "    max_leaf_nodes=None,\n",
    "    min_impurity_decrease=0.0,\n",
    "    bootstrap=True,\n",
    "    oob_score=False,\n",
    "    n_jobs=None,\n",
    "    random_state=None,\n",
    "    verbose=0,\n",
    "    warm_start=False,\n",
    "    class_weight=\"balanced\",\n",
    "    ccp_alpha=0.0085,\n",
    "    max_samples=None,)"
   ]
  },
  {
   "cell_type": "code",
   "execution_count": 87,
   "id": "3e7d1e54",
   "metadata": {
    "tags": []
   },
   "outputs": [
    {
     "data": {
      "text/html": [
       "<style>#sk-container-id-2 {color: black;}#sk-container-id-2 pre{padding: 0;}#sk-container-id-2 div.sk-toggleable {background-color: white;}#sk-container-id-2 label.sk-toggleable__label {cursor: pointer;display: block;width: 100%;margin-bottom: 0;padding: 0.3em;box-sizing: border-box;text-align: center;}#sk-container-id-2 label.sk-toggleable__label-arrow:before {content: \"▸\";float: left;margin-right: 0.25em;color: #696969;}#sk-container-id-2 label.sk-toggleable__label-arrow:hover:before {color: black;}#sk-container-id-2 div.sk-estimator:hover label.sk-toggleable__label-arrow:before {color: black;}#sk-container-id-2 div.sk-toggleable__content {max-height: 0;max-width: 0;overflow: hidden;text-align: left;background-color: #f0f8ff;}#sk-container-id-2 div.sk-toggleable__content pre {margin: 0.2em;color: black;border-radius: 0.25em;background-color: #f0f8ff;}#sk-container-id-2 input.sk-toggleable__control:checked~div.sk-toggleable__content {max-height: 200px;max-width: 100%;overflow: auto;}#sk-container-id-2 input.sk-toggleable__control:checked~label.sk-toggleable__label-arrow:before {content: \"▾\";}#sk-container-id-2 div.sk-estimator input.sk-toggleable__control:checked~label.sk-toggleable__label {background-color: #d4ebff;}#sk-container-id-2 div.sk-label input.sk-toggleable__control:checked~label.sk-toggleable__label {background-color: #d4ebff;}#sk-container-id-2 input.sk-hidden--visually {border: 0;clip: rect(1px 1px 1px 1px);clip: rect(1px, 1px, 1px, 1px);height: 1px;margin: -1px;overflow: hidden;padding: 0;position: absolute;width: 1px;}#sk-container-id-2 div.sk-estimator {font-family: monospace;background-color: #f0f8ff;border: 1px dotted black;border-radius: 0.25em;box-sizing: border-box;margin-bottom: 0.5em;}#sk-container-id-2 div.sk-estimator:hover {background-color: #d4ebff;}#sk-container-id-2 div.sk-parallel-item::after {content: \"\";width: 100%;border-bottom: 1px solid gray;flex-grow: 1;}#sk-container-id-2 div.sk-label:hover label.sk-toggleable__label {background-color: #d4ebff;}#sk-container-id-2 div.sk-serial::before {content: \"\";position: absolute;border-left: 1px solid gray;box-sizing: border-box;top: 0;bottom: 0;left: 50%;z-index: 0;}#sk-container-id-2 div.sk-serial {display: flex;flex-direction: column;align-items: center;background-color: white;padding-right: 0.2em;padding-left: 0.2em;position: relative;}#sk-container-id-2 div.sk-item {position: relative;z-index: 1;}#sk-container-id-2 div.sk-parallel {display: flex;align-items: stretch;justify-content: center;background-color: white;position: relative;}#sk-container-id-2 div.sk-item::before, #sk-container-id-2 div.sk-parallel-item::before {content: \"\";position: absolute;border-left: 1px solid gray;box-sizing: border-box;top: 0;bottom: 0;left: 50%;z-index: -1;}#sk-container-id-2 div.sk-parallel-item {display: flex;flex-direction: column;z-index: 1;position: relative;background-color: white;}#sk-container-id-2 div.sk-parallel-item:first-child::after {align-self: flex-end;width: 50%;}#sk-container-id-2 div.sk-parallel-item:last-child::after {align-self: flex-start;width: 50%;}#sk-container-id-2 div.sk-parallel-item:only-child::after {width: 0;}#sk-container-id-2 div.sk-dashed-wrapped {border: 1px dashed gray;margin: 0 0.4em 0.5em 0.4em;box-sizing: border-box;padding-bottom: 0.4em;background-color: white;}#sk-container-id-2 div.sk-label label {font-family: monospace;font-weight: bold;display: inline-block;line-height: 1.2em;}#sk-container-id-2 div.sk-label-container {text-align: center;}#sk-container-id-2 div.sk-container {/* jupyter's `normalize.less` sets `[hidden] { display: none; }` but bootstrap.min.css set `[hidden] { display: none !important; }` so we also need the `!important` here to be able to override the default hidden behavior on the sphinx rendered scikit-learn.org. See: https://github.com/scikit-learn/scikit-learn/issues/21755 */display: inline-block !important;position: relative;}#sk-container-id-2 div.sk-text-repr-fallback {display: none;}</style><div id=\"sk-container-id-2\" class=\"sk-top-container\"><div class=\"sk-text-repr-fallback\"><pre>RandomForestClassifier(ccp_alpha=0.0085, class_weight=&#x27;balanced&#x27;,\n",
       "                       criterion=&#x27;entropy&#x27;, max_depth=10)</pre><b>In a Jupyter environment, please rerun this cell to show the HTML representation or trust the notebook. <br />On GitHub, the HTML representation is unable to render, please try loading this page with nbviewer.org.</b></div><div class=\"sk-container\" hidden><div class=\"sk-item\"><div class=\"sk-estimator sk-toggleable\"><input class=\"sk-toggleable__control sk-hidden--visually\" id=\"sk-estimator-id-2\" type=\"checkbox\" checked><label for=\"sk-estimator-id-2\" class=\"sk-toggleable__label sk-toggleable__label-arrow\">RandomForestClassifier</label><div class=\"sk-toggleable__content\"><pre>RandomForestClassifier(ccp_alpha=0.0085, class_weight=&#x27;balanced&#x27;,\n",
       "                       criterion=&#x27;entropy&#x27;, max_depth=10)</pre></div></div></div></div></div>"
      ],
      "text/plain": [
       "RandomForestClassifier(ccp_alpha=0.0085, class_weight='balanced',\n",
       "                       criterion='entropy', max_depth=10)"
      ]
     },
     "execution_count": 87,
     "metadata": {},
     "output_type": "execute_result"
    }
   ],
   "source": [
    "RF.fit(X_train,y_train)"
   ]
  },
  {
   "cell_type": "code",
   "execution_count": 88,
   "id": "f75cf8d9",
   "metadata": {
    "tags": []
   },
   "outputs": [
    {
     "data": {
      "text/plain": [
       "(0.8571428571428571, 0.8616352201257862)"
      ]
     },
     "execution_count": 88,
     "metadata": {},
     "output_type": "execute_result"
    }
   ],
   "source": [
    "RF.score(X_train,y_train),RF.score(X_test,y_test)"
   ]
  },
  {
   "cell_type": "code",
   "execution_count": 89,
   "id": "b6cb5345",
   "metadata": {
    "tags": []
   },
   "outputs": [
    {
     "data": {
      "text/plain": [
       "array([0.00257681, 0.00046543, 0.28223717, 0.01553743, 0.01363866,\n",
       "       0.00098849, 0.02104094, 0.02750293, 0.01454233, 0.16364764,\n",
       "       0.08109249, 0.32994611, 0.04678358])"
      ]
     },
     "execution_count": 89,
     "metadata": {},
     "output_type": "execute_result"
    }
   ],
   "source": [
    "RF.feature_importances_"
   ]
  },
  {
   "cell_type": "code",
   "execution_count": 90,
   "id": "1f50266d",
   "metadata": {
    "tags": []
   },
   "outputs": [
    {
     "data": {
      "text/plain": [
       "Index(['Increased_Income', 'Gender', 'No_of_Records', 'Age', 'City',\n",
       "       'Education_Level', 'Income', 'Joining_Designation', 'Grade',\n",
       "       'Total_Business_Value', 'Quarterly_Rating', 'joining_Year',\n",
       "       'Quarterly_Rating_increased'],\n",
       "      dtype='object')"
      ]
     },
     "execution_count": 90,
     "metadata": {},
     "output_type": "execute_result"
    }
   ],
   "source": [
    "X.columns"
   ]
  },
  {
   "cell_type": "code",
   "execution_count": 91,
   "id": "a844a4b6",
   "metadata": {
    "tags": []
   },
   "outputs": [
    {
     "data": {
      "text/plain": [
       "<Axes: >"
      ]
     },
     "execution_count": 91,
     "metadata": {},
     "output_type": "execute_result"
    },
    {
     "data": {
      "image/png": "[encoded data removed]",
      "text/plain": [
       "<Figure size 640x480 with 1 Axes>"
      ]
     },
     "metadata": {},
     "output_type": "display_data"
    }
   ],
   "source": [
    "pd.DataFrame(data=RF.feature_importances_,\n",
    "            index=X.columns).plot(kind=\"bar\")"
   ]
  },
  {
   "cell_type": "code",
   "execution_count": 92,
   "id": "058ddb40",
   "metadata": {
    "tags": []
   },
   "outputs": [],
   "source": [
    "from sklearn.metrics import f1_score , precision_score, recall_score,confusion_matrix\n",
    "\n"
   ]
  },
  {
   "cell_type": "code",
   "execution_count": 93,
   "id": "0cc66f19",
   "metadata": {
    "tags": []
   },
   "outputs": [
    {
     "data": {
      "text/plain": [
       "array([[151,  11],\n",
       "       [ 55, 260]])"
      ]
     },
     "execution_count": 93,
     "metadata": {},
     "output_type": "execute_result"
    }
   ],
   "source": [
    "confusion_matrix(y_test,RF.predict(X_test) )"
   ]
  },
  {
   "cell_type": "code",
   "execution_count": 94,
   "id": "9df1be9f",
   "metadata": {
    "tags": []
   },
   "outputs": [
    {
     "data": {
      "text/plain": [
       "array([[ 562,   41],\n",
       "       [ 231, 1070]])"
      ]
     },
     "execution_count": 94,
     "metadata": {},
     "output_type": "execute_result"
    }
   ],
   "source": [
    "confusion_matrix(y_train,RF.predict(X_train) )"
   ]
  },
  {
   "cell_type": "code",
   "execution_count": 95,
   "id": "819ffe77",
   "metadata": {
    "tags": []
   },
   "outputs": [
    {
     "data": {
      "text/plain": [
       "(0.887372013651877, 0.8872305140961857)"
      ]
     },
     "execution_count": 95,
     "metadata": {},
     "output_type": "execute_result"
    }
   ],
   "source": [
    "f1_score(y_test,RF.predict(X_test)),f1_score(y_train,RF.predict(X_train))"
   ]
  },
  {
   "cell_type": "code",
   "execution_count": 96,
   "id": "b078d55c",
   "metadata": {
    "tags": []
   },
   "outputs": [
    {
     "data": {
      "text/plain": [
       "(0.959409594095941, 0.963096309630963)"
      ]
     },
     "execution_count": 96,
     "metadata": {},
     "output_type": "execute_result"
    }
   ],
   "source": [
    "precision_score(y_test,RF.predict(X_test)),precision_score(y_train,RF.predict(X_train))"
   ]
  },
  {
   "cell_type": "code",
   "execution_count": 97,
   "id": "bc90fbd0",
   "metadata": {
    "tags": []
   },
   "outputs": [
    {
     "data": {
      "text/plain": [
       "(0.8253968253968254, 0.8224442736356649)"
      ]
     },
     "execution_count": 97,
     "metadata": {},
     "output_type": "execute_result"
    }
   ],
   "source": [
    "recall_score(y_test,RF.predict(X_test)),recall_score(y_train,RF.predict(X_train))"
   ]
  },
  {
   "cell_type": "markdown",
   "id": "1fd9a7a1",
   "metadata": {},
   "source": [
    "## GridSearchCV - on RandomForestClassifier"
   ]
  },
  {
   "cell_type": "code",
   "execution_count": 98,
   "id": "4b9d16fe",
   "metadata": {
    "tags": []
   },
   "outputs": [],
   "source": [
    "from sklearn.model_selection import GridSearchCV\n",
    "from sklearn.ensemble import RandomForestClassifier\n",
    "\n",
    "parameters = {\"max_depth\":[7,10,15],\n",
    "             \"n_estimators\":[100,200,300,400],\n",
    "             \"max_features\":[4,7,10],\n",
    "             \"ccp_alpha\":[0.0005,0.00075,0.001]}\n",
    "\n",
    "RFC = RandomForestClassifier()\n",
    "grid_search = GridSearchCV(\n",
    "    estimator = RFC,\n",
    "    param_grid = parameters,\n",
    "    scoring = \"accuracy\",\n",
    "    n_jobs = -1,\n",
    "    refit=True,                   # need not to train again after grid search\n",
    "    cv=3,\n",
    "    pre_dispatch='2*n_jobs',\n",
    "    return_train_score=False)\n"
   ]
  },
  {
   "cell_type": "code",
   "execution_count": 99,
   "id": "902dad8b",
   "metadata": {
    "tags": []
   },
   "outputs": [
    {
     "data": {
      "text/html": [
       "<style>#sk-container-id-3 {color: black;}#sk-container-id-3 pre{padding: 0;}#sk-container-id-3 div.sk-toggleable {background-color: white;}#sk-container-id-3 label.sk-toggleable__label {cursor: pointer;display: block;width: 100%;margin-bottom: 0;padding: 0.3em;box-sizing: border-box;text-align: center;}#sk-container-id-3 label.sk-toggleable__label-arrow:before {content: \"▸\";float: left;margin-right: 0.25em;color: #696969;}#sk-container-id-3 label.sk-toggleable__label-arrow:hover:before {color: black;}#sk-container-id-3 div.sk-estimator:hover label.sk-toggleable__label-arrow:before {color: black;}#sk-container-id-3 div.sk-toggleable__content {max-height: 0;max-width: 0;overflow: hidden;text-align: left;background-color: #f0f8ff;}#sk-container-id-3 div.sk-toggleable__content pre {margin: 0.2em;color: black;border-radius: 0.25em;background-color: #f0f8ff;}#sk-container-id-3 input.sk-toggleable__control:checked~div.sk-toggleable__content {max-height: 200px;max-width: 100%;overflow: auto;}#sk-container-id-3 input.sk-toggleable__control:checked~label.sk-toggleable__label-arrow:before {content: \"▾\";}#sk-container-id-3 div.sk-estimator input.sk-toggleable__control:checked~label.sk-toggleable__label {background-color: #d4ebff;}#sk-container-id-3 div.sk-label input.sk-toggleable__control:checked~label.sk-toggleable__label {background-color: #d4ebff;}#sk-container-id-3 input.sk-hidden--visually {border: 0;clip: rect(1px 1px 1px 1px);clip: rect(1px, 1px, 1px, 1px);height: 1px;margin: -1px;overflow: hidden;padding: 0;position: absolute;width: 1px;}#sk-container-id-3 div.sk-estimator {font-family: monospace;background-color: #f0f8ff;border: 1px dotted black;border-radius: 0.25em;box-sizing: border-box;margin-bottom: 0.5em;}#sk-container-id-3 div.sk-estimator:hover {background-color: #d4ebff;}#sk-container-id-3 div.sk-parallel-item::after {content: \"\";width: 100%;border-bottom: 1px solid gray;flex-grow: 1;}#sk-container-id-3 div.sk-label:hover label.sk-toggleable__label {background-color: #d4ebff;}#sk-container-id-3 div.sk-serial::before {content: \"\";position: absolute;border-left: 1px solid gray;box-sizing: border-box;top: 0;bottom: 0;left: 50%;z-index: 0;}#sk-container-id-3 div.sk-serial {display: flex;flex-direction: column;align-items: center;background-color: white;padding-right: 0.2em;padding-left: 0.2em;position: relative;}#sk-container-id-3 div.sk-item {position: relative;z-index: 1;}#sk-container-id-3 div.sk-parallel {display: flex;align-items: stretch;justify-content: center;background-color: white;position: relative;}#sk-container-id-3 div.sk-item::before, #sk-container-id-3 div.sk-parallel-item::before {content: \"\";position: absolute;border-left: 1px solid gray;box-sizing: border-box;top: 0;bottom: 0;left: 50%;z-index: -1;}#sk-container-id-3 div.sk-parallel-item {display: flex;flex-direction: column;z-index: 1;position: relative;background-color: white;}#sk-container-id-3 div.sk-parallel-item:first-child::after {align-self: flex-end;width: 50%;}#sk-container-id-3 div.sk-parallel-item:last-child::after {align-self: flex-start;width: 50%;}#sk-container-id-3 div.sk-parallel-item:only-child::after {width: 0;}#sk-container-id-3 div.sk-dashed-wrapped {border: 1px dashed gray;margin: 0 0.4em 0.5em 0.4em;box-sizing: border-box;padding-bottom: 0.4em;background-color: white;}#sk-container-id-3 div.sk-label label {font-family: monospace;font-weight: bold;display: inline-block;line-height: 1.2em;}#sk-container-id-3 div.sk-label-container {text-align: center;}#sk-container-id-3 div.sk-container {/* jupyter's `normalize.less` sets `[hidden] { display: none; }` but bootstrap.min.css set `[hidden] { display: none !important; }` so we also need the `!important` here to be able to override the default hidden behavior on the sphinx rendered scikit-learn.org. See: https://github.com/scikit-learn/scikit-learn/issues/21755 */display: inline-block !important;position: relative;}#sk-container-id-3 div.sk-text-repr-fallback {display: none;}</style><div id=\"sk-container-id-3\" class=\"sk-top-container\"><div class=\"sk-text-repr-fallback\"><pre>GridSearchCV(cv=3, estimator=RandomForestClassifier(), n_jobs=-1,\n",
       "             param_grid={&#x27;ccp_alpha&#x27;: [0.0005, 0.00075, 0.001],\n",
       "                         &#x27;max_depth&#x27;: [7, 10, 15], &#x27;max_features&#x27;: [4, 7, 10],\n",
       "                         &#x27;n_estimators&#x27;: [100, 200, 300, 400]},\n",
       "             scoring=&#x27;accuracy&#x27;)</pre><b>In a Jupyter environment, please rerun this cell to show the HTML representation or trust the notebook. <br />On GitHub, the HTML representation is unable to render, please try loading this page with nbviewer.org.</b></div><div class=\"sk-container\" hidden><div class=\"sk-item sk-dashed-wrapped\"><div class=\"sk-label-container\"><div class=\"sk-label sk-toggleable\"><input class=\"sk-toggleable__control sk-hidden--visually\" id=\"sk-estimator-id-3\" type=\"checkbox\" ><label for=\"sk-estimator-id-3\" class=\"sk-toggleable__label sk-toggleable__label-arrow\">GridSearchCV</label><div class=\"sk-toggleable__content\"><pre>GridSearchCV(cv=3, estimator=RandomForestClassifier(), n_jobs=-1,\n",
       "             param_grid={&#x27;ccp_alpha&#x27;: [0.0005, 0.00075, 0.001],\n",
       "                         &#x27;max_depth&#x27;: [7, 10, 15], &#x27;max_features&#x27;: [4, 7, 10],\n",
       "                         &#x27;n_estimators&#x27;: [100, 200, 300, 400]},\n",
       "             scoring=&#x27;accuracy&#x27;)</pre></div></div></div><div class=\"sk-parallel\"><div class=\"sk-parallel-item\"><div class=\"sk-item\"><div class=\"sk-label-container\"><div class=\"sk-label sk-toggleable\"><input class=\"sk-toggleable__control sk-hidden--visually\" id=\"sk-estimator-id-4\" type=\"checkbox\" ><label for=\"sk-estimator-id-4\" class=\"sk-toggleable__label sk-toggleable__label-arrow\">estimator: RandomForestClassifier</label><div class=\"sk-toggleable__content\"><pre>RandomForestClassifier()</pre></div></div></div><div class=\"sk-serial\"><div class=\"sk-item\"><div class=\"sk-estimator sk-toggleable\"><input class=\"sk-toggleable__control sk-hidden--visually\" id=\"sk-estimator-id-5\" type=\"checkbox\" ><label for=\"sk-estimator-id-5\" class=\"sk-toggleable__label sk-toggleable__label-arrow\">RandomForestClassifier</label><div class=\"sk-toggleable__content\"><pre>RandomForestClassifier()</pre></div></div></div></div></div></div></div></div></div></div>"
      ],
      "text/plain": [
       "GridSearchCV(cv=3, estimator=RandomForestClassifier(), n_jobs=-1,\n",
       "             param_grid={'ccp_alpha': [0.0005, 0.00075, 0.001],\n",
       "                         'max_depth': [7, 10, 15], 'max_features': [4, 7, 10],\n",
       "                         'n_estimators': [100, 200, 300, 400]},\n",
       "             scoring='accuracy')"
      ]
     },
     "execution_count": 99,
     "metadata": {},
     "output_type": "execute_result"
    }
   ],
   "source": [
    "grid_search.fit(X_train,y_train.values.ravel())\n"
   ]
  },
  {
   "cell_type": "code",
   "execution_count": 100,
   "id": "2ce4047b",
   "metadata": {
    "tags": []
   },
   "outputs": [
    {
     "data": {
      "text/html": [
       "<style>#sk-container-id-4 {color: black;}#sk-container-id-4 pre{padding: 0;}#sk-container-id-4 div.sk-toggleable {background-color: white;}#sk-container-id-4 label.sk-toggleable__label {cursor: pointer;display: block;width: 100%;margin-bottom: 0;padding: 0.3em;box-sizing: border-box;text-align: center;}#sk-container-id-4 label.sk-toggleable__label-arrow:before {content: \"▸\";float: left;margin-right: 0.25em;color: #696969;}#sk-container-id-4 label.sk-toggleable__label-arrow:hover:before {color: black;}#sk-container-id-4 div.sk-estimator:hover label.sk-toggleable__label-arrow:before {color: black;}#sk-container-id-4 div.sk-toggleable__content {max-height: 0;max-width: 0;overflow: hidden;text-align: left;background-color: #f0f8ff;}#sk-container-id-4 div.sk-toggleable__content pre {margin: 0.2em;color: black;border-radius: 0.25em;background-color: #f0f8ff;}#sk-container-id-4 input.sk-toggleable__control:checked~div.sk-toggleable__content {max-height: 200px;max-width: 100%;overflow: auto;}#sk-container-id-4 input.sk-toggleable__control:checked~label.sk-toggleable__label-arrow:before {content: \"▾\";}#sk-container-id-4 div.sk-estimator input.sk-toggleable__control:checked~label.sk-toggleable__label {background-color: #d4ebff;}#sk-container-id-4 div.sk-label input.sk-toggleable__control:checked~label.sk-toggleable__label {background-color: #d4ebff;}#sk-container-id-4 input.sk-hidden--visually {border: 0;clip: rect(1px 1px 1px 1px);clip: rect(1px, 1px, 1px, 1px);height: 1px;margin: -1px;overflow: hidden;padding: 0;position: absolute;width: 1px;}#sk-container-id-4 div.sk-estimator {font-family: monospace;background-color: #f0f8ff;border: 1px dotted black;border-radius: 0.25em;box-sizing: border-box;margin-bottom: 0.5em;}#sk-container-id-4 div.sk-estimator:hover {background-color: #d4ebff;}#sk-container-id-4 div.sk-parallel-item::after {content: \"\";width: 100%;border-bottom: 1px solid gray;flex-grow: 1;}#sk-container-id-4 div.sk-label:hover label.sk-toggleable__label {background-color: #d4ebff;}#sk-container-id-4 div.sk-serial::before {content: \"\";position: absolute;border-left: 1px solid gray;box-sizing: border-box;top: 0;bottom: 0;left: 50%;z-index: 0;}#sk-container-id-4 div.sk-serial {display: flex;flex-direction: column;align-items: center;background-color: white;padding-right: 0.2em;padding-left: 0.2em;position: relative;}#sk-container-id-4 div.sk-item {position: relative;z-index: 1;}#sk-container-id-4 div.sk-parallel {display: flex;align-items: stretch;justify-content: center;background-color: white;position: relative;}#sk-container-id-4 div.sk-item::before, #sk-container-id-4 div.sk-parallel-item::before {content: \"\";position: absolute;border-left: 1px solid gray;box-sizing: border-box;top: 0;bottom: 0;left: 50%;z-index: -1;}#sk-container-id-4 div.sk-parallel-item {display: flex;flex-direction: column;z-index: 1;position: relative;background-color: white;}#sk-container-id-4 div.sk-parallel-item:first-child::after {align-self: flex-end;width: 50%;}#sk-container-id-4 div.sk-parallel-item:last-child::after {align-self: flex-start;width: 50%;}#sk-container-id-4 div.sk-parallel-item:only-child::after {width: 0;}#sk-container-id-4 div.sk-dashed-wrapped {border: 1px dashed gray;margin: 0 0.4em 0.5em 0.4em;box-sizing: border-box;padding-bottom: 0.4em;background-color: white;}#sk-container-id-4 div.sk-label label {font-family: monospace;font-weight: bold;display: inline-block;line-height: 1.2em;}#sk-container-id-4 div.sk-label-container {text-align: center;}#sk-container-id-4 div.sk-container {/* jupyter's `normalize.less` sets `[hidden] { display: none; }` but bootstrap.min.css set `[hidden] { display: none !important; }` so we also need the `!important` here to be able to override the default hidden behavior on the sphinx rendered scikit-learn.org. See: https://github.com/scikit-learn/scikit-learn/issues/21755 */display: inline-block !important;position: relative;}#sk-container-id-4 div.sk-text-repr-fallback {display: none;}</style><div id=\"sk-container-id-4\" class=\"sk-top-container\"><div class=\"sk-text-repr-fallback\"><pre>RandomForestClassifier(ccp_alpha=0.00075, max_depth=15, max_features=7,\n",
       "                       n_estimators=300)</pre><b>In a Jupyter environment, please rerun this cell to show the HTML representation or trust the notebook. <br />On GitHub, the HTML representation is unable to render, please try loading this page with nbviewer.org.</b></div><div class=\"sk-container\" hidden><div class=\"sk-item\"><div class=\"sk-estimator sk-toggleable\"><input class=\"sk-toggleable__control sk-hidden--visually\" id=\"sk-estimator-id-6\" type=\"checkbox\" checked><label for=\"sk-estimator-id-6\" class=\"sk-toggleable__label sk-toggleable__label-arrow\">RandomForestClassifier</label><div class=\"sk-toggleable__content\"><pre>RandomForestClassifier(ccp_alpha=0.00075, max_depth=15, max_features=7,\n",
       "                       n_estimators=300)</pre></div></div></div></div></div>"
      ],
      "text/plain": [
       "RandomForestClassifier(ccp_alpha=0.00075, max_depth=15, max_features=7,\n",
       "                       n_estimators=300)"
      ]
     },
     "execution_count": 100,
     "metadata": {},
     "output_type": "execute_result"
    }
   ],
   "source": [
    "grid_search.best_estimator_"
   ]
  },
  {
   "cell_type": "code",
   "execution_count": 101,
   "id": "52fb35d6",
   "metadata": {
    "tags": []
   },
   "outputs": [
    {
     "data": {
      "text/plain": [
       "0.8881409539895841"
      ]
     },
     "execution_count": 101,
     "metadata": {},
     "output_type": "execute_result"
    }
   ],
   "source": [
    "grid_search.best_score_"
   ]
  },
  {
   "cell_type": "code",
   "execution_count": 102,
   "id": "6ad991dc",
   "metadata": {
    "tags": []
   },
   "outputs": [
    {
     "data": {
      "text/plain": [
       "{'ccp_alpha': 0.00075, 'max_depth': 15, 'max_features': 7, 'n_estimators': 300}"
      ]
     },
     "execution_count": 102,
     "metadata": {},
     "output_type": "execute_result"
    }
   ],
   "source": [
    "grid_search.best_params_"
   ]
  },
  {
   "cell_type": "code",
   "execution_count": null,
   "id": "2f9172cf",
   "metadata": {},
   "outputs": [],
   "source": []
  },
  {
   "cell_type": "code",
   "execution_count": 103,
   "id": "631b698d",
   "metadata": {
    "tags": []
   },
   "outputs": [],
   "source": [
    "from sklearn.ensemble import RandomForestClassifier\n",
    "\n",
    "RF = RandomForestClassifier(n_estimators=100,\n",
    "    criterion='entropy',\n",
    "    max_depth=7,\n",
    "    min_samples_split=2,\n",
    "    min_samples_leaf=1,\n",
    "    \n",
    "    class_weight=\"balanced\",\n",
    "    ccp_alpha=0.0001,\n",
    "    max_samples=None)"
   ]
  },
  {
   "cell_type": "code",
   "execution_count": 104,
   "id": "a0f2f823",
   "metadata": {
    "scrolled": true,
    "tags": []
   },
   "outputs": [
    {
     "data": {
      "text/html": [
       "<style>#sk-container-id-5 {color: black;}#sk-container-id-5 pre{padding: 0;}#sk-container-id-5 div.sk-toggleable {background-color: white;}#sk-container-id-5 label.sk-toggleable__label {cursor: pointer;display: block;width: 100%;margin-bottom: 0;padding: 0.3em;box-sizing: border-box;text-align: center;}#sk-container-id-5 label.sk-toggleable__label-arrow:before {content: \"▸\";float: left;margin-right: 0.25em;color: #696969;}#sk-container-id-5 label.sk-toggleable__label-arrow:hover:before {color: black;}#sk-container-id-5 div.sk-estimator:hover label.sk-toggleable__label-arrow:before {color: black;}#sk-container-id-5 div.sk-toggleable__content {max-height: 0;max-width: 0;overflow: hidden;text-align: left;background-color: #f0f8ff;}#sk-container-id-5 div.sk-toggleable__content pre {margin: 0.2em;color: black;border-radius: 0.25em;background-color: #f0f8ff;}#sk-container-id-5 input.sk-toggleable__control:checked~div.sk-toggleable__content {max-height: 200px;max-width: 100%;overflow: auto;}#sk-container-id-5 input.sk-toggleable__control:checked~label.sk-toggleable__label-arrow:before {content: \"▾\";}#sk-container-id-5 div.sk-estimator input.sk-toggleable__control:checked~label.sk-toggleable__label {background-color: #d4ebff;}#sk-container-id-5 div.sk-label input.sk-toggleable__control:checked~label.sk-toggleable__label {background-color: #d4ebff;}#sk-container-id-5 input.sk-hidden--visually {border: 0;clip: rect(1px 1px 1px 1px);clip: rect(1px, 1px, 1px, 1px);height: 1px;margin: -1px;overflow: hidden;padding: 0;position: absolute;width: 1px;}#sk-container-id-5 div.sk-estimator {font-family: monospace;background-color: #f0f8ff;border: 1px dotted black;border-radius: 0.25em;box-sizing: border-box;margin-bottom: 0.5em;}#sk-container-id-5 div.sk-estimator:hover {background-color: #d4ebff;}#sk-container-id-5 div.sk-parallel-item::after {content: \"\";width: 100%;border-bottom: 1px solid gray;flex-grow: 1;}#sk-container-id-5 div.sk-label:hover label.sk-toggleable__label {background-color: #d4ebff;}#sk-container-id-5 div.sk-serial::before {content: \"\";position: absolute;border-left: 1px solid gray;box-sizing: border-box;top: 0;bottom: 0;left: 50%;z-index: 0;}#sk-container-id-5 div.sk-serial {display: flex;flex-direction: column;align-items: center;background-color: white;padding-right: 0.2em;padding-left: 0.2em;position: relative;}#sk-container-id-5 div.sk-item {position: relative;z-index: 1;}#sk-container-id-5 div.sk-parallel {display: flex;align-items: stretch;justify-content: center;background-color: white;position: relative;}#sk-container-id-5 div.sk-item::before, #sk-container-id-5 div.sk-parallel-item::before {content: \"\";position: absolute;border-left: 1px solid gray;box-sizing: border-box;top: 0;bottom: 0;left: 50%;z-index: -1;}#sk-container-id-5 div.sk-parallel-item {display: flex;flex-direction: column;z-index: 1;position: relative;background-color: white;}#sk-container-id-5 div.sk-parallel-item:first-child::after {align-self: flex-end;width: 50%;}#sk-container-id-5 div.sk-parallel-item:last-child::after {align-self: flex-start;width: 50%;}#sk-container-id-5 div.sk-parallel-item:only-child::after {width: 0;}#sk-container-id-5 div.sk-dashed-wrapped {border: 1px dashed gray;margin: 0 0.4em 0.5em 0.4em;box-sizing: border-box;padding-bottom: 0.4em;background-color: white;}#sk-container-id-5 div.sk-label label {font-family: monospace;font-weight: bold;display: inline-block;line-height: 1.2em;}#sk-container-id-5 div.sk-label-container {text-align: center;}#sk-container-id-5 div.sk-container {/* jupyter's `normalize.less` sets `[hidden] { display: none; }` but bootstrap.min.css set `[hidden] { display: none !important; }` so we also need the `!important` here to be able to override the default hidden behavior on the sphinx rendered scikit-learn.org. See: https://github.com/scikit-learn/scikit-learn/issues/21755 */display: inline-block !important;position: relative;}#sk-container-id-5 div.sk-text-repr-fallback {display: none;}</style><div id=\"sk-container-id-5\" class=\"sk-top-container\"><div class=\"sk-text-repr-fallback\"><pre>RandomForestClassifier(ccp_alpha=0.0001, class_weight=&#x27;balanced&#x27;,\n",
       "                       criterion=&#x27;entropy&#x27;, max_depth=7)</pre><b>In a Jupyter environment, please rerun this cell to show the HTML representation or trust the notebook. <br />On GitHub, the HTML representation is unable to render, please try loading this page with nbviewer.org.</b></div><div class=\"sk-container\" hidden><div class=\"sk-item\"><div class=\"sk-estimator sk-toggleable\"><input class=\"sk-toggleable__control sk-hidden--visually\" id=\"sk-estimator-id-7\" type=\"checkbox\" checked><label for=\"sk-estimator-id-7\" class=\"sk-toggleable__label sk-toggleable__label-arrow\">RandomForestClassifier</label><div class=\"sk-toggleable__content\"><pre>RandomForestClassifier(ccp_alpha=0.0001, class_weight=&#x27;balanced&#x27;,\n",
       "                       criterion=&#x27;entropy&#x27;, max_depth=7)</pre></div></div></div></div></div>"
      ],
      "text/plain": [
       "RandomForestClassifier(ccp_alpha=0.0001, class_weight='balanced',\n",
       "                       criterion='entropy', max_depth=7)"
      ]
     },
     "execution_count": 104,
     "metadata": {},
     "output_type": "execute_result"
    }
   ],
   "source": [
    "RF.fit(X_train , y_train)"
   ]
  },
  {
   "cell_type": "code",
   "execution_count": 105,
   "id": "90585816",
   "metadata": {
    "tags": []
   },
   "outputs": [
    {
     "data": {
      "text/plain": [
       "(0.8991596638655462, 0.8867924528301887)"
      ]
     },
     "execution_count": 105,
     "metadata": {},
     "output_type": "execute_result"
    }
   ],
   "source": [
    "RF.score(X_train,y_train),RF.score(X_test,y_test)"
   ]
  },
  {
   "cell_type": "code",
   "execution_count": 106,
   "id": "26caefd2",
   "metadata": {
    "tags": []
   },
   "outputs": [],
   "source": [
    "y_test_pred = RF.predict(X_test)\n",
    "y_train_pred = RF.predict(X_train)"
   ]
  },
  {
   "cell_type": "code",
   "execution_count": 107,
   "id": "a365b0c1",
   "metadata": {
    "tags": []
   },
   "outputs": [
    {
     "data": {
      "text/plain": [
       "(0.9114754098360656, 0.923076923076923)"
      ]
     },
     "execution_count": 107,
     "metadata": {},
     "output_type": "execute_result"
    }
   ],
   "source": [
    "f1_score(y_test,y_test_pred),f1_score(y_train,y_train_pred)\n"
   ]
  },
  {
   "cell_type": "code",
   "execution_count": 108,
   "id": "da083271",
   "metadata": {
    "tags": []
   },
   "outputs": [
    {
     "data": {
      "text/plain": [
       "(0.9423728813559322, 0.9640167364016736)"
      ]
     },
     "execution_count": 108,
     "metadata": {},
     "output_type": "execute_result"
    }
   ],
   "source": [
    "precision_score(y_test,y_test_pred),precision_score(y_train,y_train_pred)\n"
   ]
  },
  {
   "cell_type": "code",
   "execution_count": 109,
   "id": "b17e9e1c",
   "metadata": {
    "tags": []
   },
   "outputs": [
    {
     "data": {
      "text/plain": [
       "(0.8825396825396825, 0.8854727132974635)"
      ]
     },
     "execution_count": 109,
     "metadata": {},
     "output_type": "execute_result"
    }
   ],
   "source": [
    "recall_score(y_test,y_test_pred),recall_score(y_train,y_train_pred)"
   ]
  },
  {
   "cell_type": "markdown",
   "id": "e99e4265",
   "metadata": {},
   "source": [
    "## BaggingClassifier"
   ]
  },
  {
   "cell_type": "code",
   "execution_count": 110,
   "id": "d9c2c785",
   "metadata": {
    "tags": []
   },
   "outputs": [],
   "source": [
    "from sklearn.tree import DecisionTreeClassifier"
   ]
  },
  {
   "cell_type": "code",
   "execution_count": 111,
   "id": "f36f03b5",
   "metadata": {
    "tags": []
   },
   "outputs": [],
   "source": [
    "from sklearn.ensemble import BaggingClassifier"
   ]
  },
  {
   "cell_type": "code",
   "execution_count": 112,
   "id": "a9f560ef",
   "metadata": {
    "tags": []
   },
   "outputs": [],
   "source": [
    "bagging_classifier_model = BaggingClassifier(base_estimator=  DecisionTreeClassifier(max_depth=7,\n",
    "                                                                                     class_weight=\"balanced\"),\n",
    "                                            n_estimators=50,\n",
    "                                            max_samples=1.0,\n",
    "                                            max_features=1.0,\n",
    "                                            bootstrap=True,\n",
    "                                            bootstrap_features=False,\n",
    "                                            oob_score=False,\n",
    "                                            warm_start=False,\n",
    "                                            n_jobs=None,\n",
    "                                            random_state=None,\n",
    "                                            verbose=0,)"
   ]
  },
  {
   "cell_type": "code",
   "execution_count": 113,
   "id": "f79d59c3",
   "metadata": {
    "tags": []
   },
   "outputs": [
    {
     "data": {
      "text/html": [
       "<style>#sk-container-id-6 {color: black;}#sk-container-id-6 pre{padding: 0;}#sk-container-id-6 div.sk-toggleable {background-color: white;}#sk-container-id-6 label.sk-toggleable__label {cursor: pointer;display: block;width: 100%;margin-bottom: 0;padding: 0.3em;box-sizing: border-box;text-align: center;}#sk-container-id-6 label.sk-toggleable__label-arrow:before {content: \"▸\";float: left;margin-right: 0.25em;color: #696969;}#sk-container-id-6 label.sk-toggleable__label-arrow:hover:before {color: black;}#sk-container-id-6 div.sk-estimator:hover label.sk-toggleable__label-arrow:before {color: black;}#sk-container-id-6 div.sk-toggleable__content {max-height: 0;max-width: 0;overflow: hidden;text-align: left;background-color: #f0f8ff;}#sk-container-id-6 div.sk-toggleable__content pre {margin: 0.2em;color: black;border-radius: 0.25em;background-color: #f0f8ff;}#sk-container-id-6 input.sk-toggleable__control:checked~div.sk-toggleable__content {max-height: 200px;max-width: 100%;overflow: auto;}#sk-container-id-6 input.sk-toggleable__control:checked~label.sk-toggleable__label-arrow:before {content: \"▾\";}#sk-container-id-6 div.sk-estimator input.sk-toggleable__control:checked~label.sk-toggleable__label {background-color: #d4ebff;}#sk-container-id-6 div.sk-label input.sk-toggleable__control:checked~label.sk-toggleable__label {background-color: #d4ebff;}#sk-container-id-6 input.sk-hidden--visually {border: 0;clip: rect(1px 1px 1px 1px);clip: rect(1px, 1px, 1px, 1px);height: 1px;margin: -1px;overflow: hidden;padding: 0;position: absolute;width: 1px;}#sk-container-id-6 div.sk-estimator {font-family: monospace;background-color: #f0f8ff;border: 1px dotted black;border-radius: 0.25em;box-sizing: border-box;margin-bottom: 0.5em;}#sk-container-id-6 div.sk-estimator:hover {background-color: #d4ebff;}#sk-container-id-6 div.sk-parallel-item::after {content: \"\";width: 100%;border-bottom: 1px solid gray;flex-grow: 1;}#sk-container-id-6 div.sk-label:hover label.sk-toggleable__label {background-color: #d4ebff;}#sk-container-id-6 div.sk-serial::before {content: \"\";position: absolute;border-left: 1px solid gray;box-sizing: border-box;top: 0;bottom: 0;left: 50%;z-index: 0;}#sk-container-id-6 div.sk-serial {display: flex;flex-direction: column;align-items: center;background-color: white;padding-right: 0.2em;padding-left: 0.2em;position: relative;}#sk-container-id-6 div.sk-item {position: relative;z-index: 1;}#sk-container-id-6 div.sk-parallel {display: flex;align-items: stretch;justify-content: center;background-color: white;position: relative;}#sk-container-id-6 div.sk-item::before, #sk-container-id-6 div.sk-parallel-item::before {content: \"\";position: absolute;border-left: 1px solid gray;box-sizing: border-box;top: 0;bottom: 0;left: 50%;z-index: -1;}#sk-container-id-6 div.sk-parallel-item {display: flex;flex-direction: column;z-index: 1;position: relative;background-color: white;}#sk-container-id-6 div.sk-parallel-item:first-child::after {align-self: flex-end;width: 50%;}#sk-container-id-6 div.sk-parallel-item:last-child::after {align-self: flex-start;width: 50%;}#sk-container-id-6 div.sk-parallel-item:only-child::after {width: 0;}#sk-container-id-6 div.sk-dashed-wrapped {border: 1px dashed gray;margin: 0 0.4em 0.5em 0.4em;box-sizing: border-box;padding-bottom: 0.4em;background-color: white;}#sk-container-id-6 div.sk-label label {font-family: monospace;font-weight: bold;display: inline-block;line-height: 1.2em;}#sk-container-id-6 div.sk-label-container {text-align: center;}#sk-container-id-6 div.sk-container {/* jupyter's `normalize.less` sets `[hidden] { display: none; }` but bootstrap.min.css set `[hidden] { display: none !important; }` so we also need the `!important` here to be able to override the default hidden behavior on the sphinx rendered scikit-learn.org. See: https://github.com/scikit-learn/scikit-learn/issues/21755 */display: inline-block !important;position: relative;}#sk-container-id-6 div.sk-text-repr-fallback {display: none;}</style><div id=\"sk-container-id-6\" class=\"sk-top-container\"><div class=\"sk-text-repr-fallback\"><pre>BaggingClassifier(base_estimator=DecisionTreeClassifier(class_weight=&#x27;balanced&#x27;,\n",
       "                                                        max_depth=7),\n",
       "                  n_estimators=50)</pre><b>In a Jupyter environment, please rerun this cell to show the HTML representation or trust the notebook. <br />On GitHub, the HTML representation is unable to render, please try loading this page with nbviewer.org.</b></div><div class=\"sk-container\" hidden><div class=\"sk-item sk-dashed-wrapped\"><div class=\"sk-label-container\"><div class=\"sk-label sk-toggleable\"><input class=\"sk-toggleable__control sk-hidden--visually\" id=\"sk-estimator-id-8\" type=\"checkbox\" ><label for=\"sk-estimator-id-8\" class=\"sk-toggleable__label sk-toggleable__label-arrow\">BaggingClassifier</label><div class=\"sk-toggleable__content\"><pre>BaggingClassifier(base_estimator=DecisionTreeClassifier(class_weight=&#x27;balanced&#x27;,\n",
       "                                                        max_depth=7),\n",
       "                  n_estimators=50)</pre></div></div></div><div class=\"sk-parallel\"><div class=\"sk-parallel-item\"><div class=\"sk-item\"><div class=\"sk-label-container\"><div class=\"sk-label sk-toggleable\"><input class=\"sk-toggleable__control sk-hidden--visually\" id=\"sk-estimator-id-9\" type=\"checkbox\" ><label for=\"sk-estimator-id-9\" class=\"sk-toggleable__label sk-toggleable__label-arrow\">base_estimator: DecisionTreeClassifier</label><div class=\"sk-toggleable__content\"><pre>DecisionTreeClassifier(class_weight=&#x27;balanced&#x27;, max_depth=7)</pre></div></div></div><div class=\"sk-serial\"><div class=\"sk-item\"><div class=\"sk-estimator sk-toggleable\"><input class=\"sk-toggleable__control sk-hidden--visually\" id=\"sk-estimator-id-10\" type=\"checkbox\" ><label for=\"sk-estimator-id-10\" class=\"sk-toggleable__label sk-toggleable__label-arrow\">DecisionTreeClassifier</label><div class=\"sk-toggleable__content\"><pre>DecisionTreeClassifier(class_weight=&#x27;balanced&#x27;, max_depth=7)</pre></div></div></div></div></div></div></div></div></div></div>"
      ],
      "text/plain": [
       "BaggingClassifier(base_estimator=DecisionTreeClassifier(class_weight='balanced',\n",
       "                                                        max_depth=7),\n",
       "                  n_estimators=50)"
      ]
     },
     "execution_count": 113,
     "metadata": {},
     "output_type": "execute_result"
    }
   ],
   "source": [
    "bagging_classifier_model.fit(X_train,y_train)"
   ]
  },
  {
   "cell_type": "code",
   "execution_count": 114,
   "id": "7f27ed80",
   "metadata": {
    "tags": []
   },
   "outputs": [],
   "source": [
    "\n",
    "from sklearn.metrics import f1_score , precision_score, recall_score,confusion_matrix\n"
   ]
  },
  {
   "cell_type": "code",
   "execution_count": 115,
   "id": "9dd2115e",
   "metadata": {
    "tags": []
   },
   "outputs": [],
   "source": [
    "y_test_pred = bagging_classifier_model.predict(X_test)\n",
    "y_train_pred = bagging_classifier_model.predict(X_train)"
   ]
  },
  {
   "cell_type": "code",
   "execution_count": 116,
   "id": "4e5d201e",
   "metadata": {
    "tags": []
   },
   "outputs": [
    {
     "data": {
      "text/plain": [
       "array([[142,  20],\n",
       "       [ 45, 270]])"
      ]
     },
     "execution_count": 116,
     "metadata": {},
     "output_type": "execute_result"
    }
   ],
   "source": [
    "\n",
    "confusion_matrix(y_test,y_test_pred)"
   ]
  },
  {
   "cell_type": "code",
   "execution_count": 117,
   "id": "4d60ccf7",
   "metadata": {
    "tags": []
   },
   "outputs": [
    {
     "data": {
      "text/plain": [
       "array([[ 558,   45],\n",
       "       [ 128, 1173]])"
      ]
     },
     "execution_count": 117,
     "metadata": {},
     "output_type": "execute_result"
    }
   ],
   "source": [
    "\n",
    "confusion_matrix(y_train,y_train_pred)"
   ]
  },
  {
   "cell_type": "code",
   "execution_count": 118,
   "id": "1cbf18a3",
   "metadata": {
    "tags": []
   },
   "outputs": [
    {
     "data": {
      "text/plain": [
       "(0.8925619834710743, 0.9313219531560143)"
      ]
     },
     "execution_count": 118,
     "metadata": {},
     "output_type": "execute_result"
    }
   ],
   "source": [
    "f1_score(y_test,y_test_pred),f1_score(y_train,y_train_pred)\n"
   ]
  },
  {
   "cell_type": "code",
   "execution_count": 119,
   "id": "ad22f15e",
   "metadata": {
    "tags": []
   },
   "outputs": [
    {
     "data": {
      "text/plain": [
       "(0.9310344827586207, 0.9630541871921182)"
      ]
     },
     "execution_count": 119,
     "metadata": {},
     "output_type": "execute_result"
    }
   ],
   "source": [
    "precision_score(y_test,y_test_pred),precision_score(y_train,y_train_pred)\n"
   ]
  },
  {
   "cell_type": "code",
   "execution_count": 120,
   "id": "7de51e90",
   "metadata": {
    "tags": []
   },
   "outputs": [
    {
     "data": {
      "text/plain": [
       "(0.8571428571428571, 0.9016141429669485)"
      ]
     },
     "execution_count": 120,
     "metadata": {},
     "output_type": "execute_result"
    }
   ],
   "source": [
    "\n",
    "recall_score(y_test,y_test_pred),recall_score(y_train,y_train_pred)"
   ]
  },
  {
   "cell_type": "code",
   "execution_count": 121,
   "id": "2af73a35",
   "metadata": {
    "tags": []
   },
   "outputs": [
    {
     "data": {
      "text/plain": [
       "0.8637316561844863"
      ]
     },
     "execution_count": 121,
     "metadata": {},
     "output_type": "execute_result"
    }
   ],
   "source": [
    "bagging_classifier_model.score(X_test,y_test)"
   ]
  },
  {
   "cell_type": "code",
   "execution_count": 122,
   "id": "a3040216",
   "metadata": {
    "tags": []
   },
   "outputs": [
    {
     "data": {
      "text/plain": [
       "0.9091386554621849"
      ]
     },
     "execution_count": 122,
     "metadata": {},
     "output_type": "execute_result"
    }
   ],
   "source": [
    "bagging_classifier_model.score(X_train,y_train)"
   ]
  },
  {
   "cell_type": "code",
   "execution_count": 123,
   "id": "93af7915",
   "metadata": {
    "tags": []
   },
   "outputs": [],
   "source": [
    "# !pip install xgboost"
   ]
  },
  {
   "cell_type": "code",
   "execution_count": 124,
   "id": "0953e121",
   "metadata": {
    "tags": []
   },
   "outputs": [],
   "source": [
    "from xgboost import XGBClassifier"
   ]
  },
  {
   "cell_type": "code",
   "execution_count": 125,
   "id": "dbe8d512",
   "metadata": {
    "tags": []
   },
   "outputs": [
    {
     "data": {
      "text/plain": [
       "{'max_depth': 2, 'n_estimators': 100}"
      ]
     },
     "execution_count": 125,
     "metadata": {},
     "output_type": "execute_result"
    }
   ],
   "source": [
    "from sklearn.model_selection import GridSearchCV\n",
    "from sklearn.ensemble import RandomForestClassifier\n",
    "\n",
    "parameters = {\"max_depth\":[2,4,6,10],\n",
    "             \"n_estimators\":[100,200,300,400]    }\n",
    "\n",
    "\n",
    "grid_search = GridSearchCV(\n",
    "    estimator = XGBClassifier(),\n",
    "    param_grid = parameters,\n",
    "    scoring = \"accuracy\",\n",
    "    n_jobs = -1,\n",
    "    refit=True,                   # need not to train again after grid search\n",
    "    cv=3,\n",
    "    pre_dispatch='2*n_jobs',\n",
    "    return_train_score=False)\n",
    "\n",
    "\n",
    "grid_search.fit(X_train,y_train.values.ravel())\n",
    "\n",
    "grid_search.best_estimator_\n",
    "\n",
    "grid_search.best_score_\n",
    "\n",
    "grid_search.best_params_"
   ]
  },
  {
   "cell_type": "code",
   "execution_count": 126,
   "id": "c2404d23",
   "metadata": {
    "tags": []
   },
   "outputs": [
    {
     "data": {
      "text/html": [
       "<style>#sk-container-id-7 {color: black;}#sk-container-id-7 pre{padding: 0;}#sk-container-id-7 div.sk-toggleable {background-color: white;}#sk-container-id-7 label.sk-toggleable__label {cursor: pointer;display: block;width: 100%;margin-bottom: 0;padding: 0.3em;box-sizing: border-box;text-align: center;}#sk-container-id-7 label.sk-toggleable__label-arrow:before {content: \"▸\";float: left;margin-right: 0.25em;color: #696969;}#sk-container-id-7 label.sk-toggleable__label-arrow:hover:before {color: black;}#sk-container-id-7 div.sk-estimator:hover label.sk-toggleable__label-arrow:before {color: black;}#sk-container-id-7 div.sk-toggleable__content {max-height: 0;max-width: 0;overflow: hidden;text-align: left;background-color: #f0f8ff;}#sk-container-id-7 div.sk-toggleable__content pre {margin: 0.2em;color: black;border-radius: 0.25em;background-color: #f0f8ff;}#sk-container-id-7 input.sk-toggleable__control:checked~div.sk-toggleable__content {max-height: 200px;max-width: 100%;overflow: auto;}#sk-container-id-7 input.sk-toggleable__control:checked~label.sk-toggleable__label-arrow:before {content: \"▾\";}#sk-container-id-7 div.sk-estimator input.sk-toggleable__control:checked~label.sk-toggleable__label {background-color: #d4ebff;}#sk-container-id-7 div.sk-label input.sk-toggleable__control:checked~label.sk-toggleable__label {background-color: #d4ebff;}#sk-container-id-7 input.sk-hidden--visually {border: 0;clip: rect(1px 1px 1px 1px);clip: rect(1px, 1px, 1px, 1px);height: 1px;margin: -1px;overflow: hidden;padding: 0;position: absolute;width: 1px;}#sk-container-id-7 div.sk-estimator {font-family: monospace;background-color: #f0f8ff;border: 1px dotted black;border-radius: 0.25em;box-sizing: border-box;margin-bottom: 0.5em;}#sk-container-id-7 div.sk-estimator:hover {background-color: #d4ebff;}#sk-container-id-7 div.sk-parallel-item::after {content: \"\";width: 100%;border-bottom: 1px solid gray;flex-grow: 1;}#sk-container-id-7 div.sk-label:hover label.sk-toggleable__label {background-color: #d4ebff;}#sk-container-id-7 div.sk-serial::before {content: \"\";position: absolute;border-left: 1px solid gray;box-sizing: border-box;top: 0;bottom: 0;left: 50%;z-index: 0;}#sk-container-id-7 div.sk-serial {display: flex;flex-direction: column;align-items: center;background-color: white;padding-right: 0.2em;padding-left: 0.2em;position: relative;}#sk-container-id-7 div.sk-item {position: relative;z-index: 1;}#sk-container-id-7 div.sk-parallel {display: flex;align-items: stretch;justify-content: center;background-color: white;position: relative;}#sk-container-id-7 div.sk-item::before, #sk-container-id-7 div.sk-parallel-item::before {content: \"\";position: absolute;border-left: 1px solid gray;box-sizing: border-box;top: 0;bottom: 0;left: 50%;z-index: -1;}#sk-container-id-7 div.sk-parallel-item {display: flex;flex-direction: column;z-index: 1;position: relative;background-color: white;}#sk-container-id-7 div.sk-parallel-item:first-child::after {align-self: flex-end;width: 50%;}#sk-container-id-7 div.sk-parallel-item:last-child::after {align-self: flex-start;width: 50%;}#sk-container-id-7 div.sk-parallel-item:only-child::after {width: 0;}#sk-container-id-7 div.sk-dashed-wrapped {border: 1px dashed gray;margin: 0 0.4em 0.5em 0.4em;box-sizing: border-box;padding-bottom: 0.4em;background-color: white;}#sk-container-id-7 div.sk-label label {font-family: monospace;font-weight: bold;display: inline-block;line-height: 1.2em;}#sk-container-id-7 div.sk-label-container {text-align: center;}#sk-container-id-7 div.sk-container {/* jupyter's `normalize.less` sets `[hidden] { display: none; }` but bootstrap.min.css set `[hidden] { display: none !important; }` so we also need the `!important` here to be able to override the default hidden behavior on the sphinx rendered scikit-learn.org. See: https://github.com/scikit-learn/scikit-learn/issues/21755 */display: inline-block !important;position: relative;}#sk-container-id-7 div.sk-text-repr-fallback {display: none;}</style><div id=\"sk-container-id-7\" class=\"sk-top-container\"><div class=\"sk-text-repr-fallback\"><pre>XGBClassifier(base_score=None, booster=None, callbacks=None,\n",
       "              colsample_bylevel=None, colsample_bynode=None,\n",
       "              colsample_bytree=None, device=None, early_stopping_rounds=None,\n",
       "              enable_categorical=False, eval_metric=None, feature_types=None,\n",
       "              gamma=None, grow_policy=None, importance_type=None,\n",
       "              interaction_constraints=None, learning_rate=None, max_bin=None,\n",
       "              max_cat_threshold=None, max_cat_to_onehot=None,\n",
       "              max_delta_step=None, max_depth=2, max_leaves=None,\n",
       "              min_child_weight=None, missing=nan, monotone_constraints=None,\n",
       "              multi_strategy=None, n_estimators=100, n_jobs=None,\n",
       "              num_parallel_tree=None, random_state=None, ...)</pre><b>In a Jupyter environment, please rerun this cell to show the HTML representation or trust the notebook. <br />On GitHub, the HTML representation is unable to render, please try loading this page with nbviewer.org.</b></div><div class=\"sk-container\" hidden><div class=\"sk-item\"><div class=\"sk-estimator sk-toggleable\"><input class=\"sk-toggleable__control sk-hidden--visually\" id=\"sk-estimator-id-11\" type=\"checkbox\" checked><label for=\"sk-estimator-id-11\" class=\"sk-toggleable__label sk-toggleable__label-arrow\">XGBClassifier</label><div class=\"sk-toggleable__content\"><pre>XGBClassifier(base_score=None, booster=None, callbacks=None,\n",
       "              colsample_bylevel=None, colsample_bynode=None,\n",
       "              colsample_bytree=None, device=None, early_stopping_rounds=None,\n",
       "              enable_categorical=False, eval_metric=None, feature_types=None,\n",
       "              gamma=None, grow_policy=None, importance_type=None,\n",
       "              interaction_constraints=None, learning_rate=None, max_bin=None,\n",
       "              max_cat_threshold=None, max_cat_to_onehot=None,\n",
       "              max_delta_step=None, max_depth=2, max_leaves=None,\n",
       "              min_child_weight=None, missing=nan, monotone_constraints=None,\n",
       "              multi_strategy=None, n_estimators=100, n_jobs=None,\n",
       "              num_parallel_tree=None, random_state=None, ...)</pre></div></div></div></div></div>"
      ],
      "text/plain": [
       "XGBClassifier(base_score=None, booster=None, callbacks=None,\n",
       "              colsample_bylevel=None, colsample_bynode=None,\n",
       "              colsample_bytree=None, device=None, early_stopping_rounds=None,\n",
       "              enable_categorical=False, eval_metric=None, feature_types=None,\n",
       "              gamma=None, grow_policy=None, importance_type=None,\n",
       "              interaction_constraints=None, learning_rate=None, max_bin=None,\n",
       "              max_cat_threshold=None, max_cat_to_onehot=None,\n",
       "              max_delta_step=None, max_depth=2, max_leaves=None,\n",
       "              min_child_weight=None, missing=nan, monotone_constraints=None,\n",
       "              multi_strategy=None, n_estimators=100, n_jobs=None,\n",
       "              num_parallel_tree=None, random_state=None, ...)"
      ]
     },
     "execution_count": 126,
     "metadata": {},
     "output_type": "execute_result"
    }
   ],
   "source": [
    "xgb = XGBClassifier(n_estimators=100,\n",
    "                   max_depth = 2)\n",
    "xgb.fit(X_train, y_train)"
   ]
  },
  {
   "cell_type": "code",
   "execution_count": 127,
   "id": "32ada350",
   "metadata": {
    "tags": []
   },
   "outputs": [],
   "source": [
    "y_test_pred = xgb.predict(X_test)\n",
    "y_train_pred = xgb.predict(X_train)"
   ]
  },
  {
   "cell_type": "code",
   "execution_count": 128,
   "id": "74f3e421",
   "metadata": {
    "tags": []
   },
   "outputs": [
    {
     "data": {
      "text/plain": [
       "array([[124,  38],\n",
       "       [ 27, 288]])"
      ]
     },
     "execution_count": 128,
     "metadata": {},
     "output_type": "execute_result"
    }
   ],
   "source": [
    "confusion_matrix(y_test,y_test_pred)"
   ]
  },
  {
   "cell_type": "code",
   "execution_count": 129,
   "id": "ca10854d",
   "metadata": {
    "tags": []
   },
   "outputs": [
    {
     "data": {
      "text/plain": [
       "array([[ 518,   85],\n",
       "       [  74, 1227]])"
      ]
     },
     "execution_count": 129,
     "metadata": {},
     "output_type": "execute_result"
    }
   ],
   "source": [
    "confusion_matrix(y_train,y_train_pred)"
   ]
  },
  {
   "cell_type": "code",
   "execution_count": 130,
   "id": "b058aeb2",
   "metadata": {
    "tags": []
   },
   "outputs": [
    {
     "data": {
      "text/plain": [
       "(0.9164915966386554, 0.8637316561844863)"
      ]
     },
     "execution_count": 130,
     "metadata": {},
     "output_type": "execute_result"
    }
   ],
   "source": [
    "xgb.score(X_train,y_train),xgb.score(X_test,y_test)"
   ]
  },
  {
   "cell_type": "code",
   "execution_count": 131,
   "id": "fdd24076",
   "metadata": {
    "tags": []
   },
   "outputs": [
    {
     "data": {
      "text/plain": [
       "(0.8985959438377534, 0.939150401836969)"
      ]
     },
     "execution_count": 131,
     "metadata": {},
     "output_type": "execute_result"
    }
   ],
   "source": [
    "f1_score(y_test,y_test_pred),f1_score(y_train,y_train_pred)\n"
   ]
  },
  {
   "cell_type": "code",
   "execution_count": 132,
   "id": "084fa4c1",
   "metadata": {
    "tags": []
   },
   "outputs": [
    {
     "data": {
      "text/plain": [
       "(0.9142857142857143, 0.9431206764027671)"
      ]
     },
     "execution_count": 132,
     "metadata": {},
     "output_type": "execute_result"
    }
   ],
   "source": [
    "\n",
    "recall_score(y_test,y_test_pred),recall_score(y_train,y_train_pred)"
   ]
  },
  {
   "cell_type": "code",
   "execution_count": 133,
   "id": "2a193ce3",
   "metadata": {
    "tags": []
   },
   "outputs": [
    {
     "data": {
      "text/plain": [
       "(0.8834355828220859, 0.9352134146341463)"
      ]
     },
     "execution_count": 133,
     "metadata": {},
     "output_type": "execute_result"
    }
   ],
   "source": [
    "precision_score(y_test,y_test_pred),precision_score(y_train,y_train_pred)\n"
   ]
  },
  {
   "cell_type": "code",
   "execution_count": 134,
   "id": "6069fda9",
   "metadata": {
    "tags": []
   },
   "outputs": [
    {
     "data": {
      "text/plain": [
       "array([0.        , 0.01611706, 0.17770752, 0.01213652, 0.0177371 ,\n",
       "       0.01956165, 0.01636491, 0.02013278, 0.01096871, 0.05184174,\n",
       "       0.22887574, 0.35447577, 0.07408047], dtype=float32)"
      ]
     },
     "execution_count": 134,
     "metadata": {},
     "output_type": "execute_result"
    }
   ],
   "source": [
    "xgb.feature_importances_"
   ]
  },
  {
   "cell_type": "code",
   "execution_count": 135,
   "id": "3fe16cf6",
   "metadata": {
    "tags": []
   },
   "outputs": [
    {
     "data": {
      "text/plain": [
       "<Axes: >"
      ]
     },
     "execution_count": 135,
     "metadata": {},
     "output_type": "execute_result"
    },
    {
     "data": {
      "image/png": "[encoded data removed]",
      "text/plain": [
       "<Figure size 640x480 with 1 Axes>"
      ]
     },
     "metadata": {},
     "output_type": "display_data"
    }
   ],
   "source": [
    "pd.DataFrame(data=xgb.feature_importances_,\n",
    "            index=X.columns).plot(kind=\"bar\")"
   ]
  },
  {
   "cell_type": "markdown",
   "id": "43615895",
   "metadata": {},
   "source": [
    "## GradientBoostingClassifier"
   ]
  },
  {
   "cell_type": "code",
   "execution_count": 136,
   "id": "b2d9a6a0",
   "metadata": {
    "tags": []
   },
   "outputs": [],
   "source": [
    "def GradientBoostingClassifier(X, y):\n",
    "    from sklearn.ensemble import  GradientBoostingClassifier\n",
    "    from sklearn.metrics import f1_score, accuracy_score , roc_auc_score,auc,recall_score,precision_score\n",
    "    X_train, X_test, y_train, y_test = train_test_split(X,\n",
    "                                                        y,\n",
    "                                                        test_size=0.2,\n",
    "                                                        random_state=1)\n",
    "    \n",
    "    lr = GradientBoostingClassifier()\n",
    "    scaler = StandardScaler()\n",
    "    scaler.fit(X_train) \n",
    "    X_train = scaler.transform(X_train)\n",
    "    X_test = scaler.transform(X_test)\n",
    "    \n",
    "    lr.fit(X_train, y_train)\n",
    "    y_pred = lr.predict(X_test)\n",
    "    prob = lr.predict_proba(X_test)\n",
    "    cm = confusion_matrix(y_test, y_pred)\n",
    "    print('Train Score : ', lr.score(X_train, y_train), '\\n')\n",
    "    print('Test Score : ', lr.score(X_test, y_test), '\\n')\n",
    "    print('Accuracy Score : ', accuracy_score(y_test, y_pred), '\\n')\n",
    "    print(cm, \"---> confusion Matrix \", '\\n')\n",
    "    print(\"ROC-AUC score  test dataset:  \", roc_auc_score(y_test, prob[:, 1]),'\\n')\n",
    "    print(\"precision score  test dataset:  \", precision_score(y_test, y_pred),'\\n')\n",
    "    print(\"Recall score  test dataset:  \", recall_score(y_test, y_pred), '\\n')\n",
    "    print(\"f1 score  test dataset :  \", f1_score(y_test, y_pred), '\\n')\n",
    "    return (prob[:,1], y_test)"
   ]
  },
  {
   "cell_type": "code",
   "execution_count": null,
   "id": "391e7be4",
   "metadata": {},
   "outputs": [],
   "source": []
  },
  {
   "cell_type": "code",
   "execution_count": null,
   "id": "99dc3098",
   "metadata": {},
   "outputs": [],
   "source": []
  },
  {
   "cell_type": "code",
   "execution_count": 137,
   "id": "8182d7b0",
   "metadata": {
    "scrolled": true,
    "tags": []
   },
   "outputs": [
    {
     "name": "stdout",
     "output_type": "stream",
     "text": [
      "Train Score :  0.914390756302521 \n",
      "\n",
      "Test Score :  0.8909853249475891 \n",
      "\n",
      "Accuracy Score :  0.8909853249475891 \n",
      "\n",
      "[[125  23]\n",
      " [ 29 300]] ---> confusion Matrix  \n",
      "\n",
      "ROC-AUC score  test dataset:   0.9449088145896656 \n",
      "\n",
      "precision score  test dataset:   0.9287925696594427 \n",
      "\n",
      "Recall score  test dataset:   0.9118541033434651 \n",
      "\n",
      "f1 score  test dataset :   0.9202453987730062 \n",
      "\n"
     ]
    }
   ],
   "source": [
    "probs , y_test = GradientBoostingClassifier(X,y)"
   ]
  },
  {
   "cell_type": "code",
   "execution_count": null,
   "id": "c269acae",
   "metadata": {},
   "outputs": [],
   "source": []
  },
  {
   "cell_type": "code",
   "execution_count": null,
   "id": "89908b4c",
   "metadata": {},
   "outputs": [],
   "source": []
  },
  {
   "cell_type": "code",
   "execution_count": 138,
   "id": "2b0f6687",
   "metadata": {
    "tags": []
   },
   "outputs": [],
   "source": [
    "def plot_pre_curve(y_test,probs):\n",
    "    from sklearn.metrics import precision_recall_curve\n",
    "    precision, recall, thresholds = precision_recall_curve(y_test, probs)\n",
    "    plt.plot([0, 1], [0.5, 0.5], linestyle='--')\n",
    "    # plot the precision-recall curve for the model\n",
    "    plt.plot(recall, precision, marker='.')\n",
    "    plt.title(\"Precision Recall curve\")\n",
    "    plt.xlabel('Recall')\n",
    "    plt.ylabel('Precision')\n",
    "    # show the plot\n",
    "    plt.show()\n",
    "    \n",
    "def plot_roc(y_test,prob):\n",
    "    from sklearn.metrics import roc_curve\n",
    "    fpr, tpr, thresholds = roc_curve(y_test, probs)\n",
    "    # plot no skill\n",
    "    plt.plot([0, 1], [0, 1], linestyle='--')\n",
    "    # plot the roc curve for the model\n",
    "    plt.plot(fpr, tpr, marker='.')\n",
    "    plt.title(\"ROC curve\")\n",
    "    plt.xlabel('false positive rate')\n",
    "    plt.ylabel('true positive rate')\n",
    "    # show the plot\n",
    "    plt.show()"
   ]
  },
  {
   "cell_type": "code",
   "execution_count": 139,
   "id": "25b55a14",
   "metadata": {
    "tags": []
   },
   "outputs": [
    {
     "data": {
      "image/png": "[encoded data removed]",
      "text/plain": [
       "<Figure size 640x480 with 1 Axes>"
      ]
     },
     "metadata": {},
     "output_type": "display_data"
    }
   ],
   "source": [
    "plot_roc(y_test , probs)"
   ]
  },
  {
   "cell_type": "code",
   "execution_count": 140,
   "id": "a5a44c1b",
   "metadata": {
    "tags": []
   },
   "outputs": [
    {
     "data": {
      "image/png": "[encoded data removed]",
      "text/plain": [
       "<Figure size 640x480 with 1 Axes>"
      ]
     },
     "metadata": {},
     "output_type": "display_data"
    }
   ],
   "source": [
    "plot_pre_curve(y_test , probs)"
   ]
  },
  {
   "cell_type": "code",
   "execution_count": null,
   "id": "2e4a9fc4-126d-41ac-854c-d7bd0dfe16dd",
   "metadata": {},
   "outputs": [],
   "source": []
  },
  {
   "cell_type": "code",
   "execution_count": null,
   "id": "ad0f0fcb-a259-469e-8d21-6af57d2dec5a",
   "metadata": {},
   "outputs": [],
   "source": []
  }
 ],
 "metadata": {
  "kernelspec": {
   "display_name": "Python 3 (ipykernel)",
   "language": "python",
   "name": "python3"
  },
  "language_info": {
   "codemirror_mode": {
    "name": "ipython",
    "version": 3
   },
   "file_extension": ".py",
   "mimetype": "text/x-python",
   "name": "python",
   "nbconvert_exporter": "python",
   "pygments_lexer": "ipython3",
   "version": "3.11.5"
  }
 },
 "nbformat": 4,
 "nbformat_minor": 5
}
