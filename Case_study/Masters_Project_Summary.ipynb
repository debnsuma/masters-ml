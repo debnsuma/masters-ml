{
 "cells": [
  {
   "cell_type": "markdown",
   "id": "98ef9246-5c02-4cd4-8fc5-a9a6b823f730",
   "metadata": {},
   "source": [
    "<center><h1 style=\"color: blue;\">Summary of Case Studies towards Master's of Computer Science</h1></center>\n",
    "<center><h2 style=\"color: darkblue;\">Specialization in Machine Learning & Artificial Intelligence</h2></center>\n",
    "<center><h3 style=\"color: black;\">Suman Debnath</h3></center>\n",
    "\n"
   ]
  },
  {
   "cell_type": "markdown",
   "id": "8da37d70-9f81-4e43-bd9f-c6fd773ad6b9",
   "metadata": {
    "tags": []
   },
   "source": [
    "<left><h2 style=\"color: green;\"> 1. Business Case: Aerofit - Descriptive Statistics & Probability</h2></left>\n"
   ]
  },
  {
   "cell_type": "markdown",
   "id": "f68b64a3-e3b2-4ce4-9be9-2665af6c6f33",
   "metadata": {
    "tags": []
   },
   "source": [
    "![](03_Aerofit_DescriptiveStatProb/img1.png)"
   ]
  },
  {
   "cell_type": "markdown",
   "id": "b25d02c6-1510-4f63-b257-5048d88f5f6d",
   "metadata": {
    "tags": []
   },
   "source": [
    "<center><h1 style=\"color: blue;\">Project Details</h1></center>"
   ]
  },
  {
   "cell_type": "markdown",
   "id": "62e840bd-5fdb-4ffe-9036-ea3b5b8c43a4",
   "metadata": {},
   "source": [
    "📖 [Aerofit - Descriptive Statistics & Probability](https://github.com/debnsuma/masters-ml/blob/main/Case_study/03_Aerofit_DescriptiveStatProb/Aerofit_project.ipynb)\n"
   ]
  },
  {
   "cell_type": "markdown",
   "id": "5da22219-29f8-4319-b91a-49e379e66b59",
   "metadata": {},
   "source": [
    "<center><h1 style=\"color: blue;\">Learning Summary</h1></center>\n",
    "\n",
    "- The Aerofit project utilized descriptive analytics to explore customer preferences for treadmill models.\n",
    "- Employed Python libraries: pandas, numpy, matplotlib, seaborn, and scipy for customer data analysis.\n",
    "- Analyzed customer profiles, usage patterns, and income levels for product recommendation optimization.\n",
    "- Emphasized the importance of data-driven decision-making and extracting actionable insights.\n",
    "- Highlighted the practical application of statistical analysis in business, despite not mentioning a specific algorithm.\n"
   ]
  },
  {
   "cell_type": "markdown",
   "id": "ed028d08-56cb-4656-91c0-35f1425bc3cf",
   "metadata": {},
   "source": [
    "<center><h1 style=\"color: blue;\">Introduction</h1></center>\n"
   ]
  },
  {
   "cell_type": "markdown",
   "id": "fff8fe53-80fb-416b-bbdc-2e7c08fbc8fa",
   "metadata": {},
   "source": [
    "Aerofit is a leading brand in the field of fitness equipment. Aerofit provides a product range including machines such as treadmills, exercise bikes, gym equipment, and fitness accessories to cater to the needs of all categories of people.\n",
    "\n",
    "**Business Problem**\n",
    "\n",
    "The market research team at AeroFit wants to identify the characteristics of the target audience for each type of treadmill offered by the company, to provide a better recommendation of the treadmills to the new customers. The team decides to investigate whether there are differences across the product with respect to customer characteristics.\n",
    "\n",
    "   1. Perform descriptive analytics to **create a customer profile** for each AeroFit treadmill product by developing appropriate tables and charts.\n",
    "   2. For each AeroFit treadmill product, construct **two-way contingency tables** and compute all **conditional and marginal probabilities** along with their insights/impact on the business.\n",
    "\n",
    "**Dataset**\n",
    "\n",
    "Link: [Dataset_link](https://d2beiqkhq929f0.cloudfront.net/public_assets/assets/000/001/125/original/aerofit_treadmill.csv)\n",
    "\n",
    "\n",
    "The dataset have the following fields:\n",
    "\n",
    "![](03_Aerofit_DescriptiveStatProb/img2.png)\n"
   ]
  },
  {
   "cell_type": "markdown",
   "id": "58ff99c4-69bd-4fa6-b5a9-044945a76201",
   "metadata": {},
   "source": [
    "<center><h1 style=\"color: red;\">Customer based profiling</h1></center>\n",
    "\n",
    "**KP281**\n",
    "\n",
    " - Easily affordable entry level product, which is also the maximum selling product.\n",
    " \n",
    " \n",
    " - KP281 is the most popular product among the entry level customers.\n",
    " \n",
    " \n",
    " - This product is easily afforded by both Male and Female customers.\n",
    " \n",
    " \n",
    " - Average distance covered in this model is around 70 to 90 miles.\n",
    " \n",
    " \n",
    " - Product is used 3 to 4 times a week.\n",
    " \n",
    " \n",
    " - Most of the customer who have purchased the product have rated Average shape as the fitness rating.\n",
    " \n",
    " \n",
    " - Younger to Elder beginner level customers prefer this product.\n",
    " \n",
    " \n",
    " - Single female & Partnered male customers bought this product more than single male customers.\n",
    " \n",
    " \n",
    " - Income range between 39K to 53K have preferred this product.\n",
    "\n",
    "\n",
    "**KP481**\n",
    "\n",
    " - This is an Intermediate level Product.\n",
    "\n",
    "\n",
    " - KP481 is the second most popular product among the customers.\n",
    "\n",
    "\n",
    " - Fitness Level of this product users varies from Bad to Average Shape depending on their usage.\n",
    "\n",
    "\n",
    " - Customers Prefer this product mostly to cover more miles than fitness.\n",
    "\n",
    "\n",
    " - Average distance covered in this product is from 70 to 130 miles per week.\n",
    "\n",
    "\n",
    " - More Female customers prefer this product than males.\n",
    "\n",
    "\n",
    " - Probability of Female customer buying KP481 is significantly higher than male.\n",
    "\n",
    "\n",
    " - KP481 product is specifically recommended for Female customers who are intermediate user.\n",
    "\n",
    "\n",
    " - Three different age groups prefer this product - Teen, Adult and middle aged.\n",
    "\n",
    "\n",
    " - Average Income of the customer who buys KP481 is 49K.\n",
    "\n",
    "\n",
    " - Average Usage of this product is 3 days per week.\n",
    "\n",
    "\n",
    " - More Partnered customers prefer this product.\n",
    "\n",
    "\n",
    " - There are slightly more male buyers of the KP481.\n",
    "\n",
    "\n",
    " - The distance travelled on the KP481 treadmill is roughly between 75 - 100 Miles. It is also the 2nd most distance travelled model.\n",
    "\n",
    "\n",
    " - The buyers of KP481 in Single & Partnered, Male & Female are same.\n",
    "\n",
    "\n",
    " - The age range of KP481 treadmill customers is roughly between 24-34 years.\n",
    "\n",
    "\n",
    "**KP781**\n",
    "\n",
    " - Due to the High Price & being the advanced type, customer prefers less of this product.\n",
    "\n",
    "\n",
    " - Customers use this product mainly to cover more distance.\n",
    "\n",
    "\n",
    " - Customers who use this product have rated excelled shape as fitness rating.\n",
    "\n",
    "\n",
    " - Customer walk/run average 120 to 200 or more miles per week on his product.\n",
    "\n",
    "\n",
    " - Customers use 4 to 5 times a week at least.\n",
    "\n",
    "\n",
    " - Female Customers who are running average 180 miles (extensive exercise) , are using product KP781, which is higher than Male average using same product.\n",
    "\n",
    "\n",
    " - Probability of Male customer buying Product KP781(31.73%) is way more than female(9.21%).\n",
    "\n",
    "\n",
    " - Probability of a single person buying KP781 is higher than Married customers. So , KP781 is also recommended for people who are single and exercises more.\n",
    "\n",
    "\n",
    " - Middle aged to higher age customers tend to use this model to cover more distance.\n",
    " \n",
    " \n",
    " - Average Income of KP781 buyers are over 75K per annum\n",
    " \n",
    " \n",
    " - Partnered Female bought KP781 treadmill compared to Partnered Male.\n",
    " \n",
    " \n",
    " - Customers who have more experience with previous aerofit products tend to buy this product\n",
    " \n",
    " \n",
    " - This product is preferred by the customer where the correlation between Education and Income is High.\n",
    " \n",
    " \n",
    " \n",
    " <center><h1 style=\"color: red;\">Recommendation</h1></center>\n",
    " \n",
    " \n",
    "\n",
    " - Female who prefer exercising equipments are very low here.  Hence, we should run a marketing campaign on to encourage women to exercise more\n",
    "\n",
    " - KP281 & KP481 treadmills are preferred by the customers whose annual income lies in the range of 39K - 53K Dollars. These models should promoted as budget treadmills.\n",
    " \n",
    " \n",
    " - As KP781 provides more features and functionalities, the treadmill should be marketed for professionals and athletes.\n",
    " \n",
    " \n",
    " - KP781 product should be promotted using influencers and other international atheletes.\n",
    " \n",
    "\n",
    " - Research required for expanding market beyond 50 years of age considering health pros and cons.\n",
    " \n",
    " \n",
    " - Provide customer support and recommend users to upgrade from lower versions to next level versions after consistent usages.\n",
    " \n",
    " \n",
    " - KP781 can be recommended for Female customers who exercises extensively along with easy usage guidance since this type is advanced.\n",
    " \n",
    " \n",
    " - Target the Age group above 40 years to recommend Product KP781.\n",
    " \n",
    " - Education with 14 to 16 years have tendency to buy more of KP281 models\n",
    " \n",
    " \n",
    " \n",
    " <center><h1 style=\"color: red;\">Conclusion</h1></center>\n",
    " \n",
    " \n",
    "\n",
    "- KP 281 model is the most purchased model (44.4%) then KP 481 (33.3%). KP 781 is the least sold model (22.2%).\n",
    "\n",
    "- There are more Male customers (57.8%) than Female customers (42.2%).\n",
    "\n",
    "- Average Usage of Males is more than Average usage of Females.\n",
    "\n",
    "- Customers buying treadmill are younger and average age of customer is 28.\n",
    "\n",
    "- Most of the customers earns less than 70K and prefer KP 281 & KP 481 models.\n",
    "\n",
    "- 59.4% of the customers who purchased treadmill are partnered.\n",
    "\n",
    "- Customers average education is 16.\n",
    " \n",
    " \n",
    " "
   ]
  },
  {
   "cell_type": "markdown",
   "id": "950836aa-8700-4d36-beb3-19719ca00462",
   "metadata": {},
   "source": [
    "<center><h1 style=\"color: red;\">Future</h1></center>\n",
    "\n",
    "- For KP281: Concentrate advertising broadly across gender and marital status towards individuals with annual income less than $75,000, with some college education or a bachelor’s degree, who are unfit or average fitness and in their 20s or 30s.\n",
    "\n",
    "- For KP481 : Concentrate advertising broadly across gender and marital status towards individuals with annual income less than $75,000, with some college education or a bachelor’s degree, who are unfit or average fitness and in their 20s or 30s.\n",
    "\n",
    "- For KP781: Concentrate advertising towards males who are average fitness to very fit, have a bachelors degree or advanced education, and are in their 20s or 30s.\n",
    "\n",
    "- There may be untapped potential for targeting customers in the 40s and beyond age group, which appear to be an underserved population. Analysis indicates more than just outlying purchases of KP 781 .\n",
    "\n",
    "- Individuals with only a high school education also appear to be an underserved population. Likely best candidates for KP 281 or KP 481 due to annual income constraints."
   ]
  },
  {
   "cell_type": "markdown",
   "id": "d49cbf9b-f853-43cd-9436-b542c2e78af9",
   "metadata": {
    "tags": []
   },
   "source": [
    "<left><h2 style=\"color: green;\"> 2. Yulu - Hypothesis Testing</h2></left>"
   ]
  },
  {
   "cell_type": "markdown",
   "id": "2af2c1bb-02fa-4eb1-a836-5ec38ad808d7",
   "metadata": {
    "tags": []
   },
   "source": [
    "![](05_Yulu/img.png)\n"
   ]
  },
  {
   "cell_type": "markdown",
   "id": "c4e6e3de-381f-4333-b721-cc61d9ed0d7a",
   "metadata": {},
   "source": [
    "<center><h1 style=\"color: blue;\">Project Details</h1></center>"
   ]
  },
  {
   "cell_type": "markdown",
   "id": "0e973c62-ef50-4419-94d1-e7737d233194",
   "metadata": {},
   "source": [
    "📖 [Yulu - Hypothesis Testing](https://github.com/debnsuma/masters-ml/blob/main/Case_study/05_Yulu/Yulu_project.ipynb)\n"
   ]
  },
  {
   "cell_type": "markdown",
   "id": "c1675256-1e23-4fa3-a59f-a4b3aac32fbd",
   "metadata": {},
   "source": [
    "<center><h1 style=\"color: blue;\">Learning Summary</h1></center>\n",
    "\n",
    "- The Yulu project analyzed demand for shared electric cycles in India through hypothesis testing and descriptive analytics.\n",
    "- It evaluated the impact of seasonality, holidays, working days, and weather conditions on cycle rental counts.\n",
    "- Insights showed significant patterns in rental demand related to seasons and weather, guiding marketing and inventory management.\n",
    "- Showcasing hypothesis testing's role in understanding consumer behavior and enhancing service offerings.\n"
   ]
  },
  {
   "cell_type": "markdown",
   "id": "b0968555-3b2f-437d-9421-e4c680ae8ec3",
   "metadata": {},
   "source": [
    "<center><h1 style=\"color: blue;\">Introduction</h1></center>\n"
   ]
  },
  {
   "cell_type": "markdown",
   "id": "862cf8fc-220e-46ee-a350-eb05b5d27e55",
   "metadata": {},
   "source": [
    "Yulu is India’s leading micro-mobility service provider, which offers unique vehicles for the daily commute. Starting off as a mission to eliminate traffic congestion in India, Yulu provides the safest commute solution through a user-friendly mobile app to enable shared, solo and sustainable commuting.\n",
    "\n",
    "Yulu zones are located at all the appropriate locations (including metro stations, bus stands, office spaces, residential areas, corporate offices, etc) to make those first and last miles smooth, affordable, and convenient!\n",
    "\n",
    "Yulu has recently suffered considerable dips in its revenues. They have contracted a consulting company to understand the factors on which the demand for these shared electric cycles depends. Specifically, they want to understand the factors affecting the demand for these shared electric cycles in the Indian market.\n",
    "\n",
    "**Business Problem**\n",
    "\n",
    "The company wants to know:\n",
    "\n",
    "- Which variables are significant in predicting the demand for shared electric cycles in the Indian market?\n",
    "- How well those variables describe the electric cycle demands\n",
    "\n",
    "**Dataset**\n",
    "\n",
    "Dataset link: [yulu_data.csv](https://d2beiqkhq929f0.cloudfront.net/public_assets/assets/000/001/428/original/bike_sharing.csv)\n",
    "\n",
    "\n",
    "The dataset have the following fields:\n",
    "\n",
    "`datetime`: datetime\n",
    "\n",
    "`season`: season (1: spring, 2: summer, 3: fall, 4: winter)\n",
    "\n",
    "`holiday`: whether day is a holiday or not (extracted from http://dchr.dc.gov/page/holiday-schedule)\n",
    "\n",
    "`workingday`: if day is neither weekend nor holiday is 1, otherwise is 0.\n",
    "\n",
    "`weather`:\n",
    "    - Clear, Few clouds, partly cloudy, partly cloudy\n",
    "    - Mist + Cloudy, Mist + Broken clouds, Mist + Few clouds, Mist\n",
    "    - Light Snow, Light Rain + Thunderstorm + Scattered clouds, Light Rain + Scattered clouds\n",
    "    - Heavy Rain + Ice Pallets + Thunderstorm + Mist, Snow + Fog\n",
    "\n",
    "`temp`: temperature in Celsius\n",
    "\n",
    "`atemp`: feeling temperature in Celsius\n",
    "\n",
    "`humidity`: humidity\n",
    "\n",
    "`windspeed`: wind speed\n",
    "\n",
    "`casual`: count of casual users\n",
    "\n",
    "`registered`: count of registered users\n",
    "\n",
    "`count`: count of total rental bikes including both casual and registered\n"
   ]
  },
  {
   "cell_type": "markdown",
   "id": "44d9b91d-047f-460f-be07-3b14c279b18c",
   "metadata": {},
   "source": [
    "<center><h1 style=\"color: red;\">Summary</h1></center>\n",
    "\n",
    " - The data is given from Timestamp('2011-01-01 00:00:00') to Timestamp('2012-12-19 23:00:00'). The total time period for which the data is given is '718 days 23:00:00'.\n",
    " - Out of every 100 users, around 19 are casual users and 81 are registered users.\n",
    " - The mean total hourly count of rental bikes is 144 for the year 2011 and 239 for the year 2012. An annual growth rate of 65.41 % can be seen in the demand of electric vehicles on an hourly basis.\n",
    " - There is a seasonal pattern in the count of rental bikes, with higher demand during the spring and summer months, a slight decline in the fall, and a further decrease in the winter months.\n",
    "  - The average hourly count of rental bikes is the lowest in the month of January followed by February and March.\n",
    " - There is a distinct fluctuation in count throughout the day, with low counts during early morning hours, a sudden increase in the morning, a peak count in the afternoon, and a gradual decline in the evening and nighttime.\n",
    " - More than 80 % of the time, the temperature is less than 28 degrees celcius.\n",
    " - More than 80 % of the time, the humidity value is greater than 40. Thus for most of the time, humidity level varies from optimum to too moist.\n",
    " - More than 85 % of the total, windspeed data has a value of less than 20.\n",
    " - The hourly count of total rental bikes is the highest in the clear and cloudy weather, followed by the misty weather and rainy weather. There are very few records for extreme weather conditions.\n",
    " - The mean hourly count of the total rental bikes is statistically similar for both working and non- working days.\n",
    " - There is statistically significant dependency of weather and season based on the hourly total number of bikes rented.\n",
    " - The hourly total number of rental bikes is statistically different for different weathers.\n",
    " - There is no statistically significant dependency of weather 1, 2, 3 on season based on the average hourly total number of bikes rented.\n",
    " - The hourly total number of rental bikes is statistically different for different seasons."
   ]
  },
  {
   "cell_type": "markdown",
   "id": "5988db62-718e-4f39-b7ab-cd8159347528",
   "metadata": {},
   "source": [
    "<center><h1 style=\"color: red;\">Recommendation</h1></center>\n",
    "\n",
    "\n",
    " - **Seasonal Marketing**: Since there is a clear seasonal pattern in the count of rental bikes, Yulu can adjust its marketing strategies accordingly. Focus on promoting bike rentals during the spring and summer months when there is higher demand. Offer seasonal discounts or special packages to attract more customers during these periods.\n",
    "\n",
    " - **Time-based Pricing**: Take advantage of the hourly fluctuation in bike rental counts throughout the day. Consider implementing time-based pricing where rental rates are lower during off-peak hours and higher during peak hours. This can encourage customers to rent bikes during less busy times, balancing out the demand and optimizing the resources.\n",
    "\n",
    " - **Weather-based Promotions**: Recognize the impact of weather on bike rentals. Create weather-based promotions that target customers during clear and cloudy weather, as these conditions show the highest rental counts. Yulu can offer weather-specific discounts to attract more customers during these favorable weather conditions.\n",
    "\n",
    " - **User Segmentation**: Given that around 81% of users are registered, and the remaining 19% are casual, Yulu can tailor its marketing and communication strategies accordingly. Provide loyalty programs, exclusive offers, or personalized recommendations for registered users to encourage repeat business. For casual users, focus on providing a seamless rental experience and promoting the benefits of bike rentals for occasional use.\n",
    "\n",
    " - **Optimize Inventory**: Analyze the demand patterns during different months and adjust the inventory accordingly. During months with lower rental counts such as January, February, and March, Yulu can optimize its inventory levels to avoid excess bikes. On the other hand, during peak months, ensure having sufficient bikes available to meet the higher demand.\n",
    "\n",
    " - **Improve Weather Data Collection**: Given the lack of records for extreme weather conditions, consider improving the data collection process for such scenarios. Having more data on extreme weather conditions can help to understand customer behavior and adjust the operations accordingly, such as offering specialized bike models for different weather conditions or implementing safety measures during extreme weather.\n",
    "\n",
    " - **Customer Comfort**: Since humidity levels are generally high and temperature is often below 28 degrees Celsius, consider providing amenities like umbrellas, rain jackets, or water bottles to enhance the comfort and convenience of the customers. These small touches can contribute to a positive customer experience and encourage repeat business.\n",
    "\n",
    " - **Collaborations with Weather Services**: Consider collaborating with weather services to provide real-time weather updates and forecasts to potential customers. Incorporate weather information into your marketing campaigns or rental app to showcase the ideal biking conditions and attract users who prefer certain weather conditions.\n",
    "\n",
    " - **Seasonal Bike Maintenance**: Allocate resources for seasonal bike maintenance. Before the peak seasons, conduct thorough maintenance checks on the bike fleet to ensure they are in top condition. Regularly inspect and service bikes throughout the year to prevent breakdowns and maximize customer satisfaction.\n",
    " \n",
    " - **Customer Feedback and Reviews**: Encourage customers to provide feedback and reviews on their biking experience. Collecting feedback can help identify areas for improvement, understand customer preferences, and tailor the services to better meet customer expectations.\n",
    " \n",
    " - **Social Media Marketing**: Leverage social media platforms to promote the electric bike rental services. Share captivating visuals of biking experiences in different weather conditions, highlight customer testimonials, and engage with potential customers through interactive posts and contests. Utilize targeted advertising campaigns to reach specific customer segments and drive more bookings.\n",
    " \n",
    " - **Special Occasion Discounts**: Since Yulu focusses on providing a sustainable solution for vehicular pollution, it should give special discounts on the occassions like Zero Emissions Day (21st September), Earth day (22nd April), World Environment Day (5th June) etc in order to attract new users.\n"
   ]
  },
  {
   "cell_type": "markdown",
   "id": "a224e98c-8e5b-47f5-a896-d86d344743d9",
   "metadata": {},
   "source": [
    "<left><h2 style=\"color: green;\"> 3. OLA - Ensemble Learning</h2></left>"
   ]
  },
  {
   "cell_type": "markdown",
   "id": "f8ed37e4-4916-4f65-acf9-6d2cba197c0f",
   "metadata": {},
   "source": [
    "<div style=\"text-align:center;\">\n",
    "  <img src=\"09_Ola_EnsembleLearnings/ola.webp\" />\n",
    "</div>\n"
   ]
  },
  {
   "cell_type": "markdown",
   "id": "89ebee8e-05f6-4a42-860b-9ce59e9e8532",
   "metadata": {},
   "source": [
    "<center><h1 style=\"color: blue;\">Project Details</h1></center>"
   ]
  },
  {
   "cell_type": "markdown",
   "id": "cc4e4144-21ab-4b54-b440-c16805dedffa",
   "metadata": {},
   "source": [
    "📖 [OLA - Ensemble Learning](https://github.com/debnsuma/masters-ml/blob/main/Case_study/09_Ola_EnsembleLearnings/OLA_Ensemble_Learning.ipynb)\n"
   ]
  },
  {
   "cell_type": "markdown",
   "id": "30c52261-23ca-414e-b8ef-1297327b727d",
   "metadata": {},
   "source": [
    "<center><h1 style=\"color: blue;\">Learning Summary</h1></center>\n",
    "\n",
    "- The OLA Ensemble Learning project aimed at predicting driver churn by analyzing demographics, tenure, and performance.\n",
    "- Utilized algorithms: Random Forest, Bagging Classifier with Decision Trees, XGBoost Classifier, and Gradient Boosting Classifier. Gradient Boosting was particularly effective, with an accuracy of 0.8910 and ROC-AUC of 0.9448.\n",
    "- Highlighted factors affecting driver retention, including joining year and total business value.\n",
    "- Emphasized the importance of ensemble learning techniques for enhancing predictive accuracy in churn modeling."
   ]
  },
  {
   "cell_type": "markdown",
   "id": "2d17cf2e-a357-46f9-8bd8-aee585740079",
   "metadata": {},
   "source": [
    "<center><h1 style=\"color: blue;\">Introduction</h1></center>\n",
    "\n",
    "- Recruiting and retaining drivers is seen by industry watchers as a tough battle for Ola.\n",
    "- Churn among drivers is high and it’s very easy for drivers to stop working for the service on the fly or jump to Uber depending on the rates.\n",
    "\n",
    "\n",
    "- As the companies get bigger, the high churn could become a bigger problem. To find new drivers, Ola is casting a wide net, including people who don’t have cars for jobs. But this acquisition is really costly.\n",
    "- Losing drivers frequently impacts the morale of the organization and acquiring new drivers is more expensive than retaining existing ones.\n",
    "\n",
    "\n",
    "- You are working as a data scientist with the Analytics Department of Ola, focused on driver team attrition.\n",
    "- You are provided with the monthly information for a segment of drivers for 2019 and 2020 and tasked to predict whether a driver will be leaving the company or not based on their attributes like\n",
    "\n",
    "- Demographics (city, age, gender etc.)\n",
    "- Tenure information (joining date, Last Date)\n",
    "\n",
    "- Historical data regarding the performance of the driver (Quarterly rating, Monthly business acquired, grade, Income)\n",
    "\n",
    "\n",
    "\n",
    "### Column Profiling:\n",
    "\n",
    "\n",
    "- MMMM-YY : Reporting Date (Monthly)\n",
    "- Driver_ID : Unique id for drivers\n",
    "- Age : Age of the driver\n",
    "- Gender : Gender of the driver – Male : 0, Female: 1\n",
    "- City : City Code of the driver\n",
    "- Education_Level : Education level – 0 for 10+ ,1 for 12+ ,2 for graduate\n",
    "- Income : Monthly average Income of the driver\n",
    "- Date Of Joining : Joining date for the driver\n",
    "- LastWorkingDate : Last date of working for the driver\n",
    "- Joining Designation : Designation of the driver at the time of joining\n",
    "- Grade : Grade of the driver at the time of reporting\n",
    "- Total Business Value : The total business value acquired by the driver in a month (negative business indicates -cancellation/refund or car EMI adjustments)\n",
    "- Quarterly Rating : Quarterly rating of the driver: 1,2,3,4,5 (higher is better)"
   ]
  },
  {
   "cell_type": "markdown",
   "id": "2bd84a4c-8ad3-4f95-935a-04d70028d28d",
   "metadata": {},
   "source": [
    "<center><h1 style=\"color: red;\">Summary</h1></center>\n",
    "\n",
    "### Data Distribution:\n",
    "- **Gender**: \n",
    "  - Male: 1380\n",
    "  - Female: 956\n",
    "\n",
    "- **Churn Distribution**:\n",
    "  - 1 (Churned): 1616 (67.87%)\n",
    "  - 0 (Not Churned): 765 (32.13%)\n",
    "\n",
    "### Random Forest:\n",
    "- Train and test score: (0.8697, 0.8679)\n",
    "- Highest feature importance: Joining year, followed by the number of records available in data, and total business value.\n",
    "- Recall: 0.866\n",
    "- Precision: 0.928\n",
    "- F1-Score: 0.89\n",
    "\n",
    "### Grid Search CV on Random Forest:\n",
    "- Best parameters: ccp_alpha=0.001, max_depth=10, max_features=7, n_estimators=300\n",
    "- Best score: 0.8881\n",
    "\n",
    "### Bagging Classifier with Decision Trees:\n",
    "- 50 Decision Trees, max_depth=7, class_weight=\"balanced\"\n",
    "- F1 Score: 0.9064\n",
    "- Precision: 0.9388\n",
    "- Recall Score: 0.8762\n",
    "- Accuracy: 0.880\n",
    "\n",
    "### XGBoost Classifier (Grid Search CV):\n",
    "- Parameters: 'max_depth': 2, 'n_estimators': 100\n",
    "- Test Scores:\n",
    "  - Accuracy: 0.87\n",
    "  - F1 Score: 0.90\n",
    "  - Recall: 0.923\n",
    "  - Precision: 0.884\n",
    "- Highest feature importance: Joining year, followed by the number of records available in data, and total business value.\n",
    "\n",
    "### Gradient Boosting Classifier (GBC):\n",
    "- Train Score: 0.9144\n",
    "- Test Score: 0.8910\n",
    "- Accuracy Score: 0.8910\n",
    "- ROC-AUC Score (test dataset): 0.9448\n",
    "- Precision Score (test dataset): 0.9288\n",
    "- Recall Score (test dataset): 0.9119\n",
    "- F1 Score (test dataset): 0.9202\n"
   ]
  },
  {
   "cell_type": "markdown",
   "id": "95e340e4-b793-4014-9dc2-647f394a60c7",
   "metadata": {},
   "source": [
    "<center><h1 style=\"color: red;\">Observations</h1></center>\n",
    "\n",
    "- The probability of churn is higher in cases where the education level is 0 and 1, compared to 2.\n",
    "- For drivers with a joining designation of 1, the probability of churn is higher.\n",
    "- When the quarterly rating is 1, the probability of churn is significantly higher.\n",
    "- A similar pattern is observed for drivers whose quarterly rating has increased throughout their tenure.\n",
    "- Drivers who joined in 2018 and 2019 have a very high probability of churn compared to those who joined in 2020 or before 2018.\n"
   ]
  },
  {
   "cell_type": "markdown",
   "id": "a7467da7-1234-4001-9982-1405f883905c",
   "metadata": {
    "tags": []
   },
   "source": [
    "<left><h2 style=\"color: green;\"> 4. Delhivery - Feature Engineering</h2></left>"
   ]
  },
  {
   "cell_type": "markdown",
   "id": "d94118eb-4430-4b6b-9137-e45d98052ab7",
   "metadata": {},
   "source": [
    "<div style=\"text-align:center;\">\n",
    "  <img src=\"06_ Delhivery_Feature_Engineering/img_d.avif\" />\n",
    "</div>\n"
   ]
  },
  {
   "cell_type": "markdown",
   "id": "61a0744c-8963-435f-b257-d9edddac79de",
   "metadata": {},
   "source": [
    "<center><h1 style=\"color: blue;\">Project Details</h1></center>"
   ]
  },
  {
   "cell_type": "markdown",
   "id": "b76f3846-e0b5-4143-8f47-759da6ac41fb",
   "metadata": {},
   "source": [
    "📖 [Delhivery - Feature Engineering](https://github.com/debnsuma/masters-ml/blob/main/Case_study/09_Ola_EnsembleLearnings/OLA_Ensemble_Learning.ipynb)\n"
   ]
  },
  {
   "cell_type": "markdown",
   "id": "f5e08e28-061b-411e-896d-c77b4579bd4e",
   "metadata": {},
   "source": [
    "<center><h1 style=\"color: blue;\">Learning Summary</h1></center>\n",
    "\n",
    "- The Delhivery project focused on optimizing logistics and delivery efficiency via data analysis.\n",
    "- Concentrated on feature engineering, exploratory data analysis, and hypothesis testing to enhance understanding of delivery routes, times, and efficiency.\n",
    "- Unveiled insights on delivery patterns, suggesting the use of small vehicles for intra-city and heavy trucks for long-distance deliveries.\n",
    "- Analyzed 14,817 trips, applying statistical methods like two-sample t-tests to compare actual delivery times against planned, enhancing service delivery and operational efficiency."
   ]
  },
  {
   "cell_type": "markdown",
   "id": "c95c97be-12cf-4c85-babd-08d1e2e46457",
   "metadata": {},
   "source": [
    "<center><h1 style=\"color: blue;\">Introduction</h1></center>\n"
   ]
  },
  {
   "cell_type": "markdown",
   "id": "f1090b3d-c94d-4bbf-8959-da52dedcec15",
   "metadata": {},
   "source": [
    "Delhivery is the largest and fastest-growing fully integrated player in India by revenue in Fiscal 2021. They aim to build the operating system for commerce, through a combination of world-class infrastructure, logistics operations of the highest quality, and cutting-edge engineering and technology capabilities.\n",
    "\n",
    "The Data team builds intelligence and capabilities using this data that helps them to widen the gap between the quality, efficiency, and profitability of their business versus their competitors.\n",
    "\n",
    "**Business Problem**\n",
    "\n",
    "The company wants to understand and process the data coming out of data engineering pipelines:\n",
    "\n",
    "• Clean, sanitize and manipulate data to get useful features out of raw fields\n",
    "\n",
    "• Make sense out of the raw data and help the data science team to build forecasting models on it\n",
    "\n",
    "**Dataset**\n",
    "\n",
    "Dataset link: [delhivery_data.csv](https://d2beiqkhq929f0.cloudfront.net/public_assets/assets/000/001/551/original/delhivery_data.csv?1642751181)\n",
    "\n",
    "\n",
    "The dataset have the following fields:\n",
    "\n",
    "    - data - tells whether the data is testing or training data\n",
    "    - trip_creation_time – Timestamp of trip creation\n",
    "    - route_schedule_uuid – Unique Id for a particular route schedule\n",
    "    - route_type – Transportation type\n",
    "    - FTL – Full Truck Load: FTL shipments get to the destination sooner, as the truck is making no other pickups or drop-offs along the way\n",
    "    - Carting: Handling system consisting of small vehicles (carts)\n",
    "    - trip_uuid - Unique ID given to a particular trip (A trip may include different source and destination centers)\n",
    "    - source_center - Source ID of trip origin\n",
    "    - source_name - Source Name of trip origin\n",
    "    - destination_cente – Destination ID\n",
    "    - destination_name – Destination Name\n",
    "    - od_start_time – Trip start time\n",
    "    - od_end_time – Trip end time\n",
    "    - start_scan_to_end_scan – Time taken to deliver from source to destination\n",
    "    - is_cutoff – Unknown field\n",
    "    - cutoff_factor – Unknown field\n",
    "    - cutoff_timestamp – Unknown field\n",
    "    - actual_distance_to_destination – Distance in Kms between source and destination warehouse\n",
    "    - actual_time – Actual time taken to complete the delivery (Cumulative)\n",
    "    - osrm_time – An open-source routing engine time calculator which computes the shortest path between points in a given map (Includes usual traffic, distance through major and minor roads) and gives the time (Cumulative)\n",
    "    - osrm_distance – An open-source routing engine which computes the shortest path between points in a given map (Includes usual traffic, distance through major and minor roads) (Cumulative)\n",
    "    - factor – Unknown field\n",
    "    - segment_actual_time – This is a segment time. Time taken by the subset of the package delivery\n",
    "    - segment_osrm_time – This is the OSRM segment time. Time taken by the subset of the package delivery\n",
    "    - segment_osrm_distance – This is the OSRM distance. Distance covered by subset of the package delivery\n",
    "    - segment_factor – Unknown field\n"
   ]
  },
  {
   "cell_type": "markdown",
   "id": "d9c395cd-d7af-4e97-9d84-599beb6a42a3",
   "metadata": {},
   "source": [
    "<center><h1 style=\"color: red;\">Summary</h1></center>\n",
    "\n",
    "### Insights and Observations:\n",
    "\n",
    "- A total of 14,817 distinct trips were recorded between various source and destination points during September and October of 2018.\n",
    "- There were 1,504 delivery routes utilized for these trips.\n",
    "- The data comprises 1,508 unique source centers and 1,481 unique destination centers.\n",
    "\n",
    "- Among the 14,817 total distinct trips:\n",
    "   - 8,908 (60%) were categorized under Carting, employing small vehicles,\n",
    "   - 5,909 (40%) were categorized as FTL (Full Truck Load), facilitating quicker deliveries due to the absence of intermediate pickups or drop-offs.\n",
    "\n",
    "### Hypothesis Test Outcomes:\n",
    "- The two-sample t-test provided insights such as:\n",
    "    - The average `time_taken_btwn_odstart_and_od_end` for the population equates to the average `start_scan_to_end_scan` for the population.\n",
    "    - The population's average `actual_time` is lesser than the average `start_scan_to_end_scan`.\n",
    "\n",
    "### Exploratory Data Analysis:\n",
    "- The analysis reveals that cities like Mumbai (Maharashtra), Delhi, Gurgaon (Haryana), Bengaluru (Karnataka), Hyderabad (Telangana), Chennai (Tamil Nadu), Ahmedabad (Gujarat), Pune (Maharashtra), Chandigarh, and Kolkata (West Bengal) record a high number of intra-city trips.\n",
    "- Regarding unequal source and destination states, the highest number of trips occur between: Delhi to Gurgaon, Gurgaon to Bengaluru, Bhiwandi/Mumbai to Pune (Maharashtra), and Sonipat to Gurgaon (Haryana).\n",
    "- Numerous deliveries to airports were noted, including routes like Chennai to MAA Chennai International Airport, Pune to Pune Airport (PNQ), Kolkata to CCU West Bengal Kolkata International Airport, and Bengaluru to BLR-Bengaluru International Airport.\n",
    "\n",
    "- From the Bar charts and calculated tables, it's apparent that the majority of trips occur within specific cities. Moreover, regarding average distance between destinations, routes like Guwahati to Mumbai, Bengaluru to Chandigarh, Bengaluru to Delhi, and Bengaluru to Gurgaon are among the longest.\n",
    "\n",
    "### Significant Long-Distance Routes:\n",
    "- Routes with substantial distances and high trip occurrences include: Guwahati to Bhiwandi, Bengaluru to Chandigarh, Bengaluru to Delhi, Gurgaon to MAA Chennai Airport, Bhiwandi to Kolkata, Bengaluru to Kolkata, Gurgaon to Hyderabad, and Gurgaon to Kolkata.\n",
    "\n",
    "### Multi-City Routes:\n",
    "- Notable multi-city routes include: Guwahati to LakhimpurN, Jaipur to Tarnau, Guwahati to Tura, Mangalore to Udupi, Ajmer to Raipur, Mainpuri to Tilhar - each traversing through more than eight cities.\n",
    "\n",
    "### Busiest Routes and High-Activity States:\n",
    "- Delhi to Haryana emerges as the busiest route with over 400 trips. Other busy routes include Haryana to Uttar Pradesh, Chandigarh to Punjab, and Delhi to Uttar Pradesh.\n",
    "- States like Maharashtra, Karnataka, Tamil Nadu, Haryana, Telangana, Gujarat, West Bengal, and Uttar Pradesh have recorded over 1,000 trips (Cells In.[173]).\n",
    "\n",
    "### Major Traffic Warehouses:\n",
    "- Warehouses experiencing significant traffic, and thus identified as busiest junctions, include: Bengaluru (Karnataka), Gurgaon (Haryana), Mumbai (Maharashtra), Hyderabad (Telangana), Delhi, Pune (Maharashtra), Chandigarh (Punjab), Chennai (Tamil Nadu), Sonipat (Haryana), Kolkata (West Bengal), Ahmedabad (Gujarat), MAA (Tamil Nadu), Jaipur (Rajasthan), Kanpur (Uttar Pradesh), Surat (Gujarat), Muzaffarpur (Bihar), FBD (Haryana), Bhopal (Madhya Pradesh), and Noida (Uttar Pradesh).\n"
   ]
  },
  {
   "cell_type": "markdown",
   "id": "d72c10d3-b529-4776-887e-cefe282c458c",
   "metadata": {},
   "source": [
    "<center><h1 style=\"color: red;\">Recommendation</h1></center>\n",
    "\n",
    "- Based on the analysis, employing Carting (small vehicles) for intra-city deliveries is advisable to expedite delivery times. For long-distance or heavy load deliveries, utilizing Heavy trucks is recommended. By adhering to this strategy, delivery times can be optimized which in turn, may enhance revenue generation according to the operational requirements.\n",
    "- Enhancing connectivity in tier 2 and tier 3 cities, coupled with strategic partnerships with various e-commerce giants, can potentially boost both revenue and reputation regarding cross-border connectivity.\n",
    "- Efforts can be channeled towards refining the scanning process at both the initiation and conclusion phases. By optimizing the start and end scanning times, it's plausible to align the actual delivery times closer to the OSRM estimated delivery times.\n",
    "\n"
   ]
  },
  {
   "cell_type": "markdown",
   "id": "a1422d12-c364-4d2f-947b-a7ec823c6b3f",
   "metadata": {},
   "source": [
    "<left><h2 style=\"color: green;\"> 5. Walmart - Confidence Interval and CLT </h2></left>"
   ]
  },
  {
   "cell_type": "markdown",
   "id": "69ddf843-dc7c-405c-933c-0b8e37367d99",
   "metadata": {},
   "source": [
    "![](04_Walmart/img1.jpeg)"
   ]
  },
  {
   "cell_type": "markdown",
   "id": "9083254c-0d6d-4018-9232-a66932968ac6",
   "metadata": {},
   "source": [
    "<center><h1 style=\"color: blue;\">Project Details</h1></center>"
   ]
  },
  {
   "cell_type": "markdown",
   "id": "41ba576d-bec7-4352-835a-9ee5aa3a8d80",
   "metadata": {
    "tags": []
   },
   "source": [
    "📖 [Walmart - Confidence Interval and CLT](https://github.com/debnsuma/masters-ml/blob/main/Case_study/04_Walmart/Walmart_project.ipynb)\n"
   ]
  },
  {
   "cell_type": "markdown",
   "id": "7329975e-7599-4738-8e31-b075a6101c70",
   "metadata": {},
   "source": [
    "<center><h1 style=\"color: blue;\">Learning Summary</h1></center>\n",
    "\n",
    "- Analyzed customer purchase behaviors at Walmart, focusing on gender, marital status, and age during Black Friday.\n",
    "- Utilized Central Limit Theorem and bootstrapping for statistical analysis.\n",
    "- Found men generally spend more than women; no significant difference in spending between married and single customers.\n",
    "- Identified 26-35 age group as 40% of customers, with spending reflecting overall average.\n",
    "- Recommended targeted marketing strategies for various demographics to optimize revenue."
   ]
  },
  {
   "cell_type": "markdown",
   "id": "8fa465fc-04ca-416f-89c3-09338548eea4",
   "metadata": {},
   "source": [
    "<center><h1 style=\"color: blue;\">Introduction</h1></center>\n"
   ]
  },
  {
   "cell_type": "markdown",
   "id": "ed5a0a1a-7da3-4c20-914c-6ea369aabac8",
   "metadata": {},
   "source": [
    "Walmart is an American multinational retail corporation that operates a chain of supercenters, discount departmental stores, and grocery stores from the United States. Walmart has more than 100 million customers worldwide.\n",
    "\n",
    "**Business Problem**\n",
    "\n",
    "The Management team at Walmart Inc. wants to analyze the customer purchase behavior (specifically, purchase amount) against the customer’s gender and the various other factors to help the business make better decisions. They want to understand if the spending habits differ between male and female customers: Do women spend more on Black Friday than men? (Assume 50 million customers are male and 50 million are female).\n",
    "\n",
    "**Dataset**\n",
    "\n",
    "The company collected the transactional data of customers who purchased products from the Walmart Stores during Black Friday. The dataset has the following features:\n",
    "Dataset link: [Walmart_data.csv](https://d2beiqkhq929f0.cloudfront.net/public_assets/assets/000/001/293/original/walmart_data.csv)\n",
    "\n",
    "\n",
    "The dataset have the following fields:\n",
    "\n",
    "![](04_Walmart/img2.png)\n"
   ]
  },
  {
   "cell_type": "markdown",
   "id": "26a5e631-83db-4751-803f-eb1016e9c66f",
   "metadata": {},
   "source": [
    "<center><h1 style=\"color: red;\">Summary</h1></center>\n",
    "\n",
    "- 75% male and 25% are female customers as per given sample data\n",
    "\n",
    "- (With 95% confidence and sample size of 10000 , 500 trials.), As per confidence Interval comparison for both female purchase and male purchase data , its clear  that there's no over lapping , and hence there's a good amount of difference between Male and Female Spending amounts . \n",
    "\n",
    "- Male Customers are more likely to spend more amount than female customers . \n",
    "\n",
    "- Average Male Spending Amount from all 100 million customers lies in Range of 9333 to 9533 as per Bootstrapping Method\n",
    "\n",
    "- Average Female Spending Amount from all 100 million customers lies in Range of 8639 to 8826 as per Bootstrapping Method\n",
    "\n",
    "- As per confidence Interval comparison for both Single and Married Customer's average purchase data\n",
    "\n",
    "- There is not much difference between their average spending amounts. Married and Single Customer's spending amounts distribution are almost lies with same distribution.\n",
    "\n",
    "- Customers from age 26-35 are 40% of all customers. and their Average Spending amount is near to overall customers average spending amount\n",
    "\n",
    "- Age group 51-55 customers are more likely to spend more amount than all other groups\n",
    "\n",
    "- Customers under 17 age are the least spending average amount\n",
    "\n",
    "- As per calculations and above distribution plot, as we increase the sample size, standard error decreases , means that the average spending amount gets closers and closer to the actual mean spending amount of the all customer average spending amount.\n",
    "\n",
    "\n",
    "- All city categories are having customers majorly who are living there for 1 to 2 years.\n",
    "\n",
    "- Out of all women, 35% of the revenue coming from agae group 18 to 45 and so is same for men as well."
   ]
  },
  {
   "cell_type": "markdown",
   "id": "f0a6bf24-f456-4757-ad24-a6dcf814fe79",
   "metadata": {},
   "source": [
    "<center><h1 style=\"color: red;\">Recommendation</h1></center>\n",
    "\n",
    "\n",
    "- City Category B has the highest customer base compared to C and A . Since City Category A and C customers, have the lesser spending average amount that city category B customers, more infrastructure and marketing strategies can be focued on City category A.  \n",
    "\n",
    "- There is not much significant difference between Married and Single Category Customers, no changes needs to be taken in that area.\n",
    "\n",
    "- And there is a huge gap and difference between Male and Female spending average amounts and intervals, We can introduce special offers for particularly women like Women's day offer , or mother special or something like that. \n",
    "\n",
    "- Age group 0-25 has the lowest spendings compared to other age groups. Since most of the 0-25 age customers would be students , more products related students / teenage / kids recommended to introduce and university/student discount can help increase the revenue from this age group."
   ]
  },
  {
   "cell_type": "code",
   "execution_count": null,
   "id": "49d8dbdc-f695-4e9d-bbd3-6de7747451fb",
   "metadata": {},
   "outputs": [],
   "source": []
  }
 ],
 "metadata": {
  "kernelspec": {
   "display_name": "Python 3 (ipykernel)",
   "language": "python",
   "name": "python3"
  },
  "language_info": {
   "codemirror_mode": {
    "name": "ipython",
    "version": 3
   },
   "file_extension": ".py",
   "mimetype": "text/x-python",
   "name": "python",
   "nbconvert_exporter": "python",
   "pygments_lexer": "ipython3",
   "version": "3.11.5"
  }
 },
 "nbformat": 4,
 "nbformat_minor": 5
}
