{
 "cells": [
  {
   "cell_type": "code",
   "execution_count": 1,
   "id": "b800aab9",
   "metadata": {},
   "outputs": [],
   "source": [
    "def get_index(tup, elem):\n",
    "    ''' input:elem-indicates the element in the tuple,tup-indicates the tuple\n",
    "         output:Return the index of the element.'''\n",
    "    \n",
    "    for i in tup:\n",
    "        if elem == i:\n",
    "            return tup.index(i)\n",
    "    return -1"
   ]
  },
  {
   "cell_type": "code",
   "execution_count": 4,
   "id": "4ba0bc2b",
   "metadata": {},
   "outputs": [
    {
     "data": {
      "text/plain": [
       "0"
      ]
     },
     "execution_count": 4,
     "metadata": {},
     "output_type": "execute_result"
    }
   ],
   "source": [
    "get_index((1,1,2,3,4,5,1), 1)"
   ]
  },
  {
   "cell_type": "code",
   "execution_count": 6,
   "id": "2d34f734",
   "metadata": {},
   "outputs": [
    {
     "data": {
      "text/plain": [
       "[0, 2, 4, 6, 8]"
      ]
     },
     "execution_count": 6,
     "metadata": {},
     "output_type": "execute_result"
    }
   ],
   "source": [
    "a = range(10)\n",
    "list(a[::2])"
   ]
  },
  {
   "cell_type": "code",
   "execution_count": 17,
   "id": "acbb1443",
   "metadata": {},
   "outputs": [],
   "source": [
    "def odd_even_split_tuple(tup):\n",
    "    ''' input:tup-indicates the tuple\n",
    "         output:print two tuples one for even indexed and odd indexed in the given output format'''\n",
    "    \n",
    "    odd = tuple(tup[::2])\n",
    "    even = tuple(tup[1::2])\n",
    "    \n",
    "    print(f\"Odd: {odd}\")\n",
    "    print(f\"Even: {even}\")\n"
   ]
  },
  {
   "cell_type": "code",
   "execution_count": 18,
   "id": "8e5bc6d8",
   "metadata": {},
   "outputs": [
    {
     "name": "stdout",
     "output_type": "stream",
     "text": [
      "Odd: (10, 5, 10, 10, 5, 8)\n",
      "Even: (8, 2, 15, 8, 8, 2)\n"
     ]
    }
   ],
   "source": [
    "odd_even_split_tuple((10, 8, 5, 2, 10, 15, 10, 8, 5, 8, 8, 2))"
   ]
  },
  {
   "cell_type": "code",
   "execution_count": 19,
   "id": "d12ccc74",
   "metadata": {},
   "outputs": [
    {
     "name": "stdout",
     "output_type": "stream",
     "text": [
      "(30, 40, 50) (10, 20, 30, 40) (40, 50, 60, 70, 80)\n"
     ]
    }
   ],
   "source": [
    "elements = (10, 20, 30, 40, 50, 60, 70, 80)\n",
    "print(elements[2:5], elements[:4], elements[3:100])"
   ]
  },
  {
   "cell_type": "code",
   "execution_count": 20,
   "id": "46e5f038",
   "metadata": {},
   "outputs": [
    {
     "ename": "TypeError",
     "evalue": "'>' not supported between instances of 'str' and 'int'",
     "output_type": "error",
     "traceback": [
      "\u001b[0;31m---------------------------------------------------------------------------\u001b[0m",
      "\u001b[0;31mTypeError\u001b[0m                                 Traceback (most recent call last)",
      "\u001b[0;32m<ipython-input-20-02cdfaffd777>\u001b[0m in \u001b[0;36m<module>\u001b[0;34m\u001b[0m\n\u001b[1;32m      1\u001b[0m \u001b[0ma\u001b[0m \u001b[0;34m=\u001b[0m \u001b[0;34m(\u001b[0m\u001b[0;36m1150\u001b[0m\u001b[0;34m,\u001b[0m \u001b[0;34m'sea_vel'\u001b[0m\u001b[0;34m,\u001b[0m \u001b[0;36m909\u001b[0m\u001b[0;34m)\u001b[0m\u001b[0;34m\u001b[0m\u001b[0;34m\u001b[0m\u001b[0m\n\u001b[0;32m----> 2\u001b[0;31m \u001b[0mmax\u001b[0m\u001b[0;34m(\u001b[0m\u001b[0ma\u001b[0m\u001b[0;34m)\u001b[0m\u001b[0;34m\u001b[0m\u001b[0;34m\u001b[0m\u001b[0m\n\u001b[0m",
      "\u001b[0;31mTypeError\u001b[0m: '>' not supported between instances of 'str' and 'int'"
     ]
    }
   ],
   "source": [
    "a = (1150, 'sea_vel', 909)\n",
    "max(a)"
   ]
  },
  {
   "cell_type": "code",
   "execution_count": 25,
   "id": "d451fa92",
   "metadata": {},
   "outputs": [],
   "source": [
    "def unique_count(tup):\n",
    "    ''' input:tup-indicates the tuple\n",
    "         output:Print the unique elements and their frequency'''\n",
    "    \n",
    "    seen_items = []\n",
    "    item_count = []\n",
    "    \n",
    "    for i in tup:\n",
    "        if i in seen_items:\n",
    "            continue\n",
    "        else:\n",
    "            seen_items.append(i)\n",
    "            item_count.append(tup.count(i))\n",
    "            \n",
    "    \n",
    "    for i, j in zip(seen_items, item_count):\n",
    "        print(f\"{i} : {j}\")"
   ]
  },
  {
   "cell_type": "code",
   "execution_count": 26,
   "id": "1c4289f3",
   "metadata": {},
   "outputs": [
    {
     "name": "stdout",
     "output_type": "stream",
     "text": [
      "10 : 3\n",
      "8 : 4\n",
      "5 : 2\n",
      "2 : 2\n",
      "15 : 1\n"
     ]
    }
   ],
   "source": [
    "unique_count((10, 8, 5, 2, 10, 15, 10, 8, 5, 8, 8, 2))"
   ]
  },
  {
   "cell_type": "code",
   "execution_count": 23,
   "id": "fd466ff1",
   "metadata": {},
   "outputs": [],
   "source": [
    "a = (10, 8, 5, 2, 10, 15, 10, 8, 5, 8, 8, 2)"
   ]
  },
  {
   "cell_type": "code",
   "execution_count": 24,
   "id": "796472ad",
   "metadata": {},
   "outputs": [
    {
     "data": {
      "text/plain": [
       "3"
      ]
     },
     "execution_count": 24,
     "metadata": {},
     "output_type": "execute_result"
    }
   ],
   "source": [
    "a.count(10)"
   ]
  },
  {
   "cell_type": "code",
   "execution_count": 27,
   "id": "855b999c",
   "metadata": {},
   "outputs": [
    {
     "data": {
      "text/plain": [
       "str"
      ]
     },
     "execution_count": 27,
     "metadata": {},
     "output_type": "execute_result"
    }
   ],
   "source": [
    "fruits = (\"Orange\")\n",
    "\n",
    "type(fruits)"
   ]
  },
  {
   "cell_type": "code",
   "execution_count": 28,
   "id": "49727117",
   "metadata": {},
   "outputs": [
    {
     "ename": "TypeError",
     "evalue": "unsupported operand type(s) for +: 'set' and 'set'",
     "output_type": "error",
     "traceback": [
      "\u001b[0;31m---------------------------------------------------------------------------\u001b[0m",
      "\u001b[0;31mTypeError\u001b[0m                                 Traceback (most recent call last)",
      "\u001b[0;32m<ipython-input-28-4c6e8866538b>\u001b[0m in \u001b[0;36m<module>\u001b[0;34m\u001b[0m\n\u001b[1;32m      1\u001b[0m \u001b[0mset1\u001b[0m \u001b[0;34m=\u001b[0m \u001b[0;34m{\u001b[0m\u001b[0;36m1\u001b[0m\u001b[0;34m,\u001b[0m \u001b[0;36m2\u001b[0m\u001b[0;34m,\u001b[0m \u001b[0;36m4\u001b[0m\u001b[0;34m}\u001b[0m\u001b[0;34m\u001b[0m\u001b[0;34m\u001b[0m\u001b[0m\n\u001b[1;32m      2\u001b[0m \u001b[0mset2\u001b[0m \u001b[0;34m=\u001b[0m \u001b[0;34m{\u001b[0m\u001b[0;36m4\u001b[0m\u001b[0;34m,\u001b[0m \u001b[0;36m5\u001b[0m\u001b[0;34m,\u001b[0m \u001b[0;36m6\u001b[0m\u001b[0;34m}\u001b[0m\u001b[0;34m\u001b[0m\u001b[0;34m\u001b[0m\u001b[0m\n\u001b[0;32m----> 3\u001b[0;31m \u001b[0mprint\u001b[0m\u001b[0;34m(\u001b[0m\u001b[0mlen\u001b[0m\u001b[0;34m(\u001b[0m\u001b[0mset1\u001b[0m \u001b[0;34m+\u001b[0m \u001b[0mset2\u001b[0m\u001b[0;34m)\u001b[0m\u001b[0;34m)\u001b[0m\u001b[0;34m\u001b[0m\u001b[0;34m\u001b[0m\u001b[0m\n\u001b[0m",
      "\u001b[0;31mTypeError\u001b[0m: unsupported operand type(s) for +: 'set' and 'set'"
     ]
    }
   ],
   "source": [
    "set1 = {1, 2, 4}\n",
    "set2 = {4, 5, 6}\n",
    "print(len(set1 + set2))"
   ]
  },
  {
   "cell_type": "code",
   "execution_count": 36,
   "id": "5232e824",
   "metadata": {},
   "outputs": [
    {
     "ename": "TypeError",
     "evalue": "unhashable type: 'list'",
     "output_type": "error",
     "traceback": [
      "\u001b[0;31m---------------------------------------------------------------------------\u001b[0m",
      "\u001b[0;31mTypeError\u001b[0m                                 Traceback (most recent call last)",
      "\u001b[0;32m<ipython-input-36-2867fcc6fa1e>\u001b[0m in \u001b[0;36m<module>\u001b[0;34m\u001b[0m\n\u001b[1;32m      1\u001b[0m \u001b[0msets\u001b[0m \u001b[0;34m=\u001b[0m \u001b[0;34m{\u001b[0m\u001b[0;36m3\u001b[0m\u001b[0;34m,\u001b[0m \u001b[0;36m4\u001b[0m\u001b[0;34m,\u001b[0m \u001b[0;36m5\u001b[0m\u001b[0;34m}\u001b[0m\u001b[0;34m\u001b[0m\u001b[0;34m\u001b[0m\u001b[0m\n\u001b[0;32m----> 2\u001b[0;31m \u001b[0msets\u001b[0m\u001b[0;34m.\u001b[0m\u001b[0madd\u001b[0m\u001b[0;34m(\u001b[0m\u001b[0;34m[\u001b[0m\u001b[0;36m1\u001b[0m\u001b[0;34m,\u001b[0m \u001b[0;36m2\u001b[0m \u001b[0;34m,\u001b[0m\u001b[0;36m3\u001b[0m\u001b[0;34m]\u001b[0m\u001b[0;34m)\u001b[0m\u001b[0;34m\u001b[0m\u001b[0;34m\u001b[0m\u001b[0m\n\u001b[0m\u001b[1;32m      3\u001b[0m \u001b[0mprint\u001b[0m\u001b[0;34m(\u001b[0m\u001b[0msets\u001b[0m\u001b[0;34m)\u001b[0m\u001b[0;34m\u001b[0m\u001b[0;34m\u001b[0m\u001b[0m\n",
      "\u001b[0;31mTypeError\u001b[0m: unhashable type: 'list'"
     ]
    }
   ],
   "source": [
    "sets = {3, 4, 5} \n",
    "sets.add([1, 2 ,3])\n",
    "print(sets)"
   ]
  },
  {
   "cell_type": "code",
   "execution_count": 37,
   "id": "ed7812f9",
   "metadata": {},
   "outputs": [
    {
     "ename": "TypeError",
     "evalue": "'set' object does not support item assignment",
     "output_type": "error",
     "traceback": [
      "\u001b[0;31m---------------------------------------------------------------------------\u001b[0m",
      "\u001b[0;31mTypeError\u001b[0m                                 Traceback (most recent call last)",
      "\u001b[0;32m<ipython-input-37-0f87d5a4015f>\u001b[0m in \u001b[0;36m<module>\u001b[0;34m\u001b[0m\n\u001b[1;32m      1\u001b[0m \u001b[0ma\u001b[0m\u001b[0;34m=\u001b[0m\u001b[0;34m{\u001b[0m\u001b[0;34m'Aurn'\u001b[0m\u001b[0;34m,\u001b[0m \u001b[0;34m'Nikhil'\u001b[0m\u001b[0;34m,\u001b[0m \u001b[0;34m'Seeta'\u001b[0m\u001b[0;34m}\u001b[0m\u001b[0;34m\u001b[0m\u001b[0;34m\u001b[0m\u001b[0m\n\u001b[0;32m----> 2\u001b[0;31m \u001b[0ma\u001b[0m\u001b[0;34m[\u001b[0m\u001b[0;36m0\u001b[0m\u001b[0;34m]\u001b[0m\u001b[0;34m=\u001b[0m \u001b[0;34m'Arun'\u001b[0m\u001b[0;34m\u001b[0m\u001b[0;34m\u001b[0m\u001b[0m\n\u001b[0m\u001b[1;32m      3\u001b[0m \u001b[0mprint\u001b[0m\u001b[0;34m(\u001b[0m\u001b[0ma\u001b[0m\u001b[0;34m)\u001b[0m\u001b[0;34m\u001b[0m\u001b[0;34m\u001b[0m\u001b[0m\n",
      "\u001b[0;31mTypeError\u001b[0m: 'set' object does not support item assignment"
     ]
    }
   ],
   "source": [
    "a={'Aurn', 'Nikhil', 'Seeta'}\n",
    "a[0]= 'Arun'\n",
    "print(a)"
   ]
  },
  {
   "cell_type": "code",
   "execution_count": 38,
   "id": "65d919ad",
   "metadata": {},
   "outputs": [
    {
     "data": {
      "text/plain": [
       "{'Academy', 'Awesome', 'Scaler', 'is'}"
      ]
     },
     "execution_count": 38,
     "metadata": {},
     "output_type": "execute_result"
    }
   ],
   "source": [
    "s = set(['Scaler', 'Academy', 'is', 'Awesome'])\n",
    "s"
   ]
  },
  {
   "cell_type": "code",
   "execution_count": 40,
   "id": "2ef1fbf7",
   "metadata": {},
   "outputs": [
    {
     "ename": "TypeError",
     "evalue": "set expected at most 1 argument, got 4",
     "output_type": "error",
     "traceback": [
      "\u001b[0;31m---------------------------------------------------------------------------\u001b[0m",
      "\u001b[0;31mTypeError\u001b[0m                                 Traceback (most recent call last)",
      "\u001b[0;32m<ipython-input-40-a9e916335b19>\u001b[0m in \u001b[0;36m<module>\u001b[0;34m\u001b[0m\n\u001b[0;32m----> 1\u001b[0;31m \u001b[0ms\u001b[0m \u001b[0;34m=\u001b[0m \u001b[0mset\u001b[0m\u001b[0;34m(\u001b[0m\u001b[0;34m'Scaler'\u001b[0m\u001b[0;34m,\u001b[0m \u001b[0;34m'Academy'\u001b[0m\u001b[0;34m,\u001b[0m \u001b[0;34m'is'\u001b[0m\u001b[0;34m,\u001b[0m \u001b[0;34m'Awesome'\u001b[0m\u001b[0;34m)\u001b[0m\u001b[0;34m\u001b[0m\u001b[0;34m\u001b[0m\u001b[0m\n\u001b[0m\u001b[1;32m      2\u001b[0m \u001b[0ms\u001b[0m\u001b[0;34m\u001b[0m\u001b[0;34m\u001b[0m\u001b[0m\n",
      "\u001b[0;31mTypeError\u001b[0m: set expected at most 1 argument, got 4"
     ]
    }
   ],
   "source": [
    "s = set('Scaler', 'Academy', 'is', 'Awesome')\n",
    "s"
   ]
  },
  {
   "cell_type": "code",
   "execution_count": 41,
   "id": "58730dbf",
   "metadata": {},
   "outputs": [
    {
     "data": {
      "text/plain": [
       "{' ', 'A', 'S', 'a', 'c', 'd', 'e', 'i', 'l', 'm', 'o', 'r', 's', 'w', 'y'}"
      ]
     },
     "execution_count": 41,
     "metadata": {},
     "output_type": "execute_result"
    }
   ],
   "source": [
    "s = set('Scaler Academy is Awesome')\n",
    "s"
   ]
  },
  {
   "cell_type": "code",
   "execution_count": 42,
   "id": "69a7b82c",
   "metadata": {},
   "outputs": [
    {
     "data": {
      "text/plain": [
       "{'Academy', 'Awesome', 'Scaler', 'is'}"
      ]
     },
     "execution_count": 42,
     "metadata": {},
     "output_type": "execute_result"
    }
   ],
   "source": [
    "s ={'Scaler', 'Academy', 'is', 'Awesome'}\n",
    "s"
   ]
  },
  {
   "cell_type": "code",
   "execution_count": 46,
   "id": "88bf5412",
   "metadata": {},
   "outputs": [],
   "source": [
    "def set_operation(sent1,sent2):\n",
    "    ''' input:sent1,sent2-two sentences taken as inputs\n",
    "         output:return the sum of length of unique words.'''\n",
    "    \n",
    "    set1 = set(sent1.split(\" \"))\n",
    "    set2 = set(sent2.split(\" \"))\n",
    "    \n",
    "    print(len(set1) + len(set2))\n"
   ]
  },
  {
   "cell_type": "code",
   "execution_count": 47,
   "id": "b798e378",
   "metadata": {},
   "outputs": [],
   "source": [
    "s1 = \"in data analysis we use data and process it further to create better interpreted data\"\n",
    "s2 = \"more and more data will be passively collected\""
   ]
  },
  {
   "cell_type": "code",
   "execution_count": 48,
   "id": "b2c2f57d",
   "metadata": {},
   "outputs": [
    {
     "name": "stdout",
     "output_type": "stream",
     "text": [
      "20\n"
     ]
    }
   ],
   "source": [
    "set_operation(s2,s1)"
   ]
  },
  {
   "cell_type": "code",
   "execution_count": 21,
   "id": "c1c3c581",
   "metadata": {},
   "outputs": [],
   "source": [
    "def simple_int(time,pa,ir):\n",
    "    ''' time, pa, ir represents the time in number of days, principal amount and rate of interest\n",
    "        Return the simple interest'''\n",
    "    ans = 0\n",
    "    # YOUR CODE GOES HERE\n",
    "\n",
    "    ans = pa * (1 + ir* round(time/356)/100)\n",
    "    return round(ans,2)"
   ]
  },
  {
   "cell_type": "code",
   "execution_count": 22,
   "metadata": {
    "collapsed": false
   },
   "outputs": [
    {
     "data": {
      "text/plain": [
       "9685.63"
      ]
     },
     "execution_count": 22,
     "metadata": {},
     "output_type": "execute_result"
    }
   ],
   "source": [
    "simple_int(365,9172,5.6)"
   ]
  },
  {
   "cell_type": "code",
   "execution_count": 23,
   "metadata": {
    "collapsed": false
   },
   "outputs": [
    {
     "data": {
      "text/plain": [
       "10260.0"
      ]
     },
     "execution_count": 23,
     "metadata": {},
     "output_type": "execute_result"
    }
   ],
   "source": [
    "simple_int(789,10000.0,1.3)\n"
   ]
  },
  {
   "cell_type": "code",
   "execution_count": 30,
   "metadata": {
    "collapsed": false
   },
   "outputs": [],
   "source": [
    "a = (1,2,[10,20])"
   ]
  },
  {
   "cell_type": "code",
   "execution_count": 31,
   "metadata": {
    "collapsed": false
   },
   "outputs": [
    {
     "data": {
      "text/plain": [
       "140275925539392"
      ]
     },
     "execution_count": 31,
     "metadata": {},
     "output_type": "execute_result"
    }
   ],
   "source": [
    "id(a)"
   ]
  },
  {
   "cell_type": "code",
   "execution_count": 32,
   "metadata": {
    "collapsed": false
   },
   "outputs": [],
   "source": [
    "a[2].append(30)"
   ]
  },
  {
   "cell_type": "code",
   "execution_count": 33,
   "metadata": {
    "collapsed": false
   },
   "outputs": [
    {
     "data": {
      "text/plain": [
       "(1, 2, [10, 20, 30])"
      ]
     },
     "execution_count": 33,
     "metadata": {},
     "output_type": "execute_result"
    }
   ],
   "source": [
    "a"
   ]
  },
  {
   "cell_type": "code",
   "execution_count": 34,
   "metadata": {
    "collapsed": false
   },
   "outputs": [
    {
     "data": {
      "text/plain": [
       "140275925539392"
      ]
     },
     "execution_count": 34,
     "metadata": {},
     "output_type": "execute_result"
    }
   ],
   "source": [
    "id(a)"
   ]
  },
  {
   "cell_type": "code",
   "execution_count": 29,
   "metadata": {
    "collapsed": false
   },
   "outputs": [
    {
     "ename": "SyntaxError",
     "evalue": "invalid syntax (2301060995.py, line 1)",
     "output_type": "error",
     "traceback": [
      "\u001b[0;36m  File \u001b[0;32m\"/var/folders/sg/qf1dw3cs4q5007gb2_9zd8600000gr/T/ipykernel_73361/2301060995.py\"\u001b[0;36m, line \u001b[0;32m1\u001b[0m\n\u001b[0;31m    Just thought to share this,\u001b[0m\n\u001b[0m         ^\u001b[0m\n\u001b[0;31mSyntaxError\u001b[0m\u001b[0;31m:\u001b[0m invalid syntax\n"
     ]
    }
   ],
   "source": []
  },
  {
   "cell_type": "code",
   "execution_count": 36,
   "metadata": {
    "collapsed": false
   },
   "outputs": [
    {
     "data": {
      "text/plain": [
       "140276719085872"
      ]
     },
     "execution_count": 36,
     "metadata": {},
     "output_type": "execute_result"
    }
   ],
   "source": [
    "id(a[0])"
   ]
  },
  {
   "cell_type": "code",
   "execution_count": 37,
   "metadata": {
    "collapsed": false
   },
   "outputs": [
    {
     "data": {
      "text/plain": [
       "140275925539392"
      ]
     },
     "execution_count": 37,
     "metadata": {},
     "output_type": "execute_result"
    }
   ],
   "source": [
    "id(a)"
   ]
  },
  {
   "cell_type": "code",
   "execution_count": 41,
   "metadata": {
    "collapsed": false
   },
   "outputs": [
    {
     "name": "stdout",
     "output_type": "stream",
     "text": [
      "hello world\n"
     ]
    }
   ],
   "source": [
    "import ctypes\n",
    "a = \"hello world\"\n",
    "print(ctypes.cast(id(a), ctypes.py_object).value)"
   ]
  },
  {
   "cell_type": "code",
   "execution_count": 44,
   "metadata": {
    "collapsed": false
   },
   "outputs": [],
   "source": [
    "a = (1,2,[10,20])\n"
   ]
  },
  {
   "cell_type": "code",
   "execution_count": 50,
   "metadata": {
    "collapsed": false
   },
   "outputs": [
    {
     "ename": "SyntaxError",
     "evalue": "unexpected EOF while parsing (1092166680.py, line 1)",
     "output_type": "error",
     "traceback": [
      "\u001b[0;36m  File \u001b[0;32m\"/var/folders/sg/qf1dw3cs4q5007gb2_9zd8600000gr/T/ipykernel_73361/1092166680.py\"\u001b[0;36m, line \u001b[0;32m1\u001b[0m\n\u001b[0;31m    ctypes.cast(id(a[0])\u001b[0m\n\u001b[0m                        ^\u001b[0m\n\u001b[0;31mSyntaxError\u001b[0m\u001b[0;31m:\u001b[0m unexpected EOF while parsing\n"
     ]
    }
   ],
   "source": []
  },
  {
   "cell_type": "code",
   "execution_count": 47,
   "metadata": {
    "collapsed": false
   },
   "outputs": [],
   "source": [
    "import gc"
   ]
  },
  {
   "cell_type": "code",
   "execution_count": 51,
   "metadata": {
    "collapsed": false
   },
   "outputs": [
    {
     "data": {
      "text/plain": [
       "(1, 2, [10, 20])"
      ]
     },
     "execution_count": 51,
     "metadata": {},
     "output_type": "execute_result"
    }
   ],
   "source": [
    "a"
   ]
  },
  {
   "cell_type": "code",
   "execution_count": 52,
   "metadata": {
    "collapsed": false
   },
   "outputs": [
    {
     "data": {
      "text/plain": [
       "140276472247744"
      ]
     },
     "execution_count": 52,
     "metadata": {},
     "output_type": "execute_result"
    }
   ],
   "source": [
    "id(a)"
   ]
  },
  {
   "cell_type": "code",
   "execution_count": 53,
   "metadata": {
    "collapsed": false
   },
   "outputs": [
    {
     "data": {
      "text/plain": [
       "140276472247168"
      ]
     },
     "execution_count": 53,
     "metadata": {},
     "output_type": "execute_result"
    }
   ],
   "source": [
    "id(a[2])"
   ]
  },
  {
   "cell_type": "code",
   "execution_count": 54,
   "metadata": {
    "collapsed": false
   },
   "outputs": [],
   "source": [
    "a[2].append(30)"
   ]
  },
  {
   "cell_type": "code",
   "execution_count": 55,
   "metadata": {
    "collapsed": false
   },
   "outputs": [
    {
     "data": {
      "text/plain": [
       "140276472247744"
      ]
     },
     "execution_count": 55,
     "metadata": {},
     "output_type": "execute_result"
    }
   ],
   "source": [
    "id(a)"
   ]
  },
  {
   "cell_type": "code",
   "execution_count": 56,
   "metadata": {
    "collapsed": false
   },
   "outputs": [
    {
     "data": {
      "text/plain": [
       "140276472247168"
      ]
     },
     "execution_count": 56,
     "metadata": {},
     "output_type": "execute_result"
    }
   ],
   "source": [
    "id(a[2])"
   ]
  },
  {
   "cell_type": "code",
   "execution_count": 57,
   "metadata": {
    "collapsed": false
   },
   "outputs": [],
   "source": [
    "a = [1]"
   ]
  },
  {
   "cell_type": "code",
   "execution_count": 58,
   "metadata": {
    "collapsed": false
   },
   "outputs": [
    {
     "data": {
      "text/plain": [
       "64"
      ]
     },
     "execution_count": 58,
     "metadata": {},
     "output_type": "execute_result"
    }
   ],
   "source": [
    "import sys\n",
    "sys.getsizeof(a)"
   ]
  },
  {
   "cell_type": "code",
   "execution_count": 59,
   "metadata": {
    "collapsed": false
   },
   "outputs": [],
   "source": [
    "a.append(100)"
   ]
  },
  {
   "cell_type": "code",
   "execution_count": 60,
   "metadata": {
    "collapsed": false
   },
   "outputs": [
    {
     "data": {
      "text/plain": [
       "120"
      ]
     },
     "execution_count": 60,
     "metadata": {},
     "output_type": "execute_result"
    }
   ],
   "source": [
    "sys.getsizeof(a)"
   ]
  },
  {
   "cell_type": "code",
   "execution_count": 4,
   "metadata": {
    "collapsed": false
   },
   "outputs": [
    {
     "name": "stdout",
     "output_type": "stream",
     "text": [
      "('Alice', 'Charlie')\n"
     ]
    }
   ],
   "source": [
    "from typing import List, Tuple\n",
    "\n",
    "def pair_students(names: List[str], locations: List[Tuple[int, int]]) -> Tuple[str, str]:\n",
    "    min_distance = float('inf')\n",
    "    students = None\n",
    "    for i in range(len(names)):\n",
    "        for j in range(i+1, len(names)):\n",
    "            distance = abs(locations[i][0] - locations[j][0]) + abs(locations[i][1] - locations[j][1])\n",
    "            if distance < min_distance:\n",
    "                min_distance = distance\n",
    "                students = (names[i], names[j])\n",
    "    return students\n",
    "\n",
    "# Test the function\n",
    "names = ['Alice', 'Bob', 'Charlie', 'Debbie', 'Maxine']\n",
    "locations = [(1,2),(5,4),(0,3),(2,3),(0,0)]\n",
    "print(pair_students(names, locations)) # should print ('Alice', 'Bob')\n"
   ]
  },
  {
   "cell_type": "code",
   "execution_count": 9,
   "metadata": {
    "collapsed": false
   },
   "outputs": [],
   "source": [
    "def nearestStudents(names, locations):\n",
    "    min_distance = float('inf')\n",
    "    students = None\n",
    "    for i in range(len(names)):\n",
    "        for j in range(i+1, len(names)):\n",
    "            distance = abs(locations[i][0] - locations[j][0]) + abs(locations[i][1] - locations[j][1])\n",
    "            if distance < min_distance:\n",
    "                min_distance = distance\n",
    "                students = [names[i], names[j]]\n",
    "    return students\n"
   ]
  },
  {
   "cell_type": "code",
   "execution_count": 10,
   "metadata": {
    "collapsed": false
   },
   "outputs": [
    {
     "name": "stdout",
     "output_type": "stream",
     "text": [
      "['Alice', 'Charlie']\n"
     ]
    }
   ],
   "source": [
    "names = ['Alice', 'Bob', 'Charlie', 'Debbie', 'Maxine']\n",
    "locations = [(1,2),(5,4),(0,3),(2,3),(0,0)]\n",
    "print(nearestStudents(names, locations))"
   ]
  },
  {
   "cell_type": "code",
   "execution_count": 12,
   "metadata": {
    "collapsed": false
   },
   "outputs": [
    {
     "name": "stdout",
     "output_type": "stream",
     "text": [
      "True\n"
     ]
    }
   ],
   "source": [
    "from typing import Tuple\n",
    "\n",
    "def check_point(p1, p2, a, b, c):\n",
    "    mid_x = (p1[0] + p2[0]) / 2\n",
    "    mid_y = (p1[1] + p2[1]) / 2\n",
    "\n",
    "    if a * mid_x + b * mid_y + c == 0:\n",
    "        return True\n",
    "    else:\n",
    "        return False\n",
    "\n",
    "# Test the function\n",
    "p1 = (1, 2)\n",
    "p2 = (3, 4)\n",
    "a = 2\n",
    "b = -2\n",
    "c = 2\n",
    "print(check_midpoint(p1, p2, a, b, c)) # should print True\n"
   ]
  },
  {
   "cell_type": "code",
   "execution_count": 14,
   "metadata": {
    "collapsed": false
   },
   "outputs": [
    {
     "name": "stdout",
     "output_type": "stream",
     "text": [
      "1.0\n"
     ]
    }
   ],
   "source": [
    "def gradient(p1, p2):\n",
    "    # Calculate the gradient of the line using the formula (y2 - y1) / (x2 - x1)\n",
    "    gradient = (p2[1] - p1[1]) / (p2[0] - p1[0])\n",
    "    return gradient\n",
    "\n",
    "# Test the function\n",
    "p1 = (1, 1)\n",
    "p2 = (2,2)\n",
    "print(gradient(p1, p2)) # should print 1.0\n"
   ]
  },
  {
   "cell_type": "code",
   "execution_count": 16,
   "metadata": {
    "collapsed": false
   },
   "outputs": [
    {
     "name": "stdout",
     "output_type": "stream",
     "text": [
      "True\n",
      "False\n"
     ]
    }
   ],
   "source": [
    "from typing import Tuple\n",
    "\n",
    "def are_collinear(p1, p2, p3):\n",
    "    # Calculate the slopes of the lines joining p1-p2 and p2-p3\n",
    "    m1 = (p2[1] - p1[1]) / (p2[0] - p1[0])\n",
    "    m2 = (p3[1] - p2[1]) / (p3[0] - p2[0])\n",
    "\n",
    "    # If the slopes are equal, the points are collinear\n",
    "    if m1 == m2:\n",
    "        return True\n",
    "    else:\n",
    "        return False\n",
    "\n",
    "# Test the function\n",
    "p1 = (1, 2)\n",
    "p2 = (3, 4)\n",
    "p3 = (5, 6)\n",
    "print(are_collinear(p1, p2, p3)) # should print True\n",
    "\n",
    "p1 = (1, 2)\n",
    "p2 = (3, 4)\n",
    "p3 = (5, 7)\n",
    "print(are_collinear(p1, p2, p3)) # should print False\n"
   ]
  },
  {
   "cell_type": "code",
   "execution_count": null,
   "metadata": {
    "collapsed": false,
    "pycharm": {
     "is_executing": true
    }
   },
   "outputs": [],
   "source": []
  },
  {
   "cell_type": "code",
   "execution_count": 36,
   "metadata": {
    "collapsed": false
   },
   "outputs": [],
   "source": [
    "class People:\n",
    "\n",
    "    def __init__(self, name, age):\n",
    "        self.name = name\n",
    "        self.age = age\n",
    "\n",
    "class Baby(People):\n",
    "\n",
    "    def __init__(self, name, age, area):\n",
    "        super().__init__(name, age)\n",
    "        self.area = area\n"
   ]
  },
  {
   "cell_type": "code",
   "execution_count": 37,
   "metadata": {
    "collapsed": false
   },
   "outputs": [],
   "source": [
    "p = People('suman', 37)"
   ]
  },
  {
   "cell_type": "code",
   "execution_count": 38,
   "metadata": {
    "collapsed": false
   },
   "outputs": [],
   "source": [
    "b = Baby('reyaan', 3, 'suman')"
   ]
  },
  {
   "cell_type": "code",
   "execution_count": 3,
   "metadata": {
    "collapsed": false
   },
   "outputs": [],
   "source": [
    "height = 100\n",
    "bounce = 1\n",
    "\n",
    "while bounce <= 3:\n",
    "    height = height * (3/5)\n",
    "    bounce += 1\n",
    "\n",
    "newheight = height"
   ]
  },
  {
   "cell_type": "code",
   "execution_count": 9,
   "id": "68a2db97",
   "metadata": {},
   "outputs": [
    {
     "data": {
      "text/plain": [
       "21.599999999999998"
      ]
     },
     "execution_count": 9,
     "metadata": {},
     "output_type": "execute_result"
    }
   ],
   "source": [
    "newheight"
   ]
  },
  {
   "cell_type": "code",
   "execution_count": 12,
   "id": "4295abc2",
   "metadata": {},
   "outputs": [
    {
     "data": {
      "text/plain": [
       "21.6"
      ]
     },
     "execution_count": 12,
     "metadata": {},
     "output_type": "execute_result"
    }
   ],
   "source": [
    "round(newheight, 2)"
   ]
  },
  {
   "cell_type": "code",
   "execution_count": 13,
   "id": "0f74454f",
   "metadata": {},
   "outputs": [],
   "source": [
    "stocks = 'a, b, c'\n",
    "prices = '10,20,30'\n",
    "shares='1,2,3'"
   ]
  },
  {
   "cell_type": "code",
   "execution_count": 21,
   "id": "daf61206",
   "metadata": {},
   "outputs": [
    {
     "name": "stdout",
     "output_type": "stream",
     "text": [
      "['a101', ' b202', ' c303']\n"
     ]
    }
   ],
   "source": [
    "a = stocks.split(',')\n",
    "b = prices.split(',')\n",
    "c = shares.split(',')\n",
    "d = []\n",
    "\n",
    "for i in range(len(a)):\n",
    "    d.append(a[i]+b[i]+c[i])\n",
    "\n",
    "print(d)"
   ]
  },
  {
   "cell_type": "code",
   "execution_count": 19,
   "id": "1a42f655",
   "metadata": {},
   "outputs": [
    {
     "data": {
      "text/plain": [
       "[<zip at 0x106c7ebc0>]"
      ]
     },
     "execution_count": 19,
     "metadata": {},
     "output_type": "execute_result"
    }
   ],
   "source": [
    "b"
   ]
  },
  {
   "cell_type": "markdown",
   "id": "666471ed",
   "metadata": {},
   "source": [
    "# Function Minima"
   ]
  },
  {
   "cell_type": "code",
   "execution_count": 25,
   "id": "05c5158e",
   "metadata": {},
   "outputs": [],
   "source": [
    "def min_value(a,b,c,ll,ul):\n",
    "\t# a,b,c -> Integers. Coefficients of quadratic equation ax^2 + bx + c = 0\n",
    "\t# ll -> Integer. Lower limit of variable x\n",
    "\t# ul -> Integer. Upper Limit of variable x\n",
    "\n",
    "\t# return the Integer value of x for which the quadratic equation attains minimum value\n",
    "\tresult = float('inf')\n",
    "\t# code starts here\n",
    "\n",
    "\tfor i in range(ll, ul+1):\n",
    "\t\tderivative = 2 * a * i + (b)\n",
    "\t\ttemp_ans = abs(derivative)\n",
    "\t\t# print(i, temp_ans)\n",
    "\t\tif temp_ans < result:\n",
    "\t\t\tresult = temp_ans \n",
    "\t\t\tans = i \n",
    "\n",
    "\t#code ends here\n",
    "\treturn ans"
   ]
  },
  {
   "cell_type": "code",
   "execution_count": 26,
   "id": "bfee6a04",
   "metadata": {},
   "outputs": [
    {
     "data": {
      "text/plain": [
       "5"
      ]
     },
     "execution_count": 26,
     "metadata": {},
     "output_type": "execute_result"
    }
   ],
   "source": [
    "a, b, c = 2, -20, 6\n",
    "ll, ul = 1, 15\n",
    "\n",
    "min_value(a,b,c,ll,ul)"
   ]
  },
  {
   "cell_type": "code",
   "execution_count": 22,
   "id": "347f19b8",
   "metadata": {},
   "outputs": [
    {
     "data": {
      "text/plain": [
       "10"
      ]
     },
     "execution_count": 22,
     "metadata": {},
     "output_type": "execute_result"
    }
   ],
   "source": [
    "abs(-10)"
   ]
  },
  {
   "attachments": {},
   "cell_type": "markdown",
   "id": "3a2a6168",
   "metadata": {},
   "source": [
    "# Derivative at a point\n"
   ]
  },
  {
   "cell_type": "code",
   "execution_count": 55,
   "id": "dfc04a20",
   "metadata": {},
   "outputs": [],
   "source": [
    "import math\n",
    "\n",
    "def derivative(a):\n",
    "    # a -> The value at which the derivative’s value needs to be calculated\n",
    "    # output-> The value of derivative at x=a\n",
    "    ans = None\n",
    "\n",
    "    exp_plus_a = math.exp(a)\n",
    "    exp_minus_a = math.exp(-a)\n",
    "    derivative = 4 / pow((exp_plus_a + exp_minus_a), 2)\n",
    "\n",
    "    ans = round(derivative, 4)\n",
    "\n",
    "    return ans\n"
   ]
  },
  {
   "cell_type": "code",
   "execution_count": 56,
   "id": "3b127ed0",
   "metadata": {},
   "outputs": [
    {
     "data": {
      "text/plain": [
       "0.0013"
      ]
     },
     "execution_count": 56,
     "metadata": {},
     "output_type": "execute_result"
    }
   ],
   "source": [
    "derivative(4)"
   ]
  },
  {
   "cell_type": "code",
   "execution_count": 49,
   "id": "896e0c63",
   "metadata": {},
   "outputs": [
    {
     "data": {
      "text/plain": [
       "16"
      ]
     },
     "execution_count": 49,
     "metadata": {},
     "output_type": "execute_result"
    }
   ],
   "source": [
    "pow(4, 2)"
   ]
  },
  {
   "cell_type": "code",
   "execution_count": 50,
   "id": "2421c9d1",
   "metadata": {},
   "outputs": [
    {
     "data": {
      "text/plain": [
       "7.38905609893065"
      ]
     },
     "execution_count": 50,
     "metadata": {},
     "output_type": "execute_result"
    }
   ],
   "source": [
    "math.exp(2)"
   ]
  },
  {
   "attachments": {},
   "cell_type": "markdown",
   "id": "97a3e777",
   "metadata": {},
   "source": [
    "# Salary Check"
   ]
  },
  {
   "cell_type": "code",
   "execution_count": 64,
   "id": "03ce0375",
   "metadata": {},
   "outputs": [],
   "source": [
    "class SalaryNotInRangeError(Exception):\n",
    "    pass \n",
    "\n",
    "def check_salary(salary):\n",
    "    try:\n",
    "        if 10000 <= salary <= 100000:\n",
    "            print(\"Congratulations!!\")\n",
    "        else:\n",
    "            raise SalaryNotInRangeError\n",
    "    except SalaryNotInRangeError as e:\n",
    "        print(\"Salary is not in range\")"
   ]
  },
  {
   "cell_type": "code",
   "execution_count": 69,
   "id": "2e9be53f",
   "metadata": {},
   "outputs": [
    {
     "name": "stdout",
     "output_type": "stream",
     "text": [
      "Salary is not in range\n"
     ]
    }
   ],
   "source": [
    "check_salary(100001)"
   ]
  },
  {
   "cell_type": "code",
   "execution_count": 1,
   "id": "77e6c6f3",
   "metadata": {},
   "outputs": [
    {
     "name": "stdout",
     "output_type": "stream",
     "text": [
      "Help on class student in module __main__:\n",
      "\n",
      "class student(builtins.object)\n",
      " |  Methods defined here:\n",
      " |  \n",
      " |  __init__(self)\n",
      " |      The student class is initialized\n",
      " |  \n",
      " |  print_student(self)\n",
      " |      Returns the student description\n",
      " |  \n",
      " |  ----------------------------------------------------------------------\n",
      " |  Data descriptors defined here:\n",
      " |  \n",
      " |  __dict__\n",
      " |      dictionary for instance variables (if defined)\n",
      " |  \n",
      " |  __weakref__\n",
      " |      list of weak references to the object (if defined)\n",
      "\n"
     ]
    }
   ],
   "source": [
    "class student: \n",
    "    def __init__(self): \n",
    "        '''The student class is initialized'''\n",
    "\n",
    "    def print_student(self): \n",
    "        '''Returns the student description'''\n",
    "        print('student description') \n",
    "\n",
    "help(student)"
   ]
  },
  {
   "cell_type": "code",
   "execution_count": 5,
   "id": "2cc2b996",
   "metadata": {},
   "outputs": [
    {
     "name": "stdout",
     "output_type": "stream",
     "text": [
      "(123.02, 0.01)\n"
     ]
    }
   ],
   "source": [
    "import math\n",
    "def roundup(a, digits):\n",
    "        n = 10**-digits\n",
    "\n",
    "        return round(math.ceil(a/n)*n,digits), n\n",
    "\n",
    "print(roundup(123.01247,2))"
   ]
  },
  {
   "cell_type": "code",
   "execution_count": 13,
   "id": "69627564",
   "metadata": {},
   "outputs": [
    {
     "name": "stdout",
     "output_type": "stream",
     "text": [
      "(123.02, 0.01)\n"
     ]
    }
   ],
   "source": [
    "import math\n",
    "def roundup(a, digits):\n",
    "        n = math.pow(10,-digits)\n",
    "\n",
    "        return round(math.ceil(a/n)*n,digits), n\n",
    "\n",
    "print(roundup(123.01247,2))"
   ]
  },
  {
   "cell_type": "code",
   "execution_count": 7,
   "id": "015738ca",
   "metadata": {},
   "outputs": [
    {
     "data": {
      "text/plain": [
       "(123.013, 0.001)"
      ]
     },
     "execution_count": 7,
     "metadata": {},
     "output_type": "execute_result"
    }
   ],
   "source": [
    "roundup(123.01247,3)"
   ]
  },
  {
   "cell_type": "code",
   "execution_count": 28,
   "id": "c96432a7",
   "metadata": {},
   "outputs": [
    {
     "name": "stdout",
     "output_type": "stream",
     "text": [
      "\n",
      "\n"
     ]
    }
   ],
   "source": [
    "import os\n",
    "path = os.getcwd()\n",
    "os.chdir(path)\n",
    "\n",
    "# Read text File \n",
    "def read_text_file(file_path):\n",
    "    with open(file_path, 'r') as f:\n",
    "        print(f.read())\n",
    "\n",
    "for file in os.listdir(path):\n",
    "\n",
    "    if file.endswith('.txt'):\n",
    "        file_path = f\"{path}/{file}\"\n",
    "        read_text_file(file_path)"
   ]
  },
  {
   "cell_type": "code",
   "execution_count": 29,
   "id": "79e63cd1",
   "metadata": {},
   "outputs": [
    {
     "name": "stdout",
     "output_type": "stream",
     "text": [
      "test of child1 called, test of child2 called, test of parent called, "
     ]
    }
   ],
   "source": [
    "class Parent:\n",
    "    def test(self):\n",
    "        print(\"test of parent called\", end=\", \")\n",
    "class Child1(Parent):\n",
    "    def test(self):\n",
    "        print(\"test of child1 called\", end=\", \")\n",
    "        super().test()\n",
    "class Child2(Parent):\n",
    "    def test(self):\n",
    "        print(\"test of child2 called\", end=\", \")\n",
    "        super().test()\n",
    "class Brother(Child1,Child2):\n",
    "    def test2(self):\n",
    "        print(\"test of Brother called\", end=\", \" )\n",
    "\n",
    "obj= Brother()\n",
    "obj.test()"
   ]
  },
  {
   "cell_type": "code",
   "execution_count": 30,
   "id": "d9e5d583",
   "metadata": {},
   "outputs": [
    {
     "name": "stdout",
     "output_type": "stream",
     "text": [
      "Derived_Demo's __new__() invoked\n",
      "Demo's __init__() invoked\n",
      "Demo's __new__() invoked\n"
     ]
    }
   ],
   "source": [
    "class Demo:\n",
    "    def __new__(self):\n",
    "        self.__init__(self)\n",
    "        print(\"Demo's __new__() invoked\")\n",
    "\n",
    "    def __init__(self):\n",
    "        print(\"Demo's __init__() invoked\")\n",
    "\n",
    "class Derived_Demo(Demo):\n",
    "    def __new__(self):\n",
    "        print(\"Derived_Demo's __new__() invoked\")\n",
    "    \n",
    "    def __init__(self):\n",
    "        print(\"Derived_Demo's __init__() invoked\")\n",
    "\n",
    "def main():\n",
    "    obj1 = Derived_Demo()\n",
    "    obj2 = Demo()\n",
    "\n",
    "main()"
   ]
  },
  {
   "cell_type": "code",
   "execution_count": 31,
   "id": "488ad771",
   "metadata": {},
   "outputs": [
    {
     "name": "stdout",
     "output_type": "stream",
     "text": [
      "a fully-managed MySQL and PostgreSQL\n"
     ]
    }
   ],
   "source": [
    "string = '''\n",
    "We spent several years building our own database engine, Amazon Aurora, a fully-managed MySQL and PostgreSQL-compatible service with the same or better durability and availability as\n",
    "the commercial engines, but at one-tenth of the cost. We were not surprised when this worked.\n",
    "'''\n",
    "result = lambda key, val: key[ key.find(val) -18 : key.find(val) +18 ] if val in key else -1\n",
    "\n",
    "print(result(string, 'SQL'))"
   ]
  },
  {
   "cell_type": "code",
   "execution_count": 34,
   "id": "20f1306f",
   "metadata": {},
   "outputs": [
    {
     "data": {
      "text/plain": [
       "'a fully-managed MySQL and PostgreSQL'"
      ]
     },
     "execution_count": 34,
     "metadata": {},
     "output_type": "execute_result"
    }
   ],
   "source": [
    "string[string.find('SQL') - 18 : string.find('SQL') +18]"
   ]
  },
  {
   "cell_type": "code",
   "execution_count": 35,
   "id": "492ca027",
   "metadata": {},
   "outputs": [
    {
     "data": {
      "text/plain": [
       "'We spent several years building '"
      ]
     },
     "execution_count": 35,
     "metadata": {},
     "output_type": "execute_result"
    }
   ],
   "source": [
    "string[1:33]"
   ]
  },
  {
   "cell_type": "code",
   "execution_count": 38,
   "id": "0bfae86c",
   "metadata": {},
   "outputs": [
    {
     "name": "stdout",
     "output_type": "stream",
     "text": [
      "[1, [[2]], [[[3]]], [[4], 5]]\n",
      "\n"
     ]
    }
   ],
   "source": [
    "from pprint import pprint as pp\n",
    "array = [ [1, [ [ 2 ] ], [ [ [ 3 ] ] ], [ [ 4 ], 5 ] ]]\n",
    "for i in array:\n",
    "    print(i)\n",
    "    print()\n"
   ]
  },
  {
   "cell_type": "code",
   "execution_count": 39,
   "id": "c9758bd2",
   "metadata": {},
   "outputs": [
    {
     "name": "stdout",
     "output_type": "stream",
     "text": [
      "[1, 2, 3, 4, 5]\n"
     ]
    }
   ],
   "source": [
    "\n",
    "result = lambda x: sum(map(result, x), [ ] ) if isinstance(x, list) else [x]\n",
    "print(result(array))"
   ]
  },
  {
   "cell_type": "code",
   "execution_count": 40,
   "id": "e603a02a",
   "metadata": {},
   "outputs": [
    {
     "name": "stdout",
     "output_type": "stream",
     "text": [
      "[set(), {1}, {2}, {1, 2}, {3}, {1, 3}, {2, 3}, {1, 2, 3}]\n"
     ]
    }
   ],
   "source": [
    "from functools import reduce\n",
    "array = {1, 2, 3}\n",
    "result = lambda array: reduce(lambda P, x: P + [subset | {x} for subset in P], array , [set()]) \n",
    "\n",
    "print(result(array)) "
   ]
  },
  {
   "cell_type": "code",
   "execution_count": 41,
   "id": "80ed5e2f",
   "metadata": {},
   "outputs": [
    {
     "name": "stdout",
     "output_type": "stream",
     "text": [
      "8\n"
     ]
    }
   ],
   "source": [
    "a = [1,2,3]\n",
    "print(reduce(lambda x,y: x+y,a, 2))"
   ]
  },
  {
   "cell_type": "code",
   "execution_count": 45,
   "id": "b86cd075",
   "metadata": {},
   "outputs": [
    {
     "data": {
      "text/plain": [
       "[1, 2]"
      ]
     },
     "execution_count": 45,
     "metadata": {},
     "output_type": "execute_result"
    }
   ],
   "source": [
    "a = [1,2]\n",
    "a[-2::]"
   ]
  },
  {
   "cell_type": "code",
   "execution_count": 2,
   "id": "c0462e45",
   "metadata": {},
   "outputs": [],
   "source": [
    "def fibbo(n):\n",
    "\n",
    "    if n <= 2:\n",
    "        return fibonacci_list\n",
    "    \n",
    "    fibonacci_list.append(sum(fibonacci_list[-2::]))\n",
    "\n",
    "    return fibbo(n-1)\n",
    "\n",
    "def check_prime(n):\n",
    "    \n",
    "    is_prime = True \n",
    "    if n < 2:\n",
    "        return False \n",
    "\n",
    "    for i in range(2, n):\n",
    "        if n % i == 0:\n",
    "            is_prime = False\n",
    "            return is_prime\n",
    "\n",
    "    return True \n",
    "\n",
    "def fact(N):\n",
    "\n",
    "    if N <= 1:\n",
    "        return 1 \n",
    "    \n",
    "    return N * fact(N-1)\n",
    "\n",
    "def func(N):\n",
    "\n",
    "    global fibonacci_list \n",
    "    global factorial_list\n",
    "\n",
    "    fibonacci_list=[]\n",
    "    factorial_list=[]\n",
    "    \n",
    "    if N <= 2:\n",
    "        fibonacci_list = list(range(N+1)) \n",
    "    \n",
    "    else:\n",
    "        fibonacci_list = [0,1]\n",
    "        fibbo(N)\n",
    "        # factorial_list = fibonacci_list[::]\n",
    "\n",
    "        factorial_list = [ fact(i) if check_prime(i) else i for i in fibonacci_list ]\n",
    "\n",
    "    return fibonacci_list, factorial_list"
   ]
  },
  {
   "cell_type": "code",
   "execution_count": 3,
   "id": "28bf592b",
   "metadata": {},
   "outputs": [
    {
     "data": {
      "text/plain": [
       "([0, 1, 1, 2, 3, 5], [0, 1, 1, 2, 6, 120])"
      ]
     },
     "execution_count": 3,
     "metadata": {},
     "output_type": "execute_result"
    }
   ],
   "source": [
    "func(6)"
   ]
  },
  {
   "cell_type": "code",
   "execution_count": 4,
   "id": "e4be4327",
   "metadata": {},
   "outputs": [],
   "source": [
    "def divide(a,b):\n",
    "    \"\"\" a and b are integers\"\"\"\n",
    "    try:\n",
    "        result = a // b\n",
    "    except ZeroDivisionError as e:\n",
    "        print(\"ZeroDivisionError occured\")\n",
    "    return result\n",
    "\n",
    "def multiply(a,b):\n",
    "  return a * b \n",
    "\n",
    "def subtract(a,b):\n",
    "  return a - b \n",
    "  \n",
    "def calci(list1,list2):\n",
    "\n",
    "  \"\"\" both arguments are list here\"\"\"\n",
    "  arr1=[]\n",
    "  arr2=[]\n",
    "  arr3=[]\n",
    "  if len(list1) != len(list2):\n",
    "    print(\"Not same length\")\n",
    "  else:\n",
    "    for i in range(0,len(list1)):\n",
    "      arr1.append(divide(list1[i],list2[i]))\n",
    "      arr2.append(multiply(list1[i],list2[i]))\n",
    "      arr3.append(subtract(list1[i],list2[i]))\n",
    "\n",
    "  return arr1,arr2,arr3"
   ]
  },
  {
   "cell_type": "code",
   "execution_count": 6,
   "id": "2a936d9f",
   "metadata": {},
   "outputs": [
    {
     "data": {
      "text/plain": [
       "([1, 1, 3], [16, 1, 3], [0, 0, 2])"
      ]
     },
     "execution_count": 6,
     "metadata": {},
     "output_type": "execute_result"
    }
   ],
   "source": [
    "l1 = [4,1,3]\n",
    "l2 = [4,1,1]\n",
    "calci(l1, l2)"
   ]
  },
  {
   "cell_type": "code",
   "execution_count": 7,
   "id": "b8cc0eb8",
   "metadata": {},
   "outputs": [],
   "source": [
    "dict = {1: \"Apple\", 2 : \"Suman\"}"
   ]
  },
  {
   "cell_type": "code",
   "execution_count": 8,
   "id": "c5103952",
   "metadata": {},
   "outputs": [
    {
     "data": {
      "text/plain": [
       "{1: 'Apple', 2: 'Suman'}"
      ]
     },
     "execution_count": 8,
     "metadata": {},
     "output_type": "execute_result"
    }
   ],
   "source": [
    "dict"
   ]
  },
  {
   "cell_type": "code",
   "execution_count": 9,
   "id": "97a9d397",
   "metadata": {},
   "outputs": [],
   "source": [
    "dict[1] = \"Stra\""
   ]
  },
  {
   "cell_type": "code",
   "execution_count": 10,
   "id": "b94bdf48",
   "metadata": {},
   "outputs": [
    {
     "data": {
      "text/plain": [
       "{1: 'Stra', 2: 'Suman'}"
      ]
     },
     "execution_count": 10,
     "metadata": {},
     "output_type": "execute_result"
    }
   ],
   "source": [
    "dict"
   ]
  },
  {
   "cell_type": "code",
   "execution_count": 11,
   "id": "10adf06d",
   "metadata": {},
   "outputs": [
    {
     "name": "stdout",
     "output_type": "stream",
     "text": [
      "5 8\n"
     ]
    }
   ],
   "source": [
    "class A:\n",
    "\n",
    "    def __init__(self, x):\n",
    "        self.x = x\n",
    "    \n",
    "    def count(self, x):\n",
    "        self.x += 1\n",
    "\n",
    "class B(A):\n",
    "\n",
    "    def __init__(self, y=0):\n",
    "        A.__init__(self, 5)\n",
    "        self.y = y \n",
    "\n",
    "    def count(self, ):\n",
    "        self.y += 2\n",
    "\n",
    "\n",
    "obj = B(6)\n",
    "obj.count()\n",
    "print(obj.x, obj.y)"
   ]
  },
  {
   "cell_type": "code",
   "execution_count": 12,
   "id": "4cfc1d2d",
   "metadata": {},
   "outputs": [],
   "source": [
    "def pure_func(List):\n",
    "\n",
    "    for i in range(len(List)):\n",
    "        List[i] = i**2 \n",
    "\n",
    "    return List"
   ]
  },
  {
   "cell_type": "code",
   "execution_count": 13,
   "id": "fbbd7f25",
   "metadata": {},
   "outputs": [],
   "source": [
    "o = [1,2,3,4]\n",
    "m = pure_func(o)"
   ]
  },
  {
   "cell_type": "code",
   "execution_count": 14,
   "id": "f4124097",
   "metadata": {},
   "outputs": [
    {
     "data": {
      "text/plain": [
       "[0, 1, 4, 9]"
      ]
     },
     "execution_count": 14,
     "metadata": {},
     "output_type": "execute_result"
    }
   ],
   "source": [
    "o"
   ]
  },
  {
   "cell_type": "code",
   "execution_count": 15,
   "id": "6bcd1b3f",
   "metadata": {},
   "outputs": [
    {
     "data": {
      "text/plain": [
       "[0, 1, 4, 9]"
      ]
     },
     "execution_count": 15,
     "metadata": {},
     "output_type": "execute_result"
    }
   ],
   "source": [
    "m"
   ]
  },
  {
   "cell_type": "code",
   "execution_count": 17,
   "id": "955a6d2c",
   "metadata": {},
   "outputs": [
    {
     "name": "stdout",
     "output_type": "stream",
     "text": [
      "A new exception :  3*2\n"
     ]
    }
   ],
   "source": [
    "class MyError(Exception):\n",
    "\n",
    "    def __init__(self, value):\n",
    "        self.value = value\n",
    "\n",
    "    def __str__(self):\n",
    "        return (repr(self.value))\n",
    "\n",
    "    \n",
    "try:\n",
    "    raise(MyError(\"3*2\"))\n",
    "\n",
    "except MyError as error:\n",
    "    print(\"A new exception : \", error.value)"
   ]
  },
  {
   "cell_type": "code",
   "execution_count": 20,
   "id": "13a8b489",
   "metadata": {},
   "outputs": [],
   "source": [
    "def fact(n):\n",
    "    \n",
    "    if n <= 1:\n",
    "        return 1\n",
    "    \n",
    "    return n * fact(n-1)\n",
    "    \n",
    "\n",
    "def combination(n, r):\n",
    "    \n",
    "    ans = fact(n)/(fact(r) * fact(n-r))\n",
    "    \n",
    "    return int(ans)"
   ]
  },
  {
   "cell_type": "code",
   "execution_count": 21,
   "id": "88ec378b",
   "metadata": {},
   "outputs": [
    {
     "data": {
      "text/plain": [
       "6188"
      ]
     },
     "execution_count": 21,
     "metadata": {},
     "output_type": "execute_result"
    }
   ],
   "source": [
    "combination(17, 5)"
   ]
  },
  {
   "cell_type": "code",
   "execution_count": 22,
   "id": "873fc46c",
   "metadata": {},
   "outputs": [],
   "source": [
    "import math\n",
    "\n",
    "def fact(n):\n",
    "    \n",
    "    if n <= 1:\n",
    "        return 1\n",
    "    \n",
    "    return n * fact(n-1)\n",
    "    \n",
    "\n",
    "def combination(n, r):\n",
    "    \n",
    "    ans = fact(n)/(fact(r) * fact(n-r))\n",
    "    \n",
    "    return int(ans)\n",
    "    \n",
    "\n",
    "\n",
    "def num_teams(n,k,m):\n",
    "\t#n -> The total number of people at the party\n",
    "    #k -> The total number of people in each team to be included\n",
    "    #m -> The total number of people who will not play the game\n",
    "    # result -> type int. The number of possible teams\n",
    "    \n",
    "    # return the number of possible teams \n",
    "    \t\n",
    "\t# code starts here\n",
    "\n",
    "\t# code ends here\n",
    "\t\n",
    "\tresult = combination(n-m, k)\n",
    "\t\n",
    "\treturn result"
   ]
  },
  {
   "cell_type": "code",
   "execution_count": 23,
   "id": "2547ad4c",
   "metadata": {},
   "outputs": [
    {
     "data": {
      "text/plain": [
       "6188"
      ]
     },
     "execution_count": 23,
     "metadata": {},
     "output_type": "execute_result"
    }
   ],
   "source": [
    "num_teams(20, 5, 3)"
   ]
  },
  {
   "cell_type": "code",
   "execution_count": 24,
   "id": "ab3d9d53",
   "metadata": {},
   "outputs": [],
   "source": [
    "s = 'The quick Brown Fox'"
   ]
  },
  {
   "cell_type": "code",
   "execution_count": 29,
   "id": "ac45a9bf",
   "metadata": {},
   "outputs": [],
   "source": [
    "temp = [1 if i.isupper() else 2 for i in s]"
   ]
  },
  {
   "cell_type": "code",
   "execution_count": 32,
   "id": "e718a91f",
   "metadata": {},
   "outputs": [
    {
     "data": {
      "text/plain": [
       "(3, 16)"
      ]
     },
     "execution_count": 32,
     "metadata": {},
     "output_type": "execute_result"
    }
   ],
   "source": [
    "temp.count(1), temp.count(2)"
   ]
  },
  {
   "cell_type": "code",
   "execution_count": 34,
   "id": "9398cfec",
   "metadata": {},
   "outputs": [
    {
     "data": {
      "text/plain": [
       "False"
      ]
     },
     "execution_count": 34,
     "metadata": {},
     "output_type": "execute_result"
    }
   ],
   "source": [
    "\" \".islower()"
   ]
  },
  {
   "cell_type": "code",
   "execution_count": 36,
   "id": "64bd0333",
   "metadata": {},
   "outputs": [],
   "source": [
    "def count_upper_lower(s):\n",
    "\t#s -> The string S\n",
    "\n",
    "    u = 0\n",
    "    l = 0\n",
    "    \n",
    "    for i in s:\n",
    "        if i.isupper():\n",
    "            u += 1\n",
    "        elif i.islower():\n",
    "            l += 1\n",
    "            \n",
    "    return u, l\n"
   ]
  },
  {
   "cell_type": "code",
   "execution_count": 37,
   "id": "b480c249",
   "metadata": {},
   "outputs": [
    {
     "data": {
      "text/plain": [
       "(3, 13)"
      ]
     },
     "execution_count": 37,
     "metadata": {},
     "output_type": "execute_result"
    }
   ],
   "source": [
    "count_upper_lower(s)"
   ]
  },
  {
   "cell_type": "code",
   "execution_count": 57,
   "id": "35e90e55",
   "metadata": {},
   "outputs": [],
   "source": [
    "import math\n",
    "\n",
    "def calculate_min(a,b,c,d,n):\n",
    "    \n",
    "    result = float('inf')\n",
    "    \n",
    "    # results_dict = {}\n",
    "    for i in range(1, n):\n",
    "        \n",
    "        derivative = 2 * a * (i**2) + 2 * b + c \n",
    "        \n",
    "        # results_dict[i] = derivative\n",
    "        if derivative <= result:\n",
    "\n",
    "            \n",
    "            result = derivative\n",
    "            num = i \n",
    "            \n",
    "            \n",
    "\n",
    "    return num\n"
   ]
  },
  {
   "cell_type": "code",
   "execution_count": 58,
   "id": "95b7a366",
   "metadata": {},
   "outputs": [
    {
     "data": {
      "text/plain": [
       "1"
      ]
     },
     "execution_count": 58,
     "metadata": {},
     "output_type": "execute_result"
    }
   ],
   "source": [
    "a, b, c, d = 1, 5, -3, 1\n",
    "n = 150\n",
    "\n",
    "calculate_min(a,b,c,d,n)"
   ]
  },
  {
   "cell_type": "code",
   "execution_count": 60,
   "id": "0502cddd",
   "metadata": {},
   "outputs": [
    {
     "data": {
      "text/plain": [
       "149"
      ]
     },
     "execution_count": 60,
     "metadata": {},
     "output_type": "execute_result"
    }
   ],
   "source": [
    "a, b, c, d = -1, -3, 3, 1\n",
    "n = 150\n",
    "\n",
    "calculate_min(a,b,c,d,n)"
   ]
  },
  {
   "cell_type": "code",
   "execution_count": null,
   "id": "72a65516",
   "metadata": {},
   "outputs": [],
   "source": []
  }
 ],
 "metadata": {
  "kernelspec": {
   "display_name": "Python 3",
   "language": "python",
   "name": "python3"
  },
  "language_info": {
   "codemirror_mode": {
    "name": "ipython",
    "version": 3
   },
   "file_extension": ".py",
   "mimetype": "text/x-python",
   "name": "python",
   "nbconvert_exporter": "python",
   "pygments_lexer": "ipython3",
   "version": "3.9.7"
  },
  "vscode": {
   "interpreter": {
    "hash": "7b81e634707a2e4135bf890680c8c35ed880de27576c789347cd579c6a5c7d0d"
   }
  }
 },
 "nbformat": 4,
 "nbformat_minor": 5
}
