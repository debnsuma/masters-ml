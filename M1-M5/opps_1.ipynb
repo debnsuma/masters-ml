{
 "cells": [
  {
   "cell_type": "code",
   "execution_count": 1,
   "metadata": {
    "collapsed": true
   },
   "outputs": [],
   "source": [
    "class Student():\n",
    "\n",
    "    def __init__(self, marks1,marks2,credits1, credits2):\n",
    "        self.marks1 = marks1\n",
    "        self.marks2 = marks2\n",
    "        self.credits1 = credits1\n",
    "        self.credits2 = credits2\n",
    "\n",
    "    def grade_point_average(self):\n",
    "        gpa=0\n",
    "\n",
    "        if self.credits1 == 0 and self.credits2 == 0:\n",
    "            return \"Zero credits for both subjects\"\n",
    "        else:\n",
    "            self.p1 = self.get_points(self.marks1)\n",
    "            self.p2 = self.get_points(self.marks2)\n",
    "\n",
    "\n",
    "            gpa = ((self.p1 * self.credits1) + (self.p2 * self.credits2)) / (self.credits1 + self.credits2)\n",
    "\n",
    "\n",
    "            return round(gpa, 2)\n",
    "\n",
    "    def get_points(self, marks):\n",
    "\n",
    "        if marks >= 90:\n",
    "            point = 10\n",
    "        elif marks >= 75 and marks < 90:\n",
    "            point = 9\n",
    "        elif marks >= 60 and marks < 75:\n",
    "            point = 8\n",
    "        elif marks >= 45 and marks < 60:\n",
    "            point = 7\n",
    "        else:\n",
    "            point = 0\n",
    "\n",
    "        return point\n"
   ]
  },
  {
   "cell_type": "code",
   "execution_count": 2,
   "outputs": [],
   "source": [
    "s1 = Student(76,55, 0, 0)"
   ],
   "metadata": {
    "collapsed": false
   }
  },
  {
   "cell_type": "code",
   "execution_count": 3,
   "outputs": [
    {
     "data": {
      "text/plain": "'Zero credits for both subjects'"
     },
     "execution_count": 3,
     "metadata": {},
     "output_type": "execute_result"
    }
   ],
   "source": [
    "s1.grade_point_average()"
   ],
   "metadata": {
    "collapsed": false
   }
  },
  {
   "cell_type": "code",
   "execution_count": 1,
   "outputs": [],
   "source": [
    "class Bill():\n",
    "\n",
    "    def __init__(self, prev_read, cur_read):\n",
    "        self.prev_read = prev_read\n",
    "        self.cur_read = cur_read\n",
    "        self.last_month_read = self.cur_read - self.prev_read\n",
    "\n",
    "\n",
    "    def total_bill(self):\n",
    "        total = 0.0\n",
    "        if self.last_month_read <= 100:\n",
    "            total = 3.5 * self.last_month_read\n",
    "        elif self.last_month_read > 100 and self.last_month_read <= 200:\n",
    "            total = (3.5 * 100) + (5 * (self.last_month_read - 100))\n",
    "        else:\n",
    "            total = (3.5 * 100) + (5 * 100) + (8 * (self.last_month_read - 200))\n",
    "\n",
    "        return total + 150\n",
    "\n",
    "        #YOUR CODE GOESS HERE\n",
    "\n",
    "        return total"
   ],
   "metadata": {
    "collapsed": false
   }
  },
  {
   "cell_type": "code",
   "execution_count": 6,
   "outputs": [],
   "source": [
    "b = Bill(200, 650)"
   ],
   "metadata": {
    "collapsed": false
   }
  },
  {
   "cell_type": "code",
   "execution_count": 7,
   "outputs": [
    {
     "data": {
      "text/plain": "3000.0"
     },
     "execution_count": 7,
     "metadata": {},
     "output_type": "execute_result"
    }
   ],
   "source": [
    "b.total_bill()"
   ],
   "metadata": {
    "collapsed": false
   }
  },
  {
   "cell_type": "code",
   "execution_count": null,
   "outputs": [],
   "source": [],
   "metadata": {
    "collapsed": false
   }
  }
 ],
 "metadata": {
  "kernelspec": {
   "display_name": "Python 3",
   "language": "python",
   "name": "python3"
  },
  "language_info": {
   "codemirror_mode": {
    "name": "ipython",
    "version": 2
   },
   "file_extension": ".py",
   "mimetype": "text/x-python",
   "name": "python",
   "nbconvert_exporter": "python",
   "pygments_lexer": "ipython2",
   "version": "2.7.6"
  }
 },
 "nbformat": 4,
 "nbformat_minor": 0
}
