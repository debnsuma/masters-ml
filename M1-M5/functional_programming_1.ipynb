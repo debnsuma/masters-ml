{
 "cells": [
  {
   "cell_type": "code",
   "execution_count": 94,
   "metadata": {},
   "outputs": [],
   "source": [
    "def second_lowest(students, scores):\n",
    "\n",
    "    student_data, second_low_score, second_names = [], None, []\n",
    "    sorted_scores = sorted(set(scores))\n",
    "    second_low_score = sorted_scores[1]\n",
    "\n",
    "    for x,y in zip(students, scores):\n",
    "            student_data.append([x,y])\n",
    "            if y==second_low_score:\n",
    "                second_names.append(x)\n",
    "\n",
    "    return student_data, second_low_score, second_names"
   ]
  },
  {
   "cell_type": "code",
   "execution_count": 95,
   "metadata": {},
   "outputs": [
    {
     "data": {
      "text/plain": [
       "([['A', 1], ['B', 3], ['C', 2], ['D', 2], ['E', 1]], 2, ['C', 'D'])"
      ]
     },
     "execution_count": 95,
     "metadata": {},
     "output_type": "execute_result"
    }
   ],
   "source": [
    "s = \"A B C D E\".split()\n",
    "r = [1, 3, 2, 2, 1]\n",
    "\n",
    "second_lowest(s, r)"
   ]
  },
  {
   "cell_type": "code",
   "execution_count": 96,
   "metadata": {},
   "outputs": [],
   "source": [
    "string = 'mango banana guava'.split()"
   ]
  },
  {
   "cell_type": "code",
   "execution_count": 104,
   "metadata": {},
   "outputs": [
    {
     "data": {
      "text/plain": [
       "['banana', 'guava', 'mango']"
      ]
     },
     "execution_count": 104,
     "metadata": {},
     "output_type": "execute_result"
    }
   ],
   "source": [
    "sorted(string, key=lambda x: x.count('a'), reverse=True)"
   ]
  },
  {
   "cell_type": "code",
   "execution_count": 106,
   "metadata": {},
   "outputs": [],
   "source": [
    "def sort_strings(str_list):\n",
    "\t#str_list-> nested list of strings\n",
    "\t\n",
    "\t# return the sorted list of strings on the basis of number of times ‘a’ occurs\n",
    "\t\n",
    "\t# code starts here\n",
    "    res = [ sorted(string, key=lambda x: x.count('a'), reverse=True) for string in str_list ]\n",
    "\n",
    "    return res"
   ]
  },
  {
   "cell_type": "code",
   "execution_count": 114,
   "metadata": {},
   "outputs": [],
   "source": [
    "def sort_strings(str_list):\n",
    "\t#str_list-> list of strings\n",
    "\t\n",
    "\t# return the sorted list of strings on the basis of criteria mentioned\n",
    "\t\n",
    "\t# code starts here\n",
    "\tres = sorted(str_list, key=lambda x: len(x))\n",
    "\t\n",
    "\treturn res\n"
   ]
  },
  {
   "cell_type": "code",
   "execution_count": 115,
   "metadata": {},
   "outputs": [
    {
     "data": {
      "text/plain": [
       "['abc', 'acb', 'ddd', 'cbde']"
      ]
     },
     "execution_count": 115,
     "metadata": {},
     "output_type": "execute_result"
    }
   ],
   "source": [
    "str_list = ['abc', 'acb', 'ddd', 'cbde']\n",
    "sort_strings(str_list)"
   ]
  },
  {
   "cell_type": "code",
   "execution_count": 118,
   "metadata": {},
   "outputs": [],
   "source": [
    "def sort_strings(str_list):\n",
    "\n",
    "    res = []\n",
    "    #code ends here\n",
    "    str_list=sorted(str_list)\n",
    "    print(str_list)\n",
    "    res= sorted(str_list,key=lambda x: len(x))\n",
    "\n",
    "    return res"
   ]
  },
  {
   "cell_type": "code",
   "execution_count": 119,
   "metadata": {},
   "outputs": [
    {
     "name": "stdout",
     "output_type": "stream",
     "text": [
      "['abc', 'acb', 'cbde', 'ddd']\n"
     ]
    },
    {
     "data": {
      "text/plain": [
       "['abc', 'acb', 'ddd', 'cbde']"
      ]
     },
     "execution_count": 119,
     "metadata": {},
     "output_type": "execute_result"
    }
   ],
   "source": [
    "str_list = ['abc', 'acb', 'ddd', 'cbde']\n",
    "sort_strings(str_list)"
   ]
  },
  {
   "cell_type": "code",
   "execution_count": null,
   "metadata": {},
   "outputs": [],
   "source": []
  }
 ],
 "metadata": {
  "kernelspec": {
   "display_name": "Python 3",
   "language": "python",
   "name": "python3"
  },
  "language_info": {
   "codemirror_mode": {
    "name": "ipython",
    "version": 3
   },
   "file_extension": ".py",
   "mimetype": "text/x-python",
   "name": "python",
   "nbconvert_exporter": "python",
   "pygments_lexer": "ipython3",
   "version": "3.7.15 (default, Oct 31 2022, 22:46:19) \n[GCC 7.3.1 20180712 (Red Hat 7.3.1-15)]"
  },
  "orig_nbformat": 4,
  "vscode": {
   "interpreter": {
    "hash": "31f2aee4e71d21fbe5cf8b01ff0e069b9275f58929596ceb00d14d90e3e16cd6"
   }
  }
 },
 "nbformat": 4,
 "nbformat_minor": 2
}
