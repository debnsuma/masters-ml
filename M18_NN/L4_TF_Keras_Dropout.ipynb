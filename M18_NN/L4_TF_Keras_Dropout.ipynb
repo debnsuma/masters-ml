{
 "cells": [
  {
   "cell_type": "markdown",
   "metadata": {
    "id": "TJZ-3vAUjCBO"
   },
   "source": [
    "**Content**\n",
    "\n",
    "1.   TF2 and Keras code for Sequential API.\n",
    "2.   TF2 and Keras code for Functional API.\n",
    "3.   Dropout (Regularization through randomization).\n",
    "4.   CPU v/s GPU.\n",
    "5.   TensorBoard and Computational Graph.\n",
    "6.   Batch Normalization."
   ]
  },
  {
   "cell_type": "markdown",
   "metadata": {
    "id": "XUKPDk91vxvC"
   },
   "source": [
    "#### TF2 and Keras (Sequential API)"
   ]
  },
  {
   "cell_type": "code",
   "execution_count": 1,
   "metadata": {
    "id": "BytD5UlYFd0A"
   },
   "outputs": [],
   "source": [
    "import numpy as np\n",
    "import tensorflow as tf\n",
    "from tensorflow import keras\n",
    "from tensorflow.keras import layers\n",
    "from tensorflow.keras.models import Sequential\n",
    "from tensorflow.keras.layers import Dense, Activation, Dropout\n",
    "from tensorflow.keras.utils import to_categorical, plot_model\n",
    "from tensorflow.keras.datasets import mnist\n",
    "import matplotlib.pyplot as plt"
   ]
  },
  {
   "cell_type": "code",
   "execution_count": 2,
   "metadata": {
    "colab": {
     "base_uri": "https://localhost:8080/"
    },
    "id": "L3ZNtPSTFd3T",
    "outputId": "4fe03569-3f31-4bb8-e985-45c3f3bea5bb"
   },
   "outputs": [
    {
     "name": "stdout",
     "output_type": "stream",
     "text": [
      "2.16.1\n"
     ]
    }
   ],
   "source": [
    "print(tf.__version__)"
   ]
  },
  {
   "cell_type": "code",
   "execution_count": 3,
   "metadata": {
    "colab": {
     "base_uri": "https://localhost:8080/"
    },
    "id": "NNjYKWwgFd6G",
    "outputId": "5eaa0abd-ba2a-43ff-a64c-403c4cf77d7e"
   },
   "outputs": [],
   "source": [
    "# load mnist dataset\n",
    "(x_train, y_train), (x_test, y_test) = mnist.load_data()"
   ]
  },
  {
   "cell_type": "markdown",
   "metadata": {
    "id": "r0L5cG4YM19U"
   },
   "source": [
    "Keras has some inbuilt datasets to work with."
   ]
  },
  {
   "cell_type": "markdown",
   "metadata": {
    "id": "01A28RCLlrtn"
   },
   "source": [
    "***Question:*** Is there any classical ML model which can be used when number of classes is much larger, lets say 100?\n",
    "\n",
    "***Answer:***\n",
    "- Strategy 1 v/s rest can be used in Logistic Regression.\n",
    "- KNN can also be used if 100 classes are well separated.\n",
    "- Dimension reduction using UMAP and Tree based methods like Decision Tree, Gradient Boost Decision Tree, Random Forest can be used. UMAP is used as it is faster and preserves Global structure better.\n",
    "- Softmax Classifier can be used as well. Think of it as Classical ML model.\n",
    " <img src='https://drive.google.com/uc?id=1fLO9ZMPRIdcP_jMm28-E51nb05lyNj7y'>\n"
   ]
  },
  {
   "cell_type": "markdown",
   "metadata": {
    "id": "BsGvxbeEN9Eb"
   },
   "source": [
    "***Question:*** If classes are too high, does a decision tree or RF perform well? or generally it performs better on binary classification?\n",
    "\n",
    "***Answer:***\n",
    "- For each class as long as you have good amount of data, it should be ok.\n",
    "- If classes are more, people go to Deep Learning models."
   ]
  },
  {
   "cell_type": "code",
   "execution_count": 4,
   "metadata": {
    "colab": {
     "base_uri": "https://localhost:8080/"
    },
    "id": "Xrnkl1xXFd9H",
    "outputId": "3a1d770e-ae25-4534-cc98-ad230f755157"
   },
   "outputs": [
    {
     "name": "stdout",
     "output_type": "stream",
     "text": [
      "(60000, 28, 28)\n",
      "(60000,)\n",
      "(10000, 28, 28)\n",
      "(10000,)\n"
     ]
    }
   ],
   "source": [
    "print(x_train.shape)\n",
    "print(y_train.shape)\n",
    "print(x_test.shape)\n",
    "print(y_test.shape)"
   ]
  },
  {
   "cell_type": "markdown",
   "metadata": {
    "id": "A5-OTs62OaYL"
   },
   "source": [
    "Here, we have 60,000 images in training data each of size 28 by 28 pixels as inputs. For each image we have entry in $y_{train}$ which is an integer representing the number in the image.\n",
    "\n",
    "Similarly, we have 10,000 images in test set with its correponding labels in $y_{test}$"
   ]
  },
  {
   "cell_type": "code",
   "execution_count": 5,
   "metadata": {
    "colab": {
     "base_uri": "https://localhost:8080/",
     "height": 282
    },
    "id": "OkYIh43LFjMi",
    "outputId": "0c4752cc-8c45-4930-f6d2-7772fad36d71"
   },
   "outputs": [
    {
     "name": "stdout",
     "output_type": "stream",
     "text": [
      "1\n"
     ]
    },
    {
     "data": {
      "image/png": "[encoded data removed]",
      "text/plain": [
       "<Figure size 640x480 with 1 Axes>"
      ]
     },
     "metadata": {},
     "output_type": "display_data"
    }
   ],
   "source": [
    "idx=np.random.randint(0, x_train.shape[0]) # some random image from the dataset \n",
    "plt.imshow(x_train[idx], cmap='gray', interpolation='none')\n",
    "print(y_train[idx])"
   ]
  },
  {
   "cell_type": "markdown",
   "metadata": {
    "id": "JOrF65dPKuXI"
   },
   "source": [
    "***Question:*** Can we pose a 100 class classification problem as regression? Why? or Why not?\n",
    "\n",
    "***Answer:***\n",
    "- Ordinality is important in Regression. If data has no ordinality, then we can't.\n",
    "- Scale is needed. For e.g. let say we have classes $C_1,C_2...C_{100}$ where $C_1 \\to White \\ (255)$ and $C_{100} \\to Black \\ (0)$. So a perfect $Grey$ would lie in between $(128)$.\n",
    "  <img src='https://drive.google.com/uc?id=1w8TqO24wiFZVcUtimgGRWdu5XbxVu-RB'>\n",
    "  "
   ]
  },
  {
   "cell_type": "markdown",
   "metadata": {
    "id": "hBSQKUwyK05U"
   },
   "source": [
    "***Question:*** From Entropy/gini minimization POV (getting \"pure nodes\" as quickly as possible),  what impact will having higher number of classes have?\n",
    "\n",
    "***Answer:***\n",
    "- Entropy is represented as $-\\sum p_i log(p_i)$.\n",
    "- Imagine we have $2$ classes with $P_1 = 0.5$ and $P_2 = 0.5$ as probabilities for each of them. Imagine we have $10$ classes with probabilities $P_1, P_2,....P_{10}$ equal to $0.1$ for each of them.\n",
    "- If we substitute these values, then we get values as $0.3010$ for $2$ classes and $1$ for $10$ classes.\n",
    "- This shows that if we have more classes, then entropy calculation certainly gets impacted. But here, we are interested in difference in entropy. So it does impact.\n",
    "  <img src='https://drive.google.com/uc?id=1d7IDkhbzLWLBqoWEpjjV6p7gTEUfj3km'>\n",
    "  "
   ]
  },
  {
   "cell_type": "code",
   "execution_count": 6,
   "metadata": {
    "colab": {
     "base_uri": "https://localhost:8080/"
    },
    "id": "4O7ElNDTFjPZ",
    "outputId": "2430b3bc-008c-4186-eab1-5e50ae1de03d"
   },
   "outputs": [
    {
     "name": "stdout",
     "output_type": "stream",
     "text": [
      "10\n"
     ]
    }
   ],
   "source": [
    "# number of class labels\n",
    "num_labels = len(np.unique(y_train))\n",
    "print(num_labels)"
   ]
  },
  {
   "cell_type": "code",
   "execution_count": 7,
   "metadata": {},
   "outputs": [
    {
     "data": {
      "text/plain": [
       "(array([5, 0, 4, 1, 9], dtype=uint8), (60000,))"
      ]
     },
     "execution_count": 7,
     "metadata": {},
     "output_type": "execute_result"
    }
   ],
   "source": [
    "y_train[:5], y_train.shape"
   ]
  },
  {
   "cell_type": "code",
   "execution_count": 8,
   "metadata": {
    "id": "wMAUypETFjS4"
   },
   "outputs": [],
   "source": [
    "# convert y_i's to one-hot vectors\n",
    "y_train = to_categorical(y_train)\n",
    "y_test = to_categorical(y_test)"
   ]
  },
  {
   "cell_type": "code",
   "execution_count": 9,
   "metadata": {},
   "outputs": [
    {
     "data": {
      "text/plain": [
       "(array([[0., 0., 0., 0., 0., 1., 0., 0., 0., 0.],\n",
       "        [1., 0., 0., 0., 0., 0., 0., 0., 0., 0.],\n",
       "        [0., 0., 0., 0., 1., 0., 0., 0., 0., 0.],\n",
       "        [0., 1., 0., 0., 0., 0., 0., 0., 0., 0.],\n",
       "        [0., 0., 0., 0., 0., 0., 0., 0., 0., 1.]]),\n",
       " (60000, 10))"
      ]
     },
     "execution_count": 9,
     "metadata": {},
     "output_type": "execute_result"
    }
   ],
   "source": [
    "y_train[:5], y_train.shape"
   ]
  },
  {
   "cell_type": "markdown",
   "metadata": {
    "id": "67T74T_WSki3"
   },
   "source": [
    "Since, we want to use Categorical Cross Entropy for loss, we need to use One-hot encoding."
   ]
  },
  {
   "cell_type": "code",
   "execution_count": 10,
   "metadata": {
    "id": "1UNmh07UFpuj"
   },
   "outputs": [],
   "source": [
    "# Image: 2D matrix to 1D vector\n",
    "image_size = x_train.shape[1]\n",
    "input_size = image_size * image_size\n",
    "\n",
    "# 2D to 1D + Normalize (0-255)\n",
    "x_train = np.reshape(x_train, [-1, input_size])\n",
    "x_train = x_train.astype('float32') / 255\n",
    "\n",
    "x_test = np.reshape(x_test, [-1, input_size])\n",
    "x_test = x_test.astype('float32') / 255"
   ]
  },
  {
   "cell_type": "code",
   "execution_count": 11,
   "metadata": {},
   "outputs": [
    {
     "data": {
      "text/plain": [
       "(784,)"
      ]
     },
     "execution_count": 11,
     "metadata": {},
     "output_type": "execute_result"
    }
   ],
   "source": [
    "x_train[0].shape"
   ]
  },
  {
   "cell_type": "markdown",
   "metadata": {
    "id": "ScbVchQnT8FU"
   },
   "source": [
    "- A 2-D image of 28 by 28 pixels, is converted to 1D by placing each row in 2D representation one after the other to form a 1D representation.\n",
    "  <img src='https://drive.google.com/uc?id=16l3Ptw15bBIkZfb0LEmwDltVl7SLGxIt'>\n"
   ]
  },
  {
   "cell_type": "markdown",
   "metadata": {
    "id": "nL7tMq8CK6i9"
   },
   "source": [
    "- Till now, we have used standardization of data i.e. Mean-centering and variance scaling.\n",
    "- But for images, we use normalization i.e. min-max scaling.\n",
    "- Typically in images we know that $0 \\to Black$ and $255 \\to White$. If standardization was used, then we would have negative values that cannot be interpreted.\n",
    "- But if we use normalization, then we know that $0 \\to Black$ and $1 \\to White$ with values in between representing various shades of grey.\n",
    "- Hence,normalization is used.\n",
    "  <img src='https://drive.google.com/uc?id=1jnPINiPpUSrgSyCjw33hY3q021T58w9k'>\n",
    "  "
   ]
  },
  {
   "cell_type": "code",
   "execution_count": 12,
   "metadata": {
    "id": "_rpWxiXmFpxJ"
   },
   "outputs": [],
   "source": [
    "# Hyper-params of NN\n",
    "batch_size = 128 # typically 2^n\n",
    "hidden_units = 256"
   ]
  },
  {
   "cell_type": "markdown",
   "metadata": {
    "id": "SNaHt7ZHUkir"
   },
   "source": [
    "- Batch-size is set to 128. Typically it is $2^n$. This will be discussed in GPU section.\n",
    "- Hidden layer will contain 256 Neurons."
   ]
  },
  {
   "cell_type": "markdown",
   "metadata": {
    "id": "PYfZGt30LB5l"
   },
   "source": [
    "***Question:*** For a colored image, will we still do min max scaling as the distinction might not e between black and white only?\n",
    "\n",
    "***Answer:***\n",
    "- Any color is represented as RGB (Red,Green,Blue) each having a value between $0-255$.\n",
    "- Even here, we do min-max scaling. $Black \\to 0,0,0$, $White \\to 1,1,1$, $Red \\to 1,0,0$ and so on.\n",
    "  <img src='https://drive.google.com/uc?id=1Ug79O2c8xHk3L-c3nzLd7vUiH-QNZcVw'>"
   ]
  },
  {
   "cell_type": "markdown",
   "metadata": {
    "id": "PQhsOOPiV0KJ"
   },
   "source": [
    "***Question:*** What does batch size of 128 signify? Here 128 is the number of data points that we pass correct?\n",
    "\n",
    "***Answer:***\n",
    "- Each epoch has multiple iterations. In each iteration, we have random subset which is 'batch size'.\n",
    "- It corresponds to how many points we are passing in one iteration."
   ]
  },
  {
   "cell_type": "code",
   "execution_count": 13,
   "metadata": {},
   "outputs": [],
   "source": [
    "import tensorflow as tf\n",
    "from tensorflow import keras\n",
    "from tensorflow.keras import layers\n",
    "from tensorflow.keras.models import Sequential\n",
    "from tensorflow.keras.layers import Dense, Activation, Dropout\n",
    "from tensorflow.keras.utils import to_categorical, plot_model"
   ]
  },
  {
   "cell_type": "code",
   "execution_count": 14,
   "metadata": {},
   "outputs": [
    {
     "data": {
      "text/plain": [
       "784"
      ]
     },
     "execution_count": 14,
     "metadata": {},
     "output_type": "execute_result"
    }
   ],
   "source": [
    "input_size"
   ]
  },
  {
   "cell_type": "code",
   "execution_count": 15,
   "metadata": {
    "colab": {
     "base_uri": "https://localhost:8080/"
    },
    "id": "vl7VMLCsFp3H",
    "outputId": "2f37f7e4-2311-4c32-fa0a-8a84e8330b71"
   },
   "outputs": [
    {
     "data": {
      "text/html": [
       "<pre style=\"white-space:pre;overflow-x:auto;line-height:normal;font-family:Menlo,'DejaVu Sans Mono',consolas,'Courier New',monospace\"><span style=\"font-weight: bold\">Model: \"MyNN\"</span>\n",
       "</pre>\n"
      ],
      "text/plain": [
       "\u001b[1mModel: \"MyNN\"\u001b[0m\n"
      ]
     },
     "metadata": {},
     "output_type": "display_data"
    },
    {
     "data": {
      "text/html": [
       "<pre style=\"white-space:pre;overflow-x:auto;line-height:normal;font-family:Menlo,'DejaVu Sans Mono',consolas,'Courier New',monospace\">┏━━━━━━━━━━━━━━━━━━━━━━━━━━━━━━━━━┳━━━━━━━━━━━━━━━━━━━━━━━━┳━━━━━━━━━━━━━━━┓\n",
       "┃<span style=\"font-weight: bold\"> Layer (type)                    </span>┃<span style=\"font-weight: bold\"> Output Shape           </span>┃<span style=\"font-weight: bold\">       Param # </span>┃\n",
       "┡━━━━━━━━━━━━━━━━━━━━━━━━━━━━━━━━━╇━━━━━━━━━━━━━━━━━━━━━━━━╇━━━━━━━━━━━━━━━┩\n",
       "│ L1 (<span style=\"color: #0087ff; text-decoration-color: #0087ff\">Dense</span>)                      │ (<span style=\"color: #00d7ff; text-decoration-color: #00d7ff\">None</span>, <span style=\"color: #00af00; text-decoration-color: #00af00\">256</span>)            │       <span style=\"color: #00af00; text-decoration-color: #00af00\">200,960</span> │\n",
       "├─────────────────────────────────┼────────────────────────┼───────────────┤\n",
       "│ L2 (<span style=\"color: #0087ff; text-decoration-color: #0087ff\">Dense</span>)                      │ (<span style=\"color: #00d7ff; text-decoration-color: #00d7ff\">None</span>, <span style=\"color: #00af00; text-decoration-color: #00af00\">256</span>)            │        <span style=\"color: #00af00; text-decoration-color: #00af00\">65,792</span> │\n",
       "├─────────────────────────────────┼────────────────────────┼───────────────┤\n",
       "│ Output (<span style=\"color: #0087ff; text-decoration-color: #0087ff\">Dense</span>)                  │ (<span style=\"color: #00d7ff; text-decoration-color: #00d7ff\">None</span>, <span style=\"color: #00af00; text-decoration-color: #00af00\">10</span>)             │         <span style=\"color: #00af00; text-decoration-color: #00af00\">2,570</span> │\n",
       "└─────────────────────────────────┴────────────────────────┴───────────────┘\n",
       "</pre>\n"
      ],
      "text/plain": [
       "┏━━━━━━━━━━━━━━━━━━━━━━━━━━━━━━━━━┳━━━━━━━━━━━━━━━━━━━━━━━━┳━━━━━━━━━━━━━━━┓\n",
       "┃\u001b[1m \u001b[0m\u001b[1mLayer (type)                   \u001b[0m\u001b[1m \u001b[0m┃\u001b[1m \u001b[0m\u001b[1mOutput Shape          \u001b[0m\u001b[1m \u001b[0m┃\u001b[1m \u001b[0m\u001b[1m      Param #\u001b[0m\u001b[1m \u001b[0m┃\n",
       "┡━━━━━━━━━━━━━━━━━━━━━━━━━━━━━━━━━╇━━━━━━━━━━━━━━━━━━━━━━━━╇━━━━━━━━━━━━━━━┩\n",
       "│ L1 (\u001b[38;5;33mDense\u001b[0m)                      │ (\u001b[38;5;45mNone\u001b[0m, \u001b[38;5;34m256\u001b[0m)            │       \u001b[38;5;34m200,960\u001b[0m │\n",
       "├─────────────────────────────────┼────────────────────────┼───────────────┤\n",
       "│ L2 (\u001b[38;5;33mDense\u001b[0m)                      │ (\u001b[38;5;45mNone\u001b[0m, \u001b[38;5;34m256\u001b[0m)            │        \u001b[38;5;34m65,792\u001b[0m │\n",
       "├─────────────────────────────────┼────────────────────────┼───────────────┤\n",
       "│ Output (\u001b[38;5;33mDense\u001b[0m)                  │ (\u001b[38;5;45mNone\u001b[0m, \u001b[38;5;34m10\u001b[0m)             │         \u001b[38;5;34m2,570\u001b[0m │\n",
       "└─────────────────────────────────┴────────────────────────┴───────────────┘\n"
      ]
     },
     "metadata": {},
     "output_type": "display_data"
    },
    {
     "data": {
      "text/html": [
       "<pre style=\"white-space:pre;overflow-x:auto;line-height:normal;font-family:Menlo,'DejaVu Sans Mono',consolas,'Courier New',monospace\"><span style=\"font-weight: bold\"> Total params: </span><span style=\"color: #00af00; text-decoration-color: #00af00\">269,322</span> (1.03 MB)\n",
       "</pre>\n"
      ],
      "text/plain": [
       "\u001b[1m Total params: \u001b[0m\u001b[38;5;34m269,322\u001b[0m (1.03 MB)\n"
      ]
     },
     "metadata": {},
     "output_type": "display_data"
    },
    {
     "data": {
      "text/html": [
       "<pre style=\"white-space:pre;overflow-x:auto;line-height:normal;font-family:Menlo,'DejaVu Sans Mono',consolas,'Courier New',monospace\"><span style=\"font-weight: bold\"> Trainable params: </span><span style=\"color: #00af00; text-decoration-color: #00af00\">269,322</span> (1.03 MB)\n",
       "</pre>\n"
      ],
      "text/plain": [
       "\u001b[1m Trainable params: \u001b[0m\u001b[38;5;34m269,322\u001b[0m (1.03 MB)\n"
      ]
     },
     "metadata": {},
     "output_type": "display_data"
    },
    {
     "data": {
      "text/html": [
       "<pre style=\"white-space:pre;overflow-x:auto;line-height:normal;font-family:Menlo,'DejaVu Sans Mono',consolas,'Courier New',monospace\"><span style=\"font-weight: bold\"> Non-trainable params: </span><span style=\"color: #00af00; text-decoration-color: #00af00\">0</span> (0.00 B)\n",
       "</pre>\n"
      ],
      "text/plain": [
       "\u001b[1m Non-trainable params: \u001b[0m\u001b[38;5;34m0\u001b[0m (0.00 B)\n"
      ]
     },
     "metadata": {},
     "output_type": "display_data"
    }
   ],
   "source": [
    "# Sequential API\n",
    "\n",
    "# 3-layer MLP with ReLU\n",
    "model = Sequential(name='MyNN')\n",
    "model.add(keras.Input(shape=(input_size,)))          \n",
    "model.add(Dense(hidden_units, activation='relu', name='L1'))\n",
    "model.add(Dense(hidden_units, activation='relu', name='L2'))\n",
    "\n",
    "# this is the output for one-hot vector\n",
    "model.add(Dense(num_labels, activation='softmax', name='Output'))\n",
    "model.summary()"
   ]
  },
  {
   "cell_type": "markdown",
   "metadata": {
    "id": "bR6CbrciWdRO"
   },
   "source": [
    "***Question:*** How are number of parameters computed in the above summary?\n",
    "\n",
    "***Answer:***\n",
    "- Input is of shape 784*Batch Size which is densely connected to 256 Neurons. So parameters are computed as $(784*256) \\ weights + 256 \\ for \\ biases = 200960$.\n",
    "  <img src='https://drive.google.com/uc?id=1lwU9IQrn4Yo_QBGQoU3E9JaX-s9Qtl_c'>"
   ]
  },
  {
   "cell_type": "markdown",
   "metadata": {
    "id": "vCSxcwaxkN7t"
   },
   "source": [
    "***Question:*** Is there a rule of thumb we can follow to determine hidden_layers and neurons in each hidden_layers?\n",
    "\n",
    "***Answer:***\n",
    "- Here single input each of size $784*1$ is passed through Neural network setup to get an output that is of size $10*1$.\n",
    "- So, we want the interemediate layers that are reducing.\n",
    "- Why 256?. Well it could be anything and hence it's a hyper parameter.\n",
    "  <img src='https://drive.google.com/uc?id=18c1nDwiXSSZQxwTH6gXuejmAhIsgKU3X'>\n",
    "\n",
    "\n",
    "*Note:* As we increase layers, we will certainly overfit.\n"
   ]
  },
  {
   "cell_type": "code",
   "execution_count": 16,
   "metadata": {
    "id": "3zarxyP-Fp5v"
   },
   "outputs": [],
   "source": [
    "model.compile(loss='categorical_crossentropy',\n",
    "              optimizer='adam',\n",
    "              metrics=['accuracy'])"
   ]
  },
  {
   "cell_type": "markdown",
   "metadata": {
    "id": "JJBbQOYhXL-5"
   },
   "source": [
    "We have $60,000$ images in training set. So for $20$ epochs and $128$ batch-size, we have $60,000/12 \\approx 469$ images used in 1 iteration of epoch."
   ]
  },
  {
   "cell_type": "code",
   "execution_count": 17,
   "metadata": {
    "colab": {
     "base_uri": "https://localhost:8080/"
    },
    "id": "Od_qFBfnFp80",
    "outputId": "bf719ee8-a6d6-4ebd-d8f7-3c8874dd8923"
   },
   "outputs": [
    {
     "name": "stdout",
     "output_type": "stream",
     "text": [
      "Epoch 1/20\n",
      "\u001b[1m469/469\u001b[0m \u001b[32m━━━━━━━━━━━━━━━━━━━━\u001b[0m\u001b[37m\u001b[0m \u001b[1m1s\u001b[0m 2ms/step - accuracy: 0.8650 - loss: 0.4837\n",
      "Epoch 2/20\n",
      "\u001b[1m469/469\u001b[0m \u001b[32m━━━━━━━━━━━━━━━━━━━━\u001b[0m\u001b[37m\u001b[0m \u001b[1m1s\u001b[0m 2ms/step - accuracy: 0.9672 - loss: 0.1076\n",
      "Epoch 3/20\n",
      "\u001b[1m469/469\u001b[0m \u001b[32m━━━━━━━━━━━━━━━━━━━━\u001b[0m\u001b[37m\u001b[0m \u001b[1m1s\u001b[0m 2ms/step - accuracy: 0.9796 - loss: 0.0645\n",
      "Epoch 4/20\n",
      "\u001b[1m469/469\u001b[0m \u001b[32m━━━━━━━━━━━━━━━━━━━━\u001b[0m\u001b[37m\u001b[0m \u001b[1m1s\u001b[0m 3ms/step - accuracy: 0.9859 - loss: 0.0450\n",
      "Epoch 5/20\n",
      "\u001b[1m469/469\u001b[0m \u001b[32m━━━━━━━━━━━━━━━━━━━━\u001b[0m\u001b[37m\u001b[0m \u001b[1m1s\u001b[0m 2ms/step - accuracy: 0.9898 - loss: 0.0322\n",
      "Epoch 6/20\n",
      "\u001b[1m469/469\u001b[0m \u001b[32m━━━━━━━━━━━━━━━━━━━━\u001b[0m\u001b[37m\u001b[0m \u001b[1m1s\u001b[0m 2ms/step - accuracy: 0.9914 - loss: 0.0266\n",
      "Epoch 7/20\n",
      "\u001b[1m469/469\u001b[0m \u001b[32m━━━━━━━━━━━━━━━━━━━━\u001b[0m\u001b[37m\u001b[0m \u001b[1m1s\u001b[0m 2ms/step - accuracy: 0.9947 - loss: 0.0185\n",
      "Epoch 8/20\n",
      "\u001b[1m469/469\u001b[0m \u001b[32m━━━━━━━━━━━━━━━━━━━━\u001b[0m\u001b[37m\u001b[0m \u001b[1m1s\u001b[0m 3ms/step - accuracy: 0.9940 - loss: 0.0188\n",
      "Epoch 9/20\n",
      "\u001b[1m469/469\u001b[0m \u001b[32m━━━━━━━━━━━━━━━━━━━━\u001b[0m\u001b[37m\u001b[0m \u001b[1m1s\u001b[0m 3ms/step - accuracy: 0.9959 - loss: 0.0125\n",
      "Epoch 10/20\n",
      "\u001b[1m469/469\u001b[0m \u001b[32m━━━━━━━━━━━━━━━━━━━━\u001b[0m\u001b[37m\u001b[0m \u001b[1m1s\u001b[0m 3ms/step - accuracy: 0.9966 - loss: 0.0107\n",
      "Epoch 11/20\n",
      "\u001b[1m469/469\u001b[0m \u001b[32m━━━━━━━━━━━━━━━━━━━━\u001b[0m\u001b[37m\u001b[0m \u001b[1m1s\u001b[0m 3ms/step - accuracy: 0.9951 - loss: 0.0145\n",
      "Epoch 12/20\n",
      "\u001b[1m469/469\u001b[0m \u001b[32m━━━━━━━━━━━━━━━━━━━━\u001b[0m\u001b[37m\u001b[0m \u001b[1m1s\u001b[0m 3ms/step - accuracy: 0.9958 - loss: 0.0122\n",
      "Epoch 13/20\n",
      "\u001b[1m469/469\u001b[0m \u001b[32m━━━━━━━━━━━━━━━━━━━━\u001b[0m\u001b[37m\u001b[0m \u001b[1m1s\u001b[0m 3ms/step - accuracy: 0.9966 - loss: 0.0098\n",
      "Epoch 14/20\n",
      "\u001b[1m469/469\u001b[0m \u001b[32m━━━━━━━━━━━━━━━━━━━━\u001b[0m\u001b[37m\u001b[0m \u001b[1m1s\u001b[0m 3ms/step - accuracy: 0.9970 - loss: 0.0089\n",
      "Epoch 15/20\n",
      "\u001b[1m469/469\u001b[0m \u001b[32m━━━━━━━━━━━━━━━━━━━━\u001b[0m\u001b[37m\u001b[0m \u001b[1m1s\u001b[0m 3ms/step - accuracy: 0.9978 - loss: 0.0065\n",
      "Epoch 16/20\n",
      "\u001b[1m469/469\u001b[0m \u001b[32m━━━━━━━━━━━━━━━━━━━━\u001b[0m\u001b[37m\u001b[0m \u001b[1m1s\u001b[0m 3ms/step - accuracy: 0.9973 - loss: 0.0074\n",
      "Epoch 17/20\n",
      "\u001b[1m469/469\u001b[0m \u001b[32m━━━━━━━━━━━━━━━━━━━━\u001b[0m\u001b[37m\u001b[0m \u001b[1m1s\u001b[0m 2ms/step - accuracy: 0.9984 - loss: 0.0052\n",
      "Epoch 18/20\n",
      "\u001b[1m469/469\u001b[0m \u001b[32m━━━━━━━━━━━━━━━━━━━━\u001b[0m\u001b[37m\u001b[0m \u001b[1m1s\u001b[0m 3ms/step - accuracy: 0.9968 - loss: 0.0093\n",
      "Epoch 19/20\n",
      "\u001b[1m469/469\u001b[0m \u001b[32m━━━━━━━━━━━━━━━━━━━━\u001b[0m\u001b[37m\u001b[0m \u001b[1m1s\u001b[0m 3ms/step - accuracy: 0.9976 - loss: 0.0075\n",
      "Epoch 20/20\n",
      "\u001b[1m469/469\u001b[0m \u001b[32m━━━━━━━━━━━━━━━━━━━━\u001b[0m\u001b[37m\u001b[0m \u001b[1m1s\u001b[0m 2ms/step - accuracy: 0.9987 - loss: 0.0045\n"
     ]
    },
    {
     "data": {
      "text/plain": [
       "<keras.src.callbacks.history.History at 0x30e53be10>"
      ]
     },
     "execution_count": 17,
     "metadata": {},
     "output_type": "execute_result"
    }
   ],
   "source": [
    "# %%timeit\n",
    "\n",
    "# train the network\n",
    "model.fit(x_train, y_train, epochs=20, batch_size=batch_size)\n",
    "\n",
    "#60000/128 ~ 469"
   ]
  },
  {
   "cell_type": "markdown",
   "metadata": {
    "id": "5i71yz0GXp0M"
   },
   "source": [
    "*Note:*\n",
    "%%time in Python computes the execution time."
   ]
  },
  {
   "cell_type": "code",
   "execution_count": 18,
   "metadata": {
    "colab": {
     "base_uri": "https://localhost:8080/"
    },
    "id": "BLlTrPvHFp_s",
    "outputId": "24fc9ebc-9f9c-4fd7-bad9-4044cf688198"
   },
   "outputs": [
    {
     "name": "stdout",
     "output_type": "stream",
     "text": [
      "\n",
      "Test accuracy: 98.4%\n",
      "0.08760744333267212\n"
     ]
    }
   ],
   "source": [
    "# test dataset  performance\n",
    "loss, acc = model.evaluate(x_test,\n",
    "                        y_test,\n",
    "                        batch_size=batch_size,\n",
    "                        verbose=0)\n",
    "print(\"\\nTest accuracy: %.1f%%\" % (100.0 * acc))\n",
    "print(loss)\n",
    "\n",
    "# Overfit or Underfit?"
   ]
  },
  {
   "cell_type": "markdown",
   "metadata": {
    "id": "4Cqj70FwLTNu"
   },
   "source": [
    "***Question:*** Do you think the model has performed well on test set?\n",
    "\n",
    "***Answer:***\n",
    "- Training loss is $0.0066$ with accuracy as $99.7\\%$, whereas test loss is $0.10$ with accuracy as $97.9\\%$\n",
    "- Even though test loss is very small the difference between train loss and test loss is quite significant.\n",
    "- Accuracy is just a business matrix. We are optimizing for log-loss.\n",
    "  <img src='https://drive.google.com/uc?id=18i_fuxSqEcF2ZcMHknDlohbo674MjgrV'>\n",
    "\n",
    "\n",
    "*Note:* Screenshot values may not match with values we get when running the code as samples are drawn randomly."
   ]
  },
  {
   "cell_type": "markdown",
   "metadata": {
    "id": "dOVOVW62mjRE"
   },
   "source": [
    "***Question:*** Is one iteration / step is one forward and then one back propagation?\n",
    "\n",
    "***Answer:***\n",
    "- Yes, that is correct."
   ]
  },
  {
   "cell_type": "markdown",
   "metadata": {
    "id": "Yz9sfksvFzfU"
   },
   "source": [
    "#### TF 2 and Keras: Functional API"
   ]
  },
  {
   "cell_type": "code",
   "execution_count": 19,
   "metadata": {
    "colab": {
     "base_uri": "https://localhost:8080/"
    },
    "id": "Z6iBNc_uFqCa",
    "outputId": "610017a8-3e6e-43bf-e093-b19bc481e053"
   },
   "outputs": [
    {
     "name": "stdout",
     "output_type": "stream",
     "text": [
      "(60000, 784)\n"
     ]
    }
   ],
   "source": [
    "print(x_train.shape)"
   ]
  },
  {
   "cell_type": "code",
   "execution_count": 33,
   "metadata": {
    "colab": {
     "base_uri": "https://localhost:8080/"
    },
    "id": "beIB6WiQF3Gh",
    "outputId": "6b78c350-2165-42b0-d3f1-4e60c8d23334"
   },
   "outputs": [
    {
     "data": {
      "text/plain": [
       "(None, 784)"
      ]
     },
     "execution_count": 33,
     "metadata": {},
     "output_type": "execute_result"
    }
   ],
   "source": [
    "inputs = keras.Input(shape=(input_size,), name='Input')\n",
    "inputs.shape"
   ]
  },
  {
   "cell_type": "code",
   "execution_count": 21,
   "metadata": {
    "colab": {
     "base_uri": "https://localhost:8080/"
    },
    "id": "D6dlKynpF3Kt",
    "outputId": "41a59818-2baa-4679-b39a-9a85c1bb1982"
   },
   "outputs": [
    {
     "data": {
      "text/html": [
       "<pre style=\"white-space:pre;overflow-x:auto;line-height:normal;font-family:Menlo,'DejaVu Sans Mono',consolas,'Courier New',monospace\"><span style=\"font-weight: bold\">Model: \"myNN2\"</span>\n",
       "</pre>\n"
      ],
      "text/plain": [
       "\u001b[1mModel: \"myNN2\"\u001b[0m\n"
      ]
     },
     "metadata": {},
     "output_type": "display_data"
    },
    {
     "data": {
      "text/html": [
       "<pre style=\"white-space:pre;overflow-x:auto;line-height:normal;font-family:Menlo,'DejaVu Sans Mono',consolas,'Courier New',monospace\">┏━━━━━━━━━━━━━━━━━━━━━━━━━━━━━━━━━┳━━━━━━━━━━━━━━━━━━━━━━━━┳━━━━━━━━━━━━━━━┓\n",
       "┃<span style=\"font-weight: bold\"> Layer (type)                    </span>┃<span style=\"font-weight: bold\"> Output Shape           </span>┃<span style=\"font-weight: bold\">       Param # </span>┃\n",
       "┡━━━━━━━━━━━━━━━━━━━━━━━━━━━━━━━━━╇━━━━━━━━━━━━━━━━━━━━━━━━╇━━━━━━━━━━━━━━━┩\n",
       "│ Input (<span style=\"color: #0087ff; text-decoration-color: #0087ff\">InputLayer</span>)              │ (<span style=\"color: #00d7ff; text-decoration-color: #00d7ff\">None</span>, <span style=\"color: #00af00; text-decoration-color: #00af00\">784</span>)            │             <span style=\"color: #00af00; text-decoration-color: #00af00\">0</span> │\n",
       "├─────────────────────────────────┼────────────────────────┼───────────────┤\n",
       "│ L1 (<span style=\"color: #0087ff; text-decoration-color: #0087ff\">Dense</span>)                      │ (<span style=\"color: #00d7ff; text-decoration-color: #00d7ff\">None</span>, <span style=\"color: #00af00; text-decoration-color: #00af00\">256</span>)            │       <span style=\"color: #00af00; text-decoration-color: #00af00\">200,960</span> │\n",
       "├─────────────────────────────────┼────────────────────────┼───────────────┤\n",
       "│ L2 (<span style=\"color: #0087ff; text-decoration-color: #0087ff\">Dense</span>)                      │ (<span style=\"color: #00d7ff; text-decoration-color: #00d7ff\">None</span>, <span style=\"color: #00af00; text-decoration-color: #00af00\">256</span>)            │        <span style=\"color: #00af00; text-decoration-color: #00af00\">65,792</span> │\n",
       "├─────────────────────────────────┼────────────────────────┼───────────────┤\n",
       "│ Output (<span style=\"color: #0087ff; text-decoration-color: #0087ff\">Dense</span>)                  │ (<span style=\"color: #00d7ff; text-decoration-color: #00d7ff\">None</span>, <span style=\"color: #00af00; text-decoration-color: #00af00\">10</span>)             │         <span style=\"color: #00af00; text-decoration-color: #00af00\">2,570</span> │\n",
       "└─────────────────────────────────┴────────────────────────┴───────────────┘\n",
       "</pre>\n"
      ],
      "text/plain": [
       "┏━━━━━━━━━━━━━━━━━━━━━━━━━━━━━━━━━┳━━━━━━━━━━━━━━━━━━━━━━━━┳━━━━━━━━━━━━━━━┓\n",
       "┃\u001b[1m \u001b[0m\u001b[1mLayer (type)                   \u001b[0m\u001b[1m \u001b[0m┃\u001b[1m \u001b[0m\u001b[1mOutput Shape          \u001b[0m\u001b[1m \u001b[0m┃\u001b[1m \u001b[0m\u001b[1m      Param #\u001b[0m\u001b[1m \u001b[0m┃\n",
       "┡━━━━━━━━━━━━━━━━━━━━━━━━━━━━━━━━━╇━━━━━━━━━━━━━━━━━━━━━━━━╇━━━━━━━━━━━━━━━┩\n",
       "│ Input (\u001b[38;5;33mInputLayer\u001b[0m)              │ (\u001b[38;5;45mNone\u001b[0m, \u001b[38;5;34m784\u001b[0m)            │             \u001b[38;5;34m0\u001b[0m │\n",
       "├─────────────────────────────────┼────────────────────────┼───────────────┤\n",
       "│ L1 (\u001b[38;5;33mDense\u001b[0m)                      │ (\u001b[38;5;45mNone\u001b[0m, \u001b[38;5;34m256\u001b[0m)            │       \u001b[38;5;34m200,960\u001b[0m │\n",
       "├─────────────────────────────────┼────────────────────────┼───────────────┤\n",
       "│ L2 (\u001b[38;5;33mDense\u001b[0m)                      │ (\u001b[38;5;45mNone\u001b[0m, \u001b[38;5;34m256\u001b[0m)            │        \u001b[38;5;34m65,792\u001b[0m │\n",
       "├─────────────────────────────────┼────────────────────────┼───────────────┤\n",
       "│ Output (\u001b[38;5;33mDense\u001b[0m)                  │ (\u001b[38;5;45mNone\u001b[0m, \u001b[38;5;34m10\u001b[0m)             │         \u001b[38;5;34m2,570\u001b[0m │\n",
       "└─────────────────────────────────┴────────────────────────┴───────────────┘\n"
      ]
     },
     "metadata": {},
     "output_type": "display_data"
    },
    {
     "data": {
      "text/html": [
       "<pre style=\"white-space:pre;overflow-x:auto;line-height:normal;font-family:Menlo,'DejaVu Sans Mono',consolas,'Courier New',monospace\"><span style=\"font-weight: bold\"> Total params: </span><span style=\"color: #00af00; text-decoration-color: #00af00\">269,322</span> (1.03 MB)\n",
       "</pre>\n"
      ],
      "text/plain": [
       "\u001b[1m Total params: \u001b[0m\u001b[38;5;34m269,322\u001b[0m (1.03 MB)\n"
      ]
     },
     "metadata": {},
     "output_type": "display_data"
    },
    {
     "data": {
      "text/html": [
       "<pre style=\"white-space:pre;overflow-x:auto;line-height:normal;font-family:Menlo,'DejaVu Sans Mono',consolas,'Courier New',monospace\"><span style=\"font-weight: bold\"> Trainable params: </span><span style=\"color: #00af00; text-decoration-color: #00af00\">269,322</span> (1.03 MB)\n",
       "</pre>\n"
      ],
      "text/plain": [
       "\u001b[1m Trainable params: \u001b[0m\u001b[38;5;34m269,322\u001b[0m (1.03 MB)\n"
      ]
     },
     "metadata": {},
     "output_type": "display_data"
    },
    {
     "data": {
      "text/html": [
       "<pre style=\"white-space:pre;overflow-x:auto;line-height:normal;font-family:Menlo,'DejaVu Sans Mono',consolas,'Courier New',monospace\"><span style=\"font-weight: bold\"> Non-trainable params: </span><span style=\"color: #00af00; text-decoration-color: #00af00\">0</span> (0.00 B)\n",
       "</pre>\n"
      ],
      "text/plain": [
       "\u001b[1m Non-trainable params: \u001b[0m\u001b[38;5;34m0\u001b[0m (0.00 B)\n"
      ]
     },
     "metadata": {},
     "output_type": "display_data"
    }
   ],
   "source": [
    "# Functional API: much more intuitive\n",
    "# Refer: https://www.tensorflow.org/guide/keras/functional\n",
    "x1 = layers.Dense(hidden_units, activation=\"relu\", name='L1')(inputs)\n",
    "x2 = layers.Dense(hidden_units, activation=\"relu\", name='L2')(x1)\n",
    "outputs = layers.Dense(num_labels, activation=\"softmax\", name='Output')(x2)\n",
    "\n",
    "model = keras.Model(inputs=inputs, outputs=outputs, name=\"myNN2\")\n",
    "model.summary()\n"
   ]
  },
  {
   "cell_type": "code",
   "execution_count": 22,
   "metadata": {},
   "outputs": [],
   "source": [
    "# !pip install pydot"
   ]
  },
  {
   "cell_type": "code",
   "execution_count": 25,
   "metadata": {},
   "outputs": [
    {
     "data": {
      "image/png": "[encoded data removed]",
      "text/plain": [
       "<IPython.core.display.Image object>"
      ]
     },
     "execution_count": 25,
     "metadata": {},
     "output_type": "execute_result"
    }
   ],
   "source": [
    "keras.utils.plot_model(model, show_shapes=True, show_layer_activations=True)"
   ]
  },
  {
   "cell_type": "markdown",
   "metadata": {
    "id": "Vt_PwvlzLaD-"
   },
   "source": [
    "- Sequential API is good when we have sequential layers.\n",
    "- But imagine if we have complex multi-input setup as follows with non-sequential connections.\n",
    "  <img src='https://drive.google.com/uc?id=1bILPP5WcYYEHWOuKtQmvIwgpvmCRCadB'>\n",
    "- In such scenarios Functional APIs are easy to use.\n",
    "\n",
    "\n",
    "\n",
    "  "
   ]
  },
  {
   "cell_type": "markdown",
   "metadata": {
    "id": "XRFU3_QNnVgy"
   },
   "source": [
    "- We can plot the architecture of Neural Network setup using Functional API as follows:\n",
    "\n",
    "  <img src='https://drive.google.com/uc?id=1qWubyCtVZTWoe5-NTAak8yl0Ps6OTRmO'>\n",
    "\n",
    "  <img src='https://drive.google.com/uc?id=10JadG1bO6bwZjXeG0kZthjpUnC2wA8y9'>"
   ]
  },
  {
   "cell_type": "markdown",
   "metadata": {
    "id": "hNL4nR7VoVcl"
   },
   "source": [
    "***Question:*** Why do we only use linear weighted layers being passed through non linear activation functions? Can we also use lets say tree based network for any layers?\n",
    "\n",
    "***Answer:***\n",
    "- People have designed tree based networks but those haven't out performed.\n",
    "- Matrix multiplication in DL can be done much faster using modern gaming hardware."
   ]
  },
  {
   "cell_type": "markdown",
   "metadata": {
    "id": "KtWeQE5WLxRA"
   },
   "source": [
    "- While using functional API, input of size (784,) $(inputs)$ is passed to dense layer with 256 neurons using ReLu activations function for each of the neuron $x_1$.\n",
    "- $x_1$ is further passed to a dense layer with 256 neurons using ReLu activations function for each of the neuron $x_2$.\n",
    "- $x_2$ is passed to a dense layers with 10 neurons using Softmax layer which generates output.\n",
    "  <img src='https://drive.google.com/uc?id=1dhrTYnP9MCT3pf2orpYp2r9Dmo8y-_TT'>\n"
   ]
  },
  {
   "cell_type": "code",
   "execution_count": 26,
   "metadata": {
    "id": "ltYhvEZ5F3Nn"
   },
   "outputs": [],
   "source": [
    "model.compile(loss='categorical_crossentropy',\n",
    "              optimizer='adam',\n",
    "              metrics=['accuracy'])"
   ]
  },
  {
   "cell_type": "code",
   "execution_count": 30,
   "metadata": {
    "colab": {
     "base_uri": "https://localhost:8080/"
    },
    "id": "FHrUUKrzF3Qa",
    "outputId": "dbe9a552-6bc6-4f5b-fcdb-6cea6a97244c"
   },
   "outputs": [
    {
     "name": "stdout",
     "output_type": "stream",
     "text": [
      "Epoch 1/20\n",
      "\u001b[1m469/469\u001b[0m \u001b[32m━━━━━━━━━━━━━━━━━━━━\u001b[0m\u001b[37m\u001b[0m \u001b[1m1s\u001b[0m 2ms/step - accuracy: 0.8577 - loss: 0.4876\n",
      "Epoch 2/20\n",
      "\u001b[1m469/469\u001b[0m \u001b[32m━━━━━━━━━━━━━━━━━━━━\u001b[0m\u001b[37m\u001b[0m \u001b[1m1s\u001b[0m 2ms/step - accuracy: 0.9695 - loss: 0.1035\n",
      "Epoch 3/20\n",
      "\u001b[1m469/469\u001b[0m \u001b[32m━━━━━━━━━━━━━━━━━━━━\u001b[0m\u001b[37m\u001b[0m \u001b[1m1s\u001b[0m 2ms/step - accuracy: 0.9790 - loss: 0.0694\n",
      "Epoch 4/20\n",
      "\u001b[1m469/469\u001b[0m \u001b[32m━━━━━━━━━━━━━━━━━━━━\u001b[0m\u001b[37m\u001b[0m \u001b[1m1s\u001b[0m 3ms/step - accuracy: 0.9853 - loss: 0.0460\n",
      "Epoch 5/20\n",
      "\u001b[1m469/469\u001b[0m \u001b[32m━━━━━━━━━━━━━━━━━━━━\u001b[0m\u001b[37m\u001b[0m \u001b[1m1s\u001b[0m 3ms/step - accuracy: 0.9902 - loss: 0.0313\n",
      "Epoch 6/20\n",
      "\u001b[1m469/469\u001b[0m \u001b[32m━━━━━━━━━━━━━━━━━━━━\u001b[0m\u001b[37m\u001b[0m \u001b[1m1s\u001b[0m 3ms/step - accuracy: 0.9926 - loss: 0.0246\n",
      "Epoch 7/20\n",
      "\u001b[1m469/469\u001b[0m \u001b[32m━━━━━━━━━━━━━━━━━━━━\u001b[0m\u001b[37m\u001b[0m \u001b[1m1s\u001b[0m 2ms/step - accuracy: 0.9939 - loss: 0.0197\n",
      "Epoch 8/20\n",
      "\u001b[1m469/469\u001b[0m \u001b[32m━━━━━━━━━━━━━━━━━━━━\u001b[0m\u001b[37m\u001b[0m \u001b[1m1s\u001b[0m 2ms/step - accuracy: 0.9963 - loss: 0.0141\n",
      "Epoch 9/20\n",
      "\u001b[1m469/469\u001b[0m \u001b[32m━━━━━━━━━━━━━━━━━━━━\u001b[0m\u001b[37m\u001b[0m \u001b[1m1s\u001b[0m 2ms/step - accuracy: 0.9953 - loss: 0.0142\n",
      "Epoch 10/20\n",
      "\u001b[1m469/469\u001b[0m \u001b[32m━━━━━━━━━━━━━━━━━━━━\u001b[0m\u001b[37m\u001b[0m \u001b[1m1s\u001b[0m 2ms/step - accuracy: 0.9948 - loss: 0.0161\n",
      "Epoch 11/20\n",
      "\u001b[1m469/469\u001b[0m \u001b[32m━━━━━━━━━━━━━━━━━━━━\u001b[0m\u001b[37m\u001b[0m \u001b[1m1s\u001b[0m 2ms/step - accuracy: 0.9959 - loss: 0.0121\n",
      "Epoch 12/20\n",
      "\u001b[1m469/469\u001b[0m \u001b[32m━━━━━━━━━━━━━━━━━━━━\u001b[0m\u001b[37m\u001b[0m \u001b[1m1s\u001b[0m 3ms/step - accuracy: 0.9969 - loss: 0.0095\n",
      "Epoch 13/20\n",
      "\u001b[1m469/469\u001b[0m \u001b[32m━━━━━━━━━━━━━━━━━━━━\u001b[0m\u001b[37m\u001b[0m \u001b[1m1s\u001b[0m 3ms/step - accuracy: 0.9966 - loss: 0.0094\n",
      "Epoch 14/20\n",
      "\u001b[1m469/469\u001b[0m \u001b[32m━━━━━━━━━━━━━━━━━━━━\u001b[0m\u001b[37m\u001b[0m \u001b[1m1s\u001b[0m 3ms/step - accuracy: 0.9978 - loss: 0.0071\n",
      "Epoch 15/20\n",
      "\u001b[1m469/469\u001b[0m \u001b[32m━━━━━━━━━━━━━━━━━━━━\u001b[0m\u001b[37m\u001b[0m \u001b[1m1s\u001b[0m 3ms/step - accuracy: 0.9979 - loss: 0.0065\n",
      "Epoch 16/20\n",
      "\u001b[1m469/469\u001b[0m \u001b[32m━━━━━━━━━━━━━━━━━━━━\u001b[0m\u001b[37m\u001b[0m \u001b[1m1s\u001b[0m 2ms/step - accuracy: 0.9972 - loss: 0.0084\n",
      "Epoch 17/20\n",
      "\u001b[1m469/469\u001b[0m \u001b[32m━━━━━━━━━━━━━━━━━━━━\u001b[0m\u001b[37m\u001b[0m \u001b[1m1s\u001b[0m 3ms/step - accuracy: 0.9975 - loss: 0.0078\n",
      "Epoch 18/20\n",
      "\u001b[1m469/469\u001b[0m \u001b[32m━━━━━━━━━━━━━━━━━━━━\u001b[0m\u001b[37m\u001b[0m \u001b[1m1s\u001b[0m 3ms/step - accuracy: 0.9977 - loss: 0.0064\n",
      "Epoch 19/20\n",
      "\u001b[1m469/469\u001b[0m \u001b[32m━━━━━━━━━━━━━━━━━━━━\u001b[0m\u001b[37m\u001b[0m \u001b[1m1s\u001b[0m 3ms/step - accuracy: 0.9990 - loss: 0.0038\n",
      "Epoch 20/20\n",
      "\u001b[1m469/469\u001b[0m \u001b[32m━━━━━━━━━━━━━━━━━━━━\u001b[0m\u001b[37m\u001b[0m \u001b[1m1s\u001b[0m 3ms/step - accuracy: 0.9973 - loss: 0.0089\n"
     ]
    },
    {
     "data": {
      "text/plain": [
       "<keras.src.callbacks.history.History at 0x31bfffa90>"
      ]
     },
     "execution_count": 30,
     "metadata": {},
     "output_type": "execute_result"
    }
   ],
   "source": [
    "# train the network\n",
    "\n",
    "model.fit(x_train, y_train, epochs=20, batch_size=batch_size)\n"
   ]
  },
  {
   "cell_type": "markdown",
   "metadata": {
    "id": "GqfECygWrqm9"
   },
   "source": [
    "#### Summary of API:"
   ]
  },
  {
   "cell_type": "markdown",
   "metadata": {
    "id": "t3aNp52Fr3B6"
   },
   "source": [
    "There are 2 ways to design Deep Learning Architecture:\n",
    "- Sequential API.\n",
    "- Functional API.\n",
    "\n",
    "For non-sequential model, Functional API is useful."
   ]
  },
  {
   "cell_type": "markdown",
   "metadata": {
    "id": "91vd6G-hGFlq"
   },
   "source": [
    "#### Dropout: Regularization through randomization"
   ]
  },
  {
   "cell_type": "markdown",
   "metadata": {
    "id": "9mSqd5UDtD1X"
   },
   "source": [
    "##### Intuition:"
   ]
  },
  {
   "cell_type": "markdown",
   "metadata": {
    "id": "_7aM21vzsRGi"
   },
   "source": [
    "- In Random forests, base learners are deep trees i.e. they are high variance models. Trick used here is row-sampling or column-sampling.\n",
    "- We take average of each base learners using majority voting. So in Random forests, we used randomization for regularization.\n",
    "- Similar strategy is used in Dropouts."
   ]
  },
  {
   "cell_type": "markdown",
   "metadata": {
    "id": "Ls0WmBKetzx0"
   },
   "source": [
    "***Trivia:*** Dropout was a Masters Thesis published by Nitish Srivastava.\n",
    "\n",
    "https://www.cs.toronto.edu/~rsalakhu/papers/srivastava14a.pdf"
   ]
  },
  {
   "cell_type": "markdown",
   "metadata": {
    "id": "qoSe0auHL4PY"
   },
   "source": [
    "- Imagine we have a Fully connected Neural Network for binary class classification problem.\n",
    "- Dropout basically says when we pass a batch of inputs to the model, we randomly drop/ignore some edges or the neurons itself.\n",
    "- What it means that we won't update weights and biases for some of the neurons.\n",
    "- Neurons are randomly selected using $dropout \\ rate$. For example let say, dropout rate = $20\\%$. Then it is across entire network and not just single layer.\n",
    "  <img src='https://drive.google.com/uc?id=14EcbXOS5WyngmfHdn_qNrcI9N40tLg0H'>"
   ]
  },
  {
   "cell_type": "markdown",
   "metadata": {
    "id": "d7A9asxTu-9g"
   },
   "source": [
    "##### Implementation:"
   ]
  },
  {
   "cell_type": "markdown",
   "metadata": {
    "id": "88xuusqsMAMo"
   },
   "source": [
    "- For every neuron, get a random number between $0 \\to 1$.\n",
    "- Let  dropout rate is $20\\%$.\n",
    "- If for a neuron the randomly generated number is $\\le 0.2$, then ignore that neuron.\n",
    "\n",
    "  <img src='https://drive.google.com/uc?id=1Lw02ZYg-h7FZpmtrNJRfb8CsDeguLere'>"
   ]
  },
  {
   "cell_type": "markdown",
   "metadata": {
    "id": "k1U6N3nAMFpo"
   },
   "source": [
    "- Here, we are randomly selecting neurons to drop-off.\n",
    "- Imagine we have dropout = $20\\%$. Let say we have $20$ epochs with 500 iterations in each epoch. In total, we have $10,000$ iterations.\n",
    "- Of these $10,000$ iterations, a neuron did not contribute to network for $2000$ iterations.\n",
    "- So everytime, we trained only $80\\%$ of neurons.\n",
    "  <img src='https://drive.google.com/uc?id=14K2fwR3TdJ2wg7bCdofSFIQTvUN0UDiD'>\n",
    "- When we have more layers, then we have computationally more weights and biases to learn.\n",
    "- More neurons means we have more computational power of network and we can learn a more complex thing.\n",
    "- Here we use Dropout, if we don't want to overfit.\n"
   ]
  },
  {
   "cell_type": "markdown",
   "metadata": {
    "id": "EC7y5GtCxd97"
   },
   "source": [
    "***Question:*** Is dropout only for computional reduce or any significant change in results?\n",
    "\n",
    "***Answer:***\n",
    "- No. It is done to regularize model, so that it doesn't overfit."
   ]
  },
  {
   "cell_type": "markdown",
   "metadata": {
    "id": "mPWocODCxNAL"
   },
   "source": [
    "***Question:*** Rather than this, why not have lesser neurons in the hidden layer? It will not overfit right?\n",
    "\n",
    "***Answer:***\n",
    "- Moment we reduce neurons, model's capacity to learn has reduced.\n",
    "- Ideally we want model to capture non-linearity without overfitting."
   ]
  },
  {
   "cell_type": "markdown",
   "metadata": {
    "id": "vxDeZFVWyRcg"
   },
   "source": [
    "##### 2 approaches for Dropout:"
   ]
  },
  {
   "cell_type": "markdown",
   "metadata": {
    "id": "duR7UqwoyX30"
   },
   "source": [
    "- We either dropoff a neuron or we drop an edge itself.\n",
    "\n",
    "*Note:* In TF2, the edge is dropped-off."
   ]
  },
  {
   "cell_type": "markdown",
   "metadata": {
    "id": "JOzAPgJDx3gd"
   },
   "source": [
    "***Question:*** Turning off of a particular neuron happens for the whole epoch, or it changes in every iteration of an epoch?\n",
    "\n",
    "***Answer:***\n",
    "- This is more of an engineering choice rather than Scientific one.\n",
    "- Ther are some libraries that implement it for an iteration, while some that do it for an epoch."
   ]
  },
  {
   "cell_type": "markdown",
   "metadata": {
    "id": "h7ATGCPHyzkB"
   },
   "source": [
    "#### Important aspects of Dropout:"
   ]
  },
  {
   "cell_type": "markdown",
   "metadata": {
    "id": "aj3DRLt2y8MB"
   },
   "source": [
    "##### Training:"
   ]
  },
  {
   "cell_type": "markdown",
   "metadata": {
    "id": "EbtptC5SMTUH"
   },
   "source": [
    "- Imagine we multiple neurons and have implemented edge level dropouts.\n",
    "- Let there be 4 inputs $i_1, i_2,i_3,i_4$ as inputs to a neuron of which edge from $i_1$ is dropped out.\n",
    "- In Forward propogation, all the inputs will flow but edge from $i_1$ is zeroed out.\n",
    "- Output of the neuron is computed as $ReLu(0+i_2*w_2+i_3*w_3+i_4*w_4)$.\n",
    "- In back propogation, derivative of this output is computed as $\\frac{\\partial L}{\\partial O_p}$. Here we don't calculate partial derivative wrt $w_1$ and we only update $w_2,w_3,w_4$.\n",
    "  <img src='https://drive.google.com/uc?id=10vcSJnlnGl4wluZHJ3-u71EruQOmulZO'>\n",
    "  "
   ]
  },
  {
   "cell_type": "markdown",
   "metadata": {
    "id": "0RlKPH19549Z"
   },
   "source": [
    "##### Test Time:"
   ]
  },
  {
   "cell_type": "markdown",
   "metadata": {
    "id": "-q3gyPj_549z"
   },
   "source": [
    "- We multiply weights with probability '$p$'. Let say, the edge was present $80\\%$ of times. At test time, $w^k_{ij}$ is computed as $(1-r)*w^k_{ij}$, where $r$ is dropout rate.\n",
    "  <img src='https://drive.google.com/uc?id=1piDD9RVfxEJh8PiTRyclRSxeAUzh98fA'>\n",
    "- Doing so, we do not skip any edge.\n",
    "  <img src='https://drive.google.com/uc?id=1P_6kORU9wuC9jrBEskMnK-cQDJ9EOUfT'>\n",
    "\n",
    "\n",
    "  "
   ]
  },
  {
   "cell_type": "markdown",
   "metadata": {
    "id": "Kh9XKXcw69hV"
   },
   "source": [
    "***Question:*** If we use ReLu, then also there is possibility of some input to be 0. Does it makes things worse for Dropout, or it helps?\n",
    "\n",
    "***Answer:***\n",
    "- No, it does not impact.\n",
    "  <img src='https://drive.google.com/uc?id=1_fcR8XzJMBpodRXWyWSncE95AG7tG7eB'>\n"
   ]
  },
  {
   "cell_type": "markdown",
   "metadata": {
    "id": "3RCE0SHd7fCm"
   },
   "source": [
    "***Question:*** But the chain rule breaks if we ignore that edge. We might have used the weight from its previous chain?\n",
    "\n",
    "***Answer:***\n",
    "- No, it does not.\n",
    "- For e.g. in the below network setup, let say we drop the edge from $f_{11}$ to $f_{21}$.\n",
    "- Partial derivative of Loss ($L$) wrt to $w_1$ is computed as:\n",
    "$$\\frac{\\partial L}{\\partial w_1} = \\frac{\\partial L}{\\partial O_{31}} * \\frac{\\partial O_{31}}{\\partial O_{22}} * \\frac{\\partial O_{22}}{\\partial O_{11}} * \\frac{\\partial O_{11}}{\\partial w_{1}}$$\n",
    "  <img src='https://drive.google.com/uc?id=1j4jnR1mUu1WtZh-K8NWPCIvmeDF2FTWS'>\n"
   ]
  },
  {
   "cell_type": "markdown",
   "metadata": {
    "id": "3ZDkw579BYy0"
   },
   "source": [
    "#### Performance Comparison:"
   ]
  },
  {
   "cell_type": "markdown",
   "metadata": {
    "id": "o110wU7aBTDP"
   },
   "source": [
    "- In the below graph, we are comparing 4 different architectures with and without dropout.\n",
    "- Without dropout, error keeps oscillating without much improvement.\n",
    "- But with dropout, there is a significant reduction in error.  \n",
    "  <img src='https://drive.google.com/uc?id=1QkFF5wiIHZZ76c96GiXuKmzmZFw95VG2'>\n",
    "- Notice, there is a reduction in error even if there are more iterations."
   ]
  },
  {
   "cell_type": "markdown",
   "metadata": {
    "id": "I8PIRSfqChMb"
   },
   "source": [
    "#### Dropout Code:"
   ]
  },
  {
   "cell_type": "code",
   "execution_count": 31,
   "metadata": {},
   "outputs": [
    {
     "data": {
      "text/plain": [
       "784"
      ]
     },
     "execution_count": 31,
     "metadata": {},
     "output_type": "execute_result"
    }
   ],
   "source": [
    "input_size"
   ]
  },
  {
   "cell_type": "code",
   "execution_count": 32,
   "metadata": {
    "colab": {
     "base_uri": "https://localhost:8080/"
    },
    "id": "Zyq5bpxwCkA1",
    "outputId": "0855568c-5af5-463e-ad9e-27c7ac0a1e26"
   },
   "outputs": [
    {
     "data": {
      "text/html": [
       "<pre style=\"white-space:pre;overflow-x:auto;line-height:normal;font-family:Menlo,'DejaVu Sans Mono',consolas,'Courier New',monospace\"><span style=\"font-weight: bold\">Model: \"simple_model\"</span>\n",
       "</pre>\n"
      ],
      "text/plain": [
       "\u001b[1mModel: \"simple_model\"\u001b[0m\n"
      ]
     },
     "metadata": {},
     "output_type": "display_data"
    },
    {
     "data": {
      "text/html": [
       "<pre style=\"white-space:pre;overflow-x:auto;line-height:normal;font-family:Menlo,'DejaVu Sans Mono',consolas,'Courier New',monospace\">┏━━━━━━━━━━━━━━━━━━━━━━━━━━━━━━━━━┳━━━━━━━━━━━━━━━━━━━━━━━━┳━━━━━━━━━━━━━━━┓\n",
       "┃<span style=\"font-weight: bold\"> Layer (type)                    </span>┃<span style=\"font-weight: bold\"> Output Shape           </span>┃<span style=\"font-weight: bold\">       Param # </span>┃\n",
       "┡━━━━━━━━━━━━━━━━━━━━━━━━━━━━━━━━━╇━━━━━━━━━━━━━━━━━━━━━━━━╇━━━━━━━━━━━━━━━┩\n",
       "│ Input (<span style=\"color: #0087ff; text-decoration-color: #0087ff\">InputLayer</span>)              │ (<span style=\"color: #00d7ff; text-decoration-color: #00d7ff\">None</span>, <span style=\"color: #00af00; text-decoration-color: #00af00\">784</span>)            │             <span style=\"color: #00af00; text-decoration-color: #00af00\">0</span> │\n",
       "├─────────────────────────────────┼────────────────────────┼───────────────┤\n",
       "│ dense (<span style=\"color: #0087ff; text-decoration-color: #0087ff\">Dense</span>)                   │ (<span style=\"color: #00d7ff; text-decoration-color: #00d7ff\">None</span>, <span style=\"color: #00af00; text-decoration-color: #00af00\">256</span>)            │       <span style=\"color: #00af00; text-decoration-color: #00af00\">200,960</span> │\n",
       "├─────────────────────────────────┼────────────────────────┼───────────────┤\n",
       "│ dropout (<span style=\"color: #0087ff; text-decoration-color: #0087ff\">Dropout</span>)               │ (<span style=\"color: #00d7ff; text-decoration-color: #00d7ff\">None</span>, <span style=\"color: #00af00; text-decoration-color: #00af00\">256</span>)            │             <span style=\"color: #00af00; text-decoration-color: #00af00\">0</span> │\n",
       "├─────────────────────────────────┼────────────────────────┼───────────────┤\n",
       "│ dense_1 (<span style=\"color: #0087ff; text-decoration-color: #0087ff\">Dense</span>)                 │ (<span style=\"color: #00d7ff; text-decoration-color: #00d7ff\">None</span>, <span style=\"color: #00af00; text-decoration-color: #00af00\">256</span>)            │        <span style=\"color: #00af00; text-decoration-color: #00af00\">65,792</span> │\n",
       "├─────────────────────────────────┼────────────────────────┼───────────────┤\n",
       "│ dropout_1 (<span style=\"color: #0087ff; text-decoration-color: #0087ff\">Dropout</span>)             │ (<span style=\"color: #00d7ff; text-decoration-color: #00d7ff\">None</span>, <span style=\"color: #00af00; text-decoration-color: #00af00\">256</span>)            │             <span style=\"color: #00af00; text-decoration-color: #00af00\">0</span> │\n",
       "├─────────────────────────────────┼────────────────────────┼───────────────┤\n",
       "│ dense_2 (<span style=\"color: #0087ff; text-decoration-color: #0087ff\">Dense</span>)                 │ (<span style=\"color: #00d7ff; text-decoration-color: #00d7ff\">None</span>, <span style=\"color: #00af00; text-decoration-color: #00af00\">10</span>)             │         <span style=\"color: #00af00; text-decoration-color: #00af00\">2,570</span> │\n",
       "└─────────────────────────────────┴────────────────────────┴───────────────┘\n",
       "</pre>\n"
      ],
      "text/plain": [
       "┏━━━━━━━━━━━━━━━━━━━━━━━━━━━━━━━━━┳━━━━━━━━━━━━━━━━━━━━━━━━┳━━━━━━━━━━━━━━━┓\n",
       "┃\u001b[1m \u001b[0m\u001b[1mLayer (type)                   \u001b[0m\u001b[1m \u001b[0m┃\u001b[1m \u001b[0m\u001b[1mOutput Shape          \u001b[0m\u001b[1m \u001b[0m┃\u001b[1m \u001b[0m\u001b[1m      Param #\u001b[0m\u001b[1m \u001b[0m┃\n",
       "┡━━━━━━━━━━━━━━━━━━━━━━━━━━━━━━━━━╇━━━━━━━━━━━━━━━━━━━━━━━━╇━━━━━━━━━━━━━━━┩\n",
       "│ Input (\u001b[38;5;33mInputLayer\u001b[0m)              │ (\u001b[38;5;45mNone\u001b[0m, \u001b[38;5;34m784\u001b[0m)            │             \u001b[38;5;34m0\u001b[0m │\n",
       "├─────────────────────────────────┼────────────────────────┼───────────────┤\n",
       "│ dense (\u001b[38;5;33mDense\u001b[0m)                   │ (\u001b[38;5;45mNone\u001b[0m, \u001b[38;5;34m256\u001b[0m)            │       \u001b[38;5;34m200,960\u001b[0m │\n",
       "├─────────────────────────────────┼────────────────────────┼───────────────┤\n",
       "│ dropout (\u001b[38;5;33mDropout\u001b[0m)               │ (\u001b[38;5;45mNone\u001b[0m, \u001b[38;5;34m256\u001b[0m)            │             \u001b[38;5;34m0\u001b[0m │\n",
       "├─────────────────────────────────┼────────────────────────┼───────────────┤\n",
       "│ dense_1 (\u001b[38;5;33mDense\u001b[0m)                 │ (\u001b[38;5;45mNone\u001b[0m, \u001b[38;5;34m256\u001b[0m)            │        \u001b[38;5;34m65,792\u001b[0m │\n",
       "├─────────────────────────────────┼────────────────────────┼───────────────┤\n",
       "│ dropout_1 (\u001b[38;5;33mDropout\u001b[0m)             │ (\u001b[38;5;45mNone\u001b[0m, \u001b[38;5;34m256\u001b[0m)            │             \u001b[38;5;34m0\u001b[0m │\n",
       "├─────────────────────────────────┼────────────────────────┼───────────────┤\n",
       "│ dense_2 (\u001b[38;5;33mDense\u001b[0m)                 │ (\u001b[38;5;45mNone\u001b[0m, \u001b[38;5;34m10\u001b[0m)             │         \u001b[38;5;34m2,570\u001b[0m │\n",
       "└─────────────────────────────────┴────────────────────────┴───────────────┘\n"
      ]
     },
     "metadata": {},
     "output_type": "display_data"
    },
    {
     "data": {
      "text/html": [
       "<pre style=\"white-space:pre;overflow-x:auto;line-height:normal;font-family:Menlo,'DejaVu Sans Mono',consolas,'Courier New',monospace\"><span style=\"font-weight: bold\"> Total params: </span><span style=\"color: #00af00; text-decoration-color: #00af00\">269,322</span> (1.03 MB)\n",
       "</pre>\n"
      ],
      "text/plain": [
       "\u001b[1m Total params: \u001b[0m\u001b[38;5;34m269,322\u001b[0m (1.03 MB)\n"
      ]
     },
     "metadata": {},
     "output_type": "display_data"
    },
    {
     "data": {
      "text/html": [
       "<pre style=\"white-space:pre;overflow-x:auto;line-height:normal;font-family:Menlo,'DejaVu Sans Mono',consolas,'Courier New',monospace\"><span style=\"font-weight: bold\"> Trainable params: </span><span style=\"color: #00af00; text-decoration-color: #00af00\">269,322</span> (1.03 MB)\n",
       "</pre>\n"
      ],
      "text/plain": [
       "\u001b[1m Trainable params: \u001b[0m\u001b[38;5;34m269,322\u001b[0m (1.03 MB)\n"
      ]
     },
     "metadata": {},
     "output_type": "display_data"
    },
    {
     "data": {
      "text/html": [
       "<pre style=\"white-space:pre;overflow-x:auto;line-height:normal;font-family:Menlo,'DejaVu Sans Mono',consolas,'Courier New',monospace\"><span style=\"font-weight: bold\"> Non-trainable params: </span><span style=\"color: #00af00; text-decoration-color: #00af00\">0</span> (0.00 B)\n",
       "</pre>\n"
      ],
      "text/plain": [
       "\u001b[1m Non-trainable params: \u001b[0m\u001b[38;5;34m0\u001b[0m (0.00 B)\n"
      ]
     },
     "metadata": {},
     "output_type": "display_data"
    }
   ],
   "source": [
    "# Model with Dropout\n",
    "inputs = keras.Input(shape=(input_size,), name='Input')\n",
    "\n",
    "x = layers.Dense(hidden_units, activation=\"relu\")(inputs)\n",
    "x = Dropout(0.3)(x)\n",
    "x = layers.Dense(hidden_units, activation=\"relu\")(x)\n",
    "x = Dropout(0.3)(x)\n",
    "outputs = layers.Dense(num_labels, activation=\"softmax\")(x)\n",
    "\n",
    "model = keras.Model(inputs=inputs, outputs=outputs, name=\"simple_model\")\n",
    "model.summary()\n"
   ]
  },
  {
   "cell_type": "code",
   "execution_count": 35,
   "metadata": {},
   "outputs": [
    {
     "data": {
      "text/plain": [
       "(None, 784)"
      ]
     },
     "execution_count": 35,
     "metadata": {},
     "output_type": "execute_result"
    }
   ],
   "source": [
    "inputs.shape"
   ]
  },
  {
   "cell_type": "code",
   "execution_count": 36,
   "metadata": {
    "id": "VlH08qCZ5490"
   },
   "outputs": [],
   "source": [
    "model.compile(loss='categorical_crossentropy',\n",
    "              optimizer='adam',\n",
    "              metrics=['accuracy'])"
   ]
  },
  {
   "cell_type": "code",
   "execution_count": 37,
   "metadata": {
    "colab": {
     "base_uri": "https://localhost:8080/"
    },
    "id": "QwYu3bw35490",
    "outputId": "e4e6cab6-b415-4b4f-900e-4cba65ddc980"
   },
   "outputs": [
    {
     "name": "stdout",
     "output_type": "stream",
     "text": [
      "Epoch 1/30\n",
      "\u001b[1m469/469\u001b[0m \u001b[32m━━━━━━━━━━━━━━━━━━━━\u001b[0m\u001b[37m\u001b[0m \u001b[1m2s\u001b[0m 3ms/step - accuracy: 0.8111 - loss: 0.6252\n",
      "Epoch 2/30\n",
      "\u001b[1m469/469\u001b[0m \u001b[32m━━━━━━━━━━━━━━━━━━━━\u001b[0m\u001b[37m\u001b[0m \u001b[1m1s\u001b[0m 3ms/step - accuracy: 0.9533 - loss: 0.1547\n",
      "Epoch 3/30\n",
      "\u001b[1m469/469\u001b[0m \u001b[32m━━━━━━━━━━━━━━━━━━━━\u001b[0m\u001b[37m\u001b[0m \u001b[1m1s\u001b[0m 3ms/step - accuracy: 0.9657 - loss: 0.1135\n",
      "Epoch 4/30\n",
      "\u001b[1m469/469\u001b[0m \u001b[32m━━━━━━━━━━━━━━━━━━━━\u001b[0m\u001b[37m\u001b[0m \u001b[1m1s\u001b[0m 3ms/step - accuracy: 0.9714 - loss: 0.0947\n",
      "Epoch 5/30\n",
      "\u001b[1m469/469\u001b[0m \u001b[32m━━━━━━━━━━━━━━━━━━━━\u001b[0m\u001b[37m\u001b[0m \u001b[1m1s\u001b[0m 3ms/step - accuracy: 0.9748 - loss: 0.0779\n",
      "Epoch 6/30\n",
      "\u001b[1m469/469\u001b[0m \u001b[32m━━━━━━━━━━━━━━━━━━━━\u001b[0m\u001b[37m\u001b[0m \u001b[1m1s\u001b[0m 3ms/step - accuracy: 0.9793 - loss: 0.0646\n",
      "Epoch 7/30\n",
      "\u001b[1m469/469\u001b[0m \u001b[32m━━━━━━━━━━━━━━━━━━━━\u001b[0m\u001b[37m\u001b[0m \u001b[1m1s\u001b[0m 3ms/step - accuracy: 0.9824 - loss: 0.0564\n",
      "Epoch 8/30\n",
      "\u001b[1m469/469\u001b[0m \u001b[32m━━━━━━━━━━━━━━━━━━━━\u001b[0m\u001b[37m\u001b[0m \u001b[1m1s\u001b[0m 3ms/step - accuracy: 0.9828 - loss: 0.0527\n",
      "Epoch 9/30\n",
      "\u001b[1m469/469\u001b[0m \u001b[32m━━━━━━━━━━━━━━━━━━━━\u001b[0m\u001b[37m\u001b[0m \u001b[1m1s\u001b[0m 3ms/step - accuracy: 0.9837 - loss: 0.0497\n",
      "Epoch 10/30\n",
      "\u001b[1m469/469\u001b[0m \u001b[32m━━━━━━━━━━━━━━━━━━━━\u001b[0m\u001b[37m\u001b[0m \u001b[1m1s\u001b[0m 3ms/step - accuracy: 0.9852 - loss: 0.0455\n",
      "Epoch 11/30\n",
      "\u001b[1m469/469\u001b[0m \u001b[32m━━━━━━━━━━━━━━━━━━━━\u001b[0m\u001b[37m\u001b[0m \u001b[1m1s\u001b[0m 3ms/step - accuracy: 0.9855 - loss: 0.0439\n",
      "Epoch 12/30\n",
      "\u001b[1m469/469\u001b[0m \u001b[32m━━━━━━━━━━━━━━━━━━━━\u001b[0m\u001b[37m\u001b[0m \u001b[1m1s\u001b[0m 3ms/step - accuracy: 0.9883 - loss: 0.0354\n",
      "Epoch 13/30\n",
      "\u001b[1m469/469\u001b[0m \u001b[32m━━━━━━━━━━━━━━━━━━━━\u001b[0m\u001b[37m\u001b[0m \u001b[1m1s\u001b[0m 3ms/step - accuracy: 0.9878 - loss: 0.0375\n",
      "Epoch 14/30\n",
      "\u001b[1m469/469\u001b[0m \u001b[32m━━━━━━━━━━━━━━━━━━━━\u001b[0m\u001b[37m\u001b[0m \u001b[1m1s\u001b[0m 3ms/step - accuracy: 0.9888 - loss: 0.0342\n",
      "Epoch 15/30\n",
      "\u001b[1m469/469\u001b[0m \u001b[32m━━━━━━━━━━━━━━━━━━━━\u001b[0m\u001b[37m\u001b[0m \u001b[1m1s\u001b[0m 3ms/step - accuracy: 0.9883 - loss: 0.0351\n",
      "Epoch 16/30\n",
      "\u001b[1m469/469\u001b[0m \u001b[32m━━━━━━━━━━━━━━━━━━━━\u001b[0m\u001b[37m\u001b[0m \u001b[1m1s\u001b[0m 3ms/step - accuracy: 0.9887 - loss: 0.0333\n",
      "Epoch 17/30\n",
      "\u001b[1m469/469\u001b[0m \u001b[32m━━━━━━━━━━━━━━━━━━━━\u001b[0m\u001b[37m\u001b[0m \u001b[1m1s\u001b[0m 3ms/step - accuracy: 0.9902 - loss: 0.0298\n",
      "Epoch 18/30\n",
      "\u001b[1m469/469\u001b[0m \u001b[32m━━━━━━━━━━━━━━━━━━━━\u001b[0m\u001b[37m\u001b[0m \u001b[1m1s\u001b[0m 3ms/step - accuracy: 0.9906 - loss: 0.0280\n",
      "Epoch 19/30\n",
      "\u001b[1m469/469\u001b[0m \u001b[32m━━━━━━━━━━━━━━━━━━━━\u001b[0m\u001b[37m\u001b[0m \u001b[1m1s\u001b[0m 3ms/step - accuracy: 0.9914 - loss: 0.0259\n",
      "Epoch 20/30\n",
      "\u001b[1m469/469\u001b[0m \u001b[32m━━━━━━━━━━━━━━━━━━━━\u001b[0m\u001b[37m\u001b[0m \u001b[1m1s\u001b[0m 3ms/step - accuracy: 0.9915 - loss: 0.0264\n",
      "Epoch 21/30\n",
      "\u001b[1m469/469\u001b[0m \u001b[32m━━━━━━━━━━━━━━━━━━━━\u001b[0m\u001b[37m\u001b[0m \u001b[1m1s\u001b[0m 3ms/step - accuracy: 0.9917 - loss: 0.0253\n",
      "Epoch 22/30\n",
      "\u001b[1m469/469\u001b[0m \u001b[32m━━━━━━━━━━━━━━━━━━━━\u001b[0m\u001b[37m\u001b[0m \u001b[1m1s\u001b[0m 3ms/step - accuracy: 0.9920 - loss: 0.0246\n",
      "Epoch 23/30\n",
      "\u001b[1m469/469\u001b[0m \u001b[32m━━━━━━━━━━━━━━━━━━━━\u001b[0m\u001b[37m\u001b[0m \u001b[1m1s\u001b[0m 3ms/step - accuracy: 0.9917 - loss: 0.0240\n",
      "Epoch 24/30\n",
      "\u001b[1m469/469\u001b[0m \u001b[32m━━━━━━━━━━━━━━━━━━━━\u001b[0m\u001b[37m\u001b[0m \u001b[1m2s\u001b[0m 3ms/step - accuracy: 0.9919 - loss: 0.0245\n",
      "Epoch 25/30\n",
      "\u001b[1m469/469\u001b[0m \u001b[32m━━━━━━━━━━━━━━━━━━━━\u001b[0m\u001b[37m\u001b[0m \u001b[1m2s\u001b[0m 3ms/step - accuracy: 0.9926 - loss: 0.0227\n",
      "Epoch 26/30\n",
      "\u001b[1m469/469\u001b[0m \u001b[32m━━━━━━━━━━━━━━━━━━━━\u001b[0m\u001b[37m\u001b[0m \u001b[1m1s\u001b[0m 3ms/step - accuracy: 0.9916 - loss: 0.0239\n",
      "Epoch 27/30\n",
      "\u001b[1m469/469\u001b[0m \u001b[32m━━━━━━━━━━━━━━━━━━━━\u001b[0m\u001b[37m\u001b[0m \u001b[1m1s\u001b[0m 3ms/step - accuracy: 0.9928 - loss: 0.0216\n",
      "Epoch 28/30\n",
      "\u001b[1m469/469\u001b[0m \u001b[32m━━━━━━━━━━━━━━━━━━━━\u001b[0m\u001b[37m\u001b[0m \u001b[1m1s\u001b[0m 3ms/step - accuracy: 0.9926 - loss: 0.0225\n",
      "Epoch 29/30\n",
      "\u001b[1m469/469\u001b[0m \u001b[32m━━━━━━━━━━━━━━━━━━━━\u001b[0m\u001b[37m\u001b[0m \u001b[1m1s\u001b[0m 3ms/step - accuracy: 0.9946 - loss: 0.0173\n",
      "Epoch 30/30\n",
      "\u001b[1m469/469\u001b[0m \u001b[32m━━━━━━━━━━━━━━━━━━━━\u001b[0m\u001b[37m\u001b[0m \u001b[1m1s\u001b[0m 3ms/step - accuracy: 0.9924 - loss: 0.0228\n",
      "CPU times: user 1min 13s, sys: 29 s, total: 1min 42s\n",
      "Wall time: 40.6 s\n"
     ]
    },
    {
     "data": {
      "text/plain": [
       "<keras.src.callbacks.history.History at 0x30e4f3d10>"
      ]
     },
     "execution_count": 37,
     "metadata": {},
     "output_type": "execute_result"
    }
   ],
   "source": [
    "%%time\n",
    "# Increased epochs as we added dropouts\n",
    "model.fit(x_train, y_train, epochs=30, batch_size=batch_size)"
   ]
  },
  {
   "cell_type": "code",
   "execution_count": 38,
   "metadata": {
    "colab": {
     "base_uri": "https://localhost:8080/"
    },
    "id": "ZpLVue4q5490",
    "outputId": "fdaebcae-b5fc-4161-82d3-9ccd2382b374"
   },
   "outputs": [
    {
     "name": "stdout",
     "output_type": "stream",
     "text": [
      "\n",
      "Test accuracy: 98.4%\n",
      "0.06745780259370804\n"
     ]
    }
   ],
   "source": [
    "# test dataset  performance\n",
    "loss, acc = model.evaluate(x_test,\n",
    "                        y_test,\n",
    "                        batch_size=batch_size,\n",
    "                        verbose=0)\n",
    "print(\"\\nTest accuracy: %.1f%%\" % (100.0 * acc))\n",
    "print(loss)\n",
    "\n",
    "# Overfit or Underfit?\n",
    "# Can we add more layers?"
   ]
  },
  {
   "cell_type": "markdown",
   "metadata": {
    "id": "zB4RTS41DObz"
   },
   "source": [
    "Training Loss: $0.02$ with Accuracy: $99.24\\%$ Test Loss: $0.07$ with Accuracy: $98.4\\%$\n",
    "\n",
    "Even though there is a difference between loss, it is much smaller in comparison to setup without dropout.\n",
    "\n"
   ]
  },
  {
   "cell_type": "markdown",
   "metadata": {
    "id": "95Ph3XNdD5hc"
   },
   "source": [
    "***Question:*** If the edge between an input and next layer is dropped off, what value is assigned to its weight?\n",
    "\n",
    "***Answer:***\n",
    "- Imagine we have a setup like below. The edge $w^1_{11}$ is randomly initialized to a value initially (Let say $0.1$)\n",
    "- In iteration 1, if the edge is dropped off, then it is not updated.\n",
    "- In the next iteration, $w^1_{11}$ is updated as $w^1_{11} = 0.1 - \\eta* \\frac{\\partial L}{\\partial w^1_{11}}$.\n",
    "  <img src='https://drive.google.com/uc?id=1kNs5zxvWYZZLwMtDFjChCeheBQXjFGwn'>\n",
    "  "
   ]
  },
  {
   "cell_type": "markdown",
   "metadata": {
    "id": "hbhwNIvlE7Bn"
   },
   "source": [
    "***Question:***\n",
    "1. Why is logistic regression considered as a linear classifier ? Is it only bcoz the underlying separator is a hyper plane ? The output is derived from the sigmoid function which is non linear in nature. So why is it not considered as a non linear separator?\n",
    "\n",
    "2. Perceptron can only separate linear data. But as we have learnt that the activation functions are non linear. Then why can it not classify non linear data ?\n",
    "\n",
    "***Answer:***\n",
    "- Yes, Decision boundary is linear separation. We apply Sigma function to get probabilities between 0 and 1.\n",
    "- Perceptron is basically like applying step function.\n",
    "- In logistic regression, Ƶ represents how far away is the point from hyperplane and on which side does it it lie.\n",
    "  <img src='https://drive.google.com/uc?id=1RB_STGn1JQgPCAtfrG8XgIqNOlNBbqOG'>\n",
    "  \n",
    "\n",
    "  "
   ]
  },
  {
   "cell_type": "markdown",
   "metadata": {
    "id": "D5P66cd3Hutk"
   },
   "source": [
    "***Question:*** What is derivative of ReLu function $ReLu(Ƶ)$, where $Ƶ=3*x+5$?\n",
    "\n",
    "***Answer:***\n",
    "- $ReLu(Ƶ)$ is defined as $max(0,Ƶ)$.\n",
    "- It's derivative is $+1$ for $x>0$, undefined at $0$ and $0$ when $x<0$.\n",
    "- Derivative is computed as:\n",
    "$$\\frac{\\partial ReLu(3x+5)}{\\partial x} = \\frac{\\partial ReLu(Ƶ)}{\\partial Ƶ} * \\frac{\\partial (3x+5)}{\\partial x}$$\n",
    "- This comes out to be 3.\n",
    "\n",
    "  <img src='https://drive.google.com/uc?id=1uinQf7h6OoJAwfLaFa7VeaBdChCw8aFJ'>\n",
    "  \n"
   ]
  },
  {
   "cell_type": "markdown",
   "metadata": {
    "id": "A9WODT0FIzg6"
   },
   "source": [
    "***Question:*** If we have 2 datasets of same dimensions(same N, d). The first one has two classes (no imbalance). The other one has, say, 20 classes(no imbalance). If we are training using decision trees, will we get \"pure nodes\" more quickly on the second dataset(multiclass) compared to the first(binary) one?\n",
    "\n",
    "***Answer:***\n",
    "- Not necessary, it all depends upon how well separated the classes are. If they are not then getting pure nodes will take time.\n",
    "  <img src='https://drive.google.com/uc?id=1rl8AB3RzoCY7Ucd9NTSkgkaABm8nZbkC'>\n",
    "  \n",
    "\n"
   ]
  },
  {
   "cell_type": "markdown",
   "metadata": {
    "id": "ydU5aeLLEiev"
   },
   "source": [
    "#### Note:"
   ]
  },
  {
   "cell_type": "markdown",
   "metadata": {
    "id": "Pc9jhYArD06D"
   },
   "source": [
    "Following topics will be covered in next the class:\n",
    "\n",
    "-   CPU v/s GPU.\n",
    "-   TensorBoard and Computational Graph.\n",
    "-   Batch Normalization."
   ]
  }
 ],
 "metadata": {
  "colab": {
   "provenance": []
  },
  "kernelspec": {
   "display_name": "Python 3 (ipykernel)",
   "language": "python",
   "name": "python3"
  },
  "language_info": {
   "codemirror_mode": {
    "name": "ipython",
    "version": 3
   },
   "file_extension": ".py",
   "mimetype": "text/x-python",
   "name": "python",
   "nbconvert_exporter": "python",
   "pygments_lexer": "ipython3",
   "version": "3.11.9"
  }
 },
 "nbformat": 4,
 "nbformat_minor": 4
}
