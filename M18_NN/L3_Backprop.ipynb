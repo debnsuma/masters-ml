{
 "cells": [
  {
   "cell_type": "markdown",
   "metadata": {
    "id": "rKO3Z1WRthHJ"
   },
   "source": [
    "***Question:*** How does simple function like ReLu create non-linearity?\n",
    "\n",
    "***Answer:***\n",
    "- Imagine we have a dataset and a Simple Neural Network setup.\n",
    "- The layer uses activation function $ReLu(Ƶ) = max(0,Ƶ), where \\ Ƶ \\to w^Tx+b$.\n",
    "- Here $w \\to weight \\ matrix $ and $b \\to bias$.\n",
    "- The ReLu output becomes and input to next neurons and there is a weight associated with it.\n",
    "- In the example below we piece wise linear function that represents application of ReLu. $1.5*max(0,2*x+1) + 1*max(0,x+2) + 1*max(0.x+5)$\n",
    "  <img src='https://drive.google.com/uc?id=18DzmTpKAOZYoLRThL-2AOpiCOhAd5UtK'>\n",
    "- So we get non linearity because of bunch of piece wise linear function.\n",
    "- In this example we are simulating 3 ReLu functions. If there were $100's \\ or \\ 1000's$ of such ReLu functions, then we can create an extremely complex decision surface."
   ]
  },
  {
   "cell_type": "markdown",
   "metadata": {
    "id": "XUKPDk91vxvC"
   },
   "source": [
    "#### Binary-Class Setup:"
   ]
  },
  {
   "cell_type": "markdown",
   "metadata": {
    "id": "01A28RCLlrtn"
   },
   "source": [
    "- Imagine we have Binary Classification where output is either 0 or 1 i.e. $y_i \\in \\{0,1 \\}$.\n",
    "- $Z_i$ is represented as $w^Tx_i+b$. This is passed to Sigmoid activation function.\n",
    "  <img src='https://drive.google.com/uc?id=1xdn_vzjntn-J_4qOMhE14r3NFEASTcKz'>\n",
    "- Sigmoid function is represented as $Sigmoid(Ƶ) = P(y_i=1 \\bigg| x_i,w,b)$ that gives probabilities $(P_i)$.\n",
    "$$Sigmoid(Ƶ) = \\frac{1}{1+e^{-Ƶ_i}} = \\frac{e^{Ƶ_i}}{1+e^{Ƶ_i}}$$\n",
    "- When we have binary classification, we use sigmoid and its shape is given by above equation.\n",
    "\n",
    "*Note:*  $P(y_i=0\\bigg|x_i,w,b) = 1-P_i$"
   ]
  },
  {
   "cell_type": "markdown",
   "metadata": {
    "id": "ATbJW4v3lzUh"
   },
   "source": [
    "- In Binary case, we also use log-loss.\n",
    "- Log-loss is also referred to as Binary Cross Entropy (CE).\n",
    "  <img src='https://drive.google.com/uc?id=1TmQ9JnJ1jEy2SD5jQF6D8ZlcYglFp0Lf'>\n",
    "- It looks like: $-\\bigg[  \\ y_i log(\\hat{y_i}) + (1-y_i) log(1-\\hat{y_i})\\bigg]$\n",
    "- In binary-case, Sigmoid converts $Ƶ_i$ into probabilities."
   ]
  },
  {
   "cell_type": "markdown",
   "metadata": {
    "id": "ZwthjXZtzJQC"
   },
   "source": [
    "#### Multi-Class Setup:"
   ]
  },
  {
   "cell_type": "markdown",
   "metadata": {
    "id": "NUuwUotll6fa"
   },
   "source": [
    "- We can extend the concept of log-loss in Binary Class to Multi-class setup as well.\n",
    "  <img src='https://drive.google.com/uc?id=1OT2zBpIfUc5zJekp3cOj-Gh7SjKwivX9'>\n",
    "- Imagine, we have inputs $x_i$ with 3 set of classes as output. We have a bunch of layers $(L_1,L_2,..)$ in between and 3 neuron in the output that computes $(Ƶ_1, Ƶ_2, Ƶ_3)$.  \n",
    "- We want to convert $(Ƶ_i)$ to probabilities such that:\n",
    "\\begin{equation}\n",
    "\\begin{aligned}\n",
    "  P_1 &= P(y_i=1 |x_i, \\theta ) \\\\\n",
    "  P_2 &= P(y_i=2 |x_i, \\theta ) \\\\\n",
    "  P_3 &= P(y_i=3 |x_i, \\theta )  \n",
    "   \\ where \\ \\theta \\to \\ all \\ parameters \\ of \\ Neural \\ Network.\n",
    "\\end{aligned}\n",
    "\\end{equation}\n",
    "\n",
    "*Note:*\n",
    "- $P_1, P_2, P_3$ have an important property. $0\\le P_i \\le 1 \\ and \\ \\sum_{i=1}^{3} P_i = 1$\n",
    "- Probabilities are mutually exclusive and exhaustive."
   ]
  },
  {
   "cell_type": "markdown",
   "metadata": {
    "id": "akRxh0pX2S_B"
   },
   "source": [
    "#### Softmax:"
   ]
  },
  {
   "cell_type": "markdown",
   "metadata": {
    "id": "zwMG8xYDmCm2"
   },
   "source": [
    "- Similar to Sigmoid, there is a Softmax funtion people have come-up with. It outputs:\n",
    "$$ P_1 = \\frac{e^{Ƶ_1}}{\\sum_{i=1}^{k} e^{Ƶ_i}}, \\ \\ P_2 = \\frac{e^{Ƶ_2}}{\\sum_{i=1}^{k} e^{Ƶ_i}}, \\ \\ P_1 = \\frac{e^{Ƶ_3}}{\\sum_{i=3}^{k} e^{Ƶ_i}}$$\n",
    "- if $k=3$, then $P_1+P_2+P_3 = 1$.\n",
    "  <img src='https://drive.google.com/uc?id=1d_p2ukqsJ8yST3J2PeKYLXI8ksBm7cU8'>\n",
    "- This is very popular for multi-class classification. Softmax can be thought of as Sigmoid like function for multi-class setup.\n",
    "- In Binary setup, we have Sigmoid and log-loss. Similarly, we have Softmax and CE in multi-class setup."
   ]
  },
  {
   "cell_type": "markdown",
   "metadata": {
    "id": "lRa1NbHDmg2V"
   },
   "source": [
    "***Question:*** Why couldn't we simply use $Ƶ_i$ and normalize it using sum of $Ƶ_i$?\n",
    "\n",
    "***Answer:***\n",
    "- We could it. But using exponents has certain advantages.\n",
    "  <img src='https://drive.google.com/uc?id=1eddKrE6smrFzO__vgKytTITD_1u7f5Ra'>\n",
    "- If we took $P_i$ as $\\frac{Ƶ_i}{\\sumƵ_i}$ where $-\\infty \\le Ƶ_i \\le \\infty$. So $P_i$ can be -ve. In the above example if we had used $P_i = \\frac{Ƶ_i}{\\sumƵ_i}$, then the output would have been $1:3:6$.\n",
    "- When we use $P_i = \\frac{e^{Ƶ_i}}{\\sum e^{Ƶ_i}}$, then it would have been $4.5*10^{-5}, 0.00247, 0.997$. So whichever has maximum value, gets assigned highest probability because of exponents.\n"
   ]
  },
  {
   "cell_type": "markdown",
   "metadata": {
    "id": "NT-U7Nqvmn1x"
   },
   "source": [
    "***Question:*** Why we use only the exponential function & not any other?\n",
    "\n",
    "***Answer:***\n",
    "- Exponents are easily differentiable: $\\frac{\\partial e^Ƶ}{\\partial Ƶ} = e^Ƶ$.\n",
    "- That's why exponents are so common in DL.\n",
    "  <img src='https://drive.google.com/uc?id=1_GLrJz45llF6xdIf6TzNeHS68H77Irec'>"
   ]
  },
  {
   "cell_type": "markdown",
   "metadata": {
    "id": "_IPqT0pXmzs7"
   },
   "source": [
    "***Question:*** Previously we all dealt with one neuron at end. Why can't we have a setup where single neuron predicts class which it belongs to?\n",
    "\n",
    "***Answer:***\n",
    "- Actually, we don't want it to return an integer.\n",
    "  <img src='https://drive.google.com/uc?id=1DQ5gdvKKo74zw-IndRbFPjeiJo36WzOS'>\n",
    "- Imagine, we have $x_i$ that belongs to class $3$ and $k=3$.\n",
    "- What we want is probability distribution of this point $x_i$ belonging to these classes.\n",
    "- If we get integer values, then designing loss function is difficult.\n",
    "- In the below example, model barely classifies this point as belonging to class $2$. But difference in probability of class $2$ and class $3$ is very small.\n",
    "- Having probabilistic class labels helps to make such decisions.\n",
    "  <img src='https://drive.google.com/uc?id=1-d6RitucylNBmeRAg710pySUp-Pd10w2'>"
   ]
  },
  {
   "cell_type": "markdown",
   "metadata": {
    "id": "fl8Xwa--C8x6"
   },
   "source": [
    "#### Loss function in Multi-class setup:"
   ]
  },
  {
   "cell_type": "markdown",
   "metadata": {
    "id": "Ynq65xEHnE3P"
   },
   "source": [
    "- Similar to log-loss function in Binary classification, we can simply extend it to Multi-class setup.\n",
    "- This simple extension using concept of Cross Entropy.\n",
    "  <img src='https://drive.google.com/uc?id=1HohfhyUGaXbOIGqQ-msRts9iUW2VhV4r'>"
   ]
  },
  {
   "cell_type": "markdown",
   "metadata": {
    "id": "-69o9kISDZBD"
   },
   "source": [
    "#### Formula:"
   ]
  },
  {
   "cell_type": "markdown",
   "metadata": {
    "id": "DmgY0_TUnN07"
   },
   "source": [
    "- Suppose we have point $x_i,y_i$, where $x_i$ could belong to either of $1,2,.j,..k$ class.\n",
    "- We have probabilities $P_{i1},P_{i2},.P_{ij},..P_{ik} \\forall_{j} = 1\\to k$\n",
    "  <img src='https://drive.google.com/uc?id=1zhPMIEQEESfhybzhzZc9aAZr-G5NBpBD'>\n",
    "- $y_i$ are represented a one-hot-encoding. So if $y_i \\to class \\ 2$ then, it is represented as $(0,1,0,0,..0)$ vector.\n",
    "- Cross Entropy is represented as:\n",
    "$$CE_i = - \\sum_{j=1}^{k} y_{ij} \\ log(P_{ij})$$\n"
   ]
  },
  {
   "cell_type": "markdown",
   "metadata": {
    "id": "jvCPIP3HnU_P"
   },
   "source": [
    "- This looks like log-loss.\n",
    "- Imagine $k=2$ then $CE_i = - [y_{i1} log(P_{i1}) + y_{i2} log(P_{i2})]$.\n",
    "  <img src='https://drive.google.com/uc?id=1UGI2B2mu1C4RLVdP2gwueeTFbT_OuaSY'>\n",
    "- If $y_i \\in class \\ 1$, then $y_{i2} = 0$ and $y_{i1} = 1$. $P_{i2}$ can also be represented as $P_{i2} = (1-P_{i1})$.\n",
    "- This is nothing but log-loss. Hence, log-loss is often referred to as Binary Cross Entropy."
   ]
  },
  {
   "cell_type": "markdown",
   "metadata": {
    "id": "xyuRQgTonjUb"
   },
   "source": [
    "- In Binary classification, Sigmoid is used and in K-ary Softmax is used to determine probabilities.\n",
    "  <img src='https://drive.google.com/uc?id=1e3ehdpcsHXX-3Yd9zXTLHmpM-Bgxlv9c'>\n",
    "- In Binary classification, Binary cross entropy/log-loss is used and in k-ary Cross entropy is used as loss function."
   ]
  },
  {
   "cell_type": "markdown",
   "metadata": {
    "id": "s7RJ2n0Gnqiq"
   },
   "source": [
    "***Question:*** Could you provide some examples of multi-classification using three neurons?\n",
    "\n",
    "***Answer:***\n",
    "- Let $x_i$ has 2 features and we have simple Neural network for 3 class classifier.\n",
    "- $L_1$ has 100 units of ReLU. Output of these ReLu functions is passed to simple linear functions (for simplicity).\n",
    "- These linear functions produces output $Ƶ_{i1}, Ƶ_{i2}, Ƶ_{i3}$ and is passed to Softmax.\n",
    "- Softmax produces probabilities $P_{i1}, P_{i2}, P_{i3}$. Using these 3 proabilities, we compute loss using cross entropy function $L_{CE}(y^{OHE}_i, P_{ij})$.\n",
    "  <img src='https://drive.google.com/uc?id=1loxvoCN9WG7UIMlfn-A24HV5xfiK03SL'>\n",
    "- In this example, Softmax, Linear Activation function, ReLu and matrix multiplication $(w^Tx_i+b)$ are differentiable.\n",
    "- When we get a query point $x_q \\in \\mathbb{R}^2$, $x_q$ is passed through network and probabilities are generated.\n",
    "- If $P_{q3}$ is high, then we say that $q_p$ belongs to class 3."
   ]
  },
  {
   "cell_type": "markdown",
   "metadata": {
    "id": "KziHY9Q-JeGf"
   },
   "source": [
    "***Question:*** Why don't we pass the softmax as the activation function itself instead of a ReLu function?\n",
    "\n",
    "***Answer:***\n",
    "- Softmax has multiple inputs and multiple outputs. But an activation function gets input as $w^Tx+b$ and its output is passed to further layers.\n",
    "- Activation functions take scaler as inputs and gives scaler as output whereas Softmax takes vector as input and gives vector as output.\n",
    "  <img src='https://drive.google.com/uc?id=1ywh1GIUf_gR5620_M4PL40m-_blz5CCd'>"
   ]
  },
  {
   "cell_type": "markdown",
   "metadata": {
    "id": "UkyHYS1cIvHG"
   },
   "source": [
    "#### Python Code: Simple Neural Network with Back propogation"
   ]
  },
  {
   "cell_type": "code",
   "execution_count": null,
   "metadata": {
    "colab": {
     "base_uri": "https://localhost:8080/"
    },
    "id": "gzUdJ0W3I6O0",
    "outputId": "31eefde6-08fc-4d95-ea46-3247df673b48"
   },
   "outputs": [],
   "source": [
    "#!gdown 1dLOPwh01o3k8p_hK633ixhD1ehz6nNWk"
   ]
  },
  {
   "cell_type": "code",
   "execution_count": 1,
   "metadata": {
    "colab": {
     "base_uri": "https://localhost:8080/"
    },
    "id": "W9RLp9eGkcFT",
    "outputId": "e8efabfc-8319-4cb6-cf82-95b08c44310a"
   },
   "outputs": [
    {
     "name": "stdout",
     "output_type": "stream",
     "text": [
      "-rw-r--r--  1 debnsuma  staff  12867 May  5 10:26 dataset/spiral.csv\n"
     ]
    }
   ],
   "source": [
    "!ls -lrt dataset/*"
   ]
  },
  {
   "cell_type": "code",
   "execution_count": 105,
   "metadata": {
    "colab": {
     "base_uri": "https://localhost:8080/",
     "height": 269
    },
    "id": "rRbplj4oI6Rv",
    "outputId": "64d48df3-fab9-41db-d0f1-ffa1e65e4eb1"
   },
   "outputs": [
    {
     "data": {
      "image/png": "[encoded data removed]",
      "text/plain": [
       "<Figure size 640x480 with 1 Axes>"
      ]
     },
     "metadata": {},
     "output_type": "display_data"
    }
   ],
   "source": [
    "# Very simple case of a back-prop\n",
    "import pandas as pd\n",
    "import matplotlib.pyplot as plt\n",
    "import numpy as np\n",
    "\n",
    "dataset = 'dataset/spiral.csv' \n",
    "\n",
    "df = pd.read_csv(dataset)\n",
    "plt.scatter(df[\"x1\"], df[\"x2\"], c=df[\"y\"], s=40, cmap=plt.cm.Spectral)\n",
    "plt.show()"
   ]
  },
  {
   "cell_type": "code",
   "execution_count": 106,
   "metadata": {
    "scrolled": true
   },
   "outputs": [],
   "source": [
    "X = df.iloc[:, :-1].to_numpy()\n",
    "y = df.iloc[:, -1].to_numpy()"
   ]
  },
  {
   "cell_type": "code",
   "execution_count": 107,
   "metadata": {
    "colab": {
     "base_uri": "https://localhost:8080/",
     "height": 206
    },
    "id": "hwG-P8l-I6U2",
    "outputId": "be496271-15b5-45b3-cbb2-c45e2cc5c53a"
   },
   "outputs": [
    {
     "data": {
      "text/html": [
       "<div>\n",
       "<style scoped>\n",
       "    .dataframe tbody tr th:only-of-type {\n",
       "        vertical-align: middle;\n",
       "    }\n",
       "\n",
       "    .dataframe tbody tr th {\n",
       "        vertical-align: top;\n",
       "    }\n",
       "\n",
       "    .dataframe thead th {\n",
       "        text-align: right;\n",
       "    }\n",
       "</style>\n",
       "<table border=\"1\" class=\"dataframe\">\n",
       "  <thead>\n",
       "    <tr style=\"text-align: right;\">\n",
       "      <th></th>\n",
       "      <th>x1</th>\n",
       "      <th>x2</th>\n",
       "      <th>y</th>\n",
       "    </tr>\n",
       "  </thead>\n",
       "  <tbody>\n",
       "    <tr>\n",
       "      <th>0</th>\n",
       "      <td>0.000000</td>\n",
       "      <td>0.000000</td>\n",
       "      <td>0</td>\n",
       "    </tr>\n",
       "    <tr>\n",
       "      <th>1</th>\n",
       "      <td>-0.000650</td>\n",
       "      <td>0.010080</td>\n",
       "      <td>0</td>\n",
       "    </tr>\n",
       "    <tr>\n",
       "      <th>2</th>\n",
       "      <td>0.009809</td>\n",
       "      <td>0.017661</td>\n",
       "      <td>0</td>\n",
       "    </tr>\n",
       "    <tr>\n",
       "      <th>3</th>\n",
       "      <td>0.007487</td>\n",
       "      <td>0.029364</td>\n",
       "      <td>0</td>\n",
       "    </tr>\n",
       "    <tr>\n",
       "      <th>4</th>\n",
       "      <td>-0.000027</td>\n",
       "      <td>0.040404</td>\n",
       "      <td>0</td>\n",
       "    </tr>\n",
       "  </tbody>\n",
       "</table>\n",
       "</div>"
      ],
      "text/plain": [
       "         x1        x2  y\n",
       "0  0.000000  0.000000  0\n",
       "1 -0.000650  0.010080  0\n",
       "2  0.009809  0.017661  0\n",
       "3  0.007487  0.029364  0\n",
       "4 -0.000027  0.040404  0"
      ]
     },
     "execution_count": 107,
     "metadata": {},
     "output_type": "execute_result"
    }
   ],
   "source": [
    "df.head()"
   ]
  },
  {
   "cell_type": "code",
   "execution_count": 108,
   "metadata": {
    "id": "VjWATD_TJByY"
   },
   "outputs": [],
   "source": [
    "class NN:\n",
    "\n",
    "    def __init__(self, n_features, n_hidden, n_classes):\n",
    "        self.d = n_features\n",
    "        self.h = n_hidden\n",
    "        self.n = n_classes\n",
    "        self.W1 = 0.01 * np.random.randn(self.d, self.h)\n",
    "        self.b1 = np.zeros((1,self.h))\n",
    "        self.W2 = 0.01 * np.random.randn(self.h,self.n)\n",
    "        self.b2 = np.zeros((1,self.n))\n",
    "\n",
    "    def fwd_prop(self, X):\n",
    "        # Layer 1 \n",
    "        Z1 = np.dot(X, self.W1) + self.b1\n",
    "        A1 = np.maximum(0, Z1)\n",
    "        # Layer 2\n",
    "        Z2 = np.dot(A1, self.W2) + self.b2\n",
    "        Z2 = np.exp(Z2)\n",
    "        A2 = Z2 / np.sum(Z2, axis=1, keepdims=True)\n",
    "        return A1, A2\n",
    "\n",
    "    def cce_loss(self, y, probs):\n",
    "        num_examples = y.shape[0]\n",
    "        correct_logprobs = -np.log(probs[range(num_examples),y])\n",
    "        loss = np.sum(correct_logprobs)/num_examples\n",
    "        return loss\n",
    "\n",
    "    def back_prop(self, X, A1, A2, y):\n",
    "        # compute the gradient on scores\n",
    "        num_examples = y.shape[0]\n",
    "        dZ2 = A2\n",
    "        dZ2[range(num_examples),y] -= 1\n",
    "\n",
    "        dZ2 /= num_examples\n",
    "        # first backprop into parameters W2 and b2\n",
    "        dW2 = np.dot(A1.T, dZ2)\n",
    "        db2 = np.sum(dZ2, axis=0, keepdims=True)\n",
    "        # next backprop into hidden layer, A1\n",
    "        dA1 = np.dot(dZ2, self.W2.T)\n",
    "        # backprop the ReLU non-linearity\n",
    "        dA1[A1 <= 0] = 0\n",
    "        # finally into W,b\n",
    "        dZ1 = dA1\n",
    "        dW1 = np.dot(X.T, dZ1)\n",
    "        db1 = np.sum(dZ1, axis=0, keepdims=True)\n",
    "        return dW1, db1, dW2, db2\n",
    "\n",
    "    def fit(self, X, y, lr, reg, max_iters):\n",
    "        num_examples = X.shape[0]               # 300 data points (X.shape : (300,2))\n",
    "        for i in range(max_iters):\n",
    "            #foward prop\n",
    "            A1, A2 = self.fwd_prop(X)           # Returns the output of L1 (Hidden Layer) and L2 (Output Layer), Shape pf A1 (dim_iniput x n_hidden), Shape pf A2 (n_hidden x dim_output) \n",
    "            # calculate loss\n",
    "            data_loss = self.cce_loss(y, A2)\n",
    "            reg_loss = 0.5*reg*np.sum(self.W1*self.W1) + 0.5*reg*np.sum(self.W2*self.W2)  # Adding L2 Regulatization for both W1 and W2 \n",
    "            loss = data_loss + reg_loss\n",
    "\n",
    "            if i % 1000 == 0:\n",
    "                print(\"iteration %d: loss %f\" % (i, loss))\n",
    "\n",
    "            dW1, db1, dW2, db2  = self.back_prop(X, A1, A2, y)\n",
    "\n",
    "            # add regularization gradient contribution\n",
    "            dW2 += reg * self.W2\n",
    "            dW1 += reg * self.W1\n",
    "\n",
    "            # perform a parameter update\n",
    "            self.W1 += -lr * dW1\n",
    "            self.b1 += -lr * db1\n",
    "            self.W2 += -lr * dW2\n",
    "            self.b2 += -lr * db2\n",
    "\n",
    "    def predict(self, X):\n",
    "        A1 = np.maximum(0, np.dot(X, self.W1) + self.b1)\n",
    "        Z2 = np.dot(A1, self.W2) + self.b2\n",
    "        y_hat = np.argmax(Z2, axis=1)\n",
    "        return y_hat"
   ]
  },
  {
   "cell_type": "code",
   "execution_count": 109,
   "metadata": {},
   "outputs": [
    {
     "name": "stdout",
     "output_type": "stream",
     "text": [
      "iteration 0: loss 1.098823\n",
      "iteration 1000: loss 0.309652\n",
      "iteration 2000: loss 0.256148\n",
      "iteration 3000: loss 0.250615\n",
      "iteration 4000: loss 0.249126\n",
      "iteration 5000: loss 0.248048\n",
      "iteration 6000: loss 0.247306\n",
      "iteration 7000: loss 0.247109\n",
      "iteration 8000: loss 0.247025\n",
      "iteration 9000: loss 0.246989\n",
      "training accuracy: 0.99\n"
     ]
    }
   ],
   "source": [
    "nn_model = NN(n_features=2, n_hidden=100, n_classes=3)\n",
    "nn_model.fit(X, y, lr=1, reg=1e-3, max_iters=10000)\n",
    "print('training accuracy: %.2f' % (np.mean(nn_model.predict(X) == y)))"
   ]
  },
  {
   "cell_type": "markdown",
   "metadata": {},
   "source": [
    "# Understanding of computing the loss "
   ]
  },
  {
   "cell_type": "code",
   "execution_count": 124,
   "metadata": {},
   "outputs": [
    {
     "data": {
      "text/plain": [
       "array([0, 0, 0, 0, 0, 0, 0, 0, 0, 0])"
      ]
     },
     "execution_count": 124,
     "metadata": {},
     "output_type": "execute_result"
    }
   ],
   "source": [
    "y[:10]"
   ]
  },
  {
   "cell_type": "code",
   "execution_count": 125,
   "metadata": {},
   "outputs": [
    {
     "data": {
      "text/plain": [
       "array([[ 0.00000000e+00,  0.00000000e+00],\n",
       "       [-6.50123964e-04,  1.00800667e-02],\n",
       "       [ 9.80910862e-03,  1.76607760e-02],\n",
       "       [ 7.48711824e-03,  2.93635268e-02],\n",
       "       [-2.71404625e-05,  4.04040313e-02],\n",
       "       [ 7.41008855e-03,  4.99584899e-02],\n",
       "       [ 3.04241080e-02,  5.24162974e-02],\n",
       "       [ 2.47420249e-02,  6.62368632e-02],\n",
       "       [ 1.60027032e-02,  7.92076979e-02],\n",
       "       [ 3.90523417e-02,  8.20937112e-02]])"
      ]
     },
     "execution_count": 125,
     "metadata": {},
     "output_type": "execute_result"
    }
   ],
   "source": [
    "X[:10]"
   ]
  },
  {
   "cell_type": "code",
   "execution_count": 126,
   "metadata": {},
   "outputs": [
    {
     "data": {
      "text/plain": [
       "(array([0, 1, 2]), array([100, 100, 100]))"
      ]
     },
     "execution_count": 126,
     "metadata": {},
     "output_type": "execute_result"
    }
   ],
   "source": [
    "np.unique(y, return_counts=True)"
   ]
  },
  {
   "cell_type": "code",
   "execution_count": 132,
   "metadata": {},
   "outputs": [],
   "source": [
    "_dZ2 = np.array([\n",
    " [0.2, 0.5, 0.3],   # Probabilities for Example 1\n",
    " [0.1, 0.6, 0.3],   # Probabilities for Example 2\n",
    " [0.3, 0.4, 0.3],   # Probabilities for Example 3\n",
    " [0.8, 0.1, 0.1]    # Probabilities for Example 4\n",
    "])\n",
    "\n",
    "_y = [1, 0, 2, 0]"
   ]
  },
  {
   "cell_type": "code",
   "execution_count": 133,
   "metadata": {},
   "outputs": [
    {
     "data": {
      "text/plain": [
       "array([[0.2, 0.5, 0.3],\n",
       "       [0.1, 0.6, 0.3],\n",
       "       [0.3, 0.4, 0.3],\n",
       "       [0.8, 0.1, 0.1]])"
      ]
     },
     "execution_count": 133,
     "metadata": {},
     "output_type": "execute_result"
    }
   ],
   "source": [
    "_dZ2"
   ]
  },
  {
   "cell_type": "code",
   "execution_count": 134,
   "metadata": {},
   "outputs": [
    {
     "data": {
      "text/plain": [
       "array([0.5, 0.1, 0.3, 0.8])"
      ]
     },
     "execution_count": 134,
     "metadata": {},
     "output_type": "execute_result"
    }
   ],
   "source": [
    "_dZ2[range(4), _y]"
   ]
  },
  {
   "cell_type": "code",
   "execution_count": 135,
   "metadata": {},
   "outputs": [
    {
     "data": {
      "text/plain": [
       "[1, 0, 2, 0]"
      ]
     },
     "execution_count": 135,
     "metadata": {},
     "output_type": "execute_result"
    }
   ],
   "source": [
    "_y"
   ]
  },
  {
   "cell_type": "code",
   "execution_count": 136,
   "metadata": {},
   "outputs": [],
   "source": [
    "_dZ2[range(4), [1, 0, 2, 0]] -= 1"
   ]
  },
  {
   "cell_type": "code",
   "execution_count": 137,
   "metadata": {},
   "outputs": [
    {
     "data": {
      "text/plain": [
       "array([[ 0.2, -0.5,  0.3],\n",
       "       [-0.9,  0.6,  0.3],\n",
       "       [ 0.3,  0.4, -0.7],\n",
       "       [-0.2,  0.1,  0.1]])"
      ]
     },
     "execution_count": 137,
     "metadata": {},
     "output_type": "execute_result"
    }
   ],
   "source": [
    "_dZ2"
   ]
  },
  {
   "cell_type": "code",
   "execution_count": 120,
   "metadata": {},
   "outputs": [
    {
     "data": {
      "text/plain": [
       "((1, 100), (1, 3))"
      ]
     },
     "execution_count": 120,
     "metadata": {},
     "output_type": "execute_result"
    }
   ],
   "source": [
    "nn_model.b1.shape, nn_model.b2.shape"
   ]
  },
  {
   "cell_type": "code",
   "execution_count": 121,
   "metadata": {},
   "outputs": [
    {
     "data": {
      "text/plain": [
       "((2, 100), (100, 3))"
      ]
     },
     "execution_count": 121,
     "metadata": {},
     "output_type": "execute_result"
    }
   ],
   "source": [
    "nn_model.W1.shape, nn_model.W2.shape"
   ]
  },
  {
   "cell_type": "code",
   "execution_count": 122,
   "metadata": {},
   "outputs": [
    {
     "data": {
      "text/plain": [
       "(300, 2)"
      ]
     },
     "execution_count": 122,
     "metadata": {},
     "output_type": "execute_result"
    }
   ],
   "source": [
    "X.shape"
   ]
  },
  {
   "cell_type": "code",
   "execution_count": 123,
   "metadata": {
    "colab": {
     "base_uri": "https://localhost:8080/",
     "height": 265
    },
    "id": "Nwp4496CJB4k",
    "outputId": "172803cb-9fb5-4da4-8dea-a9cb8e2564ec"
   },
   "outputs": [
    {
     "data": {
      "image/png": "[encoded data removed]",
      "text/plain": [
       "<Figure size 640x480 with 1 Axes>"
      ]
     },
     "metadata": {},
     "output_type": "display_data"
    }
   ],
   "source": [
    "# create a 2D grid\n",
    "step = 0.02\n",
    "x_min, x_max = X[:, 0].min() - 1, X[:, 0].max() + 1\n",
    "y_min, y_max = X[:, 1].min() - 1, X[:, 1].max() + 1\n",
    "xx, yy = np.meshgrid(np.arange(x_min, x_max, step), np.arange(y_min, y_max, step))\n",
    "\n",
    "# predict for all the points in the grid\n",
    "y_hat = nn_model.predict(np.c_[xx.ravel(), yy.ravel()])\n",
    "y_hat = y_hat.reshape(xx.shape)\n",
    "\n",
    "# plot\n",
    "fig = plt.figure()\n",
    "plt.contourf(xx, yy, y_hat, cmap=plt.cm.Spectral, alpha=0.8)\n",
    "plt.scatter(X[:, 0], X[:, 1], c=y, s=40, cmap=plt.cm.Spectral)\n",
    "plt.xlim(xx.min(), xx.max())\n",
    "plt.ylim(yy.min(), yy.max())\n",
    "plt.show()"
   ]
  },
  {
   "cell_type": "markdown",
   "metadata": {
    "id": "IGuG-zDbNSTZ"
   },
   "source": [
    "##### Neural Network Architecture:"
   ]
  },
  {
   "cell_type": "markdown",
   "metadata": {
    "id": "lxEJV2a0K6B0"
   },
   "source": [
    "- In this example we have input with 2 features $(d=2)$ which is passed to hidden layers with 100 units $(h=100)$.\n",
    "- Output from these hidden layers is connected to softmax layers with 3 outputs $(n=3)$.\n",
    "- Weight matrix $W_1$ has dimension $d*h$, bias $b_1$ has dimension $1*h$.\n",
    "- Weight matrix $W_2$ has dimension $h*n$, bias $b_2$ has dimension $1*n$.\n",
    "  <img src='https://drive.google.com/uc?id=1GNq7xFbRHiT5uJnxHCYcK9Mox8W_pqly'>"
   ]
  },
  {
   "cell_type": "markdown",
   "metadata": {
    "id": "KayG_DDONY3a"
   },
   "source": [
    "##### Forward Propogation:"
   ]
  },
  {
   "cell_type": "markdown",
   "metadata": {
    "id": "-4Jqw2wEK6Ec"
   },
   "source": [
    "- $Z1$ is computed as $Z1 = X^TW_1+b_1$.\n",
    "- $A1$ represented ReLu function.\n",
    "- $Z2$ is computed as $Z2 = A1^TW_2+b_2$. We further take exponent of $Z2$ and compute Softmax.\n",
    "- Output of this Softmax is $A_2$.\n",
    "  <img src='https://drive.google.com/uc?id=1gkPxDh1J32xbVF-gPERSOVxAMO1nHi2F'>\n"
   ]
  },
  {
   "cell_type": "markdown",
   "metadata": {
    "id": "3jPSq6IHNeUs"
   },
   "source": [
    "##### Loss Function:"
   ]
  },
  {
   "cell_type": "markdown",
   "metadata": {
    "id": "firjHl-INeUs"
   },
   "source": [
    "- Cross Entropy is computed as:\n",
    "$$CE = \\frac{1}{m} \\sum_{i=1}^m CE_i  \\ \\ where \\ CE_i = - \\sum_{j=1}^{k} y_{ij} \\ log(P_{ij})$$\n",
    "- If $y_i \\in$ Class 2, then $y_{i2} = 1$ and $y_{ij\\neq2} = 0$.\n",
    "  <img src='https://drive.google.com/uc?id=1C8Rr6qbLHrBbQvrFvbOUtNVL2JDvSMc9'>\n"
   ]
  },
  {
   "cell_type": "markdown",
   "metadata": {
    "id": "_-uJFzxzPfVb"
   },
   "source": [
    "##### Summary of Code so far:"
   ]
  },
  {
   "cell_type": "markdown",
   "metadata": {
    "id": "anQ2Cy5MPfV4"
   },
   "source": [
    "- $X$ is the input using which a weighted sum $Z_1$ is computed using $w_1,b_1$.\n",
    "- $Z_1$ is passed through ReLu unit to compute output $A_1$.\n",
    "- Using $A_1$ and $w_1,b_1$ a weighted sum is computed $Z_2$.\n",
    "- Softmax is applied to $Z_2$ and $A_2$ is computed which is passed to Cross Entropy.\n",
    "  <img src='https://drive.google.com/uc?id=15x2A4UxJEYDfe1p3Cd41W4bV5UHQhyHv'>\n",
    "\n",
    "\n"
   ]
  },
  {
   "cell_type": "markdown",
   "metadata": {
    "id": "CIUSE2A1QpUq"
   },
   "source": [
    "##### Back Propogation:"
   ]
  },
  {
   "cell_type": "markdown",
   "metadata": {
    "id": "NiAu6RRRQpUr"
   },
   "source": [
    "- Softmax layer generates probabilities $P_1, P_2, P_3$.\n",
    "- These probabilites along with one-hot encoding outputs $Y^1_{OHE},Y^2_{OHE},Y^3_{OHE}$ are passed to loss function $L_{CE}$.\n",
    "  <img src='https://drive.google.com/uc?id=1cVFRhFbfrQZFhkp4MXXxRRsUlfVUufql'>\n",
    "\n",
    "\n"
   ]
  },
  {
   "cell_type": "markdown",
   "metadata": {
    "id": "g-915BQWRsb1"
   },
   "source": [
    "- Softmax layer generates probabilities $P_1, P_2, P_3$.\n",
    "- These probabilites along with one-hot encoding outputs $Y^1_{OHE},Y^2_{OHE},Y^3_{OHE}$ are passed to loss function $L_{CE}$.\n",
    "- While computing derivative of loss function $L_{CE}$, we need to calculate partial derivatives for $\\frac{\\partial L_{CE}}{\\partial Ƶ_1}, \\frac{\\partial L_{CE}}{\\partial Ƶ_2} \\ and \\ \\frac{\\partial L_{CE}}{\\partial Ƶ_3}$.\n",
    "  <img src='https://drive.google.com/uc?id=1cVFRhFbfrQZFhkp4MXXxRRsUlfVUufql'>\n",
    "\n",
    "\n"
   ]
  },
  {
   "cell_type": "markdown",
   "metadata": {
    "id": "L-Yrek78SuaB"
   },
   "source": [
    "- Derivative of cross entropy loss function wrt $Ƶ_j$ is represented as:\n",
    "$$\\frac{\\partial L_{CE}}{\\partial Ƶ_{j}} = P_j - Y^{OHE}_j$$\n",
    "where $P_j$ is probability that $x_i \\in class \\ j$.\n",
    "  <img src='https://drive.google.com/uc?id=1VeTTQuBzUGYh5-zSoESX2dSeK9gF_6Ea'>\n",
    "\n",
    "\n",
    "*Note:* There is a detailed explanation of above representation:\n",
    "\n",
    "\n",
    "https://towardsdatascience.com/derivative-of-the-softmax-function-and-the-categorical-cross-entropy-loss-ffceefc081d1\n",
    "\n"
   ]
  },
  {
   "cell_type": "markdown",
   "metadata": {
    "id": "Skt2lFD_RAB_"
   },
   "source": [
    "- $\\frac{\\partial L}{\\partial W_2} = \\frac{\\partial L}{\\partial Z_2} * \\frac{\\partial Z_2}{\\partial W_2}$\n",
    "- $\\frac{\\partial L}{\\partial A_1} = \\frac{\\partial L}{\\partial Z_2} * \\frac{\\partial Z_2}{\\partial A_1}$\n",
    "- $\\frac{\\partial Z_2}{\\partial W_2} = A_1$\n",
    "- $\\frac{\\partial L}{\\partial Z_2} = P_j - y_j$\n",
    "- $\\frac{\\partial Z_2}{\\partial A_1} = W_2$\n",
    "  <img src='https://drive.google.com/uc?id=1ZB5oYsrBsZZReVsSONiImdvWrhsZDYqr'>\n",
    "- Using the above partial derivatives, back propogation is computed.\n",
    "\n"
   ]
  },
  {
   "cell_type": "markdown",
   "metadata": {
    "id": "axf3rrgBbP_Z"
   },
   "source": [
    "##### Fit Function:"
   ]
  },
  {
   "cell_type": "markdown",
   "metadata": {
    "id": "1ClJjiTbbEll"
   },
   "source": [
    "- In fit function, we iterate over the input $max\\_iters$ times.\n",
    "- Using forward propogation, $A_1$ and $A_2$ are computed.\n",
    "- Croos entropy loss is computed which is regularized further using $L_2$ regularization technique.\n",
    "- After every 1000 iterations, loss is printed.\n",
    "- Partial derivatives are computed using back propogation on entire dataset.\n",
    "  <img src='https://drive.google.com/uc?id=1nIhVFbzcIvXdO8vJij6GzX7vI9utK7jQ'>\n",
    "  \n"
   ]
  },
  {
   "cell_type": "markdown",
   "metadata": {
    "id": "f0hkTJ1ecD2R"
   },
   "source": [
    "- Using these partial derivatives, weights and biases are updated.\n",
    "  <img src='https://drive.google.com/uc?id=1R-zn3--bQ2BVm9FQZ59qkJin0TqfvYCj'>\n",
    "\n"
   ]
  },
  {
   "cell_type": "markdown",
   "metadata": {
    "id": "danPBHafci6b"
   },
   "source": [
    "##### Predict Function:"
   ]
  },
  {
   "cell_type": "markdown",
   "metadata": {
    "id": "S8YpECRtchZg"
   },
   "source": [
    "- Whenever we have a query point $x_q$, the output is computed as:\n",
    "\\begin{equation}\n",
    "\\begin{aligned}\n",
    "  A_1 &= \\max(0, W_1^Tx_q + B_1) \\\\\n",
    "  Z_2 &= W_2^TA_1 + B_2 \\\\  \n",
    "  \\hat{y} &= Argmax(Z_2)\n",
    "\\end{aligned}\n",
    "\\end{equation}\n",
    "\n",
    "  <img src='https://drive.google.com/uc?id=1RGV9bU-LCgdOUOI3yFB0VW9uaXvCYFpF'>\n"
   ]
  },
  {
   "cell_type": "markdown",
   "metadata": {
    "id": "rMxU__fyeYD1"
   },
   "source": [
    "- Output of predict function is training accuracy.\n",
    "- After first 1000 iterations, there is a significant drop in the loss.\n",
    "- But after 3000 iterations it plateaus.\n",
    "  <img src='https://drive.google.com/uc?id=1EAOLF7qe7MySFUhxH0zFG_2h2sxIJHRn'>\n"
   ]
  },
  {
   "cell_type": "markdown",
   "metadata": {
    "id": "TMkV7W3KfU6c"
   },
   "source": [
    "##### Plot output graph:"
   ]
  },
  {
   "cell_type": "markdown",
   "metadata": {
    "id": "WV_KdcsLfOsD"
   },
   "source": [
    "- For this simple dataset, we see clear separation boundaries.\n",
    "  <img src='https://drive.google.com/uc?id=1mR6DuW0BnAcy4lbN-I1xc97nffi9v3Vn'>\n"
   ]
  },
  {
   "cell_type": "markdown",
   "metadata": {
    "id": "u3qV3rIzgH4X"
   },
   "source": [
    "#### Coding Tracks for Deep Learning:"
   ]
  },
  {
   "cell_type": "markdown",
   "metadata": {
    "id": "JP9d540-gLHs"
   },
   "source": [
    "- There are 2 popular programming tracks for Deep Learning.\n",
    "- Tensorflow 2 that includes Keras and Py-Torch.\n",
    "  <img src='https://drive.google.com/uc?id=1YlqXLIyIOvDJP1wTUYKAuNlbOllRn9vu'>\n",
    "\n",
    "\n",
    "*Note:* During lectures, we will use Tensorflow 2."
   ]
  },
  {
   "cell_type": "markdown",
   "metadata": {
    "id": "DVC5qeKQi5Gu"
   },
   "source": [
    "#### TF 2 and Keras: Sequential API"
   ]
  },
  {
   "cell_type": "code",
   "execution_count": 138,
   "metadata": {
    "colab": {
     "base_uri": "https://localhost:8080/"
    },
    "id": "QcKRDcPJcBVz",
    "outputId": "8c4681ea-9199-499c-8cfa-ea54b52768c7"
   },
   "outputs": [
    {
     "name": "stdout",
     "output_type": "stream",
     "text": [
      "2.16.1\n"
     ]
    }
   ],
   "source": [
    "import tensorflow as tf\n",
    "from tensorflow import keras\n",
    "from tensorflow.keras import layers\n",
    "\n",
    "\n",
    "print(tf.__version__)"
   ]
  },
  {
   "cell_type": "code",
   "execution_count": 139,
   "metadata": {
    "id": "c6sF6m3OjAWz"
   },
   "outputs": [],
   "source": [
    "#Keras Sequential API\n",
    "model = keras.Sequential()\n",
    "model.add(keras.Input(shape=(2,)))\n",
    "model.add(layers.Dense(100, activation=\"relu\"))\n",
    "model.add(layers.Dense(3, activation=\"softmax\"))"
   ]
  },
  {
   "cell_type": "markdown",
   "metadata": {
    "id": "NGN-CyqxlLQb"
   },
   "source": [
    "- Here, we have input $x_i \\in \\mathbb{R}^2$.\n",
    "- In keras, we build a sequential fully connected dense network.\n",
    "- In first dense layer, we have 100 units with ReLu as activation function.\n",
    "- Second layer has 3 units an 'Softmax' function.\n",
    "  <img src='https://drive.google.com/uc?id=1byzRbm-qJgHPoB07me6rPwOQlRpBZrMU'>"
   ]
  },
  {
   "cell_type": "code",
   "execution_count": 140,
   "metadata": {
    "colab": {
     "base_uri": "https://localhost:8080/"
    },
    "id": "5gVfU34_jAZ_",
    "outputId": "3bb6b94f-9cea-4aad-dac7-b647fa909ce0"
   },
   "outputs": [
    {
     "data": {
      "text/html": [
       "<pre style=\"white-space:pre;overflow-x:auto;line-height:normal;font-family:Menlo,'DejaVu Sans Mono',consolas,'Courier New',monospace\"><span style=\"font-weight: bold\">Model: \"sequential\"</span>\n",
       "</pre>\n"
      ],
      "text/plain": [
       "\u001b[1mModel: \"sequential\"\u001b[0m\n"
      ]
     },
     "metadata": {},
     "output_type": "display_data"
    },
    {
     "data": {
      "text/html": [
       "<pre style=\"white-space:pre;overflow-x:auto;line-height:normal;font-family:Menlo,'DejaVu Sans Mono',consolas,'Courier New',monospace\">┏━━━━━━━━━━━━━━━━━━━━━━━━━━━━━━━━━┳━━━━━━━━━━━━━━━━━━━━━━━━┳━━━━━━━━━━━━━━━┓\n",
       "┃<span style=\"font-weight: bold\"> Layer (type)                    </span>┃<span style=\"font-weight: bold\"> Output Shape           </span>┃<span style=\"font-weight: bold\">       Param # </span>┃\n",
       "┡━━━━━━━━━━━━━━━━━━━━━━━━━━━━━━━━━╇━━━━━━━━━━━━━━━━━━━━━━━━╇━━━━━━━━━━━━━━━┩\n",
       "│ dense (<span style=\"color: #0087ff; text-decoration-color: #0087ff\">Dense</span>)                   │ (<span style=\"color: #00d7ff; text-decoration-color: #00d7ff\">None</span>, <span style=\"color: #00af00; text-decoration-color: #00af00\">100</span>)            │           <span style=\"color: #00af00; text-decoration-color: #00af00\">300</span> │\n",
       "├─────────────────────────────────┼────────────────────────┼───────────────┤\n",
       "│ dense_1 (<span style=\"color: #0087ff; text-decoration-color: #0087ff\">Dense</span>)                 │ (<span style=\"color: #00d7ff; text-decoration-color: #00d7ff\">None</span>, <span style=\"color: #00af00; text-decoration-color: #00af00\">3</span>)              │           <span style=\"color: #00af00; text-decoration-color: #00af00\">303</span> │\n",
       "└─────────────────────────────────┴────────────────────────┴───────────────┘\n",
       "</pre>\n"
      ],
      "text/plain": [
       "┏━━━━━━━━━━━━━━━━━━━━━━━━━━━━━━━━━┳━━━━━━━━━━━━━━━━━━━━━━━━┳━━━━━━━━━━━━━━━┓\n",
       "┃\u001b[1m \u001b[0m\u001b[1mLayer (type)                   \u001b[0m\u001b[1m \u001b[0m┃\u001b[1m \u001b[0m\u001b[1mOutput Shape          \u001b[0m\u001b[1m \u001b[0m┃\u001b[1m \u001b[0m\u001b[1m      Param #\u001b[0m\u001b[1m \u001b[0m┃\n",
       "┡━━━━━━━━━━━━━━━━━━━━━━━━━━━━━━━━━╇━━━━━━━━━━━━━━━━━━━━━━━━╇━━━━━━━━━━━━━━━┩\n",
       "│ dense (\u001b[38;5;33mDense\u001b[0m)                   │ (\u001b[38;5;45mNone\u001b[0m, \u001b[38;5;34m100\u001b[0m)            │           \u001b[38;5;34m300\u001b[0m │\n",
       "├─────────────────────────────────┼────────────────────────┼───────────────┤\n",
       "│ dense_1 (\u001b[38;5;33mDense\u001b[0m)                 │ (\u001b[38;5;45mNone\u001b[0m, \u001b[38;5;34m3\u001b[0m)              │           \u001b[38;5;34m303\u001b[0m │\n",
       "└─────────────────────────────────┴────────────────────────┴───────────────┘\n"
      ]
     },
     "metadata": {},
     "output_type": "display_data"
    },
    {
     "data": {
      "text/html": [
       "<pre style=\"white-space:pre;overflow-x:auto;line-height:normal;font-family:Menlo,'DejaVu Sans Mono',consolas,'Courier New',monospace\"><span style=\"font-weight: bold\"> Total params: </span><span style=\"color: #00af00; text-decoration-color: #00af00\">603</span> (2.36 KB)\n",
       "</pre>\n"
      ],
      "text/plain": [
       "\u001b[1m Total params: \u001b[0m\u001b[38;5;34m603\u001b[0m (2.36 KB)\n"
      ]
     },
     "metadata": {},
     "output_type": "display_data"
    },
    {
     "data": {
      "text/html": [
       "<pre style=\"white-space:pre;overflow-x:auto;line-height:normal;font-family:Menlo,'DejaVu Sans Mono',consolas,'Courier New',monospace\"><span style=\"font-weight: bold\"> Trainable params: </span><span style=\"color: #00af00; text-decoration-color: #00af00\">603</span> (2.36 KB)\n",
       "</pre>\n"
      ],
      "text/plain": [
       "\u001b[1m Trainable params: \u001b[0m\u001b[38;5;34m603\u001b[0m (2.36 KB)\n"
      ]
     },
     "metadata": {},
     "output_type": "display_data"
    },
    {
     "data": {
      "text/html": [
       "<pre style=\"white-space:pre;overflow-x:auto;line-height:normal;font-family:Menlo,'DejaVu Sans Mono',consolas,'Courier New',monospace\"><span style=\"font-weight: bold\"> Non-trainable params: </span><span style=\"color: #00af00; text-decoration-color: #00af00\">0</span> (0.00 B)\n",
       "</pre>\n"
      ],
      "text/plain": [
       "\u001b[1m Non-trainable params: \u001b[0m\u001b[38;5;34m0\u001b[0m (0.00 B)\n"
      ]
     },
     "metadata": {},
     "output_type": "display_data"
    }
   ],
   "source": [
    "model.summary()"
   ]
  },
  {
   "cell_type": "markdown",
   "metadata": {
    "id": "OVnxyLDLl9F-"
   },
   "source": [
    "- First layer has 300 parameters ($2*100$ weights and $100$ biases).\n",
    "- Second layer has 303 parameters ($300$ weights and $3$ biases).\n",
    "  <img src='https://drive.google.com/uc?id=18VdYWt0icHclgwtQcXDqfms4gO5Vc3Az'>\n"
   ]
  },
  {
   "cell_type": "code",
   "execution_count": 141,
   "metadata": {
    "id": "Fdx0vuzijAc7"
   },
   "outputs": [],
   "source": [
    "model.compile(optimizer=keras.optimizers.Adam(), # suggest in colab : Option+Esc in Mac\n",
    "              loss=keras.losses.CategoricalCrossentropy(),\n",
    "              metrics=[keras.metrics.BinaryAccuracy()])"
   ]
  },
  {
   "cell_type": "markdown",
   "metadata": {
    "id": "RLjwh84fmgH7"
   },
   "source": [
    "*Note:*\n",
    "- We will study Adam Optimizer in future lectures.\n",
    "- BinaryAccuracy just computes how many classification were correct (True) and how many were incorrect (False).\n"
   ]
  },
  {
   "cell_type": "code",
   "execution_count": 142,
   "metadata": {
    "colab": {
     "base_uri": "https://localhost:8080/"
    },
    "id": "R8qykpF_jFyz",
    "outputId": "d140a2b4-bee1-4ea9-8132-e9f8c7595163"
   },
   "outputs": [
    {
     "name": "stdout",
     "output_type": "stream",
     "text": [
      "(300, 2)\n",
      "(300,)\n"
     ]
    }
   ],
   "source": [
    "print(X.shape)\n",
    "print(y.shape)"
   ]
  },
  {
   "cell_type": "code",
   "execution_count": 143,
   "metadata": {
    "colab": {
     "base_uri": "https://localhost:8080/"
    },
    "id": "vBl4bvk0jG2X",
    "outputId": "75be7a73-d00e-41cf-94db-ec967092da8b"
   },
   "outputs": [
    {
     "name": "stdout",
     "output_type": "stream",
     "text": [
      "[0 0 0 0 0 0 0 0 0 0 0 0 0 0 0 0 0 0 0 0 0 0 0 0 0 0 0 0 0 0 0 0 0 0 0 0 0\n",
      " 0 0 0 0 0 0 0 0 0 0 0 0 0 0 0 0 0 0 0 0 0 0 0 0 0 0 0 0 0 0 0 0 0 0 0 0 0\n",
      " 0 0 0 0 0 0 0 0 0 0 0 0 0 0 0 0 0 0 0 0 0 0 0 0 0 0 1 1 1 1 1 1 1 1 1 1 1\n",
      " 1 1 1 1 1 1 1 1 1 1 1 1 1 1 1 1 1 1 1 1 1 1 1 1 1 1 1 1 1 1 1 1 1 1 1 1 1\n",
      " 1 1 1 1 1 1 1 1 1 1 1 1 1 1 1 1 1 1 1 1 1 1 1 1 1 1 1 1 1 1 1 1 1 1 1 1 1\n",
      " 1 1 1 1 1 1 1 1 1 1 1 1 1 1 1 2 2 2 2 2 2 2 2 2 2 2 2 2 2 2 2 2 2 2 2 2 2\n",
      " 2 2 2 2 2 2 2 2 2 2 2 2 2 2 2 2 2 2 2 2 2 2 2 2 2 2 2 2 2 2 2 2 2 2 2 2 2\n",
      " 2 2 2 2 2 2 2 2 2 2 2 2 2 2 2 2 2 2 2 2 2 2 2 2 2 2 2 2 2 2 2 2 2 2 2 2 2\n",
      " 2 2 2 2]\n"
     ]
    }
   ],
   "source": [
    "print(y)"
   ]
  },
  {
   "cell_type": "markdown",
   "metadata": {
    "id": "uoM7hSTzmmsH"
   },
   "source": [
    "We need to One-hot encode $y_i$"
   ]
  },
  {
   "cell_type": "code",
   "execution_count": 144,
   "metadata": {
    "colab": {
     "base_uri": "https://localhost:8080/"
    },
    "collapsed": true,
    "id": "JfJjBDiNjJUv",
    "jupyter": {
     "outputs_hidden": true
    },
    "outputId": "511f685a-13e5-4937-be5e-f584480da475"
   },
   "outputs": [
    {
     "name": "stdout",
     "output_type": "stream",
     "text": [
      "[[1. 0. 0.]\n",
      " [1. 0. 0.]\n",
      " [1. 0. 0.]\n",
      " [1. 0. 0.]\n",
      " [1. 0. 0.]\n",
      " [1. 0. 0.]\n",
      " [1. 0. 0.]\n",
      " [1. 0. 0.]\n",
      " [1. 0. 0.]\n",
      " [1. 0. 0.]\n",
      " [1. 0. 0.]\n",
      " [1. 0. 0.]\n",
      " [1. 0. 0.]\n",
      " [1. 0. 0.]\n",
      " [1. 0. 0.]\n",
      " [1. 0. 0.]\n",
      " [1. 0. 0.]\n",
      " [1. 0. 0.]\n",
      " [1. 0. 0.]\n",
      " [1. 0. 0.]\n",
      " [1. 0. 0.]\n",
      " [1. 0. 0.]\n",
      " [1. 0. 0.]\n",
      " [1. 0. 0.]\n",
      " [1. 0. 0.]\n",
      " [1. 0. 0.]\n",
      " [1. 0. 0.]\n",
      " [1. 0. 0.]\n",
      " [1. 0. 0.]\n",
      " [1. 0. 0.]\n",
      " [1. 0. 0.]\n",
      " [1. 0. 0.]\n",
      " [1. 0. 0.]\n",
      " [1. 0. 0.]\n",
      " [1. 0. 0.]\n",
      " [1. 0. 0.]\n",
      " [1. 0. 0.]\n",
      " [1. 0. 0.]\n",
      " [1. 0. 0.]\n",
      " [1. 0. 0.]\n",
      " [1. 0. 0.]\n",
      " [1. 0. 0.]\n",
      " [1. 0. 0.]\n",
      " [1. 0. 0.]\n",
      " [1. 0. 0.]\n",
      " [1. 0. 0.]\n",
      " [1. 0. 0.]\n",
      " [1. 0. 0.]\n",
      " [1. 0. 0.]\n",
      " [1. 0. 0.]\n",
      " [1. 0. 0.]\n",
      " [1. 0. 0.]\n",
      " [1. 0. 0.]\n",
      " [1. 0. 0.]\n",
      " [1. 0. 0.]\n",
      " [1. 0. 0.]\n",
      " [1. 0. 0.]\n",
      " [1. 0. 0.]\n",
      " [1. 0. 0.]\n",
      " [1. 0. 0.]\n",
      " [1. 0. 0.]\n",
      " [1. 0. 0.]\n",
      " [1. 0. 0.]\n",
      " [1. 0. 0.]\n",
      " [1. 0. 0.]\n",
      " [1. 0. 0.]\n",
      " [1. 0. 0.]\n",
      " [1. 0. 0.]\n",
      " [1. 0. 0.]\n",
      " [1. 0. 0.]\n",
      " [1. 0. 0.]\n",
      " [1. 0. 0.]\n",
      " [1. 0. 0.]\n",
      " [1. 0. 0.]\n",
      " [1. 0. 0.]\n",
      " [1. 0. 0.]\n",
      " [1. 0. 0.]\n",
      " [1. 0. 0.]\n",
      " [1. 0. 0.]\n",
      " [1. 0. 0.]\n",
      " [1. 0. 0.]\n",
      " [1. 0. 0.]\n",
      " [1. 0. 0.]\n",
      " [1. 0. 0.]\n",
      " [1. 0. 0.]\n",
      " [1. 0. 0.]\n",
      " [1. 0. 0.]\n",
      " [1. 0. 0.]\n",
      " [1. 0. 0.]\n",
      " [1. 0. 0.]\n",
      " [1. 0. 0.]\n",
      " [1. 0. 0.]\n",
      " [1. 0. 0.]\n",
      " [1. 0. 0.]\n",
      " [1. 0. 0.]\n",
      " [1. 0. 0.]\n",
      " [1. 0. 0.]\n",
      " [1. 0. 0.]\n",
      " [1. 0. 0.]\n",
      " [1. 0. 0.]\n",
      " [0. 1. 0.]\n",
      " [0. 1. 0.]\n",
      " [0. 1. 0.]\n",
      " [0. 1. 0.]\n",
      " [0. 1. 0.]\n",
      " [0. 1. 0.]\n",
      " [0. 1. 0.]\n",
      " [0. 1. 0.]\n",
      " [0. 1. 0.]\n",
      " [0. 1. 0.]\n",
      " [0. 1. 0.]\n",
      " [0. 1. 0.]\n",
      " [0. 1. 0.]\n",
      " [0. 1. 0.]\n",
      " [0. 1. 0.]\n",
      " [0. 1. 0.]\n",
      " [0. 1. 0.]\n",
      " [0. 1. 0.]\n",
      " [0. 1. 0.]\n",
      " [0. 1. 0.]\n",
      " [0. 1. 0.]\n",
      " [0. 1. 0.]\n",
      " [0. 1. 0.]\n",
      " [0. 1. 0.]\n",
      " [0. 1. 0.]\n",
      " [0. 1. 0.]\n",
      " [0. 1. 0.]\n",
      " [0. 1. 0.]\n",
      " [0. 1. 0.]\n",
      " [0. 1. 0.]\n",
      " [0. 1. 0.]\n",
      " [0. 1. 0.]\n",
      " [0. 1. 0.]\n",
      " [0. 1. 0.]\n",
      " [0. 1. 0.]\n",
      " [0. 1. 0.]\n",
      " [0. 1. 0.]\n",
      " [0. 1. 0.]\n",
      " [0. 1. 0.]\n",
      " [0. 1. 0.]\n",
      " [0. 1. 0.]\n",
      " [0. 1. 0.]\n",
      " [0. 1. 0.]\n",
      " [0. 1. 0.]\n",
      " [0. 1. 0.]\n",
      " [0. 1. 0.]\n",
      " [0. 1. 0.]\n",
      " [0. 1. 0.]\n",
      " [0. 1. 0.]\n",
      " [0. 1. 0.]\n",
      " [0. 1. 0.]\n",
      " [0. 1. 0.]\n",
      " [0. 1. 0.]\n",
      " [0. 1. 0.]\n",
      " [0. 1. 0.]\n",
      " [0. 1. 0.]\n",
      " [0. 1. 0.]\n",
      " [0. 1. 0.]\n",
      " [0. 1. 0.]\n",
      " [0. 1. 0.]\n",
      " [0. 1. 0.]\n",
      " [0. 1. 0.]\n",
      " [0. 1. 0.]\n",
      " [0. 1. 0.]\n",
      " [0. 1. 0.]\n",
      " [0. 1. 0.]\n",
      " [0. 1. 0.]\n",
      " [0. 1. 0.]\n",
      " [0. 1. 0.]\n",
      " [0. 1. 0.]\n",
      " [0. 1. 0.]\n",
      " [0. 1. 0.]\n",
      " [0. 1. 0.]\n",
      " [0. 1. 0.]\n",
      " [0. 1. 0.]\n",
      " [0. 1. 0.]\n",
      " [0. 1. 0.]\n",
      " [0. 1. 0.]\n",
      " [0. 1. 0.]\n",
      " [0. 1. 0.]\n",
      " [0. 1. 0.]\n",
      " [0. 1. 0.]\n",
      " [0. 1. 0.]\n",
      " [0. 1. 0.]\n",
      " [0. 1. 0.]\n",
      " [0. 1. 0.]\n",
      " [0. 1. 0.]\n",
      " [0. 1. 0.]\n",
      " [0. 1. 0.]\n",
      " [0. 1. 0.]\n",
      " [0. 1. 0.]\n",
      " [0. 1. 0.]\n",
      " [0. 1. 0.]\n",
      " [0. 1. 0.]\n",
      " [0. 1. 0.]\n",
      " [0. 1. 0.]\n",
      " [0. 1. 0.]\n",
      " [0. 1. 0.]\n",
      " [0. 1. 0.]\n",
      " [0. 1. 0.]\n",
      " [0. 0. 1.]\n",
      " [0. 0. 1.]\n",
      " [0. 0. 1.]\n",
      " [0. 0. 1.]\n",
      " [0. 0. 1.]\n",
      " [0. 0. 1.]\n",
      " [0. 0. 1.]\n",
      " [0. 0. 1.]\n",
      " [0. 0. 1.]\n",
      " [0. 0. 1.]\n",
      " [0. 0. 1.]\n",
      " [0. 0. 1.]\n",
      " [0. 0. 1.]\n",
      " [0. 0. 1.]\n",
      " [0. 0. 1.]\n",
      " [0. 0. 1.]\n",
      " [0. 0. 1.]\n",
      " [0. 0. 1.]\n",
      " [0. 0. 1.]\n",
      " [0. 0. 1.]\n",
      " [0. 0. 1.]\n",
      " [0. 0. 1.]\n",
      " [0. 0. 1.]\n",
      " [0. 0. 1.]\n",
      " [0. 0. 1.]\n",
      " [0. 0. 1.]\n",
      " [0. 0. 1.]\n",
      " [0. 0. 1.]\n",
      " [0. 0. 1.]\n",
      " [0. 0. 1.]\n",
      " [0. 0. 1.]\n",
      " [0. 0. 1.]\n",
      " [0. 0. 1.]\n",
      " [0. 0. 1.]\n",
      " [0. 0. 1.]\n",
      " [0. 0. 1.]\n",
      " [0. 0. 1.]\n",
      " [0. 0. 1.]\n",
      " [0. 0. 1.]\n",
      " [0. 0. 1.]\n",
      " [0. 0. 1.]\n",
      " [0. 0. 1.]\n",
      " [0. 0. 1.]\n",
      " [0. 0. 1.]\n",
      " [0. 0. 1.]\n",
      " [0. 0. 1.]\n",
      " [0. 0. 1.]\n",
      " [0. 0. 1.]\n",
      " [0. 0. 1.]\n",
      " [0. 0. 1.]\n",
      " [0. 0. 1.]\n",
      " [0. 0. 1.]\n",
      " [0. 0. 1.]\n",
      " [0. 0. 1.]\n",
      " [0. 0. 1.]\n",
      " [0. 0. 1.]\n",
      " [0. 0. 1.]\n",
      " [0. 0. 1.]\n",
      " [0. 0. 1.]\n",
      " [0. 0. 1.]\n",
      " [0. 0. 1.]\n",
      " [0. 0. 1.]\n",
      " [0. 0. 1.]\n",
      " [0. 0. 1.]\n",
      " [0. 0. 1.]\n",
      " [0. 0. 1.]\n",
      " [0. 0. 1.]\n",
      " [0. 0. 1.]\n",
      " [0. 0. 1.]\n",
      " [0. 0. 1.]\n",
      " [0. 0. 1.]\n",
      " [0. 0. 1.]\n",
      " [0. 0. 1.]\n",
      " [0. 0. 1.]\n",
      " [0. 0. 1.]\n",
      " [0. 0. 1.]\n",
      " [0. 0. 1.]\n",
      " [0. 0. 1.]\n",
      " [0. 0. 1.]\n",
      " [0. 0. 1.]\n",
      " [0. 0. 1.]\n",
      " [0. 0. 1.]\n",
      " [0. 0. 1.]\n",
      " [0. 0. 1.]\n",
      " [0. 0. 1.]\n",
      " [0. 0. 1.]\n",
      " [0. 0. 1.]\n",
      " [0. 0. 1.]\n",
      " [0. 0. 1.]\n",
      " [0. 0. 1.]\n",
      " [0. 0. 1.]\n",
      " [0. 0. 1.]\n",
      " [0. 0. 1.]\n",
      " [0. 0. 1.]\n",
      " [0. 0. 1.]\n",
      " [0. 0. 1.]\n",
      " [0. 0. 1.]\n",
      " [0. 0. 1.]\n",
      " [0. 0. 1.]\n",
      " [0. 0. 1.]]\n"
     ]
    }
   ],
   "source": [
    "from tensorflow.keras.utils import to_categorical\n",
    "y_OHE = to_categorical(y)\n",
    "print(y_OHE)"
   ]
  },
  {
   "cell_type": "markdown",
   "metadata": {
    "id": "3JJFJPv0nU7j"
   },
   "source": [
    "- If we have 300 datapoints, then in Gradient Descent, we pass all these points to compute loss.  \n",
    "  <img src='https://drive.google.com/uc?id=1a3u0i15sF1jZz3-Goez_pmiuNrUIV9Hc'>\n",
    "- So partial derivative of Loss wrt $w_j$ is computed on all points.\n",
    "  <img src='https://drive.google.com/uc?id=1t-6oisCTieSn7zkjTP1AVLlaZHBEH-7q'>\n",
    "- In mini-batch GD, we create batch-size = 32 i.e. out of 300 datapoints 32 points are sampled randomly.\n",
    "- But in this approach there is a problem of missing out on some of the points not being sampled at all."
   ]
  },
  {
   "cell_type": "markdown",
   "metadata": {
    "id": "F8yELQovofaI"
   },
   "source": [
    "- To overcome this, dataset is broken into batch-size of 32 and each set is passed iteratively to the model.\n",
    "- This is called as Epoch. In a single Epoch, the model sees the entire dataset.\n",
    "  <img src='https://drive.google.com/uc?id=1PdCTcQgmm0cQk7l9Ndgzj4O4th6Gvr3n'>\n",
    "\n",
    "\n"
   ]
  },
  {
   "cell_type": "code",
   "execution_count": 148,
   "metadata": {
    "colab": {
     "base_uri": "https://localhost:8080/"
    },
    "id": "7WCwNTMCjLrB",
    "outputId": "d9edc2db-f80d-4c50-dd9d-536b155b1ebe"
   },
   "outputs": [
    {
     "name": "stdout",
     "output_type": "stream",
     "text": [
      "Epoch 1/10\n",
      "\u001b[1m2/2\u001b[0m \u001b[32m━━━━━━━━━━━━━━━━━━━━\u001b[0m\u001b[37m\u001b[0m \u001b[1m0s\u001b[0m 11ms/step - binary_accuracy: 0.9821 - loss: 0.1146\n",
      "Epoch 2/10\n",
      "\u001b[1m2/2\u001b[0m \u001b[32m━━━━━━━━━━━━━━━━━━━━\u001b[0m\u001b[37m\u001b[0m \u001b[1m0s\u001b[0m 11ms/step - binary_accuracy: 0.9829 - loss: 0.1123\n",
      "Epoch 3/10\n",
      "\u001b[1m2/2\u001b[0m \u001b[32m━━━━━━━━━━━━━━━━━━━━\u001b[0m\u001b[37m\u001b[0m \u001b[1m0s\u001b[0m 10ms/step - binary_accuracy: 0.9825 - loss: 0.1128\n",
      "Epoch 4/10\n",
      "\u001b[1m2/2\u001b[0m \u001b[32m━━━━━━━━━━━━━━━━━━━━\u001b[0m\u001b[37m\u001b[0m \u001b[1m0s\u001b[0m 10ms/step - binary_accuracy: 0.9829 - loss: 0.1131\n",
      "Epoch 5/10\n",
      "\u001b[1m2/2\u001b[0m \u001b[32m━━━━━━━━━━━━━━━━━━━━\u001b[0m\u001b[37m\u001b[0m \u001b[1m0s\u001b[0m 12ms/step - binary_accuracy: 0.9825 - loss: 0.1125\n",
      "Epoch 6/10\n",
      "\u001b[1m2/2\u001b[0m \u001b[32m━━━━━━━━━━━━━━━━━━━━\u001b[0m\u001b[37m\u001b[0m \u001b[1m0s\u001b[0m 11ms/step - binary_accuracy: 0.9821 - loss: 0.1144\n",
      "Epoch 7/10\n",
      "\u001b[1m2/2\u001b[0m \u001b[32m━━━━━━━━━━━━━━━━━━━━\u001b[0m\u001b[37m\u001b[0m \u001b[1m0s\u001b[0m 11ms/step - binary_accuracy: 0.9829 - loss: 0.1124\n",
      "Epoch 8/10\n",
      "\u001b[1m2/2\u001b[0m \u001b[32m━━━━━━━━━━━━━━━━━━━━\u001b[0m\u001b[37m\u001b[0m \u001b[1m0s\u001b[0m 10ms/step - binary_accuracy: 0.9825 - loss: 0.1119\n",
      "Epoch 9/10\n",
      "\u001b[1m2/2\u001b[0m \u001b[32m━━━━━━━━━━━━━━━━━━━━\u001b[0m\u001b[37m\u001b[0m \u001b[1m0s\u001b[0m 10ms/step - binary_accuracy: 0.9821 - loss: 0.1148\n",
      "Epoch 10/10\n",
      "\u001b[1m2/2\u001b[0m \u001b[32m━━━━━━━━━━━━━━━━━━━━\u001b[0m\u001b[37m\u001b[0m \u001b[1m0s\u001b[0m 10ms/step - binary_accuracy: 0.9825 - loss: 0.1124\n"
     ]
    }
   ],
   "source": [
    "tf.config.run_functions_eagerly(True)\n",
    "history = model.fit(X, y_OHE, epochs=10, batch_size=256)"
   ]
  },
  {
   "cell_type": "code",
   "execution_count": 149,
   "metadata": {
    "colab": {
     "base_uri": "https://localhost:8080/"
    },
    "id": "YvC6MtwxjOZB",
    "outputId": "e26f1035-d152-4c14-ef05-7c4a1583afec"
   },
   "outputs": [
    {
     "name": "stdout",
     "output_type": "stream",
     "text": [
      "Epoch 1/100\n",
      "\u001b[1m2/2\u001b[0m \u001b[32m━━━━━━━━━━━━━━━━━━━━\u001b[0m\u001b[37m\u001b[0m \u001b[1m0s\u001b[0m 2ms/step - binary_accuracy: 0.9816 - loss: 0.1133  \n",
      "Epoch 2/100\n",
      "\u001b[1m2/2\u001b[0m \u001b[32m━━━━━━━━━━━━━━━━━━━━\u001b[0m\u001b[37m\u001b[0m \u001b[1m0s\u001b[0m 2ms/step - binary_accuracy: 0.9834 - loss: 0.1105\n",
      "Epoch 3/100\n",
      "\u001b[1m2/2\u001b[0m \u001b[32m━━━━━━━━━━━━━━━━━━━━\u001b[0m\u001b[37m\u001b[0m \u001b[1m0s\u001b[0m 2ms/step - binary_accuracy: 0.9825 - loss: 0.1130\n",
      "Epoch 4/100\n",
      "\u001b[1m2/2\u001b[0m \u001b[32m━━━━━━━━━━━━━━━━━━━━\u001b[0m\u001b[37m\u001b[0m \u001b[1m0s\u001b[0m 2ms/step - binary_accuracy: 0.9821 - loss: 0.1142\n",
      "Epoch 5/100\n",
      "\u001b[1m2/2\u001b[0m \u001b[32m━━━━━━━━━━━━━━━━━━━━\u001b[0m\u001b[37m\u001b[0m \u001b[1m0s\u001b[0m 2ms/step - binary_accuracy: 0.9821 - loss: 0.1113\n",
      "Epoch 6/100\n",
      "\u001b[1m2/2\u001b[0m \u001b[32m━━━━━━━━━━━━━━━━━━━━\u001b[0m\u001b[37m\u001b[0m \u001b[1m0s\u001b[0m 2ms/step - binary_accuracy: 0.9816 - loss: 0.1148\n",
      "Epoch 7/100\n",
      "\u001b[1m2/2\u001b[0m \u001b[32m━━━━━━━━━━━━━━━━━━━━\u001b[0m\u001b[37m\u001b[0m \u001b[1m0s\u001b[0m 2ms/step - binary_accuracy: 0.9824 - loss: 0.1139\n",
      "Epoch 8/100\n",
      "\u001b[1m2/2\u001b[0m \u001b[32m━━━━━━━━━━━━━━━━━━━━\u001b[0m\u001b[37m\u001b[0m \u001b[1m0s\u001b[0m 2ms/step - binary_accuracy: 0.9841 - loss: 0.1096\n",
      "Epoch 9/100\n",
      "\u001b[1m2/2\u001b[0m \u001b[32m━━━━━━━━━━━━━━━━━━━━\u001b[0m\u001b[37m\u001b[0m \u001b[1m0s\u001b[0m 2ms/step - binary_accuracy: 0.9832 - loss: 0.1131\n",
      "Epoch 10/100\n",
      "\u001b[1m2/2\u001b[0m \u001b[32m━━━━━━━━━━━━━━━━━━━━\u001b[0m\u001b[37m\u001b[0m \u001b[1m0s\u001b[0m 2ms/step - binary_accuracy: 0.9841 - loss: 0.1100\n",
      "Epoch 11/100\n",
      "\u001b[1m2/2\u001b[0m \u001b[32m━━━━━━━━━━━━━━━━━━━━\u001b[0m\u001b[37m\u001b[0m \u001b[1m0s\u001b[0m 2ms/step - binary_accuracy: 0.9832 - loss: 0.1116\n",
      "Epoch 12/100\n",
      "\u001b[1m2/2\u001b[0m \u001b[32m━━━━━━━━━━━━━━━━━━━━\u001b[0m\u001b[37m\u001b[0m \u001b[1m0s\u001b[0m 2ms/step - binary_accuracy: 0.9837 - loss: 0.1086\n",
      "Epoch 13/100\n",
      "\u001b[1m2/2\u001b[0m \u001b[32m━━━━━━━━━━━━━━━━━━━━\u001b[0m\u001b[37m\u001b[0m \u001b[1m0s\u001b[0m 2ms/step - binary_accuracy: 0.9837 - loss: 0.1098\n",
      "Epoch 14/100\n",
      "\u001b[1m2/2\u001b[0m \u001b[32m━━━━━━━━━━━━━━━━━━━━\u001b[0m\u001b[37m\u001b[0m \u001b[1m0s\u001b[0m 2ms/step - binary_accuracy: 0.9837 - loss: 0.1109\n",
      "Epoch 15/100\n",
      "\u001b[1m2/2\u001b[0m \u001b[32m━━━━━━━━━━━━━━━━━━━━\u001b[0m\u001b[37m\u001b[0m \u001b[1m0s\u001b[0m 2ms/step - binary_accuracy: 0.9837 - loss: 0.1104\n",
      "Epoch 16/100\n",
      "\u001b[1m2/2\u001b[0m \u001b[32m━━━━━━━━━━━━━━━━━━━━\u001b[0m\u001b[37m\u001b[0m \u001b[1m0s\u001b[0m 2ms/step - binary_accuracy: 0.9828 - loss: 0.1130\n",
      "Epoch 17/100\n",
      "\u001b[1m2/2\u001b[0m \u001b[32m━━━━━━━━━━━━━━━━━━━━\u001b[0m\u001b[37m\u001b[0m \u001b[1m0s\u001b[0m 2ms/step - binary_accuracy: 0.9832 - loss: 0.1122\n",
      "Epoch 18/100\n",
      "\u001b[1m2/2\u001b[0m \u001b[32m━━━━━━━━━━━━━━━━━━━━\u001b[0m\u001b[37m\u001b[0m \u001b[1m0s\u001b[0m 2ms/step - binary_accuracy: 0.9837 - loss: 0.1079\n",
      "Epoch 19/100\n",
      "\u001b[1m2/2\u001b[0m \u001b[32m━━━━━━━━━━━━━━━━━━━━\u001b[0m\u001b[37m\u001b[0m \u001b[1m0s\u001b[0m 2ms/step - binary_accuracy: 0.9828 - loss: 0.1122\n",
      "Epoch 20/100\n",
      "\u001b[1m2/2\u001b[0m \u001b[32m━━━━━━━━━━━━━━━━━━━━\u001b[0m\u001b[37m\u001b[0m \u001b[1m0s\u001b[0m 2ms/step - binary_accuracy: 0.9828 - loss: 0.1119\n",
      "Epoch 21/100\n",
      "\u001b[1m2/2\u001b[0m \u001b[32m━━━━━━━━━━━━━━━━━━━━\u001b[0m\u001b[37m\u001b[0m \u001b[1m0s\u001b[0m 2ms/step - binary_accuracy: 0.9845 - loss: 0.1086\n",
      "Epoch 22/100\n",
      "\u001b[1m2/2\u001b[0m \u001b[32m━━━━━━━━━━━━━━━━━━━━\u001b[0m\u001b[37m\u001b[0m \u001b[1m0s\u001b[0m 2ms/step - binary_accuracy: 0.9828 - loss: 0.1130\n",
      "Epoch 23/100\n",
      "\u001b[1m2/2\u001b[0m \u001b[32m━━━━━━━━━━━━━━━━━━━━\u001b[0m\u001b[37m\u001b[0m \u001b[1m0s\u001b[0m 2ms/step - binary_accuracy: 0.9828 - loss: 0.1111\n",
      "Epoch 24/100\n",
      "\u001b[1m2/2\u001b[0m \u001b[32m━━━━━━━━━━━━━━━━━━━━\u001b[0m\u001b[37m\u001b[0m \u001b[1m0s\u001b[0m 2ms/step - binary_accuracy: 0.9837 - loss: 0.1091\n",
      "Epoch 25/100\n",
      "\u001b[1m2/2\u001b[0m \u001b[32m━━━━━━━━━━━━━━━━━━━━\u001b[0m\u001b[37m\u001b[0m \u001b[1m0s\u001b[0m 2ms/step - binary_accuracy: 0.9824 - loss: 0.1142\n",
      "Epoch 26/100\n",
      "\u001b[1m2/2\u001b[0m \u001b[32m━━━━━━━━━━━━━━━━━━━━\u001b[0m\u001b[37m\u001b[0m \u001b[1m0s\u001b[0m 2ms/step - binary_accuracy: 0.9850 - loss: 0.1064\n",
      "Epoch 27/100\n",
      "\u001b[1m2/2\u001b[0m \u001b[32m━━━━━━━━━━━━━━━━━━━━\u001b[0m\u001b[37m\u001b[0m \u001b[1m0s\u001b[0m 2ms/step - binary_accuracy: 0.9828 - loss: 0.1125\n",
      "Epoch 28/100\n",
      "\u001b[1m2/2\u001b[0m \u001b[32m━━━━━━━━━━━━━━━━━━━━\u001b[0m\u001b[37m\u001b[0m \u001b[1m0s\u001b[0m 2ms/step - binary_accuracy: 0.9824 - loss: 0.1136\n",
      "Epoch 29/100\n",
      "\u001b[1m2/2\u001b[0m \u001b[32m━━━━━━━━━━━━━━━━━━━━\u001b[0m\u001b[37m\u001b[0m \u001b[1m0s\u001b[0m 2ms/step - binary_accuracy: 0.9809 - loss: 0.1125\n",
      "Epoch 30/100\n",
      "\u001b[1m2/2\u001b[0m \u001b[32m━━━━━━━━━━━━━━━━━━━━\u001b[0m\u001b[37m\u001b[0m \u001b[1m0s\u001b[0m 2ms/step - binary_accuracy: 0.9809 - loss: 0.1091\n",
      "Epoch 31/100\n",
      "\u001b[1m2/2\u001b[0m \u001b[32m━━━━━━━━━━━━━━━━━━━━\u001b[0m\u001b[37m\u001b[0m \u001b[1m0s\u001b[0m 2ms/step - binary_accuracy: 0.9805 - loss: 0.1104\n",
      "Epoch 32/100\n",
      "\u001b[1m2/2\u001b[0m \u001b[32m━━━━━━━━━━━━━━━━━━━━\u001b[0m\u001b[37m\u001b[0m \u001b[1m0s\u001b[0m 2ms/step - binary_accuracy: 0.9813 - loss: 0.1075\n",
      "Epoch 33/100\n",
      "\u001b[1m2/2\u001b[0m \u001b[32m━━━━━━━━━━━━━━━━━━━━\u001b[0m\u001b[37m\u001b[0m \u001b[1m0s\u001b[0m 2ms/step - binary_accuracy: 0.9828 - loss: 0.1110\n",
      "Epoch 34/100\n",
      "\u001b[1m2/2\u001b[0m \u001b[32m━━━━━━━━━━━━━━━━━━━━\u001b[0m\u001b[37m\u001b[0m \u001b[1m0s\u001b[0m 2ms/step - binary_accuracy: 0.9832 - loss: 0.1091\n",
      "Epoch 35/100\n",
      "\u001b[1m2/2\u001b[0m \u001b[32m━━━━━━━━━━━━━━━━━━━━\u001b[0m\u001b[37m\u001b[0m \u001b[1m0s\u001b[0m 2ms/step - binary_accuracy: 0.9828 - loss: 0.1108\n",
      "Epoch 36/100\n",
      "\u001b[1m2/2\u001b[0m \u001b[32m━━━━━━━━━━━━━━━━━━━━\u001b[0m\u001b[37m\u001b[0m \u001b[1m0s\u001b[0m 2ms/step - binary_accuracy: 0.9832 - loss: 0.1098\n",
      "Epoch 37/100\n",
      "\u001b[1m2/2\u001b[0m \u001b[32m━━━━━━━━━━━━━━━━━━━━\u001b[0m\u001b[37m\u001b[0m \u001b[1m0s\u001b[0m 2ms/step - binary_accuracy: 0.9837 - loss: 0.1085\n",
      "Epoch 38/100\n",
      "\u001b[1m2/2\u001b[0m \u001b[32m━━━━━━━━━━━━━━━━━━━━\u001b[0m\u001b[37m\u001b[0m \u001b[1m0s\u001b[0m 2ms/step - binary_accuracy: 0.9832 - loss: 0.1083\n",
      "Epoch 39/100\n",
      "\u001b[1m2/2\u001b[0m \u001b[32m━━━━━━━━━━━━━━━━━━━━\u001b[0m\u001b[37m\u001b[0m \u001b[1m0s\u001b[0m 2ms/step - binary_accuracy: 0.9837 - loss: 0.1059\n",
      "Epoch 40/100\n",
      "\u001b[1m2/2\u001b[0m \u001b[32m━━━━━━━━━━━━━━━━━━━━\u001b[0m\u001b[37m\u001b[0m \u001b[1m0s\u001b[0m 2ms/step - binary_accuracy: 0.9837 - loss: 0.1063\n",
      "Epoch 41/100\n",
      "\u001b[1m2/2\u001b[0m \u001b[32m━━━━━━━━━━━━━━━━━━━━\u001b[0m\u001b[37m\u001b[0m \u001b[1m0s\u001b[0m 2ms/step - binary_accuracy: 0.9828 - loss: 0.1101\n",
      "Epoch 42/100\n",
      "\u001b[1m2/2\u001b[0m \u001b[32m━━━━━━━━━━━━━━━━━━━━\u001b[0m\u001b[37m\u001b[0m \u001b[1m0s\u001b[0m 2ms/step - binary_accuracy: 0.9832 - loss: 0.1068\n",
      "Epoch 43/100\n",
      "\u001b[1m2/2\u001b[0m \u001b[32m━━━━━━━━━━━━━━━━━━━━\u001b[0m\u001b[37m\u001b[0m \u001b[1m0s\u001b[0m 2ms/step - binary_accuracy: 0.9841 - loss: 0.1056\n",
      "Epoch 44/100\n",
      "\u001b[1m2/2\u001b[0m \u001b[32m━━━━━━━━━━━━━━━━━━━━\u001b[0m\u001b[37m\u001b[0m \u001b[1m0s\u001b[0m 2ms/step - binary_accuracy: 0.9832 - loss: 0.1095\n",
      "Epoch 45/100\n",
      "\u001b[1m2/2\u001b[0m \u001b[32m━━━━━━━━━━━━━━━━━━━━\u001b[0m\u001b[37m\u001b[0m \u001b[1m0s\u001b[0m 2ms/step - binary_accuracy: 0.9828 - loss: 0.1091\n",
      "Epoch 46/100\n",
      "\u001b[1m2/2\u001b[0m \u001b[32m━━━━━━━━━━━━━━━━━━━━\u001b[0m\u001b[37m\u001b[0m \u001b[1m0s\u001b[0m 2ms/step - binary_accuracy: 0.9824 - loss: 0.1112\n",
      "Epoch 47/100\n",
      "\u001b[1m2/2\u001b[0m \u001b[32m━━━━━━━━━━━━━━━━━━━━\u001b[0m\u001b[37m\u001b[0m \u001b[1m0s\u001b[0m 2ms/step - binary_accuracy: 0.9824 - loss: 0.1101\n",
      "Epoch 48/100\n",
      "\u001b[1m2/2\u001b[0m \u001b[32m━━━━━━━━━━━━━━━━━━━━\u001b[0m\u001b[37m\u001b[0m \u001b[1m0s\u001b[0m 2ms/step - binary_accuracy: 0.9832 - loss: 0.1078\n",
      "Epoch 49/100\n",
      "\u001b[1m2/2\u001b[0m \u001b[32m━━━━━━━━━━━━━━━━━━━━\u001b[0m\u001b[37m\u001b[0m \u001b[1m0s\u001b[0m 2ms/step - binary_accuracy: 0.9828 - loss: 0.1100\n",
      "Epoch 50/100\n",
      "\u001b[1m2/2\u001b[0m \u001b[32m━━━━━━━━━━━━━━━━━━━━\u001b[0m\u001b[37m\u001b[0m \u001b[1m0s\u001b[0m 2ms/step - binary_accuracy: 0.9832 - loss: 0.1069\n",
      "Epoch 51/100\n",
      "\u001b[1m2/2\u001b[0m \u001b[32m━━━━━━━━━━━━━━━━━━━━\u001b[0m\u001b[37m\u001b[0m \u001b[1m0s\u001b[0m 2ms/step - binary_accuracy: 0.9832 - loss: 0.1071\n",
      "Epoch 52/100\n",
      "\u001b[1m2/2\u001b[0m \u001b[32m━━━━━━━━━━━━━━━━━━━━\u001b[0m\u001b[37m\u001b[0m \u001b[1m0s\u001b[0m 2ms/step - binary_accuracy: 0.9816 - loss: 0.1095\n",
      "Epoch 53/100\n",
      "\u001b[1m2/2\u001b[0m \u001b[32m━━━━━━━━━━━━━━━━━━━━\u001b[0m\u001b[37m\u001b[0m \u001b[1m0s\u001b[0m 2ms/step - binary_accuracy: 0.9816 - loss: 0.1083\n",
      "Epoch 54/100\n",
      "\u001b[1m2/2\u001b[0m \u001b[32m━━━━━━━━━━━━━━━━━━━━\u001b[0m\u001b[37m\u001b[0m \u001b[1m0s\u001b[0m 2ms/step - binary_accuracy: 0.9832 - loss: 0.1057\n",
      "Epoch 55/100\n",
      "\u001b[1m2/2\u001b[0m \u001b[32m━━━━━━━━━━━━━━━━━━━━\u001b[0m\u001b[37m\u001b[0m \u001b[1m0s\u001b[0m 2ms/step - binary_accuracy: 0.9841 - loss: 0.1039\n",
      "Epoch 56/100\n",
      "\u001b[1m2/2\u001b[0m \u001b[32m━━━━━━━━━━━━━━━━━━━━\u001b[0m\u001b[37m\u001b[0m \u001b[1m0s\u001b[0m 2ms/step - binary_accuracy: 0.9824 - loss: 0.1089\n",
      "Epoch 57/100\n",
      "\u001b[1m2/2\u001b[0m \u001b[32m━━━━━━━━━━━━━━━━━━━━\u001b[0m\u001b[37m\u001b[0m \u001b[1m0s\u001b[0m 2ms/step - binary_accuracy: 0.9828 - loss: 0.1072\n",
      "Epoch 58/100\n",
      "\u001b[1m2/2\u001b[0m \u001b[32m━━━━━━━━━━━━━━━━━━━━\u001b[0m\u001b[37m\u001b[0m \u001b[1m0s\u001b[0m 2ms/step - binary_accuracy: 0.9837 - loss: 0.1051\n",
      "Epoch 59/100\n",
      "\u001b[1m2/2\u001b[0m \u001b[32m━━━━━━━━━━━━━━━━━━━━\u001b[0m\u001b[37m\u001b[0m \u001b[1m0s\u001b[0m 2ms/step - binary_accuracy: 0.9832 - loss: 0.1070\n",
      "Epoch 60/100\n",
      "\u001b[1m2/2\u001b[0m \u001b[32m━━━━━━━━━━━━━━━━━━━━\u001b[0m\u001b[37m\u001b[0m \u001b[1m0s\u001b[0m 2ms/step - binary_accuracy: 0.9828 - loss: 0.1084\n",
      "Epoch 61/100\n",
      "\u001b[1m2/2\u001b[0m \u001b[32m━━━━━━━━━━━━━━━━━━━━\u001b[0m\u001b[37m\u001b[0m \u001b[1m0s\u001b[0m 2ms/step - binary_accuracy: 0.9837 - loss: 0.1055\n",
      "Epoch 62/100\n",
      "\u001b[1m2/2\u001b[0m \u001b[32m━━━━━━━━━━━━━━━━━━━━\u001b[0m\u001b[37m\u001b[0m \u001b[1m0s\u001b[0m 2ms/step - binary_accuracy: 0.9837 - loss: 0.1036\n",
      "Epoch 63/100\n",
      "\u001b[1m2/2\u001b[0m \u001b[32m━━━━━━━━━━━━━━━━━━━━\u001b[0m\u001b[37m\u001b[0m \u001b[1m0s\u001b[0m 2ms/step - binary_accuracy: 0.9837 - loss: 0.1053\n",
      "Epoch 64/100\n",
      "\u001b[1m2/2\u001b[0m \u001b[32m━━━━━━━━━━━━━━━━━━━━\u001b[0m\u001b[37m\u001b[0m \u001b[1m0s\u001b[0m 2ms/step - binary_accuracy: 0.9844 - loss: 0.1056\n",
      "Epoch 65/100\n",
      "\u001b[1m2/2\u001b[0m \u001b[32m━━━━━━━━━━━━━━━━━━━━\u001b[0m\u001b[37m\u001b[0m \u001b[1m0s\u001b[0m 2ms/step - binary_accuracy: 0.9845 - loss: 0.1036\n",
      "Epoch 66/100\n",
      "\u001b[1m2/2\u001b[0m \u001b[32m━━━━━━━━━━━━━━━━━━━━\u001b[0m\u001b[37m\u001b[0m \u001b[1m0s\u001b[0m 2ms/step - binary_accuracy: 0.9837 - loss: 0.1039\n",
      "Epoch 67/100\n",
      "\u001b[1m2/2\u001b[0m \u001b[32m━━━━━━━━━━━━━━━━━━━━\u001b[0m\u001b[37m\u001b[0m \u001b[1m0s\u001b[0m 2ms/step - binary_accuracy: 0.9837 - loss: 0.1027\n",
      "Epoch 68/100\n",
      "\u001b[1m2/2\u001b[0m \u001b[32m━━━━━━━━━━━━━━━━━━━━\u001b[0m\u001b[37m\u001b[0m \u001b[1m0s\u001b[0m 2ms/step - binary_accuracy: 0.9824 - loss: 0.1071\n",
      "Epoch 69/100\n",
      "\u001b[1m2/2\u001b[0m \u001b[32m━━━━━━━━━━━━━━━━━━━━\u001b[0m\u001b[37m\u001b[0m \u001b[1m0s\u001b[0m 2ms/step - binary_accuracy: 0.9824 - loss: 0.1069\n",
      "Epoch 70/100\n",
      "\u001b[1m2/2\u001b[0m \u001b[32m━━━━━━━━━━━━━━━━━━━━\u001b[0m\u001b[37m\u001b[0m \u001b[1m0s\u001b[0m 2ms/step - binary_accuracy: 0.9832 - loss: 0.1047\n",
      "Epoch 71/100\n",
      "\u001b[1m2/2\u001b[0m \u001b[32m━━━━━━━━━━━━━━━━━━━━\u001b[0m\u001b[37m\u001b[0m \u001b[1m0s\u001b[0m 2ms/step - binary_accuracy: 0.9832 - loss: 0.1055\n",
      "Epoch 72/100\n",
      "\u001b[1m2/2\u001b[0m \u001b[32m━━━━━━━━━━━━━━━━━━━━\u001b[0m\u001b[37m\u001b[0m \u001b[1m0s\u001b[0m 2ms/step - binary_accuracy: 0.9832 - loss: 0.1049\n",
      "Epoch 73/100\n",
      "\u001b[1m2/2\u001b[0m \u001b[32m━━━━━━━━━━━━━━━━━━━━\u001b[0m\u001b[37m\u001b[0m \u001b[1m0s\u001b[0m 2ms/step - binary_accuracy: 0.9824 - loss: 0.1077\n",
      "Epoch 74/100\n",
      "\u001b[1m2/2\u001b[0m \u001b[32m━━━━━━━━━━━━━━━━━━━━\u001b[0m\u001b[37m\u001b[0m \u001b[1m0s\u001b[0m 2ms/step - binary_accuracy: 0.9824 - loss: 0.1064\n",
      "Epoch 75/100\n",
      "\u001b[1m2/2\u001b[0m \u001b[32m━━━━━━━━━━━━━━━━━━━━\u001b[0m\u001b[37m\u001b[0m \u001b[1m0s\u001b[0m 2ms/step - binary_accuracy: 0.9824 - loss: 0.1076\n",
      "Epoch 76/100\n",
      "\u001b[1m2/2\u001b[0m \u001b[32m━━━━━━━━━━━━━━━━━━━━\u001b[0m\u001b[37m\u001b[0m \u001b[1m0s\u001b[0m 2ms/step - binary_accuracy: 0.9840 - loss: 0.1062\n",
      "Epoch 77/100\n",
      "\u001b[1m2/2\u001b[0m \u001b[32m━━━━━━━━━━━━━━━━━━━━\u001b[0m\u001b[37m\u001b[0m \u001b[1m0s\u001b[0m 2ms/step - binary_accuracy: 0.9849 - loss: 0.1041\n",
      "Epoch 78/100\n",
      "\u001b[1m2/2\u001b[0m \u001b[32m━━━━━━━━━━━━━━━━━━━━\u001b[0m\u001b[37m\u001b[0m \u001b[1m0s\u001b[0m 2ms/step - binary_accuracy: 0.9844 - loss: 0.1026\n",
      "Epoch 79/100\n",
      "\u001b[1m2/2\u001b[0m \u001b[32m━━━━━━━━━━━━━━━━━━━━\u001b[0m\u001b[37m\u001b[0m \u001b[1m0s\u001b[0m 2ms/step - binary_accuracy: 0.9840 - loss: 0.1048\n",
      "Epoch 80/100\n",
      "\u001b[1m2/2\u001b[0m \u001b[32m━━━━━━━━━━━━━━━━━━━━\u001b[0m\u001b[37m\u001b[0m \u001b[1m0s\u001b[0m 2ms/step - binary_accuracy: 0.9853 - loss: 0.1011\n",
      "Epoch 81/100\n",
      "\u001b[1m2/2\u001b[0m \u001b[32m━━━━━━━━━━━━━━━━━━━━\u001b[0m\u001b[37m\u001b[0m \u001b[1m0s\u001b[0m 2ms/step - binary_accuracy: 0.9853 - loss: 0.1017\n",
      "Epoch 82/100\n",
      "\u001b[1m2/2\u001b[0m \u001b[32m━━━━━━━━━━━━━━━━━━━━\u001b[0m\u001b[37m\u001b[0m \u001b[1m0s\u001b[0m 2ms/step - binary_accuracy: 0.9840 - loss: 0.1058\n",
      "Epoch 83/100\n",
      "\u001b[1m2/2\u001b[0m \u001b[32m━━━━━━━━━━━━━━━━━━━━\u001b[0m\u001b[37m\u001b[0m \u001b[1m0s\u001b[0m 2ms/step - binary_accuracy: 0.9836 - loss: 0.1047\n",
      "Epoch 84/100\n",
      "\u001b[1m2/2\u001b[0m \u001b[32m━━━━━━━━━━━━━━━━━━━━\u001b[0m\u001b[37m\u001b[0m \u001b[1m0s\u001b[0m 2ms/step - binary_accuracy: 0.9844 - loss: 0.1043\n",
      "Epoch 85/100\n",
      "\u001b[1m2/2\u001b[0m \u001b[32m━━━━━━━━━━━━━━━━━━━━\u001b[0m\u001b[37m\u001b[0m \u001b[1m0s\u001b[0m 2ms/step - binary_accuracy: 0.9853 - loss: 0.1011\n",
      "Epoch 86/100\n",
      "\u001b[1m2/2\u001b[0m \u001b[32m━━━━━━━━━━━━━━━━━━━━\u001b[0m\u001b[37m\u001b[0m \u001b[1m0s\u001b[0m 2ms/step - binary_accuracy: 0.9840 - loss: 0.1030\n",
      "Epoch 87/100\n",
      "\u001b[1m2/2\u001b[0m \u001b[32m━━━━━━━━━━━━━━━━━━━━\u001b[0m\u001b[37m\u001b[0m \u001b[1m0s\u001b[0m 2ms/step - binary_accuracy: 0.9844 - loss: 0.1039\n",
      "Epoch 88/100\n",
      "\u001b[1m2/2\u001b[0m \u001b[32m━━━━━━━━━━━━━━━━━━━━\u001b[0m\u001b[37m\u001b[0m \u001b[1m0s\u001b[0m 2ms/step - binary_accuracy: 0.9840 - loss: 0.1033\n",
      "Epoch 89/100\n",
      "\u001b[1m2/2\u001b[0m \u001b[32m━━━━━━━━━━━━━━━━━━━━\u001b[0m\u001b[37m\u001b[0m \u001b[1m0s\u001b[0m 2ms/step - binary_accuracy: 0.9836 - loss: 0.1063\n",
      "Epoch 90/100\n",
      "\u001b[1m2/2\u001b[0m \u001b[32m━━━━━━━━━━━━━━━━━━━━\u001b[0m\u001b[37m\u001b[0m \u001b[1m0s\u001b[0m 2ms/step - binary_accuracy: 0.9844 - loss: 0.1014\n",
      "Epoch 91/100\n",
      "\u001b[1m2/2\u001b[0m \u001b[32m━━━━━━━━━━━━━━━━━━━━\u001b[0m\u001b[37m\u001b[0m \u001b[1m0s\u001b[0m 2ms/step - binary_accuracy: 0.9840 - loss: 0.1031\n",
      "Epoch 92/100\n",
      "\u001b[1m2/2\u001b[0m \u001b[32m━━━━━━━━━━━━━━━━━━━━\u001b[0m\u001b[37m\u001b[0m \u001b[1m0s\u001b[0m 2ms/step - binary_accuracy: 0.9844 - loss: 0.1022\n",
      "Epoch 93/100\n",
      "\u001b[1m2/2\u001b[0m \u001b[32m━━━━━━━━━━━━━━━━━━━━\u001b[0m\u001b[37m\u001b[0m \u001b[1m0s\u001b[0m 2ms/step - binary_accuracy: 0.9844 - loss: 0.1004\n",
      "Epoch 94/100\n",
      "\u001b[1m2/2\u001b[0m \u001b[32m━━━━━━━━━━━━━━━━━━━━\u001b[0m\u001b[37m\u001b[0m \u001b[1m0s\u001b[0m 2ms/step - binary_accuracy: 0.9849 - loss: 0.1002\n",
      "Epoch 95/100\n",
      "\u001b[1m2/2\u001b[0m \u001b[32m━━━━━━━━━━━━━━━━━━━━\u001b[0m\u001b[37m\u001b[0m \u001b[1m0s\u001b[0m 2ms/step - binary_accuracy: 0.9840 - loss: 0.1012\n",
      "Epoch 96/100\n",
      "\u001b[1m2/2\u001b[0m \u001b[32m━━━━━━━━━━━━━━━━━━━━\u001b[0m\u001b[37m\u001b[0m \u001b[1m0s\u001b[0m 2ms/step - binary_accuracy: 0.9840 - loss: 0.1023\n",
      "Epoch 97/100\n",
      "\u001b[1m2/2\u001b[0m \u001b[32m━━━━━━━━━━━━━━━━━━━━\u001b[0m\u001b[37m\u001b[0m \u001b[1m0s\u001b[0m 2ms/step - binary_accuracy: 0.9840 - loss: 0.1033\n",
      "Epoch 98/100\n",
      "\u001b[1m2/2\u001b[0m \u001b[32m━━━━━━━━━━━━━━━━━━━━\u001b[0m\u001b[37m\u001b[0m \u001b[1m0s\u001b[0m 2ms/step - binary_accuracy: 0.9857 - loss: 0.0957\n",
      "Epoch 99/100\n",
      "\u001b[1m2/2\u001b[0m \u001b[32m━━━━━━━━━━━━━━━━━━━━\u001b[0m\u001b[37m\u001b[0m \u001b[1m0s\u001b[0m 2ms/step - binary_accuracy: 0.9844 - loss: 0.1015\n",
      "Epoch 100/100\n",
      "\u001b[1m2/2\u001b[0m \u001b[32m━━━━━━━━━━━━━━━━━━━━\u001b[0m\u001b[37m\u001b[0m \u001b[1m0s\u001b[0m 2ms/step - binary_accuracy: 0.9844 - loss: 0.1016\n"
     ]
    }
   ],
   "source": [
    "tf.config.run_functions_eagerly(False)\n",
    "history = model.fit(X, y_OHE, epochs=100, batch_size=256)"
   ]
  },
  {
   "cell_type": "code",
   "execution_count": 150,
   "metadata": {
    "colab": {
     "base_uri": "https://localhost:8080/"
    },
    "id": "-b_9cI2UjQ6g",
    "outputId": "050f1268-b125-4995-82c2-520d74ac905a"
   },
   "outputs": [],
   "source": [
    "# tf.config.run_functions_eagerly(True)\n",
    "# history = model.fit(X, y_OHE, epochs=1000, batch_size=256)"
   ]
  },
  {
   "cell_type": "markdown",
   "metadata": {
    "id": "jq1Cc9ZapFl2"
   },
   "source": [
    "As number of iterations increases, loss keeps on increasing and we get a very good accuracy."
   ]
  }
 ],
 "metadata": {
  "colab": {
   "provenance": []
  },
  "kernelspec": {
   "display_name": "Python 3 (ipykernel)",
   "language": "python",
   "name": "python3"
  },
  "language_info": {
   "codemirror_mode": {
    "name": "ipython",
    "version": 3
   },
   "file_extension": ".py",
   "mimetype": "text/x-python",
   "name": "python",
   "nbconvert_exporter": "python",
   "pygments_lexer": "ipython3",
   "version": "3.11.9"
  }
 },
 "nbformat": 4,
 "nbformat_minor": 4
}
