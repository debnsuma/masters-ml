{
 "cells": [
  {
   "cell_type": "markdown",
   "id": "c2085408-a934-48cb-9ba2-788991097c2a",
   "metadata": {},
   "source": [
    "# Froward and Backpropagation"
   ]
  },
  {
   "cell_type": "markdown",
   "id": "7e305c9d-4c27-425f-a5f5-f5b336e8f3c2",
   "metadata": {},
   "source": [
    "## Q2. Forward propagation\n"
   ]
  },
  {
   "cell_type": "code",
   "execution_count": 56,
   "id": "1d824540-c4e1-4135-99a0-4135deae377b",
   "metadata": {},
   "outputs": [
    {
     "name": "stdout",
     "output_type": "stream",
     "text": [
      "[1 1 1 1 1 1 1 1 1 1 1 1 0 1 1 1 1 1 1 0 1 1 1 1 1 1 1 1 1 1 1 1 1 1 1 1 1\n",
      " 1 1 1 1 1 0 1 1 1 1 1 1 0 1 1 1 1 1 1 1 1 1 1 1 1 1 1 1 1 1 1 1 1 1 1 1 1\n",
      " 1 0 1 1 1 1 0 0 1 1 1 1 1 1 1 1 0 1 1 1 1 1 1 1 0 1]\n"
     ]
    }
   ],
   "source": [
    "import numpy as np\n",
    "np.random.seed(2)\n",
    "\n",
    "# #independent variables\n",
    "# X = np.array(eval(input()))\n",
    "# #dependent variable\n",
    "# y = np.array(eval(input()))\n",
    "\n",
    "m = X.shape[0]  #no. of samples\n",
    "n = X.shape[1]  #no. of features\n",
    "c = len(np.unique(y))  #no. of classes in the data and therefore no. of neurons in the layer\n",
    "\n",
    "#weight vector of dimension (number of features, number of neurons in the layer)\n",
    "w = np.random.randn(n, c)\n",
    "\n",
    "#bias vector of dimension (1, number of neurons in the layer)\n",
    "b = np.zeros((1, c))\n",
    "\n",
    "#(weighted sum + bias) of dimension (number of samples, number of classes)\n",
    "z = np.dot(X, w) + b\n",
    "\n",
    "#exponential transformation of z\n",
    "a = np.exp(z)\n",
    "\n",
    "#Perform the softmax on a\n",
    "a = a / np.sum(a, axis=1, keepdims=True)\n",
    "\n",
    "#calculate the label for each observation\n",
    "y_hat = np.argmax(a, axis=1)\n",
    "\n",
    "print(y_hat)"
   ]
  },
  {
   "cell_type": "code",
   "execution_count": 58,
   "id": "aacf5618-6215-4525-9dd6-6a01c7e2b673",
   "metadata": {},
   "outputs": [],
   "source": [
    "m = X.shape[0]  #no. of samples\n",
    "n = X.shape[1]  #no. of features\n",
    "c = len(np.unique(y))  #no. of classes in the data and therefore no. of neurons in the layer\n",
    "\n",
    "#weight vector of dimension (number of features, number of neurons in the layer)\n",
    "w = np.random.randn(n, c)\n",
    "\n",
    "#bias vector of dimension (1, number of neurons in the layer)\n",
    "b = np.zeros((1, c))\n",
    "\n",
    "#(weighted sum + bias) of dimension (number of samples, number of classes)\n",
    "z = np.dot(X, w) + b\n",
    "\n",
    "#exponential transformation of z\n",
    "a = np.exp(z)"
   ]
  },
  {
   "cell_type": "code",
   "execution_count": 60,
   "id": "e09ddd34-75e5-461c-afb7-8ba61efa2ac8",
   "metadata": {},
   "outputs": [
    {
     "data": {
      "text/plain": [
       "array([[-1.05795222, -0.90900761],\n",
       "       [ 0.55145404,  2.29220801],\n",
       "       [ 0.04153939, -1.11792545],\n",
       "       [ 0.53905832, -0.5961597 ]])"
      ]
     },
     "execution_count": 60,
     "metadata": {},
     "output_type": "execute_result"
    }
   ],
   "source": [
    "w"
   ]
  },
  {
   "cell_type": "code",
   "execution_count": 61,
   "id": "274dbdf1-c936-4904-9a52-adaad2fffd42",
   "metadata": {
    "scrolled": true
   },
   "outputs": [
    {
     "data": {
      "text/plain": [
       "array([[100, 129, 157, 133],\n",
       "       [168, 150,  30,  19],\n",
       "       [  4, 148, 106,  74],\n",
       "       [123, 195,  60,  93],\n",
       "       [169,  40, 188, 179],\n",
       "       [ 40,  59,  29,  94],\n",
       "       [165, 126,  16,  99],\n",
       "       [167, 157,  65,  23],\n",
       "       [128,  87,  37, 111],\n",
       "       [191, 154,  89, 134],\n",
       "       [101,  41, 145, 112],\n",
       "       [ 43, 110, 197, 118],\n",
       "       [147,  22, 109, 139],\n",
       "       [ 11, 161, 135, 119],\n",
       "       [ 26,  48, 199, 182],\n",
       "       [ 96, 100,  82,  87],\n",
       "       [149,   2,   8,  10],\n",
       "       [  5,  38, 166, 100],\n",
       "       [193, 117,  59, 164],\n",
       "       [133,   5,  38, 163],\n",
       "       [ 88, 177,  84, 114],\n",
       "       [  9, 132, 177,  24],\n",
       "       [ 94, 130,  83, 131],\n",
       "       [ 77,  11, 141,  81],\n",
       "       [154, 198, 175,  98],\n",
       "       [ 21, 148, 170, 122],\n",
       "       [185, 145, 101, 183],\n",
       "       [100, 196, 111,  11],\n",
       "       [ 97, 147, 112,  11],\n",
       "       [ 25,  97,  95,  45],\n",
       "       [  6,  89,  88,  38],\n",
       "       [ 51,  16, 151,   3],\n",
       "       [ 90, 174, 122, 157],\n",
       "       [  2, 133, 121, 199],\n",
       "       [ 15,  78, 163, 180],\n",
       "       [103, 118,   7, 179],\n",
       "       [102, 179, 157, 183],\n",
       "       [113, 139, 195, 122],\n",
       "       [ 55,  88,  68, 117],\n",
       "       [115, 185,  93, 102],\n",
       "       [139,  82,   3, 165],\n",
       "       [135,  29,  78,  11],\n",
       "       [ 11,  16,  60, 123],\n",
       "       [103, 191, 187, 129],\n",
       "       [146, 181,  28, 192],\n",
       "       [ 85,  73, 136, 139],\n",
       "       [117, 179,  81, 183],\n",
       "       [ 15, 131, 106,  28],\n",
       "       [ 58,  78, 111,  65],\n",
       "       [ 76,  11,  25, 103],\n",
       "       [ 11,  90, 162, 129],\n",
       "       [144,   1,  16,  33],\n",
       "       [ 33, 172,  40,  72],\n",
       "       [106,  83, 160, 151],\n",
       "       [ 68, 159, 150,  64],\n",
       "       [ 31,  79,  83,  15],\n",
       "       [ 51, 140, 173,  10],\n",
       "       [105,  80,  70,  21],\n",
       "       [195,  80,  64, 129],\n",
       "       [ 50,  96, 107,  82],\n",
       "       [185, 150,  15, 143],\n",
       "       [ 28,  71,  27,  57],\n",
       "       [ 58,  13, 146,  78],\n",
       "       [ 20,  71, 183,  44],\n",
       "       [ 91,  44,  15,  87],\n",
       "       [ 77, 157,  95, 110],\n",
       "       [132,  28, 193,  49],\n",
       "       [177,  87,  57,  41],\n",
       "       [194, 175,  17,  20],\n",
       "       [166,  64, 134, 150],\n",
       "       [ 79,  74, 162, 168],\n",
       "       [166, 149,  34, 117],\n",
       "       [160, 170, 127,  44],\n",
       "       [ 99,  41, 103, 155],\n",
       "       [ 48, 127, 138,  68],\n",
       "       [ 17,   3, 101,  94],\n",
       "       [ 29, 102, 123, 158],\n",
       "       [194,  60, 135, 179],\n",
       "       [ 73, 192, 145, 168],\n",
       "       [ 21,  94, 154, 143],\n",
       "       [ 17,  10, 145, 131],\n",
       "       [ 73,  29, 195, 199],\n",
       "       [132, 189,  90, 100],\n",
       "       [134,  32,  81, 119],\n",
       "       [118,  37, 119,  27],\n",
       "       [ 51,  78, 187,  86],\n",
       "       [ 95,   8,  56,  29],\n",
       "       [156, 162, 186, 127],\n",
       "       [126, 111, 144,  59],\n",
       "       [  7, 140,  32,  75],\n",
       "       [ 40,   0, 109,  92],\n",
       "       [165, 175,  61, 103],\n",
       "       [178,  68, 185, 119],\n",
       "       [132, 105,  36,  80],\n",
       "       [165, 117,  35, 176],\n",
       "       [128,  49, 185,   9],\n",
       "       [ 50, 176,  12, 198],\n",
       "       [124, 164,  99, 102],\n",
       "       [ 36,  30, 114, 147],\n",
       "       [166, 172,  35,  14]])"
      ]
     },
     "execution_count": 61,
     "metadata": {},
     "output_type": "execute_result"
    }
   ],
   "source": [
    "X"
   ]
  },
  {
   "cell_type": "code",
   "execution_count": 62,
   "id": "4534b4d1-ad29-48b5-99fa-59b02f72e866",
   "metadata": {},
   "outputs": [
    {
     "data": {
      "text/plain": [
       "((4, 2), (100, 4))"
      ]
     },
     "execution_count": 62,
     "metadata": {},
     "output_type": "execute_result"
    }
   ],
   "source": [
    "w.shape, X.shape"
   ]
  },
  {
   "cell_type": "code",
   "execution_count": 63,
   "id": "64ec55f3-e8e1-49da-935b-2be6e204c04e",
   "metadata": {},
   "outputs": [
    {
     "data": {
      "text/plain": [
       "(100, 2)"
      ]
     },
     "execution_count": 63,
     "metadata": {},
     "output_type": "execute_result"
    }
   ],
   "source": [
    "z.shape"
   ]
  },
  {
   "cell_type": "code",
   "execution_count": 64,
   "id": "ba0d89be-2a10-451b-b9be-f0bb81a5cf89",
   "metadata": {},
   "outputs": [
    {
     "data": {
      "text/plain": [
       "(1, 2)"
      ]
     },
     "execution_count": 64,
     "metadata": {},
     "output_type": "execute_result"
    }
   ],
   "source": [
    "b.shape"
   ]
  },
  {
   "cell_type": "code",
   "execution_count": 65,
   "id": "3b73ba94-fd5d-4aaa-8826-1e5c191b257c",
   "metadata": {},
   "outputs": [
    {
     "data": {
      "text/plain": [
       "array([[0., 0.]])"
      ]
     },
     "execution_count": 65,
     "metadata": {},
     "output_type": "execute_result"
    }
   ],
   "source": [
    "b"
   ]
  },
  {
   "cell_type": "code",
   "execution_count": 66,
   "id": "04b28238-7a53-411b-a47d-170c0ba16fc5",
   "metadata": {},
   "outputs": [
    {
     "ename": "ValueError",
     "evalue": "operands could not be broadcast together with shapes (10,6) (6,1) ",
     "output_type": "error",
     "traceback": [
      "\u001b[0;31m---------------------------------------------------------------------------\u001b[0m",
      "\u001b[0;31mValueError\u001b[0m                                Traceback (most recent call last)",
      "Cell \u001b[0;32mIn[66], line 8\u001b[0m\n\u001b[1;32m      5\u001b[0m y \u001b[38;5;241m=\u001b[39m np\u001b[38;5;241m.\u001b[39mrandom\u001b[38;5;241m.\u001b[39mrand(\u001b[38;5;241m6\u001b[39m, \u001b[38;5;241m1\u001b[39m)   \u001b[38;5;66;03m# Example data for y\u001b[39;00m\n\u001b[1;32m      7\u001b[0m \u001b[38;5;66;03m# Vectorized operation for element-wise addition\u001b[39;00m\n\u001b[0;32m----> 8\u001b[0m z \u001b[38;5;241m=\u001b[39m x \u001b[38;5;241m+\u001b[39m y\n\u001b[1;32m     10\u001b[0m \u001b[38;5;28mprint\u001b[39m(z)\n",
      "\u001b[0;31mValueError\u001b[0m: operands could not be broadcast together with shapes (10,6) (6,1) "
     ]
    }
   ],
   "source": [
    "import numpy as np\n",
    "\n",
    "# Assuming the shapes of x and y are (10, 6) and (6, 1) respectively\n",
    "x = np.random.rand(10, 6)  # Example data for x\n",
    "y = np.random.rand(6, 1)   # Example data for y\n",
    "\n",
    "# Vectorized operation for element-wise addition\n",
    "z = x + y\n",
    "\n",
    "print(z)\n"
   ]
  },
  {
   "cell_type": "code",
   "execution_count": 69,
   "id": "88ddbd68-619f-48f1-97a3-b05937398a42",
   "metadata": {},
   "outputs": [
    {
     "data": {
      "text/plain": [
       "(10, 6)"
      ]
     },
     "execution_count": 69,
     "metadata": {},
     "output_type": "execute_result"
    }
   ],
   "source": [
    "x.shape"
   ]
  },
  {
   "cell_type": "code",
   "execution_count": 70,
   "id": "0ba86b75-37bf-4b62-bd8b-d32d11a6aba2",
   "metadata": {},
   "outputs": [
    {
     "data": {
      "text/plain": [
       "(6, 1)"
      ]
     },
     "execution_count": 70,
     "metadata": {},
     "output_type": "execute_result"
    }
   ],
   "source": [
    "y.shape"
   ]
  },
  {
   "cell_type": "code",
   "execution_count": 71,
   "id": "e5e7cde6-1e25-4b94-a215-2d6a4dbaa041",
   "metadata": {},
   "outputs": [
    {
     "data": {
      "text/plain": [
       "array([[0.85397529, 0.49423684, 0.84656149, 0.07964548, 0.50524609,\n",
       "        0.0652865 ],\n",
       "       [0.42812233, 0.09653092, 0.12715997, 0.59674531, 0.226012  ,\n",
       "        0.10694568],\n",
       "       [0.22030621, 0.34982629, 0.46778748, 0.20174323, 0.64040673,\n",
       "        0.48306984],\n",
       "       [0.50523672, 0.38689265, 0.79363745, 0.58000418, 0.1622986 ,\n",
       "        0.70075235],\n",
       "       [0.96455108, 0.50000836, 0.88952006, 0.34161365, 0.56714413,\n",
       "        0.42754596],\n",
       "       [0.43674726, 0.77655918, 0.53560417, 0.95374223, 0.54420816,\n",
       "        0.08209492],\n",
       "       [0.3663424 , 0.8508505 , 0.40627504, 0.02720237, 0.24717724,\n",
       "        0.06714437],\n",
       "       [0.99385201, 0.97058031, 0.80025835, 0.60181712, 0.76495986,\n",
       "        0.16922545],\n",
       "       [0.29302323, 0.52406688, 0.35662428, 0.04567897, 0.98315345,\n",
       "        0.44135492],\n",
       "       [0.50400044, 0.32354132, 0.25974475, 0.38688989, 0.8320169 ,\n",
       "        0.73674706]])"
      ]
     },
     "execution_count": 71,
     "metadata": {},
     "output_type": "execute_result"
    }
   ],
   "source": [
    "x"
   ]
  },
  {
   "cell_type": "code",
   "execution_count": 72,
   "id": "2e43d5c7-6c84-449a-86db-57dca91ed20c",
   "metadata": {},
   "outputs": [
    {
     "data": {
      "text/plain": [
       "array([[0.37921057],\n",
       "       [0.01301734],\n",
       "       [0.79740494],\n",
       "       [0.2693888 ],\n",
       "       [0.58268489],\n",
       "       [0.02555094]])"
      ]
     },
     "execution_count": 72,
     "metadata": {},
     "output_type": "execute_result"
    }
   ],
   "source": [
    "y"
   ]
  },
  {
   "cell_type": "code",
   "execution_count": 73,
   "id": "f662ac9b-ce93-4195-9bea-ae2423010b74",
   "metadata": {},
   "outputs": [
    {
     "data": {
      "text/plain": [
       "array([[0.37921057, 0.01301734, 0.79740494, 0.2693888 , 0.58268489,\n",
       "        0.02555094]])"
      ]
     },
     "execution_count": 73,
     "metadata": {},
     "output_type": "execute_result"
    }
   ],
   "source": [
    "y.T"
   ]
  },
  {
   "cell_type": "code",
   "execution_count": 74,
   "id": "11d074d8-94ba-40de-8bb4-7b6afd5e7a76",
   "metadata": {},
   "outputs": [
    {
     "data": {
      "text/plain": [
       "array([[1.23318586, 0.50725417, 1.64396642, 0.34903427, 1.08793098,\n",
       "        0.09083745],\n",
       "       [0.80733289, 0.10954825, 0.92456491, 0.86613411, 0.80869689,\n",
       "        0.13249663],\n",
       "       [0.59951677, 0.36284362, 1.26519242, 0.47113202, 1.22309161,\n",
       "        0.50862078],\n",
       "       [0.88444729, 0.39990999, 1.59104239, 0.84939298, 0.74498349,\n",
       "        0.72630329],\n",
       "       [1.34376165, 0.5130257 , 1.686925  , 0.61100245, 1.14982902,\n",
       "        0.45309691],\n",
       "       [0.81595783, 0.78957652, 1.33300911, 1.22313102, 1.12689305,\n",
       "        0.10764586],\n",
       "       [0.74555297, 0.86386784, 1.20367998, 0.29659116, 0.82986213,\n",
       "        0.09269531],\n",
       "       [1.37306258, 0.98359765, 1.59766329, 0.87120592, 1.34764475,\n",
       "        0.19477639],\n",
       "       [0.6722338 , 0.53708421, 1.15402922, 0.31506776, 1.56583833,\n",
       "        0.46690586],\n",
       "       [0.88321101, 0.33655865, 1.05714969, 0.65627868, 1.41470179,\n",
       "        0.762298  ]])"
      ]
     },
     "execution_count": 74,
     "metadata": {},
     "output_type": "execute_result"
    }
   ],
   "source": [
    "x +y.T"
   ]
  },
  {
   "cell_type": "code",
   "execution_count": 84,
   "id": "c553e963-c1b9-44e4-8c55-21a3fb4a362e",
   "metadata": {},
   "outputs": [],
   "source": [
    "z=(0.5*0.5)-(0.45*0.35)+0.15"
   ]
  },
  {
   "cell_type": "code",
   "execution_count": 85,
   "id": "c713ecd5-d5ba-406a-98a9-bdbb13c4f975",
   "metadata": {},
   "outputs": [
    {
     "data": {
      "text/plain": [
       "0.2425"
      ]
     },
     "execution_count": 85,
     "metadata": {},
     "output_type": "execute_result"
    }
   ],
   "source": [
    "z"
   ]
  },
  {
   "cell_type": "code",
   "execution_count": 86,
   "id": "0c70b252-77a4-4732-8704-5739e0ca877a",
   "metadata": {},
   "outputs": [
    {
     "data": {
      "text/plain": [
       "0.5603296426885532"
      ]
     },
     "execution_count": 86,
     "metadata": {},
     "output_type": "execute_result"
    }
   ],
   "source": [
    "1/(1+np.exp(-z))"
   ]
  },
  {
   "cell_type": "code",
   "execution_count": null,
   "id": "9e449a87-36fb-4747-9d16-96cbaa91a682",
   "metadata": {},
   "outputs": [],
   "source": []
  }
 ],
 "metadata": {
  "kernelspec": {
   "display_name": "Python 3 (ipykernel)",
   "language": "python",
   "name": "python3"
  },
  "language_info": {
   "codemirror_mode": {
    "name": "ipython",
    "version": 3
   },
   "file_extension": ".py",
   "mimetype": "text/x-python",
   "name": "python",
   "nbconvert_exporter": "python",
   "pygments_lexer": "ipython3",
   "version": "3.11.7"
  }
 },
 "nbformat": 4,
 "nbformat_minor": 5
}
