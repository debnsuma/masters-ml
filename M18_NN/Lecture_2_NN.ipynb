{
 "cells": [
  {
   "cell_type": "code",
   "execution_count": 1,
   "metadata": {
    "colab": {
     "base_uri": "https://localhost:8080/",
     "height": 278
    },
    "id": "w3DKys535wWE",
    "outputId": "e77fdc09-6b62-484d-ae73-6de4e983e6e5"
   },
   "outputs": [
    {
     "data": {
      "text/html": [
       "<div>\n",
       "<style scoped>\n",
       "    .dataframe tbody tr th:only-of-type {\n",
       "        vertical-align: middle;\n",
       "    }\n",
       "\n",
       "    .dataframe tbody tr th {\n",
       "        vertical-align: top;\n",
       "    }\n",
       "\n",
       "    .dataframe thead th {\n",
       "        text-align: right;\n",
       "    }\n",
       "</style>\n",
       "<table border=\"1\" class=\"dataframe\">\n",
       "  <thead>\n",
       "    <tr style=\"text-align: right;\">\n",
       "      <th></th>\n",
       "      <th>x1</th>\n",
       "      <th>x2</th>\n",
       "      <th>y</th>\n",
       "    </tr>\n",
       "  </thead>\n",
       "  <tbody>\n",
       "    <tr>\n",
       "      <th>0</th>\n",
       "      <td>0.000000</td>\n",
       "      <td>0.000000</td>\n",
       "      <td>0</td>\n",
       "    </tr>\n",
       "    <tr>\n",
       "      <th>1</th>\n",
       "      <td>-0.000650</td>\n",
       "      <td>0.010080</td>\n",
       "      <td>0</td>\n",
       "    </tr>\n",
       "    <tr>\n",
       "      <th>2</th>\n",
       "      <td>0.009809</td>\n",
       "      <td>0.017661</td>\n",
       "      <td>0</td>\n",
       "    </tr>\n",
       "    <tr>\n",
       "      <th>3</th>\n",
       "      <td>0.007487</td>\n",
       "      <td>0.029364</td>\n",
       "      <td>0</td>\n",
       "    </tr>\n",
       "    <tr>\n",
       "      <th>4</th>\n",
       "      <td>-0.000027</td>\n",
       "      <td>0.040404</td>\n",
       "      <td>0</td>\n",
       "    </tr>\n",
       "  </tbody>\n",
       "</table>\n",
       "</div>"
      ],
      "text/plain": [
       "         x1        x2  y\n",
       "0  0.000000  0.000000  0\n",
       "1 -0.000650  0.010080  0\n",
       "2  0.009809  0.017661  0\n",
       "3  0.007487  0.029364  0\n",
       "4 -0.000027  0.040404  0"
      ]
     },
     "execution_count": 1,
     "metadata": {},
     "output_type": "execute_result"
    }
   ],
   "source": [
    "import pandas as pd\n",
    "import matplotlib.pyplot as plt\n",
    "import numpy as np\n",
    "\n",
    "df = pd.read_csv(\"../dataset/spiral.csv\")\n",
    "df.head()"
   ]
  },
  {
   "cell_type": "code",
   "execution_count": 2,
   "metadata": {
    "colab": {
     "base_uri": "https://localhost:8080/"
    },
    "id": "ls_Xw82A582F",
    "outputId": "0a77cd27-8c51-4231-fca8-9e8ce1c7fdcd"
   },
   "outputs": [
    {
     "data": {
      "text/plain": [
       "(300, 3)"
      ]
     },
     "execution_count": 2,
     "metadata": {},
     "output_type": "execute_result"
    }
   ],
   "source": [
    "df.shape"
   ]
  },
  {
   "cell_type": "code",
   "execution_count": 3,
   "metadata": {
    "colab": {
     "base_uri": "https://localhost:8080/",
     "height": 206
    },
    "id": "zilgy2MzL-Jb",
    "outputId": "c049279c-79d6-4661-e1f7-e900a989de51"
   },
   "outputs": [
    {
     "data": {
      "text/html": [
       "<div>\n",
       "<style scoped>\n",
       "    .dataframe tbody tr th:only-of-type {\n",
       "        vertical-align: middle;\n",
       "    }\n",
       "\n",
       "    .dataframe tbody tr th {\n",
       "        vertical-align: top;\n",
       "    }\n",
       "\n",
       "    .dataframe thead th {\n",
       "        text-align: right;\n",
       "    }\n",
       "</style>\n",
       "<table border=\"1\" class=\"dataframe\">\n",
       "  <thead>\n",
       "    <tr style=\"text-align: right;\">\n",
       "      <th></th>\n",
       "      <th>x1</th>\n",
       "      <th>x2</th>\n",
       "      <th>y</th>\n",
       "    </tr>\n",
       "  </thead>\n",
       "  <tbody>\n",
       "    <tr>\n",
       "      <th>295</th>\n",
       "      <td>-0.829548</td>\n",
       "      <td>0.482363</td>\n",
       "      <td>2</td>\n",
       "    </tr>\n",
       "    <tr>\n",
       "      <th>296</th>\n",
       "      <td>-0.753207</td>\n",
       "      <td>0.610731</td>\n",
       "      <td>2</td>\n",
       "    </tr>\n",
       "    <tr>\n",
       "      <th>297</th>\n",
       "      <td>-0.631949</td>\n",
       "      <td>0.748762</td>\n",
       "      <td>2</td>\n",
       "    </tr>\n",
       "    <tr>\n",
       "      <th>298</th>\n",
       "      <td>-0.581099</td>\n",
       "      <td>0.801389</td>\n",
       "      <td>2</td>\n",
       "    </tr>\n",
       "    <tr>\n",
       "      <th>299</th>\n",
       "      <td>-0.476268</td>\n",
       "      <td>0.879300</td>\n",
       "      <td>2</td>\n",
       "    </tr>\n",
       "  </tbody>\n",
       "</table>\n",
       "</div>"
      ],
      "text/plain": [
       "           x1        x2  y\n",
       "295 -0.829548  0.482363  2\n",
       "296 -0.753207  0.610731  2\n",
       "297 -0.631949  0.748762  2\n",
       "298 -0.581099  0.801389  2\n",
       "299 -0.476268  0.879300  2"
      ]
     },
     "execution_count": 3,
     "metadata": {},
     "output_type": "execute_result"
    }
   ],
   "source": [
    "df.tail()"
   ]
  },
  {
   "cell_type": "code",
   "execution_count": 7,
   "metadata": {
    "colab": {
     "base_uri": "https://localhost:8080/",
     "height": 435
    },
    "id": "OuZBGcm35w9K",
    "outputId": "0e2b985b-9972-4200-b685-4b796d377b7b"
   },
   "outputs": [
    {
     "data": {
      "image/png": "[encoded data removed]",
      "text/plain": [
       "<Figure size 640x480 with 1 Axes>"
      ]
     },
     "metadata": {},
     "output_type": "display_data"
    }
   ],
   "source": [
    "plt.scatter(df[\"x1\"], df[\"x2\"], c=df[\"y\"], s=40, cmap=plt.cm.Spectral)\n",
    "plt.show()"
   ]
  },
  {
   "cell_type": "code",
   "execution_count": 8,
   "metadata": {
    "id": "PLH_XIxp51s3"
   },
   "outputs": [],
   "source": [
    "# Separating feature and label columns\n",
    "X = df.iloc[:, :-1].to_numpy()\n",
    "y = df.iloc[:, -1].to_numpy()"
   ]
  },
  {
   "cell_type": "code",
   "execution_count": 15,
   "metadata": {},
   "outputs": [
    {
     "data": {
      "text/plain": [
       "array([[ 0.00000000e+00,  0.00000000e+00],\n",
       "       [-6.50123964e-04,  1.00800667e-02],\n",
       "       [ 9.80910862e-03,  1.76607760e-02],\n",
       "       [ 7.48711824e-03,  2.93635268e-02],\n",
       "       [-2.71404625e-05,  4.04040313e-02]])"
      ]
     },
     "execution_count": 15,
     "metadata": {},
     "output_type": "execute_result"
    }
   ],
   "source": [
    "X[:5]"
   ]
  },
  {
   "cell_type": "code",
   "execution_count": 22,
   "metadata": {},
   "outputs": [
    {
     "data": {
      "text/plain": [
       "array([0, 1, 2])"
      ]
     },
     "execution_count": 22,
     "metadata": {},
     "output_type": "execute_result"
    }
   ],
   "source": [
    "np.unique(y)"
   ]
  },
  {
   "cell_type": "code",
   "execution_count": 16,
   "metadata": {
    "colab": {
     "base_uri": "https://localhost:8080/"
    },
    "id": "CkvxwYi96SSv",
    "outputId": "29f4c8a8-b393-4b28-faab-7ac3b0f5221e"
   },
   "outputs": [
    {
     "name": "stdout",
     "output_type": "stream",
     "text": [
      "2 3 300\n"
     ]
    }
   ],
   "source": [
    "d = X.shape[1] # 2 - dimensionality, number of features\n",
    "n = len(np.unique(y)) #3 - number of classes\n",
    "m = X.shape[0] # number of examples\n",
    "print(d, n, m)"
   ]
  },
  {
   "cell_type": "code",
   "execution_count": 17,
   "metadata": {
    "id": "_Ry-ktdf6dFL"
   },
   "outputs": [],
   "source": [
    "# initialize parameters randomly\n",
    "W = 0.01 * np.random.randn(d,n) #generate random weights\n",
    "b = np.zeros((1,n)) #broadcasted automatically"
   ]
  },
  {
   "cell_type": "code",
   "execution_count": 18,
   "metadata": {
    "colab": {
     "base_uri": "https://localhost:8080/"
    },
    "id": "HGc1znb_6oyK",
    "outputId": "6ff8beda-6475-4a6e-8afa-3b764e8455bb"
   },
   "outputs": [
    {
     "data": {
      "text/plain": [
       "array([[ 0.00961287, -0.00080422, -0.00115201],\n",
       "       [ 0.01192203,  0.0139169 , -0.00687163]])"
      ]
     },
     "execution_count": 18,
     "metadata": {},
     "output_type": "execute_result"
    }
   ],
   "source": [
    "W"
   ]
  },
  {
   "cell_type": "code",
   "execution_count": 19,
   "metadata": {
    "colab": {
     "base_uri": "https://localhost:8080/"
    },
    "id": "SRT4eiSG6pgg",
    "outputId": "c3168f98-c09d-4c38-f865-ce86e1ae449a"
   },
   "outputs": [
    {
     "data": {
      "text/plain": [
       "array([[0., 0., 0.]])"
      ]
     },
     "execution_count": 19,
     "metadata": {},
     "output_type": "execute_result"
    }
   ],
   "source": [
    "b"
   ]
  },
  {
   "cell_type": "code",
   "execution_count": 23,
   "metadata": {},
   "outputs": [
    {
     "data": {
      "text/plain": [
       "(300, 2)"
      ]
     },
     "execution_count": 23,
     "metadata": {},
     "output_type": "execute_result"
    }
   ],
   "source": [
    "X.shape"
   ]
  },
  {
   "cell_type": "code",
   "execution_count": 24,
   "metadata": {},
   "outputs": [
    {
     "data": {
      "text/plain": [
       "((2, 3), (1, 3))"
      ]
     },
     "execution_count": 24,
     "metadata": {},
     "output_type": "execute_result"
    }
   ],
   "source": [
    "W.shape, b.shape"
   ]
  },
  {
   "cell_type": "code",
   "execution_count": 27,
   "metadata": {},
   "outputs": [
    {
     "data": {
      "text/plain": [
       "(300, 3)"
      ]
     },
     "execution_count": 27,
     "metadata": {},
     "output_type": "execute_result"
    }
   ],
   "source": [
    "np.dot(X, W).shape"
   ]
  },
  {
   "cell_type": "code",
   "execution_count": 28,
   "metadata": {
    "scrolled": true
   },
   "outputs": [
    {
     "data": {
      "text/plain": [
       "array([[ 0.00000000e+00,  0.00000000e+00,  0.00000000e+00],\n",
       "       [ 1.13925291e-04,  1.40806157e-04, -6.85175344e-05],\n",
       "       [ 3.04845966e-04,  2.37894613e-04, -1.32658539e-04],\n",
       "       [ 4.22045510e-04,  4.02628060e-04, -2.10400546e-04],\n",
       "       [ 4.81437138e-04,  5.62320823e-04, -2.77610277e-04],\n",
       "       [ 6.66838783e-04,  6.89308118e-04, -3.51832768e-04],\n",
       "       [ 9.17371601e-04,  7.05004814e-04, -3.95234372e-04],\n",
       "       [ 1.02751967e-03,  9.01913946e-04, -4.83658347e-04],\n",
       "       [ 1.09814837e-03,  1.08945615e-03, -5.62721304e-04],\n",
       "       [ 1.35412868e-03,  1.11108350e-03, -6.09106413e-04],\n",
       "       [ 1.44235616e-03,  1.31459154e-03, -6.96642369e-04],\n",
       "       [ 1.59369879e-03,  1.43943956e-03, -7.64962614e-04],\n",
       "       [ 1.76052477e-03,  1.54722434e-03, -8.29384000e-04],\n",
       "       [ 1.81299696e-03,  1.75471798e-03, -9.12997874e-04],\n",
       "       [ 2.11001564e-03,  1.72143389e-03, -9.45514432e-04],\n",
       "       [ 2.31777962e-03,  1.63085946e-03, -9.43701804e-04],\n",
       "       [ 2.47093657e-03,  1.75438425e-03, -1.01181197e-03],\n",
       "       [ 2.62318348e-03,  1.65517494e-03, -9.98499863e-04],\n",
       "       [ 2.77775316e-03,  1.99189593e-03, -1.14462708e-03],\n",
       "       [ 2.88833637e-03,  1.61524796e-03, -1.02380041e-03],\n",
       "       [ 3.00847825e-03,  1.58775279e-03, -1.03183223e-03],\n",
       "       [ 3.24394906e-03,  2.29394938e-03, -1.32496255e-03],\n",
       "       [ 3.37048012e-03,  1.98508593e-03, -1.23127153e-03],\n",
       "       [ 3.54423040e-03,  2.19941573e-03, -1.33561707e-03],\n",
       "       [ 3.59232209e-03,  1.84969499e-03, -1.21522033e-03],\n",
       "       [ 3.82733207e-03,  2.24207799e-03, -1.39375705e-03],\n",
       "       [ 3.94371771e-03,  2.17695171e-03, -1.38749079e-03],\n",
       "       [ 3.97630430e-03,  1.90037236e-03, -1.29145501e-03],\n",
       "       [ 3.78666660e-03,  1.26840931e-03, -1.03230778e-03],\n",
       "       [ 4.41799450e-03,  2.50354714e-03, -1.57799784e-03],\n",
       "       [ 4.24022466e-03,  1.70681525e-03, -1.26050386e-03],\n",
       "       [ 4.21140114e-03,  1.43827785e-03, -1.15816855e-03],\n",
       "       [ 3.46568903e-03,  1.76795859e-04, -5.85664140e-04],\n",
       "       [ 3.43297567e-03,  5.84768437e-06, -5.18358489e-04],\n",
       "       [ 4.19814547e-03,  8.94643065e-04, -9.57779147e-04],\n",
       "       [ 4.06975886e-03,  5.62009116e-04, -8.17080677e-04],\n",
       "       [ 2.57724293e-03, -1.27949198e-03,  7.93966878e-05],\n",
       "       [ 3.35226853e-03, -5.74939725e-04, -2.94267633e-04],\n",
       "       [ 3.97512606e-03,  3.38563094e-05, -6.10104458e-04],\n",
       "       [ 4.03706062e-03, -1.77499043e-05, -6.00584334e-04],\n",
       "       [ 4.74059293e-03,  7.66340630e-04, -9.92525042e-04],\n",
       "       [ 2.05682126e-03, -2.28024086e-03,  5.22870736e-04],\n",
       "       [ 2.30490095e-03, -2.15869804e-03,  4.41210134e-04],\n",
       "       [ 3.63481424e-03, -9.53873286e-04, -1.98465243e-04],\n",
       "       [ 3.11337644e-03, -1.60008926e-03,  1.15777036e-04],\n",
       "       [-1.14056897e-04, -4.33158630e-03,  1.59793636e-03],\n",
       "       [ 1.46013364e-03, -3.27244992e-03,  9.74696522e-04],\n",
       "       [ 2.79956133e-03, -2.21351103e-03,  3.86830577e-04],\n",
       "       [ 2.78270629e-03, -2.33133400e-03,  4.32363867e-04],\n",
       "       [ 2.04376871e-03, -3.08345595e-03,  8.17961808e-04],\n",
       "       [ 5.01765350e-03, -2.14018330e-04, -6.76411394e-04],\n",
       "       [ 9.28972207e-04, -4.16250195e-03,  1.37938741e-03],\n",
       "       [ 1.14558405e-03, -4.09439906e-03,  1.32196127e-03],\n",
       "       [ 3.40746314e-03, -2.26022190e-03,  3.12465830e-04],\n",
       "       [ 4.96841737e-04, -4.76214359e-03,  1.66320333e-03],\n",
       "       [-6.16537433e-04, -5.60298970e-03,  2.13748624e-03],\n",
       "       [-3.59779212e-05, -5.31961926e-03,  1.94677191e-03],\n",
       "       [-1.34499330e-03, -6.23401777e-03,  2.47731558e-03],\n",
       "       [-1.96138212e-03, -6.67472386e-03,  2.73083630e-03],\n",
       "       [-2.80440076e-03, -7.20061601e-03,  3.04952401e-03],\n",
       "       [-2.58967451e-03, -7.19493857e-03,  3.01516318e-03],\n",
       "       [-6.81394150e-03, -8.58607904e-03,  4.15806391e-03],\n",
       "       [-4.95932192e-03, -8.36298061e-03,  3.79776214e-03],\n",
       "       [-3.35317041e-03, -7.85515143e-03,  3.37091237e-03],\n",
       "       [-4.23868556e-03, -8.32797235e-03,  3.67662235e-03],\n",
       "       [-3.62737231e-03, -8.17904617e-03,  3.53034810e-03],\n",
       "       [-5.75701434e-03, -9.03704185e-03,  4.16370741e-03],\n",
       "       [-6.26483050e-03, -9.27250684e-03,  4.32600037e-03],\n",
       "       [-4.50183745e-03, -8.84779084e-03,  3.90589761e-03],\n",
       "       [-4.30110729e-03, -8.87240699e-03,  3.88469687e-03],\n",
       "       [-6.39943672e-03, -9.65578449e-03,  4.48611620e-03],\n",
       "       [-8.14328010e-03, -9.99745802e-03,  4.87303354e-03],\n",
       "       [-5.64571459e-03, -9.67665188e-03,  4.38039270e-03],\n",
       "       [-4.69301028e-03, -9.44381090e-03,  4.15215851e-03],\n",
       "       [-7.52995890e-03, -1.03491149e-02,  4.90914201e-03],\n",
       "       [-7.18718956e-03, -1.04147857e-02,  4.88156516e-03],\n",
       "       [-8.57984549e-03, -1.07000505e-02,  5.19508761e-03],\n",
       "       [-8.83336826e-03, -1.08423115e-02,  5.28512768e-03],\n",
       "       [-1.00753306e-02, -1.08537371e-02,  5.47605412e-03],\n",
       "       [-9.78220417e-03, -1.10752932e-02,  5.51283154e-03],\n",
       "       [-1.03112713e-02, -1.11376355e-02,  5.61513998e-03],\n",
       "       [-8.57781511e-03, -1.13686319e-02,  5.43877691e-03],\n",
       "       [-1.12524212e-02, -1.11687291e-02,  5.76801027e-03],\n",
       "       [-1.26906937e-02, -9.75129061e-03,  5.46700128e-03],\n",
       "       [-1.29343511e-02, -9.48597398e-03,  5.40681495e-03],\n",
       "       [-1.01294613e-02, -1.19567248e-02,  5.88672234e-03],\n",
       "       [-1.31720039e-02, -1.00254317e-02,  5.63942309e-03],\n",
       "       [-1.27672390e-02, -1.12134058e-02,  6.01210138e-03],\n",
       "       [-1.32319316e-02, -1.08796954e-02,  5.96019276e-03],\n",
       "       [-1.34400726e-02, -1.08900307e-02,  5.99526317e-03],\n",
       "       [-1.38975981e-02, -9.88215653e-03,  5.69624496e-03],\n",
       "       [-1.39714689e-02, -1.04757701e-02,  5.92398865e-03],\n",
       "       [-1.40918026e-02, -8.28654218e-03,  5.14313844e-03],\n",
       "       [-1.43493143e-02, -9.04518145e-03,  5.45872173e-03],\n",
       "       [-1.45407853e-02, -9.88126112e-03,  5.79263571e-03],\n",
       "       [-1.46915118e-02, -1.01303658e-02,  5.90620998e-03],\n",
       "       [-1.48499529e-02, -9.92562341e-03,  5.85531569e-03],\n",
       "       [-1.49717874e-02, -1.07110976e-02,  6.16029013e-03],\n",
       "       [-1.36520047e-02, -5.17826124e-03,  3.94265731e-03],\n",
       "       [-1.52142691e-02, -1.13319600e-02,  6.42333250e-03],\n",
       "       [ 0.00000000e+00,  0.00000000e+00,  0.00000000e+00],\n",
       "       [-1.46302204e-04, -6.79507980e-05,  4.67980168e-05],\n",
       "       [-2.48103273e-04, -5.43444098e-05,  5.71405102e-05],\n",
       "       [-4.59788855e-04, -2.71599254e-04,  1.68257955e-04],\n",
       "       [-6.11079093e-04, -3.52659792e-04,  2.20590351e-04],\n",
       "       [-7.30889582e-04, -3.38233516e-04,  2.33341750e-04],\n",
       "       [-8.57691655e-04, -3.61609948e-04,  2.60940350e-04],\n",
       "       [-9.51727592e-04, -3.26150345e-04,  2.62139989e-04],\n",
       "       [-1.19373114e-03, -6.05577342e-04,  4.00505754e-04],\n",
       "       [-1.18144921e-03, -3.46579925e-04,  3.04139402e-04],\n",
       "       [-1.45780330e-03, -6.66854531e-04,  4.62577617e-04],\n",
       "       [-1.11799823e-03,  3.01280796e-05,  1.57120899e-04],\n",
       "       [-1.40584308e-03, -2.07145445e-04,  2.86996280e-04],\n",
       "       [-1.61029838e-03, -3.49695354e-04,  3.69763390e-04],\n",
       "       [-1.57661727e-03, -1.55728581e-04,  2.93911723e-04],\n",
       "       [-1.91635664e-03, -4.92693704e-04,  4.67972427e-04],\n",
       "       [-1.59141916e-03,  8.54415882e-05,  2.08123969e-04],\n",
       "       [-2.01108547e-03, -3.20556080e-04,  4.19396467e-04],\n",
       "       [-1.89232656e-03, -2.76411298e-05,  2.94640936e-04],\n",
       "       [-2.24174676e-03, -3.49970908e-04,  4.64816291e-04],\n",
       "       [-1.90053872e-03,  2.10505717e-04,  2.08965613e-04],\n",
       "       [-1.43945076e-03,  8.09353932e-04, -7.89151547e-05],\n",
       "       [-8.20015315e-04,  1.46598532e-03, -4.11694605e-04],\n",
       "       [ 5.44133496e-05,  2.21134100e-03, -8.15197345e-04],\n",
       "       [-2.11334436e-03,  4.40561557e-04,  1.57008242e-04],\n",
       "       [-2.82637643e-03, -2.92659936e-04,  5.31813112e-04],\n",
       "       [-1.54421867e-03,  1.22865281e-03, -2.16181473e-04],\n",
       "       [-2.83575118e-04,  2.35599069e-03, -8.17162249e-04],\n",
       "       [-2.98283441e-03, -9.19309592e-05,  4.82085270e-04],\n",
       "       [-1.72716035e-03,  1.36599583e-03, -2.38794591e-04],\n",
       "       [-1.25036271e-03,  1.88861166e-03, -5.01217128e-04],\n",
       "       [-1.08190542e-03,  2.12611527e-03, -6.13223894e-04],\n",
       "       [-9.91316091e-04,  2.29605452e-03, -6.88864286e-04],\n",
       "       [ 5.53972218e-04,  3.47570191e-03, -1.35173777e-03],\n",
       "       [-5.64981364e-04,  2.81540966e-03, -9.42508630e-04],\n",
       "       [-1.12448476e-03,  2.47905054e-03, -7.35622663e-04],\n",
       "       [ 4.94332935e-04,  3.72415055e-03, -1.43343946e-03],\n",
       "       [ 1.21847995e-03,  4.24035031e-03, -1.73071498e-03],\n",
       "       [ 5.90861378e-04,  3.97361546e-03, -1.53899532e-03],\n",
       "       [ 1.10613345e-03,  4.37138513e-03, -1.76164152e-03],\n",
       "       [-3.47616280e-04,  3.54200525e-03, -1.24036084e-03],\n",
       "       [ 7.02315170e-04,  4.32682309e-03, -1.68465580e-03],\n",
       "       [ 2.79895930e-03,  5.47187926e-03, -2.41781408e-03],\n",
       "       [ 1.30596455e-03,  4.86778250e-03, -1.97284770e-03],\n",
       "       [ 2.94902735e-03,  5.73885021e-03, -2.53780954e-03],\n",
       "       [ 7.68974887e-04,  4.74782492e-03, -1.84832157e-03],\n",
       "       [ 2.35070082e-03,  5.69103007e-03, -2.43038615e-03],\n",
       "       [ 5.12931214e-03,  6.60929950e-03, -3.18332898e-03],\n",
       "       [ 4.63822485e-03,  6.67271704e-03, -3.13262690e-03],\n",
       "       [ 4.32397165e-03,  6.72194996e-03, -3.10333917e-03],\n",
       "       [ 4.90082694e-03,  6.96320669e-03, -3.27812736e-03],\n",
       "       [ 5.03076883e-03,  7.10793450e-03, -3.35048453e-03],\n",
       "       [ 4.35764458e-03,  7.07217943e-03, -3.23621671e-03],\n",
       "       [ 5.05175741e-03,  7.35450247e-03, -3.44362407e-03],\n",
       "       [ 6.38763826e-03,  7.59876841e-03, -3.73364687e-03],\n",
       "       [ 5.90335276e-03,  7.72677896e-03, -3.70754040e-03],\n",
       "       [ 7.88067054e-03,  7.51407336e-03, -3.92724862e-03],\n",
       "       [ 7.08495556e-03,  7.98709968e-03, -3.98022314e-03],\n",
       "       [ 8.64804388e-03,  7.29376493e-03, -3.96224012e-03],\n",
       "       [ 7.62397238e-03,  8.20914500e-03, -4.14231038e-03],\n",
       "       [ 7.55014827e-03,  8.39221125e-03, -4.19801817e-03],\n",
       "       [ 8.53289975e-03,  8.21797591e-03, -4.28221066e-03],\n",
       "       [ 8.47225305e-03,  8.46208582e-03, -4.36217746e-03],\n",
       "       [ 8.86010735e-03,  8.45707197e-03, -4.41867023e-03],\n",
       "       [ 9.64020977e-03,  7.88030429e-03, -4.32548825e-03],\n",
       "       [ 9.19658693e-03,  8.68780829e-03, -4.55347321e-03],\n",
       "       [ 1.02092878e-02,  6.82053609e-03, -4.02430603e-03],\n",
       "       [ 9.99363388e-03,  8.41992114e-03, -4.57556325e-03],\n",
       "       [ 9.15250404e-03,  9.34245859e-03, -4.78575491e-03],\n",
       "       [ 1.04226931e-02,  5.62230109e-03, -3.61910790e-03],\n",
       "       [ 9.86588926e-03,  9.38249781e-03, -4.90764034e-03],\n",
       "       [ 1.03203671e-02,  9.25779307e-03, -4.93047100e-03],\n",
       "       [ 1.07754256e-02,  5.54444174e-03, -3.64373481e-03],\n",
       "       [ 1.11778768e-02,  8.52082017e-03, -4.79046304e-03],\n",
       "       [ 1.13787777e-02,  8.43945806e-03, -4.79098038e-03],\n",
       "       [ 1.16020191e-02,  7.79933777e-03, -4.59094179e-03],\n",
       "       [ 1.17115880e-02,  8.52846292e-03, -4.87350759e-03],\n",
       "       [ 1.14936192e-02,  5.84021806e-03, -3.85967294e-03],\n",
       "       [ 1.20051944e-02,  7.35628252e-03, -4.48987794e-03],\n",
       "       [ 1.22100391e-02,  8.54954713e-03, -4.95615537e-03],\n",
       "       [ 1.21237123e-02,  6.65842957e-03, -4.25302266e-03],\n",
       "       [ 1.24106087e-02,  7.31435583e-03, -4.53554013e-03],\n",
       "       [ 1.15099012e-02,  4.50353613e-03, -3.37430758e-03],\n",
       "       [ 1.09377608e-02,  3.26631989e-03, -2.83675919e-03],\n",
       "       [ 1.16082345e-02,  4.25952723e-03, -3.30004466e-03],\n",
       "       [ 1.22458295e-02,  5.33165517e-03, -3.78718768e-03],\n",
       "       [ 1.10219235e-02,  2.87958006e-03, -2.70827664e-03],\n",
       "       [ 1.33703840e-02,  8.07816558e-03, -4.95861134e-03],\n",
       "       [ 1.13393999e-02,  3.04357644e-03, -2.81586574e-03],\n",
       "       [ 1.10321976e-02,  2.40577912e-03, -2.53691088e-03],\n",
       "       [ 1.00048399e-02,  8.29462103e-04, -1.80715771e-03],\n",
       "       [ 1.04725180e-02,  1.31285693e-03, -2.05389545e-03],\n",
       "       [ 1.24567528e-02,  4.19402937e-03, -3.40373526e-03],\n",
       "       [ 1.35163189e-02,  6.10383953e-03, -4.26003794e-03],\n",
       "       [ 1.20090154e-02,  3.08730718e-03, -2.93251662e-03],\n",
       "       [ 1.21156103e-02,  3.08698662e-03, -2.94842856e-03],\n",
       "       [ 9.92899724e-03, -5.39563832e-05, -1.47335501e-03],\n",
       "       [ 8.45507107e-03, -1.87512708e-03, -5.87092482e-04],\n",
       "       [ 7.17000274e-03, -3.32918664e-03,  1.36796138e-04],\n",
       "       [ 2.94620013e-03, -7.19958399e-03,  2.18441635e-03],\n",
       "       [ 0.00000000e+00,  0.00000000e+00,  0.00000000e+00],\n",
       "       [ 7.50047295e-05, -3.21152544e-05,  4.41628595e-07],\n",
       "       [ 1.68960827e-04, -4.44738327e-05, -9.17657905e-06],\n",
       "       [ 2.99352539e-04, -1.48771114e-05, -3.95850179e-05],\n",
       "       [ 1.16580242e-04, -2.92841591e-04,  8.93402716e-05],\n",
       "       [ 7.13970461e-05, -4.22631215e-04,  1.43500485e-04],\n",
       "       [ 2.31924387e-04, -3.92945236e-04,  1.08527908e-04],\n",
       "       [ 1.72442112e-04, -5.37174461e-04,  1.70107949e-04],\n",
       "       [ 1.29689697e-04, -6.64851137e-04,  2.23131533e-04],\n",
       "       [-6.75187704e-05, -8.95583029e-04,  3.36990385e-04],\n",
       "       [-4.72470142e-06, -9.48789239e-04,  3.46965171e-04],\n",
       "       [ 1.95704140e-04, -9.01273054e-04,  2.99485492e-04],\n",
       "       [ 2.88328161e-04, -9.26494562e-04,  2.94761838e-04],\n",
       "       [ 4.18568326e-04, -9.20064200e-04,  2.72830606e-04],\n",
       "       [-3.22486901e-04, -1.52659225e-03,  6.05613401e-04],\n",
       "       [-9.84245129e-05, -1.48351645e-03,  5.56200384e-04],\n",
       "       [-5.32774120e-04, -1.83683437e-03,  7.50455695e-04],\n",
       "       [ 3.66773348e-05, -1.58263865e-03,  5.72058838e-04],\n",
       "       [-1.10851457e-04, -1.77550717e-03,  6.64629241e-04],\n",
       "       [-5.35623500e-04, -2.12781982e-03,  8.57077487e-04],\n",
       "       [-7.45491992e-04, -2.33828845e-03,  9.65445104e-04],\n",
       "       [ 3.21622356e-04, -1.75910070e-03,  5.93609725e-04],\n",
       "       [-4.09410560e-04, -2.34135451e-03,  9.16026710e-04],\n",
       "       [-1.09513255e-03, -2.80792188e-03,  1.18941114e-03],\n",
       "       [-7.94986503e-04, -2.75299688e-03,  1.12423296e-03],\n",
       "       [-1.87321587e-03, -3.33158907e-03,  1.49752238e-03],\n",
       "       [-2.03118117e-03, -3.49196176e-03,  1.57980300e-03],\n",
       "       [-2.74646003e-03, -3.77589363e-03,  1.79098028e-03],\n",
       "       [-1.31480161e-03, -3.40953911e-03,  1.44199973e-03],\n",
       "       [-1.19432398e-03, -3.44880642e-03,  1.43821360e-03],\n",
       "       [-3.23687306e-03, -4.21599785e-03,  2.02533810e-03],\n",
       "       [-1.90612169e-03, -3.97545311e-03,  1.73744467e-03],\n",
       "       [-3.83926499e-03, -4.49954011e-03,  2.21939813e-03],\n",
       "       [-4.31558040e-03, -4.57752529e-03,  2.31948297e-03],\n",
       "       [-4.99240573e-03, -4.37886341e-03,  2.34875834e-03],\n",
       "       [-4.95915950e-03, -4.67294150e-03,  2.45108099e-03],\n",
       "       [-2.39861744e-03, -4.68999450e-03,  2.07226980e-03],\n",
       "       [-5.59812489e-03, -4.50451754e-03,  2.48569840e-03],\n",
       "       [-3.98821417e-03, -5.32965143e-03,  2.54473990e-03],\n",
       "       [-5.75445304e-03, -4.98890213e-03,  2.68597895e-03],\n",
       "       [-5.54527721e-03, -5.41835204e-03,  2.81124977e-03],\n",
       "       [-4.87001900e-03, -5.76833686e-03,  2.83743442e-03],\n",
       "       [-6.16904228e-03, -5.40689488e-03,  2.90086553e-03],\n",
       "       [-6.55031308e-03, -5.12565428e-03,  2.85556110e-03],\n",
       "       [-6.27526533e-03, -5.84388220e-03,  3.07631433e-03],\n",
       "       [-6.46238207e-03, -5.94040722e-03,  3.13967770e-03],\n",
       "       [-7.02973579e-03, -5.41626222e-03,  3.03370854e-03],\n",
       "       [-7.20276353e-03, -5.46380207e-03,  3.07707649e-03],\n",
       "       [-7.38742044e-03, -5.44057569e-03,  3.09636745e-03],\n",
       "       [-7.46901879e-03, -5.82758243e-03,  3.24987327e-03],\n",
       "       [-7.58724012e-03, -4.19830115e-03,  2.67305445e-03],\n",
       "       [-7.77258422e-03, -4.41531331e-03,  2.78012231e-03],\n",
       "       [-7.47592296e-03, -3.22690734e-03,  2.30181134e-03],\n",
       "       [-8.00747680e-03, -4.32423402e-03,  2.78220482e-03],\n",
       "       [-8.35178411e-03, -5.52911578e-03,  3.27369317e-03],\n",
       "       [-8.31993155e-03, -4.52333462e-03,  2.90184988e-03],\n",
       "       [-8.58799226e-03, -5.09730989e-03,  3.15162747e-03],\n",
       "       [-8.81316919e-03, -5.77334320e-03,  3.43220198e-03],\n",
       "       [-8.48125253e-03, -3.93067354e-03,  2.70982012e-03],\n",
       "       [-7.35468136e-03, -1.65663283e-03,  1.71051808e-03],\n",
       "       [-8.85454735e-03, -4.27061932e-03,  2.89001441e-03],\n",
       "       [-7.85462383e-03, -2.10076073e-03,  1.94777728e-03],\n",
       "       [-8.85972576e-03, -3.72999533e-03,  2.69349575e-03],\n",
       "       [-7.77792572e-03, -1.65625026e-03,  1.77402269e-03],\n",
       "       [-7.71136999e-03, -1.40543263e-03,  1.67248023e-03],\n",
       "       [-9.80045932e-03, -5.23529814e-03,  3.38430687e-03],\n",
       "       [-9.89664757e-03, -5.14084063e-03,  3.36429924e-03],\n",
       "       [-1.03094694e-02, -6.30099077e-03,  3.84976575e-03],\n",
       "       [-8.22269357e-03, -1.53546934e-03,  1.79682521e-03],\n",
       "       [-8.56543896e-03, -1.88367107e-03,  1.97543866e-03],\n",
       "       [-9.99791396e-03, -4.20054901e-03,  3.03637334e-03],\n",
       "       [-5.99608858e-03,  1.58098906e-03,  3.24673487e-04],\n",
       "       [-9.24128922e-03, -2.43236257e-03,  2.27730935e-03],\n",
       "       [-4.81849139e-03,  2.99316433e-03, -3.67769044e-04],\n",
       "       [-8.66103093e-03, -1.26587386e-03,  1.76435182e-03],\n",
       "       [-9.59450161e-03, -2.48345712e-03,  2.34906934e-03],\n",
       "       [-5.38423901e-03,  2.75727345e-03, -1.96609377e-04],\n",
       "       [-5.45645941e-03,  2.79219278e-03, -1.98493020e-04],\n",
       "       [-2.57951979e-03,  5.46546328e-03, -1.60669839e-03],\n",
       "       [-7.15546766e-03,  1.22989388e-03,  6.27141968e-04],\n",
       "       [-4.86869317e-03,  3.67115529e-03, -6.07648653e-04],\n",
       "       [-4.06921142e-03,  4.49979513e-03, -1.03027549e-03],\n",
       "       [-7.86828895e-04,  7.20837014e-03, -2.51233240e-03],\n",
       "       [-6.23877475e-03,  2.65199919e-03, -2.96916939e-05],\n",
       "       [-6.69387504e-03,  2.29340735e-03,  1.69608630e-04],\n",
       "       [-2.56103585e-04,  7.86340641e-03, -2.83119018e-03],\n",
       "       [-1.22698670e-03,  7.27001905e-03, -2.46864325e-03],\n",
       "       [-2.24002415e-03,  6.60124667e-03, -2.07224618e-03],\n",
       "       [-7.35040140e-05,  8.27164619e-03, -3.00763265e-03],\n",
       "       [-8.26021476e-04,  7.84363236e-03, -2.73827390e-03],\n",
       "       [-1.71436386e-03,  7.28944481e-03, -2.40244454e-03],\n",
       "       [-8.26216011e-03,  1.39461709e-03,  7.33443140e-04],\n",
       "       [-4.11701135e-03,  5.55091123e-03, -1.40668596e-03],\n",
       "       [-5.99289194e-04,  8.38232204e-03, -2.96895959e-03],\n",
       "       [ 8.33652467e-03,  1.29054893e-02, -5.96336001e-03],\n",
       "       [-2.22359129e-03,  7.38014171e-03, -2.35897011e-03],\n",
       "       [ 4.06696859e-05,  9.10522355e-03, -3.32901006e-03],\n",
       "       [ 2.85191426e-03,  1.09286728e-02, -4.41719977e-03],\n",
       "       [ 3.96815191e-03,  1.16201827e-02, -4.83741320e-03],\n",
       "       [ 5.90474009e-03,  1.26201605e-02, -5.49355805e-03]])"
      ]
     },
     "execution_count": 28,
     "metadata": {},
     "output_type": "execute_result"
    }
   ],
   "source": [
    "np.dot(X, W) + b"
   ]
  },
  {
   "cell_type": "code",
   "execution_count": 30,
   "metadata": {},
   "outputs": [
    {
     "data": {
      "text/plain": [
       "(300, 3)"
      ]
     },
     "execution_count": 30,
     "metadata": {},
     "output_type": "execute_result"
    }
   ],
   "source": [
    "(np.dot(X, W) + b).shape"
   ]
  },
  {
   "cell_type": "code",
   "execution_count": 29,
   "metadata": {
    "colab": {
     "base_uri": "https://localhost:8080/"
    },
    "id": "xeFZtfTV7Ac5",
    "outputId": "2a580993-737b-40aa-9caa-97d4fdd73be6"
   },
   "outputs": [
    {
     "name": "stdout",
     "output_type": "stream",
     "text": [
      "(300, 3)\n"
     ]
    }
   ],
   "source": [
    "# compute scores for a linear classifier\n",
    "z = np.dot(X, W) + b #np.dot will do a matrix multiplication\n",
    "print(z.shape) # should be mXn = #examples X #output"
   ]
  },
  {
   "cell_type": "code",
   "execution_count": 31,
   "metadata": {},
   "outputs": [],
   "source": [
    "exp_z = np.exp(z)"
   ]
  },
  {
   "cell_type": "code",
   "execution_count": 32,
   "metadata": {
    "scrolled": true
   },
   "outputs": [
    {
     "data": {
      "text/plain": [
       "array([[1.        , 1.        , 1.        ],\n",
       "       [1.00011393, 1.00014082, 0.99993148],\n",
       "       [1.00030489, 1.00023792, 0.99986735],\n",
       "       [1.00042213, 1.00040271, 0.99978962],\n",
       "       [1.00048155, 1.00056248, 0.99972243],\n",
       "       [1.00066706, 1.00068955, 0.99964823],\n",
       "       [1.00091779, 1.00070525, 0.99960484],\n",
       "       [1.00102805, 1.00090232, 0.99951646],\n",
       "       [1.00109875, 1.00109005, 0.99943744],\n",
       "       [1.00135505, 1.0011117 , 0.99939108],\n",
       "       [1.0014434 , 1.00131546, 0.9993036 ],\n",
       "       [1.00159497, 1.00144048, 0.99923533],\n",
       "       [1.00176208, 1.00154842, 0.99917096],\n",
       "       [1.00181464, 1.00175626, 0.99908742],\n",
       "       [1.00211224, 1.00172292, 0.99905493],\n",
       "       [1.00232047, 1.00163219, 0.99905674],\n",
       "       [1.00247399, 1.00175592, 0.9989887 ],\n",
       "       [1.00262663, 1.00165655, 0.999002  ],\n",
       "       [1.00278161, 1.00199388, 0.99885603],\n",
       "       [1.00289251, 1.00161655, 0.99897672],\n",
       "       [1.00301301, 1.00158901, 0.9989687 ],\n",
       "       [1.00324922, 1.00229658, 0.99867591],\n",
       "       [1.00337617, 1.00198706, 0.99876949],\n",
       "       [1.00355052, 1.00220184, 0.99866527],\n",
       "       [1.00359878, 1.00185141, 0.99878552],\n",
       "       [1.00383467, 1.00224459, 0.99860721],\n",
       "       [1.0039515 , 1.00217932, 0.99861347],\n",
       "       [1.00398422, 1.00190218, 0.99870938],\n",
       "       [1.00379385, 1.00126921, 0.99896822],\n",
       "       [1.00442777, 1.00250668, 0.99842325],\n",
       "       [1.00424923, 1.00170827, 0.99874029],\n",
       "       [1.00422028, 1.00143931, 0.9988425 ],\n",
       "       [1.0034717 , 1.00017681, 0.99941451],\n",
       "       [1.00343888, 1.00000585, 0.99948178],\n",
       "       [1.00420697, 1.00089504, 0.99904268],\n",
       "       [1.00407805, 1.00056217, 0.99918325],\n",
       "       [1.00258057, 0.99872133, 1.0000794 ],\n",
       "       [1.00335789, 0.99942523, 0.99970578],\n",
       "       [1.00398304, 1.00003386, 0.99939008],\n",
       "       [1.00404522, 0.99998225, 0.9993996 ],\n",
       "       [1.00475185, 1.00076663, 0.99900797],\n",
       "       [1.00205894, 0.99772236, 1.00052301],\n",
       "       [1.00230756, 0.99784363, 1.00044131],\n",
       "       [1.00364143, 0.99904658, 0.99980155],\n",
       "       [1.00311823, 0.99840119, 1.00011578],\n",
       "       [0.99988595, 0.99567778, 1.00159921],\n",
       "       [1.0014612 , 0.9967329 , 1.00097517],\n",
       "       [1.00280348, 0.99778894, 1.00038691],\n",
       "       [1.00278658, 0.99767138, 1.00043246],\n",
       "       [1.00204586, 0.99692129, 1.0008183 ],\n",
       "       [1.00503026, 0.999786  , 0.99932382],\n",
       "       [1.0009294 , 0.99584615, 1.00138034],\n",
       "       [1.00114624, 0.99591397, 1.00132284],\n",
       "       [1.00341328, 0.99774233, 1.00031251],\n",
       "       [1.00049697, 0.99524918, 1.00166459],\n",
       "       [0.99938365, 0.99441268, 1.00213977],\n",
       "       [0.99996402, 0.9946945 , 1.00194867],\n",
       "       [0.99865591, 0.99378537, 1.00248039],\n",
       "       [0.99804054, 0.9933475 , 1.00273457],\n",
       "       [0.99719953, 0.99282525, 1.00305418],\n",
       "       [0.99741368, 0.99283088, 1.00301971],\n",
       "       [0.99320922, 0.99145068, 1.00416672],\n",
       "       [0.99505296, 0.99167189, 1.00380498],\n",
       "       [0.99665245, 0.99217562, 1.0033766 ],\n",
       "       [0.99577028, 0.99170661, 1.00368339],\n",
       "       [0.9963792 , 0.99185431, 1.00353659],\n",
       "       [0.99425953, 0.99100367, 1.00417239],\n",
       "       [0.99375475, 0.99077035, 1.00433537],\n",
       "       [0.99550828, 0.99119124, 1.00391354],\n",
       "       [0.99570813, 0.99116684, 1.00389225],\n",
       "       [0.993621  , 0.99039068, 1.00449619],\n",
       "       [0.99188979, 0.99005235, 1.00488493],\n",
       "       [0.99437019, 0.99037002, 1.00439   ],\n",
       "       [0.99531798, 0.99060064, 1.00416079],\n",
       "       [0.99249832, 0.98970425, 1.00492121],\n",
       "       [0.99283858, 0.98963926, 1.0048935 ],\n",
       "       [0.99145686, 0.98935699, 1.00520861],\n",
       "       [0.99120553, 0.98921625, 1.00529912],\n",
       "       [0.98997526, 0.98920495, 1.00549108],\n",
       "       [0.99026549, 0.98898581, 1.00552806],\n",
       "       [0.98974171, 0.98892416, 1.00563093],\n",
       "       [0.99145887, 0.98869575, 1.00545359],\n",
       "       [0.98881065, 0.98889341, 1.00578468],\n",
       "       [0.98738949, 0.9902961 , 1.00548197],\n",
       "       [0.98714894, 0.99055888, 1.00542146],\n",
       "       [0.98992167, 0.98811447, 1.00590408],\n",
       "       [0.98691437, 0.99002466, 1.00565535],\n",
       "       [0.98731392, 0.98884923, 1.00603021],\n",
       "       [0.98685523, 0.98917927, 1.00597799],\n",
       "       [0.98664984, 0.98916905, 1.00601327],\n",
       "       [0.98619853, 0.99016651, 1.0057125 ],\n",
       "       [0.98612568, 0.98957891, 1.00594157],\n",
       "       [0.98600702, 0.9917477 , 1.00515639],\n",
       "       [0.98575315, 0.9909956 , 1.00547365],\n",
       "       [0.98556442, 0.9901674 , 1.00580945],\n",
       "       [0.98541588, 0.98992077, 1.00592369],\n",
       "       [0.98525976, 0.99012347, 1.00587249],\n",
       "       [0.98513973, 0.98934606, 1.0061793 ],\n",
       "       [0.98644076, 0.99483512, 1.00395044],\n",
       "       [0.98490088, 0.988732  , 1.00644401],\n",
       "       [1.        , 1.        , 1.        ],\n",
       "       [0.99985371, 0.99993205, 1.0000468 ],\n",
       "       [0.99975193, 0.99994566, 1.00005714],\n",
       "       [0.99954032, 0.99972844, 1.00016827],\n",
       "       [0.99938911, 0.9996474 , 1.00022061],\n",
       "       [0.99926938, 0.99966182, 1.00023337],\n",
       "       [0.99914268, 0.99963846, 1.00026097],\n",
       "       [0.99904873, 0.9996739 , 1.00026217],\n",
       "       [0.99880698, 0.99939461, 1.00040059],\n",
       "       [0.99881925, 0.99965348, 1.00030419],\n",
       "       [0.99854326, 0.99933337, 1.00046268],\n",
       "       [0.99888263, 1.00003013, 1.00015713],\n",
       "       [0.99859514, 0.99979288, 1.00028704],\n",
       "       [0.998391  , 0.99965037, 1.00036983],\n",
       "       [0.99842462, 0.99984428, 1.00029395],\n",
       "       [0.99808548, 0.99950743, 1.00046808],\n",
       "       [0.99840985, 1.00008545, 1.00020815],\n",
       "       [0.99799094, 0.9996795 , 1.00041948],\n",
       "       [0.99810946, 0.99997236, 1.00029468],\n",
       "       [0.99776076, 0.99965009, 1.00046492],\n",
       "       [0.99810127, 1.00021053, 1.00020899],\n",
       "       [0.99856158, 1.00080968, 0.99992109],\n",
       "       [0.99918032, 1.00146706, 0.99958839],\n",
       "       [1.00005441, 1.00221379, 0.99918513],\n",
       "       [0.99788889, 1.00044066, 1.00015702],\n",
       "       [0.99717761, 0.99970738, 1.00053195],\n",
       "       [0.99845697, 1.00122941, 0.99978384],\n",
       "       [0.99971647, 1.00235877, 0.99918317],\n",
       "       [0.99702161, 0.99990807, 1.0004822 ],\n",
       "       [0.99827433, 1.00136693, 0.99976123],\n",
       "       [0.99875042, 1.0018904 , 0.99949891],\n",
       "       [0.99891868, 1.00212838, 0.99938696],\n",
       "       [0.99900918, 1.00229869, 0.99931137],\n",
       "       [1.00055413, 1.00348175, 0.99864918],\n",
       "       [0.99943518, 1.00281938, 0.99905794],\n",
       "       [0.99887615, 1.00248213, 0.99926465],\n",
       "       [1.00049446, 1.00373109, 0.99856759],\n",
       "       [1.00121922, 1.00424935, 0.99827078],\n",
       "       [1.00059104, 1.00398152, 0.99846219],\n",
       "       [1.00110675, 1.00438095, 0.99823991],\n",
       "       [0.99965244, 1.00354829, 0.99876041],\n",
       "       [1.00070256, 1.0043362 , 0.99831676],\n",
       "       [1.00280288, 1.00548688, 0.99758511],\n",
       "       [1.00130682, 1.00487965, 0.9980291 ],\n",
       "       [1.00295338, 1.00575535, 0.99746541],\n",
       "       [1.00076927, 1.00475911, 0.99815339],\n",
       "       [1.00235347, 1.00570725, 0.99757256],\n",
       "       [1.00514249, 1.00663119, 0.99682173],\n",
       "       [1.004649  , 1.00669503, 0.99687227],\n",
       "       [1.00433333, 1.00674459, 0.99690147],\n",
       "       [1.00491286, 1.00698751, 0.99672724],\n",
       "       [1.00504344, 1.00713326, 0.99665512],\n",
       "       [1.00436715, 1.00709725, 0.99676901],\n",
       "       [1.00506454, 1.00738161, 0.9965623 ],\n",
       "       [1.00640808, 1.00762771, 0.99627331],\n",
       "       [1.00592081, 1.00775671, 0.99629932],\n",
       "       [1.0079118 , 1.00754237, 0.99608045],\n",
       "       [1.00711011, 1.00801908, 0.99602769],\n",
       "       [1.00868555, 1.00732043, 0.9960456 ],\n",
       "       [1.00765311, 1.00824293, 0.99586626],\n",
       "       [1.00757872, 1.00842752, 0.99581078],\n",
       "       [1.00856941, 1.00825184, 0.99572694],\n",
       "       [1.00850824, 1.00849799, 0.99564732],\n",
       "       [1.00889947, 1.00849293, 0.99559108],\n",
       "       [1.00968683, 1.00791144, 0.99568385],\n",
       "       [1.00923901, 1.00872566, 0.99545688],\n",
       "       [1.01026158, 1.00684385, 0.99598378],\n",
       "       [1.01004374, 1.00845547, 0.99543489],\n",
       "       [1.00919452, 1.00938624, 0.99522568],\n",
       "       [1.0104772 , 1.00563814, 0.99638743],\n",
       "       [1.00991472, 1.00942665, 0.99510438],\n",
       "       [1.01037381, 1.00930078, 0.99508166],\n",
       "       [1.01083369, 1.00555984, 0.9963629 ],\n",
       "       [1.01124058, 1.00855723, 0.99522099],\n",
       "       [1.01144376, 1.00847517, 0.99522048],\n",
       "       [1.01166958, 1.00782983, 0.99541958],\n",
       "       [1.01178044, 1.00856493, 0.99513835],\n",
       "       [1.01155992, 1.00585731, 0.99614777],\n",
       "       [1.01207755, 1.00738341, 0.99552019],\n",
       "       [1.01228489, 1.0085862 , 0.99505611],\n",
       "       [1.0121975 , 1.00668065, 0.99575601],\n",
       "       [1.01248794, 1.00734117, 0.99547473],\n",
       "       [1.01157639, 1.00451369, 0.99663138],\n",
       "       [1.0109978 , 1.00327166, 0.99716726],\n",
       "       [1.01167587, 1.00426861, 0.99670539],\n",
       "       [1.01232112, 1.00534589, 0.99621997],\n",
       "       [1.01108289, 1.00288373, 0.99729539],\n",
       "       [1.01346017, 1.00811088, 0.99505366],\n",
       "       [1.01140393, 1.00304821, 0.9971881 ],\n",
       "       [1.01109328, 1.00240868, 0.9974663 ],\n",
       "       [1.01005506, 1.00082981, 0.99819447],\n",
       "       [1.01052755, 1.00131372, 0.99794821],\n",
       "       [1.01253466, 1.00420284, 0.99660205],\n",
       "       [1.01360808, 1.00612251, 0.99574902],\n",
       "       [1.01208141, 1.00309208, 0.99707178],\n",
       "       [1.0121893 , 1.00309176, 0.99705591],\n",
       "       [1.00997845, 0.99994605, 0.99852773],\n",
       "       [1.00849092, 0.99812663, 0.99941308],\n",
       "       [1.00719577, 0.99667635, 1.00013681],\n",
       "       [1.00295054, 0.99282627, 1.0021868 ],\n",
       "       [1.        , 1.        , 1.        ],\n",
       "       [1.00007501, 0.99996789, 1.00000044],\n",
       "       [1.00016898, 0.99995553, 0.99999082],\n",
       "       [1.0002994 , 0.99998512, 0.99996042],\n",
       "       [1.00011659, 0.9997072 , 1.00008934],\n",
       "       [1.0000714 , 0.99957746, 1.00014351],\n",
       "       [1.00023195, 0.99960713, 1.00010853],\n",
       "       [1.00017246, 0.99946297, 1.00017012],\n",
       "       [1.0001297 , 0.99933537, 1.00022316],\n",
       "       [0.99993248, 0.99910482, 1.00033705],\n",
       "       [0.99999528, 0.99905166, 1.00034703],\n",
       "       [1.00019572, 0.99909913, 1.00029953],\n",
       "       [1.00028837, 0.99907393, 1.00029481],\n",
       "       [1.00041866, 0.99908036, 1.00027287],\n",
       "       [0.99967757, 0.99847457, 1.0006058 ],\n",
       "       [0.99990158, 0.99851758, 1.00055636],\n",
       "       [0.99946737, 0.99816485, 1.00075074],\n",
       "       [1.00003668, 0.99841861, 1.00057222],\n",
       "       [0.99988915, 0.99822607, 1.00066485],\n",
       "       [0.99946452, 0.99787444, 1.00085744],\n",
       "       [0.99925479, 0.99766444, 1.00096591],\n",
       "       [1.00032167, 0.99824245, 1.00059379],\n",
       "       [0.99959067, 0.99766138, 1.00091645],\n",
       "       [0.99890547, 0.99719602, 1.00119012],\n",
       "       [0.99920533, 0.99725079, 1.00112487],\n",
       "       [0.99812854, 0.99667395, 1.00149864],\n",
       "       [0.99797088, 0.99651413, 1.00158105],\n",
       "       [0.99725731, 0.99623123, 1.00179259],\n",
       "       [0.99868606, 0.99659627, 1.00144304],\n",
       "       [0.99880639, 0.99655713, 1.00143925],\n",
       "       [0.99676836, 0.99579288, 1.00202739],\n",
       "       [0.99809569, 0.99603244, 1.00173895],\n",
       "       [0.9961681 , 0.99551057, 1.00222186],\n",
       "       [0.99569372, 0.99543294, 1.00232218],\n",
       "       [0.99502004, 0.99563071, 1.00235152],\n",
       "       [0.99505312, 0.99533796, 1.00245409],\n",
       "       [0.99760426, 0.99532099, 1.00207442],\n",
       "       [0.99441752, 0.99550561, 1.00248879],\n",
       "       [0.99601973, 0.99468453, 1.00254798],\n",
       "       [0.99426207, 0.99502352, 1.00268959],\n",
       "       [0.99447007, 0.9945963 , 1.00281521],\n",
       "       [0.99514182, 0.99424827, 1.00284146],\n",
       "       [0.99384995, 0.9946077 , 1.00290508],\n",
       "       [0.99347109, 0.99488746, 1.00285964],\n",
       "       [0.99374438, 0.99417316, 1.00308105],\n",
       "       [0.99355845, 0.9940772 , 1.00314461],\n",
       "       [0.99299492, 0.99459838, 1.00303831],\n",
       "       [0.99282311, 0.9945511 , 1.00308182],\n",
       "       [0.9926398 , 0.9945742 , 1.00310117],\n",
       "       [0.99255881, 0.99418936, 1.00325516],\n",
       "       [0.99244147, 0.9958105 , 1.00267663],\n",
       "       [0.99225754, 0.99559442, 1.00278399],\n",
       "       [0.99255195, 0.99677829, 1.00230446],\n",
       "       [0.9920245 , 0.9956851 , 1.00278608],\n",
       "       [0.991683  , 0.99448614, 1.00327906],\n",
       "       [0.99171458, 0.99548688, 1.00290606],\n",
       "       [0.99144878, 0.99491566, 1.0031566 ],\n",
       "       [0.99122555, 0.99424329, 1.0034381 ],\n",
       "       [0.99155461, 0.99607704, 1.0027135 ],\n",
       "       [0.9926723 , 0.99834474, 1.00171198],\n",
       "       [0.99118454, 0.99573849, 1.00289419],\n",
       "       [0.99217614, 0.99790144, 1.00194968],\n",
       "       [0.99117941, 0.99627695, 1.00269713],\n",
       "       [0.99225224, 0.99834512, 1.0017756 ],\n",
       "       [0.99231829, 0.99859555, 1.00167388],\n",
       "       [0.99024741, 0.99477838, 1.00339004],\n",
       "       [0.99015216, 0.99487235, 1.00336996],\n",
       "       [0.98974349, 0.99371882, 1.00385719],\n",
       "       [0.99181102, 0.99846571, 1.00179844],\n",
       "       [0.99147114, 0.9981181 , 1.00197739],\n",
       "       [0.9900519 , 0.99580826, 1.00304099],\n",
       "       [0.99402185, 1.00158224, 1.00032473],\n",
       "       [0.99080128, 0.99757059, 1.0022799 ],\n",
       "       [0.9951931 , 1.00299765, 0.9996323 ],\n",
       "       [0.99137637, 0.99873493, 1.00176591],\n",
       "       [0.99045138, 0.99751962, 1.00235183],\n",
       "       [0.99463023, 1.00276108, 0.99980341],\n",
       "       [0.9945584 , 1.00279609, 0.99980153],\n",
       "       [0.9974238 , 1.00548043, 0.99839459],\n",
       "       [0.99287007, 1.00123065, 1.00062734],\n",
       "       [0.99514314, 1.0036779 , 0.99939254],\n",
       "       [0.99593906, 1.00450993, 0.99897026],\n",
       "       [0.99921348, 1.00723441, 0.99749082],\n",
       "       [0.99378065, 1.00265552, 0.99997031],\n",
       "       [0.99332848, 1.00229604, 1.00016962],\n",
       "       [0.99974393, 1.0078944 , 0.99717281],\n",
       "       [0.99877377, 1.00729651, 0.9975344 ],\n",
       "       [0.99776248, 1.00662308, 0.9979299 ],\n",
       "       [0.9999265 , 1.00830595, 0.99699689],\n",
       "       [0.99917432, 1.00787447, 0.99726547],\n",
       "       [0.9982871 , 1.00731608, 0.99760044],\n",
       "       [0.99177188, 1.00139559, 1.00073371],\n",
       "       [0.99589145, 1.00556635, 0.9985943 ],\n",
       "       [0.99940089, 1.00841755, 0.99703544],\n",
       "       [1.00837137, 1.01298912, 0.99405439],\n",
       "       [0.99777888, 1.00740744, 0.99764381],\n",
       "       [1.00004067, 1.0091468 , 0.99667652],\n",
       "       [1.00285598, 1.01098861, 0.99559254],\n",
       "       [1.00397604, 1.01168796, 0.99517427],\n",
       "       [1.00592221, 1.01270013, 0.9945215 ]])"
      ]
     },
     "execution_count": 32,
     "metadata": {},
     "output_type": "execute_result"
    }
   ],
   "source": [
    "exp_z"
   ]
  },
  {
   "cell_type": "code",
   "execution_count": 38,
   "metadata": {
    "id": "7YQoaIm07K12"
   },
   "outputs": [],
   "source": [
    "#activation -softmax\n",
    "exp_z = np.exp(z)\n",
    "probs = exp_z / np.sum(exp_z, axis=1, keepdims=True) # explain why axis=1"
   ]
  },
  {
   "cell_type": "code",
   "execution_count": 39,
   "metadata": {
    "scrolled": true
   },
   "outputs": [
    {
     "ename": "ValueError",
     "evalue": "operands could not be broadcast together with shapes (300,3) (300,) ",
     "output_type": "error",
     "traceback": [
      "\u001b[0;31m---------------------------------------------------------------------------\u001b[0m",
      "\u001b[0;31mValueError\u001b[0m                                Traceback (most recent call last)",
      "Cell \u001b[0;32mIn[39], line 1\u001b[0m\n\u001b[0;32m----> 1\u001b[0m exp_z \u001b[38;5;241m/\u001b[39m np\u001b[38;5;241m.\u001b[39msum(exp_z, axis\u001b[38;5;241m=\u001b[39m\u001b[38;5;241m1\u001b[39m, keepdims\u001b[38;5;241m=\u001b[39m\u001b[38;5;28;01mFalse\u001b[39;00m)\n",
      "\u001b[0;31mValueError\u001b[0m: operands could not be broadcast together with shapes (300,3) (300,) "
     ]
    }
   ],
   "source": [
    "exp_z / np.sum(exp_z, axis=1, keepdims=False)"
   ]
  },
  {
   "cell_type": "code",
   "execution_count": 40,
   "metadata": {
    "colab": {
     "base_uri": "https://localhost:8080/"
    },
    "id": "zmVZ4DFqJbbG",
    "outputId": "e7041fb6-662f-41c8-8c71-6380fab9e0a2",
    "scrolled": true
   },
   "outputs": [
    {
     "data": {
      "text/plain": [
       "array([[0.33333333, 0.33333333, 0.33333333],\n",
       "       [0.33335062, 0.33335958, 0.33328981],\n",
       "       [0.33338938, 0.33336706, 0.33324356],\n",
       "       [0.33340576, 0.33339928, 0.33319496],\n",
       "       [0.33340867, 0.33343564, 0.33315569],\n",
       "       [0.333444  , 0.33345149, 0.3331045 ],\n",
       "       [0.33350276, 0.33343195, 0.33306529],\n",
       "       [0.33351517, 0.33347328, 0.33301155],\n",
       "       [0.33351879, 0.33351589, 0.33296532],\n",
       "       [0.33357844, 0.33349737, 0.33292419],\n",
       "       [0.33358513, 0.33354251, 0.33287236],\n",
       "       [0.33361247, 0.33356101, 0.33282652],\n",
       "       [0.33364472, 0.33357356, 0.33278173],\n",
       "       [0.33364257, 0.33362313, 0.3327343 ],\n",
       "       [0.33371592, 0.33358627, 0.3326978 ],\n",
       "       [0.333772  , 0.33354281, 0.33268519],\n",
       "       [0.33379987, 0.33356077, 0.33263935],\n",
       "       [0.3338433 , 0.33352029, 0.33263641],\n",
       "       [0.3338564 , 0.33359414, 0.33254946],\n",
       "       [0.33390952, 0.3334847 , 0.33260578],\n",
       "       [0.3339402 , 0.3334661 , 0.3325937 ],\n",
       "       [0.33394646, 0.33362936, 0.33242417],\n",
       "       [0.33399862, 0.33353622, 0.33246517],\n",
       "       [0.33402497, 0.33357607, 0.33239895],\n",
       "       [0.33406127, 0.33347963, 0.33245911],\n",
       "       [0.33408965, 0.33356046, 0.33234989],\n",
       "       [0.33412211, 0.33353232, 0.33234557],\n",
       "       [0.33414951, 0.33345656, 0.33239392],\n",
       "       [0.33414893, 0.33330852, 0.33254255],\n",
       "       [0.33421239, 0.33357317, 0.33221445],\n",
       "       [0.33422637, 0.33338071, 0.33239293],\n",
       "       [0.3342385 , 0.3333129 , 0.3324486 ],\n",
       "       [0.3341494 , 0.33305222, 0.33279838],\n",
       "       [0.33415366, 0.33301043, 0.33283591],\n",
       "       [0.33427384, 0.33317138, 0.33255478],\n",
       "       [0.33426666, 0.33309619, 0.33263714],\n",
       "       [0.33403972, 0.3327539 , 0.33320638],\n",
       "       [0.33417539, 0.33286559, 0.33295903],\n",
       "       [0.33428138, 0.33296648, 0.33275213],\n",
       "       [0.33429985, 0.33294707, 0.33275308],\n",
       "       [0.33441272, 0.33308631, 0.33250097],\n",
       "       [0.33398577, 0.33254039, 0.33347384],\n",
       "       [0.33403655, 0.33254887, 0.33341459],\n",
       "       [0.33426975, 0.3327394 , 0.33299085],\n",
       "       [0.33419059, 0.3326191 , 0.33319032],\n",
       "       [0.33361081, 0.33220676, 0.33418244],\n",
       "       [0.33391286, 0.33233633, 0.33375081],\n",
       "       [0.33415874, 0.33248777, 0.33335348],\n",
       "       [0.33416301, 0.33245845, 0.33337854],\n",
       "       [0.33403918, 0.33233087, 0.33362996],\n",
       "       [0.3345484 , 0.33280272, 0.33264887],\n",
       "       [0.33384835, 0.33215289, 0.33399876],\n",
       "       [0.33389538, 0.33215035, 0.33395427],\n",
       "       [0.33430749, 0.3324181 , 0.33327441],\n",
       "       [0.33378708, 0.3320363 , 0.33417662],\n",
       "       [0.33357976, 0.33192052, 0.33449971],\n",
       "       [0.33369873, 0.33194024, 0.33436103],\n",
       "       [0.33344976, 0.33182349, 0.33472675],\n",
       "       [0.33333322, 0.33176581, 0.33490097],\n",
       "       [0.33316847, 0.331707  , 0.33512453],\n",
       "       [0.33321938, 0.33168835, 0.33509227],\n",
       "       [0.33230741, 0.33171903, 0.33597356],\n",
       "       [0.33273467, 0.33160408, 0.33566125],\n",
       "       [0.33308298, 0.33158682, 0.3353302 ],\n",
       "       [0.33290436, 0.33154579, 0.33554985],\n",
       "       [0.33304003, 0.33152758, 0.33543239],\n",
       "       [0.33259105, 0.33150193, 0.33590702],\n",
       "       [0.33248616, 0.33148766, 0.33602618],\n",
       "       [0.33287766, 0.33143413, 0.33568821],\n",
       "       [0.33292732, 0.33140889, 0.33566379],\n",
       "       [0.33248064, 0.33139972, 0.33611964],\n",
       "       [0.33208812, 0.33147294, 0.33643894],\n",
       "       [0.33266205, 0.33132381, 0.33601413],\n",
       "       [0.33287343, 0.33129576, 0.33583081],\n",
       "       [0.33225885, 0.33132348, 0.33641767],\n",
       "       [0.33234522, 0.33127427, 0.33638051],\n",
       "       [0.33203262, 0.33132939, 0.33663799],\n",
       "       [0.33198198, 0.33131571, 0.33670231],\n",
       "       [0.33168653, 0.33142844, 0.33688503],\n",
       "       [0.33177176, 0.33134302, 0.33688522],\n",
       "       [0.33164989, 0.33137594, 0.33697417],\n",
       "       [0.33207936, 0.33115388, 0.33676676],\n",
       "       [0.33142765, 0.33145539, 0.33711697],\n",
       "       [0.33098694, 0.33196127, 0.33705179],\n",
       "       [0.33091055, 0.33205362, 0.33703583],\n",
       "       [0.33174983, 0.33114419, 0.33710598],\n",
       "       [0.33089125, 0.33193406, 0.3371747 ],\n",
       "       [0.33106972, 0.33158455, 0.33734574],\n",
       "       [0.33093598, 0.33171534, 0.33734868],\n",
       "       [0.33088711, 0.33173197, 0.33738092],\n",
       "       [0.33070855, 0.33203916, 0.3372523 ],\n",
       "       [0.33073196, 0.33189012, 0.33737792],\n",
       "       [0.33055193, 0.33247645, 0.33697162],\n",
       "       [0.33054314, 0.33230104, 0.33715582],\n",
       "       [0.33055535, 0.33209918, 0.33734547],\n",
       "       [0.33053668, 0.33204774, 0.33741558],\n",
       "       [0.33048482, 0.33211625, 0.33739893],\n",
       "       [0.33051004, 0.33192124, 0.33756872],\n",
       "       [0.33044086, 0.33325283, 0.33630631],\n",
       "       [0.33049512, 0.3317807 , 0.33772417],\n",
       "       [0.33333333, 0.33333333, 0.33333333],\n",
       "       [0.33330317, 0.33332929, 0.33336754],\n",
       "       [0.33327789, 0.33334247, 0.33337964],\n",
       "       [0.33324264, 0.33330536, 0.333452  ],\n",
       "       [0.33321221, 0.33329833, 0.33348945],\n",
       "       [0.33318258, 0.33331343, 0.333504  ],\n",
       "       [0.33315393, 0.33331925, 0.33352682],\n",
       "       [0.33312897, 0.33333744, 0.33353359],\n",
       "       [0.33309086, 0.33328683, 0.33362231],\n",
       "       [0.33307554, 0.33335373, 0.33357072],\n",
       "       [0.33303211, 0.33329562, 0.33367227],\n",
       "       [0.33306414, 0.33344676, 0.33348911],\n",
       "       [0.33301212, 0.33341154, 0.33357634],\n",
       "       [0.33297334, 0.33339335, 0.3336333 ],\n",
       "       [0.33296772, 0.33344116, 0.33359112],\n",
       "       [0.33291033, 0.33338462, 0.33370505],\n",
       "       [0.33294718, 0.33350595, 0.33354687],\n",
       "       [0.33287559, 0.3334388 , 0.33368562],\n",
       "       [0.3328833 , 0.3335046 , 0.3336121 ],\n",
       "       [0.33282258, 0.33345281, 0.33372461],\n",
       "       [0.33286455, 0.33356798, 0.33356747],\n",
       "       [0.33293239, 0.33368194, 0.33338567],\n",
       "       [0.33303393, 0.33379612, 0.33316995],\n",
       "       [0.33319006, 0.3339095 , 0.33290044],\n",
       "       [0.33279752, 0.33364854, 0.33355394],\n",
       "       [0.33267898, 0.33352296, 0.33379806],\n",
       "       [0.33287777, 0.33380208, 0.33332014],\n",
       "       [0.3330991 , 0.3339795 , 0.33292141],\n",
       "       [0.3326275 , 0.33359048, 0.33378202],\n",
       "       [0.3328244 , 0.33385547, 0.33332013],\n",
       "       [0.3329013 , 0.33394791, 0.33315079],\n",
       "       [0.33292473, 0.33399447, 0.3330808 ],\n",
       "       [0.33293434, 0.33403062, 0.33303505],\n",
       "       [0.3332198 , 0.33419481, 0.33258539],\n",
       "       [0.33299937, 0.33412695, 0.33287368],\n",
       "       [0.33288959, 0.33409134, 0.33301907],\n",
       "       [0.33318794, 0.33426581, 0.33254625],\n",
       "       [0.33332427, 0.33433305, 0.33234268],\n",
       "       [0.33319329, 0.33432231, 0.33248439],\n",
       "       [0.33328813, 0.33437817, 0.3323337 ],\n",
       "       [0.3329998 , 0.33429756, 0.33270264],\n",
       "       [0.33319484, 0.3344047 , 0.33240046],\n",
       "       [0.33361431, 0.33450723, 0.33187846],\n",
       "       [0.33330059, 0.33448986, 0.33220955],\n",
       "       [0.33363117, 0.33456324, 0.3318056 ],\n",
       "       [0.33318086, 0.33450918, 0.33230997],\n",
       "       [0.3334916 , 0.33460744, 0.33190096],\n",
       "       [0.33409028, 0.3345851 , 0.33132462],\n",
       "       [0.33396834, 0.33464849, 0.33138318],\n",
       "       [0.3338897 , 0.33469132, 0.33141898],\n",
       "       [0.33401038, 0.33469995, 0.33128967],\n",
       "       [0.33403111, 0.33472567, 0.33124321],\n",
       "       [0.33387275, 0.33478029, 0.33134697],\n",
       "       [0.33401852, 0.33478856, 0.33119292],\n",
       "       [0.33432051, 0.33472566, 0.33095383],\n",
       "       [0.33419553, 0.33480547, 0.330999  ],\n",
       "       [0.33468378, 0.33456111, 0.3307551 ],\n",
       "       [0.33445953, 0.3347614 , 0.33077907],\n",
       "       [0.33488323, 0.33443001, 0.33068677],\n",
       "       [0.33457259, 0.33476843, 0.33065898],\n",
       "       [0.33454181, 0.33482363, 0.33063455],\n",
       "       [0.33478947, 0.33468405, 0.33052648],\n",
       "       [0.33475746, 0.33475405, 0.33048849],\n",
       "       [0.33485065, 0.33471572, 0.33043363],\n",
       "       [0.33507876, 0.33448957, 0.33043167],\n",
       "       [0.33491465, 0.33474429, 0.33034106],\n",
       "       [0.33529096, 0.33415667, 0.33055237],\n",
       "       [0.33512469, 0.33459772, 0.33027759],\n",
       "       [0.33485711, 0.33492073, 0.33022216],\n",
       "       [0.33542781, 0.33382148, 0.33075071],\n",
       "       [0.33502501, 0.3348631 , 0.33011189],\n",
       "       [0.33514279, 0.33478686, 0.33007035],\n",
       "       [0.33551789, 0.33376739, 0.33071472],\n",
       "       [0.33540109, 0.33451109, 0.33008782],\n",
       "       [0.33545506, 0.33447049, 0.33007445],\n",
       "       [0.33555448, 0.3342809 , 0.33016462],\n",
       "       [0.3355284 , 0.33446207, 0.33000952],\n",
       "       [0.33566886, 0.33377654, 0.3305546 ],\n",
       "       [0.33568288, 0.33412594, 0.33019118],\n",
       "       [0.33564633, 0.33441994, 0.32993373],\n",
       "       [0.33576131, 0.33393128, 0.33030741],\n",
       "       [0.33578306, 0.33407617, 0.33014077],\n",
       "       [0.33576831, 0.33342402, 0.33080767],\n",
       "       [0.33571942, 0.33315382, 0.33112675],\n",
       "       [0.33580931, 0.33335059, 0.3308401 ],\n",
       "       [0.33588556, 0.3335712 , 0.33054324],\n",
       "       [0.33576716, 0.33304433, 0.33118851],\n",
       "       [0.33595832, 0.33418505, 0.32985663],\n",
       "       [0.33583159, 0.33305712, 0.33111129],\n",
       "       [0.33580337, 0.33291904, 0.33127759],\n",
       "       [0.33566913, 0.33260333, 0.33172754],\n",
       "       [0.33574692, 0.33268563, 0.33156745],\n",
       "       [0.33601745, 0.33325247, 0.33073009],\n",
       "       [0.33613495, 0.33365257, 0.33021249],\n",
       "       [0.33598905, 0.33300478, 0.33100617],\n",
       "       [0.33601463, 0.33299454, 0.33099083],\n",
       "       [0.33571364, 0.3323789 , 0.33190746],\n",
       "       [0.33548924, 0.3320414 , 0.33246936],\n",
       "       [0.33528388, 0.33178209, 0.33293403],\n",
       "       [0.33454393, 0.33116688, 0.33428918],\n",
       "       [0.33333333, 0.33333333, 0.33333333],\n",
       "       [0.33335352, 0.33331781, 0.33332867],\n",
       "       [0.33337684, 0.3333057 , 0.33331746],\n",
       "       [0.33340591, 0.33330116, 0.33329293],\n",
       "       [0.33338185, 0.33324538, 0.33337277],\n",
       "       [0.33338021, 0.33321555, 0.33340425],\n",
       "       [0.33341647, 0.3332082 , 0.33337533],\n",
       "       [0.33341243, 0.33317592, 0.33341165],\n",
       "       [0.33341122, 0.33314641, 0.33344237],\n",
       "       [0.33338035, 0.33310441, 0.33351524],\n",
       "       [0.33339911, 0.33308451, 0.33351638],\n",
       "       [0.33344366, 0.33307808, 0.33347826],\n",
       "       [0.33346757, 0.33306271, 0.33346972],\n",
       "       [0.33349824, 0.33305211, 0.33344964],\n",
       "       [0.33336387, 0.33296271, 0.33367341],\n",
       "       [0.33341439, 0.3329529 , 0.33363272],\n",
       "       [0.33333546, 0.33290106, 0.33376348],\n",
       "       [0.33345365, 0.33291412, 0.33363223],\n",
       "       [0.33343197, 0.33287738, 0.33369064],\n",
       "       [0.33335525, 0.33282491, 0.33381984],\n",
       "       [0.3333199 , 0.33278942, 0.33389068],\n",
       "       [0.33353418, 0.33284091, 0.33362491],\n",
       "       [0.33340043, 0.33275694, 0.33384263],\n",
       "       [0.33326936, 0.33269903, 0.3340316 ],\n",
       "       [0.33333723, 0.33268519, 0.33397759],\n",
       "       [0.33312023, 0.33263478, 0.33424499],\n",
       "       [0.33309375, 0.33260753, 0.33429872],\n",
       "       [0.33294281, 0.33260024, 0.33445695],\n",
       "       [0.33325912, 0.33256176, 0.33417912],\n",
       "       [0.33329067, 0.33254011, 0.33416922],\n",
       "       [0.33285652, 0.33253077, 0.3346127 ],\n",
       "       [0.33315753, 0.33246883, 0.33437363],\n",
       "       [0.33273253, 0.33251291, 0.33475456],\n",
       "       [0.33262427, 0.33253715, 0.33483859],\n",
       "       [0.33244881, 0.33265284, 0.33489835],\n",
       "       [0.33247731, 0.33257249, 0.3349502 ],\n",
       "       [0.33308994, 0.33232758, 0.33458248],\n",
       "       [0.33231304, 0.33267666, 0.33501029],\n",
       "       [0.33275503, 0.33230896, 0.33493602],\n",
       "       [0.3323096 , 0.3325641 , 0.33512631],\n",
       "       [0.33238952, 0.33243171, 0.33517878],\n",
       "       [0.33257514, 0.33227651, 0.33514835],\n",
       "       [0.33223987, 0.33249318, 0.33526696],\n",
       "       [0.33212926, 0.33260277, 0.33526797],\n",
       "       [0.33224502, 0.33238837, 0.33536661],\n",
       "       [0.3322071 , 0.33238055, 0.33541234],\n",
       "       [0.33203518, 0.33257135, 0.33539347],\n",
       "       [0.33199723, 0.33257506, 0.33542771],\n",
       "       [0.33195157, 0.33259845, 0.33544998],\n",
       "       [0.3319591 , 0.33250443, 0.33553647],\n",
       "       [0.33181717, 0.33294359, 0.33523924],\n",
       "       [0.33178814, 0.33290392, 0.33530794],\n",
       "       [0.33177578, 0.3331885 , 0.33503571],\n",
       "       [0.33172578, 0.33294985, 0.33532437],\n",
       "       [0.33172777, 0.33266545, 0.33560677],\n",
       "       [0.33166519, 0.33292678, 0.33540803],\n",
       "       [0.33164135, 0.33280102, 0.33555763],\n",
       "       [0.3316348 , 0.33264444, 0.33572076],\n",
       "       [0.33158534, 0.33309768, 0.33531698],\n",
       "       [0.33169468, 0.33359009, 0.33471523],\n",
       "       [0.33152011, 0.33304326, 0.33543662],\n",
       "       [0.33160665, 0.33352017, 0.33487318],\n",
       "       [0.33148111, 0.33318589, 0.335333  ],\n",
       "       [0.33159377, 0.33362991, 0.33477632],\n",
       "       [0.33159205, 0.33368965, 0.3347183 ],\n",
       "       [0.33136199, 0.33287817, 0.33575985],\n",
       "       [0.33133248, 0.33291199, 0.33575553],\n",
       "       [0.33131491, 0.33264564, 0.33603945],\n",
       "       [0.33147931, 0.33370342, 0.33481727],\n",
       "       [0.33142205, 0.33364395, 0.334934  ],\n",
       "       [0.33124277, 0.33316868, 0.33558855],\n",
       "       [0.33179088, 0.33431443, 0.33389469],\n",
       "       [0.33129945, 0.33356294, 0.33513762],\n",
       "       [0.33197193, 0.33457533, 0.33345274],\n",
       "       [0.33135597, 0.33381548, 0.33482855],\n",
       "       [0.33121888, 0.33358259, 0.33519853],\n",
       "       [0.33185372, 0.33456654, 0.33357973],\n",
       "       [0.33183404, 0.33458255, 0.33358341],\n",
       "       [0.33233072, 0.3350151 , 0.33265418],\n",
       "       [0.33153931, 0.33433107, 0.33412962],\n",
       "       [0.33191202, 0.33475864, 0.33332933],\n",
       "       [0.33204396, 0.33490148, 0.33305456],\n",
       "       [0.33263444, 0.33530458, 0.33206098],\n",
       "       [0.33165749, 0.33461933, 0.33372318],\n",
       "       [0.33157434, 0.33456773, 0.33385793],\n",
       "       [0.3327144 , 0.33542687, 0.33185873],\n",
       "       [0.33252504, 0.33536255, 0.33211241],\n",
       "       [0.33233099, 0.33528225, 0.33238676],\n",
       "       [0.33272885, 0.33551714, 0.33175401],\n",
       "       [0.33257983, 0.33547571, 0.33194446],\n",
       "       [0.3324074 , 0.33541385, 0.33217875],\n",
       "       [0.33126407, 0.3344785 , 0.33425743],\n",
       "       [0.33195805, 0.33518296, 0.33285899],\n",
       "       [0.3325955 , 0.3355962 , 0.33180829],\n",
       "       [0.33440552, 0.3359369 , 0.32965758],\n",
       "       [0.33227949, 0.33548599, 0.33223451],\n",
       "       [0.33269658, 0.33572604, 0.33157739],\n",
       "       [0.33323706, 0.33593943, 0.33082351],\n",
       "       [0.33345399, 0.33601538, 0.33053063],\n",
       "       [0.33384473, 0.33609419, 0.33006108]])"
      ]
     },
     "execution_count": 40,
     "metadata": {},
     "output_type": "execute_result"
    }
   ],
   "source": [
    "probs"
   ]
  },
  {
   "cell_type": "code",
   "execution_count": 41,
   "metadata": {
    "colab": {
     "base_uri": "https://localhost:8080/"
    },
    "id": "nsoEkd9m7PnH",
    "outputId": "53710533-e393-42fc-9ea4-b99f558dbfe8"
   },
   "outputs": [
    {
     "data": {
      "text/plain": [
       "(300, 3)"
      ]
     },
     "execution_count": 41,
     "metadata": {},
     "output_type": "execute_result"
    }
   ],
   "source": [
    "probs.shape"
   ]
  },
  {
   "cell_type": "code",
   "execution_count": 42,
   "metadata": {
    "id": "0BO3IpqsXof5"
   },
   "outputs": [],
   "source": [
    "m=y.shape[0] #no of points"
   ]
  },
  {
   "cell_type": "code",
   "execution_count": 50,
   "metadata": {},
   "outputs": [
    {
     "data": {
      "text/plain": [
       "300"
      ]
     },
     "execution_count": 50,
     "metadata": {},
     "output_type": "execute_result"
    }
   ],
   "source": [
    "m"
   ]
  },
  {
   "cell_type": "code",
   "execution_count": 51,
   "metadata": {
    "collapsed": true,
    "jupyter": {
     "outputs_hidden": true
    }
   },
   "outputs": [
    {
     "data": {
      "text/plain": [
       "array([0, 0, 0, 0, 0, 0, 0, 0, 0, 0, 0, 0, 0, 0, 0, 0, 0, 0, 0, 0, 0, 0,\n",
       "       0, 0, 0, 0, 0, 0, 0, 0, 0, 0, 0, 0, 0, 0, 0, 0, 0, 0, 0, 0, 0, 0,\n",
       "       0, 0, 0, 0, 0, 0, 0, 0, 0, 0, 0, 0, 0, 0, 0, 0, 0, 0, 0, 0, 0, 0,\n",
       "       0, 0, 0, 0, 0, 0, 0, 0, 0, 0, 0, 0, 0, 0, 0, 0, 0, 0, 0, 0, 0, 0,\n",
       "       0, 0, 0, 0, 0, 0, 0, 0, 0, 0, 0, 0, 1, 1, 1, 1, 1, 1, 1, 1, 1, 1,\n",
       "       1, 1, 1, 1, 1, 1, 1, 1, 1, 1, 1, 1, 1, 1, 1, 1, 1, 1, 1, 1, 1, 1,\n",
       "       1, 1, 1, 1, 1, 1, 1, 1, 1, 1, 1, 1, 1, 1, 1, 1, 1, 1, 1, 1, 1, 1,\n",
       "       1, 1, 1, 1, 1, 1, 1, 1, 1, 1, 1, 1, 1, 1, 1, 1, 1, 1, 1, 1, 1, 1,\n",
       "       1, 1, 1, 1, 1, 1, 1, 1, 1, 1, 1, 1, 1, 1, 1, 1, 1, 1, 1, 1, 1, 1,\n",
       "       1, 1, 2, 2, 2, 2, 2, 2, 2, 2, 2, 2, 2, 2, 2, 2, 2, 2, 2, 2, 2, 2,\n",
       "       2, 2, 2, 2, 2, 2, 2, 2, 2, 2, 2, 2, 2, 2, 2, 2, 2, 2, 2, 2, 2, 2,\n",
       "       2, 2, 2, 2, 2, 2, 2, 2, 2, 2, 2, 2, 2, 2, 2, 2, 2, 2, 2, 2, 2, 2,\n",
       "       2, 2, 2, 2, 2, 2, 2, 2, 2, 2, 2, 2, 2, 2, 2, 2, 2, 2, 2, 2, 2, 2,\n",
       "       2, 2, 2, 2, 2, 2, 2, 2, 2, 2, 2, 2, 2, 2])"
      ]
     },
     "execution_count": 51,
     "metadata": {},
     "output_type": "execute_result"
    }
   ],
   "source": [
    "y"
   ]
  },
  {
   "cell_type": "code",
   "execution_count": 52,
   "metadata": {
    "colab": {
     "base_uri": "https://localhost:8080/"
    },
    "id": "geMSNvxw-Gsm",
    "outputId": "6fed195d-cd38-4cdc-befb-240ff0f5eabd",
    "scrolled": true
   },
   "outputs": [
    {
     "data": {
      "text/plain": [
       "array([0.33333333, 0.33335062, 0.33338938, 0.33340576, 0.33340867,\n",
       "       0.333444  , 0.33350276, 0.33351517, 0.33351879, 0.33357844,\n",
       "       0.33358513, 0.33361247, 0.33364472, 0.33364257, 0.33371592,\n",
       "       0.333772  , 0.33379987, 0.3338433 , 0.3338564 , 0.33390952,\n",
       "       0.3339402 , 0.33394646, 0.33399862, 0.33402497, 0.33406127,\n",
       "       0.33408965, 0.33412211, 0.33414951, 0.33414893, 0.33421239,\n",
       "       0.33422637, 0.3342385 , 0.3341494 , 0.33415366, 0.33427384,\n",
       "       0.33426666, 0.33403972, 0.33417539, 0.33428138, 0.33429985,\n",
       "       0.33441272, 0.33398577, 0.33403655, 0.33426975, 0.33419059,\n",
       "       0.33361081, 0.33391286, 0.33415874, 0.33416301, 0.33403918,\n",
       "       0.3345484 , 0.33384835, 0.33389538, 0.33430749, 0.33378708,\n",
       "       0.33357976, 0.33369873, 0.33344976, 0.33333322, 0.33316847,\n",
       "       0.33321938, 0.33230741, 0.33273467, 0.33308298, 0.33290436,\n",
       "       0.33304003, 0.33259105, 0.33248616, 0.33287766, 0.33292732,\n",
       "       0.33248064, 0.33208812, 0.33266205, 0.33287343, 0.33225885,\n",
       "       0.33234522, 0.33203262, 0.33198198, 0.33168653, 0.33177176,\n",
       "       0.33164989, 0.33207936, 0.33142765, 0.33098694, 0.33091055,\n",
       "       0.33174983, 0.33089125, 0.33106972, 0.33093598, 0.33088711,\n",
       "       0.33070855, 0.33073196, 0.33055193, 0.33054314, 0.33055535,\n",
       "       0.33053668, 0.33048482, 0.33051004, 0.33044086, 0.33049512,\n",
       "       0.33333333, 0.33332929, 0.33334247, 0.33330536, 0.33329833,\n",
       "       0.33331343, 0.33331925, 0.33333744, 0.33328683, 0.33335373,\n",
       "       0.33329562, 0.33344676, 0.33341154, 0.33339335, 0.33344116,\n",
       "       0.33338462, 0.33350595, 0.3334388 , 0.3335046 , 0.33345281,\n",
       "       0.33356798, 0.33368194, 0.33379612, 0.3339095 , 0.33364854,\n",
       "       0.33352296, 0.33380208, 0.3339795 , 0.33359048, 0.33385547,\n",
       "       0.33394791, 0.33399447, 0.33403062, 0.33419481, 0.33412695,\n",
       "       0.33409134, 0.33426581, 0.33433305, 0.33432231, 0.33437817,\n",
       "       0.33429756, 0.3344047 , 0.33450723, 0.33448986, 0.33456324,\n",
       "       0.33450918, 0.33460744, 0.3345851 , 0.33464849, 0.33469132,\n",
       "       0.33469995, 0.33472567, 0.33478029, 0.33478856, 0.33472566,\n",
       "       0.33480547, 0.33456111, 0.3347614 , 0.33443001, 0.33476843,\n",
       "       0.33482363, 0.33468405, 0.33475405, 0.33471572, 0.33448957,\n",
       "       0.33474429, 0.33415667, 0.33459772, 0.33492073, 0.33382148,\n",
       "       0.3348631 , 0.33478686, 0.33376739, 0.33451109, 0.33447049,\n",
       "       0.3342809 , 0.33446207, 0.33377654, 0.33412594, 0.33441994,\n",
       "       0.33393128, 0.33407617, 0.33342402, 0.33315382, 0.33335059,\n",
       "       0.3335712 , 0.33304433, 0.33418505, 0.33305712, 0.33291904,\n",
       "       0.33260333, 0.33268563, 0.33325247, 0.33365257, 0.33300478,\n",
       "       0.33299454, 0.3323789 , 0.3320414 , 0.33178209, 0.33116688,\n",
       "       0.33333333, 0.33332867, 0.33331746, 0.33329293, 0.33337277,\n",
       "       0.33340425, 0.33337533, 0.33341165, 0.33344237, 0.33351524,\n",
       "       0.33351638, 0.33347826, 0.33346972, 0.33344964, 0.33367341,\n",
       "       0.33363272, 0.33376348, 0.33363223, 0.33369064, 0.33381984,\n",
       "       0.33389068, 0.33362491, 0.33384263, 0.3340316 , 0.33397759,\n",
       "       0.33424499, 0.33429872, 0.33445695, 0.33417912, 0.33416922,\n",
       "       0.3346127 , 0.33437363, 0.33475456, 0.33483859, 0.33489835,\n",
       "       0.3349502 , 0.33458248, 0.33501029, 0.33493602, 0.33512631,\n",
       "       0.33517878, 0.33514835, 0.33526696, 0.33526797, 0.33536661,\n",
       "       0.33541234, 0.33539347, 0.33542771, 0.33544998, 0.33553647,\n",
       "       0.33523924, 0.33530794, 0.33503571, 0.33532437, 0.33560677,\n",
       "       0.33540803, 0.33555763, 0.33572076, 0.33531698, 0.33471523,\n",
       "       0.33543662, 0.33487318, 0.335333  , 0.33477632, 0.3347183 ,\n",
       "       0.33575985, 0.33575553, 0.33603945, 0.33481727, 0.334934  ,\n",
       "       0.33558855, 0.33389469, 0.33513762, 0.33345274, 0.33482855,\n",
       "       0.33519853, 0.33357973, 0.33358341, 0.33265418, 0.33412962,\n",
       "       0.33332933, 0.33305456, 0.33206098, 0.33372318, 0.33385793,\n",
       "       0.33185873, 0.33211241, 0.33238676, 0.33175401, 0.33194446,\n",
       "       0.33217875, 0.33425743, 0.33285899, 0.33180829, 0.32965758,\n",
       "       0.33223451, 0.33157739, 0.33082351, 0.33053063, 0.33006108])"
      ]
     },
     "execution_count": 52,
     "metadata": {},
     "output_type": "execute_result"
    }
   ],
   "source": [
    "probs[range(m), y]"
   ]
  },
  {
   "cell_type": "code",
   "execution_count": 54,
   "metadata": {},
   "outputs": [
    {
     "data": {
      "text/plain": [
       "(300, 3)"
      ]
     },
     "execution_count": 54,
     "metadata": {},
     "output_type": "execute_result"
    }
   ],
   "source": [
    "probs.shape"
   ]
  },
  {
   "cell_type": "code",
   "execution_count": 53,
   "metadata": {},
   "outputs": [
    {
     "data": {
      "text/plain": [
       "(300,)"
      ]
     },
     "execution_count": 53,
     "metadata": {},
     "output_type": "execute_result"
    }
   ],
   "source": [
    "probs[range(m), y].shape"
   ]
  },
  {
   "cell_type": "code",
   "execution_count": 55,
   "metadata": {
    "colab": {
     "base_uri": "https://localhost:8080/"
    },
    "id": "1u9qGH34BBY0",
    "outputId": "eee2a7d2-5057-4cab-bfd1-3567d2203c80"
   },
   "outputs": [
    {
     "data": {
      "text/plain": [
       "array([0, 0, 0, 0, 0, 0, 0, 0, 0, 0, 0, 0, 0, 0, 0, 0, 0, 0, 0, 0, 0, 0,\n",
       "       0, 0, 0, 0, 0, 0, 0, 0, 0, 0, 0, 0, 0, 0, 0, 0, 0, 0, 0, 0, 0, 0,\n",
       "       0, 0, 0, 0, 0, 0, 0, 0, 0, 0, 0, 0, 0, 0, 0, 0, 0, 0, 0, 0, 0, 0,\n",
       "       0, 0, 0, 0, 0, 0, 0, 0, 0, 0, 0, 0, 0, 0, 0, 0, 0, 0, 0, 0, 0, 0,\n",
       "       0, 0, 0, 0, 0, 0, 0, 0, 0, 0, 0, 0, 1, 1, 1, 1, 1, 1, 1, 1, 1, 1,\n",
       "       1, 1, 1, 1, 1, 1, 1, 1, 1, 1, 1, 1, 1, 1, 1, 1, 1, 1, 1, 1, 1, 1,\n",
       "       1, 1, 1, 1, 1, 1, 1, 1, 1, 1, 1, 1, 1, 1, 1, 1, 1, 1, 1, 1, 1, 1,\n",
       "       1, 1, 1, 1, 1, 1, 1, 1, 1, 1, 1, 1, 1, 1, 1, 1, 1, 1, 1, 1, 1, 1,\n",
       "       1, 1, 1, 1, 1, 1, 1, 1, 1, 1, 1, 1, 1, 1, 1, 1, 1, 1, 1, 1, 1, 1,\n",
       "       1, 1, 2, 2, 2, 2, 2, 2, 2, 2, 2, 2, 2, 2, 2, 2, 2, 2, 2, 2, 2, 2,\n",
       "       2, 2, 2, 2, 2, 2, 2, 2, 2, 2, 2, 2, 2, 2, 2, 2, 2, 2, 2, 2, 2, 2,\n",
       "       2, 2, 2, 2, 2, 2, 2, 2, 2, 2, 2, 2, 2, 2, 2, 2, 2, 2, 2, 2, 2, 2,\n",
       "       2, 2, 2, 2, 2, 2, 2, 2, 2, 2, 2, 2, 2, 2, 2, 2, 2, 2, 2, 2, 2, 2,\n",
       "       2, 2, 2, 2, 2, 2, 2, 2, 2, 2, 2, 2, 2, 2])"
      ]
     },
     "execution_count": 55,
     "metadata": {},
     "output_type": "execute_result"
    }
   ],
   "source": [
    "y"
   ]
  },
  {
   "cell_type": "code",
   "execution_count": 56,
   "metadata": {
    "colab": {
     "base_uri": "https://localhost:8080/"
    },
    "id": "ESXf3yCA-Y56",
    "outputId": "355c38e8-45b1-4dd8-acd0-14d92740ce02"
   },
   "outputs": [
    {
     "data": {
      "text/plain": [
       "array([[0.33333333, 0.33333333, 0.33333333],\n",
       "       [0.33335062, 0.33335958, 0.33328981],\n",
       "       [0.33338938, 0.33336706, 0.33324356],\n",
       "       [0.33340576, 0.33339928, 0.33319496],\n",
       "       [0.33340867, 0.33343564, 0.33315569],\n",
       "       [0.333444  , 0.33345149, 0.3331045 ],\n",
       "       [0.33350276, 0.33343195, 0.33306529],\n",
       "       [0.33351517, 0.33347328, 0.33301155],\n",
       "       [0.33351879, 0.33351589, 0.33296532],\n",
       "       [0.33357844, 0.33349737, 0.33292419],\n",
       "       [0.33358513, 0.33354251, 0.33287236],\n",
       "       [0.33361247, 0.33356101, 0.33282652],\n",
       "       [0.33364472, 0.33357356, 0.33278173],\n",
       "       [0.33364257, 0.33362313, 0.3327343 ],\n",
       "       [0.33371592, 0.33358627, 0.3326978 ],\n",
       "       [0.333772  , 0.33354281, 0.33268519],\n",
       "       [0.33379987, 0.33356077, 0.33263935],\n",
       "       [0.3338433 , 0.33352029, 0.33263641],\n",
       "       [0.3338564 , 0.33359414, 0.33254946],\n",
       "       [0.33390952, 0.3334847 , 0.33260578],\n",
       "       [0.3339402 , 0.3334661 , 0.3325937 ],\n",
       "       [0.33394646, 0.33362936, 0.33242417],\n",
       "       [0.33399862, 0.33353622, 0.33246517],\n",
       "       [0.33402497, 0.33357607, 0.33239895],\n",
       "       [0.33406127, 0.33347963, 0.33245911],\n",
       "       [0.33408965, 0.33356046, 0.33234989],\n",
       "       [0.33412211, 0.33353232, 0.33234557],\n",
       "       [0.33414951, 0.33345656, 0.33239392],\n",
       "       [0.33414893, 0.33330852, 0.33254255],\n",
       "       [0.33421239, 0.33357317, 0.33221445],\n",
       "       [0.33422637, 0.33338071, 0.33239293],\n",
       "       [0.3342385 , 0.3333129 , 0.3324486 ],\n",
       "       [0.3341494 , 0.33305222, 0.33279838],\n",
       "       [0.33415366, 0.33301043, 0.33283591],\n",
       "       [0.33427384, 0.33317138, 0.33255478],\n",
       "       [0.33426666, 0.33309619, 0.33263714],\n",
       "       [0.33403972, 0.3327539 , 0.33320638],\n",
       "       [0.33417539, 0.33286559, 0.33295903],\n",
       "       [0.33428138, 0.33296648, 0.33275213],\n",
       "       [0.33429985, 0.33294707, 0.33275308],\n",
       "       [0.33441272, 0.33308631, 0.33250097],\n",
       "       [0.33398577, 0.33254039, 0.33347384],\n",
       "       [0.33403655, 0.33254887, 0.33341459],\n",
       "       [0.33426975, 0.3327394 , 0.33299085],\n",
       "       [0.33419059, 0.3326191 , 0.33319032],\n",
       "       [0.33361081, 0.33220676, 0.33418244],\n",
       "       [0.33391286, 0.33233633, 0.33375081],\n",
       "       [0.33415874, 0.33248777, 0.33335348],\n",
       "       [0.33416301, 0.33245845, 0.33337854],\n",
       "       [0.33403918, 0.33233087, 0.33362996],\n",
       "       [0.3345484 , 0.33280272, 0.33264887],\n",
       "       [0.33384835, 0.33215289, 0.33399876],\n",
       "       [0.33389538, 0.33215035, 0.33395427],\n",
       "       [0.33430749, 0.3324181 , 0.33327441],\n",
       "       [0.33378708, 0.3320363 , 0.33417662],\n",
       "       [0.33357976, 0.33192052, 0.33449971],\n",
       "       [0.33369873, 0.33194024, 0.33436103],\n",
       "       [0.33344976, 0.33182349, 0.33472675],\n",
       "       [0.33333322, 0.33176581, 0.33490097],\n",
       "       [0.33316847, 0.331707  , 0.33512453],\n",
       "       [0.33321938, 0.33168835, 0.33509227],\n",
       "       [0.33230741, 0.33171903, 0.33597356],\n",
       "       [0.33273467, 0.33160408, 0.33566125],\n",
       "       [0.33308298, 0.33158682, 0.3353302 ],\n",
       "       [0.33290436, 0.33154579, 0.33554985],\n",
       "       [0.33304003, 0.33152758, 0.33543239],\n",
       "       [0.33259105, 0.33150193, 0.33590702],\n",
       "       [0.33248616, 0.33148766, 0.33602618],\n",
       "       [0.33287766, 0.33143413, 0.33568821],\n",
       "       [0.33292732, 0.33140889, 0.33566379],\n",
       "       [0.33248064, 0.33139972, 0.33611964],\n",
       "       [0.33208812, 0.33147294, 0.33643894],\n",
       "       [0.33266205, 0.33132381, 0.33601413],\n",
       "       [0.33287343, 0.33129576, 0.33583081],\n",
       "       [0.33225885, 0.33132348, 0.33641767],\n",
       "       [0.33234522, 0.33127427, 0.33638051],\n",
       "       [0.33203262, 0.33132939, 0.33663799],\n",
       "       [0.33198198, 0.33131571, 0.33670231],\n",
       "       [0.33168653, 0.33142844, 0.33688503],\n",
       "       [0.33177176, 0.33134302, 0.33688522],\n",
       "       [0.33164989, 0.33137594, 0.33697417],\n",
       "       [0.33207936, 0.33115388, 0.33676676],\n",
       "       [0.33142765, 0.33145539, 0.33711697],\n",
       "       [0.33098694, 0.33196127, 0.33705179],\n",
       "       [0.33091055, 0.33205362, 0.33703583],\n",
       "       [0.33174983, 0.33114419, 0.33710598],\n",
       "       [0.33089125, 0.33193406, 0.3371747 ],\n",
       "       [0.33106972, 0.33158455, 0.33734574],\n",
       "       [0.33093598, 0.33171534, 0.33734868],\n",
       "       [0.33088711, 0.33173197, 0.33738092],\n",
       "       [0.33070855, 0.33203916, 0.3372523 ],\n",
       "       [0.33073196, 0.33189012, 0.33737792],\n",
       "       [0.33055193, 0.33247645, 0.33697162],\n",
       "       [0.33054314, 0.33230104, 0.33715582],\n",
       "       [0.33055535, 0.33209918, 0.33734547],\n",
       "       [0.33053668, 0.33204774, 0.33741558],\n",
       "       [0.33048482, 0.33211625, 0.33739893],\n",
       "       [0.33051004, 0.33192124, 0.33756872],\n",
       "       [0.33044086, 0.33325283, 0.33630631],\n",
       "       [0.33049512, 0.3317807 , 0.33772417],\n",
       "       [0.33333333, 0.33333333, 0.33333333],\n",
       "       [0.33330317, 0.33332929, 0.33336754],\n",
       "       [0.33327789, 0.33334247, 0.33337964],\n",
       "       [0.33324264, 0.33330536, 0.333452  ],\n",
       "       [0.33321221, 0.33329833, 0.33348945],\n",
       "       [0.33318258, 0.33331343, 0.333504  ],\n",
       "       [0.33315393, 0.33331925, 0.33352682],\n",
       "       [0.33312897, 0.33333744, 0.33353359],\n",
       "       [0.33309086, 0.33328683, 0.33362231],\n",
       "       [0.33307554, 0.33335373, 0.33357072],\n",
       "       [0.33303211, 0.33329562, 0.33367227],\n",
       "       [0.33306414, 0.33344676, 0.33348911],\n",
       "       [0.33301212, 0.33341154, 0.33357634],\n",
       "       [0.33297334, 0.33339335, 0.3336333 ],\n",
       "       [0.33296772, 0.33344116, 0.33359112],\n",
       "       [0.33291033, 0.33338462, 0.33370505],\n",
       "       [0.33294718, 0.33350595, 0.33354687],\n",
       "       [0.33287559, 0.3334388 , 0.33368562],\n",
       "       [0.3328833 , 0.3335046 , 0.3336121 ],\n",
       "       [0.33282258, 0.33345281, 0.33372461],\n",
       "       [0.33286455, 0.33356798, 0.33356747],\n",
       "       [0.33293239, 0.33368194, 0.33338567],\n",
       "       [0.33303393, 0.33379612, 0.33316995],\n",
       "       [0.33319006, 0.3339095 , 0.33290044],\n",
       "       [0.33279752, 0.33364854, 0.33355394],\n",
       "       [0.33267898, 0.33352296, 0.33379806],\n",
       "       [0.33287777, 0.33380208, 0.33332014],\n",
       "       [0.3330991 , 0.3339795 , 0.33292141],\n",
       "       [0.3326275 , 0.33359048, 0.33378202],\n",
       "       [0.3328244 , 0.33385547, 0.33332013],\n",
       "       [0.3329013 , 0.33394791, 0.33315079],\n",
       "       [0.33292473, 0.33399447, 0.3330808 ],\n",
       "       [0.33293434, 0.33403062, 0.33303505],\n",
       "       [0.3332198 , 0.33419481, 0.33258539],\n",
       "       [0.33299937, 0.33412695, 0.33287368],\n",
       "       [0.33288959, 0.33409134, 0.33301907],\n",
       "       [0.33318794, 0.33426581, 0.33254625],\n",
       "       [0.33332427, 0.33433305, 0.33234268],\n",
       "       [0.33319329, 0.33432231, 0.33248439],\n",
       "       [0.33328813, 0.33437817, 0.3323337 ],\n",
       "       [0.3329998 , 0.33429756, 0.33270264],\n",
       "       [0.33319484, 0.3344047 , 0.33240046],\n",
       "       [0.33361431, 0.33450723, 0.33187846],\n",
       "       [0.33330059, 0.33448986, 0.33220955],\n",
       "       [0.33363117, 0.33456324, 0.3318056 ],\n",
       "       [0.33318086, 0.33450918, 0.33230997],\n",
       "       [0.3334916 , 0.33460744, 0.33190096],\n",
       "       [0.33409028, 0.3345851 , 0.33132462],\n",
       "       [0.33396834, 0.33464849, 0.33138318],\n",
       "       [0.3338897 , 0.33469132, 0.33141898],\n",
       "       [0.33401038, 0.33469995, 0.33128967],\n",
       "       [0.33403111, 0.33472567, 0.33124321],\n",
       "       [0.33387275, 0.33478029, 0.33134697],\n",
       "       [0.33401852, 0.33478856, 0.33119292],\n",
       "       [0.33432051, 0.33472566, 0.33095383],\n",
       "       [0.33419553, 0.33480547, 0.330999  ],\n",
       "       [0.33468378, 0.33456111, 0.3307551 ],\n",
       "       [0.33445953, 0.3347614 , 0.33077907],\n",
       "       [0.33488323, 0.33443001, 0.33068677],\n",
       "       [0.33457259, 0.33476843, 0.33065898],\n",
       "       [0.33454181, 0.33482363, 0.33063455],\n",
       "       [0.33478947, 0.33468405, 0.33052648],\n",
       "       [0.33475746, 0.33475405, 0.33048849],\n",
       "       [0.33485065, 0.33471572, 0.33043363],\n",
       "       [0.33507876, 0.33448957, 0.33043167],\n",
       "       [0.33491465, 0.33474429, 0.33034106],\n",
       "       [0.33529096, 0.33415667, 0.33055237],\n",
       "       [0.33512469, 0.33459772, 0.33027759],\n",
       "       [0.33485711, 0.33492073, 0.33022216],\n",
       "       [0.33542781, 0.33382148, 0.33075071],\n",
       "       [0.33502501, 0.3348631 , 0.33011189],\n",
       "       [0.33514279, 0.33478686, 0.33007035],\n",
       "       [0.33551789, 0.33376739, 0.33071472],\n",
       "       [0.33540109, 0.33451109, 0.33008782],\n",
       "       [0.33545506, 0.33447049, 0.33007445],\n",
       "       [0.33555448, 0.3342809 , 0.33016462],\n",
       "       [0.3355284 , 0.33446207, 0.33000952],\n",
       "       [0.33566886, 0.33377654, 0.3305546 ],\n",
       "       [0.33568288, 0.33412594, 0.33019118],\n",
       "       [0.33564633, 0.33441994, 0.32993373],\n",
       "       [0.33576131, 0.33393128, 0.33030741],\n",
       "       [0.33578306, 0.33407617, 0.33014077],\n",
       "       [0.33576831, 0.33342402, 0.33080767],\n",
       "       [0.33571942, 0.33315382, 0.33112675],\n",
       "       [0.33580931, 0.33335059, 0.3308401 ],\n",
       "       [0.33588556, 0.3335712 , 0.33054324],\n",
       "       [0.33576716, 0.33304433, 0.33118851],\n",
       "       [0.33595832, 0.33418505, 0.32985663],\n",
       "       [0.33583159, 0.33305712, 0.33111129],\n",
       "       [0.33580337, 0.33291904, 0.33127759],\n",
       "       [0.33566913, 0.33260333, 0.33172754],\n",
       "       [0.33574692, 0.33268563, 0.33156745],\n",
       "       [0.33601745, 0.33325247, 0.33073009],\n",
       "       [0.33613495, 0.33365257, 0.33021249],\n",
       "       [0.33598905, 0.33300478, 0.33100617],\n",
       "       [0.33601463, 0.33299454, 0.33099083],\n",
       "       [0.33571364, 0.3323789 , 0.33190746],\n",
       "       [0.33548924, 0.3320414 , 0.33246936],\n",
       "       [0.33528388, 0.33178209, 0.33293403],\n",
       "       [0.33454393, 0.33116688, 0.33428918],\n",
       "       [0.33333333, 0.33333333, 0.33333333],\n",
       "       [0.33335352, 0.33331781, 0.33332867],\n",
       "       [0.33337684, 0.3333057 , 0.33331746],\n",
       "       [0.33340591, 0.33330116, 0.33329293],\n",
       "       [0.33338185, 0.33324538, 0.33337277],\n",
       "       [0.33338021, 0.33321555, 0.33340425],\n",
       "       [0.33341647, 0.3332082 , 0.33337533],\n",
       "       [0.33341243, 0.33317592, 0.33341165],\n",
       "       [0.33341122, 0.33314641, 0.33344237],\n",
       "       [0.33338035, 0.33310441, 0.33351524],\n",
       "       [0.33339911, 0.33308451, 0.33351638],\n",
       "       [0.33344366, 0.33307808, 0.33347826],\n",
       "       [0.33346757, 0.33306271, 0.33346972],\n",
       "       [0.33349824, 0.33305211, 0.33344964],\n",
       "       [0.33336387, 0.33296271, 0.33367341],\n",
       "       [0.33341439, 0.3329529 , 0.33363272],\n",
       "       [0.33333546, 0.33290106, 0.33376348],\n",
       "       [0.33345365, 0.33291412, 0.33363223],\n",
       "       [0.33343197, 0.33287738, 0.33369064],\n",
       "       [0.33335525, 0.33282491, 0.33381984],\n",
       "       [0.3333199 , 0.33278942, 0.33389068],\n",
       "       [0.33353418, 0.33284091, 0.33362491],\n",
       "       [0.33340043, 0.33275694, 0.33384263],\n",
       "       [0.33326936, 0.33269903, 0.3340316 ],\n",
       "       [0.33333723, 0.33268519, 0.33397759],\n",
       "       [0.33312023, 0.33263478, 0.33424499],\n",
       "       [0.33309375, 0.33260753, 0.33429872],\n",
       "       [0.33294281, 0.33260024, 0.33445695],\n",
       "       [0.33325912, 0.33256176, 0.33417912],\n",
       "       [0.33329067, 0.33254011, 0.33416922],\n",
       "       [0.33285652, 0.33253077, 0.3346127 ],\n",
       "       [0.33315753, 0.33246883, 0.33437363],\n",
       "       [0.33273253, 0.33251291, 0.33475456],\n",
       "       [0.33262427, 0.33253715, 0.33483859],\n",
       "       [0.33244881, 0.33265284, 0.33489835],\n",
       "       [0.33247731, 0.33257249, 0.3349502 ],\n",
       "       [0.33308994, 0.33232758, 0.33458248],\n",
       "       [0.33231304, 0.33267666, 0.33501029],\n",
       "       [0.33275503, 0.33230896, 0.33493602],\n",
       "       [0.3323096 , 0.3325641 , 0.33512631],\n",
       "       [0.33238952, 0.33243171, 0.33517878],\n",
       "       [0.33257514, 0.33227651, 0.33514835],\n",
       "       [0.33223987, 0.33249318, 0.33526696],\n",
       "       [0.33212926, 0.33260277, 0.33526797],\n",
       "       [0.33224502, 0.33238837, 0.33536661],\n",
       "       [0.3322071 , 0.33238055, 0.33541234],\n",
       "       [0.33203518, 0.33257135, 0.33539347],\n",
       "       [0.33199723, 0.33257506, 0.33542771],\n",
       "       [0.33195157, 0.33259845, 0.33544998],\n",
       "       [0.3319591 , 0.33250443, 0.33553647],\n",
       "       [0.33181717, 0.33294359, 0.33523924],\n",
       "       [0.33178814, 0.33290392, 0.33530794],\n",
       "       [0.33177578, 0.3331885 , 0.33503571],\n",
       "       [0.33172578, 0.33294985, 0.33532437],\n",
       "       [0.33172777, 0.33266545, 0.33560677],\n",
       "       [0.33166519, 0.33292678, 0.33540803],\n",
       "       [0.33164135, 0.33280102, 0.33555763],\n",
       "       [0.3316348 , 0.33264444, 0.33572076],\n",
       "       [0.33158534, 0.33309768, 0.33531698],\n",
       "       [0.33169468, 0.33359009, 0.33471523],\n",
       "       [0.33152011, 0.33304326, 0.33543662],\n",
       "       [0.33160665, 0.33352017, 0.33487318],\n",
       "       [0.33148111, 0.33318589, 0.335333  ],\n",
       "       [0.33159377, 0.33362991, 0.33477632],\n",
       "       [0.33159205, 0.33368965, 0.3347183 ],\n",
       "       [0.33136199, 0.33287817, 0.33575985],\n",
       "       [0.33133248, 0.33291199, 0.33575553],\n",
       "       [0.33131491, 0.33264564, 0.33603945],\n",
       "       [0.33147931, 0.33370342, 0.33481727],\n",
       "       [0.33142205, 0.33364395, 0.334934  ],\n",
       "       [0.33124277, 0.33316868, 0.33558855],\n",
       "       [0.33179088, 0.33431443, 0.33389469],\n",
       "       [0.33129945, 0.33356294, 0.33513762],\n",
       "       [0.33197193, 0.33457533, 0.33345274],\n",
       "       [0.33135597, 0.33381548, 0.33482855],\n",
       "       [0.33121888, 0.33358259, 0.33519853],\n",
       "       [0.33185372, 0.33456654, 0.33357973],\n",
       "       [0.33183404, 0.33458255, 0.33358341],\n",
       "       [0.33233072, 0.3350151 , 0.33265418],\n",
       "       [0.33153931, 0.33433107, 0.33412962],\n",
       "       [0.33191202, 0.33475864, 0.33332933],\n",
       "       [0.33204396, 0.33490148, 0.33305456],\n",
       "       [0.33263444, 0.33530458, 0.33206098],\n",
       "       [0.33165749, 0.33461933, 0.33372318],\n",
       "       [0.33157434, 0.33456773, 0.33385793],\n",
       "       [0.3327144 , 0.33542687, 0.33185873],\n",
       "       [0.33252504, 0.33536255, 0.33211241],\n",
       "       [0.33233099, 0.33528225, 0.33238676],\n",
       "       [0.33272885, 0.33551714, 0.33175401],\n",
       "       [0.33257983, 0.33547571, 0.33194446],\n",
       "       [0.3324074 , 0.33541385, 0.33217875],\n",
       "       [0.33126407, 0.3344785 , 0.33425743],\n",
       "       [0.33195805, 0.33518296, 0.33285899],\n",
       "       [0.3325955 , 0.3355962 , 0.33180829],\n",
       "       [0.33440552, 0.3359369 , 0.32965758],\n",
       "       [0.33227949, 0.33548599, 0.33223451],\n",
       "       [0.33269658, 0.33572604, 0.33157739],\n",
       "       [0.33323706, 0.33593943, 0.33082351],\n",
       "       [0.33345399, 0.33601538, 0.33053063],\n",
       "       [0.33384473, 0.33609419, 0.33006108]])"
      ]
     },
     "execution_count": 56,
     "metadata": {},
     "output_type": "execute_result"
    }
   ],
   "source": [
    "probs"
   ]
  },
  {
   "cell_type": "code",
   "execution_count": 57,
   "metadata": {
    "id": "If8o_bEUBA2f"
   },
   "outputs": [],
   "source": [
    "def backprop(probs, y):\n",
    "    # we know that dz = pi - I\n",
    "    dz = probs # dz = pi\n",
    "    dz[range(m),y] -= 1 # subtacting 1 where i ==j i.e. class label matches\n",
    "    dz = dz/m # taking average as we have m points\n",
    "    dW = np.dot(X.T, dz)\n",
    "    db = np.sum(dz, axis=0, keepdims=True)\n",
    "    return dW, db"
   ]
  },
  {
   "cell_type": "code",
   "execution_count": 59,
   "metadata": {
    "colab": {
     "base_uri": "https://localhost:8080/"
    },
    "id": "Sh_JqQlDPJoD",
    "outputId": "c8a2369d-63f0-4094-b52d-1ebc35afd444"
   },
   "outputs": [
    {
     "name": "stdout",
     "output_type": "stream",
     "text": [
      "iteration: 0, loss: 1.0973026020577041\n",
      "iteration: 100, loss: 0.7447167809918213\n",
      "iteration: 200, loss: 0.7405316965724219\n",
      "iteration: 300, loss: 0.7402161358463354\n",
      "iteration: 400, loss: 0.7401859858322967\n"
     ]
    },
    {
     "data": {
      "text/plain": [
       "<Axes: xlabel='step', ylabel='loss'>"
      ]
     },
     "execution_count": 59,
     "metadata": {},
     "output_type": "execute_result"
    },
    {
     "data": {
      "image/png": "[encoded data removed]",
      "text/plain": [
       "<Figure size 640x480 with 1 Axes>"
      ]
     },
     "metadata": {},
     "output_type": "display_data"
    }
   ],
   "source": [
    "max_iters = 500\n",
    "lr = 1\n",
    "\n",
    "d = X.shape[1]\n",
    "n = len(np.unique(y))\n",
    "m = X.shape[0]\n",
    "W = 0.01 * np.random.randn(d,n)\n",
    "b = np.zeros((1,n))\n",
    "loss_history = []\n",
    "\n",
    "for i in range(max_iters):\n",
    "    # evaluate the class probs\n",
    "    z = np.dot(X, W) + b\n",
    "    exp_z = np.exp(z)\n",
    "    probs = exp_z/np.sum(exp_z, axis=1, keepdims=True)\n",
    "\n",
    "    # compute the loss: average cross-entropy loss and regularization\n",
    "    error = -np.log(probs[range(m), y])\n",
    "    loss = np.sum(error)/m\n",
    "    loss_history.append(loss)\n",
    "    if i % 100 == 0:\n",
    "        print(f\"iteration: {i}, loss: {loss}\")\n",
    "\n",
    "\n",
    "    # compute the gradient on score\n",
    "    dZ = probs\n",
    "    dZ[range(m),y] -= 1\n",
    "    dZ = dZ/m\n",
    "    dW = np.dot(X.T, dZ)\n",
    "    db = np.sum(dZ, axis=0, keepdims=True)\n",
    "\n",
    "    # perform a parameter update using gradient descent\n",
    "    W += -lr * dW\n",
    "    b += -lr * db\n",
    "history = pd.DataFrame({'step': list(range(max_iters)), 'loss': loss_history})\n",
    "history.plot(x='step', y='loss',xlabel='step', ylabel='loss')"
   ]
  },
  {
   "cell_type": "code",
   "execution_count": 60,
   "metadata": {
    "colab": {
     "base_uri": "https://localhost:8080/"
    },
    "id": "uRQoTnyyPcth",
    "outputId": "db8e652c-2117-4848-8622-532bd6a3cbb3"
   },
   "outputs": [
    {
     "name": "stdout",
     "output_type": "stream",
     "text": [
      "Training Accuracy 0.5266666666666666\n"
     ]
    }
   ],
   "source": [
    "def predict(X):\n",
    "    Z = np.dot(X, W) + b\n",
    "    Z_e = np.exp(Z)\n",
    "    probs = Z_e/np.sum(Z_e, axis=1, keepdims=True)\n",
    "    return np.argmax(probs, axis=1)\n",
    "\n",
    "print(f\"Training Accuracy {np.sum(predict(X) == y)/m}\")"
   ]
  },
  {
   "cell_type": "code",
   "execution_count": 61,
   "metadata": {
    "colab": {
     "base_uri": "https://localhost:8080/",
     "height": 430
    },
    "id": "TRV8LSyOPpLm",
    "outputId": "0c3b0e61-61ae-4351-e7d6-7e598cb26723"
   },
   "outputs": [
    {
     "data": {
      "image/png": "[encoded data removed]",
      "text/plain": [
       "<Figure size 640x480 with 1 Axes>"
      ]
     },
     "metadata": {},
     "output_type": "display_data"
    }
   ],
   "source": [
    "# create a 2D grid\n",
    "step = 0.02\n",
    "x_min, x_max = X[:, 0].min() - 1, X[:, 0].max() + 1\n",
    "y_min, y_max = X[:, 1].min() - 1, X[:, 1].max() + 1\n",
    "xx, yy = np.meshgrid(np.arange(x_min, x_max, step), np.arange(y_min, y_max, step))\n",
    "\n",
    "# predict for all the points in the grid\n",
    "y_hat = predict(np.c_[xx.ravel(), yy.ravel()]) # concatenates along second axis\n",
    "y_hat = y_hat.reshape(xx.shape)\n",
    "\n",
    "# plot\n",
    "fig = plt.figure()\n",
    "plt.contourf(xx, yy, y_hat, cmap=plt.cm.Spectral, alpha=0.8)\n",
    "plt.scatter(X[:, 0], X[:, 1], c=y, s=40, cmap=plt.cm.Spectral)\n",
    "plt.xlim(xx.min(), xx.max())\n",
    "plt.ylim(yy.min(), yy.max())\n",
    "plt.show()"
   ]
  },
  {
   "cell_type": "code",
   "execution_count": null,
   "metadata": {
    "id": "iN2NOR-CRGEE"
   },
   "outputs": [],
   "source": []
  },
  {
   "cell_type": "code",
   "execution_count": 62,
   "metadata": {
    "id": "oh82nYeKUd2U"
   },
   "outputs": [
    {
     "name": "stdout",
     "output_type": "stream",
     "text": [
      "training accuracy: 0.5266666666666666\n"
     ]
    },
    {
     "data": {
      "image/png": "[encoded data removed]",
      "text/plain": [
       "<Figure size 640x480 with 1 Axes>"
      ]
     },
     "metadata": {},
     "output_type": "display_data"
    }
   ],
   "source": [
    "class SoftmaxClassfier:\n",
    "    def __init__(self, n_features, n_outputs):\n",
    "        self.d = n_features\n",
    "        self.n = n_outputs\n",
    "        self.W = 0.01 * np.random.randn(d,n)\n",
    "        self.b = np.zeros((1,n))\n",
    "        self.loss = []\n",
    "\n",
    "    def fwdprop(self, X):\n",
    "        z = np.dot(X, self.W) + self.b\n",
    "        exp_z = np.exp(z)\n",
    "        probs = exp_z / np.sum(exp_z, axis=1, keepdims=True)\n",
    "        return probs\n",
    "\n",
    "    def cce_loss(self, probs, y):\n",
    "        m = y.shape[0]\n",
    "        error = -np.log(probs[range(m), y])\n",
    "        return np.sum(error)/m\n",
    "\n",
    "    def backprop(self, probs, y):\n",
    "        m = y.shape[0]\n",
    "        dz = probs\n",
    "        dz[range(m),y] -= 1\n",
    "        dz = dz/m\n",
    "        dW = np.dot(X.T, dz)\n",
    "        db = np.sum(dz, axis=0, keepdims=True)\n",
    "        return dW, db\n",
    "\n",
    "    def fit(self, X, y, lr=0.1, max_iters=50):\n",
    "\n",
    "        for i in range(max_iters):\n",
    "            # evaluate the class probs\n",
    "            probs = self.fwdprop(X)\n",
    "\n",
    "            # compute the loss: average cross-entropy loss and regularization\n",
    "            loss = self.cce_loss(probs, y)\n",
    "\n",
    "            # compute the gradient on score\n",
    "            dW, db = self.backprop(probs, y)\n",
    "\n",
    "            # perform a parameter update using gradient descent\n",
    "            self.W += -lr * dW\n",
    "            self.b += -lr * db\n",
    "            self.loss.append(loss)\n",
    "\n",
    "        self.history = pd.DataFrame({\n",
    "        'step': list(range(max_iters)),\n",
    "        'loss': self.loss})\n",
    "\n",
    "    def plot_loss(self):\n",
    "        return self.history.plot(x='step', y='loss',xlabel='step', ylabel='loss')\n",
    "\n",
    "    def predict(self, X):\n",
    "        probs = self.fwdprop(X)\n",
    "        return np.argmax(probs, axis=1)\n",
    "\n",
    "model = SoftmaxClassfier(n_features=2, n_outputs=3)\n",
    "model.fit(X, y, lr=1, max_iters=500)\n",
    "model.plot_loss()\n",
    "print('training accuracy:', np.sum(model.predict(X) == y)/X.shape[0])"
   ]
  },
  {
   "cell_type": "code",
   "execution_count": null,
   "metadata": {
    "id": "ozP6TEFEUuxo"
   },
   "outputs": [],
   "source": []
  }
 ],
 "metadata": {
  "colab": {
   "provenance": []
  },
  "kernelspec": {
   "display_name": "Python 3 (ipykernel)",
   "language": "python",
   "name": "python3"
  },
  "language_info": {
   "codemirror_mode": {
    "name": "ipython",
    "version": 3
   },
   "file_extension": ".py",
   "mimetype": "text/x-python",
   "name": "python",
   "nbconvert_exporter": "python",
   "pygments_lexer": "ipython3",
   "version": "3.11.7"
  }
 },
 "nbformat": 4,
 "nbformat_minor": 4
}
