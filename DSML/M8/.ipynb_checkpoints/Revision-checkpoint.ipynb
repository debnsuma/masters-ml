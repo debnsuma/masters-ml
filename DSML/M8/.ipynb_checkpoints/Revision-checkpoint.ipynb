{
 "cells": [
  {
   "cell_type": "code",
   "execution_count": 1,
   "id": "930ff43e",
   "metadata": {},
   "outputs": [],
   "source": [
    "import pandas as pd\n",
    "import numpy as np \n",
    "import seaborn as sns\n",
    "import matplotlib.pyplot as plt"
   ]
  },
  {
   "cell_type": "code",
   "execution_count": 2,
   "id": "7ac64c91",
   "metadata": {},
   "outputs": [],
   "source": [
    "arr = np.random.randint(0, 10, 10)\n",
    "ind = pd.Series(arr)"
   ]
  },
  {
   "cell_type": "code",
   "execution_count": 3,
   "id": "c26b4029",
   "metadata": {},
   "outputs": [
    {
     "data": {
      "text/plain": [
       "0    9\n",
       "1    6\n",
       "2    5\n",
       "3    0\n",
       "4    8\n",
       "5    8\n",
       "6    8\n",
       "7    6\n",
       "8    6\n",
       "9    8\n",
       "dtype: int64"
      ]
     },
     "execution_count": 3,
     "metadata": {},
     "output_type": "execute_result"
    }
   ],
   "source": [
    "ind"
   ]
  },
  {
   "cell_type": "code",
   "execution_count": 4,
   "id": "88d23658",
   "metadata": {},
   "outputs": [
    {
     "data": {
      "text/plain": [
       "RangeIndex(start=0, stop=10, step=1)"
      ]
     },
     "execution_count": 4,
     "metadata": {},
     "output_type": "execute_result"
    }
   ],
   "source": [
    "ind.index"
   ]
  },
  {
   "cell_type": "code",
   "execution_count": 5,
   "id": "9b90dcee",
   "metadata": {},
   "outputs": [
    {
     "data": {
      "text/plain": [
       "array([9, 6, 5, 0, 8, 8, 8, 6, 6, 8])"
      ]
     },
     "execution_count": 5,
     "metadata": {},
     "output_type": "execute_result"
    }
   ],
   "source": [
    "ind.values"
   ]
  },
  {
   "cell_type": "code",
   "execution_count": 6,
   "id": "aecacbe8",
   "metadata": {},
   "outputs": [],
   "source": [
    "d = dict()\n",
    "d['mass'] = 10\n",
    "d['diameter'] = 100\n",
    "d['day_length'] = 111"
   ]
  },
  {
   "cell_type": "code",
   "execution_count": 7,
   "id": "21c706a8",
   "metadata": {},
   "outputs": [],
   "source": [
    "s = pd.Series(d)"
   ]
  },
  {
   "cell_type": "code",
   "execution_count": 8,
   "id": "17f2f42c",
   "metadata": {},
   "outputs": [
    {
     "data": {
      "text/plain": [
       "mass           10\n",
       "diameter      100\n",
       "day_length    111\n",
       "dtype: int64"
      ]
     },
     "execution_count": 8,
     "metadata": {},
     "output_type": "execute_result"
    }
   ],
   "source": [
    "s"
   ]
  },
  {
   "cell_type": "code",
   "execution_count": 9,
   "id": "58cafaeb",
   "metadata": {},
   "outputs": [
    {
     "data": {
      "text/plain": [
       "Index(['mass', 'diameter', 'day_length'], dtype='object')"
      ]
     },
     "execution_count": 9,
     "metadata": {},
     "output_type": "execute_result"
    }
   ],
   "source": [
    "s.index"
   ]
  },
  {
   "cell_type": "code",
   "execution_count": 11,
   "id": "60815dd3",
   "metadata": {},
   "outputs": [
    {
     "data": {
      "text/plain": [
       "10     1\n",
       "100    1\n",
       "111    1\n",
       "dtype: int64"
      ]
     },
     "execution_count": 11,
     "metadata": {},
     "output_type": "execute_result"
    }
   ],
   "source": [
    "s.value_counts()"
   ]
  },
  {
   "cell_type": "code",
   "execution_count": 12,
   "id": "9d6e5dc9",
   "metadata": {},
   "outputs": [
    {
     "data": {
      "text/plain": [
       "array([ 10, 100, 111])"
      ]
     },
     "execution_count": 12,
     "metadata": {},
     "output_type": "execute_result"
    }
   ],
   "source": [
    "s.values"
   ]
  },
  {
   "cell_type": "code",
   "execution_count": 13,
   "id": "2304c9e3",
   "metadata": {},
   "outputs": [],
   "source": [
    "s = pd.Series([0.0, 11, 1, 1, 2, 3, 4], index=[1, 2, 3, 4, 5, 6, 7])"
   ]
  },
  {
   "cell_type": "code",
   "execution_count": 14,
   "id": "54d748d8",
   "metadata": {},
   "outputs": [
    {
     "data": {
      "text/plain": [
       "1     0.0\n",
       "2    11.0\n",
       "3     1.0\n",
       "4     1.0\n",
       "5     2.0\n",
       "6     3.0\n",
       "7     4.0\n",
       "dtype: float64"
      ]
     },
     "execution_count": 14,
     "metadata": {},
     "output_type": "execute_result"
    }
   ],
   "source": [
    "s"
   ]
  },
  {
   "cell_type": "code",
   "execution_count": 16,
   "id": "9ec5c2af",
   "metadata": {},
   "outputs": [],
   "source": [
    "# s[0] # error"
   ]
  },
  {
   "cell_type": "code",
   "execution_count": 17,
   "id": "d0f827f0",
   "metadata": {},
   "outputs": [
    {
     "data": {
      "text/plain": [
       "0.0"
      ]
     },
     "execution_count": 17,
     "metadata": {},
     "output_type": "execute_result"
    }
   ],
   "source": [
    "s.loc[1]"
   ]
  },
  {
   "cell_type": "code",
   "execution_count": 18,
   "id": "4a69fac1",
   "metadata": {},
   "outputs": [
    {
     "data": {
      "text/plain": [
       "11.0"
      ]
     },
     "execution_count": 18,
     "metadata": {},
     "output_type": "execute_result"
    }
   ],
   "source": [
    "s.iloc[1]"
   ]
  },
  {
   "cell_type": "code",
   "execution_count": 19,
   "id": "91df4930",
   "metadata": {},
   "outputs": [
    {
     "data": {
      "text/plain": [
       "4.0"
      ]
     },
     "execution_count": 19,
     "metadata": {},
     "output_type": "execute_result"
    }
   ],
   "source": [
    "s.iloc[-1]"
   ]
  },
  {
   "cell_type": "code",
   "execution_count": 21,
   "id": "53df889e",
   "metadata": {},
   "outputs": [],
   "source": [
    "# s.loc[-1] # error"
   ]
  },
  {
   "cell_type": "code",
   "execution_count": 22,
   "id": "d82c3edd",
   "metadata": {},
   "outputs": [
    {
     "data": {
      "text/plain": [
       "1     0.0\n",
       "2    11.0\n",
       "3     1.0\n",
       "4     1.0\n",
       "5     2.0\n",
       "6     3.0\n",
       "7     4.0\n",
       "dtype: float64"
      ]
     },
     "execution_count": 22,
     "metadata": {},
     "output_type": "execute_result"
    }
   ],
   "source": [
    "s"
   ]
  },
  {
   "cell_type": "code",
   "execution_count": 24,
   "id": "3e56c4e9",
   "metadata": {},
   "outputs": [
    {
     "data": {
      "text/plain": [
       "4.0"
      ]
     },
     "execution_count": 24,
     "metadata": {},
     "output_type": "execute_result"
    }
   ],
   "source": [
    "s[7]"
   ]
  },
  {
   "cell_type": "code",
   "execution_count": 25,
   "id": "9a36aa0d",
   "metadata": {},
   "outputs": [
    {
     "data": {
      "text/plain": [
       "4.0"
      ]
     },
     "execution_count": 25,
     "metadata": {},
     "output_type": "execute_result"
    }
   ],
   "source": [
    "s.loc[7]"
   ]
  },
  {
   "cell_type": "code",
   "execution_count": 30,
   "id": "8b6a2568",
   "metadata": {},
   "outputs": [],
   "source": [
    "s = pd.Series(\"a\", index=[1, 2, 3, 4]) "
   ]
  },
  {
   "cell_type": "code",
   "execution_count": 32,
   "id": "bba2c1ae",
   "metadata": {},
   "outputs": [
    {
     "data": {
      "text/plain": [
       "'a'"
      ]
     },
     "execution_count": 32,
     "metadata": {},
     "output_type": "execute_result"
    }
   ],
   "source": [
    "s[1]"
   ]
  },
  {
   "cell_type": "code",
   "execution_count": 34,
   "id": "9d30a8b9",
   "metadata": {},
   "outputs": [
    {
     "name": "stdout",
     "output_type": "stream",
     "text": [
      "a\n"
     ]
    }
   ],
   "source": [
    "s = pd.Series(\"a\", index=[1, 2, 3, 4]) \n",
    "print(s.loc[2])"
   ]
  },
  {
   "cell_type": "code",
   "execution_count": 35,
   "id": "dd18f103",
   "metadata": {},
   "outputs": [
    {
     "data": {
      "text/plain": [
       "'1.5.3'"
      ]
     },
     "execution_count": 35,
     "metadata": {},
     "output_type": "execute_result"
    }
   ],
   "source": [
    "pd.__version__"
   ]
  },
  {
   "cell_type": "code",
   "execution_count": 36,
   "id": "62175387",
   "metadata": {},
   "outputs": [
    {
     "ename": "TypeError",
     "evalue": "'set' type is unordered",
     "output_type": "error",
     "traceback": [
      "\u001b[0;31m---------------------------------------------------------------------------\u001b[0m",
      "\u001b[0;31mTypeError\u001b[0m                                 Traceback (most recent call last)",
      "Cell \u001b[0;32mIn[36], line 2\u001b[0m\n\u001b[1;32m      1\u001b[0m data \u001b[38;5;241m=\u001b[39m \u001b[38;5;28mset\u001b[39m([\u001b[38;5;241m2\u001b[39m,\u001b[38;5;241m1\u001b[39m,\u001b[38;5;241m4\u001b[39m,\u001b[38;5;241m3\u001b[39m]) \n\u001b[0;32m----> 2\u001b[0m s \u001b[38;5;241m=\u001b[39m \u001b[43mpd\u001b[49m\u001b[38;5;241;43m.\u001b[39;49m\u001b[43mSeries\u001b[49m\u001b[43m(\u001b[49m\u001b[43m \u001b[49m\u001b[43mdata\u001b[49m\u001b[43m \u001b[49m\u001b[43m,\u001b[49m\u001b[43m \u001b[49m\u001b[43mindex\u001b[49m\u001b[38;5;241;43m=\u001b[39;49m\u001b[43m[\u001b[49m\u001b[38;5;241;43m1\u001b[39;49m\u001b[43m,\u001b[49m\u001b[38;5;241;43m2\u001b[39;49m\u001b[43m,\u001b[49m\u001b[38;5;241;43m3\u001b[39;49m\u001b[43m,\u001b[49m\u001b[38;5;241;43m4\u001b[39;49m\u001b[43m]\u001b[49m\u001b[43m)\u001b[49m \n\u001b[1;32m      3\u001b[0m \u001b[38;5;28mprint\u001b[39m(s\u001b[38;5;241m.\u001b[39mloc[\u001b[38;5;241m2\u001b[39m])\n",
      "File \u001b[0;32m~/anaconda3/lib/python3.10/site-packages/pandas/core/series.py:470\u001b[0m, in \u001b[0;36mSeries.__init__\u001b[0;34m(self, data, index, dtype, name, copy, fastpath)\u001b[0m\n\u001b[1;32m    468\u001b[0m         data \u001b[38;5;241m=\u001b[39m data\u001b[38;5;241m.\u001b[39mcopy()\n\u001b[1;32m    469\u001b[0m \u001b[38;5;28;01melse\u001b[39;00m:\n\u001b[0;32m--> 470\u001b[0m     data \u001b[38;5;241m=\u001b[39m \u001b[43msanitize_array\u001b[49m\u001b[43m(\u001b[49m\u001b[43mdata\u001b[49m\u001b[43m,\u001b[49m\u001b[43m \u001b[49m\u001b[43mindex\u001b[49m\u001b[43m,\u001b[49m\u001b[43m \u001b[49m\u001b[43mdtype\u001b[49m\u001b[43m,\u001b[49m\u001b[43m \u001b[49m\u001b[43mcopy\u001b[49m\u001b[43m)\u001b[49m\n\u001b[1;32m    472\u001b[0m     manager \u001b[38;5;241m=\u001b[39m get_option(\u001b[38;5;124m\"\u001b[39m\u001b[38;5;124mmode.data_manager\u001b[39m\u001b[38;5;124m\"\u001b[39m)\n\u001b[1;32m    473\u001b[0m     \u001b[38;5;28;01mif\u001b[39;00m manager \u001b[38;5;241m==\u001b[39m \u001b[38;5;124m\"\u001b[39m\u001b[38;5;124mblock\u001b[39m\u001b[38;5;124m\"\u001b[39m:\n",
      "File \u001b[0;32m~/anaconda3/lib/python3.10/site-packages/pandas/core/construction.py:611\u001b[0m, in \u001b[0;36msanitize_array\u001b[0;34m(data, index, dtype, copy, raise_cast_failure, allow_2d)\u001b[0m\n\u001b[1;32m    608\u001b[0m \u001b[38;5;28;01melse\u001b[39;00m:\n\u001b[1;32m    609\u001b[0m     \u001b[38;5;28;01mif\u001b[39;00m \u001b[38;5;28misinstance\u001b[39m(data, (\u001b[38;5;28mset\u001b[39m, \u001b[38;5;28mfrozenset\u001b[39m)):\n\u001b[1;32m    610\u001b[0m         \u001b[38;5;66;03m# Raise only for unordered sets, e.g., not for dict_keys\u001b[39;00m\n\u001b[0;32m--> 611\u001b[0m         \u001b[38;5;28;01mraise\u001b[39;00m \u001b[38;5;167;01mTypeError\u001b[39;00m(\u001b[38;5;124mf\u001b[39m\u001b[38;5;124m\"\u001b[39m\u001b[38;5;124m'\u001b[39m\u001b[38;5;132;01m{\u001b[39;00m\u001b[38;5;28mtype\u001b[39m(data)\u001b[38;5;241m.\u001b[39m\u001b[38;5;18m__name__\u001b[39m\u001b[38;5;132;01m}\u001b[39;00m\u001b[38;5;124m'\u001b[39m\u001b[38;5;124m type is unordered\u001b[39m\u001b[38;5;124m\"\u001b[39m)\n\u001b[1;32m    613\u001b[0m     \u001b[38;5;66;03m# materialize e.g. generators, convert e.g. tuples, abc.ValueView\u001b[39;00m\n\u001b[1;32m    614\u001b[0m     \u001b[38;5;28;01mif\u001b[39;00m \u001b[38;5;28mhasattr\u001b[39m(data, \u001b[38;5;124m\"\u001b[39m\u001b[38;5;124m__array__\u001b[39m\u001b[38;5;124m\"\u001b[39m):\n\u001b[1;32m    615\u001b[0m         \u001b[38;5;66;03m# e.g. dask array GH#38645\u001b[39;00m\n",
      "\u001b[0;31mTypeError\u001b[0m: 'set' type is unordered"
     ]
    }
   ],
   "source": [
    "data = set([2,1,4,3]) \n",
    "s = pd.Series( data , index=[1,2,3,4]) \n",
    "print(s.loc[2])"
   ]
  },
  {
   "cell_type": "code",
   "execution_count": 37,
   "id": "e5128f3c",
   "metadata": {},
   "outputs": [
    {
     "name": "stdout",
     "output_type": "stream",
     "text": [
      "2\n"
     ]
    }
   ],
   "source": [
    "data = list(set([2,1,4,3]))\n",
    "s = pd.Series( data , index=[1,2,3,4]) \n",
    "print(s.loc[2])"
   ]
  },
  {
   "cell_type": "code",
   "execution_count": 38,
   "id": "eb625fba",
   "metadata": {},
   "outputs": [
    {
     "data": {
      "text/plain": [
       "[1, 2, 3, 4]"
      ]
     },
     "execution_count": 38,
     "metadata": {},
     "output_type": "execute_result"
    }
   ],
   "source": [
    "data"
   ]
  },
  {
   "cell_type": "code",
   "execution_count": 39,
   "id": "0d1d9041",
   "metadata": {},
   "outputs": [
    {
     "name": "stdout",
     "output_type": "stream",
     "text": [
      "True\n"
     ]
    }
   ],
   "source": [
    "data = [1, 2, 3, 4] \n",
    "s = pd.Series( data , index=[1,2,3,4]) \n",
    "b = (s > 2).any() \n",
    "print(b)"
   ]
  },
  {
   "cell_type": "code",
   "execution_count": 112,
   "id": "023bc035",
   "metadata": {},
   "outputs": [
    {
     "name": "stdout",
     "output_type": "stream",
     "text": [
      "2.0\n"
     ]
    }
   ],
   "source": [
    "data = [0, 1, 1, 2, 3, 5, 8, 13, 21] \n",
    "s = pd.Series( data ) \n",
    "b = s.diff() \n",
    "print(b.iloc[5])"
   ]
  },
  {
   "cell_type": "code",
   "execution_count": 91,
   "id": "bf76b01b",
   "metadata": {},
   "outputs": [
    {
     "data": {
      "text/plain": [
       "0    NaN\n",
       "1    1.0\n",
       "2    0.0\n",
       "3    1.0\n",
       "4    1.0\n",
       "5    2.0\n",
       "6    3.0\n",
       "7    5.0\n",
       "8    8.0\n",
       "dtype: float64"
      ]
     },
     "execution_count": 91,
     "metadata": {},
     "output_type": "execute_result"
    }
   ],
   "source": [
    "s.diff()"
   ]
  },
  {
   "cell_type": "code",
   "execution_count": 113,
   "id": "dffe4e94",
   "metadata": {},
   "outputs": [
    {
     "data": {
      "text/plain": [
       "2.0"
      ]
     },
     "execution_count": 113,
     "metadata": {},
     "output_type": "execute_result"
    }
   ],
   "source": [
    "b[5]"
   ]
  },
  {
   "cell_type": "code",
   "execution_count": null,
   "id": "aa0aa9dc",
   "metadata": {},
   "outputs": [],
   "source": []
  },
  {
   "cell_type": "markdown",
   "id": "415d745d",
   "metadata": {},
   "source": [
    "# Nifty Case Study"
   ]
  },
  {
   "cell_type": "code",
   "execution_count": 99,
   "id": "5c3b58ab",
   "metadata": {},
   "outputs": [],
   "source": [
    "s = pd.read_csv('nifty.csv', index_col=0).loc[:, 'Close']\n",
    "\n",
    "# same as this bellow \n",
    "#s = pd.read_csv('nifty.csv', index_col=0).iloc[:, 0]"
   ]
  },
  {
   "cell_type": "code",
   "execution_count": 50,
   "id": "5a42a23d",
   "metadata": {},
   "outputs": [
    {
     "data": {
      "text/plain": [
       "Date\n",
       "01-Jan-2019    10910.10\n",
       "02-Jan-2019    10792.50\n",
       "03-Jan-2019    10672.25\n",
       "04-Jan-2019    10727.35\n",
       "07-Jan-2019    10771.80\n",
       "08-Jan-2019    10802.15\n",
       "09-Jan-2019    10855.15\n",
       "10-Jan-2019    10821.60\n",
       "11-Jan-2019    10794.95\n",
       "14-Jan-2019    10737.60\n",
       "Name: Close, dtype: float64"
      ]
     },
     "execution_count": 50,
     "metadata": {},
     "output_type": "execute_result"
    }
   ],
   "source": [
    "s.head(10)"
   ]
  },
  {
   "cell_type": "code",
   "execution_count": 51,
   "id": "3373399e",
   "metadata": {},
   "outputs": [
    {
     "data": {
      "text/plain": [
       "Date\n",
       "17-Dec-2019    12165.00\n",
       "18-Dec-2019    12221.65\n",
       "19-Dec-2019    12259.70\n",
       "20-Dec-2019    12271.80\n",
       "23-Dec-2019    12262.75\n",
       "24-Dec-2019    12214.55\n",
       "26-Dec-2019    12126.55\n",
       "27-Dec-2019    12245.80\n",
       "30-Dec-2019    12255.85\n",
       "31-Dec-2019    12168.45\n",
       "Name: Close, dtype: float64"
      ]
     },
     "execution_count": 51,
     "metadata": {},
     "output_type": "execute_result"
    }
   ],
   "source": [
    "s.tail(10)"
   ]
  },
  {
   "cell_type": "code",
   "execution_count": 52,
   "id": "c1360a7b",
   "metadata": {},
   "outputs": [
    {
     "data": {
      "text/plain": [
       "11432.632244897959"
      ]
     },
     "execution_count": 52,
     "metadata": {},
     "output_type": "execute_result"
    }
   ],
   "source": [
    "np.mean(s)"
   ]
  },
  {
   "cell_type": "code",
   "execution_count": 54,
   "id": "4abf426d",
   "metadata": {},
   "outputs": [
    {
     "name": "stdout",
     "output_type": "stream",
     "text": [
      "<class 'pandas.core.series.Series'>\n",
      "Index: 245 entries, 01-Jan-2019 to 31-Dec-2019\n",
      "Series name: Close\n",
      "Non-Null Count  Dtype  \n",
      "--------------  -----  \n",
      "245 non-null    float64\n",
      "dtypes: float64(1)\n",
      "memory usage: 11.9+ KB\n"
     ]
    }
   ],
   "source": [
    "s.info()"
   ]
  },
  {
   "cell_type": "code",
   "execution_count": 55,
   "id": "e266850e",
   "metadata": {},
   "outputs": [
    {
     "data": {
      "text/plain": [
       "(245,)"
      ]
     },
     "execution_count": 55,
     "metadata": {},
     "output_type": "execute_result"
    }
   ],
   "source": [
    "s.shape"
   ]
  },
  {
   "cell_type": "markdown",
   "id": "0a48ee40",
   "metadata": {},
   "source": [
    "## What fraction of days did the markets close higher than the previous day's close ?"
   ]
  },
  {
   "cell_type": "code",
   "execution_count": 100,
   "id": "5f23c829",
   "metadata": {},
   "outputs": [],
   "source": [
    "s = pd.read_csv('nifty.csv', index_col=0).loc[:, 'Close']\n"
   ]
  },
  {
   "cell_type": "code",
   "execution_count": 101,
   "id": "d150ba5a",
   "metadata": {},
   "outputs": [
    {
     "data": {
      "text/plain": [
       "10910.1"
      ]
     },
     "execution_count": 101,
     "metadata": {},
     "output_type": "execute_result"
    }
   ],
   "source": [
    "s[0]"
   ]
  },
  {
   "cell_type": "code",
   "execution_count": 102,
   "id": "613dcdd1",
   "metadata": {},
   "outputs": [
    {
     "data": {
      "text/plain": [
       "10792.5"
      ]
     },
     "execution_count": 102,
     "metadata": {},
     "output_type": "execute_result"
    }
   ],
   "source": [
    "s[1]"
   ]
  },
  {
   "cell_type": "code",
   "execution_count": 103,
   "id": "e62ce289",
   "metadata": {},
   "outputs": [
    {
     "data": {
      "text/plain": [
       "-117.60000000000036"
      ]
     },
     "execution_count": 103,
     "metadata": {},
     "output_type": "execute_result"
    }
   ],
   "source": [
    "s[1] - s[0]"
   ]
  },
  {
   "cell_type": "code",
   "execution_count": 104,
   "id": "06b0ec5e",
   "metadata": {},
   "outputs": [
    {
     "data": {
      "text/plain": [
       "Date\n",
       "02-Jan-2019    10792.50\n",
       "03-Jan-2019    10672.25\n",
       "04-Jan-2019    10727.35\n",
       "07-Jan-2019    10771.80\n",
       "08-Jan-2019    10802.15\n",
       "                 ...   \n",
       "24-Dec-2019    12214.55\n",
       "26-Dec-2019    12126.55\n",
       "27-Dec-2019    12245.80\n",
       "30-Dec-2019    12255.85\n",
       "31-Dec-2019    12168.45\n",
       "Name: Close, Length: 244, dtype: float64"
      ]
     },
     "execution_count": 104,
     "metadata": {},
     "output_type": "execute_result"
    }
   ],
   "source": [
    "s.iloc[1:]"
   ]
  },
  {
   "cell_type": "code",
   "execution_count": 105,
   "id": "115c41a5",
   "metadata": {},
   "outputs": [
    {
     "data": {
      "text/plain": [
       "Date\n",
       "01-Jan-2019    10910.10\n",
       "02-Jan-2019    10792.50\n",
       "03-Jan-2019    10672.25\n",
       "04-Jan-2019    10727.35\n",
       "07-Jan-2019    10771.80\n",
       "                 ...   \n",
       "23-Dec-2019    12262.75\n",
       "24-Dec-2019    12214.55\n",
       "26-Dec-2019    12126.55\n",
       "27-Dec-2019    12245.80\n",
       "30-Dec-2019    12255.85\n",
       "Name: Close, Length: 244, dtype: float64"
      ]
     },
     "execution_count": 105,
     "metadata": {},
     "output_type": "execute_result"
    }
   ],
   "source": [
    "s.iloc[:-1]"
   ]
  },
  {
   "cell_type": "code",
   "execution_count": 106,
   "id": "494ea3a9",
   "metadata": {},
   "outputs": [
    {
     "data": {
      "text/plain": [
       "Date\n",
       "01-Apr-2019    0.0\n",
       "01-Aug-2019    0.0\n",
       "01-Feb-2019    0.0\n",
       "01-Jan-2019    NaN\n",
       "01-Jul-2019    0.0\n",
       "              ... \n",
       "31-Dec-2019    NaN\n",
       "31-Jan-2019    0.0\n",
       "31-Jul-2019    0.0\n",
       "31-May-2019    0.0\n",
       "31-Oct-2019    0.0\n",
       "Name: Close, Length: 245, dtype: float64"
      ]
     },
     "execution_count": 106,
     "metadata": {},
     "output_type": "execute_result"
    }
   ],
   "source": [
    "s.iloc[1:] - s.iloc[:-1]"
   ]
  },
  {
   "cell_type": "code",
   "execution_count": 107,
   "id": "89bcbeb0",
   "metadata": {},
   "outputs": [
    {
     "data": {
      "text/plain": [
       "array([-1.1760e+02, -1.2025e+02,  5.5100e+01,  4.4450e+01,  3.0350e+01,\n",
       "        5.3000e+01, -3.3550e+01, -2.6650e+01, -5.7350e+01,  1.4920e+02,\n",
       "        3.5000e+00,  1.4900e+01,  1.7500e+00,  5.4900e+01, -3.9100e+01,\n",
       "       -9.1250e+01,  1.8300e+01, -6.9250e+01, -1.1900e+02, -9.3500e+00,\n",
       "       -4.0000e-01,  1.7915e+02,  6.2700e+01,  1.8600e+01,  2.2100e+01,\n",
       "        1.2810e+02,  6.9500e+00, -1.2580e+02, -5.4800e+01, -5.7400e+01,\n",
       "       -3.7750e+01, -4.7600e+01, -2.1650e+01, -8.3450e+01, -3.6600e+01,\n",
       "        1.3110e+02,  5.4400e+01,  1.8000e+00,  8.8450e+01, -4.4800e+01,\n",
       "       -2.8650e+01, -1.4150e+01,  7.1000e+01,  1.2395e+02,  6.5550e+01,\n",
       "        5.2000e+00, -2.2800e+01,  1.3265e+02,  1.3315e+02,  4.0500e+01,\n",
       "        1.5500e+00,  8.3600e+01,  3.5350e+01,  7.0200e+01, -1.1350e+01,\n",
       "       -6.4150e+01, -1.0265e+02,  1.2900e+02, -3.8200e+01,  1.2495e+02,\n",
       "        5.3900e+01,  4.5250e+01,  4.4050e+01, -6.9250e+01, -4.5950e+01,\n",
       "        6.7950e+01, -6.1450e+01,  6.7450e+01, -8.7650e+01,  1.2400e+01,\n",
       "        4.6750e+01,  4.6900e+01,  9.6800e+01, -3.4350e+01, -1.5835e+02,\n",
       "       -1.8500e+01,  1.5020e+02, -8.4350e+01,  1.1285e+02, -6.5000e+00,\n",
       "       -2.3400e+01, -1.2500e+01, -1.1400e+02, -1.0035e+02, -1.3845e+02,\n",
       "       -5.7650e+01, -2.2900e+01, -1.3070e+02,  7.3850e+01, -6.5050e+01,\n",
       "        1.0010e+02,  1.5005e+02,  4.2110e+02, -1.1915e+02,  2.8800e+01,\n",
       "       -8.0850e+01,  1.8705e+02,  8.0650e+01,  4.0000e+00, -6.7650e+01,\n",
       "        8.4800e+01, -2.3100e+01,  1.6575e+02, -6.6900e+01, -1.7790e+02,\n",
       "        2.6900e+01,  5.2050e+01,  4.2900e+01, -5.9400e+01,  7.8500e+00,\n",
       "       -9.0750e+01, -1.5115e+02,  1.9350e+01, -5.0000e-02,  1.4030e+02,\n",
       "       -1.0765e+02, -2.4450e+01,  9.6800e+01,  5.1100e+01, -6.0000e+00,\n",
       "       -5.2700e+01,  7.6750e+01,  4.4700e+01,  6.4500e+00,  3.0000e+01,\n",
       "       -1.3560e+02, -2.5255e+02, -2.7000e+00, -5.7000e+01,  8.4000e+01,\n",
       "       -3.0400e+01,  3.5850e+01,  7.4250e+01,  2.4900e+01, -9.0600e+01,\n",
       "       -1.7765e+02, -7.3050e+01, -1.5150e+01, -5.9750e+01, -1.9150e+01,\n",
       "        3.2150e+01, -9.5100e+01, -1.0380e+02,  3.2600e+01, -1.3800e+02,\n",
       "        1.7350e+01, -1.3475e+02,  8.5650e+01, -9.2750e+01,  1.7695e+02,\n",
       "        7.7200e+01, -1.8380e+02,  1.0355e+02,  1.8400e+01,  6.1000e+00,\n",
       "       -3.6900e+01, -9.8300e+01, -1.7735e+02,  8.8000e+01,  2.2850e+02,\n",
       "        4.7500e+01, -5.9250e+01, -9.7800e+01,  7.4950e+01, -2.2535e+02,\n",
       "        4.6750e+01,  3.2500e+00,  9.8300e+01,  5.6850e+01,  3.2650e+01,\n",
       "       -5.2900e+01,  9.3100e+01, -7.2400e+01, -1.8590e+02,  2.3050e+01,\n",
       "       -1.3585e+02,  5.6940e+02,  3.2600e+02, -1.2000e+01, -1.4800e+02,\n",
       "        1.3100e+02, -5.8800e+01, -3.7950e+01, -1.1455e+02, -4.5900e+01,\n",
       "       -1.3925e+02, -4.8350e+01,  1.8690e+02, -7.8750e+01,  7.0500e+01,\n",
       "        3.6100e+01,  8.7150e+01,  3.5700e+01,  1.2235e+02,  7.5500e+01,\n",
       "       -7.3500e+01,  1.5750e+01, -2.1500e+01,  1.3000e+00,  4.3250e+01,\n",
       "        1.5970e+02,  5.7250e+01,  3.3350e+01,  1.3150e+01,  5.0700e+01,\n",
       "       -2.4100e+01,  4.8850e+01,  4.6000e+01, -1.0390e+02,  5.3000e+00,\n",
       "       -7.3000e+01,  3.1650e+01,  2.3350e+01, -1.0950e+01,  5.5600e+01,\n",
       "        5.9000e+01, -3.0700e+01, -5.4000e+01,  1.5935e+02, -3.6050e+01,\n",
       "        6.3000e+01,  5.0450e+01, -9.5100e+01, -7.8500e+00, -5.4000e+01,\n",
       "        4.9000e+01, -2.4800e+01, -9.6900e+01,  1.6000e+01, -8.0700e+01,\n",
       "        5.3350e+01,  6.1650e+01,  1.1490e+02, -3.2750e+01,  1.1105e+02,\n",
       "        5.6650e+01,  3.8050e+01,  1.2100e+01, -9.0500e+00, -4.8200e+01,\n",
       "       -8.8000e+01,  1.1925e+02,  1.0050e+01, -8.7400e+01])"
      ]
     },
     "execution_count": 107,
     "metadata": {},
     "output_type": "execute_result"
    }
   ],
   "source": [
    "s.values[1:] - s.values[:-1]"
   ]
  },
  {
   "cell_type": "code",
   "execution_count": 108,
   "id": "748cb31f",
   "metadata": {},
   "outputs": [
    {
     "data": {
      "text/plain": [
       "129"
      ]
     },
     "execution_count": 108,
     "metadata": {},
     "output_type": "execute_result"
    }
   ],
   "source": [
    "np.sum(s.values[1:] - s.values[:-1] > 0) "
   ]
  },
  {
   "cell_type": "code",
   "execution_count": 109,
   "id": "62c0c6c7",
   "metadata": {},
   "outputs": [
    {
     "data": {
      "text/plain": [
       "0.5265306122448979"
      ]
     },
     "execution_count": 109,
     "metadata": {},
     "output_type": "execute_result"
    }
   ],
   "source": [
    "np.sum(s.values[1:] - s.values[:-1] > 0) / len(s)"
   ]
  },
  {
   "cell_type": "code",
   "execution_count": 110,
   "id": "44851c2e",
   "metadata": {},
   "outputs": [
    {
     "data": {
      "text/plain": [
       "129"
      ]
     },
     "execution_count": 110,
     "metadata": {},
     "output_type": "execute_result"
    }
   ],
   "source": [
    "np.sum(s.diff() > 0)"
   ]
  },
  {
   "cell_type": "code",
   "execution_count": 111,
   "id": "0b0dbe72",
   "metadata": {},
   "outputs": [
    {
     "data": {
      "text/plain": [
       "0.5265306122448979"
      ]
     },
     "execution_count": 111,
     "metadata": {},
     "output_type": "execute_result"
    }
   ],
   "source": [
    "np.sum(s.diff() > 0) / len(s)"
   ]
  },
  {
   "cell_type": "markdown",
   "id": "80890b47",
   "metadata": {},
   "source": [
    "## Compute the moving avg of last 5 days "
   ]
  },
  {
   "cell_type": "code",
   "execution_count": 115,
   "id": "ff91d76f",
   "metadata": {},
   "outputs": [
    {
     "data": {
      "text/plain": [
       "Date\n",
       "01-Jan-2019    10910.10\n",
       "02-Jan-2019    10792.50\n",
       "03-Jan-2019    10672.25\n",
       "04-Jan-2019    10727.35\n",
       "07-Jan-2019    10771.80\n",
       "                 ...   \n",
       "24-Dec-2019    12214.55\n",
       "26-Dec-2019    12126.55\n",
       "27-Dec-2019    12245.80\n",
       "30-Dec-2019    12255.85\n",
       "31-Dec-2019    12168.45\n",
       "Name: Close, Length: 245, dtype: float64"
      ]
     },
     "execution_count": 115,
     "metadata": {},
     "output_type": "execute_result"
    }
   ],
   "source": [
    "s = pd.read_csv('nifty.csv', index_col=0).loc[:, 'Close']\n",
    "\n",
    "s"
   ]
  },
  {
   "cell_type": "code",
   "execution_count": 116,
   "id": "88723629",
   "metadata": {},
   "outputs": [],
   "source": [
    "def moving_average(x, w):\n",
    "    return np.convolve(x, np.ones(w), 'valid') / w"
   ]
  },
  {
   "cell_type": "code",
   "execution_count": 117,
   "id": "6b4afb62",
   "metadata": {},
   "outputs": [
    {
     "data": {
      "text/plain": [
       "array([10774.8 , 10753.21, 10765.74, 10795.61, 10809.13, 10802.29,\n",
       "       10819.22, 10826.25, 10842.97, 10865.37, 10910.22, 10917.41,\n",
       "       10905.65, 10894.57, 10869.29, 10809.23, 10755.12, 10719.18,\n",
       "       10715.41, 10738.03, 10788.17, 10844.6 , 10926.73, 10974.42,\n",
       "       10984.41, 10979.72, 10959.13, 10905.37, 10840.7 , 10796.86,\n",
       "       10747.29, 10701.88, 10690.24, 10699.  , 10712.45, 10760.28,\n",
       "       10806.47, 10820.71, 10821.24, 10835.61, 10857.08, 10900.62,\n",
       "       10950.93, 10999.51, 11060.42, 11123.17, 11180.91, 11237.92,\n",
       "       11316.21, 11375.04, 11421.28, 11457.15, 11479.88, 11465.36,\n",
       "       11469.57, 11452.1 , 11461.89, 11495.29, 11558.27, 11604.26,\n",
       "       11644.04, 11649.64, 11658.05, 11645.12, 11636.87, 11624.94,\n",
       "       11624.68, 11620.18, 11637.35, 11660.39, 11694.09, 11693.64,\n",
       "       11680.14, 11687.3 , 11658.23, 11658.6 , 11689.34, 11719.1 ,\n",
       "       11716.32, 11707.61, 11656.26, 11578.52, 11493.93, 11407.26,\n",
       "       11317.25, 11262.08, 11221.59, 11212.65, 11238.3 , 11374.31,\n",
       "       11471.72, 11587.9 , 11667.89, 11755.28, 11774.58, 11818.51,\n",
       "       11843.15, 11900.92, 11916.66, 11949.42, 11968.  , 11964.53,\n",
       "       11949.48, 11949.46, 11924.87, 11901.78, 11915.84, 11906.37,\n",
       "       11856.26, 11801.44, 11758.49, 11742.03, 11722.19, 11727.69,\n",
       "       11748.68, 11779.9 , 11781.86, 11794.81, 11828.  , 11850.77,\n",
       "       11864.61, 11885.65, 11890.11, 11828.71, 11757.83, 11674.26,\n",
       "       11601.49, 11549.76, 11555.71, 11577.05, 11614.77, 11617.57,\n",
       "       11590.92, 11542.49, 11476.18, 11392.94, 11323.99, 11297.  ,\n",
       "       11265.6 , 11216.47, 11185.81, 11131.38, 11073.99, 11008.67,\n",
       "       10981.24, 10928.74, 10939.23, 10961.69, 10974.34, 10990.57,\n",
       "       11029.03, 11033.32, 11014.79, 11013.36, 10955.75, 10912.06,\n",
       "       10912.85, 10930.52, 10956.  , 10997.39, 11036.17, 10984.18,\n",
       "       10932.04, 10892.4 , 10891.98, 10887.94, 10935.5 , 10963.13,\n",
       "       11008.73, 11020.19, 10983.1 , 10944.09, 10888.49, 10928.15,\n",
       "       11047.49, 11201.61, 11321.52, 11494.8 , 11542.44, 11517.29,\n",
       "       11471.63, 11446.39, 11367.1 , 11289.9 , 11257.67, 11232.6 ,\n",
       "       11230.81, 11264.09, 11324.47, 11354.61, 11424.97, 11496.33,\n",
       "       11545.77, 11580.93, 11604.65, 11604.16, 11597.22, 11636.92,\n",
       "       11684.92, 11743.89, 11805.23, 11868.06, 11894.13, 11918.52,\n",
       "       11945.44, 11948.95, 11943.38, 11928.03, 11909.24, 11885.92,\n",
       "       11881.19, 11886.52, 11918.25, 11937.51, 11941.3 , 11979.15,\n",
       "       11998.67, 12018.99, 12055.54, 12083.87, 12078.76, 12070.06,\n",
       "       12058.56, 12032.01, 12005.1 , 11982.96, 11955.48, 11928.87,\n",
       "       11919.55, 11952.59, 11975.88, 12037.52, 12099.82, 12157.4 ,\n",
       "       12194.42, 12236.18, 12246.09, 12227.07, 12224.29, 12221.1 ,\n",
       "       12202.24])"
      ]
     },
     "execution_count": 117,
     "metadata": {},
     "output_type": "execute_result"
    }
   ],
   "source": [
    "moving_average(s, 5)"
   ]
  },
  {
   "cell_type": "code",
   "execution_count": 134,
   "id": "ec1d7307",
   "metadata": {},
   "outputs": [
    {
     "data": {
      "text/plain": [
       "Date\n",
       "01-Jan-2019    10910.10\n",
       "02-Jan-2019    10792.50\n",
       "03-Jan-2019    10672.25\n",
       "04-Jan-2019    10727.35\n",
       "07-Jan-2019    10771.80\n",
       "                 ...   \n",
       "24-Dec-2019    12214.55\n",
       "26-Dec-2019    12126.55\n",
       "27-Dec-2019    12245.80\n",
       "30-Dec-2019    12255.85\n",
       "31-Dec-2019    12168.45\n",
       "Name: Close, Length: 245, dtype: float64"
      ]
     },
     "execution_count": 134,
     "metadata": {},
     "output_type": "execute_result"
    }
   ],
   "source": [
    "s"
   ]
  },
  {
   "cell_type": "code",
   "execution_count": 135,
   "id": "6ad8b00c",
   "metadata": {},
   "outputs": [
    {
     "data": {
      "text/plain": [
       "Index(['01-Jan-2019', '02-Jan-2019', '03-Jan-2019', '04-Jan-2019',\n",
       "       '07-Jan-2019', '08-Jan-2019', '09-Jan-2019', '10-Jan-2019',\n",
       "       '11-Jan-2019', '14-Jan-2019',\n",
       "       ...\n",
       "       '17-Dec-2019', '18-Dec-2019', '19-Dec-2019', '20-Dec-2019',\n",
       "       '23-Dec-2019', '24-Dec-2019', '26-Dec-2019', '27-Dec-2019',\n",
       "       '30-Dec-2019', '31-Dec-2019'],\n",
       "      dtype='object', name='Date', length=245)"
      ]
     },
     "execution_count": 135,
     "metadata": {},
     "output_type": "execute_result"
    }
   ],
   "source": [
    "s.index"
   ]
  },
  {
   "cell_type": "code",
   "execution_count": 136,
   "id": "6d0eb6dc",
   "metadata": {},
   "outputs": [],
   "source": [
    "new_index = map(pd.Timestamp, s.index)"
   ]
  },
  {
   "cell_type": "code",
   "execution_count": 137,
   "id": "87382050",
   "metadata": {},
   "outputs": [],
   "source": [
    "nifty = pd.Series(s.values, index=new_index)"
   ]
  },
  {
   "cell_type": "code",
   "execution_count": 141,
   "id": "0e6dd17d",
   "metadata": {},
   "outputs": [
    {
     "data": {
      "text/plain": [
       "2019-01-01    10910.10\n",
       "2019-01-02    21702.60\n",
       "2019-01-03    32374.85\n",
       "2019-01-04    43102.20\n",
       "2019-01-07    32171.40\n",
       "                ...   \n",
       "2019-12-24    36749.10\n",
       "2019-12-26    36603.85\n",
       "2019-12-27    48849.65\n",
       "2019-12-30    36628.20\n",
       "2019-12-31    36670.10\n",
       "Length: 245, dtype: float64"
      ]
     },
     "execution_count": 141,
     "metadata": {},
     "output_type": "execute_result"
    }
   ],
   "source": [
    "nifty.rolling('5d').sum()"
   ]
  },
  {
   "cell_type": "markdown",
   "id": "38afa73e",
   "metadata": {},
   "source": [
    "## Find the avg of only Friday"
   ]
  },
  {
   "cell_type": "code",
   "execution_count": 150,
   "id": "72b0e18f",
   "metadata": {},
   "outputs": [],
   "source": [
    "only_friday = nifty[nifty.index.day_of_week == 4]"
   ]
  },
  {
   "cell_type": "code",
   "execution_count": 151,
   "id": "6f0ef95e",
   "metadata": {},
   "outputs": [
    {
     "data": {
      "text/plain": [
       "11435.39411764706"
      ]
     },
     "execution_count": 151,
     "metadata": {},
     "output_type": "execute_result"
    }
   ],
   "source": [
    "np.mean(only_friday)"
   ]
  },
  {
   "cell_type": "code",
   "execution_count": 152,
   "id": "ca2271c9",
   "metadata": {},
   "outputs": [
    {
     "name": "stdout",
     "output_type": "stream",
     "text": [
      "2.0\n"
     ]
    }
   ],
   "source": [
    "data = [3,2,2,1] \n",
    "s = pd.Series( data ) \n",
    "b = s.mean() \n",
    "print(b) "
   ]
  },
  {
   "cell_type": "code",
   "execution_count": 153,
   "id": "c5e0d745",
   "metadata": {},
   "outputs": [],
   "source": [
    "import seaborn as sns\n",
    "titanic = sns.load_dataset('titanic')"
   ]
  },
  {
   "cell_type": "code",
   "execution_count": 154,
   "id": "e94b7cfc",
   "metadata": {},
   "outputs": [
    {
     "data": {
      "text/html": [
       "<div>\n",
       "<style scoped>\n",
       "    .dataframe tbody tr th:only-of-type {\n",
       "        vertical-align: middle;\n",
       "    }\n",
       "\n",
       "    .dataframe tbody tr th {\n",
       "        vertical-align: top;\n",
       "    }\n",
       "\n",
       "    .dataframe thead th {\n",
       "        text-align: right;\n",
       "    }\n",
       "</style>\n",
       "<table border=\"1\" class=\"dataframe\">\n",
       "  <thead>\n",
       "    <tr style=\"text-align: right;\">\n",
       "      <th></th>\n",
       "      <th>survived</th>\n",
       "      <th>pclass</th>\n",
       "      <th>sex</th>\n",
       "      <th>age</th>\n",
       "      <th>sibsp</th>\n",
       "      <th>parch</th>\n",
       "      <th>fare</th>\n",
       "      <th>embarked</th>\n",
       "      <th>class</th>\n",
       "      <th>who</th>\n",
       "      <th>adult_male</th>\n",
       "      <th>deck</th>\n",
       "      <th>embark_town</th>\n",
       "      <th>alive</th>\n",
       "      <th>alone</th>\n",
       "    </tr>\n",
       "  </thead>\n",
       "  <tbody>\n",
       "    <tr>\n",
       "      <th>0</th>\n",
       "      <td>0</td>\n",
       "      <td>3</td>\n",
       "      <td>male</td>\n",
       "      <td>22.0</td>\n",
       "      <td>1</td>\n",
       "      <td>0</td>\n",
       "      <td>7.2500</td>\n",
       "      <td>S</td>\n",
       "      <td>Third</td>\n",
       "      <td>man</td>\n",
       "      <td>True</td>\n",
       "      <td>NaN</td>\n",
       "      <td>Southampton</td>\n",
       "      <td>no</td>\n",
       "      <td>False</td>\n",
       "    </tr>\n",
       "    <tr>\n",
       "      <th>1</th>\n",
       "      <td>1</td>\n",
       "      <td>1</td>\n",
       "      <td>female</td>\n",
       "      <td>38.0</td>\n",
       "      <td>1</td>\n",
       "      <td>0</td>\n",
       "      <td>71.2833</td>\n",
       "      <td>C</td>\n",
       "      <td>First</td>\n",
       "      <td>woman</td>\n",
       "      <td>False</td>\n",
       "      <td>C</td>\n",
       "      <td>Cherbourg</td>\n",
       "      <td>yes</td>\n",
       "      <td>False</td>\n",
       "    </tr>\n",
       "    <tr>\n",
       "      <th>2</th>\n",
       "      <td>1</td>\n",
       "      <td>3</td>\n",
       "      <td>female</td>\n",
       "      <td>26.0</td>\n",
       "      <td>0</td>\n",
       "      <td>0</td>\n",
       "      <td>7.9250</td>\n",
       "      <td>S</td>\n",
       "      <td>Third</td>\n",
       "      <td>woman</td>\n",
       "      <td>False</td>\n",
       "      <td>NaN</td>\n",
       "      <td>Southampton</td>\n",
       "      <td>yes</td>\n",
       "      <td>True</td>\n",
       "    </tr>\n",
       "    <tr>\n",
       "      <th>3</th>\n",
       "      <td>1</td>\n",
       "      <td>1</td>\n",
       "      <td>female</td>\n",
       "      <td>35.0</td>\n",
       "      <td>1</td>\n",
       "      <td>0</td>\n",
       "      <td>53.1000</td>\n",
       "      <td>S</td>\n",
       "      <td>First</td>\n",
       "      <td>woman</td>\n",
       "      <td>False</td>\n",
       "      <td>C</td>\n",
       "      <td>Southampton</td>\n",
       "      <td>yes</td>\n",
       "      <td>False</td>\n",
       "    </tr>\n",
       "    <tr>\n",
       "      <th>4</th>\n",
       "      <td>0</td>\n",
       "      <td>3</td>\n",
       "      <td>male</td>\n",
       "      <td>35.0</td>\n",
       "      <td>0</td>\n",
       "      <td>0</td>\n",
       "      <td>8.0500</td>\n",
       "      <td>S</td>\n",
       "      <td>Third</td>\n",
       "      <td>man</td>\n",
       "      <td>True</td>\n",
       "      <td>NaN</td>\n",
       "      <td>Southampton</td>\n",
       "      <td>no</td>\n",
       "      <td>True</td>\n",
       "    </tr>\n",
       "    <tr>\n",
       "      <th>...</th>\n",
       "      <td>...</td>\n",
       "      <td>...</td>\n",
       "      <td>...</td>\n",
       "      <td>...</td>\n",
       "      <td>...</td>\n",
       "      <td>...</td>\n",
       "      <td>...</td>\n",
       "      <td>...</td>\n",
       "      <td>...</td>\n",
       "      <td>...</td>\n",
       "      <td>...</td>\n",
       "      <td>...</td>\n",
       "      <td>...</td>\n",
       "      <td>...</td>\n",
       "      <td>...</td>\n",
       "    </tr>\n",
       "    <tr>\n",
       "      <th>886</th>\n",
       "      <td>0</td>\n",
       "      <td>2</td>\n",
       "      <td>male</td>\n",
       "      <td>27.0</td>\n",
       "      <td>0</td>\n",
       "      <td>0</td>\n",
       "      <td>13.0000</td>\n",
       "      <td>S</td>\n",
       "      <td>Second</td>\n",
       "      <td>man</td>\n",
       "      <td>True</td>\n",
       "      <td>NaN</td>\n",
       "      <td>Southampton</td>\n",
       "      <td>no</td>\n",
       "      <td>True</td>\n",
       "    </tr>\n",
       "    <tr>\n",
       "      <th>887</th>\n",
       "      <td>1</td>\n",
       "      <td>1</td>\n",
       "      <td>female</td>\n",
       "      <td>19.0</td>\n",
       "      <td>0</td>\n",
       "      <td>0</td>\n",
       "      <td>30.0000</td>\n",
       "      <td>S</td>\n",
       "      <td>First</td>\n",
       "      <td>woman</td>\n",
       "      <td>False</td>\n",
       "      <td>B</td>\n",
       "      <td>Southampton</td>\n",
       "      <td>yes</td>\n",
       "      <td>True</td>\n",
       "    </tr>\n",
       "    <tr>\n",
       "      <th>888</th>\n",
       "      <td>0</td>\n",
       "      <td>3</td>\n",
       "      <td>female</td>\n",
       "      <td>NaN</td>\n",
       "      <td>1</td>\n",
       "      <td>2</td>\n",
       "      <td>23.4500</td>\n",
       "      <td>S</td>\n",
       "      <td>Third</td>\n",
       "      <td>woman</td>\n",
       "      <td>False</td>\n",
       "      <td>NaN</td>\n",
       "      <td>Southampton</td>\n",
       "      <td>no</td>\n",
       "      <td>False</td>\n",
       "    </tr>\n",
       "    <tr>\n",
       "      <th>889</th>\n",
       "      <td>1</td>\n",
       "      <td>1</td>\n",
       "      <td>male</td>\n",
       "      <td>26.0</td>\n",
       "      <td>0</td>\n",
       "      <td>0</td>\n",
       "      <td>30.0000</td>\n",
       "      <td>C</td>\n",
       "      <td>First</td>\n",
       "      <td>man</td>\n",
       "      <td>True</td>\n",
       "      <td>C</td>\n",
       "      <td>Cherbourg</td>\n",
       "      <td>yes</td>\n",
       "      <td>True</td>\n",
       "    </tr>\n",
       "    <tr>\n",
       "      <th>890</th>\n",
       "      <td>0</td>\n",
       "      <td>3</td>\n",
       "      <td>male</td>\n",
       "      <td>32.0</td>\n",
       "      <td>0</td>\n",
       "      <td>0</td>\n",
       "      <td>7.7500</td>\n",
       "      <td>Q</td>\n",
       "      <td>Third</td>\n",
       "      <td>man</td>\n",
       "      <td>True</td>\n",
       "      <td>NaN</td>\n",
       "      <td>Queenstown</td>\n",
       "      <td>no</td>\n",
       "      <td>True</td>\n",
       "    </tr>\n",
       "  </tbody>\n",
       "</table>\n",
       "<p>891 rows × 15 columns</p>\n",
       "</div>"
      ],
      "text/plain": [
       "     survived  pclass     sex   age  sibsp  parch     fare embarked   class  \\\n",
       "0           0       3    male  22.0      1      0   7.2500        S   Third   \n",
       "1           1       1  female  38.0      1      0  71.2833        C   First   \n",
       "2           1       3  female  26.0      0      0   7.9250        S   Third   \n",
       "3           1       1  female  35.0      1      0  53.1000        S   First   \n",
       "4           0       3    male  35.0      0      0   8.0500        S   Third   \n",
       "..        ...     ...     ...   ...    ...    ...      ...      ...     ...   \n",
       "886         0       2    male  27.0      0      0  13.0000        S  Second   \n",
       "887         1       1  female  19.0      0      0  30.0000        S   First   \n",
       "888         0       3  female   NaN      1      2  23.4500        S   Third   \n",
       "889         1       1    male  26.0      0      0  30.0000        C   First   \n",
       "890         0       3    male  32.0      0      0   7.7500        Q   Third   \n",
       "\n",
       "       who  adult_male deck  embark_town alive  alone  \n",
       "0      man        True  NaN  Southampton    no  False  \n",
       "1    woman       False    C    Cherbourg   yes  False  \n",
       "2    woman       False  NaN  Southampton   yes   True  \n",
       "3    woman       False    C  Southampton   yes  False  \n",
       "4      man        True  NaN  Southampton    no   True  \n",
       "..     ...         ...  ...          ...   ...    ...  \n",
       "886    man        True  NaN  Southampton    no   True  \n",
       "887  woman       False    B  Southampton   yes   True  \n",
       "888  woman       False  NaN  Southampton    no  False  \n",
       "889    man        True    C    Cherbourg   yes   True  \n",
       "890    man        True  NaN   Queenstown    no   True  \n",
       "\n",
       "[891 rows x 15 columns]"
      ]
     },
     "execution_count": 154,
     "metadata": {},
     "output_type": "execute_result"
    }
   ],
   "source": [
    "titanic"
   ]
  },
  {
   "cell_type": "code",
   "execution_count": 155,
   "id": "3700d4ed",
   "metadata": {},
   "outputs": [
    {
     "data": {
      "text/plain": [
       "<Axes: xlabel='class', ylabel='fare'>"
      ]
     },
     "execution_count": 155,
     "metadata": {},
     "output_type": "execute_result"
    },
    {
     "data": {
      "image/png": "[encoded data removed]",
      "text/plain": [
       "<Figure size 640x480 with 1 Axes>"
      ]
     },
     "metadata": {},
     "output_type": "display_data"
    }
   ],
   "source": [
    "# Filter the dataset by class\n",
    "class_1 = titanic[titanic['class'] == 'First']\n",
    "class_2 = titanic[titanic['class'] == 'Second']\n",
    "class_3 = titanic[titanic['class'] == 'Third']\n",
    "\n",
    "# Plot fare vs. survival for each class\n",
    "sns.boxplot(x='class', y='fare', hue='survived', data=titanic)"
   ]
  },
  {
   "cell_type": "code",
   "execution_count": 156,
   "id": "2d5fbec9",
   "metadata": {},
   "outputs": [
    {
     "data": {
      "text/plain": [
       "<Axes: xlabel='class', ylabel='fare'>"
      ]
     },
     "execution_count": 156,
     "metadata": {},
     "output_type": "execute_result"
    },
    {
     "data": {
      "image/png": "[encoded data removed]",
      "text/plain": [
       "<Figure size 640x480 with 1 Axes>"
      ]
     },
     "metadata": {},
     "output_type": "display_data"
    }
   ],
   "source": [
    "sns.barplot(x='class', y='fare', hue='survived', data=titanic)"
   ]
  },
  {
   "cell_type": "code",
   "execution_count": 164,
   "id": "7455d6a1",
   "metadata": {},
   "outputs": [
    {
     "name": "stdout",
     "output_type": "stream",
     "text": [
      "alive\n",
      "no     44.7500\n",
      "yes    77.9583\n",
      "Name: fare, dtype: float64\n",
      "alive\n",
      "no     64.684007\n",
      "yes    95.608029\n",
      "Name: fare, dtype: float64\n"
     ]
    }
   ],
   "source": [
    "print(class_1.groupby('alive').median('fare')['fare'])\n",
    "print(class_1.groupby('alive').mean('fare')['fare'])"
   ]
  },
  {
   "cell_type": "code",
   "execution_count": 163,
   "id": "b5ef46c2",
   "metadata": {},
   "outputs": [
    {
     "name": "stdout",
     "output_type": "stream",
     "text": [
      "alive\n",
      "no     13.0\n",
      "yes    21.0\n",
      "Name: fare, dtype: float64\n",
      "alive\n",
      "no     19.412328\n",
      "yes    22.055700\n",
      "Name: fare, dtype: float64\n"
     ]
    }
   ],
   "source": [
    "print(class_2.groupby('alive').median('fare')['fare'])\n",
    "print(class_2.groupby('alive').mean('fare')['fare'])"
   ]
  },
  {
   "cell_type": "code",
   "execution_count": 165,
   "id": "9ae241ed",
   "metadata": {},
   "outputs": [
    {
     "name": "stdout",
     "output_type": "stream",
     "text": [
      "alive\n",
      "no     8.0500\n",
      "yes    8.5167\n",
      "Name: fare, dtype: float64\n",
      "alive\n",
      "no     13.669364\n",
      "yes    13.694887\n",
      "Name: fare, dtype: float64\n"
     ]
    }
   ],
   "source": [
    "print(class_3.groupby('alive').median('fare')['fare'])\n",
    "print(class_3.groupby('alive').mean('fare')['fare'])"
   ]
  },
  {
   "cell_type": "code",
   "execution_count": 170,
   "id": "6b40562f",
   "metadata": {},
   "outputs": [
    {
     "data": {
      "text/html": [
       "<div>\n",
       "<style scoped>\n",
       "    .dataframe tbody tr th:only-of-type {\n",
       "        vertical-align: middle;\n",
       "    }\n",
       "\n",
       "    .dataframe tbody tr th {\n",
       "        vertical-align: top;\n",
       "    }\n",
       "\n",
       "    .dataframe thead th {\n",
       "        text-align: right;\n",
       "    }\n",
       "</style>\n",
       "<table border=\"1\" class=\"dataframe\">\n",
       "  <thead>\n",
       "    <tr style=\"text-align: right;\">\n",
       "      <th></th>\n",
       "      <th>survived</th>\n",
       "      <th>pclass</th>\n",
       "      <th>sex</th>\n",
       "      <th>age</th>\n",
       "      <th>sibsp</th>\n",
       "      <th>parch</th>\n",
       "      <th>fare</th>\n",
       "      <th>embarked</th>\n",
       "      <th>class</th>\n",
       "      <th>who</th>\n",
       "      <th>adult_male</th>\n",
       "      <th>deck</th>\n",
       "      <th>embark_town</th>\n",
       "      <th>alive</th>\n",
       "      <th>alone</th>\n",
       "    </tr>\n",
       "  </thead>\n",
       "  <tbody>\n",
       "    <tr>\n",
       "      <th>0</th>\n",
       "      <td>0</td>\n",
       "      <td>3</td>\n",
       "      <td>male</td>\n",
       "      <td>22.0</td>\n",
       "      <td>1</td>\n",
       "      <td>0</td>\n",
       "      <td>7.2500</td>\n",
       "      <td>S</td>\n",
       "      <td>Third</td>\n",
       "      <td>man</td>\n",
       "      <td>True</td>\n",
       "      <td>NaN</td>\n",
       "      <td>Southampton</td>\n",
       "      <td>no</td>\n",
       "      <td>False</td>\n",
       "    </tr>\n",
       "    <tr>\n",
       "      <th>1</th>\n",
       "      <td>1</td>\n",
       "      <td>1</td>\n",
       "      <td>female</td>\n",
       "      <td>38.0</td>\n",
       "      <td>1</td>\n",
       "      <td>0</td>\n",
       "      <td>71.2833</td>\n",
       "      <td>C</td>\n",
       "      <td>First</td>\n",
       "      <td>woman</td>\n",
       "      <td>False</td>\n",
       "      <td>C</td>\n",
       "      <td>Cherbourg</td>\n",
       "      <td>yes</td>\n",
       "      <td>False</td>\n",
       "    </tr>\n",
       "    <tr>\n",
       "      <th>2</th>\n",
       "      <td>1</td>\n",
       "      <td>3</td>\n",
       "      <td>female</td>\n",
       "      <td>26.0</td>\n",
       "      <td>0</td>\n",
       "      <td>0</td>\n",
       "      <td>7.9250</td>\n",
       "      <td>S</td>\n",
       "      <td>Third</td>\n",
       "      <td>woman</td>\n",
       "      <td>False</td>\n",
       "      <td>NaN</td>\n",
       "      <td>Southampton</td>\n",
       "      <td>yes</td>\n",
       "      <td>True</td>\n",
       "    </tr>\n",
       "    <tr>\n",
       "      <th>3</th>\n",
       "      <td>1</td>\n",
       "      <td>1</td>\n",
       "      <td>female</td>\n",
       "      <td>35.0</td>\n",
       "      <td>1</td>\n",
       "      <td>0</td>\n",
       "      <td>53.1000</td>\n",
       "      <td>S</td>\n",
       "      <td>First</td>\n",
       "      <td>woman</td>\n",
       "      <td>False</td>\n",
       "      <td>C</td>\n",
       "      <td>Southampton</td>\n",
       "      <td>yes</td>\n",
       "      <td>False</td>\n",
       "    </tr>\n",
       "    <tr>\n",
       "      <th>4</th>\n",
       "      <td>0</td>\n",
       "      <td>3</td>\n",
       "      <td>male</td>\n",
       "      <td>35.0</td>\n",
       "      <td>0</td>\n",
       "      <td>0</td>\n",
       "      <td>8.0500</td>\n",
       "      <td>S</td>\n",
       "      <td>Third</td>\n",
       "      <td>man</td>\n",
       "      <td>True</td>\n",
       "      <td>NaN</td>\n",
       "      <td>Southampton</td>\n",
       "      <td>no</td>\n",
       "      <td>True</td>\n",
       "    </tr>\n",
       "  </tbody>\n",
       "</table>\n",
       "</div>"
      ],
      "text/plain": [
       "   survived  pclass     sex   age  sibsp  parch     fare embarked  class  \\\n",
       "0         0       3    male  22.0      1      0   7.2500        S  Third   \n",
       "1         1       1  female  38.0      1      0  71.2833        C  First   \n",
       "2         1       3  female  26.0      0      0   7.9250        S  Third   \n",
       "3         1       1  female  35.0      1      0  53.1000        S  First   \n",
       "4         0       3    male  35.0      0      0   8.0500        S  Third   \n",
       "\n",
       "     who  adult_male deck  embark_town alive  alone  \n",
       "0    man        True  NaN  Southampton    no  False  \n",
       "1  woman       False    C    Cherbourg   yes  False  \n",
       "2  woman       False  NaN  Southampton   yes   True  \n",
       "3  woman       False    C  Southampton   yes  False  \n",
       "4    man        True  NaN  Southampton    no   True  "
      ]
     },
     "execution_count": 170,
     "metadata": {},
     "output_type": "execute_result"
    }
   ],
   "source": [
    "titanic.head(5)"
   ]
  },
  {
   "cell_type": "code",
   "execution_count": 171,
   "id": "aa7b511e",
   "metadata": {},
   "outputs": [
    {
     "data": {
      "text/plain": [
       "0      False\n",
       "1       True\n",
       "2       True\n",
       "3       True\n",
       "4      False\n",
       "       ...  \n",
       "886    False\n",
       "887     True\n",
       "888    False\n",
       "889     True\n",
       "890    False\n",
       "Name: survived, Length: 891, dtype: bool"
      ]
     },
     "execution_count": 171,
     "metadata": {},
     "output_type": "execute_result"
    }
   ],
   "source": [
    "titanic['survived'] == 1"
   ]
  },
  {
   "cell_type": "code",
   "execution_count": 181,
   "id": "f6b45457",
   "metadata": {},
   "outputs": [],
   "source": [
    "df_alone_surv = titanic[(titanic['alone'] == True) & (titanic['survived'] == 1)]"
   ]
  },
  {
   "cell_type": "code",
   "execution_count": 182,
   "id": "8b1e2716",
   "metadata": {},
   "outputs": [],
   "source": [
    "df_alone_but_not_surv = titanic[(titanic['alone'] == True) & (titanic['survived'] != 1)]"
   ]
  },
  {
   "cell_type": "code",
   "execution_count": 183,
   "id": "d23b51f3",
   "metadata": {},
   "outputs": [
    {
     "data": {
      "text/plain": [
       "True"
      ]
     },
     "execution_count": 183,
     "metadata": {},
     "output_type": "execute_result"
    }
   ],
   "source": [
    "df_alone_surv.age.median() > df_alone_but_not_surv.age.median()"
   ]
  },
  {
   "cell_type": "code",
   "execution_count": 184,
   "id": "573637f9",
   "metadata": {},
   "outputs": [
    {
     "data": {
      "text/plain": [
       "False"
      ]
     },
     "execution_count": 184,
     "metadata": {},
     "output_type": "execute_result"
    }
   ],
   "source": [
    "df_alone_but_not_surv.age.median() > df_alone_surv.age.median()"
   ]
  },
  {
   "cell_type": "code",
   "execution_count": 185,
   "id": "4ac9c6e1",
   "metadata": {},
   "outputs": [],
   "source": [
    "df_not_alone_surv = titanic[(titanic['alone'] == False) & (titanic['survived'] == 1)]"
   ]
  },
  {
   "cell_type": "code",
   "execution_count": 186,
   "id": "3e7ff16c",
   "metadata": {},
   "outputs": [],
   "source": [
    "df_not_alone_not_surv = titanic[(titanic['alone'] == False) & (titanic['survived'] != 1)]"
   ]
  },
  {
   "cell_type": "code",
   "execution_count": 187,
   "id": "e0599c53",
   "metadata": {},
   "outputs": [
    {
     "data": {
      "text/plain": [
       "False"
      ]
     },
     "execution_count": 187,
     "metadata": {},
     "output_type": "execute_result"
    }
   ],
   "source": [
    "df_not_alone_not_surv.age.median() < df_not_alone_surv.age.median() "
   ]
  },
  {
   "cell_type": "code",
   "execution_count": 188,
   "id": "ae48298d",
   "metadata": {},
   "outputs": [
    {
     "data": {
      "text/plain": [
       "True"
      ]
     },
     "execution_count": 188,
     "metadata": {},
     "output_type": "execute_result"
    }
   ],
   "source": [
    "df_not_alone_surv.age.median() < df_not_alone_not_surv.age.median()"
   ]
  },
  {
   "cell_type": "code",
   "execution_count": null,
   "id": "d4613354",
   "metadata": {},
   "outputs": [],
   "source": []
  }
 ],
 "metadata": {
  "kernelspec": {
   "display_name": "Python 3 (ipykernel)",
   "language": "python",
   "name": "python3"
  },
  "language_info": {
   "codemirror_mode": {
    "name": "ipython",
    "version": 3
   },
   "file_extension": ".py",
   "mimetype": "text/x-python",
   "name": "python",
   "nbconvert_exporter": "python",
   "pygments_lexer": "ipython3",
   "version": "3.10.9"
  }
 },
 "nbformat": 4,
 "nbformat_minor": 5
}
