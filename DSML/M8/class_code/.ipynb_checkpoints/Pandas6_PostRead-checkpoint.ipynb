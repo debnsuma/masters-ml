{
 "cells": [
  {
   "cell_type": "code",
   "execution_count": null,
   "metadata": {
    "colab": {
     "base_uri": "https://localhost:8080/"
    },
    "id": "nTEXWk1-O5X5",
    "outputId": "8368c1b1-0b0e-41d0-fbfa-8e706ee5dfc8"
   },
   "outputs": [],
   "source": [
    "!gdown 173A59xh2mnpmljCCB9bhC4C5eP2IS6qZ -O Pfizer_1.csv"
   ]
  },
  {
   "cell_type": "code",
   "execution_count": 1,
   "metadata": {
    "id": "HfzOKVYnPDal"
   },
   "outputs": [],
   "source": [
    "import pandas as pd\n",
    "import numpy as np"
   ]
  },
  {
   "cell_type": "code",
   "execution_count": 2,
   "metadata": {
    "id": "tDy_17YLPHqW"
   },
   "outputs": [],
   "source": [
    "data = pd.read_csv('../Pfizer_1.csv')"
   ]
  },
  {
   "cell_type": "markdown",
   "metadata": {
    "id": "YPqB4sEgzK-x"
   },
   "source": [
    "## More on missing values\n",
    "\n",
    "We have learnt how to fill values of one column using an estimator\n",
    "\n",
    "#### Let's play around a bit more\n",
    "\n",
    "We will look at two new methods, ```ffill``` and ```bfill```"
   ]
  },
  {
   "cell_type": "code",
   "execution_count": 3,
   "metadata": {
    "colab": {
     "base_uri": "https://localhost:8080/",
     "height": 363
    },
    "id": "0L_cUkJR_KUO",
    "outputId": "27a4dbe3-8536-46d4-d9f9-61988baaa017"
   },
   "outputs": [
    {
     "data": {
      "text/html": [
       "<div>\n",
       "<style scoped>\n",
       "    .dataframe tbody tr th:only-of-type {\n",
       "        vertical-align: middle;\n",
       "    }\n",
       "\n",
       "    .dataframe tbody tr th {\n",
       "        vertical-align: top;\n",
       "    }\n",
       "\n",
       "    .dataframe thead th {\n",
       "        text-align: right;\n",
       "    }\n",
       "</style>\n",
       "<table border=\"1\" class=\"dataframe\">\n",
       "  <thead>\n",
       "    <tr style=\"text-align: right;\">\n",
       "      <th></th>\n",
       "      <th>Date</th>\n",
       "      <th>Drug_Name</th>\n",
       "      <th>Parameter</th>\n",
       "      <th>1:30:00</th>\n",
       "      <th>2:30:00</th>\n",
       "      <th>3:30:00</th>\n",
       "      <th>4:30:00</th>\n",
       "      <th>5:30:00</th>\n",
       "      <th>6:30:00</th>\n",
       "      <th>7:30:00</th>\n",
       "      <th>8:30:00</th>\n",
       "      <th>9:30:00</th>\n",
       "      <th>10:30:00</th>\n",
       "      <th>11:30:00</th>\n",
       "      <th>12:30:00</th>\n",
       "    </tr>\n",
       "  </thead>\n",
       "  <tbody>\n",
       "    <tr>\n",
       "      <th>0</th>\n",
       "      <td>15-10-2020</td>\n",
       "      <td>diltiazem hydrochloride</td>\n",
       "      <td>Temperature</td>\n",
       "      <td>23.0</td>\n",
       "      <td>22.0</td>\n",
       "      <td>NaN</td>\n",
       "      <td>21.0</td>\n",
       "      <td>21.0</td>\n",
       "      <td>22</td>\n",
       "      <td>23.0</td>\n",
       "      <td>21.0</td>\n",
       "      <td>22.0</td>\n",
       "      <td>20</td>\n",
       "      <td>20.0</td>\n",
       "      <td>21</td>\n",
       "    </tr>\n",
       "    <tr>\n",
       "      <th>1</th>\n",
       "      <td>15-10-2020</td>\n",
       "      <td>diltiazem hydrochloride</td>\n",
       "      <td>Pressure</td>\n",
       "      <td>12.0</td>\n",
       "      <td>13.0</td>\n",
       "      <td>NaN</td>\n",
       "      <td>11.0</td>\n",
       "      <td>13.0</td>\n",
       "      <td>14</td>\n",
       "      <td>16.0</td>\n",
       "      <td>16.0</td>\n",
       "      <td>24.0</td>\n",
       "      <td>18</td>\n",
       "      <td>19.0</td>\n",
       "      <td>20</td>\n",
       "    </tr>\n",
       "    <tr>\n",
       "      <th>2</th>\n",
       "      <td>15-10-2020</td>\n",
       "      <td>docetaxel injection</td>\n",
       "      <td>Temperature</td>\n",
       "      <td>NaN</td>\n",
       "      <td>17.0</td>\n",
       "      <td>18.0</td>\n",
       "      <td>NaN</td>\n",
       "      <td>17.0</td>\n",
       "      <td>18</td>\n",
       "      <td>NaN</td>\n",
       "      <td>NaN</td>\n",
       "      <td>23.0</td>\n",
       "      <td>23</td>\n",
       "      <td>25.0</td>\n",
       "      <td>25</td>\n",
       "    </tr>\n",
       "    <tr>\n",
       "      <th>3</th>\n",
       "      <td>15-10-2020</td>\n",
       "      <td>docetaxel injection</td>\n",
       "      <td>Pressure</td>\n",
       "      <td>NaN</td>\n",
       "      <td>22.0</td>\n",
       "      <td>22.0</td>\n",
       "      <td>NaN</td>\n",
       "      <td>22.0</td>\n",
       "      <td>23</td>\n",
       "      <td>NaN</td>\n",
       "      <td>NaN</td>\n",
       "      <td>27.0</td>\n",
       "      <td>26</td>\n",
       "      <td>29.0</td>\n",
       "      <td>28</td>\n",
       "    </tr>\n",
       "    <tr>\n",
       "      <th>4</th>\n",
       "      <td>15-10-2020</td>\n",
       "      <td>ketamine hydrochloride</td>\n",
       "      <td>Temperature</td>\n",
       "      <td>24.0</td>\n",
       "      <td>NaN</td>\n",
       "      <td>NaN</td>\n",
       "      <td>27.0</td>\n",
       "      <td>NaN</td>\n",
       "      <td>26</td>\n",
       "      <td>25.0</td>\n",
       "      <td>24.0</td>\n",
       "      <td>23.0</td>\n",
       "      <td>22</td>\n",
       "      <td>21.0</td>\n",
       "      <td>20</td>\n",
       "    </tr>\n",
       "    <tr>\n",
       "      <th>5</th>\n",
       "      <td>15-10-2020</td>\n",
       "      <td>ketamine hydrochloride</td>\n",
       "      <td>Pressure</td>\n",
       "      <td>8.0</td>\n",
       "      <td>NaN</td>\n",
       "      <td>NaN</td>\n",
       "      <td>7.0</td>\n",
       "      <td>NaN</td>\n",
       "      <td>9</td>\n",
       "      <td>10.0</td>\n",
       "      <td>11.0</td>\n",
       "      <td>10.0</td>\n",
       "      <td>9</td>\n",
       "      <td>9.0</td>\n",
       "      <td>11</td>\n",
       "    </tr>\n",
       "    <tr>\n",
       "      <th>6</th>\n",
       "      <td>16-10-2020</td>\n",
       "      <td>diltiazem hydrochloride</td>\n",
       "      <td>Temperature</td>\n",
       "      <td>34.0</td>\n",
       "      <td>35.0</td>\n",
       "      <td>36.0</td>\n",
       "      <td>36.0</td>\n",
       "      <td>37.0</td>\n",
       "      <td>38</td>\n",
       "      <td>37.0</td>\n",
       "      <td>38.0</td>\n",
       "      <td>39.0</td>\n",
       "      <td>40</td>\n",
       "      <td>NaN</td>\n",
       "      <td>42</td>\n",
       "    </tr>\n",
       "    <tr>\n",
       "      <th>7</th>\n",
       "      <td>16-10-2020</td>\n",
       "      <td>diltiazem hydrochloride</td>\n",
       "      <td>Pressure</td>\n",
       "      <td>18.0</td>\n",
       "      <td>19.0</td>\n",
       "      <td>20.0</td>\n",
       "      <td>21.0</td>\n",
       "      <td>22.0</td>\n",
       "      <td>23</td>\n",
       "      <td>24.0</td>\n",
       "      <td>25.0</td>\n",
       "      <td>25.0</td>\n",
       "      <td>24</td>\n",
       "      <td>NaN</td>\n",
       "      <td>27</td>\n",
       "    </tr>\n",
       "    <tr>\n",
       "      <th>8</th>\n",
       "      <td>16-10-2020</td>\n",
       "      <td>docetaxel injection</td>\n",
       "      <td>Temperature</td>\n",
       "      <td>46.0</td>\n",
       "      <td>47.0</td>\n",
       "      <td>NaN</td>\n",
       "      <td>48.0</td>\n",
       "      <td>48.0</td>\n",
       "      <td>49</td>\n",
       "      <td>50.0</td>\n",
       "      <td>52.0</td>\n",
       "      <td>55.0</td>\n",
       "      <td>56</td>\n",
       "      <td>57.0</td>\n",
       "      <td>58</td>\n",
       "    </tr>\n",
       "    <tr>\n",
       "      <th>9</th>\n",
       "      <td>16-10-2020</td>\n",
       "      <td>docetaxel injection</td>\n",
       "      <td>Pressure</td>\n",
       "      <td>23.0</td>\n",
       "      <td>24.0</td>\n",
       "      <td>NaN</td>\n",
       "      <td>25.0</td>\n",
       "      <td>26.0</td>\n",
       "      <td>27</td>\n",
       "      <td>28.0</td>\n",
       "      <td>29.0</td>\n",
       "      <td>28.0</td>\n",
       "      <td>28</td>\n",
       "      <td>29.0</td>\n",
       "      <td>30</td>\n",
       "    </tr>\n",
       "  </tbody>\n",
       "</table>\n",
       "</div>"
      ],
      "text/plain": [
       "         Date                Drug_Name    Parameter  1:30:00  2:30:00  \\\n",
       "0  15-10-2020  diltiazem hydrochloride  Temperature     23.0     22.0   \n",
       "1  15-10-2020  diltiazem hydrochloride     Pressure     12.0     13.0   \n",
       "2  15-10-2020      docetaxel injection  Temperature      NaN     17.0   \n",
       "3  15-10-2020      docetaxel injection     Pressure      NaN     22.0   \n",
       "4  15-10-2020   ketamine hydrochloride  Temperature     24.0      NaN   \n",
       "5  15-10-2020   ketamine hydrochloride     Pressure      8.0      NaN   \n",
       "6  16-10-2020  diltiazem hydrochloride  Temperature     34.0     35.0   \n",
       "7  16-10-2020  diltiazem hydrochloride     Pressure     18.0     19.0   \n",
       "8  16-10-2020      docetaxel injection  Temperature     46.0     47.0   \n",
       "9  16-10-2020      docetaxel injection     Pressure     23.0     24.0   \n",
       "\n",
       "   3:30:00  4:30:00  5:30:00  6:30:00  7:30:00  8:30:00  9:30:00  10:30:00  \\\n",
       "0      NaN     21.0     21.0       22     23.0     21.0     22.0        20   \n",
       "1      NaN     11.0     13.0       14     16.0     16.0     24.0        18   \n",
       "2     18.0      NaN     17.0       18      NaN      NaN     23.0        23   \n",
       "3     22.0      NaN     22.0       23      NaN      NaN     27.0        26   \n",
       "4      NaN     27.0      NaN       26     25.0     24.0     23.0        22   \n",
       "5      NaN      7.0      NaN        9     10.0     11.0     10.0         9   \n",
       "6     36.0     36.0     37.0       38     37.0     38.0     39.0        40   \n",
       "7     20.0     21.0     22.0       23     24.0     25.0     25.0        24   \n",
       "8      NaN     48.0     48.0       49     50.0     52.0     55.0        56   \n",
       "9      NaN     25.0     26.0       27     28.0     29.0     28.0        28   \n",
       "\n",
       "   11:30:00  12:30:00  \n",
       "0      20.0        21  \n",
       "1      19.0        20  \n",
       "2      25.0        25  \n",
       "3      29.0        28  \n",
       "4      21.0        20  \n",
       "5       9.0        11  \n",
       "6       NaN        42  \n",
       "7       NaN        27  \n",
       "8      57.0        58  \n",
       "9      29.0        30  "
      ]
     },
     "execution_count": 3,
     "metadata": {},
     "output_type": "execute_result"
    }
   ],
   "source": [
    "sample_df = data.head(10)\n",
    "sample_df"
   ]
  },
  {
   "cell_type": "code",
   "execution_count": 4,
   "metadata": {
    "colab": {
     "base_uri": "https://localhost:8080/",
     "height": 363
    },
    "id": "XQrTgnmnzNMx",
    "outputId": "58820aa8-7d68-4718-ae7a-4aba0fa79406"
   },
   "outputs": [
    {
     "data": {
      "text/html": [
       "<div>\n",
       "<style scoped>\n",
       "    .dataframe tbody tr th:only-of-type {\n",
       "        vertical-align: middle;\n",
       "    }\n",
       "\n",
       "    .dataframe tbody tr th {\n",
       "        vertical-align: top;\n",
       "    }\n",
       "\n",
       "    .dataframe thead th {\n",
       "        text-align: right;\n",
       "    }\n",
       "</style>\n",
       "<table border=\"1\" class=\"dataframe\">\n",
       "  <thead>\n",
       "    <tr style=\"text-align: right;\">\n",
       "      <th></th>\n",
       "      <th>Date</th>\n",
       "      <th>Drug_Name</th>\n",
       "      <th>Parameter</th>\n",
       "      <th>1:30:00</th>\n",
       "      <th>2:30:00</th>\n",
       "      <th>3:30:00</th>\n",
       "      <th>4:30:00</th>\n",
       "      <th>5:30:00</th>\n",
       "      <th>6:30:00</th>\n",
       "      <th>7:30:00</th>\n",
       "      <th>8:30:00</th>\n",
       "      <th>9:30:00</th>\n",
       "      <th>10:30:00</th>\n",
       "      <th>11:30:00</th>\n",
       "      <th>12:30:00</th>\n",
       "    </tr>\n",
       "  </thead>\n",
       "  <tbody>\n",
       "    <tr>\n",
       "      <th>0</th>\n",
       "      <td>15-10-2020</td>\n",
       "      <td>diltiazem hydrochloride</td>\n",
       "      <td>Temperature</td>\n",
       "      <td>23.0</td>\n",
       "      <td>22.0</td>\n",
       "      <td>NaN</td>\n",
       "      <td>21.0</td>\n",
       "      <td>21.0</td>\n",
       "      <td>22</td>\n",
       "      <td>23.0</td>\n",
       "      <td>21.0</td>\n",
       "      <td>22.0</td>\n",
       "      <td>20</td>\n",
       "      <td>20.0</td>\n",
       "      <td>21</td>\n",
       "    </tr>\n",
       "    <tr>\n",
       "      <th>1</th>\n",
       "      <td>15-10-2020</td>\n",
       "      <td>diltiazem hydrochloride</td>\n",
       "      <td>Pressure</td>\n",
       "      <td>12.0</td>\n",
       "      <td>13.0</td>\n",
       "      <td>NaN</td>\n",
       "      <td>11.0</td>\n",
       "      <td>13.0</td>\n",
       "      <td>14</td>\n",
       "      <td>16.0</td>\n",
       "      <td>16.0</td>\n",
       "      <td>24.0</td>\n",
       "      <td>18</td>\n",
       "      <td>19.0</td>\n",
       "      <td>20</td>\n",
       "    </tr>\n",
       "    <tr>\n",
       "      <th>2</th>\n",
       "      <td>15-10-2020</td>\n",
       "      <td>docetaxel injection</td>\n",
       "      <td>Temperature</td>\n",
       "      <td>12.0</td>\n",
       "      <td>17.0</td>\n",
       "      <td>18.0</td>\n",
       "      <td>11.0</td>\n",
       "      <td>17.0</td>\n",
       "      <td>18</td>\n",
       "      <td>16.0</td>\n",
       "      <td>16.0</td>\n",
       "      <td>23.0</td>\n",
       "      <td>23</td>\n",
       "      <td>25.0</td>\n",
       "      <td>25</td>\n",
       "    </tr>\n",
       "    <tr>\n",
       "      <th>3</th>\n",
       "      <td>15-10-2020</td>\n",
       "      <td>docetaxel injection</td>\n",
       "      <td>Pressure</td>\n",
       "      <td>12.0</td>\n",
       "      <td>22.0</td>\n",
       "      <td>22.0</td>\n",
       "      <td>11.0</td>\n",
       "      <td>22.0</td>\n",
       "      <td>23</td>\n",
       "      <td>16.0</td>\n",
       "      <td>16.0</td>\n",
       "      <td>27.0</td>\n",
       "      <td>26</td>\n",
       "      <td>29.0</td>\n",
       "      <td>28</td>\n",
       "    </tr>\n",
       "    <tr>\n",
       "      <th>4</th>\n",
       "      <td>15-10-2020</td>\n",
       "      <td>ketamine hydrochloride</td>\n",
       "      <td>Temperature</td>\n",
       "      <td>24.0</td>\n",
       "      <td>22.0</td>\n",
       "      <td>22.0</td>\n",
       "      <td>27.0</td>\n",
       "      <td>22.0</td>\n",
       "      <td>26</td>\n",
       "      <td>25.0</td>\n",
       "      <td>24.0</td>\n",
       "      <td>23.0</td>\n",
       "      <td>22</td>\n",
       "      <td>21.0</td>\n",
       "      <td>20</td>\n",
       "    </tr>\n",
       "    <tr>\n",
       "      <th>5</th>\n",
       "      <td>15-10-2020</td>\n",
       "      <td>ketamine hydrochloride</td>\n",
       "      <td>Pressure</td>\n",
       "      <td>8.0</td>\n",
       "      <td>22.0</td>\n",
       "      <td>22.0</td>\n",
       "      <td>7.0</td>\n",
       "      <td>22.0</td>\n",
       "      <td>9</td>\n",
       "      <td>10.0</td>\n",
       "      <td>11.0</td>\n",
       "      <td>10.0</td>\n",
       "      <td>9</td>\n",
       "      <td>9.0</td>\n",
       "      <td>11</td>\n",
       "    </tr>\n",
       "    <tr>\n",
       "      <th>6</th>\n",
       "      <td>16-10-2020</td>\n",
       "      <td>diltiazem hydrochloride</td>\n",
       "      <td>Temperature</td>\n",
       "      <td>34.0</td>\n",
       "      <td>35.0</td>\n",
       "      <td>36.0</td>\n",
       "      <td>36.0</td>\n",
       "      <td>37.0</td>\n",
       "      <td>38</td>\n",
       "      <td>37.0</td>\n",
       "      <td>38.0</td>\n",
       "      <td>39.0</td>\n",
       "      <td>40</td>\n",
       "      <td>9.0</td>\n",
       "      <td>42</td>\n",
       "    </tr>\n",
       "    <tr>\n",
       "      <th>7</th>\n",
       "      <td>16-10-2020</td>\n",
       "      <td>diltiazem hydrochloride</td>\n",
       "      <td>Pressure</td>\n",
       "      <td>18.0</td>\n",
       "      <td>19.0</td>\n",
       "      <td>20.0</td>\n",
       "      <td>21.0</td>\n",
       "      <td>22.0</td>\n",
       "      <td>23</td>\n",
       "      <td>24.0</td>\n",
       "      <td>25.0</td>\n",
       "      <td>25.0</td>\n",
       "      <td>24</td>\n",
       "      <td>9.0</td>\n",
       "      <td>27</td>\n",
       "    </tr>\n",
       "    <tr>\n",
       "      <th>8</th>\n",
       "      <td>16-10-2020</td>\n",
       "      <td>docetaxel injection</td>\n",
       "      <td>Temperature</td>\n",
       "      <td>46.0</td>\n",
       "      <td>47.0</td>\n",
       "      <td>20.0</td>\n",
       "      <td>48.0</td>\n",
       "      <td>48.0</td>\n",
       "      <td>49</td>\n",
       "      <td>50.0</td>\n",
       "      <td>52.0</td>\n",
       "      <td>55.0</td>\n",
       "      <td>56</td>\n",
       "      <td>57.0</td>\n",
       "      <td>58</td>\n",
       "    </tr>\n",
       "    <tr>\n",
       "      <th>9</th>\n",
       "      <td>16-10-2020</td>\n",
       "      <td>docetaxel injection</td>\n",
       "      <td>Pressure</td>\n",
       "      <td>23.0</td>\n",
       "      <td>24.0</td>\n",
       "      <td>20.0</td>\n",
       "      <td>25.0</td>\n",
       "      <td>26.0</td>\n",
       "      <td>27</td>\n",
       "      <td>28.0</td>\n",
       "      <td>29.0</td>\n",
       "      <td>28.0</td>\n",
       "      <td>28</td>\n",
       "      <td>29.0</td>\n",
       "      <td>30</td>\n",
       "    </tr>\n",
       "  </tbody>\n",
       "</table>\n",
       "</div>"
      ],
      "text/plain": [
       "         Date                Drug_Name    Parameter  1:30:00  2:30:00  \\\n",
       "0  15-10-2020  diltiazem hydrochloride  Temperature     23.0     22.0   \n",
       "1  15-10-2020  diltiazem hydrochloride     Pressure     12.0     13.0   \n",
       "2  15-10-2020      docetaxel injection  Temperature     12.0     17.0   \n",
       "3  15-10-2020      docetaxel injection     Pressure     12.0     22.0   \n",
       "4  15-10-2020   ketamine hydrochloride  Temperature     24.0     22.0   \n",
       "5  15-10-2020   ketamine hydrochloride     Pressure      8.0     22.0   \n",
       "6  16-10-2020  diltiazem hydrochloride  Temperature     34.0     35.0   \n",
       "7  16-10-2020  diltiazem hydrochloride     Pressure     18.0     19.0   \n",
       "8  16-10-2020      docetaxel injection  Temperature     46.0     47.0   \n",
       "9  16-10-2020      docetaxel injection     Pressure     23.0     24.0   \n",
       "\n",
       "   3:30:00  4:30:00  5:30:00  6:30:00  7:30:00  8:30:00  9:30:00  10:30:00  \\\n",
       "0      NaN     21.0     21.0       22     23.0     21.0     22.0        20   \n",
       "1      NaN     11.0     13.0       14     16.0     16.0     24.0        18   \n",
       "2     18.0     11.0     17.0       18     16.0     16.0     23.0        23   \n",
       "3     22.0     11.0     22.0       23     16.0     16.0     27.0        26   \n",
       "4     22.0     27.0     22.0       26     25.0     24.0     23.0        22   \n",
       "5     22.0      7.0     22.0        9     10.0     11.0     10.0         9   \n",
       "6     36.0     36.0     37.0       38     37.0     38.0     39.0        40   \n",
       "7     20.0     21.0     22.0       23     24.0     25.0     25.0        24   \n",
       "8     20.0     48.0     48.0       49     50.0     52.0     55.0        56   \n",
       "9     20.0     25.0     26.0       27     28.0     29.0     28.0        28   \n",
       "\n",
       "   11:30:00  12:30:00  \n",
       "0      20.0        21  \n",
       "1      19.0        20  \n",
       "2      25.0        25  \n",
       "3      29.0        28  \n",
       "4      21.0        20  \n",
       "5       9.0        11  \n",
       "6       9.0        42  \n",
       "7       9.0        27  \n",
       "8      57.0        58  \n",
       "9      29.0        30  "
      ]
     },
     "execution_count": 4,
     "metadata": {},
     "output_type": "execute_result"
    }
   ],
   "source": [
    "sample_df.fillna(method='ffill')"
   ]
  },
  {
   "cell_type": "markdown",
   "metadata": {
    "id": "B2FZnzZS_VeZ"
   },
   "source": [
    "#### What do we notice here?\n",
    "\n",
    "Forward fill basically replaces the null value with the value just before it.\n",
    "\n",
    "Thus, at row 2, the NaN value of `1:30:00` column gets replaced by 12 value of row 1"
   ]
  },
  {
   "cell_type": "code",
   "execution_count": 5,
   "metadata": {
    "colab": {
     "base_uri": "https://localhost:8080/",
     "height": 363
    },
    "id": "OjBHNWkU_iSX",
    "outputId": "c7b5fd9f-d550-4d2a-ba62-97d4d4da37ff"
   },
   "outputs": [
    {
     "data": {
      "text/html": [
       "<div>\n",
       "<style scoped>\n",
       "    .dataframe tbody tr th:only-of-type {\n",
       "        vertical-align: middle;\n",
       "    }\n",
       "\n",
       "    .dataframe tbody tr th {\n",
       "        vertical-align: top;\n",
       "    }\n",
       "\n",
       "    .dataframe thead th {\n",
       "        text-align: right;\n",
       "    }\n",
       "</style>\n",
       "<table border=\"1\" class=\"dataframe\">\n",
       "  <thead>\n",
       "    <tr style=\"text-align: right;\">\n",
       "      <th></th>\n",
       "      <th>Date</th>\n",
       "      <th>Drug_Name</th>\n",
       "      <th>Parameter</th>\n",
       "      <th>1:30:00</th>\n",
       "      <th>2:30:00</th>\n",
       "      <th>3:30:00</th>\n",
       "      <th>4:30:00</th>\n",
       "      <th>5:30:00</th>\n",
       "      <th>6:30:00</th>\n",
       "      <th>7:30:00</th>\n",
       "      <th>8:30:00</th>\n",
       "      <th>9:30:00</th>\n",
       "      <th>10:30:00</th>\n",
       "      <th>11:30:00</th>\n",
       "      <th>12:30:00</th>\n",
       "    </tr>\n",
       "  </thead>\n",
       "  <tbody>\n",
       "    <tr>\n",
       "      <th>0</th>\n",
       "      <td>15-10-2020</td>\n",
       "      <td>diltiazem hydrochloride</td>\n",
       "      <td>Temperature</td>\n",
       "      <td>23.0</td>\n",
       "      <td>22.0</td>\n",
       "      <td>18.0</td>\n",
       "      <td>21.0</td>\n",
       "      <td>21.0</td>\n",
       "      <td>22</td>\n",
       "      <td>23.0</td>\n",
       "      <td>21.0</td>\n",
       "      <td>22.0</td>\n",
       "      <td>20</td>\n",
       "      <td>20.0</td>\n",
       "      <td>21</td>\n",
       "    </tr>\n",
       "    <tr>\n",
       "      <th>1</th>\n",
       "      <td>15-10-2020</td>\n",
       "      <td>diltiazem hydrochloride</td>\n",
       "      <td>Pressure</td>\n",
       "      <td>12.0</td>\n",
       "      <td>13.0</td>\n",
       "      <td>18.0</td>\n",
       "      <td>11.0</td>\n",
       "      <td>13.0</td>\n",
       "      <td>14</td>\n",
       "      <td>16.0</td>\n",
       "      <td>16.0</td>\n",
       "      <td>24.0</td>\n",
       "      <td>18</td>\n",
       "      <td>19.0</td>\n",
       "      <td>20</td>\n",
       "    </tr>\n",
       "    <tr>\n",
       "      <th>2</th>\n",
       "      <td>15-10-2020</td>\n",
       "      <td>docetaxel injection</td>\n",
       "      <td>Temperature</td>\n",
       "      <td>24.0</td>\n",
       "      <td>17.0</td>\n",
       "      <td>18.0</td>\n",
       "      <td>27.0</td>\n",
       "      <td>17.0</td>\n",
       "      <td>18</td>\n",
       "      <td>25.0</td>\n",
       "      <td>24.0</td>\n",
       "      <td>23.0</td>\n",
       "      <td>23</td>\n",
       "      <td>25.0</td>\n",
       "      <td>25</td>\n",
       "    </tr>\n",
       "    <tr>\n",
       "      <th>3</th>\n",
       "      <td>15-10-2020</td>\n",
       "      <td>docetaxel injection</td>\n",
       "      <td>Pressure</td>\n",
       "      <td>24.0</td>\n",
       "      <td>22.0</td>\n",
       "      <td>22.0</td>\n",
       "      <td>27.0</td>\n",
       "      <td>22.0</td>\n",
       "      <td>23</td>\n",
       "      <td>25.0</td>\n",
       "      <td>24.0</td>\n",
       "      <td>27.0</td>\n",
       "      <td>26</td>\n",
       "      <td>29.0</td>\n",
       "      <td>28</td>\n",
       "    </tr>\n",
       "    <tr>\n",
       "      <th>4</th>\n",
       "      <td>15-10-2020</td>\n",
       "      <td>ketamine hydrochloride</td>\n",
       "      <td>Temperature</td>\n",
       "      <td>24.0</td>\n",
       "      <td>35.0</td>\n",
       "      <td>36.0</td>\n",
       "      <td>27.0</td>\n",
       "      <td>37.0</td>\n",
       "      <td>26</td>\n",
       "      <td>25.0</td>\n",
       "      <td>24.0</td>\n",
       "      <td>23.0</td>\n",
       "      <td>22</td>\n",
       "      <td>21.0</td>\n",
       "      <td>20</td>\n",
       "    </tr>\n",
       "    <tr>\n",
       "      <th>5</th>\n",
       "      <td>15-10-2020</td>\n",
       "      <td>ketamine hydrochloride</td>\n",
       "      <td>Pressure</td>\n",
       "      <td>8.0</td>\n",
       "      <td>35.0</td>\n",
       "      <td>36.0</td>\n",
       "      <td>7.0</td>\n",
       "      <td>37.0</td>\n",
       "      <td>9</td>\n",
       "      <td>10.0</td>\n",
       "      <td>11.0</td>\n",
       "      <td>10.0</td>\n",
       "      <td>9</td>\n",
       "      <td>9.0</td>\n",
       "      <td>11</td>\n",
       "    </tr>\n",
       "    <tr>\n",
       "      <th>6</th>\n",
       "      <td>16-10-2020</td>\n",
       "      <td>diltiazem hydrochloride</td>\n",
       "      <td>Temperature</td>\n",
       "      <td>34.0</td>\n",
       "      <td>35.0</td>\n",
       "      <td>36.0</td>\n",
       "      <td>36.0</td>\n",
       "      <td>37.0</td>\n",
       "      <td>38</td>\n",
       "      <td>37.0</td>\n",
       "      <td>38.0</td>\n",
       "      <td>39.0</td>\n",
       "      <td>40</td>\n",
       "      <td>57.0</td>\n",
       "      <td>42</td>\n",
       "    </tr>\n",
       "    <tr>\n",
       "      <th>7</th>\n",
       "      <td>16-10-2020</td>\n",
       "      <td>diltiazem hydrochloride</td>\n",
       "      <td>Pressure</td>\n",
       "      <td>18.0</td>\n",
       "      <td>19.0</td>\n",
       "      <td>20.0</td>\n",
       "      <td>21.0</td>\n",
       "      <td>22.0</td>\n",
       "      <td>23</td>\n",
       "      <td>24.0</td>\n",
       "      <td>25.0</td>\n",
       "      <td>25.0</td>\n",
       "      <td>24</td>\n",
       "      <td>57.0</td>\n",
       "      <td>27</td>\n",
       "    </tr>\n",
       "    <tr>\n",
       "      <th>8</th>\n",
       "      <td>16-10-2020</td>\n",
       "      <td>docetaxel injection</td>\n",
       "      <td>Temperature</td>\n",
       "      <td>46.0</td>\n",
       "      <td>47.0</td>\n",
       "      <td>NaN</td>\n",
       "      <td>48.0</td>\n",
       "      <td>48.0</td>\n",
       "      <td>49</td>\n",
       "      <td>50.0</td>\n",
       "      <td>52.0</td>\n",
       "      <td>55.0</td>\n",
       "      <td>56</td>\n",
       "      <td>57.0</td>\n",
       "      <td>58</td>\n",
       "    </tr>\n",
       "    <tr>\n",
       "      <th>9</th>\n",
       "      <td>16-10-2020</td>\n",
       "      <td>docetaxel injection</td>\n",
       "      <td>Pressure</td>\n",
       "      <td>23.0</td>\n",
       "      <td>24.0</td>\n",
       "      <td>NaN</td>\n",
       "      <td>25.0</td>\n",
       "      <td>26.0</td>\n",
       "      <td>27</td>\n",
       "      <td>28.0</td>\n",
       "      <td>29.0</td>\n",
       "      <td>28.0</td>\n",
       "      <td>28</td>\n",
       "      <td>29.0</td>\n",
       "      <td>30</td>\n",
       "    </tr>\n",
       "  </tbody>\n",
       "</table>\n",
       "</div>"
      ],
      "text/plain": [
       "         Date                Drug_Name    Parameter  1:30:00  2:30:00  \\\n",
       "0  15-10-2020  diltiazem hydrochloride  Temperature     23.0     22.0   \n",
       "1  15-10-2020  diltiazem hydrochloride     Pressure     12.0     13.0   \n",
       "2  15-10-2020      docetaxel injection  Temperature     24.0     17.0   \n",
       "3  15-10-2020      docetaxel injection     Pressure     24.0     22.0   \n",
       "4  15-10-2020   ketamine hydrochloride  Temperature     24.0     35.0   \n",
       "5  15-10-2020   ketamine hydrochloride     Pressure      8.0     35.0   \n",
       "6  16-10-2020  diltiazem hydrochloride  Temperature     34.0     35.0   \n",
       "7  16-10-2020  diltiazem hydrochloride     Pressure     18.0     19.0   \n",
       "8  16-10-2020      docetaxel injection  Temperature     46.0     47.0   \n",
       "9  16-10-2020      docetaxel injection     Pressure     23.0     24.0   \n",
       "\n",
       "   3:30:00  4:30:00  5:30:00  6:30:00  7:30:00  8:30:00  9:30:00  10:30:00  \\\n",
       "0     18.0     21.0     21.0       22     23.0     21.0     22.0        20   \n",
       "1     18.0     11.0     13.0       14     16.0     16.0     24.0        18   \n",
       "2     18.0     27.0     17.0       18     25.0     24.0     23.0        23   \n",
       "3     22.0     27.0     22.0       23     25.0     24.0     27.0        26   \n",
       "4     36.0     27.0     37.0       26     25.0     24.0     23.0        22   \n",
       "5     36.0      7.0     37.0        9     10.0     11.0     10.0         9   \n",
       "6     36.0     36.0     37.0       38     37.0     38.0     39.0        40   \n",
       "7     20.0     21.0     22.0       23     24.0     25.0     25.0        24   \n",
       "8      NaN     48.0     48.0       49     50.0     52.0     55.0        56   \n",
       "9      NaN     25.0     26.0       27     28.0     29.0     28.0        28   \n",
       "\n",
       "   11:30:00  12:30:00  \n",
       "0      20.0        21  \n",
       "1      19.0        20  \n",
       "2      25.0        25  \n",
       "3      29.0        28  \n",
       "4      21.0        20  \n",
       "5       9.0        11  \n",
       "6      57.0        42  \n",
       "7      57.0        27  \n",
       "8      57.0        58  \n",
       "9      29.0        30  "
      ]
     },
     "execution_count": 5,
     "metadata": {},
     "output_type": "execute_result"
    }
   ],
   "source": [
    "sample_df.fillna(method='bfill')"
   ]
  },
  {
   "cell_type": "markdown",
   "metadata": {
    "id": "ayJuqLwJ_nVR"
   },
   "source": [
    "#### Now what did bfill do exactly?\n",
    "\n",
    "Opposite to forward fill, it replaced the NaN values with the values after them.\n",
    "\n",
    "This replacement works upwards, while forward fill works downward."
   ]
  },
  {
   "cell_type": "markdown",
   "metadata": {
    "id": "eRQGJC00_7Ur"
   },
   "source": [
    "#### Now let's look at another interesting concept, the change of dtype by fillna"
   ]
  },
  {
   "cell_type": "code",
   "execution_count": 6,
   "metadata": {
    "colab": {
     "base_uri": "https://localhost:8080/"
    },
    "id": "rm7xNIZx_6t-",
    "outputId": "12a2bb17-409f-4304-a60c-6c23ea9867b6"
   },
   "outputs": [
    {
     "name": "stdout",
     "output_type": "stream",
     "text": [
      "<class 'pandas.core.frame.DataFrame'>\n",
      "RangeIndex: 10 entries, 0 to 9\n",
      "Data columns (total 15 columns):\n",
      " #   Column     Non-Null Count  Dtype  \n",
      "---  ------     --------------  -----  \n",
      " 0   Date       10 non-null     object \n",
      " 1   Drug_Name  10 non-null     object \n",
      " 2   Parameter  10 non-null     object \n",
      " 3   1:30:00    8 non-null      float64\n",
      " 4   2:30:00    8 non-null      float64\n",
      " 5   3:30:00    4 non-null      float64\n",
      " 6   4:30:00    8 non-null      float64\n",
      " 7   5:30:00    8 non-null      float64\n",
      " 8   6:30:00    10 non-null     int64  \n",
      " 9   7:30:00    8 non-null      float64\n",
      " 10  8:30:00    8 non-null      float64\n",
      " 11  9:30:00    10 non-null     float64\n",
      " 12  10:30:00   10 non-null     int64  \n",
      " 13  11:30:00   8 non-null      float64\n",
      " 14  12:30:00   10 non-null     int64  \n",
      "dtypes: float64(9), int64(3), object(3)\n",
      "memory usage: 1.3+ KB\n"
     ]
    }
   ],
   "source": [
    "sample_df.info()"
   ]
  },
  {
   "cell_type": "markdown",
   "metadata": {
    "id": "Zl-6pLG8ANiQ"
   },
   "source": [
    "As we can see, the dtype of `1:30:00` column is float64\n",
    "\n",
    "Now what happens if we use fillna on this?"
   ]
  },
  {
   "cell_type": "code",
   "execution_count": 7,
   "metadata": {
    "colab": {
     "base_uri": "https://localhost:8080/"
    },
    "id": "nh4apUohAT8s",
    "outputId": "d3fa7039-eff0-4471-db79-d100733fded8"
   },
   "outputs": [
    {
     "name": "stdout",
     "output_type": "stream",
     "text": [
      "<class 'pandas.core.frame.DataFrame'>\n",
      "RangeIndex: 10 entries, 0 to 9\n",
      "Data columns (total 15 columns):\n",
      " #   Column     Non-Null Count  Dtype  \n",
      "---  ------     --------------  -----  \n",
      " 0   Date       10 non-null     object \n",
      " 1   Drug_Name  10 non-null     object \n",
      " 2   Parameter  10 non-null     object \n",
      " 3   1:30:00    10 non-null     float64\n",
      " 4   2:30:00    10 non-null     float64\n",
      " 5   3:30:00    10 non-null     float64\n",
      " 6   4:30:00    10 non-null     float64\n",
      " 7   5:30:00    10 non-null     float64\n",
      " 8   6:30:00    10 non-null     int64  \n",
      " 9   7:30:00    10 non-null     float64\n",
      " 10  8:30:00    10 non-null     float64\n",
      " 11  9:30:00    10 non-null     float64\n",
      " 12  10:30:00   10 non-null     int64  \n",
      " 13  11:30:00   10 non-null     float64\n",
      " 14  12:30:00   10 non-null     int64  \n",
      "dtypes: float64(9), int64(3), object(3)\n",
      "memory usage: 1.3+ KB\n"
     ]
    }
   ],
   "source": [
    "sample_df.fillna(0).info()"
   ]
  },
  {
   "cell_type": "markdown",
   "metadata": {
    "id": "KsBlj_nfAaLZ"
   },
   "source": [
    "It's the same, but now, what if we use a string in fillna?"
   ]
  },
  {
   "cell_type": "code",
   "execution_count": 8,
   "metadata": {
    "colab": {
     "base_uri": "https://localhost:8080/"
    },
    "id": "TlM9CBjyAeNI",
    "outputId": "efa8beb0-5929-42d5-af80-d960c3c26fe2"
   },
   "outputs": [
    {
     "name": "stdout",
     "output_type": "stream",
     "text": [
      "<class 'pandas.core.frame.DataFrame'>\n",
      "RangeIndex: 10 entries, 0 to 9\n",
      "Data columns (total 15 columns):\n",
      " #   Column     Non-Null Count  Dtype  \n",
      "---  ------     --------------  -----  \n",
      " 0   Date       10 non-null     object \n",
      " 1   Drug_Name  10 non-null     object \n",
      " 2   Parameter  10 non-null     object \n",
      " 3   1:30:00    10 non-null     object \n",
      " 4   2:30:00    10 non-null     object \n",
      " 5   3:30:00    10 non-null     object \n",
      " 6   4:30:00    10 non-null     object \n",
      " 7   5:30:00    10 non-null     object \n",
      " 8   6:30:00    10 non-null     int64  \n",
      " 9   7:30:00    10 non-null     object \n",
      " 10  8:30:00    10 non-null     object \n",
      " 11  9:30:00    10 non-null     float64\n",
      " 12  10:30:00   10 non-null     int64  \n",
      " 13  11:30:00   10 non-null     object \n",
      " 14  12:30:00   10 non-null     int64  \n",
      "dtypes: float64(1), int64(3), object(11)\n",
      "memory usage: 1.3+ KB\n"
     ]
    }
   ],
   "source": [
    "sample_df.fillna(\"Couldn't Take Reading\").info()"
   ]
  },
  {
   "cell_type": "markdown",
   "metadata": {
    "id": "wQVHCx4UAq1a"
   },
   "source": [
    "#### When we replace the value with string, it changes the dtype of object.\n",
    "\n",
    "Remember from our earlier discussions, a string based column is considered an object dtype\n",
    "\n",
    "This is what exactly happened here."
   ]
  },
  {
   "cell_type": "code",
   "execution_count": 9,
   "metadata": {
    "colab": {
     "base_uri": "https://localhost:8080/",
     "height": 423
    },
    "id": "mhMt306uPSzR",
    "outputId": "55e37ef5-71f7-4b93-a6a3-6021c864ddf6"
   },
   "outputs": [
    {
     "data": {
      "text/html": [
       "<div>\n",
       "<style scoped>\n",
       "    .dataframe tbody tr th:only-of-type {\n",
       "        vertical-align: middle;\n",
       "    }\n",
       "\n",
       "    .dataframe tbody tr th {\n",
       "        vertical-align: top;\n",
       "    }\n",
       "\n",
       "    .dataframe thead th {\n",
       "        text-align: right;\n",
       "    }\n",
       "</style>\n",
       "<table border=\"1\" class=\"dataframe\">\n",
       "  <thead>\n",
       "    <tr style=\"text-align: right;\">\n",
       "      <th></th>\n",
       "      <th>Date</th>\n",
       "      <th>Drug_Name</th>\n",
       "      <th>Parameter</th>\n",
       "      <th>time</th>\n",
       "      <th>reading</th>\n",
       "    </tr>\n",
       "  </thead>\n",
       "  <tbody>\n",
       "    <tr>\n",
       "      <th>0</th>\n",
       "      <td>15-10-2020</td>\n",
       "      <td>diltiazem hydrochloride</td>\n",
       "      <td>Temperature</td>\n",
       "      <td>1:30:00</td>\n",
       "      <td>23.0</td>\n",
       "    </tr>\n",
       "    <tr>\n",
       "      <th>1</th>\n",
       "      <td>15-10-2020</td>\n",
       "      <td>diltiazem hydrochloride</td>\n",
       "      <td>Pressure</td>\n",
       "      <td>1:30:00</td>\n",
       "      <td>12.0</td>\n",
       "    </tr>\n",
       "    <tr>\n",
       "      <th>2</th>\n",
       "      <td>15-10-2020</td>\n",
       "      <td>docetaxel injection</td>\n",
       "      <td>Temperature</td>\n",
       "      <td>1:30:00</td>\n",
       "      <td>NaN</td>\n",
       "    </tr>\n",
       "    <tr>\n",
       "      <th>3</th>\n",
       "      <td>15-10-2020</td>\n",
       "      <td>docetaxel injection</td>\n",
       "      <td>Pressure</td>\n",
       "      <td>1:30:00</td>\n",
       "      <td>NaN</td>\n",
       "    </tr>\n",
       "    <tr>\n",
       "      <th>4</th>\n",
       "      <td>15-10-2020</td>\n",
       "      <td>ketamine hydrochloride</td>\n",
       "      <td>Temperature</td>\n",
       "      <td>1:30:00</td>\n",
       "      <td>24.0</td>\n",
       "    </tr>\n",
       "    <tr>\n",
       "      <th>...</th>\n",
       "      <td>...</td>\n",
       "      <td>...</td>\n",
       "      <td>...</td>\n",
       "      <td>...</td>\n",
       "      <td>...</td>\n",
       "    </tr>\n",
       "    <tr>\n",
       "      <th>211</th>\n",
       "      <td>17-10-2020</td>\n",
       "      <td>diltiazem hydrochloride</td>\n",
       "      <td>Pressure</td>\n",
       "      <td>12:30:00</td>\n",
       "      <td>14.0</td>\n",
       "    </tr>\n",
       "    <tr>\n",
       "      <th>212</th>\n",
       "      <td>17-10-2020</td>\n",
       "      <td>docetaxel injection</td>\n",
       "      <td>Temperature</td>\n",
       "      <td>12:30:00</td>\n",
       "      <td>23.0</td>\n",
       "    </tr>\n",
       "    <tr>\n",
       "      <th>213</th>\n",
       "      <td>17-10-2020</td>\n",
       "      <td>docetaxel injection</td>\n",
       "      <td>Pressure</td>\n",
       "      <td>12:30:00</td>\n",
       "      <td>28.0</td>\n",
       "    </tr>\n",
       "    <tr>\n",
       "      <th>214</th>\n",
       "      <td>17-10-2020</td>\n",
       "      <td>ketamine hydrochloride</td>\n",
       "      <td>Temperature</td>\n",
       "      <td>12:30:00</td>\n",
       "      <td>24.0</td>\n",
       "    </tr>\n",
       "    <tr>\n",
       "      <th>215</th>\n",
       "      <td>17-10-2020</td>\n",
       "      <td>ketamine hydrochloride</td>\n",
       "      <td>Pressure</td>\n",
       "      <td>12:30:00</td>\n",
       "      <td>15.0</td>\n",
       "    </tr>\n",
       "  </tbody>\n",
       "</table>\n",
       "<p>216 rows × 5 columns</p>\n",
       "</div>"
      ],
      "text/plain": [
       "           Date                Drug_Name    Parameter      time  reading\n",
       "0    15-10-2020  diltiazem hydrochloride  Temperature   1:30:00     23.0\n",
       "1    15-10-2020  diltiazem hydrochloride     Pressure   1:30:00     12.0\n",
       "2    15-10-2020      docetaxel injection  Temperature   1:30:00      NaN\n",
       "3    15-10-2020      docetaxel injection     Pressure   1:30:00      NaN\n",
       "4    15-10-2020   ketamine hydrochloride  Temperature   1:30:00     24.0\n",
       "..          ...                      ...          ...       ...      ...\n",
       "211  17-10-2020  diltiazem hydrochloride     Pressure  12:30:00     14.0\n",
       "212  17-10-2020      docetaxel injection  Temperature  12:30:00     23.0\n",
       "213  17-10-2020      docetaxel injection     Pressure  12:30:00     28.0\n",
       "214  17-10-2020   ketamine hydrochloride  Temperature  12:30:00     24.0\n",
       "215  17-10-2020   ketamine hydrochloride     Pressure  12:30:00     15.0\n",
       "\n",
       "[216 rows x 5 columns]"
      ]
     },
     "execution_count": 9,
     "metadata": {},
     "output_type": "execute_result"
    }
   ],
   "source": [
    "data_melt = pd.melt(data,id_vars = ['Date', 'Drug_Name', 'Parameter'],\n",
    "            var_name = \"time\",\n",
    "            value_name = 'reading')\n",
    "\n",
    "data_melt"
   ]
  },
  {
   "cell_type": "code",
   "execution_count": 10,
   "metadata": {
    "colab": {
     "base_uri": "https://localhost:8080/",
     "height": 455
    },
    "id": "DJxr2qquPNz1",
    "outputId": "969d7f7b-3b05-4b30-82e8-f7425cb621ce"
   },
   "outputs": [
    {
     "data": {
      "text/html": [
       "<div>\n",
       "<style scoped>\n",
       "    .dataframe tbody tr th:only-of-type {\n",
       "        vertical-align: middle;\n",
       "    }\n",
       "\n",
       "    .dataframe tbody tr th {\n",
       "        vertical-align: top;\n",
       "    }\n",
       "\n",
       "    .dataframe thead th {\n",
       "        text-align: right;\n",
       "    }\n",
       "</style>\n",
       "<table border=\"1\" class=\"dataframe\">\n",
       "  <thead>\n",
       "    <tr style=\"text-align: right;\">\n",
       "      <th></th>\n",
       "      <th></th>\n",
       "      <th>Parameter</th>\n",
       "      <th>Pressure</th>\n",
       "      <th>Temperature</th>\n",
       "    </tr>\n",
       "    <tr>\n",
       "      <th>Date</th>\n",
       "      <th>time</th>\n",
       "      <th>Drug_Name</th>\n",
       "      <th></th>\n",
       "      <th></th>\n",
       "    </tr>\n",
       "  </thead>\n",
       "  <tbody>\n",
       "    <tr>\n",
       "      <th rowspan=\"5\" valign=\"top\">15-10-2020</th>\n",
       "      <th rowspan=\"3\" valign=\"top\">10:30:00</th>\n",
       "      <th>diltiazem hydrochloride</th>\n",
       "      <td>18.0</td>\n",
       "      <td>20.0</td>\n",
       "    </tr>\n",
       "    <tr>\n",
       "      <th>docetaxel injection</th>\n",
       "      <td>26.0</td>\n",
       "      <td>23.0</td>\n",
       "    </tr>\n",
       "    <tr>\n",
       "      <th>ketamine hydrochloride</th>\n",
       "      <td>9.0</td>\n",
       "      <td>22.0</td>\n",
       "    </tr>\n",
       "    <tr>\n",
       "      <th rowspan=\"2\" valign=\"top\">11:30:00</th>\n",
       "      <th>diltiazem hydrochloride</th>\n",
       "      <td>19.0</td>\n",
       "      <td>20.0</td>\n",
       "    </tr>\n",
       "    <tr>\n",
       "      <th>docetaxel injection</th>\n",
       "      <td>29.0</td>\n",
       "      <td>25.0</td>\n",
       "    </tr>\n",
       "    <tr>\n",
       "      <th>...</th>\n",
       "      <th>...</th>\n",
       "      <th>...</th>\n",
       "      <td>...</td>\n",
       "      <td>...</td>\n",
       "    </tr>\n",
       "    <tr>\n",
       "      <th rowspan=\"5\" valign=\"top\">17-10-2020</th>\n",
       "      <th rowspan=\"2\" valign=\"top\">8:30:00</th>\n",
       "      <th>docetaxel injection</th>\n",
       "      <td>26.0</td>\n",
       "      <td>19.0</td>\n",
       "    </tr>\n",
       "    <tr>\n",
       "      <th>ketamine hydrochloride</th>\n",
       "      <td>11.0</td>\n",
       "      <td>20.0</td>\n",
       "    </tr>\n",
       "    <tr>\n",
       "      <th rowspan=\"3\" valign=\"top\">9:30:00</th>\n",
       "      <th>diltiazem hydrochloride</th>\n",
       "      <td>9.0</td>\n",
       "      <td>13.0</td>\n",
       "    </tr>\n",
       "    <tr>\n",
       "      <th>docetaxel injection</th>\n",
       "      <td>27.0</td>\n",
       "      <td>20.0</td>\n",
       "    </tr>\n",
       "    <tr>\n",
       "      <th>ketamine hydrochloride</th>\n",
       "      <td>12.0</td>\n",
       "      <td>21.0</td>\n",
       "    </tr>\n",
       "  </tbody>\n",
       "</table>\n",
       "<p>108 rows × 2 columns</p>\n",
       "</div>"
      ],
      "text/plain": [
       "Parameter                                    Pressure  Temperature\n",
       "Date       time     Drug_Name                                     \n",
       "15-10-2020 10:30:00 diltiazem hydrochloride      18.0         20.0\n",
       "                    docetaxel injection          26.0         23.0\n",
       "                    ketamine hydrochloride        9.0         22.0\n",
       "           11:30:00 diltiazem hydrochloride      19.0         20.0\n",
       "                    docetaxel injection          29.0         25.0\n",
       "...                                               ...          ...\n",
       "17-10-2020 8:30:00  docetaxel injection          26.0         19.0\n",
       "                    ketamine hydrochloride       11.0         20.0\n",
       "           9:30:00  diltiazem hydrochloride       9.0         13.0\n",
       "                    docetaxel injection          27.0         20.0\n",
       "                    ketamine hydrochloride       12.0         21.0\n",
       "\n",
       "[108 rows x 2 columns]"
      ]
     },
     "execution_count": 10,
     "metadata": {},
     "output_type": "execute_result"
    }
   ],
   "source": [
    "data_tidy = data_melt.pivot(index=['Date','time', 'Drug_Name'],\n",
    "                                        columns = 'Parameter',\n",
    "                                        values='reading')\n",
    "\n",
    "data_tidy"
   ]
  },
  {
   "cell_type": "markdown",
   "metadata": {
    "id": "qS8NbFTWFIEc"
   },
   "source": [
    "\n",
    "\n",
    "Sometimes, we would want our data to be in **categorical format instead of continous data**.\n",
    "\n",
    "#### What do we mean by converting continous into categorical data?\n",
    "\n",
    "Lets say, instead of knowing specific test values of a month, I want to know its type\n",
    "\n",
    "#### What could be the types?\n",
    "\n",
    "Depends on level of granularity we want to have - Low, Medium, High, V High\n",
    "\n",
    "We could have defined more (or less) categories\n",
    "\n",
    "#### But how can bucketisation of continous data help?\n",
    "\n",
    "- Since, we can get the count of different categories\n",
    "- We can get a idea of the bin which category (range of values) most of the temperature values lie.\n",
    "\n",
    "#### What function can we use to convert cont. to cat. data?\n",
    "\n",
    " - Will use pd.cut()\n",
    " - We need to provide:\n",
    "  - the continous data\n",
    "  - bins edges (array of numbers) to \"cut\" the entire range\n",
    "  - labels corresponding to every bin\n",
    "\n",
    "\n",
    "Let's try to us this on our max (temp) column to categorise the data into bins\n",
    "\n",
    "But, to define categories, lets first check min and max temp values"
   ]
  },
  {
   "cell_type": "code",
   "execution_count": 11,
   "metadata": {
    "colab": {
     "base_uri": "https://localhost:8080/",
     "height": 455
    },
    "id": "EV3DmmrHSbAd",
    "outputId": "a232000b-10e7-4393-b243-1e5da438c2a1"
   },
   "outputs": [
    {
     "data": {
      "text/html": [
       "<div>\n",
       "<style scoped>\n",
       "    .dataframe tbody tr th:only-of-type {\n",
       "        vertical-align: middle;\n",
       "    }\n",
       "\n",
       "    .dataframe tbody tr th {\n",
       "        vertical-align: top;\n",
       "    }\n",
       "\n",
       "    .dataframe thead th {\n",
       "        text-align: right;\n",
       "    }\n",
       "</style>\n",
       "<table border=\"1\" class=\"dataframe\">\n",
       "  <thead>\n",
       "    <tr style=\"text-align: right;\">\n",
       "      <th></th>\n",
       "      <th></th>\n",
       "      <th>Parameter</th>\n",
       "      <th>Pressure</th>\n",
       "      <th>Temperature</th>\n",
       "    </tr>\n",
       "    <tr>\n",
       "      <th>Date</th>\n",
       "      <th>time</th>\n",
       "      <th>Drug_Name</th>\n",
       "      <th></th>\n",
       "      <th></th>\n",
       "    </tr>\n",
       "  </thead>\n",
       "  <tbody>\n",
       "    <tr>\n",
       "      <th rowspan=\"5\" valign=\"top\">15-10-2020</th>\n",
       "      <th rowspan=\"3\" valign=\"top\">10:30:00</th>\n",
       "      <th>diltiazem hydrochloride</th>\n",
       "      <td>18.0</td>\n",
       "      <td>20.0</td>\n",
       "    </tr>\n",
       "    <tr>\n",
       "      <th>docetaxel injection</th>\n",
       "      <td>26.0</td>\n",
       "      <td>23.0</td>\n",
       "    </tr>\n",
       "    <tr>\n",
       "      <th>ketamine hydrochloride</th>\n",
       "      <td>9.0</td>\n",
       "      <td>22.0</td>\n",
       "    </tr>\n",
       "    <tr>\n",
       "      <th rowspan=\"2\" valign=\"top\">11:30:00</th>\n",
       "      <th>diltiazem hydrochloride</th>\n",
       "      <td>19.0</td>\n",
       "      <td>20.0</td>\n",
       "    </tr>\n",
       "    <tr>\n",
       "      <th>docetaxel injection</th>\n",
       "      <td>29.0</td>\n",
       "      <td>25.0</td>\n",
       "    </tr>\n",
       "    <tr>\n",
       "      <th>...</th>\n",
       "      <th>...</th>\n",
       "      <th>...</th>\n",
       "      <td>...</td>\n",
       "      <td>...</td>\n",
       "    </tr>\n",
       "    <tr>\n",
       "      <th rowspan=\"5\" valign=\"top\">17-10-2020</th>\n",
       "      <th rowspan=\"2\" valign=\"top\">8:30:00</th>\n",
       "      <th>docetaxel injection</th>\n",
       "      <td>26.0</td>\n",
       "      <td>19.0</td>\n",
       "    </tr>\n",
       "    <tr>\n",
       "      <th>ketamine hydrochloride</th>\n",
       "      <td>11.0</td>\n",
       "      <td>20.0</td>\n",
       "    </tr>\n",
       "    <tr>\n",
       "      <th rowspan=\"3\" valign=\"top\">9:30:00</th>\n",
       "      <th>diltiazem hydrochloride</th>\n",
       "      <td>9.0</td>\n",
       "      <td>13.0</td>\n",
       "    </tr>\n",
       "    <tr>\n",
       "      <th>docetaxel injection</th>\n",
       "      <td>27.0</td>\n",
       "      <td>20.0</td>\n",
       "    </tr>\n",
       "    <tr>\n",
       "      <th>ketamine hydrochloride</th>\n",
       "      <td>12.0</td>\n",
       "      <td>21.0</td>\n",
       "    </tr>\n",
       "  </tbody>\n",
       "</table>\n",
       "<p>108 rows × 2 columns</p>\n",
       "</div>"
      ],
      "text/plain": [
       "Parameter                                    Pressure  Temperature\n",
       "Date       time     Drug_Name                                     \n",
       "15-10-2020 10:30:00 diltiazem hydrochloride      18.0         20.0\n",
       "                    docetaxel injection          26.0         23.0\n",
       "                    ketamine hydrochloride        9.0         22.0\n",
       "           11:30:00 diltiazem hydrochloride      19.0         20.0\n",
       "                    docetaxel injection          29.0         25.0\n",
       "...                                               ...          ...\n",
       "17-10-2020 8:30:00  docetaxel injection          26.0         19.0\n",
       "                    ketamine hydrochloride       11.0         20.0\n",
       "           9:30:00  diltiazem hydrochloride       9.0         13.0\n",
       "                    docetaxel injection          27.0         20.0\n",
       "                    ketamine hydrochloride       12.0         21.0\n",
       "\n",
       "[108 rows x 2 columns]"
      ]
     },
     "execution_count": 11,
     "metadata": {},
     "output_type": "execute_result"
    }
   ],
   "source": [
    "data_tidy"
   ]
  },
  {
   "cell_type": "code",
   "execution_count": 12,
   "metadata": {
    "colab": {
     "base_uri": "https://localhost:8080/"
    },
    "id": "uh58lSaQFrQk",
    "outputId": "09b2453c-f94e-45f8-a680-496e36daf0fa"
   },
   "outputs": [
    {
     "name": "stdout",
     "output_type": "stream",
     "text": [
      "8.0 58.0\n"
     ]
    }
   ],
   "source": [
    "print(data_tidy['Temperature'].min(), data_tidy['Temperature'].max())"
   ]
  },
  {
   "cell_type": "markdown",
   "metadata": {
    "id": "2vAUwk48F5X9"
   },
   "source": [
    "Min value = 8, Max value is 58.\n",
    "\n",
    "- Lets's keep some buffer for future values and take the range from 5-60(instead of 8-58)\n",
    "- Lets divide this data into 4 bins of 10-15 values each"
   ]
  },
  {
   "cell_type": "code",
   "execution_count": 13,
   "metadata": {
    "colab": {
     "base_uri": "https://localhost:8080/",
     "height": 237
    },
    "id": "RGUSc6_gWDcW",
    "outputId": "0a1bc5e7-7ad0-461b-9968-9217c1b5242d"
   },
   "outputs": [
    {
     "data": {
      "text/html": [
       "<div>\n",
       "<style scoped>\n",
       "    .dataframe tbody tr th:only-of-type {\n",
       "        vertical-align: middle;\n",
       "    }\n",
       "\n",
       "    .dataframe tbody tr th {\n",
       "        vertical-align: top;\n",
       "    }\n",
       "\n",
       "    .dataframe thead th {\n",
       "        text-align: right;\n",
       "    }\n",
       "</style>\n",
       "<table border=\"1\" class=\"dataframe\">\n",
       "  <thead>\n",
       "    <tr style=\"text-align: right;\">\n",
       "      <th></th>\n",
       "      <th></th>\n",
       "      <th>Parameter</th>\n",
       "      <th>Pressure</th>\n",
       "      <th>Temperature</th>\n",
       "      <th>temp_cat</th>\n",
       "    </tr>\n",
       "    <tr>\n",
       "      <th>Date</th>\n",
       "      <th>time</th>\n",
       "      <th>Drug_Name</th>\n",
       "      <th></th>\n",
       "      <th></th>\n",
       "      <th></th>\n",
       "    </tr>\n",
       "  </thead>\n",
       "  <tbody>\n",
       "    <tr>\n",
       "      <th rowspan=\"5\" valign=\"top\">15-10-2020</th>\n",
       "      <th rowspan=\"3\" valign=\"top\">10:30:00</th>\n",
       "      <th>diltiazem hydrochloride</th>\n",
       "      <td>18.0</td>\n",
       "      <td>20.0</td>\n",
       "      <td>low</td>\n",
       "    </tr>\n",
       "    <tr>\n",
       "      <th>docetaxel injection</th>\n",
       "      <td>26.0</td>\n",
       "      <td>23.0</td>\n",
       "      <td>medium</td>\n",
       "    </tr>\n",
       "    <tr>\n",
       "      <th>ketamine hydrochloride</th>\n",
       "      <td>9.0</td>\n",
       "      <td>22.0</td>\n",
       "      <td>medium</td>\n",
       "    </tr>\n",
       "    <tr>\n",
       "      <th rowspan=\"2\" valign=\"top\">11:30:00</th>\n",
       "      <th>diltiazem hydrochloride</th>\n",
       "      <td>19.0</td>\n",
       "      <td>20.0</td>\n",
       "      <td>low</td>\n",
       "    </tr>\n",
       "    <tr>\n",
       "      <th>docetaxel injection</th>\n",
       "      <td>29.0</td>\n",
       "      <td>25.0</td>\n",
       "      <td>medium</td>\n",
       "    </tr>\n",
       "  </tbody>\n",
       "</table>\n",
       "</div>"
      ],
      "text/plain": [
       "Parameter                                    Pressure  Temperature temp_cat\n",
       "Date       time     Drug_Name                                              \n",
       "15-10-2020 10:30:00 diltiazem hydrochloride      18.0         20.0      low\n",
       "                    docetaxel injection          26.0         23.0   medium\n",
       "                    ketamine hydrochloride        9.0         22.0   medium\n",
       "           11:30:00 diltiazem hydrochloride      19.0         20.0      low\n",
       "                    docetaxel injection          29.0         25.0   medium"
      ]
     },
     "execution_count": 13,
     "metadata": {},
     "output_type": "execute_result"
    }
   ],
   "source": [
    "temp_points = [5, 20, 35, 50, 60]\n",
    "temp_labels = ['low','medium','high','very_high'] # Here labels define the severity of the resultant output of the test\n",
    "data_tidy['temp_cat'] = pd.cut(data_tidy['Temperature'], bins=temp_points, labels=temp_labels)\n",
    "data_tidy.head()"
   ]
  },
  {
   "cell_type": "code",
   "execution_count": 14,
   "metadata": {
    "colab": {
     "base_uri": "https://localhost:8080/"
    },
    "id": "kSgrWKcmFjJU",
    "outputId": "98fb5515-7a5e-4ac9-efe5-9c5e26dad01a"
   },
   "outputs": [
    {
     "data": {
      "text/plain": [
       "low          45\n",
       "medium       30\n",
       "high         15\n",
       "very_high     5\n",
       "Name: temp_cat, dtype: int64"
      ]
     },
     "execution_count": 14,
     "metadata": {},
     "output_type": "execute_result"
    }
   ],
   "source": [
    "data_tidy['temp_cat'].value_counts()"
   ]
  },
  {
   "cell_type": "code",
   "execution_count": 15,
   "metadata": {
    "colab": {
     "base_uri": "https://localhost:8080/",
     "height": 423
    },
    "id": "osGTpMynPlNz",
    "outputId": "0e8968f1-682d-4f10-b190-aecb52e32005"
   },
   "outputs": [
    {
     "data": {
      "text/html": [
       "<div>\n",
       "<style scoped>\n",
       "    .dataframe tbody tr th:only-of-type {\n",
       "        vertical-align: middle;\n",
       "    }\n",
       "\n",
       "    .dataframe tbody tr th {\n",
       "        vertical-align: top;\n",
       "    }\n",
       "\n",
       "    .dataframe thead th {\n",
       "        text-align: right;\n",
       "    }\n",
       "</style>\n",
       "<table border=\"1\" class=\"dataframe\">\n",
       "  <thead>\n",
       "    <tr style=\"text-align: right;\">\n",
       "      <th>Parameter</th>\n",
       "      <th>Date</th>\n",
       "      <th>time</th>\n",
       "      <th>Drug_Name</th>\n",
       "      <th>Pressure</th>\n",
       "      <th>Temperature</th>\n",
       "      <th>temp_cat</th>\n",
       "    </tr>\n",
       "  </thead>\n",
       "  <tbody>\n",
       "    <tr>\n",
       "      <th>0</th>\n",
       "      <td>15-10-2020</td>\n",
       "      <td>10:30:00</td>\n",
       "      <td>diltiazem hydrochloride</td>\n",
       "      <td>18.0</td>\n",
       "      <td>20.0</td>\n",
       "      <td>low</td>\n",
       "    </tr>\n",
       "    <tr>\n",
       "      <th>1</th>\n",
       "      <td>15-10-2020</td>\n",
       "      <td>10:30:00</td>\n",
       "      <td>docetaxel injection</td>\n",
       "      <td>26.0</td>\n",
       "      <td>23.0</td>\n",
       "      <td>medium</td>\n",
       "    </tr>\n",
       "    <tr>\n",
       "      <th>2</th>\n",
       "      <td>15-10-2020</td>\n",
       "      <td>10:30:00</td>\n",
       "      <td>ketamine hydrochloride</td>\n",
       "      <td>9.0</td>\n",
       "      <td>22.0</td>\n",
       "      <td>medium</td>\n",
       "    </tr>\n",
       "    <tr>\n",
       "      <th>3</th>\n",
       "      <td>15-10-2020</td>\n",
       "      <td>11:30:00</td>\n",
       "      <td>diltiazem hydrochloride</td>\n",
       "      <td>19.0</td>\n",
       "      <td>20.0</td>\n",
       "      <td>low</td>\n",
       "    </tr>\n",
       "    <tr>\n",
       "      <th>4</th>\n",
       "      <td>15-10-2020</td>\n",
       "      <td>11:30:00</td>\n",
       "      <td>docetaxel injection</td>\n",
       "      <td>29.0</td>\n",
       "      <td>25.0</td>\n",
       "      <td>medium</td>\n",
       "    </tr>\n",
       "    <tr>\n",
       "      <th>...</th>\n",
       "      <td>...</td>\n",
       "      <td>...</td>\n",
       "      <td>...</td>\n",
       "      <td>...</td>\n",
       "      <td>...</td>\n",
       "      <td>...</td>\n",
       "    </tr>\n",
       "    <tr>\n",
       "      <th>103</th>\n",
       "      <td>17-10-2020</td>\n",
       "      <td>8:30:00</td>\n",
       "      <td>docetaxel injection</td>\n",
       "      <td>26.0</td>\n",
       "      <td>19.0</td>\n",
       "      <td>low</td>\n",
       "    </tr>\n",
       "    <tr>\n",
       "      <th>104</th>\n",
       "      <td>17-10-2020</td>\n",
       "      <td>8:30:00</td>\n",
       "      <td>ketamine hydrochloride</td>\n",
       "      <td>11.0</td>\n",
       "      <td>20.0</td>\n",
       "      <td>low</td>\n",
       "    </tr>\n",
       "    <tr>\n",
       "      <th>105</th>\n",
       "      <td>17-10-2020</td>\n",
       "      <td>9:30:00</td>\n",
       "      <td>diltiazem hydrochloride</td>\n",
       "      <td>9.0</td>\n",
       "      <td>13.0</td>\n",
       "      <td>low</td>\n",
       "    </tr>\n",
       "    <tr>\n",
       "      <th>106</th>\n",
       "      <td>17-10-2020</td>\n",
       "      <td>9:30:00</td>\n",
       "      <td>docetaxel injection</td>\n",
       "      <td>27.0</td>\n",
       "      <td>20.0</td>\n",
       "      <td>low</td>\n",
       "    </tr>\n",
       "    <tr>\n",
       "      <th>107</th>\n",
       "      <td>17-10-2020</td>\n",
       "      <td>9:30:00</td>\n",
       "      <td>ketamine hydrochloride</td>\n",
       "      <td>12.0</td>\n",
       "      <td>21.0</td>\n",
       "      <td>medium</td>\n",
       "    </tr>\n",
       "  </tbody>\n",
       "</table>\n",
       "<p>108 rows × 6 columns</p>\n",
       "</div>"
      ],
      "text/plain": [
       "Parameter        Date      time                Drug_Name  Pressure  \\\n",
       "0          15-10-2020  10:30:00  diltiazem hydrochloride      18.0   \n",
       "1          15-10-2020  10:30:00      docetaxel injection      26.0   \n",
       "2          15-10-2020  10:30:00   ketamine hydrochloride       9.0   \n",
       "3          15-10-2020  11:30:00  diltiazem hydrochloride      19.0   \n",
       "4          15-10-2020  11:30:00      docetaxel injection      29.0   \n",
       "..                ...       ...                      ...       ...   \n",
       "103        17-10-2020   8:30:00      docetaxel injection      26.0   \n",
       "104        17-10-2020   8:30:00   ketamine hydrochloride      11.0   \n",
       "105        17-10-2020   9:30:00  diltiazem hydrochloride       9.0   \n",
       "106        17-10-2020   9:30:00      docetaxel injection      27.0   \n",
       "107        17-10-2020   9:30:00   ketamine hydrochloride      12.0   \n",
       "\n",
       "Parameter  Temperature temp_cat  \n",
       "0                 20.0      low  \n",
       "1                 23.0   medium  \n",
       "2                 22.0   medium  \n",
       "3                 20.0      low  \n",
       "4                 25.0   medium  \n",
       "..                 ...      ...  \n",
       "103               19.0      low  \n",
       "104               20.0      low  \n",
       "105               13.0      low  \n",
       "106               20.0      low  \n",
       "107               21.0   medium  \n",
       "\n",
       "[108 rows x 6 columns]"
      ]
     },
     "execution_count": 15,
     "metadata": {},
     "output_type": "execute_result"
    }
   ],
   "source": [
    "data_tidy = data_tidy.reset_index()\n",
    "data_tidy"
   ]
  },
  {
   "cell_type": "markdown",
   "metadata": {
    "id": "CCy-fTZadWa4"
   },
   "source": [
    "### String function and motivation for datetime\n",
    "\n",
    "\n"
   ]
  },
  {
   "cell_type": "markdown",
   "metadata": {
    "id": "buAHEmyQVmY4"
   },
   "source": [
    "#### What kind of questions can we use string methods for?\n",
    "\n",
    "Find rows which contains a particular string\n",
    "\n",
    "Say,\n",
    "\n",
    "####How you can you filter rows containing \"hydrochloric\" in their drug name?\n"
   ]
  },
  {
   "cell_type": "code",
   "execution_count": 16,
   "metadata": {
    "colab": {
     "base_uri": "https://localhost:8080/",
     "height": 206
    },
    "id": "k2aUp417c4Qd",
    "outputId": "680727e4-8e90-4109-d719-2a58d262a069"
   },
   "outputs": [
    {
     "data": {
      "text/html": [
       "<div>\n",
       "<style scoped>\n",
       "    .dataframe tbody tr th:only-of-type {\n",
       "        vertical-align: middle;\n",
       "    }\n",
       "\n",
       "    .dataframe tbody tr th {\n",
       "        vertical-align: top;\n",
       "    }\n",
       "\n",
       "    .dataframe thead th {\n",
       "        text-align: right;\n",
       "    }\n",
       "</style>\n",
       "<table border=\"1\" class=\"dataframe\">\n",
       "  <thead>\n",
       "    <tr style=\"text-align: right;\">\n",
       "      <th>Parameter</th>\n",
       "      <th>Date</th>\n",
       "      <th>time</th>\n",
       "      <th>Drug_Name</th>\n",
       "      <th>Pressure</th>\n",
       "      <th>Temperature</th>\n",
       "      <th>temp_cat</th>\n",
       "    </tr>\n",
       "  </thead>\n",
       "  <tbody>\n",
       "    <tr>\n",
       "      <th>0</th>\n",
       "      <td>15-10-2020</td>\n",
       "      <td>10:30:00</td>\n",
       "      <td>diltiazem hydrochloride</td>\n",
       "      <td>18.0</td>\n",
       "      <td>20.0</td>\n",
       "      <td>low</td>\n",
       "    </tr>\n",
       "    <tr>\n",
       "      <th>2</th>\n",
       "      <td>15-10-2020</td>\n",
       "      <td>10:30:00</td>\n",
       "      <td>ketamine hydrochloride</td>\n",
       "      <td>9.0</td>\n",
       "      <td>22.0</td>\n",
       "      <td>medium</td>\n",
       "    </tr>\n",
       "    <tr>\n",
       "      <th>3</th>\n",
       "      <td>15-10-2020</td>\n",
       "      <td>11:30:00</td>\n",
       "      <td>diltiazem hydrochloride</td>\n",
       "      <td>19.0</td>\n",
       "      <td>20.0</td>\n",
       "      <td>low</td>\n",
       "    </tr>\n",
       "    <tr>\n",
       "      <th>5</th>\n",
       "      <td>15-10-2020</td>\n",
       "      <td>11:30:00</td>\n",
       "      <td>ketamine hydrochloride</td>\n",
       "      <td>9.0</td>\n",
       "      <td>21.0</td>\n",
       "      <td>medium</td>\n",
       "    </tr>\n",
       "    <tr>\n",
       "      <th>6</th>\n",
       "      <td>15-10-2020</td>\n",
       "      <td>12:30:00</td>\n",
       "      <td>diltiazem hydrochloride</td>\n",
       "      <td>20.0</td>\n",
       "      <td>21.0</td>\n",
       "      <td>medium</td>\n",
       "    </tr>\n",
       "  </tbody>\n",
       "</table>\n",
       "</div>"
      ],
      "text/plain": [
       "Parameter        Date      time                Drug_Name  Pressure  \\\n",
       "0          15-10-2020  10:30:00  diltiazem hydrochloride      18.0   \n",
       "2          15-10-2020  10:30:00   ketamine hydrochloride       9.0   \n",
       "3          15-10-2020  11:30:00  diltiazem hydrochloride      19.0   \n",
       "5          15-10-2020  11:30:00   ketamine hydrochloride       9.0   \n",
       "6          15-10-2020  12:30:00  diltiazem hydrochloride      20.0   \n",
       "\n",
       "Parameter  Temperature temp_cat  \n",
       "0                 20.0      low  \n",
       "2                 22.0   medium  \n",
       "3                 20.0      low  \n",
       "5                 21.0   medium  \n",
       "6                 21.0   medium  "
      ]
     },
     "execution_count": 16,
     "metadata": {},
     "output_type": "execute_result"
    }
   ],
   "source": [
    "data_tidy.loc[data_tidy['Drug_Name'].str.contains('hydrochloride')].head()"
   ]
  },
  {
   "cell_type": "markdown",
   "metadata": {
    "id": "bLFKY8wxVziA"
   },
   "source": [
    "\n",
    "So in general, we will be using the following format:\n",
    "\n",
    "     > Series.str.function()\n",
    "\n",
    "Series.str can be used to **access the values of the series as strings** and apply several methods to it.\n"
   ]
  },
  {
   "cell_type": "markdown",
   "metadata": {
    "id": "Nhe3jJ0Jdr0y"
   },
   "source": [
    "Now suppose we want to form a new column based on the year of the experiments?\n",
    "\n",
    "#### What can we do form a column containing the year?\n"
   ]
  },
  {
   "cell_type": "code",
   "execution_count": 17,
   "metadata": {
    "colab": {
     "base_uri": "https://localhost:8080/"
    },
    "id": "o85Hl3dKdzOh",
    "outputId": "82318bb3-218b-4c8f-ed54-39a60d48d5ad"
   },
   "outputs": [
    {
     "data": {
      "text/plain": [
       "0      [15, 10, 2020]\n",
       "1      [15, 10, 2020]\n",
       "2      [15, 10, 2020]\n",
       "3      [15, 10, 2020]\n",
       "4      [15, 10, 2020]\n",
       "            ...      \n",
       "103    [17, 10, 2020]\n",
       "104    [17, 10, 2020]\n",
       "105    [17, 10, 2020]\n",
       "106    [17, 10, 2020]\n",
       "107    [17, 10, 2020]\n",
       "Name: Date, Length: 108, dtype: object"
      ]
     },
     "execution_count": 17,
     "metadata": {},
     "output_type": "execute_result"
    }
   ],
   "source": [
    "data_tidy['Date'].str.split('-')"
   ]
  },
  {
   "cell_type": "markdown",
   "metadata": {
    "id": "IEhCKjoP8sRw"
   },
   "source": [
    "To extract the year we need to select the last element of each list"
   ]
  },
  {
   "cell_type": "code",
   "execution_count": 18,
   "metadata": {
    "colab": {
     "base_uri": "https://localhost:8080/"
    },
    "id": "ksOCoLZB8ptU",
    "outputId": "ca8273da-4593-46ab-aabc-ef6bae805414"
   },
   "outputs": [
    {
     "data": {
      "text/plain": [
       "0      2020\n",
       "1      2020\n",
       "2      2020\n",
       "3      2020\n",
       "4      2020\n",
       "       ... \n",
       "103    2020\n",
       "104    2020\n",
       "105    2020\n",
       "106    2020\n",
       "107    2020\n",
       "Name: Date, Length: 108, dtype: object"
      ]
     },
     "execution_count": 18,
     "metadata": {},
     "output_type": "execute_result"
    }
   ],
   "source": [
    "data_tidy['Date'].str.split('-').apply(lambda x:x[2])"
   ]
  },
  {
   "cell_type": "markdown",
   "metadata": {
    "id": "JMJ-LSQd8xAC"
   },
   "source": [
    "But there are certain problems with this approach:\n",
    "\n",
    "- The **dtype of the output is still an object**, we would prefer a number type\n",
    "- The date format will always **not be in day-month-year**, it can vary"
   ]
  },
  {
   "cell_type": "markdown",
   "metadata": {
    "id": "E_8CSEx69Jb_"
   },
   "source": [
    "Thus, to work with such date-time type of data, we can use a special method of pandas"
   ]
  },
  {
   "cell_type": "markdown",
   "metadata": {
    "id": "wMTuF7KrNDAT"
   },
   "source": [
    "### Datetime"
   ]
  },
  {
   "cell_type": "markdown",
   "metadata": {
    "id": "6xxJoFcfFCzX"
   },
   "source": [
    "Lets start with understanding a date-time type of data\n",
    "\n",
    "#### How can we handle handle date-time data-types?\n",
    "\n",
    "  - We can do using the `to_datetime()` function of pandas\n",
    "  - It takes as input:\n",
    "    - Array/Scalars with values having proper date/time format\n",
    "    - `dayfirst`: Indicating if the day comes first in the date format used\n",
    "    - `yearfirst`: Indicates if year comes first in the date format"
   ]
  },
  {
   "cell_type": "markdown",
   "metadata": {
    "id": "2K46DB-_0S7Q"
   },
   "source": [
    "Let's first merge our ```Date``` and ```time``` columns into a new timestamp column\n",
    "\n",
    "\n"
   ]
  },
  {
   "cell_type": "code",
   "execution_count": 19,
   "metadata": {
    "id": "zpkmx8Co0ZEA"
   },
   "outputs": [],
   "source": [
    "data_tidy['timestamp'] = data_tidy['Date']+ \" \"+ data_tidy['time']"
   ]
  },
  {
   "cell_type": "code",
   "execution_count": 20,
   "metadata": {
    "id": "9tQnoK9M1elO"
   },
   "outputs": [],
   "source": [
    "data_tidy.drop(['Date', 'time'], axis=1, inplace=True)"
   ]
  },
  {
   "cell_type": "code",
   "execution_count": 21,
   "metadata": {
    "colab": {
     "base_uri": "https://localhost:8080/",
     "height": 206
    },
    "id": "GrNya36J0nAy",
    "outputId": "0f012c87-b7ab-4320-e22d-7f4a4a4286de"
   },
   "outputs": [
    {
     "data": {
      "text/html": [
       "<div>\n",
       "<style scoped>\n",
       "    .dataframe tbody tr th:only-of-type {\n",
       "        vertical-align: middle;\n",
       "    }\n",
       "\n",
       "    .dataframe tbody tr th {\n",
       "        vertical-align: top;\n",
       "    }\n",
       "\n",
       "    .dataframe thead th {\n",
       "        text-align: right;\n",
       "    }\n",
       "</style>\n",
       "<table border=\"1\" class=\"dataframe\">\n",
       "  <thead>\n",
       "    <tr style=\"text-align: right;\">\n",
       "      <th>Parameter</th>\n",
       "      <th>Drug_Name</th>\n",
       "      <th>Pressure</th>\n",
       "      <th>Temperature</th>\n",
       "      <th>temp_cat</th>\n",
       "      <th>timestamp</th>\n",
       "    </tr>\n",
       "  </thead>\n",
       "  <tbody>\n",
       "    <tr>\n",
       "      <th>0</th>\n",
       "      <td>diltiazem hydrochloride</td>\n",
       "      <td>18.0</td>\n",
       "      <td>20.0</td>\n",
       "      <td>low</td>\n",
       "      <td>15-10-2020 10:30:00</td>\n",
       "    </tr>\n",
       "    <tr>\n",
       "      <th>1</th>\n",
       "      <td>docetaxel injection</td>\n",
       "      <td>26.0</td>\n",
       "      <td>23.0</td>\n",
       "      <td>medium</td>\n",
       "      <td>15-10-2020 10:30:00</td>\n",
       "    </tr>\n",
       "    <tr>\n",
       "      <th>2</th>\n",
       "      <td>ketamine hydrochloride</td>\n",
       "      <td>9.0</td>\n",
       "      <td>22.0</td>\n",
       "      <td>medium</td>\n",
       "      <td>15-10-2020 10:30:00</td>\n",
       "    </tr>\n",
       "    <tr>\n",
       "      <th>3</th>\n",
       "      <td>diltiazem hydrochloride</td>\n",
       "      <td>19.0</td>\n",
       "      <td>20.0</td>\n",
       "      <td>low</td>\n",
       "      <td>15-10-2020 11:30:00</td>\n",
       "    </tr>\n",
       "    <tr>\n",
       "      <th>4</th>\n",
       "      <td>docetaxel injection</td>\n",
       "      <td>29.0</td>\n",
       "      <td>25.0</td>\n",
       "      <td>medium</td>\n",
       "      <td>15-10-2020 11:30:00</td>\n",
       "    </tr>\n",
       "  </tbody>\n",
       "</table>\n",
       "</div>"
      ],
      "text/plain": [
       "Parameter                Drug_Name  Pressure  Temperature temp_cat  \\\n",
       "0          diltiazem hydrochloride      18.0         20.0      low   \n",
       "1              docetaxel injection      26.0         23.0   medium   \n",
       "2           ketamine hydrochloride       9.0         22.0   medium   \n",
       "3          diltiazem hydrochloride      19.0         20.0      low   \n",
       "4              docetaxel injection      29.0         25.0   medium   \n",
       "\n",
       "Parameter            timestamp  \n",
       "0          15-10-2020 10:30:00  \n",
       "1          15-10-2020 10:30:00  \n",
       "2          15-10-2020 10:30:00  \n",
       "3          15-10-2020 11:30:00  \n",
       "4          15-10-2020 11:30:00  "
      ]
     },
     "execution_count": 21,
     "metadata": {},
     "output_type": "execute_result"
    }
   ],
   "source": [
    "data_tidy.head()"
   ]
  },
  {
   "cell_type": "markdown",
   "metadata": {
    "id": "IKW2elms0ReB"
   },
   "source": [
    "Lets convert our `timestamp` col now"
   ]
  },
  {
   "cell_type": "code",
   "execution_count": 28,
   "metadata": {
    "colab": {
     "base_uri": "https://localhost:8080/",
     "height": 423
    },
    "id": "ac0215f0",
    "outputId": "60168b7d-c716-4d6d-e490-8308cc6e0861"
   },
   "outputs": [
    {
     "data": {
      "text/html": [
       "<div>\n",
       "<style scoped>\n",
       "    .dataframe tbody tr th:only-of-type {\n",
       "        vertical-align: middle;\n",
       "    }\n",
       "\n",
       "    .dataframe tbody tr th {\n",
       "        vertical-align: top;\n",
       "    }\n",
       "\n",
       "    .dataframe thead th {\n",
       "        text-align: right;\n",
       "    }\n",
       "</style>\n",
       "<table border=\"1\" class=\"dataframe\">\n",
       "  <thead>\n",
       "    <tr style=\"text-align: right;\">\n",
       "      <th>Parameter</th>\n",
       "      <th>Drug_Name</th>\n",
       "      <th>Pressure</th>\n",
       "      <th>Temperature</th>\n",
       "      <th>temp_cat</th>\n",
       "      <th>timestamp</th>\n",
       "    </tr>\n",
       "  </thead>\n",
       "  <tbody>\n",
       "    <tr>\n",
       "      <th>0</th>\n",
       "      <td>diltiazem hydrochloride</td>\n",
       "      <td>18.0</td>\n",
       "      <td>20.0</td>\n",
       "      <td>low</td>\n",
       "      <td>2020-10-15 10:30:00</td>\n",
       "    </tr>\n",
       "    <tr>\n",
       "      <th>1</th>\n",
       "      <td>docetaxel injection</td>\n",
       "      <td>26.0</td>\n",
       "      <td>23.0</td>\n",
       "      <td>medium</td>\n",
       "      <td>2020-10-15 10:30:00</td>\n",
       "    </tr>\n",
       "    <tr>\n",
       "      <th>2</th>\n",
       "      <td>ketamine hydrochloride</td>\n",
       "      <td>9.0</td>\n",
       "      <td>22.0</td>\n",
       "      <td>medium</td>\n",
       "      <td>2020-10-15 10:30:00</td>\n",
       "    </tr>\n",
       "    <tr>\n",
       "      <th>3</th>\n",
       "      <td>diltiazem hydrochloride</td>\n",
       "      <td>19.0</td>\n",
       "      <td>20.0</td>\n",
       "      <td>low</td>\n",
       "      <td>2020-10-15 11:30:00</td>\n",
       "    </tr>\n",
       "    <tr>\n",
       "      <th>4</th>\n",
       "      <td>docetaxel injection</td>\n",
       "      <td>29.0</td>\n",
       "      <td>25.0</td>\n",
       "      <td>medium</td>\n",
       "      <td>2020-10-15 11:30:00</td>\n",
       "    </tr>\n",
       "    <tr>\n",
       "      <th>...</th>\n",
       "      <td>...</td>\n",
       "      <td>...</td>\n",
       "      <td>...</td>\n",
       "      <td>...</td>\n",
       "      <td>...</td>\n",
       "    </tr>\n",
       "    <tr>\n",
       "      <th>103</th>\n",
       "      <td>docetaxel injection</td>\n",
       "      <td>26.0</td>\n",
       "      <td>19.0</td>\n",
       "      <td>low</td>\n",
       "      <td>2020-10-17 08:30:00</td>\n",
       "    </tr>\n",
       "    <tr>\n",
       "      <th>104</th>\n",
       "      <td>ketamine hydrochloride</td>\n",
       "      <td>11.0</td>\n",
       "      <td>20.0</td>\n",
       "      <td>low</td>\n",
       "      <td>2020-10-17 08:30:00</td>\n",
       "    </tr>\n",
       "    <tr>\n",
       "      <th>105</th>\n",
       "      <td>diltiazem hydrochloride</td>\n",
       "      <td>9.0</td>\n",
       "      <td>13.0</td>\n",
       "      <td>low</td>\n",
       "      <td>2020-10-17 09:30:00</td>\n",
       "    </tr>\n",
       "    <tr>\n",
       "      <th>106</th>\n",
       "      <td>docetaxel injection</td>\n",
       "      <td>27.0</td>\n",
       "      <td>20.0</td>\n",
       "      <td>low</td>\n",
       "      <td>2020-10-17 09:30:00</td>\n",
       "    </tr>\n",
       "    <tr>\n",
       "      <th>107</th>\n",
       "      <td>ketamine hydrochloride</td>\n",
       "      <td>12.0</td>\n",
       "      <td>21.0</td>\n",
       "      <td>medium</td>\n",
       "      <td>2020-10-17 09:30:00</td>\n",
       "    </tr>\n",
       "  </tbody>\n",
       "</table>\n",
       "<p>108 rows × 5 columns</p>\n",
       "</div>"
      ],
      "text/plain": [
       "Parameter                Drug_Name  Pressure  Temperature temp_cat  \\\n",
       "0          diltiazem hydrochloride      18.0         20.0      low   \n",
       "1              docetaxel injection      26.0         23.0   medium   \n",
       "2           ketamine hydrochloride       9.0         22.0   medium   \n",
       "3          diltiazem hydrochloride      19.0         20.0      low   \n",
       "4              docetaxel injection      29.0         25.0   medium   \n",
       "..                             ...       ...          ...      ...   \n",
       "103            docetaxel injection      26.0         19.0      low   \n",
       "104         ketamine hydrochloride      11.0         20.0      low   \n",
       "105        diltiazem hydrochloride       9.0         13.0      low   \n",
       "106            docetaxel injection      27.0         20.0      low   \n",
       "107         ketamine hydrochloride      12.0         21.0   medium   \n",
       "\n",
       "Parameter           timestamp  \n",
       "0         2020-10-15 10:30:00  \n",
       "1         2020-10-15 10:30:00  \n",
       "2         2020-10-15 10:30:00  \n",
       "3         2020-10-15 11:30:00  \n",
       "4         2020-10-15 11:30:00  \n",
       "..                        ...  \n",
       "103       2020-10-17 08:30:00  \n",
       "104       2020-10-17 08:30:00  \n",
       "105       2020-10-17 09:30:00  \n",
       "106       2020-10-17 09:30:00  \n",
       "107       2020-10-17 09:30:00  \n",
       "\n",
       "[108 rows x 5 columns]"
      ]
     },
     "execution_count": 28,
     "metadata": {},
     "output_type": "execute_result"
    }
   ],
   "source": [
    "data_tidy['timestamp'] = pd.to_datetime(data_tidy['timestamp']) # will leave to explore how you can mention datetime format by your own\n",
    "\n",
    "data_tidy"
   ]
  },
  {
   "cell_type": "code",
   "execution_count": 29,
   "metadata": {
    "colab": {
     "base_uri": "https://localhost:8080/"
    },
    "id": "686c3076",
    "outputId": "e4ca9b31-b41c-4295-e121-7f6c0498a472"
   },
   "outputs": [
    {
     "name": "stdout",
     "output_type": "stream",
     "text": [
      "<class 'pandas.core.frame.DataFrame'>\n",
      "RangeIndex: 108 entries, 0 to 107\n",
      "Data columns (total 5 columns):\n",
      " #   Column       Non-Null Count  Dtype         \n",
      "---  ------       --------------  -----         \n",
      " 0   Drug_Name    108 non-null    object        \n",
      " 1   Pressure     95 non-null     float64       \n",
      " 2   Temperature  95 non-null     float64       \n",
      " 3   temp_cat     95 non-null     category      \n",
      " 4   timestamp    108 non-null    datetime64[ns]\n",
      "dtypes: category(1), datetime64[ns](1), float64(2), object(1)\n",
      "memory usage: 3.8+ KB\n"
     ]
    }
   ],
   "source": [
    "data_tidy.info()"
   ]
  },
  {
   "cell_type": "markdown",
   "metadata": {
    "id": "9cb9c761"
   },
   "source": [
    "The **type of `timestamp` column** has been **changed to `datetime`** from `object`"
   ]
  },
  {
   "cell_type": "markdown",
   "metadata": {
    "id": "921e30f8"
   },
   "source": [
    "Now, Let's look at a single timestamp using Pandas\n",
    "\n",
    "#### How can we **extract information** from a single **timestamp** using Pandas?"
   ]
  },
  {
   "cell_type": "code",
   "execution_count": 30,
   "metadata": {
    "colab": {
     "base_uri": "https://localhost:8080/"
    },
    "id": "9630ca61",
    "outputId": "cc694e15-c6f7-447a-f71d-30fdaf5d9634"
   },
   "outputs": [
    {
     "data": {
      "text/plain": [
       "Timestamp('2020-10-15 10:30:00')"
      ]
     },
     "execution_count": 30,
     "metadata": {},
     "output_type": "execute_result"
    }
   ],
   "source": [
    "ts = data_tidy['timestamp'][0]\n",
    "ts"
   ]
  },
  {
   "cell_type": "markdown",
   "metadata": {
    "id": "aUWxoBXxXCsC"
   },
   "source": [
    "#### Now how can we extract the year from this date ?\n"
   ]
  },
  {
   "cell_type": "code",
   "execution_count": 31,
   "metadata": {
    "colab": {
     "base_uri": "https://localhost:8080/"
    },
    "id": "b23147d1",
    "outputId": "6a48e43e-d1da-4843-fd85-f48dc8d0aea3"
   },
   "outputs": [
    {
     "data": {
      "text/plain": [
       "2020"
      ]
     },
     "execution_count": 31,
     "metadata": {},
     "output_type": "execute_result"
    }
   ],
   "source": [
    "ts.year"
   ]
  },
  {
   "cell_type": "markdown",
   "metadata": {
    "id": "BzX76yfCXOpQ"
   },
   "source": [
    "Similarly we can also access the month and day using the `month` and `day` attributes"
   ]
  },
  {
   "cell_type": "code",
   "execution_count": 32,
   "metadata": {
    "colab": {
     "base_uri": "https://localhost:8080/"
    },
    "id": "1b6f06db",
    "outputId": "fe4cd2f9-c657-4cbf-d9de-ba3a45c66d90"
   },
   "outputs": [
    {
     "data": {
      "text/plain": [
       "10"
      ]
     },
     "execution_count": 32,
     "metadata": {},
     "output_type": "execute_result"
    }
   ],
   "source": [
    "ts.month"
   ]
  },
  {
   "cell_type": "code",
   "execution_count": 33,
   "metadata": {
    "colab": {
     "base_uri": "https://localhost:8080/"
    },
    "id": "b3614273",
    "outputId": "783b4f22-a3e8-4412-f17d-477fc5b93a6e"
   },
   "outputs": [
    {
     "data": {
      "text/plain": [
       "15"
      ]
     },
     "execution_count": 33,
     "metadata": {},
     "output_type": "execute_result"
    }
   ],
   "source": [
    "ts.day"
   ]
  },
  {
   "cell_type": "markdown",
   "metadata": {
    "id": "HXrh96fKXYdZ"
   },
   "source": [
    "#### But what if we want to know the name of the month or the day of the week on that date ?\n",
    "  - We can find it using `month_name()` and `day_name()` methods"
   ]
  },
  {
   "cell_type": "code",
   "execution_count": 34,
   "metadata": {
    "colab": {
     "base_uri": "https://localhost:8080/",
     "height": 36
    },
    "id": "5549b282",
    "outputId": "6a2a80b5-0413-4b37-d981-bf244526dcbc"
   },
   "outputs": [
    {
     "data": {
      "text/plain": [
       "'October'"
      ]
     },
     "execution_count": 34,
     "metadata": {},
     "output_type": "execute_result"
    }
   ],
   "source": [
    "ts.month_name()"
   ]
  },
  {
   "cell_type": "code",
   "execution_count": 35,
   "metadata": {
    "colab": {
     "base_uri": "https://localhost:8080/",
     "height": 36
    },
    "id": "8d604c3d",
    "outputId": "56bd979f-e911-42ee-bb2f-f61e0c914f88"
   },
   "outputs": [
    {
     "data": {
      "text/plain": [
       "'Thursday'"
      ]
     },
     "execution_count": 35,
     "metadata": {},
     "output_type": "execute_result"
    }
   ],
   "source": [
    "ts.day_name()"
   ]
  },
  {
   "cell_type": "code",
   "execution_count": 36,
   "metadata": {
    "colab": {
     "base_uri": "https://localhost:8080/"
    },
    "id": "4c5159fd",
    "outputId": "f2efd6c4-87b1-4856-a747-dc650830b8ef"
   },
   "outputs": [
    {
     "data": {
      "text/plain": [
       "3"
      ]
     },
     "execution_count": 36,
     "metadata": {},
     "output_type": "execute_result"
    }
   ],
   "source": [
    "ts.dayofweek"
   ]
  },
  {
   "cell_type": "code",
   "execution_count": 37,
   "metadata": {
    "colab": {
     "base_uri": "https://localhost:8080/"
    },
    "id": "cd235ba6",
    "outputId": "badfd107-16cf-46ba-bcb6-67f9bf8d88a3"
   },
   "outputs": [
    {
     "data": {
      "text/plain": [
       "10"
      ]
     },
     "execution_count": 37,
     "metadata": {},
     "output_type": "execute_result"
    }
   ],
   "source": [
    "ts.hour"
   ]
  },
  {
   "cell_type": "code",
   "execution_count": 38,
   "metadata": {
    "colab": {
     "base_uri": "https://localhost:8080/"
    },
    "id": "jfxzjk7QDbr1",
    "outputId": "4325ee62-22de-414e-a7a6-87e94b822a8f"
   },
   "outputs": [
    {
     "data": {
      "text/plain": [
       "30"
      ]
     },
     "execution_count": 38,
     "metadata": {},
     "output_type": "execute_result"
    }
   ],
   "source": [
    "ts.minute"
   ]
  },
  {
   "cell_type": "markdown",
   "metadata": {
    "id": "12604d43"
   },
   "source": [
    "... and so on\n",
    "\n",
    "We can similarly extract minutes and seconds\n",
    "\n",
    "\n",
    "#### This data parsing from string to date-time makes it easier to work with data\n",
    "\n",
    "We can use this data from the columns as a whole using ```.dt``` object"
   ]
  },
  {
   "cell_type": "code",
   "execution_count": 39,
   "metadata": {
    "colab": {
     "base_uri": "https://localhost:8080/"
    },
    "id": "397db0cb",
    "outputId": "3a89bed5-a261-4e19-a0bb-9a0c8184e192"
   },
   "outputs": [
    {
     "data": {
      "text/plain": [
       "<pandas.core.indexes.accessors.DatetimeProperties object at 0x1221af0d0>"
      ]
     },
     "execution_count": 39,
     "metadata": {},
     "output_type": "execute_result"
    }
   ],
   "source": [
    "data_tidy['timestamp'].dt"
   ]
  },
  {
   "cell_type": "markdown",
   "metadata": {
    "id": "53f914b0"
   },
   "source": [
    "- **`dt` gives properties of values in a column**\n",
    "\n",
    "- From this **`DatetimeProperties` of column `'end'`**, we can **extract `year`**"
   ]
  },
  {
   "cell_type": "code",
   "execution_count": 40,
   "metadata": {
    "colab": {
     "base_uri": "https://localhost:8080/"
    },
    "id": "d0ad00fa",
    "outputId": "42c92138-bd15-4d1e-fbb8-4f473dc13505"
   },
   "outputs": [
    {
     "data": {
      "text/plain": [
       "0      2020\n",
       "1      2020\n",
       "2      2020\n",
       "3      2020\n",
       "4      2020\n",
       "       ... \n",
       "103    2020\n",
       "104    2020\n",
       "105    2020\n",
       "106    2020\n",
       "107    2020\n",
       "Name: timestamp, Length: 108, dtype: int64"
      ]
     },
     "execution_count": 40,
     "metadata": {},
     "output_type": "execute_result"
    }
   ],
   "source": [
    "data_tidy['timestamp'].dt.year"
   ]
  },
  {
   "cell_type": "markdown",
   "metadata": {
    "id": "57b0eb10"
   },
   "source": [
    "Now, Let's **create the new column using these extracted values from the property**"
   ]
  },
  {
   "cell_type": "markdown",
   "metadata": {
    "id": "vEnNAtL4R6Ay"
   },
   "source": [
    "We will use strfttime, short for stringformat time, to modify our datetime format\n",
    "\n",
    "Let's learn this with the help of few examples"
   ]
  },
  {
   "cell_type": "code",
   "execution_count": 41,
   "metadata": {
    "colab": {
     "base_uri": "https://localhost:8080/"
    },
    "id": "wxXEm4GoSdxW",
    "outputId": "40826b78-e06b-488b-df8d-78d0b9311c0c"
   },
   "outputs": [
    {
     "data": {
      "text/plain": [
       "Timestamp('2020-10-15 10:30:00')"
      ]
     },
     "execution_count": 41,
     "metadata": {},
     "output_type": "execute_result"
    }
   ],
   "source": [
    "data_tidy['timestamp'][0]"
   ]
  },
  {
   "cell_type": "code",
   "execution_count": 42,
   "metadata": {
    "colab": {
     "base_uri": "https://localhost:8080/"
    },
    "id": "hrFwWBvFSEUh",
    "outputId": "d7df157e-bacc-4fba-8ba6-8a6b4ddb7e6e"
   },
   "outputs": [
    {
     "name": "stdout",
     "output_type": "stream",
     "text": [
      "2020\n"
     ]
    }
   ],
   "source": [
    "print(data_tidy['timestamp'][0].strftime('%Y')) # Formatter for year"
   ]
  },
  {
   "cell_type": "code",
   "execution_count": 43,
   "metadata": {
    "colab": {
     "base_uri": "https://localhost:8080/"
    },
    "id": "hlPuWmIGSKxu",
    "outputId": "06174aed-2465-4b53-f283-fe9a443e19a0"
   },
   "outputs": [
    {
     "name": "stdout",
     "output_type": "stream",
     "text": [
      "10\n"
     ]
    }
   ],
   "source": [
    "print(data_tidy['timestamp'][0].strftime('%m')) # Formatter for month"
   ]
  },
  {
   "cell_type": "code",
   "execution_count": 44,
   "metadata": {
    "colab": {
     "base_uri": "https://localhost:8080/"
    },
    "id": "hDR6z2TpSM96",
    "outputId": "fc1c96ab-7423-4ed8-c0da-b1562273825e"
   },
   "outputs": [
    {
     "name": "stdout",
     "output_type": "stream",
     "text": [
      "15\n"
     ]
    }
   ],
   "source": [
    "print(data_tidy['timestamp'][0].strftime('%d')) # Formatter for day"
   ]
  },
  {
   "cell_type": "code",
   "execution_count": 45,
   "metadata": {
    "colab": {
     "base_uri": "https://localhost:8080/"
    },
    "id": "d_0odFX5SYxY",
    "outputId": "27727e77-cf52-4099-b2c6-0cab365122c5"
   },
   "outputs": [
    {
     "name": "stdout",
     "output_type": "stream",
     "text": [
      "10\n"
     ]
    }
   ],
   "source": [
    "print(data_tidy['timestamp'][0].strftime('%H')) # Formatter for hour"
   ]
  },
  {
   "cell_type": "code",
   "execution_count": 46,
   "metadata": {
    "colab": {
     "base_uri": "https://localhost:8080/"
    },
    "id": "wcesgeQASiZh",
    "outputId": "a7eb921e-df5d-4f47-e1c1-ad0096a953f0"
   },
   "outputs": [
    {
     "name": "stdout",
     "output_type": "stream",
     "text": [
      "30\n"
     ]
    }
   ],
   "source": [
    "print(data_tidy['timestamp'][0].strftime('%M')) # Formatter for minutes"
   ]
  },
  {
   "cell_type": "code",
   "execution_count": 47,
   "metadata": {
    "colab": {
     "base_uri": "https://localhost:8080/"
    },
    "id": "0DkFuKdwSixu",
    "outputId": "91ec6e5e-29e5-43a1-8362-07782a20eaa7"
   },
   "outputs": [
    {
     "name": "stdout",
     "output_type": "stream",
     "text": [
      "00\n"
     ]
    }
   ],
   "source": [
    "print(data_tidy['timestamp'][0].strftime('%S')) # Formatter for seconds"
   ]
  },
  {
   "cell_type": "markdown",
   "metadata": {
    "id": "wjIs4gLwSpuz"
   },
   "source": [
    "Similarly we can combine the format types to modify the date-time format as per our convinience"
   ]
  },
  {
   "cell_type": "code",
   "execution_count": 48,
   "metadata": {
    "colab": {
     "base_uri": "https://localhost:8080/",
     "height": 36
    },
    "id": "d8e9225e",
    "outputId": "025429db-f817-43fd-8c9b-22c46d638adc"
   },
   "outputs": [
    {
     "data": {
      "text/plain": [
       "'10-15'"
      ]
     },
     "execution_count": 48,
     "metadata": {},
     "output_type": "execute_result"
    }
   ],
   "source": [
    "data_tidy['timestamp'][0].strftime('%m-%d')"
   ]
  },
  {
   "cell_type": "markdown",
   "metadata": {
    "id": "gMw1SsFBpLx2"
   },
   "source": [
    "### Writing to file\n",
    "\n",
    "\n",
    "#### How can we write our dataframe to a csv file?\n",
    "\n",
    "\n",
    "- We have to **provide the path and file_name** in which you want to store the data"
   ]
  },
  {
   "cell_type": "code",
   "execution_count": 49,
   "metadata": {
    "id": "24747bf1"
   },
   "outputs": [],
   "source": [
    "data_tidy.to_csv('../pfizer_tidy.csv', sep=\",\")"
   ]
  },
  {
   "cell_type": "code",
   "execution_count": null,
   "metadata": {
    "id": "IJPHt9L-PsdH"
   },
   "outputs": [],
   "source": []
  }
 ],
 "metadata": {
  "colab": {
   "provenance": []
  },
  "kernelspec": {
   "display_name": "Python 3 (ipykernel)",
   "language": "python",
   "name": "python3"
  },
  "language_info": {
   "codemirror_mode": {
    "name": "ipython",
    "version": 3
   },
   "file_extension": ".py",
   "mimetype": "text/x-python",
   "name": "python",
   "nbconvert_exporter": "python",
   "pygments_lexer": "ipython3",
   "version": "3.10.9"
  }
 },
 "nbformat": 4,
 "nbformat_minor": 4
}
