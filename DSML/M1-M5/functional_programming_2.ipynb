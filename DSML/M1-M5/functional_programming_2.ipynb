{
 "cells": [
  {
   "cell_type": "code",
   "execution_count": 2,
   "metadata": {},
   "outputs": [
    {
     "data": {
      "text/plain": [
       "['php', 'aaa']"
      ]
     },
     "execution_count": 2,
     "metadata": {},
     "output_type": "execute_result"
    }
   ],
   "source": [
    "arr = [\"php\", \"w3r\", \"python\", \"aaa\", \"java\"]\n",
    "result  = list( filter( lambda x: (x ==\"\".join( reversed(x))), arr))\n",
    "\n",
    "result"
   ]
  },
  {
   "cell_type": "code",
   "execution_count": 10,
   "metadata": {},
   "outputs": [
    {
     "name": "stdout",
     "output_type": "stream",
     "text": [
      "[{'name': 'Alice', 'salary': 180000, 'job': 'data scientist'}, {'name': 'Bob', 'salary': 99000, 'job': 'data engineer'}, {'name': 'Frank', 'salary': 87000, 'job': 'data analyst'}]\n"
     ]
    }
   ],
   "source": [
    "column_names = ['name', 'salary', 'job']\n",
    "db_rows = [('Alice', 180000, 'data scientist'),\n",
    "           ('Bob', 99000, 'data engineer'),\n",
    "           ('Frank', 87000, 'data analyst')]\n",
    "\n",
    "db = [dict(zip(column_names, row)) for row in db_rows]\n",
    "print(db)"
   ]
  },
  {
   "cell_type": "code",
   "execution_count": 4,
   "metadata": {},
   "outputs": [],
   "source": [
    "column_names = ['name', 'salary', 'job']\n",
    "db_rows = [('Alice', 180000, 'data scientist'),\n",
    "           ('Bob', 99000, 'data engineer'),\n",
    "           ('Frank', 87000, 'data analyst')]"
   ]
  },
  {
   "cell_type": "code",
   "execution_count": 13,
   "metadata": {},
   "outputs": [
    {
     "data": {
      "text/plain": [
       "[('name', 'Alice'), ('salary', 180000), ('job', 'data scientist')]"
      ]
     },
     "execution_count": 13,
     "metadata": {},
     "output_type": "execute_result"
    }
   ],
   "source": [
    "list(zip(column_names, ('Alice', 180000, 'data scientist')))"
   ]
  },
  {
   "cell_type": "code",
   "execution_count": 14,
   "metadata": {},
   "outputs": [
    {
     "data": {
      "text/plain": [
       "{'name': 'Alice', 'salary': 180000, 'job': 'data scientist'}"
      ]
     },
     "execution_count": 14,
     "metadata": {},
     "output_type": "execute_result"
    }
   ],
   "source": [
    "dict(zip(column_names, ('Alice', 180000, 'data scientist')))"
   ]
  },
  {
   "cell_type": "code",
   "execution_count": 15,
   "metadata": {},
   "outputs": [
    {
     "name": "stdout",
     "output_type": "stream",
     "text": [
      "4\n"
     ]
    }
   ],
   "source": [
    "import functools\n",
    "lists = [1,2,3,4]\n",
    "print(functools.reduce(lambda x,y : x if x > y else y ,lists))"
   ]
  },
  {
   "cell_type": "code",
   "execution_count": 16,
   "metadata": {},
   "outputs": [
    {
     "name": "stdout",
     "output_type": "stream",
     "text": [
      "[['a', 'b', 'c'], ['c', 'd', 'e'], ['d', 'e', 'f']]\n"
     ]
    }
   ],
   "source": [
    "sentence = \"abc cde def\"\n",
    "result = list(map(lambda x: list(x), sentence.split(\" \")))\n",
    "print(result)"
   ]
  },
  {
   "cell_type": "code",
   "execution_count": 17,
   "metadata": {},
   "outputs": [
    {
     "name": "stdout",
     "output_type": "stream",
     "text": [
      "[(1, 4, 7, 9, 6, 3), (2, 5, 8, 8, 5, 2), (3, 6, 9, 7, 4, 1)]\n"
     ]
    }
   ],
   "source": [
    "list1 = [[1,2,3],[4,5,6],[7,8,9]]\n",
    "list2 = [[9,8,7],[6,5,4],[3,2,1]]\n",
    "ls11,ls12,ls13=list1\n",
    "ls21,ls22,ls23=list2\n",
    "print(list(zip(ls11,ls12,ls13,ls21,ls22,ls23)))"
   ]
  },
  {
   "cell_type": "code",
   "execution_count": 20,
   "metadata": {},
   "outputs": [
    {
     "name": "stdout",
     "output_type": "stream",
     "text": [
      "[-1, -10]\n"
     ]
    }
   ],
   "source": [
    "array  = [1, 2, 3, 4, 5, -1, -10]\n",
    "def func1(x):\n",
    "    return x<0\n",
    "result=filter(func1, array)\n",
    "print(list(result))"
   ]
  },
  {
   "cell_type": "code",
   "execution_count": 21,
   "metadata": {},
   "outputs": [
    {
     "data": {
      "text/plain": [
       "[-1, -10]"
      ]
     },
     "execution_count": 21,
     "metadata": {},
     "output_type": "execute_result"
    }
   ],
   "source": [
    "list(filter(lambda x:x<0, array))"
   ]
  },
  {
   "cell_type": "code",
   "execution_count": 27,
   "metadata": {},
   "outputs": [],
   "source": [
    "from functools import reduce \n",
    "def func(integers, names, numbers):\n",
    "    '''\n",
    "    input:\n",
    "    integers -> list of integers to perform the square operation on\n",
    "    names -> list of names to filter out as per the condition\n",
    "    numbers -> list of numbers whose product we want\n",
    "    \n",
    "    output:\n",
    "    map_result -> output of integers list\n",
    "    filter_result -> output of the names lsit\n",
    "    reduce_result -> output of the numbers list\n",
    "    '''\n",
    "    \n",
    "    # Your code stars here\n",
    "    map_result = list(map(lambda x: x**2, integers))\n",
    "    filter_result = list(filter(lambda x: len(x) <= 7, names)) \n",
    "    reduce_result = reduce(lambda x, y: x*y, numbers) \n",
    "    \n",
    "    # Your code ends here\n",
    "    \n",
    "    return map_result, filter_result, reduce_result\n"
   ]
  },
  {
   "cell_type": "code",
   "execution_count": 28,
   "metadata": {},
   "outputs": [
    {
     "name": "stdout",
     "output_type": "stream",
     "text": [
      "[16, 36, 9, 81, 4, 64, 144] ['scaler', 'rishabh', 'student', 'course'] 24840\n"
     ]
    }
   ],
   "source": [
    "integers = [int(i) for i in \"4 6 3 9 2 8 12\".split(' ')]\n",
    "names = 'scaler interviewbit rishabh student course'.split(' ')\n",
    "numbers = [int(i) for i in \"4 6 9 23 5\".split(' ')] \n",
    "\n",
    "\n",
    "map_result, filter_result, reduce_result = func(integers, names, numbers)\n",
    "print(map_result, filter_result, reduce_result)"
   ]
  },
  {
   "cell_type": "code",
   "execution_count": 45,
   "metadata": {},
   "outputs": [],
   "source": [
    "def check_email(email):\n",
    "\n",
    "    at_count = email.count('@')\n",
    "\n",
    "    if at_count != 1:\n",
    "        return False \n",
    "    else:\n",
    "        if '.' in email.split('@')[1]:\n",
    "            if len(email.split('@')[0]) <= 20:\n",
    "                return True \n",
    "            else:\n",
    "                return False  \n",
    "        else:\n",
    "            return False \n",
    "\n",
    "def check(emails):\n",
    "    '''\n",
    "    input:\n",
    "    emails -> list of emails to check\n",
    "    \n",
    "    output:\n",
    "    verified_lex -> the verified list of emails, in lexicographical order\n",
    "    '''\n",
    "    \n",
    "    verified_lex = list(filter(check_email, emails))\n",
    "    \n",
    "    # Your code starts here\n",
    "    \n",
    "    # Your code ends here\n",
    "    return verified_lex"
   ]
  },
  {
   "cell_type": "code",
   "execution_count": 46,
   "metadata": {},
   "outputs": [
    {
     "data": {
      "text/plain": [
       "['sara@scaler.com', 'brian-23@scaler.com', 'brute_54@scaler.com']"
      ]
     },
     "execution_count": 46,
     "metadata": {},
     "output_type": "execute_result"
    }
   ],
   "source": [
    "emails = \"sara@scaler.com brian-23@scaler.com brute_54@scaler.com debnath@sada\".split(' ')\n",
    "check(emails)\n",
    "\n"
   ]
  },
  {
   "cell_type": "code",
   "execution_count": 47,
   "metadata": {},
   "outputs": [
    {
     "data": {
      "text/plain": [
       "True"
      ]
     },
     "execution_count": 47,
     "metadata": {},
     "output_type": "execute_result"
    }
   ],
   "source": [
    "email = 'brute_54@scaler.com'\n",
    "'.' in email.split('@')[1]"
   ]
  },
  {
   "cell_type": "code",
   "execution_count": 50,
   "metadata": {},
   "outputs": [
    {
     "name": "stdout",
     "output_type": "stream",
     "text": [
      "[2, [2, 3, 2, 3], 8, 10]\n"
     ]
    }
   ],
   "source": [
    "a=[1,[2,3],4,5]\n",
    "result = lambda x: list(map(lambda y:2*y, x)) if isinstance(x,list) else lambda x:3*x\n",
    "\n",
    "print(result(a))"
   ]
  },
  {
   "cell_type": "code",
   "execution_count": 51,
   "metadata": {},
   "outputs": [
    {
     "data": {
      "text/plain": [
       "[2, 3, 2, 3]"
      ]
     },
     "execution_count": 51,
     "metadata": {},
     "output_type": "execute_result"
    }
   ],
   "source": [
    "[2,3] * 2"
   ]
  },
  {
   "cell_type": "code",
   "execution_count": 72,
   "metadata": {},
   "outputs": [
    {
     "name": "stdout",
     "output_type": "stream",
     "text": [
      "['samJohnson@iit.com', 'SAM@harvard.com']\n"
     ]
    }
   ],
   "source": [
    "ids=[\"Sam@gmail.com\", \"Ram@gmail.com\", \"Sam@gmail.com\", \"samJohnson@iit.com\", \"SAM@harvard.com\"]\n",
    "\n",
    "name=\"sam\"\n",
    "\n",
    "result = list(filter(lambda x : name.lower() in x or name.upper() in x, ids))\n",
    "\n",
    "print(result)"
   ]
  },
  {
   "cell_type": "code",
   "execution_count": 75,
   "metadata": {},
   "outputs": [
    {
     "name": "stdout",
     "output_type": "stream",
     "text": [
      "['samJohnson@iit.com']\n"
     ]
    }
   ],
   "source": [
    "ids=[\"Sam@gmail.com\", \"Ram@gmail.com\", \"Sam@gmail.com\", \"samJohnson@iit.com\", \"SAM@harvard.com\", \"suman@amazon.com\"]\n",
    "\n",
    "name=\"sam\"\n",
    "\n",
    "result = list(filter(lambda x : ('sam' or 'SAM') in x, ids))\n",
    "\n",
    "print(result)"
   ]
  },
  {
   "cell_type": "code",
   "execution_count": 81,
   "metadata": {},
   "outputs": [],
   "source": [
    "def isPalindrome(my_list):\n",
    "\n",
    "  palindromes = list(filter(lambda word: word == word[-1], my_list))\n",
    "\n",
    "  return palindromes"
   ]
  },
  {
   "cell_type": "code",
   "execution_count": 82,
   "metadata": {},
   "outputs": [
    {
     "data": {
      "text/plain": [
       "[]"
      ]
     },
     "execution_count": 82,
     "metadata": {},
     "output_type": "execute_result"
    }
   ],
   "source": [
    "isPalindrome(['madam', 'madam'])"
   ]
  },
  {
   "cell_type": "code",
   "execution_count": null,
   "metadata": {},
   "outputs": [],
   "source": []
  }
 ],
 "metadata": {
  "kernelspec": {
   "display_name": "Python 3",
   "language": "python",
   "name": "python3"
  },
  "language_info": {
   "codemirror_mode": {
    "name": "ipython",
    "version": 3
   },
   "file_extension": ".py",
   "mimetype": "text/x-python",
   "name": "python",
   "nbconvert_exporter": "python",
   "pygments_lexer": "ipython3",
   "version": "3.9.6"
  },
  "orig_nbformat": 4,
  "vscode": {
   "interpreter": {
    "hash": "31f2aee4e71d21fbe5cf8b01ff0e069b9275f58929596ceb00d14d90e3e16cd6"
   }
  }
 },
 "nbformat": 4,
 "nbformat_minor": 2
}
