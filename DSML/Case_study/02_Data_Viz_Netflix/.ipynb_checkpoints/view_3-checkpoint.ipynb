{
 "cells": [
  {
   "cell_type": "markdown",
   "metadata": {
    "id": "B0rHOUAJzc5j"
   },
   "source": [
    "# **Business Case: Netflix - Data Exploration & Visualisation**  :"
   ]
  },
  {
   "cell_type": "markdown",
   "metadata": {
    "id": "JEZpJQMKiaVj"
   },
   "source": [
    "***Business Problem*** : Analyze the data and generate insights that could help Netflix in deciding which type of shows/movies to produce and how they can grow the business in different countries"
   ]
  },
  {
   "cell_type": "code",
   "execution_count": null,
   "metadata": {
    "id": "KziFZM4pfNkI"
   },
   "outputs": [],
   "source": [
    "#importing different libaries\n",
    "import numpy as np\n",
    "import pandas as pd \n",
    "import seaborn as sns\n",
    "import matplotlib.pyplot as plt"
   ]
  },
  {
   "cell_type": "code",
   "execution_count": null,
   "metadata": {
    "id": "mcJcfywkGldG"
   },
   "outputs": [],
   "source": [
    "import warnings #to ignore the warnings & make our code more representable\n",
    "warnings.filterwarnings(\"ignore\")"
   ]
  },
  {
   "cell_type": "code",
   "execution_count": null,
   "metadata": {
    "colab": {
     "base_uri": "https://localhost:8080/",
     "height": 337
    },
    "id": "SxedZKekfVyZ",
    "outputId": "be8f1a8b-da98-4d09-f47e-8c7d1fc9eeb3"
   },
   "outputs": [],
   "source": [
    "#Loading of dataset\n",
    "df = pd.read_csv(\"netflix.csv\")\n",
    "df.head()"
   ]
  },
  {
   "cell_type": "markdown",
   "metadata": {
    "id": "HWbPsMntIs4b"
   },
   "source": [
    "\n",
    "*   \"Title\" , \"director\" & \"cast\" columns needs to be unnested to make our analyis more accurate.\n",
    "*   Duration columns having data in minutes for movies and in seasons for TV shows\n",
    "\n",
    "\n",
    "\n"
   ]
  },
  {
   "cell_type": "markdown",
   "metadata": {
    "id": "XhyathHPjDDe"
   },
   "source": [
    "***Attributes information:***\n",
    "\n",
    "*Show_id*: Unique ID for every Movie / Tv Show\n",
    "\n",
    "*Type:* Identifier - A Movie or TV Show\n",
    "\n",
    "*Title:* Title of the Movie / Tv Show\n",
    "\n",
    "*Director*: Director of the Movie\n",
    "\n",
    "*Cast*: Actors involved in the movie/show\n",
    "\n",
    "*Country*: Country where the movie/show was produced\n",
    "\n",
    "*Date_added:* Date it was added on Netflix\n",
    "\n",
    "*Release_year*: Actual Release year of the movie/show\n",
    "\n",
    "*Rating*: TV Rating of the movie/show\n",
    "\n",
    "*Duration*: Total Duration - in minutes or number of seasons\n",
    "\n",
    "Listed_in *italicized text*: Genre\n",
    "\n",
    "*Description*: The summary description\n"
   ]
  },
  {
   "cell_type": "code",
   "execution_count": null,
   "metadata": {
    "colab": {
     "base_uri": "https://localhost:8080/"
    },
    "id": "Pc_qGnsNfgvG",
    "outputId": "fe0b1172-73d2-483b-fcd0-c6990d53e8c7"
   },
   "outputs": [],
   "source": [
    "df.shape #checking the count of no. of rows and columns of dataset"
   ]
  },
  {
   "cell_type": "markdown",
   "metadata": {
    "id": "Zw4xEC3iA198"
   },
   "source": [
    "*Dataset is having 8807 rows of data with 12 attributes.*"
   ]
  },
  {
   "cell_type": "code",
   "execution_count": null,
   "metadata": {
    "colab": {
     "base_uri": "https://localhost:8080/"
    },
    "id": "oRQNA-6dfoM5",
    "outputId": "52b12476-d229-418a-b4f1-a3b1fdcb4a41"
   },
   "outputs": [],
   "source": [
    "df.info() #to check the data types of all columns and count of values in particular column."
   ]
  },
  {
   "cell_type": "markdown",
   "metadata": {
    "id": "CP_0XOuojsCA"
   },
   "source": [
    "\n",
    "*   We can see that type of rating and date_added columns is \"object\" which should be categorical and datetime. \n",
    "*   More no. of missing values in cast and director columns.\n",
    "\n",
    "\n",
    "\n",
    "\n"
   ]
  },
  {
   "cell_type": "markdown",
   "metadata": {
    "id": "ahxMxI5GEdTm"
   },
   "source": [
    "# ***Statistical summary***"
   ]
  },
  {
   "cell_type": "code",
   "execution_count": null,
   "metadata": {
    "colab": {
     "base_uri": "https://localhost:8080/",
     "height": 300
    },
    "id": "E51f6JyGfp7P",
    "outputId": "b807563c-6d04-4eeb-eb1d-b3f33d6b1cf1"
   },
   "outputs": [],
   "source": [
    "df.describe()  #to check statistical summary of numerical type data"
   ]
  },
  {
   "cell_type": "markdown",
   "metadata": {
    "id": "gHteuRzHkXu2"
   },
   "source": [
    "\n",
    "\n",
    "*   25% of the tolal data belongs to year 2019-2021\n",
    "*   25% of the tolal data belongs to year 1925-2013\n",
    "\n",
    "***Insight*** -->Netflix should add latest Movies and TV shows to attract more customers."
   ]
  },
  {
   "cell_type": "code",
   "execution_count": null,
   "metadata": {
    "colab": {
     "base_uri": "https://localhost:8080/",
     "height": 236
    },
    "id": "3k64AFYEfsTk",
    "outputId": "71d3c0cb-1047-4fb4-84d8-f2ca14cc1d76"
   },
   "outputs": [],
   "source": [
    "df.describe(include = object) #to check statistical summary of categorical type data"
   ]
  },
  {
   "cell_type": "markdown",
   "metadata": {
    "id": "xluo8_Ib6k8y"
   },
   "source": [
    "**Conclusion :-**\n",
    "\n",
    "*   Show_id and Title are the unique factors.\n",
    "*   \"Type\" and \"rating\" column needs to be changed to categorical data\n",
    "*   \"United States\" is having the maximun content available.\n",
    "\n",
    "\n",
    "\n",
    "\n",
    "\n"
   ]
  },
  {
   "cell_type": "markdown",
   "metadata": {
    "id": "H69YI7NbL5gz"
   },
   "source": [
    "# ***Missing value detection***"
   ]
  },
  {
   "cell_type": "code",
   "execution_count": null,
   "metadata": {
    "colab": {
     "base_uri": "https://localhost:8080/"
    },
    "id": "Nvkw5gVdfuEr",
    "outputId": "b61d7f04-d127-4aa4-87d4-270e74725279"
   },
   "outputs": [],
   "source": [
    "df.isnull().sum() #checking count of null values per column."
   ]
  },
  {
   "cell_type": "markdown",
   "metadata": {
    "id": "FyG3wEctKXzj"
   },
   "source": [
    "\n",
    "*  Lot of missing data in director, cast and country columns as compared to others.\n",
    "\n",
    "\n"
   ]
  },
  {
   "cell_type": "code",
   "execution_count": null,
   "metadata": {
    "colab": {
     "base_uri": "https://localhost:8080/"
    },
    "id": "VCirPY0Ht7ns",
    "outputId": "f42f6fdb-9af4-45a7-ca33-e15be698ed60"
   },
   "outputs": [],
   "source": [
    "for col in df:\n",
    "  null_count = df[col].isnull().sum() / len(df) *100\n",
    "  print(col , \"-->\" ,null_count)"
   ]
  },
  {
   "cell_type": "markdown",
   "metadata": {
    "id": "ifSoMzd-u5l7"
   },
   "source": [
    "As we can we 30% of Director columns value are missing , we cant drop this much data. We will fill these columns with \"Unknown\" "
   ]
  },
  {
   "cell_type": "code",
   "execution_count": null,
   "metadata": {
    "id": "HetWLYmwfwJk"
   },
   "outputs": [],
   "source": [
    "df[[\"director\",\"cast\",\"country\"]] = df[[\"director\",\"cast\",\"country\"]].fillna(\"Unknown\") #Fillling up the missing values"
   ]
  },
  {
   "cell_type": "code",
   "execution_count": null,
   "metadata": {
    "colab": {
     "base_uri": "https://localhost:8080/"
    },
    "id": "zUlgW6ygfzRy",
    "outputId": "fd058b7e-e4fd-49c4-c63f-6c2035313afa"
   },
   "outputs": [],
   "source": [
    "df.isnull().sum()"
   ]
  },
  {
   "cell_type": "markdown",
   "metadata": {
    "id": "LfL8Na1PAP7q"
   },
   "source": [
    "We will drop these rows in which date added values are missing when we will do the analysis related to date added"
   ]
  },
  {
   "cell_type": "code",
   "execution_count": null,
   "metadata": {
    "colab": {
     "base_uri": "https://localhost:8080/"
    },
    "id": "726DPpCHf2nb",
    "outputId": "43a6c7c2-6958-4d5e-b6eb-00f139377624"
   },
   "outputs": [],
   "source": [
    "df[\"rating\"].value_counts() #checking unique values in rating columns."
   ]
  },
  {
   "cell_type": "markdown",
   "metadata": {
    "id": "Upn5EZv5C75Y"
   },
   "source": [
    "As we can clearly see that last three values of rating should be in duration columns. "
   ]
  },
  {
   "cell_type": "markdown",
   "metadata": {
    "id": "aHZX_ax2MBZS"
   },
   "source": [
    "***Shifting of data to the right columns***"
   ]
  },
  {
   "cell_type": "code",
   "execution_count": null,
   "metadata": {
    "id": "GD0wsBVrf6jI"
   },
   "outputs": [],
   "source": [
    "df.loc[(df[\"rating\"] == \"74 min\") | (df[\"rating\"] == \"84 min\") | (df[\"rating\"] == \"66 min\")]\n",
    "df[\"duration\"][[5541,5794,5813]] = df[\"rating\"][[5541,5794,5813]]\n",
    "df[\"rating\"][[5541,5794,5813]] = \"Nan\""
   ]
  },
  {
   "cell_type": "code",
   "execution_count": null,
   "metadata": {
    "colab": {
     "base_uri": "https://localhost:8080/"
    },
    "id": "o7gN5TuLgEvy",
    "outputId": "6a82fdca-3622-446b-f04c-8bc2958b7a2b"
   },
   "outputs": [],
   "source": [
    "df[\"rating\"].value_counts() #checking the count of each category. "
   ]
  },
  {
   "cell_type": "code",
   "execution_count": null,
   "metadata": {
    "id": "wx2Tr2K3gHg6"
   },
   "outputs": [],
   "source": [
    "#Conversion of categorical attributes to 'category' and 'datetime'\n",
    "# df[\"date_added\"] = pd.to_datetime(df[\"date_added\"])\n",
    "df =df.astype({\"type\" : \"category\", \"rating\" : \"category\"})"
   ]
  },
  {
   "cell_type": "markdown",
   "metadata": {
    "id": "27harNywNLtU"
   },
   "source": [
    "# ***Univariate Analysis***"
   ]
  },
  {
   "cell_type": "code",
   "execution_count": null,
   "metadata": {
    "id": "-x5zzrED6EB_"
   },
   "outputs": [],
   "source": [
    "df_datetime = df.copy()\n",
    "df_datetime['Year'] = df.date_added.dt.year  #adding new columns to the dataframe --> year , month , weekday\n",
    "df_datetime['month'] = df.date_added.dt.month\n",
    "df_datetime['day'] = df.date_added.dt.day_name()"
   ]
  },
  {
   "cell_type": "code",
   "execution_count": null,
   "metadata": {
    "colab": {
     "base_uri": "https://localhost:8080/",
     "height": 295
    },
    "id": "hioceQdkMzoS",
    "outputId": "6f87ae0a-965e-4983-88bc-6e5d8045a6f2"
   },
   "outputs": [],
   "source": [
    "sns.countplot(x = \"type\" , data = df_datetime) #countplot to count the no of movies and tv shows available.\n",
    "plt.title(\"No of movies and TV series\")\n",
    "plt.show()"
   ]
  },
  {
   "cell_type": "markdown",
   "metadata": {
    "id": "e38KzyZ_GOjW"
   },
   "source": [
    "Immense difference between the count of no of movies and TV show."
   ]
  },
  {
   "cell_type": "code",
   "execution_count": null,
   "metadata": {
    "colab": {
     "base_uri": "https://localhost:8080/",
     "height": 513
    },
    "id": "4d-zzCqwM5AP",
    "outputId": "7fbb95a4-c29b-40d8-c58b-864847d21d0a"
   },
   "outputs": [],
   "source": [
    "plt.figure(figsize=(20,8))\n",
    "duration_df = df.loc[df[\"duration\"].str.contains(\"min\")== True][\"duration\"].apply(lambda x: x.split()[0]).astype(int)  # splting the movies duration as its type is string , extracting the numeri value and converting it into int type\n",
    "plt.subplot(1,2,1) #subplots to make the data look easy for comparison.\n",
    "sns.boxplot(duration_df , color = \"maroon\")\n",
    "plt.title(\"Distribution of duration of movies\")\n",
    "duration_seson_df = df.loc[df[\"duration\"].str.contains(\"Season\")== True][\"duration\"].apply(lambda x: x.split()[0]).astype(int)\n",
    "plt.subplot(1,2,2)\n",
    "sns.boxplot(duration_seson_df , color = \"maroon\")\n",
    "plt.title(\"Distribution of no of seasons in TV show\")\n",
    "plt.show()"
   ]
  },
  {
   "cell_type": "markdown",
   "metadata": {
    "id": "4C9WstxDLZVd"
   },
   "source": [
    "**Conclusion** - \n",
    "*  Average duration of movies are around 100 min\n",
    "*  TV shows mostly are having 1 or 2 seasons.\n",
    "*  There are lot of outliers present in movies as compare to TV shows\n",
    "\n",
    "\n",
    "\n"
   ]
  },
  {
   "cell_type": "code",
   "execution_count": null,
   "metadata": {
    "colab": {
     "base_uri": "https://localhost:8080/",
     "height": 513
    },
    "id": "esDOH27PNDb9",
    "outputId": "ed485f5a-745e-433f-d765-9e89a44b9681"
   },
   "outputs": [],
   "source": [
    "df_TV_season = df.loc[df[\"duration\"].str.contains(\"Season\")== True , \"duration\" ].value_counts().reset_index()[:10]  #filtering out top 10 values of TV shows using string. \n",
    "df_TV_season.rename(columns = {\"index\" : \"No_of_seasons\" , \"duration\" : \"Count\"}, inplace = True) #renaming the columns \n",
    "plt.figure(figsize=(20,8))\n",
    "sns.barplot(y = \"No_of_seasons\" , x = \"Count\" , data = df_TV_season)\n",
    "plt.title(\"Count of TV shows with their no of season\")\n",
    "plt.show()"
   ]
  },
  {
   "cell_type": "markdown",
   "metadata": {
    "id": "eR3aeQxjYmmB"
   },
   "source": [
    "Mostly TV shows have only one season. "
   ]
  },
  {
   "cell_type": "markdown",
   "metadata": {
    "id": "mgVFTAxbNFxv"
   },
   "source": [
    "# ***Bivariate Analysis***"
   ]
  },
  {
   "cell_type": "code",
   "execution_count": null,
   "metadata": {
    "id": "FHJLmPT4gKTI"
   },
   "outputs": [],
   "source": [
    "df_datetime = pd.DataFrame(df)\n",
    "df_datetime['Year'] = df.date_added.dt.year\n",
    "df_datetime['month'] = df.date_added.dt.month \n",
    "df_datetime['day'] = df.date_added.dt.day_name()\n",
    "df_datetime_month = df_datetime.sort_values(by =\"month\")\n",
    "df_datetime_month['month_name'] = df.date_added.dt.month_name()"
   ]
  },
  {
   "cell_type": "markdown",
   "metadata": {
    "id": "Wk-qlT7tO6Ea"
   },
   "source": [
    "**Analysis of number of content added on Netflix over the period**"
   ]
  },
  {
   "cell_type": "code",
   "execution_count": null,
   "metadata": {
    "colab": {
     "base_uri": "https://localhost:8080/",
     "height": 514
    },
    "id": "7M5QweI3gS1r",
    "outputId": "33ff24b0-3422-40a1-ca85-a68e4a2b1407"
   },
   "outputs": [],
   "source": [
    "plt.figure(figsize=(20,8)) #defining fig size fot the graph image\n",
    "sns.countplot(x = \"month_name\" , data = df_datetime_month , hue = \"type\")\n",
    "plt.title(\"No of movies and TV series added monthwise\") #title name of the plot\n",
    "plt.legend(loc=(1.01,0.5))\n",
    "plt.show()"
   ]
  },
  {
   "cell_type": "markdown",
   "metadata": {
    "id": "0fJM45ZxY2n9"
   },
   "source": [
    "***Conclusion :-***\n",
    "*  July and December are the months when most content was added becasue no of TV shows durind these two months are maximum among all.\n",
    "*  No of movies added per month is greater then no of TV shows added per month.\n",
    "\n"
   ]
  },
  {
   "cell_type": "code",
   "execution_count": null,
   "metadata": {
    "colab": {
     "base_uri": "https://localhost:8080/",
     "height": 514
    },
    "id": "OYs7hDIZhwqJ",
    "outputId": "b293cd7f-5052-49b8-bd38-f03185e01315"
   },
   "outputs": [],
   "source": [
    "plt.figure(figsize=(20,8))\n",
    "df_year = df.loc[df['release_year']>2000] #used masked to get out data for movies and TV shows released after 2000\n",
    "sns.countplot(x='release_year', data = df_year, hue='type')\n",
    "plt.title(\"No of movies and TV series added yearwise\")\n",
    "plt.show()"
   ]
  },
  {
   "cell_type": "markdown",
   "metadata": {
    "id": "ttX6-J_TplAl"
   },
   "source": [
    "***Conclusion :-***\n",
    "\n",
    "\n",
    "*   In 2020 , maximum no. of TV shows are added followed by 2019 & 2021.\n",
    "*   More no of movies added on Netflix after \"2015\"\n",
    "*   We can see in 2021 count of movies add drop significanty  ,maybe due to COVID pandemic.\n",
    "\n",
    "\n",
    "\n"
   ]
  },
  {
   "cell_type": "code",
   "execution_count": null,
   "metadata": {
    "colab": {
     "base_uri": "https://localhost:8080/",
     "height": 513
    },
    "id": "HlnV26yyh7xT",
    "outputId": "5d8a31e8-4611-479e-bdff-1b0ebbecf631"
   },
   "outputs": [],
   "source": [
    "plt.figure(figsize=(15,8))\n",
    "sns.countplot(x = \"day\" , data = df_datetime , hue = \"type\" ,  order=[\"Monday\" , \"Tuesday\" , \"Wednesday\", \"Thursday\", \"Friday\", \"Saturday\" ,\"Sunday\"])\n",
    "plt.title(\"No of movies and TV series added daywise\")\n",
    "plt.show()"
   ]
  },
  {
   "cell_type": "markdown",
   "metadata": {
    "id": "1XWainsHvjcO"
   },
   "source": [
    "***Conclusion :-***  Most of the content added on netflix on \"Friday\" followed by Thursday as weekend appraches after these days.\n",
    "\n",
    "\n",
    "\n"
   ]
  },
  {
   "cell_type": "code",
   "execution_count": null,
   "metadata": {
    "colab": {
     "base_uri": "https://localhost:8080/",
     "height": 755
    },
    "id": "544g2k3jj_Dh",
    "outputId": "86f021e3-3694-4c13-daf6-1e8bb06b8b41"
   },
   "outputs": [],
   "source": [
    "print('PG-13 -----> Parental Guidance with Adult Themes[Parental Guidance]',\n",
    "'TV-MA -----> Mature Audience[Only for Adults]',\n",
    "'PG -----> Parental Guidance without Adult Themes[Parental Guidance]',\n",
    "'TV-14 -----> Contents with Parents strongly cautioned.',\n",
    "'TV-PG -----> Parental guide suggested[Parental Guidance]',\n",
    "'TV-Y -----> Children suited content[General Audience & Kids]',\n",
    "'TV-Y7 -----> Children of age 7 and older[General Audience & Kids]',\n",
    "'R -----> Strictly for Adults[Only for Adults]',\n",
    "'TV-G -----> Suitable for all audiences[General Audience & Kids]',\n",
    "'G -----> General Audience films[General Audience & Kids]',\n",
    "'NC-17 -----> No one seventeen and under admitted[Only for Adults]',\n",
    "'NR -----> Not rated movies[Not Rated]',\n",
    "'TV-Y7-FV -----> Children of age 7 and older with fantasy violence[General Audience & Kids]',\n",
    "'UR -----> recut version of rated movie[Not Rated]', sep = '\\n')\n",
    "\n",
    "df_rating = df[df[\"rating\"].isnull()== False]\n",
    "df_rating.reset_index(inplace = True)\n",
    "plt.figure(figsize=(20,8))\n",
    "sns.countplot(x =\"rating\" , data = df_rating , hue = \"type\")\n",
    "plt.show()"
   ]
  },
  {
   "cell_type": "markdown",
   "metadata": {
    "id": "r3ivMnt2wtTM"
   },
   "source": [
    "# Conclusion :-\n",
    "*  Mostly TV shows and movies are belongs to TV-MA & TV-14 rating.  \n",
    "*  Mostly content available on netflix is for adults and teenagers.\n",
    "\n"
   ]
  },
  {
   "cell_type": "code",
   "execution_count": null,
   "metadata": {
    "colab": {
     "base_uri": "https://localhost:8080/",
     "height": 405
    },
    "id": "m6j1B1SakOBJ",
    "outputId": "fdc7e4f6-5d3b-4a7d-976f-3c96bb1d6a62"
   },
   "outputs": [],
   "source": [
    "df_yearwise_trend = pd.DataFrame(df.groupby(\"release_year\")[\"type\"].value_counts())  #grouping of the content by year forr movies and TV shows\n",
    "df_yearwise_trend.reset_index(inplace = True)\n",
    "df_content_count =df_yearwise_trend.pivot(index = \"release_year\",\n",
    "                        columns = \"level_1\",\n",
    "                        values =\"type\")\n",
    "df_content_count.reset_index(inplace = True)\n",
    "plt.figure(figsize=(14,6))\n",
    "sns.lineplot(x = \"release_year\" , y = \"type\" , data = df_yearwise_trend , hue = \"level_1\")\n",
    "plt.xticks(np.arange(1940,2025,10))\n",
    "plt.title(\"Distribun of Conted added over year\")\n",
    "plt.show()"
   ]
  },
  {
   "cell_type": "markdown",
   "metadata": {
    "id": "fvoNZZg54qrz"
   },
   "source": [
    "# **Conclusion :-**\n",
    "\n",
    "\n",
    "\n",
    "*   In 2020 , maximum no. of TV shows are added followed by 2019 & 2021.\n",
    "*   More no of movies added on Netflix after \"2015\"\n",
    "*   We can see in 2021 count of movies add drop significanty ,maybe due to COVID pandemic.\n",
    "\n",
    "\n",
    "\n",
    "\n",
    "\n",
    "\n",
    "\n",
    "\n"
   ]
  },
  {
   "cell_type": "code",
   "execution_count": null,
   "metadata": {
    "colab": {
     "base_uri": "https://localhost:8080/",
     "height": 404
    },
    "id": "eZib7ntgkv6d",
    "outputId": "53a87d94-c101-46d2-8514-ed5c866f61d4"
   },
   "outputs": [],
   "source": [
    "plt.figure(figsize=(14,6))\n",
    "movies_ratingwise = df.loc[df[\"type\"] == \"Movie\" , [\"type\" , \"rating\"]]\n",
    "sns.countplot( y=\"rating\" , data =movies_ratingwise,  palette=\"Blues_d\" )\n",
    "plt.title(\"Movies distribution rating wise\")\n",
    "plt.show()"
   ]
  },
  {
   "cell_type": "markdown",
   "metadata": {
    "id": "1_H2rihAM2nf"
   },
   "source": [
    "**Conclusion** : Mostly movies are belongs to TV-MA & TV-14 rating."
   ]
  },
  {
   "cell_type": "code",
   "execution_count": null,
   "metadata": {
    "colab": {
     "base_uri": "https://localhost:8080/",
     "height": 388
    },
    "id": "lVTuiAoMk7O5",
    "outputId": "a63ef0d8-262d-490d-c1e6-37f5556c460b"
   },
   "outputs": [],
   "source": [
    "plt.figure(figsize=(14,6))\n",
    "movies_ratingwise = df.loc[df[\"type\"] == \"TV Show\" , [\"type\" , \"rating\"]]\n",
    "sns.countplot( y=\"rating\" , data =movies_ratingwise,  palette=\"Blues_d\" )\n",
    "plt.title(\"TV Shows distribution rating wise\")\n",
    "plt.show()"
   ]
  },
  {
   "cell_type": "markdown",
   "metadata": {
    "id": "jt7MQF1AaMvq"
   },
   "source": [
    "**Conclusion** :- Mostly TV Shows are belongs to TV-MA & TV-14 rating."
   ]
  },
  {
   "cell_type": "code",
   "execution_count": null,
   "metadata": {
    "colab": {
     "base_uri": "https://localhost:8080/",
     "height": 392
    },
    "id": "HID8Ipkale1p",
    "outputId": "f5405bbe-cf08-4ac3-a947-996a808a2132"
   },
   "outputs": [],
   "source": [
    "director = df[\"director\"].apply(lambda x : str(x).split(\", \")).tolist()  #exploding the nested data in directors column.\n",
    "df_director = pd.DataFrame(director, index = df[\"title\"])\n",
    "df_director= df_director.stack()\n",
    "df_director = df_director.reset_index()\n",
    "df_director.drop(columns =\"level_1\" , inplace = True) #droping the columns \n",
    "df_director.columns = [\"title\" , \"director\"] #renaming the columns\n",
    "df_fav_director = df.merge(df_director , on = \"title\" ) #merging of the dataframes\n",
    "df_fav_director.head(4)"
   ]
  },
  {
   "cell_type": "code",
   "execution_count": null,
   "metadata": {
    "id": "u-7VxIFenEqK"
   },
   "outputs": [],
   "source": [
    "#exploding country column\n",
    "country = df[\"country\"].apply(lambda x: str(x).split(\", \")).tolist() #exploding the country column\n",
    "df_country = pd.DataFrame(country, index = df[\"title\"])\n",
    "df_country = df_country.stack()\n",
    "df_country = df_country.reset_index()\n",
    "df_country.drop(columns = \"level_1\" , inplace = True)\n",
    "df_country.columns = [\"title\" , \"country\"]"
   ]
  },
  {
   "cell_type": "code",
   "execution_count": null,
   "metadata": {
    "colab": {
     "base_uri": "https://localhost:8080/",
     "height": 513
    },
    "id": "4naGlU9Te5fH",
    "outputId": "c9a7b3c3-ffbc-4707-88c6-61f2ba12902e"
   },
   "outputs": [],
   "source": [
    "Country_wise_trend = df.merge(df_country , on = \"title\") #making new dataframe by merfing df_country and original dataframe.\n",
    "Country_wise_trend.drop(columns = \"country_x\" , inplace = True)\n",
    "Country_wise_trend.rename(columns = {\"country_y\" : \"country\"}, inplace = True)\n",
    "Country_wise_trend = Country_wise_trend.loc[Country_wise_trend[\"country\"] != \"Unknown\"]\n",
    "top10_country = Country_wise_trend[\"country\"].value_counts().head(10).reset_index()\n",
    "top10_country.rename(columns = {\"index\" :\"country\" , \"country\" : \"count\"}, inplace = True)\n",
    "Country_wise_trend = Country_wise_trend.merge(top10_country, how = \"inner\" , on = \"country\")\n",
    "plt.figure(figsize = (15,8))\n",
    "sns.countplot(x =\"country\" , data =Country_wise_trend , hue = \"type\" )\n",
    "plt.title(\"Count of movies and TV shows countrywise\")\n",
    "plt.show()"
   ]
  },
  {
   "cell_type": "markdown",
   "metadata": {
    "id": "9a18w0r9ioPG"
   },
   "source": [
    "# **Conclusion :-** \n",
    "\n",
    "\n",
    "*   Netflix should target to add more movies in Unites states and India as compare to TV Series. \n",
    "*   Netflix should target to add more TV shows in Japan and South Korea. \n",
    "\n",
    "\n",
    "\n"
   ]
  },
  {
   "cell_type": "code",
   "execution_count": null,
   "metadata": {
    "colab": {
     "base_uri": "https://localhost:8080/",
     "height": 206
    },
    "id": "2cmQxc9i9bZ9",
    "outputId": "7a329776-732c-424e-cc10-9fdbc1f7aee1"
   },
   "outputs": [],
   "source": [
    "#exploding listed_in column\n",
    "listed_in = df[\"listed_in\"].apply(lambda x: str(x).split(\", \")).tolist()\n",
    "df_genre = pd.DataFrame(listed_in, index = df[\"title\"])\n",
    "df_genre = df_genre.stack()\n",
    "df_genre = df_genre.reset_index()\n",
    "df_genre.drop(columns = \"level_1\" , inplace = True)\n",
    "df_genre.columns = [\"title\" , \"genre\"]\n",
    "df_genre.head()"
   ]
  },
  {
   "cell_type": "code",
   "execution_count": null,
   "metadata": {
    "colab": {
     "base_uri": "https://localhost:8080/",
     "height": 621
    },
    "id": "v2GhHUNmkzso",
    "outputId": "6651aa2b-4da8-4bcf-c7b9-48926f0fb5fb"
   },
   "outputs": [],
   "source": [
    "plt.figure(figsize = (18,10))\n",
    "sns.countplot(y = \"genre\" , data =df_genre )\n",
    "plt.title(\"Ditribution of conent Rating_wise\")\n",
    "plt.show()"
   ]
  },
  {
   "cell_type": "markdown",
   "metadata": {
    "id": "DOKt6tYxmjI8"
   },
   "source": [
    "Most appearing category in netflix movies and TV shows are:-\n",
    "*   International Movies\n",
    "*   Dramas\n",
    "*   Comedies\n",
    "*   International TV show\n",
    "\n",
    "\n",
    "\n"
   ]
  },
  {
   "cell_type": "markdown",
   "metadata": {
    "id": "SB3v_qFRNZIx"
   },
   "source": [
    "# ***Non-Graphical Analysis***"
   ]
  },
  {
   "cell_type": "code",
   "execution_count": null,
   "metadata": {
    "colab": {
     "base_uri": "https://localhost:8080/",
     "height": 476
    },
    "id": "PB9y-175nFfC",
    "outputId": "7f695e14-f3a8-41da-d10c-997bc10b0dd3"
   },
   "outputs": [],
   "source": [
    "director_countrywise= df_fav_director.merge(df_country , on = \"title\")\n",
    "director_countrywise= director_countrywise.drop(columns = [\"director_x\" , \"country_x\" ])\n",
    "director_countrywise.rename(columns = {\"director_y\": \"director\" , \"country_y\" : \"country\"}, inplace = True)\n",
    "director_countrywise = director_countrywise.loc[director_countrywise[\"director\"] != \"Unknown\"]\n",
    "director_countrywise.reset_index(inplace= True)\n",
    "director_countrywise.head()"
   ]
  },
  {
   "cell_type": "code",
   "execution_count": null,
   "metadata": {
    "colab": {
     "base_uri": "https://localhost:8080/"
    },
    "id": "k0F6oVNEnLsI",
    "outputId": "77983c50-7a45-4ad2-8225-5269daec9031"
   },
   "outputs": [],
   "source": [
    "country = director_countrywise['country'].value_counts()[:6].index.tolist()\n",
    "print(' Top 2 Directors of Top 5 Countries')\n",
    "print('\\n')\n",
    "for val in country:\n",
    "  if val != 'Unknown':\n",
    "    print(f'**{val}**')\n",
    "    print(director_countrywise.loc[director_countrywise['country']==val, 'director'].value_counts()[:2])\n",
    "    print('\\n')"
   ]
  },
  {
   "cell_type": "markdown",
   "metadata": {
    "id": "ga_9SK73NuD8"
   },
   "source": [
    "Conclusion :\n",
    "*   Anurag Kashyap and David Dhawan are the most famous directors for Inida. \n",
    "*  Jay Karas and Marcus Raboyare the most famous directors in United States.\n",
    "\n"
   ]
  },
  {
   "cell_type": "code",
   "execution_count": null,
   "metadata": {
    "colab": {
     "base_uri": "https://localhost:8080/"
    },
    "id": "Xed69aqznP--",
    "outputId": "053b3470-a63d-4587-9376-c3f7c5c9fb83"
   },
   "outputs": [],
   "source": [
    "director_countrywise[\"director\"].value_counts().head(3)"
   ]
  },
  {
   "cell_type": "markdown",
   "metadata": {
    "id": "aenqtvCMOf2B"
   },
   "source": [
    "Conclusion : \"Rajiv Chilaka\" is the most famous director among all followed by Jan Suter"
   ]
  },
  {
   "cell_type": "code",
   "execution_count": null,
   "metadata": {
    "id": "LOu1-zNoniXk"
   },
   "outputs": [],
   "source": [
    "#exploding cast column\n",
    "cast = df[\"cast\"].apply(lambda x : str(x).split(\", \")).tolist()\n",
    "df_cast = pd.DataFrame(cast,  index = df[\"title\"])\n",
    "df_cast = df_cast.stack()\n",
    "df_cast = df_cast.reset_index()\n",
    "df_cast.drop(columns = \"level_1\" , inplace = True)\n",
    "df_cast.columns = [\"title\" , \"cast\"]\n",
    "df_fav_cast = df.merge(df_cast , on = \"title\" )"
   ]
  },
  {
   "cell_type": "code",
   "execution_count": null,
   "metadata": {
    "colab": {
     "base_uri": "https://localhost:8080/",
     "height": 337
    },
    "id": "tMQpNvfPnrIU",
    "outputId": "fd308242-f9fd-4f19-9fb3-4a6e0ae1ee5e"
   },
   "outputs": [],
   "source": [
    "cast_countrywise= df_fav_cast.merge(df_country , on = \"title\")\n",
    "cast_countrywise= cast_countrywise.drop(columns = [\"cast_x\" , \"country_x\"])\n",
    "cast_countrywise = cast_countrywise.rename(columns = {\"cast_y\" : \"cast\" , \"country_y\" : \"country\"})\n",
    "cast_countrywise = cast_countrywise.loc[cast_countrywise[\"cast\"] != \"Unknown\"].reset_index() #making new dataframe by dropping all rows whose cast is unknown and then resetting the index..00\n",
    "cast_countrywise.head()"
   ]
  },
  {
   "cell_type": "code",
   "execution_count": null,
   "metadata": {
    "colab": {
     "base_uri": "https://localhost:8080/"
    },
    "id": "f7rXwL5bnr_j",
    "outputId": "b3d6f8bd-06e8-4a07-d377-e9f314c79360"
   },
   "outputs": [],
   "source": [
    "country_actor = cast_countrywise['country'].value_counts()[:6].index.tolist()\n",
    "print(' Top 2 Actors of Top 5 Countries')\n",
    "print('\\n')\n",
    "for val in country:\n",
    "  if val != 'Unknown':\n",
    "    print(f'--{val}--')\n",
    "    print(cast_countrywise.loc[cast_countrywise['country']==val, 'cast'].value_counts()[:2])\n",
    "    print('\\n')"
   ]
  },
  {
   "cell_type": "markdown",
   "metadata": {
    "id": "6SC89aROalag"
   },
   "source": [
    "**Conclusion :-**\n",
    "\n",
    "*   These are the top two cast of these countires.\n",
    "*   Netflix has added more content for India in which cast are- Anupam Kher or Shah Rukh Khan.\n",
    "\n"
   ]
  },
  {
   "cell_type": "code",
   "execution_count": null,
   "metadata": {
    "colab": {
     "base_uri": "https://localhost:8080/"
    },
    "id": "QoDO3TS2bNF2",
    "outputId": "f290a054-5cbb-4b17-a31e-21f135185f5f"
   },
   "outputs": [],
   "source": [
    "cast_countrywise[\"cast\"].value_counts().head(5) #value_counts of the cast columns to get the most famous actors"
   ]
  },
  {
   "cell_type": "markdown",
   "metadata": {
    "id": "qsbeUjThbrNS"
   },
   "source": [
    "These are the top five actors and most famous actor belongs to India. "
   ]
  },
  {
   "cell_type": "markdown",
   "metadata": {
    "id": "7U4tTd9GNlaO"
   },
   "source": [
    "# ***Heatmap***"
   ]
  },
  {
   "cell_type": "code",
   "execution_count": null,
   "metadata": {
    "id": "Ho2xVexuyNBY"
   },
   "outputs": [],
   "source": [
    "df_trend_country = df.merge(df_country , on = \"title\")\n",
    "df_trend_country.drop(columns = \"country_x\" , inplace = True)\n",
    "df_trend_country.rename(columns = {\"country_y\":\"country\"}, inplace = True)"
   ]
  },
  {
   "cell_type": "code",
   "execution_count": null,
   "metadata": {
    "id": "VQwpJcrE9UND"
   },
   "outputs": [],
   "source": [
    "temp = df_trend_country['country'].value_counts()[:11].reset_index()\n",
    "temp.rename(columns = {'index':'country', 'country':'count'}, inplace=True)\n",
    "country_list = temp['country'].tolist()\n",
    "df_top10country = df_trend_country.loc[df_trend_country['country'].isin(country_list)]\n",
    "df_top10country = df_top10country.loc[df_top10country[\"country\"]!=\"Unknown\"] #dropping of rows whose value is unknown."
   ]
  },
  {
   "cell_type": "code",
   "execution_count": null,
   "metadata": {
    "colab": {
     "base_uri": "https://localhost:8080/",
     "height": 514
    },
    "id": "qby0Wv-y9Un7",
    "outputId": "f5457ea7-e84c-41a8-9d7e-4fa0f699b54d"
   },
   "outputs": [],
   "source": [
    "heat_rating = df_top10country.groupby(\"country\")[\"rating\"].value_counts().reset_index()\n",
    "heat_rating = heat_rating.pivot(\"country\" , \"level_1\" , \"rating\")\n",
    "plt.figure(figsize = (12,8))\n",
    "sns.heatmap(heat_rating, annot = True,  cmap=\"Blues\", fmt = \"d\")\n",
    "plt.title(\"Ditribution of content availble in differnt countires rating wise\")\n",
    "plt.show()\n"
   ]
  },
  {
   "cell_type": "markdown",
   "metadata": {
    "id": "poqJ519Ncy49"
   },
   "source": [
    "**Conclusion :-**\n",
    "\n",
    "* Top 10 countries are having most content that belongs to TV-MA (Adults \n",
    "Category)\n",
    "* India and United States are having large content in TV-14 category. \n",
    "* United Kingdom and United States are having large content in R category. "
   ]
  },
  {
   "cell_type": "code",
   "execution_count": null,
   "metadata": {
    "colab": {
     "base_uri": "https://localhost:8080/",
     "height": 493
    },
    "id": "OxET1BDlG53E",
    "outputId": "3d9d5d7f-c40c-40c8-bc8b-4e0c88f9beda"
   },
   "outputs": [],
   "source": [
    "genre_country_df= df_trend_country.merge(df_genre , on= \"title\")\n",
    "genre_country_df.head(5)"
   ]
  },
  {
   "cell_type": "code",
   "execution_count": null,
   "metadata": {
    "colab": {
     "base_uri": "https://localhost:8080/",
     "height": 493
    },
    "id": "IziYfFRvHCIc",
    "outputId": "8f98e687-8ad2-49e7-a637-cb1520cbb00b"
   },
   "outputs": [],
   "source": [
    "temp_genre = genre_country_df['genre'].value_counts()[:10].reset_index()\n",
    "temp_genre.rename(columns = {'index':'genre', 'genre':'count'}, inplace=True)\n",
    "genre_list = temp_genre['genre'].tolist()\n",
    "df_top10_genre = genre_country_df.loc[genre_country_df['genre'].isin(genre_list)]\n",
    "df_top10_genre.head()"
   ]
  },
  {
   "cell_type": "code",
   "execution_count": null,
   "metadata": {
    "colab": {
     "base_uri": "https://localhost:8080/",
     "height": 583
    },
    "id": "PWiDmVvfHFJW",
    "outputId": "fd24c728-138a-453d-fe90-f34ecec98810"
   },
   "outputs": [],
   "source": [
    "df_top10_genre = df_top10_genre.loc[df_top10_genre[\"country\"] != \"Unknown\"]\n",
    "df_top10_genre[\"country\"].value_counts()[:10]\n",
    "\n",
    "temp_c = df_top10_genre[\"country\"].value_counts()[:10].reset_index()\n",
    "temp_c.rename(columns = {'index':'country', 'country':'count'}, inplace=True)\n",
    "country_list = temp_c[\"country\"].tolist()\n",
    "df_top10_genre_countrywise = df_top10_genre.loc[df_top10_genre['country'].isin(country_list)]\n",
    "df_top10_genre_countrywise.head()\n",
    "\n",
    "heat_genre= pd.DataFrame(df_top10_genre_countrywise.groupby(\"genre\")[\"country\"].value_counts())\n",
    "heat_genre.rename(columns = {\"country\" : \"count\"}, inplace = True)\n",
    "heat_genre.reset_index(inplace = True)\n",
    "heat_genre_final = heat_genre.pivot(\"genre\" , \"country\" , \"count\")\n",
    "plt.figure(figsize = (12,8))\n",
    "sns.heatmap(heat_genre_final , annot = True,  cmap=\"Blues\", fmt = \"d\")\n",
    "plt.title(\"Top 10 genre of 10 differnt countries\")\n",
    "plt.show()"
   ]
  },
  {
   "cell_type": "markdown",
   "metadata": {
    "id": "AQ0CBTR8gtkm"
   },
   "source": [
    "**Conclusion** :-\n",
    "*  For India, netflix should add more content of genre International movies , Comedies and Dramas.\n",
    "* For United States , Netflix should add more content of genre Dramas and Comedy.\n",
    "* For Canada, Netflix should add more content of genre Dramas & Children and family movies.\n"
   ]
  },
  {
   "cell_type": "markdown",
   "metadata": {
    "id": "QF1chtZRP-YH"
   },
   "source": [
    "# **Summary :-**\n",
    "\n",
    "\n",
    "*   Netflix added more movies as compare to TV shows\n",
    "*   Content for United States on netflix is maximum as compare to other countries. \n",
    "*   Netflix content is mostly availabe for adults only \n",
    "*   Most popular genres in recent years are International movies, Dramas, Comedies, International TV Shows and Action & Adventure.\n",
    "* In 2021 , there is significant amount of drop in content added due to COVID pandemic.\n",
    "*Most of viewers of Netflix is from United States followed by India & United Kingdom\n",
    "\n",
    "**Movies:-**\n",
    "* In United States , India and United kingdom movies are more popular as comapre to other countires \n",
    "* Almost same no. of movies are added on netflix every month.\n",
    "* Mostly movies are of \"100 min\" duration.\n",
    "* Top people casted in Movies are from India.\n",
    "* \"Rajiv Chilakaa\" is the most famous director among all. \n",
    "\n",
    "**TV Shows :-**\n",
    "* TV Shows mostly are having season 1 and season 2 respectively. \n",
    "* For Japan and South Korea, netflix should focus more on TV showes as compare to movies \n"
   ]
  },
  {
   "cell_type": "markdown",
   "metadata": {
    "id": "4l2rPkj6ipUO"
   },
   "source": [
    "**Recommendations** : \n",
    "\n",
    "*Movies* :- \n",
    "* Preferd movies duration is between 90-100 minutes. \n",
    "* Netflix should add more movies for United States and India falling in category of Internation movies and comedies\n",
    "* Netflix should add more movies for United States and India having rating of TV-MA & TV-14. \n",
    "* Top three countries where movies added are United States, India & United Kingdom.\n",
    "*  Netflix shoud add TV Show on Friday than any other weekday.\n",
    "\n",
    "*TV Show*:- \n",
    "* Preferd movies duration is 1-2 seeasons.\n",
    "* Netflix should focus on countries like Japan, South Korea and France in TV shows , as they prefer TV shows over movies. \n",
    "* Netflix shoud add TV Show on Friday than other weekday.\n",
    "* As per 2021 data, count of TV showes are more than movies , this means people wants more web-series as they have for leisure time may be due to work from home scenario. \n"
   ]
  }
 ],
 "metadata": {
  "colab": {
   "provenance": []
  },
  "kernelspec": {
   "display_name": "Python 3 (ipykernel)",
   "language": "python",
   "name": "python3"
  },
  "language_info": {
   "codemirror_mode": {
    "name": "ipython",
    "version": 3
   },
   "file_extension": ".py",
   "mimetype": "text/x-python",
   "name": "python",
   "nbconvert_exporter": "python",
   "pygments_lexer": "ipython3",
   "version": "3.10.9"
  }
 },
 "nbformat": 4,
 "nbformat_minor": 1
}
