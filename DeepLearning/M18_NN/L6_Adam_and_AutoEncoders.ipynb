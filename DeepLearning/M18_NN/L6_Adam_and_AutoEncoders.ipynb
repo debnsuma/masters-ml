{
 "cells": [
  {
   "cell_type": "markdown",
   "metadata": {
    "id": "TJZ-3vAUjCBO"
   },
   "source": [
    "**Content**\n",
    "\n",
    "1.   ADAM (Adaptive Moment Estimation) Optimizer.\n",
    "2.   Weight Initialization.\n",
    "3.   Auto Encoders (AE):\n",
    "     - Dimensionality Reduction using AE.\n",
    "     - Denoising AE.\n",
    "     - Misc."
   ]
  },
  {
   "cell_type": "markdown",
   "metadata": {
    "id": "LpGMJxaGWzJS"
   },
   "source": [
    "### ADAM (Adaptive Moment Estimation) Optimizer:"
   ]
  },
  {
   "cell_type": "markdown",
   "metadata": {
    "id": "t7gpnlOcVPUg"
   },
   "source": [
    "There are a lot of optimizers available for DL. The most popular and widely used algorithm is ADAM. So we will deep-dive into ADAM optimizer."
   ]
  },
  {
   "cell_type": "markdown",
   "metadata": {
    "id": "pxmFMMerUzui"
   },
   "source": [
    "#### Quick Recap: Stochastic Gradient Descent (SGD)"
   ]
  },
  {
   "cell_type": "markdown",
   "metadata": {
    "id": "cJkTSWHyxKnS"
   },
   "source": [
    "Let's understand working of Stochastic Gradient Descent.\n",
    "\n",
    "- Imagine we have a mini-batch SGD. In each iteration, we take random subset of $k$ points.\n",
    "- GD update is computed as:\n",
    "$$w^k_{ij_{new}} = w^k_{ij_{old}} - \\eta \\frac{\\partial L}{\\partial w^k_{ij}} \\bigg|_{old}$$\n",
    "for $t$ such iterations and $\\eta$ = learning rate.\n",
    "  <img src='https://drive.google.com/uc?id=1nodMadzHegJvUKusWjOjCI4pIvwPCq75'>\n",
    "- In mini-batch, we compute these derivates in back propogation.\n",
    "- Rather than doing it for all $n$ points, we estimate it for batch of $k$ points.\n"
   ]
  },
  {
   "cell_type": "markdown",
   "metadata": {
    "id": "KQBWG-IN0E1D"
   },
   "source": [
    "#### Motivation behind ADAM:"
   ]
  },
  {
   "cell_type": "markdown",
   "metadata": {
    "id": "qj93p4RhwIE3"
   },
   "source": [
    "- Imagine we have a contour plot of weights ($w_1$, $w_2$) as shown below plotted against $Loss$. This looks like a paraboloid.\n",
    "  <img src='https://drive.google.com/uc?id=1fKMFK2ZokNH5JINA2-ssYv7LsCfsStKy'>\n"
   ]
  },
  {
   "cell_type": "markdown",
   "metadata": {
    "id": "YsPgNM0Iw-oG"
   },
   "source": [
    "- Initially, the weights ($w_1$, $w_2)$ are initialized randomly and we want to move towards minima.\n",
    "  <img src='https://drive.google.com/uc?id=11iUh7u1f8BiRLigLC_tzE4YSgqJAEmtL'>\n",
    "- In GD if we have to compute Loss for all $n$ points, we will move perfectly/gradually towards minima. We will move $\\perp$ to contour towards minima.\n",
    "- But in reality, we may not be able to do GD. So, we often do mini batch SGD with $k$ points. Then the derivative we have is not perfect, but an approximation $\\frac{\\partial \\hat{L}}{\\partial w^k_{ij}} \\bigg|_{old}$\n"
   ]
  },
  {
   "cell_type": "markdown",
   "metadata": {
    "id": "qZpdiuxEwfyI"
   },
   "source": [
    "- In SGD, it will not move $\\perp$ to contour. It will keep juggling around an eventually move to minima.\n",
    "  <img src='https://drive.google.com/uc?id=1G3GW--bBaoYFqaSLYH1ds2dgjeQ0rbRj'>"
   ]
  },
  {
   "cell_type": "markdown",
   "metadata": {
    "id": "B2fehUZC4Auw"
   },
   "source": [
    "#### Momentum:"
   ]
  },
  {
   "cell_type": "markdown",
   "metadata": {
    "id": "KuoIIXXk3n_S"
   },
   "source": [
    "- There is an interesting concept behind Momentum.  \n",
    "  <img src='https://drive.google.com/uc?id=1OW28zRiZk0ONVZf3U-Md_ZqUmm2gPsot'>\n",
    "- Imagine we have contour like shown in the figure above. The mini-batch gradient descent will eventually take me to minima as shown.\n",
    "- Let say, we have 100 iterations. $t: 1 \\to 100$.\n",
    "- Idea of momentum is that every step $t$, (for simplicity, we will refer to $\\frac{\\partial \\hat{L}}{\\partial w^k_{ij}} \\bigg|_{old}$ as $g_t$ @ iteration $t$).\n",
    "- In each iteration, we have gradient $g_1, g_2,...g_t$."
   ]
  },
  {
   "cell_type": "markdown",
   "metadata": {
    "id": "RDycI4As3oF3"
   },
   "source": [
    "- In SGD, $w_{new}$ is computed as $w_{old} - \\eta* g_t$ for $t: 1 \\to 1000$.\n",
    "  <img src='https://drive.google.com/uc?id=1dLVyY7QCZHd1wOuuzeYC5kanq0Z-e4bM'>\n",
    "- So idea is can we somehow use past information about gradients $(g_1, g_2,...g_{t-1})$ to better update and faster update as they direct towards minima.\n"
   ]
  },
  {
   "cell_type": "markdown",
   "metadata": {
    "id": "Kwn0m7YU3oLD"
   },
   "source": [
    "- Let say, we have gradients $g_1, g_2..g_5$ computed and now we want to compute $g_6$. Now that know information about $g_1, g_2..g_5$ we know its net direction.\n",
    "  <img src='https://drive.google.com/uc?id=1nofueiCTlefRILnKqO-LYT72ihi7n_n1'>\n",
    "- So now, rather than moving in some random direction, we can move towards minima in a better and faster manner.\n",
    "- We can say that we are using some sort of weighted average of previous gradients."
   ]
  },
  {
   "cell_type": "markdown",
   "metadata": {
    "id": "Oqh5nPTh6xCc"
   },
   "source": [
    "***Question:*** How we get direction because we get only numerical values?\n",
    "\n",
    "***Answer:*** No, its just an intuition we are building."
   ]
  },
  {
   "cell_type": "markdown",
   "metadata": {
    "id": "3vlpcBMf7TTS"
   },
   "source": [
    "#### First Lesson Learned:"
   ]
  },
  {
   "cell_type": "markdown",
   "metadata": {
    "id": "CX7xM-W83M37"
   },
   "source": [
    "*Momentum speeds up convergence*\n",
    "\n",
    "- Older gradients $(g_1, g_2, ..g_{t-1})$ along with $g_t$(with higher weightage to $g_t$) are used.\n",
    "  <img src='https://drive.google.com/uc?id=1MQWL_V8s9A76tAdW_W8f46n3-Bb5CbmD'>\n",
    "- This is done using exponential weightage average (EWA). This concept is called $Momentum$.\n",
    "- So while computing $g_6$, we are using $(g_1,..g_5)$. The momentum is used to move towards minima, which we are using to move faster in that direction.\n",
    "- Using momentum, it speeds up convergence.\n",
    "\n"
   ]
  },
  {
   "cell_type": "markdown",
   "metadata": {
    "id": "PFQPhxhp8hH5"
   },
   "source": [
    "***Question:*** Is my understanding correct -  Each of the $g_t$ is calculated on a different minibatch of size $k$, so each of the $g_t$'s will provide a different estimate of the same population gradient? Which we then aggregate to get estimate of overall gradient.\n",
    "\n",
    "***Answer:*** $g_2$ is computed using $g_1$. So for each $g_t$, batch is changing and old $g_t$ is changing."
   ]
  },
  {
   "cell_type": "markdown",
   "metadata": {
    "id": "mWPsFcsD9Fui"
   },
   "source": [
    "#### What is Saddle point:"
   ]
  },
  {
   "cell_type": "markdown",
   "metadata": {
    "id": "vhdRYVNKwaqJ"
   },
   "source": [
    "- Imagine  we are at a Saddle point. We have $w_1$, $w_2$ as shown in diagram.\n",
    "  <img src='https://drive.google.com/uc?id=1AR7rp3Fj8P1yS0G1jL0Rfh_De45noL37'>\n",
    "- Momentum helps us to get out of saddle point.\n",
    "- But the question would be, how to determine if you are at saddle point?"
   ]
  },
  {
   "cell_type": "markdown",
   "metadata": {
    "id": "iXp37mOLwoEB"
   },
   "source": [
    "- We can do higher order derivatives, test. But there is a simpler solution.\n",
    "  <img src='https://drive.google.com/uc?id=1tvcvOKnBo0_qNp-M-XaCMT5JtXz3U_Ln'>\n",
    "- Let say, we have $(w^{10}_1, w^{10}_2)$, where derivative becomes 0. Hack here is to add small random delta $(\\delta_1, \\delta_2)$ and we do it few times.\n",
    "- If we observe output of $f(w_1, w_2)$ less than minima, it means that we have maxima on one dimension and minima on another. This implies that we are at Saddle point."
   ]
  },
  {
   "cell_type": "markdown",
   "metadata": {
    "id": "zFoZObNP-0Gt"
   },
   "source": [
    "***Question:*** So while calculating $W_{ij}$ we give less weightage to other gradients and more weightage to new $g_t$ and then we aggregate?\n",
    "\n",
    "***Answer:*** Yes, that is correct. This is known as EWA."
   ]
  },
  {
   "cell_type": "markdown",
   "metadata": {
    "id": "gzMjjrtr_BNI"
   },
   "source": [
    "***Question:*** Can it be possible that  it converges at local minima instead of global minima because of some discrepancy in momentum calculation?\n",
    "\n",
    "***Answer:***\n",
    "- Yes, this happens all the time. In Neural Network/DL, we have loss function that is often non-convex i.e. multiple minima.\n",
    "  <img src='https://drive.google.com/uc?id=1KvRQBbs6n5aGfBiCAPC0B8OAenwWu1ke'>\n",
    "- Even if model gets stuck at local minima, its computational complexity is such that we still get better performance. Hence, it is suggested to take multiple random points and compute whichever loss is minimum."
   ]
  },
  {
   "cell_type": "markdown",
   "metadata": {
    "id": "afexTnpE_8We"
   },
   "source": [
    "***Question:*** Does initialization of weights affect the momentum or it overcomes the issue during the process?\n",
    "\n",
    "***Answer:*** Initialization of weights does impact final outcome. Momentum depends on where the random points lie initially. If it lies on a steep curve the momentum is faster than if the point lies on flatter curve, so momentum is slower."
   ]
  },
  {
   "cell_type": "markdown",
   "metadata": {
    "id": "FDm-_LZpA1MU"
   },
   "source": [
    "#### ADAM: Algorithm"
   ]
  },
  {
   "cell_type": "markdown",
   "metadata": {
    "id": "hUedRwKwVPa0"
   },
   "source": [
    "- We compute gradient $g_t$ at each $t$ and also square of gradient $g^2_t$. $g_t$ itself is used for momentum through EWA and $g^2_t$ is use to adjust learning rate adaptively.\n",
    "- Initially, learning rate  is $\\alpha \\to 0.001, \\beta_{1} \\to 0.9, \\beta_{2} \\to 0.999, \\epsilon\n",
    "\\to 10^{-8}$.\n",
    "- $\\alpha$ in this algorithm refers to $\\eta$ in our earlier discussions. $\\beta_1$ and $\\beta_2 \\in (0,1)$ and are exponential decay rate. $f(\\theta)$ refers to loss function $L(w)$.\n",
    "  <img src='https://drive.google.com/uc?id=1mzcm4Z5w9rWBa5j3pLDFRvF4qTb-SjBE'>\n",
    "- Randomly, initialize $\\theta$. Initially, momentum vector $m_0$ is zero and iteration $t$ starts with zero.\n",
    "- In each iteration $t$, we compute $g_t$ and update $m_t$ as $\\beta_1 * m_{t-1} + (1-\\beta_1) * g_t$. Notice, that older momentum is getting $90\\%$ weightage and $10\\%$ to new momentum. The idea is newer momentum is approximation and old momentum we already have done $(t-1)$ iterations. Hence information about $(t-1)$ iterations should have higher weightage.\n",
    "- Note that each iteration might point in random direction, but all these $(t-1)$ iterations in aggregrate would be pointing in right direction. This is slight contrast to time series, where we gave higher weightage to recent values. Here, we are giving more weightage to older momentum as it will be more likely to point in right direction.\n",
    "- $\\hat{m}_t$ is computed as $m_t/(1-{\\beta_1}^t)$ ( read ${\\beta_1}^t$ as $\\beta_1$ raised to power $t$) as we want to correct for bias term. This is similar to how we calculate variance in statistics using formula $\\sigma^2 = \\frac{1}{n-1} * \\sum ({x_i} - \\mu)^2 $. We use $(n-1)$ term to remove bias i.e. correction for bias.\n",
    "- Update $\\theta_t$ as $\\theta_{t-1} - \\frac{\\alpha * \\hat{m}_t}{ \\sqrt{\\hat{v}_t} + \\epsilon}$.\n",
    "\n",
    "*Note:* We will take about denominator term $ \\sqrt{\\hat{v}_t} + \\epsilon$ in a short while.\n",
    "\n"
   ]
  },
  {
   "cell_type": "markdown",
   "metadata": {
    "id": "YX25KyS3ls2E"
   },
   "source": [
    "#### Second Lesson Learned:"
   ]
  },
  {
   "cell_type": "markdown",
   "metadata": {
    "id": "2_UtFfszldLT"
   },
   "source": [
    "*Adjust learning Rate*\n",
    "- As iteration increases, $\\alpha$ should decrease. If the learning rate is not reduced, then we would overshoot.\n",
    "- $g_t$ could be positve or negative. But $g^2_t$ will always be positive and will be very high. But slowly, gradient will reduce as we come closer to minima.\n",
    "  <img src='https://drive.google.com/uc?id=1Wow5YdgkVC7PTNRKpHBoRzvnonFvavwZ'>\n"
   ]
  },
  {
   "cell_type": "markdown",
   "metadata": {
    "id": "fh0Ga52jrKhc"
   },
   "source": [
    "- In iteration $t$ we are adopting $\\alpha$ as\n",
    "$$\\alpha_{adj} = \\frac{\\alpha}{\\sqrt{\\sum_{i=1}^t g^2_t} + \\epsilon}$$\n",
    "here $\\epsilon \\to 10^{-8}$ to avoid divide by zero error.\n",
    "  <img src='https://drive.google.com/uc?id=1cR-rP-r66sZ3kDqPrUNejQV8Xd89xN6a'>\n",
    "- As $t$ increases, $\\alpha_{adj}$ is always reducing.\n",
    "- One could argue that why can't we compute $\\alpha_{adj}$ as $\\frac{\\alpha}{t}$. Note that, if gradient at $t$ is large, then we know we have moved faster to minima which means learning rate should reduce more.\n",
    "- So we want to adjust learning rate base on amount of gradient."
   ]
  },
  {
   "cell_type": "markdown",
   "metadata": {
    "id": "CSN-9mTbrj4N"
   },
   "source": [
    "***Question:*** If our gradient $g_i$ lies between 0 to 1, then $g^2_i$ is decreasing, then our logic fails, right?\n",
    "\n",
    "***Answer:*** Yes this a boundary case. But typically, gradients have very large values."
   ]
  },
  {
   "cell_type": "markdown",
   "metadata": {
    "id": "o8yPPqKUr5X-"
   },
   "source": [
    "***Question:*** Why not absolute value of gradient instead of gradient squared? both gives positive value right?\n",
    "\n",
    "***Answer:*** Yes, it could be used theoretically."
   ]
  },
  {
   "cell_type": "markdown",
   "metadata": {
    "id": "B23Ih-e3tuqU"
   },
   "source": [
    "#### Adam: Algorithm continued.."
   ]
  },
  {
   "cell_type": "markdown",
   "metadata": {
    "id": "u8y0U0tLsayV"
   },
   "source": [
    "- Now let's look at the $v_0$ momentum vector.\n",
    "  <img src='https://drive.google.com/uc?id=1pwGp1Z0BBOOylOrPBILFDpBLTcHaGEFr'>\n",
    "- Initially, $v_0 \\to 0$.\n",
    "- In every iteration $t$, $v_t$ is computed as $\\beta_2 * v_{t-1} + (1-\\beta_2)*g^2_t$.\n",
    "- $\\hat{v_t}$ is computed as $\\frac{v_t}{(1-\\beta^t_2)}$.\n",
    "- Update $\\theta_t$ as $\\theta_{t-1} - \\frac{\\alpha * \\hat{m}_t}{ \\sqrt{\\hat{v}_t} + \\epsilon}$.\n",
    "\n",
    "*Note:* Values of $\\beta_1, \\beta_2$ are arrived at $0.9$ and $0.999$ after a lot of experimentation.\n",
    "\n"
   ]
  },
  {
   "cell_type": "markdown",
   "metadata": {
    "id": "tv7jH_P3t4U3"
   },
   "source": [
    "#### Summary:"
   ]
  },
  {
   "cell_type": "markdown",
   "metadata": {
    "id": "YDHgVGVkrMf6"
   },
   "source": [
    "ADAM has 2 components:\n",
    "- Exponential Weighted Average (EWA) of $g_t$ that gives ***momentum***.\n",
    "- Exponential Weighted Average (EWA) of $g^2_t$ that gives ***adjusted learning rate***.\n",
    "  <img src='https://drive.google.com/uc?id=1fGVnnCz5nISxZnphh9t_ZtGbjBVLYdfU'>\n",
    "\n",
    "\n",
    "  "
   ]
  },
  {
   "cell_type": "markdown",
   "metadata": {
    "id": "5fXoACuJuudG"
   },
   "source": [
    "### Weight Initialization:"
   ]
  },
  {
   "cell_type": "markdown",
   "metadata": {
    "id": "V-scXItL0ehe"
   },
   "source": [
    "Here are some of the ideas for weight initialization.  \n",
    "  <img src='https://drive.google.com/uc?id=1MOSnqCGT8cXjAT39MNn4YgPeE3zMoUFm'>\n",
    "- We could either use Normal Distribution with small $\\sigma$ or uniform distribution between $-1$ and $1$."
   ]
  },
  {
   "cell_type": "markdown",
   "metadata": {
    "id": "KVUIn-8W0ygW"
   },
   "source": [
    "- One of the strategies used to determine weight initialization is to use strategy of $fan-in$ and $fan-out$.\n",
    "- For e.g. imagine we have a neuron with 4 inputs and 2 outputs. Then $fan-in \\to 4$ and $fan-out \\to 2$.\n",
    "  <img src='https://drive.google.com/uc?id=1uP5u_7BXgD6TH-vybVDiQb7BWWyxoQHN'>\n"
   ]
  },
  {
   "cell_type": "markdown",
   "metadata": {
    "id": "TUmS663e0Eoa"
   },
   "source": [
    "- There are other better strategies that have worked experimentaly but have weak theory supporting it.\n",
    "- Some of these techniques are Xavier Glorot, He.\n",
    "  <img src='https://drive.google.com/uc?id=19-jyJd_y34mHbwNT_vJ3p8elH7O-qvGl'>"
   ]
  },
  {
   "cell_type": "markdown",
   "metadata": {
    "id": "wDV2YmZ50YCb"
   },
   "source": [
    "- Weights could be initialized using uniform distribution as follows:\n",
    "$$w^k_{ij} \\sim Uniform\\bigg[ \\frac{-1}{\\sqrt{fan-in}}, \\frac{1}{\\sqrt{fan-out}}\\bigg]$$  \n",
    "- These techniques were used around early $2010's$.\n",
    "  <img src='https://drive.google.com/uc?id=1IR1CIZB68-WPAX_5l6aadn2jTao2mQbG'>"
   ]
  },
  {
   "cell_type": "markdown",
   "metadata": {
    "id": "cnw2Yy9Lu2sN"
   },
   "source": [
    "- Glorot initialization states that we could initialization weights using either of following approaches:\n",
    "  <img src='https://drive.google.com/uc?id=13EGBQPBRbbc_WafqmvOqS5x_4JkH8nm9'>\n",
    "- Normal Distribution: $w^k_{ij} \\sim N(0,\\sigma_{ij}), where \\sigma_{ij} = \\frac{2}{fanin+fanout}$\n",
    "- Uniform Distribution: $w^k_{ij} \\sim Uniform\\bigg[ \\frac{-\\sqrt{6}}{\\sqrt{fanin+fanout}}, \\frac{\\sqrt{6}}{\\sqrt{fanin+fanout}}\\bigg]$\n"
   ]
  },
  {
   "cell_type": "markdown",
   "metadata": {
    "id": "VLEb9lxk0mhM"
   },
   "source": [
    "- He initialization was designed around $2015$. The formula is as follows:\n",
    "  <img src='https://drive.google.com/uc?id=1Ozm8i15zpHaTuUNjJ1VRINeUsjA1GEvh'>\n",
    "- Normal Distribution: $N(0,\\sigma)$, where $\\sigma = \\frac{2}{fanin}$\n",
    "- Uniform Distribution: $Uniform\\bigg[ \\frac{-\\sqrt{6}}{\\sqrt{fanin}}, \\frac{\\sqrt{6}}{\\sqrt{fanin}}\\bigg]$\n",
    "\n"
   ]
  },
  {
   "cell_type": "markdown",
   "metadata": {
    "id": "HIq-hFp_0Pwl"
   },
   "source": [
    "- Keras implementation, weight initializer is *glorot_uniform* and bias is initialized to zero.\n",
    "  <img src='https://drive.google.com/uc?id=19TEgRqK_Qwxm9EGtzpIWAUJIohpPO4wq'>"
   ]
  },
  {
   "cell_type": "markdown",
   "metadata": {
    "id": "r5Syzi008w0S"
   },
   "source": [
    "### AutoEncoders:"
   ]
  },
  {
   "cell_type": "markdown",
   "metadata": {
    "id": "5plYcn1-CA5O"
   },
   "source": [
    "- Suppose we have MNIST dataset where each image is of size $28*28$ which is converted to $784*1$.\n",
    "- We can somehow pass it to a MLP and get $32-dim$ vector which represents all information in $784- dim$ data.\n",
    "- This $32-dim$ is again passed through another MLP that will give output of $784-dim$ data which is similar to original data.\n",
    "  <img src='https://drive.google.com/uc?id=1Kg_J6FvWXP9X9dcnP61g6I1IuipGr2XZ'>\n"
   ]
  },
  {
   "cell_type": "markdown",
   "metadata": {
    "id": "qM2sWonyCA_P"
   },
   "source": [
    "- We do similar thing in PCA, where input $x_i$ is multiplied with matrix of eigen vectors $A$ and we get $32*1$ vector of top eigen values.  \n",
    "  <img src='https://drive.google.com/uc?id=1ip9etJFbltNhEr-t_X3GJ0l5XT1ju8_C'>\n"
   ]
  },
  {
   "cell_type": "markdown",
   "metadata": {
    "id": "6NKh0n3SB84C"
   },
   "source": [
    "- We can think of PCA as special case of AutoEncoders. This could be thought of intuitively.\n",
    "  <img src='https://drive.google.com/uc?id=19Mmrwuu7QIdQILEYNJwlZIPgQrwWbL_M'>\n"
   ]
  },
  {
   "cell_type": "markdown",
   "metadata": {
    "id": "knywQ6psF8q7"
   },
   "source": [
    "***Question:*** How we justify 32 represent original? like what loss we used here?\n",
    "\n",
    "***Answer:*** If we can somehow recover information about $784$ dimensions from $32$-dim, then we can say that information about $784$ dimensions is compressed into $32$ dim."
   ]
  },
  {
   "cell_type": "markdown",
   "metadata": {
    "id": "JFSrHcKfCA8t"
   },
   "source": [
    "- Here, is a simple architecture of an AutoEncoder.\n",
    "  <img src='https://drive.google.com/uc?id=1a9z0K4hqHXPycK-CKRZf80N4TNaPssXX'>\n",
    "- Imagine we have MNIST images as input $x_i \\in 784$. Note that these images are normalized. So each pixel value is between 0 and 1.\n",
    "- We have a fully connected layer with $128$ neurons, followed by another fully connected layer with $64$ neurons and another fully connected layer with $32$ neurons. These 3 layers use ReLu activation units. All these 3 layers collectively are known as Encoder.\n",
    "- The output of Encoder is $32$-dim. This is fed to a series of fully connected layers with $64,128,784$ neurons respectively. Final layer has Sigmoid as activation function.\n",
    "- We need Sigmoid because input was normalized between 0 to 1 in the beginning.\n",
    "- If the input values $\\approx$ output values, then the loss will be very small.\n",
    "\n",
    "\n"
   ]
  },
  {
   "cell_type": "markdown",
   "metadata": {
    "id": "H4GmDyOlN_x6"
   },
   "source": [
    "#### Code: AutoEncoders"
   ]
  },
  {
   "cell_type": "code",
   "execution_count": 1,
   "metadata": {
    "colab": {
     "base_uri": "https://localhost:8080/"
    },
    "id": "CoVw5CBHOF23",
    "outputId": "9d9c8c62-9372-4331-b08e-ae0bd23a00d4"
   },
   "outputs": [
    {
     "name": "stdout",
     "output_type": "stream",
     "text": [
      "(60000, 784)\n",
      "(10000, 784)\n"
     ]
    }
   ],
   "source": [
    "#Source and Reference: https://blog.keras.io/building-autoencoders-in-keras.html\n",
    "\n",
    "import keras\n",
    "from keras import layers\n",
    "from keras.datasets import mnist\n",
    "import numpy as np\n",
    "\n",
    "(x_train, _), (x_test, _) = mnist.load_data()\n",
    "\n",
    "#Normalization of input\n",
    "x_train = x_train.astype('float32') / 255.\n",
    "x_test = x_test.astype('float32') / 255.\n",
    "\n",
    "#Reshaping the images to 1D vectors\n",
    "x_train = x_train.reshape((len(x_train), np.prod(x_train.shape[1:])))\n",
    "x_test = x_test.reshape((len(x_test), np.prod(x_test.shape[1:])))\n",
    "print(x_train.shape)\n",
    "print(x_test.shape)"
   ]
  },
  {
   "cell_type": "code",
   "execution_count": 2,
   "metadata": {
    "id": "09hgv2e3OF6e"
   },
   "outputs": [],
   "source": [
    "#AutoEncoder model\n",
    "input_img = keras.Input(shape=(784,))\n",
    "encoded = layers.Dense(128, activation='relu')(input_img)\n",
    "encoded = layers.Dense(64, activation='relu')(encoded)\n",
    "encoded = layers.Dense(32, activation='relu')(encoded)\n",
    "\n",
    "decoded = layers.Dense(64, activation='relu')(encoded)\n",
    "decoded = layers.Dense(128, activation='relu')(decoded)\n",
    "decoded = layers.Dense(784, activation='sigmoid')(decoded)"
   ]
  },
  {
   "cell_type": "markdown",
   "metadata": {
    "id": "yBg3EiyOOk_D"
   },
   "source": [
    "- We have 3 layers in Encoder section. Each with $128,64,32$ neurons and ReLu as activation function.\n",
    "- Decoder section has 3 layers. First 2 layers has ReLu activation function with $64,128$ neurons with Relu activation. Final layer has $784$ neurons with Sigmoid as activation.\n",
    "- We are using binary crossentropy, as we want to compare input and output that lies between 0 and 1."
   ]
  },
  {
   "cell_type": "code",
   "execution_count": 3,
   "metadata": {
    "colab": {
     "base_uri": "https://localhost:8080/"
    },
    "id": "-FGAfKHGOF-l",
    "outputId": "6d3c12d3-075b-4b1d-cfaa-46f331850b38"
   },
   "outputs": [
    {
     "name": "stdout",
     "output_type": "stream",
     "text": [
      "Epoch 1/100\n",
      "\u001b[1m235/235\u001b[0m \u001b[32m━━━━━━━━━━━━━━━━━━━━\u001b[0m\u001b[37m\u001b[0m \u001b[1m2s\u001b[0m 5ms/step - loss: 0.3419 - val_loss: 0.1708\n",
      "Epoch 2/100\n",
      "\u001b[1m235/235\u001b[0m \u001b[32m━━━━━━━━━━━━━━━━━━━━\u001b[0m\u001b[37m\u001b[0m \u001b[1m1s\u001b[0m 6ms/step - loss: 0.1605 - val_loss: 0.1370\n",
      "Epoch 3/100\n",
      "\u001b[1m235/235\u001b[0m \u001b[32m━━━━━━━━━━━━━━━━━━━━\u001b[0m\u001b[37m\u001b[0m \u001b[1m1s\u001b[0m 6ms/step - loss: 0.1355 - val_loss: 0.1273\n",
      "Epoch 4/100\n",
      "\u001b[1m235/235\u001b[0m \u001b[32m━━━━━━━━━━━━━━━━━━━━\u001b[0m\u001b[37m\u001b[0m \u001b[1m1s\u001b[0m 6ms/step - loss: 0.1271 - val_loss: 0.1197\n",
      "Epoch 5/100\n",
      "\u001b[1m235/235\u001b[0m \u001b[32m━━━━━━━━━━━━━━━━━━━━\u001b[0m\u001b[37m\u001b[0m \u001b[1m1s\u001b[0m 6ms/step - loss: 0.1198 - val_loss: 0.1151\n",
      "Epoch 6/100\n",
      "\u001b[1m235/235\u001b[0m \u001b[32m━━━━━━━━━━━━━━━━━━━━\u001b[0m\u001b[37m\u001b[0m \u001b[1m1s\u001b[0m 6ms/step - loss: 0.1156 - val_loss: 0.1121\n",
      "Epoch 7/100\n",
      "\u001b[1m235/235\u001b[0m \u001b[32m━━━━━━━━━━━━━━━━━━━━\u001b[0m\u001b[37m\u001b[0m \u001b[1m1s\u001b[0m 6ms/step - loss: 0.1116 - val_loss: 0.1083\n",
      "Epoch 8/100\n",
      "\u001b[1m235/235\u001b[0m \u001b[32m━━━━━━━━━━━━━━━━━━━━\u001b[0m\u001b[37m\u001b[0m \u001b[1m1s\u001b[0m 6ms/step - loss: 0.1087 - val_loss: 0.1053\n",
      "Epoch 9/100\n",
      "\u001b[1m235/235\u001b[0m \u001b[32m━━━━━━━━━━━━━━━━━━━━\u001b[0m\u001b[37m\u001b[0m \u001b[1m2s\u001b[0m 7ms/step - loss: 0.1063 - val_loss: 0.1037\n",
      "Epoch 10/100\n",
      "\u001b[1m235/235\u001b[0m \u001b[32m━━━━━━━━━━━━━━━━━━━━\u001b[0m\u001b[37m\u001b[0m \u001b[1m1s\u001b[0m 6ms/step - loss: 0.1040 - val_loss: 0.1015\n",
      "Epoch 11/100\n",
      "\u001b[1m235/235\u001b[0m \u001b[32m━━━━━━━━━━━━━━━━━━━━\u001b[0m\u001b[37m\u001b[0m \u001b[1m1s\u001b[0m 6ms/step - loss: 0.1024 - val_loss: 0.0998\n",
      "Epoch 12/100\n",
      "\u001b[1m235/235\u001b[0m \u001b[32m━━━━━━━━━━━━━━━━━━━━\u001b[0m\u001b[37m\u001b[0m \u001b[1m1s\u001b[0m 6ms/step - loss: 0.1007 - val_loss: 0.0986\n",
      "Epoch 13/100\n",
      "\u001b[1m235/235\u001b[0m \u001b[32m━━━━━━━━━━━━━━━━━━━━\u001b[0m\u001b[37m\u001b[0m \u001b[1m1s\u001b[0m 6ms/step - loss: 0.0994 - val_loss: 0.0970\n",
      "Epoch 14/100\n",
      "\u001b[1m235/235\u001b[0m \u001b[32m━━━━━━━━━━━━━━━━━━━━\u001b[0m\u001b[37m\u001b[0m \u001b[1m1s\u001b[0m 6ms/step - loss: 0.0978 - val_loss: 0.0960\n",
      "Epoch 15/100\n",
      "\u001b[1m235/235\u001b[0m \u001b[32m━━━━━━━━━━━━━━━━━━━━\u001b[0m\u001b[37m\u001b[0m \u001b[1m1s\u001b[0m 6ms/step - loss: 0.0967 - val_loss: 0.0951\n",
      "Epoch 16/100\n",
      "\u001b[1m235/235\u001b[0m \u001b[32m━━━━━━━━━━━━━━━━━━━━\u001b[0m\u001b[37m\u001b[0m \u001b[1m1s\u001b[0m 6ms/step - loss: 0.0957 - val_loss: 0.0948\n",
      "Epoch 17/100\n",
      "\u001b[1m235/235\u001b[0m \u001b[32m━━━━━━━━━━━━━━━━━━━━\u001b[0m\u001b[37m\u001b[0m \u001b[1m1s\u001b[0m 6ms/step - loss: 0.0949 - val_loss: 0.0939\n",
      "Epoch 18/100\n",
      "\u001b[1m235/235\u001b[0m \u001b[32m━━━━━━━━━━━━━━━━━━━━\u001b[0m\u001b[37m\u001b[0m \u001b[1m1s\u001b[0m 6ms/step - loss: 0.0940 - val_loss: 0.0929\n",
      "Epoch 19/100\n",
      "\u001b[1m235/235\u001b[0m \u001b[32m━━━━━━━━━━━━━━━━━━━━\u001b[0m\u001b[37m\u001b[0m \u001b[1m1s\u001b[0m 6ms/step - loss: 0.0933 - val_loss: 0.0927\n",
      "Epoch 20/100\n",
      "\u001b[1m235/235\u001b[0m \u001b[32m━━━━━━━━━━━━━━━━━━━━\u001b[0m\u001b[37m\u001b[0m \u001b[1m1s\u001b[0m 6ms/step - loss: 0.0929 - val_loss: 0.0915\n",
      "Epoch 21/100\n",
      "\u001b[1m235/235\u001b[0m \u001b[32m━━━━━━━━━━━━━━━━━━━━\u001b[0m\u001b[37m\u001b[0m \u001b[1m1s\u001b[0m 6ms/step - loss: 0.0921 - val_loss: 0.0912\n",
      "Epoch 22/100\n",
      "\u001b[1m235/235\u001b[0m \u001b[32m━━━━━━━━━━━━━━━━━━━━\u001b[0m\u001b[37m\u001b[0m \u001b[1m1s\u001b[0m 6ms/step - loss: 0.0918 - val_loss: 0.0908\n",
      "Epoch 23/100\n",
      "\u001b[1m235/235\u001b[0m \u001b[32m━━━━━━━━━━━━━━━━━━━━\u001b[0m\u001b[37m\u001b[0m \u001b[1m1s\u001b[0m 6ms/step - loss: 0.0910 - val_loss: 0.0899\n",
      "Epoch 24/100\n",
      "\u001b[1m235/235\u001b[0m \u001b[32m━━━━━━━━━━━━━━━━━━━━\u001b[0m\u001b[37m\u001b[0m \u001b[1m1s\u001b[0m 6ms/step - loss: 0.0906 - val_loss: 0.0896\n",
      "Epoch 25/100\n",
      "\u001b[1m235/235\u001b[0m \u001b[32m━━━━━━━━━━━━━━━━━━━━\u001b[0m\u001b[37m\u001b[0m \u001b[1m1s\u001b[0m 6ms/step - loss: 0.0900 - val_loss: 0.0892\n",
      "Epoch 26/100\n",
      "\u001b[1m235/235\u001b[0m \u001b[32m━━━━━━━━━━━━━━━━━━━━\u001b[0m\u001b[37m\u001b[0m \u001b[1m1s\u001b[0m 6ms/step - loss: 0.0896 - val_loss: 0.0889\n",
      "Epoch 27/100\n",
      "\u001b[1m235/235\u001b[0m \u001b[32m━━━━━━━━━━━━━━━━━━━━\u001b[0m\u001b[37m\u001b[0m \u001b[1m1s\u001b[0m 6ms/step - loss: 0.0895 - val_loss: 0.0885\n",
      "Epoch 28/100\n",
      "\u001b[1m235/235\u001b[0m \u001b[32m━━━━━━━━━━━━━━━━━━━━\u001b[0m\u001b[37m\u001b[0m \u001b[1m1s\u001b[0m 6ms/step - loss: 0.0890 - val_loss: 0.0882\n",
      "Epoch 29/100\n",
      "\u001b[1m235/235\u001b[0m \u001b[32m━━━━━━━━━━━━━━━━━━━━\u001b[0m\u001b[37m\u001b[0m \u001b[1m1s\u001b[0m 6ms/step - loss: 0.0887 - val_loss: 0.0880\n",
      "Epoch 30/100\n",
      "\u001b[1m235/235\u001b[0m \u001b[32m━━━━━━━━━━━━━━━━━━━━\u001b[0m\u001b[37m\u001b[0m \u001b[1m1s\u001b[0m 6ms/step - loss: 0.0885 - val_loss: 0.0876\n",
      "Epoch 31/100\n",
      "\u001b[1m235/235\u001b[0m \u001b[32m━━━━━━━━━━━━━━━━━━━━\u001b[0m\u001b[37m\u001b[0m \u001b[1m1s\u001b[0m 6ms/step - loss: 0.0881 - val_loss: 0.0872\n",
      "Epoch 32/100\n",
      "\u001b[1m235/235\u001b[0m \u001b[32m━━━━━━━━━━━━━━━━━━━━\u001b[0m\u001b[37m\u001b[0m \u001b[1m1s\u001b[0m 6ms/step - loss: 0.0877 - val_loss: 0.0869\n",
      "Epoch 33/100\n",
      "\u001b[1m235/235\u001b[0m \u001b[32m━━━━━━━━━━━━━━━━━━━━\u001b[0m\u001b[37m\u001b[0m \u001b[1m1s\u001b[0m 6ms/step - loss: 0.0874 - val_loss: 0.0869\n",
      "Epoch 34/100\n",
      "\u001b[1m235/235\u001b[0m \u001b[32m━━━━━━━━━━━━━━━━━━━━\u001b[0m\u001b[37m\u001b[0m \u001b[1m1s\u001b[0m 6ms/step - loss: 0.0872 - val_loss: 0.0868\n",
      "Epoch 35/100\n",
      "\u001b[1m235/235\u001b[0m \u001b[32m━━━━━━━━━━━━━━━━━━━━\u001b[0m\u001b[37m\u001b[0m \u001b[1m1s\u001b[0m 6ms/step - loss: 0.0870 - val_loss: 0.0867\n",
      "Epoch 36/100\n",
      "\u001b[1m235/235\u001b[0m \u001b[32m━━━━━━━━━━━━━━━━━━━━\u001b[0m\u001b[37m\u001b[0m \u001b[1m2s\u001b[0m 6ms/step - loss: 0.0868 - val_loss: 0.0861\n",
      "Epoch 37/100\n",
      "\u001b[1m235/235\u001b[0m \u001b[32m━━━━━━━━━━━━━━━━━━━━\u001b[0m\u001b[37m\u001b[0m \u001b[1m1s\u001b[0m 6ms/step - loss: 0.0864 - val_loss: 0.0860\n",
      "Epoch 38/100\n",
      "\u001b[1m235/235\u001b[0m \u001b[32m━━━━━━━━━━━━━━━━━━━━\u001b[0m\u001b[37m\u001b[0m \u001b[1m1s\u001b[0m 6ms/step - loss: 0.0859 - val_loss: 0.0854\n",
      "Epoch 39/100\n",
      "\u001b[1m235/235\u001b[0m \u001b[32m━━━━━━━━━━━━━━━━━━━━\u001b[0m\u001b[37m\u001b[0m \u001b[1m1s\u001b[0m 6ms/step - loss: 0.0861 - val_loss: 0.0852\n",
      "Epoch 40/100\n",
      "\u001b[1m235/235\u001b[0m \u001b[32m━━━━━━━━━━━━━━━━━━━━\u001b[0m\u001b[37m\u001b[0m \u001b[1m1s\u001b[0m 6ms/step - loss: 0.0857 - val_loss: 0.0852\n",
      "Epoch 41/100\n",
      "\u001b[1m235/235\u001b[0m \u001b[32m━━━━━━━━━━━━━━━━━━━━\u001b[0m\u001b[37m\u001b[0m \u001b[1m1s\u001b[0m 6ms/step - loss: 0.0856 - val_loss: 0.0850\n",
      "Epoch 42/100\n",
      "\u001b[1m235/235\u001b[0m \u001b[32m━━━━━━━━━━━━━━━━━━━━\u001b[0m\u001b[37m\u001b[0m \u001b[1m1s\u001b[0m 6ms/step - loss: 0.0854 - val_loss: 0.0851\n",
      "Epoch 43/100\n",
      "\u001b[1m235/235\u001b[0m \u001b[32m━━━━━━━━━━━━━━━━━━━━\u001b[0m\u001b[37m\u001b[0m \u001b[1m1s\u001b[0m 6ms/step - loss: 0.0852 - val_loss: 0.0847\n",
      "Epoch 44/100\n",
      "\u001b[1m235/235\u001b[0m \u001b[32m━━━━━━━━━━━━━━━━━━━━\u001b[0m\u001b[37m\u001b[0m \u001b[1m1s\u001b[0m 6ms/step - loss: 0.0850 - val_loss: 0.0847\n",
      "Epoch 45/100\n",
      "\u001b[1m235/235\u001b[0m \u001b[32m━━━━━━━━━━━━━━━━━━━━\u001b[0m\u001b[37m\u001b[0m \u001b[1m1s\u001b[0m 6ms/step - loss: 0.0850 - val_loss: 0.0845\n",
      "Epoch 46/100\n",
      "\u001b[1m235/235\u001b[0m \u001b[32m━━━━━━━━━━━━━━━━━━━━\u001b[0m\u001b[37m\u001b[0m \u001b[1m1s\u001b[0m 6ms/step - loss: 0.0850 - val_loss: 0.0844\n",
      "Epoch 47/100\n",
      "\u001b[1m235/235\u001b[0m \u001b[32m━━━━━━━━━━━━━━━━━━━━\u001b[0m\u001b[37m\u001b[0m \u001b[1m1s\u001b[0m 6ms/step - loss: 0.0844 - val_loss: 0.0840\n",
      "Epoch 48/100\n",
      "\u001b[1m235/235\u001b[0m \u001b[32m━━━━━━━━━━━━━━━━━━━━\u001b[0m\u001b[37m\u001b[0m \u001b[1m1s\u001b[0m 6ms/step - loss: 0.0844 - val_loss: 0.0838\n",
      "Epoch 49/100\n",
      "\u001b[1m235/235\u001b[0m \u001b[32m━━━━━━━━━━━━━━━━━━━━\u001b[0m\u001b[37m\u001b[0m \u001b[1m1s\u001b[0m 6ms/step - loss: 0.0844 - val_loss: 0.0838\n",
      "Epoch 50/100\n",
      "\u001b[1m235/235\u001b[0m \u001b[32m━━━━━━━━━━━━━━━━━━━━\u001b[0m\u001b[37m\u001b[0m \u001b[1m1s\u001b[0m 6ms/step - loss: 0.0841 - val_loss: 0.0840\n",
      "Epoch 51/100\n",
      "\u001b[1m235/235\u001b[0m \u001b[32m━━━━━━━━━━━━━━━━━━━━\u001b[0m\u001b[37m\u001b[0m \u001b[1m1s\u001b[0m 6ms/step - loss: 0.0840 - val_loss: 0.0836\n",
      "Epoch 52/100\n",
      "\u001b[1m235/235\u001b[0m \u001b[32m━━━━━━━━━━━━━━━━━━━━\u001b[0m\u001b[37m\u001b[0m \u001b[1m1s\u001b[0m 6ms/step - loss: 0.0839 - val_loss: 0.0835\n",
      "Epoch 53/100\n",
      "\u001b[1m235/235\u001b[0m \u001b[32m━━━━━━━━━━━━━━━━━━━━\u001b[0m\u001b[37m\u001b[0m \u001b[1m1s\u001b[0m 6ms/step - loss: 0.0837 - val_loss: 0.0833\n",
      "Epoch 54/100\n",
      "\u001b[1m235/235\u001b[0m \u001b[32m━━━━━━━━━━━━━━━━━━━━\u001b[0m\u001b[37m\u001b[0m \u001b[1m1s\u001b[0m 6ms/step - loss: 0.0838 - val_loss: 0.0833\n",
      "Epoch 55/100\n",
      "\u001b[1m235/235\u001b[0m \u001b[32m━━━━━━━━━━━━━━━━━━━━\u001b[0m\u001b[37m\u001b[0m \u001b[1m1s\u001b[0m 6ms/step - loss: 0.0837 - val_loss: 0.0833\n",
      "Epoch 56/100\n",
      "\u001b[1m235/235\u001b[0m \u001b[32m━━━━━━━━━━━━━━━━━━━━\u001b[0m\u001b[37m\u001b[0m \u001b[1m1s\u001b[0m 6ms/step - loss: 0.0834 - val_loss: 0.0834\n",
      "Epoch 57/100\n",
      "\u001b[1m235/235\u001b[0m \u001b[32m━━━━━━━━━━━━━━━━━━━━\u001b[0m\u001b[37m\u001b[0m \u001b[1m1s\u001b[0m 6ms/step - loss: 0.0835 - val_loss: 0.0830\n",
      "Epoch 58/100\n",
      "\u001b[1m235/235\u001b[0m \u001b[32m━━━━━━━━━━━━━━━━━━━━\u001b[0m\u001b[37m\u001b[0m \u001b[1m1s\u001b[0m 6ms/step - loss: 0.0834 - val_loss: 0.0831\n",
      "Epoch 59/100\n",
      "\u001b[1m235/235\u001b[0m \u001b[32m━━━━━━━━━━━━━━━━━━━━\u001b[0m\u001b[37m\u001b[0m \u001b[1m1s\u001b[0m 6ms/step - loss: 0.0833 - val_loss: 0.0829\n",
      "Epoch 60/100\n",
      "\u001b[1m235/235\u001b[0m \u001b[32m━━━━━━━━━━━━━━━━━━━━\u001b[0m\u001b[37m\u001b[0m \u001b[1m1s\u001b[0m 6ms/step - loss: 0.0830 - val_loss: 0.0831\n",
      "Epoch 61/100\n",
      "\u001b[1m235/235\u001b[0m \u001b[32m━━━━━━━━━━━━━━━━━━━━\u001b[0m\u001b[37m\u001b[0m \u001b[1m1s\u001b[0m 6ms/step - loss: 0.0831 - val_loss: 0.0829\n",
      "Epoch 62/100\n",
      "\u001b[1m235/235\u001b[0m \u001b[32m━━━━━━━━━━━━━━━━━━━━\u001b[0m\u001b[37m\u001b[0m \u001b[1m1s\u001b[0m 6ms/step - loss: 0.0830 - val_loss: 0.0826\n",
      "Epoch 63/100\n",
      "\u001b[1m235/235\u001b[0m \u001b[32m━━━━━━━━━━━━━━━━━━━━\u001b[0m\u001b[37m\u001b[0m \u001b[1m1s\u001b[0m 6ms/step - loss: 0.0832 - val_loss: 0.0828\n",
      "Epoch 64/100\n",
      "\u001b[1m235/235\u001b[0m \u001b[32m━━━━━━━━━━━━━━━━━━━━\u001b[0m\u001b[37m\u001b[0m \u001b[1m1s\u001b[0m 6ms/step - loss: 0.0830 - val_loss: 0.0824\n",
      "Epoch 65/100\n",
      "\u001b[1m235/235\u001b[0m \u001b[32m━━━━━━━━━━━━━━━━━━━━\u001b[0m\u001b[37m\u001b[0m \u001b[1m1s\u001b[0m 6ms/step - loss: 0.0827 - val_loss: 0.0826\n",
      "Epoch 66/100\n",
      "\u001b[1m235/235\u001b[0m \u001b[32m━━━━━━━━━━━━━━━━━━━━\u001b[0m\u001b[37m\u001b[0m \u001b[1m1s\u001b[0m 6ms/step - loss: 0.0829 - val_loss: 0.0826\n",
      "Epoch 67/100\n",
      "\u001b[1m235/235\u001b[0m \u001b[32m━━━━━━━━━━━━━━━━━━━━\u001b[0m\u001b[37m\u001b[0m \u001b[1m1s\u001b[0m 6ms/step - loss: 0.0828 - val_loss: 0.0824\n",
      "Epoch 68/100\n",
      "\u001b[1m235/235\u001b[0m \u001b[32m━━━━━━━━━━━━━━━━━━━━\u001b[0m\u001b[37m\u001b[0m \u001b[1m1s\u001b[0m 6ms/step - loss: 0.0826 - val_loss: 0.0823\n",
      "Epoch 69/100\n",
      "\u001b[1m235/235\u001b[0m \u001b[32m━━━━━━━━━━━━━━━━━━━━\u001b[0m\u001b[37m\u001b[0m \u001b[1m1s\u001b[0m 6ms/step - loss: 0.0826 - val_loss: 0.0827\n",
      "Epoch 70/100\n",
      "\u001b[1m235/235\u001b[0m \u001b[32m━━━━━━━━━━━━━━━━━━━━\u001b[0m\u001b[37m\u001b[0m \u001b[1m1s\u001b[0m 6ms/step - loss: 0.0826 - val_loss: 0.0824\n",
      "Epoch 71/100\n",
      "\u001b[1m235/235\u001b[0m \u001b[32m━━━━━━━━━━━━━━━━━━━━\u001b[0m\u001b[37m\u001b[0m \u001b[1m1s\u001b[0m 6ms/step - loss: 0.0825 - val_loss: 0.0823\n",
      "Epoch 72/100\n",
      "\u001b[1m235/235\u001b[0m \u001b[32m━━━━━━━━━━━━━━━━━━━━\u001b[0m\u001b[37m\u001b[0m \u001b[1m1s\u001b[0m 6ms/step - loss: 0.0823 - val_loss: 0.0824\n",
      "Epoch 73/100\n",
      "\u001b[1m235/235\u001b[0m \u001b[32m━━━━━━━━━━━━━━━━━━━━\u001b[0m\u001b[37m\u001b[0m \u001b[1m1s\u001b[0m 6ms/step - loss: 0.0823 - val_loss: 0.0820\n",
      "Epoch 74/100\n",
      "\u001b[1m235/235\u001b[0m \u001b[32m━━━━━━━━━━━━━━━━━━━━\u001b[0m\u001b[37m\u001b[0m \u001b[1m1s\u001b[0m 6ms/step - loss: 0.0824 - val_loss: 0.0821\n",
      "Epoch 75/100\n",
      "\u001b[1m235/235\u001b[0m \u001b[32m━━━━━━━━━━━━━━━━━━━━\u001b[0m\u001b[37m\u001b[0m \u001b[1m1s\u001b[0m 6ms/step - loss: 0.0824 - val_loss: 0.0820\n",
      "Epoch 76/100\n",
      "\u001b[1m235/235\u001b[0m \u001b[32m━━━━━━━━━━━━━━━━━━━━\u001b[0m\u001b[37m\u001b[0m \u001b[1m1s\u001b[0m 6ms/step - loss: 0.0823 - val_loss: 0.0822\n",
      "Epoch 77/100\n",
      "\u001b[1m235/235\u001b[0m \u001b[32m━━━━━━━━━━━━━━━━━━━━\u001b[0m\u001b[37m\u001b[0m \u001b[1m1s\u001b[0m 6ms/step - loss: 0.0823 - val_loss: 0.0817\n",
      "Epoch 78/100\n",
      "\u001b[1m235/235\u001b[0m \u001b[32m━━━━━━━━━━━━━━━━━━━━\u001b[0m\u001b[37m\u001b[0m \u001b[1m1s\u001b[0m 6ms/step - loss: 0.0821 - val_loss: 0.0820\n",
      "Epoch 79/100\n",
      "\u001b[1m235/235\u001b[0m \u001b[32m━━━━━━━━━━━━━━━━━━━━\u001b[0m\u001b[37m\u001b[0m \u001b[1m1s\u001b[0m 6ms/step - loss: 0.0821 - val_loss: 0.0819\n",
      "Epoch 80/100\n",
      "\u001b[1m235/235\u001b[0m \u001b[32m━━━━━━━━━━━━━━━━━━━━\u001b[0m\u001b[37m\u001b[0m \u001b[1m1s\u001b[0m 6ms/step - loss: 0.0820 - val_loss: 0.0819\n",
      "Epoch 81/100\n",
      "\u001b[1m235/235\u001b[0m \u001b[32m━━━━━━━━━━━━━━━━━━━━\u001b[0m\u001b[37m\u001b[0m \u001b[1m1s\u001b[0m 6ms/step - loss: 0.0821 - val_loss: 0.0819\n",
      "Epoch 82/100\n",
      "\u001b[1m235/235\u001b[0m \u001b[32m━━━━━━━━━━━━━━━━━━━━\u001b[0m\u001b[37m\u001b[0m \u001b[1m1s\u001b[0m 6ms/step - loss: 0.0818 - val_loss: 0.0817\n",
      "Epoch 83/100\n",
      "\u001b[1m235/235\u001b[0m \u001b[32m━━━━━━━━━━━━━━━━━━━━\u001b[0m\u001b[37m\u001b[0m \u001b[1m1s\u001b[0m 6ms/step - loss: 0.0820 - val_loss: 0.0816\n",
      "Epoch 84/100\n",
      "\u001b[1m235/235\u001b[0m \u001b[32m━━━━━━━━━━━━━━━━━━━━\u001b[0m\u001b[37m\u001b[0m \u001b[1m1s\u001b[0m 6ms/step - loss: 0.0819 - val_loss: 0.0818\n",
      "Epoch 85/100\n",
      "\u001b[1m235/235\u001b[0m \u001b[32m━━━━━━━━━━━━━━━━━━━━\u001b[0m\u001b[37m\u001b[0m \u001b[1m1s\u001b[0m 6ms/step - loss: 0.0818 - val_loss: 0.0819\n",
      "Epoch 86/100\n",
      "\u001b[1m235/235\u001b[0m \u001b[32m━━━━━━━━━━━━━━━━━━━━\u001b[0m\u001b[37m\u001b[0m \u001b[1m1s\u001b[0m 6ms/step - loss: 0.0819 - val_loss: 0.0816\n",
      "Epoch 87/100\n",
      "\u001b[1m235/235\u001b[0m \u001b[32m━━━━━━━━━━━━━━━━━━━━\u001b[0m\u001b[37m\u001b[0m \u001b[1m1s\u001b[0m 6ms/step - loss: 0.0818 - val_loss: 0.0816\n",
      "Epoch 88/100\n",
      "\u001b[1m235/235\u001b[0m \u001b[32m━━━━━━━━━━━━━━━━━━━━\u001b[0m\u001b[37m\u001b[0m \u001b[1m1s\u001b[0m 6ms/step - loss: 0.0818 - val_loss: 0.0814\n",
      "Epoch 89/100\n",
      "\u001b[1m235/235\u001b[0m \u001b[32m━━━━━━━━━━━━━━━━━━━━\u001b[0m\u001b[37m\u001b[0m \u001b[1m1s\u001b[0m 6ms/step - loss: 0.0818 - val_loss: 0.0817\n",
      "Epoch 90/100\n",
      "\u001b[1m235/235\u001b[0m \u001b[32m━━━━━━━━━━━━━━━━━━━━\u001b[0m\u001b[37m\u001b[0m \u001b[1m1s\u001b[0m 6ms/step - loss: 0.0817 - val_loss: 0.0817\n",
      "Epoch 91/100\n",
      "\u001b[1m235/235\u001b[0m \u001b[32m━━━━━━━━━━━━━━━━━━━━\u001b[0m\u001b[37m\u001b[0m \u001b[1m1s\u001b[0m 6ms/step - loss: 0.0817 - val_loss: 0.0817\n",
      "Epoch 92/100\n",
      "\u001b[1m235/235\u001b[0m \u001b[32m━━━━━━━━━━━━━━━━━━━━\u001b[0m\u001b[37m\u001b[0m \u001b[1m1s\u001b[0m 6ms/step - loss: 0.0815 - val_loss: 0.0815\n",
      "Epoch 93/100\n",
      "\u001b[1m235/235\u001b[0m \u001b[32m━━━━━━━━━━━━━━━━━━━━\u001b[0m\u001b[37m\u001b[0m \u001b[1m1s\u001b[0m 6ms/step - loss: 0.0816 - val_loss: 0.0815\n",
      "Epoch 94/100\n",
      "\u001b[1m235/235\u001b[0m \u001b[32m━━━━━━━━━━━━━━━━━━━━\u001b[0m\u001b[37m\u001b[0m \u001b[1m1s\u001b[0m 6ms/step - loss: 0.0815 - val_loss: 0.0813\n",
      "Epoch 95/100\n",
      "\u001b[1m235/235\u001b[0m \u001b[32m━━━━━━━━━━━━━━━━━━━━\u001b[0m\u001b[37m\u001b[0m \u001b[1m1s\u001b[0m 6ms/step - loss: 0.0815 - val_loss: 0.0816\n",
      "Epoch 96/100\n",
      "\u001b[1m235/235\u001b[0m \u001b[32m━━━━━━━━━━━━━━━━━━━━\u001b[0m\u001b[37m\u001b[0m \u001b[1m1s\u001b[0m 6ms/step - loss: 0.0814 - val_loss: 0.0815\n",
      "Epoch 97/100\n",
      "\u001b[1m235/235\u001b[0m \u001b[32m━━━━━━━━━━━━━━━━━━━━\u001b[0m\u001b[37m\u001b[0m \u001b[1m1s\u001b[0m 6ms/step - loss: 0.0816 - val_loss: 0.0813\n",
      "Epoch 98/100\n",
      "\u001b[1m235/235\u001b[0m \u001b[32m━━━━━━━━━━━━━━━━━━━━\u001b[0m\u001b[37m\u001b[0m \u001b[1m1s\u001b[0m 6ms/step - loss: 0.0817 - val_loss: 0.0815\n",
      "Epoch 99/100\n",
      "\u001b[1m235/235\u001b[0m \u001b[32m━━━━━━━━━━━━━━━━━━━━\u001b[0m\u001b[37m\u001b[0m \u001b[1m1s\u001b[0m 6ms/step - loss: 0.0814 - val_loss: 0.0814\n",
      "Epoch 100/100\n",
      "\u001b[1m235/235\u001b[0m \u001b[32m━━━━━━━━━━━━━━━━━━━━\u001b[0m\u001b[37m\u001b[0m \u001b[1m1s\u001b[0m 6ms/step - loss: 0.0813 - val_loss: 0.0813\n"
     ]
    },
    {
     "data": {
      "text/plain": [
       "<keras.src.callbacks.history.History at 0x17b9e0ad0>"
      ]
     },
     "execution_count": 3,
     "metadata": {},
     "output_type": "execute_result"
    }
   ],
   "source": [
    "autoencoder = keras.Model(input_img, decoded)\n",
    "autoencoder.compile(optimizer='adam', loss='binary_crossentropy')\n",
    "\n",
    "autoencoder.fit(x_train, x_train,\n",
    "                epochs=100,\n",
    "                batch_size=256,\n",
    "                shuffle=True,\n",
    "                validation_data=(x_test, x_test))"
   ]
  },
  {
   "cell_type": "code",
   "execution_count": 4,
   "metadata": {
    "colab": {
     "base_uri": "https://localhost:8080/",
     "height": 248
    },
    "id": "UCGVt9VqOGAI",
    "outputId": "57ba3472-5c2d-430a-b047-fcfac55949d7"
   },
   "outputs": [
    {
     "name": "stdout",
     "output_type": "stream",
     "text": [
      "\u001b[1m313/313\u001b[0m \u001b[32m━━━━━━━━━━━━━━━━━━━━\u001b[0m\u001b[37m\u001b[0m \u001b[1m0s\u001b[0m 616us/step\n"
     ]
    },
    {
     "data": {
      "image/png": "[encoded data removed]",
      "text/plain": [
       "<Figure size 2000x400 with 20 Axes>"
      ]
     },
     "metadata": {},
     "output_type": "display_data"
    }
   ],
   "source": [
    "#Visualize the outputs\n",
    "import matplotlib.pyplot as plt\n",
    "\n",
    "decoded_imgs = autoencoder.predict(x_test)\n",
    "\n",
    "n = 10\n",
    "plt.figure(figsize=(20, 4))\n",
    "for i in range(1, n + 1):\n",
    "    # Display original\n",
    "    ax = plt.subplot(2, n, i)\n",
    "    plt.imshow(x_test[i].reshape(28, 28))\n",
    "    plt.gray()\n",
    "    ax.get_xaxis().set_visible(False)\n",
    "    ax.get_yaxis().set_visible(False)\n",
    "\n",
    "    # Display reconstruction\n",
    "    ax = plt.subplot(2, n, i + n)\n",
    "    plt.imshow(decoded_imgs[i].reshape(28, 28))\n",
    "    plt.gray()\n",
    "    ax.get_xaxis().set_visible(False)\n",
    "    ax.get_yaxis().set_visible(False)\n",
    "plt.show()"
   ]
  },
  {
   "cell_type": "markdown",
   "metadata": {
    "id": "ZFPgMIlmPhJ8"
   },
   "source": [
    "- Comparing the input and output, we observe that $784$-dim were very well compressed into $32$-dim and then decoded into $784$."
   ]
  },
  {
   "cell_type": "markdown",
   "metadata": {
    "id": "STVr9jscTiqi"
   },
   "source": [
    "***Question:*** While adding MLPs, we are not doing anything special we are just decreasing dimensions to 32 and increasing to original dimensions and using sigmoid for retrieving orig data. so in a NN, the data is automatically encoded to less dimensions?\n",
    "\n",
    "***Answer:*** Yes, that is correct. We are adjusting weight so that these two are similar."
   ]
  },
  {
   "cell_type": "markdown",
   "metadata": {
    "id": "smY6MUWyQe2Z"
   },
   "source": [
    "***Question:*** In real world scenario how we would determine the shape?\n",
    "\n",
    "***Answer:***\n",
    "- On training data, we can try different values of $d'$ and plot the loss.\n",
    "- In the figure below, we observe that Loss drops significantly for $d'=4$.\n",
    "  <img src='https://drive.google.com/uc?id=19zdjO-3h3TYxr-t7b-5r2iyM91oV-mxT'>\n"
   ]
  },
  {
   "cell_type": "markdown",
   "metadata": {
    "id": "wH-DuFJDQPet"
   },
   "source": [
    "***Question:*** Is reducing of file size an application of auto encoders?\n",
    "\n",
    "***Answer:***\n",
    "- Yes, it could an application provided you have decoder network for converting to original data.\n",
    "  <img src='https://drive.google.com/uc?id=19RbMIx3QX_-ugr07l_FZOV2E-uv8drS8'>"
   ]
  },
  {
   "cell_type": "markdown",
   "metadata": {
    "id": "Y1M82ubAQe-4"
   },
   "source": [
    "***Question:*** We already have t-SNE/UMAP for dimensionality reduction. Then what is advantage of using AE over these techniques?\n",
    "\n",
    "***Answer:***\n",
    "- t-SNE/UMAP preserves neighbourhood and it is used for vizualization.\n",
    "- AutoEncoders, recreate the original data and it uses compression for it.\n",
    "  <img src='https://drive.google.com/uc?id=1vbgrfdSUyQ3NAJNge-H48MC_eoaHdo7J'>"
   ]
  },
  {
   "cell_type": "markdown",
   "metadata": {
    "id": "0cE-MKjZXdUx"
   },
   "source": [
    "#### Note:"
   ]
  },
  {
   "cell_type": "markdown",
   "metadata": {
    "id": "uxy1hsiJXfdZ"
   },
   "source": [
    "We will cover following topics in the next lecture:\n",
    "1.   Denoising AE.\n",
    "2.   Misc."
   ]
  }
 ],
 "metadata": {
  "colab": {
   "provenance": []
  },
  "kernelspec": {
   "display_name": "Python 3 (ipykernel)",
   "language": "python",
   "name": "python3"
  },
  "language_info": {
   "codemirror_mode": {
    "name": "ipython",
    "version": 3
   },
   "file_extension": ".py",
   "mimetype": "text/x-python",
   "name": "python",
   "nbconvert_exporter": "python",
   "pygments_lexer": "ipython3",
   "version": "3.11.9"
  }
 },
 "nbformat": 4,
 "nbformat_minor": 4
}
