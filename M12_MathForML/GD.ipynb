{
 "cells": [
  {
   "cell_type": "markdown",
   "id": "7d3b8ce7-2b91-47d9-b658-74adb4ba29aa",
   "metadata": {},
   "source": [
    "# Gradient Decent"
   ]
  },
  {
   "cell_type": "code",
   "execution_count": 1,
   "id": "90f93ace-2623-47c5-9cce-735912d7d13b",
   "metadata": {},
   "outputs": [],
   "source": [
    "import random\n",
    "import math\n",
    "import numpy"
   ]
  },
  {
   "cell_type": "code",
   "execution_count": 2,
   "id": "846e609d-d0cd-4f54-80fc-6fc5961651f3",
   "metadata": {},
   "outputs": [],
   "source": [
    "# Define a function \n",
    "# f(x) = x2 + 2x + 10\n",
    "def my_func(x):\n",
    "    fx = math.pow(x, 2) + (2*x) + 10 \n",
    "    \n",
    "    return fx\n",
    "\n",
    "# Define the first derivative of the function, f(x)\n",
    "def derivative_fx(x):\n",
    "    \n",
    "    first_derivative = 2 * x + 2\n",
    "    \n",
    "    return first_derivative"
   ]
  },
  {
   "cell_type": "code",
   "execution_count": 10,
   "id": "35ca4112-d435-45cd-87fb-ac26ee47e12a",
   "metadata": {},
   "outputs": [],
   "source": [
    "# Define the Gradient Decent Algo \n",
    "def gd_univariate():\n",
    "    # Step 1: Initialize random, x0 \n",
    "    x0 = random.random()\n",
    "\n",
    "    # Step 2: Define eta (learning rate) \n",
    "    eta = 0.1 \n",
    "\n",
    "    # Step 3: Initialization of iteration \n",
    "    i = 0 \n",
    "\n",
    "    # Step 4: Find the derivation at x = x0\n",
    "    xi = x0\n",
    "    df_dx = derivative_fx(xi) \n",
    "\n",
    "    # Now iterate until the thereshold is met \n",
    "    while abs(df_dx - 0.0) > 0.001:\n",
    "\n",
    "        # Printing for log \n",
    "        print(f\"i = {i}, xi = {xi}, df_dx = {df_dx}\") \n",
    "\n",
    "        # Updating the xi \n",
    "        df_dx = derivative_fx(xi) \n",
    "        xi = xi - (eta * df_dx) \n",
    "\n",
    "        i += 1\n",
    "\n",
    "    return xi "
   ]
  },
  {
   "cell_type": "code",
   "execution_count": 11,
   "id": "6e4fa1a3-10bc-4df2-a4a5-d92d048425fb",
   "metadata": {},
   "outputs": [
    {
     "name": "stdout",
     "output_type": "stream",
     "text": [
      "i = 0, xi = 0.35594485402737785, df_dx = 2.7118897080547555\n",
      "i = 1, xi = 0.0847558832219023, df_dx = 2.7118897080547555\n",
      "i = 2, xi = -0.13219529342247816, df_dx = 2.1695117664438044\n",
      "i = 3, xi = -0.3057562347379825, df_dx = 1.7356094131550437\n",
      "i = 4, xi = -0.44460498779038604, df_dx = 1.388487530524035\n",
      "i = 5, xi = -0.5556839902323089, df_dx = 1.110790024419228\n",
      "i = 6, xi = -0.6445471921858471, df_dx = 0.8886320195353823\n",
      "i = 7, xi = -0.7156377537486777, df_dx = 0.7109056156283058\n",
      "i = 8, xi = -0.7725102029989421, df_dx = 0.5687244925026447\n",
      "i = 9, xi = -0.8180081623991537, df_dx = 0.45497959400211574\n",
      "i = 10, xi = -0.854406529919323, df_dx = 0.3639836752016925\n",
      "i = 11, xi = -0.8835252239354584, df_dx = 0.29118694016135405\n",
      "i = 12, xi = -0.9068201791483668, df_dx = 0.2329495521290832\n",
      "i = 13, xi = -0.9254561433186934, df_dx = 0.18635964170326647\n",
      "i = 14, xi = -0.9403649146549548, df_dx = 0.14908771336261317\n",
      "i = 15, xi = -0.9522919317239638, df_dx = 0.1192701706900905\n",
      "i = 16, xi = -0.961833545379171, df_dx = 0.09541613655207248\n",
      "i = 17, xi = -0.9694668363033367, df_dx = 0.07633290924165803\n",
      "i = 18, xi = -0.9755734690426694, df_dx = 0.061066327393326514\n",
      "i = 19, xi = -0.9804587752341355, df_dx = 0.04885306191466121\n",
      "i = 20, xi = -0.9843670201873084, df_dx = 0.03908244953172901\n",
      "i = 21, xi = -0.9874936161498467, df_dx = 0.031265959625383255\n",
      "i = 22, xi = -0.9899948929198773, df_dx = 0.025012767700306693\n",
      "i = 23, xi = -0.9919959143359018, df_dx = 0.0200102141602454\n",
      "i = 24, xi = -0.9935967314687215, df_dx = 0.01600817132819632\n",
      "i = 25, xi = -0.9948773851749773, df_dx = 0.012806537062556966\n",
      "i = 26, xi = -0.9959019081399818, df_dx = 0.010245229650045484\n",
      "i = 27, xi = -0.9967215265119854, df_dx = 0.008196183720036387\n",
      "i = 28, xi = -0.9973772212095884, df_dx = 0.006556946976029154\n",
      "i = 29, xi = -0.9979017769676707, df_dx = 0.005245557580823235\n",
      "i = 30, xi = -0.9983214215741365, df_dx = 0.004196446064658632\n",
      "i = 31, xi = -0.9986571372593092, df_dx = 0.0033571568517269945\n",
      "i = 32, xi = -0.9989257098074473, df_dx = 0.0026857254813816844\n",
      "i = 33, xi = -0.9991405678459578, df_dx = 0.0021485803851053475\n",
      "i = 34, xi = -0.9993124542767663, df_dx = 0.0017188643080843224\n",
      "i = 35, xi = -0.999449963421413, df_dx = 0.0013750914464674135\n",
      "i = 36, xi = -0.9995599707371304, df_dx = 0.0011000731571739752\n"
     ]
    },
    {
     "data": {
      "text/plain": [
       "-0.9996479765897044"
      ]
     },
     "execution_count": 11,
     "metadata": {},
     "output_type": "execute_result"
    }
   ],
   "source": [
    "gd_univariate()"
   ]
  },
  {
   "cell_type": "code",
   "execution_count": null,
   "id": "37c8eaa2-9e8b-4efd-8ce6-d06749547c0e",
   "metadata": {},
   "outputs": [],
   "source": []
  }
 ],
 "metadata": {
  "kernelspec": {
   "display_name": "Python 3 (ipykernel)",
   "language": "python",
   "name": "python3"
  },
  "language_info": {
   "codemirror_mode": {
    "name": "ipython",
    "version": 3
   },
   "file_extension": ".py",
   "mimetype": "text/x-python",
   "name": "python",
   "nbconvert_exporter": "python",
   "pygments_lexer": "ipython3",
   "version": "3.10.9"
  }
 },
 "nbformat": 4,
 "nbformat_minor": 5
}
