{
 "cells": [
  {
   "cell_type": "markdown",
   "metadata": {
    "id": "i2pqn7zRsn6q"
   },
   "source": [
    "## Content\n",
    "- Overview of Cars24 Data\n",
    "  - Loading the data\n",
    "  - Target Variable Encoding and Scaling revised\n",
    "- Data Notation\n",
    "  - Supervised learning revision\n",
    "  - Data Notation\n",
    "- Goal of ML: Generalization\n",
    "  - Training, testing split\n",
    "\n",
    "- Linear Regression Intuition\n",
    "  - Univariate\n",
    "  - Multivariate\n",
    "\n",
    "- Implementation using Sklearn\n",
    "\n",
    "\n",
    "- Evaluation metric\n",
    "  - MSE and MAE\n",
    "  - R2 Score\n",
    "\n"
   ]
  },
  {
   "cell_type": "markdown",
   "metadata": {
    "id": "nLVLt61VtwzS"
   },
   "source": [
    "## Overview of Cars24 Data"
   ]
  },
  {
   "cell_type": "markdown",
   "metadata": {
    "id": "4BmZWXh3bpLE"
   },
   "source": [
    "<img src='https://drive.google.com/uc?id=11GZXTrohYa8ax9NkbT8EyJued13a0xyS' width=800>\n",
    "\n"
   ]
  },
  {
   "cell_type": "markdown",
   "metadata": {
    "id": "gQ05X6XXcSRJ"
   },
   "source": [
    "\n",
    "<img src='https://drive.google.com/uc?id=1lJiiRZlkPgb83pwgL7OVp1MsSIs4hNZj' width=800>\n",
    "\n"
   ]
  },
  {
   "cell_type": "code",
   "execution_count": 1,
   "metadata": {
    "id": "49spn9EhihUg"
   },
   "outputs": [],
   "source": [
    "import numpy as np\n",
    "import pandas as pd\n",
    "import matplotlib.pyplot as plt"
   ]
  },
  {
   "cell_type": "code",
   "execution_count": 2,
   "metadata": {
    "colab": {
     "base_uri": "https://localhost:8080/"
    },
    "id": "SlNNFMGLYSNc",
    "outputId": "84095dc9-2f4f-41e8-8321-794ef5ea581d"
   },
   "outputs": [],
   "source": [
    "#!gdown 1bwRmKkPwmLKiqOgQ_LnKH0Vsc3mJKmVR"
   ]
  },
  {
   "cell_type": "code",
   "execution_count": 6,
   "metadata": {
    "colab": {
     "base_uri": "https://localhost:8080/",
     "height": 285
    },
    "id": "WodYR0alYoW0",
    "outputId": "c52e88b8-2920-47fe-c19a-f29e30a550e9"
   },
   "outputs": [
    {
     "data": {
      "text/html": [
       "<div>\n",
       "<style scoped>\n",
       "    .dataframe tbody tr th:only-of-type {\n",
       "        vertical-align: middle;\n",
       "    }\n",
       "\n",
       "    .dataframe tbody tr th {\n",
       "        vertical-align: top;\n",
       "    }\n",
       "\n",
       "    .dataframe thead th {\n",
       "        text-align: right;\n",
       "    }\n",
       "</style>\n",
       "<table border=\"1\" class=\"dataframe\">\n",
       "  <thead>\n",
       "    <tr style=\"text-align: right;\">\n",
       "      <th></th>\n",
       "      <th>selling_price</th>\n",
       "      <th>year</th>\n",
       "      <th>km_driven</th>\n",
       "      <th>mileage</th>\n",
       "      <th>engine</th>\n",
       "      <th>max_power</th>\n",
       "      <th>make</th>\n",
       "      <th>model</th>\n",
       "      <th>transmission_type</th>\n",
       "      <th>seats_coupe</th>\n",
       "      <th>seats_family</th>\n",
       "      <th>seats_large</th>\n",
       "      <th>fuel_cng</th>\n",
       "      <th>fuel_diesel</th>\n",
       "      <th>fuel_electric</th>\n",
       "      <th>fuel_lpg</th>\n",
       "      <th>fuel_petrol</th>\n",
       "      <th>seller_dealer</th>\n",
       "      <th>seller_individual</th>\n",
       "      <th>seller_trustmark dealer</th>\n",
       "    </tr>\n",
       "  </thead>\n",
       "  <tbody>\n",
       "    <tr>\n",
       "      <th>0</th>\n",
       "      <td>1.20</td>\n",
       "      <td>2012.0</td>\n",
       "      <td>120000</td>\n",
       "      <td>19.70</td>\n",
       "      <td>796.0</td>\n",
       "      <td>46.30</td>\n",
       "      <td>Maruti</td>\n",
       "      <td>Alto Std</td>\n",
       "      <td>1</td>\n",
       "      <td>0</td>\n",
       "      <td>1</td>\n",
       "      <td>0</td>\n",
       "      <td>0</td>\n",
       "      <td>0</td>\n",
       "      <td>0</td>\n",
       "      <td>0</td>\n",
       "      <td>1</td>\n",
       "      <td>0</td>\n",
       "      <td>1</td>\n",
       "      <td>0</td>\n",
       "    </tr>\n",
       "    <tr>\n",
       "      <th>1</th>\n",
       "      <td>5.50</td>\n",
       "      <td>2016.0</td>\n",
       "      <td>20000</td>\n",
       "      <td>18.90</td>\n",
       "      <td>1197.0</td>\n",
       "      <td>82.00</td>\n",
       "      <td>Hyundai</td>\n",
       "      <td>Grand i10 Asta</td>\n",
       "      <td>1</td>\n",
       "      <td>0</td>\n",
       "      <td>1</td>\n",
       "      <td>0</td>\n",
       "      <td>0</td>\n",
       "      <td>0</td>\n",
       "      <td>0</td>\n",
       "      <td>0</td>\n",
       "      <td>1</td>\n",
       "      <td>0</td>\n",
       "      <td>1</td>\n",
       "      <td>0</td>\n",
       "    </tr>\n",
       "    <tr>\n",
       "      <th>2</th>\n",
       "      <td>2.15</td>\n",
       "      <td>2010.0</td>\n",
       "      <td>60000</td>\n",
       "      <td>17.00</td>\n",
       "      <td>1197.0</td>\n",
       "      <td>80.00</td>\n",
       "      <td>Hyundai</td>\n",
       "      <td>i20 Asta</td>\n",
       "      <td>1</td>\n",
       "      <td>0</td>\n",
       "      <td>1</td>\n",
       "      <td>0</td>\n",
       "      <td>0</td>\n",
       "      <td>0</td>\n",
       "      <td>0</td>\n",
       "      <td>0</td>\n",
       "      <td>1</td>\n",
       "      <td>0</td>\n",
       "      <td>1</td>\n",
       "      <td>0</td>\n",
       "    </tr>\n",
       "    <tr>\n",
       "      <th>3</th>\n",
       "      <td>2.26</td>\n",
       "      <td>2012.0</td>\n",
       "      <td>37000</td>\n",
       "      <td>20.92</td>\n",
       "      <td>998.0</td>\n",
       "      <td>67.10</td>\n",
       "      <td>Maruti</td>\n",
       "      <td>Alto K10 2010-2014 VXI</td>\n",
       "      <td>1</td>\n",
       "      <td>0</td>\n",
       "      <td>1</td>\n",
       "      <td>0</td>\n",
       "      <td>0</td>\n",
       "      <td>0</td>\n",
       "      <td>0</td>\n",
       "      <td>0</td>\n",
       "      <td>1</td>\n",
       "      <td>0</td>\n",
       "      <td>1</td>\n",
       "      <td>0</td>\n",
       "    </tr>\n",
       "    <tr>\n",
       "      <th>4</th>\n",
       "      <td>5.70</td>\n",
       "      <td>2015.0</td>\n",
       "      <td>30000</td>\n",
       "      <td>22.77</td>\n",
       "      <td>1498.0</td>\n",
       "      <td>98.59</td>\n",
       "      <td>Ford</td>\n",
       "      <td>Ecosport 2015-2021 1.5 TDCi Titanium BSIV</td>\n",
       "      <td>1</td>\n",
       "      <td>0</td>\n",
       "      <td>1</td>\n",
       "      <td>0</td>\n",
       "      <td>0</td>\n",
       "      <td>1</td>\n",
       "      <td>0</td>\n",
       "      <td>0</td>\n",
       "      <td>0</td>\n",
       "      <td>1</td>\n",
       "      <td>0</td>\n",
       "      <td>0</td>\n",
       "    </tr>\n",
       "  </tbody>\n",
       "</table>\n",
       "</div>"
      ],
      "text/plain": [
       "   selling_price    year  km_driven  mileage  engine  max_power     make  \\\n",
       "0           1.20  2012.0     120000    19.70   796.0      46.30   Maruti   \n",
       "1           5.50  2016.0      20000    18.90  1197.0      82.00  Hyundai   \n",
       "2           2.15  2010.0      60000    17.00  1197.0      80.00  Hyundai   \n",
       "3           2.26  2012.0      37000    20.92   998.0      67.10   Maruti   \n",
       "4           5.70  2015.0      30000    22.77  1498.0      98.59     Ford   \n",
       "\n",
       "                                       model  transmission_type  seats_coupe  \\\n",
       "0                                   Alto Std                  1            0   \n",
       "1                             Grand i10 Asta                  1            0   \n",
       "2                                   i20 Asta                  1            0   \n",
       "3                     Alto K10 2010-2014 VXI                  1            0   \n",
       "4  Ecosport 2015-2021 1.5 TDCi Titanium BSIV                  1            0   \n",
       "\n",
       "   seats_family  seats_large  fuel_cng  fuel_diesel  fuel_electric  fuel_lpg  \\\n",
       "0             1            0         0            0              0         0   \n",
       "1             1            0         0            0              0         0   \n",
       "2             1            0         0            0              0         0   \n",
       "3             1            0         0            0              0         0   \n",
       "4             1            0         0            1              0         0   \n",
       "\n",
       "   fuel_petrol  seller_dealer  seller_individual  seller_trustmark dealer  \n",
       "0            1              0                  1                        0  \n",
       "1            1              0                  1                        0  \n",
       "2            1              0                  1                        0  \n",
       "3            1              0                  1                        0  \n",
       "4            0              1                  0                        0  "
      ]
     },
     "execution_count": 6,
     "metadata": {},
     "output_type": "execute_result"
    }
   ],
   "source": [
    "df = pd.read_csv('cars24-car-price-clean2.csv')\n",
    "df.head()"
   ]
  },
  {
   "cell_type": "markdown",
   "metadata": {
    "id": "yvDuyhcbcbUy"
   },
   "source": [
    "\n",
    "\n",
    "<img src='https://drive.google.com/uc?id=1eFMBxWbNmAivUBc6VXoi1aHQPtC3k_GD' width=800>\n",
    "\n"
   ]
  },
  {
   "cell_type": "markdown",
   "metadata": {
    "id": "9Aw95BA6NVi_"
   },
   "source": [
    "### Target variable encoding"
   ]
  },
  {
   "cell_type": "code",
   "execution_count": 7,
   "metadata": {
    "colab": {
     "base_uri": "https://localhost:8080/"
    },
    "id": "lY4iW2E1Q36J",
    "outputId": "b320924a-22e4-4d8f-fe88-6a34d675d8ce"
   },
   "outputs": [
    {
     "data": {
      "text/plain": [
       "(3262, 42)"
      ]
     },
     "execution_count": 7,
     "metadata": {},
     "output_type": "execute_result"
    }
   ],
   "source": [
    "df['model'].nunique(), df['make'].nunique()"
   ]
  },
  {
   "cell_type": "code",
   "execution_count": 9,
   "metadata": {},
   "outputs": [
    {
     "data": {
      "text/plain": [
       "Maruti           5650\n",
       "Hyundai          3562\n",
       "Honda            1779\n",
       "Mahindra         1276\n",
       "Toyota           1189\n",
       "Tata              971\n",
       "Ford              900\n",
       "Volkswagen        761\n",
       "Renault           636\n",
       "Mercedes-Benz     485\n",
       "BMW               483\n",
       "Skoda             422\n",
       "Chevrolet         406\n",
       "Audi              324\n",
       "Nissan            289\n",
       "Datsun            170\n",
       "Fiat              113\n",
       "Jaguar             80\n",
       "Land               51\n",
       "Volvo              42\n",
       "Jeep               41\n",
       "Mitsubishi         39\n",
       "Kia                33\n",
       "Porsche            25\n",
       "Mini               23\n",
       "MG                 19\n",
       "Isuzu              10\n",
       "Lexus              10\n",
       "Force               5\n",
       "Bentley             4\n",
       "Ambassador          4\n",
       "OpelCorsa           3\n",
       "ISUZU               2\n",
       "DC                  2\n",
       "Maserati            2\n",
       "Daewoo              2\n",
       "Premier             2\n",
       "Lamborghini         1\n",
       "Ferrari             1\n",
       "Mercedes-AMG        1\n",
       "Rolls-Royce         1\n",
       "Opel                1\n",
       "Name: make, dtype: int64"
      ]
     },
     "execution_count": 9,
     "metadata": {},
     "output_type": "execute_result"
    }
   ],
   "source": [
    "df.make.value_counts()"
   ]
  },
  {
   "cell_type": "code",
   "execution_count": 13,
   "metadata": {},
   "outputs": [
    {
     "data": {
      "text/plain": [
       "4.684721460176991"
      ]
     },
     "execution_count": 13,
     "metadata": {},
     "output_type": "execute_result"
    }
   ],
   "source": [
    "np.mean(df[df['make'] == 'Maruti']['selling_price'])"
   ]
  },
  {
   "cell_type": "markdown",
   "metadata": {
    "id": "0vgEruGZQn-G"
   },
   "source": [
    "\n",
    "\n",
    "<img src='https://drive.google.com/uc?id=1JhK5pssMoxwIP2MFmtFJCp9SquJs2AeK' width=800>\n"
   ]
  },
  {
   "cell_type": "markdown",
   "metadata": {
    "id": "_Pt0RDpzc5XX"
   },
   "source": [
    "\n",
    "\n",
    "\n",
    "<img src='https://drive.google.com/uc?id=1Di8s8QsWUZkEOFb3ceoTtBefJfmrSo3w' width=800>\n"
   ]
  },
  {
   "cell_type": "markdown",
   "metadata": {
    "id": "ul8W_IGeRiys"
   },
   "source": [
    "For our data,\n",
    "- we will be using **mean** to encode the columns."
   ]
  },
  {
   "cell_type": "code",
   "execution_count": 14,
   "metadata": {
    "colab": {
     "base_uri": "https://localhost:8080/",
     "height": 206
    },
    "id": "BQF4wqVsMB6g",
    "outputId": "69c716bf-2518-4b47-f558-ed391fc3d587"
   },
   "outputs": [
    {
     "data": {
      "text/html": [
       "<div>\n",
       "<style scoped>\n",
       "    .dataframe tbody tr th:only-of-type {\n",
       "        vertical-align: middle;\n",
       "    }\n",
       "\n",
       "    .dataframe tbody tr th {\n",
       "        vertical-align: top;\n",
       "    }\n",
       "\n",
       "    .dataframe thead th {\n",
       "        text-align: right;\n",
       "    }\n",
       "</style>\n",
       "<table border=\"1\" class=\"dataframe\">\n",
       "  <thead>\n",
       "    <tr style=\"text-align: right;\">\n",
       "      <th></th>\n",
       "      <th>selling_price</th>\n",
       "      <th>year</th>\n",
       "      <th>km_driven</th>\n",
       "      <th>mileage</th>\n",
       "      <th>engine</th>\n",
       "      <th>max_power</th>\n",
       "      <th>make</th>\n",
       "      <th>model</th>\n",
       "      <th>transmission_type</th>\n",
       "      <th>seats_coupe</th>\n",
       "      <th>seats_family</th>\n",
       "      <th>seats_large</th>\n",
       "      <th>fuel_cng</th>\n",
       "      <th>fuel_diesel</th>\n",
       "      <th>fuel_electric</th>\n",
       "      <th>fuel_lpg</th>\n",
       "      <th>fuel_petrol</th>\n",
       "      <th>seller_dealer</th>\n",
       "      <th>seller_individual</th>\n",
       "      <th>seller_trustmark dealer</th>\n",
       "    </tr>\n",
       "  </thead>\n",
       "  <tbody>\n",
       "    <tr>\n",
       "      <th>0</th>\n",
       "      <td>1.20</td>\n",
       "      <td>2012.0</td>\n",
       "      <td>120000</td>\n",
       "      <td>19.70</td>\n",
       "      <td>796.0</td>\n",
       "      <td>46.30</td>\n",
       "      <td>4.684721</td>\n",
       "      <td>1.220000</td>\n",
       "      <td>1</td>\n",
       "      <td>0</td>\n",
       "      <td>1</td>\n",
       "      <td>0</td>\n",
       "      <td>0</td>\n",
       "      <td>0</td>\n",
       "      <td>0</td>\n",
       "      <td>0</td>\n",
       "      <td>1</td>\n",
       "      <td>0</td>\n",
       "      <td>1</td>\n",
       "      <td>0</td>\n",
       "    </tr>\n",
       "    <tr>\n",
       "      <th>1</th>\n",
       "      <td>5.50</td>\n",
       "      <td>2016.0</td>\n",
       "      <td>20000</td>\n",
       "      <td>18.90</td>\n",
       "      <td>1197.0</td>\n",
       "      <td>82.00</td>\n",
       "      <td>5.460699</td>\n",
       "      <td>4.818750</td>\n",
       "      <td>1</td>\n",
       "      <td>0</td>\n",
       "      <td>1</td>\n",
       "      <td>0</td>\n",
       "      <td>0</td>\n",
       "      <td>0</td>\n",
       "      <td>0</td>\n",
       "      <td>0</td>\n",
       "      <td>1</td>\n",
       "      <td>0</td>\n",
       "      <td>1</td>\n",
       "      <td>0</td>\n",
       "    </tr>\n",
       "    <tr>\n",
       "      <th>2</th>\n",
       "      <td>2.15</td>\n",
       "      <td>2010.0</td>\n",
       "      <td>60000</td>\n",
       "      <td>17.00</td>\n",
       "      <td>1197.0</td>\n",
       "      <td>80.00</td>\n",
       "      <td>5.460699</td>\n",
       "      <td>3.394000</td>\n",
       "      <td>1</td>\n",
       "      <td>0</td>\n",
       "      <td>1</td>\n",
       "      <td>0</td>\n",
       "      <td>0</td>\n",
       "      <td>0</td>\n",
       "      <td>0</td>\n",
       "      <td>0</td>\n",
       "      <td>1</td>\n",
       "      <td>0</td>\n",
       "      <td>1</td>\n",
       "      <td>0</td>\n",
       "    </tr>\n",
       "    <tr>\n",
       "      <th>3</th>\n",
       "      <td>2.26</td>\n",
       "      <td>2012.0</td>\n",
       "      <td>37000</td>\n",
       "      <td>20.92</td>\n",
       "      <td>998.0</td>\n",
       "      <td>67.10</td>\n",
       "      <td>4.684721</td>\n",
       "      <td>2.242676</td>\n",
       "      <td>1</td>\n",
       "      <td>0</td>\n",
       "      <td>1</td>\n",
       "      <td>0</td>\n",
       "      <td>0</td>\n",
       "      <td>0</td>\n",
       "      <td>0</td>\n",
       "      <td>0</td>\n",
       "      <td>1</td>\n",
       "      <td>0</td>\n",
       "      <td>1</td>\n",
       "      <td>0</td>\n",
       "    </tr>\n",
       "    <tr>\n",
       "      <th>4</th>\n",
       "      <td>5.70</td>\n",
       "      <td>2015.0</td>\n",
       "      <td>30000</td>\n",
       "      <td>22.77</td>\n",
       "      <td>1498.0</td>\n",
       "      <td>98.59</td>\n",
       "      <td>6.277078</td>\n",
       "      <td>6.777576</td>\n",
       "      <td>1</td>\n",
       "      <td>0</td>\n",
       "      <td>1</td>\n",
       "      <td>0</td>\n",
       "      <td>0</td>\n",
       "      <td>1</td>\n",
       "      <td>0</td>\n",
       "      <td>0</td>\n",
       "      <td>0</td>\n",
       "      <td>1</td>\n",
       "      <td>0</td>\n",
       "      <td>0</td>\n",
       "    </tr>\n",
       "  </tbody>\n",
       "</table>\n",
       "</div>"
      ],
      "text/plain": [
       "   selling_price    year  km_driven  mileage  engine  max_power      make  \\\n",
       "0           1.20  2012.0     120000    19.70   796.0      46.30  4.684721   \n",
       "1           5.50  2016.0      20000    18.90  1197.0      82.00  5.460699   \n",
       "2           2.15  2010.0      60000    17.00  1197.0      80.00  5.460699   \n",
       "3           2.26  2012.0      37000    20.92   998.0      67.10  4.684721   \n",
       "4           5.70  2015.0      30000    22.77  1498.0      98.59  6.277078   \n",
       "\n",
       "      model  transmission_type  seats_coupe  seats_family  seats_large  \\\n",
       "0  1.220000                  1            0             1            0   \n",
       "1  4.818750                  1            0             1            0   \n",
       "2  3.394000                  1            0             1            0   \n",
       "3  2.242676                  1            0             1            0   \n",
       "4  6.777576                  1            0             1            0   \n",
       "\n",
       "   fuel_cng  fuel_diesel  fuel_electric  fuel_lpg  fuel_petrol  seller_dealer  \\\n",
       "0         0            0              0         0            1              0   \n",
       "1         0            0              0         0            1              0   \n",
       "2         0            0              0         0            1              0   \n",
       "3         0            0              0         0            1              0   \n",
       "4         0            1              0         0            0              1   \n",
       "\n",
       "   seller_individual  seller_trustmark dealer  \n",
       "0                  1                        0  \n",
       "1                  1                        0  \n",
       "2                  1                        0  \n",
       "3                  1                        0  \n",
       "4                  0                        0  "
      ]
     },
     "execution_count": 14,
     "metadata": {},
     "output_type": "execute_result"
    }
   ],
   "source": [
    "df['make'] = df.groupby('make')['selling_price'].transform('mean')\n",
    "df['model'] = df.groupby('model')['selling_price'].transform('mean')\n",
    "df.head()"
   ]
  },
  {
   "cell_type": "markdown",
   "metadata": {
    "id": "Dh1HQr3ENRNt"
   },
   "source": [
    "### Scaling the data -"
   ]
  },
  {
   "cell_type": "markdown",
   "metadata": {
    "id": "APSQLlrDdJht"
   },
   "source": [
    "Notice one more thing:\n",
    "\n",
    "- `km_driven` is in the ranges of 10000s,\n",
    "- while `age` is in the range of 10s.\n"
   ]
  },
  {
   "cell_type": "markdown",
   "metadata": {
    "id": "m7o0iUGFc-2p"
   },
   "source": [
    "\n",
    "\n",
    "\n",
    "<img src='https://drive.google.com/uc?id=1816RrFmFMXAYHe4bBtXljxKq2pXTOa16' width=800>\n"
   ]
  },
  {
   "cell_type": "markdown",
   "metadata": {
    "id": "CAPZnAhbdWFG"
   },
   "source": [
    "\n",
    "\n",
    "\n",
    "\n",
    "<img src='https://drive.google.com/uc?id=1X_DZeiRvvjMiZfjX5Mx1A7PrviB-n9wR' width=800>\n"
   ]
  },
  {
   "cell_type": "markdown",
   "metadata": {
    "id": "31bkNtfQST_a"
   },
   "source": [
    "**Tip:** </br>\n",
    "Apart from MinMaxScaler, you can also try out various methods to see which works the best."
   ]
  },
  {
   "cell_type": "code",
   "execution_count": 15,
   "metadata": {
    "colab": {
     "base_uri": "https://localhost:8080/",
     "height": 250
    },
    "id": "8ToyFbh6LwlL",
    "outputId": "a8675369-e866-4d8f-a9c5-afc83f9a871c"
   },
   "outputs": [
    {
     "data": {
      "text/html": [
       "<div>\n",
       "<style scoped>\n",
       "    .dataframe tbody tr th:only-of-type {\n",
       "        vertical-align: middle;\n",
       "    }\n",
       "\n",
       "    .dataframe tbody tr th {\n",
       "        vertical-align: top;\n",
       "    }\n",
       "\n",
       "    .dataframe thead th {\n",
       "        text-align: right;\n",
       "    }\n",
       "</style>\n",
       "<table border=\"1\" class=\"dataframe\">\n",
       "  <thead>\n",
       "    <tr style=\"text-align: right;\">\n",
       "      <th></th>\n",
       "      <th>selling_price</th>\n",
       "      <th>year</th>\n",
       "      <th>km_driven</th>\n",
       "      <th>mileage</th>\n",
       "      <th>engine</th>\n",
       "      <th>max_power</th>\n",
       "      <th>make</th>\n",
       "      <th>model</th>\n",
       "      <th>transmission_type</th>\n",
       "      <th>seats_coupe</th>\n",
       "      <th>seats_family</th>\n",
       "      <th>seats_large</th>\n",
       "      <th>fuel_cng</th>\n",
       "      <th>fuel_diesel</th>\n",
       "      <th>fuel_electric</th>\n",
       "      <th>fuel_lpg</th>\n",
       "      <th>fuel_petrol</th>\n",
       "      <th>seller_dealer</th>\n",
       "      <th>seller_individual</th>\n",
       "      <th>seller_trustmark dealer</th>\n",
       "    </tr>\n",
       "  </thead>\n",
       "  <tbody>\n",
       "    <tr>\n",
       "      <th>0</th>\n",
       "      <td>0.002280</td>\n",
       "      <td>0.689655</td>\n",
       "      <td>0.031553</td>\n",
       "      <td>0.135345</td>\n",
       "      <td>0.117891</td>\n",
       "      <td>0.066506</td>\n",
       "      <td>0.009905</td>\n",
       "      <td>0.002268</td>\n",
       "      <td>1.0</td>\n",
       "      <td>0.0</td>\n",
       "      <td>1.0</td>\n",
       "      <td>0.0</td>\n",
       "      <td>0.0</td>\n",
       "      <td>0.0</td>\n",
       "      <td>0.0</td>\n",
       "      <td>0.0</td>\n",
       "      <td>1.0</td>\n",
       "      <td>0.0</td>\n",
       "      <td>1.0</td>\n",
       "      <td>0.0</td>\n",
       "    </tr>\n",
       "    <tr>\n",
       "      <th>1</th>\n",
       "      <td>0.013175</td>\n",
       "      <td>0.827586</td>\n",
       "      <td>0.005237</td>\n",
       "      <td>0.128448</td>\n",
       "      <td>0.177281</td>\n",
       "      <td>0.123994</td>\n",
       "      <td>0.011873</td>\n",
       "      <td>0.011386</td>\n",
       "      <td>1.0</td>\n",
       "      <td>0.0</td>\n",
       "      <td>1.0</td>\n",
       "      <td>0.0</td>\n",
       "      <td>0.0</td>\n",
       "      <td>0.0</td>\n",
       "      <td>0.0</td>\n",
       "      <td>0.0</td>\n",
       "      <td>1.0</td>\n",
       "      <td>0.0</td>\n",
       "      <td>1.0</td>\n",
       "      <td>0.0</td>\n",
       "    </tr>\n",
       "    <tr>\n",
       "      <th>2</th>\n",
       "      <td>0.004687</td>\n",
       "      <td>0.620690</td>\n",
       "      <td>0.015764</td>\n",
       "      <td>0.112069</td>\n",
       "      <td>0.177281</td>\n",
       "      <td>0.120773</td>\n",
       "      <td>0.011873</td>\n",
       "      <td>0.007776</td>\n",
       "      <td>1.0</td>\n",
       "      <td>0.0</td>\n",
       "      <td>1.0</td>\n",
       "      <td>0.0</td>\n",
       "      <td>0.0</td>\n",
       "      <td>0.0</td>\n",
       "      <td>0.0</td>\n",
       "      <td>0.0</td>\n",
       "      <td>1.0</td>\n",
       "      <td>0.0</td>\n",
       "      <td>1.0</td>\n",
       "      <td>0.0</td>\n",
       "    </tr>\n",
       "    <tr>\n",
       "      <th>3</th>\n",
       "      <td>0.004966</td>\n",
       "      <td>0.689655</td>\n",
       "      <td>0.009711</td>\n",
       "      <td>0.145862</td>\n",
       "      <td>0.147808</td>\n",
       "      <td>0.100000</td>\n",
       "      <td>0.009905</td>\n",
       "      <td>0.004859</td>\n",
       "      <td>1.0</td>\n",
       "      <td>0.0</td>\n",
       "      <td>1.0</td>\n",
       "      <td>0.0</td>\n",
       "      <td>0.0</td>\n",
       "      <td>0.0</td>\n",
       "      <td>0.0</td>\n",
       "      <td>0.0</td>\n",
       "      <td>1.0</td>\n",
       "      <td>0.0</td>\n",
       "      <td>1.0</td>\n",
       "      <td>0.0</td>\n",
       "    </tr>\n",
       "    <tr>\n",
       "      <th>4</th>\n",
       "      <td>0.013681</td>\n",
       "      <td>0.793103</td>\n",
       "      <td>0.007869</td>\n",
       "      <td>0.161810</td>\n",
       "      <td>0.221860</td>\n",
       "      <td>0.150709</td>\n",
       "      <td>0.013944</td>\n",
       "      <td>0.016349</td>\n",
       "      <td>1.0</td>\n",
       "      <td>0.0</td>\n",
       "      <td>1.0</td>\n",
       "      <td>0.0</td>\n",
       "      <td>0.0</td>\n",
       "      <td>1.0</td>\n",
       "      <td>0.0</td>\n",
       "      <td>0.0</td>\n",
       "      <td>0.0</td>\n",
       "      <td>1.0</td>\n",
       "      <td>0.0</td>\n",
       "      <td>0.0</td>\n",
       "    </tr>\n",
       "  </tbody>\n",
       "</table>\n",
       "</div>"
      ],
      "text/plain": [
       "   selling_price      year  km_driven   mileage    engine  max_power  \\\n",
       "0       0.002280  0.689655   0.031553  0.135345  0.117891   0.066506   \n",
       "1       0.013175  0.827586   0.005237  0.128448  0.177281   0.123994   \n",
       "2       0.004687  0.620690   0.015764  0.112069  0.177281   0.120773   \n",
       "3       0.004966  0.689655   0.009711  0.145862  0.147808   0.100000   \n",
       "4       0.013681  0.793103   0.007869  0.161810  0.221860   0.150709   \n",
       "\n",
       "       make     model  transmission_type  seats_coupe  seats_family  \\\n",
       "0  0.009905  0.002268                1.0          0.0           1.0   \n",
       "1  0.011873  0.011386                1.0          0.0           1.0   \n",
       "2  0.011873  0.007776                1.0          0.0           1.0   \n",
       "3  0.009905  0.004859                1.0          0.0           1.0   \n",
       "4  0.013944  0.016349                1.0          0.0           1.0   \n",
       "\n",
       "   seats_large  fuel_cng  fuel_diesel  fuel_electric  fuel_lpg  fuel_petrol  \\\n",
       "0          0.0       0.0          0.0            0.0       0.0          1.0   \n",
       "1          0.0       0.0          0.0            0.0       0.0          1.0   \n",
       "2          0.0       0.0          0.0            0.0       0.0          1.0   \n",
       "3          0.0       0.0          0.0            0.0       0.0          1.0   \n",
       "4          0.0       0.0          1.0            0.0       0.0          0.0   \n",
       "\n",
       "   seller_dealer  seller_individual  seller_trustmark dealer  \n",
       "0            0.0                1.0                      0.0  \n",
       "1            0.0                1.0                      0.0  \n",
       "2            0.0                1.0                      0.0  \n",
       "3            0.0                1.0                      0.0  \n",
       "4            1.0                0.0                      0.0  "
      ]
     },
     "execution_count": 15,
     "metadata": {},
     "output_type": "execute_result"
    }
   ],
   "source": [
    "from sklearn.preprocessing import MinMaxScaler\n",
    "\n",
    "scaler = MinMaxScaler()\n",
    "\n",
    "df = pd.DataFrame(scaler.fit_transform(df), columns=df.columns)\n",
    "df.head()"
   ]
  },
  {
   "cell_type": "markdown",
   "metadata": {
    "id": "YUBxGZoANgwl"
   },
   "source": [
    "## Data Notation"
   ]
  },
  {
   "cell_type": "markdown",
   "metadata": {
    "id": "2rfpaSRDlY-n"
   },
   "source": [
    "Let's look at few notations we will be following throughout machine learning."
   ]
  },
  {
   "cell_type": "markdown",
   "metadata": {
    "id": "wyIEdCqalfW0"
   },
   "source": [
    "\n",
    "\n",
    "\n",
    "\n",
    "<img src='https://drive.google.com/uc?id=1KkkH1887zYJDd_La8GsQCfFgFXfOqp3E' width=800>\n"
   ]
  },
  {
   "cell_type": "markdown",
   "metadata": {
    "id": "4zWGf19aRGzk"
   },
   "source": [
    "## Goal of ML: Generalization"
   ]
  },
  {
   "cell_type": "markdown",
   "metadata": {
    "id": "w-pEWLvvgPPk"
   },
   "source": [
    "<img src='https://drive.google.com/uc?id=176m5_ZP32kzwNNtWE5Ndl-7ykxt57eSC' width=800>\n"
   ]
  },
  {
   "cell_type": "markdown",
   "metadata": {
    "id": "eajAMSH5gXvq"
   },
   "source": [
    "<img src='https://drive.google.com/uc?id=1fSCRGI-uvl2D5UaFyWdRt0fLaq7EUby9' width=800>"
   ]
  },
  {
   "cell_type": "markdown",
   "metadata": {
    "id": "67fFp_dygeGU"
   },
   "source": [
    "\n",
    "\n",
    "\n",
    "\n",
    "<img src='https://drive.google.com/uc?id=1J7SlbzRXDHH4O7zQ1FhNZhdWv36osntL' width=800>"
   ]
  },
  {
   "cell_type": "markdown",
   "metadata": {
    "id": "P2nm6G14gm_J"
   },
   "source": [
    "\n",
    "<img src='https://drive.google.com/uc?id=1xcQQHhP8BborJTjdYcKYZdH3sDLXyHPF' width=800>"
   ]
  },
  {
   "cell_type": "markdown",
   "metadata": {
    "id": "n4Iq3zopV8Og"
   },
   "source": [
    "Now let's see how we can split our data.\n",
    "\n",
    "We will be using sklearn's `test_train_split` function for this."
   ]
  },
  {
   "cell_type": "code",
   "execution_count": 16,
   "metadata": {
    "id": "G5bphu6XPTdC"
   },
   "outputs": [],
   "source": [
    "from sklearn.model_selection import train_test_split"
   ]
  },
  {
   "cell_type": "markdown",
   "metadata": {
    "id": "15ZChlfWWQm8"
   },
   "source": [
    "From our data:\n",
    "- The output data, `y` is the column `selling_price`\n",
    "- Remaining columns are the input data, `X`"
   ]
  },
  {
   "cell_type": "code",
   "execution_count": 17,
   "metadata": {
    "colab": {
     "base_uri": "https://localhost:8080/"
    },
    "id": "sPJYSusSWPkA",
    "outputId": "3a20ba00-2abd-4e26-c013-e518248cbab2"
   },
   "outputs": [
    {
     "data": {
      "text/plain": [
       "((19820,), (19820, 19))"
      ]
     },
     "execution_count": 17,
     "metadata": {},
     "output_type": "execute_result"
    }
   ],
   "source": [
    "y = df['selling_price']\n",
    "X = df.drop('selling_price', axis=1)\n",
    "y.shape, X.shape"
   ]
  },
  {
   "cell_type": "markdown",
   "metadata": {
    "id": "wR_8cukzWoup"
   },
   "source": [
    "So we have to,\n",
    "- predict 1 output feature\n",
    "- using 17 input features.\n"
   ]
  },
  {
   "cell_type": "markdown",
   "metadata": {
    "id": "pug7GMKsWswe"
   },
   "source": [
    "Now let's split the data.\n",
    "\n",
    "We will divide it into 70:30 ratio:\n",
    "- 70% for training,\n",
    "- and 30% for testing."
   ]
  },
  {
   "cell_type": "code",
   "execution_count": 18,
   "metadata": {
    "id": "ij_jFZLGWk3d"
   },
   "outputs": [],
   "source": [
    "X_train, X_test, y_train, y_test = train_test_split(X, y, test_size=0.3, random_state=1)"
   ]
  },
  {
   "cell_type": "code",
   "execution_count": 19,
   "metadata": {
    "colab": {
     "base_uri": "https://localhost:8080/"
    },
    "id": "PZP9B3c9W52p",
    "outputId": "444b1224-29d0-4264-d1d8-0de1e4510f3f"
   },
   "outputs": [
    {
     "data": {
      "text/plain": [
       "((13874, 19), (13874,))"
      ]
     },
     "execution_count": 19,
     "metadata": {},
     "output_type": "execute_result"
    }
   ],
   "source": [
    "X_train.shape, y_train.shape"
   ]
  },
  {
   "cell_type": "code",
   "execution_count": 20,
   "metadata": {
    "colab": {
     "base_uri": "https://localhost:8080/"
    },
    "id": "UXoOALalW7Gm",
    "outputId": "7870d30b-0f4e-44e0-fa06-39e45c40a5cd"
   },
   "outputs": [
    {
     "data": {
      "text/plain": [
       "((5946, 19), (5946,))"
      ]
     },
     "execution_count": 20,
     "metadata": {},
     "output_type": "execute_result"
    }
   ],
   "source": [
    "X_test.shape, y_test.shape"
   ]
  },
  {
   "cell_type": "markdown",
   "metadata": {
    "id": "2E4wyEQNXE6S"
   },
   "source": [
    "We will use\n",
    "- `X_train` and `y_train` to train our model,\n",
    "- and `X_test` and `y_test` to evaluate the model's performance."
   ]
  },
  {
   "cell_type": "markdown",
   "metadata": {
    "id": "-tii34FzXPJy"
   },
   "source": [
    "## Linear Regression Intuition"
   ]
  },
  {
   "cell_type": "markdown",
   "metadata": {
    "id": "FriKvAR5gso7"
   },
   "source": [
    "### Univariate"
   ]
  },
  {
   "cell_type": "markdown",
   "metadata": {
    "id": "BAzeyyrUg5Mb"
   },
   "source": [
    "\n",
    "<img src='https://drive.google.com/uc?id=1i0_y1y4htkfSFPxin-Pv7s5zDPQkohgI' width=800>"
   ]
  },
  {
   "cell_type": "markdown",
   "metadata": {
    "id": "RMGdCUivg9Vk"
   },
   "source": [
    "\n",
    "<img src='https://drive.google.com/uc?id=1h5TQTygmLkn1U4HT0UDJ2xCiTa1R6X4Z' width=800>"
   ]
  },
  {
   "cell_type": "markdown",
   "metadata": {
    "id": "ByaH5znYkQ00"
   },
   "source": [
    "\n",
    "<img src='https://drive.google.com/uc?id=1sZmDwv58o9TZ-4APuOSowEYESqj2hpbk' width=800>\n"
   ]
  },
  {
   "cell_type": "markdown",
   "metadata": {
    "id": "CLvoBkDVki6J"
   },
   "source": [
    "\n",
    "<img src='https://drive.google.com/uc?id=1oXW05pUUG29M67EhpROay4IatlWtMjp_' width=800>\n"
   ]
  },
  {
   "cell_type": "markdown",
   "metadata": {
    "id": "SGin3O0kg0GB"
   },
   "source": [
    "### Multivariate"
   ]
  },
  {
   "cell_type": "markdown",
   "metadata": {
    "id": "fZNY8KrThDsz"
   },
   "source": [
    "\n",
    "\n",
    "<img src='https://drive.google.com/uc?id=1_qT0OawmozWToy3GzjYlOcNxGdd75eVU' width=800>"
   ]
  },
  {
   "cell_type": "markdown",
   "metadata": {
    "id": "Dj5L1OEThISB"
   },
   "source": [
    "\n",
    "\n",
    "<img src='https://drive.google.com/uc?id=1oOgS0IKvYl9lF-cXdby7hsoBxh16eHji' width=800>"
   ]
  },
  {
   "cell_type": "markdown",
   "metadata": {
    "id": "oSAE8ahElHFx"
   },
   "source": [
    "\n",
    "<img src='https://drive.google.com/uc?id=1rnU5hehIy0aBo9TXgbsCJNJ9245Jqjpj' width=800>\n"
   ]
  },
  {
   "cell_type": "markdown",
   "metadata": {
    "id": "6ECj6FWIlLxY"
   },
   "source": [
    "<img src='https://drive.google.com/uc?id=1gHUnuY6AMb2MdVqDCqZme9nMQdMQlOAM' width=800>\n"
   ]
  },
  {
   "cell_type": "markdown",
   "metadata": {
    "id": "yXKHo74tqXku"
   },
   "source": [
    "## Lin Reg using sklearn\n",
    "\n",
    "\n",
    "\n",
    "\n"
   ]
  },
  {
   "cell_type": "markdown",
   "metadata": {
    "id": "NGCqvq9pOtk9"
   },
   "source": [
    "### Univariate"
   ]
  },
  {
   "cell_type": "markdown",
   "metadata": {
    "id": "_qkMpjo6O0MS"
   },
   "source": [
    "Let's first take a single variable and train our model."
   ]
  },
  {
   "cell_type": "code",
   "execution_count": 21,
   "metadata": {
    "id": "u3JOzFWdO3uj"
   },
   "outputs": [],
   "source": [
    "X1=X[['model']]\n",
    "X1_train = X_train[['model']]\n",
    "X1_test = X_test[['model']]"
   ]
  },
  {
   "cell_type": "code",
   "execution_count": 22,
   "metadata": {
    "colab": {
     "base_uri": "https://localhost:8080/",
     "height": 74
    },
    "id": "gsi2QKMuOt4r",
    "outputId": "d727ccc0-9d5f-4611-93ec-12f0dffee53b"
   },
   "outputs": [
    {
     "data": {
      "text/html": [
       "<style>#sk-container-id-1 {color: black;background-color: white;}#sk-container-id-1 pre{padding: 0;}#sk-container-id-1 div.sk-toggleable {background-color: white;}#sk-container-id-1 label.sk-toggleable__label {cursor: pointer;display: block;width: 100%;margin-bottom: 0;padding: 0.3em;box-sizing: border-box;text-align: center;}#sk-container-id-1 label.sk-toggleable__label-arrow:before {content: \"▸\";float: left;margin-right: 0.25em;color: #696969;}#sk-container-id-1 label.sk-toggleable__label-arrow:hover:before {color: black;}#sk-container-id-1 div.sk-estimator:hover label.sk-toggleable__label-arrow:before {color: black;}#sk-container-id-1 div.sk-toggleable__content {max-height: 0;max-width: 0;overflow: hidden;text-align: left;background-color: #f0f8ff;}#sk-container-id-1 div.sk-toggleable__content pre {margin: 0.2em;color: black;border-radius: 0.25em;background-color: #f0f8ff;}#sk-container-id-1 input.sk-toggleable__control:checked~div.sk-toggleable__content {max-height: 200px;max-width: 100%;overflow: auto;}#sk-container-id-1 input.sk-toggleable__control:checked~label.sk-toggleable__label-arrow:before {content: \"▾\";}#sk-container-id-1 div.sk-estimator input.sk-toggleable__control:checked~label.sk-toggleable__label {background-color: #d4ebff;}#sk-container-id-1 div.sk-label input.sk-toggleable__control:checked~label.sk-toggleable__label {background-color: #d4ebff;}#sk-container-id-1 input.sk-hidden--visually {border: 0;clip: rect(1px 1px 1px 1px);clip: rect(1px, 1px, 1px, 1px);height: 1px;margin: -1px;overflow: hidden;padding: 0;position: absolute;width: 1px;}#sk-container-id-1 div.sk-estimator {font-family: monospace;background-color: #f0f8ff;border: 1px dotted black;border-radius: 0.25em;box-sizing: border-box;margin-bottom: 0.5em;}#sk-container-id-1 div.sk-estimator:hover {background-color: #d4ebff;}#sk-container-id-1 div.sk-parallel-item::after {content: \"\";width: 100%;border-bottom: 1px solid gray;flex-grow: 1;}#sk-container-id-1 div.sk-label:hover label.sk-toggleable__label {background-color: #d4ebff;}#sk-container-id-1 div.sk-serial::before {content: \"\";position: absolute;border-left: 1px solid gray;box-sizing: border-box;top: 0;bottom: 0;left: 50%;z-index: 0;}#sk-container-id-1 div.sk-serial {display: flex;flex-direction: column;align-items: center;background-color: white;padding-right: 0.2em;padding-left: 0.2em;position: relative;}#sk-container-id-1 div.sk-item {position: relative;z-index: 1;}#sk-container-id-1 div.sk-parallel {display: flex;align-items: stretch;justify-content: center;background-color: white;position: relative;}#sk-container-id-1 div.sk-item::before, #sk-container-id-1 div.sk-parallel-item::before {content: \"\";position: absolute;border-left: 1px solid gray;box-sizing: border-box;top: 0;bottom: 0;left: 50%;z-index: -1;}#sk-container-id-1 div.sk-parallel-item {display: flex;flex-direction: column;z-index: 1;position: relative;background-color: white;}#sk-container-id-1 div.sk-parallel-item:first-child::after {align-self: flex-end;width: 50%;}#sk-container-id-1 div.sk-parallel-item:last-child::after {align-self: flex-start;width: 50%;}#sk-container-id-1 div.sk-parallel-item:only-child::after {width: 0;}#sk-container-id-1 div.sk-dashed-wrapped {border: 1px dashed gray;margin: 0 0.4em 0.5em 0.4em;box-sizing: border-box;padding-bottom: 0.4em;background-color: white;}#sk-container-id-1 div.sk-label label {font-family: monospace;font-weight: bold;display: inline-block;line-height: 1.2em;}#sk-container-id-1 div.sk-label-container {text-align: center;}#sk-container-id-1 div.sk-container {/* jupyter's `normalize.less` sets `[hidden] { display: none; }` but bootstrap.min.css set `[hidden] { display: none !important; }` so we also need the `!important` here to be able to override the default hidden behavior on the sphinx rendered scikit-learn.org. See: https://github.com/scikit-learn/scikit-learn/issues/21755 */display: inline-block !important;position: relative;}#sk-container-id-1 div.sk-text-repr-fallback {display: none;}</style><div id=\"sk-container-id-1\" class=\"sk-top-container\"><div class=\"sk-text-repr-fallback\"><pre>LinearRegression()</pre><b>In a Jupyter environment, please rerun this cell to show the HTML representation or trust the notebook. <br />On GitHub, the HTML representation is unable to render, please try loading this page with nbviewer.org.</b></div><div class=\"sk-container\" hidden><div class=\"sk-item\"><div class=\"sk-estimator sk-toggleable\"><input class=\"sk-toggleable__control sk-hidden--visually\" id=\"sk-estimator-id-1\" type=\"checkbox\" checked><label for=\"sk-estimator-id-1\" class=\"sk-toggleable__label sk-toggleable__label-arrow\">LinearRegression</label><div class=\"sk-toggleable__content\"><pre>LinearRegression()</pre></div></div></div></div></div>"
      ],
      "text/plain": [
       "LinearRegression()"
      ]
     },
     "execution_count": 22,
     "metadata": {},
     "output_type": "execute_result"
    }
   ],
   "source": [
    "from sklearn.linear_model import LinearRegression\n",
    "model = LinearRegression()\n",
    "model.fit(X1_train, y_train)"
   ]
  },
  {
   "cell_type": "code",
   "execution_count": 23,
   "metadata": {
    "colab": {
     "base_uri": "https://localhost:8080/"
    },
    "id": "ahDzFDBcOt4s",
    "outputId": "6822a67e-2a4c-4da5-f412-020d4e147a28"
   },
   "outputs": [
    {
     "data": {
      "text/plain": [
       "array([1.00124279])"
      ]
     },
     "execution_count": 23,
     "metadata": {},
     "output_type": "execute_result"
    }
   ],
   "source": [
    "model.coef_"
   ]
  },
  {
   "cell_type": "code",
   "execution_count": 24,
   "metadata": {
    "colab": {
     "base_uri": "https://localhost:8080/"
    },
    "id": "6g361zlmOt4s",
    "outputId": "8ced8d37-7bea-40f0-8d5e-bf9941370619"
   },
   "outputs": [
    {
     "data": {
      "text/plain": [
       "2.9912234967802154e-05"
      ]
     },
     "execution_count": 24,
     "metadata": {},
     "output_type": "execute_result"
    }
   ],
   "source": [
    "model.intercept_"
   ]
  },
  {
   "cell_type": "code",
   "execution_count": 25,
   "metadata": {
    "id": "jQRwQb0kQi_R"
   },
   "outputs": [],
   "source": [
    "y_hat = model.predict(X1)"
   ]
  },
  {
   "cell_type": "code",
   "execution_count": 26,
   "metadata": {
    "colab": {
     "base_uri": "https://localhost:8080/",
     "height": 430
    },
    "id": "aI4wpSMMOt4s",
    "outputId": "2fb9b5ab-4643-4789-f2ec-4bddf8fc9c69"
   },
   "outputs": [
    {
     "data": {
      "image/png": "[encoded data removed]",
      "text/plain": [
       "<Figure size 640x480 with 1 Axes>"
      ]
     },
     "metadata": {},
     "output_type": "display_data"
    }
   ],
   "source": [
    "fig = plt.figure()\n",
    "plt.scatter(X1,y,label='data')\n",
    "plt.scatter(X1,y_hat,color='orange',label='prediction')\n",
    "plt.legend()\n",
    "plt.show()"
   ]
  },
  {
   "cell_type": "markdown",
   "metadata": {
    "id": "26ayfOuIQsh8"
   },
   "source": [
    "Notice,\n",
    "- how the predicted values form a line similar to a regression line."
   ]
  },
  {
   "cell_type": "markdown",
   "metadata": {
    "id": "OinmKuV8OePl"
   },
   "source": [
    "### Multivariate"
   ]
  },
  {
   "cell_type": "markdown",
   "metadata": {
    "id": "WV3WSaAlQyfN"
   },
   "source": [
    "Let's now generalize our model for the whole data."
   ]
  },
  {
   "cell_type": "code",
   "execution_count": 27,
   "metadata": {
    "colab": {
     "base_uri": "https://localhost:8080/"
    },
    "id": "rqEQ9pt0ZuBK",
    "outputId": "cd2b6a6f-ce0a-4508-cecf-496adfecde3a"
   },
   "outputs": [
    {
     "name": "stdout",
     "output_type": "stream",
     "text": [
      "(19820, 19) (19820,)\n"
     ]
    }
   ],
   "source": [
    "print(X.shape, y.shape)"
   ]
  },
  {
   "cell_type": "code",
   "execution_count": 28,
   "metadata": {
    "colab": {
     "base_uri": "https://localhost:8080/",
     "height": 74
    },
    "id": "qPLoxGgMqw3M",
    "outputId": "72c7e2b0-b33a-4a49-a476-dec5ca8c927b"
   },
   "outputs": [
    {
     "data": {
      "text/html": [
       "<style>#sk-container-id-2 {color: black;background-color: white;}#sk-container-id-2 pre{padding: 0;}#sk-container-id-2 div.sk-toggleable {background-color: white;}#sk-container-id-2 label.sk-toggleable__label {cursor: pointer;display: block;width: 100%;margin-bottom: 0;padding: 0.3em;box-sizing: border-box;text-align: center;}#sk-container-id-2 label.sk-toggleable__label-arrow:before {content: \"▸\";float: left;margin-right: 0.25em;color: #696969;}#sk-container-id-2 label.sk-toggleable__label-arrow:hover:before {color: black;}#sk-container-id-2 div.sk-estimator:hover label.sk-toggleable__label-arrow:before {color: black;}#sk-container-id-2 div.sk-toggleable__content {max-height: 0;max-width: 0;overflow: hidden;text-align: left;background-color: #f0f8ff;}#sk-container-id-2 div.sk-toggleable__content pre {margin: 0.2em;color: black;border-radius: 0.25em;background-color: #f0f8ff;}#sk-container-id-2 input.sk-toggleable__control:checked~div.sk-toggleable__content {max-height: 200px;max-width: 100%;overflow: auto;}#sk-container-id-2 input.sk-toggleable__control:checked~label.sk-toggleable__label-arrow:before {content: \"▾\";}#sk-container-id-2 div.sk-estimator input.sk-toggleable__control:checked~label.sk-toggleable__label {background-color: #d4ebff;}#sk-container-id-2 div.sk-label input.sk-toggleable__control:checked~label.sk-toggleable__label {background-color: #d4ebff;}#sk-container-id-2 input.sk-hidden--visually {border: 0;clip: rect(1px 1px 1px 1px);clip: rect(1px, 1px, 1px, 1px);height: 1px;margin: -1px;overflow: hidden;padding: 0;position: absolute;width: 1px;}#sk-container-id-2 div.sk-estimator {font-family: monospace;background-color: #f0f8ff;border: 1px dotted black;border-radius: 0.25em;box-sizing: border-box;margin-bottom: 0.5em;}#sk-container-id-2 div.sk-estimator:hover {background-color: #d4ebff;}#sk-container-id-2 div.sk-parallel-item::after {content: \"\";width: 100%;border-bottom: 1px solid gray;flex-grow: 1;}#sk-container-id-2 div.sk-label:hover label.sk-toggleable__label {background-color: #d4ebff;}#sk-container-id-2 div.sk-serial::before {content: \"\";position: absolute;border-left: 1px solid gray;box-sizing: border-box;top: 0;bottom: 0;left: 50%;z-index: 0;}#sk-container-id-2 div.sk-serial {display: flex;flex-direction: column;align-items: center;background-color: white;padding-right: 0.2em;padding-left: 0.2em;position: relative;}#sk-container-id-2 div.sk-item {position: relative;z-index: 1;}#sk-container-id-2 div.sk-parallel {display: flex;align-items: stretch;justify-content: center;background-color: white;position: relative;}#sk-container-id-2 div.sk-item::before, #sk-container-id-2 div.sk-parallel-item::before {content: \"\";position: absolute;border-left: 1px solid gray;box-sizing: border-box;top: 0;bottom: 0;left: 50%;z-index: -1;}#sk-container-id-2 div.sk-parallel-item {display: flex;flex-direction: column;z-index: 1;position: relative;background-color: white;}#sk-container-id-2 div.sk-parallel-item:first-child::after {align-self: flex-end;width: 50%;}#sk-container-id-2 div.sk-parallel-item:last-child::after {align-self: flex-start;width: 50%;}#sk-container-id-2 div.sk-parallel-item:only-child::after {width: 0;}#sk-container-id-2 div.sk-dashed-wrapped {border: 1px dashed gray;margin: 0 0.4em 0.5em 0.4em;box-sizing: border-box;padding-bottom: 0.4em;background-color: white;}#sk-container-id-2 div.sk-label label {font-family: monospace;font-weight: bold;display: inline-block;line-height: 1.2em;}#sk-container-id-2 div.sk-label-container {text-align: center;}#sk-container-id-2 div.sk-container {/* jupyter's `normalize.less` sets `[hidden] { display: none; }` but bootstrap.min.css set `[hidden] { display: none !important; }` so we also need the `!important` here to be able to override the default hidden behavior on the sphinx rendered scikit-learn.org. See: https://github.com/scikit-learn/scikit-learn/issues/21755 */display: inline-block !important;position: relative;}#sk-container-id-2 div.sk-text-repr-fallback {display: none;}</style><div id=\"sk-container-id-2\" class=\"sk-top-container\"><div class=\"sk-text-repr-fallback\"><pre>LinearRegression()</pre><b>In a Jupyter environment, please rerun this cell to show the HTML representation or trust the notebook. <br />On GitHub, the HTML representation is unable to render, please try loading this page with nbviewer.org.</b></div><div class=\"sk-container\" hidden><div class=\"sk-item\"><div class=\"sk-estimator sk-toggleable\"><input class=\"sk-toggleable__control sk-hidden--visually\" id=\"sk-estimator-id-2\" type=\"checkbox\" checked><label for=\"sk-estimator-id-2\" class=\"sk-toggleable__label sk-toggleable__label-arrow\">LinearRegression</label><div class=\"sk-toggleable__content\"><pre>LinearRegression()</pre></div></div></div></div></div>"
      ],
      "text/plain": [
       "LinearRegression()"
      ]
     },
     "execution_count": 28,
     "metadata": {},
     "output_type": "execute_result"
    }
   ],
   "source": [
    "from sklearn.linear_model import LinearRegression\n",
    "model = LinearRegression()\n",
    "model.fit(X_train, y_train)"
   ]
  },
  {
   "cell_type": "code",
   "execution_count": 29,
   "metadata": {
    "colab": {
     "base_uri": "https://localhost:8080/"
    },
    "id": "Hsy-k6yVq1-X",
    "outputId": "7c519661-0d56-4936-e4e9-610fb3d2b8e6"
   },
   "outputs": [
    {
     "data": {
      "text/plain": [
       "array([ 1.27852012e-02, -2.10425501e-02, -8.96338954e-03,  5.15021919e-03,\n",
       "       -3.49798244e-03,  3.17590692e-02,  9.58637645e-01,  3.27603924e-04,\n",
       "        6.51562782e+09,  6.51562782e+09,  6.51562782e+09, -1.88355504e+10,\n",
       "       -1.88355504e+10, -1.88355504e+10, -1.88355504e+10, -1.88355504e+10,\n",
       "       -1.12397797e+10, -1.12397797e+10, -1.12397797e+10])"
      ]
     },
     "execution_count": 29,
     "metadata": {},
     "output_type": "execute_result"
    }
   ],
   "source": [
    "model.coef_"
   ]
  },
  {
   "cell_type": "code",
   "execution_count": 30,
   "metadata": {
    "colab": {
     "base_uri": "https://localhost:8080/"
    },
    "id": "WeCXQFYlrBOs",
    "outputId": "738c093e-bb55-4964-c8f2-9e42d07c50de"
   },
   "outputs": [
    {
     "data": {
      "text/plain": [
       "23559702342.74209"
      ]
     },
     "execution_count": 30,
     "metadata": {},
     "output_type": "execute_result"
    }
   ],
   "source": [
    "model.intercept_"
   ]
  },
  {
   "cell_type": "code",
   "execution_count": 31,
   "metadata": {
    "colab": {
     "base_uri": "https://localhost:8080/",
     "height": 468
    },
    "id": "tz2ULLfRbsVt",
    "outputId": "1f4ae590-d04b-4f91-e672-223569f48046"
   },
   "outputs": [
    {
     "name": "stderr",
     "output_type": "stream",
     "text": [
      "No artists with labels found to put in legend.  Note that artists whose label start with an underscore are ignored when legend() is called with no argument.\n"
     ]
    },
    {
     "data": {
      "image/png": "[encoded data removed]",
      "text/plain": [
       "<Figure size 640x480 with 1 Axes>"
      ]
     },
     "metadata": {},
     "output_type": "display_data"
    }
   ],
   "source": [
    "import matplotlib.pyplot as plt\n",
    "fig = plt.figure()\n",
    "y_hat = model.predict(X_test)\n",
    "plt.scatter(y_hat,y_test)\n",
    "plt.legend()\n",
    "plt.show()"
   ]
  },
  {
   "cell_type": "code",
   "execution_count": 34,
   "metadata": {},
   "outputs": [
    {
     "data": {
      "text/plain": [
       "(5946, 19)"
      ]
     },
     "execution_count": 34,
     "metadata": {},
     "output_type": "execute_result"
    }
   ],
   "source": [
    "X_test.shape"
   ]
  },
  {
   "cell_type": "code",
   "execution_count": 35,
   "metadata": {},
   "outputs": [
    {
     "data": {
      "text/plain": [
       "(5946,)"
      ]
     },
     "execution_count": 35,
     "metadata": {},
     "output_type": "execute_result"
    }
   ],
   "source": [
    "y_test.shape"
   ]
  },
  {
   "cell_type": "markdown",
   "metadata": {
    "id": "YQ-XEYOOrFQc",
    "tags": []
   },
   "source": [
    "## Evaluation Metric"
   ]
  },
  {
   "cell_type": "markdown",
   "metadata": {
    "id": "aDCNxAHKlvve"
   },
   "source": [
    "\n",
    "<img src='https://drive.google.com/uc?id=1Kedz1sZmqg6W6zpaLDP3TlqBOGpZzE3M' width=800>\n"
   ]
  },
  {
   "cell_type": "markdown",
   "metadata": {
    "id": "tTvc_bjhlwGo"
   },
   "source": [
    "\n",
    "<img src='https://drive.google.com/uc?id=1j-5gRhP53HHgsa75KPKE6fVOaluCr_1D' width=800>\n"
   ]
  },
  {
   "cell_type": "markdown",
   "metadata": {
    "id": "-Sd0B10nl3p-"
   },
   "source": [
    "\n",
    "<img src='https://drive.google.com/uc?id=1LmtrH5nVlqk_ZCNN_MsQhC1igtvgKnbO' width=800>\n"
   ]
  },
  {
   "cell_type": "markdown",
   "metadata": {
    "id": "ZfxKLjB-mNBq"
   },
   "source": [
    "<img src='https://drive.google.com/uc?id=1IAIlSmmRMGVobD3F0S-aWQvK0OUIjQUr' width=800>\n",
    "\n",
    "\n"
   ]
  },
  {
   "cell_type": "markdown",
   "metadata": {
    "id": "UlO-Bm1lmOAs"
   },
   "source": [
    "<img src='https://drive.google.com/uc?id=15AUqm2RtPKoCqT-luL0dCo3MCGCbDCLG' width=800>\n",
    "\n",
    "\n"
   ]
  },
  {
   "cell_type": "markdown",
   "metadata": {
    "id": "5AD0AXoSmO9n"
   },
   "source": [
    "<img src='https://drive.google.com/uc?id=1FPQ4JMtOuloHH-pOkhrp8Zj_ISEQGZVI' width=800>"
   ]
  },
  {
   "cell_type": "markdown",
   "metadata": {
    "id": "qe7cjN_Jm5Hx"
   },
   "source": [
    "<img src='https://drive.google.com/uc?id=12wwCXE2bZTS1JWmyK1kbxYssok38w0R1' width=800>"
   ]
  },
  {
   "cell_type": "markdown",
   "metadata": {
    "id": "2L6OpWZumeWP"
   },
   "source": [
    "**Note:** </br>\n",
    "We will be using the above functions later to understand how Linear Regression works under the hood, </br> and the optimization behind it."
   ]
  },
  {
   "cell_type": "markdown",
   "metadata": {
    "id": "4MXwd7XKPh-B"
   },
   "source": [
    "#### What is R2 Score, or the coefficient of determination?\n",
    "\n"
   ]
  },
  {
   "cell_type": "markdown",
   "metadata": {
    "id": "7a4Hg4zPmtYu"
   },
   "source": [
    "<img src='https://drive.google.com/uc?id=1Eov4qWaDvsH8c94dux8N_BRtTpUttSS-' width=800>\n"
   ]
  },
  {
   "cell_type": "markdown",
   "metadata": {
    "id": "cjLqABE4mrVw"
   },
   "source": [
    "\n",
    "\n",
    "<img src='https://drive.google.com/uc?id=1zNLjxfIjxp9dymK5B4uPOceRqIbCgBFG' width=800>\n"
   ]
  },
  {
   "cell_type": "markdown",
   "metadata": {
    "id": "yIRiymZkn71f"
   },
   "source": [
    "\n",
    "\n",
    "<img src='https://drive.google.com/uc?id=1oZl0YlksWbt3FvMe_sC_h8RPv1pyf7e2' width=800>"
   ]
  },
  {
   "cell_type": "markdown",
   "metadata": {
    "id": "FPJGsafToAEB"
   },
   "source": [
    "\n",
    "\n",
    "<img src='https://drive.google.com/uc?id=1tODwK1Y_iFVNA9ml14KXSwSGFQsc6BMw' width=800>\n"
   ]
  },
  {
   "cell_type": "markdown",
   "metadata": {
    "id": "mLpSIVoFRFEa"
   },
   "source": [
    "#### Let's check the performance of our previously trained model on test data.\n",
    "\n",
    "\\\n",
    "LinearRegression's default `.score()` function uses R2 score to evaluate the data."
   ]
  },
  {
   "cell_type": "code",
   "execution_count": 37,
   "metadata": {
    "colab": {
     "base_uri": "https://localhost:8080/"
    },
    "id": "hc0Z5qlW5ySm",
    "outputId": "4f54ac55-94d1-43c6-a994-f15bb0095d86"
   },
   "outputs": [
    {
     "data": {
      "text/plain": [
       "0.952076399229067"
      ]
     },
     "execution_count": 37,
     "metadata": {},
     "output_type": "execute_result"
    }
   ],
   "source": [
    "model.score(X_train, y_train)"
   ]
  },
  {
   "cell_type": "code",
   "execution_count": 38,
   "metadata": {
    "colab": {
     "base_uri": "https://localhost:8080/"
    },
    "id": "J7O_0x1RSper",
    "outputId": "64d95ef5-6f9b-4081-a195-0f66b6f34c8d"
   },
   "outputs": [
    {
     "data": {
      "text/plain": [
       "0.9375627993838334"
      ]
     },
     "execution_count": 38,
     "metadata": {},
     "output_type": "execute_result"
    }
   ],
   "source": [
    "model.score(X_test, y_test)"
   ]
  },
  {
   "cell_type": "code",
   "execution_count": null,
   "metadata": {},
   "outputs": [],
   "source": []
  }
 ],
 "metadata": {
  "colab": {
   "collapsed_sections": [
    "nLVLt61VtwzS",
    "YUBxGZoANgwl",
    "4zWGf19aRGzk",
    "-tii34FzXPJy",
    "yXKHo74tqXku"
   ],
   "provenance": []
  },
  "kernelspec": {
   "display_name": "Python 3 (ipykernel)",
   "language": "python",
   "name": "python3"
  },
  "language_info": {
   "codemirror_mode": {
    "name": "ipython",
    "version": 3
   },
   "file_extension": ".py",
   "mimetype": "text/x-python",
   "name": "python",
   "nbconvert_exporter": "python",
   "pygments_lexer": "ipython3",
   "version": "3.10.9"
  }
 },
 "nbformat": 4,
 "nbformat_minor": 4
}
