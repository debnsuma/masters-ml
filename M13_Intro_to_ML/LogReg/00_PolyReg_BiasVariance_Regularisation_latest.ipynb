{
 "cells": [
  {
   "cell_type": "markdown",
   "metadata": {
    "id": "YYzPEyFJiEnz"
   },
   "source": [
    "## Content\n",
    "\n",
    "  - **Batch Gradient**\n",
    "\n",
    "  - **SGD/MiniBatch**\n",
    "    - Understanding Mini-Batch GD\n",
    "\n",
    "\n",
    "  - **MiniBatch Code- PostRead**\n",
    "\n",
    "  - **Polynomial Regression**\n",
    "\n",
    "  - **Polynomial Regression Code**\n",
    "\n",
    "  - **Underfit Overfit Tradeoff**\n",
    "    - Geometric Intuition\n",
    "    - Mathematical Intuition\n",
    "   \n",
    "    - Relating with Bias Variance\n",
    "   - **Underfit Overfit Code**\n",
    "\n",
    "\n",
    "  - **Generalization and Occam's Razor**\n",
    "  \n",
    "  - **Generalization and Occam's Razor Code**\n",
    "\n",
    "  - **Regularization**\n",
    "  - **Regularization Code**"
   ]
  },
  {
   "cell_type": "markdown",
   "metadata": {
    "id": "nI5xL07eiOj_"
   },
   "source": [
    "#**Batch Gradient**\n",
    "\n",
    "\n"
   ]
  },
  {
   "cell_type": "markdown",
   "metadata": {
    "id": "T67XaCCIXyMf"
   },
   "source": [
    "## **Lets see if you remember GD properly**"
   ]
  },
  {
   "cell_type": "markdown",
   "metadata": {
    "id": "2Ay62NsckjQ3"
   },
   "source": [
    "#### How did we compute gradient descent in Linear Regression ?\n",
    "\n"
   ]
  },
  {
   "cell_type": "markdown",
   "metadata": {
    "id": "ABgi1-1SldeB"
   },
   "source": [
    "Recall when computing the gradient descent, the weights are updated as:\n"
   ]
  },
  {
   "cell_type": "markdown",
   "metadata": {
    "id": "LDKg_bjxlOlM"
   },
   "source": [
    "\n",
    "\n",
    "<center><img src='https://drive.google.com/uc?id=1rca9XhObHCd_K0hkSdDkO_GnIgzUSbAk' width=800></center>\n",
    "\n"
   ]
  },
  {
   "cell_type": "markdown",
   "metadata": {
    "id": "f92sBkRN8PJH"
   },
   "source": [
    "\n",
    "\n",
    "#### What can be the potential problem while doing Gradient Descent ?\n",
    "\n",
    "\n",
    "\n"
   ]
  },
  {
   "cell_type": "markdown",
   "metadata": {
    "id": "vqCPi3PUmB-w"
   },
   "source": [
    "\n",
    "\n",
    "<center><img src='https://drive.google.com/uc?id=14Yb_YU732rt8FmcnBpSCij3EUafjvnZs' width=800></center>\n",
    "\n"
   ]
  },
  {
   "cell_type": "markdown",
   "metadata": {
    "id": "z_OlAG7NmmwM"
   },
   "source": [
    "\n",
    "\n",
    "<center><img src='https://drive.google.com/uc?id=1GWDtSNG2rpSQpuz64hHIWO2iRMPUrDwM' width=800></center>\n",
    "\n"
   ]
  },
  {
   "cell_type": "markdown",
   "metadata": {
    "id": "fStlJcceANoQ"
   },
   "source": [
    "##**SGD/Mini Batch**##\n"
   ]
  },
  {
   "cell_type": "markdown",
   "metadata": {
    "id": "unOqvL_S_75O"
   },
   "source": [
    "#### How to reduce the time taken by Batch Gradient ?\n",
    "\n",
    "\n",
    "\n",
    "\n",
    "\n"
   ]
  },
  {
   "cell_type": "markdown",
   "metadata": {
    "id": "WiIL-_1VoiWQ"
   },
   "source": [
    "\n",
    "\n",
    "<center><img src='https://drive.google.com/uc?id=1uycpFD9PV4CMOO1HZMa5eOTH3Y067RFG' width=800></center>\n",
    "\n"
   ]
  },
  {
   "cell_type": "markdown",
   "metadata": {
    "id": "sg1p8MIzBQ_N"
   },
   "source": [
    "\n",
    "#### What can be the possible values of Batch size ($k$) ?\n",
    "\n",
    "\n",
    "\n",
    "\n",
    "\n",
    "\n",
    "\n",
    "\n",
    "\n"
   ]
  },
  {
   "cell_type": "markdown",
   "metadata": {
    "id": "10vS_6pUo_f6"
   },
   "source": [
    "\n",
    "\n",
    "<center><img src='https://drive.google.com/uc?id=1axENukUDq6FAK0GAXqWXiO6A4LQzLgNu' width=800></center>\n",
    "\n"
   ]
  },
  {
   "cell_type": "markdown",
   "metadata": {
    "id": "v1uJTVusDWYf"
   },
   "source": [
    "## **Understanding Mini-Batch GD**"
   ]
  },
  {
   "cell_type": "markdown",
   "metadata": {
    "id": "CeDM92uaptOa"
   },
   "source": [
    "\n",
    "\n",
    "<center><img src='https://drive.google.com/uc?id=1l4HGDWFRXegdbk0x5DWvWcPEEOVr3RdB' width=800></center>\n",
    "\n"
   ]
  },
  {
   "cell_type": "markdown",
   "metadata": {
    "id": "sKyGxkUNpynz"
   },
   "source": [
    "\n",
    "\n",
    "<center><img src='https://drive.google.com/uc?id=13EDtacLbKEbrbN_Z8K4HOX4eEHXmtZBe' width=800></center>\n",
    "\n"
   ]
  },
  {
   "cell_type": "markdown",
   "metadata": {
    "id": "srGlqu23p3st"
   },
   "source": [
    "\n",
    "\n",
    "<center><img src='https://drive.google.com/uc?id=1Sgrxc-2_98YOgO3K329Ut1eFj6bCmP75' width=800></center>\n",
    "\n",
    "\n"
   ]
  },
  {
   "cell_type": "markdown",
   "metadata": {
    "id": "zb9lN1uk32Lr"
   },
   "source": [
    "\n",
    "#### Will the gradient value be accurate for mini batch with k = 256 ?"
   ]
  },
  {
   "cell_type": "markdown",
   "metadata": {
    "id": "hv0Uft2XqkQr"
   },
   "source": [
    "\n",
    "\n",
    "<center><img src='https://drive.google.com/uc?id=1FjBmHHTLKMl9tVVlD9YUd6wz2AjqrrLW' width=800></center>\n",
    "\n"
   ]
  },
  {
   "cell_type": "markdown",
   "metadata": {
    "id": "I4nJ42x2CTjK"
   },
   "source": [
    "\n",
    "\n",
    "<center><img src='https://drive.google.com/uc?id=1bL58O40weizOVz9H2pQqwcO-ExvHITws' width=800></center>\n",
    "\n"
   ]
  },
  {
   "cell_type": "markdown",
   "metadata": {
    "id": "EYe6Zc5L3-iK"
   },
   "source": [
    "\n",
    "\n",
    "#### How is Mini-Batch effective over Batch Gradient ? (optional)\n",
    "\n",
    "\n",
    "\n",
    "\n",
    "\n"
   ]
  },
  {
   "cell_type": "markdown",
   "metadata": {
    "id": "WJT1Wp-BCe8Q"
   },
   "source": [
    "\n",
    "\n",
    "<center><img src='https://drive.google.com/uc?id=1QL-mgEn7V3n4Tw_WPxpv-FfFdEqvEplq' width=800></center>\n",
    "\n"
   ]
  },
  {
   "cell_type": "markdown",
   "metadata": {
    "id": "DOUC_DRLuW8u"
   },
   "source": [
    "**Observe:**\n",
    "We already have seen in Gradient Descent that:\n",
    "- **Vectorization is computed faster than iterating over n samples**\n",
    "\n",
    "- **Hence, Mini-Batch GD is just a vectorization of Batch Gradient**\n",
    " - As we divide the data into chunks in order to quickly find gradients\n"
   ]
  },
  {
   "cell_type": "markdown",
   "metadata": {
    "id": "EK9HDOxbKZrA"
   },
   "source": [
    "#### How is Gradient Descent step progress in Mini-Batch, SGD and Batch GD ?\n",
    "\n"
   ]
  },
  {
   "cell_type": "markdown",
   "metadata": {
    "id": "mqKylLI0td68"
   },
   "source": [
    "Lets understand the fluctuations in weight values with a contour plot of loss:"
   ]
  },
  {
   "cell_type": "markdown",
   "metadata": {
    "id": "6qFBMyqNtMiz"
   },
   "source": [
    "\n",
    "\n",
    "<center><img src='https://drive.google.com/uc?id=1xJUrzWR4jcw33ASYoSioP-5s0mCGYyWw' width=800></center>\n",
    "\n"
   ]
  },
  {
   "cell_type": "markdown",
   "metadata": {
    "id": "giL6BbfFtBQd"
   },
   "source": [
    "\n",
    "\n",
    "<center><img src='https://drive.google.com/uc?id=1PHiqOLCvM5jzzj6FXHb9-g0gcvA-PwB2' width=800></center>\n",
    "\n"
   ]
  },
  {
   "cell_type": "markdown",
   "metadata": {
    "id": "P0uau7LkJrVn"
   },
   "source": [
    "\n",
    "\n",
    "**Observe**\n",
    "\n",
    "1. For **Batch Gradient descent**,\n",
    "- Since the entire data is taken for gradients,\n",
    "    - the weight reaches optimal value with **least number of fluctuations per iteration**\n",
    "\n",
    "- But due to taking **whole data per iteration**, the time to compute one GD step/iteration  is very high\n",
    "\n",
    "<br>\n",
    "\n",
    "2. For **Stochastic GD**,\n",
    "- Since only a single datapoint is used for  gradients, and these datapoints can be noises in the data\n",
    "- Hence, there  will be **the maximum number of fluctuations in the weight value**\n",
    "\n",
    "\n",
    "\n",
    "<br>\n",
    "\n",
    "3. Now when **Mini-Batch GD** is used:\n",
    "-  Since it vectorizes the data into chunks, **Mini-Batch GD reaches optimal weight value the fastest**\n",
    "- With a cose of **few fluctuations in the weight value**\n",
    "\n",
    "\n",
    "\n",
    "\n",
    "\n",
    "\n",
    "\n"
   ]
  },
  {
   "cell_type": "markdown",
   "metadata": {
    "id": "RnlT-SpiUR9o"
   },
   "source": [
    "## **Mini-Batch Gradient code** - (Post Read)\n",
    "\n",
    "PostRead- Link: https://colab.research.google.com/drive/1EXhY2Ax1lPp7cc03bHvwtc-UQ78t6iKI?usp=sharing"
   ]
  },
  {
   "cell_type": "markdown",
   "metadata": {
    "id": "mqXNWy0NNTmo"
   },
   "source": [
    "#**Polynomial Regression**"
   ]
  },
  {
   "cell_type": "markdown",
   "metadata": {
    "id": "cyZQVlcMUkBp"
   },
   "source": [
    "Lets consider another dummy data\n",
    "\n",
    "- Here, we have 50 datapoints\n",
    "- But now the data is non-linear in nature"
   ]
  },
  {
   "cell_type": "code",
   "execution_count": 1,
   "metadata": {
    "id": "_RMxjn_zUkBq"
   },
   "outputs": [],
   "source": [
    "import numpy as np\n",
    "import matplotlib.pyplot as plt\n",
    "\n",
    "\n",
    "np.random.seed(1)\n",
    "X = np.random.rand(50,1)\n",
    "y = 0.7*(X**5) - \\\n",
    "    2.1*(X**4) + \\\n",
    "    2.7*(X**3) + \\\n",
    "    3.5*(X**2) + \\\n",
    "    0.3* X + \\\n",
    "    0.4*np.random.rand(50,1) # no data in world is perfect"
   ]
  },
  {
   "cell_type": "code",
   "execution_count": 4,
   "metadata": {
    "colab": {
     "base_uri": "https://localhost:8080/",
     "height": 329
    },
    "id": "6FTrCpyIUkBq",
    "outputId": "234f212c-d367-4ff9-9af7-bdbeb57960e8"
   },
   "outputs": [
    {
     "name": "stdout",
     "output_type": "stream",
     "text": [
      "0.9345996128366808\n"
     ]
    },
    {
     "data": {
      "image/png": "[encoded data removed]",
      "text/plain": [
       "<Figure size 500x300 with 1 Axes>"
      ]
     },
     "metadata": {},
     "output_type": "display_data"
    }
   ],
   "source": [
    "\n",
    "from sklearn.linear_model import LinearRegression\n",
    "\n",
    "\n",
    "\n",
    "model = LinearRegression()\n",
    "model.fit(X, y)\n",
    "\n",
    "output = model.predict(X)\n",
    "\n",
    "print(model.score(X,y))\n",
    "\n",
    "fig = plt.figure(figsize=(5,3))\n",
    "plt.scatter(X, y, label=\"samples\")\n",
    "plt.plot(X, output, label=\"prediction\",color='orange')\n",
    "plt.xlabel(\"X\")\n",
    "plt.ylabel(\"Y\")\n",
    "plt.show()\n",
    "\n"
   ]
  },
  {
   "cell_type": "markdown",
   "metadata": {
    "id": "tO7un0gwqxic"
   },
   "source": [
    "**observe**\n",
    "\n",
    "As Linear Regression did not fit the data well\n",
    "\n",
    "- Concluding that **Linear Regression is not the most suitable model to be used**"
   ]
  },
  {
   "cell_type": "markdown",
   "metadata": {
    "id": "hhZEkjdvTVYc"
   },
   "source": [
    "## **Explaining Polynomial Regression theoretically**"
   ]
  },
  {
   "cell_type": "markdown",
   "metadata": {
    "id": "t8yFpsG6Sosq"
   },
   "source": [
    "#### How to make Linear Regression,  Quadratic ?\n",
    "\n",
    "By adding a new feature $f_2 = f_1^2$, such that:\n",
    "\n",
    "- $\\hat{y^{(i)}} = w_0 + w_1 f_1 + w_2 {f_1}^2$\n",
    "\n",
    "**Note:** Due to addition of a higher degree($>1$) for a feature,\n",
    "- we call this model as **Polynomial Regression**\n",
    "\n",
    "\n",
    "<br>\n",
    "\n",
    "#### Do we need a separate implementation for Polynomial Regression?\n",
    "\n",
    "Ans: No, we just need to add a new data column $f_2 = f_1^2$"
   ]
  },
  {
   "cell_type": "markdown",
   "metadata": {
    "id": "n6-skCAOwVAI"
   },
   "source": [
    "\n",
    "\n",
    "<center><img src='https://drive.google.com/uc?id=1TVKLEQX8_ZMaDHQjpB41Ub0eGav58hxq' width=800></center>\n",
    "\n"
   ]
  },
  {
   "cell_type": "markdown",
   "metadata": {
    "id": "FpyJmtic1cgg"
   },
   "source": [
    "**observe**\n",
    "\n",
    "For the Polynomial Regression equation $\\hat{y^{(i)}} = w_0 + w_1f_1 + w_2 f_1^2$\n",
    "- it is still a linear combination of weights since the degree of weights are 1\n",
    "\n",
    "<br>\n",
    "\n",
    "**Concluding** that if we were to **plot the learnt hyperplane** of Polynomial Regression for $f_1$ and $f_2=f_1^2$\n",
    "- The hyperplane **will be linear**"
   ]
  },
  {
   "cell_type": "markdown",
   "metadata": {
    "id": "tH0tteeagJar"
   },
   "source": [
    "#### Does using $f_2 = {f_1}^2$ causes MultiCollinearity ?\n",
    "\n",
    "\n"
   ]
  },
  {
   "cell_type": "markdown",
   "metadata": {
    "id": "YfHShdsux_oL"
   },
   "source": [
    "\n",
    "\n",
    "<center><img src='https://drive.google.com/uc?id=1iaiZNMyx159d6h0_NiCtRfQdebkok8OQ' width=800></center>\n",
    "\n",
    "\n",
    "\n"
   ]
  },
  {
   "cell_type": "markdown",
   "metadata": {
    "id": "rG3TLq-obaaq"
   },
   "source": [
    "# **Polynomial Regression Code**\n"
   ]
  },
  {
   "cell_type": "markdown",
   "metadata": {
    "id": "plvPZ_-6k7rQ"
   },
   "source": [
    "\n",
    " Creating polynomial reg with $X^2$ feature added\n"
   ]
  },
  {
   "cell_type": "code",
   "execution_count": 5,
   "metadata": {
    "id": "9IQITqz8PsMq"
   },
   "outputs": [],
   "source": [
    "def adj_r(r_sq,X,Y):\n",
    "    adj_r1 = (1 - ((1-r_sq)*(len(Y)-1))/(len(Y)-X.shape[1]-1) )\n",
    "    return adj_r1"
   ]
  },
  {
   "cell_type": "code",
   "execution_count": 6,
   "metadata": {
    "id": "N5u1oQD_99fy"
   },
   "outputs": [],
   "source": [
    "def r2_score(y,y_):\n",
    "    num = np.sum((y-y_)**2)\n",
    "    denom = np.sum((y- y.mean())**2)\n",
    "    score = (1- num/denom)\n",
    "    return score"
   ]
  },
  {
   "cell_type": "code",
   "execution_count": 7,
   "metadata": {
    "colab": {
     "base_uri": "https://localhost:8080/",
     "height": 329
    },
    "id": "rRIAFXqolBzk",
    "outputId": "e62262e0-ecd3-4e0c-bd28-2b90fe4a24c3"
   },
   "outputs": [
    {
     "name": "stdout",
     "output_type": "stream",
     "text": [
      "Adj. R-square: 0.9947910474710182\n"
     ]
    },
    {
     "data": {
      "image/png": "[encoded data removed]",
      "text/plain": [
       "<Figure size 500x300 with 1 Axes>"
      ]
     },
     "metadata": {},
     "output_type": "display_data"
    }
   ],
   "source": [
    "#adding new feature X^2\n",
    "X_deg2 = np.hstack([X, X**2])\n",
    "model_deg2 = LinearRegression()\n",
    "model_deg2.fit(X_deg2, y)\n",
    "output = model_deg2.predict(X_deg2)\n",
    "\n",
    "\n",
    "print('Adj. R-square:', adj_r(r2_score(y,output),X,y ) )\n",
    "fig = plt.figure(figsize=(5,3))\n",
    "plt.scatter(X, y, label=\"samples\")\n",
    "plt.scatter(X, output, label=\"prediction\",color='orange')\n",
    "plt.xlabel(\"X\")\n",
    "plt.ylabel(\"Y\")\n",
    "plt.show()\n"
   ]
  },
  {
   "cell_type": "markdown",
   "metadata": {
    "id": "JrxhO15glG1r"
   },
   "source": [
    "**observe**\n",
    "- The performance of the model increased drastically\n",
    "- Meaning that a non-linear feature did the trick\n",
    "\n",
    "\n",
    "\n"
   ]
  },
  {
   "cell_type": "markdown",
   "metadata": {
    "id": "g1ZKOz1zmrgM"
   },
   "source": [
    "#### But are we sure that degree=2 will be best? What about higher degrees?"
   ]
  },
  {
   "cell_type": "code",
   "execution_count": 12,
   "metadata": {
    "tags": []
   },
   "outputs": [
    {
     "data": {
      "text/html": [
       "<style>#sk-container-id-3 {color: black;background-color: white;}#sk-container-id-3 pre{padding: 0;}#sk-container-id-3 div.sk-toggleable {background-color: white;}#sk-container-id-3 label.sk-toggleable__label {cursor: pointer;display: block;width: 100%;margin-bottom: 0;padding: 0.3em;box-sizing: border-box;text-align: center;}#sk-container-id-3 label.sk-toggleable__label-arrow:before {content: \"▸\";float: left;margin-right: 0.25em;color: #696969;}#sk-container-id-3 label.sk-toggleable__label-arrow:hover:before {color: black;}#sk-container-id-3 div.sk-estimator:hover label.sk-toggleable__label-arrow:before {color: black;}#sk-container-id-3 div.sk-toggleable__content {max-height: 0;max-width: 0;overflow: hidden;text-align: left;background-color: #f0f8ff;}#sk-container-id-3 div.sk-toggleable__content pre {margin: 0.2em;color: black;border-radius: 0.25em;background-color: #f0f8ff;}#sk-container-id-3 input.sk-toggleable__control:checked~div.sk-toggleable__content {max-height: 200px;max-width: 100%;overflow: auto;}#sk-container-id-3 input.sk-toggleable__control:checked~label.sk-toggleable__label-arrow:before {content: \"▾\";}#sk-container-id-3 div.sk-estimator input.sk-toggleable__control:checked~label.sk-toggleable__label {background-color: #d4ebff;}#sk-container-id-3 div.sk-label input.sk-toggleable__control:checked~label.sk-toggleable__label {background-color: #d4ebff;}#sk-container-id-3 input.sk-hidden--visually {border: 0;clip: rect(1px 1px 1px 1px);clip: rect(1px, 1px, 1px, 1px);height: 1px;margin: -1px;overflow: hidden;padding: 0;position: absolute;width: 1px;}#sk-container-id-3 div.sk-estimator {font-family: monospace;background-color: #f0f8ff;border: 1px dotted black;border-radius: 0.25em;box-sizing: border-box;margin-bottom: 0.5em;}#sk-container-id-3 div.sk-estimator:hover {background-color: #d4ebff;}#sk-container-id-3 div.sk-parallel-item::after {content: \"\";width: 100%;border-bottom: 1px solid gray;flex-grow: 1;}#sk-container-id-3 div.sk-label:hover label.sk-toggleable__label {background-color: #d4ebff;}#sk-container-id-3 div.sk-serial::before {content: \"\";position: absolute;border-left: 1px solid gray;box-sizing: border-box;top: 0;bottom: 0;left: 50%;z-index: 0;}#sk-container-id-3 div.sk-serial {display: flex;flex-direction: column;align-items: center;background-color: white;padding-right: 0.2em;padding-left: 0.2em;position: relative;}#sk-container-id-3 div.sk-item {position: relative;z-index: 1;}#sk-container-id-3 div.sk-parallel {display: flex;align-items: stretch;justify-content: center;background-color: white;position: relative;}#sk-container-id-3 div.sk-item::before, #sk-container-id-3 div.sk-parallel-item::before {content: \"\";position: absolute;border-left: 1px solid gray;box-sizing: border-box;top: 0;bottom: 0;left: 50%;z-index: -1;}#sk-container-id-3 div.sk-parallel-item {display: flex;flex-direction: column;z-index: 1;position: relative;background-color: white;}#sk-container-id-3 div.sk-parallel-item:first-child::after {align-self: flex-end;width: 50%;}#sk-container-id-3 div.sk-parallel-item:last-child::after {align-self: flex-start;width: 50%;}#sk-container-id-3 div.sk-parallel-item:only-child::after {width: 0;}#sk-container-id-3 div.sk-dashed-wrapped {border: 1px dashed gray;margin: 0 0.4em 0.5em 0.4em;box-sizing: border-box;padding-bottom: 0.4em;background-color: white;}#sk-container-id-3 div.sk-label label {font-family: monospace;font-weight: bold;display: inline-block;line-height: 1.2em;}#sk-container-id-3 div.sk-label-container {text-align: center;}#sk-container-id-3 div.sk-container {/* jupyter's `normalize.less` sets `[hidden] { display: none; }` but bootstrap.min.css set `[hidden] { display: none !important; }` so we also need the `!important` here to be able to override the default hidden behavior on the sphinx rendered scikit-learn.org. See: https://github.com/scikit-learn/scikit-learn/issues/21755 */display: inline-block !important;position: relative;}#sk-container-id-3 div.sk-text-repr-fallback {display: none;}</style><div id=\"sk-container-id-3\" class=\"sk-top-container\"><div class=\"sk-text-repr-fallback\"><pre>PolynomialFeatures()</pre><b>In a Jupyter environment, please rerun this cell to show the HTML representation or trust the notebook. <br />On GitHub, the HTML representation is unable to render, please try loading this page with nbviewer.org.</b></div><div class=\"sk-container\" hidden><div class=\"sk-item\"><div class=\"sk-estimator sk-toggleable\"><input class=\"sk-toggleable__control sk-hidden--visually\" id=\"sk-estimator-id-3\" type=\"checkbox\" checked><label for=\"sk-estimator-id-3\" class=\"sk-toggleable__label sk-toggleable__label-arrow\">PolynomialFeatures</label><div class=\"sk-toggleable__content\"><pre>PolynomialFeatures()</pre></div></div></div></div></div>"
      ],
      "text/plain": [
       "PolynomialFeatures()"
      ]
     },
     "execution_count": 12,
     "metadata": {},
     "output_type": "execute_result"
    }
   ],
   "source": [
    "PolynomialFeatures()"
   ]
  },
  {
   "cell_type": "code",
   "execution_count": 8,
   "metadata": {
    "colab": {
     "base_uri": "https://localhost:8080/",
     "height": 699
    },
    "id": "mZkd0EV3mu5t",
    "outputId": "a6f6da1e-e609-4ac2-813d-ae0177f87448"
   },
   "outputs": [
    {
     "data": {
      "image/png": "[encoded data removed]",
      "text/plain": [
       "<Figure size 1200x800 with 6 Axes>"
      ]
     },
     "metadata": {},
     "output_type": "display_data"
    }
   ],
   "source": [
    "from sklearn.preprocessing import PolynomialFeatures\n",
    "from sklearn.preprocessing import StandardScaler\n",
    "\n",
    "scores = []\n",
    "# Using Degrees 1 to 6, and seeing performance of the model\n",
    "\n",
    "# Create a 2x3 grid of subplots\n",
    "fig, axes = plt.subplots(2, 3, figsize=(12, 8))\n",
    "j = 0\n",
    "for i in range(1, 7):\n",
    "\n",
    "    #creates polynomial feature\n",
    "    poly = PolynomialFeatures(i)\n",
    "\n",
    "    X_poly = poly.fit_transform(X)\n",
    "    #Standardization\n",
    "    scaler = StandardScaler()\n",
    "    scaler.fit(X_poly)\n",
    "    X_poly_scaled = scaler.transform(X_poly)\n",
    "\n",
    "    #training model\n",
    "    model = LinearRegression()\n",
    "    model.fit(X_poly_scaled, y)\n",
    "\n",
    "    #Prediction\n",
    "    output = model.predict(X_poly_scaled)\n",
    "\n",
    "    #Plotting\n",
    "\n",
    "    axes[j,(i-1)%3].scatter(X, y, label=\"samples\")\n",
    "    axes[j,(i-1)%3].scatter(X, output, label=\"prediction\")\n",
    "    axes[j,(i-1)%3].set_title(f'Degree{i} model Adj. R^2: {round(adj_r(r2_score(y,output),X_poly_scaled,y ),2)}')\n",
    "\n",
    "    if(i==3):\n",
    "        j=1"
   ]
  },
  {
   "cell_type": "markdown",
   "metadata": {
    "id": "-RZ5uMVLgcQ3"
   },
   "source": [
    "**Observe**:\n",
    "- As the degree of the feature being added increases, the model performance gets better\n",
    "\n",
    "<br>\n",
    "\n",
    "\n",
    "\n",
    "\n",
    "\n"
   ]
  },
  {
   "cell_type": "markdown",
   "metadata": {
    "id": "9DuiTGdPatGi"
   },
   "source": [
    "# **Underfitting and Overfitting**"
   ]
  },
  {
   "cell_type": "markdown",
   "metadata": {
    "id": "iRKiRpja8M5M"
   },
   "source": [
    "## **Overfitting**"
   ]
  },
  {
   "cell_type": "markdown",
   "metadata": {
    "id": "Oy37WaEn7y0p"
   },
   "source": [
    "#### Which model has the highest Adj R-squared ?\n",
    "\n",
    "Ans: Clearly, we see that Polynomial regression with degrees:\n",
    "- Degree 2,3,4,5,6 all have the highest Adj. R-squared value\n",
    "\n",
    "**This should mean**\n",
    "-  polynomial Regression with degree of 20, 40 should also perform well"
   ]
  },
  {
   "cell_type": "markdown",
   "metadata": {
    "id": "hCI3JGHe8JnB"
   },
   "source": [
    "#### What could be the potential problem with very high degree models ?\n",
    "\n",
    "Ans: high degree models become  very complex:\n",
    "- is that they may **learn noise besides meaningful patterns**\n",
    "\n",
    "<br>\n",
    "\n",
    "#### Do you remember what matters in ML the most ?\n",
    "Ans: The ML model must generalise the data, but for Higher degree polynomial\n",
    "\n",
    "- the model may learn every pattern in training data (including noise) which will improve training performance"
   ]
  },
  {
   "cell_type": "markdown",
   "metadata": {
    "id": "DudOAhOM9Gt2"
   },
   "source": [
    "\n",
    "\n",
    "<center><img src='https://drive.google.com/uc?id=1B5GmcIHes19oBHvSIceRVdbj658ULOub' width=800></center>\n",
    "\n",
    "\n"
   ]
  },
  {
   "cell_type": "markdown",
   "metadata": {
    "id": "SB_c48wd9Ihf"
   },
   "source": [
    "- But this learning may impact general training\n",
    "- and  cause the model to not perform well on testing data\n",
    "\n",
    "**Note:** This is called as **Overfitting** --> typically when **training performance is really good but testing performance is bad.**"
   ]
  },
  {
   "cell_type": "markdown",
   "metadata": {
    "id": "dYZ01LqO-gvz"
   },
   "source": [
    "## **underfitting**"
   ]
  },
  {
   "cell_type": "markdown",
   "metadata": {
    "id": "f-1EZpLM_O5j"
   },
   "source": [
    "Recall the case of **applying degree=1 on our data**,\n",
    "- model isnt even capable of learning the meaningful patterns\n",
    "- Forget performing good on testing data"
   ]
  },
  {
   "cell_type": "markdown",
   "metadata": {
    "id": "pmBwl5VA_McA"
   },
   "source": [
    "\n",
    "\n",
    "<center><img src='https://drive.google.com/uc?id=10KC_Jc665I4EDIpYhbRQPYg5zo0Dr8GC' width=800></center>\n",
    "\n"
   ]
  },
  {
   "cell_type": "markdown",
   "metadata": {
    "id": "Iaps6ytx-aEK"
   },
   "source": [
    "\n",
    "\n",
    "this low complexity model may not even be able to learn the patterns of training data\n",
    "\n",
    "<br>\n",
    "\n",
    "**Note:** This is called as **Underfitting** --> typically when **both training and testing performance is bad**"
   ]
  },
  {
   "cell_type": "markdown",
   "metadata": {
    "id": "M7QtvOfB-4QS"
   },
   "source": [
    "## Summary:"
   ]
  },
  {
   "cell_type": "markdown",
   "metadata": {
    "id": "HagX2tJQh4gm"
   },
   "source": [
    "\n",
    "\n",
    "<center><img src='https://drive.google.com/uc?id=1IAk3keYmrRK2OjrvQ3WQyxz6yJ6o8dLh' width=800></center>\n",
    "\n"
   ]
  },
  {
   "cell_type": "markdown",
   "metadata": {
    "id": "1A3x-_uxk9xr"
   },
   "source": [
    "# **Occam's Razor**"
   ]
  },
  {
   "cell_type": "markdown",
   "metadata": {
    "id": "7j0sG_E5_ij-"
   },
   "source": [
    "\n",
    "#### Why do we pefer model with Degree=2 ?\n"
   ]
  },
  {
   "cell_type": "markdown",
   "metadata": {
    "id": "Reldrmt2i52z"
   },
   "source": [
    "\n",
    "\n",
    "<center><img src='https://drive.google.com/uc?id=18s73wPeDqP5WOG-wWLFK5JDoq0XITf2-' width=800></center>\n",
    "\n"
   ]
  },
  {
   "cell_type": "markdown",
   "metadata": {
    "id": "B3z1shQJAieM"
   },
   "source": [
    "Ans: Due to a **principle in Psychology called Occum's Razor** which says -\n",
    "\n",
    "- **choose simplicity**,, hence we will hence choose degree=2"
   ]
  },
  {
   "cell_type": "markdown",
   "metadata": {
    "id": "QltogDjfaoCc"
   },
   "source": [
    "## **Underfitting Overfitting Code**"
   ]
  },
  {
   "cell_type": "markdown",
   "metadata": {
    "id": "S1xDiVBztR58"
   },
   "source": [
    "Lets perform the implementation for Linear Regression\n",
    "- With degree $\\in [1,34]$ , and plot the train and test performance"
   ]
  },
  {
   "cell_type": "code",
   "execution_count": 13,
   "metadata": {
    "colab": {
     "base_uri": "https://localhost:8080/",
     "height": 311
    },
    "id": "9lBL0NA7VlOD",
    "outputId": "64c625b5-35d4-4310-8117-f80e6f88b35e"
   },
   "outputs": [
    {
     "data": {
      "image/png": "[encoded data removed]",
      "text/plain": [
       "<Figure size 500x300 with 1 Axes>"
      ]
     },
     "metadata": {},
     "output_type": "display_data"
    }
   ],
   "source": [
    "# lets first generate a dataset of 100 points this time\n",
    "import numpy as np\n",
    "import matplotlib.pyplot as plt\n",
    "\n",
    "np.random.seed(1)\n",
    "X = np.random.rand(100,1)\n",
    "y = 0.7*(X**5) - \\\n",
    "    2.1*(X**4) + \\\n",
    "    2.7*(X**3) + \\\n",
    "    3.5*(X**2) + \\\n",
    "    0.3* X + \\\n",
    "    0.4*np.random.rand(100,1)\n",
    "\n",
    "fig = plt.figure(figsize=(5,3))\n",
    "plt.scatter(X, y)\n",
    "plt.xlabel(\"X\")\n",
    "plt.ylabel(\"Y\")\n",
    "plt.show()\n",
    "\n",
    "\n",
    "from sklearn.model_selection import train_test_split\n",
    "X_train, X_test, y_train, y_test = train_test_split(X, y, test_size=0.2, random_state=1)"
   ]
  },
  {
   "cell_type": "code",
   "execution_count": 14,
   "metadata": {
    "id": "IZiDeE23bwTb"
   },
   "outputs": [],
   "source": [
    "def adj_r(r_sq,X,Y):\n",
    "    adj_r1 = (1 - ((1-r_sq)*(len(Y)-1))/(len(Y)-X.shape[1]-1) )\n",
    "    return adj_r1"
   ]
  },
  {
   "cell_type": "code",
   "execution_count": 17,
   "metadata": {
    "id": "cfegifyRP1Hf"
   },
   "outputs": [],
   "source": [
    "from sklearn.preprocessing import PolynomialFeatures\n",
    "from sklearn.preprocessing import StandardScaler\n",
    "from sklearn.linear_model import LinearRegression\n",
    "from sklearn.pipeline import make_pipeline\n",
    "from sklearn.metrics import mean_squared_error\n",
    "\n",
    "degrees = 100 # number of data-points\n",
    "train_scores = []\n",
    "test_scores = []\n",
    "\n",
    "train_loss = []\n",
    "test_loss = []\n",
    "\n",
    "\n",
    "for degree in range(1, degrees):\n",
    "\n",
    "    polyreg_scaled = make_pipeline(PolynomialFeatures(degree), StandardScaler(), LinearRegression())\n",
    "    polyreg_scaled.fit(X_train, y_train)\n",
    "\n",
    "    train_score = polyreg_scaled.score(X_train, y_train)\n",
    "    test_score = polyreg_scaled.score(X_test, y_test)\n",
    "\n",
    "    train_scores.append(adj_r(train_score,X_train,y_train))\n",
    "    test_scores.append(adj_r(test_score,X_test,y_test))\n",
    "\n",
    "    output1 = polyreg_scaled.predict(X_train)\n",
    "    output2 = polyreg_scaled.predict(X_test)\n",
    "\n",
    "    train_loss.append(mean_squared_error(y_train,output1))\n",
    "    test_loss.append(mean_squared_error(y_test,output2))\n"
   ]
  },
  {
   "cell_type": "code",
   "execution_count": 18,
   "metadata": {
    "colab": {
     "base_uri": "https://localhost:8080/",
     "height": 308
    },
    "id": "9OgwdtZyP2S9",
    "outputId": "e82635e3-6a70-4032-f785-1aed7099f73a"
   },
   "outputs": [
    {
     "data": {
      "image/png": "[encoded data removed]",
      "text/plain": [
       "<Figure size 1200x300 with 2 Axes>"
      ]
     },
     "metadata": {},
     "output_type": "display_data"
    }
   ],
   "source": [
    "fig, axes = plt.subplots(1, 2, figsize=(12, 3))\n",
    "axes[0].plot(list(range(1, 100)), train_scores, label=\"train\")\n",
    "axes[0].plot(list(range(1, 100)), test_scores, label=\"test\")\n",
    "axes[0].legend(loc='lower right')\n",
    "axes[0].set_xlabel(\"degree\")\n",
    "axes[0].set_ylabel(\"Adj.R-score\")\n",
    "\n",
    "axes[1].plot(list(range(1, 100)), train_loss, label=\"train\")\n",
    "axes[1].plot(list(range(1, 100)), test_loss, label=\"test\")\n",
    "axes[1].legend(loc='upper left')\n",
    "axes[1].set_xlabel(\"degree\")\n",
    "axes[1].set_ylabel(\"MSE\")\n",
    "\n",
    "plt.show()"
   ]
  },
  {
   "cell_type": "markdown",
   "metadata": {
    "id": "fLA7vCUZweWH"
   },
   "source": [
    "**observe**\n",
    "\n",
    "As we go in higher Degree, the model test performance drop significantly\n",
    "- Which clearly indicates Overfitting\n",
    "\n",
    "While in the lower Degree, the model test and train perfromance is very low\n",
    "- Which shows Underfitting"
   ]
  },
  {
   "cell_type": "markdown",
   "metadata": {
    "id": "HvTpr_W1ZMjk"
   },
   "source": [
    "# **Bias-Variance Tradeoff**"
   ]
  },
  {
   "cell_type": "markdown",
   "metadata": {
    "id": "4IgUhJuNrz1m"
   },
   "source": [
    "\n",
    "\n",
    "<center><img src='https://drive.google.com/uc?id=1LYOeJ4XveAzhr94GQGYnxK7da3d_v6qf' width=800></center>\n",
    "\n",
    "\n"
   ]
  },
  {
   "cell_type": "markdown",
   "metadata": {
    "id": "FgcnsDQqsQLD"
   },
   "source": [
    "\n",
    "<center><img src='https://drive.google.com/uc?id=1-o3JfSwzU-597XpoXv0v2C6NKfMdy3gt' width=800></center>\n",
    "\n",
    "\n"
   ]
  },
  {
   "cell_type": "markdown",
   "metadata": {
    "id": "uT6iPVvBsZbl"
   },
   "source": [
    "\n",
    "\n",
    "<center><img src='https://drive.google.com/uc?id=16QmF28IbVV3el-LIQMo3Bz8SSfVYAnt6' width=800></center>\n",
    "\n"
   ]
  },
  {
   "cell_type": "markdown",
   "metadata": {
    "id": "wZPsOsnasevc"
   },
   "source": [
    "\n",
    "\n",
    "<center><img src='https://drive.google.com/uc?id=1X_BOfjjvC8Roh6k5lR2TmpbrMEj6TEnt' width=800></center>\n",
    "\n"
   ]
  },
  {
   "cell_type": "markdown",
   "metadata": {
    "id": "n1NvArS2siyQ"
   },
   "source": [
    "\n",
    "\n",
    "<center><img src='https://drive.google.com/uc?id=11OP8TylDd1Kma591EoVkluseWfEPRNSs' width=800></center>\n",
    "\n",
    "\n"
   ]
  },
  {
   "cell_type": "markdown",
   "metadata": {
    "id": "TgEr8-Qpv6jL"
   },
   "source": [
    "#### So, ideally what should the model have ?\n",
    "\n",
    "Ans: **low bias and low variance**"
   ]
  },
  {
   "cell_type": "markdown",
   "metadata": {
    "id": "DcICOanatGyK"
   },
   "source": [
    "\n",
    "\n",
    "<center><img src='https://d2beiqkhq929f0.cloudfront.net/public_assets/assets/000/043/111/original/Screenshot_2023-08-16_at_6.40.16_PM.png?1692191426' width=800></center>\n",
    "\n",
    "\n",
    "\n",
    "\n"
   ]
  },
  {
   "cell_type": "markdown",
   "metadata": {
    "id": "NW7mEzI6tP-6"
   },
   "source": [
    "As the model is hitting mostly on our target (bullseye)\n",
    "- We say, the model has low bias\n",
    "\n",
    "And since model is having a steady aim (consistent in its predictions for aiming)\n",
    "- We say, the model has low variance  "
   ]
  },
  {
   "cell_type": "markdown",
   "metadata": {
    "id": "ijvif0ak2wMM"
   },
   "source": [
    "## **Relating Bias-Variance and Overfit-Underfit**"
   ]
  },
  {
   "cell_type": "markdown",
   "metadata": {
    "id": "HFuNjqrnewFk"
   },
   "source": [
    "#### What do you think will bias and variance for under-fitted model?Will the predictions be mostly off/bad?\n",
    "\n",
    "Ans: Yes, because model **unable to understand the patterns --> HIGH BIAS**\n",
    "\n",
    "\n",
    "<br>\n",
    "\n",
    "\n",
    "#### Will the predictions vary a lot with a slight change in the feature values of the samples ?\n",
    "\n",
    "Ans:  NO, **its a simple model --> LOW VARIANCE**"
   ]
  },
  {
   "cell_type": "markdown",
   "metadata": {
    "id": "WpO2VsLJujz3"
   },
   "source": [
    "\n",
    "\n",
    "<center><img src='https://drive.google.com/uc?id=1TEukKoJYDeQ-JX9g_pht--_7LZj1oTaX' width=800></center>\n",
    "\n"
   ]
  },
  {
   "cell_type": "markdown",
   "metadata": {
    "id": "84x_hplsfT_K"
   },
   "source": [
    "#### What do you think about the  bias and variance for over-fitted model? Will the predictions be mostly off/bad?\n",
    "\n",
    "Ans: **Not always, it will be bad for the cases which are different from training samples** --> **LOW BIAS**\n",
    "\n",
    "<br>\n",
    "\n",
    "#### Will the predictions vary a lot with a slight change in the feature values of the samples ?\n",
    "\n",
    "Ans: YES, since **the model hypothesis is very complex --> HIGH VARIANCE**\n",
    "\n"
   ]
  },
  {
   "cell_type": "markdown",
   "metadata": {
    "id": "6ARh47anA2fL"
   },
   "source": [
    "#**Regularization**"
   ]
  },
  {
   "cell_type": "markdown",
   "metadata": {
    "id": "_NH-FvnzE80N"
   },
   "source": [
    "#### Which features are useful to have a perfectly fit model?"
   ]
  },
  {
   "cell_type": "markdown",
   "metadata": {
    "id": "dt3-tOYwEeZF"
   },
   "source": [
    "\n",
    "\n",
    "<center><img src='https://d2beiqkhq929f0.cloudfront.net/public_assets/assets/000/043/112/original/Screenshot_2023-08-16_at_6.54.12_PM.png?1692192581_' width=800></center>\n",
    "\n",
    "\n"
   ]
  },
  {
   "cell_type": "markdown",
   "metadata": {
    "id": "ZVmNfs5XVPPp"
   },
   "source": [
    "#### How to make $w_1, w_2 \\neq 0 $ and $w_3, w_4 = 0$ ?"
   ]
  },
  {
   "cell_type": "markdown",
   "metadata": {
    "id": "jOC28B2AFSiI"
   },
   "source": [
    "\n",
    "\n",
    "<center><img src='https://d2beiqkhq929f0.cloudfront.net/public_assets/assets/000/043/113/original/Screenshot_2023-08-16_at_6.54.20_PM.png?1692192624' width=800></center>\n",
    "\n",
    "\n",
    "\n"
   ]
  },
  {
   "cell_type": "markdown",
   "metadata": {
    "id": "rxvU4NN-TLUI"
   },
   "source": [
    "\n",
    "Here  $d$ is the number of features\n",
    "\n",
    "<br>\n",
    "\n",
    "**Note:** This term $\\sum_{j=1}^{d} w_j^2$ is called **regularization** and its used:\n",
    "- So that Gradient Descent works in minimizing values of $w_j $ by making them $≈ 0$\n"
   ]
  },
  {
   "cell_type": "markdown",
   "metadata": {
    "id": "tkPpi5e_W147"
   },
   "source": [
    "#### Understanding the new Loss function"
   ]
  },
  {
   "cell_type": "markdown",
   "metadata": {
    "id": "iHFQbFK4F5RU"
   },
   "source": [
    "\n",
    "\n",
    "<center><img src='https://d2beiqkhq929f0.cloudfront.net/public_assets/assets/000/043/114/original/Screenshot_2023-08-16_at_6.54.27_PM.png?1692192643' width=800></center>\n",
    "\n",
    "\n",
    "\n"
   ]
  },
  {
   "cell_type": "markdown",
   "metadata": {
    "id": "58MobVOXW1TZ"
   },
   "source": [
    "#### How to get that sweet spot between loss function and Regularization ?"
   ]
  },
  {
   "cell_type": "markdown",
   "metadata": {
    "id": "NGeJOTT_JAnn"
   },
   "source": [
    "\n",
    "\n",
    "<center><img src='https://d2beiqkhq929f0.cloudfront.net/public_assets/assets/000/043/115/original/Screenshot_2023-08-16_at_6.54.34_PM.png?1692192678' width=800></center>\n",
    "\n",
    "\n"
   ]
  },
  {
   "cell_type": "markdown",
   "metadata": {
    "id": "DB-OfGlEeRss"
   },
   "source": [
    "\n",
    "\n",
    "#### How does $\\lambda$ creates that sweet spot between MSE and Regularization term ?\n",
    "\n",
    "Ans: With a **right $\\lambda$ value** :\n",
    "\n",
    "1. There is **enough freedom to MSE** so that:\n",
    "  - The **weights are  optimized** to reach the **lowest possible MSE value**\n",
    "  - Which **does not lead to overfitting**\n",
    "\n",
    "2. It also provide **enough freedom to Regularization term** so that:\n",
    " - The regularization term can make the weights of the model close to 0\n",
    " - Which **does not lead to underfitting**\n",
    "\n",
    "<br>\n",
    "\n",
    "**Note:** The term $w_j^2$ is called as L2/Ridge Regularization\n",
    "\n"
   ]
  },
  {
   "cell_type": "markdown",
   "metadata": {
    "id": "1m0jgJ-1jBXi"
   },
   "source": [
    "# **Points to Remember**"
   ]
  },
  {
   "cell_type": "markdown",
   "metadata": {
    "id": "RTp076ojJ5iW"
   },
   "source": [
    "\n",
    "\n",
    "<center><img src='https://d2beiqkhq929f0.cloudfront.net/public_assets/assets/000/043/117/original/Screenshot_2023-08-16_at_6.54.48_PM.png?1692192728' width=800></center>\n",
    "\n",
    "\n"
   ]
  },
  {
   "cell_type": "markdown",
   "metadata": {
    "id": "-1F5sBngzYxs"
   },
   "source": [
    "## **L-1 Regularization**"
   ]
  },
  {
   "cell_type": "markdown",
   "metadata": {
    "id": "O9NTYwDFxWuc"
   },
   "source": [
    "#### What do you think, will $\\sum_{j=1}^{d} |w_j|$ work ?"
   ]
  },
  {
   "cell_type": "markdown",
   "metadata": {
    "id": "2SrXXNv8K5N3"
   },
   "source": [
    "\n",
    "\n",
    "<center><img src='https://d2beiqkhq929f0.cloudfront.net/public_assets/assets/000/043/120/original/Screenshot_2023-08-16_at_6.55.09_PM.png?1692192872' width=800></center>\n",
    "\n",
    "\n",
    "\n"
   ]
  },
  {
   "cell_type": "markdown",
   "metadata": {
    "id": "L1I9RHwDqv4p"
   },
   "source": [
    "<center><img src=https://d2beiqkhq929f0.cloudfront.net/public_assets/assets/000/043/123/original/Screenshot_2023-08-16_at_7.33.45_PM.png?1692194777 width=800></center>"
   ]
  },
  {
   "cell_type": "markdown",
   "metadata": {
    "id": "fxr9ye1XztsL"
   },
   "source": [
    "# **Interesting property of L1 and L2 Reg**"
   ]
  },
  {
   "cell_type": "markdown",
   "metadata": {
    "id": "hYBhHsRv80LP"
   },
   "source": [
    "#### When to use L1, L2 Regularization ?"
   ]
  },
  {
   "cell_type": "markdown",
   "metadata": {
    "id": "Rdb2TslUrVVX"
   },
   "source": [
    "<center><img src=https://d2beiqkhq929f0.cloudfront.net/public_assets/assets/000/043/124/original/Screenshot_2023-08-16_at_7.34.47_PM.png?1692194929 width=800></center>"
   ]
  },
  {
   "cell_type": "markdown",
   "metadata": {
    "id": "IIt575mF-7R3"
   },
   "source": [
    "#### Why does L1 create a sparse W and L2 does not ?"
   ]
  },
  {
   "cell_type": "markdown",
   "metadata": {
    "id": "D-1Mf3QdLquJ"
   },
   "source": [
    "\n",
    "\n",
    "<center><img src='https://d2beiqkhq929f0.cloudfront.net/public_assets/assets/000/043/121/original/Screenshot_2023-08-16_at_6.55.16_PM.png?1692192926' width=800></center>\n",
    "\n",
    "\n"
   ]
  },
  {
   "cell_type": "markdown",
   "metadata": {
    "id": "APaRM71I8A_5"
   },
   "source": [
    "Ans: To figure out why L1 creates a sparse matrix and L2 does not, lets look into weight updation:\n",
    "\n",
    "- $w_j^{new} =w_j^{old} - \\eta \\frac{\\partial L}{\\partial W_j} $\n",
    "\n",
    "<br>\n",
    "\n",
    "As **MSE remains same, so the only change** is caused due to **derivative of $|w_j|$ and $w_j^2$**\n",
    "\n",
    "<br>\n",
    "\n",
    "#### What do you think, will be the derivative of  $|w_j|$ and $w_j^2$ ?\n",
    "\n",
    "Ans: for $\\frac{d|w_j|}{dw_j} =  [1,0,-1] $ while for $\\frac{d|w_j^2|}{dw_j} = 2 \\times w_j$\n",
    "\n",
    "<br>\n",
    "\n",
    "**observe**\n",
    "$\\frac{d|w_j|}{dw_j}$ is **independent of $w_j$**\n",
    "- hence quickly reaches 0\n",
    "\n",
    "<br>\n",
    "\n",
    "while $\\frac{dw_j^2}{dw_j}$ is **dependent on $w_j$**\n",
    "- hence **when  $w_j$ large**, it **reaches close to 0 very fast**\n",
    "\n",
    "- But as **$w_j$ approaches zero, the value becomes very small** --> causing **$w_j$ to remain close to 0 only**\n",
    "\n"
   ]
  },
  {
   "cell_type": "markdown",
   "metadata": {
    "id": "y0YG1FPnh1-a"
   },
   "source": [
    "**Quiz-26**\n",
    "\n",
    "```\n",
    "What is the main purpose of L1 regularization?\n",
    "a) reduce model complexity\n",
    "b) increase MSE\n",
    "c) reduce underfitting\n",
    "d) sparsity in feature selection\n",
    "```\n",
    "**correct Answer**\n",
    "\n",
    "d) sparsity in feature selection"
   ]
  },
  {
   "cell_type": "markdown",
   "metadata": {
    "id": "HhpY65Fq8GoO"
   },
   "source": [
    "#### If you are not sure which regularization to use, is there a way to combine both L1 and L2 ?"
   ]
  },
  {
   "cell_type": "markdown",
   "metadata": {
    "id": "5Gy552lGMVSh"
   },
   "source": [
    "\n",
    "\n",
    "<center><img src='https://d2beiqkhq929f0.cloudfront.net/public_assets/assets/000/043/122/original/Screenshot_2023-08-16_at_6.59.22_PM.png?1692192957' width=800></center>\n",
    "\n",
    "\n"
   ]
  },
  {
   "cell_type": "markdown",
   "metadata": {
    "id": "JaohGQKWMp3k"
   },
   "source": [
    "#**L1, L2 Regularization Code**"
   ]
  },
  {
   "cell_type": "markdown",
   "metadata": {
    "id": "t3ToYDt8jtso"
   },
   "source": [
    "#### Using Sklearn diabetes data - https://scikit-learn.org/stable/datasets/toy_dataset.html#diabetes-dataset\n"
   ]
  },
  {
   "cell_type": "markdown",
   "metadata": {
    "id": "ujMbTLBPVw-e"
   },
   "source": [
    "<img src= https://d2beiqkhq929f0.cloudfront.net/public_assets/assets/000/043/110/original/Screenshot_2023-08-16_at_6.03.47_PM.png?1692189250 width=800>"
   ]
  },
  {
   "cell_type": "code",
   "execution_count": 19,
   "metadata": {
    "id": "RjQzOwiKLSOO"
   },
   "outputs": [],
   "source": [
    "from sklearn import datasets\n",
    "\n",
    "data = datasets.load_diabetes()"
   ]
  },
  {
   "cell_type": "code",
   "execution_count": 20,
   "metadata": {
    "id": "doxHt-c1L0X-"
   },
   "outputs": [],
   "source": [
    "X = data['data']\n",
    "\n",
    "y = data['target']"
   ]
  },
  {
   "cell_type": "code",
   "execution_count": 21,
   "metadata": {
    "id": "zs5FmRSWLBz9"
   },
   "outputs": [],
   "source": [
    "from sklearn.model_selection import train_test_split\n",
    "from sklearn.preprocessing import StandardScaler"
   ]
  },
  {
   "cell_type": "code",
   "execution_count": 22,
   "metadata": {
    "id": "P1aEYq9HLJER"
   },
   "outputs": [],
   "source": [
    "# Split the data into training and testing sets\n",
    "X_train, X_test, y_train, y_test = train_test_split(X, y, test_size=0.2, random_state=42)"
   ]
  },
  {
   "cell_type": "code",
   "execution_count": null,
   "metadata": {
    "id": "c_tzZzMlOa-m"
   },
   "outputs": [],
   "source": [
    "# Transform the features into polynomial features\n",
    "degree = 25\n",
    "poly = PolynomialFeatures(degree=degree)\n",
    "X_train_poly = poly.fit_transform(X_train)\n",
    "X_test_poly = poly.transform(X_test)\n"
   ]
  },
  {
   "cell_type": "code",
   "execution_count": null,
   "metadata": {
    "id": "8yJn0BtHLKB_"
   },
   "outputs": [],
   "source": [
    "# Standardize the polynomial features\n",
    "scaler = StandardScaler()\n",
    "X_train_poly_scaled = scaler.fit_transform(X_train_poly)\n",
    "X_test_poly_scaled = scaler.transform(X_test_poly)"
   ]
  },
  {
   "cell_type": "markdown",
   "metadata": {
    "id": "Uw-G7f4gE8-3"
   },
   "source": [
    "Using Sklearn's Linear Regression"
   ]
  },
  {
   "cell_type": "code",
   "execution_count": null,
   "metadata": {
    "id": "b02uTV6SE8nZ"
   },
   "outputs": [],
   "source": [
    "from sklearn.linear_model import LinearRegression"
   ]
  },
  {
   "cell_type": "code",
   "execution_count": null,
   "metadata": {
    "id": "RKeNKjUSE8id"
   },
   "outputs": [],
   "source": [
    "model = LinearRegression()\n",
    "model.fit(X_train_poly_scaled , y_train)\n",
    "\n",
    "output = model.predict(X_test_poly_scaled)\n"
   ]
  },
  {
   "cell_type": "markdown",
   "metadata": {
    "id": "67m89wRTV6OG"
   },
   "source": [
    "taking MSE as metric instead of Adj.R-sq"
   ]
  },
  {
   "cell_type": "code",
   "execution_count": null,
   "metadata": {
    "colab": {
     "base_uri": "https://localhost:8080/"
    },
    "id": "xrzcsodeOwbA",
    "outputId": "a764aebe-9aff-47f5-b5b4-430519d24097"
   },
   "outputs": [],
   "source": [
    "from sklearn.metrics import mean_squared_error\n",
    "\n",
    "print('MSE for test:', mean_squared_error(y_test, output))\n",
    "\n",
    "output = model.predict(X_train_poly_scaled)\n",
    "print('MSE for train:', mean_squared_error(y_train, output))"
   ]
  },
  {
   "cell_type": "markdown",
   "metadata": {
    "id": "Bj-gKiEMJ1Rc"
   },
   "source": [
    "**observe**\n",
    "- Clearly polynomial regression with degree=25 overfits"
   ]
  },
  {
   "cell_type": "markdown",
   "metadata": {
    "id": "xC1-5bblKGhr"
   },
   "source": [
    "Lets see how L1 and L2 regularisation work"
   ]
  },
  {
   "cell_type": "code",
   "execution_count": null,
   "metadata": {
    "id": "p0dj9dwkJ1CY"
   },
   "outputs": [],
   "source": [
    "from sklearn.linear_model import Lasso, Ridge"
   ]
  },
  {
   "cell_type": "code",
   "execution_count": null,
   "metadata": {
    "id": "BpJodFHcH2Je"
   },
   "outputs": [],
   "source": [
    "lasso_model = Lasso(alpha=0.01)  # Alpha is the regularization strength\n",
    "ridge_model = Ridge(alpha=1.0)    # Alpha is the regularization strength"
   ]
  },
  {
   "cell_type": "code",
   "execution_count": null,
   "metadata": {
    "colab": {
     "base_uri": "https://localhost:8080/",
     "height": 75
    },
    "id": "8SEVzWIGKatT",
    "outputId": "64cea9d8-0eb5-410e-9ba4-8143a6d95226"
   },
   "outputs": [],
   "source": [
    "# Fit the models to the training data\n",
    "lasso_model.fit(X_train_poly_scaled, y_train)\n",
    "ridge_model.fit(X_train_poly_scaled, y_train)"
   ]
  },
  {
   "cell_type": "code",
   "execution_count": null,
   "metadata": {
    "colab": {
     "base_uri": "https://localhost:8080/"
    },
    "id": "Nu3v2IpJKVTf",
    "outputId": "b9dc2ff7-5b4b-4aeb-bd11-0f2e47962919"
   },
   "outputs": [],
   "source": [
    "lasso_predictions = lasso_model.predict(X_test_poly_scaled)\n",
    "ridge_predictions = ridge_model.predict(X_test_poly_scaled)\n",
    "\n",
    "print('test MSE for L1:', mean_squared_error(y_test, lasso_predictions))\n",
    "print('test MSE for L2:', mean_squared_error(y_test, ridge_predictions))"
   ]
  },
  {
   "cell_type": "markdown",
   "metadata": {
    "id": "Sea7TlC7P5x3"
   },
   "source": [
    "\n",
    "**observe**\n",
    "\n",
    "Using Regularisation the test MSE reduces for our Polynomial regression model with degree=25\n",
    "\n",
    "This shows how regularisation helps the model"
   ]
  },
  {
   "cell_type": "markdown",
   "metadata": {
    "id": "xXSasky7rgJw"
   },
   "source": [
    "# **points to Remember**"
   ]
  },
  {
   "cell_type": "markdown",
   "metadata": {
    "id": "9vDGYkrJriWY"
   },
   "source": [
    "<center><img src=https://d2beiqkhq929f0.cloudfront.net/public_assets/assets/000/043/125/original/Screenshot_2023-08-16_at_7.35.10_PM.png?1692194983 width=800> </center>"
   ]
  },
  {
   "cell_type": "markdown",
   "metadata": {
    "id": "Tb2JGrbKrii3"
   },
   "source": [
    "<center><img src=https://d2beiqkhq929f0.cloudfront.net/public_assets/assets/000/043/126/original/Screenshot_2023-08-16_at_7.35.19_PM.png?1692195015 width=800> </center>"
   ]
  }
 ],
 "metadata": {
  "colab": {
   "collapsed_sections": [
    "RnlT-SpiUR9o"
   ],
   "provenance": []
  },
  "kernelspec": {
   "display_name": "Python 3 (ipykernel)",
   "language": "python",
   "name": "python3"
  },
  "language_info": {
   "codemirror_mode": {
    "name": "ipython",
    "version": 3
   },
   "file_extension": ".py",
   "mimetype": "text/x-python",
   "name": "python",
   "nbconvert_exporter": "python",
   "pygments_lexer": "ipython3",
   "version": "3.10.9"
  }
 },
 "nbformat": 4,
 "nbformat_minor": 4
}
