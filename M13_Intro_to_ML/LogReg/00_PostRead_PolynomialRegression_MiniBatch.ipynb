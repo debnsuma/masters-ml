{
 "cells": [
  {
   "cell_type": "markdown",
   "metadata": {
    "id": "RnlT-SpiUR9o"
   },
   "source": [
    "# **Mini-Batch Gradient code** - (Post Read)\n",
    "\n"
   ]
  },
  {
   "cell_type": "markdown",
   "metadata": {
    "id": "n5AIRTe4N5oS"
   },
   "source": [
    "Lets implement Mini-batch gradient Descent"
   ]
  },
  {
   "cell_type": "markdown",
   "metadata": {
    "id": "NesTsB4ajwXa"
   },
   "source": [
    "#### Importing libraries\n"
   ]
  },
  {
   "cell_type": "code",
   "execution_count": 1,
   "metadata": {
    "id": "LpBshUrvX0Dm"
   },
   "outputs": [],
   "source": [
    "# importing libraries\n",
    "import numpy as np\n",
    "import matplotlib.pyplot as plt"
   ]
  },
  {
   "cell_type": "markdown",
   "metadata": {
    "id": "t3ToYDt8jtso"
   },
   "source": [
    "#### Creating a dummy data\n",
    "\n",
    "Creaing a 5000 data with only one feature\n",
    "\n",
    "- multivariate_normal documentation: https://numpy.org/doc/stable/reference/random/generated/numpy.random.multivariate_normal.html"
   ]
  },
  {
   "cell_type": "code",
   "execution_count": 2,
   "metadata": {
    "id": "HPZTahrHX9vG"
   },
   "outputs": [],
   "source": [
    "mean = np.array([4.0, 5.0])\n",
    "cov = np.array([[1.0, 0.95], [0.95, 1.2]])\n",
    "data = np.random.multivariate_normal(mean, cov, 5000)"
   ]
  },
  {
   "cell_type": "code",
   "execution_count": 3,
   "metadata": {
    "colab": {
     "base_uri": "https://localhost:8080/"
    },
    "id": "ako0HnPfea5u",
    "outputId": "daa78eb7-25f7-41e1-d498-0561b5eb7fb9"
   },
   "outputs": [
    {
     "data": {
      "text/plain": [
       "(5000, 2)"
      ]
     },
     "execution_count": 3,
     "metadata": {},
     "output_type": "execute_result"
    }
   ],
   "source": [
    "data.shape"
   ]
  },
  {
   "cell_type": "code",
   "execution_count": 4,
   "metadata": {
    "colab": {
     "base_uri": "https://localhost:8080/"
    },
    "id": "Xhf9Gu-Iecwe",
    "outputId": "3d8f0ab3-dc5a-4d37-c9b0-2565de599a36"
   },
   "outputs": [
    {
     "data": {
      "text/plain": [
       "array([[3.7863837 , 4.88334381],\n",
       "       [3.73710764, 4.51386805],\n",
       "       [4.43709024, 6.63887424],\n",
       "       [2.26563276, 3.46820062],\n",
       "       [5.49575764, 6.06569315]])"
      ]
     },
     "execution_count": 4,
     "metadata": {},
     "output_type": "execute_result"
    }
   ],
   "source": [
    "data[:5]"
   ]
  },
  {
   "cell_type": "markdown",
   "metadata": {
    "id": "TTktbr7ESN3B"
   },
   "source": [
    "Plotting the data"
   ]
  },
  {
   "cell_type": "code",
   "execution_count": 5,
   "metadata": {
    "colab": {
     "base_uri": "https://localhost:8080/",
     "height": 449
    },
    "id": "58WV2EUkX_Sf",
    "outputId": "dba4e884-2dc3-4226-d4e5-64be9774a7bd"
   },
   "outputs": [
    {
     "data": {
      "image/png": "[encoded data removed]",
      "text/plain": [
       "<Figure size 640x480 with 1 Axes>"
      ]
     },
     "metadata": {},
     "output_type": "display_data"
    }
   ],
   "source": [
    "# visualising data\n",
    "plt.scatter(data[:500, 0], data[:500, 1], marker = '.')\n",
    "plt.xlabel('X')\n",
    "plt.ylabel('y')\n",
    "\n",
    "plt.show()\n"
   ]
  },
  {
   "cell_type": "markdown",
   "metadata": {
    "id": "3g1cVvbrOGj6"
   },
   "source": [
    "**Observe**\n",
    "\n",
    "Clearly we see a linear relationship, hence using Linear Regression with Mini-Batch GD"
   ]
  },
  {
   "cell_type": "code",
   "execution_count": 6,
   "metadata": {
    "id": "fZ9i_NeSeglk"
   },
   "outputs": [],
   "source": [
    "# adding bias column (for w0) to data\n",
    "data = np.hstack((np.ones((data.shape[0], 1)), data))"
   ]
  },
  {
   "cell_type": "code",
   "execution_count": 7,
   "metadata": {
    "colab": {
     "base_uri": "https://localhost:8080/"
    },
    "id": "m-hVjV-dehtQ",
    "outputId": "4564c71e-e5d0-416e-f4ab-ba0a958dcf4b"
   },
   "outputs": [
    {
     "data": {
      "text/plain": [
       "array([[1.        , 3.7863837 , 4.88334381],\n",
       "       [1.        , 3.73710764, 4.51386805],\n",
       "       [1.        , 4.43709024, 6.63887424],\n",
       "       [1.        , 2.26563276, 3.46820062],\n",
       "       [1.        , 5.49575764, 6.06569315]])"
      ]
     },
     "execution_count": 7,
     "metadata": {},
     "output_type": "execute_result"
    }
   ],
   "source": [
    "data[:5]"
   ]
  },
  {
   "cell_type": "code",
   "execution_count": 8,
   "metadata": {
    "id": "ztrIuMUKh01u"
   },
   "outputs": [],
   "source": [
    "X = data[: ,:-1]\n",
    "y = data[:, -1].reshape(-1,1)"
   ]
  },
  {
   "cell_type": "markdown",
   "metadata": {
    "id": "QWDaoV2G1e9Y"
   },
   "source": [
    "#### Model Output $\\hat{y_i}$"
   ]
  },
  {
   "cell_type": "code",
   "execution_count": 10,
   "metadata": {
    "id": "iZEt7wkw1jvn"
   },
   "outputs": [],
   "source": [
    "# Model output function\n",
    "def predict(X, weight):\n",
    "    return np.dot(X, weight)"
   ]
  },
  {
   "cell_type": "markdown",
   "metadata": {
    "id": "Vh4C7fw_dvDb"
   },
   "source": [
    "#### Calculating Gradient"
   ]
  },
  {
   "cell_type": "code",
   "execution_count": 11,
   "metadata": {
    "id": "psXYYs8vc9hL"
   },
   "outputs": [],
   "source": [
    "# function to compute gradient of error function w.r.t. weight\n",
    "def gradient(X, y, weight):\n",
    "    y_pred = predict(X, weight)\n",
    "    grad = np.dot(X.transpose(), (y_pred - y))\n",
    "    return grad"
   ]
  },
  {
   "cell_type": "markdown",
   "metadata": {
    "id": "O-ZFJdOBgqdc"
   },
   "source": [
    "#### Calculating MSE"
   ]
  },
  {
   "cell_type": "code",
   "execution_count": 12,
   "metadata": {
    "id": "C-sVBZXDgpnc"
   },
   "outputs": [],
   "source": [
    "# function to compute the error for current values of weight\n",
    "def cost(X, y, weight):\n",
    "    y_pred = predict(X, weight)\n",
    "    e = np.mean((y-y_pred)**2)\n",
    "\n",
    "    return e"
   ]
  },
  {
   "cell_type": "markdown",
   "metadata": {
    "id": "TuZu_crYgviJ"
   },
   "source": [
    "#### Creating mini batches"
   ]
  },
  {
   "cell_type": "markdown",
   "metadata": {
    "id": "ETwMoq2_SlEQ"
   },
   "source": [
    "dividing the data into sets of 32 datapoints,\n",
    "- hence minibatch_count  contains = $\\frac{5000}{32} = 156.25 = 156 $ sets\n",
    "\n",
    "- Meaning count($B1,B2,B3...Bi$) = 156"
   ]
  },
  {
   "cell_type": "code",
   "execution_count": 13,
   "metadata": {
    "id": "oejKOI52gu9R"
   },
   "outputs": [],
   "source": [
    "# function to create a list containing mini-batches\n",
    "def create_mini_batches(X, y, batch_size = 32):\n",
    "\n",
    "    mini_batches = []\n",
    "    data = np.hstack((X, y))\n",
    "\n",
    "    # Already shuffling the data so choosing any set of 32 , will create the same scenario as randomly selecting 32 points\n",
    "    np.random.shuffle(data)\n",
    "    minibatch_count = data.shape[0] // batch_size\n",
    "    i = 0\n",
    "\n",
    "    for i in range(minibatch_count + 1):\n",
    "        # stores 32 datapoint for a single set out of 156\n",
    "        mini_batch = data[i * batch_size: (i + 1)*batch_size, :]\n",
    "        X_minibatch = mini_batch[:, :-1]\n",
    "        Y_minibatch = mini_batch[:, -1].reshape((-1, 1))\n",
    "        mini_batches.append((X_minibatch, Y_minibatch))\n",
    "\n",
    "    return mini_batches"
   ]
  },
  {
   "cell_type": "markdown",
   "metadata": {
    "id": "vDFi90zeg0x3"
   },
   "source": [
    "#### Implementing Mini batch GD"
   ]
  },
  {
   "cell_type": "code",
   "execution_count": 14,
   "metadata": {
    "id": "lXckhSMGg0XZ"
   },
   "outputs": [],
   "source": [
    "# function to perform mini-batch gradient descent\n",
    "def gradientDescent(X, y, learning_rate = 0.0001, batch_size = 32):\n",
    "    weight = np.zeros((X.shape[1], 1))\n",
    "    error_list = []\n",
    "    max_iters = 3\n",
    "\n",
    "    for itr in range(max_iters):\n",
    "        # creates mini- batch\n",
    "        mini_batches = create_mini_batches(X, y, batch_size)\n",
    "\n",
    "        for mini_batch in mini_batches:\n",
    "            X_mini, y_mini = mini_batch\n",
    "            weight = weight - learning_rate * gradient(X_mini, y_mini, weight)\n",
    "            error_list.append(cost(X_mini, y_mini, weight))\n",
    "\n",
    "    return weight, error_list"
   ]
  },
  {
   "cell_type": "markdown",
   "metadata": {
    "id": "s_CKMOzeTysh"
   },
   "source": [
    "**Observe**\n",
    "\n",
    "The only difference from the earlier scratch implementation of Linear Regression and here is:\n",
    "- The introduction of **mini_batches**"
   ]
  },
  {
   "cell_type": "markdown",
   "metadata": {
    "id": "vYr1fqDIUD4z"
   },
   "source": [
    "Plotting the weights of the Linear Regression"
   ]
  },
  {
   "cell_type": "code",
   "execution_count": 15,
   "metadata": {
    "colab": {
     "base_uri": "https://localhost:8080/",
     "height": 485
    },
    "id": "qX507uVVhAYn",
    "outputId": "43eeb99f-0a38-4b58-a92a-eade3472eb85"
   },
   "outputs": [
    {
     "name": "stdout",
     "output_type": "stream",
     "text": [
      "w_0 =  [0.35075974]\n",
      "w_1 =  [[1.14585738]]\n"
     ]
    },
    {
     "data": {
      "image/png": "[encoded data removed]",
      "text/plain": [
       "<Figure size 640x480 with 1 Axes>"
      ]
     },
     "metadata": {},
     "output_type": "display_data"
    }
   ],
   "source": [
    "weight, error_list = gradientDescent(X, y)\n",
    "print(\"w_0 = \", weight[0])\n",
    "print(\"w_1 = \", weight[1:])\n",
    "\n",
    "# visualising gradient descent\n",
    "plt.plot(error_list)\n",
    "plt.xlabel(\"Number of iterations = 3 * 156 = 468\")\n",
    "plt.ylabel(\"Loss Value\")\n",
    "plt.show()"
   ]
  },
  {
   "cell_type": "markdown",
   "metadata": {
    "id": "6vptym7VP5E-"
   },
   "source": [
    "#### We only select iteration as 3 but plot shows iteration as 468, Why ?\n",
    "\n",
    "Ans: As we have 156 sets of 32 datapoints, and there is 3 iteration:\n",
    "- total iteration = $3 \\times 156 = 468$"
   ]
  },
  {
   "cell_type": "code",
   "execution_count": null,
   "metadata": {},
   "outputs": [],
   "source": []
  }
 ],
 "metadata": {
  "colab": {
   "provenance": []
  },
  "kernelspec": {
   "display_name": "Python 3 (ipykernel)",
   "language": "python",
   "name": "python3"
  },
  "language_info": {
   "codemirror_mode": {
    "name": "ipython",
    "version": 3
   },
   "file_extension": ".py",
   "mimetype": "text/x-python",
   "name": "python",
   "nbconvert_exporter": "python",
   "pygments_lexer": "ipython3",
   "version": "3.10.9"
  }
 },
 "nbformat": 4,
 "nbformat_minor": 4
}
