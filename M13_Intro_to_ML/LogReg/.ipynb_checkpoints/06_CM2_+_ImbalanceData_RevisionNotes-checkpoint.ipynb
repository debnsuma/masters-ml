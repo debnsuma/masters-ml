{
  "cells": [
    {
      "cell_type": "markdown",
      "metadata": {
        "id": "iYrW2pMA-OyG"
      },
      "source": [
        "# Content\n",
        "## Recap\n",
        "## **Classification Metrics**\n",
        "\n",
        "- **Sensitivity and Specificity**\n",
        "\n",
        "- **ROC**\n",
        "\n",
        "\n",
        "- **AUC**\n",
        "\n",
        "- **Precision Recall Curve**\n"
      ]
    },
    {
      "cell_type": "markdown",
      "metadata": {
        "id": "2uH9NjVMEE63"
      },
      "source": [
        "#**Recap**"
      ]
    },
    {
      "cell_type": "markdown",
      "source": [
        "<img src=https://d2beiqkhq929f0.cloudfront.net/public_assets/assets/000/042/222/original/Screenshot_2023-08-08_at_11.36.16_AM.png?1691475401 width=700>"
      ],
      "metadata": {
        "id": "yBG98nXKyPpu"
      }
    },
    {
      "cell_type": "markdown",
      "source": [
        "<img src=https://d2beiqkhq929f0.cloudfront.net/public_assets/assets/000/042/224/original/Screenshot_2023-08-08_at_11.36.24_AM.png?1691475519 width=700>"
      ],
      "metadata": {
        "id": "WXzC60-5ypjg"
      }
    },
    {
      "cell_type": "markdown",
      "metadata": {
        "id": "LR0TkcWhAUTl"
      },
      "source": [
        "# Spam vs Non-Spam: Business Case\n",
        "\n",
        "\n",
        "\n",
        "You are working in Google and have a task to create an Email spam detection model\n",
        "\n",
        "Here,\n",
        "- **not spam** → Class 0\n",
        "- **spam** → Class 1\n",
        "\n",
        "<br>\n",
        "\n",
        "\n",
        "\n",
        "\n",
        "**Note:** For simplicity, lets call:\n",
        "-  Class 0 **Not Spam** as Negative Class\n",
        "- and Class 1 **Spam** as Positive Class\n",
        "\n"
      ]
    },
    {
      "cell_type": "markdown",
      "metadata": {
        "id": "0kCNapNpXsSS"
      },
      "source": [
        "Lets Load the data"
      ]
    },
    {
      "cell_type": "code",
      "execution_count": null,
      "metadata": {
        "id": "4cGr2k8dWm-P",
        "colab": {
          "base_uri": "https://localhost:8080/",
          "height": 614
        },
        "outputId": "f7813767-f289-4f3e-a393-90d64dda3689"
      },
      "outputs": [
        {
          "output_type": "stream",
          "name": "stdout",
          "text": [
            "Downloading...\n",
            "From: https://drive.google.com/uc?id=1dw56R8SzKgTgiKurfBLUTxmiewJacMkt\n",
            "To: /content/Spam_finalData.csv\n",
            "\r  0% 0.00/1.64M [00:00<?, ?B/s]\r100% 1.64M/1.64M [00:00<00:00, 178MB/s]\n"
          ]
        },
        {
          "output_type": "display_data",
          "data": {
            "text/plain": [
              "<Figure size 640x480 with 1 Axes>"
            ],
            "image/png": "[encoded data removed]"
          },
          "metadata": {}
        },
        {
          "output_type": "stream",
          "name": "stdout",
          "text": [
            "Training Data:(3878, 15),(3878,), Testing Data: (1293, 15),(1293,)\n"
          ]
        },
        {
          "output_type": "execute_result",
          "data": {
            "text/plain": [
              "LogisticRegression()"
            ],
            "text/html": [
              "<style>#sk-container-id-2 {color: black;background-color: white;}#sk-container-id-2 pre{padding: 0;}#sk-container-id-2 div.sk-toggleable {background-color: white;}#sk-container-id-2 label.sk-toggleable__label {cursor: pointer;display: block;width: 100%;margin-bottom: 0;padding: 0.3em;box-sizing: border-box;text-align: center;}#sk-container-id-2 label.sk-toggleable__label-arrow:before {content: \"▸\";float: left;margin-right: 0.25em;color: #696969;}#sk-container-id-2 label.sk-toggleable__label-arrow:hover:before {color: black;}#sk-container-id-2 div.sk-estimator:hover label.sk-toggleable__label-arrow:before {color: black;}#sk-container-id-2 div.sk-toggleable__content {max-height: 0;max-width: 0;overflow: hidden;text-align: left;background-color: #f0f8ff;}#sk-container-id-2 div.sk-toggleable__content pre {margin: 0.2em;color: black;border-radius: 0.25em;background-color: #f0f8ff;}#sk-container-id-2 input.sk-toggleable__control:checked~div.sk-toggleable__content {max-height: 200px;max-width: 100%;overflow: auto;}#sk-container-id-2 input.sk-toggleable__control:checked~label.sk-toggleable__label-arrow:before {content: \"▾\";}#sk-container-id-2 div.sk-estimator input.sk-toggleable__control:checked~label.sk-toggleable__label {background-color: #d4ebff;}#sk-container-id-2 div.sk-label input.sk-toggleable__control:checked~label.sk-toggleable__label {background-color: #d4ebff;}#sk-container-id-2 input.sk-hidden--visually {border: 0;clip: rect(1px 1px 1px 1px);clip: rect(1px, 1px, 1px, 1px);height: 1px;margin: -1px;overflow: hidden;padding: 0;position: absolute;width: 1px;}#sk-container-id-2 div.sk-estimator {font-family: monospace;background-color: #f0f8ff;border: 1px dotted black;border-radius: 0.25em;box-sizing: border-box;margin-bottom: 0.5em;}#sk-container-id-2 div.sk-estimator:hover {background-color: #d4ebff;}#sk-container-id-2 div.sk-parallel-item::after {content: \"\";width: 100%;border-bottom: 1px solid gray;flex-grow: 1;}#sk-container-id-2 div.sk-label:hover label.sk-toggleable__label {background-color: #d4ebff;}#sk-container-id-2 div.sk-serial::before {content: \"\";position: absolute;border-left: 1px solid gray;box-sizing: border-box;top: 0;bottom: 0;left: 50%;z-index: 0;}#sk-container-id-2 div.sk-serial {display: flex;flex-direction: column;align-items: center;background-color: white;padding-right: 0.2em;padding-left: 0.2em;position: relative;}#sk-container-id-2 div.sk-item {position: relative;z-index: 1;}#sk-container-id-2 div.sk-parallel {display: flex;align-items: stretch;justify-content: center;background-color: white;position: relative;}#sk-container-id-2 div.sk-item::before, #sk-container-id-2 div.sk-parallel-item::before {content: \"\";position: absolute;border-left: 1px solid gray;box-sizing: border-box;top: 0;bottom: 0;left: 50%;z-index: -1;}#sk-container-id-2 div.sk-parallel-item {display: flex;flex-direction: column;z-index: 1;position: relative;background-color: white;}#sk-container-id-2 div.sk-parallel-item:first-child::after {align-self: flex-end;width: 50%;}#sk-container-id-2 div.sk-parallel-item:last-child::after {align-self: flex-start;width: 50%;}#sk-container-id-2 div.sk-parallel-item:only-child::after {width: 0;}#sk-container-id-2 div.sk-dashed-wrapped {border: 1px dashed gray;margin: 0 0.4em 0.5em 0.4em;box-sizing: border-box;padding-bottom: 0.4em;background-color: white;}#sk-container-id-2 div.sk-label label {font-family: monospace;font-weight: bold;display: inline-block;line-height: 1.2em;}#sk-container-id-2 div.sk-label-container {text-align: center;}#sk-container-id-2 div.sk-container {/* jupyter's `normalize.less` sets `[hidden] { display: none; }` but bootstrap.min.css set `[hidden] { display: none !important; }` so we also need the `!important` here to be able to override the default hidden behavior on the sphinx rendered scikit-learn.org. See: https://github.com/scikit-learn/scikit-learn/issues/21755 */display: inline-block !important;position: relative;}#sk-container-id-2 div.sk-text-repr-fallback {display: none;}</style><div id=\"sk-container-id-2\" class=\"sk-top-container\"><div class=\"sk-text-repr-fallback\"><pre>LogisticRegression()</pre><b>In a Jupyter environment, please rerun this cell to show the HTML representation or trust the notebook. <br />On GitHub, the HTML representation is unable to render, please try loading this page with nbviewer.org.</b></div><div class=\"sk-container\" hidden><div class=\"sk-item\"><div class=\"sk-estimator sk-toggleable\"><input class=\"sk-toggleable__control sk-hidden--visually\" id=\"sk-estimator-id-2\" type=\"checkbox\" checked><label for=\"sk-estimator-id-2\" class=\"sk-toggleable__label sk-toggleable__label-arrow\">LogisticRegression</label><div class=\"sk-toggleable__content\"><pre>LogisticRegression()</pre></div></div></div></div></div>"
            ]
          },
          "metadata": {},
          "execution_count": 2
        }
      ],
      "source": [
        "import pandas as pd\n",
        "import numpy as np\n",
        "import matplotlib.pyplot as plt\n",
        "from sklearn.linear_model import LogisticRegression\n",
        "from sklearn.model_selection import train_test_split\n",
        "\n",
        "!gdown 1dw56R8SzKgTgiKurfBLUTxmiewJacMkt\n",
        "\n",
        "dt = pd.read_csv('Spam_finalData.csv')\n",
        "\n",
        "\n",
        "\n",
        "\n",
        "X_train,X_test,y_train,y_test = train_test_split(dt.drop(['label_num'],axis=1),dt['label_num'])\n",
        "\n",
        "y_test.value_counts().plot(kind='bar')\n",
        "plt.xlabel('Class')\n",
        "plt.ylabel('Number of Samples')\n",
        "plt.title('Test Data Distribution')\n",
        "plt.show()\n",
        "\n",
        "\n",
        "print(f'Training Data:{X_train.shape},{y_train.shape}, Testing Data: {X_test.shape},{y_test.shape}')\n",
        "\n",
        "\n",
        "\n",
        "\n",
        "\n",
        "model = LogisticRegression()\n",
        "model.fit(X_train,y_train)\n"
      ]
    },
    {
      "cell_type": "markdown",
      "source": [
        "# **Sensitivity**"
      ],
      "metadata": {
        "id": "MqBofoOklzIP"
      }
    },
    {
      "cell_type": "markdown",
      "source": [
        "Suppose we have **Fortis Hospital data** where:\n",
        "- 100 patients are Cancerous (Class1)\n",
        "- 900 patients are not-Cancerous (Class0)"
      ],
      "metadata": {
        "id": "RTsQYSj8VCwz"
      }
    },
    {
      "cell_type": "markdown",
      "source": [
        "<img src=https://d2beiqkhq929f0.cloudfront.net/public_assets/assets/000/042/225/original/Screenshot_2023-08-08_at_11.36.32_AM.png?1691475554 width=700>"
      ],
      "metadata": {
        "id": "GpnxAa3JzImr"
      }
    },
    {
      "cell_type": "markdown",
      "source": [
        "\n",
        "\n",
        "<br>\n",
        "\n",
        "In medical firms, **screening test are conducted**\n",
        "- in order to **identify whether a patient carries the disease or not**\n",
        "\n",
        "<br>\n",
        "\n"
      ],
      "metadata": {
        "id": "jalb7JMtmejC"
      }
    },
    {
      "cell_type": "markdown",
      "source": [
        "#### How would we want the screening test to perform like for cancerious patients?"
      ],
      "metadata": {
        "id": "2IZ4KVjEVOez"
      }
    },
    {
      "cell_type": "markdown",
      "source": [
        "\n",
        "Ans: We would want the screening test to:\n",
        "- Correctly predict as many Cancer patients (TP ⇑)\n",
        "- While keeping the misclassification of Cancer patients low (FN ⇓)\n",
        "\n",
        "<br>\n",
        "\n",
        "**note:** This want of having **TP high** and **FN low** from a screeing test, is called **sensitivity**\n",
        "\n",
        "\n"
      ],
      "metadata": {
        "id": "Gp88KHohVJrk"
      }
    },
    {
      "cell_type": "markdown",
      "source": [
        "**quiz**\n",
        "\n",
        "```\n",
        "What to say when screening test identifies 92 Cancer patients out of 100?\n",
        "\n",
        "a) test has high sensitivity\n",
        "b) test has low sensitivity\n",
        "c) test has no sensitivity\n",
        "d) cannot be determined\n",
        "\n",
        "```\n",
        "**Correct Answer**\n",
        "a) test has high sensitivity"
      ],
      "metadata": {
        "id": "QVRW0rxbr9NC"
      }
    },
    {
      "cell_type": "markdown",
      "source": [
        "#### Why is high Sensitivity important ?"
      ],
      "metadata": {
        "id": "r2XFy3YTVZgS"
      }
    },
    {
      "cell_type": "markdown",
      "source": [
        "<img src=https://d2beiqkhq929f0.cloudfront.net/public_assets/assets/000/042/226/original/Screenshot_2023-08-08_at_11.36.38_AM.png?1691475592 width=700>"
      ],
      "metadata": {
        "id": "A5G7QwsozXqL"
      }
    },
    {
      "cell_type": "markdown",
      "source": [
        "\n",
        "\n",
        "Ans: Imagine if the screening test fails to identify 95 cancer patients:\n",
        "\n",
        "- Due to **lack of treatments**, the cancer disease will spread\n",
        "- and make the **conditions for the patient more severe**\n",
        "\n",
        "<br>\n",
        "\n",
        "Hence **high Sensitivity** of the screening test  becomes **crucial**:\n",
        "- As the **consequences of failing to treat the disease worsens the patient's condition**\n"
      ],
      "metadata": {
        "id": "zTsmYF5PVXtO"
      }
    },
    {
      "cell_type": "markdown",
      "source": [
        "\n",
        "#### How to calculate Sensitivity using Confusion Matrix?"
      ],
      "metadata": {
        "id": "eXTiassOVaw_"
      }
    },
    {
      "cell_type": "markdown",
      "source": [
        "\n",
        "\n",
        "Ans: For a model to have high Sensitivity,\n",
        "- TP ⇑\n",
        "- FN ⇓\n",
        "\n",
        "hence sensitivity can be interpreted as:\n",
        "- $Sensitivity = \\frac{TP}{TP+FN}$\n",
        "\n",
        "\n",
        "**observe:**\n",
        "\n",
        "The equation to define **Sensitivity is same as Recall**\n",
        "\n",
        "<br>\n",
        "\n",
        "**note:** Since **Sensitivity tracks the rate of TP**, it is also called as **True Positive Rate (TPR)**\n",
        "\n",
        "\n"
      ],
      "metadata": {
        "id": "0XTK7YpynMZR"
      }
    },
    {
      "cell_type": "markdown",
      "source": [
        "#### What will happen if a model/Screeing test is \"in-sensitive\"?\n",
        "\n"
      ],
      "metadata": {
        "id": "VqszJE4SwQaS"
      }
    },
    {
      "cell_type": "markdown",
      "source": [
        "<img src=https://d2beiqkhq929f0.cloudfront.net/public_assets/assets/000/042/227/original/Screenshot_2023-08-08_at_11.36.45_AM.png?1691475648 width=700>"
      ],
      "metadata": {
        "id": "Nta2LgUEzjYL"
      }
    },
    {
      "cell_type": "markdown",
      "source": [
        "Ans: It will cause  **FN to increase**:\n",
        "- And as discussed worsen Cancer patient condition due to lack of treatment\n",
        "\n",
        "\n",
        "<br>\n"
      ],
      "metadata": {
        "id": "YFu28IPQVlkY"
      }
    },
    {
      "cell_type": "markdown",
      "source": [
        "\n",
        "#### How to measure the rate of change in FN ?\n"
      ],
      "metadata": {
        "id": "MoL0KZQFVvvr"
      }
    },
    {
      "cell_type": "markdown",
      "source": [
        "\n",
        "ans: It is calculated using **False Negative Rate (FNR)**:\n",
        "\n",
        " - $FNR  = 1 - Specificity  = 1  - \\frac{TP}{TP+FN} = \\frac{FN}{TP+FN}$\n",
        "\n",
        "\n",
        "<br>\n",
        "\n",
        "**note:** As these patients are missed by the model/screening test,  **FNR** is called **Miss Rate**\n",
        "\n",
        "\n"
      ],
      "metadata": {
        "id": "7vVy4DGyVuYc"
      }
    },
    {
      "cell_type": "markdown",
      "source": [
        "# **Specificity**"
      ],
      "metadata": {
        "id": "ZyHkRUc5zt8B"
      }
    },
    {
      "cell_type": "markdown",
      "source": [
        "<img src=https://d2beiqkhq929f0.cloudfront.net/public_assets/assets/000/042/228/original/Screenshot_2023-08-08_at_11.36.52_AM.png?1691475687 width=700>"
      ],
      "metadata": {
        "id": "Q_dZQu1ZzvXH"
      }
    },
    {
      "cell_type": "markdown",
      "source": [
        "\n",
        "#### We talked how model have high TP but what about TN and FP ?\n",
        "Ans: We would want the model to:\n",
        "- Correctly predict as many Non-Cancer patients (TN ⇑)\n",
        "- While keeping the misclassification of Non-Cancer patients low (FP ⇓)\n",
        "\n",
        "**note:** This want of having **TN high** and **FP low** from a screeing test, is called **specificity**\n",
        "\n",
        "<br>\n",
        "\n",
        "\n"
      ],
      "metadata": {
        "id": "Fi8ZYsqgzt2l"
      }
    },
    {
      "cell_type": "markdown",
      "source": [
        "#### Why is high Specificity important ?"
      ],
      "metadata": {
        "id": "qd_k_sd5WEyI"
      }
    },
    {
      "cell_type": "markdown",
      "source": [
        "<img src=https://d2beiqkhq929f0.cloudfront.net/public_assets/assets/000/042/229/original/Screenshot_2023-08-08_at_11.37.29_AM.png?1691475739 width=700>"
      ],
      "metadata": {
        "id": "9MGXr21Gz6Vq"
      }
    },
    {
      "cell_type": "markdown",
      "source": [
        "\n",
        "\n",
        "ans: Imagine if the screening test identifies 600  Non-cancer patients as cancerous:\n",
        "\n",
        "- This will cause fruitless treatments on these patients which are quite expensive\n",
        "- Also will create a social Stigma, anxiousness, Stress to these patients\n",
        "\n",
        "Hence, **Specificity becomes crucial**:\n",
        "- In order to avoid unnecessary expensive treatments, medications , social stigma and anxiety for the patient\n",
        "\n",
        "\n",
        "<br>\n",
        "\n",
        "**observe**\n",
        "\n",
        "**Specificity is basically Sensitivity** defined **for Negative Class (Class0)**"
      ],
      "metadata": {
        "id": "Rge_djE73IYd"
      }
    },
    {
      "cell_type": "markdown",
      "source": [
        "\n",
        "#### How to calculate Specificity using Confusion Matrix ?"
      ],
      "metadata": {
        "id": "kcdysF91WKPv"
      }
    },
    {
      "cell_type": "markdown",
      "source": [
        "\n",
        "\n",
        "Ans: As to have high Specificity:\n",
        "- TN ⇑\n",
        "- FP ⇓\n",
        "\n",
        "Hence we can define Specificity as:\n",
        "\n",
        "$Specificity = \\frac{TN}{TN + FP}$\n",
        "\n",
        "**Note:** As Sensitivity measures the rate of TP ,\n",
        "- Specificity measures the rate of TN, hence also called as **True Negative Rate (TNR)**\n",
        "\n",
        "\n",
        "\n"
      ],
      "metadata": {
        "id": "OX4ba-MHWI0a"
      }
    },
    {
      "cell_type": "markdown",
      "source": [
        "#### What will happen if a model/Screeing test is \"not-specific\"?"
      ],
      "metadata": {
        "id": "juayyHbwWZw-"
      }
    },
    {
      "cell_type": "markdown",
      "source": [
        "<img src=https://d2beiqkhq929f0.cloudfront.net/public_assets/assets/000/042/230/original/Screenshot_2023-08-08_at_11.37.41_AM.png?1691475799 width=700>"
      ],
      "metadata": {
        "id": "N6wkYcAb0J9G"
      }
    },
    {
      "cell_type": "markdown",
      "source": [
        "\n",
        "\n",
        "Ans: It will cause  **FP to increase**:\n",
        "- And as discussed, resulting in more Non-Cancer patients(class0) to undego\n",
        " - irrelevant expensive treatments, anxiety and social stigma\n",
        "\n",
        "\n",
        "<br>\n"
      ],
      "metadata": {
        "id": "o9MWO2iJztuu"
      }
    },
    {
      "cell_type": "markdown",
      "source": [
        "#### How to measure the rate of change in FP ?"
      ],
      "metadata": {
        "id": "LjZrOxfFWczw"
      }
    },
    {
      "cell_type": "markdown",
      "source": [
        "\n",
        "\n",
        "\n",
        "ans: AS **FNR** is used to measure change in FN , rate of change in FP  is calculated using **False Positive Rate (FPR)**:\n",
        "\n",
        " - $FPR  = 1 - Specificity  = 1  - \\frac{FP}{TN+FP} = \\frac{FP}{TN+FP}$\n",
        "\n",
        "\n",
        "\n",
        "\n",
        "\n",
        "\n"
      ],
      "metadata": {
        "id": "STxMrEXYWbuv"
      }
    },
    {
      "cell_type": "markdown",
      "source": [
        "**quiz**\n",
        "\n",
        "```\n",
        "In a credit fraud detection system, which is more important?\n",
        "a) Sensitivity\n",
        "b) Specificity\n",
        "c) both\n",
        "```\n",
        "**correct Answer**\n",
        "c) both\n"
      ],
      "metadata": {
        "id": "R-xJduXkX2gU"
      }
    },
    {
      "cell_type": "markdown",
      "source": [
        "<img src=https://d2beiqkhq929f0.cloudfront.net/public_assets/assets/000/044/106/original/Screenshot_2023-08-24_at_10.22.37_AM.png?1692852989 width=700>"
      ],
      "metadata": {
        "id": "3asg_p2H545B"
      }
    },
    {
      "cell_type": "markdown",
      "metadata": {
        "id": "9z7lE1yWhjGq"
      },
      "source": [
        "# **ROC (Reciever Operating Characterstic Curve)**"
      ]
    },
    {
      "cell_type": "markdown",
      "metadata": {
        "id": "8j0Wm_ALO62j"
      },
      "source": [
        "#### Recall our model got a 88% F1score, what can be done to increase performance ?\n",
        "\n",
        "Ans: Doing some hyperparameter tuning might help:\n",
        "- Adding regularization"
      ]
    },
    {
      "cell_type": "markdown",
      "source": [
        "#### What if, adding regularization does not do major improvement in model, what can be the issue ?\n",
        "Ans: Recall our Cancer patient example, where:\n",
        "- We wanted to correctly classify cancer patients\n",
        "- And for this, we used a threshold ($\\tau$) of 0.4 instead of 0.5"
      ],
      "metadata": {
        "id": "-jaYpnUS0gee"
      }
    },
    {
      "cell_type": "markdown",
      "source": [
        "<img src=https://d2beiqkhq929f0.cloudfront.net/public_assets/assets/000/042/231/original/Screenshot_2023-08-08_at_11.37.49_AM.png?1691475864 width=700>"
      ],
      "metadata": {
        "id": "zs7zTNnM0YaY"
      }
    },
    {
      "cell_type": "markdown",
      "metadata": {
        "id": "r2gBBYmjPD-3"
      },
      "source": [
        "#### How to ensure we select the correct threshold ?"
      ]
    },
    {
      "cell_type": "markdown",
      "source": [
        "\n",
        "Ans: For this, we will be doing 3 steps."
      ],
      "metadata": {
        "id": "65fmJJjL0uEg"
      }
    },
    {
      "cell_type": "markdown",
      "source": [
        "\n",
        "\n",
        "\n",
        "**Step1:** Remember, Logistic Regression **outputs probabilities [$ p = P(y=1|x)$ or $p =  P(y=0|x)$] before thresholding**\n",
        "\n",
        "\n"
      ],
      "metadata": {
        "id": "DGDWc3_H1Bm_"
      }
    },
    {
      "cell_type": "markdown",
      "source": [
        "<img src=https://d2beiqkhq929f0.cloudfront.net/public_assets/assets/000/042/232/original/Screenshot_2023-08-08_at_11.37.57_AM.png?1691475926 width=700>"
      ],
      "metadata": {
        "id": "HkyK09Mh0n0j"
      }
    },
    {
      "cell_type": "markdown",
      "source": [
        "-  Find the probablities for $p = P(y=1|x)$  and **sort  probabilities in descending order**"
      ],
      "metadata": {
        "id": "youZD04n1DDL"
      }
    },
    {
      "cell_type": "markdown",
      "metadata": {
        "id": "eRUFetDePCib"
      },
      "source": [
        "**Step2:** Set each probabilities as threshold ($\\tau$) and find $\\hat{y}$:\n"
      ]
    },
    {
      "cell_type": "markdown",
      "source": [
        "<img src=https://d2beiqkhq929f0.cloudfront.net/public_assets/assets/000/042/234/original/Screenshot_2023-08-08_at_11.38.06_AM.png?1691475976 width=700>"
      ],
      "metadata": {
        "id": "si_OhSFH0rA-"
      }
    },
    {
      "cell_type": "markdown",
      "metadata": {
        "id": "Sb75x4gdPV1j"
      },
      "source": [
        "\n",
        "- After creating $\\hat{y}$: find **TPR and FPR**\n",
        "  - $TPR = \\frac{TP}{TP+FN}$\n",
        "\n",
        "  - $FPR = \\frac{FP}{TN+FP}$\n",
        "\n",
        "\n",
        "**Note:** $\\hat{y} = 1 $ if $p \\geq \\tau$ , else $\\hat{y} = 0$"
      ]
    },
    {
      "cell_type": "markdown",
      "source": [
        "<img src=https://d2beiqkhq929f0.cloudfront.net/public_assets/assets/000/042/235/original/Screenshot_2023-08-08_at_11.38.16_AM.png?1691476007 width=700>"
      ],
      "metadata": {
        "id": "TykEag-K07S3"
      }
    },
    {
      "cell_type": "markdown",
      "metadata": {
        "id": "P4BwhWFBH5io"
      },
      "source": [
        "\n",
        "\n",
        "\n",
        "\n",
        "\n",
        "<br>\n",
        "\n",
        "**Step3:** After Step2, we will have **pairs of TPR and FPR values for each probabilities**:\n"
      ]
    },
    {
      "cell_type": "markdown",
      "source": [
        "<img src=https://d2beiqkhq929f0.cloudfront.net/public_assets/assets/000/042/237/original/Screenshot_2023-08-08_at_11.38.23_AM.png?1691476087 width=700>"
      ],
      "metadata": {
        "id": "EsdUmur21JHc"
      }
    },
    {
      "cell_type": "markdown",
      "metadata": {
        "id": "F4Hmn9SIPiDk"
      },
      "source": [
        "- Now, we plot TPR (Y-axis) vs FPR (X-axis) for each threshold\n",
        "- We **select the one threshold based on our problem**\n",
        "\n",
        "<br>\n",
        "\n",
        "\n",
        "**Note:** Since in our Spam classifier problem, we want FPR $\\approx 0$\n",
        "- We **pick that threshold** which has **high TPR and low FPR**\n",
        "\n",
        "<br>\n",
        "\n",
        "\n",
        "**observe**\n",
        "\n",
        "The **plot TPR (Y-axis) vs FPR (X-axis)** for each threshold will **look like a curve**. This is called as **ROC (Reciever Operating Characteristic) curve**\n",
        "\n",
        "- ROC term comes from electronics and radio engineering\n",
        "- usually used in signal procressing\n",
        "\n",
        "\n",
        "\n",
        "\n",
        "\n"
      ]
    },
    {
      "cell_type": "markdown",
      "metadata": {
        "id": "IMEsXZutLyb9"
      },
      "source": [
        "**Quiz**\n",
        "\n",
        "```\n",
        "What will be time complexity, when using merge sort to sort the probabilities ?\n",
        "\n",
        "a) o(n^2)\n",
        "b) o(n)\n",
        "c) o(nlog n)\n",
        "d) o(log n)\n",
        "\n",
        "\n",
        "\n",
        "```\n",
        "**correct Answer**\n",
        "c) o(nlog n)"
      ]
    },
    {
      "cell_type": "markdown",
      "metadata": {
        "id": "CboHvWduZ-1w"
      },
      "source": [
        "# **understanding steps for ROC**"
      ]
    },
    {
      "cell_type": "markdown",
      "metadata": {
        "id": "bajj_nMiPuQU"
      },
      "source": [
        "Suppose we have 6 sample data, such that:\n",
        "\n",
        "- X =[$x^{(1)},x^{(2)},x^{(3)},x^{(4)},x^{(5)}, x^{(6)}$]\n",
        "- Y = [1, 1, 0, 1, 0 , 0]\n",
        "- p = [0.65, 0.94, 0.3, 0.92, 0.7 , 0.2]\n",
        "\n",
        "\n",
        "\n",
        "**Observe**\n",
        "\n",
        "data is balanced\n",
        "- Equal number of class 1 and class 0 samples\n",
        "\n",
        "<br>\n",
        "\n",
        "**Step1**\n",
        "\n",
        "We sort the entire data based on values of $p$ in decreasing order:\n"
      ]
    },
    {
      "cell_type": "markdown",
      "source": [
        "<img src=https://d2beiqkhq929f0.cloudfront.net/public_assets/assets/000/042/238/original/Screenshot_2023-08-08_at_11.38.33_AM.png?1691476121 width=700>"
      ],
      "metadata": {
        "id": "dlT-3IPU1W7W"
      }
    },
    {
      "cell_type": "markdown",
      "metadata": {
        "id": "tfyBXlqXaOtc"
      },
      "source": [
        "\n",
        "- p = [0.94, 0.92, 0.7, 0.65, 0.3, 0.2]\n",
        "- X = [$x^{(2)},x^{(4)},x^{(5)},x^{(1)},x^{(3)}, x^{(6)}$]\n",
        "- Y = [1, 1, 0, 1, 0, 0]\n",
        "\n"
      ]
    },
    {
      "cell_type": "markdown",
      "metadata": {
        "id": "57KMIQ0MP7xa"
      },
      "source": [
        "**Step2**\n",
        "\n",
        "Taking each probabilites as threshold and finding $\\hat{y}$\n",
        "\n",
        "- Showing when:  $\\tau^{1}  = p^{1} =  0.94$,\n",
        "\n",
        "\n",
        "| X | Y | P | $\\hat{y}$ |\n",
        "| :-- | :--| :--| :--|\n",
        "|$x^{2}$| 1  | 0.94| 1 |\n",
        "|$x^{4}$| 1  | 0.92| 0 |\n",
        "|$x^{5}$| 0  | 0.70| 0 |\n",
        "|$x^{1}$| 1  | 0.65| 0 |\n",
        "|$x^{3}$| 0  | 0.30| 0 |\n",
        "|$x^{6}$| 0  | 0.20| 0 |\n"
      ]
    },
    {
      "cell_type": "markdown",
      "source": [
        "<img src=https://d2beiqkhq929f0.cloudfront.net/public_assets/assets/000/042/239/original/Screenshot_2023-08-08_at_11.39.11_AM.png?1691476159 width=700>"
      ],
      "metadata": {
        "id": "COsJUHKo1gRc"
      }
    },
    {
      "cell_type": "markdown",
      "metadata": {
        "id": "KSXxOzV8buUy"
      },
      "source": [
        "\n",
        "<br>\n",
        "\n",
        "We now calculate TPR and FPR:\n",
        "#### As TP = 1 , FP = 0 , FN  = 2 , TN = 3, what will be TPR and FPR value ?\n",
        "Ans: TPR and FPR value are:\n",
        "\n",
        "- $TPR^{(1)} = \\frac{TP}{TP + FN} = \\frac{1}{1 + 2} = 0.33 $\n",
        "\n",
        "- $FPR^{(1)} = \\frac{FP}{FP + TN} = \\frac{0}{0 + 3} = 0 $\n",
        "\n",
        "\n",
        "\n",
        "\n",
        "\n",
        "\n"
      ]
    },
    {
      "cell_type": "markdown",
      "metadata": {
        "id": "xKETx3k5aEyS"
      },
      "source": [
        "We repeat **Step2** for every other probabilities\n"
      ]
    },
    {
      "cell_type": "markdown",
      "source": [
        "<img src=https://d2beiqkhq929f0.cloudfront.net/public_assets/assets/000/042/240/original/Screenshot_2023-08-08_at_11.39.20_AM.png?1691476199 width=700>"
      ],
      "metadata": {
        "id": "3yWxHLq-1qaq"
      }
    },
    {
      "cell_type": "markdown",
      "metadata": {
        "id": "o3Km-7BTQFFr"
      },
      "source": [
        "- This will give us pair of **TPR and FPR** for each of the 6 probabilities\n",
        "\n",
        "\n",
        "| P | TPR | FPR |\n",
        "| :--| :--| :--|\n",
        "| 0.94| 0.33 | 0.00 |\n",
        "| 0.92| 0.50 | 0.00 |\n",
        "| 0.70| 0.67 | 0.33 |\n",
        "| 0.65| 1.00 | 0.33 |\n",
        "| 0.30| 1.00 | 0.67 |\n",
        "| 0.20| 1.00 | 1.00 |\n"
      ]
    },
    {
      "cell_type": "markdown",
      "metadata": {
        "id": "dZhKqvuLQKxQ"
      },
      "source": [
        "**Step3**, after finding all the pair TPR and FPR for each probabilites, We **plot each of TPR and FPR values**\n"
      ]
    },
    {
      "cell_type": "markdown",
      "source": [
        "<img src=https://d2beiqkhq929f0.cloudfront.net/public_assets/assets/000/042/241/original/Screenshot_2023-08-08_at_11.39.28_AM.png?1691476231 width=700>"
      ],
      "metadata": {
        "id": "1jA0n0rj1x2a"
      }
    },
    {
      "cell_type": "markdown",
      "metadata": {
        "id": "nmkjeLuojqHt"
      },
      "source": [
        "\n",
        "#### What will be the ideal threshold to pick ?\n",
        "\n",
        "Ans: In Spam classifier, we want minimum FP value while maximizing TP:\n",
        "- The best tradeoff is achieved when $P = 0.65$\n",
        "\n",
        "<br>\n",
        "\n",
        "**Observe**\n",
        "\n",
        "The ROC curve is very irregular in shape\n",
        "\n",
        "\n",
        "\n",
        "\n"
      ]
    },
    {
      "cell_type": "markdown",
      "source": [
        "**Quiz**\n",
        "\n",
        "```\n",
        "How many points are typically used to plot an ROC curve?\n",
        "a) 2 points (0,0) and (1,1)\n",
        "b) 3 points representing the thresholds 0.25, 0.5, and 0.75\n",
        "c) 10 points equally spaced between 0 and 1\n",
        "d) Depends on the number of unique threshold values\n",
        "\n",
        "```\n",
        "**correct answer**\n",
        "d) Depends on the number of unique threshold values"
      ],
      "metadata": {
        "id": "IjfBwlorbL9R"
      }
    },
    {
      "cell_type": "markdown",
      "metadata": {
        "id": "GmwP5fwymM1v"
      },
      "source": [
        "#### Lets consider a Random Model, what will be TPR and FPR ?"
      ]
    },
    {
      "cell_type": "markdown",
      "source": [
        "<img src=https://d2beiqkhq929f0.cloudfront.net/public_assets/assets/000/042/242/original/Screenshot_2023-08-08_at_11.39.36_AM.png?1691476266 width=700>"
      ],
      "metadata": {
        "id": "PCPgxnAh16yi"
      }
    },
    {
      "cell_type": "markdown",
      "metadata": {
        "id": "Z7US3a9JmJEX"
      },
      "source": [
        "Ans: the $\\hat{y}$  for Random model, will be same as jumbling $y$\n",
        "- As the example data was balanced:\n",
        " - TP+FN = FP + TN = $\\frac{6}{2}  = 3 $\n",
        "\n",
        "- And if **there are k TP points, due to randomness**\n",
        "  - There will be **k FP points as well**\n",
        "  - Showing TPR = FPR\n",
        "\n",
        "<br>\n",
        "\n",
        "Hence on plotting TPR vs FPR for Random model,\n",
        "- It becomes a line with equation: $(y=x)$\n"
      ]
    },
    {
      "cell_type": "markdown",
      "source": [
        "\n",
        "```\n",
        "Which of the following statements is true regarding the ROC curve?\n",
        "a) The closer the curve is to the diagonal line, the better the model's performance.\n",
        "b) The further the curve is from the diagonal line, the better the model's performance.\n",
        "c) The ROC curve is only applicable to binary classification problems.\n",
        "d) We get ROC by plotting TPR and FPR\n",
        "```\n",
        "**Correct Answer**\n",
        "b) The further the curve is from the diagonal line, the better the model's performance."
      ],
      "metadata": {
        "id": "d-FctJjtaZrx"
      }
    },
    {
      "cell_type": "markdown",
      "metadata": {
        "id": "flbHvWnzQnOW"
      },
      "source": [
        "# **AU-ROC (Area Under ROC Curve)/ AUC**"
      ]
    },
    {
      "cell_type": "markdown",
      "metadata": {
        "id": "yChr5_h4QlXG"
      },
      "source": [
        "Imagine we have two models: Model A , Model B and their plot look like:\n",
        "\n",
        "#### According to the plot which model is better Model A or Model B ?"
      ]
    },
    {
      "cell_type": "markdown",
      "source": [
        "<img src=https://d2beiqkhq929f0.cloudfront.net/public_assets/assets/000/042/243/original/Screenshot_2023-08-08_at_11.40.10_AM.png?1691476298 width=700>"
      ],
      "metadata": {
        "id": "mjxQ7zXh2CRc"
      }
    },
    {
      "cell_type": "markdown",
      "metadata": {
        "id": "pGwQEWgZsrKN"
      },
      "source": [
        "\n",
        "\n",
        "Ans: Since TPR value of Model B is greater than Model A at the same FPR value\n",
        "\n",
        "- Hence Model B better than Model A\n",
        "\n"
      ]
    },
    {
      "cell_type": "markdown",
      "metadata": {
        "id": "upNxIOzEC1IC"
      },
      "source": [
        "We see intitutively, Model B better than Model A, but\n",
        "\n",
        "<br>\n",
        "\n",
        "#### How to mathematically show Model B better than Model A ?\n"
      ]
    },
    {
      "cell_type": "markdown",
      "source": [
        "<img src=https://d2beiqkhq929f0.cloudfront.net/public_assets/assets/000/042/246/original/Screenshot_2023-08-08_at_12.05.07_PM.png?1691476520 height=600 width=700>"
      ],
      "metadata": {
        "id": "LWTD24WE2J0w"
      }
    },
    {
      "cell_type": "markdown",
      "metadata": {
        "id": "BPGfSFz-SG6f"
      },
      "source": [
        "Ans: Lets consider area under the ROC curve (AU-ROC/ AUC):\n",
        "\n",
        "- Then AUC of Model B > AUC of Model A,\n",
        "\n",
        "Hence Model B is better than Model A"
      ]
    },
    {
      "cell_type": "markdown",
      "metadata": {
        "id": "LTtaAPiJRih-"
      },
      "source": [
        "**quiz**\n",
        "\n",
        "(What do you think)"
      ]
    },
    {
      "cell_type": "markdown",
      "source": [
        "<img src=https://d2beiqkhq929f0.cloudfront.net/public_assets/assets/000/042/245/original/Screenshot_2023-08-08_at_12.03.07_PM.png?1691476401 height=400 width=400>"
      ],
      "metadata": {
        "id": "aHBzWzY_2byP"
      }
    },
    {
      "cell_type": "markdown",
      "metadata": {
        "id": "KcVBPh27UdOj"
      },
      "source": [
        "\n",
        "\n",
        "```\n",
        "What will be the AUC for a random model ?\n",
        "\n",
        "a) 0\n",
        "b) 0.5\n",
        "c) 1\n",
        "d) 0.25\n",
        "\n",
        "```\n",
        "**Correct Answer**\n",
        "b) 0.5"
      ]
    },
    {
      "cell_type": "markdown",
      "metadata": {
        "id": "a_bfumi9RuX3"
      },
      "source": [
        "#### What will be the value of TPR and FPR for an ideal model for each threshold ?"
      ]
    },
    {
      "cell_type": "markdown",
      "source": [
        "<img src=https://d2beiqkhq929f0.cloudfront.net/public_assets/assets/000/042/247/original/Screenshot_2023-08-08_at_11.40.28_AM.png?1691476592 width=700>"
      ],
      "metadata": {
        "id": "-B_hIEXe3KI1"
      }
    },
    {
      "cell_type": "markdown",
      "metadata": {
        "id": "fn3ev949At1p"
      },
      "source": [
        "\n",
        "\n",
        "Ans: When threshold is close to 1 ( most of the $\\hat{y} = 0$)\n",
        "- The $TPR \\approx 1$ and FPR $\\approx 0$\n",
        "\n",
        "When threshold is close to 0, (most of the $\\hat{y} = 1$ )\n",
        "- Then both $TPR, FPR \\approx 1$\n",
        "\n",
        "\n",
        "<br>\n",
        "\n",
        "\n",
        "#### What will be the AU-ROC for an ideal model ?\n",
        "Ans: The curve for Ideal model will be\n",
        "1. Line starting from $(0,0)$ to $(0,1)$\n",
        "2. and another line starting from $(0,1)$ to $(1,1)$\n",
        "\n",
        "Hence the **AU-ROC will be the area of the whole square = $1 \\times 1 = 1$**\n",
        "\n",
        "<br>\n",
        "\n",
        "\n",
        "\n"
      ]
    },
    {
      "cell_type": "markdown",
      "metadata": {
        "id": "FKYjM3shRycu"
      },
      "source": [
        "#### What will be the AU-ROC for a Bad model ?"
      ]
    },
    {
      "cell_type": "markdown",
      "source": [
        "<img src=https://d2beiqkhq929f0.cloudfront.net/public_assets/assets/000/042/248/original/Screenshot_2023-08-08_at_11.40.36_AM.png?1691476624 width=700>"
      ],
      "metadata": {
        "id": "jiN0eNs_3nQU"
      }
    },
    {
      "cell_type": "markdown",
      "metadata": {
        "id": "4oIa4c2dRxww"
      },
      "source": [
        "\n",
        "\n",
        "\n",
        "Ans: Clearly we can say, the curve for the Bad model will have\n",
        "1. Line starting from $(0,0)$ to $(1,0)$\n",
        "2. and another line starting from $(1,0)$ to $(1,1)$\n",
        "\n",
        "Hence AU-ROC $ = 0 $\n",
        "\n",
        "#### What does AU-ROC $= 0$ really mean ?\n",
        "\n",
        "ans: It means that\n",
        "- **the bad model probabilities ($p$) misclassifies every $y$ of the data.**\n"
      ]
    },
    {
      "cell_type": "markdown",
      "metadata": {
        "id": "rE_brV57R9Oh"
      },
      "source": [
        "#### Would doing $(1-p)$ on every model probability fix the Bad model ?"
      ]
    },
    {
      "cell_type": "markdown",
      "metadata": {
        "id": "Z09lETC6foN-"
      },
      "source": [
        "\n",
        "\n",
        "\n",
        "\n",
        "Ans: **Yes**, as now the model AUC becomes:\n",
        "- $AUC_{new} = 1 - AUC_{old} = 1 - 0  = 1 $\n",
        "\n",
        "<br>\n",
        "\n",
        "**Note:** Therefore, **any bad model** which has a curve below the random model $= 0.5$ , **can be fixed**\n",
        "- By doing a simple hack of reversing the probabilities\n"
      ]
    },
    {
      "cell_type": "markdown",
      "metadata": {
        "id": "FSw0WqCaFDQO"
      },
      "source": [
        "#### How is AU-ROC curve  different from Precision, Recall or F1-score?"
      ]
    },
    {
      "cell_type": "markdown",
      "source": [
        "<img src=https://d2beiqkhq929f0.cloudfront.net/public_assets/assets/000/042/249/original/Screenshot_2023-08-08_at_11.40.47_AM.png?1691476803 width=700>"
      ],
      "metadata": {
        "id": "KM3CskxR39-v"
      }
    },
    {
      "cell_type": "markdown",
      "metadata": {
        "id": "c6oJ8ZNijfqC"
      },
      "source": [
        "Ans: In Precision, Recall or F1 score:\n",
        "\n",
        "- We used a certrain threshold on  which we found $\\hat{y^{(i)}}$\n",
        "\n",
        "\n",
        "While in AU-ROC curve:\n",
        "- we find **AUC metric on every possible threshold**\n"
      ]
    },
    {
      "cell_type": "markdown",
      "source": [
        "**quiz**\n",
        "\n",
        "```\n",
        "Which of the following metrics can be directly derived from the ROC curve?\n",
        "a) Accuracy\n",
        "b) Precision\n",
        "c) Recall\n",
        "d) Area Under the Curve (AUC)\n",
        "```\n",
        "**Correct Answer:** d) Area Under the Curve (AUC)"
      ],
      "metadata": {
        "id": "YFdkFLEkc9DJ"
      }
    },
    {
      "cell_type": "markdown",
      "metadata": {
        "id": "_EN5cL3alrQ2"
      },
      "source": [
        "Suppose we have a label $y = [1,1,0,1,1]$ and there are 2 models, such that:\n",
        "\n",
        "1. $P_{M1} $: $[0.95, 0.92, 0.80, 0.76, 0.71]$\n",
        "\n",
        "2. $P_{M2} $: $[0.2, 0.1, 0.08, 0.06, 0.02]$"
      ]
    },
    {
      "cell_type": "markdown",
      "source": [
        "<img src=https://d2beiqkhq929f0.cloudfront.net/public_assets/assets/000/042/250/original/Screenshot_2023-08-08_at_11.40.56_AM.png?1691476842 width=700>"
      ],
      "metadata": {
        "id": "GUBpZd194G02"
      }
    },
    {
      "cell_type": "markdown",
      "metadata": {
        "id": "PbX1_zN8lNw0"
      },
      "source": [
        "\n",
        "#### What will be $\\hat{y^{(i)}}$ for M1 when threshold = $0.95$ ?\n",
        "\n",
        "Ans: $\\hat{y^{(i)}}_{M1} = [1, 0 , 0 , 0, 0 ]$\n",
        "\n"
      ]
    },
    {
      "cell_type": "markdown",
      "source": [
        "<img src=https://d2beiqkhq929f0.cloudfront.net/public_assets/assets/000/042/251/original/Screenshot_2023-08-08_at_11.41.06_AM.png?1691476888 width=700>"
      ],
      "metadata": {
        "id": "WlhFixEb4Yfe"
      }
    },
    {
      "cell_type": "markdown",
      "source": [
        "\n",
        "#### What will be $\\hat{y^{(i)}}$ for M2 when threshold = $0.2$ ?\n",
        "\n",
        "Ans: $\\hat{y^{(i)}}_{M2} = [1, 0 , 0 , 0, 0 ]$\n",
        "\n",
        "<br>\n",
        "\n",
        "Similarly, when threshold = $0.92$, for M1:\n",
        "- $\\hat{y^{(i)}}_{M1} = [1, 1 , 0 , 0, 0 ]$\n",
        "\n",
        "And threshold = $0.1$, for M2:\n",
        "- $\\hat{y^{(i)}}_{M2} = [1, 1 , 0 , 0, 0 ]$"
      ],
      "metadata": {
        "id": "CgwEM2qz4ci0"
      }
    },
    {
      "cell_type": "markdown",
      "metadata": {
        "id": "vDsFFgktSOPS"
      },
      "source": [
        "\n",
        "**observe**\n",
        "\n",
        "As the **ordering of the threshold of 2 models are same**:\n",
        "- Hence $[[TPR^{(1)}_{M1}, FPR^{(1)}_{M1}],...,[TPR^{(n)}_{M1}, FPR^{(n)}_{M1}] ] =  [[TPR^{(1)}_{M2}, FPR^{(1)}_{M2}],...,[TPR^{(n)}_{M2}, FPR^{(n)}_{M2}] ] $\n",
        "\n",
        "- Meaning the $AUC_{M1} = AUC_{M2}$\n",
        "\n",
        "\n",
        "\n",
        "\n"
      ]
    },
    {
      "cell_type": "markdown",
      "source": [
        "**quiz**\n",
        "\n",
        "```\n",
        "What does it mean when two ROC curves overlap?\n",
        "a) The two models have same thresholds\n",
        "b) The two models have similar performance.\n",
        "c) The two models have opposite performance.\n",
        "d) The two models have different performance metrics.\n",
        "```\n",
        "**correct Answer**\n",
        "b) The two models have similar performance."
      ],
      "metadata": {
        "id": "NNgjR9YmcP1Z"
      }
    },
    {
      "cell_type": "markdown",
      "metadata": {
        "id": "4RYK4cm5-nUV"
      },
      "source": [
        "\n",
        "# **AU-ROC curve Code**"
      ]
    },
    {
      "cell_type": "code",
      "execution_count": null,
      "metadata": {
        "id": "27x73f5i-qF7"
      },
      "outputs": [],
      "source": [
        "from sklearn.metrics import roc_curve, roc_auc_score\n"
      ]
    },
    {
      "cell_type": "markdown",
      "metadata": {
        "id": "GVl-dXq5q8C-"
      },
      "source": [
        "stores model probabilities"
      ]
    },
    {
      "cell_type": "code",
      "execution_count": null,
      "metadata": {
        "id": "Z9n7A1YTqxyU"
      },
      "outputs": [],
      "source": [
        "probability = model.predict_proba(X_test)"
      ]
    },
    {
      "cell_type": "code",
      "execution_count": null,
      "metadata": {
        "colab": {
          "base_uri": "https://localhost:8080/"
        },
        "id": "3OPha7n0rh-e",
        "outputId": "cf227fba-972f-4cf9-b488-d13a2399ea5d"
      },
      "outputs": [
        {
          "output_type": "execute_result",
          "data": {
            "text/plain": [
              "array([[0.98279758, 0.01720242],\n",
              "       [0.34068989, 0.65931011],\n",
              "       [0.42691517, 0.57308483],\n",
              "       ...,\n",
              "       [0.97405156, 0.02594844],\n",
              "       [0.17995704, 0.82004296],\n",
              "       [0.9977192 , 0.0022808 ]])"
            ]
          },
          "metadata": {},
          "execution_count": 13
        }
      ],
      "source": [
        "probability"
      ]
    },
    {
      "cell_type": "markdown",
      "metadata": {
        "id": "6Y0deRX5rkSZ"
      },
      "source": [
        "**Observe**\n",
        "\n",
        "```Probability``` variable contains 2 probability $P(Y=1 |X)$ and $P(Y=0 |X )$\n",
        "\n",
        "#### But for thresholding we need only one probability, what can be done ?\n",
        "\n",
        "Ans: lets consider only $ p = P(Y=1 |X) $\n",
        "\n",
        "\n"
      ]
    },
    {
      "cell_type": "code",
      "execution_count": null,
      "metadata": {
        "id": "zNqpd-8RsF9o"
      },
      "outputs": [],
      "source": [
        "probabilites = probability[:,1]"
      ]
    },
    {
      "cell_type": "code",
      "execution_count": null,
      "metadata": {
        "id": "fkjN56jH-9SO"
      },
      "outputs": [],
      "source": [
        "fpr, tpr, thr = roc_curve(y_test,probabilites)"
      ]
    },
    {
      "cell_type": "code",
      "execution_count": null,
      "metadata": {
        "colab": {
          "base_uri": "https://localhost:8080/",
          "height": 472
        },
        "id": "yI-IVTwy_GqL",
        "outputId": "693f8f64-b83e-43cf-f66e-b6dc69956bb6"
      },
      "outputs": [
        {
          "data": {
            "image/png": "[encoded data removed]",
            "text/plain": [
              "<Figure size 640x480 with 1 Axes>"
            ]
          },
          "metadata": {},
          "output_type": "display_data"
        }
      ],
      "source": [
        "plt.plot(fpr,tpr)\n",
        "\n",
        "#random model\n",
        "plt.plot(fpr,fpr,'--',color='red' )\n",
        "plt.title('ROC curve')\n",
        "plt.xlabel('FPR')\n",
        "plt.ylabel('TPR')\n",
        "plt.show()"
      ]
    },
    {
      "cell_type": "code",
      "execution_count": null,
      "metadata": {
        "colab": {
          "base_uri": "https://localhost:8080/"
        },
        "id": "BQBr2yHj_usm",
        "outputId": "867f4445-cb2b-4292-e447-e415f55b2811"
      },
      "outputs": [
        {
          "data": {
            "text/plain": [
              "0.9659462326950391"
            ]
          },
          "execution_count": 17,
          "metadata": {},
          "output_type": "execute_result"
        }
      ],
      "source": [
        "# AUC\n",
        "roc_auc_score(y_test,probabilites)"
      ]
    },
    {
      "cell_type": "markdown",
      "metadata": {
        "id": "UuzBL99FwqR1"
      },
      "source": [
        "## **issue with AU-ROC**"
      ]
    },
    {
      "cell_type": "markdown",
      "metadata": {
        "id": "n_WXwbRtvfA0"
      },
      "source": [
        "**observe**\n",
        "\n",
        "We get an AU-ROC value of 97.8%\n",
        "- showing that the model is performing very good\n",
        "\n",
        "But recall our F1 Score was just 88%\n",
        "- which made us believe our model was a decent one\n",
        "\n",
        "<br>\n",
        "\n",
        "#### Why a huge difference in model performance when using AU-ROC and F1 score ?\n",
        "ans: Recall our data is imbalance:(70% $\\rightarrow$ class 0 and 30% $\\rightarrow$ class1):\n",
        "\n",
        "- ROC curves provide an aggregate measure of model performance across all possible classification thresholds.\n",
        "\n",
        "- Hence it can make a **poor model on the minority class appear better**\n",
        " - by focusing more on the performance on the majority class.\n",
        "\n",
        "<br>\n",
        "\n",
        "**Note:** When data is highly imbalanced,\n",
        "- AU-ROC is not prefered"
      ]
    },
    {
      "cell_type": "markdown",
      "source": [
        "<img src=https://d2beiqkhq929f0.cloudfront.net/public_assets/assets/000/044/107/original/Screenshot_2023-08-24_at_10.24.54_AM.png?1692853066 width=700>"
      ],
      "metadata": {
        "id": "2wF5qN5r6KXh"
      }
    },
    {
      "cell_type": "markdown",
      "metadata": {
        "id": "m3AerLjd5KOA"
      },
      "source": [
        "```\n",
        "If data contains 50 spam and 300 non-spam samples, then which is true?\n",
        "a) ROC may overestimate the model's performance.\n",
        "b) ROC may underestimate the model's performance.\n",
        "c) ROC does provide useful information.\n",
        "d) ROC cannot be created\n",
        "```\n",
        "**Correct Answer**\n",
        "\n",
        "a) ROC may overestimate the model's performance."
      ]
    },
    {
      "cell_type": "markdown",
      "metadata": {
        "id": "h_FhbUDjR303"
      },
      "source": [
        "# **Precision - Recall curve**"
      ]
    },
    {
      "cell_type": "markdown",
      "metadata": {
        "id": "xp5yaKneST0e"
      },
      "source": [
        "#### What can be used instead of AU-ROC curve, when data is imbalanced ?"
      ]
    },
    {
      "cell_type": "markdown",
      "source": [
        "<img src=https://d2beiqkhq929f0.cloudfront.net/public_assets/assets/000/042/252/original/Screenshot_2023-08-08_at_11.41.18_AM.png?1691476974 width=700>"
      ],
      "metadata": {
        "id": "1vSSiLVV4ol3"
      }
    },
    {
      "cell_type": "markdown",
      "metadata": {
        "id": "268_NLUgZmEO"
      },
      "source": [
        "\n",
        "\n",
        "Ans: Since F1 score works well for imbalance data:\n",
        "- We take **Precision and Recall values for every probability** instead of TPR and FPR\n",
        "\n",
        "<br>\n",
        "\n",
        "Rest of the approach remains same as AU-ROC\n",
        "\n",
        "**Note:** Finding area under the curve of Precision and recall is called **AU-PRC**"
      ]
    },
    {
      "cell_type": "markdown",
      "source": [
        "**Quiz**\n",
        "\n",
        "```\n",
        "Which evaluation metric can be directly derived from the AUC-PRC?\n",
        "a) Accuracy\n",
        "b) F1 score\n",
        "c) Precision\n",
        "d) Recall\n",
        "```\n",
        "\n",
        "**Correct Answer** b) F1 score\n",
        "\n",
        "**Explanation**\n",
        "As we have precision and recall for each threshold:\n",
        "- We can find F1-Score for the same"
      ],
      "metadata": {
        "id": "ShckimCpfGtu"
      }
    },
    {
      "cell_type": "markdown",
      "metadata": {
        "id": "46GW1TMyAC3A"
      },
      "source": [
        "# **Precision Recall curve**"
      ]
    },
    {
      "cell_type": "code",
      "execution_count": null,
      "metadata": {
        "id": "Ofo_5VgUAFtN"
      },
      "outputs": [],
      "source": [
        "from sklearn.metrics import precision_recall_curve\n",
        "from sklearn.metrics import auc"
      ]
    },
    {
      "cell_type": "code",
      "execution_count": null,
      "metadata": {
        "id": "8-RJNrvVAJ-g"
      },
      "outputs": [],
      "source": [
        "precision, recall, thr = precision_recall_curve(y_test, probabilites)"
      ]
    },
    {
      "cell_type": "code",
      "execution_count": null,
      "metadata": {
        "colab": {
          "base_uri": "https://localhost:8080/",
          "height": 472
        },
        "id": "xJ_6Wtc9ARXj",
        "outputId": "32d5d2e2-bf46-4f94-ac1b-02bbe2bd921a"
      },
      "outputs": [
        {
          "data": {
            "image/png": "[encoded data removed]",
            "text/plain": [
              "<Figure size 640x480 with 1 Axes>"
            ]
          },
          "metadata": {},
          "output_type": "display_data"
        }
      ],
      "source": [
        "plt.plot(recall, precision)\n",
        "\n",
        "plt.xlabel('Recall')\n",
        "plt.ylabel('Precision')\n",
        "plt.title('PR curve')\n",
        "plt.show()"
      ]
    },
    {
      "cell_type": "code",
      "execution_count": null,
      "metadata": {
        "colab": {
          "base_uri": "https://localhost:8080/"
        },
        "id": "aDm2bNPuBMPb",
        "outputId": "54ca5cac-7ea2-4ddb-a6d2-c9581a61e679"
      },
      "outputs": [
        {
          "data": {
            "text/plain": [
              "0.8795786409385219"
            ]
          },
          "execution_count": 21,
          "metadata": {},
          "output_type": "execute_result"
        }
      ],
      "source": [
        "auc(recall, precision)"
      ]
    },
    {
      "cell_type": "markdown",
      "metadata": {
        "id": "6OaxNncwyX7F"
      },
      "source": [
        "**observe**\n",
        "\n",
        "Now the **AU-PRC** comes close to F1 score\n",
        "- Showing that **PRC** worked just fine in imbalanced data\n",
        "\n",
        "\n"
      ]
    },
    {
      "cell_type": "markdown",
      "source": [
        "Some extra information for classification Metrics in PostRead:\n",
        "\n",
        "- [Lift and Chart, Cheatsheet for Metrics, metric vs loss](https://colab.research.google.com/drive/1WadYQgslAmgSqSu9ZMcGoWSNp7HkEGln?usp=drive_link)\n"
      ],
      "metadata": {
        "id": "V3y9YxlbqODN"
      }
    }
  ],
  "metadata": {
    "colab": {
      "collapsed_sections": [
        "xaTlPR9qflZJ"
      ],
      "provenance": []
    },
    "kernelspec": {
      "display_name": "Python 3 (ipykernel)",
      "language": "python",
      "name": "python3"
    },
    "language_info": {
      "codemirror_mode": {
        "name": "ipython",
        "version": 3
      },
      "file_extension": ".py",
      "mimetype": "text/x-python",
      "name": "python",
      "nbconvert_exporter": "python",
      "pygments_lexer": "ipython3",
      "version": "3.9.12"
    }
  },
  "nbformat": 4,
  "nbformat_minor": 0
}