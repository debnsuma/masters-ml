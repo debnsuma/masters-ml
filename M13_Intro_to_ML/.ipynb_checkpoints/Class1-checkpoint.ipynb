{
 "cells": [
  {
   "cell_type": "markdown",
   "id": "0a4d49e7-d619-4a1e-8aba-e3369d024eb1",
   "metadata": {},
   "source": [
    "# Linear Regression "
   ]
  },
  {
   "cell_type": "markdown",
   "id": "40a080af-76a9-43f8-93cd-93a509b1a094",
   "metadata": {},
   "source": [
    "### Q4. Calculate the loss value\n"
   ]
  },
  {
   "cell_type": "code",
   "execution_count": 20,
   "id": "a15a4abc-5cae-4a7d-a007-3cb8ab3ed0cc",
   "metadata": {},
   "outputs": [],
   "source": [
    "import numpy as np\n",
    "def cost(x, y, w):\n",
    "\n",
    "    x = np.asarray(x)\n",
    "    w = np.asarray(w)\n",
    "    y = np.asarray(y)\n",
    "\n",
    "    n = len(y)\n",
    "    loss = (1 / (2* n)) * (np.sum((y - np.dot(x, w))**2)) \n",
    "\n",
    "    #YOUR CODE GOES HERE\n",
    "\n",
    "    \n",
    "    return round(loss, 2)"
   ]
  },
  {
   "cell_type": "code",
   "execution_count": 21,
   "id": "45aaa013-6ddc-45bf-ad56-9e37cee40b1d",
   "metadata": {},
   "outputs": [],
   "source": [
    "x = [[1.0, 0.0], [1.0, 1.0], [1.0, 2.0], [1.0, 3.0], [1.0, 4.0], [1.0, 5.0], [1.0, 6.0], [1.0, 7.0], [1.0, 8.0], [1.0, 9.0]]\n",
    "y = [32.69, 30.56, 32.04, 32.27, 35.98, 34.39, 40.25, 39.24, 37.14, 39.38]\n",
    "w = [30.0, 1.0]"
   ]
  },
  {
   "cell_type": "code",
   "execution_count": 22,
   "id": "92445a07-50c7-4d34-a062-48369c0ed4f7",
   "metadata": {},
   "outputs": [
    {
     "data": {
      "text/plain": [
       "1.81"
      ]
     },
     "execution_count": 22,
     "metadata": {},
     "output_type": "execute_result"
    }
   ],
   "source": [
    "cost(x, y, w)"
   ]
  },
  {
   "cell_type": "code",
   "execution_count": 6,
   "id": "9e59eb35-3965-4bbd-b244-bb06cd1c5bdd",
   "metadata": {},
   "outputs": [],
   "source": [
    "x = np.asarray(x)\n",
    "w = np.asarray(w)\n",
    "y = np.asarray(y)"
   ]
  },
  {
   "cell_type": "code",
   "execution_count": 7,
   "id": "04e2c534-1902-455c-b45d-d6cf39bf3357",
   "metadata": {},
   "outputs": [
    {
     "data": {
      "text/plain": [
       "(10, 2)"
      ]
     },
     "execution_count": 7,
     "metadata": {},
     "output_type": "execute_result"
    }
   ],
   "source": [
    "x.shape"
   ]
  },
  {
   "cell_type": "code",
   "execution_count": 8,
   "id": "a256e823-93a0-41e5-807e-365cf5f60019",
   "metadata": {},
   "outputs": [
    {
     "data": {
      "text/plain": [
       "(2,)"
      ]
     },
     "execution_count": 8,
     "metadata": {},
     "output_type": "execute_result"
    }
   ],
   "source": [
    "w.shape"
   ]
  },
  {
   "cell_type": "code",
   "execution_count": 9,
   "id": "23b08930-eca4-4971-a393-13adab863e8d",
   "metadata": {},
   "outputs": [
    {
     "data": {
      "text/plain": [
       "array([30., 31., 32., 33., 34., 35., 36., 37., 38., 39.])"
      ]
     },
     "execution_count": 9,
     "metadata": {},
     "output_type": "execute_result"
    }
   ],
   "source": [
    "np.dot(x, w)"
   ]
  },
  {
   "cell_type": "code",
   "execution_count": 10,
   "id": "ab3adf2d-defe-42d1-8e28-90776daa8cd2",
   "metadata": {},
   "outputs": [
    {
     "data": {
      "text/plain": [
       "array([30., 31., 32., 33., 34., 35., 36., 37., 38., 39.])"
      ]
     },
     "execution_count": 10,
     "metadata": {},
     "output_type": "execute_result"
    }
   ],
   "source": [
    "x.dot(w)"
   ]
  },
  {
   "cell_type": "markdown",
   "id": "7c1e22c9-7566-46d5-8793-eb22bdc21dc9",
   "metadata": {},
   "source": [
    "### Q5. Updated values of weights\n"
   ]
  },
  {
   "cell_type": "code",
   "execution_count": 71,
   "id": "5d469b91-267e-46a9-b5cd-8c7f7c8f7f98",
   "metadata": {},
   "outputs": [],
   "source": [
    "import numpy as np\n",
    "\n",
    "def gradient_descent(x, y, w, alpha, nitr):\n",
    "\n",
    "    x = np.asarray(x)\n",
    "    y = np.asarray(y)\n",
    "    w = np.asarray(w)\n",
    "\n",
    "    n = len(y)\n",
    "    xTrans = x.transpose()\n",
    "    #Perform Gradient descent on data nitr times\n",
    "    for i in range(0, nitr):\n",
    "        # calculate the output of y_pred using weights\n",
    "        y_pred = np.dot(x, w)\n",
    "\n",
    "        # Calculate the difference between y_pred and y\n",
    "        loss = y_pred - y\n",
    "\n",
    "        #average the gradient\n",
    "        gradient = np.dot(xTrans, loss) / n\n",
    "\n",
    "        #Update the weights\n",
    "        w = w - alpha * gradient\n",
    "\n",
    "        #round off the values in array to two decimal places\n",
    "        \n",
    "    return np.round(w,2)"
   ]
  },
  {
   "cell_type": "code",
   "execution_count": 72,
   "id": "32bdca14-06f5-4167-83e0-069971a7128a",
   "metadata": {},
   "outputs": [],
   "source": [
    "x = [[1.0, 0.0], [1.0, 1.0], [1.0, 2.0], [1.0, 3.0], [1.0, 4.0], [1.0, 5.0], [1.0, 6.0], [1.0, 7.0], [1.0, 8.0], [1.0, 9.0]]\n",
    "y = [26.75, 29.12, 36.46, 32.82, 30.46, 39.7, 35.52, 39.84, 36.83, 42.74]\n",
    "w = [1.0, 1.0]\n",
    "alpha = 0.0005\n",
    "nitr = 10"
   ]
  },
  {
   "cell_type": "code",
   "execution_count": 73,
   "id": "c4ea56fe-68d8-4f1b-b59e-a9a09387eb57",
   "metadata": {},
   "outputs": [
    {
     "data": {
      "text/plain": [
       "array([1.14, 1.64])"
      ]
     },
     "execution_count": 73,
     "metadata": {},
     "output_type": "execute_result"
    }
   ],
   "source": [
    "gradient_descent(x, y, w, alpha, nitr)"
   ]
  },
  {
   "cell_type": "code",
   "execution_count": null,
   "id": "00f59a3b-092b-4e56-8d70-e9de1ecef5c0",
   "metadata": {},
   "outputs": [],
   "source": []
  }
 ],
 "metadata": {
  "kernelspec": {
   "display_name": "Python 3 (ipykernel)",
   "language": "python",
   "name": "python3"
  },
  "language_info": {
   "codemirror_mode": {
    "name": "ipython",
    "version": 3
   },
   "file_extension": ".py",
   "mimetype": "text/x-python",
   "name": "python",
   "nbconvert_exporter": "python",
   "pygments_lexer": "ipython3",
   "version": "3.10.9"
  }
 },
 "nbformat": 4,
 "nbformat_minor": 5
}
