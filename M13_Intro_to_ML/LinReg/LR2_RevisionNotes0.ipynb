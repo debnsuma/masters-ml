{
 "cells": [
  {
   "cell_type": "markdown",
   "metadata": {
    "id": "Kd3X-8_Yy5GW"
   },
   "source": [
    "## Content\n",
    "- Agenda\n",
    "- Already Learnt\n",
    "- DSML Libraries\n",
    "  - Plotting Examples\n",
    "  - Prob and Stats\n",
    "  - Linear Algebra\n",
    "- TO Learn\n",
    "- ML v/s Classical Programming\n",
    "  - SDE vs ML Pipeline\n",
    "  - Tom Mitchell's definition of ML Task\n",
    "  - ETP\n",
    "- ML: Categorisation based on Tasks\n",
    "\n",
    "  - Classifcation\n",
    "  - Regression      \n",
    "  - Classification v/s Regression\n",
    "  - Supervised Learning\n",
    "  - Clustering\n",
    "  - Unsupervised Learning"
   ]
  },
  {
   "cell_type": "markdown",
   "metadata": {
    "id": "6aVY9g3cPs56"
   },
   "source": [
    "### Agenda"
   ]
  },
  {
   "cell_type": "markdown",
   "metadata": {
    "id": "yh-r-DJ9u9G3"
   },
   "source": [
    "<img src='https://drive.google.com/uc?id=1C2BIUmdjYrpiyY6fxZos2f4X89YpR6KG' width=800>"
   ]
  },
  {
   "cell_type": "markdown",
   "metadata": {
    "id": "yAvDXVzZSe9g"
   },
   "source": [
    "### ALREADY LEARNT\n",
    "\n",
    "\n",
    "\n"
   ]
  },
  {
   "cell_type": "markdown",
   "metadata": {
    "id": "NOXhQhrrM1IR"
   },
   "source": [
    "<img src='https://drive.google.com/uc?id=10YJp80v2Ja1u5i4VV2_DYfrvSokMobWX' width=800>\n"
   ]
  },
  {
   "cell_type": "markdown",
   "metadata": {
    "id": "84f9DwlibpN1"
   },
   "source": [
    "### DSML Libraries\n",
    "\n"
   ]
  },
  {
   "cell_type": "markdown",
   "metadata": {
    "id": "43jqKd9Lv34x"
   },
   "source": [
    "<img src='https://drive.google.com/uc?id=1Z8AvhG6AYrx0kEj6qKZxfribYTviA4uQ' width=800>\n"
   ]
  },
  {
   "cell_type": "markdown",
   "metadata": {
    "id": "3YnGykylv5tc"
   },
   "source": [
    "<img src='https://drive.google.com/uc?id=1cY91zGoNWV8ce3Yf2E5nwDO22tqip3Vo' width=800>\n"
   ]
  },
  {
   "cell_type": "markdown",
   "metadata": {
    "id": "JQ8_5bQdhRJl"
   },
   "source": [
    "#### Plotting Examples\n",
    "\n",
    "\n",
    "\n",
    "\n"
   ]
  },
  {
   "cell_type": "markdown",
   "metadata": {
    "id": "kQe_evDnQm2Y"
   },
   "source": [
    "<img src='https://drive.google.com/uc?id=1ksEXlP4Z9eUEKangmlLhNZicxmqSRMAt' width=800>\n"
   ]
  },
  {
   "cell_type": "markdown",
   "metadata": {
    "id": "00MndbX6xzIp"
   },
   "source": [
    "<img src='https://drive.google.com/uc?id=1pc9DcXIcK5PdpBt1ZTN5y0dAE7bcYO7K' width=800>\n"
   ]
  },
  {
   "cell_type": "markdown",
   "metadata": {
    "id": "w2uA5JbBhRL4"
   },
   "source": [
    "#### Probability and Statistics"
   ]
  },
  {
   "cell_type": "markdown",
   "metadata": {
    "id": "LqYbAOQWyhOG"
   },
   "source": [
    "<img src='https://drive.google.com/uc?id=1V4GI7VbnU1B4Lls79v-Omu1C3mntq17n' width=800>"
   ]
  },
  {
   "cell_type": "markdown",
   "metadata": {
    "id": "jlJXz68oywt0"
   },
   "source": [
    "<img src='https://drive.google.com/uc?id=1RK6RHalXUbv7tJ7ZygclZJjUPOHcb8wl' width=800>\n"
   ]
  },
  {
   "cell_type": "markdown",
   "metadata": {
    "id": "TYp-zdn24BwL"
   },
   "source": [
    "<img src='https://drive.google.com/uc?id=1EmXF11gtU3AGY7jJOZET4BEXsjmY8a-n' width=800>\n"
   ]
  },
  {
   "cell_type": "markdown",
   "metadata": {
    "id": "KrP8-7YvhRQV"
   },
   "source": [
    "#### Linear Algebra\n",
    "\n",
    "\n"
   ]
  },
  {
   "cell_type": "markdown",
   "metadata": {
    "id": "Lar2tl0F4WaT"
   },
   "source": [
    "<img src='https://drive.google.com/uc?id=11es7qkybQGR4wAmOVIVRs9dYvR2lEDGT' width=800>\n"
   ]
  },
  {
   "cell_type": "markdown",
   "metadata": {
    "id": "ThTkwhlN4Wcp"
   },
   "source": [
    "<img src='https://drive.google.com/uc?id=1SnZhl-SN_bUfPtyR_dqLe4gieb_3k5gx' width=800>"
   ]
  },
  {
   "cell_type": "markdown",
   "metadata": {
    "id": "-rG7GMlvVNfG"
   },
   "source": [
    "\n",
    "<img src='https://drive.google.com/uc?id=15X2o5B4PPEILKxq7kPQL0srfsKEBGYuj' width=800>"
   ]
  },
  {
   "cell_type": "markdown",
   "metadata": {
    "id": "AGdv-rzMhRW4"
   },
   "source": [
    "### TO LEARN  "
   ]
  },
  {
   "cell_type": "markdown",
   "metadata": {
    "id": "nZbQQO17xP5T"
   },
   "source": [
    "### ML v/s Classical Programming"
   ]
  },
  {
   "cell_type": "markdown",
   "metadata": {
    "id": "SJ1s9ARo5WsY"
   },
   "source": [
    "<img src='https://drive.google.com/uc?id=1W3a-WULhWso2x0PbSR2Z_lxIJ5DaAaGk' width=800>"
   ]
  },
  {
   "cell_type": "markdown",
   "metadata": {
    "id": "259QdYeShRb2"
   },
   "source": [
    "#### **How does the SDE pipleline look?**\n",
    "\n"
   ]
  },
  {
   "cell_type": "markdown",
   "metadata": {
    "id": "QI8cxEnF6WCm"
   },
   "source": [
    "<img src='https://drive.google.com/uc?id=1c2zHetGUEn6FNt1hEIajh-4iDSsoJ974' width=800>\n"
   ]
  },
  {
   "cell_type": "markdown",
   "metadata": {
    "id": "kr4LOZAH6mMM"
   },
   "source": [
    "<img src='https://drive.google.com/uc?id=1PkREmb49ABwkpn5Pvf5Wlqn19MxRMg0S' width=800>\n"
   ]
  },
  {
   "cell_type": "markdown",
   "metadata": {
    "id": "AaN5JwR5xsRe"
   },
   "source": [
    "#### How does the ML pipeline look?\n",
    "\n"
   ]
  },
  {
   "cell_type": "markdown",
   "metadata": {
    "id": "01DPA8mM6w5D"
   },
   "source": [
    "<img src='https://drive.google.com/uc?id=1o13qceJo1AAEYr64TvMVZEvxZ0pybKpK' width=800>"
   ]
  },
  {
   "cell_type": "markdown",
   "metadata": {
    "id": "bU5TOB8J7V4Y"
   },
   "source": [
    "<img src='https://drive.google.com/uc?id=18b8T00_p29IL-pswfhhcvmKsUPbq4KlE' width=800>"
   ]
  },
  {
   "cell_type": "markdown",
   "metadata": {
    "id": "4WHBPyld0Kr6"
   },
   "source": [
    "#### \"Well defined\" ML task - Definition by Tom Mitchell"
   ]
  },
  {
   "cell_type": "markdown",
   "metadata": {
    "id": "6UW-O4_R7t2a"
   },
   "source": [
    "\n",
    "<img src='https://drive.google.com/uc?id=1EIscKR4MhkO3kRpDH86heigDiTXQUwjN' width=800>"
   ]
  },
  {
   "cell_type": "markdown",
   "metadata": {
    "id": "a8ab-Thp7t-P"
   },
   "source": [
    "\n",
    "<img src='https://drive.google.com/uc?id=19PyZnOFOBRHDVwpb1PKtFiB4L7pI7g-i' width=800>"
   ]
  },
  {
   "cell_type": "markdown",
   "metadata": {
    "id": "HT5sp1zuELU1"
   },
   "source": [
    "#### ETP Example"
   ]
  },
  {
   "cell_type": "markdown",
   "metadata": {
    "id": "KauuwFZx7V-k"
   },
   "source": [
    "<img src='https://drive.google.com/uc?id=1xmDpjWZ1WOWetTNWNGth60thSr-ibpIp' width=800>"
   ]
  },
  {
   "cell_type": "markdown",
   "metadata": {
    "id": "R6vusM8afr5R"
   },
   "source": [
    "\n",
    "<img src='https://drive.google.com/uc?id=15X2o5B4PPEILKxq7kPQL0srfsKEBGYuj' width=800>"
   ]
  },
  {
   "cell_type": "markdown",
   "metadata": {
    "id": "EYbHvxg7VbQW"
   },
   "source": [
    "\n",
    "\n",
    "\n",
    "<img src='https://drive.google.com/uc?id=1CnyLYmHfIsZhRsEJ5YvhvZCD1lGJckZg' width=800>\n"
   ]
  },
  {
   "cell_type": "markdown",
   "metadata": {
    "id": "ljrzETUKJLv-"
   },
   "source": [
    "#### ML Topics Categorisation"
   ]
  },
  {
   "cell_type": "markdown",
   "metadata": {
    "id": "8p-yL9zo8-cE"
   },
   "source": [
    "<img src='https://drive.google.com/uc?id=1mi6WV7Pfs_2Uu1LhlL3_rCCuZEcG0uip' width=800>"
   ]
  },
  {
   "cell_type": "markdown",
   "metadata": {
    "id": "-8iap3Lv9jSS"
   },
   "source": [
    "<img src='https://drive.google.com/uc?id=15ucp5k3RNxYtLtmSjfTmIiagIgtJR0_0' width=800>"
   ]
  },
  {
   "cell_type": "markdown",
   "metadata": {
    "id": "7BuxD1M4OBjY"
   },
   "source": [
    "### ML Categorisation based on Tasks"
   ]
  },
  {
   "cell_type": "markdown",
   "metadata": {
    "id": "hrGzlgv4OH1e"
   },
   "source": [
    "#### Classification"
   ]
  },
  {
   "cell_type": "markdown",
   "metadata": {
    "id": "lhSNmSBm9yEr"
   },
   "source": [
    "<img src='https://drive.google.com/uc?id=180H1_PNOAk99IWOB5_p9iwt3Z7wnQ5C4' width=800>"
   ]
  },
  {
   "cell_type": "markdown",
   "metadata": {
    "id": "I73YFTB993Eu"
   },
   "source": [
    "<img src='https://drive.google.com/uc?id=1bNuJbKIQK5aCS2kBnpAj4Jjlnl3JGLez' width=800>"
   ]
  },
  {
   "cell_type": "markdown",
   "metadata": {
    "id": "-f2DGnmBOWdH"
   },
   "source": [
    "#### Regression"
   ]
  },
  {
   "cell_type": "markdown",
   "metadata": {
    "id": "MzaAFeEx-UZ3"
   },
   "source": [
    "<img src='https://drive.google.com/uc?id=130O-BY41EEukdtctjWK2nAnoBUgwyKID' width=800>"
   ]
  },
  {
   "cell_type": "markdown",
   "metadata": {
    "id": "MiJkVJPPOj14"
   },
   "source": [
    "#### Regression v/s Classification"
   ]
  },
  {
   "cell_type": "markdown",
   "metadata": {
    "id": "HQJ2Kk0b-Y4z"
   },
   "source": [
    "<img src='https://drive.google.com/uc?id=1p9pPCDtOwlRTWrVGfaCMIOKXtyWd0xjC' width=800>\n"
   ]
  },
  {
   "cell_type": "markdown",
   "metadata": {
    "id": "kEXgwOGl_CZ4"
   },
   "source": [
    "<img src='https://drive.google.com/uc?id=1Q8MFunwq7Boq7Y_XxMXuBpAnmxvJb2S_' width=800>\n"
   ]
  },
  {
   "cell_type": "markdown",
   "metadata": {
    "id": "sna3Ufl3f4LO"
   },
   "source": [
    "\n",
    "<img src='https://drive.google.com/uc?id=15X2o5B4PPEILKxq7kPQL0srfsKEBGYuj' width=800>"
   ]
  },
  {
   "cell_type": "markdown",
   "metadata": {
    "id": "e9eDc0CRg786"
   },
   "source": [
    "\n",
    "\n",
    "\n",
    "<img src='https://drive.google.com/uc?id=1CnyLYmHfIsZhRsEJ5YvhvZCD1lGJckZg' width=800>\n"
   ]
  },
  {
   "cell_type": "markdown",
   "metadata": {
    "id": "YSaztZlUgnSF"
   },
   "source": [
    "<img src='https://drive.google.com/uc?id=1GhkArAAxjd2pNfChOYWe8TAoRWhAw2ID' width=800>"
   ]
  },
  {
   "cell_type": "markdown",
   "metadata": {
    "id": "AaTuefp6Oo7a"
   },
   "source": [
    "#### Supervised Learning"
   ]
  },
  {
   "cell_type": "markdown",
   "metadata": {
    "id": "ndWOMmto_dYM"
   },
   "source": [
    "\n",
    "<img src='https://drive.google.com/uc?id=1dEFmIXNUzuhVEdJo3IwdYHT2kuRoY4Ct' width=800>\n"
   ]
  },
  {
   "cell_type": "markdown",
   "metadata": {
    "id": "mvHoYG44OtIC"
   },
   "source": [
    "#### Clustering"
   ]
  },
  {
   "cell_type": "markdown",
   "metadata": {
    "id": "Znu8EJgQ_hDG"
   },
   "source": [
    "\n",
    "<img src='https://drive.google.com/uc?id=1q2ldtYcjujOGIG4IUklwfD2pOnJY0sGR' width=800>\n"
   ]
  },
  {
   "cell_type": "markdown",
   "metadata": {
    "id": "NCkDyqrB_he8"
   },
   "source": [
    "\n",
    "<img src='https://drive.google.com/uc?id=1Oi2lKKaK0rTm5GYqth8IWvyOgMmHrlB2' width=800>\n"
   ]
  },
  {
   "cell_type": "markdown",
   "metadata": {
    "id": "yF4j9M5H_hzI"
   },
   "source": [
    "\n",
    "<img src='https://drive.google.com/uc?id=1a6Bc0DPf-BWXXbcEF-uok8uwkkyKgv8P' width=800>"
   ]
  },
  {
   "cell_type": "markdown",
   "metadata": {
    "id": "NU8H3XR7OtMk"
   },
   "source": [
    "#### Unsupervised Learning"
   ]
  },
  {
   "cell_type": "markdown",
   "metadata": {
    "id": "aJoDp3Dp_iBm"
   },
   "source": [
    "\n",
    "<img src='https://drive.google.com/uc?id=1kSFaQfYOpumsJbwLevt6v7J8J8oeBT_d' width=800>\n"
   ]
  },
  {
   "cell_type": "markdown",
   "metadata": {
    "id": "wy0RvlqI__dL"
   },
   "source": [
    "\n",
    "<img src='https://drive.google.com/uc?id=1-0Eg_CSwSOnyH2NCADL4V0TgAo97_HUp' width=800>\n"
   ]
  },
  {
   "cell_type": "markdown",
   "metadata": {
    "id": "fMA8___ZhBQl"
   },
   "source": [
    "\n",
    "<img src='https://drive.google.com/uc?id=15X2o5B4PPEILKxq7kPQL0srfsKEBGYuj' width=800>"
   ]
  },
  {
   "cell_type": "markdown",
   "metadata": {
    "id": "bJSnDkmLhBQz"
   },
   "source": [
    "\n",
    "\n",
    "\n",
    "<img src='https://drive.google.com/uc?id=1CnyLYmHfIsZhRsEJ5YvhvZCD1lGJckZg' width=800>\n"
   ]
  },
  {
   "cell_type": "markdown",
   "metadata": {
    "id": "fKY-gdgMVygS"
   },
   "source": [
    "\n",
    "\n",
    "\n",
    "<img src='https://drive.google.com/uc?id=1wTUfSSW3G7_YB4fmovnrhm3DyDqfyZs2' width=800>\n"
   ]
  }
 ],
 "metadata": {
  "colab": {
   "provenance": []
  },
  "kernelspec": {
   "display_name": "Python 3 (ipykernel)",
   "language": "python",
   "name": "python3"
  },
  "language_info": {
   "codemirror_mode": {
    "name": "ipython",
    "version": 3
   },
   "file_extension": ".py",
   "mimetype": "text/x-python",
   "name": "python",
   "nbconvert_exporter": "python",
   "pygments_lexer": "ipython3",
   "version": "3.10.9"
  }
 },
 "nbformat": 4,
 "nbformat_minor": 4
}
