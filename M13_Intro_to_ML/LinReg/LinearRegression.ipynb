{
 "cells": [
  {
   "cell_type": "markdown",
   "id": "9dcc6e63-69eb-4739-b5bf-fcb2f28967b2",
   "metadata": {},
   "source": [
    "# Linear Regression "
   ]
  },
  {
   "cell_type": "markdown",
   "id": "3f672656-cf9b-4027-ae12-9da28075cc8f",
   "metadata": {},
   "source": [
    "### Step 1: Data Preparation"
   ]
  },
  {
   "cell_type": "code",
   "execution_count": 181,
   "id": "a7c01250-d960-45b4-8646-49e7fec9b6a8",
   "metadata": {},
   "outputs": [],
   "source": [
    "import numpy as np\n",
    "import pandas as pd\n"
   ]
  },
  {
   "cell_type": "code",
   "execution_count": 182,
   "id": "f0fd36b3-0564-4d51-a9c8-c5479af40f94",
   "metadata": {},
   "outputs": [],
   "source": [
    "data = pd.read_csv('Advertising.csv', index_col=0)"
   ]
  },
  {
   "cell_type": "code",
   "execution_count": 183,
   "id": "e169a035-dd06-4429-8a09-f6cb614edd44",
   "metadata": {},
   "outputs": [
    {
     "data": {
      "text/html": [
       "<div>\n",
       "<style scoped>\n",
       "    .dataframe tbody tr th:only-of-type {\n",
       "        vertical-align: middle;\n",
       "    }\n",
       "\n",
       "    .dataframe tbody tr th {\n",
       "        vertical-align: top;\n",
       "    }\n",
       "\n",
       "    .dataframe thead th {\n",
       "        text-align: right;\n",
       "    }\n",
       "</style>\n",
       "<table border=\"1\" class=\"dataframe\">\n",
       "  <thead>\n",
       "    <tr style=\"text-align: right;\">\n",
       "      <th></th>\n",
       "      <th>TV</th>\n",
       "      <th>Radio</th>\n",
       "      <th>Newspaper</th>\n",
       "      <th>Sales</th>\n",
       "    </tr>\n",
       "  </thead>\n",
       "  <tbody>\n",
       "    <tr>\n",
       "      <th>1</th>\n",
       "      <td>230.1</td>\n",
       "      <td>37.8</td>\n",
       "      <td>69.2</td>\n",
       "      <td>22.1</td>\n",
       "    </tr>\n",
       "    <tr>\n",
       "      <th>2</th>\n",
       "      <td>44.5</td>\n",
       "      <td>39.3</td>\n",
       "      <td>45.1</td>\n",
       "      <td>10.4</td>\n",
       "    </tr>\n",
       "    <tr>\n",
       "      <th>3</th>\n",
       "      <td>17.2</td>\n",
       "      <td>45.9</td>\n",
       "      <td>69.3</td>\n",
       "      <td>9.3</td>\n",
       "    </tr>\n",
       "    <tr>\n",
       "      <th>4</th>\n",
       "      <td>151.5</td>\n",
       "      <td>41.3</td>\n",
       "      <td>58.5</td>\n",
       "      <td>18.5</td>\n",
       "    </tr>\n",
       "    <tr>\n",
       "      <th>5</th>\n",
       "      <td>180.8</td>\n",
       "      <td>10.8</td>\n",
       "      <td>58.4</td>\n",
       "      <td>12.9</td>\n",
       "    </tr>\n",
       "  </tbody>\n",
       "</table>\n",
       "</div>"
      ],
      "text/plain": [
       "      TV  Radio  Newspaper  Sales\n",
       "1  230.1   37.8       69.2   22.1\n",
       "2   44.5   39.3       45.1   10.4\n",
       "3   17.2   45.9       69.3    9.3\n",
       "4  151.5   41.3       58.5   18.5\n",
       "5  180.8   10.8       58.4   12.9"
      ]
     },
     "execution_count": 183,
     "metadata": {},
     "output_type": "execute_result"
    }
   ],
   "source": [
    "data.head()"
   ]
  },
  {
   "cell_type": "markdown",
   "id": "8a7076f8-b363-44f4-a3f6-b594c5ae92da",
   "metadata": {},
   "source": [
    "### Step 2: Add Bias"
   ]
  },
  {
   "cell_type": "code",
   "execution_count": 218,
   "id": "56dda13b-571e-48b9-aff3-7efee7f8df31",
   "metadata": {},
   "outputs": [],
   "source": [
    "X = data[['TV', 'Radio', 'Newspaper']].values\n",
    "y = np.array(data['Sales']).reshape(-1, 1)"
   ]
  },
  {
   "cell_type": "code",
   "execution_count": 219,
   "id": "4c2d5d5c-dd4e-4b2a-8fa3-7b8412b4a919",
   "metadata": {},
   "outputs": [
    {
     "data": {
      "text/plain": [
       "(66.9535, 76.7535047261687)"
      ]
     },
     "execution_count": 219,
     "metadata": {},
     "output_type": "execute_result"
    }
   ],
   "source": [
    "X.mean(), X.std()"
   ]
  },
  {
   "cell_type": "code",
   "execution_count": 220,
   "id": "b03b7aca-34e8-452c-8eb5-b6c82b9ac4d1",
   "metadata": {},
   "outputs": [],
   "source": [
    "X_mean = X.mean(axis=0)\n",
    "X_std = X.std(axis=0)\n",
    "X = (X - X_mean) / X_std\n"
   ]
  },
  {
   "cell_type": "code",
   "execution_count": 221,
   "id": "715608aa-c0de-452b-a71c-cefe49d50474",
   "metadata": {},
   "outputs": [],
   "source": [
    "# Adding bias\n",
    "X = np.c_[np.ones((X.shape[0], 1)), X]"
   ]
  },
  {
   "cell_type": "code",
   "execution_count": 222,
   "id": "3be04794-f17e-4888-8a38-7a414fe9db2e",
   "metadata": {},
   "outputs": [
    {
     "data": {
      "text/plain": [
       "(0.24999999999999997, 0.9682458365518543)"
      ]
     },
     "execution_count": 222,
     "metadata": {},
     "output_type": "execute_result"
    }
   ],
   "source": [
    "X.mean(), X.std()"
   ]
  },
  {
   "cell_type": "code",
   "execution_count": 223,
   "id": "d97f1f29-1c55-426b-a659-1a713693f385",
   "metadata": {},
   "outputs": [
    {
     "data": {
      "text/plain": [
       "((200, 4), (200, 1))"
      ]
     },
     "execution_count": 223,
     "metadata": {},
     "output_type": "execute_result"
    }
   ],
   "source": [
    "X.shape, y.shape"
   ]
  },
  {
   "cell_type": "code",
   "execution_count": 224,
   "id": "520edc9b-3eba-43e1-a06d-8cab689a8fb9",
   "metadata": {},
   "outputs": [],
   "source": [
    "# Splitting the data into training and testing sets (80-20 split)\n",
    "\n",
    "train_size = int(0.8 * len(X))\n",
    "X_train, X_test = X[:train_size], X[train_size:]\n",
    "y_train, y_test = y[:train_size], y[train_size:]"
   ]
  },
  {
   "cell_type": "code",
   "execution_count": 225,
   "id": "4319fee6-0cbb-4c10-945c-948d7dc5217d",
   "metadata": {},
   "outputs": [
    {
     "data": {
      "text/plain": [
       "((160, 4), (160, 1))"
      ]
     },
     "execution_count": 225,
     "metadata": {},
     "output_type": "execute_result"
    }
   ],
   "source": [
    "X_train.shape, y_train.shape"
   ]
  },
  {
   "cell_type": "markdown",
   "id": "5f140c20-730e-484e-9e28-fe65486cee97",
   "metadata": {},
   "source": [
    "### Step 3: Hypothesis Function\n"
   ]
  },
  {
   "cell_type": "code",
   "execution_count": 226,
   "id": "af892bb4-f48f-4038-a036-c0f486414b1d",
   "metadata": {},
   "outputs": [],
   "source": [
    "def hypothesis(X, theta):\n",
    "    \n",
    "    result = np.dot(X, theta)  \n",
    "    \n",
    "    return result\n",
    "\n"
   ]
  },
  {
   "cell_type": "markdown",
   "id": "f6d6b86d-1954-44c9-aeaa-12e2df1830f1",
   "metadata": {},
   "source": [
    "### Step 4: Cost Function\n"
   ]
  },
  {
   "cell_type": "code",
   "execution_count": 227,
   "id": "28075599-6812-4dd3-95ce-57d167f8ac8b",
   "metadata": {},
   "outputs": [],
   "source": [
    "def compute_cost(X, y, theta):\n",
    "    \n",
    "    m = len(y)\n",
    "    \n",
    "    cost = np.sum(np.square(hypothesis(X, theta) - y))/(2 * m)\n",
    "    \n",
    "    return cost"
   ]
  },
  {
   "cell_type": "markdown",
   "id": "62e289df-be4f-4090-a454-33f2667aba7f",
   "metadata": {},
   "source": [
    "### Step 5: Gradient Descent"
   ]
  },
  {
   "cell_type": "code",
   "execution_count": 228,
   "id": "c0846a65-5fd9-41f0-b458-b6061a60a9bd",
   "metadata": {},
   "outputs": [],
   "source": [
    "def gradient_descent(X, y, theta, learning_rate, iterations):\n",
    "    \n",
    "    m = len(y)\n",
    "    cost_history = np.zeros(iterations)\n",
    "    \n",
    "    for i in range(iterations):\n",
    "        \n",
    "        h = hypothesis(X, theta)                     # Get the predictions\n",
    "        error = h - y                                # Get the error vector\n",
    "        gradients = (1/m) * X.T.dot(error)           # Compute the gradients\n",
    "        theta = theta - learning_rate * gradients    # Update the parameters\n",
    "        cost_history[i] = compute_cost(X, y, theta)  # Compute and record the cost\n",
    "    \n",
    "    return theta, cost_history"
   ]
  },
  {
   "cell_type": "markdown",
   "id": "80f1b4e8-50a8-49be-b3c5-da8e3dcba9cd",
   "metadata": {},
   "source": [
    "### Step 6: Training the Model\n"
   ]
  },
  {
   "cell_type": "code",
   "execution_count": 229,
   "id": "ed7535e7-81d8-4150-b39e-6b385c3bfd2d",
   "metadata": {},
   "outputs": [],
   "source": [
    "theta = np.zeros((X_train.shape[1], 1))\n",
    "\n"
   ]
  },
  {
   "cell_type": "code",
   "execution_count": 230,
   "id": "773b1249-7293-4a3f-9716-7879650695a6",
   "metadata": {},
   "outputs": [],
   "source": [
    "m = X_train.shape[1]\n",
    "theta = np.zeros((m, 1))\n",
    "\n",
    "learning_rate = 0.01\n",
    "iterations = 2000 \n",
    "\n",
    "theta, cost_history = gradient_descent(X_train, y_train, theta, learning_rate, iterations)"
   ]
  },
  {
   "cell_type": "markdown",
   "id": "6f738cf2-2410-4c90-ae77-d2049b3a478c",
   "metadata": {},
   "source": [
    "### Step 7: Plot the Convergence of the Gradient Descent\n"
   ]
  },
  {
   "cell_type": "code",
   "execution_count": 231,
   "id": "163bfabd-8ada-4d75-8bdd-dab66d7eb82e",
   "metadata": {},
   "outputs": [
    {
     "data": {
      "image/png": "[encoded data removed]",
      "text/plain": [
       "<Figure size 1000x600 with 1 Axes>"
      ]
     },
     "metadata": {},
     "output_type": "display_data"
    }
   ],
   "source": [
    "plt.plot(range(iterations), cost_history)\n",
    "plt.xlabel('Iterations')\n",
    "plt.ylabel('Cost')\n",
    "plt.title('Convergence of Gradient Descent')\n",
    "plt.show()"
   ]
  },
  {
   "cell_type": "markdown",
   "id": "0b31fc97-c6b6-4be5-aa4a-fbee8c20b984",
   "metadata": {},
   "source": [
    "### Step 8: Testing the Model"
   ]
  },
  {
   "cell_type": "code",
   "execution_count": 240,
   "id": "4e412e58-ed9b-4023-93c1-c5efd6939197",
   "metadata": {},
   "outputs": [],
   "source": [
    "predictions = hypothesis(X_test, theta)"
   ]
  },
  {
   "cell_type": "code",
   "execution_count": null,
   "id": "5d6ff93c-4297-4160-87cf-d6a733ed51f0",
   "metadata": {},
   "outputs": [],
   "source": []
  }
 ],
 "metadata": {
  "kernelspec": {
   "display_name": "Python 3 (ipykernel)",
   "language": "python",
   "name": "python3"
  },
  "language_info": {
   "codemirror_mode": {
    "name": "ipython",
    "version": 3
   },
   "file_extension": ".py",
   "mimetype": "text/x-python",
   "name": "python",
   "nbconvert_exporter": "python",
   "pygments_lexer": "ipython3",
   "version": "3.10.9"
  }
 },
 "nbformat": 4,
 "nbformat_minor": 5
}
