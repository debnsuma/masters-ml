{
 "cells": [
  {
   "cell_type": "markdown",
   "id": "0a4d49e7-d619-4a1e-8aba-e3369d024eb1",
   "metadata": {},
   "source": [
    "# Linear Regression "
   ]
  },
  {
   "cell_type": "markdown",
   "id": "40a080af-76a9-43f8-93cd-93a509b1a094",
   "metadata": {},
   "source": [
    "### Q4. Calculate the loss value\n"
   ]
  },
  {
   "cell_type": "code",
   "execution_count": 20,
   "id": "a15a4abc-5cae-4a7d-a007-3cb8ab3ed0cc",
   "metadata": {},
   "outputs": [],
   "source": [
    "import numpy as np\n",
    "def cost(x, y, w):\n",
    "\n",
    "    x = np.asarray(x)\n",
    "    w = np.asarray(w)\n",
    "    y = np.asarray(y)\n",
    "\n",
    "    n = len(y)\n",
    "    loss = (1 / (2* n)) * (np.sum((y - np.dot(x, w))**2)) \n",
    "\n",
    "    #YOUR CODE GOES HERE\n",
    "\n",
    "    \n",
    "    return round(loss, 2)"
   ]
  },
  {
   "cell_type": "code",
   "execution_count": 21,
   "id": "45aaa013-6ddc-45bf-ad56-9e37cee40b1d",
   "metadata": {},
   "outputs": [],
   "source": [
    "x = [[1.0, 0.0], [1.0, 1.0], [1.0, 2.0], [1.0, 3.0], [1.0, 4.0], [1.0, 5.0], [1.0, 6.0], [1.0, 7.0], [1.0, 8.0], [1.0, 9.0]]\n",
    "y = [32.69, 30.56, 32.04, 32.27, 35.98, 34.39, 40.25, 39.24, 37.14, 39.38]\n",
    "w = [30.0, 1.0]"
   ]
  },
  {
   "cell_type": "code",
   "execution_count": 22,
   "id": "92445a07-50c7-4d34-a062-48369c0ed4f7",
   "metadata": {},
   "outputs": [
    {
     "data": {
      "text/plain": [
       "1.81"
      ]
     },
     "execution_count": 22,
     "metadata": {},
     "output_type": "execute_result"
    }
   ],
   "source": [
    "cost(x, y, w)"
   ]
  },
  {
   "cell_type": "code",
   "execution_count": 6,
   "id": "9e59eb35-3965-4bbd-b244-bb06cd1c5bdd",
   "metadata": {},
   "outputs": [],
   "source": [
    "x = np.asarray(x)\n",
    "w = np.asarray(w)\n",
    "y = np.asarray(y)"
   ]
  },
  {
   "cell_type": "code",
   "execution_count": 7,
   "id": "04e2c534-1902-455c-b45d-d6cf39bf3357",
   "metadata": {},
   "outputs": [
    {
     "data": {
      "text/plain": [
       "(10, 2)"
      ]
     },
     "execution_count": 7,
     "metadata": {},
     "output_type": "execute_result"
    }
   ],
   "source": [
    "x.shape"
   ]
  },
  {
   "cell_type": "code",
   "execution_count": 8,
   "id": "a256e823-93a0-41e5-807e-365cf5f60019",
   "metadata": {},
   "outputs": [
    {
     "data": {
      "text/plain": [
       "(2,)"
      ]
     },
     "execution_count": 8,
     "metadata": {},
     "output_type": "execute_result"
    }
   ],
   "source": [
    "w.shape"
   ]
  },
  {
   "cell_type": "code",
   "execution_count": 9,
   "id": "23b08930-eca4-4971-a393-13adab863e8d",
   "metadata": {},
   "outputs": [
    {
     "data": {
      "text/plain": [
       "array([30., 31., 32., 33., 34., 35., 36., 37., 38., 39.])"
      ]
     },
     "execution_count": 9,
     "metadata": {},
     "output_type": "execute_result"
    }
   ],
   "source": [
    "np.dot(x, w)"
   ]
  },
  {
   "cell_type": "code",
   "execution_count": 10,
   "id": "ab3adf2d-defe-42d1-8e28-90776daa8cd2",
   "metadata": {},
   "outputs": [
    {
     "data": {
      "text/plain": [
       "array([30., 31., 32., 33., 34., 35., 36., 37., 38., 39.])"
      ]
     },
     "execution_count": 10,
     "metadata": {},
     "output_type": "execute_result"
    }
   ],
   "source": [
    "x.dot(w)"
   ]
  },
  {
   "cell_type": "markdown",
   "id": "7c1e22c9-7566-46d5-8793-eb22bdc21dc9",
   "metadata": {},
   "source": [
    "### Q5. Updated values of weights\n"
   ]
  },
  {
   "cell_type": "code",
   "execution_count": 24,
   "id": "5d469b91-267e-46a9-b5cd-8c7f7c8f7f98",
   "metadata": {},
   "outputs": [],
   "source": [
    "import numpy as np\n",
    "\n",
    "def gradient_descent(x, y, w, alpha, nitr):\n",
    "\n",
    "    x = np.asarray(x)\n",
    "    y = np.asarray(y)\n",
    "    w = np.asarray(w)\n",
    "\n",
    "    n = len(y)\n",
    "    xTrans = x.transpose()\n",
    "    #Perform Gradient descent on data nitr times\n",
    "    for i in range(0, nitr):\n",
    "        # calculate the output of y_pred using weights\n",
    "        y_pred = np.dot(x, w)\n",
    "\n",
    "        # Calculate the difference between y_pred and y\n",
    "        loss = y_pred - y\n",
    "\n",
    "        #average the gradient\n",
    "        gradient = np.dot(xTrans, loss) / n\n",
    "\n",
    "        #Update the weights\n",
    "        w = w - alpha * gradient\n",
    "\n",
    "        #round off the values in array to two decimal places\n",
    "        \n",
    "    return np.round(w,2)"
   ]
  },
  {
   "cell_type": "code",
   "execution_count": 25,
   "id": "32bdca14-06f5-4167-83e0-069971a7128a",
   "metadata": {},
   "outputs": [],
   "source": [
    "x = [[1.0, 0.0], [1.0, 1.0], [1.0, 2.0], [1.0, 3.0], [1.0, 4.0], [1.0, 5.0], [1.0, 6.0], [1.0, 7.0], [1.0, 8.0], [1.0, 9.0]]\n",
    "y = [26.75, 29.12, 36.46, 32.82, 30.46, 39.7, 35.52, 39.84, 36.83, 42.74]\n",
    "w = [1.0, 1.0]\n",
    "alpha = 0.0005\n",
    "nitr = 10"
   ]
  },
  {
   "cell_type": "code",
   "execution_count": 28,
   "id": "0eaac3d5-a2f5-4f4b-885e-d2ff461f4ece",
   "metadata": {},
   "outputs": [],
   "source": [
    "x = [[8,3], [2,9]]\n",
    "y = [1, 0]\n",
    "w = [1, 3]\n",
    "lr = 0.01\n",
    "nitr = 10"
   ]
  },
  {
   "cell_type": "code",
   "execution_count": 29,
   "id": "c4ea56fe-68d8-4f1b-b59e-a9a09387eb57",
   "metadata": {},
   "outputs": [
    {
     "data": {
      "text/plain": [
       "array([0.6 , 2.32])"
      ]
     },
     "execution_count": 29,
     "metadata": {},
     "output_type": "execute_result"
    }
   ],
   "source": [
    "gradient_descent(x, y, w, alpha, nitr)"
   ]
  },
  {
   "cell_type": "code",
   "execution_count": 1,
   "id": "00f59a3b-092b-4e56-8d70-e9de1ecef5c0",
   "metadata": {},
   "outputs": [],
   "source": [
    "x = [[1.0, 0.0], [1.0, 1.0], [1.0, 2.0], [1.0, 3.0], [1.0, 4.0], [1.0, 5.0], [1.0, 6.0], [1.0, 7.0], [1.0, 8.0], [1.0, 9.0]]\n"
   ]
  },
  {
   "cell_type": "code",
   "execution_count": 3,
   "id": "5e3f0391-12b6-45a4-b36b-0ce1134649c8",
   "metadata": {},
   "outputs": [],
   "source": [
    "x = np.asarray(x)"
   ]
  },
  {
   "cell_type": "code",
   "execution_count": 4,
   "id": "a2bf6bb3-0afe-4174-8067-73612e5fd3de",
   "metadata": {},
   "outputs": [
    {
     "data": {
      "text/plain": [
       "array([[1., 1., 1., 1., 1., 1., 1., 1., 1., 1.],\n",
       "       [0., 1., 2., 3., 4., 5., 6., 7., 8., 9.]])"
      ]
     },
     "execution_count": 4,
     "metadata": {},
     "output_type": "execute_result"
    }
   ],
   "source": [
    "x.T"
   ]
  },
  {
   "cell_type": "code",
   "execution_count": 7,
   "id": "26c530c8-c146-4dd0-9cc7-f96b4cefe4b9",
   "metadata": {},
   "outputs": [],
   "source": [
    "import numpy as np\n",
    "\n",
    "def updated_weights(X, y, w, lr):\n",
    "    \"\"\" \n",
    "    X is a 2d list representing the values of the variables for different observations\n",
    "    y is the actual output for the observations\n",
    "    w is the coefficient vector\n",
    "    lr is the learning rate\n",
    "    \"\"\"\n",
    "    \n",
    "    X = np.asarray(X)\n",
    "    y = np.asarray(y)\n",
    "    w = np.asarray(w)\n",
    "    \n",
    "    XTrans = X.T\n",
    "    \n",
    "    for _ in range(10): # 10 iterations of gradient descent\n",
    "        y_pred = np.dot(X, w)\n",
    "        loss = y_pred - y\n",
    "        \n",
    "        grad = np.dot(XTrans, loss)\n",
    "        w = w - lr * grad\n",
    "\n",
    "    w = np.round(w, 2)\n",
    "    return w\n"
   ]
  },
  {
   "cell_type": "code",
   "execution_count": 17,
   "id": "1052e24d-ab6e-4475-8431-a693da256b11",
   "metadata": {},
   "outputs": [
    {
     "data": {
      "text/plain": [
       "array([ 0.12, -0.02])"
      ]
     },
     "execution_count": 17,
     "metadata": {},
     "output_type": "execute_result"
    }
   ],
   "source": [
    "x = [[8,3], [2,9]]\n",
    "y = [1, 0]\n",
    "w = [1, 3]\n",
    "lr = 0.01\n",
    "\n",
    "updated_weights(x, y, w, lr)"
   ]
  },
  {
   "cell_type": "code",
   "execution_count": 14,
   "id": "b52ee73a-959d-4fd5-a35b-3f6a2858ea88",
   "metadata": {},
   "outputs": [],
   "source": [
    "import numpy as np\n",
    "\n",
    "def updated_weights(X, y, w, lr):\n",
    "    # X is a 2d list representing the values of the variables for different observations\n",
    "    # y is the actual output for the observations\n",
    "    # w is the coefficient vector\n",
    "    # lr is the learning rate\n",
    "    X = np.asarray(X)\n",
    "    y = np.asarray(y)\n",
    "    w = np.asarray(w)\n",
    "    \n",
    "    for _ in range(10): # 10 iterations of gradient descent\n",
    "        gradient = np.dot(X.T, (np.dot(X, w) - y))\n",
    "        w = w - lr * gradient\n",
    "    \n",
    "    # rounding off to two decimal places\n",
    "    w = np.round(w, 2)\n",
    "    \n",
    "    return w\n"
   ]
  },
  {
   "cell_type": "code",
   "execution_count": 19,
   "id": "b4babe96-ddf2-4399-887b-87145c0b2cf6",
   "metadata": {},
   "outputs": [
    {
     "data": {
      "text/plain": [
       "array([[ 0.14,  0.14],\n",
       "       [-0.03, -0.03]])"
      ]
     },
     "execution_count": 19,
     "metadata": {},
     "output_type": "execute_result"
    }
   ],
   "source": [
    "x = [[8,3], [2,9]]\n",
    "y = [[1], [0]]\n",
    "w = [1, 3]\n",
    "lr = 0.01\n",
    "\n",
    "updated_weights(x, y, w, lr)"
   ]
  },
  {
   "cell_type": "code",
   "execution_count": 20,
   "id": "bd9ae5a3-6318-4cd2-82da-d02b1e8bb59f",
   "metadata": {},
   "outputs": [
    {
     "data": {
      "text/plain": [
       "[[1], [0]]"
      ]
     },
     "execution_count": 20,
     "metadata": {},
     "output_type": "execute_result"
    }
   ],
   "source": [
    "y"
   ]
  },
  {
   "cell_type": "code",
   "execution_count": 21,
   "id": "02d752ef-08f8-4f77-b0ba-5b07a92a1862",
   "metadata": {},
   "outputs": [],
   "source": [
    "y = np.asarray(y)"
   ]
  },
  {
   "cell_type": "code",
   "execution_count": 22,
   "id": "1657950d-87f1-46e2-9189-313e778afe52",
   "metadata": {},
   "outputs": [
    {
     "data": {
      "text/plain": [
       "array([[1],\n",
       "       [0]])"
      ]
     },
     "execution_count": 22,
     "metadata": {},
     "output_type": "execute_result"
    }
   ],
   "source": [
    "y.reva"
   ]
  },
  {
   "cell_type": "code",
   "execution_count": 23,
   "id": "c5271625-878a-4c2b-b522-1fbe8d362958",
   "metadata": {},
   "outputs": [],
   "source": [
    "import numpy as np\n",
    "y = np.array([[1], [0]])\n",
    "y_flat = y.ravel()\n"
   ]
  },
  {
   "cell_type": "markdown",
   "id": "8d56bd91-0f07-4c8c-a2bf-1376e1412570",
   "metadata": {},
   "source": [
    "# Module Exam"
   ]
  },
  {
   "cell_type": "code",
   "execution_count": 1,
   "id": "3be0b559-6b72-4fe8-aa2a-9c0a419d5292",
   "metadata": {},
   "outputs": [],
   "source": [
    "import numpy as np"
   ]
  },
  {
   "cell_type": "markdown",
   "id": "94d44c46-a4fd-4867-9399-d0e05ea5ae29",
   "metadata": {},
   "source": [
    "## Q1"
   ]
  },
  {
   "cell_type": "code",
   "execution_count": 4,
   "id": "170d9fd1-8e92-4e4d-8ef3-6a47be142018",
   "metadata": {},
   "outputs": [],
   "source": [
    "import numpy as np\n",
    "def calc_r2(y_true, y_pred):\n",
    "    \n",
    "    y_true = np.asarray(y_true)\n",
    "    y_pred = np.asarray(y_pred)\n",
    "   \n",
    "    \n",
    "    #Calculate total sum of squares\n",
    "    res_ss = np.sum((y_pred - y_true)**2)\n",
    "    \n",
    "    #Calculate residual sum of squares\n",
    "    y_mean = np.mean(y_true)\n",
    "    tot_ss = np.sum((y_mean - y_true)**2)\n",
    "    \n",
    "    #Calculate r2\n",
    "    r2 = 1 - (res_ss / tot_ss)\n",
    "    \n",
    "    return r2.round(2)"
   ]
  },
  {
   "cell_type": "markdown",
   "id": "acc646e2-d7b8-4590-90d6-63416cd28c71",
   "metadata": {},
   "source": [
    "## Q2"
   ]
  },
  {
   "cell_type": "code",
   "execution_count": 2,
   "id": "fc10f5e3-b13c-41cf-b37e-5bcd2bd37c73",
   "metadata": {},
   "outputs": [],
   "source": [
    "def calculate_classification_metrics(sensitivity, specificity):\n",
    "    P = 1\n",
    "    N = 1 \n",
    "    # Calculate True Positive (TP) and False Negative (FN) using Sensitivity\n",
    "    TP = sensitivity * P \n",
    "    FN = P - TP\n",
    "    \n",
    "    # Calculate True Negative (TN) and False Positive (FP) using Specificity\n",
    "    TN = specificity * N\n",
    "    FP = N - TN\n",
    "    \n",
    "    \n",
    "    ## DO NOT CHANGE THE return STATEMENT\n",
    "    \n",
    "    return round(TP,2), round(FP,2), round(TN,2), round(FN,2)"
   ]
  },
  {
   "cell_type": "markdown",
   "id": "cfc13b6f-6292-4c10-a451-9519d325a8ea",
   "metadata": {},
   "source": [
    "## Q3"
   ]
  },
  {
   "cell_type": "code",
   "execution_count": 6,
   "id": "a698510e-3aea-4858-ba4d-1928a4981ee1",
   "metadata": {},
   "outputs": [],
   "source": [
    "from sklearn.linear_model import LogisticRegression\n",
    "from sklearn.model_selection import train_test_split  \n",
    "    \n",
    "def train(X,Y):\n",
    "\n",
    "    # Split dataset into training set and test set\n",
    "    x_train, x_test, y_train, y_test = train_test_split(X, y, test_size=0.2, random_state=42) # 80% training and 20% test\n",
    "\n",
    "\n",
    "    #INITIALIZE classifier\n",
    "    classifier = LogisticRegression(random_state=42)\n",
    "\n",
    "\n",
    "    #TRAIN CLASSIFIER\n",
    "    classifier.fit(x_train, y_train)\n",
    "\n",
    "    # Return ACCURACY FOR test data\n",
    "    acc = classifier.score(x_test, y_test)\n",
    "    coef = classifier.coef_.round(2)\n",
    "    intercept = classifier.intercept_.round(2)\n",
    "\n",
    "    return round(acc,2), coef, intercept"
   ]
  },
  {
   "cell_type": "code",
   "execution_count": null,
   "id": "a3656d28-7073-4782-9b1e-ffd3b2657914",
   "metadata": {},
   "outputs": [],
   "source": []
  }
 ],
 "metadata": {
  "kernelspec": {
   "display_name": "Python 3 (ipykernel)",
   "language": "python",
   "name": "python3"
  },
  "language_info": {
   "codemirror_mode": {
    "name": "ipython",
    "version": 3
   },
   "file_extension": ".py",
   "mimetype": "text/x-python",
   "name": "python",
   "nbconvert_exporter": "python",
   "pygments_lexer": "ipython3",
   "version": "3.10.9"
  }
 },
 "nbformat": 4,
 "nbformat_minor": 5
}
